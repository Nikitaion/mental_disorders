{
  "cells": [
    {
      "cell_type": "markdown",
      "metadata": {
        "id": "view-in-github",
        "colab_type": "text"
      },
      "source": [
        "<a href=\"https://colab.research.google.com/github/Nikitaion/mental_disorders/blob/main/mental_disorders.ipynb\" target=\"_parent\"><img src=\"https://colab.research.google.com/assets/colab-badge.svg\" alt=\"Open In Colab\"/></a>"
      ]
    },
    {
      "cell_type": "code",
      "execution_count": 915,
      "metadata": {
        "colab": {
          "base_uri": "https://localhost:8080/"
        },
        "id": "xviXFSvcd-gZ",
        "outputId": "fa941879-3d3a-4691-d718-6b139ea7b40e"
      },
      "outputs": [
        {
          "output_type": "stream",
          "name": "stdout",
          "text": [
            "--2022-07-12 07:34:11--  https://raw.githubusercontent.com/Nikitaion/mental_disorders/main/data/290622_mental_disorders_data_without_somatika.csv\n",
            "Resolving raw.githubusercontent.com (raw.githubusercontent.com)... 185.199.108.133, 185.199.109.133, 185.199.110.133, ...\n",
            "Connecting to raw.githubusercontent.com (raw.githubusercontent.com)|185.199.108.133|:443... connected.\n",
            "HTTP request sent, awaiting response... 200 OK\n",
            "Length: 13658 (13K) [text/plain]\n",
            "Saving to: ‘ds.csv’\n",
            "\n",
            "\rds.csv                0%[                    ]       0  --.-KB/s               \rds.csv              100%[===================>]  13.34K  --.-KB/s    in 0s      \n",
            "\n",
            "2022-07-12 07:34:11 (27.7 MB/s) - ‘ds.csv’ saved [13658/13658]\n",
            "\n"
          ]
        }
      ],
      "source": [
        "!wget https://raw.githubusercontent.com/Nikitaion/mental_disorders/main/data/290622_mental_disorders_data_without_somatika.csv -O ds.csv"
      ]
    },
    {
      "cell_type": "code",
      "execution_count": 916,
      "metadata": {
        "colab": {
          "base_uri": "https://localhost:8080/"
        },
        "id": "w6YXg1QZeuWS",
        "outputId": "6531ab9b-e25f-4a67-d8cc-9a3187c31b29"
      },
      "outputs": [
        {
          "output_type": "stream",
          "name": "stdout",
          "text": [
            "Tensorflow version: 2.8.2\n"
          ]
        }
      ],
      "source": [
        "import tensorflow as tf\n",
        "print(f\"Tensorflow version: {tf.__version__}\")\n",
        "\n",
        "import pandas as pd\n",
        "import numpy as np\n",
        "\n",
        "from sklearn.model_selection import  train_test_split\n",
        "\n",
        "from sklearn.preprocessing import StandardScaler\n"
      ]
    },
    {
      "cell_type": "code",
      "execution_count": 917,
      "metadata": {
        "colab": {
          "base_uri": "https://localhost:8080/",
          "height": 352
        },
        "id": "0lKSFBRwg3oI",
        "outputId": "1f9f14ae-967a-4f1a-e8ed-08032fbdc35c"
      },
      "outputs": [
        {
          "output_type": "execute_result",
          "data": {
            "text/plain": [
              "  Снинговый номер Пол  Полных лет  Образование(0-начальное, 4-высшее)  \\\n",
              "0            УП-1   М          32                                   4   \n",
              "1            УП-2   М          26                                   2   \n",
              "2            УП-3   М          49                                   2   \n",
              "3            УП-4   М          50                                   2   \n",
              "4            УП-6   М          39                                   2   \n",
              "\n",
              "   Род занятий(0-0, работает-1  Семейное положение(0-0, 1-женат)  \\\n",
              "0                            0                                 0   \n",
              "1                            0                                 0   \n",
              "2                            0                                 0   \n",
              "3                            0                                 0   \n",
              "4                            0                                 0   \n",
              "\n",
              "   Удовлетворенность семеными отношениями  \\\n",
              "0                                       5   \n",
              "1                                       5   \n",
              "2                                       5   \n",
              "3                                       5   \n",
              "4                                       5   \n",
              "\n",
              "   Удовлетворенность материальным положением  Здоровье от 1 до 10  \\\n",
              "0                                          0                    7   \n",
              "1                                          0                   10   \n",
              "2                                          1                   10   \n",
              "3                                          1                    7   \n",
              "4                                          1                    7   \n",
              "\n",
              "   Были ли нарушения сна  ...  Частота госпит  Стаж шизофр   P   N   G  PSQI  \\\n",
              "0                      1  ...               0          3.7  11  11  18     6   \n",
              "1                      1  ...               1          2.0  10  25  36     8   \n",
              "2                      0  ...               2         23.0   9  16  23     3   \n",
              "3                      1  ...               1         34.0  13  13  20     6   \n",
              "4                      0  ...               0          4.0   9  13  22     4   \n",
              "\n",
              "   psqi больше 5  (ТРЕВОГА)Гаиильтон больше 16  (ДЕПРЕССИЯ)madrs больше 6  \\\n",
              "0              1                             0                          0   \n",
              "1              1                             0                          1   \n",
              "2              0                             0                          0   \n",
              "3              1                             0                          0   \n",
              "4              0                             0                          0   \n",
              "\n",
              "   (ДЕПРЕССИЯ)Калгари больше 5  \n",
              "0                            0  \n",
              "1                            1  \n",
              "2                            0  \n",
              "3                            0  \n",
              "4                            0  \n",
              "\n",
              "[5 rows x 25 columns]"
            ],
            "text/html": [
              "\n",
              "  <div id=\"df-90eb7080-a32a-40cf-a4fa-d807fd495005\">\n",
              "    <div class=\"colab-df-container\">\n",
              "      <div>\n",
              "<style scoped>\n",
              "    .dataframe tbody tr th:only-of-type {\n",
              "        vertical-align: middle;\n",
              "    }\n",
              "\n",
              "    .dataframe tbody tr th {\n",
              "        vertical-align: top;\n",
              "    }\n",
              "\n",
              "    .dataframe thead th {\n",
              "        text-align: right;\n",
              "    }\n",
              "</style>\n",
              "<table border=\"1\" class=\"dataframe\">\n",
              "  <thead>\n",
              "    <tr style=\"text-align: right;\">\n",
              "      <th></th>\n",
              "      <th>Снинговый номер</th>\n",
              "      <th>Пол</th>\n",
              "      <th>Полных лет</th>\n",
              "      <th>Образование(0-начальное, 4-высшее)</th>\n",
              "      <th>Род занятий(0-0, работает-1</th>\n",
              "      <th>Семейное положение(0-0, 1-женат)</th>\n",
              "      <th>Удовлетворенность семеными отношениями</th>\n",
              "      <th>Удовлетворенность материальным положением</th>\n",
              "      <th>Здоровье от 1 до 10</th>\n",
              "      <th>Были ли нарушения сна</th>\n",
              "      <th>...</th>\n",
              "      <th>Частота госпит</th>\n",
              "      <th>Стаж шизофр</th>\n",
              "      <th>P</th>\n",
              "      <th>N</th>\n",
              "      <th>G</th>\n",
              "      <th>PSQI</th>\n",
              "      <th>psqi больше 5</th>\n",
              "      <th>(ТРЕВОГА)Гаиильтон больше 16</th>\n",
              "      <th>(ДЕПРЕССИЯ)madrs больше 6</th>\n",
              "      <th>(ДЕПРЕССИЯ)Калгари больше 5</th>\n",
              "    </tr>\n",
              "  </thead>\n",
              "  <tbody>\n",
              "    <tr>\n",
              "      <th>0</th>\n",
              "      <td>УП-1</td>\n",
              "      <td>М</td>\n",
              "      <td>32</td>\n",
              "      <td>4</td>\n",
              "      <td>0</td>\n",
              "      <td>0</td>\n",
              "      <td>5</td>\n",
              "      <td>0</td>\n",
              "      <td>7</td>\n",
              "      <td>1</td>\n",
              "      <td>...</td>\n",
              "      <td>0</td>\n",
              "      <td>3.7</td>\n",
              "      <td>11</td>\n",
              "      <td>11</td>\n",
              "      <td>18</td>\n",
              "      <td>6</td>\n",
              "      <td>1</td>\n",
              "      <td>0</td>\n",
              "      <td>0</td>\n",
              "      <td>0</td>\n",
              "    </tr>\n",
              "    <tr>\n",
              "      <th>1</th>\n",
              "      <td>УП-2</td>\n",
              "      <td>М</td>\n",
              "      <td>26</td>\n",
              "      <td>2</td>\n",
              "      <td>0</td>\n",
              "      <td>0</td>\n",
              "      <td>5</td>\n",
              "      <td>0</td>\n",
              "      <td>10</td>\n",
              "      <td>1</td>\n",
              "      <td>...</td>\n",
              "      <td>1</td>\n",
              "      <td>2.0</td>\n",
              "      <td>10</td>\n",
              "      <td>25</td>\n",
              "      <td>36</td>\n",
              "      <td>8</td>\n",
              "      <td>1</td>\n",
              "      <td>0</td>\n",
              "      <td>1</td>\n",
              "      <td>1</td>\n",
              "    </tr>\n",
              "    <tr>\n",
              "      <th>2</th>\n",
              "      <td>УП-3</td>\n",
              "      <td>М</td>\n",
              "      <td>49</td>\n",
              "      <td>2</td>\n",
              "      <td>0</td>\n",
              "      <td>0</td>\n",
              "      <td>5</td>\n",
              "      <td>1</td>\n",
              "      <td>10</td>\n",
              "      <td>0</td>\n",
              "      <td>...</td>\n",
              "      <td>2</td>\n",
              "      <td>23.0</td>\n",
              "      <td>9</td>\n",
              "      <td>16</td>\n",
              "      <td>23</td>\n",
              "      <td>3</td>\n",
              "      <td>0</td>\n",
              "      <td>0</td>\n",
              "      <td>0</td>\n",
              "      <td>0</td>\n",
              "    </tr>\n",
              "    <tr>\n",
              "      <th>3</th>\n",
              "      <td>УП-4</td>\n",
              "      <td>М</td>\n",
              "      <td>50</td>\n",
              "      <td>2</td>\n",
              "      <td>0</td>\n",
              "      <td>0</td>\n",
              "      <td>5</td>\n",
              "      <td>1</td>\n",
              "      <td>7</td>\n",
              "      <td>1</td>\n",
              "      <td>...</td>\n",
              "      <td>1</td>\n",
              "      <td>34.0</td>\n",
              "      <td>13</td>\n",
              "      <td>13</td>\n",
              "      <td>20</td>\n",
              "      <td>6</td>\n",
              "      <td>1</td>\n",
              "      <td>0</td>\n",
              "      <td>0</td>\n",
              "      <td>0</td>\n",
              "    </tr>\n",
              "    <tr>\n",
              "      <th>4</th>\n",
              "      <td>УП-6</td>\n",
              "      <td>М</td>\n",
              "      <td>39</td>\n",
              "      <td>2</td>\n",
              "      <td>0</td>\n",
              "      <td>0</td>\n",
              "      <td>5</td>\n",
              "      <td>1</td>\n",
              "      <td>7</td>\n",
              "      <td>0</td>\n",
              "      <td>...</td>\n",
              "      <td>0</td>\n",
              "      <td>4.0</td>\n",
              "      <td>9</td>\n",
              "      <td>13</td>\n",
              "      <td>22</td>\n",
              "      <td>4</td>\n",
              "      <td>0</td>\n",
              "      <td>0</td>\n",
              "      <td>0</td>\n",
              "      <td>0</td>\n",
              "    </tr>\n",
              "  </tbody>\n",
              "</table>\n",
              "<p>5 rows × 25 columns</p>\n",
              "</div>\n",
              "      <button class=\"colab-df-convert\" onclick=\"convertToInteractive('df-90eb7080-a32a-40cf-a4fa-d807fd495005')\"\n",
              "              title=\"Convert this dataframe to an interactive table.\"\n",
              "              style=\"display:none;\">\n",
              "        \n",
              "  <svg xmlns=\"http://www.w3.org/2000/svg\" height=\"24px\"viewBox=\"0 0 24 24\"\n",
              "       width=\"24px\">\n",
              "    <path d=\"M0 0h24v24H0V0z\" fill=\"none\"/>\n",
              "    <path d=\"M18.56 5.44l.94 2.06.94-2.06 2.06-.94-2.06-.94-.94-2.06-.94 2.06-2.06.94zm-11 1L8.5 8.5l.94-2.06 2.06-.94-2.06-.94L8.5 2.5l-.94 2.06-2.06.94zm10 10l.94 2.06.94-2.06 2.06-.94-2.06-.94-.94-2.06-.94 2.06-2.06.94z\"/><path d=\"M17.41 7.96l-1.37-1.37c-.4-.4-.92-.59-1.43-.59-.52 0-1.04.2-1.43.59L10.3 9.45l-7.72 7.72c-.78.78-.78 2.05 0 2.83L4 21.41c.39.39.9.59 1.41.59.51 0 1.02-.2 1.41-.59l7.78-7.78 2.81-2.81c.8-.78.8-2.07 0-2.86zM5.41 20L4 18.59l7.72-7.72 1.47 1.35L5.41 20z\"/>\n",
              "  </svg>\n",
              "      </button>\n",
              "      \n",
              "  <style>\n",
              "    .colab-df-container {\n",
              "      display:flex;\n",
              "      flex-wrap:wrap;\n",
              "      gap: 12px;\n",
              "    }\n",
              "\n",
              "    .colab-df-convert {\n",
              "      background-color: #E8F0FE;\n",
              "      border: none;\n",
              "      border-radius: 50%;\n",
              "      cursor: pointer;\n",
              "      display: none;\n",
              "      fill: #1967D2;\n",
              "      height: 32px;\n",
              "      padding: 0 0 0 0;\n",
              "      width: 32px;\n",
              "    }\n",
              "\n",
              "    .colab-df-convert:hover {\n",
              "      background-color: #E2EBFA;\n",
              "      box-shadow: 0px 1px 2px rgba(60, 64, 67, 0.3), 0px 1px 3px 1px rgba(60, 64, 67, 0.15);\n",
              "      fill: #174EA6;\n",
              "    }\n",
              "\n",
              "    [theme=dark] .colab-df-convert {\n",
              "      background-color: #3B4455;\n",
              "      fill: #D2E3FC;\n",
              "    }\n",
              "\n",
              "    [theme=dark] .colab-df-convert:hover {\n",
              "      background-color: #434B5C;\n",
              "      box-shadow: 0px 1px 3px 1px rgba(0, 0, 0, 0.15);\n",
              "      filter: drop-shadow(0px 1px 2px rgba(0, 0, 0, 0.3));\n",
              "      fill: #FFFFFF;\n",
              "    }\n",
              "  </style>\n",
              "\n",
              "      <script>\n",
              "        const buttonEl =\n",
              "          document.querySelector('#df-90eb7080-a32a-40cf-a4fa-d807fd495005 button.colab-df-convert');\n",
              "        buttonEl.style.display =\n",
              "          google.colab.kernel.accessAllowed ? 'block' : 'none';\n",
              "\n",
              "        async function convertToInteractive(key) {\n",
              "          const element = document.querySelector('#df-90eb7080-a32a-40cf-a4fa-d807fd495005');\n",
              "          const dataTable =\n",
              "            await google.colab.kernel.invokeFunction('convertToInteractive',\n",
              "                                                     [key], {});\n",
              "          if (!dataTable) return;\n",
              "\n",
              "          const docLinkHtml = 'Like what you see? Visit the ' +\n",
              "            '<a target=\"_blank\" href=https://colab.research.google.com/notebooks/data_table.ipynb>data table notebook</a>'\n",
              "            + ' to learn more about interactive tables.';\n",
              "          element.innerHTML = '';\n",
              "          dataTable['output_type'] = 'display_data';\n",
              "          await google.colab.output.renderOutput(dataTable, element);\n",
              "          const docLink = document.createElement('div');\n",
              "          docLink.innerHTML = docLinkHtml;\n",
              "          element.appendChild(docLink);\n",
              "        }\n",
              "      </script>\n",
              "    </div>\n",
              "  </div>\n",
              "  "
            ]
          },
          "metadata": {},
          "execution_count": 917
        }
      ],
      "source": [
        "ds = pd.read_csv(\"/content/ds.csv\")\n",
        "ds.head()"
      ]
    },
    {
      "cell_type": "code",
      "execution_count": 918,
      "metadata": {
        "colab": {
          "base_uri": "https://localhost:8080/",
          "height": 352
        },
        "id": "ASj1vcYIhAzw",
        "outputId": "ec7de39c-e45c-4646-a36a-d9acd7a8aa8e"
      },
      "outputs": [
        {
          "output_type": "execute_result",
          "data": {
            "text/plain": [
              "    Снинговый номер Пол  Полных лет  Образование(0-начальное, 4-высшее)  \\\n",
              "170           УФ-32   М          35                                   3   \n",
              "171           УФ-33   М          57                                   2   \n",
              "172           УФ-34   М          24                                   4   \n",
              "173         УФ-33-2   М          41                                   2   \n",
              "174         УФ-34-2   М          32                                   2   \n",
              "\n",
              "     Род занятий(0-0, работает-1  Семейное положение(0-0, 1-женат)  \\\n",
              "170                            0                                 0   \n",
              "171                            0                                 0   \n",
              "172                            1                                 0   \n",
              "173                            0                                 0   \n",
              "174                            0                                 0   \n",
              "\n",
              "     Удовлетворенность семеными отношениями  \\\n",
              "170                                       2   \n",
              "171                                       1   \n",
              "172                                       5   \n",
              "173                                       3   \n",
              "174                                       5   \n",
              "\n",
              "     Удовлетворенность материальным положением  Здоровье от 1 до 10  \\\n",
              "170                                          0                    7   \n",
              "171                                          0                    9   \n",
              "172                                          1                   10   \n",
              "173                                          0                    9   \n",
              "174                                          1                   10   \n",
              "\n",
              "     Были ли нарушения сна  ...  Частота госпит  Стаж шизофр   P   N   G  \\\n",
              "170                      1  ...               0         16.0  19   8  31   \n",
              "171                      1  ...               0         35.0  10  10  23   \n",
              "172                      1  ...               0          6.0   7   9  27   \n",
              "173                      1  ...               2         13.0  14  13  21   \n",
              "174                      1  ...               1          9.0   7  12  28   \n",
              "\n",
              "     PSQI  psqi больше 5  (ТРЕВОГА)Гаиильтон больше 16  \\\n",
              "170     5              0                             0   \n",
              "171     5              0                             0   \n",
              "172     5              0                             0   \n",
              "173     9              1                             1   \n",
              "174     6              1                             0   \n",
              "\n",
              "     (ДЕПРЕССИЯ)madrs больше 6  (ДЕПРЕССИЯ)Калгари больше 5  \n",
              "170                          1                            1  \n",
              "171                          0                            0  \n",
              "172                          0                            0  \n",
              "173                          1                            0  \n",
              "174                          1                            0  \n",
              "\n",
              "[5 rows x 25 columns]"
            ],
            "text/html": [
              "\n",
              "  <div id=\"df-8d3d6748-f151-44cd-b2fc-190929fbf1e5\">\n",
              "    <div class=\"colab-df-container\">\n",
              "      <div>\n",
              "<style scoped>\n",
              "    .dataframe tbody tr th:only-of-type {\n",
              "        vertical-align: middle;\n",
              "    }\n",
              "\n",
              "    .dataframe tbody tr th {\n",
              "        vertical-align: top;\n",
              "    }\n",
              "\n",
              "    .dataframe thead th {\n",
              "        text-align: right;\n",
              "    }\n",
              "</style>\n",
              "<table border=\"1\" class=\"dataframe\">\n",
              "  <thead>\n",
              "    <tr style=\"text-align: right;\">\n",
              "      <th></th>\n",
              "      <th>Снинговый номер</th>\n",
              "      <th>Пол</th>\n",
              "      <th>Полных лет</th>\n",
              "      <th>Образование(0-начальное, 4-высшее)</th>\n",
              "      <th>Род занятий(0-0, работает-1</th>\n",
              "      <th>Семейное положение(0-0, 1-женат)</th>\n",
              "      <th>Удовлетворенность семеными отношениями</th>\n",
              "      <th>Удовлетворенность материальным положением</th>\n",
              "      <th>Здоровье от 1 до 10</th>\n",
              "      <th>Были ли нарушения сна</th>\n",
              "      <th>...</th>\n",
              "      <th>Частота госпит</th>\n",
              "      <th>Стаж шизофр</th>\n",
              "      <th>P</th>\n",
              "      <th>N</th>\n",
              "      <th>G</th>\n",
              "      <th>PSQI</th>\n",
              "      <th>psqi больше 5</th>\n",
              "      <th>(ТРЕВОГА)Гаиильтон больше 16</th>\n",
              "      <th>(ДЕПРЕССИЯ)madrs больше 6</th>\n",
              "      <th>(ДЕПРЕССИЯ)Калгари больше 5</th>\n",
              "    </tr>\n",
              "  </thead>\n",
              "  <tbody>\n",
              "    <tr>\n",
              "      <th>170</th>\n",
              "      <td>УФ-32</td>\n",
              "      <td>М</td>\n",
              "      <td>35</td>\n",
              "      <td>3</td>\n",
              "      <td>0</td>\n",
              "      <td>0</td>\n",
              "      <td>2</td>\n",
              "      <td>0</td>\n",
              "      <td>7</td>\n",
              "      <td>1</td>\n",
              "      <td>...</td>\n",
              "      <td>0</td>\n",
              "      <td>16.0</td>\n",
              "      <td>19</td>\n",
              "      <td>8</td>\n",
              "      <td>31</td>\n",
              "      <td>5</td>\n",
              "      <td>0</td>\n",
              "      <td>0</td>\n",
              "      <td>1</td>\n",
              "      <td>1</td>\n",
              "    </tr>\n",
              "    <tr>\n",
              "      <th>171</th>\n",
              "      <td>УФ-33</td>\n",
              "      <td>М</td>\n",
              "      <td>57</td>\n",
              "      <td>2</td>\n",
              "      <td>0</td>\n",
              "      <td>0</td>\n",
              "      <td>1</td>\n",
              "      <td>0</td>\n",
              "      <td>9</td>\n",
              "      <td>1</td>\n",
              "      <td>...</td>\n",
              "      <td>0</td>\n",
              "      <td>35.0</td>\n",
              "      <td>10</td>\n",
              "      <td>10</td>\n",
              "      <td>23</td>\n",
              "      <td>5</td>\n",
              "      <td>0</td>\n",
              "      <td>0</td>\n",
              "      <td>0</td>\n",
              "      <td>0</td>\n",
              "    </tr>\n",
              "    <tr>\n",
              "      <th>172</th>\n",
              "      <td>УФ-34</td>\n",
              "      <td>М</td>\n",
              "      <td>24</td>\n",
              "      <td>4</td>\n",
              "      <td>1</td>\n",
              "      <td>0</td>\n",
              "      <td>5</td>\n",
              "      <td>1</td>\n",
              "      <td>10</td>\n",
              "      <td>1</td>\n",
              "      <td>...</td>\n",
              "      <td>0</td>\n",
              "      <td>6.0</td>\n",
              "      <td>7</td>\n",
              "      <td>9</td>\n",
              "      <td>27</td>\n",
              "      <td>5</td>\n",
              "      <td>0</td>\n",
              "      <td>0</td>\n",
              "      <td>0</td>\n",
              "      <td>0</td>\n",
              "    </tr>\n",
              "    <tr>\n",
              "      <th>173</th>\n",
              "      <td>УФ-33-2</td>\n",
              "      <td>М</td>\n",
              "      <td>41</td>\n",
              "      <td>2</td>\n",
              "      <td>0</td>\n",
              "      <td>0</td>\n",
              "      <td>3</td>\n",
              "      <td>0</td>\n",
              "      <td>9</td>\n",
              "      <td>1</td>\n",
              "      <td>...</td>\n",
              "      <td>2</td>\n",
              "      <td>13.0</td>\n",
              "      <td>14</td>\n",
              "      <td>13</td>\n",
              "      <td>21</td>\n",
              "      <td>9</td>\n",
              "      <td>1</td>\n",
              "      <td>1</td>\n",
              "      <td>1</td>\n",
              "      <td>0</td>\n",
              "    </tr>\n",
              "    <tr>\n",
              "      <th>174</th>\n",
              "      <td>УФ-34-2</td>\n",
              "      <td>М</td>\n",
              "      <td>32</td>\n",
              "      <td>2</td>\n",
              "      <td>0</td>\n",
              "      <td>0</td>\n",
              "      <td>5</td>\n",
              "      <td>1</td>\n",
              "      <td>10</td>\n",
              "      <td>1</td>\n",
              "      <td>...</td>\n",
              "      <td>1</td>\n",
              "      <td>9.0</td>\n",
              "      <td>7</td>\n",
              "      <td>12</td>\n",
              "      <td>28</td>\n",
              "      <td>6</td>\n",
              "      <td>1</td>\n",
              "      <td>0</td>\n",
              "      <td>1</td>\n",
              "      <td>0</td>\n",
              "    </tr>\n",
              "  </tbody>\n",
              "</table>\n",
              "<p>5 rows × 25 columns</p>\n",
              "</div>\n",
              "      <button class=\"colab-df-convert\" onclick=\"convertToInteractive('df-8d3d6748-f151-44cd-b2fc-190929fbf1e5')\"\n",
              "              title=\"Convert this dataframe to an interactive table.\"\n",
              "              style=\"display:none;\">\n",
              "        \n",
              "  <svg xmlns=\"http://www.w3.org/2000/svg\" height=\"24px\"viewBox=\"0 0 24 24\"\n",
              "       width=\"24px\">\n",
              "    <path d=\"M0 0h24v24H0V0z\" fill=\"none\"/>\n",
              "    <path d=\"M18.56 5.44l.94 2.06.94-2.06 2.06-.94-2.06-.94-.94-2.06-.94 2.06-2.06.94zm-11 1L8.5 8.5l.94-2.06 2.06-.94-2.06-.94L8.5 2.5l-.94 2.06-2.06.94zm10 10l.94 2.06.94-2.06 2.06-.94-2.06-.94-.94-2.06-.94 2.06-2.06.94z\"/><path d=\"M17.41 7.96l-1.37-1.37c-.4-.4-.92-.59-1.43-.59-.52 0-1.04.2-1.43.59L10.3 9.45l-7.72 7.72c-.78.78-.78 2.05 0 2.83L4 21.41c.39.39.9.59 1.41.59.51 0 1.02-.2 1.41-.59l7.78-7.78 2.81-2.81c.8-.78.8-2.07 0-2.86zM5.41 20L4 18.59l7.72-7.72 1.47 1.35L5.41 20z\"/>\n",
              "  </svg>\n",
              "      </button>\n",
              "      \n",
              "  <style>\n",
              "    .colab-df-container {\n",
              "      display:flex;\n",
              "      flex-wrap:wrap;\n",
              "      gap: 12px;\n",
              "    }\n",
              "\n",
              "    .colab-df-convert {\n",
              "      background-color: #E8F0FE;\n",
              "      border: none;\n",
              "      border-radius: 50%;\n",
              "      cursor: pointer;\n",
              "      display: none;\n",
              "      fill: #1967D2;\n",
              "      height: 32px;\n",
              "      padding: 0 0 0 0;\n",
              "      width: 32px;\n",
              "    }\n",
              "\n",
              "    .colab-df-convert:hover {\n",
              "      background-color: #E2EBFA;\n",
              "      box-shadow: 0px 1px 2px rgba(60, 64, 67, 0.3), 0px 1px 3px 1px rgba(60, 64, 67, 0.15);\n",
              "      fill: #174EA6;\n",
              "    }\n",
              "\n",
              "    [theme=dark] .colab-df-convert {\n",
              "      background-color: #3B4455;\n",
              "      fill: #D2E3FC;\n",
              "    }\n",
              "\n",
              "    [theme=dark] .colab-df-convert:hover {\n",
              "      background-color: #434B5C;\n",
              "      box-shadow: 0px 1px 3px 1px rgba(0, 0, 0, 0.15);\n",
              "      filter: drop-shadow(0px 1px 2px rgba(0, 0, 0, 0.3));\n",
              "      fill: #FFFFFF;\n",
              "    }\n",
              "  </style>\n",
              "\n",
              "      <script>\n",
              "        const buttonEl =\n",
              "          document.querySelector('#df-8d3d6748-f151-44cd-b2fc-190929fbf1e5 button.colab-df-convert');\n",
              "        buttonEl.style.display =\n",
              "          google.colab.kernel.accessAllowed ? 'block' : 'none';\n",
              "\n",
              "        async function convertToInteractive(key) {\n",
              "          const element = document.querySelector('#df-8d3d6748-f151-44cd-b2fc-190929fbf1e5');\n",
              "          const dataTable =\n",
              "            await google.colab.kernel.invokeFunction('convertToInteractive',\n",
              "                                                     [key], {});\n",
              "          if (!dataTable) return;\n",
              "\n",
              "          const docLinkHtml = 'Like what you see? Visit the ' +\n",
              "            '<a target=\"_blank\" href=https://colab.research.google.com/notebooks/data_table.ipynb>data table notebook</a>'\n",
              "            + ' to learn more about interactive tables.';\n",
              "          element.innerHTML = '';\n",
              "          dataTable['output_type'] = 'display_data';\n",
              "          await google.colab.output.renderOutput(dataTable, element);\n",
              "          const docLink = document.createElement('div');\n",
              "          docLink.innerHTML = docLinkHtml;\n",
              "          element.appendChild(docLink);\n",
              "        }\n",
              "      </script>\n",
              "    </div>\n",
              "  </div>\n",
              "  "
            ]
          },
          "metadata": {},
          "execution_count": 918
        }
      ],
      "source": [
        "ds.tail()"
      ]
    },
    {
      "cell_type": "code",
      "source": [
        "ds.info()"
      ],
      "metadata": {
        "colab": {
          "base_uri": "https://localhost:8080/"
        },
        "id": "W_N2ueZDTxGN",
        "outputId": "d62cbdd9-941c-4adb-c6a5-3081f3786732"
      },
      "execution_count": 781,
      "outputs": [
        {
          "output_type": "stream",
          "name": "stdout",
          "text": [
            "<class 'pandas.core.frame.DataFrame'>\n",
            "RangeIndex: 175 entries, 0 to 174\n",
            "Data columns (total 25 columns):\n",
            " #   Column                                     Non-Null Count  Dtype  \n",
            "---  ------                                     --------------  -----  \n",
            " 0   Снинговый номер                            175 non-null    object \n",
            " 1   Пол                                        175 non-null    object \n",
            " 2   Полных лет                                 175 non-null    int64  \n",
            " 3   Образование(0-начальное, 4-высшее)         175 non-null    int64  \n",
            " 4   Род занятий(0-0, работает-1                175 non-null    int64  \n",
            " 5   Семейное положение(0-0, 1-женат)           175 non-null    int64  \n",
            " 6   Удовлетворенность семеными отношениями     175 non-null    int64  \n",
            " 7   Удовлетворенность материальным положением  175 non-null    int64  \n",
            " 8   Здоровье от 1 до 10                        175 non-null    int64  \n",
            " 9   Были ли нарушения сна                      175 non-null    int64  \n",
            " 10  ИМТ                                        175 non-null    float64\n",
            " 11  Операции                                   175 non-null    int64  \n",
            " 12  ЧМТ                                        175 non-null    int64  \n",
            " 13  Насл отягощенность                         175 non-null    int64  \n",
            " 14  Дебют                                      175 non-null    float64\n",
            " 15  Частота госпит                             175 non-null    int64  \n",
            " 16  Стаж шизофр                                175 non-null    float64\n",
            " 17  P                                          175 non-null    int64  \n",
            " 18  N                                          175 non-null    int64  \n",
            " 19  G                                          175 non-null    int64  \n",
            " 20  PSQI                                       175 non-null    int64  \n",
            " 21  psqi больше 5                              175 non-null    int64  \n",
            " 22  (ТРЕВОГА)Гаиильтон больше 16               175 non-null    int64  \n",
            " 23  (ДЕПРЕССИЯ)madrs больше 6                  175 non-null    int64  \n",
            " 24  (ДЕПРЕССИЯ)Калгари больше 5                175 non-null    int64  \n",
            "dtypes: float64(3), int64(20), object(2)\n",
            "memory usage: 34.3+ KB\n"
          ]
        }
      ]
    },
    {
      "cell_type": "code",
      "source": [
        ""
      ],
      "metadata": {
        "id": "ydmKTum1euwu"
      },
      "execution_count": null,
      "outputs": []
    },
    {
      "cell_type": "code",
      "source": [
        ""
      ],
      "metadata": {
        "id": "FV4kacAYeuzT"
      },
      "execution_count": null,
      "outputs": []
    },
    {
      "cell_type": "code",
      "source": [
        "ds[['N', 'PSQI']]"
      ],
      "metadata": {
        "id": "E1-ZYGviVJA_",
        "outputId": "1492a8ea-10bd-44cc-b7aa-27ddae33ec44",
        "colab": {
          "base_uri": "https://localhost:8080/",
          "height": 424
        }
      },
      "execution_count": 920,
      "outputs": [
        {
          "output_type": "execute_result",
          "data": {
            "text/plain": [
              "      N  PSQI\n",
              "0    11     6\n",
              "1    25     8\n",
              "2    16     3\n",
              "3    13     6\n",
              "4    13     4\n",
              "..   ..   ...\n",
              "170   8     5\n",
              "171  10     5\n",
              "172   9     5\n",
              "173  13     9\n",
              "174  12     6\n",
              "\n",
              "[175 rows x 2 columns]"
            ],
            "text/html": [
              "\n",
              "  <div id=\"df-759f3d90-402f-4639-989c-c1e402b60423\">\n",
              "    <div class=\"colab-df-container\">\n",
              "      <div>\n",
              "<style scoped>\n",
              "    .dataframe tbody tr th:only-of-type {\n",
              "        vertical-align: middle;\n",
              "    }\n",
              "\n",
              "    .dataframe tbody tr th {\n",
              "        vertical-align: top;\n",
              "    }\n",
              "\n",
              "    .dataframe thead th {\n",
              "        text-align: right;\n",
              "    }\n",
              "</style>\n",
              "<table border=\"1\" class=\"dataframe\">\n",
              "  <thead>\n",
              "    <tr style=\"text-align: right;\">\n",
              "      <th></th>\n",
              "      <th>N</th>\n",
              "      <th>PSQI</th>\n",
              "    </tr>\n",
              "  </thead>\n",
              "  <tbody>\n",
              "    <tr>\n",
              "      <th>0</th>\n",
              "      <td>11</td>\n",
              "      <td>6</td>\n",
              "    </tr>\n",
              "    <tr>\n",
              "      <th>1</th>\n",
              "      <td>25</td>\n",
              "      <td>8</td>\n",
              "    </tr>\n",
              "    <tr>\n",
              "      <th>2</th>\n",
              "      <td>16</td>\n",
              "      <td>3</td>\n",
              "    </tr>\n",
              "    <tr>\n",
              "      <th>3</th>\n",
              "      <td>13</td>\n",
              "      <td>6</td>\n",
              "    </tr>\n",
              "    <tr>\n",
              "      <th>4</th>\n",
              "      <td>13</td>\n",
              "      <td>4</td>\n",
              "    </tr>\n",
              "    <tr>\n",
              "      <th>...</th>\n",
              "      <td>...</td>\n",
              "      <td>...</td>\n",
              "    </tr>\n",
              "    <tr>\n",
              "      <th>170</th>\n",
              "      <td>8</td>\n",
              "      <td>5</td>\n",
              "    </tr>\n",
              "    <tr>\n",
              "      <th>171</th>\n",
              "      <td>10</td>\n",
              "      <td>5</td>\n",
              "    </tr>\n",
              "    <tr>\n",
              "      <th>172</th>\n",
              "      <td>9</td>\n",
              "      <td>5</td>\n",
              "    </tr>\n",
              "    <tr>\n",
              "      <th>173</th>\n",
              "      <td>13</td>\n",
              "      <td>9</td>\n",
              "    </tr>\n",
              "    <tr>\n",
              "      <th>174</th>\n",
              "      <td>12</td>\n",
              "      <td>6</td>\n",
              "    </tr>\n",
              "  </tbody>\n",
              "</table>\n",
              "<p>175 rows × 2 columns</p>\n",
              "</div>\n",
              "      <button class=\"colab-df-convert\" onclick=\"convertToInteractive('df-759f3d90-402f-4639-989c-c1e402b60423')\"\n",
              "              title=\"Convert this dataframe to an interactive table.\"\n",
              "              style=\"display:none;\">\n",
              "        \n",
              "  <svg xmlns=\"http://www.w3.org/2000/svg\" height=\"24px\"viewBox=\"0 0 24 24\"\n",
              "       width=\"24px\">\n",
              "    <path d=\"M0 0h24v24H0V0z\" fill=\"none\"/>\n",
              "    <path d=\"M18.56 5.44l.94 2.06.94-2.06 2.06-.94-2.06-.94-.94-2.06-.94 2.06-2.06.94zm-11 1L8.5 8.5l.94-2.06 2.06-.94-2.06-.94L8.5 2.5l-.94 2.06-2.06.94zm10 10l.94 2.06.94-2.06 2.06-.94-2.06-.94-.94-2.06-.94 2.06-2.06.94z\"/><path d=\"M17.41 7.96l-1.37-1.37c-.4-.4-.92-.59-1.43-.59-.52 0-1.04.2-1.43.59L10.3 9.45l-7.72 7.72c-.78.78-.78 2.05 0 2.83L4 21.41c.39.39.9.59 1.41.59.51 0 1.02-.2 1.41-.59l7.78-7.78 2.81-2.81c.8-.78.8-2.07 0-2.86zM5.41 20L4 18.59l7.72-7.72 1.47 1.35L5.41 20z\"/>\n",
              "  </svg>\n",
              "      </button>\n",
              "      \n",
              "  <style>\n",
              "    .colab-df-container {\n",
              "      display:flex;\n",
              "      flex-wrap:wrap;\n",
              "      gap: 12px;\n",
              "    }\n",
              "\n",
              "    .colab-df-convert {\n",
              "      background-color: #E8F0FE;\n",
              "      border: none;\n",
              "      border-radius: 50%;\n",
              "      cursor: pointer;\n",
              "      display: none;\n",
              "      fill: #1967D2;\n",
              "      height: 32px;\n",
              "      padding: 0 0 0 0;\n",
              "      width: 32px;\n",
              "    }\n",
              "\n",
              "    .colab-df-convert:hover {\n",
              "      background-color: #E2EBFA;\n",
              "      box-shadow: 0px 1px 2px rgba(60, 64, 67, 0.3), 0px 1px 3px 1px rgba(60, 64, 67, 0.15);\n",
              "      fill: #174EA6;\n",
              "    }\n",
              "\n",
              "    [theme=dark] .colab-df-convert {\n",
              "      background-color: #3B4455;\n",
              "      fill: #D2E3FC;\n",
              "    }\n",
              "\n",
              "    [theme=dark] .colab-df-convert:hover {\n",
              "      background-color: #434B5C;\n",
              "      box-shadow: 0px 1px 3px 1px rgba(0, 0, 0, 0.15);\n",
              "      filter: drop-shadow(0px 1px 2px rgba(0, 0, 0, 0.3));\n",
              "      fill: #FFFFFF;\n",
              "    }\n",
              "  </style>\n",
              "\n",
              "      <script>\n",
              "        const buttonEl =\n",
              "          document.querySelector('#df-759f3d90-402f-4639-989c-c1e402b60423 button.colab-df-convert');\n",
              "        buttonEl.style.display =\n",
              "          google.colab.kernel.accessAllowed ? 'block' : 'none';\n",
              "\n",
              "        async function convertToInteractive(key) {\n",
              "          const element = document.querySelector('#df-759f3d90-402f-4639-989c-c1e402b60423');\n",
              "          const dataTable =\n",
              "            await google.colab.kernel.invokeFunction('convertToInteractive',\n",
              "                                                     [key], {});\n",
              "          if (!dataTable) return;\n",
              "\n",
              "          const docLinkHtml = 'Like what you see? Visit the ' +\n",
              "            '<a target=\"_blank\" href=https://colab.research.google.com/notebooks/data_table.ipynb>data table notebook</a>'\n",
              "            + ' to learn more about interactive tables.';\n",
              "          element.innerHTML = '';\n",
              "          dataTable['output_type'] = 'display_data';\n",
              "          await google.colab.output.renderOutput(dataTable, element);\n",
              "          const docLink = document.createElement('div');\n",
              "          docLink.innerHTML = docLinkHtml;\n",
              "          element.appendChild(docLink);\n",
              "        }\n",
              "      </script>\n",
              "    </div>\n",
              "  </div>\n",
              "  "
            ]
          },
          "metadata": {},
          "execution_count": 920
        }
      ]
    },
    {
      "cell_type": "code",
      "source": [
        "import tensorflow_probability as tfp\n",
        "tfp.stats.correlation(ds['PSQI'], ds['N'])"
      ],
      "metadata": {
        "id": "MryEqya5VJDa",
        "outputId": "55c000a3-0ddd-45da-f046-7a66c28e27f0",
        "colab": {
          "base_uri": "https://localhost:8080/",
          "height": 345
        }
      },
      "execution_count": 924,
      "outputs": [
        {
          "output_type": "error",
          "ename": "InvalidArgumentError",
          "evalue": "ignored",
          "traceback": [
            "\u001b[0;31m---------------------------------------------------------------------------\u001b[0m",
            "\u001b[0;31mInvalidArgumentError\u001b[0m                      Traceback (most recent call last)",
            "\u001b[0;32m<ipython-input-924-48dc3684d902>\u001b[0m in \u001b[0;36m<module>\u001b[0;34m()\u001b[0m\n\u001b[1;32m      1\u001b[0m \u001b[0;32mimport\u001b[0m \u001b[0mtensorflow_probability\u001b[0m \u001b[0;32mas\u001b[0m \u001b[0mtfp\u001b[0m\u001b[0;34m\u001b[0m\u001b[0;34m\u001b[0m\u001b[0m\n\u001b[0;32m----> 2\u001b[0;31m \u001b[0mtfp\u001b[0m\u001b[0;34m.\u001b[0m\u001b[0mstats\u001b[0m\u001b[0;34m.\u001b[0m\u001b[0mcorrelation\u001b[0m\u001b[0;34m(\u001b[0m\u001b[0mds\u001b[0m\u001b[0;34m[\u001b[0m\u001b[0;34m'PSQI'\u001b[0m\u001b[0;34m]\u001b[0m\u001b[0;34m,\u001b[0m \u001b[0mds\u001b[0m\u001b[0;34m[\u001b[0m\u001b[0;34m'N'\u001b[0m\u001b[0;34m]\u001b[0m\u001b[0;34m)\u001b[0m\u001b[0;34m\u001b[0m\u001b[0;34m\u001b[0m\u001b[0m\n\u001b[0m",
            "\u001b[0;32m/usr/local/lib/python3.7/dist-packages/tensorflow_probability/python/stats/sample_stats.py\u001b[0m in \u001b[0;36mcorrelation\u001b[0;34m(x, y, sample_axis, event_axis, keepdims, name)\u001b[0m\n\u001b[1;32m    541\u001b[0m     \u001b[0;31m# difficulties with the various options for sample/event axis kwargs.\u001b[0m\u001b[0;34m\u001b[0m\u001b[0;34m\u001b[0m\u001b[0;34m\u001b[0m\u001b[0m\n\u001b[1;32m    542\u001b[0m \u001b[0;34m\u001b[0m\u001b[0m\n\u001b[0;32m--> 543\u001b[0;31m     \u001b[0mx\u001b[0m \u001b[0;34m/=\u001b[0m \u001b[0mstddev\u001b[0m\u001b[0;34m(\u001b[0m\u001b[0mx\u001b[0m\u001b[0;34m,\u001b[0m \u001b[0msample_axis\u001b[0m\u001b[0;34m=\u001b[0m\u001b[0msample_axis\u001b[0m\u001b[0;34m,\u001b[0m \u001b[0mkeepdims\u001b[0m\u001b[0;34m=\u001b[0m\u001b[0;32mTrue\u001b[0m\u001b[0;34m)\u001b[0m\u001b[0;34m\u001b[0m\u001b[0;34m\u001b[0m\u001b[0m\n\u001b[0m\u001b[1;32m    544\u001b[0m     \u001b[0;32mif\u001b[0m \u001b[0my\u001b[0m \u001b[0;32mis\u001b[0m \u001b[0;32mnot\u001b[0m \u001b[0;32mNone\u001b[0m\u001b[0;34m:\u001b[0m\u001b[0;34m\u001b[0m\u001b[0;34m\u001b[0m\u001b[0m\n\u001b[1;32m    545\u001b[0m       \u001b[0my\u001b[0m \u001b[0;34m/=\u001b[0m \u001b[0mstddev\u001b[0m\u001b[0;34m(\u001b[0m\u001b[0my\u001b[0m\u001b[0;34m,\u001b[0m \u001b[0msample_axis\u001b[0m\u001b[0;34m=\u001b[0m\u001b[0msample_axis\u001b[0m\u001b[0;34m,\u001b[0m \u001b[0mkeepdims\u001b[0m\u001b[0;34m=\u001b[0m\u001b[0;32mTrue\u001b[0m\u001b[0;34m)\u001b[0m\u001b[0;34m\u001b[0m\u001b[0;34m\u001b[0m\u001b[0m\n",
            "\u001b[0;32m/usr/local/lib/python3.7/dist-packages/tensorflow_probability/python/stats/sample_stats.py\u001b[0m in \u001b[0;36mstddev\u001b[0;34m(x, sample_axis, keepdims, name)\u001b[0m\n\u001b[1;32m    600\u001b[0m   \"\"\"\n\u001b[1;32m    601\u001b[0m   \u001b[0;32mwith\u001b[0m \u001b[0mtf\u001b[0m\u001b[0;34m.\u001b[0m\u001b[0mname_scope\u001b[0m\u001b[0;34m(\u001b[0m\u001b[0mname\u001b[0m \u001b[0;32mor\u001b[0m \u001b[0;34m'stddev'\u001b[0m\u001b[0;34m)\u001b[0m\u001b[0;34m:\u001b[0m\u001b[0;34m\u001b[0m\u001b[0;34m\u001b[0m\u001b[0m\n\u001b[0;32m--> 602\u001b[0;31m     \u001b[0;32mreturn\u001b[0m \u001b[0mtf\u001b[0m\u001b[0;34m.\u001b[0m\u001b[0msqrt\u001b[0m\u001b[0;34m(\u001b[0m\u001b[0mvariance\u001b[0m\u001b[0;34m(\u001b[0m\u001b[0mx\u001b[0m\u001b[0;34m,\u001b[0m \u001b[0msample_axis\u001b[0m\u001b[0;34m=\u001b[0m\u001b[0msample_axis\u001b[0m\u001b[0;34m,\u001b[0m \u001b[0mkeepdims\u001b[0m\u001b[0;34m=\u001b[0m\u001b[0mkeepdims\u001b[0m\u001b[0;34m)\u001b[0m\u001b[0;34m)\u001b[0m\u001b[0;34m\u001b[0m\u001b[0;34m\u001b[0m\u001b[0m\n\u001b[0m\u001b[1;32m    603\u001b[0m \u001b[0;34m\u001b[0m\u001b[0m\n\u001b[1;32m    604\u001b[0m \u001b[0;34m\u001b[0m\u001b[0m\n",
            "\u001b[0;32m/usr/local/lib/python3.7/dist-packages/tensorflow/python/util/traceback_utils.py\u001b[0m in \u001b[0;36merror_handler\u001b[0;34m(*args, **kwargs)\u001b[0m\n\u001b[1;32m    151\u001b[0m     \u001b[0;32mexcept\u001b[0m \u001b[0mException\u001b[0m \u001b[0;32mas\u001b[0m \u001b[0me\u001b[0m\u001b[0;34m:\u001b[0m\u001b[0;34m\u001b[0m\u001b[0;34m\u001b[0m\u001b[0m\n\u001b[1;32m    152\u001b[0m       \u001b[0mfiltered_tb\u001b[0m \u001b[0;34m=\u001b[0m \u001b[0m_process_traceback_frames\u001b[0m\u001b[0;34m(\u001b[0m\u001b[0me\u001b[0m\u001b[0;34m.\u001b[0m\u001b[0m__traceback__\u001b[0m\u001b[0;34m)\u001b[0m\u001b[0;34m\u001b[0m\u001b[0;34m\u001b[0m\u001b[0m\n\u001b[0;32m--> 153\u001b[0;31m       \u001b[0;32mraise\u001b[0m \u001b[0me\u001b[0m\u001b[0;34m.\u001b[0m\u001b[0mwith_traceback\u001b[0m\u001b[0;34m(\u001b[0m\u001b[0mfiltered_tb\u001b[0m\u001b[0;34m)\u001b[0m \u001b[0;32mfrom\u001b[0m \u001b[0;32mNone\u001b[0m\u001b[0;34m\u001b[0m\u001b[0;34m\u001b[0m\u001b[0m\n\u001b[0m\u001b[1;32m    154\u001b[0m     \u001b[0;32mfinally\u001b[0m\u001b[0;34m:\u001b[0m\u001b[0;34m\u001b[0m\u001b[0;34m\u001b[0m\u001b[0m\n\u001b[1;32m    155\u001b[0m       \u001b[0;32mdel\u001b[0m \u001b[0mfiltered_tb\u001b[0m\u001b[0;34m\u001b[0m\u001b[0;34m\u001b[0m\u001b[0m\n",
            "\u001b[0;32m/usr/local/lib/python3.7/dist-packages/tensorflow/python/framework/ops.py\u001b[0m in \u001b[0;36mraise_from_not_ok_status\u001b[0;34m(e, name)\u001b[0m\n\u001b[1;32m   7184\u001b[0m \u001b[0;32mdef\u001b[0m \u001b[0mraise_from_not_ok_status\u001b[0m\u001b[0;34m(\u001b[0m\u001b[0me\u001b[0m\u001b[0;34m,\u001b[0m \u001b[0mname\u001b[0m\u001b[0;34m)\u001b[0m\u001b[0;34m:\u001b[0m\u001b[0;34m\u001b[0m\u001b[0;34m\u001b[0m\u001b[0m\n\u001b[1;32m   7185\u001b[0m   \u001b[0me\u001b[0m\u001b[0;34m.\u001b[0m\u001b[0mmessage\u001b[0m \u001b[0;34m+=\u001b[0m \u001b[0;34m(\u001b[0m\u001b[0;34m\" name: \"\u001b[0m \u001b[0;34m+\u001b[0m \u001b[0mname\u001b[0m \u001b[0;32mif\u001b[0m \u001b[0mname\u001b[0m \u001b[0;32mis\u001b[0m \u001b[0;32mnot\u001b[0m \u001b[0;32mNone\u001b[0m \u001b[0;32melse\u001b[0m \u001b[0;34m\"\"\u001b[0m\u001b[0;34m)\u001b[0m\u001b[0;34m\u001b[0m\u001b[0;34m\u001b[0m\u001b[0m\n\u001b[0;32m-> 7186\u001b[0;31m   \u001b[0;32mraise\u001b[0m \u001b[0mcore\u001b[0m\u001b[0;34m.\u001b[0m\u001b[0m_status_to_exception\u001b[0m\u001b[0;34m(\u001b[0m\u001b[0me\u001b[0m\u001b[0;34m)\u001b[0m \u001b[0;32mfrom\u001b[0m \u001b[0;32mNone\u001b[0m  \u001b[0;31m# pylint: disable=protected-access\u001b[0m\u001b[0;34m\u001b[0m\u001b[0;34m\u001b[0m\u001b[0m\n\u001b[0m\u001b[1;32m   7187\u001b[0m \u001b[0;34m\u001b[0m\u001b[0m\n\u001b[1;32m   7188\u001b[0m \u001b[0;34m\u001b[0m\u001b[0m\n",
            "\u001b[0;31mInvalidArgumentError\u001b[0m: Value for attr 'T' of int64 is not in the list of allowed values: bfloat16, half, float, double, complex64, complex128\n\t; NodeDef: {{node Sqrt}}; Op<name=Sqrt; signature=x:T -> y:T; attr=T:type,allowed=[DT_BFLOAT16, DT_HALF, DT_FLOAT, DT_DOUBLE, DT_COMPLEX64, DT_COMPLEX128]> [Op:Sqrt]"
          ]
        }
      ]
    },
    {
      "cell_type": "code",
      "source": [
        ""
      ],
      "metadata": {
        "id": "2oclsp8-VJF0"
      },
      "execution_count": null,
      "outputs": []
    },
    {
      "cell_type": "code",
      "source": [
        ""
      ],
      "metadata": {
        "id": "UgENhvX1VJJL"
      },
      "execution_count": null,
      "outputs": []
    },
    {
      "cell_type": "code",
      "source": [
        "ds.isna().sum()"
      ],
      "metadata": {
        "colab": {
          "base_uri": "https://localhost:8080/"
        },
        "id": "j5kHDI6VTxyX",
        "outputId": "7075f603-6b40-4dfa-9ae2-6675ff135d15"
      },
      "execution_count": 782,
      "outputs": [
        {
          "output_type": "execute_result",
          "data": {
            "text/plain": [
              "Снинговый номер                              0\n",
              "Пол                                          0\n",
              "Полных лет                                   0\n",
              "Образование(0-начальное, 4-высшее)           0\n",
              "Род занятий(0-0, работает-1                  0\n",
              "Семейное положение(0-0, 1-женат)             0\n",
              "Удовлетворенность семеными отношениями       0\n",
              "Удовлетворенность материальным положением    0\n",
              "Здоровье от 1 до 10                          0\n",
              "Были ли нарушения сна                        0\n",
              "ИМТ                                          0\n",
              "Операции                                     0\n",
              "ЧМТ                                          0\n",
              "Насл отягощенность                           0\n",
              "Дебют                                        0\n",
              "Частота госпит                               0\n",
              "Стаж шизофр                                  0\n",
              "P                                            0\n",
              "N                                            0\n",
              "G                                            0\n",
              "PSQI                                         0\n",
              "psqi больше 5                                0\n",
              "(ТРЕВОГА)Гаиильтон больше 16                 0\n",
              "(ДЕПРЕССИЯ)madrs больше 6                    0\n",
              "(ДЕПРЕССИЯ)Калгари больше 5                  0\n",
              "dtype: int64"
            ]
          },
          "metadata": {},
          "execution_count": 782
        }
      ]
    },
    {
      "cell_type": "code",
      "source": [
        ""
      ],
      "metadata": {
        "id": "TXPhKu8mT4cS"
      },
      "execution_count": 782,
      "outputs": []
    },
    {
      "cell_type": "code",
      "execution_count": 783,
      "metadata": {
        "id": "pEJ79uoXQZdV"
      },
      "outputs": [],
      "source": [
        "# drop unnecessary columns\n",
        "ds = ds.drop(columns=['Снинговый номер'])\n",
        "# ds = ds.drop(columns=['Здоровье от 1 до 10', 'Удовлетворенность материальным положением', 'Рост', 'Вес', 'BARS (акатизия)', 'SAS (Экстрапир)', 'AIMS (непр дв)', 'ESS', 'шкала общего клин впечатления', 'шкала соц функционир'])"
      ]
    },
    {
      "cell_type": "code",
      "execution_count": 784,
      "metadata": {
        "colab": {
          "base_uri": "https://localhost:8080/"
        },
        "id": "R-YpnvKCkznI",
        "outputId": "a050c493-b6cf-4e06-fdd5-67238f566ff2"
      },
      "outputs": [
        {
          "output_type": "stream",
          "name": "stdout",
          "text": [
            "<class 'pandas.core.frame.DataFrame'>\n",
            "RangeIndex: 175 entries, 0 to 174\n",
            "Data columns (total 24 columns):\n",
            " #   Column                                     Non-Null Count  Dtype  \n",
            "---  ------                                     --------------  -----  \n",
            " 0   Пол                                        175 non-null    object \n",
            " 1   Полных лет                                 175 non-null    int64  \n",
            " 2   Образование(0-начальное, 4-высшее)         175 non-null    int64  \n",
            " 3   Род занятий(0-0, работает-1                175 non-null    int64  \n",
            " 4   Семейное положение(0-0, 1-женат)           175 non-null    int64  \n",
            " 5   Удовлетворенность семеными отношениями     175 non-null    int64  \n",
            " 6   Удовлетворенность материальным положением  175 non-null    int64  \n",
            " 7   Здоровье от 1 до 10                        175 non-null    int64  \n",
            " 8   Были ли нарушения сна                      175 non-null    int64  \n",
            " 9   ИМТ                                        175 non-null    float64\n",
            " 10  Операции                                   175 non-null    int64  \n",
            " 11  ЧМТ                                        175 non-null    int64  \n",
            " 12  Насл отягощенность                         175 non-null    int64  \n",
            " 13  Дебют                                      175 non-null    float64\n",
            " 14  Частота госпит                             175 non-null    int64  \n",
            " 15  Стаж шизофр                                175 non-null    float64\n",
            " 16  P                                          175 non-null    int64  \n",
            " 17  N                                          175 non-null    int64  \n",
            " 18  G                                          175 non-null    int64  \n",
            " 19  PSQI                                       175 non-null    int64  \n",
            " 20  psqi больше 5                              175 non-null    int64  \n",
            " 21  (ТРЕВОГА)Гаиильтон больше 16               175 non-null    int64  \n",
            " 22  (ДЕПРЕССИЯ)madrs больше 6                  175 non-null    int64  \n",
            " 23  (ДЕПРЕССИЯ)Калгари больше 5                175 non-null    int64  \n",
            "dtypes: float64(3), int64(20), object(1)\n",
            "memory usage: 32.9+ KB\n"
          ]
        }
      ],
      "source": [
        "ds.info()"
      ]
    },
    {
      "cell_type": "code",
      "source": [
        ""
      ],
      "metadata": {
        "id": "psWgB8oSkcF-"
      },
      "execution_count": 784,
      "outputs": []
    },
    {
      "cell_type": "code",
      "source": [
        "ds['Пол'].value_counts()"
      ],
      "metadata": {
        "colab": {
          "base_uri": "https://localhost:8080/"
        },
        "id": "Dy9-88v9bi2u",
        "outputId": "e154c1bc-a7d8-4906-a3d8-3236488cd4dd"
      },
      "execution_count": 785,
      "outputs": [
        {
          "output_type": "execute_result",
          "data": {
            "text/plain": [
              "М    132\n",
              "Ж     43\n",
              "Name: Пол, dtype: int64"
            ]
          },
          "metadata": {},
          "execution_count": 785
        }
      ]
    },
    {
      "cell_type": "code",
      "source": [
        "ds['Пол'] = np.where(ds['Пол']=='М',1,0)"
      ],
      "metadata": {
        "id": "0HsMmuGXbX0i"
      },
      "execution_count": 786,
      "outputs": []
    },
    {
      "cell_type": "code",
      "source": [
        "ds['Пол'].value_counts()"
      ],
      "metadata": {
        "colab": {
          "base_uri": "https://localhost:8080/"
        },
        "id": "BTxS-svEbkoK",
        "outputId": "594187a3-ec37-473e-811b-3d28a9de4adf"
      },
      "execution_count": 787,
      "outputs": [
        {
          "output_type": "execute_result",
          "data": {
            "text/plain": [
              "1    132\n",
              "0     43\n",
              "Name: Пол, dtype: int64"
            ]
          },
          "metadata": {},
          "execution_count": 787
        }
      ]
    },
    {
      "cell_type": "code",
      "execution_count": 788,
      "metadata": {
        "colab": {
          "base_uri": "https://localhost:8080/",
          "height": 352
        },
        "id": "eYGpxa6cG2Oi",
        "outputId": "2e4abfa2-352b-4e78-a337-df9e5ebd8dd9"
      },
      "outputs": [
        {
          "output_type": "execute_result",
          "data": {
            "text/plain": [
              "   Пол  Полных лет  Образование(0-начальное, 4-высшее)  \\\n",
              "0    1          32                                   4   \n",
              "1    1          26                                   2   \n",
              "2    1          49                                   2   \n",
              "3    1          50                                   2   \n",
              "4    1          39                                   2   \n",
              "\n",
              "   Род занятий(0-0, работает-1  Семейное положение(0-0, 1-женат)  \\\n",
              "0                            0                                 0   \n",
              "1                            0                                 0   \n",
              "2                            0                                 0   \n",
              "3                            0                                 0   \n",
              "4                            0                                 0   \n",
              "\n",
              "   Удовлетворенность семеными отношениями  \\\n",
              "0                                       5   \n",
              "1                                       5   \n",
              "2                                       5   \n",
              "3                                       5   \n",
              "4                                       5   \n",
              "\n",
              "   Удовлетворенность материальным положением  Здоровье от 1 до 10  \\\n",
              "0                                          0                    7   \n",
              "1                                          0                   10   \n",
              "2                                          1                   10   \n",
              "3                                          1                    7   \n",
              "4                                          1                    7   \n",
              "\n",
              "   Были ли нарушения сна        ИМТ  ...  Частота госпит  Стаж шизофр   P   N  \\\n",
              "0                      1  24.012346  ...               0          3.7  11  11   \n",
              "1                      1  20.244898  ...               1          2.0  10  25   \n",
              "2                      0  29.752744  ...               2         23.0   9  16   \n",
              "3                      1  22.093170  ...               1         34.0  13  13   \n",
              "4                      0  20.761246  ...               0          4.0   9  13   \n",
              "\n",
              "    G  PSQI  psqi больше 5  (ТРЕВОГА)Гаиильтон больше 16  \\\n",
              "0  18     6              1                             0   \n",
              "1  36     8              1                             0   \n",
              "2  23     3              0                             0   \n",
              "3  20     6              1                             0   \n",
              "4  22     4              0                             0   \n",
              "\n",
              "   (ДЕПРЕССИЯ)madrs больше 6  (ДЕПРЕССИЯ)Калгари больше 5  \n",
              "0                          0                            0  \n",
              "1                          1                            1  \n",
              "2                          0                            0  \n",
              "3                          0                            0  \n",
              "4                          0                            0  \n",
              "\n",
              "[5 rows x 24 columns]"
            ],
            "text/html": [
              "\n",
              "  <div id=\"df-f2a1e4ed-2b42-4ac2-8006-de042ca3718a\">\n",
              "    <div class=\"colab-df-container\">\n",
              "      <div>\n",
              "<style scoped>\n",
              "    .dataframe tbody tr th:only-of-type {\n",
              "        vertical-align: middle;\n",
              "    }\n",
              "\n",
              "    .dataframe tbody tr th {\n",
              "        vertical-align: top;\n",
              "    }\n",
              "\n",
              "    .dataframe thead th {\n",
              "        text-align: right;\n",
              "    }\n",
              "</style>\n",
              "<table border=\"1\" class=\"dataframe\">\n",
              "  <thead>\n",
              "    <tr style=\"text-align: right;\">\n",
              "      <th></th>\n",
              "      <th>Пол</th>\n",
              "      <th>Полных лет</th>\n",
              "      <th>Образование(0-начальное, 4-высшее)</th>\n",
              "      <th>Род занятий(0-0, работает-1</th>\n",
              "      <th>Семейное положение(0-0, 1-женат)</th>\n",
              "      <th>Удовлетворенность семеными отношениями</th>\n",
              "      <th>Удовлетворенность материальным положением</th>\n",
              "      <th>Здоровье от 1 до 10</th>\n",
              "      <th>Были ли нарушения сна</th>\n",
              "      <th>ИМТ</th>\n",
              "      <th>...</th>\n",
              "      <th>Частота госпит</th>\n",
              "      <th>Стаж шизофр</th>\n",
              "      <th>P</th>\n",
              "      <th>N</th>\n",
              "      <th>G</th>\n",
              "      <th>PSQI</th>\n",
              "      <th>psqi больше 5</th>\n",
              "      <th>(ТРЕВОГА)Гаиильтон больше 16</th>\n",
              "      <th>(ДЕПРЕССИЯ)madrs больше 6</th>\n",
              "      <th>(ДЕПРЕССИЯ)Калгари больше 5</th>\n",
              "    </tr>\n",
              "  </thead>\n",
              "  <tbody>\n",
              "    <tr>\n",
              "      <th>0</th>\n",
              "      <td>1</td>\n",
              "      <td>32</td>\n",
              "      <td>4</td>\n",
              "      <td>0</td>\n",
              "      <td>0</td>\n",
              "      <td>5</td>\n",
              "      <td>0</td>\n",
              "      <td>7</td>\n",
              "      <td>1</td>\n",
              "      <td>24.012346</td>\n",
              "      <td>...</td>\n",
              "      <td>0</td>\n",
              "      <td>3.7</td>\n",
              "      <td>11</td>\n",
              "      <td>11</td>\n",
              "      <td>18</td>\n",
              "      <td>6</td>\n",
              "      <td>1</td>\n",
              "      <td>0</td>\n",
              "      <td>0</td>\n",
              "      <td>0</td>\n",
              "    </tr>\n",
              "    <tr>\n",
              "      <th>1</th>\n",
              "      <td>1</td>\n",
              "      <td>26</td>\n",
              "      <td>2</td>\n",
              "      <td>0</td>\n",
              "      <td>0</td>\n",
              "      <td>5</td>\n",
              "      <td>0</td>\n",
              "      <td>10</td>\n",
              "      <td>1</td>\n",
              "      <td>20.244898</td>\n",
              "      <td>...</td>\n",
              "      <td>1</td>\n",
              "      <td>2.0</td>\n",
              "      <td>10</td>\n",
              "      <td>25</td>\n",
              "      <td>36</td>\n",
              "      <td>8</td>\n",
              "      <td>1</td>\n",
              "      <td>0</td>\n",
              "      <td>1</td>\n",
              "      <td>1</td>\n",
              "    </tr>\n",
              "    <tr>\n",
              "      <th>2</th>\n",
              "      <td>1</td>\n",
              "      <td>49</td>\n",
              "      <td>2</td>\n",
              "      <td>0</td>\n",
              "      <td>0</td>\n",
              "      <td>5</td>\n",
              "      <td>1</td>\n",
              "      <td>10</td>\n",
              "      <td>0</td>\n",
              "      <td>29.752744</td>\n",
              "      <td>...</td>\n",
              "      <td>2</td>\n",
              "      <td>23.0</td>\n",
              "      <td>9</td>\n",
              "      <td>16</td>\n",
              "      <td>23</td>\n",
              "      <td>3</td>\n",
              "      <td>0</td>\n",
              "      <td>0</td>\n",
              "      <td>0</td>\n",
              "      <td>0</td>\n",
              "    </tr>\n",
              "    <tr>\n",
              "      <th>3</th>\n",
              "      <td>1</td>\n",
              "      <td>50</td>\n",
              "      <td>2</td>\n",
              "      <td>0</td>\n",
              "      <td>0</td>\n",
              "      <td>5</td>\n",
              "      <td>1</td>\n",
              "      <td>7</td>\n",
              "      <td>1</td>\n",
              "      <td>22.093170</td>\n",
              "      <td>...</td>\n",
              "      <td>1</td>\n",
              "      <td>34.0</td>\n",
              "      <td>13</td>\n",
              "      <td>13</td>\n",
              "      <td>20</td>\n",
              "      <td>6</td>\n",
              "      <td>1</td>\n",
              "      <td>0</td>\n",
              "      <td>0</td>\n",
              "      <td>0</td>\n",
              "    </tr>\n",
              "    <tr>\n",
              "      <th>4</th>\n",
              "      <td>1</td>\n",
              "      <td>39</td>\n",
              "      <td>2</td>\n",
              "      <td>0</td>\n",
              "      <td>0</td>\n",
              "      <td>5</td>\n",
              "      <td>1</td>\n",
              "      <td>7</td>\n",
              "      <td>0</td>\n",
              "      <td>20.761246</td>\n",
              "      <td>...</td>\n",
              "      <td>0</td>\n",
              "      <td>4.0</td>\n",
              "      <td>9</td>\n",
              "      <td>13</td>\n",
              "      <td>22</td>\n",
              "      <td>4</td>\n",
              "      <td>0</td>\n",
              "      <td>0</td>\n",
              "      <td>0</td>\n",
              "      <td>0</td>\n",
              "    </tr>\n",
              "  </tbody>\n",
              "</table>\n",
              "<p>5 rows × 24 columns</p>\n",
              "</div>\n",
              "      <button class=\"colab-df-convert\" onclick=\"convertToInteractive('df-f2a1e4ed-2b42-4ac2-8006-de042ca3718a')\"\n",
              "              title=\"Convert this dataframe to an interactive table.\"\n",
              "              style=\"display:none;\">\n",
              "        \n",
              "  <svg xmlns=\"http://www.w3.org/2000/svg\" height=\"24px\"viewBox=\"0 0 24 24\"\n",
              "       width=\"24px\">\n",
              "    <path d=\"M0 0h24v24H0V0z\" fill=\"none\"/>\n",
              "    <path d=\"M18.56 5.44l.94 2.06.94-2.06 2.06-.94-2.06-.94-.94-2.06-.94 2.06-2.06.94zm-11 1L8.5 8.5l.94-2.06 2.06-.94-2.06-.94L8.5 2.5l-.94 2.06-2.06.94zm10 10l.94 2.06.94-2.06 2.06-.94-2.06-.94-.94-2.06-.94 2.06-2.06.94z\"/><path d=\"M17.41 7.96l-1.37-1.37c-.4-.4-.92-.59-1.43-.59-.52 0-1.04.2-1.43.59L10.3 9.45l-7.72 7.72c-.78.78-.78 2.05 0 2.83L4 21.41c.39.39.9.59 1.41.59.51 0 1.02-.2 1.41-.59l7.78-7.78 2.81-2.81c.8-.78.8-2.07 0-2.86zM5.41 20L4 18.59l7.72-7.72 1.47 1.35L5.41 20z\"/>\n",
              "  </svg>\n",
              "      </button>\n",
              "      \n",
              "  <style>\n",
              "    .colab-df-container {\n",
              "      display:flex;\n",
              "      flex-wrap:wrap;\n",
              "      gap: 12px;\n",
              "    }\n",
              "\n",
              "    .colab-df-convert {\n",
              "      background-color: #E8F0FE;\n",
              "      border: none;\n",
              "      border-radius: 50%;\n",
              "      cursor: pointer;\n",
              "      display: none;\n",
              "      fill: #1967D2;\n",
              "      height: 32px;\n",
              "      padding: 0 0 0 0;\n",
              "      width: 32px;\n",
              "    }\n",
              "\n",
              "    .colab-df-convert:hover {\n",
              "      background-color: #E2EBFA;\n",
              "      box-shadow: 0px 1px 2px rgba(60, 64, 67, 0.3), 0px 1px 3px 1px rgba(60, 64, 67, 0.15);\n",
              "      fill: #174EA6;\n",
              "    }\n",
              "\n",
              "    [theme=dark] .colab-df-convert {\n",
              "      background-color: #3B4455;\n",
              "      fill: #D2E3FC;\n",
              "    }\n",
              "\n",
              "    [theme=dark] .colab-df-convert:hover {\n",
              "      background-color: #434B5C;\n",
              "      box-shadow: 0px 1px 3px 1px rgba(0, 0, 0, 0.15);\n",
              "      filter: drop-shadow(0px 1px 2px rgba(0, 0, 0, 0.3));\n",
              "      fill: #FFFFFF;\n",
              "    }\n",
              "  </style>\n",
              "\n",
              "      <script>\n",
              "        const buttonEl =\n",
              "          document.querySelector('#df-f2a1e4ed-2b42-4ac2-8006-de042ca3718a button.colab-df-convert');\n",
              "        buttonEl.style.display =\n",
              "          google.colab.kernel.accessAllowed ? 'block' : 'none';\n",
              "\n",
              "        async function convertToInteractive(key) {\n",
              "          const element = document.querySelector('#df-f2a1e4ed-2b42-4ac2-8006-de042ca3718a');\n",
              "          const dataTable =\n",
              "            await google.colab.kernel.invokeFunction('convertToInteractive',\n",
              "                                                     [key], {});\n",
              "          if (!dataTable) return;\n",
              "\n",
              "          const docLinkHtml = 'Like what you see? Visit the ' +\n",
              "            '<a target=\"_blank\" href=https://colab.research.google.com/notebooks/data_table.ipynb>data table notebook</a>'\n",
              "            + ' to learn more about interactive tables.';\n",
              "          element.innerHTML = '';\n",
              "          dataTable['output_type'] = 'display_data';\n",
              "          await google.colab.output.renderOutput(dataTable, element);\n",
              "          const docLink = document.createElement('div');\n",
              "          docLink.innerHTML = docLinkHtml;\n",
              "          element.appendChild(docLink);\n",
              "        }\n",
              "      </script>\n",
              "    </div>\n",
              "  </div>\n",
              "  "
            ]
          },
          "metadata": {},
          "execution_count": 788
        }
      ],
      "source": [
        "ds.head()"
      ]
    },
    {
      "cell_type": "code",
      "execution_count": 789,
      "metadata": {
        "colab": {
          "base_uri": "https://localhost:8080/"
        },
        "id": "-dNDEEZMXqCI",
        "outputId": "d9185011-5719-46ac-c3cc-3836bd3b38c7"
      },
      "outputs": [
        {
          "output_type": "execute_result",
          "data": {
            "text/plain": [
              "Пол                                          0\n",
              "Полных лет                                   0\n",
              "Образование(0-начальное, 4-высшее)           0\n",
              "Род занятий(0-0, работает-1                  0\n",
              "Семейное положение(0-0, 1-женат)             0\n",
              "Удовлетворенность семеными отношениями       0\n",
              "Удовлетворенность материальным положением    0\n",
              "Здоровье от 1 до 10                          0\n",
              "Были ли нарушения сна                        0\n",
              "ИМТ                                          0\n",
              "Операции                                     0\n",
              "ЧМТ                                          0\n",
              "Насл отягощенность                           0\n",
              "Дебют                                        0\n",
              "Частота госпит                               0\n",
              "Стаж шизофр                                  0\n",
              "P                                            0\n",
              "N                                            0\n",
              "G                                            0\n",
              "PSQI                                         0\n",
              "psqi больше 5                                0\n",
              "(ТРЕВОГА)Гаиильтон больше 16                 0\n",
              "(ДЕПРЕССИЯ)madrs больше 6                    0\n",
              "(ДЕПРЕССИЯ)Калгари больше 5                  0\n",
              "dtype: int64"
            ]
          },
          "metadata": {},
          "execution_count": 789
        }
      ],
      "source": [
        "# Check for na values\n",
        "ds.isna().sum()"
      ]
    },
    {
      "cell_type": "code",
      "execution_count": 790,
      "metadata": {
        "colab": {
          "base_uri": "https://localhost:8080/"
        },
        "id": "Kak3ZDUIIWNo",
        "outputId": "d174a187-33a1-47bf-dfbc-304b2678ad00"
      },
      "outputs": [
        {
          "output_type": "stream",
          "name": "stdout",
          "text": [
            "<class 'pandas.core.frame.DataFrame'>\n",
            "RangeIndex: 175 entries, 0 to 174\n",
            "Data columns (total 24 columns):\n",
            " #   Column                                     Non-Null Count  Dtype  \n",
            "---  ------                                     --------------  -----  \n",
            " 0   Пол                                        175 non-null    int64  \n",
            " 1   Полных лет                                 175 non-null    int64  \n",
            " 2   Образование(0-начальное, 4-высшее)         175 non-null    int64  \n",
            " 3   Род занятий(0-0, работает-1                175 non-null    int64  \n",
            " 4   Семейное положение(0-0, 1-женат)           175 non-null    int64  \n",
            " 5   Удовлетворенность семеными отношениями     175 non-null    int64  \n",
            " 6   Удовлетворенность материальным положением  175 non-null    int64  \n",
            " 7   Здоровье от 1 до 10                        175 non-null    int64  \n",
            " 8   Были ли нарушения сна                      175 non-null    int64  \n",
            " 9   ИМТ                                        175 non-null    float64\n",
            " 10  Операции                                   175 non-null    int64  \n",
            " 11  ЧМТ                                        175 non-null    int64  \n",
            " 12  Насл отягощенность                         175 non-null    int64  \n",
            " 13  Дебют                                      175 non-null    float64\n",
            " 14  Частота госпит                             175 non-null    int64  \n",
            " 15  Стаж шизофр                                175 non-null    float64\n",
            " 16  P                                          175 non-null    int64  \n",
            " 17  N                                          175 non-null    int64  \n",
            " 18  G                                          175 non-null    int64  \n",
            " 19  PSQI                                       175 non-null    int64  \n",
            " 20  psqi больше 5                              175 non-null    int64  \n",
            " 21  (ТРЕВОГА)Гаиильтон больше 16               175 non-null    int64  \n",
            " 22  (ДЕПРЕССИЯ)madrs больше 6                  175 non-null    int64  \n",
            " 23  (ДЕПРЕССИЯ)Калгари больше 5                175 non-null    int64  \n",
            "dtypes: float64(3), int64(21)\n",
            "memory usage: 32.9 KB\n"
          ]
        }
      ],
      "source": [
        "ds.info()"
      ]
    },
    {
      "cell_type": "code",
      "execution_count": 791,
      "metadata": {
        "colab": {
          "base_uri": "https://localhost:8080/"
        },
        "id": "kLmf_yhQIdAS",
        "outputId": "bd0b1dc5-c449-40c4-fe8d-4b7b34b7e11d"
      },
      "outputs": [
        {
          "output_type": "stream",
          "name": "stdout",
          "text": [
            "<class 'pandas.core.frame.DataFrame'>\n",
            "RangeIndex: 175 entries, 0 to 174\n",
            "Data columns (total 24 columns):\n",
            " #   Column                                     Non-Null Count  Dtype  \n",
            "---  ------                                     --------------  -----  \n",
            " 0   Пол                                        175 non-null    float32\n",
            " 1   Полных лет                                 175 non-null    float32\n",
            " 2   Образование(0-начальное, 4-высшее)         175 non-null    float32\n",
            " 3   Род занятий(0-0, работает-1                175 non-null    float32\n",
            " 4   Семейное положение(0-0, 1-женат)           175 non-null    float32\n",
            " 5   Удовлетворенность семеными отношениями     175 non-null    float32\n",
            " 6   Удовлетворенность материальным положением  175 non-null    float32\n",
            " 7   Здоровье от 1 до 10                        175 non-null    float32\n",
            " 8   Были ли нарушения сна                      175 non-null    float32\n",
            " 9   ИМТ                                        175 non-null    float32\n",
            " 10  Операции                                   175 non-null    float32\n",
            " 11  ЧМТ                                        175 non-null    float32\n",
            " 12  Насл отягощенность                         175 non-null    float32\n",
            " 13  Дебют                                      175 non-null    float32\n",
            " 14  Частота госпит                             175 non-null    float32\n",
            " 15  Стаж шизофр                                175 non-null    float32\n",
            " 16  P                                          175 non-null    float32\n",
            " 17  N                                          175 non-null    float32\n",
            " 18  G                                          175 non-null    float32\n",
            " 19  PSQI                                       175 non-null    float32\n",
            " 20  psqi больше 5                              175 non-null    float32\n",
            " 21  (ТРЕВОГА)Гаиильтон больше 16               175 non-null    float32\n",
            " 22  (ДЕПРЕССИЯ)madrs больше 6                  175 non-null    float32\n",
            " 23  (ДЕПРЕССИЯ)Калгари больше 5                175 non-null    float32\n",
            "dtypes: float32(24)\n",
            "memory usage: 16.5 KB\n"
          ]
        }
      ],
      "source": [
        "# turn dataset to float32\n",
        "ds = ds.astype(np.float32)\n",
        "ds.info()"
      ]
    },
    {
      "cell_type": "code",
      "execution_count": 792,
      "metadata": {
        "colab": {
          "base_uri": "https://localhost:8080/"
        },
        "id": "A5Ai6pimUakX",
        "outputId": "9d24c8c2-206e-46a4-ecb7-682a8ea40311"
      },
      "outputs": [
        {
          "output_type": "execute_result",
          "data": {
            "text/plain": [
              "1.0    103\n",
              "0.0     72\n",
              "Name: psqi больше 5, dtype: int64"
            ]
          },
          "metadata": {},
          "execution_count": 792
        }
      ],
      "source": [
        "ds['psqi больше 5'].value_counts()"
      ]
    },
    {
      "cell_type": "code",
      "execution_count": 793,
      "metadata": {
        "colab": {
          "base_uri": "https://localhost:8080/"
        },
        "id": "4fytj8feUaq7",
        "outputId": "c4ae6cc0-2df4-4573-d945-20d76e2ded0c"
      },
      "outputs": [
        {
          "output_type": "execute_result",
          "data": {
            "text/plain": [
              "0.0    135\n",
              "1.0     40\n",
              "Name: (ТРЕВОГА)Гаиильтон больше 16, dtype: int64"
            ]
          },
          "metadata": {},
          "execution_count": 793
        }
      ],
      "source": [
        "ds['(ТРЕВОГА)Гаиильтон больше 16'].value_counts()\n"
      ]
    },
    {
      "cell_type": "code",
      "execution_count": 794,
      "metadata": {
        "colab": {
          "base_uri": "https://localhost:8080/"
        },
        "id": "Z96bukAkUata",
        "outputId": "c9385a8f-73e5-49d3-c7b5-6aef1ec91db2"
      },
      "outputs": [
        {
          "output_type": "execute_result",
          "data": {
            "text/plain": [
              "0.0    116\n",
              "1.0     59\n",
              "Name: (ДЕПРЕССИЯ)madrs больше 6, dtype: int64"
            ]
          },
          "metadata": {},
          "execution_count": 794
        }
      ],
      "source": [
        "ds['(ДЕПРЕССИЯ)madrs больше 6'].value_counts()"
      ]
    },
    {
      "cell_type": "code",
      "source": [
        "ds['(ДЕПРЕССИЯ)Калгари больше 5'].value_counts()"
      ],
      "metadata": {
        "colab": {
          "base_uri": "https://localhost:8080/"
        },
        "id": "o2SUV1exnNuK",
        "outputId": "0d88479c-c530-4ec3-ed6c-f21b6d34e27f"
      },
      "execution_count": 795,
      "outputs": [
        {
          "output_type": "execute_result",
          "data": {
            "text/plain": [
              "0.0    136\n",
              "1.0     39\n",
              "Name: (ДЕПРЕССИЯ)Калгари больше 5, dtype: int64"
            ]
          },
          "metadata": {},
          "execution_count": 795
        }
      ]
    },
    {
      "cell_type": "code",
      "execution_count": 796,
      "metadata": {
        "id": "z0Fx5Wsrk2mi"
      },
      "outputs": [],
      "source": [
        "# Let's try to use 'psqi больше 5' as y value\n",
        "data = ds"
      ]
    },
    {
      "cell_type": "code",
      "execution_count": 797,
      "metadata": {
        "id": "x-rJ0J9gvL8Q"
      },
      "outputs": [],
      "source": [
        "# Create X, y\n",
        "y = data['psqi больше 5']\n",
        "X = data.drop(columns=['PSQI', 'psqi больше 5', '(ТРЕВОГА)Гаиильтон больше 16', '(ДЕПРЕССИЯ)madrs больше 6', '(ДЕПРЕССИЯ)Калгари больше 5'])\n",
        "# X = data.drop(columns=['Нарушения сна больше 5'])"
      ]
    },
    {
      "cell_type": "code",
      "source": [
        ""
      ],
      "metadata": {
        "id": "JV3JWvaa8vS2"
      },
      "execution_count": 797,
      "outputs": []
    },
    {
      "cell_type": "code",
      "source": [
        "X.columns"
      ],
      "metadata": {
        "id": "I1vVG5N_8vWH",
        "outputId": "d738af38-9a38-4352-d3ff-4a936f65d01a",
        "colab": {
          "base_uri": "https://localhost:8080/"
        }
      },
      "execution_count": 798,
      "outputs": [
        {
          "output_type": "execute_result",
          "data": {
            "text/plain": [
              "Index(['Пол', 'Полных лет', 'Образование(0-начальное, 4-высшее)',\n",
              "       'Род занятий(0-0, работает-1', 'Семейное положение(0-0, 1-женат)',\n",
              "       'Удовлетворенность семеными отношениями',\n",
              "       'Удовлетворенность материальным положением', 'Здоровье от 1 до 10',\n",
              "       'Были ли нарушения сна', 'ИМТ', 'Операции', 'ЧМТ', 'Насл отягощенность',\n",
              "       'Дебют', 'Частота госпит', 'Стаж шизофр', 'P', 'N', 'G'],\n",
              "      dtype='object')"
            ]
          },
          "metadata": {},
          "execution_count": 798
        }
      ]
    },
    {
      "cell_type": "code",
      "source": [
        "X['Пол'].plot.hist()"
      ],
      "metadata": {
        "id": "TvFjqRJs9FKq",
        "outputId": "e2422208-35b3-4e9e-be8f-9e686cf0302e",
        "colab": {
          "base_uri": "https://localhost:8080/",
          "height": 282
        }
      },
      "execution_count": 799,
      "outputs": [
        {
          "output_type": "execute_result",
          "data": {
            "text/plain": [
              "<matplotlib.axes._subplots.AxesSubplot at 0x7f66319c6bd0>"
            ]
          },
          "metadata": {},
          "execution_count": 799
        },
        {
          "output_type": "display_data",
          "data": {
            "text/plain": [
              "<Figure size 432x288 with 1 Axes>"
            ],
            "image/png": "[encoded data removed]"
          },
          "metadata": {
            "needs_background": "light"
          }
        }
      ]
    },
    {
      "cell_type": "code",
      "source": [
        "X['Полных лет'].plot.hist()"
      ],
      "metadata": {
        "id": "cSzNKuAE8vY0",
        "outputId": "8364a4fc-dbe3-4dd1-b2ee-6125af7f6171",
        "colab": {
          "base_uri": "https://localhost:8080/",
          "height": 282
        }
      },
      "execution_count": 800,
      "outputs": [
        {
          "output_type": "execute_result",
          "data": {
            "text/plain": [
              "<matplotlib.axes._subplots.AxesSubplot at 0x7f663570b490>"
            ]
          },
          "metadata": {},
          "execution_count": 800
        },
        {
          "output_type": "display_data",
          "data": {
            "text/plain": [
              "<Figure size 432x288 with 1 Axes>"
            ],
            "image/png": "[encoded data removed]"
          },
          "metadata": {
            "needs_background": "light"
          }
        }
      ]
    },
    {
      "cell_type": "code",
      "source": [
        "X['Образование(0-начальное, 4-высшее)'].plot.hist()"
      ],
      "metadata": {
        "id": "rS7RThGt8vbA",
        "outputId": "7e9ec51a-9a63-4608-f76b-bb17c59889b4",
        "colab": {
          "base_uri": "https://localhost:8080/",
          "height": 282
        }
      },
      "execution_count": 801,
      "outputs": [
        {
          "output_type": "execute_result",
          "data": {
            "text/plain": [
              "<matplotlib.axes._subplots.AxesSubplot at 0x7f6631c86f90>"
            ]
          },
          "metadata": {},
          "execution_count": 801
        },
        {
          "output_type": "display_data",
          "data": {
            "text/plain": [
              "<Figure size 432x288 with 1 Axes>"
            ],
            "image/png": "[encoded data removed]"
          },
          "metadata": {
            "needs_background": "light"
          }
        }
      ]
    },
    {
      "cell_type": "code",
      "source": [
        "X['Удовлетворенность семеными отношениями'].plot.hist()"
      ],
      "metadata": {
        "id": "qcJXSM9x9KeR",
        "outputId": "f608a939-0e6a-4f80-d5f8-52073bc3588e",
        "colab": {
          "base_uri": "https://localhost:8080/",
          "height": 282
        }
      },
      "execution_count": 802,
      "outputs": [
        {
          "output_type": "execute_result",
          "data": {
            "text/plain": [
              "<matplotlib.axes._subplots.AxesSubplot at 0x7f6639214590>"
            ]
          },
          "metadata": {},
          "execution_count": 802
        },
        {
          "output_type": "display_data",
          "data": {
            "text/plain": [
              "<Figure size 432x288 with 1 Axes>"
            ],
            "image/png": "[encoded data removed]"
          },
          "metadata": {
            "needs_background": "light"
          }
        }
      ]
    },
    {
      "cell_type": "code",
      "source": [
        "X['Удовлетворенность материальным положением'].plot.hist()"
      ],
      "metadata": {
        "id": "ZaW99Tv29M2p",
        "outputId": "25fc9659-3867-4395-a4b3-6659baf18c23",
        "colab": {
          "base_uri": "https://localhost:8080/",
          "height": 282
        }
      },
      "execution_count": 803,
      "outputs": [
        {
          "output_type": "execute_result",
          "data": {
            "text/plain": [
              "<matplotlib.axes._subplots.AxesSubplot at 0x7f66338a08d0>"
            ]
          },
          "metadata": {},
          "execution_count": 803
        },
        {
          "output_type": "display_data",
          "data": {
            "text/plain": [
              "<Figure size 432x288 with 1 Axes>"
            ],
            "image/png": "[encoded data removed]"
          },
          "metadata": {
            "needs_background": "light"
          }
        }
      ]
    },
    {
      "cell_type": "code",
      "source": [
        "X['Здоровье от 1 до 10'].plot.hist()"
      ],
      "metadata": {
        "id": "t9RAlre-9NDZ",
        "outputId": "60d9441a-830a-4b5e-d74f-a3ef8c93b53a",
        "colab": {
          "base_uri": "https://localhost:8080/",
          "height": 282
        }
      },
      "execution_count": 804,
      "outputs": [
        {
          "output_type": "execute_result",
          "data": {
            "text/plain": [
              "<matplotlib.axes._subplots.AxesSubplot at 0x7f6633e9a5d0>"
            ]
          },
          "metadata": {},
          "execution_count": 804
        },
        {
          "output_type": "display_data",
          "data": {
            "text/plain": [
              "<Figure size 432x288 with 1 Axes>"
            ],
            "image/png": "[encoded data removed]"
          },
          "metadata": {
            "needs_background": "light"
          }
        }
      ]
    },
    {
      "cell_type": "code",
      "source": [
        "X['Были ли нарушения сна'].plot.hist()"
      ],
      "metadata": {
        "id": "vHaj2_J99NR3",
        "outputId": "910a4809-f0ec-46d1-f964-08ca2a96674f",
        "colab": {
          "base_uri": "https://localhost:8080/",
          "height": 282
        }
      },
      "execution_count": 805,
      "outputs": [
        {
          "output_type": "execute_result",
          "data": {
            "text/plain": [
              "<matplotlib.axes._subplots.AxesSubplot at 0x7f6635f83dd0>"
            ]
          },
          "metadata": {},
          "execution_count": 805
        },
        {
          "output_type": "display_data",
          "data": {
            "text/plain": [
              "<Figure size 432x288 with 1 Axes>"
            ],
            "image/png": "[encoded data removed]"
          },
          "metadata": {
            "needs_background": "light"
          }
        }
      ]
    },
    {
      "cell_type": "code",
      "source": [
        "X['ИМТ'].plot.hist()"
      ],
      "metadata": {
        "id": "1xC2ChxODvpM",
        "outputId": "aba4b736-f750-40f2-8434-56847d471bd2",
        "colab": {
          "base_uri": "https://localhost:8080/",
          "height": 282
        }
      },
      "execution_count": 806,
      "outputs": [
        {
          "output_type": "execute_result",
          "data": {
            "text/plain": [
              "<matplotlib.axes._subplots.AxesSubplot at 0x7f663a5be9d0>"
            ]
          },
          "metadata": {},
          "execution_count": 806
        },
        {
          "output_type": "display_data",
          "data": {
            "text/plain": [
              "<Figure size 432x288 with 1 Axes>"
            ],
            "image/png": "[encoded data removed]"
          },
          "metadata": {
            "needs_background": "light"
          }
        }
      ]
    },
    {
      "cell_type": "code",
      "source": [
        "X['Операции'].plot.hist()"
      ],
      "metadata": {
        "id": "QKyiTn8z8vdN",
        "outputId": "1aecc5ab-731a-4173-cfe3-8dc1297ede73",
        "colab": {
          "base_uri": "https://localhost:8080/",
          "height": 282
        }
      },
      "execution_count": 807,
      "outputs": [
        {
          "output_type": "execute_result",
          "data": {
            "text/plain": [
              "<matplotlib.axes._subplots.AxesSubplot at 0x7f6635109fd0>"
            ]
          },
          "metadata": {},
          "execution_count": 807
        },
        {
          "output_type": "display_data",
          "data": {
            "text/plain": [
              "<Figure size 432x288 with 1 Axes>"
            ],
            "image/png": "[encoded data removed]"
          },
          "metadata": {
            "needs_background": "light"
          }
        }
      ]
    },
    {
      "cell_type": "code",
      "source": [
        "# X['Аллергии'].plot.hist()"
      ],
      "metadata": {
        "id": "9mM7BGvI9N5N"
      },
      "execution_count": 808,
      "outputs": []
    },
    {
      "cell_type": "code",
      "source": [
        "# X['Забол кожи'].plot.hist()"
      ],
      "metadata": {
        "id": "9OIttp848vfV"
      },
      "execution_count": 809,
      "outputs": []
    },
    {
      "cell_type": "code",
      "source": [
        "# X['ГБ'].plot.hist()"
      ],
      "metadata": {
        "id": "UQSDw5Sj9P2P"
      },
      "execution_count": 810,
      "outputs": []
    },
    {
      "cell_type": "code",
      "source": [
        "# X['Панкреатит'].plot.hist()"
      ],
      "metadata": {
        "id": "IkrDKxnY9P4y"
      },
      "execution_count": 811,
      "outputs": []
    },
    {
      "cell_type": "code",
      "source": [
        "# X['Дисфункция ЖКТ'].plot.hist()"
      ],
      "metadata": {
        "id": "fe_keiy09P7M"
      },
      "execution_count": 812,
      "outputs": []
    },
    {
      "cell_type": "code",
      "source": [
        "X['ЧМТ'].plot.hist()"
      ],
      "metadata": {
        "id": "loEyKK3y9P9v",
        "outputId": "951c4594-11ac-4028-e68f-3374ed867ff9",
        "colab": {
          "base_uri": "https://localhost:8080/",
          "height": 282
        }
      },
      "execution_count": 813,
      "outputs": [
        {
          "output_type": "execute_result",
          "data": {
            "text/plain": [
              "<matplotlib.axes._subplots.AxesSubplot at 0x7f6635b7d2d0>"
            ]
          },
          "metadata": {},
          "execution_count": 813
        },
        {
          "output_type": "display_data",
          "data": {
            "text/plain": [
              "<Figure size 432x288 with 1 Axes>"
            ],
            "image/png": "[encoded data removed]"
          },
          "metadata": {
            "needs_background": "light"
          }
        }
      ]
    },
    {
      "cell_type": "code",
      "source": [
        "X['Насл отягощенность'].plot.hist()"
      ],
      "metadata": {
        "id": "lB6JgIeJ9QAB",
        "outputId": "237b01a9-c651-4c0c-8e94-6e2e5d67467f",
        "colab": {
          "base_uri": "https://localhost:8080/",
          "height": 282
        }
      },
      "execution_count": 814,
      "outputs": [
        {
          "output_type": "execute_result",
          "data": {
            "text/plain": [
              "<matplotlib.axes._subplots.AxesSubplot at 0x7f66344656d0>"
            ]
          },
          "metadata": {},
          "execution_count": 814
        },
        {
          "output_type": "display_data",
          "data": {
            "text/plain": [
              "<Figure size 432x288 with 1 Axes>"
            ],
            "image/png": "[encoded data removed]"
          },
          "metadata": {
            "needs_background": "light"
          }
        }
      ]
    },
    {
      "cell_type": "code",
      "source": [
        "X['Дебют'].plot.hist()"
      ],
      "metadata": {
        "id": "73hXHFoX9QCa",
        "outputId": "764438e4-f359-4a6f-900e-dea1ecdd1fc4",
        "colab": {
          "base_uri": "https://localhost:8080/",
          "height": 282
        }
      },
      "execution_count": 815,
      "outputs": [
        {
          "output_type": "execute_result",
          "data": {
            "text/plain": [
              "<matplotlib.axes._subplots.AxesSubplot at 0x7f6634484c90>"
            ]
          },
          "metadata": {},
          "execution_count": 815
        },
        {
          "output_type": "display_data",
          "data": {
            "text/plain": [
              "<Figure size 432x288 with 1 Axes>"
            ],
            "image/png": "[encoded data removed]"
          },
          "metadata": {
            "needs_background": "light"
          }
        }
      ]
    },
    {
      "cell_type": "code",
      "source": [
        "X['Частота госпит'].plot.hist()"
      ],
      "metadata": {
        "id": "dfRTqleE9QFD",
        "outputId": "13df1f45-d51c-49b3-b33e-e3cc8ceff659",
        "colab": {
          "base_uri": "https://localhost:8080/",
          "height": 282
        }
      },
      "execution_count": 816,
      "outputs": [
        {
          "output_type": "execute_result",
          "data": {
            "text/plain": [
              "<matplotlib.axes._subplots.AxesSubplot at 0x7f6639cbb7d0>"
            ]
          },
          "metadata": {},
          "execution_count": 816
        },
        {
          "output_type": "display_data",
          "data": {
            "text/plain": [
              "<Figure size 432x288 with 1 Axes>"
            ],
            "image/png": "[encoded data removed]"
          },
          "metadata": {
            "needs_background": "light"
          }
        }
      ]
    },
    {
      "cell_type": "code",
      "source": [
        "X['Стаж шизофр'].plot.hist()"
      ],
      "metadata": {
        "id": "MPLll8-L9u8u",
        "outputId": "6e81d1fe-1dac-4254-9c57-0fb399a3d7ed",
        "colab": {
          "base_uri": "https://localhost:8080/",
          "height": 282
        }
      },
      "execution_count": 817,
      "outputs": [
        {
          "output_type": "execute_result",
          "data": {
            "text/plain": [
              "<matplotlib.axes._subplots.AxesSubplot at 0x7f6631c36e10>"
            ]
          },
          "metadata": {},
          "execution_count": 817
        },
        {
          "output_type": "display_data",
          "data": {
            "text/plain": [
              "<Figure size 432x288 with 1 Axes>"
            ],
            "image/png": "[encoded data removed]"
          },
          "metadata": {
            "needs_background": "light"
          }
        }
      ]
    },
    {
      "cell_type": "code",
      "source": [
        "X['P'].plot.hist()"
      ],
      "metadata": {
        "id": "WR2YxXxd9u_V",
        "outputId": "986c9985-bca5-486d-98f8-5991ba75ac4e",
        "colab": {
          "base_uri": "https://localhost:8080/",
          "height": 282
        }
      },
      "execution_count": 818,
      "outputs": [
        {
          "output_type": "execute_result",
          "data": {
            "text/plain": [
              "<matplotlib.axes._subplots.AxesSubplot at 0x7f6631f96f90>"
            ]
          },
          "metadata": {},
          "execution_count": 818
        },
        {
          "output_type": "display_data",
          "data": {
            "text/plain": [
              "<Figure size 432x288 with 1 Axes>"
            ],
            "image/png": "[encoded data removed]"
          },
          "metadata": {
            "needs_background": "light"
          }
        }
      ]
    },
    {
      "cell_type": "code",
      "source": [
        "X['N'].plot.hist()"
      ],
      "metadata": {
        "id": "n15glR8-9vB2",
        "outputId": "bd04890b-da68-4388-8c36-f8cbda1b0158",
        "colab": {
          "base_uri": "https://localhost:8080/",
          "height": 282
        }
      },
      "execution_count": 819,
      "outputs": [
        {
          "output_type": "execute_result",
          "data": {
            "text/plain": [
              "<matplotlib.axes._subplots.AxesSubplot at 0x7f6631c66fd0>"
            ]
          },
          "metadata": {},
          "execution_count": 819
        },
        {
          "output_type": "display_data",
          "data": {
            "text/plain": [
              "<Figure size 432x288 with 1 Axes>"
            ],
            "image/png": "[encoded data removed]"
          },
          "metadata": {
            "needs_background": "light"
          }
        }
      ]
    },
    {
      "cell_type": "code",
      "source": [
        "X['G'].plot.hist()"
      ],
      "metadata": {
        "id": "jNFwr3Rt9vEi",
        "outputId": "0e8a00cd-51ee-4058-d922-bb6e9a22342e",
        "colab": {
          "base_uri": "https://localhost:8080/",
          "height": 282
        }
      },
      "execution_count": 820,
      "outputs": [
        {
          "output_type": "execute_result",
          "data": {
            "text/plain": [
              "<matplotlib.axes._subplots.AxesSubplot at 0x7f6635ac9c10>"
            ]
          },
          "metadata": {},
          "execution_count": 820
        },
        {
          "output_type": "display_data",
          "data": {
            "text/plain": [
              "<Figure size 432x288 with 1 Axes>"
            ],
            "image/png": "[encoded data removed]"
          },
          "metadata": {
            "needs_background": "light"
          }
        }
      ]
    },
    {
      "cell_type": "code",
      "source": [
        "X.min()"
      ],
      "metadata": {
        "id": "SjbyFES59vHG",
        "outputId": "e0b18056-f64e-4031-ed01-bca29c6716e5",
        "colab": {
          "base_uri": "https://localhost:8080/"
        }
      },
      "execution_count": 821,
      "outputs": [
        {
          "output_type": "execute_result",
          "data": {
            "text/plain": [
              "Пол                                           0.000000\n",
              "Полных лет                                   19.000000\n",
              "Образование(0-начальное, 4-высшее)            1.000000\n",
              "Род занятий(0-0, работает-1                   0.000000\n",
              "Семейное положение(0-0, 1-женат)              0.000000\n",
              "Удовлетворенность семеными отношениями        1.000000\n",
              "Удовлетворенность материальным положением     0.000000\n",
              "Здоровье от 1 до 10                           1.000000\n",
              "Были ли нарушения сна                         0.000000\n",
              "ИМТ                                          14.005112\n",
              "Операции                                      0.000000\n",
              "ЧМТ                                           0.000000\n",
              "Насл отягощенность                            0.000000\n",
              "Дебют                                         5.000000\n",
              "Частота госпит                                0.000000\n",
              "Стаж шизофр                                   0.500000\n",
              "P                                             7.000000\n",
              "N                                             5.000000\n",
              "G                                            16.000000\n",
              "dtype: float32"
            ]
          },
          "metadata": {},
          "execution_count": 821
        }
      ]
    },
    {
      "cell_type": "code",
      "source": [
        "X.max()"
      ],
      "metadata": {
        "id": "Ov1NYpWJ9vLD",
        "outputId": "fb4a0c4c-6158-456c-c3fc-dea592eb48e8",
        "colab": {
          "base_uri": "https://localhost:8080/"
        }
      },
      "execution_count": 822,
      "outputs": [
        {
          "output_type": "execute_result",
          "data": {
            "text/plain": [
              "Пол                                           1.000000\n",
              "Полных лет                                   67.000000\n",
              "Образование(0-начальное, 4-высшее)            4.000000\n",
              "Род занятий(0-0, работает-1                   1.000000\n",
              "Семейное положение(0-0, 1-женат)              1.000000\n",
              "Удовлетворенность семеными отношениями        5.000000\n",
              "Удовлетворенность материальным положением     1.000000\n",
              "Здоровье от 1 до 10                          10.000000\n",
              "Были ли нарушения сна                         1.000000\n",
              "ИМТ                                          40.404041\n",
              "Операции                                      1.000000\n",
              "ЧМТ                                           2.000000\n",
              "Насл отягощенность                            1.000000\n",
              "Дебют                                        45.000000\n",
              "Частота госпит                                2.000000\n",
              "Стаж шизофр                                  41.000000\n",
              "P                                            32.000000\n",
              "N                                            37.000000\n",
              "G                                            56.000000\n",
              "dtype: float32"
            ]
          },
          "metadata": {},
          "execution_count": 822
        }
      ]
    },
    {
      "cell_type": "code",
      "source": [
        ""
      ],
      "metadata": {
        "id": "Z8MPctJWaFgp"
      },
      "execution_count": 822,
      "outputs": []
    },
    {
      "cell_type": "code",
      "source": [
        ""
      ],
      "metadata": {
        "id": "eoSFxsKXaFjZ"
      },
      "execution_count": 822,
      "outputs": []
    },
    {
      "cell_type": "code",
      "source": [
        ""
      ],
      "metadata": {
        "id": "Ld02q8uCaFlZ"
      },
      "execution_count": 822,
      "outputs": []
    },
    {
      "cell_type": "markdown",
      "source": [
        "### recursive feature elimination (feature selection)"
      ],
      "metadata": {
        "id": "6__3yeowZurC"
      }
    },
    {
      "cell_type": "code",
      "source": [
        "from sklearn.feature_selection import RFE\n",
        "from sklearn.linear_model import LinearRegression\n",
        " \n",
        "lr = LinearRegression()\n",
        "#select 5 the most informative features\n",
        "rfe = RFE(lr, n_features_to_select=5) \n",
        "selector = rfe.fit(X,y)\n",
        "selector.support_"
      ],
      "metadata": {
        "colab": {
          "base_uri": "https://localhost:8080/"
        },
        "id": "vZgqfNgPZutk",
        "outputId": "aea7d980-b012-402c-a3c5-45f4cde71e26"
      },
      "execution_count": 823,
      "outputs": [
        {
          "output_type": "execute_result",
          "data": {
            "text/plain": [
              "array([ True,  True, False, False, False, False, False, False,  True,\n",
              "       False, False, False, False,  True, False,  True, False, False,\n",
              "       False])"
            ]
          },
          "metadata": {},
          "execution_count": 823
        }
      ]
    },
    {
      "cell_type": "code",
      "source": [
        "selector.ranking_\n"
      ],
      "metadata": {
        "colab": {
          "base_uri": "https://localhost:8080/"
        },
        "id": "q5e_Fa3NZuv8",
        "outputId": "072a5ad4-0a35-4eb4-9e3d-78a1ce2676c5"
      },
      "execution_count": 824,
      "outputs": [
        {
          "output_type": "execute_result",
          "data": {
            "text/plain": [
              "array([ 1,  1, 13,  2,  3, 12,  4,  8,  1, 10,  5, 14, 11,  1, 15,  1,  9,\n",
              "        7,  6])"
            ]
          },
          "metadata": {},
          "execution_count": 824
        }
      ]
    },
    {
      "cell_type": "code",
      "source": [
        "from sklearn.preprocessing import MinMaxScaler\n",
        "minmax_scaler = MinMaxScaler()\n",
        "\n",
        "X_scaled = minmax_scaler.fit_transform(X)"
      ],
      "metadata": {
        "id": "IZm5ISGTZuyJ"
      },
      "execution_count": 825,
      "outputs": []
    },
    {
      "cell_type": "code",
      "source": [
        "lr = LinearRegression()\n",
        "#select 5 the most informative features\n",
        "rfe = RFE(lr, n_features_to_select=5) \n",
        "selector = rfe.fit(X_scaled,y)\n",
        "X.columns[selector.support_]"
      ],
      "metadata": {
        "colab": {
          "base_uri": "https://localhost:8080/"
        },
        "id": "OEhomgyhZu0m",
        "outputId": "07f07098-1f61-48e1-c664-f5221871fa9f"
      },
      "execution_count": 826,
      "outputs": [
        {
          "output_type": "execute_result",
          "data": {
            "text/plain": [
              "Index(['Полных лет', 'Дебют', 'Стаж шизофр', 'N', 'G'], dtype='object')"
            ]
          },
          "metadata": {},
          "execution_count": 826
        }
      ]
    },
    {
      "cell_type": "code",
      "source": [
        "selector.ranking_\n"
      ],
      "metadata": {
        "colab": {
          "base_uri": "https://localhost:8080/"
        },
        "id": "3WMVWWaOZu3j",
        "outputId": "8ac856eb-7f59-4093-842f-0919226e85ef"
      },
      "execution_count": 827,
      "outputs": [
        {
          "output_type": "execute_result",
          "data": {
            "text/plain": [
              "array([ 4,  1, 12,  7,  6, 11,  9,  8,  3,  5, 10, 14, 13,  1, 15,  1,  2,\n",
              "        1,  1])"
            ]
          },
          "metadata": {},
          "execution_count": 827
        }
      ]
    },
    {
      "cell_type": "markdown",
      "source": [
        "[False,  Полных лет, False, False, False, False, False, False, False,\n",
        "       False, False, False, False,  Дебют, False,  Стаж шизофр, False,  N,\n",
        "        G])\n",
        "\n",
        "Полных лет, G, N, Стаж шизофр, Дебют"
      ],
      "metadata": {
        "id": "E6kRoWoDdrY0"
      }
    },
    {
      "cell_type": "code",
      "source": [
        "lr = LinearRegression()\n",
        "#select 5 the most informative features\n",
        "rfe = RFE(lr, n_features_to_select=3) \n",
        "selector = rfe.fit(X_scaled,y)\n",
        "\n",
        "X.columns[selector.support_]\n",
        "# Полных лет Стаж шизофр, Дебют"
      ],
      "metadata": {
        "colab": {
          "base_uri": "https://localhost:8080/"
        },
        "id": "pUvPGl25drvw",
        "outputId": "125d33e1-4bed-4f8c-d38d-b24363e3330a"
      },
      "execution_count": 828,
      "outputs": [
        {
          "output_type": "execute_result",
          "data": {
            "text/plain": [
              "Index(['Полных лет', 'Дебют', 'Стаж шизофр'], dtype='object')"
            ]
          },
          "metadata": {},
          "execution_count": 828
        }
      ]
    },
    {
      "cell_type": "code",
      "source": [
        "selector.ranking_\n"
      ],
      "metadata": {
        "colab": {
          "base_uri": "https://localhost:8080/"
        },
        "id": "wmaSGWsydryY",
        "outputId": "4be9e601-dd93-4a40-f51e-1482eea195e7"
      },
      "execution_count": 829,
      "outputs": [
        {
          "output_type": "execute_result",
          "data": {
            "text/plain": [
              "array([ 6,  1, 14,  9,  8, 13, 11, 10,  5,  7, 12, 16, 15,  1, 17,  1,  4,\n",
              "        3,  2])"
            ]
          },
          "metadata": {},
          "execution_count": 829
        }
      ]
    },
    {
      "cell_type": "code",
      "source": [
        ""
      ],
      "metadata": {
        "id": "_s14onwvdr00"
      },
      "execution_count": 829,
      "outputs": []
    },
    {
      "cell_type": "code",
      "source": [
        ""
      ],
      "metadata": {
        "id": "V4VkmXfGJU73"
      },
      "execution_count": 829,
      "outputs": []
    },
    {
      "cell_type": "markdown",
      "source": [
        "### ridge regression"
      ],
      "metadata": {
        "id": "bWVE9lVYJU-N"
      }
    },
    {
      "cell_type": "code",
      "source": [
        "from sklearn.linear_model import Ridge\n",
        "clf = Ridge(alpha=1.0)\n",
        "clf.fit(X_scaled, y)\n",
        "clf.coef_"
      ],
      "metadata": {
        "colab": {
          "base_uri": "https://localhost:8080/"
        },
        "id": "yu1WF01jdr3X",
        "outputId": "67da23f1-2bd2-47c8-e770-1763fcebac65"
      },
      "execution_count": 830,
      "outputs": [
        {
          "output_type": "execute_result",
          "data": {
            "text/plain": [
              "array([ 0.22916175, -0.04521506,  0.00620389, -0.13925803,  0.16084182,\n",
              "        0.02381083, -0.0730864 , -0.09515555,  0.26708284, -0.13483925,\n",
              "        0.03858924,  0.00110342,  0.01082914,  0.03102849,  0.00272879,\n",
              "       -0.06005502,  0.2771904 , -0.3858557 ,  0.4021952 ], dtype=float32)"
            ]
          },
          "metadata": {},
          "execution_count": 830
        }
      ]
    },
    {
      "cell_type": "code",
      "source": [
        "clf.intercept_"
      ],
      "metadata": {
        "colab": {
          "base_uri": "https://localhost:8080/"
        },
        "id": "YNlDvdjDdr6q",
        "outputId": "5610050c-d6d0-4c11-e1d5-65a90fd034cc"
      },
      "execution_count": 831,
      "outputs": [
        {
          "output_type": "execute_result",
          "data": {
            "text/plain": [
              "0.34553903"
            ]
          },
          "metadata": {},
          "execution_count": 831
        }
      ]
    },
    {
      "cell_type": "code",
      "source": [
        ""
      ],
      "metadata": {
        "id": "RLA1NUAJKHvd"
      },
      "execution_count": 831,
      "outputs": []
    },
    {
      "cell_type": "code",
      "source": [
        ""
      ],
      "metadata": {
        "id": "YBl9ZGQpZu59"
      },
      "execution_count": 831,
      "outputs": []
    },
    {
      "cell_type": "markdown",
      "source": [
        "LASSO regression (feature selection)"
      ],
      "metadata": {
        "id": "SkuZbKUBBkOO"
      }
    },
    {
      "cell_type": "code",
      "source": [
        "import numpy as np\n",
        "from sklearn.preprocessing import StandardScaler\n",
        "from sklearn.pipeline import Pipeline\n",
        "from sklearn.model_selection import train_test_split, GridSearchCV\n",
        "from sklearn.linear_model import Lasso"
      ],
      "metadata": {
        "id": "qRuBoZdY7yy9"
      },
      "execution_count": 832,
      "outputs": []
    },
    {
      "cell_type": "code",
      "source": [
        "X_train, X_test, y_train, y_test = train_test_split(X, y, test_size=0.2, random_state=42)"
      ],
      "metadata": {
        "id": "DG_91ub87y1z"
      },
      "execution_count": 833,
      "outputs": []
    },
    {
      "cell_type": "code",
      "source": [
        "pipeline = Pipeline([\n",
        "                     ('scaler',StandardScaler()),\n",
        "                     ('model',Lasso())\n",
        "])\n"
      ],
      "metadata": {
        "id": "0BjWX-gC7_TQ"
      },
      "execution_count": 834,
      "outputs": []
    },
    {
      "cell_type": "code",
      "source": [
        "search = GridSearchCV(pipeline,\n",
        "                      {'model__alpha':np.arange(0.1,10,0.1)},\n",
        "                      cv = 5, scoring=\"neg_mean_squared_error\",verbose=3\n",
        "                      )"
      ],
      "metadata": {
        "id": "P4DMl7uv8Bt6"
      },
      "execution_count": 835,
      "outputs": []
    },
    {
      "cell_type": "code",
      "source": [
        "search.fit(X_train,y_train)"
      ],
      "metadata": {
        "id": "-I6VjLFw8DqO",
        "outputId": "10d4204a-c8cf-461f-ba7e-04d7443fd1df",
        "colab": {
          "base_uri": "https://localhost:8080/"
        }
      },
      "execution_count": 836,
      "outputs": [
        {
          "output_type": "stream",
          "name": "stdout",
          "text": [
            "Fitting 5 folds for each of 99 candidates, totalling 495 fits\n",
            "[CV 1/5] END .................model__alpha=0.1;, score=-0.260 total time=   0.0s\n",
            "[CV 2/5] END .................model__alpha=0.1;, score=-0.218 total time=   0.0s\n",
            "[CV 3/5] END .................model__alpha=0.1;, score=-0.248 total time=   0.0s\n",
            "[CV 4/5] END .................model__alpha=0.1;, score=-0.212 total time=   0.0s\n",
            "[CV 5/5] END .................model__alpha=0.1;, score=-0.260 total time=   0.0s\n",
            "[CV 1/5] END .................model__alpha=0.2;, score=-0.260 total time=   0.0s\n",
            "[CV 2/5] END .................model__alpha=0.2;, score=-0.218 total time=   0.0s\n",
            "[CV 3/5] END .................model__alpha=0.2;, score=-0.249 total time=   0.0s\n",
            "[CV 4/5] END .................model__alpha=0.2;, score=-0.213 total time=   0.0s\n",
            "[CV 5/5] END .................model__alpha=0.2;, score=-0.260 total time=   0.0s\n",
            "[CV 1/5] END .model__alpha=0.30000000000000004;, score=-0.260 total time=   0.0s\n",
            "[CV 2/5] END .model__alpha=0.30000000000000004;, score=-0.218 total time=   0.0s\n",
            "[CV 3/5] END .model__alpha=0.30000000000000004;, score=-0.249 total time=   0.0s\n",
            "[CV 4/5] END .model__alpha=0.30000000000000004;, score=-0.213 total time=   0.0s\n",
            "[CV 5/5] END .model__alpha=0.30000000000000004;, score=-0.260 total time=   0.0s\n",
            "[CV 1/5] END .................model__alpha=0.4;, score=-0.260 total time=   0.0s\n",
            "[CV 2/5] END .................model__alpha=0.4;, score=-0.218 total time=   0.0s\n",
            "[CV 3/5] END .................model__alpha=0.4;, score=-0.249 total time=   0.0s\n",
            "[CV 4/5] END .................model__alpha=0.4;, score=-0.213 total time=   0.0s\n",
            "[CV 5/5] END .................model__alpha=0.4;, score=-0.260 total time=   0.0s\n",
            "[CV 1/5] END .................model__alpha=0.5;, score=-0.260 total time=   0.0s\n",
            "[CV 2/5] END .................model__alpha=0.5;, score=-0.218 total time=   0.0s\n",
            "[CV 3/5] END .................model__alpha=0.5;, score=-0.249 total time=   0.0s\n",
            "[CV 4/5] END .................model__alpha=0.5;, score=-0.213 total time=   0.0s\n",
            "[CV 5/5] END .................model__alpha=0.5;, score=-0.260 total time=   0.0s\n",
            "[CV 1/5] END .................model__alpha=0.6;, score=-0.260 total time=   0.0s\n",
            "[CV 2/5] END .................model__alpha=0.6;, score=-0.218 total time=   0.0s\n",
            "[CV 3/5] END .................model__alpha=0.6;, score=-0.249 total time=   0.0s\n",
            "[CV 4/5] END .................model__alpha=0.6;, score=-0.213 total time=   0.0s\n",
            "[CV 5/5] END .................model__alpha=0.6;, score=-0.260 total time=   0.0s\n",
            "[CV 1/5] END ..model__alpha=0.7000000000000001;, score=-0.260 total time=   0.0s\n",
            "[CV 2/5] END ..model__alpha=0.7000000000000001;, score=-0.218 total time=   0.0s\n",
            "[CV 3/5] END ..model__alpha=0.7000000000000001;, score=-0.249 total time=   0.0s\n",
            "[CV 4/5] END ..model__alpha=0.7000000000000001;, score=-0.213 total time=   0.0s\n",
            "[CV 5/5] END ..model__alpha=0.7000000000000001;, score=-0.260 total time=   0.0s\n",
            "[CV 1/5] END .................model__alpha=0.8;, score=-0.260 total time=   0.0s\n",
            "[CV 2/5] END .................model__alpha=0.8;, score=-0.218 total time=   0.0s\n",
            "[CV 3/5] END .................model__alpha=0.8;, score=-0.249 total time=   0.0s\n",
            "[CV 4/5] END .................model__alpha=0.8;, score=-0.213 total time=   0.0s\n",
            "[CV 5/5] END .................model__alpha=0.8;, score=-0.260 total time=   0.0s\n",
            "[CV 1/5] END .................model__alpha=0.9;, score=-0.260 total time=   0.0s\n",
            "[CV 2/5] END .................model__alpha=0.9;, score=-0.218 total time=   0.0s\n",
            "[CV 3/5] END .................model__alpha=0.9;, score=-0.249 total time=   0.0s\n",
            "[CV 4/5] END .................model__alpha=0.9;, score=-0.213 total time=   0.0s\n",
            "[CV 5/5] END .................model__alpha=0.9;, score=-0.260 total time=   0.0s\n",
            "[CV 1/5] END .................model__alpha=1.0;, score=-0.260 total time=   0.0s\n",
            "[CV 2/5] END .................model__alpha=1.0;, score=-0.218 total time=   0.0s\n",
            "[CV 3/5] END .................model__alpha=1.0;, score=-0.249 total time=   0.0s\n",
            "[CV 4/5] END .................model__alpha=1.0;, score=-0.213 total time=   0.0s\n",
            "[CV 5/5] END .................model__alpha=1.0;, score=-0.260 total time=   0.0s\n",
            "[CV 1/5] END .................model__alpha=1.1;, score=-0.260 total time=   0.0s\n",
            "[CV 2/5] END .................model__alpha=1.1;, score=-0.218 total time=   0.0s\n",
            "[CV 3/5] END .................model__alpha=1.1;, score=-0.249 total time=   0.0s\n",
            "[CV 4/5] END .................model__alpha=1.1;, score=-0.213 total time=   0.0s\n",
            "[CV 5/5] END .................model__alpha=1.1;, score=-0.260 total time=   0.0s\n",
            "[CV 1/5] END ..model__alpha=1.2000000000000002;, score=-0.260 total time=   0.0s\n",
            "[CV 2/5] END ..model__alpha=1.2000000000000002;, score=-0.218 total time=   0.0s\n",
            "[CV 3/5] END ..model__alpha=1.2000000000000002;, score=-0.249 total time=   0.0s\n",
            "[CV 4/5] END ..model__alpha=1.2000000000000002;, score=-0.213 total time=   0.0s\n",
            "[CV 5/5] END ..model__alpha=1.2000000000000002;, score=-0.260 total time=   0.0s\n",
            "[CV 1/5] END ..model__alpha=1.3000000000000003;, score=-0.260 total time=   0.0s\n",
            "[CV 2/5] END ..model__alpha=1.3000000000000003;, score=-0.218 total time=   0.0s\n",
            "[CV 3/5] END ..model__alpha=1.3000000000000003;, score=-0.249 total time=   0.0s\n",
            "[CV 4/5] END ..model__alpha=1.3000000000000003;, score=-0.213 total time=   0.0s\n",
            "[CV 5/5] END ..model__alpha=1.3000000000000003;, score=-0.260 total time=   0.0s\n",
            "[CV 1/5] END ..model__alpha=1.4000000000000001;, score=-0.260 total time=   0.0s\n",
            "[CV 2/5] END ..model__alpha=1.4000000000000001;, score=-0.218 total time=   0.0s\n",
            "[CV 3/5] END ..model__alpha=1.4000000000000001;, score=-0.249 total time=   0.0s\n",
            "[CV 4/5] END ..model__alpha=1.4000000000000001;, score=-0.213 total time=   0.0s\n",
            "[CV 5/5] END ..model__alpha=1.4000000000000001;, score=-0.260 total time=   0.0s\n",
            "[CV 1/5] END ..model__alpha=1.5000000000000002;, score=-0.260 total time=   0.0s\n",
            "[CV 2/5] END ..model__alpha=1.5000000000000002;, score=-0.218 total time=   0.0s\n",
            "[CV 3/5] END ..model__alpha=1.5000000000000002;, score=-0.249 total time=   0.0s\n",
            "[CV 4/5] END ..model__alpha=1.5000000000000002;, score=-0.213 total time=   0.0s\n",
            "[CV 5/5] END ..model__alpha=1.5000000000000002;, score=-0.260 total time=   0.0s\n",
            "[CV 1/5] END .................model__alpha=1.6;, score=-0.260 total time=   0.0s\n",
            "[CV 2/5] END .................model__alpha=1.6;, score=-0.218 total time=   0.0s\n",
            "[CV 3/5] END .................model__alpha=1.6;, score=-0.249 total time=   0.0s\n",
            "[CV 4/5] END .................model__alpha=1.6;, score=-0.213 total time=   0.0s\n",
            "[CV 5/5] END .................model__alpha=1.6;, score=-0.260 total time=   0.0s\n",
            "[CV 1/5] END ..model__alpha=1.7000000000000002;, score=-0.260 total time=   0.0s\n",
            "[CV 2/5] END ..model__alpha=1.7000000000000002;, score=-0.218 total time=   0.0s\n",
            "[CV 3/5] END ..model__alpha=1.7000000000000002;, score=-0.249 total time=   0.0s\n",
            "[CV 4/5] END ..model__alpha=1.7000000000000002;, score=-0.213 total time=   0.0s\n",
            "[CV 5/5] END ..model__alpha=1.7000000000000002;, score=-0.260 total time=   0.0s\n",
            "[CV 1/5] END ..model__alpha=1.8000000000000003;, score=-0.260 total time=   0.0s\n",
            "[CV 2/5] END ..model__alpha=1.8000000000000003;, score=-0.218 total time=   0.0s\n",
            "[CV 3/5] END ..model__alpha=1.8000000000000003;, score=-0.249 total time=   0.0s\n",
            "[CV 4/5] END ..model__alpha=1.8000000000000003;, score=-0.213 total time=   0.0s\n",
            "[CV 5/5] END ..model__alpha=1.8000000000000003;, score=-0.260 total time=   0.0s\n",
            "[CV 1/5] END ..model__alpha=1.9000000000000001;, score=-0.260 total time=   0.0s\n",
            "[CV 2/5] END ..model__alpha=1.9000000000000001;, score=-0.218 total time=   0.0s\n",
            "[CV 3/5] END ..model__alpha=1.9000000000000001;, score=-0.249 total time=   0.0s\n",
            "[CV 4/5] END ..model__alpha=1.9000000000000001;, score=-0.213 total time=   0.0s\n",
            "[CV 5/5] END ..model__alpha=1.9000000000000001;, score=-0.260 total time=   0.0s\n",
            "[CV 1/5] END .................model__alpha=2.0;, score=-0.260 total time=   0.0s\n",
            "[CV 2/5] END .................model__alpha=2.0;, score=-0.218 total time=   0.0s\n",
            "[CV 3/5] END .................model__alpha=2.0;, score=-0.249 total time=   0.0s\n",
            "[CV 4/5] END .................model__alpha=2.0;, score=-0.213 total time=   0.0s\n",
            "[CV 5/5] END .................model__alpha=2.0;, score=-0.260 total time=   0.0s\n",
            "[CV 1/5] END .................model__alpha=2.1;, score=-0.260 total time=   0.0s\n",
            "[CV 2/5] END .................model__alpha=2.1;, score=-0.218 total time=   0.0s\n",
            "[CV 3/5] END .................model__alpha=2.1;, score=-0.249 total time=   0.0s\n",
            "[CV 4/5] END .................model__alpha=2.1;, score=-0.213 total time=   0.0s\n",
            "[CV 5/5] END .................model__alpha=2.1;, score=-0.260 total time=   0.0s\n",
            "[CV 1/5] END .................model__alpha=2.2;, score=-0.260 total time=   0.0s\n",
            "[CV 2/5] END .................model__alpha=2.2;, score=-0.218 total time=   0.0s\n",
            "[CV 3/5] END .................model__alpha=2.2;, score=-0.249 total time=   0.0s\n",
            "[CV 4/5] END .................model__alpha=2.2;, score=-0.213 total time=   0.0s\n",
            "[CV 5/5] END .................model__alpha=2.2;, score=-0.260 total time=   0.0s\n",
            "[CV 1/5] END ..model__alpha=2.3000000000000003;, score=-0.260 total time=   0.0s\n",
            "[CV 2/5] END ..model__alpha=2.3000000000000003;, score=-0.218 total time=   0.0s\n",
            "[CV 3/5] END ..model__alpha=2.3000000000000003;, score=-0.249 total time=   0.0s\n",
            "[CV 4/5] END ..model__alpha=2.3000000000000003;, score=-0.213 total time=   0.0s\n",
            "[CV 5/5] END ..model__alpha=2.3000000000000003;, score=-0.260 total time=   0.0s\n",
            "[CV 1/5] END ..model__alpha=2.4000000000000004;, score=-0.260 total time=   0.0s\n",
            "[CV 2/5] END ..model__alpha=2.4000000000000004;, score=-0.218 total time=   0.0s\n",
            "[CV 3/5] END ..model__alpha=2.4000000000000004;, score=-0.249 total time=   0.0s\n",
            "[CV 4/5] END ..model__alpha=2.4000000000000004;, score=-0.213 total time=   0.0s\n",
            "[CV 5/5] END ..model__alpha=2.4000000000000004;, score=-0.260 total time=   0.0s\n",
            "[CV 1/5] END ..model__alpha=2.5000000000000004;, score=-0.260 total time=   0.0s\n",
            "[CV 2/5] END ..model__alpha=2.5000000000000004;, score=-0.218 total time=   0.0s\n",
            "[CV 3/5] END ..model__alpha=2.5000000000000004;, score=-0.249 total time=   0.0s\n",
            "[CV 4/5] END ..model__alpha=2.5000000000000004;, score=-0.213 total time=   0.0s\n",
            "[CV 5/5] END ..model__alpha=2.5000000000000004;, score=-0.260 total time=   0.0s\n",
            "[CV 1/5] END .................model__alpha=2.6;, score=-0.260 total time=   0.0s\n",
            "[CV 2/5] END .................model__alpha=2.6;, score=-0.218 total time=   0.0s\n",
            "[CV 3/5] END .................model__alpha=2.6;, score=-0.249 total time=   0.0s\n",
            "[CV 4/5] END .................model__alpha=2.6;, score=-0.213 total time=   0.0s\n",
            "[CV 5/5] END .................model__alpha=2.6;, score=-0.260 total time=   0.0s\n",
            "[CV 1/5] END .................model__alpha=2.7;, score=-0.260 total time=   0.0s\n",
            "[CV 2/5] END .................model__alpha=2.7;, score=-0.218 total time=   0.0s\n",
            "[CV 3/5] END .................model__alpha=2.7;, score=-0.249 total time=   0.0s\n",
            "[CV 4/5] END .................model__alpha=2.7;, score=-0.213 total time=   0.0s\n",
            "[CV 5/5] END .................model__alpha=2.7;, score=-0.260 total time=   0.0s\n",
            "[CV 1/5] END ..model__alpha=2.8000000000000003;, score=-0.260 total time=   0.0s\n",
            "[CV 2/5] END ..model__alpha=2.8000000000000003;, score=-0.218 total time=   0.0s\n",
            "[CV 3/5] END ..model__alpha=2.8000000000000003;, score=-0.249 total time=   0.0s\n",
            "[CV 4/5] END ..model__alpha=2.8000000000000003;, score=-0.213 total time=   0.0s\n",
            "[CV 5/5] END ..model__alpha=2.8000000000000003;, score=-0.260 total time=   0.0s\n",
            "[CV 1/5] END ..model__alpha=2.9000000000000004;, score=-0.260 total time=   0.0s\n",
            "[CV 2/5] END ..model__alpha=2.9000000000000004;, score=-0.218 total time=   0.0s\n",
            "[CV 3/5] END ..model__alpha=2.9000000000000004;, score=-0.249 total time=   0.0s\n",
            "[CV 4/5] END ..model__alpha=2.9000000000000004;, score=-0.213 total time=   0.0s\n",
            "[CV 5/5] END ..model__alpha=2.9000000000000004;, score=-0.260 total time=   0.0s\n",
            "[CV 1/5] END ..model__alpha=3.0000000000000004;, score=-0.260 total time=   0.0s\n",
            "[CV 2/5] END ..model__alpha=3.0000000000000004;, score=-0.218 total time=   0.0s\n",
            "[CV 3/5] END ..model__alpha=3.0000000000000004;, score=-0.249 total time=   0.0s\n",
            "[CV 4/5] END ..model__alpha=3.0000000000000004;, score=-0.213 total time=   0.0s\n",
            "[CV 5/5] END ..model__alpha=3.0000000000000004;, score=-0.260 total time=   0.0s\n",
            "[CV 1/5] END .................model__alpha=3.1;, score=-0.260 total time=   0.0s\n",
            "[CV 2/5] END .................model__alpha=3.1;, score=-0.218 total time=   0.0s\n",
            "[CV 3/5] END .................model__alpha=3.1;, score=-0.249 total time=   0.0s\n",
            "[CV 4/5] END .................model__alpha=3.1;, score=-0.213 total time=   0.0s\n",
            "[CV 5/5] END .................model__alpha=3.1;, score=-0.260 total time=   0.0s\n",
            "[CV 1/5] END .................model__alpha=3.2;, score=-0.260 total time=   0.0s\n",
            "[CV 2/5] END .................model__alpha=3.2;, score=-0.218 total time=   0.0s\n",
            "[CV 3/5] END .................model__alpha=3.2;, score=-0.249 total time=   0.0s\n",
            "[CV 4/5] END .................model__alpha=3.2;, score=-0.213 total time=   0.0s\n",
            "[CV 5/5] END .................model__alpha=3.2;, score=-0.260 total time=   0.0s\n",
            "[CV 1/5] END ..model__alpha=3.3000000000000003;, score=-0.260 total time=   0.0s\n",
            "[CV 2/5] END ..model__alpha=3.3000000000000003;, score=-0.218 total time=   0.0s\n",
            "[CV 3/5] END ..model__alpha=3.3000000000000003;, score=-0.249 total time=   0.0s\n",
            "[CV 4/5] END ..model__alpha=3.3000000000000003;, score=-0.213 total time=   0.0s\n",
            "[CV 5/5] END ..model__alpha=3.3000000000000003;, score=-0.260 total time=   0.0s\n",
            "[CV 1/5] END ..model__alpha=3.4000000000000004;, score=-0.260 total time=   0.0s\n",
            "[CV 2/5] END ..model__alpha=3.4000000000000004;, score=-0.218 total time=   0.0s\n",
            "[CV 3/5] END ..model__alpha=3.4000000000000004;, score=-0.249 total time=   0.0s\n",
            "[CV 4/5] END ..model__alpha=3.4000000000000004;, score=-0.213 total time=   0.0s\n",
            "[CV 5/5] END ..model__alpha=3.4000000000000004;, score=-0.260 total time=   0.0s\n",
            "[CV 1/5] END ..model__alpha=3.5000000000000004;, score=-0.260 total time=   0.0s\n",
            "[CV 2/5] END ..model__alpha=3.5000000000000004;, score=-0.218 total time=   0.0s\n",
            "[CV 3/5] END ..model__alpha=3.5000000000000004;, score=-0.249 total time=   0.0s\n",
            "[CV 4/5] END ..model__alpha=3.5000000000000004;, score=-0.213 total time=   0.0s\n",
            "[CV 5/5] END ..model__alpha=3.5000000000000004;, score=-0.260 total time=   0.0s\n",
            "[CV 1/5] END .................model__alpha=3.6;, score=-0.260 total time=   0.0s\n",
            "[CV 2/5] END .................model__alpha=3.6;, score=-0.218 total time=   0.0s\n",
            "[CV 3/5] END .................model__alpha=3.6;, score=-0.249 total time=   0.0s\n",
            "[CV 4/5] END .................model__alpha=3.6;, score=-0.213 total time=   0.0s\n",
            "[CV 5/5] END .................model__alpha=3.6;, score=-0.260 total time=   0.0s\n",
            "[CV 1/5] END .................model__alpha=3.7;, score=-0.260 total time=   0.0s\n",
            "[CV 2/5] END .................model__alpha=3.7;, score=-0.218 total time=   0.0s\n",
            "[CV 3/5] END .................model__alpha=3.7;, score=-0.249 total time=   0.0s\n",
            "[CV 4/5] END .................model__alpha=3.7;, score=-0.213 total time=   0.0s\n",
            "[CV 5/5] END .................model__alpha=3.7;, score=-0.260 total time=   0.0s\n",
            "[CV 1/5] END ..model__alpha=3.8000000000000003;, score=-0.260 total time=   0.0s\n",
            "[CV 2/5] END ..model__alpha=3.8000000000000003;, score=-0.218 total time=   0.0s\n",
            "[CV 3/5] END ..model__alpha=3.8000000000000003;, score=-0.249 total time=   0.0s\n",
            "[CV 4/5] END ..model__alpha=3.8000000000000003;, score=-0.213 total time=   0.0s\n",
            "[CV 5/5] END ..model__alpha=3.8000000000000003;, score=-0.260 total time=   0.0s\n",
            "[CV 1/5] END ..model__alpha=3.9000000000000004;, score=-0.260 total time=   0.0s\n",
            "[CV 2/5] END ..model__alpha=3.9000000000000004;, score=-0.218 total time=   0.0s\n",
            "[CV 3/5] END ..model__alpha=3.9000000000000004;, score=-0.249 total time=   0.0s\n",
            "[CV 4/5] END ..model__alpha=3.9000000000000004;, score=-0.213 total time=   0.0s\n",
            "[CV 5/5] END ..model__alpha=3.9000000000000004;, score=-0.260 total time=   0.0s\n",
            "[CV 1/5] END .................model__alpha=4.0;, score=-0.260 total time=   0.0s\n",
            "[CV 2/5] END .................model__alpha=4.0;, score=-0.218 total time=   0.0s\n",
            "[CV 3/5] END .................model__alpha=4.0;, score=-0.249 total time=   0.0s\n",
            "[CV 4/5] END .................model__alpha=4.0;, score=-0.213 total time=   0.0s\n",
            "[CV 5/5] END .................model__alpha=4.0;, score=-0.260 total time=   0.0s\n",
            "[CV 1/5] END .................model__alpha=4.1;, score=-0.260 total time=   0.0s\n",
            "[CV 2/5] END .................model__alpha=4.1;, score=-0.218 total time=   0.0s\n",
            "[CV 3/5] END .................model__alpha=4.1;, score=-0.249 total time=   0.0s\n",
            "[CV 4/5] END .................model__alpha=4.1;, score=-0.213 total time=   0.0s\n",
            "[CV 5/5] END .................model__alpha=4.1;, score=-0.260 total time=   0.0s\n",
            "[CV 1/5] END .................model__alpha=4.2;, score=-0.260 total time=   0.0s\n",
            "[CV 2/5] END .................model__alpha=4.2;, score=-0.218 total time=   0.0s\n",
            "[CV 3/5] END .................model__alpha=4.2;, score=-0.249 total time=   0.0s\n",
            "[CV 4/5] END .................model__alpha=4.2;, score=-0.213 total time=   0.0s\n",
            "[CV 5/5] END .................model__alpha=4.2;, score=-0.260 total time=   0.0s\n",
            "[CV 1/5] END .................model__alpha=4.3;, score=-0.260 total time=   0.0s\n",
            "[CV 2/5] END .................model__alpha=4.3;, score=-0.218 total time=   0.0s\n",
            "[CV 3/5] END .................model__alpha=4.3;, score=-0.249 total time=   0.0s\n",
            "[CV 4/5] END .................model__alpha=4.3;, score=-0.213 total time=   0.0s\n",
            "[CV 5/5] END .................model__alpha=4.3;, score=-0.260 total time=   0.0s\n",
            "[CV 1/5] END ..model__alpha=4.3999999999999995;, score=-0.260 total time=   0.0s\n",
            "[CV 2/5] END ..model__alpha=4.3999999999999995;, score=-0.218 total time=   0.0s\n",
            "[CV 3/5] END ..model__alpha=4.3999999999999995;, score=-0.249 total time=   0.0s\n",
            "[CV 4/5] END ..model__alpha=4.3999999999999995;, score=-0.213 total time=   0.0s\n",
            "[CV 5/5] END ..model__alpha=4.3999999999999995;, score=-0.260 total time=   0.0s\n",
            "[CV 1/5] END .................model__alpha=4.5;, score=-0.260 total time=   0.0s\n",
            "[CV 2/5] END .................model__alpha=4.5;, score=-0.218 total time=   0.0s\n",
            "[CV 3/5] END .................model__alpha=4.5;, score=-0.249 total time=   0.0s\n",
            "[CV 4/5] END .................model__alpha=4.5;, score=-0.213 total time=   0.0s\n",
            "[CV 5/5] END .................model__alpha=4.5;, score=-0.260 total time=   0.0s\n",
            "[CV 1/5] END .................model__alpha=4.6;, score=-0.260 total time=   0.0s\n",
            "[CV 2/5] END .................model__alpha=4.6;, score=-0.218 total time=   0.0s\n",
            "[CV 3/5] END .................model__alpha=4.6;, score=-0.249 total time=   0.0s\n",
            "[CV 4/5] END .................model__alpha=4.6;, score=-0.213 total time=   0.0s\n",
            "[CV 5/5] END .................model__alpha=4.6;, score=-0.260 total time=   0.0s\n",
            "[CV 1/5] END .................model__alpha=4.7;, score=-0.260 total time=   0.0s\n",
            "[CV 2/5] END .................model__alpha=4.7;, score=-0.218 total time=   0.0s\n",
            "[CV 3/5] END .................model__alpha=4.7;, score=-0.249 total time=   0.0s\n",
            "[CV 4/5] END .................model__alpha=4.7;, score=-0.213 total time=   0.0s\n",
            "[CV 5/5] END .................model__alpha=4.7;, score=-0.260 total time=   0.0s\n",
            "[CV 1/5] END .................model__alpha=4.8;, score=-0.260 total time=   0.0s\n",
            "[CV 2/5] END .................model__alpha=4.8;, score=-0.218 total time=   0.0s\n",
            "[CV 3/5] END .................model__alpha=4.8;, score=-0.249 total time=   0.0s\n",
            "[CV 4/5] END .................model__alpha=4.8;, score=-0.213 total time=   0.0s\n",
            "[CV 5/5] END .................model__alpha=4.8;, score=-0.260 total time=   0.0s\n",
            "[CV 1/5] END .................model__alpha=4.9;, score=-0.260 total time=   0.0s\n",
            "[CV 2/5] END .................model__alpha=4.9;, score=-0.218 total time=   0.0s\n",
            "[CV 3/5] END .................model__alpha=4.9;, score=-0.249 total time=   0.0s\n",
            "[CV 4/5] END .................model__alpha=4.9;, score=-0.213 total time=   0.0s\n",
            "[CV 5/5] END .................model__alpha=4.9;, score=-0.260 total time=   0.0s\n",
            "[CV 1/5] END .................model__alpha=5.0;, score=-0.260 total time=   0.0s\n",
            "[CV 2/5] END .................model__alpha=5.0;, score=-0.218 total time=   0.0s\n",
            "[CV 3/5] END .................model__alpha=5.0;, score=-0.249 total time=   0.0s\n",
            "[CV 4/5] END .................model__alpha=5.0;, score=-0.213 total time=   0.0s\n",
            "[CV 5/5] END .................model__alpha=5.0;, score=-0.260 total time=   0.0s\n",
            "[CV 1/5] END .................model__alpha=5.1;, score=-0.260 total time=   0.0s\n",
            "[CV 2/5] END .................model__alpha=5.1;, score=-0.218 total time=   0.0s\n",
            "[CV 3/5] END .................model__alpha=5.1;, score=-0.249 total time=   0.0s\n",
            "[CV 4/5] END .................model__alpha=5.1;, score=-0.213 total time=   0.0s\n",
            "[CV 5/5] END .................model__alpha=5.1;, score=-0.260 total time=   0.0s\n",
            "[CV 1/5] END .................model__alpha=5.2;, score=-0.260 total time=   0.0s\n",
            "[CV 2/5] END .................model__alpha=5.2;, score=-0.218 total time=   0.0s\n",
            "[CV 3/5] END .................model__alpha=5.2;, score=-0.249 total time=   0.0s\n",
            "[CV 4/5] END .................model__alpha=5.2;, score=-0.213 total time=   0.0s\n",
            "[CV 5/5] END .................model__alpha=5.2;, score=-0.260 total time=   0.0s\n",
            "[CV 1/5] END .................model__alpha=5.3;, score=-0.260 total time=   0.0s\n",
            "[CV 2/5] END .................model__alpha=5.3;, score=-0.218 total time=   0.0s\n",
            "[CV 3/5] END .................model__alpha=5.3;, score=-0.249 total time=   0.0s\n",
            "[CV 4/5] END .................model__alpha=5.3;, score=-0.213 total time=   0.0s\n",
            "[CV 5/5] END .................model__alpha=5.3;, score=-0.260 total time=   0.0s\n",
            "[CV 1/5] END .................model__alpha=5.4;, score=-0.260 total time=   0.0s\n",
            "[CV 2/5] END .................model__alpha=5.4;, score=-0.218 total time=   0.0s\n",
            "[CV 3/5] END .................model__alpha=5.4;, score=-0.249 total time=   0.0s\n",
            "[CV 4/5] END .................model__alpha=5.4;, score=-0.213 total time=   0.0s\n",
            "[CV 5/5] END .................model__alpha=5.4;, score=-0.260 total time=   0.0s\n",
            "[CV 1/5] END .................model__alpha=5.5;, score=-0.260 total time=   0.0s\n",
            "[CV 2/5] END .................model__alpha=5.5;, score=-0.218 total time=   0.0s\n",
            "[CV 3/5] END .................model__alpha=5.5;, score=-0.249 total time=   0.0s\n",
            "[CV 4/5] END .................model__alpha=5.5;, score=-0.213 total time=   0.0s\n",
            "[CV 5/5] END .................model__alpha=5.5;, score=-0.260 total time=   0.0s\n",
            "[CV 1/5] END .................model__alpha=5.6;, score=-0.260 total time=   0.0s\n",
            "[CV 2/5] END .................model__alpha=5.6;, score=-0.218 total time=   0.0s\n",
            "[CV 3/5] END .................model__alpha=5.6;, score=-0.249 total time=   0.0s\n",
            "[CV 4/5] END .................model__alpha=5.6;, score=-0.213 total time=   0.0s\n",
            "[CV 5/5] END .................model__alpha=5.6;, score=-0.260 total time=   0.0s\n",
            "[CV 1/5] END .................model__alpha=5.7;, score=-0.260 total time=   0.0s\n",
            "[CV 2/5] END .................model__alpha=5.7;, score=-0.218 total time=   0.0s\n",
            "[CV 3/5] END .................model__alpha=5.7;, score=-0.249 total time=   0.0s\n",
            "[CV 4/5] END .................model__alpha=5.7;, score=-0.213 total time=   0.0s\n",
            "[CV 5/5] END .................model__alpha=5.7;, score=-0.260 total time=   0.0s\n",
            "[CV 1/5] END .................model__alpha=5.8;, score=-0.260 total time=   0.0s\n",
            "[CV 2/5] END .................model__alpha=5.8;, score=-0.218 total time=   0.0s\n",
            "[CV 3/5] END .................model__alpha=5.8;, score=-0.249 total time=   0.0s\n",
            "[CV 4/5] END .................model__alpha=5.8;, score=-0.213 total time=   0.0s\n",
            "[CV 5/5] END .................model__alpha=5.8;, score=-0.260 total time=   0.0s\n",
            "[CV 1/5] END .................model__alpha=5.9;, score=-0.260 total time=   0.0s\n",
            "[CV 2/5] END .................model__alpha=5.9;, score=-0.218 total time=   0.0s\n",
            "[CV 3/5] END .................model__alpha=5.9;, score=-0.249 total time=   0.0s\n",
            "[CV 4/5] END .................model__alpha=5.9;, score=-0.213 total time=   0.0s\n",
            "[CV 5/5] END .................model__alpha=5.9;, score=-0.260 total time=   0.0s\n",
            "[CV 1/5] END .................model__alpha=6.0;, score=-0.260 total time=   0.0s\n",
            "[CV 2/5] END .................model__alpha=6.0;, score=-0.218 total time=   0.0s\n",
            "[CV 3/5] END .................model__alpha=6.0;, score=-0.249 total time=   0.0s\n",
            "[CV 4/5] END .................model__alpha=6.0;, score=-0.213 total time=   0.0s\n",
            "[CV 5/5] END .................model__alpha=6.0;, score=-0.260 total time=   0.0s\n",
            "[CV 1/5] END .................model__alpha=6.1;, score=-0.260 total time=   0.0s\n",
            "[CV 2/5] END .................model__alpha=6.1;, score=-0.218 total time=   0.0s\n",
            "[CV 3/5] END .................model__alpha=6.1;, score=-0.249 total time=   0.0s\n",
            "[CV 4/5] END .................model__alpha=6.1;, score=-0.213 total time=   0.0s\n",
            "[CV 5/5] END .................model__alpha=6.1;, score=-0.260 total time=   0.0s\n",
            "[CV 1/5] END .................model__alpha=6.2;, score=-0.260 total time=   0.0s\n",
            "[CV 2/5] END .................model__alpha=6.2;, score=-0.218 total time=   0.0s\n",
            "[CV 3/5] END .................model__alpha=6.2;, score=-0.249 total time=   0.0s\n",
            "[CV 4/5] END .................model__alpha=6.2;, score=-0.213 total time=   0.0s\n",
            "[CV 5/5] END .................model__alpha=6.2;, score=-0.260 total time=   0.0s\n",
            "[CV 1/5] END .................model__alpha=6.3;, score=-0.260 total time=   0.0s\n",
            "[CV 2/5] END .................model__alpha=6.3;, score=-0.218 total time=   0.0s\n",
            "[CV 3/5] END .................model__alpha=6.3;, score=-0.249 total time=   0.0s\n",
            "[CV 4/5] END .................model__alpha=6.3;, score=-0.213 total time=   0.0s\n",
            "[CV 5/5] END .................model__alpha=6.3;, score=-0.260 total time=   0.0s\n",
            "[CV 1/5] END .................model__alpha=6.4;, score=-0.260 total time=   0.0s\n",
            "[CV 2/5] END .................model__alpha=6.4;, score=-0.218 total time=   0.0s\n",
            "[CV 3/5] END .................model__alpha=6.4;, score=-0.249 total time=   0.0s\n",
            "[CV 4/5] END .................model__alpha=6.4;, score=-0.213 total time=   0.0s\n",
            "[CV 5/5] END .................model__alpha=6.4;, score=-0.260 total time=   0.0s\n",
            "[CV 1/5] END .................model__alpha=6.5;, score=-0.260 total time=   0.0s\n",
            "[CV 2/5] END .................model__alpha=6.5;, score=-0.218 total time=   0.0s\n",
            "[CV 3/5] END .................model__alpha=6.5;, score=-0.249 total time=   0.0s\n",
            "[CV 4/5] END .................model__alpha=6.5;, score=-0.213 total time=   0.0s\n",
            "[CV 5/5] END .................model__alpha=6.5;, score=-0.260 total time=   0.0s\n",
            "[CV 1/5] END .................model__alpha=6.6;, score=-0.260 total time=   0.0s\n",
            "[CV 2/5] END .................model__alpha=6.6;, score=-0.218 total time=   0.0s\n",
            "[CV 3/5] END .................model__alpha=6.6;, score=-0.249 total time=   0.0s\n",
            "[CV 4/5] END .................model__alpha=6.6;, score=-0.213 total time=   0.0s\n",
            "[CV 5/5] END .................model__alpha=6.6;, score=-0.260 total time=   0.0s\n",
            "[CV 1/5] END .................model__alpha=6.7;, score=-0.260 total time=   0.0s\n",
            "[CV 2/5] END .................model__alpha=6.7;, score=-0.218 total time=   0.0s\n",
            "[CV 3/5] END .................model__alpha=6.7;, score=-0.249 total time=   0.0s\n",
            "[CV 4/5] END .................model__alpha=6.7;, score=-0.213 total time=   0.0s\n",
            "[CV 5/5] END .................model__alpha=6.7;, score=-0.260 total time=   0.0s\n",
            "[CV 1/5] END .................model__alpha=6.8;, score=-0.260 total time=   0.0s\n",
            "[CV 2/5] END .................model__alpha=6.8;, score=-0.218 total time=   0.0s\n",
            "[CV 3/5] END .................model__alpha=6.8;, score=-0.249 total time=   0.0s\n",
            "[CV 4/5] END .................model__alpha=6.8;, score=-0.213 total time=   0.0s\n",
            "[CV 5/5] END .................model__alpha=6.8;, score=-0.260 total time=   0.0s\n",
            "[CV 1/5] END .................model__alpha=6.9;, score=-0.260 total time=   0.0s\n",
            "[CV 2/5] END .................model__alpha=6.9;, score=-0.218 total time=   0.0s\n",
            "[CV 3/5] END .................model__alpha=6.9;, score=-0.249 total time=   0.0s\n",
            "[CV 4/5] END .................model__alpha=6.9;, score=-0.213 total time=   0.0s\n",
            "[CV 5/5] END .................model__alpha=6.9;, score=-0.260 total time=   0.0s\n",
            "[CV 1/5] END .................model__alpha=7.0;, score=-0.260 total time=   0.0s\n",
            "[CV 2/5] END .................model__alpha=7.0;, score=-0.218 total time=   0.0s\n",
            "[CV 3/5] END .................model__alpha=7.0;, score=-0.249 total time=   0.0s\n",
            "[CV 4/5] END .................model__alpha=7.0;, score=-0.213 total time=   0.0s\n",
            "[CV 5/5] END .................model__alpha=7.0;, score=-0.260 total time=   0.0s\n",
            "[CV 1/5] END .................model__alpha=7.1;, score=-0.260 total time=   0.0s\n",
            "[CV 2/5] END .................model__alpha=7.1;, score=-0.218 total time=   0.0s\n",
            "[CV 3/5] END .................model__alpha=7.1;, score=-0.249 total time=   0.0s\n",
            "[CV 4/5] END .................model__alpha=7.1;, score=-0.213 total time=   0.0s\n",
            "[CV 5/5] END .................model__alpha=7.1;, score=-0.260 total time=   0.0s\n",
            "[CV 1/5] END .................model__alpha=7.2;, score=-0.260 total time=   0.0s\n",
            "[CV 2/5] END .................model__alpha=7.2;, score=-0.218 total time=   0.0s\n",
            "[CV 3/5] END .................model__alpha=7.2;, score=-0.249 total time=   0.0s\n",
            "[CV 4/5] END .................model__alpha=7.2;, score=-0.213 total time=   0.0s\n",
            "[CV 5/5] END .................model__alpha=7.2;, score=-0.260 total time=   0.0s\n",
            "[CV 1/5] END .................model__alpha=7.3;, score=-0.260 total time=   0.0s\n",
            "[CV 2/5] END .................model__alpha=7.3;, score=-0.218 total time=   0.0s\n",
            "[CV 3/5] END .................model__alpha=7.3;, score=-0.249 total time=   0.0s\n",
            "[CV 4/5] END .................model__alpha=7.3;, score=-0.213 total time=   0.0s\n",
            "[CV 5/5] END .................model__alpha=7.3;, score=-0.260 total time=   0.0s\n",
            "[CV 1/5] END .................model__alpha=7.4;, score=-0.260 total time=   0.0s\n",
            "[CV 2/5] END .................model__alpha=7.4;, score=-0.218 total time=   0.0s\n",
            "[CV 3/5] END .................model__alpha=7.4;, score=-0.249 total time=   0.0s\n",
            "[CV 4/5] END .................model__alpha=7.4;, score=-0.213 total time=   0.0s\n",
            "[CV 5/5] END .................model__alpha=7.4;, score=-0.260 total time=   0.0s\n",
            "[CV 1/5] END .................model__alpha=7.5;, score=-0.260 total time=   0.0s\n",
            "[CV 2/5] END .................model__alpha=7.5;, score=-0.218 total time=   0.0s\n",
            "[CV 3/5] END .................model__alpha=7.5;, score=-0.249 total time=   0.0s\n",
            "[CV 4/5] END .................model__alpha=7.5;, score=-0.213 total time=   0.0s\n",
            "[CV 5/5] END .................model__alpha=7.5;, score=-0.260 total time=   0.0s\n",
            "[CV 1/5] END .................model__alpha=7.6;, score=-0.260 total time=   0.0s\n",
            "[CV 2/5] END .................model__alpha=7.6;, score=-0.218 total time=   0.0s\n",
            "[CV 3/5] END .................model__alpha=7.6;, score=-0.249 total time=   0.0s\n",
            "[CV 4/5] END .................model__alpha=7.6;, score=-0.213 total time=   0.0s\n",
            "[CV 5/5] END .................model__alpha=7.6;, score=-0.260 total time=   0.0s\n",
            "[CV 1/5] END .................model__alpha=7.7;, score=-0.260 total time=   0.0s\n",
            "[CV 2/5] END .................model__alpha=7.7;, score=-0.218 total time=   0.0s\n",
            "[CV 3/5] END .................model__alpha=7.7;, score=-0.249 total time=   0.0s\n",
            "[CV 4/5] END .................model__alpha=7.7;, score=-0.213 total time=   0.0s\n",
            "[CV 5/5] END .................model__alpha=7.7;, score=-0.260 total time=   0.0s\n",
            "[CV 1/5] END .................model__alpha=7.8;, score=-0.260 total time=   0.0s\n",
            "[CV 2/5] END .................model__alpha=7.8;, score=-0.218 total time=   0.0s\n",
            "[CV 3/5] END .................model__alpha=7.8;, score=-0.249 total time=   0.0s\n",
            "[CV 4/5] END .................model__alpha=7.8;, score=-0.213 total time=   0.0s\n",
            "[CV 5/5] END .................model__alpha=7.8;, score=-0.260 total time=   0.0s\n",
            "[CV 1/5] END .................model__alpha=7.9;, score=-0.260 total time=   0.0s\n",
            "[CV 2/5] END .................model__alpha=7.9;, score=-0.218 total time=   0.0s\n",
            "[CV 3/5] END .................model__alpha=7.9;, score=-0.249 total time=   0.0s\n",
            "[CV 4/5] END .................model__alpha=7.9;, score=-0.213 total time=   0.0s\n",
            "[CV 5/5] END .................model__alpha=7.9;, score=-0.260 total time=   0.0s\n",
            "[CV 1/5] END .................model__alpha=8.0;, score=-0.260 total time=   0.0s\n",
            "[CV 2/5] END .................model__alpha=8.0;, score=-0.218 total time=   0.0s\n",
            "[CV 3/5] END .................model__alpha=8.0;, score=-0.249 total time=   0.0s\n",
            "[CV 4/5] END .................model__alpha=8.0;, score=-0.213 total time=   0.0s\n",
            "[CV 5/5] END .................model__alpha=8.0;, score=-0.260 total time=   0.0s\n",
            "[CV 1/5] END .................model__alpha=8.1;, score=-0.260 total time=   0.0s\n",
            "[CV 2/5] END .................model__alpha=8.1;, score=-0.218 total time=   0.0s\n",
            "[CV 3/5] END .................model__alpha=8.1;, score=-0.249 total time=   0.0s\n",
            "[CV 4/5] END .................model__alpha=8.1;, score=-0.213 total time=   0.0s\n",
            "[CV 5/5] END .................model__alpha=8.1;, score=-0.260 total time=   0.0s\n",
            "[CV 1/5] END .................model__alpha=8.2;, score=-0.260 total time=   0.0s\n",
            "[CV 2/5] END .................model__alpha=8.2;, score=-0.218 total time=   0.0s\n",
            "[CV 3/5] END .................model__alpha=8.2;, score=-0.249 total time=   0.0s\n",
            "[CV 4/5] END .................model__alpha=8.2;, score=-0.213 total time=   0.0s\n",
            "[CV 5/5] END .................model__alpha=8.2;, score=-0.260 total time=   0.0s\n",
            "[CV 1/5] END .................model__alpha=8.3;, score=-0.260 total time=   0.0s\n",
            "[CV 2/5] END .................model__alpha=8.3;, score=-0.218 total time=   0.0s\n",
            "[CV 3/5] END .................model__alpha=8.3;, score=-0.249 total time=   0.0s\n",
            "[CV 4/5] END .................model__alpha=8.3;, score=-0.213 total time=   0.0s\n",
            "[CV 5/5] END .................model__alpha=8.3;, score=-0.260 total time=   0.0s\n",
            "[CV 1/5] END .................model__alpha=8.4;, score=-0.260 total time=   0.0s\n",
            "[CV 2/5] END .................model__alpha=8.4;, score=-0.218 total time=   0.0s\n",
            "[CV 3/5] END .................model__alpha=8.4;, score=-0.249 total time=   0.0s\n",
            "[CV 4/5] END .................model__alpha=8.4;, score=-0.213 total time=   0.0s\n",
            "[CV 5/5] END .................model__alpha=8.4;, score=-0.260 total time=   0.0s\n",
            "[CV 1/5] END .................model__alpha=8.5;, score=-0.260 total time=   0.0s\n",
            "[CV 2/5] END .................model__alpha=8.5;, score=-0.218 total time=   0.0s\n",
            "[CV 3/5] END .................model__alpha=8.5;, score=-0.249 total time=   0.0s\n",
            "[CV 4/5] END .................model__alpha=8.5;, score=-0.213 total time=   0.0s\n",
            "[CV 5/5] END .................model__alpha=8.5;, score=-0.260 total time=   0.0s\n",
            "[CV 1/5] END .................model__alpha=8.6;, score=-0.260 total time=   0.0s\n",
            "[CV 2/5] END .................model__alpha=8.6;, score=-0.218 total time=   0.0s\n",
            "[CV 3/5] END .................model__alpha=8.6;, score=-0.249 total time=   0.0s\n",
            "[CV 4/5] END .................model__alpha=8.6;, score=-0.213 total time=   0.0s\n",
            "[CV 5/5] END .................model__alpha=8.6;, score=-0.260 total time=   0.0s\n",
            "[CV 1/5] END .................model__alpha=8.7;, score=-0.260 total time=   0.0s\n",
            "[CV 2/5] END .................model__alpha=8.7;, score=-0.218 total time=   0.0s\n",
            "[CV 3/5] END .................model__alpha=8.7;, score=-0.249 total time=   0.0s\n",
            "[CV 4/5] END .................model__alpha=8.7;, score=-0.213 total time=   0.0s\n",
            "[CV 5/5] END .................model__alpha=8.7;, score=-0.260 total time=   0.0s\n",
            "[CV 1/5] END .................model__alpha=8.8;, score=-0.260 total time=   0.0s\n",
            "[CV 2/5] END .................model__alpha=8.8;, score=-0.218 total time=   0.0s\n",
            "[CV 3/5] END .................model__alpha=8.8;, score=-0.249 total time=   0.0s\n",
            "[CV 4/5] END .................model__alpha=8.8;, score=-0.213 total time=   0.0s\n",
            "[CV 5/5] END .................model__alpha=8.8;, score=-0.260 total time=   0.0s\n",
            "[CV 1/5] END .................model__alpha=8.9;, score=-0.260 total time=   0.0s\n",
            "[CV 2/5] END .................model__alpha=8.9;, score=-0.218 total time=   0.0s\n",
            "[CV 3/5] END .................model__alpha=8.9;, score=-0.249 total time=   0.0s\n",
            "[CV 4/5] END .................model__alpha=8.9;, score=-0.213 total time=   0.0s\n",
            "[CV 5/5] END .................model__alpha=8.9;, score=-0.260 total time=   0.0s\n",
            "[CV 1/5] END .................model__alpha=9.0;, score=-0.260 total time=   0.0s\n",
            "[CV 2/5] END .................model__alpha=9.0;, score=-0.218 total time=   0.0s\n",
            "[CV 3/5] END .................model__alpha=9.0;, score=-0.249 total time=   0.0s\n",
            "[CV 4/5] END .................model__alpha=9.0;, score=-0.213 total time=   0.0s\n",
            "[CV 5/5] END .................model__alpha=9.0;, score=-0.260 total time=   0.0s\n",
            "[CV 1/5] END .................model__alpha=9.1;, score=-0.260 total time=   0.0s\n",
            "[CV 2/5] END .................model__alpha=9.1;, score=-0.218 total time=   0.0s\n",
            "[CV 3/5] END .................model__alpha=9.1;, score=-0.249 total time=   0.0s\n",
            "[CV 4/5] END .................model__alpha=9.1;, score=-0.213 total time=   0.0s\n",
            "[CV 5/5] END .................model__alpha=9.1;, score=-0.260 total time=   0.0s\n",
            "[CV 1/5] END .................model__alpha=9.2;, score=-0.260 total time=   0.0s\n",
            "[CV 2/5] END .................model__alpha=9.2;, score=-0.218 total time=   0.0s\n",
            "[CV 3/5] END .................model__alpha=9.2;, score=-0.249 total time=   0.0s\n",
            "[CV 4/5] END .................model__alpha=9.2;, score=-0.213 total time=   0.0s\n",
            "[CV 5/5] END .................model__alpha=9.2;, score=-0.260 total time=   0.0s\n",
            "[CV 1/5] END .................model__alpha=9.3;, score=-0.260 total time=   0.0s\n",
            "[CV 2/5] END .................model__alpha=9.3;, score=-0.218 total time=   0.0s\n",
            "[CV 3/5] END .................model__alpha=9.3;, score=-0.249 total time=   0.0s\n",
            "[CV 4/5] END .................model__alpha=9.3;, score=-0.213 total time=   0.0s\n",
            "[CV 5/5] END .................model__alpha=9.3;, score=-0.260 total time=   0.0s\n",
            "[CV 1/5] END .................model__alpha=9.4;, score=-0.260 total time=   0.0s\n",
            "[CV 2/5] END .................model__alpha=9.4;, score=-0.218 total time=   0.0s\n",
            "[CV 3/5] END .................model__alpha=9.4;, score=-0.249 total time=   0.0s\n",
            "[CV 4/5] END .................model__alpha=9.4;, score=-0.213 total time=   0.0s\n",
            "[CV 5/5] END .................model__alpha=9.4;, score=-0.260 total time=   0.0s\n",
            "[CV 1/5] END .................model__alpha=9.5;, score=-0.260 total time=   0.0s\n",
            "[CV 2/5] END .................model__alpha=9.5;, score=-0.218 total time=   0.0s\n",
            "[CV 3/5] END .................model__alpha=9.5;, score=-0.249 total time=   0.0s\n",
            "[CV 4/5] END .................model__alpha=9.5;, score=-0.213 total time=   0.0s\n",
            "[CV 5/5] END .................model__alpha=9.5;, score=-0.260 total time=   0.0s\n",
            "[CV 1/5] END .................model__alpha=9.6;, score=-0.260 total time=   0.0s\n",
            "[CV 2/5] END .................model__alpha=9.6;, score=-0.218 total time=   0.0s\n",
            "[CV 3/5] END .................model__alpha=9.6;, score=-0.249 total time=   0.0s\n",
            "[CV 4/5] END .................model__alpha=9.6;, score=-0.213 total time=   0.0s\n",
            "[CV 5/5] END .................model__alpha=9.6;, score=-0.260 total time=   0.0s\n",
            "[CV 1/5] END ...model__alpha=9.700000000000001;, score=-0.260 total time=   0.0s\n",
            "[CV 2/5] END ...model__alpha=9.700000000000001;, score=-0.218 total time=   0.0s\n",
            "[CV 3/5] END ...model__alpha=9.700000000000001;, score=-0.249 total time=   0.0s\n",
            "[CV 4/5] END ...model__alpha=9.700000000000001;, score=-0.213 total time=   0.0s\n",
            "[CV 5/5] END ...model__alpha=9.700000000000001;, score=-0.260 total time=   0.0s\n",
            "[CV 1/5] END .................model__alpha=9.8;, score=-0.260 total time=   0.0s\n",
            "[CV 2/5] END .................model__alpha=9.8;, score=-0.218 total time=   0.0s\n",
            "[CV 3/5] END .................model__alpha=9.8;, score=-0.249 total time=   0.0s\n",
            "[CV 4/5] END .................model__alpha=9.8;, score=-0.213 total time=   0.0s\n",
            "[CV 5/5] END .................model__alpha=9.8;, score=-0.260 total time=   0.0s\n",
            "[CV 1/5] END .................model__alpha=9.9;, score=-0.260 total time=   0.0s\n",
            "[CV 2/5] END .................model__alpha=9.9;, score=-0.218 total time=   0.0s\n",
            "[CV 3/5] END .................model__alpha=9.9;, score=-0.249 total time=   0.0s\n",
            "[CV 4/5] END .................model__alpha=9.9;, score=-0.213 total time=   0.0s\n",
            "[CV 5/5] END .................model__alpha=9.9;, score=-0.260 total time=   0.0s\n"
          ]
        },
        {
          "output_type": "execute_result",
          "data": {
            "text/plain": [
              "GridSearchCV(cv=5,\n",
              "             estimator=Pipeline(steps=[('scaler', StandardScaler()),\n",
              "                                       ('model', Lasso())]),\n",
              "             param_grid={'model__alpha': array([0.1, 0.2, 0.3, 0.4, 0.5, 0.6, 0.7, 0.8, 0.9, 1. , 1.1, 1.2, 1.3,\n",
              "       1.4, 1.5, 1.6, 1.7, 1.8, 1.9, 2. , 2.1, 2.2, 2.3, 2.4, 2.5, 2.6,\n",
              "       2.7, 2.8, 2.9, 3. , 3.1, 3.2, 3.3, 3.4, 3.5, 3.6, 3.7, 3.8, 3.9,\n",
              "       4. , 4.1, 4.2, 4.3, 4.4, 4.5, 4.6, 4.7, 4.8, 4.9, 5. , 5.1, 5.2,\n",
              "       5.3, 5.4, 5.5, 5.6, 5.7, 5.8, 5.9, 6. , 6.1, 6.2, 6.3, 6.4, 6.5,\n",
              "       6.6, 6.7, 6.8, 6.9, 7. , 7.1, 7.2, 7.3, 7.4, 7.5, 7.6, 7.7, 7.8,\n",
              "       7.9, 8. , 8.1, 8.2, 8.3, 8.4, 8.5, 8.6, 8.7, 8.8, 8.9, 9. , 9.1,\n",
              "       9.2, 9.3, 9.4, 9.5, 9.6, 9.7, 9.8, 9.9])},\n",
              "             scoring='neg_mean_squared_error', verbose=3)"
            ]
          },
          "metadata": {},
          "execution_count": 836
        }
      ]
    },
    {
      "cell_type": "code",
      "source": [
        "search.best_params_\n"
      ],
      "metadata": {
        "id": "467Y8gXz8Kqb",
        "outputId": "ecd7aad5-9e8d-47e6-8c45-de31bc63a2d0",
        "colab": {
          "base_uri": "https://localhost:8080/"
        }
      },
      "execution_count": 837,
      "outputs": [
        {
          "output_type": "execute_result",
          "data": {
            "text/plain": [
              "{'model__alpha': 0.1}"
            ]
          },
          "metadata": {},
          "execution_count": 837
        }
      ]
    },
    {
      "cell_type": "code",
      "source": [
        "coefficients = search.best_estimator_.named_steps['model'].coef_\n"
      ],
      "metadata": {
        "id": "r5ZsQXb78Py9"
      },
      "execution_count": 838,
      "outputs": []
    },
    {
      "cell_type": "code",
      "source": [
        "coefficients"
      ],
      "metadata": {
        "id": "c6v7Dm-q8RPP",
        "outputId": "74d6d92d-6b7b-4aee-91d2-fa28414c55dd",
        "colab": {
          "base_uri": "https://localhost:8080/"
        }
      },
      "execution_count": 839,
      "outputs": [
        {
          "output_type": "execute_result",
          "data": {
            "text/plain": [
              "array([ 0.        , -0.        ,  0.        , -0.        ,  0.        ,\n",
              "        0.        , -0.        , -0.        ,  0.00213946,  0.        ,\n",
              "        0.        ,  0.        ,  0.        , -0.        , -0.        ,\n",
              "        0.        ,  0.        , -0.        ,  0.        ], dtype=float32)"
            ]
          },
          "metadata": {},
          "execution_count": 839
        }
      ]
    },
    {
      "cell_type": "code",
      "source": [
        "importance = np.abs(coefficients)\n",
        "importance"
      ],
      "metadata": {
        "id": "Qaa48PUw8T4V",
        "outputId": "131d417c-67cf-4a8e-bdb8-d5960d4c725d",
        "colab": {
          "base_uri": "https://localhost:8080/"
        }
      },
      "execution_count": 840,
      "outputs": [
        {
          "output_type": "execute_result",
          "data": {
            "text/plain": [
              "array([0.        , 0.        , 0.        , 0.        , 0.        ,\n",
              "       0.        , 0.        , 0.        , 0.00213946, 0.        ,\n",
              "       0.        , 0.        , 0.        , 0.        , 0.        ,\n",
              "       0.        , 0.        , 0.        , 0.        ], dtype=float32)"
            ]
          },
          "metadata": {},
          "execution_count": 840
        }
      ]
    },
    {
      "cell_type": "code",
      "source": [
        "np.array(['Пол', 'Полных лет', 'Образование(0-начальное, 4-высшее)',\n",
        "       'Род занятий(0-0, работает-1', 'Семейное положение(0-0, 1-женат)',\n",
        "       'Удовлетворенность семеными отношениями', 'Здоровье от 1 до 10', 'Были ли нарушения сна', 'ИМТ', 'Операции',\n",
        "       'Удовлетворенность материальным положением','ЧМТ',\n",
        "       'Насл отягощенность', 'Дебют', 'Частота госпит', 'Стаж шизофр', 'P',\n",
        "       'N', 'G'])[importance > 0]\n"
      ],
      "metadata": {
        "id": "Crjl4-ak8VZF",
        "outputId": "3665659f-1916-4894-dd91-40c6c1704067",
        "colab": {
          "base_uri": "https://localhost:8080/"
        }
      },
      "execution_count": 841,
      "outputs": [
        {
          "output_type": "execute_result",
          "data": {
            "text/plain": [
              "array(['ИМТ'], dtype='<U41')"
            ]
          },
          "metadata": {},
          "execution_count": 841
        }
      ]
    },
    {
      "cell_type": "code",
      "source": [
        "np.array(['Пол', 'Полных лет', 'Образование(0-начальное, 4-высшее)',\n",
        "       'Род занятий(0-0, работает-1', 'Семейное положение(0-0, 1-женат)',\n",
        "       'Удовлетворенность семеными отношениями', 'Здоровье от 1 до 10', 'Были ли нарушения сна', 'ИМТ', 'Операции',\n",
        "       'Удовлетворенность материальным положением','ЧМТ',\n",
        "       'Насл отягощенность', 'Дебют', 'Частота госпит', 'Стаж шизофр', 'P',\n",
        "       'N', 'G'])[importance == 0]\n"
      ],
      "metadata": {
        "id": "VpSqwmgK8XI8",
        "outputId": "32b4f8e1-065e-4cec-bc9c-9970e0996a2c",
        "colab": {
          "base_uri": "https://localhost:8080/"
        }
      },
      "execution_count": 842,
      "outputs": [
        {
          "output_type": "execute_result",
          "data": {
            "text/plain": [
              "array(['Пол', 'Полных лет', 'Образование(0-начальное, 4-высшее)',\n",
              "       'Род занятий(0-0, работает-1', 'Семейное положение(0-0, 1-женат)',\n",
              "       'Удовлетворенность семеными отношениями', 'Здоровье от 1 до 10',\n",
              "       'Были ли нарушения сна', 'Операции',\n",
              "       'Удовлетворенность материальным положением', 'ЧМТ',\n",
              "       'Насл отягощенность', 'Дебют', 'Частота госпит', 'Стаж шизофр',\n",
              "       'P', 'N', 'G'], dtype='<U41')"
            ]
          },
          "metadata": {},
          "execution_count": 842
        }
      ]
    },
    {
      "cell_type": "code",
      "source": [
        ""
      ],
      "metadata": {
        "id": "fyb98Ux-9IQl"
      },
      "execution_count": 842,
      "outputs": []
    },
    {
      "cell_type": "code",
      "source": [
        "from sklearn.datasets import load_diabetes\n",
        "\n",
        "load_diabetes()['feature_names']\n"
      ],
      "metadata": {
        "id": "oT2xQzDP8Ktb",
        "outputId": "a3756b7f-c61a-40fb-b9cd-e34ded2b0ce2",
        "colab": {
          "base_uri": "https://localhost:8080/"
        }
      },
      "execution_count": 843,
      "outputs": [
        {
          "output_type": "execute_result",
          "data": {
            "text/plain": [
              "['age', 'sex', 'bmi', 'bp', 's1', 's2', 's3', 's4', 's5', 's6']"
            ]
          },
          "metadata": {},
          "execution_count": 843
        }
      ]
    },
    {
      "cell_type": "code",
      "source": [
        ""
      ],
      "metadata": {
        "id": "tIun2lrs8Kvo"
      },
      "execution_count": 843,
      "outputs": []
    },
    {
      "cell_type": "code",
      "source": [
        ""
      ],
      "metadata": {
        "id": "FVw800PA8Kyb"
      },
      "execution_count": 843,
      "outputs": []
    },
    {
      "cell_type": "code",
      "source": [
        ""
      ],
      "metadata": {
        "id": "qV4qLhq_8K16"
      },
      "execution_count": 843,
      "outputs": []
    },
    {
      "cell_type": "code",
      "source": [
        ""
      ],
      "metadata": {
        "id": "8b-nuu2-8E0_"
      },
      "execution_count": 843,
      "outputs": []
    },
    {
      "cell_type": "code",
      "source": [
        ""
      ],
      "metadata": {
        "id": "nvDEcbsU7y4A"
      },
      "execution_count": 843,
      "outputs": []
    },
    {
      "cell_type": "code",
      "source": [
        ""
      ],
      "metadata": {
        "id": "0KJDyl-A7y6U"
      },
      "execution_count": 843,
      "outputs": []
    },
    {
      "cell_type": "code",
      "source": [
        ""
      ],
      "metadata": {
        "id": "XndBQbwQ7y8e"
      },
      "execution_count": 843,
      "outputs": []
    },
    {
      "cell_type": "code",
      "source": [
        ""
      ],
      "metadata": {
        "id": "It37YfGRBkQf"
      },
      "execution_count": 843,
      "outputs": []
    },
    {
      "cell_type": "code",
      "source": [
        "# Find 3 best predictors witn chi square and ANOVA\n",
        "from sklearn.feature_selection import SelectKBest\n",
        "from sklearn.feature_selection import chi2 # chi^2\n",
        "from sklearn.feature_selection import f_classif # ANOVA\n",
        "\n",
        "X_chi2 = SelectKBest(chi2, k=5).fit_transform(X, y)\n",
        "X_anova = SelectKBest(f_classif, k=5).fit_transform(X, y)"
      ],
      "metadata": {
        "id": "oW3UvZbiNUcI"
      },
      "execution_count": 844,
      "outputs": []
    },
    {
      "cell_type": "markdown",
      "source": [
        "Get the Top Selected Features\n",
        "\n",
        "https://ml2021.medium.com/chi-square-and-anova-feature-selection-for-ml-5e1063ab0991"
      ],
      "metadata": {
        "id": "8aImEuZChXVK"
      }
    },
    {
      "cell_type": "code",
      "source": [
        "f_score = chi2(X, y)\n",
        "f_score\n",
        "# The first array is the F_score , 2nd one is the P_values\n",
        "# the smaller the P value the more significant the difference in the features"
      ],
      "metadata": {
        "colab": {
          "base_uri": "https://localhost:8080/"
        },
        "id": "X3x7wS6Key9P",
        "outputId": "ff8f7619-bf98-4fcd-f55a-a44693f41a44"
      },
      "execution_count": 845,
      "outputs": [
        {
          "output_type": "execute_result",
          "data": {
            "text/plain": [
              "(array([8.81632874e-01, 3.74369494e-01, 7.66156713e-06, 2.06719560e-01,\n",
              "        1.45127179e-01, 6.05965998e-03, 7.04258205e-01, 2.79589522e+00,\n",
              "        4.99920218e+00, 1.04374187e-02, 1.13012241e+00, 7.47643030e-01,\n",
              "        2.75761783e-01, 5.57276766e-01, 1.48905613e-01, 2.30464656e-05,\n",
              "        1.69809484e+01, 8.69360186e-01, 1.93603187e+01]),\n",
              " array([3.47754838e-01, 5.40632100e-01, 9.97791495e-01, 6.49350820e-01,\n",
              "        7.03236185e-01, 9.37952291e-01, 4.01356564e-01, 9.45059716e-02,\n",
              "        2.53590056e-02, 9.18626751e-01, 2.87749230e-01, 3.87223489e-01,\n",
              "        5.99492646e-01, 4.55359561e-01, 6.99583395e-01, 9.96169631e-01,\n",
              "        3.77567873e-05, 3.51132497e-01, 1.08232811e-05]))"
            ]
          },
          "metadata": {},
          "execution_count": 845
        }
      ]
    },
    {
      "cell_type": "code",
      "source": [
        "pvalues = pd.Series(f_score[1])\n",
        "pvalues.index = X.columns\n",
        "pvalues.sort_values(ascending=True)"
      ],
      "metadata": {
        "colab": {
          "base_uri": "https://localhost:8080/"
        },
        "id": "3Xp3b1pMe9AS",
        "outputId": "033fafc2-ec84-4cf9-885a-fa83428bcdbf"
      },
      "execution_count": 846,
      "outputs": [
        {
          "output_type": "execute_result",
          "data": {
            "text/plain": [
              "G                                            0.000011\n",
              "P                                            0.000038\n",
              "Были ли нарушения сна                        0.025359\n",
              "Здоровье от 1 до 10                          0.094506\n",
              "Операции                                     0.287749\n",
              "Пол                                          0.347755\n",
              "N                                            0.351132\n",
              "ЧМТ                                          0.387223\n",
              "Удовлетворенность материальным положением    0.401357\n",
              "Дебют                                        0.455360\n",
              "Полных лет                                   0.540632\n",
              "Насл отягощенность                           0.599493\n",
              "Род занятий(0-0, работает-1                  0.649351\n",
              "Частота госпит                               0.699583\n",
              "Семейное положение(0-0, 1-женат)             0.703236\n",
              "ИМТ                                          0.918627\n",
              "Удовлетворенность семеными отношениями       0.937952\n",
              "Стаж шизофр                                  0.996170\n",
              "Образование(0-начальное, 4-высшее)           0.997791\n",
              "dtype: float64"
            ]
          },
          "metadata": {},
          "execution_count": 846
        }
      ]
    },
    {
      "cell_type": "code",
      "source": [
        "# Now use the SelectKBest Model with the chi2 classifier to find the best features\n",
        "\n",
        "sel_ = SelectKBest(chi2, k=5).fit(X, y)\n",
        "X.columns[sel_.get_support()]"
      ],
      "metadata": {
        "colab": {
          "base_uri": "https://localhost:8080/"
        },
        "id": "pelM22yef1sD",
        "outputId": "9a37bd1d-78cd-49aa-b1b1-83c89f533b86"
      },
      "execution_count": 847,
      "outputs": [
        {
          "output_type": "execute_result",
          "data": {
            "text/plain": [
              "Index(['Здоровье от 1 до 10', 'Были ли нарушения сна', 'Операции', 'P', 'G'], dtype='object')"
            ]
          },
          "metadata": {},
          "execution_count": 847
        }
      ]
    },
    {
      "cell_type": "code",
      "source": [
        ""
      ],
      "metadata": {
        "id": "tra8Cu0Af292"
      },
      "execution_count": 847,
      "outputs": []
    },
    {
      "cell_type": "code",
      "source": [
        ""
      ],
      "metadata": {
        "id": "4TvTeApRfKkw"
      },
      "execution_count": 847,
      "outputs": []
    },
    {
      "cell_type": "code",
      "source": [
        "ds.head(20)"
      ],
      "metadata": {
        "colab": {
          "base_uri": "https://localhost:8080/",
          "height": 822
        },
        "id": "QVqfCfsgQHwV",
        "outputId": "b723cd22-072a-492a-f297-974973b5ead0"
      },
      "execution_count": 848,
      "outputs": [
        {
          "output_type": "execute_result",
          "data": {
            "text/plain": [
              "    Пол  Полных лет  Образование(0-начальное, 4-высшее)  \\\n",
              "0   1.0        32.0                                 4.0   \n",
              "1   1.0        26.0                                 2.0   \n",
              "2   1.0        49.0                                 2.0   \n",
              "3   1.0        50.0                                 2.0   \n",
              "4   1.0        39.0                                 2.0   \n",
              "5   1.0        26.0                                 2.0   \n",
              "6   1.0        35.0                                 3.0   \n",
              "7   1.0        31.0                                 3.0   \n",
              "8   1.0        23.0                                 2.0   \n",
              "9   1.0        37.0                                 3.0   \n",
              "10  1.0        39.0                                 3.0   \n",
              "11  1.0        29.0                                 1.0   \n",
              "12  1.0        36.0                                 4.0   \n",
              "13  1.0        33.0                                 3.0   \n",
              "14  1.0        24.0                                 2.0   \n",
              "15  1.0        54.0                                 4.0   \n",
              "16  1.0        32.0                                 2.0   \n",
              "17  1.0        29.0                                 2.0   \n",
              "18  1.0        49.0                                 2.0   \n",
              "19  1.0        34.0                                 2.0   \n",
              "\n",
              "    Род занятий(0-0, работает-1  Семейное положение(0-0, 1-женат)  \\\n",
              "0                           0.0                               0.0   \n",
              "1                           0.0                               0.0   \n",
              "2                           0.0                               0.0   \n",
              "3                           0.0                               0.0   \n",
              "4                           0.0                               0.0   \n",
              "5                           1.0                               1.0   \n",
              "6                           0.0                               0.0   \n",
              "7                           0.0                               0.0   \n",
              "8                           0.0                               0.0   \n",
              "9                           1.0                               0.0   \n",
              "10                          1.0                               0.0   \n",
              "11                          0.0                               0.0   \n",
              "12                          0.0                               0.0   \n",
              "13                          1.0                               1.0   \n",
              "14                          1.0                               0.0   \n",
              "15                          0.0                               0.0   \n",
              "16                          0.0                               0.0   \n",
              "17                          0.0                               0.0   \n",
              "18                          0.0                               0.0   \n",
              "19                          1.0                               0.0   \n",
              "\n",
              "    Удовлетворенность семеными отношениями  \\\n",
              "0                                      5.0   \n",
              "1                                      5.0   \n",
              "2                                      5.0   \n",
              "3                                      5.0   \n",
              "4                                      5.0   \n",
              "5                                      5.0   \n",
              "6                                      5.0   \n",
              "7                                      1.0   \n",
              "8                                      4.0   \n",
              "9                                      5.0   \n",
              "10                                     1.0   \n",
              "11                                     5.0   \n",
              "12                                     1.0   \n",
              "13                                     5.0   \n",
              "14                                     5.0   \n",
              "15                                     2.0   \n",
              "16                                     5.0   \n",
              "17                                     4.0   \n",
              "18                                     4.0   \n",
              "19                                     4.0   \n",
              "\n",
              "    Удовлетворенность материальным положением  Здоровье от 1 до 10  \\\n",
              "0                                         0.0                  7.0   \n",
              "1                                         0.0                 10.0   \n",
              "2                                         1.0                 10.0   \n",
              "3                                         1.0                  7.0   \n",
              "4                                         1.0                  7.0   \n",
              "5                                         1.0                 10.0   \n",
              "6                                         1.0                  5.0   \n",
              "7                                         0.0                  3.0   \n",
              "8                                         1.0                  7.0   \n",
              "9                                         0.0                  7.0   \n",
              "10                                        0.0                  1.0   \n",
              "11                                        1.0                 10.0   \n",
              "12                                        0.0                  7.0   \n",
              "13                                        1.0                 10.0   \n",
              "14                                        1.0                  5.0   \n",
              "15                                        0.0                  5.0   \n",
              "16                                        1.0                  9.0   \n",
              "17                                        1.0                 10.0   \n",
              "18                                        0.0                 10.0   \n",
              "19                                        0.0                 10.0   \n",
              "\n",
              "    Были ли нарушения сна        ИМТ  ...  Частота госпит  Стаж шизофр     P  \\\n",
              "0                     1.0  24.012346  ...             0.0         3.70  11.0   \n",
              "1                     1.0  20.244898  ...             1.0         2.00  10.0   \n",
              "2                     0.0  29.752745  ...             2.0        23.00   9.0   \n",
              "3                     1.0  22.093170  ...             1.0        34.00  13.0   \n",
              "4                     0.0  20.761246  ...             0.0         4.00   9.0   \n",
              "5                     1.0  25.737082  ...             2.0         1.00   7.0   \n",
              "6                     0.0  23.547880  ...             2.0        12.20  14.0   \n",
              "7                     1.0  26.128611  ...             1.0         9.00   7.0   \n",
              "8                     0.0  18.812147  ...             0.0         5.67  15.0   \n",
              "9                     0.0  20.761246  ...             2.0        11.00  18.0   \n",
              "10                    1.0  23.148148  ...             2.0        16.00  19.0   \n",
              "11                    1.0  25.661152  ...             2.0        16.00  15.0   \n",
              "12                    1.0  29.407787  ...             2.0        15.00  11.0   \n",
              "13                    1.0  26.827421  ...             0.0        13.00   9.0   \n",
              "14                    1.0  25.390625  ...             0.0         8.00  12.0   \n",
              "15                    0.0  29.411764  ...             2.0        19.00  14.0   \n",
              "16                    0.0  22.724403  ...             2.0        17.00   8.0   \n",
              "17                    0.0  21.877550  ...             2.0        11.00   8.0   \n",
              "18                    0.0  24.092970  ...             2.0        20.00   7.0   \n",
              "19                    1.0  22.386314  ...             2.0        17.00  13.0   \n",
              "\n",
              "       N     G  PSQI  psqi больше 5  (ТРЕВОГА)Гаиильтон больше 16  \\\n",
              "0   11.0  18.0   6.0            1.0                           0.0   \n",
              "1   25.0  36.0   8.0            1.0                           0.0   \n",
              "2   16.0  23.0   3.0            0.0                           0.0   \n",
              "3   13.0  20.0   6.0            1.0                           0.0   \n",
              "4   13.0  22.0   4.0            0.0                           0.0   \n",
              "5    9.0  21.0   1.0            0.0                           0.0   \n",
              "6   20.0  40.0   8.0            1.0                           1.0   \n",
              "7    7.0  16.0   6.0            1.0                           0.0   \n",
              "8   11.0  28.0   8.0            1.0                           0.0   \n",
              "9    7.0  22.0   7.0            1.0                           0.0   \n",
              "10  13.0  41.0  11.0            1.0                           1.0   \n",
              "11   9.0  26.0   8.0            1.0                           0.0   \n",
              "12  19.0  48.0  10.0            1.0                           1.0   \n",
              "13   7.0  25.0  10.0            1.0                           0.0   \n",
              "14  11.0  23.0   7.0            1.0                           1.0   \n",
              "15  11.0  31.0   5.0            0.0                           0.0   \n",
              "16   9.0  22.0   3.0            0.0                           0.0   \n",
              "17   9.0  24.0   4.0            0.0                           0.0   \n",
              "18   7.0  18.0   2.0            0.0                           0.0   \n",
              "19  12.0  28.0   8.0            1.0                           0.0   \n",
              "\n",
              "    (ДЕПРЕССИЯ)madrs больше 6  (ДЕПРЕССИЯ)Калгари больше 5  \n",
              "0                         0.0                          0.0  \n",
              "1                         1.0                          1.0  \n",
              "2                         0.0                          0.0  \n",
              "3                         0.0                          0.0  \n",
              "4                         0.0                          0.0  \n",
              "5                         0.0                          0.0  \n",
              "6                         1.0                          0.0  \n",
              "7                         0.0                          0.0  \n",
              "8                         0.0                          0.0  \n",
              "9                         0.0                          0.0  \n",
              "10                        1.0                          1.0  \n",
              "11                        0.0                          0.0  \n",
              "12                        1.0                          1.0  \n",
              "13                        1.0                          0.0  \n",
              "14                        1.0                          1.0  \n",
              "15                        0.0                          0.0  \n",
              "16                        0.0                          0.0  \n",
              "17                        0.0                          0.0  \n",
              "18                        0.0                          0.0  \n",
              "19                        1.0                          1.0  \n",
              "\n",
              "[20 rows x 24 columns]"
            ],
            "text/html": [
              "\n",
              "  <div id=\"df-344551fa-c649-4ab6-989d-4b39fe76226e\">\n",
              "    <div class=\"colab-df-container\">\n",
              "      <div>\n",
              "<style scoped>\n",
              "    .dataframe tbody tr th:only-of-type {\n",
              "        vertical-align: middle;\n",
              "    }\n",
              "\n",
              "    .dataframe tbody tr th {\n",
              "        vertical-align: top;\n",
              "    }\n",
              "\n",
              "    .dataframe thead th {\n",
              "        text-align: right;\n",
              "    }\n",
              "</style>\n",
              "<table border=\"1\" class=\"dataframe\">\n",
              "  <thead>\n",
              "    <tr style=\"text-align: right;\">\n",
              "      <th></th>\n",
              "      <th>Пол</th>\n",
              "      <th>Полных лет</th>\n",
              "      <th>Образование(0-начальное, 4-высшее)</th>\n",
              "      <th>Род занятий(0-0, работает-1</th>\n",
              "      <th>Семейное положение(0-0, 1-женат)</th>\n",
              "      <th>Удовлетворенность семеными отношениями</th>\n",
              "      <th>Удовлетворенность материальным положением</th>\n",
              "      <th>Здоровье от 1 до 10</th>\n",
              "      <th>Были ли нарушения сна</th>\n",
              "      <th>ИМТ</th>\n",
              "      <th>...</th>\n",
              "      <th>Частота госпит</th>\n",
              "      <th>Стаж шизофр</th>\n",
              "      <th>P</th>\n",
              "      <th>N</th>\n",
              "      <th>G</th>\n",
              "      <th>PSQI</th>\n",
              "      <th>psqi больше 5</th>\n",
              "      <th>(ТРЕВОГА)Гаиильтон больше 16</th>\n",
              "      <th>(ДЕПРЕССИЯ)madrs больше 6</th>\n",
              "      <th>(ДЕПРЕССИЯ)Калгари больше 5</th>\n",
              "    </tr>\n",
              "  </thead>\n",
              "  <tbody>\n",
              "    <tr>\n",
              "      <th>0</th>\n",
              "      <td>1.0</td>\n",
              "      <td>32.0</td>\n",
              "      <td>4.0</td>\n",
              "      <td>0.0</td>\n",
              "      <td>0.0</td>\n",
              "      <td>5.0</td>\n",
              "      <td>0.0</td>\n",
              "      <td>7.0</td>\n",
              "      <td>1.0</td>\n",
              "      <td>24.012346</td>\n",
              "      <td>...</td>\n",
              "      <td>0.0</td>\n",
              "      <td>3.70</td>\n",
              "      <td>11.0</td>\n",
              "      <td>11.0</td>\n",
              "      <td>18.0</td>\n",
              "      <td>6.0</td>\n",
              "      <td>1.0</td>\n",
              "      <td>0.0</td>\n",
              "      <td>0.0</td>\n",
              "      <td>0.0</td>\n",
              "    </tr>\n",
              "    <tr>\n",
              "      <th>1</th>\n",
              "      <td>1.0</td>\n",
              "      <td>26.0</td>\n",
              "      <td>2.0</td>\n",
              "      <td>0.0</td>\n",
              "      <td>0.0</td>\n",
              "      <td>5.0</td>\n",
              "      <td>0.0</td>\n",
              "      <td>10.0</td>\n",
              "      <td>1.0</td>\n",
              "      <td>20.244898</td>\n",
              "      <td>...</td>\n",
              "      <td>1.0</td>\n",
              "      <td>2.00</td>\n",
              "      <td>10.0</td>\n",
              "      <td>25.0</td>\n",
              "      <td>36.0</td>\n",
              "      <td>8.0</td>\n",
              "      <td>1.0</td>\n",
              "      <td>0.0</td>\n",
              "      <td>1.0</td>\n",
              "      <td>1.0</td>\n",
              "    </tr>\n",
              "    <tr>\n",
              "      <th>2</th>\n",
              "      <td>1.0</td>\n",
              "      <td>49.0</td>\n",
              "      <td>2.0</td>\n",
              "      <td>0.0</td>\n",
              "      <td>0.0</td>\n",
              "      <td>5.0</td>\n",
              "      <td>1.0</td>\n",
              "      <td>10.0</td>\n",
              "      <td>0.0</td>\n",
              "      <td>29.752745</td>\n",
              "      <td>...</td>\n",
              "      <td>2.0</td>\n",
              "      <td>23.00</td>\n",
              "      <td>9.0</td>\n",
              "      <td>16.0</td>\n",
              "      <td>23.0</td>\n",
              "      <td>3.0</td>\n",
              "      <td>0.0</td>\n",
              "      <td>0.0</td>\n",
              "      <td>0.0</td>\n",
              "      <td>0.0</td>\n",
              "    </tr>\n",
              "    <tr>\n",
              "      <th>3</th>\n",
              "      <td>1.0</td>\n",
              "      <td>50.0</td>\n",
              "      <td>2.0</td>\n",
              "      <td>0.0</td>\n",
              "      <td>0.0</td>\n",
              "      <td>5.0</td>\n",
              "      <td>1.0</td>\n",
              "      <td>7.0</td>\n",
              "      <td>1.0</td>\n",
              "      <td>22.093170</td>\n",
              "      <td>...</td>\n",
              "      <td>1.0</td>\n",
              "      <td>34.00</td>\n",
              "      <td>13.0</td>\n",
              "      <td>13.0</td>\n",
              "      <td>20.0</td>\n",
              "      <td>6.0</td>\n",
              "      <td>1.0</td>\n",
              "      <td>0.0</td>\n",
              "      <td>0.0</td>\n",
              "      <td>0.0</td>\n",
              "    </tr>\n",
              "    <tr>\n",
              "      <th>4</th>\n",
              "      <td>1.0</td>\n",
              "      <td>39.0</td>\n",
              "      <td>2.0</td>\n",
              "      <td>0.0</td>\n",
              "      <td>0.0</td>\n",
              "      <td>5.0</td>\n",
              "      <td>1.0</td>\n",
              "      <td>7.0</td>\n",
              "      <td>0.0</td>\n",
              "      <td>20.761246</td>\n",
              "      <td>...</td>\n",
              "      <td>0.0</td>\n",
              "      <td>4.00</td>\n",
              "      <td>9.0</td>\n",
              "      <td>13.0</td>\n",
              "      <td>22.0</td>\n",
              "      <td>4.0</td>\n",
              "      <td>0.0</td>\n",
              "      <td>0.0</td>\n",
              "      <td>0.0</td>\n",
              "      <td>0.0</td>\n",
              "    </tr>\n",
              "    <tr>\n",
              "      <th>5</th>\n",
              "      <td>1.0</td>\n",
              "      <td>26.0</td>\n",
              "      <td>2.0</td>\n",
              "      <td>1.0</td>\n",
              "      <td>1.0</td>\n",
              "      <td>5.0</td>\n",
              "      <td>1.0</td>\n",
              "      <td>10.0</td>\n",
              "      <td>1.0</td>\n",
              "      <td>25.737082</td>\n",
              "      <td>...</td>\n",
              "      <td>2.0</td>\n",
              "      <td>1.00</td>\n",
              "      <td>7.0</td>\n",
              "      <td>9.0</td>\n",
              "      <td>21.0</td>\n",
              "      <td>1.0</td>\n",
              "      <td>0.0</td>\n",
              "      <td>0.0</td>\n",
              "      <td>0.0</td>\n",
              "      <td>0.0</td>\n",
              "    </tr>\n",
              "    <tr>\n",
              "      <th>6</th>\n",
              "      <td>1.0</td>\n",
              "      <td>35.0</td>\n",
              "      <td>3.0</td>\n",
              "      <td>0.0</td>\n",
              "      <td>0.0</td>\n",
              "      <td>5.0</td>\n",
              "      <td>1.0</td>\n",
              "      <td>5.0</td>\n",
              "      <td>0.0</td>\n",
              "      <td>23.547880</td>\n",
              "      <td>...</td>\n",
              "      <td>2.0</td>\n",
              "      <td>12.20</td>\n",
              "      <td>14.0</td>\n",
              "      <td>20.0</td>\n",
              "      <td>40.0</td>\n",
              "      <td>8.0</td>\n",
              "      <td>1.0</td>\n",
              "      <td>1.0</td>\n",
              "      <td>1.0</td>\n",
              "      <td>0.0</td>\n",
              "    </tr>\n",
              "    <tr>\n",
              "      <th>7</th>\n",
              "      <td>1.0</td>\n",
              "      <td>31.0</td>\n",
              "      <td>3.0</td>\n",
              "      <td>0.0</td>\n",
              "      <td>0.0</td>\n",
              "      <td>1.0</td>\n",
              "      <td>0.0</td>\n",
              "      <td>3.0</td>\n",
              "      <td>1.0</td>\n",
              "      <td>26.128611</td>\n",
              "      <td>...</td>\n",
              "      <td>1.0</td>\n",
              "      <td>9.00</td>\n",
              "      <td>7.0</td>\n",
              "      <td>7.0</td>\n",
              "      <td>16.0</td>\n",
              "      <td>6.0</td>\n",
              "      <td>1.0</td>\n",
              "      <td>0.0</td>\n",
              "      <td>0.0</td>\n",
              "      <td>0.0</td>\n",
              "    </tr>\n",
              "    <tr>\n",
              "      <th>8</th>\n",
              "      <td>1.0</td>\n",
              "      <td>23.0</td>\n",
              "      <td>2.0</td>\n",
              "      <td>0.0</td>\n",
              "      <td>0.0</td>\n",
              "      <td>4.0</td>\n",
              "      <td>1.0</td>\n",
              "      <td>7.0</td>\n",
              "      <td>0.0</td>\n",
              "      <td>18.812147</td>\n",
              "      <td>...</td>\n",
              "      <td>0.0</td>\n",
              "      <td>5.67</td>\n",
              "      <td>15.0</td>\n",
              "      <td>11.0</td>\n",
              "      <td>28.0</td>\n",
              "      <td>8.0</td>\n",
              "      <td>1.0</td>\n",
              "      <td>0.0</td>\n",
              "      <td>0.0</td>\n",
              "      <td>0.0</td>\n",
              "    </tr>\n",
              "    <tr>\n",
              "      <th>9</th>\n",
              "      <td>1.0</td>\n",
              "      <td>37.0</td>\n",
              "      <td>3.0</td>\n",
              "      <td>1.0</td>\n",
              "      <td>0.0</td>\n",
              "      <td>5.0</td>\n",
              "      <td>0.0</td>\n",
              "      <td>7.0</td>\n",
              "      <td>0.0</td>\n",
              "      <td>20.761246</td>\n",
              "      <td>...</td>\n",
              "      <td>2.0</td>\n",
              "      <td>11.00</td>\n",
              "      <td>18.0</td>\n",
              "      <td>7.0</td>\n",
              "      <td>22.0</td>\n",
              "      <td>7.0</td>\n",
              "      <td>1.0</td>\n",
              "      <td>0.0</td>\n",
              "      <td>0.0</td>\n",
              "      <td>0.0</td>\n",
              "    </tr>\n",
              "    <tr>\n",
              "      <th>10</th>\n",
              "      <td>1.0</td>\n",
              "      <td>39.0</td>\n",
              "      <td>3.0</td>\n",
              "      <td>1.0</td>\n",
              "      <td>0.0</td>\n",
              "      <td>1.0</td>\n",
              "      <td>0.0</td>\n",
              "      <td>1.0</td>\n",
              "      <td>1.0</td>\n",
              "      <td>23.148148</td>\n",
              "      <td>...</td>\n",
              "      <td>2.0</td>\n",
              "      <td>16.00</td>\n",
              "      <td>19.0</td>\n",
              "      <td>13.0</td>\n",
              "      <td>41.0</td>\n",
              "      <td>11.0</td>\n",
              "      <td>1.0</td>\n",
              "      <td>1.0</td>\n",
              "      <td>1.0</td>\n",
              "      <td>1.0</td>\n",
              "    </tr>\n",
              "    <tr>\n",
              "      <th>11</th>\n",
              "      <td>1.0</td>\n",
              "      <td>29.0</td>\n",
              "      <td>1.0</td>\n",
              "      <td>0.0</td>\n",
              "      <td>0.0</td>\n",
              "      <td>5.0</td>\n",
              "      <td>1.0</td>\n",
              "      <td>10.0</td>\n",
              "      <td>1.0</td>\n",
              "      <td>25.661152</td>\n",
              "      <td>...</td>\n",
              "      <td>2.0</td>\n",
              "      <td>16.00</td>\n",
              "      <td>15.0</td>\n",
              "      <td>9.0</td>\n",
              "      <td>26.0</td>\n",
              "      <td>8.0</td>\n",
              "      <td>1.0</td>\n",
              "      <td>0.0</td>\n",
              "      <td>0.0</td>\n",
              "      <td>0.0</td>\n",
              "    </tr>\n",
              "    <tr>\n",
              "      <th>12</th>\n",
              "      <td>1.0</td>\n",
              "      <td>36.0</td>\n",
              "      <td>4.0</td>\n",
              "      <td>0.0</td>\n",
              "      <td>0.0</td>\n",
              "      <td>1.0</td>\n",
              "      <td>0.0</td>\n",
              "      <td>7.0</td>\n",
              "      <td>1.0</td>\n",
              "      <td>29.407787</td>\n",
              "      <td>...</td>\n",
              "      <td>2.0</td>\n",
              "      <td>15.00</td>\n",
              "      <td>11.0</td>\n",
              "      <td>19.0</td>\n",
              "      <td>48.0</td>\n",
              "      <td>10.0</td>\n",
              "      <td>1.0</td>\n",
              "      <td>1.0</td>\n",
              "      <td>1.0</td>\n",
              "      <td>1.0</td>\n",
              "    </tr>\n",
              "    <tr>\n",
              "      <th>13</th>\n",
              "      <td>1.0</td>\n",
              "      <td>33.0</td>\n",
              "      <td>3.0</td>\n",
              "      <td>1.0</td>\n",
              "      <td>1.0</td>\n",
              "      <td>5.0</td>\n",
              "      <td>1.0</td>\n",
              "      <td>10.0</td>\n",
              "      <td>1.0</td>\n",
              "      <td>26.827421</td>\n",
              "      <td>...</td>\n",
              "      <td>0.0</td>\n",
              "      <td>13.00</td>\n",
              "      <td>9.0</td>\n",
              "      <td>7.0</td>\n",
              "      <td>25.0</td>\n",
              "      <td>10.0</td>\n",
              "      <td>1.0</td>\n",
              "      <td>0.0</td>\n",
              "      <td>1.0</td>\n",
              "      <td>0.0</td>\n",
              "    </tr>\n",
              "    <tr>\n",
              "      <th>14</th>\n",
              "      <td>1.0</td>\n",
              "      <td>24.0</td>\n",
              "      <td>2.0</td>\n",
              "      <td>1.0</td>\n",
              "      <td>0.0</td>\n",
              "      <td>5.0</td>\n",
              "      <td>1.0</td>\n",
              "      <td>5.0</td>\n",
              "      <td>1.0</td>\n",
              "      <td>25.390625</td>\n",
              "      <td>...</td>\n",
              "      <td>0.0</td>\n",
              "      <td>8.00</td>\n",
              "      <td>12.0</td>\n",
              "      <td>11.0</td>\n",
              "      <td>23.0</td>\n",
              "      <td>7.0</td>\n",
              "      <td>1.0</td>\n",
              "      <td>1.0</td>\n",
              "      <td>1.0</td>\n",
              "      <td>1.0</td>\n",
              "    </tr>\n",
              "    <tr>\n",
              "      <th>15</th>\n",
              "      <td>1.0</td>\n",
              "      <td>54.0</td>\n",
              "      <td>4.0</td>\n",
              "      <td>0.0</td>\n",
              "      <td>0.0</td>\n",
              "      <td>2.0</td>\n",
              "      <td>0.0</td>\n",
              "      <td>5.0</td>\n",
              "      <td>0.0</td>\n",
              "      <td>29.411764</td>\n",
              "      <td>...</td>\n",
              "      <td>2.0</td>\n",
              "      <td>19.00</td>\n",
              "      <td>14.0</td>\n",
              "      <td>11.0</td>\n",
              "      <td>31.0</td>\n",
              "      <td>5.0</td>\n",
              "      <td>0.0</td>\n",
              "      <td>0.0</td>\n",
              "      <td>0.0</td>\n",
              "      <td>0.0</td>\n",
              "    </tr>\n",
              "    <tr>\n",
              "      <th>16</th>\n",
              "      <td>1.0</td>\n",
              "      <td>32.0</td>\n",
              "      <td>2.0</td>\n",
              "      <td>0.0</td>\n",
              "      <td>0.0</td>\n",
              "      <td>5.0</td>\n",
              "      <td>1.0</td>\n",
              "      <td>9.0</td>\n",
              "      <td>0.0</td>\n",
              "      <td>22.724403</td>\n",
              "      <td>...</td>\n",
              "      <td>2.0</td>\n",
              "      <td>17.00</td>\n",
              "      <td>8.0</td>\n",
              "      <td>9.0</td>\n",
              "      <td>22.0</td>\n",
              "      <td>3.0</td>\n",
              "      <td>0.0</td>\n",
              "      <td>0.0</td>\n",
              "      <td>0.0</td>\n",
              "      <td>0.0</td>\n",
              "    </tr>\n",
              "    <tr>\n",
              "      <th>17</th>\n",
              "      <td>1.0</td>\n",
              "      <td>29.0</td>\n",
              "      <td>2.0</td>\n",
              "      <td>0.0</td>\n",
              "      <td>0.0</td>\n",
              "      <td>4.0</td>\n",
              "      <td>1.0</td>\n",
              "      <td>10.0</td>\n",
              "      <td>0.0</td>\n",
              "      <td>21.877550</td>\n",
              "      <td>...</td>\n",
              "      <td>2.0</td>\n",
              "      <td>11.00</td>\n",
              "      <td>8.0</td>\n",
              "      <td>9.0</td>\n",
              "      <td>24.0</td>\n",
              "      <td>4.0</td>\n",
              "      <td>0.0</td>\n",
              "      <td>0.0</td>\n",
              "      <td>0.0</td>\n",
              "      <td>0.0</td>\n",
              "    </tr>\n",
              "    <tr>\n",
              "      <th>18</th>\n",
              "      <td>1.0</td>\n",
              "      <td>49.0</td>\n",
              "      <td>2.0</td>\n",
              "      <td>0.0</td>\n",
              "      <td>0.0</td>\n",
              "      <td>4.0</td>\n",
              "      <td>0.0</td>\n",
              "      <td>10.0</td>\n",
              "      <td>0.0</td>\n",
              "      <td>24.092970</td>\n",
              "      <td>...</td>\n",
              "      <td>2.0</td>\n",
              "      <td>20.00</td>\n",
              "      <td>7.0</td>\n",
              "      <td>7.0</td>\n",
              "      <td>18.0</td>\n",
              "      <td>2.0</td>\n",
              "      <td>0.0</td>\n",
              "      <td>0.0</td>\n",
              "      <td>0.0</td>\n",
              "      <td>0.0</td>\n",
              "    </tr>\n",
              "    <tr>\n",
              "      <th>19</th>\n",
              "      <td>1.0</td>\n",
              "      <td>34.0</td>\n",
              "      <td>2.0</td>\n",
              "      <td>1.0</td>\n",
              "      <td>0.0</td>\n",
              "      <td>4.0</td>\n",
              "      <td>0.0</td>\n",
              "      <td>10.0</td>\n",
              "      <td>1.0</td>\n",
              "      <td>22.386314</td>\n",
              "      <td>...</td>\n",
              "      <td>2.0</td>\n",
              "      <td>17.00</td>\n",
              "      <td>13.0</td>\n",
              "      <td>12.0</td>\n",
              "      <td>28.0</td>\n",
              "      <td>8.0</td>\n",
              "      <td>1.0</td>\n",
              "      <td>0.0</td>\n",
              "      <td>1.0</td>\n",
              "      <td>1.0</td>\n",
              "    </tr>\n",
              "  </tbody>\n",
              "</table>\n",
              "<p>20 rows × 24 columns</p>\n",
              "</div>\n",
              "      <button class=\"colab-df-convert\" onclick=\"convertToInteractive('df-344551fa-c649-4ab6-989d-4b39fe76226e')\"\n",
              "              title=\"Convert this dataframe to an interactive table.\"\n",
              "              style=\"display:none;\">\n",
              "        \n",
              "  <svg xmlns=\"http://www.w3.org/2000/svg\" height=\"24px\"viewBox=\"0 0 24 24\"\n",
              "       width=\"24px\">\n",
              "    <path d=\"M0 0h24v24H0V0z\" fill=\"none\"/>\n",
              "    <path d=\"M18.56 5.44l.94 2.06.94-2.06 2.06-.94-2.06-.94-.94-2.06-.94 2.06-2.06.94zm-11 1L8.5 8.5l.94-2.06 2.06-.94-2.06-.94L8.5 2.5l-.94 2.06-2.06.94zm10 10l.94 2.06.94-2.06 2.06-.94-2.06-.94-.94-2.06-.94 2.06-2.06.94z\"/><path d=\"M17.41 7.96l-1.37-1.37c-.4-.4-.92-.59-1.43-.59-.52 0-1.04.2-1.43.59L10.3 9.45l-7.72 7.72c-.78.78-.78 2.05 0 2.83L4 21.41c.39.39.9.59 1.41.59.51 0 1.02-.2 1.41-.59l7.78-7.78 2.81-2.81c.8-.78.8-2.07 0-2.86zM5.41 20L4 18.59l7.72-7.72 1.47 1.35L5.41 20z\"/>\n",
              "  </svg>\n",
              "      </button>\n",
              "      \n",
              "  <style>\n",
              "    .colab-df-container {\n",
              "      display:flex;\n",
              "      flex-wrap:wrap;\n",
              "      gap: 12px;\n",
              "    }\n",
              "\n",
              "    .colab-df-convert {\n",
              "      background-color: #E8F0FE;\n",
              "      border: none;\n",
              "      border-radius: 50%;\n",
              "      cursor: pointer;\n",
              "      display: none;\n",
              "      fill: #1967D2;\n",
              "      height: 32px;\n",
              "      padding: 0 0 0 0;\n",
              "      width: 32px;\n",
              "    }\n",
              "\n",
              "    .colab-df-convert:hover {\n",
              "      background-color: #E2EBFA;\n",
              "      box-shadow: 0px 1px 2px rgba(60, 64, 67, 0.3), 0px 1px 3px 1px rgba(60, 64, 67, 0.15);\n",
              "      fill: #174EA6;\n",
              "    }\n",
              "\n",
              "    [theme=dark] .colab-df-convert {\n",
              "      background-color: #3B4455;\n",
              "      fill: #D2E3FC;\n",
              "    }\n",
              "\n",
              "    [theme=dark] .colab-df-convert:hover {\n",
              "      background-color: #434B5C;\n",
              "      box-shadow: 0px 1px 3px 1px rgba(0, 0, 0, 0.15);\n",
              "      filter: drop-shadow(0px 1px 2px rgba(0, 0, 0, 0.3));\n",
              "      fill: #FFFFFF;\n",
              "    }\n",
              "  </style>\n",
              "\n",
              "      <script>\n",
              "        const buttonEl =\n",
              "          document.querySelector('#df-344551fa-c649-4ab6-989d-4b39fe76226e button.colab-df-convert');\n",
              "        buttonEl.style.display =\n",
              "          google.colab.kernel.accessAllowed ? 'block' : 'none';\n",
              "\n",
              "        async function convertToInteractive(key) {\n",
              "          const element = document.querySelector('#df-344551fa-c649-4ab6-989d-4b39fe76226e');\n",
              "          const dataTable =\n",
              "            await google.colab.kernel.invokeFunction('convertToInteractive',\n",
              "                                                     [key], {});\n",
              "          if (!dataTable) return;\n",
              "\n",
              "          const docLinkHtml = 'Like what you see? Visit the ' +\n",
              "            '<a target=\"_blank\" href=https://colab.research.google.com/notebooks/data_table.ipynb>data table notebook</a>'\n",
              "            + ' to learn more about interactive tables.';\n",
              "          element.innerHTML = '';\n",
              "          dataTable['output_type'] = 'display_data';\n",
              "          await google.colab.output.renderOutput(dataTable, element);\n",
              "          const docLink = document.createElement('div');\n",
              "          docLink.innerHTML = docLinkHtml;\n",
              "          element.appendChild(docLink);\n",
              "        }\n",
              "      </script>\n",
              "    </div>\n",
              "  </div>\n",
              "  "
            ]
          },
          "metadata": {},
          "execution_count": 848
        }
      ]
    },
    {
      "cell_type": "code",
      "source": [
        "X_chi2 # TOP 3 - ИМТ, P, G. TOP 5 - Были ли нарушения сна, забол кожи и топ3"
      ],
      "metadata": {
        "id": "RKzIBlkeNe7M",
        "colab": {
          "base_uri": "https://localhost:8080/"
        },
        "outputId": "2db8590b-2bf9-4e1a-ddb8-4addbb239af6"
      },
      "execution_count": 849,
      "outputs": [
        {
          "output_type": "execute_result",
          "data": {
            "text/plain": [
              "array([[ 7.,  1.,  0., 11., 18.],\n",
              "       [10.,  1.,  0., 10., 36.],\n",
              "       [10.,  0.,  0.,  9., 23.],\n",
              "       [ 7.,  1.,  1., 13., 20.],\n",
              "       [ 7.,  0.,  1.,  9., 22.],\n",
              "       [10.,  1.,  0.,  7., 21.],\n",
              "       [ 5.,  0.,  1., 14., 40.],\n",
              "       [ 3.,  1.,  0.,  7., 16.],\n",
              "       [ 7.,  0.,  1., 15., 28.],\n",
              "       [ 7.,  0.,  0., 18., 22.],\n",
              "       [ 1.,  1.,  1., 19., 41.],\n",
              "       [10.,  1.,  0., 15., 26.],\n",
              "       [ 7.,  1.,  1., 11., 48.],\n",
              "       [10.,  1.,  1.,  9., 25.],\n",
              "       [ 5.,  1.,  1., 12., 23.],\n",
              "       [ 5.,  0.,  0., 14., 31.],\n",
              "       [ 9.,  0.,  0.,  8., 22.],\n",
              "       [10.,  0.,  1.,  8., 24.],\n",
              "       [10.,  0.,  1.,  7., 18.],\n",
              "       [10.,  1.,  1., 13., 28.],\n",
              "       [ 9.,  1.,  0.,  8., 20.],\n",
              "       [10.,  0.,  0.,  7., 16.],\n",
              "       [ 4.,  1.,  1.,  8., 22.],\n",
              "       [10.,  0.,  0.,  8., 25.],\n",
              "       [ 5.,  1.,  0., 22., 37.],\n",
              "       [ 7.,  1.,  0., 11., 35.],\n",
              "       [ 7.,  0.,  0., 15., 31.],\n",
              "       [ 7.,  1.,  1., 13., 23.],\n",
              "       [ 9.,  1.,  1., 13., 30.],\n",
              "       [ 9.,  1.,  1., 10., 25.],\n",
              "       [ 9.,  0.,  1., 11., 18.],\n",
              "       [ 5.,  0.,  1., 13., 24.],\n",
              "       [ 2.,  0.,  0., 10., 31.],\n",
              "       [ 9.,  0.,  1., 13., 27.],\n",
              "       [10.,  1.,  1., 14., 27.],\n",
              "       [ 8.,  1.,  1.,  8., 28.],\n",
              "       [ 8.,  1.,  1., 12., 23.],\n",
              "       [ 7.,  1.,  1., 10., 29.],\n",
              "       [ 1.,  0.,  0., 22., 43.],\n",
              "       [ 7.,  1.,  1., 18., 33.],\n",
              "       [ 9.,  1.,  0., 17., 25.],\n",
              "       [ 9.,  0.,  0., 20., 30.],\n",
              "       [ 8.,  1.,  1., 17., 19.],\n",
              "       [10.,  0.,  0.,  9., 21.],\n",
              "       [10.,  1.,  1., 22., 36.],\n",
              "       [10.,  0.,  1., 11., 24.],\n",
              "       [ 9.,  1.,  0., 11., 22.],\n",
              "       [ 9.,  0.,  1.,  7., 16.],\n",
              "       [ 8.,  1.,  0., 10., 34.],\n",
              "       [10.,  0.,  1.,  7., 18.],\n",
              "       [ 8.,  0.,  1., 20., 35.],\n",
              "       [10.,  1.,  0., 18., 25.],\n",
              "       [10.,  0.,  1.,  7., 22.],\n",
              "       [10.,  0.,  1., 12., 25.],\n",
              "       [10.,  0.,  0.,  7., 22.],\n",
              "       [10.,  1.,  1., 11., 28.],\n",
              "       [10.,  1.,  1.,  7., 18.],\n",
              "       [10.,  0.,  0.,  9., 19.],\n",
              "       [10.,  0.,  0.,  7., 18.],\n",
              "       [ 6.,  0.,  0., 10., 21.],\n",
              "       [ 8.,  0.,  1.,  9., 18.],\n",
              "       [10.,  1.,  0.,  7., 18.],\n",
              "       [ 6.,  1.,  1., 17., 34.],\n",
              "       [ 9.,  1.,  1., 15., 20.],\n",
              "       [10.,  0.,  0., 11., 29.],\n",
              "       [ 6.,  1.,  1., 20., 32.],\n",
              "       [10.,  1.,  0., 15., 42.],\n",
              "       [ 3.,  1.,  1., 10., 26.],\n",
              "       [ 8.,  1.,  0., 10., 26.],\n",
              "       [ 7.,  1.,  1., 15., 31.],\n",
              "       [ 7.,  0.,  0.,  7., 23.],\n",
              "       [ 2.,  1.,  0.,  7., 30.],\n",
              "       [10.,  1.,  0.,  7., 24.],\n",
              "       [ 9.,  1.,  0.,  9., 18.],\n",
              "       [ 9.,  1.,  1.,  7., 18.],\n",
              "       [10.,  0.,  0., 16., 29.],\n",
              "       [ 6.,  0.,  0., 18., 32.],\n",
              "       [ 7.,  0.,  1.,  7., 25.],\n",
              "       [ 3.,  1.,  0., 28., 43.],\n",
              "       [ 8.,  0.,  0., 10., 21.],\n",
              "       [10.,  1.,  0.,  9., 27.],\n",
              "       [ 8.,  1.,  1., 14., 26.],\n",
              "       [10.,  1.,  0., 11., 28.],\n",
              "       [10.,  0.,  1.,  7., 24.],\n",
              "       [10.,  1.,  1.,  7., 16.],\n",
              "       [10.,  1.,  1.,  7., 16.],\n",
              "       [ 8.,  1.,  0.,  8., 23.],\n",
              "       [ 9.,  1.,  0.,  7., 24.],\n",
              "       [10.,  1.,  0.,  7., 18.],\n",
              "       [10.,  1.,  1.,  7., 21.],\n",
              "       [ 5.,  1.,  1.,  7., 18.],\n",
              "       [10.,  0.,  0., 17., 34.],\n",
              "       [ 5.,  0.,  1., 21., 28.],\n",
              "       [10.,  1.,  0.,  7., 30.],\n",
              "       [10.,  1.,  1.,  7., 16.],\n",
              "       [ 3.,  1.,  1., 14., 25.],\n",
              "       [10.,  0.,  0.,  7., 16.],\n",
              "       [ 7.,  0.,  0., 14., 20.],\n",
              "       [10.,  1.,  1., 20., 22.],\n",
              "       [10.,  0.,  0., 10., 26.],\n",
              "       [ 8.,  1.,  1.,  9., 17.],\n",
              "       [ 7.,  1.,  0.,  9., 18.],\n",
              "       [10.,  0.,  0.,  7., 18.],\n",
              "       [10.,  0.,  0.,  7., 18.],\n",
              "       [ 5.,  1.,  1., 25., 16.],\n",
              "       [ 9.,  1.,  1., 15., 18.],\n",
              "       [ 9.,  1.,  0., 10., 20.],\n",
              "       [ 8.,  0.,  0., 15., 35.],\n",
              "       [ 9.,  0.,  0., 15., 31.],\n",
              "       [ 9.,  1.,  1., 14., 30.],\n",
              "       [ 9.,  0.,  0.,  7., 16.],\n",
              "       [10.,  1.,  0.,  7., 20.],\n",
              "       [ 3.,  0.,  1., 13., 25.],\n",
              "       [ 9.,  1.,  1.,  7., 20.],\n",
              "       [ 8.,  1.,  0.,  7., 19.],\n",
              "       [ 5.,  1.,  1.,  9., 30.],\n",
              "       [ 7.,  0.,  0.,  9., 25.],\n",
              "       [10.,  0.,  0.,  7., 22.],\n",
              "       [10.,  1.,  0.,  7., 19.],\n",
              "       [10.,  1.,  1.,  9., 29.],\n",
              "       [ 7.,  1.,  0., 15., 30.],\n",
              "       [ 8.,  0.,  0., 10., 19.],\n",
              "       [ 6.,  1.,  0., 16., 33.],\n",
              "       [ 5.,  1.,  0., 14., 38.],\n",
              "       [ 9.,  1.,  1., 10., 29.],\n",
              "       [ 5.,  1.,  0., 20., 44.],\n",
              "       [ 8.,  1.,  0., 25., 49.],\n",
              "       [ 8.,  0.,  0., 11., 24.],\n",
              "       [ 5.,  1.,  0., 10., 33.],\n",
              "       [ 7.,  1.,  1.,  8., 25.],\n",
              "       [ 7.,  0.,  1.,  9., 32.],\n",
              "       [ 7.,  1.,  1., 11., 28.],\n",
              "       [ 8.,  1.,  0.,  9., 31.],\n",
              "       [ 7.,  0.,  0., 25., 44.],\n",
              "       [ 5.,  1.,  0., 16., 39.],\n",
              "       [10.,  0.,  0., 18., 25.],\n",
              "       [ 6.,  0.,  0.,  9., 26.],\n",
              "       [ 5.,  1.,  1., 24., 44.],\n",
              "       [10.,  1.,  0., 14., 35.],\n",
              "       [ 8.,  1.,  0., 10., 38.],\n",
              "       [ 5.,  1.,  0., 15., 34.],\n",
              "       [ 8.,  1.,  0.,  7., 28.],\n",
              "       [ 7.,  0.,  0., 15., 33.],\n",
              "       [ 5.,  0.,  1., 12., 28.],\n",
              "       [ 8.,  1.,  0., 17., 28.],\n",
              "       [10.,  1.,  0.,  9., 24.],\n",
              "       [ 8.,  1.,  0., 17., 25.],\n",
              "       [ 5.,  0.,  0., 24., 42.],\n",
              "       [ 6.,  1.,  0., 11., 35.],\n",
              "       [ 9.,  0.,  0.,  9., 36.],\n",
              "       [ 1.,  1.,  1., 20., 41.],\n",
              "       [ 8.,  1.,  1., 17., 23.],\n",
              "       [ 7.,  1.,  0., 11., 34.],\n",
              "       [ 1.,  0.,  1., 21., 52.],\n",
              "       [ 8.,  0.,  0.,  7., 22.],\n",
              "       [ 8.,  0.,  0.,  9., 21.],\n",
              "       [ 9.,  1.,  0., 20., 46.],\n",
              "       [ 7.,  1.,  1., 11., 29.],\n",
              "       [ 5.,  1.,  1., 18., 41.],\n",
              "       [ 3.,  0.,  1., 26., 38.],\n",
              "       [ 4.,  1.,  0., 21., 49.],\n",
              "       [10.,  1.,  1.,  7., 22.],\n",
              "       [ 6.,  1.,  1.,  8., 17.],\n",
              "       [10.,  1.,  1.,  9., 16.],\n",
              "       [ 9.,  1.,  1., 18., 16.],\n",
              "       [10.,  0.,  1.,  7., 16.],\n",
              "       [10.,  1.,  1., 18., 21.],\n",
              "       [ 6.,  0.,  0., 32., 56.],\n",
              "       [ 9.,  0.,  1., 25., 32.],\n",
              "       [10.,  1.,  0.,  7., 16.],\n",
              "       [ 7.,  1.,  1., 19., 31.],\n",
              "       [ 9.,  1.,  1., 10., 23.],\n",
              "       [10.,  1.,  0.,  7., 27.],\n",
              "       [ 9.,  1.,  1., 14., 21.],\n",
              "       [10.,  1.,  1.,  7., 28.]], dtype=float32)"
            ]
          },
          "metadata": {},
          "execution_count": 849
        }
      ]
    },
    {
      "cell_type": "markdown",
      "source": [
        "ANOVA"
      ],
      "metadata": {
        "id": "wVd6jE3hZslG"
      }
    },
    {
      "cell_type": "code",
      "source": [
        "univariate = f_classif(X, y)\n",
        "univariate"
      ],
      "metadata": {
        "id": "EUMyT5pBZnG7",
        "outputId": "cacdc5f1-f139-4149-b810-e04394ed66ec",
        "colab": {
          "base_uri": "https://localhost:8080/"
        }
      },
      "execution_count": 850,
      "outputs": [
        {
          "output_type": "execute_result",
          "data": {
            "text/plain": [
              "(array([3.6212697e+00, 1.1628228e-01, 0.0000000e+00, 2.4870960e-01,\n",
              "        1.6109158e-01, 1.0520712e-02, 1.7331967e+00, 4.1912050e+00,\n",
              "        1.3949199e+01, 1.1808826e-02, 2.1281385e+00, 1.0316648e+00,\n",
              "        5.0901812e-01, 3.2690009e-01, 1.6404298e-01, 3.6380683e-05,\n",
              "        7.6243281e+00, 2.7182183e-01, 7.7019234e+00], dtype=float32),\n",
              " array([5.8706161e-02, 7.3351598e-01, 1.0000000e+00, 6.1861867e-01,\n",
              "        6.8864882e-01, 9.1842264e-01, 1.8974462e-01, 4.2146448e-02,\n",
              "        2.5474589e-04, 9.1359144e-01, 1.4642949e-01, 3.1118634e-01,\n",
              "        4.7652555e-01, 5.6823230e-01, 6.8596160e-01, 9.9519444e-01,\n",
              "        6.3802483e-03, 6.0277903e-01, 6.1230245e-03], dtype=float32))"
            ]
          },
          "metadata": {},
          "execution_count": 850
        }
      ]
    },
    {
      "cell_type": "code",
      "source": [
        "# The 2nd values are the PValue and we capture those below\n",
        "univariate = pd.Series(univariate[1])\n",
        "univariate.index = X.columns\n",
        "univariate.sort_values(ascending=False).plot.bar(figsize=(20,6))"
      ],
      "metadata": {
        "id": "b9wq1WrOZzPA",
        "outputId": "d4f581b1-3dcc-4232-f618-36263128566d",
        "colab": {
          "base_uri": "https://localhost:8080/",
          "height": 636
        }
      },
      "execution_count": 851,
      "outputs": [
        {
          "output_type": "execute_result",
          "data": {
            "text/plain": [
              "<matplotlib.axes._subplots.AxesSubplot at 0x7f6634231250>"
            ]
          },
          "metadata": {},
          "execution_count": 851
        },
        {
          "output_type": "display_data",
          "data": {
            "text/plain": [
              "<Figure size 1440x432 with 1 Axes>"
            ],
            "image/png": "[encoded data removed]"
          },
          "metadata": {
            "needs_background": "light"
          }
        }
      ]
    },
    {
      "cell_type": "code",
      "source": [
        "# Get TOP 5 features\n",
        "sel_ = SelectKBest(f_classif, k=5).fit(X, y)\n",
        "X.columns[sel_.get_support()]"
      ],
      "metadata": {
        "id": "BIbA_QH2aNMQ",
        "outputId": "4714e4b2-e615-42ce-dc02-0b8a26135dc7",
        "colab": {
          "base_uri": "https://localhost:8080/"
        }
      },
      "execution_count": 852,
      "outputs": [
        {
          "output_type": "execute_result",
          "data": {
            "text/plain": [
              "Index(['Пол', 'Здоровье от 1 до 10', 'Были ли нарушения сна', 'P', 'G'], dtype='object')"
            ]
          },
          "metadata": {},
          "execution_count": 852
        }
      ]
    },
    {
      "cell_type": "code",
      "source": [
        ""
      ],
      "metadata": {
        "id": "I90-1SNSaPPg"
      },
      "execution_count": 852,
      "outputs": []
    },
    {
      "cell_type": "code",
      "source": [
        ""
      ],
      "metadata": {
        "id": "Lmy3RTQzZzxL"
      },
      "execution_count": 852,
      "outputs": []
    },
    {
      "cell_type": "code",
      "source": [
        "X_anova # TOP 3 - Были ли нарушения сна, P, G"
      ],
      "metadata": {
        "id": "RDWO9sN0O0xs",
        "colab": {
          "base_uri": "https://localhost:8080/"
        },
        "outputId": "1f12a118-8986-44c8-cb08-1a98d5251968"
      },
      "execution_count": 853,
      "outputs": [
        {
          "output_type": "execute_result",
          "data": {
            "text/plain": [
              "array([[ 1.,  7.,  1., 11., 18.],\n",
              "       [ 1., 10.,  1., 10., 36.],\n",
              "       [ 1., 10.,  0.,  9., 23.],\n",
              "       [ 1.,  7.,  1., 13., 20.],\n",
              "       [ 1.,  7.,  0.,  9., 22.],\n",
              "       [ 1., 10.,  1.,  7., 21.],\n",
              "       [ 1.,  5.,  0., 14., 40.],\n",
              "       [ 1.,  3.,  1.,  7., 16.],\n",
              "       [ 1.,  7.,  0., 15., 28.],\n",
              "       [ 1.,  7.,  0., 18., 22.],\n",
              "       [ 1.,  1.,  1., 19., 41.],\n",
              "       [ 1., 10.,  1., 15., 26.],\n",
              "       [ 1.,  7.,  1., 11., 48.],\n",
              "       [ 1., 10.,  1.,  9., 25.],\n",
              "       [ 1.,  5.,  1., 12., 23.],\n",
              "       [ 1.,  5.,  0., 14., 31.],\n",
              "       [ 1.,  9.,  0.,  8., 22.],\n",
              "       [ 1., 10.,  0.,  8., 24.],\n",
              "       [ 1., 10.,  0.,  7., 18.],\n",
              "       [ 1., 10.,  1., 13., 28.],\n",
              "       [ 1.,  9.,  1.,  8., 20.],\n",
              "       [ 1., 10.,  0.,  7., 16.],\n",
              "       [ 1.,  4.,  1.,  8., 22.],\n",
              "       [ 1., 10.,  0.,  8., 25.],\n",
              "       [ 1.,  5.,  1., 22., 37.],\n",
              "       [ 1.,  7.,  1., 11., 35.],\n",
              "       [ 1.,  7.,  0., 15., 31.],\n",
              "       [ 1.,  7.,  1., 13., 23.],\n",
              "       [ 1.,  9.,  1., 13., 30.],\n",
              "       [ 1.,  9.,  1., 10., 25.],\n",
              "       [ 1.,  9.,  0., 11., 18.],\n",
              "       [ 1.,  5.,  0., 13., 24.],\n",
              "       [ 1.,  2.,  0., 10., 31.],\n",
              "       [ 1.,  9.,  0., 13., 27.],\n",
              "       [ 1., 10.,  1., 14., 27.],\n",
              "       [ 1.,  8.,  1.,  8., 28.],\n",
              "       [ 1.,  8.,  1., 12., 23.],\n",
              "       [ 1.,  7.,  1., 10., 29.],\n",
              "       [ 0.,  1.,  0., 22., 43.],\n",
              "       [ 0.,  7.,  1., 18., 33.],\n",
              "       [ 0.,  9.,  1., 17., 25.],\n",
              "       [ 0.,  9.,  0., 20., 30.],\n",
              "       [ 0.,  8.,  1., 17., 19.],\n",
              "       [ 0., 10.,  0.,  9., 21.],\n",
              "       [ 0., 10.,  1., 22., 36.],\n",
              "       [ 0., 10.,  0., 11., 24.],\n",
              "       [ 0.,  9.,  1., 11., 22.],\n",
              "       [ 0.,  9.,  0.,  7., 16.],\n",
              "       [ 0.,  8.,  1., 10., 34.],\n",
              "       [ 1., 10.,  0.,  7., 18.],\n",
              "       [ 1.,  8.,  0., 20., 35.],\n",
              "       [ 1., 10.,  1., 18., 25.],\n",
              "       [ 1., 10.,  0.,  7., 22.],\n",
              "       [ 1., 10.,  0., 12., 25.],\n",
              "       [ 1., 10.,  0.,  7., 22.],\n",
              "       [ 1., 10.,  1., 11., 28.],\n",
              "       [ 1., 10.,  1.,  7., 18.],\n",
              "       [ 1., 10.,  0.,  9., 19.],\n",
              "       [ 1., 10.,  0.,  7., 18.],\n",
              "       [ 1.,  6.,  0., 10., 21.],\n",
              "       [ 1.,  8.,  0.,  9., 18.],\n",
              "       [ 1., 10.,  1.,  7., 18.],\n",
              "       [ 1.,  6.,  1., 17., 34.],\n",
              "       [ 1.,  9.,  1., 15., 20.],\n",
              "       [ 1., 10.,  0., 11., 29.],\n",
              "       [ 1.,  6.,  1., 20., 32.],\n",
              "       [ 1., 10.,  1., 15., 42.],\n",
              "       [ 0.,  3.,  1., 10., 26.],\n",
              "       [ 1.,  8.,  1., 10., 26.],\n",
              "       [ 0.,  7.,  1., 15., 31.],\n",
              "       [ 1.,  7.,  0.,  7., 23.],\n",
              "       [ 0.,  2.,  1.,  7., 30.],\n",
              "       [ 0., 10.,  1.,  7., 24.],\n",
              "       [ 0.,  9.,  1.,  9., 18.],\n",
              "       [ 0.,  9.,  1.,  7., 18.],\n",
              "       [ 0., 10.,  0., 16., 29.],\n",
              "       [ 0.,  6.,  0., 18., 32.],\n",
              "       [ 0.,  7.,  0.,  7., 25.],\n",
              "       [ 0.,  3.,  1., 28., 43.],\n",
              "       [ 1.,  8.,  0., 10., 21.],\n",
              "       [ 1., 10.,  1.,  9., 27.],\n",
              "       [ 0.,  8.,  1., 14., 26.],\n",
              "       [ 0., 10.,  1., 11., 28.],\n",
              "       [ 0., 10.,  0.,  7., 24.],\n",
              "       [ 0., 10.,  1.,  7., 16.],\n",
              "       [ 0., 10.,  1.,  7., 16.],\n",
              "       [ 0.,  8.,  1.,  8., 23.],\n",
              "       [ 0.,  9.,  1.,  7., 24.],\n",
              "       [ 0., 10.,  1.,  7., 18.],\n",
              "       [ 0., 10.,  1.,  7., 21.],\n",
              "       [ 0.,  5.,  1.,  7., 18.],\n",
              "       [ 0., 10.,  0., 17., 34.],\n",
              "       [ 1.,  5.,  0., 21., 28.],\n",
              "       [ 0., 10.,  1.,  7., 30.],\n",
              "       [ 1., 10.,  1.,  7., 16.],\n",
              "       [ 1.,  3.,  1., 14., 25.],\n",
              "       [ 0., 10.,  0.,  7., 16.],\n",
              "       [ 1.,  7.,  0., 14., 20.],\n",
              "       [ 1., 10.,  1., 20., 22.],\n",
              "       [ 1., 10.,  0., 10., 26.],\n",
              "       [ 1.,  8.,  1.,  9., 17.],\n",
              "       [ 1.,  7.,  1.,  9., 18.],\n",
              "       [ 1., 10.,  0.,  7., 18.],\n",
              "       [ 1., 10.,  0.,  7., 18.],\n",
              "       [ 1.,  5.,  1., 25., 16.],\n",
              "       [ 1.,  9.,  1., 15., 18.],\n",
              "       [ 1.,  9.,  1., 10., 20.],\n",
              "       [ 1.,  8.,  0., 15., 35.],\n",
              "       [ 1.,  9.,  0., 15., 31.],\n",
              "       [ 1.,  9.,  1., 14., 30.],\n",
              "       [ 1.,  9.,  0.,  7., 16.],\n",
              "       [ 1., 10.,  1.,  7., 20.],\n",
              "       [ 1.,  3.,  0., 13., 25.],\n",
              "       [ 1.,  9.,  1.,  7., 20.],\n",
              "       [ 1.,  8.,  1.,  7., 19.],\n",
              "       [ 1.,  5.,  1.,  9., 30.],\n",
              "       [ 1.,  7.,  0.,  9., 25.],\n",
              "       [ 1., 10.,  0.,  7., 22.],\n",
              "       [ 1., 10.,  1.,  7., 19.],\n",
              "       [ 1., 10.,  1.,  9., 29.],\n",
              "       [ 1.,  7.,  1., 15., 30.],\n",
              "       [ 0.,  8.,  0., 10., 19.],\n",
              "       [ 0.,  6.,  1., 16., 33.],\n",
              "       [ 1.,  5.,  1., 14., 38.],\n",
              "       [ 1.,  9.,  1., 10., 29.],\n",
              "       [ 1.,  5.,  1., 20., 44.],\n",
              "       [ 1.,  8.,  1., 25., 49.],\n",
              "       [ 1.,  8.,  0., 11., 24.],\n",
              "       [ 1.,  5.,  1., 10., 33.],\n",
              "       [ 1.,  7.,  1.,  8., 25.],\n",
              "       [ 1.,  7.,  0.,  9., 32.],\n",
              "       [ 1.,  7.,  1., 11., 28.],\n",
              "       [ 1.,  8.,  1.,  9., 31.],\n",
              "       [ 1.,  7.,  0., 25., 44.],\n",
              "       [ 0.,  5.,  1., 16., 39.],\n",
              "       [ 1., 10.,  0., 18., 25.],\n",
              "       [ 1.,  6.,  0.,  9., 26.],\n",
              "       [ 1.,  5.,  1., 24., 44.],\n",
              "       [ 1., 10.,  1., 14., 35.],\n",
              "       [ 1.,  8.,  1., 10., 38.],\n",
              "       [ 1.,  5.,  1., 15., 34.],\n",
              "       [ 1.,  8.,  1.,  7., 28.],\n",
              "       [ 1.,  7.,  0., 15., 33.],\n",
              "       [ 1.,  5.,  0., 12., 28.],\n",
              "       [ 1.,  8.,  1., 17., 28.],\n",
              "       [ 1., 10.,  1.,  9., 24.],\n",
              "       [ 1.,  8.,  1., 17., 25.],\n",
              "       [ 1.,  5.,  0., 24., 42.],\n",
              "       [ 1.,  6.,  1., 11., 35.],\n",
              "       [ 1.,  9.,  0.,  9., 36.],\n",
              "       [ 1.,  1.,  1., 20., 41.],\n",
              "       [ 1.,  8.,  1., 17., 23.],\n",
              "       [ 1.,  7.,  1., 11., 34.],\n",
              "       [ 1.,  1.,  0., 21., 52.],\n",
              "       [ 1.,  8.,  0.,  7., 22.],\n",
              "       [ 1.,  8.,  0.,  9., 21.],\n",
              "       [ 1.,  9.,  1., 20., 46.],\n",
              "       [ 1.,  7.,  1., 11., 29.],\n",
              "       [ 0.,  5.,  1., 18., 41.],\n",
              "       [ 0.,  3.,  0., 26., 38.],\n",
              "       [ 0.,  4.,  1., 21., 49.],\n",
              "       [ 0., 10.,  1.,  7., 22.],\n",
              "       [ 0.,  6.,  1.,  8., 17.],\n",
              "       [ 0., 10.,  1.,  9., 16.],\n",
              "       [ 1.,  9.,  1., 18., 16.],\n",
              "       [ 1., 10.,  0.,  7., 16.],\n",
              "       [ 1., 10.,  1., 18., 21.],\n",
              "       [ 1.,  6.,  0., 32., 56.],\n",
              "       [ 1.,  9.,  0., 25., 32.],\n",
              "       [ 1., 10.,  1.,  7., 16.],\n",
              "       [ 1.,  7.,  1., 19., 31.],\n",
              "       [ 1.,  9.,  1., 10., 23.],\n",
              "       [ 1., 10.,  1.,  7., 27.],\n",
              "       [ 1.,  9.,  1., 14., 21.],\n",
              "       [ 1., 10.,  1.,  7., 28.]], dtype=float32)"
            ]
          },
          "metadata": {},
          "execution_count": 853
        }
      ]
    },
    {
      "cell_type": "code",
      "source": [
        ""
      ],
      "metadata": {
        "id": "F21u74y3UP6q"
      },
      "execution_count": 853,
      "outputs": []
    },
    {
      "cell_type": "code",
      "source": [
        "# Find 4 best predictors witn scalied data\n",
        "\n",
        "from sklearn.preprocessing import MinMaxScaler\n",
        "minmax_scaler = MinMaxScaler()\n",
        "\n",
        "X_scaled = minmax_scaler.fit_transform(X)\n",
        "X_chi2_scaled = SelectKBest(chi2, k=4).fit_transform(X_scaled, y)\n",
        "X_anova_scaled = SelectKBest(f_classif, k=4).fit_transform(X_scaled, y)"
      ],
      "metadata": {
        "id": "023I6vdtNf5b"
      },
      "execution_count": 854,
      "outputs": []
    },
    {
      "cell_type": "code",
      "source": [
        ""
      ],
      "metadata": {
        "id": "MUHcI8Zz8msw"
      },
      "execution_count": 854,
      "outputs": []
    },
    {
      "cell_type": "code",
      "source": [
        ""
      ],
      "metadata": {
        "id": "w4TOf6Gl8nDv"
      },
      "execution_count": 854,
      "outputs": []
    },
    {
      "cell_type": "code",
      "source": [
        ""
      ],
      "metadata": {
        "id": "hknAxieW8nHC"
      },
      "execution_count": 854,
      "outputs": []
    },
    {
      "cell_type": "code",
      "source": [
        "f_score_scaled = chi2(X_scaled, y)\n",
        "f_score_scaled\n",
        "# The first array is the F_score , 2nd one is the P_values\n",
        "# the smaller the P value the more significant the difference in the features"
      ],
      "metadata": {
        "colab": {
          "base_uri": "https://localhost:8080/"
        },
        "id": "14mLv1Rcgpcb",
        "outputId": "c9dd8633-c639-4fcc-fcf9-2f80a8408a76"
      },
      "execution_count": 855,
      "outputs": [
        {
          "output_type": "execute_result",
          "data": {
            "text/plain": [
              "(array([8.81632874e-01, 1.50330947e-02, 4.24027991e-06, 2.06719560e-01,\n",
              "        1.45127179e-01, 2.05485415e-03, 7.04258205e-01, 3.56339576e-01,\n",
              "        4.99920218e+00, 9.13889215e-04, 1.13012241e+00, 3.73821515e-01,\n",
              "        2.75761783e-01, 1.77243336e-02, 7.44528063e-02, 5.87319075e-07,\n",
              "        1.56535759e+00, 4.29520792e-02, 1.19095746e+00]),\n",
              " array([0.34775484, 0.90241631, 0.998357  , 0.64935082, 0.70323619,\n",
              "        0.96384388, 0.40135656, 0.5505462 , 0.02535901, 0.97588314,\n",
              "        0.28774923, 0.54092855, 0.59949265, 0.89408838, 0.78496052,\n",
              "        0.99938853, 0.21088249, 0.83581553, 0.27513651]))"
            ]
          },
          "metadata": {},
          "execution_count": 855
        }
      ]
    },
    {
      "cell_type": "code",
      "source": [
        "pvalues = pd.Series(f_score_scaled[1])\n",
        "pvalues.index = X.columns\n",
        "pvalues.sort_values(ascending=True)"
      ],
      "metadata": {
        "colab": {
          "base_uri": "https://localhost:8080/"
        },
        "id": "dvYgWRBqgtKI",
        "outputId": "30f20f62-0397-4200-f563-c5a992c10611"
      },
      "execution_count": 856,
      "outputs": [
        {
          "output_type": "execute_result",
          "data": {
            "text/plain": [
              "Были ли нарушения сна                        0.025359\n",
              "P                                            0.210882\n",
              "G                                            0.275137\n",
              "Операции                                     0.287749\n",
              "Пол                                          0.347755\n",
              "Удовлетворенность материальным положением    0.401357\n",
              "ЧМТ                                          0.540929\n",
              "Здоровье от 1 до 10                          0.550546\n",
              "Насл отягощенность                           0.599493\n",
              "Род занятий(0-0, работает-1                  0.649351\n",
              "Семейное положение(0-0, 1-женат)             0.703236\n",
              "Частота госпит                               0.784961\n",
              "N                                            0.835816\n",
              "Дебют                                        0.894088\n",
              "Полных лет                                   0.902416\n",
              "Удовлетворенность семеными отношениями       0.963844\n",
              "ИМТ                                          0.975883\n",
              "Образование(0-начальное, 4-высшее)           0.998357\n",
              "Стаж шизофр                                  0.999389\n",
              "dtype: float64"
            ]
          },
          "metadata": {},
          "execution_count": 856
        }
      ]
    },
    {
      "cell_type": "code",
      "source": [
        "# Now use the SelectKBest Model with the chi2 classifier to find the best features\n",
        "\n",
        "sel_ = SelectKBest(chi2, k=5).fit(X_scaled, y)\n",
        "X.columns[sel_.get_support()]"
      ],
      "metadata": {
        "colab": {
          "base_uri": "https://localhost:8080/"
        },
        "id": "rm1xMp0jgz-e",
        "outputId": "068147d1-f7b4-416c-a3e8-0c077c77d79e"
      },
      "execution_count": 857,
      "outputs": [
        {
          "output_type": "execute_result",
          "data": {
            "text/plain": [
              "Index(['Пол', 'Были ли нарушения сна', 'Операции', 'P', 'G'], dtype='object')"
            ]
          },
          "metadata": {},
          "execution_count": 857
        }
      ]
    },
    {
      "cell_type": "code",
      "source": [
        ""
      ],
      "metadata": {
        "id": "rOW1fDJzhImX"
      },
      "execution_count": 857,
      "outputs": []
    },
    {
      "cell_type": "markdown",
      "source": [
        "ANOVA"
      ],
      "metadata": {
        "id": "YBuG7ukDhFuX"
      }
    },
    {
      "cell_type": "code",
      "source": [
        "univariate_scaled = f_classif(X_scaled, y)\n",
        "univariate_scaled"
      ],
      "metadata": {
        "id": "OwBx45LZhG-8",
        "outputId": "b24f8e83-fcdc-4fb9-e333-1f51c7036c4f",
        "colab": {
          "base_uri": "https://localhost:8080/"
        }
      },
      "execution_count": 858,
      "outputs": [
        {
          "output_type": "execute_result",
          "data": {
            "text/plain": [
              "(array([ 3.62126970e+00,  1.16262905e-01,  0.00000000e+00,  2.48709604e-01,\n",
              "         1.61091581e-01,  1.05766766e-02,  1.73319674e+00,  4.19083738e+00,\n",
              "         1.39491987e+01,  1.14049437e-02,  2.12813854e+00,  1.03166485e+00,\n",
              "         5.09018123e-01,  3.27133834e-01,  1.64042979e-01, -2.91374363e-05,\n",
              "         7.62430048e+00,  2.71821856e-01,  7.70179749e+00], dtype=float32),\n",
              " array([5.8706161e-02, 7.3353732e-01, 1.0000000e+00, 6.1861867e-01,\n",
              "        6.8864882e-01, 9.1820669e-01, 1.8974462e-01, 4.2155363e-02,\n",
              "        2.5474589e-04, 9.1507620e-01, 1.4642949e-01, 3.1118634e-01,\n",
              "        4.7652555e-01, 5.6809413e-01, 6.8596160e-01,           nan,\n",
              "        6.3803419e-03, 6.0277903e-01, 6.1234334e-03], dtype=float32))"
            ]
          },
          "metadata": {},
          "execution_count": 858
        }
      ]
    },
    {
      "cell_type": "code",
      "source": [
        "# The 2nd values are the PValue and we capture those below\n",
        "univariate_scaled = pd.Series(univariate_scaled[1])\n",
        "univariate_scaled.index = X.columns\n",
        "univariate_scaled.sort_values(ascending=False).plot.bar(figsize=(20,6))"
      ],
      "metadata": {
        "id": "djLNEHfThKKz",
        "outputId": "9daa3fd1-7238-4f98-b373-a4b25efb3a38",
        "colab": {
          "base_uri": "https://localhost:8080/",
          "height": 636
        }
      },
      "execution_count": 859,
      "outputs": [
        {
          "output_type": "execute_result",
          "data": {
            "text/plain": [
              "<matplotlib.axes._subplots.AxesSubplot at 0x7f663836ebd0>"
            ]
          },
          "metadata": {},
          "execution_count": 859
        },
        {
          "output_type": "display_data",
          "data": {
            "text/plain": [
              "<Figure size 1440x432 with 1 Axes>"
            ],
            "image/png": "[encoded data removed]"
          },
          "metadata": {
            "needs_background": "light"
          }
        }
      ]
    },
    {
      "cell_type": "code",
      "source": [
        "# Get TOP 5 features\n",
        "sel_ = SelectKBest(f_classif, k=5).fit(X_scaled, y)\n",
        "X.columns[sel_.get_support()]"
      ],
      "metadata": {
        "id": "KSGhE7K5hUqO",
        "outputId": "fccd9236-3fac-41cb-e5ad-a9503e39b3c3",
        "colab": {
          "base_uri": "https://localhost:8080/"
        }
      },
      "execution_count": 860,
      "outputs": [
        {
          "output_type": "execute_result",
          "data": {
            "text/plain": [
              "Index(['Пол', 'Здоровье от 1 до 10', 'Были ли нарушения сна', 'P', 'G'], dtype='object')"
            ]
          },
          "metadata": {},
          "execution_count": 860
        }
      ]
    },
    {
      "cell_type": "code",
      "source": [
        ""
      ],
      "metadata": {
        "id": "L0FH6fE0hhzK"
      },
      "execution_count": 860,
      "outputs": []
    },
    {
      "cell_type": "code",
      "source": [
        ""
      ],
      "metadata": {
        "id": "OVxUbs4lhFwd"
      },
      "execution_count": 860,
      "outputs": []
    },
    {
      "cell_type": "code",
      "source": [
        ""
      ],
      "metadata": {
        "id": "0morjvDohFyU"
      },
      "execution_count": 860,
      "outputs": []
    },
    {
      "cell_type": "code",
      "source": [
        ""
      ],
      "metadata": {
        "id": "cE49CtiChHBb"
      },
      "execution_count": 860,
      "outputs": []
    },
    {
      "cell_type": "code",
      "source": [
        "# X_chi2_scaled # Были ли нарушения сна, Динамека веса за год, Аллергии, ГБ"
      ],
      "metadata": {
        "id": "kK2YEY2VS9kV"
      },
      "execution_count": 861,
      "outputs": []
    },
    {
      "cell_type": "code",
      "source": [
        "# X_anova_scaled # Были ли нарушения сна, Аллергии, P, G"
      ],
      "metadata": {
        "id": "aW029ll0S9nm"
      },
      "execution_count": 862,
      "outputs": []
    },
    {
      "cell_type": "code",
      "source": [
        "# How many times and which features were the most influential?\n",
        "\n",
        "# Аллергии 4\n",
        "# Были ли нарушения сна  3\n",
        "# P 3\n",
        "# G 3\n",
        "# Динамека веса за год 1 \n",
        "# ГБ 1\n",
        "# Стаж шизофр 1"
      ],
      "metadata": {
        "id": "JGbIT52RS9pu"
      },
      "execution_count": 863,
      "outputs": []
    },
    {
      "cell_type": "code",
      "source": [
        "# Using best features\n",
        "# X = X[['Аллергии', 'Были ли нарушения сна', 'P', 'G']]\n",
        "\n",
        "# X = X[['Забол кожи', 'Были ли нарушения сна', 'Панкреатит', 'ГБ']]\n",
        "\n",
        "# X = X[['Удовлетворенность материальным положением', 'Были ли нарушения сна', 'Забол кожи', 'P', 'G']]\n",
        "\n",
        "# X = X[['Забол кожи', 'Были ли нарушения сна', 'Панкреатит', 'ГБ', 'P']]\n",
        "\n",
        "# X = X[['P', 'G', 'ИМТ', 'Были ли нарушения сна', 'N']]\n",
        "\n",
        "# X = X[['Были ли нарушения сна', 'Забол кожи', 'P']]\n",
        "\n",
        "# X = X[['Были ли нарушения сна', 'Операции', 'P', 'G']]\n",
        "\n",
        "# X = X[['Полных лет', 'Дебют', 'Стаж шизофр', 'N', 'G']]\n",
        "\n",
        "X = X[['Полных лет', 'Дебют', 'Стаж шизофр', 'P', 'N', 'G']]"
      ],
      "metadata": {
        "id": "cA1BbqGaS9ru"
      },
      "execution_count": 864,
      "outputs": []
    },
    {
      "cell_type": "code",
      "source": [
        "# Get helper functions file\n",
        "import os\n",
        "if not os.path.exists(\"helper_functions.py\"):\n",
        "    print(\"Downloading helper functions...\")\n",
        "    !wget https://raw.githubusercontent.com/Nikitaion/TensorFlowLearning/main/extras/helper_functions.py\n",
        "else:\n",
        "    print(\"Helper functions file already exists, skipping download...\")"
      ],
      "metadata": {
        "id": "ztJnG1gMpQKR",
        "outputId": "b9c0da6d-b91b-4571-b7c7-547ffa43f6f8",
        "colab": {
          "base_uri": "https://localhost:8080/"
        }
      },
      "execution_count": 865,
      "outputs": [
        {
          "output_type": "stream",
          "name": "stdout",
          "text": [
            "Helper functions file already exists, skipping download...\n"
          ]
        }
      ]
    },
    {
      "cell_type": "code",
      "source": [
        "# Create TensorBoard callback\n",
        "from helper_functions import create_tensorboard_callback\n",
        "\n",
        "# Create ModelCheckpoint callback to save model's progress\n",
        "# checkpoint_path = \"model_checkpoints/cp.ckpt\" # saving weights requires \".ckpt\" extension\n",
        "# model_checkpoint = tf.keras.callbacks.ModelCheckpoint(checkpoint_path,\n",
        "#                                                       montior=\"val_accuracy\", # save the model weights with best validation accuracy\n",
        "#                                                       save_best_only=True, # only save the best weights\n",
        "#                                                       save_weights_only=True) # only save model weights (not whole model)\n",
        "#                                                       # verbose=1) # don't print out whether or not model is being saved\n",
        "\n",
        "# Create a function to implment a ModelCheckpoint callback with a specific filename\n",
        "def create_model_checkpoint(model_name, save_path=\"model_experiments\"):\n",
        "  return tf.keras.callbacks.ModelCheckpoint(filepath=os.path.join(save_path, model_name),\n",
        "                                            monitor=\"val_accuracy\", # was 'val_loss'\n",
        "                                            verbose=0, #only output a limited amount of text\n",
        "                                            save_best_only=True)\n"
      ],
      "metadata": {
        "id": "1mRN6S7XpPD6"
      },
      "execution_count": 866,
      "outputs": []
    },
    {
      "cell_type": "code",
      "source": [
        "# Train/valid/test split\n",
        "tf.random.set_seed(2)\n",
        "\n",
        "X_train, X_valid, y_train, y_valid = train_test_split(X, y, test_size=0.15)\n",
        "\n",
        "X_train, X_test, y_train, y_test = train_test_split(X_train, y_train, test_size=0.15)\n",
        "\n",
        "\n",
        "# Scaling\n",
        "from sklearn.preprocessing import StandardScaler\n",
        "from sklearn.preprocessing import MinMaxScaler\n",
        "\n",
        "scaler = StandardScaler()\n",
        "minmax_scaler = MinMaxScaler()\n",
        "\n",
        "# X_train_scaled = scaler.fit_transform(X_train)\n",
        "# X_valid_scaled = scaler.transform(X_valid)\n",
        "\n",
        "X_train_scaled = minmax_scaler.fit_transform(X_train)\n",
        "X_valid_scaled = minmax_scaler.transform(X_valid)\n",
        "X_test_scaled = minmax_scaler.transform(X_test)"
      ],
      "metadata": {
        "id": "EkYpF44DNQjU"
      },
      "execution_count": 867,
      "outputs": []
    },
    {
      "cell_type": "code",
      "source": [
        "tf.random.set_seed(42)\n",
        "\n",
        "model1 = tf.keras.Sequential([\n",
        "    tf.keras.layers.Dense(5, activation='relu'),\n",
        "    tf.keras.layers.Dense(4, activation='relu'),\n",
        "    tf.keras.layers.Dense(4, activation='relu'),\n",
        "\n",
        "    # tf.keras.layers.Dense(20, activation='relu'),\n",
        "    # tf.keras.layers.Dense(10, activation='relu'),\n",
        "\n",
        "    # tf.keras.layers.Dense(256, activation='relu'),\n",
        "    tf.keras.layers.Dense(1, activation='sigmoid')\n",
        "])\n",
        "\n",
        "model1.compile(\n",
        "    loss=tf.keras.losses.binary_crossentropy,\n",
        "    optimizer=tf.keras.optimizers.Adam(0.03),\n",
        "    metrics=[\"accuracy\"]\n",
        ")\n",
        "\n",
        "\n",
        "history1 = model1.fit(X_train_scaled, \n",
        "                    y_train, \n",
        "                    epochs=22,\n",
        "                    validation_data = (X_valid_scaled, y_valid),\n",
        "                    callbacks=[create_model_checkpoint(model_name=model1.name)])"
      ],
      "metadata": {
        "colab": {
          "base_uri": "https://localhost:8080/"
        },
        "id": "Y8cdqTwvKMbi",
        "outputId": "77d89e24-135a-4a43-f333-af5be4c78f0e"
      },
      "execution_count": 868,
      "outputs": [
        {
          "output_type": "stream",
          "name": "stdout",
          "text": [
            "Epoch 1/22\n",
            "1/4 [======>.......................] - ETA: 1s - loss: 0.6919 - accuracy: 0.6250INFO:tensorflow:Assets written to: model_experiments/sequential_75/assets\n",
            "4/4 [==============================] - 1s 302ms/step - loss: 0.6873 - accuracy: 0.6000 - val_loss: 0.6750 - val_accuracy: 0.6296\n",
            "Epoch 2/22\n",
            "4/4 [==============================] - 0s 11ms/step - loss: 0.6852 - accuracy: 0.5760 - val_loss: 0.6619 - val_accuracy: 0.6296\n",
            "Epoch 3/22\n",
            "4/4 [==============================] - 0s 11ms/step - loss: 0.6796 - accuracy: 0.5760 - val_loss: 0.6615 - val_accuracy: 0.6296\n",
            "Epoch 4/22\n",
            "4/4 [==============================] - 0s 10ms/step - loss: 0.6785 - accuracy: 0.5760 - val_loss: 0.6604 - val_accuracy: 0.6296\n",
            "Epoch 5/22\n",
            "4/4 [==============================] - 0s 12ms/step - loss: 0.6788 - accuracy: 0.5760 - val_loss: 0.6608 - val_accuracy: 0.6296\n",
            "Epoch 6/22\n",
            "4/4 [==============================] - 0s 12ms/step - loss: 0.6790 - accuracy: 0.5760 - val_loss: 0.6590 - val_accuracy: 0.6296\n",
            "Epoch 7/22\n",
            "4/4 [==============================] - 0s 12ms/step - loss: 0.6769 - accuracy: 0.5760 - val_loss: 0.6601 - val_accuracy: 0.6296\n",
            "Epoch 8/22\n",
            "4/4 [==============================] - 0s 11ms/step - loss: 0.6768 - accuracy: 0.5760 - val_loss: 0.6592 - val_accuracy: 0.6296\n",
            "Epoch 9/22\n",
            "4/4 [==============================] - 0s 11ms/step - loss: 0.6752 - accuracy: 0.5760 - val_loss: 0.6585 - val_accuracy: 0.6296\n",
            "Epoch 10/22\n",
            "4/4 [==============================] - 0s 11ms/step - loss: 0.6727 - accuracy: 0.5760 - val_loss: 0.6547 - val_accuracy: 0.6296\n",
            "Epoch 11/22\n",
            "4/4 [==============================] - 0s 11ms/step - loss: 0.6724 - accuracy: 0.5760 - val_loss: 0.6498 - val_accuracy: 0.6296\n",
            "Epoch 12/22\n",
            "4/4 [==============================] - 0s 12ms/step - loss: 0.6701 - accuracy: 0.5760 - val_loss: 0.6482 - val_accuracy: 0.6296\n",
            "Epoch 13/22\n",
            "4/4 [==============================] - 0s 13ms/step - loss: 0.6671 - accuracy: 0.5760 - val_loss: 0.6466 - val_accuracy: 0.6296\n",
            "Epoch 14/22\n",
            "4/4 [==============================] - 0s 13ms/step - loss: 0.6658 - accuracy: 0.5760 - val_loss: 0.6435 - val_accuracy: 0.6296\n",
            "Epoch 15/22\n",
            "4/4 [==============================] - 0s 11ms/step - loss: 0.6617 - accuracy: 0.5760 - val_loss: 0.6412 - val_accuracy: 0.6296\n",
            "Epoch 16/22\n",
            "4/4 [==============================] - 0s 10ms/step - loss: 0.6607 - accuracy: 0.5760 - val_loss: 0.6364 - val_accuracy: 0.6296\n",
            "Epoch 17/22\n",
            "4/4 [==============================] - 0s 11ms/step - loss: 0.6570 - accuracy: 0.5760 - val_loss: 0.6336 - val_accuracy: 0.6296\n",
            "Epoch 18/22\n",
            "4/4 [==============================] - 0s 12ms/step - loss: 0.6551 - accuracy: 0.5760 - val_loss: 0.6313 - val_accuracy: 0.6296\n",
            "Epoch 19/22\n",
            "4/4 [==============================] - 0s 10ms/step - loss: 0.6546 - accuracy: 0.5840 - val_loss: 0.6309 - val_accuracy: 0.6296\n",
            "Epoch 20/22\n",
            "4/4 [==============================] - 0s 12ms/step - loss: 0.6540 - accuracy: 0.6320 - val_loss: 0.6310 - val_accuracy: 0.6296\n",
            "Epoch 21/22\n",
            "1/4 [======>.......................] - ETA: 0s - loss: 0.6456 - accuracy: 0.5938INFO:tensorflow:Assets written to: model_experiments/sequential_75/assets\n",
            "4/4 [==============================] - 1s 242ms/step - loss: 0.6512 - accuracy: 0.6320 - val_loss: 0.6297 - val_accuracy: 0.6667\n",
            "Epoch 22/22\n",
            "1/4 [======>.......................] - ETA: 0s - loss: 0.6564 - accuracy: 0.6562INFO:tensorflow:Assets written to: model_experiments/sequential_75/assets\n",
            "4/4 [==============================] - 1s 239ms/step - loss: 0.6662 - accuracy: 0.5920 - val_loss: 0.6258 - val_accuracy: 0.7037\n"
          ]
        }
      ]
    },
    {
      "cell_type": "code",
      "source": [
        "model1.evaluate(X_test, y_test)"
      ],
      "metadata": {
        "id": "KRbfjDQWqt0l",
        "outputId": "f94885a9-fe9f-4d0b-a290-84a531b0ab6b",
        "colab": {
          "base_uri": "https://localhost:8080/"
        }
      },
      "execution_count": 869,
      "outputs": [
        {
          "output_type": "stream",
          "name": "stdout",
          "text": [
            "1/1 [==============================] - 0s 24ms/step - loss: 16.9139 - accuracy: 0.6087\n"
          ]
        },
        {
          "output_type": "execute_result",
          "data": {
            "text/plain": [
              "[16.913942337036133, 0.6086956262588501]"
            ]
          },
          "metadata": {},
          "execution_count": 869
        }
      ]
    },
    {
      "cell_type": "code",
      "source": [
        "model1 = tf.keras.models.load_model(f\"/content/model_experiments/{model1.name}\")\n",
        "model1.evaluate(X_test, y_test)"
      ],
      "metadata": {
        "colab": {
          "base_uri": "https://localhost:8080/"
        },
        "id": "TQgxT9Qd5r8y",
        "outputId": "a07a5519-1187-4e36-b094-8f0a33a2b6d7"
      },
      "execution_count": 870,
      "outputs": [
        {
          "output_type": "stream",
          "name": "stdout",
          "text": [
            "1/1 [==============================] - 0s 153ms/step - loss: 16.9139 - accuracy: 0.6087\n"
          ]
        },
        {
          "output_type": "execute_result",
          "data": {
            "text/plain": [
              "[16.913942337036133, 0.6086956262588501]"
            ]
          },
          "metadata": {},
          "execution_count": 870
        }
      ]
    },
    {
      "cell_type": "code",
      "source": [
        ""
      ],
      "metadata": {
        "id": "SowPTdIT6Fwq"
      },
      "execution_count": 870,
      "outputs": []
    },
    {
      "cell_type": "code",
      "source": [
        "tf.random.set_seed(42)\n",
        "\n",
        "model2 = tf.keras.Sequential([\n",
        "    tf.keras.layers.Dense(5, activation='relu'),\n",
        "    tf.keras.layers.Dense(10, activation='relu'),\n",
        "    tf.keras.layers.Dense(10, activation='relu'),\n",
        "\n",
        "    # tf.keras.layers.Dense(20, activation='relu'),\n",
        "    # tf.keras.layers.Dense(10, activation='relu'),\n",
        "\n",
        "    # tf.keras.layers.Dense(256, activation='relu'),\n",
        "    tf.keras.layers.Dense(1, activation='sigmoid')\n",
        "])\n",
        "\n",
        "model2.compile(\n",
        "    loss=tf.keras.losses.binary_crossentropy,\n",
        "    optimizer=tf.keras.optimizers.Adam(0.03),\n",
        "    metrics=[\"accuracy\"]\n",
        ")\n",
        "\n",
        "\n",
        "history2 = model2.fit(X_train_scaled, \n",
        "                    y_train, \n",
        "                    epochs=19,\n",
        "                    validation_data = (X_valid_scaled, y_valid),\n",
        "                    callbacks=[create_model_checkpoint(model_name=model2.name)])"
      ],
      "metadata": {
        "id": "q9VW_1RycyHm",
        "outputId": "372820d5-214c-4ed4-d07c-c2ce2bf40665",
        "colab": {
          "base_uri": "https://localhost:8080/"
        }
      },
      "execution_count": 871,
      "outputs": [
        {
          "output_type": "stream",
          "name": "stdout",
          "text": [
            "Epoch 1/19\n",
            "1/4 [======>.......................] - ETA: 1s - loss: 0.6915 - accuracy: 0.4688INFO:tensorflow:Assets written to: model_experiments/sequential_76/assets\n",
            "4/4 [==============================] - 1s 303ms/step - loss: 0.6819 - accuracy: 0.5600 - val_loss: 0.6527 - val_accuracy: 0.6296\n",
            "Epoch 2/19\n",
            "4/4 [==============================] - 0s 15ms/step - loss: 0.7041 - accuracy: 0.5760 - val_loss: 0.6552 - val_accuracy: 0.6296\n",
            "Epoch 3/19\n",
            "4/4 [==============================] - 0s 12ms/step - loss: 0.6857 - accuracy: 0.5760 - val_loss: 0.6715 - val_accuracy: 0.6296\n",
            "Epoch 4/19\n",
            "4/4 [==============================] - 0s 14ms/step - loss: 0.6821 - accuracy: 0.5760 - val_loss: 0.6785 - val_accuracy: 0.6296\n",
            "Epoch 5/19\n",
            "4/4 [==============================] - 0s 12ms/step - loss: 0.6839 - accuracy: 0.5520 - val_loss: 0.6754 - val_accuracy: 0.6296\n",
            "Epoch 6/19\n",
            "4/4 [==============================] - 0s 11ms/step - loss: 0.6816 - accuracy: 0.5760 - val_loss: 0.6640 - val_accuracy: 0.6296\n",
            "Epoch 7/19\n",
            "4/4 [==============================] - 0s 13ms/step - loss: 0.6731 - accuracy: 0.5760 - val_loss: 0.6596 - val_accuracy: 0.6296\n",
            "Epoch 8/19\n",
            "4/4 [==============================] - 0s 12ms/step - loss: 0.6717 - accuracy: 0.5760 - val_loss: 0.6529 - val_accuracy: 0.6296\n",
            "Epoch 9/19\n",
            "4/4 [==============================] - 0s 12ms/step - loss: 0.6668 - accuracy: 0.5600 - val_loss: 0.6475 - val_accuracy: 0.6296\n",
            "Epoch 10/19\n",
            "1/4 [======>.......................] - ETA: 0s - loss: 0.6503 - accuracy: 0.6250INFO:tensorflow:Assets written to: model_experiments/sequential_76/assets\n",
            "4/4 [==============================] - 1s 256ms/step - loss: 0.6573 - accuracy: 0.5600 - val_loss: 0.6445 - val_accuracy: 0.7037\n",
            "Epoch 11/19\n",
            "4/4 [==============================] - 0s 10ms/step - loss: 0.6578 - accuracy: 0.5680 - val_loss: 0.6407 - val_accuracy: 0.5926\n",
            "Epoch 12/19\n",
            "4/4 [==============================] - 0s 10ms/step - loss: 0.6589 - accuracy: 0.6160 - val_loss: 0.6415 - val_accuracy: 0.5185\n",
            "Epoch 13/19\n",
            "4/4 [==============================] - 0s 14ms/step - loss: 0.6566 - accuracy: 0.6000 - val_loss: 0.6393 - val_accuracy: 0.6296\n",
            "Epoch 14/19\n",
            "4/4 [==============================] - 0s 10ms/step - loss: 0.6487 - accuracy: 0.6080 - val_loss: 0.6344 - val_accuracy: 0.5926\n",
            "Epoch 15/19\n",
            "4/4 [==============================] - 0s 12ms/step - loss: 0.6432 - accuracy: 0.6080 - val_loss: 0.6343 - val_accuracy: 0.5556\n",
            "Epoch 16/19\n",
            "4/4 [==============================] - 0s 12ms/step - loss: 0.6406 - accuracy: 0.6240 - val_loss: 0.6318 - val_accuracy: 0.5926\n",
            "Epoch 17/19\n",
            "4/4 [==============================] - 0s 13ms/step - loss: 0.6389 - accuracy: 0.6160 - val_loss: 0.6337 - val_accuracy: 0.5926\n",
            "Epoch 18/19\n",
            "4/4 [==============================] - 0s 11ms/step - loss: 0.6341 - accuracy: 0.6240 - val_loss: 0.6232 - val_accuracy: 0.6667\n",
            "Epoch 19/19\n",
            "4/4 [==============================] - 0s 11ms/step - loss: 0.6330 - accuracy: 0.6240 - val_loss: 0.6287 - val_accuracy: 0.6296\n"
          ]
        }
      ]
    },
    {
      "cell_type": "code",
      "source": [
        "model2.evaluate(X_test, y_test)"
      ],
      "metadata": {
        "colab": {
          "base_uri": "https://localhost:8080/"
        },
        "id": "Npvp-cKs7lwK",
        "outputId": "5bfdc94d-c30e-4851-85b8-d896c6ed9b14"
      },
      "execution_count": 872,
      "outputs": [
        {
          "output_type": "stream",
          "name": "stdout",
          "text": [
            "1/1 [==============================] - 0s 21ms/step - loss: 1.4204 - accuracy: 0.6522\n"
          ]
        },
        {
          "output_type": "execute_result",
          "data": {
            "text/plain": [
              "[1.4203765392303467, 0.6521739363670349]"
            ]
          },
          "metadata": {},
          "execution_count": 872
        }
      ]
    },
    {
      "cell_type": "code",
      "source": [
        "model2 = tf.keras.models.load_model(f\"/content/model_experiments/{model2.name}\")\n",
        "model2.evaluate(X_test, y_test)"
      ],
      "metadata": {
        "id": "LpO3HR26qyu3",
        "outputId": "30cc265c-271f-41e3-e7fc-e8823e54b044",
        "colab": {
          "base_uri": "https://localhost:8080/"
        }
      },
      "execution_count": 873,
      "outputs": [
        {
          "output_type": "stream",
          "name": "stdout",
          "text": [
            "1/1 [==============================] - 0s 128ms/step - loss: 4.1842 - accuracy: 0.6087\n"
          ]
        },
        {
          "output_type": "execute_result",
          "data": {
            "text/plain": [
              "[4.184155464172363, 0.6086956262588501]"
            ]
          },
          "metadata": {},
          "execution_count": 873
        }
      ]
    },
    {
      "cell_type": "code",
      "source": [
        "tf.random.set_seed(42)\n",
        "\n",
        "model3 = tf.keras.Sequential([\n",
        "    tf.keras.layers.Dense(5, activation='relu'),\n",
        "    tf.keras.layers.Dense(21, activation='relu'),\n",
        "    tf.keras.layers.Dense(21, activation='relu'),\n",
        "\n",
        "    # tf.keras.layers.Dense(20, activation='relu'),\n",
        "    # tf.keras.layers.Dense(10, activation='relu'),\n",
        "\n",
        "    # tf.keras.layers.Dense(256, activation='relu'),\n",
        "    tf.keras.layers.Dense(1, activation='sigmoid')\n",
        "])\n",
        "\n",
        "model3.compile(\n",
        "    loss=tf.keras.losses.binary_crossentropy,\n",
        "    optimizer=tf.keras.optimizers.Adam(0.03),\n",
        "    metrics=[\"accuracy\"]\n",
        ")\n",
        "\n",
        "\n",
        "history3 = model3.fit(X_train_scaled, \n",
        "                    y_train, \n",
        "                    epochs=22,\n",
        "                    validation_data = (X_valid_scaled, y_valid),\n",
        "                    callbacks=[create_model_checkpoint(model_name=model3.name)])"
      ],
      "metadata": {
        "id": "2tsjSDV7eP3u",
        "outputId": "1722513e-6ee6-4223-b2a0-50cc2c5a6153",
        "colab": {
          "base_uri": "https://localhost:8080/"
        }
      },
      "execution_count": 874,
      "outputs": [
        {
          "output_type": "stream",
          "name": "stdout",
          "text": [
            "Epoch 1/22\n",
            "1/4 [======>.......................] - ETA: 1s - loss: 0.6885 - accuracy: 0.6562INFO:tensorflow:Assets written to: model_experiments/sequential_77/assets\n",
            "4/4 [==============================] - 1s 290ms/step - loss: 0.6933 - accuracy: 0.5360 - val_loss: 0.6586 - val_accuracy: 0.6296\n",
            "Epoch 2/22\n",
            "4/4 [==============================] - 0s 10ms/step - loss: 0.6924 - accuracy: 0.5760 - val_loss: 0.6519 - val_accuracy: 0.6296\n",
            "Epoch 3/22\n",
            "4/4 [==============================] - 0s 11ms/step - loss: 0.6796 - accuracy: 0.5840 - val_loss: 0.6744 - val_accuracy: 0.5926\n",
            "Epoch 4/22\n",
            "4/4 [==============================] - 0s 11ms/step - loss: 0.6857 - accuracy: 0.5840 - val_loss: 0.6725 - val_accuracy: 0.6296\n",
            "Epoch 5/22\n",
            "4/4 [==============================] - 0s 11ms/step - loss: 0.6805 - accuracy: 0.5760 - val_loss: 0.6609 - val_accuracy: 0.6296\n",
            "Epoch 6/22\n",
            "4/4 [==============================] - 0s 11ms/step - loss: 0.6786 - accuracy: 0.5760 - val_loss: 0.6505 - val_accuracy: 0.6296\n",
            "Epoch 7/22\n",
            "4/4 [==============================] - 0s 12ms/step - loss: 0.6713 - accuracy: 0.5760 - val_loss: 0.6470 - val_accuracy: 0.6296\n",
            "Epoch 8/22\n",
            "4/4 [==============================] - 0s 14ms/step - loss: 0.6705 - accuracy: 0.5760 - val_loss: 0.6398 - val_accuracy: 0.6296\n",
            "Epoch 9/22\n",
            "4/4 [==============================] - 0s 11ms/step - loss: 0.6656 - accuracy: 0.5760 - val_loss: 0.6345 - val_accuracy: 0.6296\n",
            "Epoch 10/22\n",
            "4/4 [==============================] - 0s 12ms/step - loss: 0.6542 - accuracy: 0.5760 - val_loss: 0.6356 - val_accuracy: 0.6296\n",
            "Epoch 11/22\n",
            "4/4 [==============================] - 0s 10ms/step - loss: 0.6597 - accuracy: 0.5760 - val_loss: 0.6299 - val_accuracy: 0.6296\n",
            "Epoch 12/22\n",
            "1/4 [======>.......................] - ETA: 0s - loss: 0.6209 - accuracy: 0.5938INFO:tensorflow:Assets written to: model_experiments/sequential_77/assets\n",
            "4/4 [==============================] - 1s 242ms/step - loss: 0.6525 - accuracy: 0.5840 - val_loss: 0.6331 - val_accuracy: 0.7037\n",
            "Epoch 13/22\n",
            "1/4 [======>.......................] - ETA: 0s - loss: 0.6441 - accuracy: 0.7188INFO:tensorflow:Assets written to: model_experiments/sequential_77/assets\n",
            "4/4 [==============================] - 1s 246ms/step - loss: 0.6531 - accuracy: 0.5920 - val_loss: 0.6237 - val_accuracy: 0.7407\n",
            "Epoch 14/22\n",
            "4/4 [==============================] - 0s 13ms/step - loss: 0.6503 - accuracy: 0.5680 - val_loss: 0.6255 - val_accuracy: 0.6667\n",
            "Epoch 15/22\n",
            "4/4 [==============================] - 0s 10ms/step - loss: 0.6326 - accuracy: 0.6480 - val_loss: 0.6426 - val_accuracy: 0.5185\n",
            "Epoch 16/22\n",
            "4/4 [==============================] - 0s 11ms/step - loss: 0.6384 - accuracy: 0.6640 - val_loss: 0.6281 - val_accuracy: 0.6667\n",
            "Epoch 17/22\n",
            "4/4 [==============================] - 0s 10ms/step - loss: 0.6318 - accuracy: 0.6240 - val_loss: 0.6314 - val_accuracy: 0.7037\n",
            "Epoch 18/22\n",
            "4/4 [==============================] - 0s 10ms/step - loss: 0.6230 - accuracy: 0.6400 - val_loss: 0.6323 - val_accuracy: 0.7037\n",
            "Epoch 19/22\n",
            "4/4 [==============================] - 0s 11ms/step - loss: 0.6181 - accuracy: 0.6480 - val_loss: 0.6446 - val_accuracy: 0.5926\n",
            "Epoch 20/22\n",
            "4/4 [==============================] - 0s 11ms/step - loss: 0.6140 - accuracy: 0.6720 - val_loss: 0.6247 - val_accuracy: 0.7407\n",
            "Epoch 21/22\n",
            "4/4 [==============================] - 0s 12ms/step - loss: 0.6069 - accuracy: 0.6480 - val_loss: 0.6413 - val_accuracy: 0.6667\n",
            "Epoch 22/22\n",
            "4/4 [==============================] - 0s 14ms/step - loss: 0.6389 - accuracy: 0.6160 - val_loss: 0.6613 - val_accuracy: 0.5926\n"
          ]
        }
      ]
    },
    {
      "cell_type": "code",
      "source": [
        "model3.evaluate(X_test, y_test)"
      ],
      "metadata": {
        "colab": {
          "base_uri": "https://localhost:8080/"
        },
        "id": "_NDBuLs_7nCE",
        "outputId": "418c7ef3-db91-481f-8c7b-7be6fea38d6f"
      },
      "execution_count": 875,
      "outputs": [
        {
          "output_type": "stream",
          "name": "stdout",
          "text": [
            "1/1 [==============================] - 0s 22ms/step - loss: 4.0169 - accuracy: 0.6087\n"
          ]
        },
        {
          "output_type": "execute_result",
          "data": {
            "text/plain": [
              "[4.016941070556641, 0.6086956262588501]"
            ]
          },
          "metadata": {},
          "execution_count": 875
        }
      ]
    },
    {
      "cell_type": "code",
      "source": [
        "model3 = tf.keras.models.load_model(f\"/content/model_experiments/{model3.name}\")\n",
        "model3.evaluate(X_test, y_test)"
      ],
      "metadata": {
        "id": "p6e78-hkq0FB",
        "outputId": "f46d7315-0eeb-47b8-805c-b5e73453968e",
        "colab": {
          "base_uri": "https://localhost:8080/"
        }
      },
      "execution_count": 876,
      "outputs": [
        {
          "output_type": "stream",
          "name": "stdout",
          "text": [
            "1/1 [==============================] - 0s 132ms/step - loss: 6.6751 - accuracy: 0.6522\n"
          ]
        },
        {
          "output_type": "execute_result",
          "data": {
            "text/plain": [
              "[6.675061225891113, 0.6521739363670349]"
            ]
          },
          "metadata": {},
          "execution_count": 876
        }
      ]
    },
    {
      "cell_type": "code",
      "source": [
        "tf.random.set_seed(42)\n",
        "\n",
        "model4 = tf.keras.Sequential([\n",
        "    tf.keras.layers.Dense(5, activation='relu'),\n",
        "    tf.keras.layers.Dense(4, activation='relu'),\n",
        "    tf.keras.layers.Dense(4, activation='relu'),\n",
        "\n",
        "    # tf.keras.layers.Dense(20, activation='relu'),\n",
        "    # tf.keras.layers.Dense(10, activation='relu'),\n",
        "\n",
        "    # tf.keras.layers.Dense(256, activation='relu'),\n",
        "    tf.keras.layers.Dense(1, activation='sigmoid')\n",
        "])\n",
        "\n",
        "model4.compile(\n",
        "    loss=tf.keras.losses.binary_crossentropy,\n",
        "    optimizer=tf.keras.optimizers.Adam(0.01),\n",
        "    metrics=[\"accuracy\"]\n",
        ")\n",
        "\n",
        "\n",
        "history4 = model4.fit(X_train_scaled, \n",
        "                    y_train, \n",
        "                    epochs=100,\n",
        "                    validation_data = (X_valid_scaled, y_valid),\n",
        "                    callbacks=[create_model_checkpoint(model_name=model4.name)])"
      ],
      "metadata": {
        "id": "6x7NFRwFeVwx",
        "outputId": "b9458d5b-4a33-4b5c-bfdd-9c87847012aa",
        "colab": {
          "base_uri": "https://localhost:8080/"
        }
      },
      "execution_count": 877,
      "outputs": [
        {
          "output_type": "stream",
          "name": "stdout",
          "text": [
            "Epoch 1/100\n",
            "1/4 [======>.......................] - ETA: 1s - loss: 0.6919 - accuracy: 0.6250INFO:tensorflow:Assets written to: model_experiments/sequential_78/assets\n",
            "4/4 [==============================] - 1s 295ms/step - loss: 0.6907 - accuracy: 0.6000 - val_loss: 0.6874 - val_accuracy: 0.6296\n",
            "Epoch 2/100\n",
            "4/4 [==============================] - 0s 11ms/step - loss: 0.6874 - accuracy: 0.5760 - val_loss: 0.6798 - val_accuracy: 0.6296\n",
            "Epoch 3/100\n",
            "4/4 [==============================] - 0s 11ms/step - loss: 0.6820 - accuracy: 0.5760 - val_loss: 0.6746 - val_accuracy: 0.6296\n",
            "Epoch 4/100\n",
            "4/4 [==============================] - 0s 11ms/step - loss: 0.6790 - accuracy: 0.5760 - val_loss: 0.6688 - val_accuracy: 0.6296\n",
            "Epoch 5/100\n",
            "4/4 [==============================] - 0s 12ms/step - loss: 0.6769 - accuracy: 0.5760 - val_loss: 0.6658 - val_accuracy: 0.6296\n",
            "Epoch 6/100\n",
            "4/4 [==============================] - 0s 12ms/step - loss: 0.6795 - accuracy: 0.5760 - val_loss: 0.6633 - val_accuracy: 0.6296\n",
            "Epoch 7/100\n",
            "4/4 [==============================] - 0s 11ms/step - loss: 0.6772 - accuracy: 0.5760 - val_loss: 0.6623 - val_accuracy: 0.6296\n",
            "Epoch 8/100\n",
            "4/4 [==============================] - 0s 11ms/step - loss: 0.6766 - accuracy: 0.5760 - val_loss: 0.6618 - val_accuracy: 0.6296\n",
            "Epoch 9/100\n",
            "4/4 [==============================] - 0s 13ms/step - loss: 0.6758 - accuracy: 0.5760 - val_loss: 0.6622 - val_accuracy: 0.6296\n",
            "Epoch 10/100\n",
            "4/4 [==============================] - 0s 11ms/step - loss: 0.6742 - accuracy: 0.5760 - val_loss: 0.6617 - val_accuracy: 0.6296\n",
            "Epoch 11/100\n",
            "4/4 [==============================] - 0s 13ms/step - loss: 0.6737 - accuracy: 0.5760 - val_loss: 0.6606 - val_accuracy: 0.6296\n",
            "Epoch 12/100\n",
            "4/4 [==============================] - 0s 11ms/step - loss: 0.6728 - accuracy: 0.5760 - val_loss: 0.6598 - val_accuracy: 0.6296\n",
            "Epoch 13/100\n",
            "4/4 [==============================] - 0s 12ms/step - loss: 0.6719 - accuracy: 0.5760 - val_loss: 0.6585 - val_accuracy: 0.6296\n",
            "Epoch 14/100\n",
            "4/4 [==============================] - 0s 11ms/step - loss: 0.6713 - accuracy: 0.5760 - val_loss: 0.6574 - val_accuracy: 0.6296\n",
            "Epoch 15/100\n",
            "4/4 [==============================] - 0s 11ms/step - loss: 0.6696 - accuracy: 0.5760 - val_loss: 0.6564 - val_accuracy: 0.6296\n",
            "Epoch 16/100\n",
            "4/4 [==============================] - 0s 12ms/step - loss: 0.6688 - accuracy: 0.5760 - val_loss: 0.6551 - val_accuracy: 0.6296\n",
            "Epoch 17/100\n",
            "4/4 [==============================] - 0s 11ms/step - loss: 0.6674 - accuracy: 0.5760 - val_loss: 0.6543 - val_accuracy: 0.6296\n",
            "Epoch 18/100\n",
            "4/4 [==============================] - 0s 11ms/step - loss: 0.6658 - accuracy: 0.5760 - val_loss: 0.6526 - val_accuracy: 0.6296\n",
            "Epoch 19/100\n",
            "4/4 [==============================] - 0s 11ms/step - loss: 0.6644 - accuracy: 0.5760 - val_loss: 0.6509 - val_accuracy: 0.6296\n",
            "Epoch 20/100\n",
            "4/4 [==============================] - 0s 11ms/step - loss: 0.6625 - accuracy: 0.5760 - val_loss: 0.6505 - val_accuracy: 0.6296\n",
            "Epoch 21/100\n",
            "4/4 [==============================] - 0s 12ms/step - loss: 0.6600 - accuracy: 0.5760 - val_loss: 0.6501 - val_accuracy: 0.6296\n",
            "Epoch 22/100\n",
            "4/4 [==============================] - 0s 12ms/step - loss: 0.6623 - accuracy: 0.5760 - val_loss: 0.6473 - val_accuracy: 0.6296\n",
            "Epoch 23/100\n",
            "4/4 [==============================] - 0s 12ms/step - loss: 0.6584 - accuracy: 0.5760 - val_loss: 0.6457 - val_accuracy: 0.6296\n",
            "Epoch 24/100\n",
            "4/4 [==============================] - 0s 13ms/step - loss: 0.6561 - accuracy: 0.5760 - val_loss: 0.6453 - val_accuracy: 0.6296\n",
            "Epoch 25/100\n",
            "4/4 [==============================] - 0s 11ms/step - loss: 0.6527 - accuracy: 0.5760 - val_loss: 0.6439 - val_accuracy: 0.6296\n",
            "Epoch 26/100\n",
            "4/4 [==============================] - 0s 11ms/step - loss: 0.6539 - accuracy: 0.5760 - val_loss: 0.6427 - val_accuracy: 0.6296\n",
            "Epoch 27/100\n",
            "4/4 [==============================] - 0s 11ms/step - loss: 0.6489 - accuracy: 0.5760 - val_loss: 0.6418 - val_accuracy: 0.6296\n",
            "Epoch 28/100\n",
            "4/4 [==============================] - 0s 10ms/step - loss: 0.6473 - accuracy: 0.5760 - val_loss: 0.6411 - val_accuracy: 0.6296\n",
            "Epoch 29/100\n",
            "4/4 [==============================] - 0s 11ms/step - loss: 0.6472 - accuracy: 0.5760 - val_loss: 0.6437 - val_accuracy: 0.6296\n",
            "Epoch 30/100\n",
            "4/4 [==============================] - 0s 11ms/step - loss: 0.6443 - accuracy: 0.5760 - val_loss: 0.6388 - val_accuracy: 0.6296\n",
            "Epoch 31/100\n",
            "4/4 [==============================] - 0s 11ms/step - loss: 0.6456 - accuracy: 0.5760 - val_loss: 0.6428 - val_accuracy: 0.6296\n",
            "Epoch 32/100\n",
            "4/4 [==============================] - 0s 11ms/step - loss: 0.6422 - accuracy: 0.5680 - val_loss: 0.6402 - val_accuracy: 0.6296\n",
            "Epoch 33/100\n",
            "4/4 [==============================] - 0s 12ms/step - loss: 0.6389 - accuracy: 0.6160 - val_loss: 0.6392 - val_accuracy: 0.5926\n",
            "Epoch 34/100\n",
            "4/4 [==============================] - 0s 11ms/step - loss: 0.6397 - accuracy: 0.6400 - val_loss: 0.6401 - val_accuracy: 0.5556\n",
            "Epoch 35/100\n",
            "4/4 [==============================] - 0s 12ms/step - loss: 0.6360 - accuracy: 0.6480 - val_loss: 0.6412 - val_accuracy: 0.6296\n",
            "Epoch 36/100\n",
            "1/4 [======>.......................] - ETA: 0s - loss: 0.6455 - accuracy: 0.5625INFO:tensorflow:Assets written to: model_experiments/sequential_78/assets\n",
            "4/4 [==============================] - 1s 248ms/step - loss: 0.6347 - accuracy: 0.6400 - val_loss: 0.6386 - val_accuracy: 0.6667\n",
            "Epoch 37/100\n",
            "4/4 [==============================] - 0s 12ms/step - loss: 0.6329 - accuracy: 0.6480 - val_loss: 0.6401 - val_accuracy: 0.6667\n",
            "Epoch 38/100\n",
            "4/4 [==============================] - 0s 11ms/step - loss: 0.6325 - accuracy: 0.6480 - val_loss: 0.6416 - val_accuracy: 0.5556\n",
            "Epoch 39/100\n",
            "4/4 [==============================] - 0s 11ms/step - loss: 0.6296 - accuracy: 0.6480 - val_loss: 0.6391 - val_accuracy: 0.5926\n",
            "Epoch 40/100\n",
            "4/4 [==============================] - 0s 12ms/step - loss: 0.6279 - accuracy: 0.6480 - val_loss: 0.6378 - val_accuracy: 0.5556\n",
            "Epoch 41/100\n",
            "4/4 [==============================] - 0s 12ms/step - loss: 0.6257 - accuracy: 0.6640 - val_loss: 0.6376 - val_accuracy: 0.6296\n",
            "Epoch 42/100\n",
            "4/4 [==============================] - 0s 12ms/step - loss: 0.6250 - accuracy: 0.6320 - val_loss: 0.6393 - val_accuracy: 0.6667\n",
            "Epoch 43/100\n",
            "4/4 [==============================] - 0s 12ms/step - loss: 0.6243 - accuracy: 0.6400 - val_loss: 0.6431 - val_accuracy: 0.5926\n",
            "Epoch 44/100\n",
            "4/4 [==============================] - 0s 11ms/step - loss: 0.6250 - accuracy: 0.6960 - val_loss: 0.6483 - val_accuracy: 0.5185\n",
            "Epoch 45/100\n",
            "4/4 [==============================] - 0s 11ms/step - loss: 0.6231 - accuracy: 0.6720 - val_loss: 0.6462 - val_accuracy: 0.6667\n",
            "Epoch 46/100\n",
            "4/4 [==============================] - 0s 13ms/step - loss: 0.6244 - accuracy: 0.6480 - val_loss: 0.6499 - val_accuracy: 0.6296\n",
            "Epoch 47/100\n",
            "4/4 [==============================] - 0s 12ms/step - loss: 0.6193 - accuracy: 0.6720 - val_loss: 0.6550 - val_accuracy: 0.5556\n",
            "Epoch 48/100\n",
            "4/4 [==============================] - 0s 11ms/step - loss: 0.6218 - accuracy: 0.6640 - val_loss: 0.6588 - val_accuracy: 0.5185\n",
            "Epoch 49/100\n",
            "4/4 [==============================] - 0s 12ms/step - loss: 0.6193 - accuracy: 0.6640 - val_loss: 0.6529 - val_accuracy: 0.6667\n",
            "Epoch 50/100\n",
            "4/4 [==============================] - 0s 12ms/step - loss: 0.6204 - accuracy: 0.6880 - val_loss: 0.6552 - val_accuracy: 0.5926\n",
            "Epoch 51/100\n",
            "4/4 [==============================] - 0s 11ms/step - loss: 0.6148 - accuracy: 0.6720 - val_loss: 0.6573 - val_accuracy: 0.5926\n",
            "Epoch 52/100\n",
            "4/4 [==============================] - 0s 14ms/step - loss: 0.6161 - accuracy: 0.6640 - val_loss: 0.6607 - val_accuracy: 0.5926\n",
            "Epoch 53/100\n",
            "4/4 [==============================] - 0s 13ms/step - loss: 0.6158 - accuracy: 0.6640 - val_loss: 0.6598 - val_accuracy: 0.5926\n",
            "Epoch 54/100\n",
            "4/4 [==============================] - 0s 11ms/step - loss: 0.6134 - accuracy: 0.6640 - val_loss: 0.6584 - val_accuracy: 0.5556\n",
            "Epoch 55/100\n",
            "4/4 [==============================] - 0s 11ms/step - loss: 0.6144 - accuracy: 0.6640 - val_loss: 0.6630 - val_accuracy: 0.6296\n",
            "Epoch 56/100\n",
            "4/4 [==============================] - 0s 12ms/step - loss: 0.6127 - accuracy: 0.6800 - val_loss: 0.6680 - val_accuracy: 0.5185\n",
            "Epoch 57/100\n",
            "4/4 [==============================] - 0s 12ms/step - loss: 0.6169 - accuracy: 0.6640 - val_loss: 0.6683 - val_accuracy: 0.5185\n",
            "Epoch 58/100\n",
            "4/4 [==============================] - 0s 14ms/step - loss: 0.6160 - accuracy: 0.6560 - val_loss: 0.6671 - val_accuracy: 0.5185\n",
            "Epoch 59/100\n",
            "4/4 [==============================] - 0s 11ms/step - loss: 0.6142 - accuracy: 0.6640 - val_loss: 0.6597 - val_accuracy: 0.6296\n",
            "Epoch 60/100\n",
            "4/4 [==============================] - 0s 13ms/step - loss: 0.6160 - accuracy: 0.6640 - val_loss: 0.6651 - val_accuracy: 0.6296\n",
            "Epoch 61/100\n",
            "4/4 [==============================] - 0s 11ms/step - loss: 0.6144 - accuracy: 0.6480 - val_loss: 0.6741 - val_accuracy: 0.4815\n",
            "Epoch 62/100\n",
            "4/4 [==============================] - 0s 11ms/step - loss: 0.6154 - accuracy: 0.6320 - val_loss: 0.6762 - val_accuracy: 0.4815\n",
            "Epoch 63/100\n",
            "4/4 [==============================] - 0s 11ms/step - loss: 0.6113 - accuracy: 0.6800 - val_loss: 0.6763 - val_accuracy: 0.5185\n",
            "Epoch 64/100\n",
            "4/4 [==============================] - 0s 10ms/step - loss: 0.6138 - accuracy: 0.6560 - val_loss: 0.6702 - val_accuracy: 0.6296\n",
            "Epoch 65/100\n",
            "4/4 [==============================] - 0s 11ms/step - loss: 0.6110 - accuracy: 0.6640 - val_loss: 0.6722 - val_accuracy: 0.4815\n",
            "Epoch 66/100\n",
            "4/4 [==============================] - 0s 10ms/step - loss: 0.6128 - accuracy: 0.6400 - val_loss: 0.6778 - val_accuracy: 0.4815\n",
            "Epoch 67/100\n",
            "4/4 [==============================] - 0s 10ms/step - loss: 0.6114 - accuracy: 0.6560 - val_loss: 0.6807 - val_accuracy: 0.5185\n",
            "Epoch 68/100\n",
            "4/4 [==============================] - 0s 10ms/step - loss: 0.6099 - accuracy: 0.6720 - val_loss: 0.6762 - val_accuracy: 0.5926\n",
            "Epoch 69/100\n",
            "4/4 [==============================] - 0s 11ms/step - loss: 0.6107 - accuracy: 0.6720 - val_loss: 0.6742 - val_accuracy: 0.6296\n",
            "Epoch 70/100\n",
            "4/4 [==============================] - 0s 11ms/step - loss: 0.6104 - accuracy: 0.6480 - val_loss: 0.6761 - val_accuracy: 0.4815\n",
            "Epoch 71/100\n",
            "4/4 [==============================] - 0s 15ms/step - loss: 0.6134 - accuracy: 0.6560 - val_loss: 0.6719 - val_accuracy: 0.4815\n",
            "Epoch 72/100\n",
            "4/4 [==============================] - 0s 11ms/step - loss: 0.6156 - accuracy: 0.6480 - val_loss: 0.6710 - val_accuracy: 0.6296\n",
            "Epoch 73/100\n",
            "4/4 [==============================] - 0s 20ms/step - loss: 0.6102 - accuracy: 0.6720 - val_loss: 0.6781 - val_accuracy: 0.4815\n",
            "Epoch 74/100\n",
            "4/4 [==============================] - 0s 11ms/step - loss: 0.6095 - accuracy: 0.6640 - val_loss: 0.6734 - val_accuracy: 0.5185\n",
            "Epoch 75/100\n",
            "4/4 [==============================] - 0s 13ms/step - loss: 0.6082 - accuracy: 0.6880 - val_loss: 0.6729 - val_accuracy: 0.4815\n",
            "Epoch 76/100\n",
            "4/4 [==============================] - 0s 11ms/step - loss: 0.6093 - accuracy: 0.6720 - val_loss: 0.6767 - val_accuracy: 0.4815\n",
            "Epoch 77/100\n",
            "4/4 [==============================] - 0s 12ms/step - loss: 0.6169 - accuracy: 0.6560 - val_loss: 0.6755 - val_accuracy: 0.4815\n",
            "Epoch 78/100\n",
            "4/4 [==============================] - 0s 10ms/step - loss: 0.6098 - accuracy: 0.6560 - val_loss: 0.6778 - val_accuracy: 0.6296\n",
            "Epoch 79/100\n",
            "4/4 [==============================] - 0s 11ms/step - loss: 0.6173 - accuracy: 0.6400 - val_loss: 0.6845 - val_accuracy: 0.5926\n",
            "Epoch 80/100\n",
            "4/4 [==============================] - 0s 13ms/step - loss: 0.6075 - accuracy: 0.6560 - val_loss: 0.6868 - val_accuracy: 0.4815\n",
            "Epoch 81/100\n",
            "4/4 [==============================] - 0s 11ms/step - loss: 0.6138 - accuracy: 0.6320 - val_loss: 0.6893 - val_accuracy: 0.4815\n",
            "Epoch 82/100\n",
            "4/4 [==============================] - 0s 13ms/step - loss: 0.6123 - accuracy: 0.6240 - val_loss: 0.6844 - val_accuracy: 0.5926\n",
            "Epoch 83/100\n",
            "4/4 [==============================] - 0s 12ms/step - loss: 0.6099 - accuracy: 0.6640 - val_loss: 0.6791 - val_accuracy: 0.6296\n",
            "Epoch 84/100\n",
            "4/4 [==============================] - 0s 12ms/step - loss: 0.6115 - accuracy: 0.6720 - val_loss: 0.6830 - val_accuracy: 0.5185\n",
            "Epoch 85/100\n",
            "4/4 [==============================] - 0s 12ms/step - loss: 0.6112 - accuracy: 0.6480 - val_loss: 0.6809 - val_accuracy: 0.5926\n",
            "Epoch 86/100\n",
            "4/4 [==============================] - 0s 11ms/step - loss: 0.6084 - accuracy: 0.6720 - val_loss: 0.6849 - val_accuracy: 0.4815\n",
            "Epoch 87/100\n",
            "4/4 [==============================] - 0s 12ms/step - loss: 0.6109 - accuracy: 0.6560 - val_loss: 0.6817 - val_accuracy: 0.4815\n",
            "Epoch 88/100\n",
            "4/4 [==============================] - 0s 13ms/step - loss: 0.6063 - accuracy: 0.6880 - val_loss: 0.6781 - val_accuracy: 0.6296\n",
            "Epoch 89/100\n",
            "4/4 [==============================] - 0s 12ms/step - loss: 0.6139 - accuracy: 0.6400 - val_loss: 0.6769 - val_accuracy: 0.6296\n",
            "Epoch 90/100\n",
            "4/4 [==============================] - 0s 10ms/step - loss: 0.6165 - accuracy: 0.6400 - val_loss: 0.6854 - val_accuracy: 0.4815\n",
            "Epoch 91/100\n",
            "4/4 [==============================] - 0s 12ms/step - loss: 0.6104 - accuracy: 0.6480 - val_loss: 0.6838 - val_accuracy: 0.5185\n",
            "Epoch 92/100\n",
            "4/4 [==============================] - 0s 11ms/step - loss: 0.6207 - accuracy: 0.6400 - val_loss: 0.6790 - val_accuracy: 0.6296\n",
            "Epoch 93/100\n",
            "4/4 [==============================] - 0s 13ms/step - loss: 0.6106 - accuracy: 0.6640 - val_loss: 0.6828 - val_accuracy: 0.5185\n",
            "Epoch 94/100\n",
            "4/4 [==============================] - 0s 12ms/step - loss: 0.6135 - accuracy: 0.6560 - val_loss: 0.6875 - val_accuracy: 0.4815\n",
            "Epoch 95/100\n",
            "4/4 [==============================] - 0s 12ms/step - loss: 0.6137 - accuracy: 0.6480 - val_loss: 0.6760 - val_accuracy: 0.5185\n",
            "Epoch 96/100\n",
            "4/4 [==============================] - 0s 11ms/step - loss: 0.6378 - accuracy: 0.6160 - val_loss: 0.6804 - val_accuracy: 0.6667\n",
            "Epoch 97/100\n",
            "4/4 [==============================] - 0s 15ms/step - loss: 0.6155 - accuracy: 0.6480 - val_loss: 0.6838 - val_accuracy: 0.5185\n",
            "Epoch 98/100\n",
            "4/4 [==============================] - 0s 11ms/step - loss: 0.6070 - accuracy: 0.6800 - val_loss: 0.6887 - val_accuracy: 0.4815\n",
            "Epoch 99/100\n",
            "4/4 [==============================] - 0s 11ms/step - loss: 0.6129 - accuracy: 0.6320 - val_loss: 0.6892 - val_accuracy: 0.4815\n",
            "Epoch 100/100\n",
            "4/4 [==============================] - 0s 11ms/step - loss: 0.6097 - accuracy: 0.6800 - val_loss: 0.6817 - val_accuracy: 0.5926\n"
          ]
        }
      ]
    },
    {
      "cell_type": "code",
      "source": [
        "model4.evaluate(X_test, y_test)"
      ],
      "metadata": {
        "colab": {
          "base_uri": "https://localhost:8080/"
        },
        "id": "x_-4IBuJ7o6-",
        "outputId": "a6681661-178b-4c77-d810-fa5e8e799c9f"
      },
      "execution_count": 878,
      "outputs": [
        {
          "output_type": "stream",
          "name": "stdout",
          "text": [
            "1/1 [==============================] - 0s 21ms/step - loss: 0.6983 - accuracy: 0.4348\n"
          ]
        },
        {
          "output_type": "execute_result",
          "data": {
            "text/plain": [
              "[0.6983448266983032, 0.43478259444236755]"
            ]
          },
          "metadata": {},
          "execution_count": 878
        }
      ]
    },
    {
      "cell_type": "code",
      "source": [
        "model4 = tf.keras.models.load_model(f\"/content/model_experiments/{model4.name}\")\n",
        "model4.evaluate(X_test, y_test)"
      ],
      "metadata": {
        "id": "CKJfsbhUq01R",
        "outputId": "48dfd3c8-9af9-443e-c223-ab26dacdb6cd",
        "colab": {
          "base_uri": "https://localhost:8080/"
        }
      },
      "execution_count": 879,
      "outputs": [
        {
          "output_type": "stream",
          "name": "stdout",
          "text": [
            "1/1 [==============================] - 0s 127ms/step - loss: 3.1820 - accuracy: 0.6957\n"
          ]
        },
        {
          "output_type": "execute_result",
          "data": {
            "text/plain": [
              "[3.182018995285034, 0.695652186870575]"
            ]
          },
          "metadata": {},
          "execution_count": 879
        }
      ]
    },
    {
      "cell_type": "code",
      "source": [
        "tf.random.set_seed(42)\n",
        "\n",
        "model5 = tf.keras.Sequential([\n",
        "    tf.keras.layers.Dense(5, activation='relu'),\n",
        "    tf.keras.layers.Dense(10, activation='relu'),\n",
        "    tf.keras.layers.Dense(10, activation='relu'),\n",
        "\n",
        "    # tf.keras.layers.Dense(20, activation='relu'),\n",
        "    # tf.keras.layers.Dense(10, activation='relu'),\n",
        "\n",
        "    # tf.keras.layers.Dense(256, activation='relu'),\n",
        "    tf.keras.layers.Dense(1, activation='sigmoid')\n",
        "])\n",
        "\n",
        "model5.compile(\n",
        "    loss=tf.keras.losses.binary_crossentropy,\n",
        "    optimizer=tf.keras.optimizers.Adam(0.01),\n",
        "    metrics=[\"accuracy\"]\n",
        ")\n",
        "\n",
        "\n",
        "history5 = model5.fit(X_train_scaled, \n",
        "                    y_train, \n",
        "                    epochs=150,\n",
        "                    validation_data = (X_valid_scaled, y_valid),\n",
        "                    callbacks=[create_model_checkpoint(model_name=model5.name)])"
      ],
      "metadata": {
        "id": "9uRfoFpYeXtB",
        "outputId": "34f466f8-9fcf-473f-f6d8-dac4bf66fefc",
        "colab": {
          "base_uri": "https://localhost:8080/"
        }
      },
      "execution_count": 880,
      "outputs": [
        {
          "output_type": "stream",
          "name": "stdout",
          "text": [
            "Epoch 1/150\n",
            "1/4 [======>.......................] - ETA: 1s - loss: 0.6915 - accuracy: 0.4688INFO:tensorflow:Assets written to: model_experiments/sequential_79/assets\n",
            "4/4 [==============================] - 1s 299ms/step - loss: 0.6907 - accuracy: 0.5600 - val_loss: 0.6769 - val_accuracy: 0.6296\n",
            "Epoch 2/150\n",
            "4/4 [==============================] - 0s 11ms/step - loss: 0.6844 - accuracy: 0.5760 - val_loss: 0.6649 - val_accuracy: 0.6296\n",
            "Epoch 3/150\n",
            "4/4 [==============================] - 0s 11ms/step - loss: 0.6785 - accuracy: 0.5760 - val_loss: 0.6624 - val_accuracy: 0.6296\n",
            "Epoch 4/150\n",
            "4/4 [==============================] - 0s 11ms/step - loss: 0.6781 - accuracy: 0.5760 - val_loss: 0.6598 - val_accuracy: 0.6296\n",
            "Epoch 5/150\n",
            "4/4 [==============================] - 0s 11ms/step - loss: 0.6782 - accuracy: 0.5760 - val_loss: 0.6592 - val_accuracy: 0.6296\n",
            "Epoch 6/150\n",
            "4/4 [==============================] - 0s 11ms/step - loss: 0.6790 - accuracy: 0.5760 - val_loss: 0.6577 - val_accuracy: 0.6296\n",
            "Epoch 7/150\n",
            "4/4 [==============================] - 0s 11ms/step - loss: 0.6772 - accuracy: 0.5760 - val_loss: 0.6580 - val_accuracy: 0.6296\n",
            "Epoch 8/150\n",
            "4/4 [==============================] - 0s 11ms/step - loss: 0.6764 - accuracy: 0.5760 - val_loss: 0.6576 - val_accuracy: 0.6296\n",
            "Epoch 9/150\n",
            "4/4 [==============================] - 0s 13ms/step - loss: 0.6757 - accuracy: 0.5760 - val_loss: 0.6575 - val_accuracy: 0.6296\n",
            "Epoch 10/150\n",
            "4/4 [==============================] - 0s 11ms/step - loss: 0.6736 - accuracy: 0.5760 - val_loss: 0.6558 - val_accuracy: 0.6296\n",
            "Epoch 11/150\n",
            "4/4 [==============================] - 0s 12ms/step - loss: 0.6728 - accuracy: 0.5760 - val_loss: 0.6528 - val_accuracy: 0.6296\n",
            "Epoch 12/150\n",
            "4/4 [==============================] - 0s 10ms/step - loss: 0.6710 - accuracy: 0.5760 - val_loss: 0.6508 - val_accuracy: 0.6296\n",
            "Epoch 13/150\n",
            "4/4 [==============================] - 0s 10ms/step - loss: 0.6697 - accuracy: 0.5760 - val_loss: 0.6487 - val_accuracy: 0.6296\n",
            "Epoch 14/150\n",
            "4/4 [==============================] - 0s 11ms/step - loss: 0.6689 - accuracy: 0.5760 - val_loss: 0.6458 - val_accuracy: 0.6296\n",
            "Epoch 15/150\n",
            "4/4 [==============================] - 0s 12ms/step - loss: 0.6664 - accuracy: 0.5760 - val_loss: 0.6434 - val_accuracy: 0.6296\n",
            "Epoch 16/150\n",
            "4/4 [==============================] - 0s 14ms/step - loss: 0.6654 - accuracy: 0.5760 - val_loss: 0.6405 - val_accuracy: 0.6296\n",
            "Epoch 17/150\n",
            "4/4 [==============================] - 0s 11ms/step - loss: 0.6636 - accuracy: 0.5760 - val_loss: 0.6385 - val_accuracy: 0.6296\n",
            "Epoch 18/150\n",
            "4/4 [==============================] - 0s 11ms/step - loss: 0.6620 - accuracy: 0.5760 - val_loss: 0.6354 - val_accuracy: 0.6296\n",
            "Epoch 19/150\n",
            "4/4 [==============================] - 0s 11ms/step - loss: 0.6608 - accuracy: 0.5760 - val_loss: 0.6333 - val_accuracy: 0.6296\n",
            "Epoch 20/150\n",
            "4/4 [==============================] - 0s 11ms/step - loss: 0.6591 - accuracy: 0.5760 - val_loss: 0.6308 - val_accuracy: 0.6296\n",
            "Epoch 21/150\n",
            "4/4 [==============================] - 0s 12ms/step - loss: 0.6569 - accuracy: 0.5760 - val_loss: 0.6291 - val_accuracy: 0.6296\n",
            "Epoch 22/150\n",
            "4/4 [==============================] - 0s 11ms/step - loss: 0.6620 - accuracy: 0.5760 - val_loss: 0.6254 - val_accuracy: 0.6296\n",
            "Epoch 23/150\n",
            "4/4 [==============================] - 0s 12ms/step - loss: 0.6565 - accuracy: 0.5840 - val_loss: 0.6295 - val_accuracy: 0.6296\n",
            "Epoch 24/150\n",
            "4/4 [==============================] - 0s 12ms/step - loss: 0.6543 - accuracy: 0.6160 - val_loss: 0.6288 - val_accuracy: 0.5926\n",
            "Epoch 25/150\n",
            "1/4 [======>.......................] - ETA: 0s - loss: 0.6471 - accuracy: 0.7188INFO:tensorflow:Assets written to: model_experiments/sequential_79/assets\n",
            "4/4 [==============================] - 1s 251ms/step - loss: 0.6510 - accuracy: 0.6400 - val_loss: 0.6228 - val_accuracy: 0.6667\n",
            "Epoch 26/150\n",
            "1/4 [======>.......................] - ETA: 0s - loss: 0.5483 - accuracy: 0.7812INFO:tensorflow:Assets written to: model_experiments/sequential_79/assets\n",
            "4/4 [==============================] - 1s 234ms/step - loss: 0.6534 - accuracy: 0.6480 - val_loss: 0.6194 - val_accuracy: 0.7037\n",
            "Epoch 27/150\n",
            "4/4 [==============================] - 0s 10ms/step - loss: 0.6480 - accuracy: 0.6160 - val_loss: 0.6220 - val_accuracy: 0.6667\n",
            "Epoch 28/150\n",
            "4/4 [==============================] - 0s 11ms/step - loss: 0.6459 - accuracy: 0.6400 - val_loss: 0.6237 - val_accuracy: 0.5926\n",
            "Epoch 29/150\n",
            "4/4 [==============================] - 0s 10ms/step - loss: 0.6463 - accuracy: 0.6320 - val_loss: 0.6234 - val_accuracy: 0.5926\n",
            "Epoch 30/150\n",
            "4/4 [==============================] - 0s 11ms/step - loss: 0.6452 - accuracy: 0.6560 - val_loss: 0.6170 - val_accuracy: 0.6296\n",
            "Epoch 31/150\n",
            "4/4 [==============================] - 0s 13ms/step - loss: 0.6465 - accuracy: 0.6320 - val_loss: 0.6201 - val_accuracy: 0.6667\n",
            "Epoch 32/150\n",
            "4/4 [==============================] - 0s 10ms/step - loss: 0.6410 - accuracy: 0.6720 - val_loss: 0.6164 - val_accuracy: 0.6296\n",
            "Epoch 33/150\n",
            "4/4 [==============================] - 0s 12ms/step - loss: 0.6393 - accuracy: 0.6640 - val_loss: 0.6154 - val_accuracy: 0.6296\n",
            "Epoch 34/150\n",
            "4/4 [==============================] - 0s 17ms/step - loss: 0.6422 - accuracy: 0.6320 - val_loss: 0.6213 - val_accuracy: 0.6296\n",
            "Epoch 35/150\n",
            "4/4 [==============================] - 0s 12ms/step - loss: 0.6377 - accuracy: 0.6400 - val_loss: 0.6172 - val_accuracy: 0.6296\n",
            "Epoch 36/150\n",
            "4/4 [==============================] - 0s 13ms/step - loss: 0.6388 - accuracy: 0.6480 - val_loss: 0.6067 - val_accuracy: 0.6667\n",
            "Epoch 37/150\n",
            "4/4 [==============================] - 0s 11ms/step - loss: 0.6382 - accuracy: 0.6400 - val_loss: 0.6108 - val_accuracy: 0.6296\n",
            "Epoch 38/150\n",
            "4/4 [==============================] - 0s 11ms/step - loss: 0.6329 - accuracy: 0.6640 - val_loss: 0.6207 - val_accuracy: 0.6296\n",
            "Epoch 39/150\n",
            "4/4 [==============================] - 0s 11ms/step - loss: 0.6340 - accuracy: 0.6720 - val_loss: 0.6140 - val_accuracy: 0.6296\n",
            "Epoch 40/150\n",
            "4/4 [==============================] - 0s 11ms/step - loss: 0.6287 - accuracy: 0.6720 - val_loss: 0.6079 - val_accuracy: 0.6667\n",
            "Epoch 41/150\n",
            "4/4 [==============================] - 0s 11ms/step - loss: 0.6275 - accuracy: 0.6720 - val_loss: 0.6071 - val_accuracy: 0.6667\n",
            "Epoch 42/150\n",
            "4/4 [==============================] - 0s 11ms/step - loss: 0.6253 - accuracy: 0.6880 - val_loss: 0.6097 - val_accuracy: 0.6667\n",
            "Epoch 43/150\n",
            "4/4 [==============================] - 0s 11ms/step - loss: 0.6240 - accuracy: 0.6720 - val_loss: 0.6139 - val_accuracy: 0.6667\n",
            "Epoch 44/150\n",
            "4/4 [==============================] - 0s 13ms/step - loss: 0.6230 - accuracy: 0.6480 - val_loss: 0.6078 - val_accuracy: 0.6667\n",
            "Epoch 45/150\n",
            "4/4 [==============================] - 0s 10ms/step - loss: 0.6228 - accuracy: 0.6800 - val_loss: 0.6097 - val_accuracy: 0.6296\n",
            "Epoch 46/150\n",
            "4/4 [==============================] - 0s 13ms/step - loss: 0.6187 - accuracy: 0.6880 - val_loss: 0.6154 - val_accuracy: 0.6296\n",
            "Epoch 47/150\n",
            "4/4 [==============================] - 0s 11ms/step - loss: 0.6166 - accuracy: 0.6800 - val_loss: 0.6150 - val_accuracy: 0.6296\n",
            "Epoch 48/150\n",
            "4/4 [==============================] - 0s 11ms/step - loss: 0.6256 - accuracy: 0.6480 - val_loss: 0.6234 - val_accuracy: 0.5926\n",
            "Epoch 49/150\n",
            "4/4 [==============================] - 0s 11ms/step - loss: 0.6142 - accuracy: 0.7040 - val_loss: 0.6042 - val_accuracy: 0.7037\n",
            "Epoch 50/150\n",
            "4/4 [==============================] - 0s 11ms/step - loss: 0.6172 - accuracy: 0.6800 - val_loss: 0.6127 - val_accuracy: 0.6296\n",
            "Epoch 51/150\n",
            "4/4 [==============================] - 0s 12ms/step - loss: 0.6132 - accuracy: 0.6880 - val_loss: 0.6181 - val_accuracy: 0.6296\n",
            "Epoch 52/150\n",
            "4/4 [==============================] - 0s 14ms/step - loss: 0.6108 - accuracy: 0.6960 - val_loss: 0.6131 - val_accuracy: 0.6667\n",
            "Epoch 53/150\n",
            "4/4 [==============================] - 0s 12ms/step - loss: 0.6158 - accuracy: 0.6800 - val_loss: 0.6146 - val_accuracy: 0.6667\n",
            "Epoch 54/150\n",
            "4/4 [==============================] - 0s 11ms/step - loss: 0.6110 - accuracy: 0.6800 - val_loss: 0.6262 - val_accuracy: 0.5926\n",
            "Epoch 55/150\n",
            "4/4 [==============================] - 0s 12ms/step - loss: 0.6105 - accuracy: 0.6880 - val_loss: 0.6137 - val_accuracy: 0.6296\n",
            "Epoch 56/150\n",
            "4/4 [==============================] - 0s 12ms/step - loss: 0.6053 - accuracy: 0.7040 - val_loss: 0.6148 - val_accuracy: 0.5926\n",
            "Epoch 57/150\n",
            "4/4 [==============================] - 0s 13ms/step - loss: 0.6064 - accuracy: 0.6960 - val_loss: 0.6238 - val_accuracy: 0.6296\n",
            "Epoch 58/150\n",
            "4/4 [==============================] - 0s 12ms/step - loss: 0.6073 - accuracy: 0.6800 - val_loss: 0.6189 - val_accuracy: 0.6296\n",
            "Epoch 59/150\n",
            "4/4 [==============================] - 0s 12ms/step - loss: 0.6020 - accuracy: 0.6880 - val_loss: 0.6199 - val_accuracy: 0.6296\n",
            "Epoch 60/150\n",
            "4/4 [==============================] - 0s 10ms/step - loss: 0.6011 - accuracy: 0.6960 - val_loss: 0.6236 - val_accuracy: 0.5926\n",
            "Epoch 61/150\n",
            "4/4 [==============================] - 0s 10ms/step - loss: 0.6027 - accuracy: 0.6800 - val_loss: 0.6274 - val_accuracy: 0.5926\n",
            "Epoch 62/150\n",
            "4/4 [==============================] - 0s 11ms/step - loss: 0.5953 - accuracy: 0.6880 - val_loss: 0.6314 - val_accuracy: 0.6296\n",
            "Epoch 63/150\n",
            "4/4 [==============================] - 0s 10ms/step - loss: 0.5909 - accuracy: 0.7120 - val_loss: 0.6458 - val_accuracy: 0.6296\n",
            "Epoch 64/150\n",
            "4/4 [==============================] - 0s 11ms/step - loss: 0.5927 - accuracy: 0.6880 - val_loss: 0.6437 - val_accuracy: 0.6296\n",
            "Epoch 65/150\n",
            "4/4 [==============================] - 0s 11ms/step - loss: 0.5860 - accuracy: 0.6960 - val_loss: 0.6497 - val_accuracy: 0.6296\n",
            "Epoch 66/150\n",
            "4/4 [==============================] - 0s 11ms/step - loss: 0.5815 - accuracy: 0.7120 - val_loss: 0.6454 - val_accuracy: 0.6296\n",
            "Epoch 67/150\n",
            "4/4 [==============================] - 0s 11ms/step - loss: 0.5821 - accuracy: 0.7120 - val_loss: 0.6432 - val_accuracy: 0.6296\n",
            "Epoch 68/150\n",
            "4/4 [==============================] - 0s 11ms/step - loss: 0.5768 - accuracy: 0.7200 - val_loss: 0.6515 - val_accuracy: 0.6296\n",
            "Epoch 69/150\n",
            "4/4 [==============================] - 0s 13ms/step - loss: 0.5766 - accuracy: 0.7040 - val_loss: 0.6710 - val_accuracy: 0.5926\n",
            "Epoch 70/150\n",
            "4/4 [==============================] - 0s 11ms/step - loss: 0.5791 - accuracy: 0.7040 - val_loss: 0.6794 - val_accuracy: 0.5926\n",
            "Epoch 71/150\n",
            "4/4 [==============================] - 0s 13ms/step - loss: 0.5811 - accuracy: 0.6960 - val_loss: 0.6790 - val_accuracy: 0.5185\n",
            "Epoch 72/150\n",
            "4/4 [==============================] - 0s 12ms/step - loss: 0.5708 - accuracy: 0.7120 - val_loss: 0.6713 - val_accuracy: 0.6667\n",
            "Epoch 73/150\n",
            "4/4 [==============================] - 0s 14ms/step - loss: 0.5677 - accuracy: 0.6960 - val_loss: 0.6647 - val_accuracy: 0.6667\n",
            "Epoch 74/150\n",
            "4/4 [==============================] - 0s 10ms/step - loss: 0.5679 - accuracy: 0.7040 - val_loss: 0.6718 - val_accuracy: 0.5926\n",
            "Epoch 75/150\n",
            "4/4 [==============================] - 0s 11ms/step - loss: 0.5679 - accuracy: 0.7120 - val_loss: 0.6956 - val_accuracy: 0.5556\n",
            "Epoch 76/150\n",
            "4/4 [==============================] - 0s 11ms/step - loss: 0.5628 - accuracy: 0.7200 - val_loss: 0.6776 - val_accuracy: 0.6667\n",
            "Epoch 77/150\n",
            "4/4 [==============================] - 0s 12ms/step - loss: 0.5690 - accuracy: 0.6960 - val_loss: 0.6616 - val_accuracy: 0.6667\n",
            "Epoch 78/150\n",
            "4/4 [==============================] - 0s 11ms/step - loss: 0.5608 - accuracy: 0.6880 - val_loss: 0.6720 - val_accuracy: 0.6667\n",
            "Epoch 79/150\n",
            "4/4 [==============================] - 0s 11ms/step - loss: 0.5630 - accuracy: 0.7120 - val_loss: 0.6839 - val_accuracy: 0.6296\n",
            "Epoch 80/150\n",
            "4/4 [==============================] - 0s 12ms/step - loss: 0.5687 - accuracy: 0.6880 - val_loss: 0.6765 - val_accuracy: 0.6667\n",
            "Epoch 81/150\n",
            "4/4 [==============================] - 0s 12ms/step - loss: 0.5537 - accuracy: 0.7200 - val_loss: 0.6975 - val_accuracy: 0.5926\n",
            "Epoch 82/150\n",
            "4/4 [==============================] - 0s 12ms/step - loss: 0.5509 - accuracy: 0.7280 - val_loss: 0.6920 - val_accuracy: 0.6296\n",
            "Epoch 83/150\n",
            "4/4 [==============================] - 0s 13ms/step - loss: 0.5475 - accuracy: 0.7040 - val_loss: 0.6842 - val_accuracy: 0.5926\n",
            "Epoch 84/150\n",
            "4/4 [==============================] - 0s 13ms/step - loss: 0.5445 - accuracy: 0.7120 - val_loss: 0.7018 - val_accuracy: 0.6296\n",
            "Epoch 85/150\n",
            "4/4 [==============================] - 0s 12ms/step - loss: 0.5434 - accuracy: 0.7200 - val_loss: 0.7040 - val_accuracy: 0.5926\n",
            "Epoch 86/150\n",
            "4/4 [==============================] - 0s 12ms/step - loss: 0.5379 - accuracy: 0.7200 - val_loss: 0.6914 - val_accuracy: 0.5926\n",
            "Epoch 87/150\n",
            "4/4 [==============================] - 0s 11ms/step - loss: 0.5396 - accuracy: 0.7280 - val_loss: 0.7041 - val_accuracy: 0.5185\n",
            "Epoch 88/150\n",
            "4/4 [==============================] - 0s 11ms/step - loss: 0.5420 - accuracy: 0.7200 - val_loss: 0.7099 - val_accuracy: 0.5556\n",
            "Epoch 89/150\n",
            "4/4 [==============================] - 0s 12ms/step - loss: 0.5336 - accuracy: 0.7280 - val_loss: 0.7157 - val_accuracy: 0.5556\n",
            "Epoch 90/150\n",
            "4/4 [==============================] - 0s 14ms/step - loss: 0.5390 - accuracy: 0.7120 - val_loss: 0.7145 - val_accuracy: 0.5556\n",
            "Epoch 91/150\n",
            "4/4 [==============================] - 0s 12ms/step - loss: 0.5300 - accuracy: 0.7280 - val_loss: 0.7238 - val_accuracy: 0.5926\n",
            "Epoch 92/150\n",
            "4/4 [==============================] - 0s 11ms/step - loss: 0.5314 - accuracy: 0.7280 - val_loss: 0.7246 - val_accuracy: 0.6296\n",
            "Epoch 93/150\n",
            "4/4 [==============================] - 0s 12ms/step - loss: 0.5246 - accuracy: 0.7280 - val_loss: 0.7118 - val_accuracy: 0.6296\n",
            "Epoch 94/150\n",
            "4/4 [==============================] - 0s 15ms/step - loss: 0.5246 - accuracy: 0.7280 - val_loss: 0.7272 - val_accuracy: 0.5926\n",
            "Epoch 95/150\n",
            "4/4 [==============================] - 0s 12ms/step - loss: 0.5321 - accuracy: 0.7280 - val_loss: 0.7351 - val_accuracy: 0.5556\n",
            "Epoch 96/150\n",
            "4/4 [==============================] - 0s 11ms/step - loss: 0.5451 - accuracy: 0.7040 - val_loss: 0.7358 - val_accuracy: 0.5556\n",
            "Epoch 97/150\n",
            "4/4 [==============================] - 0s 15ms/step - loss: 0.5234 - accuracy: 0.7440 - val_loss: 0.7136 - val_accuracy: 0.5556\n",
            "Epoch 98/150\n",
            "4/4 [==============================] - 0s 13ms/step - loss: 0.5339 - accuracy: 0.7120 - val_loss: 0.7392 - val_accuracy: 0.6296\n",
            "Epoch 99/150\n",
            "4/4 [==============================] - 0s 12ms/step - loss: 0.5338 - accuracy: 0.6960 - val_loss: 0.7145 - val_accuracy: 0.5926\n",
            "Epoch 100/150\n",
            "4/4 [==============================] - 0s 16ms/step - loss: 0.5290 - accuracy: 0.7200 - val_loss: 0.7529 - val_accuracy: 0.5556\n",
            "Epoch 101/150\n",
            "4/4 [==============================] - 0s 15ms/step - loss: 0.5287 - accuracy: 0.7200 - val_loss: 0.8205 - val_accuracy: 0.4444\n",
            "Epoch 102/150\n",
            "4/4 [==============================] - 0s 13ms/step - loss: 0.5353 - accuracy: 0.7200 - val_loss: 0.7868 - val_accuracy: 0.5926\n",
            "Epoch 103/150\n",
            "4/4 [==============================] - 0s 14ms/step - loss: 0.5117 - accuracy: 0.7360 - val_loss: 0.7616 - val_accuracy: 0.5556\n",
            "Epoch 104/150\n",
            "4/4 [==============================] - 0s 12ms/step - loss: 0.5390 - accuracy: 0.6880 - val_loss: 0.9151 - val_accuracy: 0.4444\n",
            "Epoch 105/150\n",
            "4/4 [==============================] - 0s 14ms/step - loss: 0.4935 - accuracy: 0.7760 - val_loss: 0.9007 - val_accuracy: 0.5556\n",
            "Epoch 106/150\n",
            "4/4 [==============================] - 0s 13ms/step - loss: 0.5069 - accuracy: 0.7120 - val_loss: 0.9604 - val_accuracy: 0.5185\n",
            "Epoch 107/150\n",
            "4/4 [==============================] - 0s 19ms/step - loss: 0.5120 - accuracy: 0.7200 - val_loss: 0.9808 - val_accuracy: 0.4444\n",
            "Epoch 108/150\n",
            "4/4 [==============================] - 0s 11ms/step - loss: 0.4866 - accuracy: 0.7440 - val_loss: 0.9135 - val_accuracy: 0.4815\n",
            "Epoch 109/150\n",
            "4/4 [==============================] - 0s 11ms/step - loss: 0.4951 - accuracy: 0.7200 - val_loss: 0.9351 - val_accuracy: 0.4815\n",
            "Epoch 110/150\n",
            "4/4 [==============================] - 0s 11ms/step - loss: 0.4828 - accuracy: 0.7760 - val_loss: 1.0453 - val_accuracy: 0.4815\n",
            "Epoch 111/150\n",
            "4/4 [==============================] - 0s 13ms/step - loss: 0.4880 - accuracy: 0.7600 - val_loss: 0.9767 - val_accuracy: 0.4074\n",
            "Epoch 112/150\n",
            "4/4 [==============================] - 0s 13ms/step - loss: 0.4744 - accuracy: 0.7680 - val_loss: 1.0320 - val_accuracy: 0.4444\n",
            "Epoch 113/150\n",
            "4/4 [==============================] - 0s 16ms/step - loss: 0.4680 - accuracy: 0.7680 - val_loss: 1.0060 - val_accuracy: 0.4074\n",
            "Epoch 114/150\n",
            "4/4 [==============================] - 0s 13ms/step - loss: 0.4739 - accuracy: 0.7680 - val_loss: 0.9997 - val_accuracy: 0.3704\n",
            "Epoch 115/150\n",
            "4/4 [==============================] - 0s 13ms/step - loss: 0.4650 - accuracy: 0.7760 - val_loss: 0.9959 - val_accuracy: 0.4444\n",
            "Epoch 116/150\n",
            "4/4 [==============================] - 0s 13ms/step - loss: 0.4848 - accuracy: 0.7520 - val_loss: 1.0107 - val_accuracy: 0.4074\n",
            "Epoch 117/150\n",
            "4/4 [==============================] - 0s 11ms/step - loss: 0.4600 - accuracy: 0.7680 - val_loss: 1.0315 - val_accuracy: 0.3704\n",
            "Epoch 118/150\n",
            "4/4 [==============================] - 0s 15ms/step - loss: 0.4609 - accuracy: 0.7840 - val_loss: 1.1188 - val_accuracy: 0.4074\n",
            "Epoch 119/150\n",
            "4/4 [==============================] - 0s 12ms/step - loss: 0.4603 - accuracy: 0.7840 - val_loss: 1.0887 - val_accuracy: 0.4444\n",
            "Epoch 120/150\n",
            "4/4 [==============================] - 0s 13ms/step - loss: 0.4670 - accuracy: 0.7440 - val_loss: 1.0219 - val_accuracy: 0.4444\n",
            "Epoch 121/150\n",
            "4/4 [==============================] - 0s 11ms/step - loss: 0.4549 - accuracy: 0.7760 - val_loss: 1.0597 - val_accuracy: 0.4444\n",
            "Epoch 122/150\n",
            "4/4 [==============================] - 0s 12ms/step - loss: 0.4557 - accuracy: 0.7680 - val_loss: 1.1331 - val_accuracy: 0.4444\n",
            "Epoch 123/150\n",
            "4/4 [==============================] - 0s 13ms/step - loss: 0.4573 - accuracy: 0.7760 - val_loss: 1.0676 - val_accuracy: 0.4074\n",
            "Epoch 124/150\n",
            "4/4 [==============================] - 0s 12ms/step - loss: 0.4721 - accuracy: 0.7360 - val_loss: 1.0370 - val_accuracy: 0.4444\n",
            "Epoch 125/150\n",
            "4/4 [==============================] - 0s 14ms/step - loss: 0.4584 - accuracy: 0.7840 - val_loss: 1.0730 - val_accuracy: 0.5185\n",
            "Epoch 126/150\n",
            "4/4 [==============================] - 0s 12ms/step - loss: 0.4745 - accuracy: 0.7600 - val_loss: 1.1954 - val_accuracy: 0.4815\n",
            "Epoch 127/150\n",
            "4/4 [==============================] - 0s 12ms/step - loss: 0.4544 - accuracy: 0.7760 - val_loss: 1.1514 - val_accuracy: 0.4074\n",
            "Epoch 128/150\n",
            "4/4 [==============================] - 0s 14ms/step - loss: 0.4474 - accuracy: 0.7760 - val_loss: 1.0714 - val_accuracy: 0.4444\n",
            "Epoch 129/150\n",
            "4/4 [==============================] - 0s 11ms/step - loss: 0.4427 - accuracy: 0.8080 - val_loss: 1.0321 - val_accuracy: 0.4815\n",
            "Epoch 130/150\n",
            "4/4 [==============================] - 0s 13ms/step - loss: 0.4529 - accuracy: 0.8000 - val_loss: 1.0948 - val_accuracy: 0.4815\n",
            "Epoch 131/150\n",
            "4/4 [==============================] - 0s 12ms/step - loss: 0.4682 - accuracy: 0.7600 - val_loss: 1.1258 - val_accuracy: 0.4444\n",
            "Epoch 132/150\n",
            "4/4 [==============================] - 0s 14ms/step - loss: 0.4489 - accuracy: 0.7600 - val_loss: 1.1227 - val_accuracy: 0.4815\n",
            "Epoch 133/150\n",
            "4/4 [==============================] - 0s 11ms/step - loss: 0.4575 - accuracy: 0.7920 - val_loss: 1.2144 - val_accuracy: 0.5185\n",
            "Epoch 134/150\n",
            "4/4 [==============================] - 0s 11ms/step - loss: 0.4520 - accuracy: 0.8000 - val_loss: 1.1965 - val_accuracy: 0.4444\n",
            "Epoch 135/150\n",
            "4/4 [==============================] - 0s 12ms/step - loss: 0.4520 - accuracy: 0.7600 - val_loss: 1.0555 - val_accuracy: 0.4815\n",
            "Epoch 136/150\n",
            "4/4 [==============================] - 0s 11ms/step - loss: 0.4908 - accuracy: 0.7120 - val_loss: 1.1164 - val_accuracy: 0.5185\n",
            "Epoch 137/150\n",
            "4/4 [==============================] - 0s 13ms/step - loss: 0.4554 - accuracy: 0.7440 - val_loss: 1.3092 - val_accuracy: 0.4444\n",
            "Epoch 138/150\n",
            "4/4 [==============================] - 0s 11ms/step - loss: 0.4512 - accuracy: 0.7680 - val_loss: 1.3588 - val_accuracy: 0.4444\n",
            "Epoch 139/150\n",
            "4/4 [==============================] - 0s 11ms/step - loss: 0.4346 - accuracy: 0.7920 - val_loss: 1.2358 - val_accuracy: 0.4444\n",
            "Epoch 140/150\n",
            "4/4 [==============================] - 0s 12ms/step - loss: 0.4351 - accuracy: 0.8000 - val_loss: 1.1355 - val_accuracy: 0.4444\n",
            "Epoch 141/150\n",
            "4/4 [==============================] - 0s 13ms/step - loss: 0.4346 - accuracy: 0.8160 - val_loss: 1.2003 - val_accuracy: 0.4815\n",
            "Epoch 142/150\n",
            "4/4 [==============================] - 0s 12ms/step - loss: 0.4393 - accuracy: 0.7920 - val_loss: 1.3723 - val_accuracy: 0.4815\n",
            "Epoch 143/150\n",
            "4/4 [==============================] - 0s 20ms/step - loss: 0.4213 - accuracy: 0.8000 - val_loss: 1.3251 - val_accuracy: 0.4444\n",
            "Epoch 144/150\n",
            "4/4 [==============================] - 0s 11ms/step - loss: 0.4306 - accuracy: 0.7920 - val_loss: 1.3093 - val_accuracy: 0.4444\n",
            "Epoch 145/150\n",
            "4/4 [==============================] - 0s 11ms/step - loss: 0.4217 - accuracy: 0.7840 - val_loss: 1.3609 - val_accuracy: 0.4444\n",
            "Epoch 146/150\n",
            "4/4 [==============================] - 0s 11ms/step - loss: 0.4343 - accuracy: 0.8080 - val_loss: 1.3443 - val_accuracy: 0.4815\n",
            "Epoch 147/150\n",
            "4/4 [==============================] - 0s 12ms/step - loss: 0.4247 - accuracy: 0.7920 - val_loss: 1.2855 - val_accuracy: 0.4444\n",
            "Epoch 148/150\n",
            "4/4 [==============================] - 0s 12ms/step - loss: 0.4233 - accuracy: 0.8080 - val_loss: 1.3573 - val_accuracy: 0.4815\n",
            "Epoch 149/150\n",
            "4/4 [==============================] - 0s 13ms/step - loss: 0.4261 - accuracy: 0.7840 - val_loss: 1.3888 - val_accuracy: 0.4074\n",
            "Epoch 150/150\n",
            "4/4 [==============================] - 0s 12ms/step - loss: 0.4188 - accuracy: 0.8160 - val_loss: 1.4328 - val_accuracy: 0.4074\n"
          ]
        }
      ]
    },
    {
      "cell_type": "code",
      "source": [
        "model5.evaluate(X_test, y_test)"
      ],
      "metadata": {
        "colab": {
          "base_uri": "https://localhost:8080/"
        },
        "id": "9gvMvEml7qdi",
        "outputId": "03898eae-3b8e-4d7d-f63e-839335d44fd0"
      },
      "execution_count": 881,
      "outputs": [
        {
          "output_type": "stream",
          "name": "stdout",
          "text": [
            "1/1 [==============================] - 0s 21ms/step - loss: 24.0271 - accuracy: 0.5217\n"
          ]
        },
        {
          "output_type": "execute_result",
          "data": {
            "text/plain": [
              "[24.027088165283203, 0.52173912525177]"
            ]
          },
          "metadata": {},
          "execution_count": 881
        }
      ]
    },
    {
      "cell_type": "code",
      "source": [
        "model5 = tf.keras.models.load_model(f\"/content/model_experiments/{model5.name}\")\n",
        "model5.evaluate(X_test, y_test)"
      ],
      "metadata": {
        "id": "XeQ1W3ycq2Kg",
        "outputId": "735ef07e-7057-46de-a7a0-685cd5512cbe",
        "colab": {
          "base_uri": "https://localhost:8080/"
        }
      },
      "execution_count": 882,
      "outputs": [
        {
          "output_type": "stream",
          "name": "stdout",
          "text": [
            "1/1 [==============================] - 0s 132ms/step - loss: 10.2069 - accuracy: 0.6087\n"
          ]
        },
        {
          "output_type": "execute_result",
          "data": {
            "text/plain": [
              "[10.20689868927002, 0.6086956262588501]"
            ]
          },
          "metadata": {},
          "execution_count": 882
        }
      ]
    },
    {
      "cell_type": "code",
      "source": [
        "tf.random.set_seed(42)\n",
        "\n",
        "model6 = tf.keras.Sequential([\n",
        "    tf.keras.layers.Dense(5, activation='relu'),\n",
        "    tf.keras.layers.Dense(20, activation='relu'),\n",
        "    tf.keras.layers.Dense(20, activation='relu'),\n",
        "\n",
        "    # tf.keras.layers.Dense(20, activation='relu'),\n",
        "    # tf.keras.layers.Dense(10, activation='relu'),\n",
        "\n",
        "    # tf.keras.layers.Dense(256, activation='relu'),\n",
        "    tf.keras.layers.Dense(1, activation='sigmoid')\n",
        "])\n",
        "\n",
        "model6.compile(\n",
        "    loss=tf.keras.losses.binary_crossentropy,\n",
        "    optimizer=tf.keras.optimizers.Adam(0.01),\n",
        "    metrics=[\"accuracy\"]\n",
        ")\n",
        "\n",
        "\n",
        "history6 = model6.fit(X_train_scaled, \n",
        "                    y_train, \n",
        "                    epochs=150,\n",
        "                    validation_data = (X_valid_scaled, y_valid),\n",
        "                    callbacks=[create_model_checkpoint(model_name=model6.name)])"
      ],
      "metadata": {
        "id": "aGjeYTd4eZ7x",
        "outputId": "2cc6893e-6e66-45c6-a8bd-621d8278aa8a",
        "colab": {
          "base_uri": "https://localhost:8080/"
        }
      },
      "execution_count": 883,
      "outputs": [
        {
          "output_type": "stream",
          "name": "stdout",
          "text": [
            "Epoch 1/150\n",
            "1/4 [======>.......................] - ETA: 1s - loss: 0.6918 - accuracy: 0.6562INFO:tensorflow:Assets written to: model_experiments/sequential_80/assets\n",
            "4/4 [==============================] - 1s 295ms/step - loss: 0.6907 - accuracy: 0.5680 - val_loss: 0.6751 - val_accuracy: 0.6296\n",
            "Epoch 2/150\n",
            "4/4 [==============================] - 0s 11ms/step - loss: 0.6843 - accuracy: 0.5760 - val_loss: 0.6632 - val_accuracy: 0.6296\n",
            "Epoch 3/150\n",
            "4/4 [==============================] - 0s 11ms/step - loss: 0.6788 - accuracy: 0.5760 - val_loss: 0.6618 - val_accuracy: 0.6296\n",
            "Epoch 4/150\n",
            "4/4 [==============================] - 0s 10ms/step - loss: 0.6777 - accuracy: 0.5760 - val_loss: 0.6603 - val_accuracy: 0.6296\n",
            "Epoch 5/150\n",
            "4/4 [==============================] - 0s 11ms/step - loss: 0.6777 - accuracy: 0.5760 - val_loss: 0.6606 - val_accuracy: 0.6296\n",
            "Epoch 6/150\n",
            "4/4 [==============================] - 0s 12ms/step - loss: 0.6773 - accuracy: 0.5760 - val_loss: 0.6592 - val_accuracy: 0.6296\n",
            "Epoch 7/150\n",
            "4/4 [==============================] - 0s 11ms/step - loss: 0.6758 - accuracy: 0.5760 - val_loss: 0.6615 - val_accuracy: 0.6296\n",
            "Epoch 8/150\n",
            "4/4 [==============================] - 0s 11ms/step - loss: 0.6749 - accuracy: 0.5760 - val_loss: 0.6615 - val_accuracy: 0.6296\n",
            "Epoch 9/150\n",
            "4/4 [==============================] - 0s 10ms/step - loss: 0.6734 - accuracy: 0.5680 - val_loss: 0.6636 - val_accuracy: 0.6296\n",
            "Epoch 10/150\n",
            "1/4 [======>.......................] - ETA: 0s - loss: 0.6646 - accuracy: 0.5938INFO:tensorflow:Assets written to: model_experiments/sequential_80/assets\n",
            "4/4 [==============================] - 1s 257ms/step - loss: 0.6701 - accuracy: 0.5760 - val_loss: 0.6648 - val_accuracy: 0.6667\n",
            "Epoch 11/150\n",
            "4/4 [==============================] - 0s 13ms/step - loss: 0.6683 - accuracy: 0.5680 - val_loss: 0.6632 - val_accuracy: 0.6667\n",
            "Epoch 12/150\n",
            "4/4 [==============================] - 0s 12ms/step - loss: 0.6654 - accuracy: 0.5920 - val_loss: 0.6670 - val_accuracy: 0.5926\n",
            "Epoch 13/150\n",
            "4/4 [==============================] - 0s 12ms/step - loss: 0.6632 - accuracy: 0.6080 - val_loss: 0.6687 - val_accuracy: 0.5926\n",
            "Epoch 14/150\n",
            "4/4 [==============================] - 0s 12ms/step - loss: 0.6621 - accuracy: 0.6240 - val_loss: 0.6709 - val_accuracy: 0.5185\n",
            "Epoch 15/150\n",
            "4/4 [==============================] - 0s 11ms/step - loss: 0.6577 - accuracy: 0.6240 - val_loss: 0.6671 - val_accuracy: 0.5926\n",
            "Epoch 16/150\n",
            "4/4 [==============================] - 0s 12ms/step - loss: 0.6568 - accuracy: 0.6240 - val_loss: 0.6636 - val_accuracy: 0.5926\n",
            "Epoch 17/150\n",
            "4/4 [==============================] - 0s 13ms/step - loss: 0.6541 - accuracy: 0.6160 - val_loss: 0.6653 - val_accuracy: 0.4444\n",
            "Epoch 18/150\n",
            "4/4 [==============================] - 0s 18ms/step - loss: 0.6515 - accuracy: 0.6080 - val_loss: 0.6552 - val_accuracy: 0.5556\n",
            "Epoch 19/150\n",
            "4/4 [==============================] - 0s 12ms/step - loss: 0.6509 - accuracy: 0.6400 - val_loss: 0.6533 - val_accuracy: 0.5185\n",
            "Epoch 20/150\n",
            "4/4 [==============================] - 0s 12ms/step - loss: 0.6479 - accuracy: 0.6400 - val_loss: 0.6512 - val_accuracy: 0.5185\n",
            "Epoch 21/150\n",
            "4/4 [==============================] - 0s 11ms/step - loss: 0.6451 - accuracy: 0.6320 - val_loss: 0.6526 - val_accuracy: 0.4815\n",
            "Epoch 22/150\n",
            "4/4 [==============================] - 0s 12ms/step - loss: 0.6562 - accuracy: 0.5680 - val_loss: 0.6460 - val_accuracy: 0.5556\n",
            "Epoch 23/150\n",
            "4/4 [==============================] - 0s 13ms/step - loss: 0.6464 - accuracy: 0.6640 - val_loss: 0.6627 - val_accuracy: 0.4815\n",
            "Epoch 24/150\n",
            "4/4 [==============================] - 0s 10ms/step - loss: 0.6476 - accuracy: 0.6400 - val_loss: 0.6572 - val_accuracy: 0.4815\n",
            "Epoch 25/150\n",
            "4/4 [==============================] - 0s 11ms/step - loss: 0.6402 - accuracy: 0.6400 - val_loss: 0.6410 - val_accuracy: 0.6296\n",
            "Epoch 26/150\n",
            "4/4 [==============================] - 0s 11ms/step - loss: 0.6457 - accuracy: 0.6320 - val_loss: 0.6348 - val_accuracy: 0.6667\n",
            "Epoch 27/150\n",
            "4/4 [==============================] - 0s 11ms/step - loss: 0.6389 - accuracy: 0.6560 - val_loss: 0.6509 - val_accuracy: 0.4815\n",
            "Epoch 28/150\n",
            "4/4 [==============================] - 0s 12ms/step - loss: 0.6414 - accuracy: 0.6480 - val_loss: 0.6546 - val_accuracy: 0.4815\n",
            "Epoch 29/150\n",
            "4/4 [==============================] - 0s 12ms/step - loss: 0.6368 - accuracy: 0.6480 - val_loss: 0.6404 - val_accuracy: 0.5556\n",
            "Epoch 30/150\n",
            "4/4 [==============================] - 0s 12ms/step - loss: 0.6395 - accuracy: 0.6080 - val_loss: 0.6309 - val_accuracy: 0.6667\n",
            "Epoch 31/150\n",
            "4/4 [==============================] - 0s 10ms/step - loss: 0.6422 - accuracy: 0.6480 - val_loss: 0.6482 - val_accuracy: 0.4815\n",
            "Epoch 32/150\n",
            "4/4 [==============================] - 0s 12ms/step - loss: 0.6355 - accuracy: 0.6400 - val_loss: 0.6501 - val_accuracy: 0.5185\n",
            "Epoch 33/150\n",
            "4/4 [==============================] - 0s 14ms/step - loss: 0.6338 - accuracy: 0.6320 - val_loss: 0.6447 - val_accuracy: 0.5556\n",
            "Epoch 34/150\n",
            "4/4 [==============================] - 0s 12ms/step - loss: 0.6335 - accuracy: 0.6720 - val_loss: 0.6502 - val_accuracy: 0.5185\n",
            "Epoch 35/150\n",
            "4/4 [==============================] - 0s 13ms/step - loss: 0.6301 - accuracy: 0.6560 - val_loss: 0.6506 - val_accuracy: 0.5185\n",
            "Epoch 36/150\n",
            "4/4 [==============================] - 0s 11ms/step - loss: 0.6287 - accuracy: 0.6720 - val_loss: 0.6412 - val_accuracy: 0.5556\n",
            "Epoch 37/150\n",
            "4/4 [==============================] - 0s 11ms/step - loss: 0.6291 - accuracy: 0.6320 - val_loss: 0.6397 - val_accuracy: 0.5556\n",
            "Epoch 38/150\n",
            "4/4 [==============================] - 0s 14ms/step - loss: 0.6243 - accuracy: 0.6560 - val_loss: 0.6537 - val_accuracy: 0.5185\n",
            "Epoch 39/150\n",
            "4/4 [==============================] - 0s 11ms/step - loss: 0.6248 - accuracy: 0.6720 - val_loss: 0.6522 - val_accuracy: 0.5556\n",
            "Epoch 40/150\n",
            "4/4 [==============================] - 0s 10ms/step - loss: 0.6199 - accuracy: 0.6720 - val_loss: 0.6425 - val_accuracy: 0.5556\n",
            "Epoch 41/150\n",
            "4/4 [==============================] - 0s 10ms/step - loss: 0.6209 - accuracy: 0.6480 - val_loss: 0.6415 - val_accuracy: 0.5185\n",
            "Epoch 42/150\n",
            "4/4 [==============================] - 0s 11ms/step - loss: 0.6180 - accuracy: 0.6480 - val_loss: 0.6437 - val_accuracy: 0.5185\n",
            "Epoch 43/150\n",
            "4/4 [==============================] - 0s 11ms/step - loss: 0.6170 - accuracy: 0.6640 - val_loss: 0.6509 - val_accuracy: 0.5185\n",
            "Epoch 44/150\n",
            "4/4 [==============================] - 0s 11ms/step - loss: 0.6177 - accuracy: 0.6640 - val_loss: 0.6450 - val_accuracy: 0.5185\n",
            "Epoch 45/150\n",
            "4/4 [==============================] - 0s 12ms/step - loss: 0.6165 - accuracy: 0.6800 - val_loss: 0.6453 - val_accuracy: 0.5556\n",
            "Epoch 46/150\n",
            "4/4 [==============================] - 0s 10ms/step - loss: 0.6148 - accuracy: 0.6560 - val_loss: 0.6529 - val_accuracy: 0.5185\n",
            "Epoch 47/150\n",
            "4/4 [==============================] - 0s 10ms/step - loss: 0.6103 - accuracy: 0.6800 - val_loss: 0.6482 - val_accuracy: 0.5556\n",
            "Epoch 48/150\n",
            "4/4 [==============================] - 0s 12ms/step - loss: 0.6134 - accuracy: 0.6640 - val_loss: 0.6467 - val_accuracy: 0.5185\n",
            "Epoch 49/150\n",
            "1/4 [======>.......................] - ETA: 0s - loss: 0.6337 - accuracy: 0.6562INFO:tensorflow:Assets written to: model_experiments/sequential_80/assets\n",
            "4/4 [==============================] - 1s 241ms/step - loss: 0.6107 - accuracy: 0.6640 - val_loss: 0.6183 - val_accuracy: 0.7037\n",
            "Epoch 50/150\n",
            "4/4 [==============================] - 0s 12ms/step - loss: 0.6135 - accuracy: 0.6560 - val_loss: 0.6346 - val_accuracy: 0.5556\n",
            "Epoch 51/150\n",
            "4/4 [==============================] - 0s 14ms/step - loss: 0.6061 - accuracy: 0.6720 - val_loss: 0.6414 - val_accuracy: 0.5556\n",
            "Epoch 52/150\n",
            "4/4 [==============================] - 0s 11ms/step - loss: 0.6023 - accuracy: 0.7040 - val_loss: 0.6330 - val_accuracy: 0.5926\n",
            "Epoch 53/150\n",
            "4/4 [==============================] - 0s 11ms/step - loss: 0.6049 - accuracy: 0.6800 - val_loss: 0.6334 - val_accuracy: 0.5926\n",
            "Epoch 54/150\n",
            "4/4 [==============================] - 0s 11ms/step - loss: 0.6020 - accuracy: 0.6800 - val_loss: 0.6476 - val_accuracy: 0.6296\n",
            "Epoch 55/150\n",
            "4/4 [==============================] - 0s 11ms/step - loss: 0.6007 - accuracy: 0.7040 - val_loss: 0.6260 - val_accuracy: 0.6296\n",
            "Epoch 56/150\n",
            "4/4 [==============================] - 0s 12ms/step - loss: 0.5926 - accuracy: 0.7040 - val_loss: 0.6275 - val_accuracy: 0.6296\n",
            "Epoch 57/150\n",
            "4/4 [==============================] - 0s 13ms/step - loss: 0.5924 - accuracy: 0.6960 - val_loss: 0.6450 - val_accuracy: 0.6296\n",
            "Epoch 58/150\n",
            "4/4 [==============================] - 0s 13ms/step - loss: 0.5956 - accuracy: 0.6960 - val_loss: 0.6210 - val_accuracy: 0.6296\n",
            "Epoch 59/150\n",
            "4/4 [==============================] - 0s 13ms/step - loss: 0.5842 - accuracy: 0.6880 - val_loss: 0.6353 - val_accuracy: 0.6296\n",
            "Epoch 60/150\n",
            "4/4 [==============================] - 0s 11ms/step - loss: 0.5879 - accuracy: 0.6960 - val_loss: 0.6237 - val_accuracy: 0.6667\n",
            "Epoch 61/150\n",
            "4/4 [==============================] - 0s 17ms/step - loss: 0.5897 - accuracy: 0.7280 - val_loss: 0.6324 - val_accuracy: 0.6296\n",
            "Epoch 62/150\n",
            "4/4 [==============================] - 0s 13ms/step - loss: 0.5821 - accuracy: 0.7280 - val_loss: 0.6224 - val_accuracy: 0.6296\n",
            "Epoch 63/150\n",
            "4/4 [==============================] - 0s 12ms/step - loss: 0.5780 - accuracy: 0.7280 - val_loss: 0.6192 - val_accuracy: 0.6296\n",
            "Epoch 64/150\n",
            "4/4 [==============================] - 0s 12ms/step - loss: 0.5789 - accuracy: 0.7040 - val_loss: 0.6265 - val_accuracy: 0.6667\n",
            "Epoch 65/150\n",
            "4/4 [==============================] - 0s 11ms/step - loss: 0.5687 - accuracy: 0.7440 - val_loss: 0.6527 - val_accuracy: 0.6296\n",
            "Epoch 66/150\n",
            "4/4 [==============================] - 0s 13ms/step - loss: 0.5724 - accuracy: 0.7120 - val_loss: 0.6480 - val_accuracy: 0.6296\n",
            "Epoch 67/150\n",
            "4/4 [==============================] - 0s 12ms/step - loss: 0.5699 - accuracy: 0.7280 - val_loss: 0.6402 - val_accuracy: 0.6296\n",
            "Epoch 68/150\n",
            "4/4 [==============================] - 0s 11ms/step - loss: 0.5603 - accuracy: 0.7440 - val_loss: 0.6202 - val_accuracy: 0.6296\n",
            "Epoch 69/150\n",
            "4/4 [==============================] - 0s 12ms/step - loss: 0.5634 - accuracy: 0.7360 - val_loss: 0.6420 - val_accuracy: 0.6296\n",
            "Epoch 70/150\n",
            "4/4 [==============================] - 0s 12ms/step - loss: 0.5645 - accuracy: 0.7280 - val_loss: 0.6571 - val_accuracy: 0.6296\n",
            "Epoch 71/150\n",
            "4/4 [==============================] - 0s 12ms/step - loss: 0.5561 - accuracy: 0.7280 - val_loss: 0.6292 - val_accuracy: 0.6296\n",
            "Epoch 72/150\n",
            "4/4 [==============================] - 0s 13ms/step - loss: 0.5569 - accuracy: 0.7200 - val_loss: 0.6480 - val_accuracy: 0.6667\n",
            "Epoch 73/150\n",
            "4/4 [==============================] - 0s 13ms/step - loss: 0.5475 - accuracy: 0.7360 - val_loss: 0.6471 - val_accuracy: 0.6296\n",
            "Epoch 74/150\n",
            "4/4 [==============================] - 0s 13ms/step - loss: 0.5535 - accuracy: 0.7360 - val_loss: 0.6439 - val_accuracy: 0.6296\n",
            "Epoch 75/150\n",
            "4/4 [==============================] - 0s 12ms/step - loss: 0.5447 - accuracy: 0.7360 - val_loss: 0.6611 - val_accuracy: 0.6667\n",
            "Epoch 76/150\n",
            "4/4 [==============================] - 0s 11ms/step - loss: 0.5367 - accuracy: 0.7440 - val_loss: 0.6218 - val_accuracy: 0.7037\n",
            "Epoch 77/150\n",
            "4/4 [==============================] - 0s 18ms/step - loss: 0.5607 - accuracy: 0.7200 - val_loss: 0.6337 - val_accuracy: 0.6296\n",
            "Epoch 78/150\n",
            "4/4 [==============================] - 0s 10ms/step - loss: 0.5403 - accuracy: 0.7200 - val_loss: 0.6892 - val_accuracy: 0.7037\n",
            "Epoch 79/150\n",
            "4/4 [==============================] - 0s 13ms/step - loss: 0.5395 - accuracy: 0.7200 - val_loss: 0.6536 - val_accuracy: 0.6667\n",
            "Epoch 80/150\n",
            "4/4 [==============================] - 0s 12ms/step - loss: 0.5502 - accuracy: 0.7200 - val_loss: 0.6155 - val_accuracy: 0.6296\n",
            "Epoch 81/150\n",
            "4/4 [==============================] - 0s 13ms/step - loss: 0.5466 - accuracy: 0.7280 - val_loss: 0.6801 - val_accuracy: 0.6296\n",
            "Epoch 82/150\n",
            "4/4 [==============================] - 0s 11ms/step - loss: 0.5297 - accuracy: 0.7360 - val_loss: 0.6611 - val_accuracy: 0.6667\n",
            "Epoch 83/150\n",
            "4/4 [==============================] - 0s 10ms/step - loss: 0.5573 - accuracy: 0.7040 - val_loss: 0.6478 - val_accuracy: 0.5926\n",
            "Epoch 84/150\n",
            "4/4 [==============================] - 0s 14ms/step - loss: 0.5463 - accuracy: 0.7280 - val_loss: 0.7068 - val_accuracy: 0.5556\n",
            "Epoch 85/150\n",
            "4/4 [==============================] - 0s 11ms/step - loss: 0.5500 - accuracy: 0.7040 - val_loss: 0.6501 - val_accuracy: 0.7037\n",
            "Epoch 86/150\n",
            "4/4 [==============================] - 0s 15ms/step - loss: 0.5343 - accuracy: 0.7280 - val_loss: 0.6771 - val_accuracy: 0.5926\n",
            "Epoch 87/150\n",
            "4/4 [==============================] - 0s 11ms/step - loss: 0.5330 - accuracy: 0.7200 - val_loss: 0.7166 - val_accuracy: 0.5926\n",
            "Epoch 88/150\n",
            "4/4 [==============================] - 0s 11ms/step - loss: 0.5366 - accuracy: 0.6800 - val_loss: 0.6632 - val_accuracy: 0.5556\n",
            "Epoch 89/150\n",
            "4/4 [==============================] - 0s 12ms/step - loss: 0.5230 - accuracy: 0.7040 - val_loss: 0.6757 - val_accuracy: 0.6667\n",
            "Epoch 90/150\n",
            "4/4 [==============================] - 0s 13ms/step - loss: 0.5228 - accuracy: 0.7200 - val_loss: 0.6590 - val_accuracy: 0.5926\n",
            "Epoch 91/150\n",
            "4/4 [==============================] - 0s 11ms/step - loss: 0.5182 - accuracy: 0.7360 - val_loss: 0.6757 - val_accuracy: 0.5926\n",
            "Epoch 92/150\n",
            "4/4 [==============================] - 0s 11ms/step - loss: 0.5208 - accuracy: 0.7440 - val_loss: 0.7439 - val_accuracy: 0.5926\n",
            "Epoch 93/150\n",
            "4/4 [==============================] - 0s 13ms/step - loss: 0.5071 - accuracy: 0.7200 - val_loss: 0.7081 - val_accuracy: 0.5556\n",
            "Epoch 94/150\n",
            "4/4 [==============================] - 0s 13ms/step - loss: 0.5118 - accuracy: 0.7280 - val_loss: 0.6683 - val_accuracy: 0.5926\n",
            "Epoch 95/150\n",
            "4/4 [==============================] - 0s 11ms/step - loss: 0.5096 - accuracy: 0.7120 - val_loss: 0.6777 - val_accuracy: 0.6296\n",
            "Epoch 96/150\n",
            "4/4 [==============================] - 0s 11ms/step - loss: 0.5181 - accuracy: 0.7200 - val_loss: 0.7838 - val_accuracy: 0.5556\n",
            "Epoch 97/150\n",
            "4/4 [==============================] - 0s 12ms/step - loss: 0.5158 - accuracy: 0.7360 - val_loss: 0.7157 - val_accuracy: 0.4815\n",
            "Epoch 98/150\n",
            "4/4 [==============================] - 0s 11ms/step - loss: 0.5040 - accuracy: 0.7280 - val_loss: 0.7150 - val_accuracy: 0.5185\n",
            "Epoch 99/150\n",
            "4/4 [==============================] - 0s 12ms/step - loss: 0.4955 - accuracy: 0.7440 - val_loss: 0.7325 - val_accuracy: 0.5556\n",
            "Epoch 100/150\n",
            "4/4 [==============================] - 0s 12ms/step - loss: 0.5043 - accuracy: 0.7360 - val_loss: 0.7245 - val_accuracy: 0.5556\n",
            "Epoch 101/150\n",
            "4/4 [==============================] - 0s 12ms/step - loss: 0.4879 - accuracy: 0.7600 - val_loss: 0.7452 - val_accuracy: 0.5185\n",
            "Epoch 102/150\n",
            "4/4 [==============================] - 0s 12ms/step - loss: 0.4994 - accuracy: 0.7520 - val_loss: 0.7650 - val_accuracy: 0.5926\n",
            "Epoch 103/150\n",
            "4/4 [==============================] - 0s 12ms/step - loss: 0.4876 - accuracy: 0.7600 - val_loss: 0.7841 - val_accuracy: 0.4815\n",
            "Epoch 104/150\n",
            "4/4 [==============================] - 0s 12ms/step - loss: 0.4944 - accuracy: 0.7040 - val_loss: 0.7249 - val_accuracy: 0.4815\n",
            "Epoch 105/150\n",
            "4/4 [==============================] - 0s 15ms/step - loss: 0.4853 - accuracy: 0.7360 - val_loss: 0.7248 - val_accuracy: 0.5926\n",
            "Epoch 106/150\n",
            "4/4 [==============================] - 0s 13ms/step - loss: 0.4757 - accuracy: 0.7680 - val_loss: 0.8098 - val_accuracy: 0.5185\n",
            "Epoch 107/150\n",
            "4/4 [==============================] - 0s 13ms/step - loss: 0.5019 - accuracy: 0.7440 - val_loss: 0.7747 - val_accuracy: 0.4815\n",
            "Epoch 108/150\n",
            "4/4 [==============================] - 0s 11ms/step - loss: 0.4999 - accuracy: 0.7520 - val_loss: 0.7690 - val_accuracy: 0.5556\n",
            "Epoch 109/150\n",
            "4/4 [==============================] - 0s 11ms/step - loss: 0.4786 - accuracy: 0.7440 - val_loss: 0.8278 - val_accuracy: 0.5185\n",
            "Epoch 110/150\n",
            "4/4 [==============================] - 0s 11ms/step - loss: 0.4866 - accuracy: 0.7680 - val_loss: 0.7291 - val_accuracy: 0.5556\n",
            "Epoch 111/150\n",
            "4/4 [==============================] - 0s 14ms/step - loss: 0.4708 - accuracy: 0.7680 - val_loss: 0.7843 - val_accuracy: 0.4815\n",
            "Epoch 112/150\n",
            "4/4 [==============================] - 0s 10ms/step - loss: 0.5066 - accuracy: 0.7440 - val_loss: 0.8592 - val_accuracy: 0.4815\n",
            "Epoch 113/150\n",
            "4/4 [==============================] - 0s 11ms/step - loss: 0.4587 - accuracy: 0.7600 - val_loss: 0.7529 - val_accuracy: 0.5185\n",
            "Epoch 114/150\n",
            "4/4 [==============================] - 0s 11ms/step - loss: 0.4793 - accuracy: 0.7920 - val_loss: 0.7965 - val_accuracy: 0.4815\n",
            "Epoch 115/150\n",
            "4/4 [==============================] - 0s 11ms/step - loss: 0.4728 - accuracy: 0.7520 - val_loss: 0.8512 - val_accuracy: 0.4815\n",
            "Epoch 116/150\n",
            "4/4 [==============================] - 0s 13ms/step - loss: 0.4573 - accuracy: 0.7760 - val_loss: 0.7729 - val_accuracy: 0.5556\n",
            "Epoch 117/150\n",
            "4/4 [==============================] - 0s 13ms/step - loss: 0.4625 - accuracy: 0.7680 - val_loss: 0.8317 - val_accuracy: 0.4815\n",
            "Epoch 118/150\n",
            "4/4 [==============================] - 0s 11ms/step - loss: 0.4568 - accuracy: 0.7680 - val_loss: 0.8745 - val_accuracy: 0.4815\n",
            "Epoch 119/150\n",
            "4/4 [==============================] - 0s 12ms/step - loss: 0.4498 - accuracy: 0.7600 - val_loss: 0.8054 - val_accuracy: 0.4815\n",
            "Epoch 120/150\n",
            "4/4 [==============================] - 0s 12ms/step - loss: 0.4590 - accuracy: 0.7600 - val_loss: 0.7979 - val_accuracy: 0.4815\n",
            "Epoch 121/150\n",
            "4/4 [==============================] - 0s 11ms/step - loss: 0.4631 - accuracy: 0.7600 - val_loss: 0.8823 - val_accuracy: 0.4815\n",
            "Epoch 122/150\n",
            "4/4 [==============================] - 0s 12ms/step - loss: 0.4528 - accuracy: 0.7600 - val_loss: 0.7993 - val_accuracy: 0.5926\n",
            "Epoch 123/150\n",
            "4/4 [==============================] - 0s 11ms/step - loss: 0.4619 - accuracy: 0.7760 - val_loss: 0.8739 - val_accuracy: 0.4815\n",
            "Epoch 124/150\n",
            "4/4 [==============================] - 0s 13ms/step - loss: 0.4713 - accuracy: 0.7760 - val_loss: 0.8043 - val_accuracy: 0.4815\n",
            "Epoch 125/150\n",
            "4/4 [==============================] - 0s 11ms/step - loss: 0.4451 - accuracy: 0.8000 - val_loss: 0.8896 - val_accuracy: 0.5185\n",
            "Epoch 126/150\n",
            "4/4 [==============================] - 0s 11ms/step - loss: 0.4531 - accuracy: 0.7840 - val_loss: 0.9543 - val_accuracy: 0.4815\n",
            "Epoch 127/150\n",
            "4/4 [==============================] - 0s 10ms/step - loss: 0.4496 - accuracy: 0.7840 - val_loss: 0.8382 - val_accuracy: 0.4815\n",
            "Epoch 128/150\n",
            "4/4 [==============================] - 0s 13ms/step - loss: 0.4317 - accuracy: 0.7840 - val_loss: 0.8682 - val_accuracy: 0.4815\n",
            "Epoch 129/150\n",
            "4/4 [==============================] - 0s 18ms/step - loss: 0.4499 - accuracy: 0.7840 - val_loss: 0.9007 - val_accuracy: 0.4815\n",
            "Epoch 130/150\n",
            "4/4 [==============================] - 0s 13ms/step - loss: 0.4332 - accuracy: 0.7520 - val_loss: 0.8522 - val_accuracy: 0.5185\n",
            "Epoch 131/150\n",
            "4/4 [==============================] - 0s 15ms/step - loss: 0.4457 - accuracy: 0.8000 - val_loss: 0.8938 - val_accuracy: 0.5556\n",
            "Epoch 132/150\n",
            "4/4 [==============================] - 0s 12ms/step - loss: 0.4113 - accuracy: 0.8000 - val_loss: 0.8836 - val_accuracy: 0.5185\n",
            "Epoch 133/150\n",
            "4/4 [==============================] - 0s 11ms/step - loss: 0.4322 - accuracy: 0.7760 - val_loss: 0.8847 - val_accuracy: 0.4815\n",
            "Epoch 134/150\n",
            "4/4 [==============================] - 0s 10ms/step - loss: 0.4299 - accuracy: 0.7760 - val_loss: 0.8640 - val_accuracy: 0.5185\n",
            "Epoch 135/150\n",
            "4/4 [==============================] - 0s 13ms/step - loss: 0.4266 - accuracy: 0.7920 - val_loss: 0.8898 - val_accuracy: 0.5185\n",
            "Epoch 136/150\n",
            "4/4 [==============================] - 0s 12ms/step - loss: 0.4051 - accuracy: 0.8160 - val_loss: 0.9319 - val_accuracy: 0.4815\n",
            "Epoch 137/150\n",
            "4/4 [==============================] - 0s 12ms/step - loss: 0.4102 - accuracy: 0.8240 - val_loss: 0.9142 - val_accuracy: 0.4815\n",
            "Epoch 138/150\n",
            "4/4 [==============================] - 0s 11ms/step - loss: 0.4207 - accuracy: 0.8000 - val_loss: 0.8840 - val_accuracy: 0.4815\n",
            "Epoch 139/150\n",
            "4/4 [==============================] - 0s 12ms/step - loss: 0.3989 - accuracy: 0.8160 - val_loss: 0.9653 - val_accuracy: 0.5185\n",
            "Epoch 140/150\n",
            "4/4 [==============================] - 0s 11ms/step - loss: 0.4058 - accuracy: 0.8160 - val_loss: 0.9101 - val_accuracy: 0.5185\n",
            "Epoch 141/150\n",
            "4/4 [==============================] - 0s 11ms/step - loss: 0.4137 - accuracy: 0.7920 - val_loss: 0.8594 - val_accuracy: 0.5185\n",
            "Epoch 142/150\n",
            "4/4 [==============================] - 0s 12ms/step - loss: 0.4314 - accuracy: 0.7760 - val_loss: 0.9134 - val_accuracy: 0.5556\n",
            "Epoch 143/150\n",
            "4/4 [==============================] - 0s 12ms/step - loss: 0.3981 - accuracy: 0.8160 - val_loss: 0.9582 - val_accuracy: 0.5556\n",
            "Epoch 144/150\n",
            "4/4 [==============================] - 0s 12ms/step - loss: 0.4291 - accuracy: 0.7840 - val_loss: 0.9820 - val_accuracy: 0.5185\n",
            "Epoch 145/150\n",
            "4/4 [==============================] - 0s 12ms/step - loss: 0.4400 - accuracy: 0.7760 - val_loss: 0.8698 - val_accuracy: 0.6296\n",
            "Epoch 146/150\n",
            "4/4 [==============================] - 0s 11ms/step - loss: 0.4439 - accuracy: 0.7760 - val_loss: 0.9021 - val_accuracy: 0.5185\n",
            "Epoch 147/150\n",
            "4/4 [==============================] - 0s 11ms/step - loss: 0.4332 - accuracy: 0.8080 - val_loss: 1.0102 - val_accuracy: 0.5556\n",
            "Epoch 148/150\n",
            "4/4 [==============================] - 0s 13ms/step - loss: 0.4245 - accuracy: 0.7680 - val_loss: 0.9346 - val_accuracy: 0.5556\n",
            "Epoch 149/150\n",
            "4/4 [==============================] - 0s 15ms/step - loss: 0.4018 - accuracy: 0.7920 - val_loss: 0.8456 - val_accuracy: 0.5926\n",
            "Epoch 150/150\n",
            "4/4 [==============================] - 0s 13ms/step - loss: 0.4184 - accuracy: 0.7920 - val_loss: 0.9807 - val_accuracy: 0.5185\n"
          ]
        }
      ]
    },
    {
      "cell_type": "code",
      "source": [
        "model6.evaluate(X_test, y_test)"
      ],
      "metadata": {
        "colab": {
          "base_uri": "https://localhost:8080/"
        },
        "id": "Mk7CoEfq7r7I",
        "outputId": "faf01d40-fc22-4207-bb3c-9746b3fd8037"
      },
      "execution_count": 884,
      "outputs": [
        {
          "output_type": "stream",
          "name": "stdout",
          "text": [
            "1/1 [==============================] - 0s 24ms/step - loss: 74.7819 - accuracy: 0.6087\n"
          ]
        },
        {
          "output_type": "execute_result",
          "data": {
            "text/plain": [
              "[74.7818832397461, 0.6086956262588501]"
            ]
          },
          "metadata": {},
          "execution_count": 884
        }
      ]
    },
    {
      "cell_type": "code",
      "source": [
        "model6 = tf.keras.models.load_model(f\"/content/model_experiments/{model6.name}\")\n",
        "model6.evaluate(X_test, y_test)"
      ],
      "metadata": {
        "id": "jWwLJ77yq27l",
        "outputId": "ea8382df-144b-4975-8029-f1eb9b888ac3",
        "colab": {
          "base_uri": "https://localhost:8080/"
        }
      },
      "execution_count": 885,
      "outputs": [
        {
          "output_type": "stream",
          "name": "stdout",
          "text": [
            "1/1 [==============================] - 0s 124ms/step - loss: 9.7797 - accuracy: 0.6087\n"
          ]
        },
        {
          "output_type": "execute_result",
          "data": {
            "text/plain": [
              "[9.779716491699219, 0.6086956262588501]"
            ]
          },
          "metadata": {},
          "execution_count": 885
        }
      ]
    },
    {
      "cell_type": "code",
      "source": [
        "tf.random.set_seed(42)\n",
        "\n",
        "model7 = tf.keras.Sequential([\n",
        "    tf.keras.layers.Dense(5, activation='relu'),\n",
        "    tf.keras.layers.Dense(4, activation='relu'),\n",
        "    tf.keras.layers.Dense(4, activation='relu'),\n",
        "\n",
        "    # tf.keras.layers.Dense(20, activation='relu'),\n",
        "    # tf.keras.layers.Dense(10, activation='relu'),\n",
        "\n",
        "    # tf.keras.layers.Dense(256, activation='relu'),\n",
        "    tf.keras.layers.Dense(1, activation='sigmoid')\n",
        "])\n",
        "\n",
        "model7.compile(\n",
        "    loss=tf.keras.losses.binary_crossentropy,\n",
        "    optimizer=tf.keras.optimizers.Adam(0.001),\n",
        "    metrics=[\"accuracy\"]\n",
        ")\n",
        "\n",
        "\n",
        "history7 = model7.fit(X_train_scaled, \n",
        "                    y_train, \n",
        "                    epochs=350,\n",
        "                    validation_data = (X_valid_scaled, y_valid),\n",
        "                    callbacks=[create_model_checkpoint(model_name=model7.name)])"
      ],
      "metadata": {
        "id": "h_ByrY0Cecaw",
        "outputId": "9f7cdc8a-5862-47c9-ac03-152c50b8f282",
        "colab": {
          "base_uri": "https://localhost:8080/"
        }
      },
      "execution_count": 886,
      "outputs": [
        {
          "output_type": "stream",
          "name": "stdout",
          "text": [
            "Epoch 1/350\n",
            "1/4 [======>.......................] - ETA: 5s - loss: 0.6919 - accuracy: 0.6250INFO:tensorflow:Assets written to: model_experiments/sequential_81/assets\n",
            "4/4 [==============================] - 3s 306ms/step - loss: 0.6921 - accuracy: 0.5760 - val_loss: 0.6914 - val_accuracy: 0.6296\n",
            "Epoch 2/350\n",
            "4/4 [==============================] - 0s 10ms/step - loss: 0.6916 - accuracy: 0.5840 - val_loss: 0.6910 - val_accuracy: 0.6296\n",
            "Epoch 3/350\n",
            "4/4 [==============================] - 0s 11ms/step - loss: 0.6911 - accuracy: 0.5760 - val_loss: 0.6906 - val_accuracy: 0.6296\n",
            "Epoch 4/350\n",
            "4/4 [==============================] - 0s 11ms/step - loss: 0.6907 - accuracy: 0.5760 - val_loss: 0.6903 - val_accuracy: 0.6296\n",
            "Epoch 5/350\n",
            "4/4 [==============================] - 0s 12ms/step - loss: 0.6903 - accuracy: 0.5760 - val_loss: 0.6898 - val_accuracy: 0.6296\n",
            "Epoch 6/350\n",
            "4/4 [==============================] - 0s 12ms/step - loss: 0.6899 - accuracy: 0.5760 - val_loss: 0.6893 - val_accuracy: 0.6296\n",
            "Epoch 7/350\n",
            "4/4 [==============================] - 0s 13ms/step - loss: 0.6893 - accuracy: 0.5760 - val_loss: 0.6891 - val_accuracy: 0.6296\n",
            "Epoch 8/350\n",
            "4/4 [==============================] - 0s 12ms/step - loss: 0.6890 - accuracy: 0.5760 - val_loss: 0.6887 - val_accuracy: 0.6296\n",
            "Epoch 9/350\n",
            "4/4 [==============================] - 0s 11ms/step - loss: 0.6885 - accuracy: 0.5760 - val_loss: 0.6884 - val_accuracy: 0.6296\n",
            "Epoch 10/350\n",
            "4/4 [==============================] - 0s 11ms/step - loss: 0.6882 - accuracy: 0.5760 - val_loss: 0.6880 - val_accuracy: 0.6296\n",
            "Epoch 11/350\n",
            "4/4 [==============================] - 0s 10ms/step - loss: 0.6880 - accuracy: 0.5760 - val_loss: 0.6875 - val_accuracy: 0.6296\n",
            "Epoch 12/350\n",
            "4/4 [==============================] - 0s 10ms/step - loss: 0.6876 - accuracy: 0.5760 - val_loss: 0.6870 - val_accuracy: 0.6296\n",
            "Epoch 13/350\n",
            "4/4 [==============================] - 0s 10ms/step - loss: 0.6874 - accuracy: 0.5760 - val_loss: 0.6866 - val_accuracy: 0.6296\n",
            "Epoch 14/350\n",
            "4/4 [==============================] - 0s 13ms/step - loss: 0.6871 - accuracy: 0.5760 - val_loss: 0.6861 - val_accuracy: 0.6296\n",
            "Epoch 15/350\n",
            "4/4 [==============================] - 0s 11ms/step - loss: 0.6867 - accuracy: 0.5760 - val_loss: 0.6856 - val_accuracy: 0.6296\n",
            "Epoch 16/350\n",
            "4/4 [==============================] - 0s 11ms/step - loss: 0.6863 - accuracy: 0.5760 - val_loss: 0.6851 - val_accuracy: 0.6296\n",
            "Epoch 17/350\n",
            "4/4 [==============================] - 0s 12ms/step - loss: 0.6858 - accuracy: 0.5760 - val_loss: 0.6842 - val_accuracy: 0.6296\n",
            "Epoch 18/350\n",
            "4/4 [==============================] - 0s 11ms/step - loss: 0.6852 - accuracy: 0.5760 - val_loss: 0.6833 - val_accuracy: 0.6296\n",
            "Epoch 19/350\n",
            "4/4 [==============================] - 0s 11ms/step - loss: 0.6842 - accuracy: 0.5760 - val_loss: 0.6822 - val_accuracy: 0.6296\n",
            "Epoch 20/350\n",
            "4/4 [==============================] - 0s 11ms/step - loss: 0.6835 - accuracy: 0.5760 - val_loss: 0.6808 - val_accuracy: 0.6296\n",
            "Epoch 21/350\n",
            "4/4 [==============================] - 0s 13ms/step - loss: 0.6828 - accuracy: 0.5760 - val_loss: 0.6799 - val_accuracy: 0.6296\n",
            "Epoch 22/350\n",
            "4/4 [==============================] - 0s 19ms/step - loss: 0.6828 - accuracy: 0.5760 - val_loss: 0.6790 - val_accuracy: 0.6296\n",
            "Epoch 23/350\n",
            "4/4 [==============================] - 0s 11ms/step - loss: 0.6816 - accuracy: 0.5760 - val_loss: 0.6782 - val_accuracy: 0.6296\n",
            "Epoch 24/350\n",
            "4/4 [==============================] - 0s 11ms/step - loss: 0.6813 - accuracy: 0.5760 - val_loss: 0.6773 - val_accuracy: 0.6296\n",
            "Epoch 25/350\n",
            "4/4 [==============================] - 0s 10ms/step - loss: 0.6807 - accuracy: 0.5760 - val_loss: 0.6766 - val_accuracy: 0.6296\n",
            "Epoch 26/350\n",
            "4/4 [==============================] - 0s 12ms/step - loss: 0.6806 - accuracy: 0.5760 - val_loss: 0.6758 - val_accuracy: 0.6296\n",
            "Epoch 27/350\n",
            "4/4 [==============================] - 0s 12ms/step - loss: 0.6801 - accuracy: 0.5760 - val_loss: 0.6751 - val_accuracy: 0.6296\n",
            "Epoch 28/350\n",
            "4/4 [==============================] - 0s 12ms/step - loss: 0.6798 - accuracy: 0.5760 - val_loss: 0.6744 - val_accuracy: 0.6296\n",
            "Epoch 29/350\n",
            "4/4 [==============================] - 0s 10ms/step - loss: 0.6793 - accuracy: 0.5760 - val_loss: 0.6739 - val_accuracy: 0.6296\n",
            "Epoch 30/350\n",
            "4/4 [==============================] - 0s 11ms/step - loss: 0.6790 - accuracy: 0.5760 - val_loss: 0.6732 - val_accuracy: 0.6296\n",
            "Epoch 31/350\n",
            "4/4 [==============================] - 0s 17ms/step - loss: 0.6786 - accuracy: 0.5760 - val_loss: 0.6728 - val_accuracy: 0.6296\n",
            "Epoch 32/350\n",
            "4/4 [==============================] - 0s 13ms/step - loss: 0.6786 - accuracy: 0.5760 - val_loss: 0.6720 - val_accuracy: 0.6296\n",
            "Epoch 33/350\n",
            "4/4 [==============================] - 0s 11ms/step - loss: 0.6782 - accuracy: 0.5760 - val_loss: 0.6713 - val_accuracy: 0.6296\n",
            "Epoch 34/350\n",
            "4/4 [==============================] - 0s 13ms/step - loss: 0.6778 - accuracy: 0.5760 - val_loss: 0.6708 - val_accuracy: 0.6296\n",
            "Epoch 35/350\n",
            "4/4 [==============================] - 0s 13ms/step - loss: 0.6775 - accuracy: 0.5760 - val_loss: 0.6704 - val_accuracy: 0.6296\n",
            "Epoch 36/350\n",
            "4/4 [==============================] - 0s 12ms/step - loss: 0.6774 - accuracy: 0.5760 - val_loss: 0.6699 - val_accuracy: 0.6296\n",
            "Epoch 37/350\n",
            "4/4 [==============================] - 0s 11ms/step - loss: 0.6773 - accuracy: 0.5760 - val_loss: 0.6694 - val_accuracy: 0.6296\n",
            "Epoch 38/350\n",
            "4/4 [==============================] - 0s 11ms/step - loss: 0.6772 - accuracy: 0.5760 - val_loss: 0.6689 - val_accuracy: 0.6296\n",
            "Epoch 39/350\n",
            "4/4 [==============================] - 0s 11ms/step - loss: 0.6768 - accuracy: 0.5760 - val_loss: 0.6686 - val_accuracy: 0.6296\n",
            "Epoch 40/350\n",
            "4/4 [==============================] - 0s 12ms/step - loss: 0.6767 - accuracy: 0.5760 - val_loss: 0.6684 - val_accuracy: 0.6296\n",
            "Epoch 41/350\n",
            "4/4 [==============================] - 0s 11ms/step - loss: 0.6765 - accuracy: 0.5760 - val_loss: 0.6682 - val_accuracy: 0.6296\n",
            "Epoch 42/350\n",
            "4/4 [==============================] - 0s 12ms/step - loss: 0.6764 - accuracy: 0.5760 - val_loss: 0.6679 - val_accuracy: 0.6296\n",
            "Epoch 43/350\n",
            "4/4 [==============================] - 0s 11ms/step - loss: 0.6762 - accuracy: 0.5760 - val_loss: 0.6677 - val_accuracy: 0.6296\n",
            "Epoch 44/350\n",
            "4/4 [==============================] - 0s 12ms/step - loss: 0.6762 - accuracy: 0.5760 - val_loss: 0.6675 - val_accuracy: 0.6296\n",
            "Epoch 45/350\n",
            "4/4 [==============================] - 0s 13ms/step - loss: 0.6761 - accuracy: 0.5760 - val_loss: 0.6673 - val_accuracy: 0.6296\n",
            "Epoch 46/350\n",
            "4/4 [==============================] - 0s 11ms/step - loss: 0.6759 - accuracy: 0.5760 - val_loss: 0.6671 - val_accuracy: 0.6296\n",
            "Epoch 47/350\n",
            "4/4 [==============================] - 0s 13ms/step - loss: 0.6758 - accuracy: 0.5760 - val_loss: 0.6668 - val_accuracy: 0.6296\n",
            "Epoch 48/350\n",
            "4/4 [==============================] - 0s 13ms/step - loss: 0.6757 - accuracy: 0.5760 - val_loss: 0.6667 - val_accuracy: 0.6296\n",
            "Epoch 49/350\n",
            "4/4 [==============================] - 0s 13ms/step - loss: 0.6755 - accuracy: 0.5760 - val_loss: 0.6665 - val_accuracy: 0.6296\n",
            "Epoch 50/350\n",
            "4/4 [==============================] - 0s 11ms/step - loss: 0.6754 - accuracy: 0.5760 - val_loss: 0.6664 - val_accuracy: 0.6296\n",
            "Epoch 51/350\n",
            "4/4 [==============================] - 0s 10ms/step - loss: 0.6752 - accuracy: 0.5760 - val_loss: 0.6663 - val_accuracy: 0.6296\n",
            "Epoch 52/350\n",
            "4/4 [==============================] - 0s 11ms/step - loss: 0.6751 - accuracy: 0.5760 - val_loss: 0.6660 - val_accuracy: 0.6296\n",
            "Epoch 53/350\n",
            "4/4 [==============================] - 0s 11ms/step - loss: 0.6750 - accuracy: 0.5760 - val_loss: 0.6658 - val_accuracy: 0.6296\n",
            "Epoch 54/350\n",
            "4/4 [==============================] - 0s 11ms/step - loss: 0.6749 - accuracy: 0.5760 - val_loss: 0.6656 - val_accuracy: 0.6296\n",
            "Epoch 55/350\n",
            "4/4 [==============================] - 0s 10ms/step - loss: 0.6748 - accuracy: 0.5760 - val_loss: 0.6654 - val_accuracy: 0.6296\n",
            "Epoch 56/350\n",
            "4/4 [==============================] - 0s 11ms/step - loss: 0.6746 - accuracy: 0.5760 - val_loss: 0.6652 - val_accuracy: 0.6296\n",
            "Epoch 57/350\n",
            "4/4 [==============================] - 0s 14ms/step - loss: 0.6746 - accuracy: 0.5760 - val_loss: 0.6650 - val_accuracy: 0.6296\n",
            "Epoch 58/350\n",
            "4/4 [==============================] - 0s 12ms/step - loss: 0.6744 - accuracy: 0.5760 - val_loss: 0.6649 - val_accuracy: 0.6296\n",
            "Epoch 59/350\n",
            "4/4 [==============================] - 0s 12ms/step - loss: 0.6743 - accuracy: 0.5760 - val_loss: 0.6647 - val_accuracy: 0.6296\n",
            "Epoch 60/350\n",
            "4/4 [==============================] - 0s 10ms/step - loss: 0.6742 - accuracy: 0.5760 - val_loss: 0.6645 - val_accuracy: 0.6296\n",
            "Epoch 61/350\n",
            "4/4 [==============================] - 0s 11ms/step - loss: 0.6741 - accuracy: 0.5760 - val_loss: 0.6645 - val_accuracy: 0.6296\n",
            "Epoch 62/350\n",
            "4/4 [==============================] - 0s 11ms/step - loss: 0.6740 - accuracy: 0.5760 - val_loss: 0.6644 - val_accuracy: 0.6296\n",
            "Epoch 63/350\n",
            "4/4 [==============================] - 0s 12ms/step - loss: 0.6739 - accuracy: 0.5760 - val_loss: 0.6644 - val_accuracy: 0.6296\n",
            "Epoch 64/350\n",
            "4/4 [==============================] - 0s 13ms/step - loss: 0.6738 - accuracy: 0.5760 - val_loss: 0.6640 - val_accuracy: 0.6296\n",
            "Epoch 65/350\n",
            "4/4 [==============================] - 0s 12ms/step - loss: 0.6736 - accuracy: 0.5760 - val_loss: 0.6638 - val_accuracy: 0.6296\n",
            "Epoch 66/350\n",
            "4/4 [==============================] - 0s 11ms/step - loss: 0.6735 - accuracy: 0.5760 - val_loss: 0.6636 - val_accuracy: 0.6296\n",
            "Epoch 67/350\n",
            "4/4 [==============================] - 0s 11ms/step - loss: 0.6733 - accuracy: 0.5760 - val_loss: 0.6635 - val_accuracy: 0.6296\n",
            "Epoch 68/350\n",
            "4/4 [==============================] - 0s 13ms/step - loss: 0.6732 - accuracy: 0.5760 - val_loss: 0.6634 - val_accuracy: 0.6296\n",
            "Epoch 69/350\n",
            "4/4 [==============================] - 0s 11ms/step - loss: 0.6731 - accuracy: 0.5760 - val_loss: 0.6632 - val_accuracy: 0.6296\n",
            "Epoch 70/350\n",
            "4/4 [==============================] - 0s 12ms/step - loss: 0.6730 - accuracy: 0.5760 - val_loss: 0.6630 - val_accuracy: 0.6296\n",
            "Epoch 71/350\n",
            "4/4 [==============================] - 0s 12ms/step - loss: 0.6729 - accuracy: 0.5760 - val_loss: 0.6630 - val_accuracy: 0.6296\n",
            "Epoch 72/350\n",
            "4/4 [==============================] - 0s 14ms/step - loss: 0.6727 - accuracy: 0.5760 - val_loss: 0.6628 - val_accuracy: 0.6296\n",
            "Epoch 73/350\n",
            "4/4 [==============================] - 0s 11ms/step - loss: 0.6725 - accuracy: 0.5760 - val_loss: 0.6627 - val_accuracy: 0.6296\n",
            "Epoch 74/350\n",
            "4/4 [==============================] - 0s 11ms/step - loss: 0.6724 - accuracy: 0.5760 - val_loss: 0.6625 - val_accuracy: 0.6296\n",
            "Epoch 75/350\n",
            "4/4 [==============================] - 0s 11ms/step - loss: 0.6722 - accuracy: 0.5760 - val_loss: 0.6623 - val_accuracy: 0.6296\n",
            "Epoch 76/350\n",
            "4/4 [==============================] - 0s 11ms/step - loss: 0.6721 - accuracy: 0.5760 - val_loss: 0.6623 - val_accuracy: 0.6296\n",
            "Epoch 77/350\n",
            "4/4 [==============================] - 0s 10ms/step - loss: 0.6720 - accuracy: 0.5760 - val_loss: 0.6622 - val_accuracy: 0.6296\n",
            "Epoch 78/350\n",
            "4/4 [==============================] - 0s 11ms/step - loss: 0.6718 - accuracy: 0.5760 - val_loss: 0.6621 - val_accuracy: 0.6296\n",
            "Epoch 79/350\n",
            "4/4 [==============================] - 0s 12ms/step - loss: 0.6717 - accuracy: 0.5760 - val_loss: 0.6619 - val_accuracy: 0.6296\n",
            "Epoch 80/350\n",
            "4/4 [==============================] - 0s 11ms/step - loss: 0.6715 - accuracy: 0.5760 - val_loss: 0.6618 - val_accuracy: 0.6296\n",
            "Epoch 81/350\n",
            "4/4 [==============================] - 0s 12ms/step - loss: 0.6714 - accuracy: 0.5760 - val_loss: 0.6617 - val_accuracy: 0.6296\n",
            "Epoch 82/350\n",
            "4/4 [==============================] - 0s 11ms/step - loss: 0.6712 - accuracy: 0.5760 - val_loss: 0.6616 - val_accuracy: 0.6296\n",
            "Epoch 83/350\n",
            "4/4 [==============================] - 0s 13ms/step - loss: 0.6711 - accuracy: 0.5760 - val_loss: 0.6614 - val_accuracy: 0.6296\n",
            "Epoch 84/350\n",
            "4/4 [==============================] - 0s 11ms/step - loss: 0.6710 - accuracy: 0.5760 - val_loss: 0.6613 - val_accuracy: 0.6296\n",
            "Epoch 85/350\n",
            "4/4 [==============================] - 0s 12ms/step - loss: 0.6710 - accuracy: 0.5760 - val_loss: 0.6610 - val_accuracy: 0.6296\n",
            "Epoch 86/350\n",
            "4/4 [==============================] - 0s 11ms/step - loss: 0.6707 - accuracy: 0.5760 - val_loss: 0.6609 - val_accuracy: 0.6296\n",
            "Epoch 87/350\n",
            "4/4 [==============================] - 0s 11ms/step - loss: 0.6706 - accuracy: 0.5760 - val_loss: 0.6609 - val_accuracy: 0.6296\n",
            "Epoch 88/350\n",
            "4/4 [==============================] - 0s 11ms/step - loss: 0.6705 - accuracy: 0.5760 - val_loss: 0.6609 - val_accuracy: 0.6296\n",
            "Epoch 89/350\n",
            "4/4 [==============================] - 0s 13ms/step - loss: 0.6704 - accuracy: 0.5760 - val_loss: 0.6606 - val_accuracy: 0.6296\n",
            "Epoch 90/350\n",
            "4/4 [==============================] - 0s 13ms/step - loss: 0.6703 - accuracy: 0.5760 - val_loss: 0.6607 - val_accuracy: 0.6296\n",
            "Epoch 91/350\n",
            "4/4 [==============================] - 0s 12ms/step - loss: 0.6701 - accuracy: 0.5760 - val_loss: 0.6606 - val_accuracy: 0.6296\n",
            "Epoch 92/350\n",
            "4/4 [==============================] - 0s 10ms/step - loss: 0.6700 - accuracy: 0.5760 - val_loss: 0.6603 - val_accuracy: 0.6296\n",
            "Epoch 93/350\n",
            "4/4 [==============================] - 0s 12ms/step - loss: 0.6698 - accuracy: 0.5760 - val_loss: 0.6601 - val_accuracy: 0.6296\n",
            "Epoch 94/350\n",
            "4/4 [==============================] - 0s 11ms/step - loss: 0.6698 - accuracy: 0.5760 - val_loss: 0.6602 - val_accuracy: 0.6296\n",
            "Epoch 95/350\n",
            "4/4 [==============================] - 0s 11ms/step - loss: 0.6695 - accuracy: 0.5760 - val_loss: 0.6601 - val_accuracy: 0.6296\n",
            "Epoch 96/350\n",
            "4/4 [==============================] - 0s 12ms/step - loss: 0.6696 - accuracy: 0.5760 - val_loss: 0.6597 - val_accuracy: 0.6296\n",
            "Epoch 97/350\n",
            "4/4 [==============================] - 0s 17ms/step - loss: 0.6693 - accuracy: 0.5760 - val_loss: 0.6596 - val_accuracy: 0.6296\n",
            "Epoch 98/350\n",
            "4/4 [==============================] - 0s 13ms/step - loss: 0.6692 - accuracy: 0.5760 - val_loss: 0.6595 - val_accuracy: 0.6296\n",
            "Epoch 99/350\n",
            "4/4 [==============================] - 0s 10ms/step - loss: 0.6690 - accuracy: 0.5760 - val_loss: 0.6595 - val_accuracy: 0.6296\n",
            "Epoch 100/350\n",
            "4/4 [==============================] - 0s 14ms/step - loss: 0.6689 - accuracy: 0.5760 - val_loss: 0.6593 - val_accuracy: 0.6296\n",
            "Epoch 101/350\n",
            "4/4 [==============================] - 0s 12ms/step - loss: 0.6687 - accuracy: 0.5760 - val_loss: 0.6592 - val_accuracy: 0.6296\n",
            "Epoch 102/350\n",
            "4/4 [==============================] - 0s 11ms/step - loss: 0.6687 - accuracy: 0.5760 - val_loss: 0.6590 - val_accuracy: 0.6296\n",
            "Epoch 103/350\n",
            "4/4 [==============================] - 0s 12ms/step - loss: 0.6684 - accuracy: 0.5760 - val_loss: 0.6589 - val_accuracy: 0.6296\n",
            "Epoch 104/350\n",
            "4/4 [==============================] - 0s 11ms/step - loss: 0.6684 - accuracy: 0.5760 - val_loss: 0.6589 - val_accuracy: 0.6296\n",
            "Epoch 105/350\n",
            "4/4 [==============================] - 0s 12ms/step - loss: 0.6682 - accuracy: 0.5760 - val_loss: 0.6588 - val_accuracy: 0.6296\n",
            "Epoch 106/350\n",
            "4/4 [==============================] - 0s 12ms/step - loss: 0.6680 - accuracy: 0.5760 - val_loss: 0.6587 - val_accuracy: 0.6296\n",
            "Epoch 107/350\n",
            "4/4 [==============================] - 0s 14ms/step - loss: 0.6679 - accuracy: 0.5760 - val_loss: 0.6585 - val_accuracy: 0.6296\n",
            "Epoch 108/350\n",
            "4/4 [==============================] - 0s 12ms/step - loss: 0.6677 - accuracy: 0.5760 - val_loss: 0.6584 - val_accuracy: 0.6296\n",
            "Epoch 109/350\n",
            "4/4 [==============================] - 0s 14ms/step - loss: 0.6676 - accuracy: 0.5760 - val_loss: 0.6582 - val_accuracy: 0.6296\n",
            "Epoch 110/350\n",
            "4/4 [==============================] - 0s 12ms/step - loss: 0.6675 - accuracy: 0.5760 - val_loss: 0.6581 - val_accuracy: 0.6296\n",
            "Epoch 111/350\n",
            "4/4 [==============================] - 0s 12ms/step - loss: 0.6673 - accuracy: 0.5760 - val_loss: 0.6580 - val_accuracy: 0.6296\n",
            "Epoch 112/350\n",
            "4/4 [==============================] - 0s 11ms/step - loss: 0.6672 - accuracy: 0.5760 - val_loss: 0.6579 - val_accuracy: 0.6296\n",
            "Epoch 113/350\n",
            "4/4 [==============================] - 0s 12ms/step - loss: 0.6671 - accuracy: 0.5760 - val_loss: 0.6579 - val_accuracy: 0.6296\n",
            "Epoch 114/350\n",
            "4/4 [==============================] - 0s 10ms/step - loss: 0.6669 - accuracy: 0.5760 - val_loss: 0.6577 - val_accuracy: 0.6296\n",
            "Epoch 115/350\n",
            "4/4 [==============================] - 0s 12ms/step - loss: 0.6667 - accuracy: 0.5760 - val_loss: 0.6577 - val_accuracy: 0.6296\n",
            "Epoch 116/350\n",
            "4/4 [==============================] - 0s 11ms/step - loss: 0.6666 - accuracy: 0.5760 - val_loss: 0.6575 - val_accuracy: 0.6296\n",
            "Epoch 117/350\n",
            "4/4 [==============================] - 0s 11ms/step - loss: 0.6664 - accuracy: 0.5760 - val_loss: 0.6574 - val_accuracy: 0.6296\n",
            "Epoch 118/350\n",
            "4/4 [==============================] - 0s 12ms/step - loss: 0.6662 - accuracy: 0.5760 - val_loss: 0.6573 - val_accuracy: 0.6296\n",
            "Epoch 119/350\n",
            "4/4 [==============================] - 0s 12ms/step - loss: 0.6661 - accuracy: 0.5760 - val_loss: 0.6573 - val_accuracy: 0.6296\n",
            "Epoch 120/350\n",
            "4/4 [==============================] - 0s 12ms/step - loss: 0.6659 - accuracy: 0.5760 - val_loss: 0.6572 - val_accuracy: 0.6296\n",
            "Epoch 121/350\n",
            "4/4 [==============================] - 0s 15ms/step - loss: 0.6659 - accuracy: 0.5760 - val_loss: 0.6573 - val_accuracy: 0.6296\n",
            "Epoch 122/350\n",
            "4/4 [==============================] - 0s 12ms/step - loss: 0.6658 - accuracy: 0.5760 - val_loss: 0.6573 - val_accuracy: 0.6296\n",
            "Epoch 123/350\n",
            "4/4 [==============================] - 0s 11ms/step - loss: 0.6656 - accuracy: 0.5760 - val_loss: 0.6571 - val_accuracy: 0.6296\n",
            "Epoch 124/350\n",
            "4/4 [==============================] - 0s 11ms/step - loss: 0.6654 - accuracy: 0.5760 - val_loss: 0.6571 - val_accuracy: 0.6296\n",
            "Epoch 125/350\n",
            "4/4 [==============================] - 0s 11ms/step - loss: 0.6651 - accuracy: 0.5760 - val_loss: 0.6569 - val_accuracy: 0.6296\n",
            "Epoch 126/350\n",
            "4/4 [==============================] - 0s 14ms/step - loss: 0.6650 - accuracy: 0.5760 - val_loss: 0.6570 - val_accuracy: 0.6296\n",
            "Epoch 127/350\n",
            "4/4 [==============================] - 0s 10ms/step - loss: 0.6649 - accuracy: 0.5760 - val_loss: 0.6570 - val_accuracy: 0.6296\n",
            "Epoch 128/350\n",
            "4/4 [==============================] - 0s 12ms/step - loss: 0.6646 - accuracy: 0.5760 - val_loss: 0.6571 - val_accuracy: 0.6296\n",
            "Epoch 129/350\n",
            "4/4 [==============================] - 0s 11ms/step - loss: 0.6646 - accuracy: 0.5760 - val_loss: 0.6573 - val_accuracy: 0.6296\n",
            "Epoch 130/350\n",
            "4/4 [==============================] - 0s 11ms/step - loss: 0.6642 - accuracy: 0.5760 - val_loss: 0.6573 - val_accuracy: 0.6296\n",
            "Epoch 131/350\n",
            "4/4 [==============================] - 0s 10ms/step - loss: 0.6641 - accuracy: 0.5760 - val_loss: 0.6572 - val_accuracy: 0.6296\n",
            "Epoch 132/350\n",
            "4/4 [==============================] - 0s 11ms/step - loss: 0.6638 - accuracy: 0.5760 - val_loss: 0.6572 - val_accuracy: 0.6296\n",
            "Epoch 133/350\n",
            "4/4 [==============================] - 0s 11ms/step - loss: 0.6636 - accuracy: 0.5760 - val_loss: 0.6571 - val_accuracy: 0.6296\n",
            "Epoch 134/350\n",
            "4/4 [==============================] - 0s 12ms/step - loss: 0.6636 - accuracy: 0.5760 - val_loss: 0.6568 - val_accuracy: 0.6296\n",
            "Epoch 135/350\n",
            "4/4 [==============================] - 0s 11ms/step - loss: 0.6633 - accuracy: 0.5760 - val_loss: 0.6567 - val_accuracy: 0.6296\n",
            "Epoch 136/350\n",
            "4/4 [==============================] - 0s 11ms/step - loss: 0.6631 - accuracy: 0.5760 - val_loss: 0.6566 - val_accuracy: 0.6296\n",
            "Epoch 137/350\n",
            "4/4 [==============================] - 0s 11ms/step - loss: 0.6629 - accuracy: 0.5760 - val_loss: 0.6565 - val_accuracy: 0.6296\n",
            "Epoch 138/350\n",
            "4/4 [==============================] - 0s 13ms/step - loss: 0.6627 - accuracy: 0.5760 - val_loss: 0.6564 - val_accuracy: 0.6296\n",
            "Epoch 139/350\n",
            "4/4 [==============================] - 0s 11ms/step - loss: 0.6626 - accuracy: 0.5760 - val_loss: 0.6563 - val_accuracy: 0.6296\n",
            "Epoch 140/350\n",
            "4/4 [==============================] - 0s 13ms/step - loss: 0.6624 - accuracy: 0.5760 - val_loss: 0.6564 - val_accuracy: 0.6296\n",
            "Epoch 141/350\n",
            "4/4 [==============================] - 0s 11ms/step - loss: 0.6622 - accuracy: 0.5760 - val_loss: 0.6562 - val_accuracy: 0.6296\n",
            "Epoch 142/350\n",
            "4/4 [==============================] - 0s 14ms/step - loss: 0.6620 - accuracy: 0.5760 - val_loss: 0.6561 - val_accuracy: 0.6296\n",
            "Epoch 143/350\n",
            "4/4 [==============================] - 0s 12ms/step - loss: 0.6619 - accuracy: 0.5760 - val_loss: 0.6559 - val_accuracy: 0.6296\n",
            "Epoch 144/350\n",
            "4/4 [==============================] - 0s 12ms/step - loss: 0.6617 - accuracy: 0.5760 - val_loss: 0.6559 - val_accuracy: 0.6296\n",
            "Epoch 145/350\n",
            "4/4 [==============================] - 0s 12ms/step - loss: 0.6617 - accuracy: 0.5760 - val_loss: 0.6559 - val_accuracy: 0.6296\n",
            "Epoch 146/350\n",
            "4/4 [==============================] - 0s 12ms/step - loss: 0.6613 - accuracy: 0.5760 - val_loss: 0.6558 - val_accuracy: 0.6296\n",
            "Epoch 147/350\n",
            "4/4 [==============================] - 0s 12ms/step - loss: 0.6612 - accuracy: 0.5760 - val_loss: 0.6557 - val_accuracy: 0.6296\n",
            "Epoch 148/350\n",
            "4/4 [==============================] - 0s 11ms/step - loss: 0.6611 - accuracy: 0.5760 - val_loss: 0.6557 - val_accuracy: 0.6296\n",
            "Epoch 149/350\n",
            "4/4 [==============================] - 0s 12ms/step - loss: 0.6608 - accuracy: 0.5760 - val_loss: 0.6555 - val_accuracy: 0.6296\n",
            "Epoch 150/350\n",
            "4/4 [==============================] - 0s 12ms/step - loss: 0.6608 - accuracy: 0.5760 - val_loss: 0.6553 - val_accuracy: 0.6296\n",
            "Epoch 151/350\n",
            "4/4 [==============================] - 0s 11ms/step - loss: 0.6606 - accuracy: 0.5760 - val_loss: 0.6552 - val_accuracy: 0.6296\n",
            "Epoch 152/350\n",
            "4/4 [==============================] - 0s 10ms/step - loss: 0.6604 - accuracy: 0.5760 - val_loss: 0.6552 - val_accuracy: 0.6296\n",
            "Epoch 153/350\n",
            "4/4 [==============================] - 0s 13ms/step - loss: 0.6606 - accuracy: 0.5760 - val_loss: 0.6550 - val_accuracy: 0.6296\n",
            "Epoch 154/350\n",
            "4/4 [==============================] - 0s 11ms/step - loss: 0.6600 - accuracy: 0.5760 - val_loss: 0.6550 - val_accuracy: 0.6296\n",
            "Epoch 155/350\n",
            "4/4 [==============================] - 0s 12ms/step - loss: 0.6602 - accuracy: 0.5760 - val_loss: 0.6548 - val_accuracy: 0.6296\n",
            "Epoch 156/350\n",
            "4/4 [==============================] - 0s 13ms/step - loss: 0.6599 - accuracy: 0.5760 - val_loss: 0.6547 - val_accuracy: 0.6296\n",
            "Epoch 157/350\n",
            "4/4 [==============================] - 0s 13ms/step - loss: 0.6596 - accuracy: 0.5760 - val_loss: 0.6546 - val_accuracy: 0.6296\n",
            "Epoch 158/350\n",
            "4/4 [==============================] - 0s 13ms/step - loss: 0.6595 - accuracy: 0.5760 - val_loss: 0.6544 - val_accuracy: 0.6296\n",
            "Epoch 159/350\n",
            "4/4 [==============================] - 0s 13ms/step - loss: 0.6594 - accuracy: 0.5760 - val_loss: 0.6543 - val_accuracy: 0.6296\n",
            "Epoch 160/350\n",
            "4/4 [==============================] - 0s 11ms/step - loss: 0.6591 - accuracy: 0.5760 - val_loss: 0.6542 - val_accuracy: 0.6296\n",
            "Epoch 161/350\n",
            "4/4 [==============================] - 0s 13ms/step - loss: 0.6589 - accuracy: 0.5760 - val_loss: 0.6540 - val_accuracy: 0.6296\n",
            "Epoch 162/350\n",
            "4/4 [==============================] - 0s 14ms/step - loss: 0.6588 - accuracy: 0.5760 - val_loss: 0.6539 - val_accuracy: 0.6296\n",
            "Epoch 163/350\n",
            "4/4 [==============================] - 0s 11ms/step - loss: 0.6587 - accuracy: 0.5760 - val_loss: 0.6538 - val_accuracy: 0.6296\n",
            "Epoch 164/350\n",
            "4/4 [==============================] - 0s 12ms/step - loss: 0.6585 - accuracy: 0.5760 - val_loss: 0.6536 - val_accuracy: 0.6296\n",
            "Epoch 165/350\n",
            "4/4 [==============================] - 0s 12ms/step - loss: 0.6582 - accuracy: 0.5760 - val_loss: 0.6536 - val_accuracy: 0.6296\n",
            "Epoch 166/350\n",
            "4/4 [==============================] - 0s 15ms/step - loss: 0.6579 - accuracy: 0.5760 - val_loss: 0.6535 - val_accuracy: 0.6296\n",
            "Epoch 167/350\n",
            "4/4 [==============================] - 0s 11ms/step - loss: 0.6577 - accuracy: 0.5760 - val_loss: 0.6533 - val_accuracy: 0.6296\n",
            "Epoch 168/350\n",
            "4/4 [==============================] - 0s 10ms/step - loss: 0.6576 - accuracy: 0.5760 - val_loss: 0.6532 - val_accuracy: 0.6296\n",
            "Epoch 169/350\n",
            "4/4 [==============================] - 0s 12ms/step - loss: 0.6573 - accuracy: 0.5760 - val_loss: 0.6531 - val_accuracy: 0.6296\n",
            "Epoch 170/350\n",
            "4/4 [==============================] - 0s 11ms/step - loss: 0.6571 - accuracy: 0.5760 - val_loss: 0.6531 - val_accuracy: 0.6296\n",
            "Epoch 171/350\n",
            "4/4 [==============================] - 0s 12ms/step - loss: 0.6570 - accuracy: 0.5760 - val_loss: 0.6531 - val_accuracy: 0.6296\n",
            "Epoch 172/350\n",
            "4/4 [==============================] - 0s 12ms/step - loss: 0.6567 - accuracy: 0.5760 - val_loss: 0.6531 - val_accuracy: 0.6296\n",
            "Epoch 173/350\n",
            "4/4 [==============================] - 0s 11ms/step - loss: 0.6568 - accuracy: 0.5760 - val_loss: 0.6530 - val_accuracy: 0.6296\n",
            "Epoch 174/350\n",
            "4/4 [==============================] - 0s 11ms/step - loss: 0.6566 - accuracy: 0.5760 - val_loss: 0.6529 - val_accuracy: 0.6296\n",
            "Epoch 175/350\n",
            "4/4 [==============================] - 0s 11ms/step - loss: 0.6561 - accuracy: 0.5760 - val_loss: 0.6527 - val_accuracy: 0.6296\n",
            "Epoch 176/350\n",
            "4/4 [==============================] - 0s 14ms/step - loss: 0.6560 - accuracy: 0.5760 - val_loss: 0.6526 - val_accuracy: 0.6296\n",
            "Epoch 177/350\n",
            "4/4 [==============================] - 0s 11ms/step - loss: 0.6558 - accuracy: 0.5760 - val_loss: 0.6525 - val_accuracy: 0.6296\n",
            "Epoch 178/350\n",
            "4/4 [==============================] - 0s 11ms/step - loss: 0.6556 - accuracy: 0.5760 - val_loss: 0.6524 - val_accuracy: 0.6296\n",
            "Epoch 179/350\n",
            "4/4 [==============================] - 0s 11ms/step - loss: 0.6553 - accuracy: 0.5760 - val_loss: 0.6523 - val_accuracy: 0.6296\n",
            "Epoch 180/350\n",
            "4/4 [==============================] - 0s 14ms/step - loss: 0.6552 - accuracy: 0.5760 - val_loss: 0.6522 - val_accuracy: 0.6296\n",
            "Epoch 181/350\n",
            "4/4 [==============================] - 0s 11ms/step - loss: 0.6550 - accuracy: 0.5760 - val_loss: 0.6521 - val_accuracy: 0.6296\n",
            "Epoch 182/350\n",
            "4/4 [==============================] - 0s 14ms/step - loss: 0.6548 - accuracy: 0.5760 - val_loss: 0.6520 - val_accuracy: 0.6296\n",
            "Epoch 183/350\n",
            "4/4 [==============================] - 0s 15ms/step - loss: 0.6547 - accuracy: 0.5760 - val_loss: 0.6518 - val_accuracy: 0.6296\n",
            "Epoch 184/350\n",
            "4/4 [==============================] - 0s 11ms/step - loss: 0.6546 - accuracy: 0.5760 - val_loss: 0.6515 - val_accuracy: 0.6296\n",
            "Epoch 185/350\n",
            "4/4 [==============================] - 0s 12ms/step - loss: 0.6542 - accuracy: 0.5760 - val_loss: 0.6514 - val_accuracy: 0.6296\n",
            "Epoch 186/350\n",
            "4/4 [==============================] - 0s 13ms/step - loss: 0.6541 - accuracy: 0.5760 - val_loss: 0.6514 - val_accuracy: 0.6296\n",
            "Epoch 187/350\n",
            "4/4 [==============================] - 0s 12ms/step - loss: 0.6540 - accuracy: 0.5760 - val_loss: 0.6514 - val_accuracy: 0.6296\n",
            "Epoch 188/350\n",
            "4/4 [==============================] - 0s 11ms/step - loss: 0.6537 - accuracy: 0.5760 - val_loss: 0.6512 - val_accuracy: 0.6296\n",
            "Epoch 189/350\n",
            "4/4 [==============================] - 0s 11ms/step - loss: 0.6536 - accuracy: 0.5760 - val_loss: 0.6511 - val_accuracy: 0.6296\n",
            "Epoch 190/350\n",
            "4/4 [==============================] - 0s 12ms/step - loss: 0.6534 - accuracy: 0.5760 - val_loss: 0.6509 - val_accuracy: 0.6296\n",
            "Epoch 191/350\n",
            "4/4 [==============================] - 0s 11ms/step - loss: 0.6532 - accuracy: 0.5760 - val_loss: 0.6508 - val_accuracy: 0.6296\n",
            "Epoch 192/350\n",
            "4/4 [==============================] - 0s 10ms/step - loss: 0.6530 - accuracy: 0.5760 - val_loss: 0.6507 - val_accuracy: 0.6296\n",
            "Epoch 193/350\n",
            "4/4 [==============================] - 0s 13ms/step - loss: 0.6530 - accuracy: 0.5760 - val_loss: 0.6504 - val_accuracy: 0.6296\n",
            "Epoch 194/350\n",
            "4/4 [==============================] - 0s 13ms/step - loss: 0.6528 - accuracy: 0.5760 - val_loss: 0.6503 - val_accuracy: 0.6296\n",
            "Epoch 195/350\n",
            "4/4 [==============================] - 0s 12ms/step - loss: 0.6526 - accuracy: 0.5760 - val_loss: 0.6503 - val_accuracy: 0.6296\n",
            "Epoch 196/350\n",
            "4/4 [==============================] - 0s 13ms/step - loss: 0.6523 - accuracy: 0.5760 - val_loss: 0.6502 - val_accuracy: 0.6296\n",
            "Epoch 197/350\n",
            "4/4 [==============================] - 0s 12ms/step - loss: 0.6521 - accuracy: 0.5760 - val_loss: 0.6500 - val_accuracy: 0.6296\n",
            "Epoch 198/350\n",
            "4/4 [==============================] - 0s 10ms/step - loss: 0.6519 - accuracy: 0.5760 - val_loss: 0.6499 - val_accuracy: 0.6296\n",
            "Epoch 199/350\n",
            "4/4 [==============================] - 0s 13ms/step - loss: 0.6517 - accuracy: 0.5760 - val_loss: 0.6497 - val_accuracy: 0.6296\n",
            "Epoch 200/350\n",
            "4/4 [==============================] - 0s 11ms/step - loss: 0.6516 - accuracy: 0.5760 - val_loss: 0.6497 - val_accuracy: 0.6296\n",
            "Epoch 201/350\n",
            "4/4 [==============================] - 0s 11ms/step - loss: 0.6513 - accuracy: 0.5760 - val_loss: 0.6493 - val_accuracy: 0.6296\n",
            "Epoch 202/350\n",
            "4/4 [==============================] - 0s 11ms/step - loss: 0.6514 - accuracy: 0.5760 - val_loss: 0.6491 - val_accuracy: 0.6296\n",
            "Epoch 203/350\n",
            "4/4 [==============================] - 0s 14ms/step - loss: 0.6511 - accuracy: 0.5760 - val_loss: 0.6490 - val_accuracy: 0.6296\n",
            "Epoch 204/350\n",
            "4/4 [==============================] - 0s 11ms/step - loss: 0.6508 - accuracy: 0.5760 - val_loss: 0.6490 - val_accuracy: 0.6296\n",
            "Epoch 205/350\n",
            "4/4 [==============================] - 0s 14ms/step - loss: 0.6506 - accuracy: 0.5760 - val_loss: 0.6489 - val_accuracy: 0.6296\n",
            "Epoch 206/350\n",
            "4/4 [==============================] - 0s 11ms/step - loss: 0.6503 - accuracy: 0.5760 - val_loss: 0.6488 - val_accuracy: 0.6296\n",
            "Epoch 207/350\n",
            "4/4 [==============================] - 0s 14ms/step - loss: 0.6502 - accuracy: 0.5760 - val_loss: 0.6486 - val_accuracy: 0.6296\n",
            "Epoch 208/350\n",
            "4/4 [==============================] - 0s 11ms/step - loss: 0.6501 - accuracy: 0.5760 - val_loss: 0.6485 - val_accuracy: 0.6296\n",
            "Epoch 209/350\n",
            "4/4 [==============================] - 0s 13ms/step - loss: 0.6498 - accuracy: 0.5760 - val_loss: 0.6483 - val_accuracy: 0.6296\n",
            "Epoch 210/350\n",
            "4/4 [==============================] - 0s 14ms/step - loss: 0.6499 - accuracy: 0.5760 - val_loss: 0.6483 - val_accuracy: 0.6296\n",
            "Epoch 211/350\n",
            "4/4 [==============================] - 0s 12ms/step - loss: 0.6496 - accuracy: 0.5760 - val_loss: 0.6481 - val_accuracy: 0.6296\n",
            "Epoch 212/350\n",
            "4/4 [==============================] - 0s 11ms/step - loss: 0.6493 - accuracy: 0.5760 - val_loss: 0.6480 - val_accuracy: 0.6296\n",
            "Epoch 213/350\n",
            "4/4 [==============================] - 0s 13ms/step - loss: 0.6496 - accuracy: 0.5760 - val_loss: 0.6478 - val_accuracy: 0.6296\n",
            "Epoch 214/350\n",
            "4/4 [==============================] - 0s 13ms/step - loss: 0.6492 - accuracy: 0.5760 - val_loss: 0.6477 - val_accuracy: 0.6296\n",
            "Epoch 215/350\n",
            "4/4 [==============================] - 0s 11ms/step - loss: 0.6489 - accuracy: 0.5760 - val_loss: 0.6476 - val_accuracy: 0.6296\n",
            "Epoch 216/350\n",
            "4/4 [==============================] - 0s 11ms/step - loss: 0.6487 - accuracy: 0.5760 - val_loss: 0.6475 - val_accuracy: 0.6296\n",
            "Epoch 217/350\n",
            "4/4 [==============================] - 0s 13ms/step - loss: 0.6486 - accuracy: 0.5760 - val_loss: 0.6474 - val_accuracy: 0.6296\n",
            "Epoch 218/350\n",
            "1/4 [======>.......................] - ETA: 0s - loss: 0.6560 - accuracy: 0.5938INFO:tensorflow:Assets written to: model_experiments/sequential_81/assets\n",
            "4/4 [==============================] - 1s 243ms/step - loss: 0.6484 - accuracy: 0.5760 - val_loss: 0.6473 - val_accuracy: 0.6667\n",
            "Epoch 219/350\n",
            "4/4 [==============================] - 0s 12ms/step - loss: 0.6485 - accuracy: 0.6160 - val_loss: 0.6473 - val_accuracy: 0.6296\n",
            "Epoch 220/350\n",
            "4/4 [==============================] - 0s 13ms/step - loss: 0.6482 - accuracy: 0.6240 - val_loss: 0.6472 - val_accuracy: 0.6667\n",
            "Epoch 221/350\n",
            "1/4 [======>.......................] - ETA: 0s - loss: 0.6698 - accuracy: 0.6250INFO:tensorflow:Assets written to: model_experiments/sequential_81/assets\n",
            "4/4 [==============================] - 1s 240ms/step - loss: 0.6481 - accuracy: 0.6160 - val_loss: 0.6469 - val_accuracy: 0.7037\n",
            "Epoch 222/350\n",
            "4/4 [==============================] - 0s 12ms/step - loss: 0.6479 - accuracy: 0.6080 - val_loss: 0.6469 - val_accuracy: 0.6667\n",
            "Epoch 223/350\n",
            "4/4 [==============================] - 0s 13ms/step - loss: 0.6477 - accuracy: 0.6080 - val_loss: 0.6468 - val_accuracy: 0.6667\n",
            "Epoch 224/350\n",
            "4/4 [==============================] - 0s 11ms/step - loss: 0.6475 - accuracy: 0.6080 - val_loss: 0.6466 - val_accuracy: 0.6667\n",
            "Epoch 225/350\n",
            "4/4 [==============================] - 0s 11ms/step - loss: 0.6473 - accuracy: 0.6160 - val_loss: 0.6467 - val_accuracy: 0.6667\n",
            "Epoch 226/350\n",
            "4/4 [==============================] - 0s 11ms/step - loss: 0.6473 - accuracy: 0.6160 - val_loss: 0.6467 - val_accuracy: 0.6296\n",
            "Epoch 227/350\n",
            "4/4 [==============================] - 0s 12ms/step - loss: 0.6473 - accuracy: 0.6240 - val_loss: 0.6468 - val_accuracy: 0.6296\n",
            "Epoch 228/350\n",
            "4/4 [==============================] - 0s 12ms/step - loss: 0.6470 - accuracy: 0.6240 - val_loss: 0.6465 - val_accuracy: 0.6296\n",
            "Epoch 229/350\n",
            "4/4 [==============================] - 0s 12ms/step - loss: 0.6474 - accuracy: 0.6160 - val_loss: 0.6461 - val_accuracy: 0.6667\n",
            "Epoch 230/350\n",
            "4/4 [==============================] - 0s 12ms/step - loss: 0.6467 - accuracy: 0.6160 - val_loss: 0.6462 - val_accuracy: 0.6667\n",
            "Epoch 231/350\n",
            "4/4 [==============================] - 0s 14ms/step - loss: 0.6465 - accuracy: 0.6160 - val_loss: 0.6462 - val_accuracy: 0.6296\n",
            "Epoch 232/350\n",
            "4/4 [==============================] - 0s 13ms/step - loss: 0.6464 - accuracy: 0.6160 - val_loss: 0.6464 - val_accuracy: 0.6296\n",
            "Epoch 233/350\n",
            "4/4 [==============================] - 0s 17ms/step - loss: 0.6463 - accuracy: 0.6160 - val_loss: 0.6461 - val_accuracy: 0.6296\n",
            "Epoch 234/350\n",
            "4/4 [==============================] - 0s 20ms/step - loss: 0.6461 - accuracy: 0.6160 - val_loss: 0.6461 - val_accuracy: 0.6296\n",
            "Epoch 235/350\n",
            "4/4 [==============================] - 0s 13ms/step - loss: 0.6460 - accuracy: 0.6160 - val_loss: 0.6459 - val_accuracy: 0.6296\n",
            "Epoch 236/350\n",
            "4/4 [==============================] - 0s 12ms/step - loss: 0.6458 - accuracy: 0.6160 - val_loss: 0.6457 - val_accuracy: 0.6296\n",
            "Epoch 237/350\n",
            "4/4 [==============================] - 0s 12ms/step - loss: 0.6457 - accuracy: 0.6240 - val_loss: 0.6455 - val_accuracy: 0.6296\n",
            "Epoch 238/350\n",
            "4/4 [==============================] - 0s 16ms/step - loss: 0.6456 - accuracy: 0.6240 - val_loss: 0.6454 - val_accuracy: 0.6296\n",
            "Epoch 239/350\n",
            "4/4 [==============================] - 0s 12ms/step - loss: 0.6454 - accuracy: 0.6160 - val_loss: 0.6454 - val_accuracy: 0.6296\n",
            "Epoch 240/350\n",
            "4/4 [==============================] - 0s 12ms/step - loss: 0.6453 - accuracy: 0.6160 - val_loss: 0.6454 - val_accuracy: 0.6296\n",
            "Epoch 241/350\n",
            "4/4 [==============================] - 0s 15ms/step - loss: 0.6452 - accuracy: 0.6160 - val_loss: 0.6454 - val_accuracy: 0.6296\n",
            "Epoch 242/350\n",
            "4/4 [==============================] - 0s 15ms/step - loss: 0.6451 - accuracy: 0.6160 - val_loss: 0.6453 - val_accuracy: 0.6296\n",
            "Epoch 243/350\n",
            "4/4 [==============================] - 0s 14ms/step - loss: 0.6450 - accuracy: 0.6160 - val_loss: 0.6451 - val_accuracy: 0.6296\n",
            "Epoch 244/350\n",
            "4/4 [==============================] - 0s 12ms/step - loss: 0.6448 - accuracy: 0.6160 - val_loss: 0.6451 - val_accuracy: 0.6296\n",
            "Epoch 245/350\n",
            "4/4 [==============================] - 0s 13ms/step - loss: 0.6447 - accuracy: 0.6160 - val_loss: 0.6450 - val_accuracy: 0.6296\n",
            "Epoch 246/350\n",
            "4/4 [==============================] - 0s 13ms/step - loss: 0.6445 - accuracy: 0.6160 - val_loss: 0.6450 - val_accuracy: 0.6296\n",
            "Epoch 247/350\n",
            "4/4 [==============================] - 0s 11ms/step - loss: 0.6448 - accuracy: 0.6160 - val_loss: 0.6450 - val_accuracy: 0.6296\n",
            "Epoch 248/350\n",
            "4/4 [==============================] - 0s 11ms/step - loss: 0.6444 - accuracy: 0.6160 - val_loss: 0.6445 - val_accuracy: 0.6296\n",
            "Epoch 249/350\n",
            "4/4 [==============================] - 0s 12ms/step - loss: 0.6443 - accuracy: 0.6160 - val_loss: 0.6443 - val_accuracy: 0.6296\n",
            "Epoch 250/350\n",
            "4/4 [==============================] - 0s 11ms/step - loss: 0.6441 - accuracy: 0.6160 - val_loss: 0.6442 - val_accuracy: 0.6296\n",
            "Epoch 251/350\n",
            "4/4 [==============================] - 0s 11ms/step - loss: 0.6440 - accuracy: 0.6160 - val_loss: 0.6441 - val_accuracy: 0.6296\n",
            "Epoch 252/350\n",
            "4/4 [==============================] - 0s 12ms/step - loss: 0.6440 - accuracy: 0.6080 - val_loss: 0.6440 - val_accuracy: 0.6296\n",
            "Epoch 253/350\n",
            "4/4 [==============================] - 0s 21ms/step - loss: 0.6439 - accuracy: 0.6080 - val_loss: 0.6444 - val_accuracy: 0.6296\n",
            "Epoch 254/350\n",
            "4/4 [==============================] - 0s 11ms/step - loss: 0.6437 - accuracy: 0.6320 - val_loss: 0.6445 - val_accuracy: 0.6296\n",
            "Epoch 255/350\n",
            "4/4 [==============================] - 0s 11ms/step - loss: 0.6436 - accuracy: 0.6320 - val_loss: 0.6442 - val_accuracy: 0.6296\n",
            "Epoch 256/350\n",
            "4/4 [==============================] - 0s 12ms/step - loss: 0.6434 - accuracy: 0.6320 - val_loss: 0.6441 - val_accuracy: 0.6296\n",
            "Epoch 257/350\n",
            "4/4 [==============================] - 0s 13ms/step - loss: 0.6433 - accuracy: 0.6320 - val_loss: 0.6440 - val_accuracy: 0.6296\n",
            "Epoch 258/350\n",
            "4/4 [==============================] - 0s 17ms/step - loss: 0.6431 - accuracy: 0.6320 - val_loss: 0.6439 - val_accuracy: 0.6296\n",
            "Epoch 259/350\n",
            "4/4 [==============================] - 0s 12ms/step - loss: 0.6430 - accuracy: 0.6320 - val_loss: 0.6436 - val_accuracy: 0.6296\n",
            "Epoch 260/350\n",
            "4/4 [==============================] - 0s 11ms/step - loss: 0.6429 - accuracy: 0.6240 - val_loss: 0.6435 - val_accuracy: 0.6296\n",
            "Epoch 261/350\n",
            "4/4 [==============================] - 0s 12ms/step - loss: 0.6431 - accuracy: 0.6320 - val_loss: 0.6437 - val_accuracy: 0.6296\n",
            "Epoch 262/350\n",
            "4/4 [==============================] - 0s 12ms/step - loss: 0.6427 - accuracy: 0.6240 - val_loss: 0.6435 - val_accuracy: 0.6296\n",
            "Epoch 263/350\n",
            "4/4 [==============================] - 0s 14ms/step - loss: 0.6426 - accuracy: 0.6240 - val_loss: 0.6437 - val_accuracy: 0.6296\n",
            "Epoch 264/350\n",
            "4/4 [==============================] - 0s 13ms/step - loss: 0.6424 - accuracy: 0.6240 - val_loss: 0.6437 - val_accuracy: 0.6296\n",
            "Epoch 265/350\n",
            "4/4 [==============================] - 0s 13ms/step - loss: 0.6423 - accuracy: 0.6240 - val_loss: 0.6437 - val_accuracy: 0.6296\n",
            "Epoch 266/350\n",
            "4/4 [==============================] - 0s 15ms/step - loss: 0.6423 - accuracy: 0.6240 - val_loss: 0.6437 - val_accuracy: 0.6296\n",
            "Epoch 267/350\n",
            "4/4 [==============================] - 0s 11ms/step - loss: 0.6421 - accuracy: 0.6160 - val_loss: 0.6437 - val_accuracy: 0.6296\n",
            "Epoch 268/350\n",
            "4/4 [==============================] - 0s 11ms/step - loss: 0.6422 - accuracy: 0.6160 - val_loss: 0.6437 - val_accuracy: 0.6296\n",
            "Epoch 269/350\n",
            "4/4 [==============================] - 0s 13ms/step - loss: 0.6419 - accuracy: 0.6160 - val_loss: 0.6437 - val_accuracy: 0.6296\n",
            "Epoch 270/350\n",
            "4/4 [==============================] - 0s 13ms/step - loss: 0.6418 - accuracy: 0.6240 - val_loss: 0.6436 - val_accuracy: 0.6296\n",
            "Epoch 271/350\n",
            "4/4 [==============================] - 0s 11ms/step - loss: 0.6420 - accuracy: 0.6240 - val_loss: 0.6439 - val_accuracy: 0.6296\n",
            "Epoch 272/350\n",
            "4/4 [==============================] - 0s 13ms/step - loss: 0.6419 - accuracy: 0.6240 - val_loss: 0.6435 - val_accuracy: 0.6296\n",
            "Epoch 273/350\n",
            "4/4 [==============================] - 0s 12ms/step - loss: 0.6414 - accuracy: 0.6240 - val_loss: 0.6436 - val_accuracy: 0.6296\n",
            "Epoch 274/350\n",
            "4/4 [==============================] - 0s 14ms/step - loss: 0.6414 - accuracy: 0.6240 - val_loss: 0.6438 - val_accuracy: 0.5926\n",
            "Epoch 275/350\n",
            "4/4 [==============================] - 0s 13ms/step - loss: 0.6412 - accuracy: 0.6240 - val_loss: 0.6437 - val_accuracy: 0.5926\n",
            "Epoch 276/350\n",
            "4/4 [==============================] - 0s 11ms/step - loss: 0.6411 - accuracy: 0.6320 - val_loss: 0.6435 - val_accuracy: 0.6296\n",
            "Epoch 277/350\n",
            "4/4 [==============================] - 0s 12ms/step - loss: 0.6411 - accuracy: 0.6320 - val_loss: 0.6435 - val_accuracy: 0.5556\n",
            "Epoch 278/350\n",
            "4/4 [==============================] - 0s 18ms/step - loss: 0.6409 - accuracy: 0.6320 - val_loss: 0.6435 - val_accuracy: 0.5556\n",
            "Epoch 279/350\n",
            "4/4 [==============================] - 0s 13ms/step - loss: 0.6408 - accuracy: 0.6320 - val_loss: 0.6434 - val_accuracy: 0.5556\n",
            "Epoch 280/350\n",
            "4/4 [==============================] - 0s 13ms/step - loss: 0.6408 - accuracy: 0.6320 - val_loss: 0.6435 - val_accuracy: 0.5556\n",
            "Epoch 281/350\n",
            "4/4 [==============================] - 0s 15ms/step - loss: 0.6405 - accuracy: 0.6400 - val_loss: 0.6433 - val_accuracy: 0.5926\n",
            "Epoch 282/350\n",
            "4/4 [==============================] - 0s 12ms/step - loss: 0.6408 - accuracy: 0.6320 - val_loss: 0.6434 - val_accuracy: 0.5556\n",
            "Epoch 283/350\n",
            "4/4 [==============================] - 0s 18ms/step - loss: 0.6404 - accuracy: 0.6400 - val_loss: 0.6434 - val_accuracy: 0.5556\n",
            "Epoch 284/350\n",
            "4/4 [==============================] - 0s 16ms/step - loss: 0.6401 - accuracy: 0.6400 - val_loss: 0.6433 - val_accuracy: 0.5926\n",
            "Epoch 285/350\n",
            "4/4 [==============================] - 0s 12ms/step - loss: 0.6401 - accuracy: 0.6400 - val_loss: 0.6433 - val_accuracy: 0.5926\n",
            "Epoch 286/350\n",
            "4/4 [==============================] - 0s 14ms/step - loss: 0.6399 - accuracy: 0.6480 - val_loss: 0.6435 - val_accuracy: 0.5556\n",
            "Epoch 287/350\n",
            "4/4 [==============================] - 0s 11ms/step - loss: 0.6399 - accuracy: 0.6480 - val_loss: 0.6436 - val_accuracy: 0.5556\n",
            "Epoch 288/350\n",
            "4/4 [==============================] - 0s 14ms/step - loss: 0.6398 - accuracy: 0.6480 - val_loss: 0.6437 - val_accuracy: 0.5556\n",
            "Epoch 289/350\n",
            "4/4 [==============================] - 0s 12ms/step - loss: 0.6397 - accuracy: 0.6480 - val_loss: 0.6436 - val_accuracy: 0.5556\n",
            "Epoch 290/350\n",
            "4/4 [==============================] - 0s 13ms/step - loss: 0.6396 - accuracy: 0.6480 - val_loss: 0.6433 - val_accuracy: 0.5556\n",
            "Epoch 291/350\n",
            "4/4 [==============================] - 0s 12ms/step - loss: 0.6395 - accuracy: 0.6480 - val_loss: 0.6434 - val_accuracy: 0.5556\n",
            "Epoch 292/350\n",
            "4/4 [==============================] - 0s 12ms/step - loss: 0.6395 - accuracy: 0.6480 - val_loss: 0.6432 - val_accuracy: 0.5556\n",
            "Epoch 293/350\n",
            "4/4 [==============================] - 0s 12ms/step - loss: 0.6392 - accuracy: 0.6480 - val_loss: 0.6432 - val_accuracy: 0.5556\n",
            "Epoch 294/350\n",
            "4/4 [==============================] - 0s 12ms/step - loss: 0.6393 - accuracy: 0.6480 - val_loss: 0.6433 - val_accuracy: 0.5556\n",
            "Epoch 295/350\n",
            "4/4 [==============================] - 0s 13ms/step - loss: 0.6391 - accuracy: 0.6480 - val_loss: 0.6432 - val_accuracy: 0.5556\n",
            "Epoch 296/350\n",
            "4/4 [==============================] - 0s 12ms/step - loss: 0.6391 - accuracy: 0.6480 - val_loss: 0.6431 - val_accuracy: 0.5926\n",
            "Epoch 297/350\n",
            "4/4 [==============================] - 0s 18ms/step - loss: 0.6390 - accuracy: 0.6480 - val_loss: 0.6434 - val_accuracy: 0.5556\n",
            "Epoch 298/350\n",
            "4/4 [==============================] - 0s 13ms/step - loss: 0.6389 - accuracy: 0.6480 - val_loss: 0.6433 - val_accuracy: 0.5556\n",
            "Epoch 299/350\n",
            "4/4 [==============================] - 0s 14ms/step - loss: 0.6387 - accuracy: 0.6480 - val_loss: 0.6434 - val_accuracy: 0.5556\n",
            "Epoch 300/350\n",
            "4/4 [==============================] - 0s 14ms/step - loss: 0.6386 - accuracy: 0.6480 - val_loss: 0.6433 - val_accuracy: 0.5556\n",
            "Epoch 301/350\n",
            "4/4 [==============================] - 0s 15ms/step - loss: 0.6385 - accuracy: 0.6560 - val_loss: 0.6432 - val_accuracy: 0.5556\n",
            "Epoch 302/350\n",
            "4/4 [==============================] - 0s 12ms/step - loss: 0.6384 - accuracy: 0.6560 - val_loss: 0.6432 - val_accuracy: 0.5556\n",
            "Epoch 303/350\n",
            "4/4 [==============================] - 0s 13ms/step - loss: 0.6383 - accuracy: 0.6640 - val_loss: 0.6434 - val_accuracy: 0.5556\n",
            "Epoch 304/350\n",
            "4/4 [==============================] - 0s 17ms/step - loss: 0.6382 - accuracy: 0.6560 - val_loss: 0.6435 - val_accuracy: 0.5556\n",
            "Epoch 305/350\n",
            "4/4 [==============================] - 0s 13ms/step - loss: 0.6382 - accuracy: 0.6560 - val_loss: 0.6434 - val_accuracy: 0.5556\n",
            "Epoch 306/350\n",
            "4/4 [==============================] - 0s 12ms/step - loss: 0.6380 - accuracy: 0.6560 - val_loss: 0.6433 - val_accuracy: 0.5556\n",
            "Epoch 307/350\n",
            "4/4 [==============================] - 0s 13ms/step - loss: 0.6386 - accuracy: 0.6640 - val_loss: 0.6430 - val_accuracy: 0.5556\n",
            "Epoch 308/350\n",
            "4/4 [==============================] - 0s 11ms/step - loss: 0.6379 - accuracy: 0.6560 - val_loss: 0.6432 - val_accuracy: 0.5556\n",
            "Epoch 309/350\n",
            "4/4 [==============================] - 0s 13ms/step - loss: 0.6378 - accuracy: 0.6640 - val_loss: 0.6434 - val_accuracy: 0.5556\n",
            "Epoch 310/350\n",
            "4/4 [==============================] - 0s 17ms/step - loss: 0.6377 - accuracy: 0.6560 - val_loss: 0.6435 - val_accuracy: 0.5556\n",
            "Epoch 311/350\n",
            "4/4 [==============================] - 0s 11ms/step - loss: 0.6377 - accuracy: 0.6480 - val_loss: 0.6435 - val_accuracy: 0.5556\n",
            "Epoch 312/350\n",
            "4/4 [==============================] - 0s 15ms/step - loss: 0.6376 - accuracy: 0.6480 - val_loss: 0.6434 - val_accuracy: 0.5556\n",
            "Epoch 313/350\n",
            "4/4 [==============================] - 0s 13ms/step - loss: 0.6374 - accuracy: 0.6560 - val_loss: 0.6433 - val_accuracy: 0.5556\n",
            "Epoch 314/350\n",
            "4/4 [==============================] - 0s 12ms/step - loss: 0.6376 - accuracy: 0.6640 - val_loss: 0.6431 - val_accuracy: 0.5556\n",
            "Epoch 315/350\n",
            "4/4 [==============================] - 0s 11ms/step - loss: 0.6374 - accuracy: 0.6640 - val_loss: 0.6432 - val_accuracy: 0.5556\n",
            "Epoch 316/350\n",
            "4/4 [==============================] - 0s 14ms/step - loss: 0.6371 - accuracy: 0.6640 - val_loss: 0.6434 - val_accuracy: 0.5556\n",
            "Epoch 317/350\n",
            "4/4 [==============================] - 0s 13ms/step - loss: 0.6372 - accuracy: 0.6560 - val_loss: 0.6437 - val_accuracy: 0.5556\n",
            "Epoch 318/350\n",
            "4/4 [==============================] - 0s 13ms/step - loss: 0.6371 - accuracy: 0.6480 - val_loss: 0.6436 - val_accuracy: 0.5556\n",
            "Epoch 319/350\n",
            "4/4 [==============================] - 0s 12ms/step - loss: 0.6370 - accuracy: 0.6480 - val_loss: 0.6436 - val_accuracy: 0.5556\n",
            "Epoch 320/350\n",
            "4/4 [==============================] - 0s 14ms/step - loss: 0.6371 - accuracy: 0.6480 - val_loss: 0.6437 - val_accuracy: 0.5556\n",
            "Epoch 321/350\n",
            "4/4 [==============================] - 0s 13ms/step - loss: 0.6368 - accuracy: 0.6480 - val_loss: 0.6437 - val_accuracy: 0.5556\n",
            "Epoch 322/350\n",
            "4/4 [==============================] - 0s 12ms/step - loss: 0.6368 - accuracy: 0.6480 - val_loss: 0.6436 - val_accuracy: 0.5556\n",
            "Epoch 323/350\n",
            "4/4 [==============================] - 0s 13ms/step - loss: 0.6367 - accuracy: 0.6480 - val_loss: 0.6437 - val_accuracy: 0.5556\n",
            "Epoch 324/350\n",
            "4/4 [==============================] - 0s 12ms/step - loss: 0.6366 - accuracy: 0.6480 - val_loss: 0.6440 - val_accuracy: 0.5556\n",
            "Epoch 325/350\n",
            "4/4 [==============================] - 0s 13ms/step - loss: 0.6365 - accuracy: 0.6480 - val_loss: 0.6441 - val_accuracy: 0.5556\n",
            "Epoch 326/350\n",
            "4/4 [==============================] - 0s 13ms/step - loss: 0.6365 - accuracy: 0.6480 - val_loss: 0.6442 - val_accuracy: 0.5556\n",
            "Epoch 327/350\n",
            "4/4 [==============================] - 0s 12ms/step - loss: 0.6364 - accuracy: 0.6560 - val_loss: 0.6441 - val_accuracy: 0.5556\n",
            "Epoch 328/350\n",
            "4/4 [==============================] - 0s 12ms/step - loss: 0.6362 - accuracy: 0.6480 - val_loss: 0.6440 - val_accuracy: 0.5556\n",
            "Epoch 329/350\n",
            "4/4 [==============================] - 0s 13ms/step - loss: 0.6362 - accuracy: 0.6480 - val_loss: 0.6440 - val_accuracy: 0.5556\n",
            "Epoch 330/350\n",
            "4/4 [==============================] - 0s 12ms/step - loss: 0.6362 - accuracy: 0.6480 - val_loss: 0.6439 - val_accuracy: 0.5556\n",
            "Epoch 331/350\n",
            "4/4 [==============================] - 0s 12ms/step - loss: 0.6360 - accuracy: 0.6480 - val_loss: 0.6439 - val_accuracy: 0.5556\n",
            "Epoch 332/350\n",
            "4/4 [==============================] - 0s 13ms/step - loss: 0.6361 - accuracy: 0.6480 - val_loss: 0.6439 - val_accuracy: 0.5556\n",
            "Epoch 333/350\n",
            "4/4 [==============================] - 0s 13ms/step - loss: 0.6360 - accuracy: 0.6480 - val_loss: 0.6441 - val_accuracy: 0.5556\n",
            "Epoch 334/350\n",
            "4/4 [==============================] - 0s 14ms/step - loss: 0.6359 - accuracy: 0.6480 - val_loss: 0.6442 - val_accuracy: 0.5556\n",
            "Epoch 335/350\n",
            "4/4 [==============================] - 0s 12ms/step - loss: 0.6357 - accuracy: 0.6480 - val_loss: 0.6443 - val_accuracy: 0.5556\n",
            "Epoch 336/350\n",
            "4/4 [==============================] - 0s 21ms/step - loss: 0.6358 - accuracy: 0.6480 - val_loss: 0.6444 - val_accuracy: 0.5556\n",
            "Epoch 337/350\n",
            "4/4 [==============================] - 0s 12ms/step - loss: 0.6356 - accuracy: 0.6560 - val_loss: 0.6445 - val_accuracy: 0.5556\n",
            "Epoch 338/350\n",
            "4/4 [==============================] - 0s 16ms/step - loss: 0.6356 - accuracy: 0.6560 - val_loss: 0.6445 - val_accuracy: 0.5556\n",
            "Epoch 339/350\n",
            "4/4 [==============================] - 0s 12ms/step - loss: 0.6354 - accuracy: 0.6560 - val_loss: 0.6444 - val_accuracy: 0.5556\n",
            "Epoch 340/350\n",
            "4/4 [==============================] - 0s 13ms/step - loss: 0.6354 - accuracy: 0.6560 - val_loss: 0.6445 - val_accuracy: 0.5556\n",
            "Epoch 341/350\n",
            "4/4 [==============================] - 0s 12ms/step - loss: 0.6353 - accuracy: 0.6560 - val_loss: 0.6445 - val_accuracy: 0.5556\n",
            "Epoch 342/350\n",
            "4/4 [==============================] - 0s 14ms/step - loss: 0.6355 - accuracy: 0.6480 - val_loss: 0.6445 - val_accuracy: 0.5556\n",
            "Epoch 343/350\n",
            "4/4 [==============================] - 0s 14ms/step - loss: 0.6353 - accuracy: 0.6560 - val_loss: 0.6447 - val_accuracy: 0.5556\n",
            "Epoch 344/350\n",
            "4/4 [==============================] - 0s 14ms/step - loss: 0.6351 - accuracy: 0.6560 - val_loss: 0.6449 - val_accuracy: 0.5556\n",
            "Epoch 345/350\n",
            "4/4 [==============================] - 0s 13ms/step - loss: 0.6352 - accuracy: 0.6560 - val_loss: 0.6448 - val_accuracy: 0.5556\n",
            "Epoch 346/350\n",
            "4/4 [==============================] - 0s 15ms/step - loss: 0.6350 - accuracy: 0.6560 - val_loss: 0.6451 - val_accuracy: 0.5556\n",
            "Epoch 347/350\n",
            "4/4 [==============================] - 0s 12ms/step - loss: 0.6349 - accuracy: 0.6560 - val_loss: 0.6451 - val_accuracy: 0.5556\n",
            "Epoch 348/350\n",
            "4/4 [==============================] - 0s 13ms/step - loss: 0.6348 - accuracy: 0.6560 - val_loss: 0.6451 - val_accuracy: 0.5556\n",
            "Epoch 349/350\n",
            "4/4 [==============================] - 0s 14ms/step - loss: 0.6348 - accuracy: 0.6560 - val_loss: 0.6451 - val_accuracy: 0.5556\n",
            "Epoch 350/350\n",
            "4/4 [==============================] - 0s 12ms/step - loss: 0.6348 - accuracy: 0.6560 - val_loss: 0.6452 - val_accuracy: 0.5556\n"
          ]
        }
      ]
    },
    {
      "cell_type": "code",
      "source": [
        "model7.evaluate(X_test, y_test)"
      ],
      "metadata": {
        "colab": {
          "base_uri": "https://localhost:8080/"
        },
        "id": "vuSW-3hF7uM4",
        "outputId": "6e3e76d8-e01e-4199-e872-40fdf67e0312"
      },
      "execution_count": 887,
      "outputs": [
        {
          "output_type": "stream",
          "name": "stdout",
          "text": [
            "1/1 [==============================] - 0s 20ms/step - loss: 4.9923 - accuracy: 0.6522\n"
          ]
        },
        {
          "output_type": "execute_result",
          "data": {
            "text/plain": [
              "[4.992343902587891, 0.6521739363670349]"
            ]
          },
          "metadata": {},
          "execution_count": 887
        }
      ]
    },
    {
      "cell_type": "code",
      "source": [
        "model7 = tf.keras.models.load_model(f\"/content/model_experiments/{model7.name}\")\n",
        "model7.evaluate(X_test, y_test)"
      ],
      "metadata": {
        "id": "S7rS6N1nq4HX",
        "outputId": "568f7808-c49a-4c1d-e016-c1c72066a73c",
        "colab": {
          "base_uri": "https://localhost:8080/"
        }
      },
      "execution_count": 888,
      "outputs": [
        {
          "output_type": "stream",
          "name": "stdout",
          "text": [
            "1/1 [==============================] - 0s 122ms/step - loss: 6.0827 - accuracy: 0.6087\n"
          ]
        },
        {
          "output_type": "execute_result",
          "data": {
            "text/plain": [
              "[6.082678318023682, 0.6086956262588501]"
            ]
          },
          "metadata": {},
          "execution_count": 888
        }
      ]
    },
    {
      "cell_type": "code",
      "source": [
        "tf.random.set_seed(42)\n",
        "\n",
        "model8 = tf.keras.Sequential([\n",
        "    tf.keras.layers.Dense(5, activation='relu'),\n",
        "    tf.keras.layers.Dense(10, activation='relu'),\n",
        "    tf.keras.layers.Dense(10, activation='relu'),\n",
        "\n",
        "    # tf.keras.layers.Dense(20, activation='relu'),\n",
        "    # tf.keras.layers.Dense(10, activation='relu'),\n",
        "\n",
        "    # tf.keras.layers.Dense(256, activation='relu'),\n",
        "    tf.keras.layers.Dense(1, activation='sigmoid')\n",
        "])\n",
        "\n",
        "model8.compile(\n",
        "    loss=tf.keras.losses.binary_crossentropy,\n",
        "    optimizer=tf.keras.optimizers.Adam(0.001),\n",
        "    metrics=[\"accuracy\"]\n",
        ")\n",
        "\n",
        "\n",
        "history8 = model8.fit(X_train_scaled, \n",
        "                    y_train, \n",
        "                    epochs=150,\n",
        "                    validation_data = (X_valid_scaled, y_valid),\n",
        "                    callbacks=[create_model_checkpoint(model_name=model8.name)])"
      ],
      "metadata": {
        "id": "6iqdazWeefng",
        "outputId": "664a513a-5643-48e2-e963-ef8bdb4ecbe3",
        "colab": {
          "base_uri": "https://localhost:8080/"
        }
      },
      "execution_count": 889,
      "outputs": [
        {
          "output_type": "stream",
          "name": "stdout",
          "text": [
            "Epoch 1/150\n",
            "1/4 [======>.......................] - ETA: 1s - loss: 0.6915 - accuracy: 0.4688INFO:tensorflow:Assets written to: model_experiments/sequential_82/assets\n",
            "4/4 [==============================] - 1s 293ms/step - loss: 0.6942 - accuracy: 0.4480 - val_loss: 0.6921 - val_accuracy: 0.5185\n",
            "Epoch 2/150\n",
            "1/4 [======>.......................] - ETA: 0s - loss: 0.6921 - accuracy: 0.5312INFO:tensorflow:Assets written to: model_experiments/sequential_82/assets\n",
            "4/4 [==============================] - 2s 519ms/step - loss: 0.6932 - accuracy: 0.5120 - val_loss: 0.6900 - val_accuracy: 0.7037\n",
            "Epoch 3/150\n",
            "4/4 [==============================] - 0s 10ms/step - loss: 0.6917 - accuracy: 0.5360 - val_loss: 0.6885 - val_accuracy: 0.5926\n",
            "Epoch 4/150\n",
            "4/4 [==============================] - 0s 10ms/step - loss: 0.6909 - accuracy: 0.5520 - val_loss: 0.6869 - val_accuracy: 0.6296\n",
            "Epoch 5/150\n",
            "4/4 [==============================] - 0s 11ms/step - loss: 0.6898 - accuracy: 0.5680 - val_loss: 0.6854 - val_accuracy: 0.6296\n",
            "Epoch 6/150\n",
            "4/4 [==============================] - 0s 10ms/step - loss: 0.6893 - accuracy: 0.5760 - val_loss: 0.6839 - val_accuracy: 0.6296\n",
            "Epoch 7/150\n",
            "4/4 [==============================] - 0s 10ms/step - loss: 0.6882 - accuracy: 0.5760 - val_loss: 0.6826 - val_accuracy: 0.6296\n",
            "Epoch 8/150\n",
            "4/4 [==============================] - 0s 10ms/step - loss: 0.6876 - accuracy: 0.5760 - val_loss: 0.6813 - val_accuracy: 0.6296\n",
            "Epoch 9/150\n",
            "4/4 [==============================] - 0s 11ms/step - loss: 0.6866 - accuracy: 0.5760 - val_loss: 0.6802 - val_accuracy: 0.6296\n",
            "Epoch 10/150\n",
            "4/4 [==============================] - 0s 12ms/step - loss: 0.6859 - accuracy: 0.5760 - val_loss: 0.6790 - val_accuracy: 0.6296\n",
            "Epoch 11/150\n",
            "4/4 [==============================] - 0s 11ms/step - loss: 0.6854 - accuracy: 0.5760 - val_loss: 0.6777 - val_accuracy: 0.6296\n",
            "Epoch 12/150\n",
            "4/4 [==============================] - 0s 11ms/step - loss: 0.6844 - accuracy: 0.5760 - val_loss: 0.6766 - val_accuracy: 0.6296\n",
            "Epoch 13/150\n",
            "4/4 [==============================] - 0s 12ms/step - loss: 0.6838 - accuracy: 0.5760 - val_loss: 0.6755 - val_accuracy: 0.6296\n",
            "Epoch 14/150\n",
            "4/4 [==============================] - 0s 12ms/step - loss: 0.6830 - accuracy: 0.5760 - val_loss: 0.6743 - val_accuracy: 0.6296\n",
            "Epoch 15/150\n",
            "4/4 [==============================] - 0s 12ms/step - loss: 0.6823 - accuracy: 0.5760 - val_loss: 0.6731 - val_accuracy: 0.6296\n",
            "Epoch 16/150\n",
            "4/4 [==============================] - 0s 13ms/step - loss: 0.6816 - accuracy: 0.5760 - val_loss: 0.6719 - val_accuracy: 0.6296\n",
            "Epoch 17/150\n",
            "4/4 [==============================] - 0s 11ms/step - loss: 0.6809 - accuracy: 0.5760 - val_loss: 0.6708 - val_accuracy: 0.6296\n",
            "Epoch 18/150\n",
            "4/4 [==============================] - 0s 10ms/step - loss: 0.6803 - accuracy: 0.5760 - val_loss: 0.6697 - val_accuracy: 0.6296\n",
            "Epoch 19/150\n",
            "4/4 [==============================] - 0s 13ms/step - loss: 0.6796 - accuracy: 0.5760 - val_loss: 0.6688 - val_accuracy: 0.6296\n",
            "Epoch 20/150\n",
            "4/4 [==============================] - 0s 12ms/step - loss: 0.6792 - accuracy: 0.5760 - val_loss: 0.6678 - val_accuracy: 0.6296\n",
            "Epoch 21/150\n",
            "4/4 [==============================] - 0s 12ms/step - loss: 0.6787 - accuracy: 0.5760 - val_loss: 0.6669 - val_accuracy: 0.6296\n",
            "Epoch 22/150\n",
            "4/4 [==============================] - 0s 12ms/step - loss: 0.6787 - accuracy: 0.5760 - val_loss: 0.6658 - val_accuracy: 0.6296\n",
            "Epoch 23/150\n",
            "4/4 [==============================] - 0s 10ms/step - loss: 0.6777 - accuracy: 0.5760 - val_loss: 0.6652 - val_accuracy: 0.6296\n",
            "Epoch 24/150\n",
            "4/4 [==============================] - 0s 10ms/step - loss: 0.6775 - accuracy: 0.5760 - val_loss: 0.6644 - val_accuracy: 0.6296\n",
            "Epoch 25/150\n",
            "4/4 [==============================] - 0s 10ms/step - loss: 0.6771 - accuracy: 0.5760 - val_loss: 0.6637 - val_accuracy: 0.6296\n",
            "Epoch 26/150\n",
            "4/4 [==============================] - 0s 11ms/step - loss: 0.6770 - accuracy: 0.5760 - val_loss: 0.6630 - val_accuracy: 0.6296\n",
            "Epoch 27/150\n",
            "4/4 [==============================] - 0s 11ms/step - loss: 0.6767 - accuracy: 0.5760 - val_loss: 0.6623 - val_accuracy: 0.6296\n",
            "Epoch 28/150\n",
            "4/4 [==============================] - 0s 11ms/step - loss: 0.6764 - accuracy: 0.5760 - val_loss: 0.6617 - val_accuracy: 0.6296\n",
            "Epoch 29/150\n",
            "4/4 [==============================] - 0s 10ms/step - loss: 0.6761 - accuracy: 0.5760 - val_loss: 0.6613 - val_accuracy: 0.6296\n",
            "Epoch 30/150\n",
            "4/4 [==============================] - 0s 10ms/step - loss: 0.6759 - accuracy: 0.5760 - val_loss: 0.6608 - val_accuracy: 0.6296\n",
            "Epoch 31/150\n",
            "4/4 [==============================] - 0s 10ms/step - loss: 0.6758 - accuracy: 0.5760 - val_loss: 0.6605 - val_accuracy: 0.6296\n",
            "Epoch 32/150\n",
            "4/4 [==============================] - 0s 12ms/step - loss: 0.6757 - accuracy: 0.5760 - val_loss: 0.6599 - val_accuracy: 0.6296\n",
            "Epoch 33/150\n",
            "4/4 [==============================] - 0s 10ms/step - loss: 0.6755 - accuracy: 0.5760 - val_loss: 0.6594 - val_accuracy: 0.6296\n",
            "Epoch 34/150\n",
            "4/4 [==============================] - 0s 13ms/step - loss: 0.6752 - accuracy: 0.5760 - val_loss: 0.6591 - val_accuracy: 0.6296\n",
            "Epoch 35/150\n",
            "4/4 [==============================] - 0s 11ms/step - loss: 0.6750 - accuracy: 0.5760 - val_loss: 0.6589 - val_accuracy: 0.6296\n",
            "Epoch 36/150\n",
            "4/4 [==============================] - 0s 12ms/step - loss: 0.6747 - accuracy: 0.5760 - val_loss: 0.6586 - val_accuracy: 0.6296\n",
            "Epoch 37/150\n",
            "4/4 [==============================] - 0s 12ms/step - loss: 0.6746 - accuracy: 0.5760 - val_loss: 0.6582 - val_accuracy: 0.6296\n",
            "Epoch 38/150\n",
            "4/4 [==============================] - 0s 12ms/step - loss: 0.6745 - accuracy: 0.5760 - val_loss: 0.6578 - val_accuracy: 0.6296\n",
            "Epoch 39/150\n",
            "4/4 [==============================] - 0s 10ms/step - loss: 0.6741 - accuracy: 0.5760 - val_loss: 0.6576 - val_accuracy: 0.6296\n",
            "Epoch 40/150\n",
            "4/4 [==============================] - 0s 11ms/step - loss: 0.6739 - accuracy: 0.5760 - val_loss: 0.6573 - val_accuracy: 0.6296\n",
            "Epoch 41/150\n",
            "4/4 [==============================] - 0s 10ms/step - loss: 0.6738 - accuracy: 0.5760 - val_loss: 0.6572 - val_accuracy: 0.6296\n",
            "Epoch 42/150\n",
            "4/4 [==============================] - 0s 11ms/step - loss: 0.6734 - accuracy: 0.5760 - val_loss: 0.6569 - val_accuracy: 0.6296\n",
            "Epoch 43/150\n",
            "4/4 [==============================] - 0s 14ms/step - loss: 0.6731 - accuracy: 0.5760 - val_loss: 0.6566 - val_accuracy: 0.6296\n",
            "Epoch 44/150\n",
            "4/4 [==============================] - 0s 11ms/step - loss: 0.6730 - accuracy: 0.5760 - val_loss: 0.6564 - val_accuracy: 0.6296\n",
            "Epoch 45/150\n",
            "4/4 [==============================] - 0s 13ms/step - loss: 0.6728 - accuracy: 0.5760 - val_loss: 0.6561 - val_accuracy: 0.6296\n",
            "Epoch 46/150\n",
            "4/4 [==============================] - 0s 10ms/step - loss: 0.6724 - accuracy: 0.5760 - val_loss: 0.6557 - val_accuracy: 0.6296\n",
            "Epoch 47/150\n",
            "4/4 [==============================] - 0s 12ms/step - loss: 0.6723 - accuracy: 0.5760 - val_loss: 0.6552 - val_accuracy: 0.6296\n",
            "Epoch 48/150\n",
            "4/4 [==============================] - 0s 11ms/step - loss: 0.6721 - accuracy: 0.5760 - val_loss: 0.6550 - val_accuracy: 0.6296\n",
            "Epoch 49/150\n",
            "4/4 [==============================] - 0s 11ms/step - loss: 0.6716 - accuracy: 0.5760 - val_loss: 0.6546 - val_accuracy: 0.6296\n",
            "Epoch 50/150\n",
            "4/4 [==============================] - 0s 13ms/step - loss: 0.6714 - accuracy: 0.5760 - val_loss: 0.6546 - val_accuracy: 0.6296\n",
            "Epoch 51/150\n",
            "4/4 [==============================] - 0s 11ms/step - loss: 0.6711 - accuracy: 0.5760 - val_loss: 0.6545 - val_accuracy: 0.6296\n",
            "Epoch 52/150\n",
            "4/4 [==============================] - 0s 11ms/step - loss: 0.6708 - accuracy: 0.5760 - val_loss: 0.6540 - val_accuracy: 0.6296\n",
            "Epoch 53/150\n",
            "4/4 [==============================] - 0s 12ms/step - loss: 0.6704 - accuracy: 0.5760 - val_loss: 0.6538 - val_accuracy: 0.6296\n",
            "Epoch 54/150\n",
            "4/4 [==============================] - 0s 11ms/step - loss: 0.6702 - accuracy: 0.5760 - val_loss: 0.6537 - val_accuracy: 0.6296\n",
            "Epoch 55/150\n",
            "4/4 [==============================] - 0s 13ms/step - loss: 0.6700 - accuracy: 0.5760 - val_loss: 0.6536 - val_accuracy: 0.6296\n",
            "Epoch 56/150\n",
            "4/4 [==============================] - 0s 11ms/step - loss: 0.6695 - accuracy: 0.5760 - val_loss: 0.6537 - val_accuracy: 0.6296\n",
            "Epoch 57/150\n",
            "4/4 [==============================] - 0s 13ms/step - loss: 0.6691 - accuracy: 0.5760 - val_loss: 0.6536 - val_accuracy: 0.6296\n",
            "Epoch 58/150\n",
            "4/4 [==============================] - 0s 12ms/step - loss: 0.6685 - accuracy: 0.5760 - val_loss: 0.6537 - val_accuracy: 0.6296\n",
            "Epoch 59/150\n",
            "4/4 [==============================] - 0s 18ms/step - loss: 0.6681 - accuracy: 0.5760 - val_loss: 0.6537 - val_accuracy: 0.6296\n",
            "Epoch 60/150\n",
            "4/4 [==============================] - 0s 13ms/step - loss: 0.6678 - accuracy: 0.5840 - val_loss: 0.6535 - val_accuracy: 0.6296\n",
            "Epoch 61/150\n",
            "4/4 [==============================] - 0s 12ms/step - loss: 0.6677 - accuracy: 0.5840 - val_loss: 0.6536 - val_accuracy: 0.6296\n",
            "Epoch 62/150\n",
            "4/4 [==============================] - 0s 10ms/step - loss: 0.6673 - accuracy: 0.5840 - val_loss: 0.6534 - val_accuracy: 0.6296\n",
            "Epoch 63/150\n",
            "4/4 [==============================] - 0s 11ms/step - loss: 0.6671 - accuracy: 0.5760 - val_loss: 0.6531 - val_accuracy: 0.6296\n",
            "Epoch 64/150\n",
            "4/4 [==============================] - 0s 11ms/step - loss: 0.6668 - accuracy: 0.5840 - val_loss: 0.6522 - val_accuracy: 0.6296\n",
            "Epoch 65/150\n",
            "4/4 [==============================] - 0s 11ms/step - loss: 0.6662 - accuracy: 0.5840 - val_loss: 0.6516 - val_accuracy: 0.6296\n",
            "Epoch 66/150\n",
            "4/4 [==============================] - 0s 12ms/step - loss: 0.6661 - accuracy: 0.5840 - val_loss: 0.6511 - val_accuracy: 0.6296\n",
            "Epoch 67/150\n",
            "4/4 [==============================] - 0s 11ms/step - loss: 0.6656 - accuracy: 0.5840 - val_loss: 0.6510 - val_accuracy: 0.6296\n",
            "Epoch 68/150\n",
            "4/4 [==============================] - 0s 11ms/step - loss: 0.6652 - accuracy: 0.5760 - val_loss: 0.6509 - val_accuracy: 0.6296\n",
            "Epoch 69/150\n",
            "4/4 [==============================] - 0s 10ms/step - loss: 0.6650 - accuracy: 0.5680 - val_loss: 0.6507 - val_accuracy: 0.6296\n",
            "Epoch 70/150\n",
            "4/4 [==============================] - 0s 11ms/step - loss: 0.6648 - accuracy: 0.5680 - val_loss: 0.6505 - val_accuracy: 0.6667\n",
            "Epoch 71/150\n",
            "4/4 [==============================] - 0s 12ms/step - loss: 0.6648 - accuracy: 0.5680 - val_loss: 0.6506 - val_accuracy: 0.6667\n",
            "Epoch 72/150\n",
            "4/4 [==============================] - 0s 11ms/step - loss: 0.6642 - accuracy: 0.5680 - val_loss: 0.6503 - val_accuracy: 0.6667\n",
            "Epoch 73/150\n",
            "4/4 [==============================] - 0s 12ms/step - loss: 0.6637 - accuracy: 0.5760 - val_loss: 0.6500 - val_accuracy: 0.6667\n",
            "Epoch 74/150\n",
            "4/4 [==============================] - 0s 12ms/step - loss: 0.6637 - accuracy: 0.5760 - val_loss: 0.6494 - val_accuracy: 0.6667\n",
            "Epoch 75/150\n",
            "4/4 [==============================] - 0s 11ms/step - loss: 0.6633 - accuracy: 0.5760 - val_loss: 0.6494 - val_accuracy: 0.6667\n",
            "Epoch 76/150\n",
            "4/4 [==============================] - 0s 11ms/step - loss: 0.6630 - accuracy: 0.5840 - val_loss: 0.6495 - val_accuracy: 0.6296\n",
            "Epoch 77/150\n",
            "4/4 [==============================] - 0s 11ms/step - loss: 0.6628 - accuracy: 0.5840 - val_loss: 0.6496 - val_accuracy: 0.6296\n",
            "Epoch 78/150\n",
            "4/4 [==============================] - 0s 14ms/step - loss: 0.6623 - accuracy: 0.5920 - val_loss: 0.6493 - val_accuracy: 0.6296\n",
            "Epoch 79/150\n",
            "4/4 [==============================] - 0s 12ms/step - loss: 0.6621 - accuracy: 0.6000 - val_loss: 0.6491 - val_accuracy: 0.6296\n",
            "Epoch 80/150\n",
            "4/4 [==============================] - 0s 13ms/step - loss: 0.6618 - accuracy: 0.6000 - val_loss: 0.6488 - val_accuracy: 0.6296\n",
            "Epoch 81/150\n",
            "4/4 [==============================] - 0s 10ms/step - loss: 0.6615 - accuracy: 0.6160 - val_loss: 0.6487 - val_accuracy: 0.7037\n",
            "Epoch 82/150\n",
            "4/4 [==============================] - 0s 13ms/step - loss: 0.6611 - accuracy: 0.6160 - val_loss: 0.6487 - val_accuracy: 0.7037\n",
            "Epoch 83/150\n",
            "4/4 [==============================] - 0s 11ms/step - loss: 0.6608 - accuracy: 0.6000 - val_loss: 0.6484 - val_accuracy: 0.7037\n",
            "Epoch 84/150\n",
            "4/4 [==============================] - 0s 13ms/step - loss: 0.6605 - accuracy: 0.6000 - val_loss: 0.6484 - val_accuracy: 0.7037\n",
            "Epoch 85/150\n",
            "4/4 [==============================] - 0s 14ms/step - loss: 0.6604 - accuracy: 0.6000 - val_loss: 0.6481 - val_accuracy: 0.7037\n",
            "Epoch 86/150\n",
            "4/4 [==============================] - 0s 11ms/step - loss: 0.6598 - accuracy: 0.5920 - val_loss: 0.6482 - val_accuracy: 0.7037\n",
            "Epoch 87/150\n",
            "4/4 [==============================] - 0s 11ms/step - loss: 0.6595 - accuracy: 0.6080 - val_loss: 0.6482 - val_accuracy: 0.7037\n",
            "Epoch 88/150\n",
            "4/4 [==============================] - 0s 12ms/step - loss: 0.6594 - accuracy: 0.5920 - val_loss: 0.6484 - val_accuracy: 0.7037\n",
            "Epoch 89/150\n",
            "4/4 [==============================] - 0s 19ms/step - loss: 0.6589 - accuracy: 0.5920 - val_loss: 0.6480 - val_accuracy: 0.7037\n",
            "Epoch 90/150\n",
            "4/4 [==============================] - 0s 11ms/step - loss: 0.6589 - accuracy: 0.6160 - val_loss: 0.6482 - val_accuracy: 0.7037\n",
            "Epoch 91/150\n",
            "4/4 [==============================] - 0s 11ms/step - loss: 0.6582 - accuracy: 0.6240 - val_loss: 0.6481 - val_accuracy: 0.7037\n",
            "Epoch 92/150\n",
            "4/4 [==============================] - 0s 13ms/step - loss: 0.6582 - accuracy: 0.6240 - val_loss: 0.6477 - val_accuracy: 0.7037\n",
            "Epoch 93/150\n",
            "4/4 [==============================] - 0s 12ms/step - loss: 0.6578 - accuracy: 0.6000 - val_loss: 0.6474 - val_accuracy: 0.7037\n",
            "Epoch 94/150\n",
            "4/4 [==============================] - 0s 11ms/step - loss: 0.6576 - accuracy: 0.6160 - val_loss: 0.6477 - val_accuracy: 0.7037\n",
            "Epoch 95/150\n",
            "4/4 [==============================] - 0s 11ms/step - loss: 0.6572 - accuracy: 0.6400 - val_loss: 0.6479 - val_accuracy: 0.6296\n",
            "Epoch 96/150\n",
            "4/4 [==============================] - 0s 14ms/step - loss: 0.6574 - accuracy: 0.6400 - val_loss: 0.6476 - val_accuracy: 0.7037\n",
            "Epoch 97/150\n",
            "4/4 [==============================] - 0s 12ms/step - loss: 0.6566 - accuracy: 0.6400 - val_loss: 0.6474 - val_accuracy: 0.7037\n",
            "Epoch 98/150\n",
            "4/4 [==============================] - 0s 11ms/step - loss: 0.6563 - accuracy: 0.6400 - val_loss: 0.6477 - val_accuracy: 0.6296\n",
            "Epoch 99/150\n",
            "4/4 [==============================] - 0s 11ms/step - loss: 0.6560 - accuracy: 0.6480 - val_loss: 0.6481 - val_accuracy: 0.5926\n",
            "Epoch 100/150\n",
            "4/4 [==============================] - 0s 17ms/step - loss: 0.6556 - accuracy: 0.6400 - val_loss: 0.6480 - val_accuracy: 0.5926\n",
            "Epoch 101/150\n",
            "4/4 [==============================] - 0s 11ms/step - loss: 0.6554 - accuracy: 0.6480 - val_loss: 0.6478 - val_accuracy: 0.5926\n",
            "Epoch 102/150\n",
            "4/4 [==============================] - 0s 11ms/step - loss: 0.6554 - accuracy: 0.6320 - val_loss: 0.6476 - val_accuracy: 0.5926\n",
            "Epoch 103/150\n",
            "4/4 [==============================] - 0s 13ms/step - loss: 0.6547 - accuracy: 0.6400 - val_loss: 0.6476 - val_accuracy: 0.5926\n",
            "Epoch 104/150\n",
            "4/4 [==============================] - 0s 13ms/step - loss: 0.6551 - accuracy: 0.6320 - val_loss: 0.6482 - val_accuracy: 0.5926\n",
            "Epoch 105/150\n",
            "4/4 [==============================] - 0s 11ms/step - loss: 0.6544 - accuracy: 0.6320 - val_loss: 0.6479 - val_accuracy: 0.5926\n",
            "Epoch 106/150\n",
            "4/4 [==============================] - 0s 11ms/step - loss: 0.6540 - accuracy: 0.6320 - val_loss: 0.6475 - val_accuracy: 0.5926\n",
            "Epoch 107/150\n",
            "4/4 [==============================] - 0s 13ms/step - loss: 0.6538 - accuracy: 0.6400 - val_loss: 0.6473 - val_accuracy: 0.5926\n",
            "Epoch 108/150\n",
            "4/4 [==============================] - 0s 11ms/step - loss: 0.6535 - accuracy: 0.6400 - val_loss: 0.6473 - val_accuracy: 0.5926\n",
            "Epoch 109/150\n",
            "4/4 [==============================] - 0s 10ms/step - loss: 0.6534 - accuracy: 0.6320 - val_loss: 0.6472 - val_accuracy: 0.5926\n",
            "Epoch 110/150\n",
            "4/4 [==============================] - 0s 12ms/step - loss: 0.6532 - accuracy: 0.6400 - val_loss: 0.6476 - val_accuracy: 0.5926\n",
            "Epoch 111/150\n",
            "4/4 [==============================] - 0s 11ms/step - loss: 0.6528 - accuracy: 0.6320 - val_loss: 0.6481 - val_accuracy: 0.5926\n",
            "Epoch 112/150\n",
            "4/4 [==============================] - 0s 14ms/step - loss: 0.6525 - accuracy: 0.6320 - val_loss: 0.6485 - val_accuracy: 0.5926\n",
            "Epoch 113/150\n",
            "4/4 [==============================] - 0s 13ms/step - loss: 0.6524 - accuracy: 0.6320 - val_loss: 0.6489 - val_accuracy: 0.5556\n",
            "Epoch 114/150\n",
            "4/4 [==============================] - 0s 13ms/step - loss: 0.6519 - accuracy: 0.6400 - val_loss: 0.6482 - val_accuracy: 0.5926\n",
            "Epoch 115/150\n",
            "4/4 [==============================] - 0s 22ms/step - loss: 0.6516 - accuracy: 0.6320 - val_loss: 0.6481 - val_accuracy: 0.5926\n",
            "Epoch 116/150\n",
            "4/4 [==============================] - 0s 11ms/step - loss: 0.6513 - accuracy: 0.6400 - val_loss: 0.6481 - val_accuracy: 0.5926\n",
            "Epoch 117/150\n",
            "4/4 [==============================] - 0s 12ms/step - loss: 0.6512 - accuracy: 0.6240 - val_loss: 0.6483 - val_accuracy: 0.5556\n",
            "Epoch 118/150\n",
            "4/4 [==============================] - 0s 11ms/step - loss: 0.6508 - accuracy: 0.6240 - val_loss: 0.6482 - val_accuracy: 0.5556\n",
            "Epoch 119/150\n",
            "4/4 [==============================] - 0s 11ms/step - loss: 0.6506 - accuracy: 0.6240 - val_loss: 0.6483 - val_accuracy: 0.5556\n",
            "Epoch 120/150\n",
            "4/4 [==============================] - 0s 15ms/step - loss: 0.6504 - accuracy: 0.6240 - val_loss: 0.6477 - val_accuracy: 0.5556\n",
            "Epoch 121/150\n",
            "4/4 [==============================] - 0s 14ms/step - loss: 0.6503 - accuracy: 0.6320 - val_loss: 0.6482 - val_accuracy: 0.5185\n",
            "Epoch 122/150\n",
            "4/4 [==============================] - 0s 11ms/step - loss: 0.6504 - accuracy: 0.6240 - val_loss: 0.6487 - val_accuracy: 0.5185\n",
            "Epoch 123/150\n",
            "4/4 [==============================] - 0s 10ms/step - loss: 0.6498 - accuracy: 0.6320 - val_loss: 0.6477 - val_accuracy: 0.5556\n",
            "Epoch 124/150\n",
            "4/4 [==============================] - 0s 12ms/step - loss: 0.6496 - accuracy: 0.6240 - val_loss: 0.6479 - val_accuracy: 0.5185\n",
            "Epoch 125/150\n",
            "4/4 [==============================] - 0s 11ms/step - loss: 0.6491 - accuracy: 0.6240 - val_loss: 0.6473 - val_accuracy: 0.5556\n",
            "Epoch 126/150\n",
            "4/4 [==============================] - 0s 12ms/step - loss: 0.6487 - accuracy: 0.6320 - val_loss: 0.6474 - val_accuracy: 0.5556\n",
            "Epoch 127/150\n",
            "4/4 [==============================] - 0s 14ms/step - loss: 0.6486 - accuracy: 0.6320 - val_loss: 0.6475 - val_accuracy: 0.5556\n",
            "Epoch 128/150\n",
            "4/4 [==============================] - 0s 12ms/step - loss: 0.6485 - accuracy: 0.6240 - val_loss: 0.6484 - val_accuracy: 0.5185\n",
            "Epoch 129/150\n",
            "4/4 [==============================] - 0s 11ms/step - loss: 0.6486 - accuracy: 0.6160 - val_loss: 0.6494 - val_accuracy: 0.5556\n",
            "Epoch 130/150\n",
            "4/4 [==============================] - 0s 11ms/step - loss: 0.6479 - accuracy: 0.6240 - val_loss: 0.6489 - val_accuracy: 0.5185\n",
            "Epoch 131/150\n",
            "4/4 [==============================] - 0s 10ms/step - loss: 0.6479 - accuracy: 0.6240 - val_loss: 0.6492 - val_accuracy: 0.5556\n",
            "Epoch 132/150\n",
            "4/4 [==============================] - 0s 11ms/step - loss: 0.6472 - accuracy: 0.6240 - val_loss: 0.6484 - val_accuracy: 0.5556\n",
            "Epoch 133/150\n",
            "4/4 [==============================] - 0s 12ms/step - loss: 0.6469 - accuracy: 0.6160 - val_loss: 0.6480 - val_accuracy: 0.5556\n",
            "Epoch 134/150\n",
            "4/4 [==============================] - 0s 12ms/step - loss: 0.6470 - accuracy: 0.6160 - val_loss: 0.6474 - val_accuracy: 0.5926\n",
            "Epoch 135/150\n",
            "4/4 [==============================] - 0s 11ms/step - loss: 0.6467 - accuracy: 0.6240 - val_loss: 0.6469 - val_accuracy: 0.5926\n",
            "Epoch 136/150\n",
            "4/4 [==============================] - 0s 12ms/step - loss: 0.6463 - accuracy: 0.6320 - val_loss: 0.6469 - val_accuracy: 0.5556\n",
            "Epoch 137/150\n",
            "4/4 [==============================] - 0s 12ms/step - loss: 0.6460 - accuracy: 0.6240 - val_loss: 0.6468 - val_accuracy: 0.5556\n",
            "Epoch 138/150\n",
            "4/4 [==============================] - 0s 13ms/step - loss: 0.6458 - accuracy: 0.6240 - val_loss: 0.6470 - val_accuracy: 0.5556\n",
            "Epoch 139/150\n",
            "4/4 [==============================] - 0s 13ms/step - loss: 0.6456 - accuracy: 0.6240 - val_loss: 0.6474 - val_accuracy: 0.5556\n",
            "Epoch 140/150\n",
            "4/4 [==============================] - 0s 12ms/step - loss: 0.6455 - accuracy: 0.6320 - val_loss: 0.6482 - val_accuracy: 0.5556\n",
            "Epoch 141/150\n",
            "4/4 [==============================] - 0s 14ms/step - loss: 0.6451 - accuracy: 0.6160 - val_loss: 0.6477 - val_accuracy: 0.5556\n",
            "Epoch 142/150\n",
            "4/4 [==============================] - 0s 11ms/step - loss: 0.6450 - accuracy: 0.6160 - val_loss: 0.6481 - val_accuracy: 0.5556\n",
            "Epoch 143/150\n",
            "4/4 [==============================] - 0s 12ms/step - loss: 0.6447 - accuracy: 0.6160 - val_loss: 0.6479 - val_accuracy: 0.5556\n",
            "Epoch 144/150\n",
            "4/4 [==============================] - 0s 12ms/step - loss: 0.6442 - accuracy: 0.6160 - val_loss: 0.6477 - val_accuracy: 0.5556\n",
            "Epoch 145/150\n",
            "4/4 [==============================] - 0s 11ms/step - loss: 0.6444 - accuracy: 0.6080 - val_loss: 0.6478 - val_accuracy: 0.5556\n",
            "Epoch 146/150\n",
            "4/4 [==============================] - 0s 12ms/step - loss: 0.6437 - accuracy: 0.6160 - val_loss: 0.6471 - val_accuracy: 0.5556\n",
            "Epoch 147/150\n",
            "4/4 [==============================] - 0s 10ms/step - loss: 0.6436 - accuracy: 0.6160 - val_loss: 0.6464 - val_accuracy: 0.5556\n",
            "Epoch 148/150\n",
            "4/4 [==============================] - 0s 11ms/step - loss: 0.6435 - accuracy: 0.6240 - val_loss: 0.6471 - val_accuracy: 0.5556\n",
            "Epoch 149/150\n",
            "4/4 [==============================] - 0s 11ms/step - loss: 0.6429 - accuracy: 0.6160 - val_loss: 0.6471 - val_accuracy: 0.5556\n",
            "Epoch 150/150\n",
            "4/4 [==============================] - 0s 16ms/step - loss: 0.6431 - accuracy: 0.6160 - val_loss: 0.6464 - val_accuracy: 0.5556\n"
          ]
        }
      ]
    },
    {
      "cell_type": "code",
      "source": [
        "model8.evaluate(X_test, y_test)"
      ],
      "metadata": {
        "colab": {
          "base_uri": "https://localhost:8080/"
        },
        "id": "N3z1ldA67vxo",
        "outputId": "58fc53e7-504f-4d41-d48e-7be1ebd3245d"
      },
      "execution_count": 890,
      "outputs": [
        {
          "output_type": "stream",
          "name": "stdout",
          "text": [
            "1/1 [==============================] - 0s 21ms/step - loss: 7.1574 - accuracy: 0.6087\n"
          ]
        },
        {
          "output_type": "execute_result",
          "data": {
            "text/plain": [
              "[7.157411575317383, 0.6086956262588501]"
            ]
          },
          "metadata": {},
          "execution_count": 890
        }
      ]
    },
    {
      "cell_type": "code",
      "source": [
        "model8 = tf.keras.models.load_model(f\"/content/model_experiments/{model8.name}\")\n",
        "model8.evaluate(X_test, y_test)"
      ],
      "metadata": {
        "id": "HDtXkIhQq43p",
        "outputId": "b34e0945-00e9-4651-c8b8-df367e8df26a",
        "colab": {
          "base_uri": "https://localhost:8080/"
        }
      },
      "execution_count": 891,
      "outputs": [
        {
          "output_type": "stream",
          "name": "stdout",
          "text": [
            "1/1 [==============================] - 0s 139ms/step - loss: 0.7060 - accuracy: 0.6087\n"
          ]
        },
        {
          "output_type": "execute_result",
          "data": {
            "text/plain": [
              "[0.7060167193412781, 0.6086956262588501]"
            ]
          },
          "metadata": {},
          "execution_count": 891
        }
      ]
    },
    {
      "cell_type": "code",
      "source": [
        "tf.random.set_seed(42)\n",
        "\n",
        "model9 = tf.keras.Sequential([\n",
        "    tf.keras.layers.Dense(5, activation='relu'),\n",
        "    tf.keras.layers.Dense(21, activation='relu'),\n",
        "    tf.keras.layers.Dense(21, activation='relu'),\n",
        "\n",
        "    # tf.keras.layers.Dense(20, activation='relu'),\n",
        "    # tf.keras.layers.Dense(10, activation='relu'),\n",
        "\n",
        "    # tf.keras.layers.Dense(256, activation='relu'),\n",
        "    tf.keras.layers.Dense(1, activation='sigmoid')\n",
        "])\n",
        "\n",
        "model9.compile(\n",
        "    loss=tf.keras.losses.binary_crossentropy,\n",
        "    optimizer=tf.keras.optimizers.Adam(0.001),\n",
        "    metrics=[\"accuracy\"]\n",
        ")\n",
        "\n",
        "\n",
        "history9 = model9.fit(X_train_scaled, \n",
        "                    y_train, \n",
        "                    epochs=150,\n",
        "                    validation_data = (X_valid_scaled, y_valid),\n",
        "                    callbacks=[create_model_checkpoint(model_name=model9.name)])"
      ],
      "metadata": {
        "id": "IwsQafCPeho4",
        "outputId": "bcbf4608-d27f-423c-ccb1-eef5c2163d52",
        "colab": {
          "base_uri": "https://localhost:8080/"
        }
      },
      "execution_count": 892,
      "outputs": [
        {
          "output_type": "stream",
          "name": "stdout",
          "text": [
            "Epoch 1/150\n",
            "1/4 [======>.......................] - ETA: 1s - loss: 0.6885 - accuracy: 0.6562INFO:tensorflow:Assets written to: model_experiments/sequential_83/assets\n",
            "4/4 [==============================] - 1s 291ms/step - loss: 0.6909 - accuracy: 0.5760 - val_loss: 0.6885 - val_accuracy: 0.6667\n",
            "Epoch 2/150\n",
            "4/4 [==============================] - 0s 10ms/step - loss: 0.6890 - accuracy: 0.5760 - val_loss: 0.6846 - val_accuracy: 0.6296\n",
            "Epoch 3/150\n",
            "4/4 [==============================] - 0s 11ms/step - loss: 0.6862 - accuracy: 0.5760 - val_loss: 0.6817 - val_accuracy: 0.6296\n",
            "Epoch 4/150\n",
            "4/4 [==============================] - 0s 11ms/step - loss: 0.6848 - accuracy: 0.5760 - val_loss: 0.6786 - val_accuracy: 0.6296\n",
            "Epoch 5/150\n",
            "4/4 [==============================] - 0s 11ms/step - loss: 0.6830 - accuracy: 0.5760 - val_loss: 0.6760 - val_accuracy: 0.6296\n",
            "Epoch 6/150\n",
            "4/4 [==============================] - 0s 12ms/step - loss: 0.6825 - accuracy: 0.5760 - val_loss: 0.6733 - val_accuracy: 0.6296\n",
            "Epoch 7/150\n",
            "4/4 [==============================] - 0s 11ms/step - loss: 0.6804 - accuracy: 0.5760 - val_loss: 0.6714 - val_accuracy: 0.6296\n",
            "Epoch 8/150\n",
            "4/4 [==============================] - 0s 10ms/step - loss: 0.6797 - accuracy: 0.5760 - val_loss: 0.6696 - val_accuracy: 0.6296\n",
            "Epoch 9/150\n",
            "4/4 [==============================] - 0s 11ms/step - loss: 0.6784 - accuracy: 0.5760 - val_loss: 0.6683 - val_accuracy: 0.6296\n",
            "Epoch 10/150\n",
            "4/4 [==============================] - 0s 12ms/step - loss: 0.6778 - accuracy: 0.5760 - val_loss: 0.6670 - val_accuracy: 0.6296\n",
            "Epoch 11/150\n",
            "4/4 [==============================] - 0s 11ms/step - loss: 0.6775 - accuracy: 0.5760 - val_loss: 0.6657 - val_accuracy: 0.6296\n",
            "Epoch 12/150\n",
            "4/4 [==============================] - 0s 20ms/step - loss: 0.6767 - accuracy: 0.5760 - val_loss: 0.6647 - val_accuracy: 0.6296\n",
            "Epoch 13/150\n",
            "4/4 [==============================] - 0s 14ms/step - loss: 0.6762 - accuracy: 0.5760 - val_loss: 0.6637 - val_accuracy: 0.6296\n",
            "Epoch 14/150\n",
            "4/4 [==============================] - 0s 11ms/step - loss: 0.6759 - accuracy: 0.5760 - val_loss: 0.6627 - val_accuracy: 0.6296\n",
            "Epoch 15/150\n",
            "4/4 [==============================] - 0s 12ms/step - loss: 0.6752 - accuracy: 0.5760 - val_loss: 0.6619 - val_accuracy: 0.6296\n",
            "Epoch 16/150\n",
            "4/4 [==============================] - 0s 11ms/step - loss: 0.6748 - accuracy: 0.5760 - val_loss: 0.6612 - val_accuracy: 0.6296\n",
            "Epoch 17/150\n",
            "4/4 [==============================] - 0s 11ms/step - loss: 0.6742 - accuracy: 0.5760 - val_loss: 0.6607 - val_accuracy: 0.6296\n",
            "Epoch 18/150\n",
            "4/4 [==============================] - 0s 13ms/step - loss: 0.6739 - accuracy: 0.5760 - val_loss: 0.6602 - val_accuracy: 0.6296\n",
            "Epoch 19/150\n",
            "4/4 [==============================] - 0s 11ms/step - loss: 0.6735 - accuracy: 0.5760 - val_loss: 0.6598 - val_accuracy: 0.6296\n",
            "Epoch 20/150\n",
            "4/4 [==============================] - 0s 11ms/step - loss: 0.6730 - accuracy: 0.5760 - val_loss: 0.6593 - val_accuracy: 0.6296\n",
            "Epoch 21/150\n",
            "4/4 [==============================] - 0s 12ms/step - loss: 0.6725 - accuracy: 0.5760 - val_loss: 0.6588 - val_accuracy: 0.6296\n",
            "Epoch 22/150\n",
            "4/4 [==============================] - 0s 11ms/step - loss: 0.6727 - accuracy: 0.5760 - val_loss: 0.6582 - val_accuracy: 0.6296\n",
            "Epoch 23/150\n",
            "4/4 [==============================] - 0s 13ms/step - loss: 0.6719 - accuracy: 0.5760 - val_loss: 0.6580 - val_accuracy: 0.6296\n",
            "Epoch 24/150\n",
            "4/4 [==============================] - 0s 13ms/step - loss: 0.6714 - accuracy: 0.5760 - val_loss: 0.6576 - val_accuracy: 0.6296\n",
            "Epoch 25/150\n",
            "4/4 [==============================] - 0s 12ms/step - loss: 0.6710 - accuracy: 0.5760 - val_loss: 0.6572 - val_accuracy: 0.6296\n",
            "Epoch 26/150\n",
            "4/4 [==============================] - 0s 12ms/step - loss: 0.6705 - accuracy: 0.5760 - val_loss: 0.6569 - val_accuracy: 0.6296\n",
            "Epoch 27/150\n",
            "4/4 [==============================] - 0s 12ms/step - loss: 0.6701 - accuracy: 0.5760 - val_loss: 0.6566 - val_accuracy: 0.6296\n",
            "Epoch 28/150\n",
            "4/4 [==============================] - 0s 11ms/step - loss: 0.6696 - accuracy: 0.5760 - val_loss: 0.6562 - val_accuracy: 0.6296\n",
            "Epoch 29/150\n",
            "4/4 [==============================] - 0s 11ms/step - loss: 0.6691 - accuracy: 0.5760 - val_loss: 0.6562 - val_accuracy: 0.6296\n",
            "Epoch 30/150\n",
            "4/4 [==============================] - 0s 11ms/step - loss: 0.6686 - accuracy: 0.5760 - val_loss: 0.6559 - val_accuracy: 0.6296\n",
            "Epoch 31/150\n",
            "4/4 [==============================] - 0s 12ms/step - loss: 0.6686 - accuracy: 0.5760 - val_loss: 0.6557 - val_accuracy: 0.6296\n",
            "Epoch 32/150\n",
            "4/4 [==============================] - 0s 13ms/step - loss: 0.6682 - accuracy: 0.5760 - val_loss: 0.6550 - val_accuracy: 0.6296\n",
            "Epoch 33/150\n",
            "4/4 [==============================] - 0s 11ms/step - loss: 0.6676 - accuracy: 0.5760 - val_loss: 0.6544 - val_accuracy: 0.6296\n",
            "Epoch 34/150\n",
            "4/4 [==============================] - 0s 10ms/step - loss: 0.6673 - accuracy: 0.5760 - val_loss: 0.6542 - val_accuracy: 0.6296\n",
            "Epoch 35/150\n",
            "4/4 [==============================] - 0s 12ms/step - loss: 0.6670 - accuracy: 0.5760 - val_loss: 0.6545 - val_accuracy: 0.6296\n",
            "Epoch 36/150\n",
            "4/4 [==============================] - 0s 10ms/step - loss: 0.6663 - accuracy: 0.5760 - val_loss: 0.6543 - val_accuracy: 0.6296\n",
            "Epoch 37/150\n",
            "4/4 [==============================] - 0s 11ms/step - loss: 0.6660 - accuracy: 0.5760 - val_loss: 0.6541 - val_accuracy: 0.6296\n",
            "Epoch 38/150\n",
            "4/4 [==============================] - 0s 12ms/step - loss: 0.6658 - accuracy: 0.5760 - val_loss: 0.6539 - val_accuracy: 0.6296\n",
            "Epoch 39/150\n",
            "4/4 [==============================] - 0s 12ms/step - loss: 0.6652 - accuracy: 0.5760 - val_loss: 0.6538 - val_accuracy: 0.6296\n",
            "Epoch 40/150\n",
            "4/4 [==============================] - 0s 12ms/step - loss: 0.6648 - accuracy: 0.5760 - val_loss: 0.6536 - val_accuracy: 0.6296\n",
            "Epoch 41/150\n",
            "4/4 [==============================] - 0s 10ms/step - loss: 0.6646 - accuracy: 0.5760 - val_loss: 0.6535 - val_accuracy: 0.6296\n",
            "Epoch 42/150\n",
            "4/4 [==============================] - 0s 10ms/step - loss: 0.6640 - accuracy: 0.5760 - val_loss: 0.6532 - val_accuracy: 0.6296\n",
            "Epoch 43/150\n",
            "4/4 [==============================] - 0s 11ms/step - loss: 0.6637 - accuracy: 0.5760 - val_loss: 0.6530 - val_accuracy: 0.6667\n",
            "Epoch 44/150\n",
            "4/4 [==============================] - 0s 12ms/step - loss: 0.6636 - accuracy: 0.5840 - val_loss: 0.6531 - val_accuracy: 0.6667\n",
            "Epoch 45/150\n",
            "4/4 [==============================] - 0s 15ms/step - loss: 0.6633 - accuracy: 0.5920 - val_loss: 0.6529 - val_accuracy: 0.6667\n",
            "Epoch 46/150\n",
            "4/4 [==============================] - 0s 12ms/step - loss: 0.6628 - accuracy: 0.5840 - val_loss: 0.6527 - val_accuracy: 0.6667\n",
            "Epoch 47/150\n",
            "4/4 [==============================] - 0s 12ms/step - loss: 0.6626 - accuracy: 0.5920 - val_loss: 0.6522 - val_accuracy: 0.6667\n",
            "Epoch 48/150\n",
            "4/4 [==============================] - 0s 11ms/step - loss: 0.6625 - accuracy: 0.5760 - val_loss: 0.6525 - val_accuracy: 0.6296\n",
            "Epoch 49/150\n",
            "4/4 [==============================] - 0s 12ms/step - loss: 0.6618 - accuracy: 0.5680 - val_loss: 0.6524 - val_accuracy: 0.6296\n",
            "Epoch 50/150\n",
            "4/4 [==============================] - 0s 13ms/step - loss: 0.6615 - accuracy: 0.5680 - val_loss: 0.6526 - val_accuracy: 0.6667\n",
            "Epoch 51/150\n",
            "4/4 [==============================] - 0s 14ms/step - loss: 0.6611 - accuracy: 0.5760 - val_loss: 0.6525 - val_accuracy: 0.6667\n",
            "Epoch 52/150\n",
            "4/4 [==============================] - 0s 11ms/step - loss: 0.6609 - accuracy: 0.5760 - val_loss: 0.6521 - val_accuracy: 0.6667\n",
            "Epoch 53/150\n",
            "4/4 [==============================] - 0s 14ms/step - loss: 0.6604 - accuracy: 0.5760 - val_loss: 0.6520 - val_accuracy: 0.6667\n",
            "Epoch 54/150\n",
            "4/4 [==============================] - 0s 11ms/step - loss: 0.6602 - accuracy: 0.5920 - val_loss: 0.6521 - val_accuracy: 0.6667\n",
            "Epoch 55/150\n",
            "4/4 [==============================] - 0s 11ms/step - loss: 0.6601 - accuracy: 0.6000 - val_loss: 0.6521 - val_accuracy: 0.6667\n",
            "Epoch 56/150\n",
            "4/4 [==============================] - 0s 12ms/step - loss: 0.6595 - accuracy: 0.5920 - val_loss: 0.6524 - val_accuracy: 0.6296\n",
            "Epoch 57/150\n",
            "4/4 [==============================] - 0s 11ms/step - loss: 0.6594 - accuracy: 0.6000 - val_loss: 0.6523 - val_accuracy: 0.6296\n",
            "Epoch 58/150\n",
            "4/4 [==============================] - 0s 13ms/step - loss: 0.6588 - accuracy: 0.6160 - val_loss: 0.6527 - val_accuracy: 0.6296\n",
            "Epoch 59/150\n",
            "4/4 [==============================] - 0s 11ms/step - loss: 0.6586 - accuracy: 0.6000 - val_loss: 0.6529 - val_accuracy: 0.6296\n",
            "Epoch 60/150\n",
            "4/4 [==============================] - 0s 11ms/step - loss: 0.6586 - accuracy: 0.6080 - val_loss: 0.6528 - val_accuracy: 0.6296\n",
            "Epoch 61/150\n",
            "4/4 [==============================] - 0s 13ms/step - loss: 0.6584 - accuracy: 0.6000 - val_loss: 0.6533 - val_accuracy: 0.5926\n",
            "Epoch 62/150\n",
            "4/4 [==============================] - 0s 11ms/step - loss: 0.6582 - accuracy: 0.6240 - val_loss: 0.6536 - val_accuracy: 0.5926\n",
            "Epoch 63/150\n",
            "4/4 [==============================] - 0s 11ms/step - loss: 0.6580 - accuracy: 0.6240 - val_loss: 0.6536 - val_accuracy: 0.5926\n",
            "Epoch 64/150\n",
            "4/4 [==============================] - 0s 12ms/step - loss: 0.6577 - accuracy: 0.6320 - val_loss: 0.6530 - val_accuracy: 0.6296\n",
            "Epoch 65/150\n",
            "4/4 [==============================] - 0s 11ms/step - loss: 0.6571 - accuracy: 0.6160 - val_loss: 0.6526 - val_accuracy: 0.6296\n",
            "Epoch 66/150\n",
            "4/4 [==============================] - 0s 13ms/step - loss: 0.6571 - accuracy: 0.6160 - val_loss: 0.6526 - val_accuracy: 0.6296\n",
            "Epoch 67/150\n",
            "4/4 [==============================] - 0s 12ms/step - loss: 0.6566 - accuracy: 0.6240 - val_loss: 0.6529 - val_accuracy: 0.5926\n",
            "Epoch 68/150\n",
            "4/4 [==============================] - 0s 13ms/step - loss: 0.6563 - accuracy: 0.6320 - val_loss: 0.6530 - val_accuracy: 0.5926\n",
            "Epoch 69/150\n",
            "4/4 [==============================] - 0s 11ms/step - loss: 0.6560 - accuracy: 0.6240 - val_loss: 0.6531 - val_accuracy: 0.5926\n",
            "Epoch 70/150\n",
            "4/4 [==============================] - 0s 11ms/step - loss: 0.6560 - accuracy: 0.6240 - val_loss: 0.6531 - val_accuracy: 0.5926\n",
            "Epoch 71/150\n",
            "4/4 [==============================] - 0s 11ms/step - loss: 0.6560 - accuracy: 0.6320 - val_loss: 0.6535 - val_accuracy: 0.5926\n",
            "Epoch 72/150\n",
            "4/4 [==============================] - 0s 12ms/step - loss: 0.6553 - accuracy: 0.6400 - val_loss: 0.6532 - val_accuracy: 0.5926\n",
            "Epoch 73/150\n",
            "4/4 [==============================] - 0s 12ms/step - loss: 0.6548 - accuracy: 0.6320 - val_loss: 0.6530 - val_accuracy: 0.5926\n",
            "Epoch 74/150\n",
            "4/4 [==============================] - 0s 13ms/step - loss: 0.6550 - accuracy: 0.6480 - val_loss: 0.6529 - val_accuracy: 0.5926\n",
            "Epoch 75/150\n",
            "4/4 [==============================] - 0s 13ms/step - loss: 0.6545 - accuracy: 0.6400 - val_loss: 0.6534 - val_accuracy: 0.5926\n",
            "Epoch 76/150\n",
            "4/4 [==============================] - 0s 12ms/step - loss: 0.6544 - accuracy: 0.6240 - val_loss: 0.6537 - val_accuracy: 0.5926\n",
            "Epoch 77/150\n",
            "4/4 [==============================] - 0s 11ms/step - loss: 0.6542 - accuracy: 0.6480 - val_loss: 0.6540 - val_accuracy: 0.5926\n",
            "Epoch 78/150\n",
            "4/4 [==============================] - 0s 11ms/step - loss: 0.6537 - accuracy: 0.6400 - val_loss: 0.6536 - val_accuracy: 0.5926\n",
            "Epoch 79/150\n",
            "4/4 [==============================] - 0s 11ms/step - loss: 0.6534 - accuracy: 0.6320 - val_loss: 0.6534 - val_accuracy: 0.5926\n",
            "Epoch 80/150\n",
            "4/4 [==============================] - 0s 11ms/step - loss: 0.6532 - accuracy: 0.6320 - val_loss: 0.6532 - val_accuracy: 0.5926\n",
            "Epoch 81/150\n",
            "4/4 [==============================] - 0s 11ms/step - loss: 0.6531 - accuracy: 0.6320 - val_loss: 0.6532 - val_accuracy: 0.5926\n",
            "Epoch 82/150\n",
            "4/4 [==============================] - 0s 11ms/step - loss: 0.6526 - accuracy: 0.6320 - val_loss: 0.6534 - val_accuracy: 0.5926\n",
            "Epoch 83/150\n",
            "4/4 [==============================] - 0s 11ms/step - loss: 0.6524 - accuracy: 0.6400 - val_loss: 0.6535 - val_accuracy: 0.5926\n",
            "Epoch 84/150\n",
            "4/4 [==============================] - 0s 11ms/step - loss: 0.6522 - accuracy: 0.6400 - val_loss: 0.6537 - val_accuracy: 0.5926\n",
            "Epoch 85/150\n",
            "4/4 [==============================] - 0s 12ms/step - loss: 0.6523 - accuracy: 0.6400 - val_loss: 0.6536 - val_accuracy: 0.5926\n",
            "Epoch 86/150\n",
            "4/4 [==============================] - 0s 13ms/step - loss: 0.6516 - accuracy: 0.6400 - val_loss: 0.6538 - val_accuracy: 0.5926\n",
            "Epoch 87/150\n",
            "4/4 [==============================] - 0s 12ms/step - loss: 0.6515 - accuracy: 0.6480 - val_loss: 0.6543 - val_accuracy: 0.5926\n",
            "Epoch 88/150\n",
            "4/4 [==============================] - 0s 11ms/step - loss: 0.6514 - accuracy: 0.6240 - val_loss: 0.6546 - val_accuracy: 0.5926\n",
            "Epoch 89/150\n",
            "4/4 [==============================] - 0s 11ms/step - loss: 0.6510 - accuracy: 0.6400 - val_loss: 0.6541 - val_accuracy: 0.5926\n",
            "Epoch 90/150\n",
            "4/4 [==============================] - 0s 11ms/step - loss: 0.6511 - accuracy: 0.6400 - val_loss: 0.6542 - val_accuracy: 0.5926\n",
            "Epoch 91/150\n",
            "4/4 [==============================] - 0s 11ms/step - loss: 0.6504 - accuracy: 0.6240 - val_loss: 0.6540 - val_accuracy: 0.5926\n",
            "Epoch 92/150\n",
            "4/4 [==============================] - 0s 11ms/step - loss: 0.6506 - accuracy: 0.6320 - val_loss: 0.6538 - val_accuracy: 0.5926\n",
            "Epoch 93/150\n",
            "4/4 [==============================] - 0s 12ms/step - loss: 0.6503 - accuracy: 0.6400 - val_loss: 0.6535 - val_accuracy: 0.5926\n",
            "Epoch 94/150\n",
            "4/4 [==============================] - 0s 13ms/step - loss: 0.6504 - accuracy: 0.6320 - val_loss: 0.6546 - val_accuracy: 0.5926\n",
            "Epoch 95/150\n",
            "4/4 [==============================] - 0s 13ms/step - loss: 0.6499 - accuracy: 0.6320 - val_loss: 0.6550 - val_accuracy: 0.5556\n",
            "Epoch 96/150\n",
            "4/4 [==============================] - 0s 11ms/step - loss: 0.6504 - accuracy: 0.6240 - val_loss: 0.6540 - val_accuracy: 0.5926\n",
            "Epoch 97/150\n",
            "4/4 [==============================] - 0s 10ms/step - loss: 0.6494 - accuracy: 0.6320 - val_loss: 0.6536 - val_accuracy: 0.5926\n",
            "Epoch 98/150\n",
            "4/4 [==============================] - 0s 11ms/step - loss: 0.6490 - accuracy: 0.6400 - val_loss: 0.6540 - val_accuracy: 0.5926\n",
            "Epoch 99/150\n",
            "4/4 [==============================] - 0s 12ms/step - loss: 0.6490 - accuracy: 0.6400 - val_loss: 0.6547 - val_accuracy: 0.5556\n",
            "Epoch 100/150\n",
            "4/4 [==============================] - 0s 12ms/step - loss: 0.6486 - accuracy: 0.6400 - val_loss: 0.6547 - val_accuracy: 0.5556\n",
            "Epoch 101/150\n",
            "4/4 [==============================] - 0s 11ms/step - loss: 0.6484 - accuracy: 0.6400 - val_loss: 0.6545 - val_accuracy: 0.5556\n",
            "Epoch 102/150\n",
            "4/4 [==============================] - 0s 11ms/step - loss: 0.6485 - accuracy: 0.6320 - val_loss: 0.6542 - val_accuracy: 0.5556\n",
            "Epoch 103/150\n",
            "4/4 [==============================] - 0s 11ms/step - loss: 0.6478 - accuracy: 0.6400 - val_loss: 0.6545 - val_accuracy: 0.5556\n",
            "Epoch 104/150\n",
            "4/4 [==============================] - 0s 12ms/step - loss: 0.6481 - accuracy: 0.6480 - val_loss: 0.6554 - val_accuracy: 0.5556\n",
            "Epoch 105/150\n",
            "4/4 [==============================] - 0s 11ms/step - loss: 0.6474 - accuracy: 0.6480 - val_loss: 0.6555 - val_accuracy: 0.5556\n",
            "Epoch 106/150\n",
            "4/4 [==============================] - 0s 12ms/step - loss: 0.6472 - accuracy: 0.6480 - val_loss: 0.6551 - val_accuracy: 0.5556\n",
            "Epoch 107/150\n",
            "4/4 [==============================] - 0s 13ms/step - loss: 0.6470 - accuracy: 0.6480 - val_loss: 0.6552 - val_accuracy: 0.5556\n",
            "Epoch 108/150\n",
            "4/4 [==============================] - 0s 11ms/step - loss: 0.6467 - accuracy: 0.6480 - val_loss: 0.6555 - val_accuracy: 0.5556\n",
            "Epoch 109/150\n",
            "4/4 [==============================] - 0s 11ms/step - loss: 0.6464 - accuracy: 0.6480 - val_loss: 0.6557 - val_accuracy: 0.5556\n",
            "Epoch 110/150\n",
            "4/4 [==============================] - 0s 11ms/step - loss: 0.6463 - accuracy: 0.6560 - val_loss: 0.6560 - val_accuracy: 0.5556\n",
            "Epoch 111/150\n",
            "4/4 [==============================] - 0s 12ms/step - loss: 0.6458 - accuracy: 0.6480 - val_loss: 0.6561 - val_accuracy: 0.5556\n",
            "Epoch 112/150\n",
            "4/4 [==============================] - 0s 12ms/step - loss: 0.6456 - accuracy: 0.6480 - val_loss: 0.6565 - val_accuracy: 0.5556\n",
            "Epoch 113/150\n",
            "4/4 [==============================] - 0s 11ms/step - loss: 0.6453 - accuracy: 0.6400 - val_loss: 0.6567 - val_accuracy: 0.5556\n",
            "Epoch 114/150\n",
            "4/4 [==============================] - 0s 13ms/step - loss: 0.6450 - accuracy: 0.6480 - val_loss: 0.6563 - val_accuracy: 0.5556\n",
            "Epoch 115/150\n",
            "4/4 [==============================] - 0s 11ms/step - loss: 0.6447 - accuracy: 0.6480 - val_loss: 0.6563 - val_accuracy: 0.5556\n",
            "Epoch 116/150\n",
            "4/4 [==============================] - 0s 12ms/step - loss: 0.6443 - accuracy: 0.6480 - val_loss: 0.6563 - val_accuracy: 0.5556\n",
            "Epoch 117/150\n",
            "4/4 [==============================] - 0s 12ms/step - loss: 0.6440 - accuracy: 0.6480 - val_loss: 0.6563 - val_accuracy: 0.5556\n",
            "Epoch 118/150\n",
            "4/4 [==============================] - 0s 13ms/step - loss: 0.6435 - accuracy: 0.6480 - val_loss: 0.6562 - val_accuracy: 0.5556\n",
            "Epoch 119/150\n",
            "4/4 [==============================] - 0s 13ms/step - loss: 0.6434 - accuracy: 0.6560 - val_loss: 0.6561 - val_accuracy: 0.5556\n",
            "Epoch 120/150\n",
            "4/4 [==============================] - 0s 13ms/step - loss: 0.6431 - accuracy: 0.6560 - val_loss: 0.6556 - val_accuracy: 0.5556\n",
            "Epoch 121/150\n",
            "4/4 [==============================] - 0s 11ms/step - loss: 0.6430 - accuracy: 0.6560 - val_loss: 0.6558 - val_accuracy: 0.5556\n",
            "Epoch 122/150\n",
            "4/4 [==============================] - 0s 11ms/step - loss: 0.6428 - accuracy: 0.6320 - val_loss: 0.6559 - val_accuracy: 0.5556\n",
            "Epoch 123/150\n",
            "4/4 [==============================] - 0s 11ms/step - loss: 0.6425 - accuracy: 0.6240 - val_loss: 0.6562 - val_accuracy: 0.5556\n",
            "Epoch 124/150\n",
            "4/4 [==============================] - 0s 13ms/step - loss: 0.6423 - accuracy: 0.6560 - val_loss: 0.6567 - val_accuracy: 0.5556\n",
            "Epoch 125/150\n",
            "4/4 [==============================] - 0s 11ms/step - loss: 0.6416 - accuracy: 0.6560 - val_loss: 0.6566 - val_accuracy: 0.5556\n",
            "Epoch 126/150\n",
            "4/4 [==============================] - 0s 12ms/step - loss: 0.6414 - accuracy: 0.6480 - val_loss: 0.6572 - val_accuracy: 0.5556\n",
            "Epoch 127/150\n",
            "4/4 [==============================] - 0s 10ms/step - loss: 0.6412 - accuracy: 0.6560 - val_loss: 0.6570 - val_accuracy: 0.5556\n",
            "Epoch 128/150\n",
            "4/4 [==============================] - 0s 10ms/step - loss: 0.6409 - accuracy: 0.6480 - val_loss: 0.6570 - val_accuracy: 0.5556\n",
            "Epoch 129/150\n",
            "4/4 [==============================] - 0s 11ms/step - loss: 0.6418 - accuracy: 0.6560 - val_loss: 0.6581 - val_accuracy: 0.5556\n",
            "Epoch 130/150\n",
            "4/4 [==============================] - 0s 13ms/step - loss: 0.6406 - accuracy: 0.6320 - val_loss: 0.6575 - val_accuracy: 0.5556\n",
            "Epoch 131/150\n",
            "4/4 [==============================] - 0s 12ms/step - loss: 0.6404 - accuracy: 0.6320 - val_loss: 0.6570 - val_accuracy: 0.5556\n",
            "Epoch 132/150\n",
            "4/4 [==============================] - 0s 11ms/step - loss: 0.6397 - accuracy: 0.6320 - val_loss: 0.6558 - val_accuracy: 0.5556\n",
            "Epoch 133/150\n",
            "4/4 [==============================] - 0s 11ms/step - loss: 0.6394 - accuracy: 0.6400 - val_loss: 0.6561 - val_accuracy: 0.5556\n",
            "Epoch 134/150\n",
            "4/4 [==============================] - 0s 11ms/step - loss: 0.6397 - accuracy: 0.6480 - val_loss: 0.6555 - val_accuracy: 0.5556\n",
            "Epoch 135/150\n",
            "4/4 [==============================] - 0s 11ms/step - loss: 0.6392 - accuracy: 0.6480 - val_loss: 0.6562 - val_accuracy: 0.5556\n",
            "Epoch 136/150\n",
            "4/4 [==============================] - 0s 12ms/step - loss: 0.6387 - accuracy: 0.6400 - val_loss: 0.6565 - val_accuracy: 0.5556\n",
            "Epoch 137/150\n",
            "4/4 [==============================] - 0s 11ms/step - loss: 0.6383 - accuracy: 0.6400 - val_loss: 0.6568 - val_accuracy: 0.5556\n",
            "Epoch 138/150\n",
            "4/4 [==============================] - 0s 14ms/step - loss: 0.6382 - accuracy: 0.6320 - val_loss: 0.6559 - val_accuracy: 0.5556\n",
            "Epoch 139/150\n",
            "4/4 [==============================] - 0s 11ms/step - loss: 0.6379 - accuracy: 0.6400 - val_loss: 0.6555 - val_accuracy: 0.5556\n",
            "Epoch 140/150\n",
            "4/4 [==============================] - 0s 11ms/step - loss: 0.6379 - accuracy: 0.6400 - val_loss: 0.6561 - val_accuracy: 0.5556\n",
            "Epoch 141/150\n",
            "4/4 [==============================] - 0s 10ms/step - loss: 0.6374 - accuracy: 0.6480 - val_loss: 0.6558 - val_accuracy: 0.5556\n",
            "Epoch 142/150\n",
            "4/4 [==============================] - 0s 13ms/step - loss: 0.6371 - accuracy: 0.6400 - val_loss: 0.6555 - val_accuracy: 0.5556\n",
            "Epoch 143/150\n",
            "4/4 [==============================] - 0s 11ms/step - loss: 0.6369 - accuracy: 0.6400 - val_loss: 0.6546 - val_accuracy: 0.5556\n",
            "Epoch 144/150\n",
            "4/4 [==============================] - 0s 11ms/step - loss: 0.6363 - accuracy: 0.6400 - val_loss: 0.6554 - val_accuracy: 0.5556\n",
            "Epoch 145/150\n",
            "4/4 [==============================] - 0s 10ms/step - loss: 0.6365 - accuracy: 0.6400 - val_loss: 0.6552 - val_accuracy: 0.5556\n",
            "Epoch 146/150\n",
            "4/4 [==============================] - 0s 11ms/step - loss: 0.6356 - accuracy: 0.6640 - val_loss: 0.6551 - val_accuracy: 0.5556\n",
            "Epoch 147/150\n",
            "4/4 [==============================] - 0s 12ms/step - loss: 0.6356 - accuracy: 0.6560 - val_loss: 0.6553 - val_accuracy: 0.5556\n",
            "Epoch 148/150\n",
            "4/4 [==============================] - 0s 12ms/step - loss: 0.6356 - accuracy: 0.6560 - val_loss: 0.6556 - val_accuracy: 0.5556\n",
            "Epoch 149/150\n",
            "4/4 [==============================] - 0s 11ms/step - loss: 0.6349 - accuracy: 0.6560 - val_loss: 0.6557 - val_accuracy: 0.5556\n",
            "Epoch 150/150\n",
            "4/4 [==============================] - 0s 11ms/step - loss: 0.6357 - accuracy: 0.6560 - val_loss: 0.6545 - val_accuracy: 0.5556\n"
          ]
        }
      ]
    },
    {
      "cell_type": "code",
      "source": [
        "model9.evaluate(X_test, y_test)"
      ],
      "metadata": {
        "colab": {
          "base_uri": "https://localhost:8080/"
        },
        "id": "hd_oLO0b7xF-",
        "outputId": "e811d942-7066-46cb-d347-4fc7d6997cab"
      },
      "execution_count": 893,
      "outputs": [
        {
          "output_type": "stream",
          "name": "stdout",
          "text": [
            "1/1 [==============================] - 0s 23ms/step - loss: 4.0638 - accuracy: 0.6522\n"
          ]
        },
        {
          "output_type": "execute_result",
          "data": {
            "text/plain": [
              "[4.0637993812561035, 0.6521739363670349]"
            ]
          },
          "metadata": {},
          "execution_count": 893
        }
      ]
    },
    {
      "cell_type": "code",
      "source": [
        "model9 = tf.keras.models.load_model(f\"/content/model_experiments/{model9.name}\")\n",
        "model9.evaluate(X_test, y_test)"
      ],
      "metadata": {
        "id": "PNeldcfCq6b9",
        "outputId": "3f8c7909-e6c4-4c50-c4e6-e631319936ca",
        "colab": {
          "base_uri": "https://localhost:8080/"
        }
      },
      "execution_count": 894,
      "outputs": [
        {
          "output_type": "stream",
          "name": "stdout",
          "text": [
            "1/1 [==============================] - 0s 123ms/step - loss: 0.7371 - accuracy: 0.6087\n"
          ]
        },
        {
          "output_type": "execute_result",
          "data": {
            "text/plain": [
              "[0.7370572090148926, 0.6086956262588501]"
            ]
          },
          "metadata": {},
          "execution_count": 894
        }
      ]
    },
    {
      "cell_type": "code",
      "source": [
        ""
      ],
      "metadata": {
        "id": "MLbBeyiit_4Z"
      },
      "execution_count": 894,
      "outputs": []
    },
    {
      "cell_type": "code",
      "source": [
        ""
      ],
      "metadata": {
        "id": "pZYMdY3Ht__h"
      },
      "execution_count": 894,
      "outputs": []
    },
    {
      "cell_type": "code",
      "source": [
        ""
      ],
      "metadata": {
        "id": "3jGW7vHzcyKG"
      },
      "execution_count": 894,
      "outputs": []
    },
    {
      "cell_type": "code",
      "source": [
        "tf.random.set_seed(42)\n",
        "\n",
        "model10 = tf.keras.Sequential([\n",
        "    tf.keras.layers.Dense(5, activation='relu'),\n",
        "    tf.keras.layers.Dense(4, activation='relu'),\n",
        "    tf.keras.layers.Dense(4, activation='relu'),\n",
        "\n",
        "    # tf.keras.layers.Dense(20, activation='relu'),\n",
        "    # tf.keras.layers.Dense(10, activation='relu'),\n",
        "\n",
        "    # tf.keras.layers.Dense(256, activation='relu'),\n",
        "    tf.keras.layers.Dense(1, activation='sigmoid')\n",
        "])\n",
        "\n",
        "model10.compile(\n",
        "    loss=tf.keras.losses.binary_crossentropy,\n",
        "    optimizer=tf.keras.optimizers.Adam(0.001),\n",
        "    metrics=[\"accuracy\"]\n",
        ")\n",
        "\n",
        "\n",
        "history10 = model10.fit(X_train_scaled, \n",
        "                    y_train, \n",
        "                    epochs=150,\n",
        "                    validation_data = (X_valid_scaled, y_valid),\n",
        "                    callbacks=[create_model_checkpoint(model_name=model10.name)])"
      ],
      "metadata": {
        "id": "en9K52fle0pU",
        "outputId": "3954f8da-967c-4a36-e59e-2e67ba3f4950",
        "colab": {
          "base_uri": "https://localhost:8080/"
        }
      },
      "execution_count": 895,
      "outputs": [
        {
          "output_type": "stream",
          "name": "stdout",
          "text": [
            "Epoch 1/150\n",
            "1/4 [======>.......................] - ETA: 1s - loss: 0.6919 - accuracy: 0.6250INFO:tensorflow:Assets written to: model_experiments/sequential_84/assets\n",
            "4/4 [==============================] - 1s 294ms/step - loss: 0.6921 - accuracy: 0.5760 - val_loss: 0.6914 - val_accuracy: 0.6296\n",
            "Epoch 2/150\n",
            "4/4 [==============================] - 0s 12ms/step - loss: 0.6916 - accuracy: 0.5840 - val_loss: 0.6910 - val_accuracy: 0.6296\n",
            "Epoch 3/150\n",
            "4/4 [==============================] - 0s 9ms/step - loss: 0.6911 - accuracy: 0.5760 - val_loss: 0.6906 - val_accuracy: 0.6296\n",
            "Epoch 4/150\n",
            "4/4 [==============================] - 0s 10ms/step - loss: 0.6907 - accuracy: 0.5760 - val_loss: 0.6903 - val_accuracy: 0.6296\n",
            "Epoch 5/150\n",
            "4/4 [==============================] - 0s 10ms/step - loss: 0.6903 - accuracy: 0.5760 - val_loss: 0.6898 - val_accuracy: 0.6296\n",
            "Epoch 6/150\n",
            "4/4 [==============================] - 0s 12ms/step - loss: 0.6899 - accuracy: 0.5760 - val_loss: 0.6893 - val_accuracy: 0.6296\n",
            "Epoch 7/150\n",
            "4/4 [==============================] - 0s 11ms/step - loss: 0.6893 - accuracy: 0.5760 - val_loss: 0.6891 - val_accuracy: 0.6296\n",
            "Epoch 8/150\n",
            "4/4 [==============================] - 0s 12ms/step - loss: 0.6890 - accuracy: 0.5760 - val_loss: 0.6887 - val_accuracy: 0.6296\n",
            "Epoch 9/150\n",
            "4/4 [==============================] - 0s 10ms/step - loss: 0.6885 - accuracy: 0.5760 - val_loss: 0.6884 - val_accuracy: 0.6296\n",
            "Epoch 10/150\n",
            "4/4 [==============================] - 0s 11ms/step - loss: 0.6882 - accuracy: 0.5760 - val_loss: 0.6880 - val_accuracy: 0.6296\n",
            "Epoch 11/150\n",
            "4/4 [==============================] - 0s 11ms/step - loss: 0.6880 - accuracy: 0.5760 - val_loss: 0.6875 - val_accuracy: 0.6296\n",
            "Epoch 12/150\n",
            "4/4 [==============================] - 0s 11ms/step - loss: 0.6876 - accuracy: 0.5760 - val_loss: 0.6870 - val_accuracy: 0.6296\n",
            "Epoch 13/150\n",
            "4/4 [==============================] - 0s 13ms/step - loss: 0.6874 - accuracy: 0.5760 - val_loss: 0.6866 - val_accuracy: 0.6296\n",
            "Epoch 14/150\n",
            "4/4 [==============================] - 0s 11ms/step - loss: 0.6871 - accuracy: 0.5760 - val_loss: 0.6861 - val_accuracy: 0.6296\n",
            "Epoch 15/150\n",
            "4/4 [==============================] - 0s 12ms/step - loss: 0.6867 - accuracy: 0.5760 - val_loss: 0.6856 - val_accuracy: 0.6296\n",
            "Epoch 16/150\n",
            "4/4 [==============================] - 0s 12ms/step - loss: 0.6863 - accuracy: 0.5760 - val_loss: 0.6851 - val_accuracy: 0.6296\n",
            "Epoch 17/150\n",
            "4/4 [==============================] - 0s 13ms/step - loss: 0.6858 - accuracy: 0.5760 - val_loss: 0.6842 - val_accuracy: 0.6296\n",
            "Epoch 18/150\n",
            "4/4 [==============================] - 0s 14ms/step - loss: 0.6852 - accuracy: 0.5760 - val_loss: 0.6833 - val_accuracy: 0.6296\n",
            "Epoch 19/150\n",
            "4/4 [==============================] - 0s 12ms/step - loss: 0.6842 - accuracy: 0.5760 - val_loss: 0.6822 - val_accuracy: 0.6296\n",
            "Epoch 20/150\n",
            "4/4 [==============================] - 0s 11ms/step - loss: 0.6835 - accuracy: 0.5760 - val_loss: 0.6808 - val_accuracy: 0.6296\n",
            "Epoch 21/150\n",
            "4/4 [==============================] - 0s 11ms/step - loss: 0.6828 - accuracy: 0.5760 - val_loss: 0.6799 - val_accuracy: 0.6296\n",
            "Epoch 22/150\n",
            "4/4 [==============================] - 0s 11ms/step - loss: 0.6828 - accuracy: 0.5760 - val_loss: 0.6790 - val_accuracy: 0.6296\n",
            "Epoch 23/150\n",
            "4/4 [==============================] - 0s 13ms/step - loss: 0.6816 - accuracy: 0.5760 - val_loss: 0.6782 - val_accuracy: 0.6296\n",
            "Epoch 24/150\n",
            "4/4 [==============================] - 0s 12ms/step - loss: 0.6813 - accuracy: 0.5760 - val_loss: 0.6773 - val_accuracy: 0.6296\n",
            "Epoch 25/150\n",
            "4/4 [==============================] - 0s 12ms/step - loss: 0.6807 - accuracy: 0.5760 - val_loss: 0.6766 - val_accuracy: 0.6296\n",
            "Epoch 26/150\n",
            "4/4 [==============================] - 0s 11ms/step - loss: 0.6806 - accuracy: 0.5760 - val_loss: 0.6758 - val_accuracy: 0.6296\n",
            "Epoch 27/150\n",
            "4/4 [==============================] - 0s 11ms/step - loss: 0.6801 - accuracy: 0.5760 - val_loss: 0.6751 - val_accuracy: 0.6296\n",
            "Epoch 28/150\n",
            "4/4 [==============================] - 0s 11ms/step - loss: 0.6798 - accuracy: 0.5760 - val_loss: 0.6744 - val_accuracy: 0.6296\n",
            "Epoch 29/150\n",
            "4/4 [==============================] - 0s 12ms/step - loss: 0.6793 - accuracy: 0.5760 - val_loss: 0.6739 - val_accuracy: 0.6296\n",
            "Epoch 30/150\n",
            "4/4 [==============================] - 0s 11ms/step - loss: 0.6790 - accuracy: 0.5760 - val_loss: 0.6732 - val_accuracy: 0.6296\n",
            "Epoch 31/150\n",
            "4/4 [==============================] - 0s 11ms/step - loss: 0.6786 - accuracy: 0.5760 - val_loss: 0.6728 - val_accuracy: 0.6296\n",
            "Epoch 32/150\n",
            "4/4 [==============================] - 0s 11ms/step - loss: 0.6786 - accuracy: 0.5760 - val_loss: 0.6720 - val_accuracy: 0.6296\n",
            "Epoch 33/150\n",
            "4/4 [==============================] - 0s 12ms/step - loss: 0.6782 - accuracy: 0.5760 - val_loss: 0.6713 - val_accuracy: 0.6296\n",
            "Epoch 34/150\n",
            "4/4 [==============================] - 0s 11ms/step - loss: 0.6778 - accuracy: 0.5760 - val_loss: 0.6708 - val_accuracy: 0.6296\n",
            "Epoch 35/150\n",
            "4/4 [==============================] - 0s 12ms/step - loss: 0.6775 - accuracy: 0.5760 - val_loss: 0.6704 - val_accuracy: 0.6296\n",
            "Epoch 36/150\n",
            "4/4 [==============================] - 0s 10ms/step - loss: 0.6774 - accuracy: 0.5760 - val_loss: 0.6699 - val_accuracy: 0.6296\n",
            "Epoch 37/150\n",
            "4/4 [==============================] - 0s 13ms/step - loss: 0.6773 - accuracy: 0.5760 - val_loss: 0.6694 - val_accuracy: 0.6296\n",
            "Epoch 38/150\n",
            "4/4 [==============================] - 0s 11ms/step - loss: 0.6772 - accuracy: 0.5760 - val_loss: 0.6689 - val_accuracy: 0.6296\n",
            "Epoch 39/150\n",
            "4/4 [==============================] - 0s 12ms/step - loss: 0.6768 - accuracy: 0.5760 - val_loss: 0.6686 - val_accuracy: 0.6296\n",
            "Epoch 40/150\n",
            "4/4 [==============================] - 0s 13ms/step - loss: 0.6767 - accuracy: 0.5760 - val_loss: 0.6684 - val_accuracy: 0.6296\n",
            "Epoch 41/150\n",
            "4/4 [==============================] - 0s 11ms/step - loss: 0.6765 - accuracy: 0.5760 - val_loss: 0.6682 - val_accuracy: 0.6296\n",
            "Epoch 42/150\n",
            "4/4 [==============================] - 0s 15ms/step - loss: 0.6764 - accuracy: 0.5760 - val_loss: 0.6679 - val_accuracy: 0.6296\n",
            "Epoch 43/150\n",
            "4/4 [==============================] - 0s 13ms/step - loss: 0.6762 - accuracy: 0.5760 - val_loss: 0.6677 - val_accuracy: 0.6296\n",
            "Epoch 44/150\n",
            "4/4 [==============================] - 0s 12ms/step - loss: 0.6762 - accuracy: 0.5760 - val_loss: 0.6675 - val_accuracy: 0.6296\n",
            "Epoch 45/150\n",
            "4/4 [==============================] - 0s 11ms/step - loss: 0.6761 - accuracy: 0.5760 - val_loss: 0.6673 - val_accuracy: 0.6296\n",
            "Epoch 46/150\n",
            "4/4 [==============================] - 0s 10ms/step - loss: 0.6759 - accuracy: 0.5760 - val_loss: 0.6671 - val_accuracy: 0.6296\n",
            "Epoch 47/150\n",
            "4/4 [==============================] - 0s 11ms/step - loss: 0.6758 - accuracy: 0.5760 - val_loss: 0.6668 - val_accuracy: 0.6296\n",
            "Epoch 48/150\n",
            "4/4 [==============================] - 0s 10ms/step - loss: 0.6757 - accuracy: 0.5760 - val_loss: 0.6667 - val_accuracy: 0.6296\n",
            "Epoch 49/150\n",
            "4/4 [==============================] - 0s 13ms/step - loss: 0.6755 - accuracy: 0.5760 - val_loss: 0.6665 - val_accuracy: 0.6296\n",
            "Epoch 50/150\n",
            "4/4 [==============================] - 0s 13ms/step - loss: 0.6754 - accuracy: 0.5760 - val_loss: 0.6664 - val_accuracy: 0.6296\n",
            "Epoch 51/150\n",
            "4/4 [==============================] - 0s 13ms/step - loss: 0.6752 - accuracy: 0.5760 - val_loss: 0.6663 - val_accuracy: 0.6296\n",
            "Epoch 52/150\n",
            "4/4 [==============================] - 0s 11ms/step - loss: 0.6751 - accuracy: 0.5760 - val_loss: 0.6660 - val_accuracy: 0.6296\n",
            "Epoch 53/150\n",
            "4/4 [==============================] - 0s 11ms/step - loss: 0.6750 - accuracy: 0.5760 - val_loss: 0.6658 - val_accuracy: 0.6296\n",
            "Epoch 54/150\n",
            "4/4 [==============================] - 0s 11ms/step - loss: 0.6749 - accuracy: 0.5760 - val_loss: 0.6656 - val_accuracy: 0.6296\n",
            "Epoch 55/150\n",
            "4/4 [==============================] - 0s 11ms/step - loss: 0.6748 - accuracy: 0.5760 - val_loss: 0.6654 - val_accuracy: 0.6296\n",
            "Epoch 56/150\n",
            "4/4 [==============================] - 0s 13ms/step - loss: 0.6746 - accuracy: 0.5760 - val_loss: 0.6652 - val_accuracy: 0.6296\n",
            "Epoch 57/150\n",
            "4/4 [==============================] - 0s 11ms/step - loss: 0.6746 - accuracy: 0.5760 - val_loss: 0.6650 - val_accuracy: 0.6296\n",
            "Epoch 58/150\n",
            "4/4 [==============================] - 0s 11ms/step - loss: 0.6744 - accuracy: 0.5760 - val_loss: 0.6649 - val_accuracy: 0.6296\n",
            "Epoch 59/150\n",
            "4/4 [==============================] - 0s 11ms/step - loss: 0.6743 - accuracy: 0.5760 - val_loss: 0.6647 - val_accuracy: 0.6296\n",
            "Epoch 60/150\n",
            "4/4 [==============================] - 0s 13ms/step - loss: 0.6742 - accuracy: 0.5760 - val_loss: 0.6645 - val_accuracy: 0.6296\n",
            "Epoch 61/150\n",
            "4/4 [==============================] - 0s 12ms/step - loss: 0.6741 - accuracy: 0.5760 - val_loss: 0.6645 - val_accuracy: 0.6296\n",
            "Epoch 62/150\n",
            "4/4 [==============================] - 0s 14ms/step - loss: 0.6740 - accuracy: 0.5760 - val_loss: 0.6644 - val_accuracy: 0.6296\n",
            "Epoch 63/150\n",
            "4/4 [==============================] - 0s 13ms/step - loss: 0.6739 - accuracy: 0.5760 - val_loss: 0.6644 - val_accuracy: 0.6296\n",
            "Epoch 64/150\n",
            "4/4 [==============================] - 0s 12ms/step - loss: 0.6738 - accuracy: 0.5760 - val_loss: 0.6640 - val_accuracy: 0.6296\n",
            "Epoch 65/150\n",
            "4/4 [==============================] - 0s 11ms/step - loss: 0.6736 - accuracy: 0.5760 - val_loss: 0.6638 - val_accuracy: 0.6296\n",
            "Epoch 66/150\n",
            "4/4 [==============================] - 0s 11ms/step - loss: 0.6735 - accuracy: 0.5760 - val_loss: 0.6636 - val_accuracy: 0.6296\n",
            "Epoch 67/150\n",
            "4/4 [==============================] - 0s 11ms/step - loss: 0.6733 - accuracy: 0.5760 - val_loss: 0.6635 - val_accuracy: 0.6296\n",
            "Epoch 68/150\n",
            "4/4 [==============================] - 0s 15ms/step - loss: 0.6732 - accuracy: 0.5760 - val_loss: 0.6634 - val_accuracy: 0.6296\n",
            "Epoch 69/150\n",
            "4/4 [==============================] - 0s 11ms/step - loss: 0.6731 - accuracy: 0.5760 - val_loss: 0.6632 - val_accuracy: 0.6296\n",
            "Epoch 70/150\n",
            "4/4 [==============================] - 0s 11ms/step - loss: 0.6730 - accuracy: 0.5760 - val_loss: 0.6630 - val_accuracy: 0.6296\n",
            "Epoch 71/150\n",
            "4/4 [==============================] - 0s 15ms/step - loss: 0.6729 - accuracy: 0.5760 - val_loss: 0.6630 - val_accuracy: 0.6296\n",
            "Epoch 72/150\n",
            "4/4 [==============================] - 0s 13ms/step - loss: 0.6727 - accuracy: 0.5760 - val_loss: 0.6628 - val_accuracy: 0.6296\n",
            "Epoch 73/150\n",
            "4/4 [==============================] - 0s 12ms/step - loss: 0.6725 - accuracy: 0.5760 - val_loss: 0.6627 - val_accuracy: 0.6296\n",
            "Epoch 74/150\n",
            "4/4 [==============================] - 0s 12ms/step - loss: 0.6724 - accuracy: 0.5760 - val_loss: 0.6625 - val_accuracy: 0.6296\n",
            "Epoch 75/150\n",
            "4/4 [==============================] - 0s 12ms/step - loss: 0.6722 - accuracy: 0.5760 - val_loss: 0.6623 - val_accuracy: 0.6296\n",
            "Epoch 76/150\n",
            "4/4 [==============================] - 0s 12ms/step - loss: 0.6721 - accuracy: 0.5760 - val_loss: 0.6623 - val_accuracy: 0.6296\n",
            "Epoch 77/150\n",
            "4/4 [==============================] - 0s 13ms/step - loss: 0.6720 - accuracy: 0.5760 - val_loss: 0.6622 - val_accuracy: 0.6296\n",
            "Epoch 78/150\n",
            "4/4 [==============================] - 0s 13ms/step - loss: 0.6718 - accuracy: 0.5760 - val_loss: 0.6621 - val_accuracy: 0.6296\n",
            "Epoch 79/150\n",
            "4/4 [==============================] - 0s 12ms/step - loss: 0.6717 - accuracy: 0.5760 - val_loss: 0.6619 - val_accuracy: 0.6296\n",
            "Epoch 80/150\n",
            "4/4 [==============================] - 0s 13ms/step - loss: 0.6715 - accuracy: 0.5760 - val_loss: 0.6618 - val_accuracy: 0.6296\n",
            "Epoch 81/150\n",
            "4/4 [==============================] - 0s 11ms/step - loss: 0.6714 - accuracy: 0.5760 - val_loss: 0.6617 - val_accuracy: 0.6296\n",
            "Epoch 82/150\n",
            "4/4 [==============================] - 0s 11ms/step - loss: 0.6712 - accuracy: 0.5760 - val_loss: 0.6616 - val_accuracy: 0.6296\n",
            "Epoch 83/150\n",
            "4/4 [==============================] - 0s 11ms/step - loss: 0.6711 - accuracy: 0.5760 - val_loss: 0.6614 - val_accuracy: 0.6296\n",
            "Epoch 84/150\n",
            "4/4 [==============================] - 0s 13ms/step - loss: 0.6710 - accuracy: 0.5760 - val_loss: 0.6613 - val_accuracy: 0.6296\n",
            "Epoch 85/150\n",
            "4/4 [==============================] - 0s 14ms/step - loss: 0.6710 - accuracy: 0.5760 - val_loss: 0.6610 - val_accuracy: 0.6296\n",
            "Epoch 86/150\n",
            "4/4 [==============================] - 0s 15ms/step - loss: 0.6707 - accuracy: 0.5760 - val_loss: 0.6609 - val_accuracy: 0.6296\n",
            "Epoch 87/150\n",
            "4/4 [==============================] - 0s 12ms/step - loss: 0.6706 - accuracy: 0.5760 - val_loss: 0.6609 - val_accuracy: 0.6296\n",
            "Epoch 88/150\n",
            "4/4 [==============================] - 0s 11ms/step - loss: 0.6705 - accuracy: 0.5760 - val_loss: 0.6609 - val_accuracy: 0.6296\n",
            "Epoch 89/150\n",
            "4/4 [==============================] - 0s 11ms/step - loss: 0.6704 - accuracy: 0.5760 - val_loss: 0.6606 - val_accuracy: 0.6296\n",
            "Epoch 90/150\n",
            "4/4 [==============================] - 0s 10ms/step - loss: 0.6703 - accuracy: 0.5760 - val_loss: 0.6607 - val_accuracy: 0.6296\n",
            "Epoch 91/150\n",
            "4/4 [==============================] - 0s 10ms/step - loss: 0.6701 - accuracy: 0.5760 - val_loss: 0.6606 - val_accuracy: 0.6296\n",
            "Epoch 92/150\n",
            "4/4 [==============================] - 0s 13ms/step - loss: 0.6700 - accuracy: 0.5760 - val_loss: 0.6603 - val_accuracy: 0.6296\n",
            "Epoch 93/150\n",
            "4/4 [==============================] - 0s 11ms/step - loss: 0.6698 - accuracy: 0.5760 - val_loss: 0.6601 - val_accuracy: 0.6296\n",
            "Epoch 94/150\n",
            "4/4 [==============================] - 0s 11ms/step - loss: 0.6698 - accuracy: 0.5760 - val_loss: 0.6602 - val_accuracy: 0.6296\n",
            "Epoch 95/150\n",
            "4/4 [==============================] - 0s 11ms/step - loss: 0.6695 - accuracy: 0.5760 - val_loss: 0.6601 - val_accuracy: 0.6296\n",
            "Epoch 96/150\n",
            "4/4 [==============================] - 0s 12ms/step - loss: 0.6696 - accuracy: 0.5760 - val_loss: 0.6597 - val_accuracy: 0.6296\n",
            "Epoch 97/150\n",
            "4/4 [==============================] - 0s 13ms/step - loss: 0.6693 - accuracy: 0.5760 - val_loss: 0.6596 - val_accuracy: 0.6296\n",
            "Epoch 98/150\n",
            "4/4 [==============================] - 0s 12ms/step - loss: 0.6692 - accuracy: 0.5760 - val_loss: 0.6595 - val_accuracy: 0.6296\n",
            "Epoch 99/150\n",
            "4/4 [==============================] - 0s 13ms/step - loss: 0.6690 - accuracy: 0.5760 - val_loss: 0.6595 - val_accuracy: 0.6296\n",
            "Epoch 100/150\n",
            "4/4 [==============================] - 0s 14ms/step - loss: 0.6689 - accuracy: 0.5760 - val_loss: 0.6593 - val_accuracy: 0.6296\n",
            "Epoch 101/150\n",
            "4/4 [==============================] - 0s 11ms/step - loss: 0.6687 - accuracy: 0.5760 - val_loss: 0.6592 - val_accuracy: 0.6296\n",
            "Epoch 102/150\n",
            "4/4 [==============================] - 0s 10ms/step - loss: 0.6687 - accuracy: 0.5760 - val_loss: 0.6590 - val_accuracy: 0.6296\n",
            "Epoch 103/150\n",
            "4/4 [==============================] - 0s 11ms/step - loss: 0.6684 - accuracy: 0.5760 - val_loss: 0.6589 - val_accuracy: 0.6296\n",
            "Epoch 104/150\n",
            "4/4 [==============================] - 0s 11ms/step - loss: 0.6684 - accuracy: 0.5760 - val_loss: 0.6589 - val_accuracy: 0.6296\n",
            "Epoch 105/150\n",
            "4/4 [==============================] - 0s 12ms/step - loss: 0.6682 - accuracy: 0.5760 - val_loss: 0.6588 - val_accuracy: 0.6296\n",
            "Epoch 106/150\n",
            "4/4 [==============================] - 0s 11ms/step - loss: 0.6680 - accuracy: 0.5760 - val_loss: 0.6587 - val_accuracy: 0.6296\n",
            "Epoch 107/150\n",
            "4/4 [==============================] - 0s 11ms/step - loss: 0.6679 - accuracy: 0.5760 - val_loss: 0.6585 - val_accuracy: 0.6296\n",
            "Epoch 108/150\n",
            "4/4 [==============================] - 0s 11ms/step - loss: 0.6677 - accuracy: 0.5760 - val_loss: 0.6584 - val_accuracy: 0.6296\n",
            "Epoch 109/150\n",
            "4/4 [==============================] - 0s 11ms/step - loss: 0.6676 - accuracy: 0.5760 - val_loss: 0.6582 - val_accuracy: 0.6296\n",
            "Epoch 110/150\n",
            "4/4 [==============================] - 0s 15ms/step - loss: 0.6675 - accuracy: 0.5760 - val_loss: 0.6581 - val_accuracy: 0.6296\n",
            "Epoch 111/150\n",
            "4/4 [==============================] - 0s 10ms/step - loss: 0.6673 - accuracy: 0.5760 - val_loss: 0.6580 - val_accuracy: 0.6296\n",
            "Epoch 112/150\n",
            "4/4 [==============================] - 0s 12ms/step - loss: 0.6672 - accuracy: 0.5760 - val_loss: 0.6579 - val_accuracy: 0.6296\n",
            "Epoch 113/150\n",
            "4/4 [==============================] - 0s 16ms/step - loss: 0.6671 - accuracy: 0.5760 - val_loss: 0.6579 - val_accuracy: 0.6296\n",
            "Epoch 114/150\n",
            "4/4 [==============================] - 0s 12ms/step - loss: 0.6669 - accuracy: 0.5760 - val_loss: 0.6577 - val_accuracy: 0.6296\n",
            "Epoch 115/150\n",
            "4/4 [==============================] - 0s 11ms/step - loss: 0.6667 - accuracy: 0.5760 - val_loss: 0.6577 - val_accuracy: 0.6296\n",
            "Epoch 116/150\n",
            "4/4 [==============================] - 0s 13ms/step - loss: 0.6666 - accuracy: 0.5760 - val_loss: 0.6575 - val_accuracy: 0.6296\n",
            "Epoch 117/150\n",
            "4/4 [==============================] - 0s 13ms/step - loss: 0.6664 - accuracy: 0.5760 - val_loss: 0.6574 - val_accuracy: 0.6296\n",
            "Epoch 118/150\n",
            "4/4 [==============================] - 0s 12ms/step - loss: 0.6662 - accuracy: 0.5760 - val_loss: 0.6573 - val_accuracy: 0.6296\n",
            "Epoch 119/150\n",
            "4/4 [==============================] - 0s 12ms/step - loss: 0.6661 - accuracy: 0.5760 - val_loss: 0.6573 - val_accuracy: 0.6296\n",
            "Epoch 120/150\n",
            "4/4 [==============================] - 0s 11ms/step - loss: 0.6659 - accuracy: 0.5760 - val_loss: 0.6572 - val_accuracy: 0.6296\n",
            "Epoch 121/150\n",
            "4/4 [==============================] - 0s 11ms/step - loss: 0.6659 - accuracy: 0.5760 - val_loss: 0.6573 - val_accuracy: 0.6296\n",
            "Epoch 122/150\n",
            "4/4 [==============================] - 0s 13ms/step - loss: 0.6658 - accuracy: 0.5760 - val_loss: 0.6573 - val_accuracy: 0.6296\n",
            "Epoch 123/150\n",
            "4/4 [==============================] - 0s 16ms/step - loss: 0.6656 - accuracy: 0.5760 - val_loss: 0.6571 - val_accuracy: 0.6296\n",
            "Epoch 124/150\n",
            "4/4 [==============================] - 0s 12ms/step - loss: 0.6654 - accuracy: 0.5760 - val_loss: 0.6571 - val_accuracy: 0.6296\n",
            "Epoch 125/150\n",
            "4/4 [==============================] - 0s 11ms/step - loss: 0.6651 - accuracy: 0.5760 - val_loss: 0.6569 - val_accuracy: 0.6296\n",
            "Epoch 126/150\n",
            "4/4 [==============================] - 0s 11ms/step - loss: 0.6650 - accuracy: 0.5760 - val_loss: 0.6570 - val_accuracy: 0.6296\n",
            "Epoch 127/150\n",
            "4/4 [==============================] - 0s 10ms/step - loss: 0.6649 - accuracy: 0.5760 - val_loss: 0.6570 - val_accuracy: 0.6296\n",
            "Epoch 128/150\n",
            "4/4 [==============================] - 0s 10ms/step - loss: 0.6646 - accuracy: 0.5760 - val_loss: 0.6571 - val_accuracy: 0.6296\n",
            "Epoch 129/150\n",
            "4/4 [==============================] - 0s 12ms/step - loss: 0.6646 - accuracy: 0.5760 - val_loss: 0.6573 - val_accuracy: 0.6296\n",
            "Epoch 130/150\n",
            "4/4 [==============================] - 0s 11ms/step - loss: 0.6642 - accuracy: 0.5760 - val_loss: 0.6573 - val_accuracy: 0.6296\n",
            "Epoch 131/150\n",
            "4/4 [==============================] - 0s 11ms/step - loss: 0.6641 - accuracy: 0.5760 - val_loss: 0.6572 - val_accuracy: 0.6296\n",
            "Epoch 132/150\n",
            "4/4 [==============================] - 0s 12ms/step - loss: 0.6638 - accuracy: 0.5760 - val_loss: 0.6572 - val_accuracy: 0.6296\n",
            "Epoch 133/150\n",
            "4/4 [==============================] - 0s 11ms/step - loss: 0.6636 - accuracy: 0.5760 - val_loss: 0.6571 - val_accuracy: 0.6296\n",
            "Epoch 134/150\n",
            "4/4 [==============================] - 0s 19ms/step - loss: 0.6636 - accuracy: 0.5760 - val_loss: 0.6568 - val_accuracy: 0.6296\n",
            "Epoch 135/150\n",
            "4/4 [==============================] - 0s 16ms/step - loss: 0.6633 - accuracy: 0.5760 - val_loss: 0.6567 - val_accuracy: 0.6296\n",
            "Epoch 136/150\n",
            "4/4 [==============================] - 0s 11ms/step - loss: 0.6631 - accuracy: 0.5760 - val_loss: 0.6566 - val_accuracy: 0.6296\n",
            "Epoch 137/150\n",
            "4/4 [==============================] - 0s 12ms/step - loss: 0.6629 - accuracy: 0.5760 - val_loss: 0.6565 - val_accuracy: 0.6296\n",
            "Epoch 138/150\n",
            "4/4 [==============================] - 0s 11ms/step - loss: 0.6627 - accuracy: 0.5760 - val_loss: 0.6564 - val_accuracy: 0.6296\n",
            "Epoch 139/150\n",
            "4/4 [==============================] - 0s 10ms/step - loss: 0.6626 - accuracy: 0.5760 - val_loss: 0.6563 - val_accuracy: 0.6296\n",
            "Epoch 140/150\n",
            "4/4 [==============================] - 0s 12ms/step - loss: 0.6624 - accuracy: 0.5760 - val_loss: 0.6564 - val_accuracy: 0.6296\n",
            "Epoch 141/150\n",
            "4/4 [==============================] - 0s 12ms/step - loss: 0.6622 - accuracy: 0.5760 - val_loss: 0.6562 - val_accuracy: 0.6296\n",
            "Epoch 142/150\n",
            "4/4 [==============================] - 0s 12ms/step - loss: 0.6620 - accuracy: 0.5760 - val_loss: 0.6561 - val_accuracy: 0.6296\n",
            "Epoch 143/150\n",
            "4/4 [==============================] - 0s 11ms/step - loss: 0.6619 - accuracy: 0.5760 - val_loss: 0.6559 - val_accuracy: 0.6296\n",
            "Epoch 144/150\n",
            "4/4 [==============================] - 0s 11ms/step - loss: 0.6617 - accuracy: 0.5760 - val_loss: 0.6559 - val_accuracy: 0.6296\n",
            "Epoch 145/150\n",
            "4/4 [==============================] - 0s 12ms/step - loss: 0.6617 - accuracy: 0.5760 - val_loss: 0.6559 - val_accuracy: 0.6296\n",
            "Epoch 146/150\n",
            "4/4 [==============================] - 0s 12ms/step - loss: 0.6613 - accuracy: 0.5760 - val_loss: 0.6558 - val_accuracy: 0.6296\n",
            "Epoch 147/150\n",
            "4/4 [==============================] - 0s 19ms/step - loss: 0.6612 - accuracy: 0.5760 - val_loss: 0.6557 - val_accuracy: 0.6296\n",
            "Epoch 148/150\n",
            "4/4 [==============================] - 0s 12ms/step - loss: 0.6611 - accuracy: 0.5760 - val_loss: 0.6557 - val_accuracy: 0.6296\n",
            "Epoch 149/150\n",
            "4/4 [==============================] - 0s 10ms/step - loss: 0.6608 - accuracy: 0.5760 - val_loss: 0.6555 - val_accuracy: 0.6296\n",
            "Epoch 150/150\n",
            "4/4 [==============================] - 0s 14ms/step - loss: 0.6608 - accuracy: 0.5760 - val_loss: 0.6553 - val_accuracy: 0.6296\n"
          ]
        }
      ]
    },
    {
      "cell_type": "code",
      "source": [
        "model10.evaluate(X_test, y_test)"
      ],
      "metadata": {
        "colab": {
          "base_uri": "https://localhost:8080/"
        },
        "id": "N2fxE1Nm7yn9",
        "outputId": "5ca2e7c6-1c8a-4f27-b159-9a676288f4d0"
      },
      "execution_count": 896,
      "outputs": [
        {
          "output_type": "stream",
          "name": "stdout",
          "text": [
            "1/1 [==============================] - 0s 23ms/step - loss: 5.3177 - accuracy: 0.6087\n"
          ]
        },
        {
          "output_type": "execute_result",
          "data": {
            "text/plain": [
              "[5.317729949951172, 0.6086956262588501]"
            ]
          },
          "metadata": {},
          "execution_count": 896
        }
      ]
    },
    {
      "cell_type": "code",
      "source": [
        "model10 = tf.keras.models.load_model(f\"/content/model_experiments/{model10.name}\")\n",
        "model10.evaluate(X_test, y_test)"
      ],
      "metadata": {
        "id": "lpKDkcyxq8F8",
        "outputId": "41fb8375-2abf-41db-b7d0-335ae5452de6",
        "colab": {
          "base_uri": "https://localhost:8080/"
        }
      },
      "execution_count": 897,
      "outputs": [
        {
          "output_type": "stream",
          "name": "stdout",
          "text": [
            "1/1 [==============================] - 0s 129ms/step - loss: 0.5643 - accuracy: 0.6087\n"
          ]
        },
        {
          "output_type": "execute_result",
          "data": {
            "text/plain": [
              "[0.5643192529678345, 0.6086956262588501]"
            ]
          },
          "metadata": {},
          "execution_count": 897
        }
      ]
    },
    {
      "cell_type": "code",
      "source": [
        "tf.random.set_seed(42)\n",
        "\n",
        "model11 = tf.keras.Sequential([\n",
        "    tf.keras.layers.Dense(5, activation='relu'),\n",
        "    tf.keras.layers.Dense(4, activation='relu'),\n",
        "    tf.keras.layers.Dense(4, activation='relu'),\n",
        "\n",
        "    # tf.keras.layers.Dense(20, activation='relu'),\n",
        "    # tf.keras.layers.Dense(10, activation='relu'),\n",
        "\n",
        "    # tf.keras.layers.Dense(256, activation='relu'),\n",
        "    tf.keras.layers.Dense(1, activation='sigmoid')\n",
        "])\n",
        "\n",
        "model11.compile(\n",
        "    loss=tf.keras.losses.binary_crossentropy,\n",
        "    optimizer=tf.keras.optimizers.Adam(0.001),\n",
        "    metrics=[\"accuracy\"]\n",
        ")\n",
        "\n",
        "\n",
        "history11 = model11.fit(X_train_scaled, \n",
        "                    y_train, \n",
        "                    epochs=150,\n",
        "                    batch_size=5,\n",
        "                    validation_data = (X_valid_scaled, y_valid),\n",
        "                    callbacks=[create_model_checkpoint(model_name=model11.name)])"
      ],
      "metadata": {
        "id": "d0mJOMoge0ri",
        "outputId": "e6838783-07f2-4abb-e8ad-09da200d36db",
        "colab": {
          "base_uri": "https://localhost:8080/"
        }
      },
      "execution_count": 898,
      "outputs": [
        {
          "output_type": "stream",
          "name": "stdout",
          "text": [
            "Epoch 1/150\n",
            " 1/25 [>.............................] - ETA: 11s - loss: 0.6927 - accuracy: 0.6000INFO:tensorflow:Assets written to: model_experiments/sequential_85/assets\n",
            "25/25 [==============================] - 1s 41ms/step - loss: 0.6918 - accuracy: 0.5680 - val_loss: 0.6906 - val_accuracy: 0.6296\n",
            "Epoch 2/150\n",
            "25/25 [==============================] - 0s 4ms/step - loss: 0.6902 - accuracy: 0.5760 - val_loss: 0.6893 - val_accuracy: 0.6296\n",
            "Epoch 3/150\n",
            "25/25 [==============================] - 0s 3ms/step - loss: 0.6888 - accuracy: 0.5760 - val_loss: 0.6883 - val_accuracy: 0.6296\n",
            "Epoch 4/150\n",
            "25/25 [==============================] - 0s 3ms/step - loss: 0.6881 - accuracy: 0.5760 - val_loss: 0.6867 - val_accuracy: 0.6296\n",
            "Epoch 5/150\n",
            "25/25 [==============================] - 0s 3ms/step - loss: 0.6867 - accuracy: 0.5760 - val_loss: 0.6849 - val_accuracy: 0.6296\n",
            "Epoch 6/150\n",
            "25/25 [==============================] - 0s 3ms/step - loss: 0.6855 - accuracy: 0.5760 - val_loss: 0.6817 - val_accuracy: 0.6296\n",
            "Epoch 7/150\n",
            "25/25 [==============================] - 0s 3ms/step - loss: 0.6831 - accuracy: 0.5760 - val_loss: 0.6799 - val_accuracy: 0.6296\n",
            "Epoch 8/150\n",
            "25/25 [==============================] - 0s 3ms/step - loss: 0.6829 - accuracy: 0.5760 - val_loss: 0.6779 - val_accuracy: 0.6296\n",
            "Epoch 9/150\n",
            "25/25 [==============================] - 0s 4ms/step - loss: 0.6812 - accuracy: 0.5760 - val_loss: 0.6767 - val_accuracy: 0.6296\n",
            "Epoch 10/150\n",
            "25/25 [==============================] - 0s 3ms/step - loss: 0.6801 - accuracy: 0.5760 - val_loss: 0.6749 - val_accuracy: 0.6296\n",
            "Epoch 11/150\n",
            "25/25 [==============================] - 0s 3ms/step - loss: 0.6796 - accuracy: 0.5760 - val_loss: 0.6728 - val_accuracy: 0.6296\n",
            "Epoch 12/150\n",
            "25/25 [==============================] - 0s 3ms/step - loss: 0.6787 - accuracy: 0.5760 - val_loss: 0.6719 - val_accuracy: 0.6296\n",
            "Epoch 13/150\n",
            "25/25 [==============================] - 0s 3ms/step - loss: 0.6779 - accuracy: 0.5760 - val_loss: 0.6706 - val_accuracy: 0.6296\n",
            "Epoch 14/150\n",
            "25/25 [==============================] - 0s 3ms/step - loss: 0.6779 - accuracy: 0.5760 - val_loss: 0.6687 - val_accuracy: 0.6296\n",
            "Epoch 15/150\n",
            "25/25 [==============================] - 0s 3ms/step - loss: 0.6767 - accuracy: 0.5760 - val_loss: 0.6685 - val_accuracy: 0.6296\n",
            "Epoch 16/150\n",
            "25/25 [==============================] - 0s 3ms/step - loss: 0.6764 - accuracy: 0.5760 - val_loss: 0.6678 - val_accuracy: 0.6296\n",
            "Epoch 17/150\n",
            "25/25 [==============================] - 0s 3ms/step - loss: 0.6760 - accuracy: 0.5760 - val_loss: 0.6674 - val_accuracy: 0.6296\n",
            "Epoch 18/150\n",
            "25/25 [==============================] - 0s 3ms/step - loss: 0.6755 - accuracy: 0.5760 - val_loss: 0.6668 - val_accuracy: 0.6296\n",
            "Epoch 19/150\n",
            "25/25 [==============================] - 0s 4ms/step - loss: 0.6755 - accuracy: 0.5760 - val_loss: 0.6663 - val_accuracy: 0.6296\n",
            "Epoch 20/150\n",
            "25/25 [==============================] - 0s 3ms/step - loss: 0.6751 - accuracy: 0.5760 - val_loss: 0.6657 - val_accuracy: 0.6296\n",
            "Epoch 21/150\n",
            "25/25 [==============================] - 0s 4ms/step - loss: 0.6748 - accuracy: 0.5760 - val_loss: 0.6652 - val_accuracy: 0.6296\n",
            "Epoch 22/150\n",
            "25/25 [==============================] - 0s 3ms/step - loss: 0.6754 - accuracy: 0.5760 - val_loss: 0.6639 - val_accuracy: 0.6296\n",
            "Epoch 23/150\n",
            "25/25 [==============================] - 0s 3ms/step - loss: 0.6748 - accuracy: 0.5760 - val_loss: 0.6649 - val_accuracy: 0.6296\n",
            "Epoch 24/150\n",
            "25/25 [==============================] - 0s 3ms/step - loss: 0.6737 - accuracy: 0.5760 - val_loss: 0.6638 - val_accuracy: 0.6296\n",
            "Epoch 25/150\n",
            "25/25 [==============================] - 0s 3ms/step - loss: 0.6733 - accuracy: 0.5760 - val_loss: 0.6633 - val_accuracy: 0.6296\n",
            "Epoch 26/150\n",
            "25/25 [==============================] - 0s 3ms/step - loss: 0.6731 - accuracy: 0.5760 - val_loss: 0.6628 - val_accuracy: 0.6296\n",
            "Epoch 27/150\n",
            "25/25 [==============================] - 0s 3ms/step - loss: 0.6727 - accuracy: 0.5760 - val_loss: 0.6627 - val_accuracy: 0.6296\n",
            "Epoch 28/150\n",
            "25/25 [==============================] - 0s 3ms/step - loss: 0.6723 - accuracy: 0.5760 - val_loss: 0.6623 - val_accuracy: 0.6296\n",
            "Epoch 29/150\n",
            "25/25 [==============================] - 0s 3ms/step - loss: 0.6722 - accuracy: 0.5760 - val_loss: 0.6625 - val_accuracy: 0.6296\n",
            "Epoch 30/150\n",
            "25/25 [==============================] - 0s 3ms/step - loss: 0.6718 - accuracy: 0.5760 - val_loss: 0.6617 - val_accuracy: 0.6296\n",
            "Epoch 31/150\n",
            "25/25 [==============================] - 0s 3ms/step - loss: 0.6723 - accuracy: 0.5760 - val_loss: 0.6618 - val_accuracy: 0.6296\n",
            "Epoch 32/150\n",
            "25/25 [==============================] - 0s 3ms/step - loss: 0.6718 - accuracy: 0.5760 - val_loss: 0.6602 - val_accuracy: 0.6296\n",
            "Epoch 33/150\n",
            "25/25 [==============================] - 0s 3ms/step - loss: 0.6711 - accuracy: 0.5760 - val_loss: 0.6598 - val_accuracy: 0.6296\n",
            "Epoch 34/150\n",
            "25/25 [==============================] - 0s 3ms/step - loss: 0.6709 - accuracy: 0.5760 - val_loss: 0.6602 - val_accuracy: 0.6296\n",
            "Epoch 35/150\n",
            "25/25 [==============================] - 0s 3ms/step - loss: 0.6703 - accuracy: 0.5760 - val_loss: 0.6603 - val_accuracy: 0.6296\n",
            "Epoch 36/150\n",
            "25/25 [==============================] - 0s 3ms/step - loss: 0.6698 - accuracy: 0.5760 - val_loss: 0.6590 - val_accuracy: 0.6296\n",
            "Epoch 37/150\n",
            "25/25 [==============================] - 0s 3ms/step - loss: 0.6700 - accuracy: 0.5760 - val_loss: 0.6585 - val_accuracy: 0.6296\n",
            "Epoch 38/150\n",
            "25/25 [==============================] - 0s 4ms/step - loss: 0.6705 - accuracy: 0.5760 - val_loss: 0.6586 - val_accuracy: 0.6296\n",
            "Epoch 39/150\n",
            "25/25 [==============================] - 0s 3ms/step - loss: 0.6689 - accuracy: 0.5760 - val_loss: 0.6586 - val_accuracy: 0.6296\n",
            "Epoch 40/150\n",
            "25/25 [==============================] - 0s 3ms/step - loss: 0.6686 - accuracy: 0.5760 - val_loss: 0.6582 - val_accuracy: 0.6296\n",
            "Epoch 41/150\n",
            "25/25 [==============================] - 0s 4ms/step - loss: 0.6687 - accuracy: 0.5760 - val_loss: 0.6582 - val_accuracy: 0.6296\n",
            "Epoch 42/150\n",
            "25/25 [==============================] - 0s 3ms/step - loss: 0.6678 - accuracy: 0.5760 - val_loss: 0.6570 - val_accuracy: 0.6296\n",
            "Epoch 43/150\n",
            "25/25 [==============================] - 0s 3ms/step - loss: 0.6679 - accuracy: 0.5760 - val_loss: 0.6571 - val_accuracy: 0.6296\n",
            "Epoch 44/150\n",
            "25/25 [==============================] - 0s 3ms/step - loss: 0.6677 - accuracy: 0.5760 - val_loss: 0.6569 - val_accuracy: 0.6296\n",
            "Epoch 45/150\n",
            "25/25 [==============================] - 0s 3ms/step - loss: 0.6679 - accuracy: 0.5760 - val_loss: 0.6564 - val_accuracy: 0.6296\n",
            "Epoch 46/150\n",
            "25/25 [==============================] - 0s 3ms/step - loss: 0.6672 - accuracy: 0.5760 - val_loss: 0.6556 - val_accuracy: 0.6296\n",
            "Epoch 47/150\n",
            "25/25 [==============================] - 0s 4ms/step - loss: 0.6669 - accuracy: 0.5760 - val_loss: 0.6549 - val_accuracy: 0.6296\n",
            "Epoch 48/150\n",
            "25/25 [==============================] - 0s 3ms/step - loss: 0.6678 - accuracy: 0.5760 - val_loss: 0.6563 - val_accuracy: 0.6296\n",
            "Epoch 49/150\n",
            "25/25 [==============================] - 0s 3ms/step - loss: 0.6659 - accuracy: 0.5760 - val_loss: 0.6553 - val_accuracy: 0.6296\n",
            "Epoch 50/150\n",
            "25/25 [==============================] - 0s 3ms/step - loss: 0.6663 - accuracy: 0.5760 - val_loss: 0.6555 - val_accuracy: 0.6296\n",
            "Epoch 51/150\n",
            "25/25 [==============================] - 0s 3ms/step - loss: 0.6652 - accuracy: 0.5760 - val_loss: 0.6548 - val_accuracy: 0.6296\n",
            "Epoch 52/150\n",
            "25/25 [==============================] - 0s 3ms/step - loss: 0.6648 - accuracy: 0.5760 - val_loss: 0.6540 - val_accuracy: 0.6296\n",
            "Epoch 53/150\n",
            "25/25 [==============================] - 0s 3ms/step - loss: 0.6644 - accuracy: 0.5760 - val_loss: 0.6541 - val_accuracy: 0.6296\n",
            "Epoch 54/150\n",
            "25/25 [==============================] - 0s 3ms/step - loss: 0.6635 - accuracy: 0.5760 - val_loss: 0.6535 - val_accuracy: 0.6296\n",
            "Epoch 55/150\n",
            "25/25 [==============================] - 0s 4ms/step - loss: 0.6638 - accuracy: 0.5760 - val_loss: 0.6526 - val_accuracy: 0.6296\n",
            "Epoch 56/150\n",
            "25/25 [==============================] - 0s 3ms/step - loss: 0.6625 - accuracy: 0.5760 - val_loss: 0.6527 - val_accuracy: 0.6296\n",
            "Epoch 57/150\n",
            "25/25 [==============================] - 0s 3ms/step - loss: 0.6638 - accuracy: 0.5760 - val_loss: 0.6519 - val_accuracy: 0.6296\n",
            "Epoch 58/150\n",
            "25/25 [==============================] - 0s 3ms/step - loss: 0.6617 - accuracy: 0.5760 - val_loss: 0.6520 - val_accuracy: 0.6296\n",
            "Epoch 59/150\n",
            "25/25 [==============================] - 0s 4ms/step - loss: 0.6614 - accuracy: 0.5760 - val_loss: 0.6513 - val_accuracy: 0.6296\n",
            "Epoch 60/150\n",
            "25/25 [==============================] - 0s 3ms/step - loss: 0.6619 - accuracy: 0.5760 - val_loss: 0.6508 - val_accuracy: 0.6296\n",
            "Epoch 61/150\n",
            "25/25 [==============================] - 0s 3ms/step - loss: 0.6615 - accuracy: 0.5760 - val_loss: 0.6513 - val_accuracy: 0.6296\n",
            "Epoch 62/150\n",
            "25/25 [==============================] - 0s 4ms/step - loss: 0.6609 - accuracy: 0.5760 - val_loss: 0.6505 - val_accuracy: 0.6296\n",
            "Epoch 63/150\n",
            "25/25 [==============================] - 0s 3ms/step - loss: 0.6613 - accuracy: 0.5760 - val_loss: 0.6497 - val_accuracy: 0.6296\n",
            "Epoch 64/150\n",
            "25/25 [==============================] - 0s 3ms/step - loss: 0.6599 - accuracy: 0.5760 - val_loss: 0.6484 - val_accuracy: 0.6296\n",
            "Epoch 65/150\n",
            "25/25 [==============================] - 0s 3ms/step - loss: 0.6587 - accuracy: 0.5760 - val_loss: 0.6486 - val_accuracy: 0.6296\n",
            "Epoch 66/150\n",
            "25/25 [==============================] - 0s 3ms/step - loss: 0.6582 - accuracy: 0.5760 - val_loss: 0.6480 - val_accuracy: 0.6296\n",
            "Epoch 67/150\n",
            "25/25 [==============================] - 0s 3ms/step - loss: 0.6579 - accuracy: 0.5760 - val_loss: 0.6473 - val_accuracy: 0.6296\n",
            "Epoch 68/150\n",
            "25/25 [==============================] - 0s 3ms/step - loss: 0.6574 - accuracy: 0.5760 - val_loss: 0.6465 - val_accuracy: 0.6296\n",
            "Epoch 69/150\n",
            "25/25 [==============================] - 0s 3ms/step - loss: 0.6578 - accuracy: 0.5760 - val_loss: 0.6465 - val_accuracy: 0.6296\n",
            "Epoch 70/150\n",
            "25/25 [==============================] - 0s 3ms/step - loss: 0.6567 - accuracy: 0.5760 - val_loss: 0.6451 - val_accuracy: 0.6296\n",
            "Epoch 71/150\n",
            "25/25 [==============================] - 0s 3ms/step - loss: 0.6574 - accuracy: 0.5760 - val_loss: 0.6434 - val_accuracy: 0.6296\n",
            "Epoch 72/150\n",
            "25/25 [==============================] - 0s 3ms/step - loss: 0.6573 - accuracy: 0.5760 - val_loss: 0.6438 - val_accuracy: 0.6296\n",
            "Epoch 73/150\n",
            "25/25 [==============================] - 0s 3ms/step - loss: 0.6559 - accuracy: 0.5760 - val_loss: 0.6437 - val_accuracy: 0.6296\n",
            "Epoch 74/150\n",
            "25/25 [==============================] - 0s 3ms/step - loss: 0.6556 - accuracy: 0.5760 - val_loss: 0.6437 - val_accuracy: 0.6296\n",
            "Epoch 75/150\n",
            "25/25 [==============================] - 0s 3ms/step - loss: 0.6548 - accuracy: 0.5760 - val_loss: 0.6427 - val_accuracy: 0.6296\n",
            "Epoch 76/150\n",
            "25/25 [==============================] - 0s 3ms/step - loss: 0.6553 - accuracy: 0.5760 - val_loss: 0.6418 - val_accuracy: 0.6296\n",
            "Epoch 77/150\n",
            "25/25 [==============================] - 0s 3ms/step - loss: 0.6550 - accuracy: 0.5760 - val_loss: 0.6419 - val_accuracy: 0.6296\n",
            "Epoch 78/150\n",
            "25/25 [==============================] - 0s 3ms/step - loss: 0.6540 - accuracy: 0.5760 - val_loss: 0.6428 - val_accuracy: 0.6296\n",
            "Epoch 79/150\n",
            "25/25 [==============================] - 0s 4ms/step - loss: 0.6538 - accuracy: 0.5760 - val_loss: 0.6422 - val_accuracy: 0.6296\n",
            "Epoch 80/150\n",
            "25/25 [==============================] - 0s 3ms/step - loss: 0.6539 - accuracy: 0.5760 - val_loss: 0.6416 - val_accuracy: 0.6296\n",
            "Epoch 81/150\n",
            "25/25 [==============================] - 0s 3ms/step - loss: 0.6536 - accuracy: 0.5760 - val_loss: 0.6402 - val_accuracy: 0.6296\n",
            "Epoch 82/150\n",
            "25/25 [==============================] - 0s 3ms/step - loss: 0.6529 - accuracy: 0.5760 - val_loss: 0.6404 - val_accuracy: 0.6296\n",
            "Epoch 83/150\n",
            "25/25 [==============================] - 0s 3ms/step - loss: 0.6527 - accuracy: 0.5760 - val_loss: 0.6408 - val_accuracy: 0.6296\n",
            "Epoch 84/150\n",
            "25/25 [==============================] - 0s 3ms/step - loss: 0.6533 - accuracy: 0.5760 - val_loss: 0.6401 - val_accuracy: 0.6296\n",
            "Epoch 85/150\n",
            "25/25 [==============================] - 0s 4ms/step - loss: 0.6524 - accuracy: 0.5760 - val_loss: 0.6395 - val_accuracy: 0.6296\n",
            "Epoch 86/150\n",
            "25/25 [==============================] - 0s 4ms/step - loss: 0.6514 - accuracy: 0.5760 - val_loss: 0.6387 - val_accuracy: 0.6296\n",
            "Epoch 87/150\n",
            "25/25 [==============================] - 0s 3ms/step - loss: 0.6515 - accuracy: 0.5760 - val_loss: 0.6391 - val_accuracy: 0.6296\n",
            "Epoch 88/150\n",
            "25/25 [==============================] - 0s 3ms/step - loss: 0.6513 - accuracy: 0.5760 - val_loss: 0.6391 - val_accuracy: 0.6296\n",
            "Epoch 89/150\n",
            "25/25 [==============================] - 0s 3ms/step - loss: 0.6513 - accuracy: 0.5760 - val_loss: 0.6383 - val_accuracy: 0.6296\n",
            "Epoch 90/150\n",
            "25/25 [==============================] - 0s 3ms/step - loss: 0.6521 - accuracy: 0.5760 - val_loss: 0.6380 - val_accuracy: 0.6296\n",
            "Epoch 91/150\n",
            "25/25 [==============================] - 0s 3ms/step - loss: 0.6499 - accuracy: 0.5760 - val_loss: 0.6386 - val_accuracy: 0.6296\n",
            "Epoch 92/150\n",
            "25/25 [==============================] - 0s 3ms/step - loss: 0.6499 - accuracy: 0.5760 - val_loss: 0.6379 - val_accuracy: 0.6296\n",
            "Epoch 93/150\n",
            "25/25 [==============================] - 0s 3ms/step - loss: 0.6491 - accuracy: 0.5760 - val_loss: 0.6373 - val_accuracy: 0.6296\n",
            "Epoch 94/150\n",
            "25/25 [==============================] - 0s 3ms/step - loss: 0.6500 - accuracy: 0.5920 - val_loss: 0.6370 - val_accuracy: 0.5926\n",
            "Epoch 95/150\n",
            "25/25 [==============================] - 0s 3ms/step - loss: 0.6479 - accuracy: 0.6240 - val_loss: 0.6373 - val_accuracy: 0.5926\n",
            "Epoch 96/150\n",
            "25/25 [==============================] - 0s 4ms/step - loss: 0.6508 - accuracy: 0.6080 - val_loss: 0.6371 - val_accuracy: 0.6296\n",
            "Epoch 97/150\n",
            "25/25 [==============================] - 0s 3ms/step - loss: 0.6478 - accuracy: 0.6240 - val_loss: 0.6357 - val_accuracy: 0.6296\n",
            "Epoch 98/150\n",
            "25/25 [==============================] - 0s 3ms/step - loss: 0.6475 - accuracy: 0.6160 - val_loss: 0.6355 - val_accuracy: 0.5926\n",
            "Epoch 99/150\n",
            "25/25 [==============================] - 0s 3ms/step - loss: 0.6476 - accuracy: 0.6080 - val_loss: 0.6343 - val_accuracy: 0.5556\n",
            "Epoch 100/150\n",
            " 1/25 [>.............................] - ETA: 0s - loss: 0.6419 - accuracy: 0.2000INFO:tensorflow:Assets written to: model_experiments/sequential_85/assets\n",
            "25/25 [==============================] - 1s 33ms/step - loss: 0.6475 - accuracy: 0.6080 - val_loss: 0.6345 - val_accuracy: 0.6667\n",
            "Epoch 101/150\n",
            "25/25 [==============================] - 0s 3ms/step - loss: 0.6459 - accuracy: 0.6240 - val_loss: 0.6343 - val_accuracy: 0.5926\n",
            "Epoch 102/150\n",
            "25/25 [==============================] - 0s 3ms/step - loss: 0.6466 - accuracy: 0.6160 - val_loss: 0.6339 - val_accuracy: 0.5926\n",
            "Epoch 103/150\n",
            "25/25 [==============================] - 0s 3ms/step - loss: 0.6450 - accuracy: 0.6240 - val_loss: 0.6325 - val_accuracy: 0.6667\n",
            "Epoch 104/150\n",
            "25/25 [==============================] - 0s 3ms/step - loss: 0.6456 - accuracy: 0.6160 - val_loss: 0.6326 - val_accuracy: 0.6296\n",
            "Epoch 105/150\n",
            "25/25 [==============================] - 0s 3ms/step - loss: 0.6440 - accuracy: 0.6080 - val_loss: 0.6319 - val_accuracy: 0.6667\n",
            "Epoch 106/150\n",
            "25/25 [==============================] - 0s 3ms/step - loss: 0.6440 - accuracy: 0.6160 - val_loss: 0.6314 - val_accuracy: 0.6667\n",
            "Epoch 107/150\n",
            "25/25 [==============================] - 0s 3ms/step - loss: 0.6441 - accuracy: 0.6160 - val_loss: 0.6309 - val_accuracy: 0.6296\n",
            "Epoch 108/150\n",
            "25/25 [==============================] - 0s 3ms/step - loss: 0.6432 - accuracy: 0.6400 - val_loss: 0.6308 - val_accuracy: 0.6667\n",
            "Epoch 109/150\n",
            "25/25 [==============================] - 0s 3ms/step - loss: 0.6425 - accuracy: 0.6240 - val_loss: 0.6300 - val_accuracy: 0.6296\n",
            "Epoch 110/150\n",
            "25/25 [==============================] - 0s 3ms/step - loss: 0.6421 - accuracy: 0.6480 - val_loss: 0.6297 - val_accuracy: 0.6296\n",
            "Epoch 111/150\n",
            "25/25 [==============================] - 0s 3ms/step - loss: 0.6430 - accuracy: 0.6320 - val_loss: 0.6286 - val_accuracy: 0.6667\n",
            "Epoch 112/150\n",
            "25/25 [==============================] - 0s 3ms/step - loss: 0.6416 - accuracy: 0.6480 - val_loss: 0.6291 - val_accuracy: 0.5926\n",
            "Epoch 113/150\n",
            "25/25 [==============================] - 0s 3ms/step - loss: 0.6405 - accuracy: 0.6480 - val_loss: 0.6283 - val_accuracy: 0.6667\n",
            "Epoch 114/150\n",
            "25/25 [==============================] - 0s 3ms/step - loss: 0.6403 - accuracy: 0.6320 - val_loss: 0.6275 - val_accuracy: 0.6667\n",
            "Epoch 115/150\n",
            "25/25 [==============================] - 0s 3ms/step - loss: 0.6401 - accuracy: 0.6480 - val_loss: 0.6274 - val_accuracy: 0.6667\n",
            "Epoch 116/150\n",
            "25/25 [==============================] - 0s 3ms/step - loss: 0.6403 - accuracy: 0.6640 - val_loss: 0.6270 - val_accuracy: 0.6667\n",
            "Epoch 117/150\n",
            "25/25 [==============================] - 0s 3ms/step - loss: 0.6400 - accuracy: 0.6480 - val_loss: 0.6273 - val_accuracy: 0.6296\n",
            "Epoch 118/150\n",
            "25/25 [==============================] - 0s 3ms/step - loss: 0.6387 - accuracy: 0.6560 - val_loss: 0.6267 - val_accuracy: 0.6667\n",
            "Epoch 119/150\n",
            "25/25 [==============================] - 0s 3ms/step - loss: 0.6397 - accuracy: 0.6480 - val_loss: 0.6267 - val_accuracy: 0.5926\n",
            "Epoch 120/150\n",
            "25/25 [==============================] - 0s 4ms/step - loss: 0.6389 - accuracy: 0.6560 - val_loss: 0.6263 - val_accuracy: 0.6296\n",
            "Epoch 121/150\n",
            "25/25 [==============================] - 0s 3ms/step - loss: 0.6378 - accuracy: 0.6560 - val_loss: 0.6256 - val_accuracy: 0.6667\n",
            "Epoch 122/150\n",
            "25/25 [==============================] - 0s 3ms/step - loss: 0.6384 - accuracy: 0.6480 - val_loss: 0.6263 - val_accuracy: 0.5556\n",
            "Epoch 123/150\n",
            "25/25 [==============================] - 0s 3ms/step - loss: 0.6384 - accuracy: 0.6480 - val_loss: 0.6253 - val_accuracy: 0.6667\n",
            "Epoch 124/150\n",
            "25/25 [==============================] - 0s 3ms/step - loss: 0.6385 - accuracy: 0.6640 - val_loss: 0.6247 - val_accuracy: 0.6667\n",
            "Epoch 125/150\n",
            "25/25 [==============================] - 0s 4ms/step - loss: 0.6365 - accuracy: 0.6720 - val_loss: 0.6246 - val_accuracy: 0.6667\n",
            "Epoch 126/150\n",
            "25/25 [==============================] - 0s 3ms/step - loss: 0.6367 - accuracy: 0.6640 - val_loss: 0.6243 - val_accuracy: 0.6667\n",
            "Epoch 127/150\n",
            "25/25 [==============================] - 0s 3ms/step - loss: 0.6358 - accuracy: 0.6720 - val_loss: 0.6243 - val_accuracy: 0.6667\n",
            "Epoch 128/150\n",
            "25/25 [==============================] - 0s 3ms/step - loss: 0.6366 - accuracy: 0.6560 - val_loss: 0.6236 - val_accuracy: 0.6667\n",
            "Epoch 129/150\n",
            "25/25 [==============================] - 0s 3ms/step - loss: 0.6411 - accuracy: 0.6400 - val_loss: 0.6258 - val_accuracy: 0.5926\n",
            "Epoch 130/150\n",
            "25/25 [==============================] - 0s 3ms/step - loss: 0.6352 - accuracy: 0.6400 - val_loss: 0.6237 - val_accuracy: 0.6667\n",
            "Epoch 131/150\n",
            "25/25 [==============================] - 0s 3ms/step - loss: 0.6356 - accuracy: 0.6560 - val_loss: 0.6240 - val_accuracy: 0.5926\n",
            "Epoch 132/150\n",
            "25/25 [==============================] - 0s 3ms/step - loss: 0.6337 - accuracy: 0.6640 - val_loss: 0.6234 - val_accuracy: 0.6296\n",
            "Epoch 133/150\n",
            "25/25 [==============================] - 0s 3ms/step - loss: 0.6345 - accuracy: 0.6480 - val_loss: 0.6237 - val_accuracy: 0.6296\n",
            "Epoch 134/150\n",
            "25/25 [==============================] - 0s 4ms/step - loss: 0.6341 - accuracy: 0.6720 - val_loss: 0.6228 - val_accuracy: 0.6296\n",
            "Epoch 135/150\n",
            "25/25 [==============================] - 0s 4ms/step - loss: 0.6330 - accuracy: 0.6640 - val_loss: 0.6233 - val_accuracy: 0.5926\n",
            "Epoch 136/150\n",
            "25/25 [==============================] - 0s 3ms/step - loss: 0.6345 - accuracy: 0.6320 - val_loss: 0.6227 - val_accuracy: 0.6296\n",
            "Epoch 137/150\n",
            "25/25 [==============================] - 0s 4ms/step - loss: 0.6325 - accuracy: 0.6400 - val_loss: 0.6229 - val_accuracy: 0.5926\n",
            "Epoch 138/150\n",
            "25/25 [==============================] - 0s 3ms/step - loss: 0.6328 - accuracy: 0.6640 - val_loss: 0.6224 - val_accuracy: 0.6296\n",
            "Epoch 139/150\n",
            "25/25 [==============================] - 0s 3ms/step - loss: 0.6323 - accuracy: 0.6720 - val_loss: 0.6218 - val_accuracy: 0.6296\n",
            "Epoch 140/150\n",
            "25/25 [==============================] - 0s 3ms/step - loss: 0.6328 - accuracy: 0.6240 - val_loss: 0.6231 - val_accuracy: 0.6296\n",
            "Epoch 141/150\n",
            "25/25 [==============================] - 0s 3ms/step - loss: 0.6318 - accuracy: 0.6720 - val_loss: 0.6215 - val_accuracy: 0.6296\n",
            "Epoch 142/150\n",
            "25/25 [==============================] - 0s 3ms/step - loss: 0.6314 - accuracy: 0.6400 - val_loss: 0.6212 - val_accuracy: 0.6296\n",
            "Epoch 143/150\n",
            "25/25 [==============================] - 0s 3ms/step - loss: 0.6314 - accuracy: 0.6640 - val_loss: 0.6207 - val_accuracy: 0.6296\n",
            "Epoch 144/150\n",
            "25/25 [==============================] - 0s 3ms/step - loss: 0.6323 - accuracy: 0.6240 - val_loss: 0.6216 - val_accuracy: 0.6296\n",
            "Epoch 145/150\n",
            "25/25 [==============================] - 0s 3ms/step - loss: 0.6308 - accuracy: 0.6480 - val_loss: 0.6211 - val_accuracy: 0.6296\n",
            "Epoch 146/150\n",
            "25/25 [==============================] - 0s 3ms/step - loss: 0.6306 - accuracy: 0.6480 - val_loss: 0.6211 - val_accuracy: 0.6296\n",
            "Epoch 147/150\n",
            "25/25 [==============================] - 0s 3ms/step - loss: 0.6299 - accuracy: 0.6560 - val_loss: 0.6210 - val_accuracy: 0.6296\n",
            "Epoch 148/150\n",
            "25/25 [==============================] - 0s 3ms/step - loss: 0.6309 - accuracy: 0.6320 - val_loss: 0.6215 - val_accuracy: 0.6296\n",
            "Epoch 149/150\n",
            "25/25 [==============================] - 0s 4ms/step - loss: 0.6296 - accuracy: 0.6480 - val_loss: 0.6204 - val_accuracy: 0.6296\n",
            "Epoch 150/150\n",
            "25/25 [==============================] - 0s 3ms/step - loss: 0.6308 - accuracy: 0.6720 - val_loss: 0.6196 - val_accuracy: 0.6296\n"
          ]
        }
      ]
    },
    {
      "cell_type": "code",
      "source": [
        "model11.evaluate(X_test, y_test)"
      ],
      "metadata": {
        "colab": {
          "base_uri": "https://localhost:8080/"
        },
        "id": "talbzlnM7z6g",
        "outputId": "b82d7f19-824a-40c5-b7b5-f964d39af147"
      },
      "execution_count": 899,
      "outputs": [
        {
          "output_type": "stream",
          "name": "stdout",
          "text": [
            "1/1 [==============================] - 0s 20ms/step - loss: 4.6396 - accuracy: 0.6522\n"
          ]
        },
        {
          "output_type": "execute_result",
          "data": {
            "text/plain": [
              "[4.639610767364502, 0.6521739363670349]"
            ]
          },
          "metadata": {},
          "execution_count": 899
        }
      ]
    },
    {
      "cell_type": "code",
      "source": [
        "model11 = tf.keras.models.load_model(f\"/content/model_experiments/{model11.name}\")\n",
        "model11.evaluate(X_test, y_test)"
      ],
      "metadata": {
        "id": "0QMLEXq_q-aZ",
        "outputId": "37d32563-68c8-4d61-d397-1570253eff8f",
        "colab": {
          "base_uri": "https://localhost:8080/"
        }
      },
      "execution_count": 900,
      "outputs": [
        {
          "output_type": "stream",
          "name": "stdout",
          "text": [
            "1/1 [==============================] - 0s 130ms/step - loss: 5.3990 - accuracy: 0.6087\n"
          ]
        },
        {
          "output_type": "execute_result",
          "data": {
            "text/plain": [
              "[5.398956298828125, 0.6086956262588501]"
            ]
          },
          "metadata": {},
          "execution_count": 900
        }
      ]
    },
    {
      "cell_type": "code",
      "source": [
        "tf.random.set_seed(42)\n",
        "\n",
        "model12 = tf.keras.Sequential([\n",
        "    tf.keras.layers.Dense(5, activation='relu'),\n",
        "    tf.keras.layers.Dense(14, activation='relu'),\n",
        "    tf.keras.layers.Dense(14, activation='relu'),\n",
        "\n",
        "    # tf.keras.layers.Dense(20, activation='relu'),\n",
        "    # tf.keras.layers.Dense(10, activation='relu'),\n",
        "\n",
        "    # tf.keras.layers.Dense(256, activation='relu'),\n",
        "    tf.keras.layers.Dense(1, activation='sigmoid')\n",
        "])\n",
        "\n",
        "model12.compile(\n",
        "    loss=tf.keras.losses.binary_crossentropy,\n",
        "    optimizer=tf.keras.optimizers.Adam(0.001),\n",
        "    metrics=[\"accuracy\"]\n",
        ")\n",
        "\n",
        "\n",
        "history12 = model12.fit(X_train_scaled, \n",
        "                    y_train, \n",
        "                    epochs=150,\n",
        "                    batch_size=5,\n",
        "                    validation_data = (X_valid_scaled, y_valid),\n",
        "                    callbacks=[create_model_checkpoint(model_name=model12.name)])"
      ],
      "metadata": {
        "id": "HOLGhvTfe0t1",
        "outputId": "13066a00-91ac-408e-dac5-8dfa25c8f8a5",
        "colab": {
          "base_uri": "https://localhost:8080/"
        }
      },
      "execution_count": 901,
      "outputs": [
        {
          "output_type": "stream",
          "name": "stdout",
          "text": [
            "Epoch 1/150\n",
            " 1/25 [>.............................] - ETA: 11s - loss: 0.7257 - accuracy: 0.4000INFO:tensorflow:Assets written to: model_experiments/sequential_86/assets\n",
            "25/25 [==============================] - 1s 39ms/step - loss: 0.6859 - accuracy: 0.5760 - val_loss: 0.6698 - val_accuracy: 0.6296\n",
            "Epoch 2/150\n",
            "25/25 [==============================] - 0s 3ms/step - loss: 0.6830 - accuracy: 0.5760 - val_loss: 0.6670 - val_accuracy: 0.6296\n",
            "Epoch 3/150\n",
            "25/25 [==============================] - 0s 3ms/step - loss: 0.6814 - accuracy: 0.5760 - val_loss: 0.6671 - val_accuracy: 0.6296\n",
            "Epoch 4/150\n",
            "25/25 [==============================] - 0s 4ms/step - loss: 0.6803 - accuracy: 0.5760 - val_loss: 0.6648 - val_accuracy: 0.6296\n",
            "Epoch 5/150\n",
            "25/25 [==============================] - 0s 4ms/step - loss: 0.6800 - accuracy: 0.5760 - val_loss: 0.6645 - val_accuracy: 0.6296\n",
            "Epoch 6/150\n",
            "25/25 [==============================] - 0s 3ms/step - loss: 0.6808 - accuracy: 0.5760 - val_loss: 0.6628 - val_accuracy: 0.6296\n",
            "Epoch 7/150\n",
            "25/25 [==============================] - 0s 3ms/step - loss: 0.6785 - accuracy: 0.5760 - val_loss: 0.6635 - val_accuracy: 0.6296\n",
            "Epoch 8/150\n",
            "25/25 [==============================] - 0s 3ms/step - loss: 0.6791 - accuracy: 0.5760 - val_loss: 0.6624 - val_accuracy: 0.6296\n",
            "Epoch 9/150\n",
            "25/25 [==============================] - 0s 4ms/step - loss: 0.6772 - accuracy: 0.5760 - val_loss: 0.6621 - val_accuracy: 0.6296\n",
            "Epoch 10/150\n",
            "25/25 [==============================] - 0s 4ms/step - loss: 0.6761 - accuracy: 0.5760 - val_loss: 0.6614 - val_accuracy: 0.6296\n",
            "Epoch 11/150\n",
            "25/25 [==============================] - 0s 4ms/step - loss: 0.6762 - accuracy: 0.5760 - val_loss: 0.6601 - val_accuracy: 0.6296\n",
            "Epoch 12/150\n",
            "25/25 [==============================] - 0s 4ms/step - loss: 0.6755 - accuracy: 0.5760 - val_loss: 0.6600 - val_accuracy: 0.6296\n",
            "Epoch 13/150\n",
            "25/25 [==============================] - 0s 4ms/step - loss: 0.6746 - accuracy: 0.5760 - val_loss: 0.6599 - val_accuracy: 0.6296\n",
            "Epoch 14/150\n",
            "25/25 [==============================] - 0s 3ms/step - loss: 0.6756 - accuracy: 0.5760 - val_loss: 0.6581 - val_accuracy: 0.6296\n",
            "Epoch 15/150\n",
            "25/25 [==============================] - 0s 3ms/step - loss: 0.6735 - accuracy: 0.5760 - val_loss: 0.6586 - val_accuracy: 0.6296\n",
            "Epoch 16/150\n",
            "25/25 [==============================] - 0s 3ms/step - loss: 0.6731 - accuracy: 0.5760 - val_loss: 0.6582 - val_accuracy: 0.6296\n",
            "Epoch 17/150\n",
            "25/25 [==============================] - 0s 4ms/step - loss: 0.6726 - accuracy: 0.5760 - val_loss: 0.6581 - val_accuracy: 0.6296\n",
            "Epoch 18/150\n",
            "25/25 [==============================] - 0s 4ms/step - loss: 0.6715 - accuracy: 0.5760 - val_loss: 0.6571 - val_accuracy: 0.6296\n",
            "Epoch 19/150\n",
            "25/25 [==============================] - 0s 4ms/step - loss: 0.6714 - accuracy: 0.5760 - val_loss: 0.6565 - val_accuracy: 0.6296\n",
            "Epoch 20/150\n",
            "25/25 [==============================] - 0s 4ms/step - loss: 0.6706 - accuracy: 0.5760 - val_loss: 0.6561 - val_accuracy: 0.6296\n",
            "Epoch 21/150\n",
            "25/25 [==============================] - 0s 3ms/step - loss: 0.6700 - accuracy: 0.5760 - val_loss: 0.6556 - val_accuracy: 0.6296\n",
            "Epoch 22/150\n",
            "25/25 [==============================] - 0s 4ms/step - loss: 0.6718 - accuracy: 0.5760 - val_loss: 0.6545 - val_accuracy: 0.6296\n",
            "Epoch 23/150\n",
            "25/25 [==============================] - 0s 4ms/step - loss: 0.6707 - accuracy: 0.5680 - val_loss: 0.6553 - val_accuracy: 0.6296\n",
            "Epoch 24/150\n",
            "25/25 [==============================] - 0s 3ms/step - loss: 0.6676 - accuracy: 0.5760 - val_loss: 0.6542 - val_accuracy: 0.6296\n",
            "Epoch 25/150\n",
            "25/25 [==============================] - 0s 3ms/step - loss: 0.6674 - accuracy: 0.5920 - val_loss: 0.6534 - val_accuracy: 0.6296\n",
            "Epoch 26/150\n",
            "25/25 [==============================] - 0s 3ms/step - loss: 0.6666 - accuracy: 0.6000 - val_loss: 0.6536 - val_accuracy: 0.5926\n",
            "Epoch 27/150\n",
            "25/25 [==============================] - 0s 4ms/step - loss: 0.6660 - accuracy: 0.5920 - val_loss: 0.6540 - val_accuracy: 0.5926\n",
            "Epoch 28/150\n",
            "25/25 [==============================] - 0s 3ms/step - loss: 0.6651 - accuracy: 0.6000 - val_loss: 0.6536 - val_accuracy: 0.5926\n",
            "Epoch 29/150\n",
            "25/25 [==============================] - 0s 4ms/step - loss: 0.6645 - accuracy: 0.5920 - val_loss: 0.6544 - val_accuracy: 0.5926\n",
            "Epoch 30/150\n",
            "25/25 [==============================] - 0s 3ms/step - loss: 0.6638 - accuracy: 0.6000 - val_loss: 0.6541 - val_accuracy: 0.6296\n",
            "Epoch 31/150\n",
            "25/25 [==============================] - 0s 3ms/step - loss: 0.6657 - accuracy: 0.5920 - val_loss: 0.6541 - val_accuracy: 0.6296\n",
            "Epoch 32/150\n",
            "25/25 [==============================] - 0s 4ms/step - loss: 0.6643 - accuracy: 0.5840 - val_loss: 0.6522 - val_accuracy: 0.6296\n",
            "Epoch 33/150\n",
            "25/25 [==============================] - 0s 3ms/step - loss: 0.6626 - accuracy: 0.5920 - val_loss: 0.6526 - val_accuracy: 0.6296\n",
            "Epoch 34/150\n",
            "25/25 [==============================] - 0s 3ms/step - loss: 0.6628 - accuracy: 0.6160 - val_loss: 0.6522 - val_accuracy: 0.5926\n",
            "Epoch 35/150\n",
            "25/25 [==============================] - 0s 3ms/step - loss: 0.6610 - accuracy: 0.6000 - val_loss: 0.6526 - val_accuracy: 0.5926\n",
            "Epoch 36/150\n",
            "25/25 [==============================] - 0s 3ms/step - loss: 0.6601 - accuracy: 0.6080 - val_loss: 0.6519 - val_accuracy: 0.6296\n",
            "Epoch 37/150\n",
            "25/25 [==============================] - 0s 3ms/step - loss: 0.6603 - accuracy: 0.6160 - val_loss: 0.6520 - val_accuracy: 0.6296\n",
            "Epoch 38/150\n",
            "25/25 [==============================] - 0s 3ms/step - loss: 0.6617 - accuracy: 0.6240 - val_loss: 0.6511 - val_accuracy: 0.5926\n",
            "Epoch 39/150\n",
            "25/25 [==============================] - 0s 3ms/step - loss: 0.6592 - accuracy: 0.6080 - val_loss: 0.6503 - val_accuracy: 0.5926\n",
            "Epoch 40/150\n",
            "25/25 [==============================] - 0s 3ms/step - loss: 0.6588 - accuracy: 0.6320 - val_loss: 0.6515 - val_accuracy: 0.5926\n",
            "Epoch 41/150\n",
            "25/25 [==============================] - 0s 3ms/step - loss: 0.6599 - accuracy: 0.6160 - val_loss: 0.6512 - val_accuracy: 0.5926\n",
            "Epoch 42/150\n",
            "25/25 [==============================] - 0s 3ms/step - loss: 0.6575 - accuracy: 0.6080 - val_loss: 0.6503 - val_accuracy: 0.6296\n",
            "Epoch 43/150\n",
            "25/25 [==============================] - 0s 3ms/step - loss: 0.6578 - accuracy: 0.6320 - val_loss: 0.6508 - val_accuracy: 0.5926\n",
            "Epoch 44/150\n",
            "25/25 [==============================] - 0s 3ms/step - loss: 0.6573 - accuracy: 0.6160 - val_loss: 0.6506 - val_accuracy: 0.5926\n",
            "Epoch 45/150\n",
            "25/25 [==============================] - 0s 3ms/step - loss: 0.6586 - accuracy: 0.6400 - val_loss: 0.6505 - val_accuracy: 0.5926\n",
            "Epoch 46/150\n",
            "25/25 [==============================] - 0s 4ms/step - loss: 0.6580 - accuracy: 0.6400 - val_loss: 0.6507 - val_accuracy: 0.5926\n",
            "Epoch 47/150\n",
            "25/25 [==============================] - 0s 3ms/step - loss: 0.6561 - accuracy: 0.6240 - val_loss: 0.6498 - val_accuracy: 0.5926\n",
            "Epoch 48/150\n",
            "25/25 [==============================] - 0s 3ms/step - loss: 0.6586 - accuracy: 0.6080 - val_loss: 0.6499 - val_accuracy: 0.5926\n",
            "Epoch 49/150\n",
            "25/25 [==============================] - 0s 3ms/step - loss: 0.6548 - accuracy: 0.6240 - val_loss: 0.6481 - val_accuracy: 0.5926\n",
            "Epoch 50/150\n",
            "25/25 [==============================] - 0s 4ms/step - loss: 0.6566 - accuracy: 0.6320 - val_loss: 0.6493 - val_accuracy: 0.5926\n",
            "Epoch 51/150\n",
            "25/25 [==============================] - 0s 3ms/step - loss: 0.6552 - accuracy: 0.6240 - val_loss: 0.6482 - val_accuracy: 0.5926\n",
            "Epoch 52/150\n",
            "25/25 [==============================] - 0s 4ms/step - loss: 0.6547 - accuracy: 0.6400 - val_loss: 0.6483 - val_accuracy: 0.5926\n",
            "Epoch 53/150\n",
            "25/25 [==============================] - 0s 3ms/step - loss: 0.6547 - accuracy: 0.6320 - val_loss: 0.6481 - val_accuracy: 0.5185\n",
            "Epoch 54/150\n",
            "25/25 [==============================] - 0s 3ms/step - loss: 0.6536 - accuracy: 0.6400 - val_loss: 0.6480 - val_accuracy: 0.5926\n",
            "Epoch 55/150\n",
            "25/25 [==============================] - 0s 3ms/step - loss: 0.6544 - accuracy: 0.6480 - val_loss: 0.6469 - val_accuracy: 0.5926\n",
            "Epoch 56/150\n",
            "25/25 [==============================] - 0s 4ms/step - loss: 0.6527 - accuracy: 0.6320 - val_loss: 0.6481 - val_accuracy: 0.5556\n",
            "Epoch 57/150\n",
            "25/25 [==============================] - 0s 3ms/step - loss: 0.6553 - accuracy: 0.6400 - val_loss: 0.6470 - val_accuracy: 0.5556\n",
            "Epoch 58/150\n",
            "25/25 [==============================] - 0s 3ms/step - loss: 0.6525 - accuracy: 0.6240 - val_loss: 0.6482 - val_accuracy: 0.5556\n",
            "Epoch 59/150\n",
            "25/25 [==============================] - 0s 3ms/step - loss: 0.6516 - accuracy: 0.6320 - val_loss: 0.6471 - val_accuracy: 0.5556\n",
            "Epoch 60/150\n",
            "25/25 [==============================] - 0s 3ms/step - loss: 0.6537 - accuracy: 0.6240 - val_loss: 0.6460 - val_accuracy: 0.5926\n",
            "Epoch 61/150\n",
            "25/25 [==============================] - 0s 3ms/step - loss: 0.6543 - accuracy: 0.6240 - val_loss: 0.6476 - val_accuracy: 0.5556\n",
            "Epoch 62/150\n",
            "25/25 [==============================] - 0s 3ms/step - loss: 0.6525 - accuracy: 0.6160 - val_loss: 0.6476 - val_accuracy: 0.5185\n",
            "Epoch 63/150\n",
            "25/25 [==============================] - 0s 4ms/step - loss: 0.6538 - accuracy: 0.6160 - val_loss: 0.6469 - val_accuracy: 0.5556\n",
            "Epoch 64/150\n",
            "25/25 [==============================] - 0s 3ms/step - loss: 0.6526 - accuracy: 0.6400 - val_loss: 0.6444 - val_accuracy: 0.5926\n",
            "Epoch 65/150\n",
            "25/25 [==============================] - 0s 3ms/step - loss: 0.6492 - accuracy: 0.6640 - val_loss: 0.6466 - val_accuracy: 0.5556\n",
            "Epoch 66/150\n",
            "25/25 [==============================] - 0s 3ms/step - loss: 0.6502 - accuracy: 0.6560 - val_loss: 0.6465 - val_accuracy: 0.5556\n",
            "Epoch 67/150\n",
            "25/25 [==============================] - 0s 3ms/step - loss: 0.6497 - accuracy: 0.6240 - val_loss: 0.6447 - val_accuracy: 0.5556\n",
            "Epoch 68/150\n",
            "25/25 [==============================] - 0s 4ms/step - loss: 0.6494 - accuracy: 0.6000 - val_loss: 0.6447 - val_accuracy: 0.5926\n",
            "Epoch 69/150\n",
            "25/25 [==============================] - 0s 4ms/step - loss: 0.6492 - accuracy: 0.6160 - val_loss: 0.6442 - val_accuracy: 0.5556\n",
            "Epoch 70/150\n",
            "25/25 [==============================] - 0s 3ms/step - loss: 0.6492 - accuracy: 0.6320 - val_loss: 0.6450 - val_accuracy: 0.5926\n",
            "Epoch 71/150\n",
            "25/25 [==============================] - 0s 4ms/step - loss: 0.6511 - accuracy: 0.6240 - val_loss: 0.6439 - val_accuracy: 0.5185\n",
            "Epoch 72/150\n",
            "25/25 [==============================] - 0s 3ms/step - loss: 0.6503 - accuracy: 0.6160 - val_loss: 0.6428 - val_accuracy: 0.5926\n",
            "Epoch 73/150\n",
            "25/25 [==============================] - 0s 3ms/step - loss: 0.6474 - accuracy: 0.6160 - val_loss: 0.6428 - val_accuracy: 0.5926\n",
            "Epoch 74/150\n",
            "25/25 [==============================] - 0s 3ms/step - loss: 0.6480 - accuracy: 0.6320 - val_loss: 0.6433 - val_accuracy: 0.5926\n",
            "Epoch 75/150\n",
            "25/25 [==============================] - 0s 3ms/step - loss: 0.6465 - accuracy: 0.6000 - val_loss: 0.6435 - val_accuracy: 0.5556\n",
            "Epoch 76/150\n",
            "25/25 [==============================] - 0s 4ms/step - loss: 0.6475 - accuracy: 0.6240 - val_loss: 0.6422 - val_accuracy: 0.5926\n",
            "Epoch 77/150\n",
            "25/25 [==============================] - 0s 3ms/step - loss: 0.6474 - accuracy: 0.6240 - val_loss: 0.6429 - val_accuracy: 0.5926\n",
            "Epoch 78/150\n",
            "25/25 [==============================] - 0s 4ms/step - loss: 0.6452 - accuracy: 0.6240 - val_loss: 0.6407 - val_accuracy: 0.5926\n",
            "Epoch 79/150\n",
            "25/25 [==============================] - 0s 3ms/step - loss: 0.6450 - accuracy: 0.6320 - val_loss: 0.6414 - val_accuracy: 0.5926\n",
            "Epoch 80/150\n",
            "25/25 [==============================] - 0s 4ms/step - loss: 0.6461 - accuracy: 0.6320 - val_loss: 0.6393 - val_accuracy: 0.5926\n",
            "Epoch 81/150\n",
            "25/25 [==============================] - 0s 3ms/step - loss: 0.6440 - accuracy: 0.6240 - val_loss: 0.6417 - val_accuracy: 0.5556\n",
            "Epoch 82/150\n",
            "25/25 [==============================] - 0s 4ms/step - loss: 0.6442 - accuracy: 0.6240 - val_loss: 0.6400 - val_accuracy: 0.5926\n",
            "Epoch 83/150\n",
            "25/25 [==============================] - 0s 3ms/step - loss: 0.6447 - accuracy: 0.6240 - val_loss: 0.6365 - val_accuracy: 0.5926\n",
            "Epoch 84/150\n",
            "25/25 [==============================] - 0s 3ms/step - loss: 0.6440 - accuracy: 0.6240 - val_loss: 0.6379 - val_accuracy: 0.5926\n",
            "Epoch 85/150\n",
            "25/25 [==============================] - 0s 3ms/step - loss: 0.6430 - accuracy: 0.6320 - val_loss: 0.6372 - val_accuracy: 0.5926\n",
            "Epoch 86/150\n",
            "25/25 [==============================] - 0s 3ms/step - loss: 0.6415 - accuracy: 0.6320 - val_loss: 0.6384 - val_accuracy: 0.5926\n",
            "Epoch 87/150\n",
            "25/25 [==============================] - 0s 3ms/step - loss: 0.6414 - accuracy: 0.6240 - val_loss: 0.6378 - val_accuracy: 0.5926\n",
            "Epoch 88/150\n",
            "25/25 [==============================] - 0s 4ms/step - loss: 0.6422 - accuracy: 0.6160 - val_loss: 0.6375 - val_accuracy: 0.5926\n",
            "Epoch 89/150\n",
            "25/25 [==============================] - 0s 4ms/step - loss: 0.6407 - accuracy: 0.6320 - val_loss: 0.6357 - val_accuracy: 0.5926\n",
            "Epoch 90/150\n",
            "25/25 [==============================] - 0s 3ms/step - loss: 0.6443 - accuracy: 0.6320 - val_loss: 0.6373 - val_accuracy: 0.5926\n",
            "Epoch 91/150\n",
            "25/25 [==============================] - 0s 3ms/step - loss: 0.6384 - accuracy: 0.6240 - val_loss: 0.6333 - val_accuracy: 0.5926\n",
            "Epoch 92/150\n",
            "25/25 [==============================] - 0s 3ms/step - loss: 0.6389 - accuracy: 0.6480 - val_loss: 0.6345 - val_accuracy: 0.5926\n",
            "Epoch 93/150\n",
            "25/25 [==============================] - 0s 3ms/step - loss: 0.6385 - accuracy: 0.6560 - val_loss: 0.6336 - val_accuracy: 0.5926\n",
            "Epoch 94/150\n",
            "25/25 [==============================] - 0s 3ms/step - loss: 0.6400 - accuracy: 0.6480 - val_loss: 0.6364 - val_accuracy: 0.5926\n",
            "Epoch 95/150\n",
            "25/25 [==============================] - 0s 4ms/step - loss: 0.6360 - accuracy: 0.6400 - val_loss: 0.6302 - val_accuracy: 0.6296\n",
            "Epoch 96/150\n",
            "25/25 [==============================] - 0s 4ms/step - loss: 0.6401 - accuracy: 0.6240 - val_loss: 0.6341 - val_accuracy: 0.5926\n",
            "Epoch 97/150\n",
            "25/25 [==============================] - 0s 3ms/step - loss: 0.6368 - accuracy: 0.6480 - val_loss: 0.6340 - val_accuracy: 0.5926\n",
            "Epoch 98/150\n",
            "25/25 [==============================] - 0s 3ms/step - loss: 0.6383 - accuracy: 0.6480 - val_loss: 0.6323 - val_accuracy: 0.5926\n",
            "Epoch 99/150\n",
            "25/25 [==============================] - 0s 4ms/step - loss: 0.6374 - accuracy: 0.6400 - val_loss: 0.6357 - val_accuracy: 0.5556\n",
            "Epoch 100/150\n",
            "25/25 [==============================] - 0s 4ms/step - loss: 0.6382 - accuracy: 0.6560 - val_loss: 0.6324 - val_accuracy: 0.5926\n",
            "Epoch 101/150\n",
            "25/25 [==============================] - 0s 3ms/step - loss: 0.6338 - accuracy: 0.6560 - val_loss: 0.6321 - val_accuracy: 0.5926\n",
            "Epoch 102/150\n",
            "25/25 [==============================] - 0s 4ms/step - loss: 0.6356 - accuracy: 0.6320 - val_loss: 0.6316 - val_accuracy: 0.5926\n",
            "Epoch 103/150\n",
            "25/25 [==============================] - 0s 3ms/step - loss: 0.6327 - accuracy: 0.6480 - val_loss: 0.6316 - val_accuracy: 0.5926\n",
            "Epoch 104/150\n",
            "25/25 [==============================] - 0s 4ms/step - loss: 0.6364 - accuracy: 0.6480 - val_loss: 0.6340 - val_accuracy: 0.5926\n",
            "Epoch 105/150\n",
            "25/25 [==============================] - 0s 3ms/step - loss: 0.6308 - accuracy: 0.6640 - val_loss: 0.6303 - val_accuracy: 0.6296\n",
            "Epoch 106/150\n",
            "25/25 [==============================] - 0s 4ms/step - loss: 0.6320 - accuracy: 0.6640 - val_loss: 0.6304 - val_accuracy: 0.6296\n",
            "Epoch 107/150\n",
            "25/25 [==============================] - 0s 3ms/step - loss: 0.6319 - accuracy: 0.6400 - val_loss: 0.6316 - val_accuracy: 0.5926\n",
            "Epoch 108/150\n",
            "25/25 [==============================] - 0s 4ms/step - loss: 0.6312 - accuracy: 0.6560 - val_loss: 0.6301 - val_accuracy: 0.6296\n",
            "Epoch 109/150\n",
            "25/25 [==============================] - 0s 4ms/step - loss: 0.6302 - accuracy: 0.6720 - val_loss: 0.6308 - val_accuracy: 0.5926\n",
            "Epoch 110/150\n",
            "25/25 [==============================] - 0s 3ms/step - loss: 0.6302 - accuracy: 0.6480 - val_loss: 0.6315 - val_accuracy: 0.5926\n",
            "Epoch 111/150\n",
            "25/25 [==============================] - 0s 4ms/step - loss: 0.6319 - accuracy: 0.6400 - val_loss: 0.6320 - val_accuracy: 0.5926\n",
            "Epoch 112/150\n",
            "25/25 [==============================] - 0s 3ms/step - loss: 0.6296 - accuracy: 0.6560 - val_loss: 0.6327 - val_accuracy: 0.5926\n",
            "Epoch 113/150\n",
            "25/25 [==============================] - 0s 3ms/step - loss: 0.6274 - accuracy: 0.6640 - val_loss: 0.6295 - val_accuracy: 0.6296\n",
            "Epoch 114/150\n",
            "25/25 [==============================] - 0s 3ms/step - loss: 0.6284 - accuracy: 0.6640 - val_loss: 0.6281 - val_accuracy: 0.6296\n",
            "Epoch 115/150\n",
            "25/25 [==============================] - 0s 4ms/step - loss: 0.6290 - accuracy: 0.6480 - val_loss: 0.6300 - val_accuracy: 0.6296\n",
            "Epoch 116/150\n",
            "25/25 [==============================] - 0s 4ms/step - loss: 0.6286 - accuracy: 0.6560 - val_loss: 0.6292 - val_accuracy: 0.6296\n",
            "Epoch 117/150\n",
            "25/25 [==============================] - 0s 4ms/step - loss: 0.6301 - accuracy: 0.6560 - val_loss: 0.6317 - val_accuracy: 0.6296\n",
            "Epoch 118/150\n",
            "25/25 [==============================] - 0s 3ms/step - loss: 0.6262 - accuracy: 0.6640 - val_loss: 0.6311 - val_accuracy: 0.6296\n",
            "Epoch 119/150\n",
            "25/25 [==============================] - 0s 3ms/step - loss: 0.6265 - accuracy: 0.6480 - val_loss: 0.6337 - val_accuracy: 0.6296\n",
            "Epoch 120/150\n",
            "25/25 [==============================] - 0s 3ms/step - loss: 0.6283 - accuracy: 0.6640 - val_loss: 0.6340 - val_accuracy: 0.6296\n",
            "Epoch 121/150\n",
            "25/25 [==============================] - 0s 4ms/step - loss: 0.6253 - accuracy: 0.6400 - val_loss: 0.6308 - val_accuracy: 0.6296\n",
            "Epoch 122/150\n",
            "25/25 [==============================] - 0s 3ms/step - loss: 0.6292 - accuracy: 0.6640 - val_loss: 0.6303 - val_accuracy: 0.6296\n",
            "Epoch 123/150\n",
            "25/25 [==============================] - 0s 3ms/step - loss: 0.6279 - accuracy: 0.6560 - val_loss: 0.6325 - val_accuracy: 0.6296\n",
            "Epoch 124/150\n",
            "25/25 [==============================] - 0s 3ms/step - loss: 0.6305 - accuracy: 0.6240 - val_loss: 0.6351 - val_accuracy: 0.5926\n",
            "Epoch 125/150\n",
            "25/25 [==============================] - 0s 3ms/step - loss: 0.6248 - accuracy: 0.6640 - val_loss: 0.6307 - val_accuracy: 0.6296\n",
            "Epoch 126/150\n",
            "25/25 [==============================] - 0s 3ms/step - loss: 0.6227 - accuracy: 0.6640 - val_loss: 0.6339 - val_accuracy: 0.5926\n",
            "Epoch 127/150\n",
            "25/25 [==============================] - 0s 3ms/step - loss: 0.6238 - accuracy: 0.6640 - val_loss: 0.6331 - val_accuracy: 0.5926\n",
            "Epoch 128/150\n",
            "25/25 [==============================] - 0s 3ms/step - loss: 0.6253 - accuracy: 0.6640 - val_loss: 0.6301 - val_accuracy: 0.6296\n",
            "Epoch 129/150\n",
            "25/25 [==============================] - 0s 3ms/step - loss: 0.6274 - accuracy: 0.6640 - val_loss: 0.6343 - val_accuracy: 0.6296\n",
            "Epoch 130/150\n",
            "25/25 [==============================] - 0s 3ms/step - loss: 0.6235 - accuracy: 0.6560 - val_loss: 0.6310 - val_accuracy: 0.6296\n",
            "Epoch 131/150\n",
            "25/25 [==============================] - 0s 3ms/step - loss: 0.6291 - accuracy: 0.6560 - val_loss: 0.6400 - val_accuracy: 0.5926\n",
            "Epoch 132/150\n",
            "25/25 [==============================] - 0s 3ms/step - loss: 0.6224 - accuracy: 0.6560 - val_loss: 0.6309 - val_accuracy: 0.6296\n",
            "Epoch 133/150\n",
            "25/25 [==============================] - 0s 4ms/step - loss: 0.6227 - accuracy: 0.6640 - val_loss: 0.6355 - val_accuracy: 0.6296\n",
            "Epoch 134/150\n",
            "25/25 [==============================] - 0s 3ms/step - loss: 0.6229 - accuracy: 0.6640 - val_loss: 0.6353 - val_accuracy: 0.5926\n",
            "Epoch 135/150\n",
            "25/25 [==============================] - 0s 3ms/step - loss: 0.6214 - accuracy: 0.6640 - val_loss: 0.6369 - val_accuracy: 0.5926\n",
            "Epoch 136/150\n",
            "25/25 [==============================] - 0s 4ms/step - loss: 0.6236 - accuracy: 0.6560 - val_loss: 0.6323 - val_accuracy: 0.6296\n",
            "Epoch 137/150\n",
            "25/25 [==============================] - 0s 3ms/step - loss: 0.6197 - accuracy: 0.6640 - val_loss: 0.6352 - val_accuracy: 0.6296\n",
            "Epoch 138/150\n",
            "25/25 [==============================] - 0s 3ms/step - loss: 0.6214 - accuracy: 0.6720 - val_loss: 0.6344 - val_accuracy: 0.6296\n",
            "Epoch 139/150\n",
            "25/25 [==============================] - 0s 4ms/step - loss: 0.6195 - accuracy: 0.6800 - val_loss: 0.6374 - val_accuracy: 0.5926\n",
            "Epoch 140/150\n",
            "25/25 [==============================] - 0s 3ms/step - loss: 0.6198 - accuracy: 0.6720 - val_loss: 0.6392 - val_accuracy: 0.5926\n",
            "Epoch 141/150\n",
            "25/25 [==============================] - 0s 3ms/step - loss: 0.6193 - accuracy: 0.6720 - val_loss: 0.6340 - val_accuracy: 0.6296\n",
            "Epoch 142/150\n",
            "25/25 [==============================] - 0s 3ms/step - loss: 0.6202 - accuracy: 0.6640 - val_loss: 0.6349 - val_accuracy: 0.6296\n",
            "Epoch 143/150\n",
            "25/25 [==============================] - 0s 5ms/step - loss: 0.6186 - accuracy: 0.6800 - val_loss: 0.6350 - val_accuracy: 0.6296\n",
            "Epoch 144/150\n",
            "25/25 [==============================] - 0s 4ms/step - loss: 0.6188 - accuracy: 0.6960 - val_loss: 0.6373 - val_accuracy: 0.6296\n",
            "Epoch 145/150\n",
            "25/25 [==============================] - 0s 4ms/step - loss: 0.6193 - accuracy: 0.6800 - val_loss: 0.6375 - val_accuracy: 0.5926\n",
            "Epoch 146/150\n",
            "25/25 [==============================] - 0s 3ms/step - loss: 0.6173 - accuracy: 0.6880 - val_loss: 0.6385 - val_accuracy: 0.6296\n",
            "Epoch 147/150\n",
            "25/25 [==============================] - 0s 3ms/step - loss: 0.6176 - accuracy: 0.6880 - val_loss: 0.6378 - val_accuracy: 0.6296\n",
            "Epoch 148/150\n",
            "25/25 [==============================] - 0s 3ms/step - loss: 0.6186 - accuracy: 0.6720 - val_loss: 0.6423 - val_accuracy: 0.5926\n",
            "Epoch 149/150\n",
            "25/25 [==============================] - 0s 3ms/step - loss: 0.6169 - accuracy: 0.6800 - val_loss: 0.6351 - val_accuracy: 0.6296\n",
            "Epoch 150/150\n",
            "25/25 [==============================] - 0s 3ms/step - loss: 0.6156 - accuracy: 0.6880 - val_loss: 0.6392 - val_accuracy: 0.6296\n"
          ]
        }
      ]
    },
    {
      "cell_type": "code",
      "source": [
        "model12.evaluate(X_test, y_test)"
      ],
      "metadata": {
        "colab": {
          "base_uri": "https://localhost:8080/"
        },
        "id": "6-hHajVs71Ly",
        "outputId": "5218b596-9235-49c2-8600-e697a2bbe0bc"
      },
      "execution_count": 902,
      "outputs": [
        {
          "output_type": "stream",
          "name": "stdout",
          "text": [
            "1/1 [==============================] - 0s 21ms/step - loss: 8.1560 - accuracy: 0.6087\n"
          ]
        },
        {
          "output_type": "execute_result",
          "data": {
            "text/plain": [
              "[8.156012535095215, 0.6086956262588501]"
            ]
          },
          "metadata": {},
          "execution_count": 902
        }
      ]
    },
    {
      "cell_type": "code",
      "source": [
        "model12 = tf.keras.models.load_model(f\"/content/model_experiments/{model12.name}\")\n",
        "model12.evaluate(X_test, y_test)"
      ],
      "metadata": {
        "id": "iB5xbBGeq_Tn",
        "outputId": "e3574b79-9cc1-4b2f-adce-bd2e739e5134",
        "colab": {
          "base_uri": "https://localhost:8080/"
        }
      },
      "execution_count": 903,
      "outputs": [
        {
          "output_type": "stream",
          "name": "stdout",
          "text": [
            "1/1 [==============================] - 0s 127ms/step - loss: 4.1998 - accuracy: 0.6087\n"
          ]
        },
        {
          "output_type": "execute_result",
          "data": {
            "text/plain": [
              "[4.1997599601745605, 0.6086956262588501]"
            ]
          },
          "metadata": {},
          "execution_count": 903
        }
      ]
    },
    {
      "cell_type": "code",
      "source": [
        "tf.random.set_seed(42)\n",
        "\n",
        "model13 = tf.keras.Sequential([\n",
        "    tf.keras.layers.Dense(5, activation='relu'),\n",
        "    tf.keras.layers.Dense(10, activation='relu'),\n",
        "    tf.keras.layers.Dense(10, activation='relu'),\n",
        "\n",
        "    # tf.keras.layers.Dense(20, activation='relu'),\n",
        "    # tf.keras.layers.Dense(10, activation='relu'),\n",
        "\n",
        "    # tf.keras.layers.Dense(256, activation='relu'),\n",
        "    tf.keras.layers.Dense(1, activation='sigmoid')\n",
        "])\n",
        "\n",
        "model13.compile(\n",
        "    loss=tf.keras.losses.binary_crossentropy,\n",
        "    optimizer=tf.keras.optimizers.Adam(0.001),\n",
        "    metrics=[\"accuracy\"]\n",
        ")\n",
        "\n",
        "\n",
        "history13 = model13.fit(X_train_scaled, \n",
        "                    y_train, \n",
        "                    epochs=150,\n",
        "                    batch_size=5,\n",
        "                    validation_data = (X_valid_scaled, y_valid),\n",
        "                    callbacks=[create_model_checkpoint(model_name=model13.name)])"
      ],
      "metadata": {
        "id": "etsSl4HktL8C",
        "outputId": "20143aab-391d-4ecf-f5ad-ba4d6dfe563b",
        "colab": {
          "base_uri": "https://localhost:8080/"
        }
      },
      "execution_count": 904,
      "outputs": [
        {
          "output_type": "stream",
          "name": "stdout",
          "text": [
            "Epoch 1/150\n",
            " 1/25 [>.............................] - ETA: 11s - loss: 0.6895 - accuracy: 0.6000INFO:tensorflow:Assets written to: model_experiments/sequential_87/assets\n",
            "25/25 [==============================] - 1s 38ms/step - loss: 0.6937 - accuracy: 0.4800 - val_loss: 0.6891 - val_accuracy: 0.6667\n",
            "Epoch 2/150\n",
            "25/25 [==============================] - 0s 4ms/step - loss: 0.6906 - accuracy: 0.5600 - val_loss: 0.6837 - val_accuracy: 0.6296\n",
            "Epoch 3/150\n",
            "25/25 [==============================] - 0s 3ms/step - loss: 0.6876 - accuracy: 0.5760 - val_loss: 0.6809 - val_accuracy: 0.6296\n",
            "Epoch 4/150\n",
            "25/25 [==============================] - 0s 3ms/step - loss: 0.6854 - accuracy: 0.5760 - val_loss: 0.6760 - val_accuracy: 0.6296\n",
            "Epoch 5/150\n",
            "25/25 [==============================] - 0s 4ms/step - loss: 0.6830 - accuracy: 0.5760 - val_loss: 0.6733 - val_accuracy: 0.6296\n",
            "Epoch 6/150\n",
            "25/25 [==============================] - 0s 3ms/step - loss: 0.6826 - accuracy: 0.5760 - val_loss: 0.6695 - val_accuracy: 0.6296\n",
            "Epoch 7/150\n",
            "25/25 [==============================] - 0s 4ms/step - loss: 0.6798 - accuracy: 0.5760 - val_loss: 0.6685 - val_accuracy: 0.6296\n",
            "Epoch 8/150\n",
            "25/25 [==============================] - 0s 3ms/step - loss: 0.6797 - accuracy: 0.5760 - val_loss: 0.6662 - val_accuracy: 0.6296\n",
            "Epoch 9/150\n",
            "25/25 [==============================] - 0s 3ms/step - loss: 0.6778 - accuracy: 0.5760 - val_loss: 0.6648 - val_accuracy: 0.6296\n",
            "Epoch 10/150\n",
            "25/25 [==============================] - 0s 3ms/step - loss: 0.6765 - accuracy: 0.5760 - val_loss: 0.6632 - val_accuracy: 0.6296\n",
            "Epoch 11/150\n",
            "25/25 [==============================] - 0s 3ms/step - loss: 0.6765 - accuracy: 0.5760 - val_loss: 0.6612 - val_accuracy: 0.6296\n",
            "Epoch 12/150\n",
            "25/25 [==============================] - 0s 3ms/step - loss: 0.6757 - accuracy: 0.5760 - val_loss: 0.6613 - val_accuracy: 0.6296\n",
            "Epoch 13/150\n",
            "25/25 [==============================] - 0s 3ms/step - loss: 0.6748 - accuracy: 0.5760 - val_loss: 0.6609 - val_accuracy: 0.6296\n",
            "Epoch 14/150\n",
            "25/25 [==============================] - 0s 4ms/step - loss: 0.6750 - accuracy: 0.5760 - val_loss: 0.6590 - val_accuracy: 0.6296\n",
            "Epoch 15/150\n",
            "25/25 [==============================] - 0s 3ms/step - loss: 0.6728 - accuracy: 0.5760 - val_loss: 0.6593 - val_accuracy: 0.6296\n",
            "Epoch 16/150\n",
            "25/25 [==============================] - 0s 3ms/step - loss: 0.6725 - accuracy: 0.5760 - val_loss: 0.6582 - val_accuracy: 0.6296\n",
            "Epoch 17/150\n",
            "25/25 [==============================] - 0s 4ms/step - loss: 0.6719 - accuracy: 0.5760 - val_loss: 0.6580 - val_accuracy: 0.6296\n",
            "Epoch 18/150\n",
            "25/25 [==============================] - 0s 3ms/step - loss: 0.6708 - accuracy: 0.5760 - val_loss: 0.6569 - val_accuracy: 0.6296\n",
            "Epoch 19/150\n",
            "25/25 [==============================] - 0s 3ms/step - loss: 0.6709 - accuracy: 0.5760 - val_loss: 0.6567 - val_accuracy: 0.6296\n",
            "Epoch 20/150\n",
            "25/25 [==============================] - 0s 3ms/step - loss: 0.6700 - accuracy: 0.5760 - val_loss: 0.6563 - val_accuracy: 0.6296\n",
            "Epoch 21/150\n",
            "25/25 [==============================] - 0s 4ms/step - loss: 0.6695 - accuracy: 0.5760 - val_loss: 0.6560 - val_accuracy: 0.6296\n",
            "Epoch 22/150\n",
            "25/25 [==============================] - 0s 4ms/step - loss: 0.6713 - accuracy: 0.5760 - val_loss: 0.6542 - val_accuracy: 0.6296\n",
            "Epoch 23/150\n",
            "25/25 [==============================] - 0s 3ms/step - loss: 0.6696 - accuracy: 0.5760 - val_loss: 0.6570 - val_accuracy: 0.6667\n",
            "Epoch 24/150\n",
            "25/25 [==============================] - 0s 3ms/step - loss: 0.6672 - accuracy: 0.5680 - val_loss: 0.6555 - val_accuracy: 0.6667\n",
            "Epoch 25/150\n",
            "25/25 [==============================] - 0s 3ms/step - loss: 0.6667 - accuracy: 0.5680 - val_loss: 0.6552 - val_accuracy: 0.6667\n",
            "Epoch 26/150\n",
            "25/25 [==============================] - 0s 3ms/step - loss: 0.6663 - accuracy: 0.5680 - val_loss: 0.6546 - val_accuracy: 0.6667\n",
            "Epoch 27/150\n",
            "25/25 [==============================] - 0s 3ms/step - loss: 0.6654 - accuracy: 0.6000 - val_loss: 0.6559 - val_accuracy: 0.6667\n",
            "Epoch 28/150\n",
            "25/25 [==============================] - 0s 4ms/step - loss: 0.6646 - accuracy: 0.6080 - val_loss: 0.6556 - val_accuracy: 0.6667\n",
            "Epoch 29/150\n",
            "25/25 [==============================] - 0s 3ms/step - loss: 0.6642 - accuracy: 0.6160 - val_loss: 0.6555 - val_accuracy: 0.6667\n",
            "Epoch 30/150\n",
            "25/25 [==============================] - 0s 3ms/step - loss: 0.6636 - accuracy: 0.6000 - val_loss: 0.6551 - val_accuracy: 0.6667\n",
            "Epoch 31/150\n",
            "25/25 [==============================] - 0s 3ms/step - loss: 0.6657 - accuracy: 0.6080 - val_loss: 0.6553 - val_accuracy: 0.6296\n",
            "Epoch 32/150\n",
            "25/25 [==============================] - 0s 4ms/step - loss: 0.6637 - accuracy: 0.6240 - val_loss: 0.6528 - val_accuracy: 0.6667\n",
            "Epoch 33/150\n",
            "25/25 [==============================] - 0s 4ms/step - loss: 0.6626 - accuracy: 0.6000 - val_loss: 0.6531 - val_accuracy: 0.6667\n",
            "Epoch 34/150\n",
            "25/25 [==============================] - 0s 3ms/step - loss: 0.6629 - accuracy: 0.6160 - val_loss: 0.6558 - val_accuracy: 0.5926\n",
            "Epoch 35/150\n",
            "25/25 [==============================] - 0s 3ms/step - loss: 0.6612 - accuracy: 0.6160 - val_loss: 0.6564 - val_accuracy: 0.5926\n",
            "Epoch 36/150\n",
            "25/25 [==============================] - 0s 3ms/step - loss: 0.6598 - accuracy: 0.6240 - val_loss: 0.6540 - val_accuracy: 0.6296\n",
            "Epoch 37/150\n",
            "25/25 [==============================] - 0s 3ms/step - loss: 0.6606 - accuracy: 0.6000 - val_loss: 0.6546 - val_accuracy: 0.6296\n",
            "Epoch 38/150\n",
            "25/25 [==============================] - 0s 3ms/step - loss: 0.6611 - accuracy: 0.6160 - val_loss: 0.6577 - val_accuracy: 0.5926\n",
            "Epoch 39/150\n",
            "25/25 [==============================] - 0s 4ms/step - loss: 0.6582 - accuracy: 0.6320 - val_loss: 0.6567 - val_accuracy: 0.5926\n",
            "Epoch 40/150\n",
            "25/25 [==============================] - 0s 3ms/step - loss: 0.6575 - accuracy: 0.6320 - val_loss: 0.6557 - val_accuracy: 0.5926\n",
            "Epoch 41/150\n",
            "25/25 [==============================] - 0s 4ms/step - loss: 0.6579 - accuracy: 0.6320 - val_loss: 0.6562 - val_accuracy: 0.5926\n",
            "Epoch 42/150\n",
            "25/25 [==============================] - 0s 3ms/step - loss: 0.6562 - accuracy: 0.6400 - val_loss: 0.6530 - val_accuracy: 0.5926\n",
            "Epoch 43/150\n",
            "25/25 [==============================] - 0s 3ms/step - loss: 0.6564 - accuracy: 0.6320 - val_loss: 0.6555 - val_accuracy: 0.5926\n",
            "Epoch 44/150\n",
            "25/25 [==============================] - 0s 4ms/step - loss: 0.6562 - accuracy: 0.6400 - val_loss: 0.6551 - val_accuracy: 0.5926\n",
            "Epoch 45/150\n",
            "25/25 [==============================] - 0s 3ms/step - loss: 0.6566 - accuracy: 0.6320 - val_loss: 0.6546 - val_accuracy: 0.5926\n",
            "Epoch 46/150\n",
            "25/25 [==============================] - 0s 3ms/step - loss: 0.6559 - accuracy: 0.6160 - val_loss: 0.6535 - val_accuracy: 0.5926\n",
            "Epoch 47/150\n",
            "25/25 [==============================] - 0s 4ms/step - loss: 0.6542 - accuracy: 0.6480 - val_loss: 0.6537 - val_accuracy: 0.5926\n",
            "Epoch 48/150\n",
            "25/25 [==============================] - 0s 3ms/step - loss: 0.6575 - accuracy: 0.6240 - val_loss: 0.6559 - val_accuracy: 0.5556\n",
            "Epoch 49/150\n",
            "25/25 [==============================] - 0s 3ms/step - loss: 0.6532 - accuracy: 0.6480 - val_loss: 0.6495 - val_accuracy: 0.5926\n",
            "Epoch 50/150\n",
            "25/25 [==============================] - 0s 3ms/step - loss: 0.6542 - accuracy: 0.6320 - val_loss: 0.6516 - val_accuracy: 0.5926\n",
            "Epoch 51/150\n",
            "25/25 [==============================] - 0s 3ms/step - loss: 0.6531 - accuracy: 0.6320 - val_loss: 0.6498 - val_accuracy: 0.5926\n",
            "Epoch 52/150\n",
            "25/25 [==============================] - 0s 4ms/step - loss: 0.6527 - accuracy: 0.6400 - val_loss: 0.6493 - val_accuracy: 0.5926\n",
            "Epoch 53/150\n",
            "25/25 [==============================] - 0s 4ms/step - loss: 0.6520 - accuracy: 0.6400 - val_loss: 0.6534 - val_accuracy: 0.5185\n",
            "Epoch 54/150\n",
            "25/25 [==============================] - 0s 3ms/step - loss: 0.6514 - accuracy: 0.6240 - val_loss: 0.6511 - val_accuracy: 0.5926\n",
            "Epoch 55/150\n",
            "25/25 [==============================] - 0s 3ms/step - loss: 0.6521 - accuracy: 0.6480 - val_loss: 0.6482 - val_accuracy: 0.5926\n",
            "Epoch 56/150\n",
            "25/25 [==============================] - 0s 4ms/step - loss: 0.6503 - accuracy: 0.6320 - val_loss: 0.6517 - val_accuracy: 0.5185\n",
            "Epoch 57/150\n",
            "25/25 [==============================] - 0s 4ms/step - loss: 0.6525 - accuracy: 0.6320 - val_loss: 0.6494 - val_accuracy: 0.5926\n",
            "Epoch 58/150\n",
            "25/25 [==============================] - 0s 3ms/step - loss: 0.6498 - accuracy: 0.6240 - val_loss: 0.6500 - val_accuracy: 0.5556\n",
            "Epoch 59/150\n",
            "25/25 [==============================] - 0s 3ms/step - loss: 0.6494 - accuracy: 0.6240 - val_loss: 0.6503 - val_accuracy: 0.5185\n",
            "Epoch 60/150\n",
            "25/25 [==============================] - 0s 4ms/step - loss: 0.6514 - accuracy: 0.6080 - val_loss: 0.6478 - val_accuracy: 0.5926\n",
            "Epoch 61/150\n",
            "25/25 [==============================] - 0s 4ms/step - loss: 0.6530 - accuracy: 0.6080 - val_loss: 0.6504 - val_accuracy: 0.5556\n",
            "Epoch 62/150\n",
            "25/25 [==============================] - 0s 3ms/step - loss: 0.6496 - accuracy: 0.6080 - val_loss: 0.6487 - val_accuracy: 0.5556\n",
            "Epoch 63/150\n",
            "25/25 [==============================] - 0s 4ms/step - loss: 0.6513 - accuracy: 0.6160 - val_loss: 0.6491 - val_accuracy: 0.5556\n",
            "Epoch 64/150\n",
            "25/25 [==============================] - 0s 3ms/step - loss: 0.6505 - accuracy: 0.6080 - val_loss: 0.6421 - val_accuracy: 0.6296\n",
            "Epoch 65/150\n",
            "25/25 [==============================] - 0s 3ms/step - loss: 0.6467 - accuracy: 0.6320 - val_loss: 0.6473 - val_accuracy: 0.5926\n",
            "Epoch 66/150\n",
            "25/25 [==============================] - 0s 3ms/step - loss: 0.6469 - accuracy: 0.6320 - val_loss: 0.6491 - val_accuracy: 0.5556\n",
            "Epoch 67/150\n",
            "25/25 [==============================] - 0s 3ms/step - loss: 0.6472 - accuracy: 0.6320 - val_loss: 0.6469 - val_accuracy: 0.5556\n",
            "Epoch 68/150\n",
            "25/25 [==============================] - 0s 3ms/step - loss: 0.6465 - accuracy: 0.6160 - val_loss: 0.6460 - val_accuracy: 0.5556\n",
            "Epoch 69/150\n",
            "25/25 [==============================] - 0s 3ms/step - loss: 0.6465 - accuracy: 0.6160 - val_loss: 0.6442 - val_accuracy: 0.6296\n",
            "Epoch 70/150\n",
            "25/25 [==============================] - 0s 4ms/step - loss: 0.6464 - accuracy: 0.6320 - val_loss: 0.6460 - val_accuracy: 0.5556\n",
            "Epoch 71/150\n",
            "25/25 [==============================] - 0s 4ms/step - loss: 0.6480 - accuracy: 0.6240 - val_loss: 0.6485 - val_accuracy: 0.4815\n",
            "Epoch 72/150\n",
            "25/25 [==============================] - 0s 4ms/step - loss: 0.6467 - accuracy: 0.6240 - val_loss: 0.6430 - val_accuracy: 0.5556\n",
            "Epoch 73/150\n",
            "25/25 [==============================] - 0s 3ms/step - loss: 0.6448 - accuracy: 0.6320 - val_loss: 0.6426 - val_accuracy: 0.5556\n",
            "Epoch 74/150\n",
            "25/25 [==============================] - 0s 3ms/step - loss: 0.6456 - accuracy: 0.6320 - val_loss: 0.6399 - val_accuracy: 0.6296\n",
            "Epoch 75/150\n",
            "25/25 [==============================] - 0s 3ms/step - loss: 0.6438 - accuracy: 0.6240 - val_loss: 0.6476 - val_accuracy: 0.4815\n",
            "Epoch 76/150\n",
            "25/25 [==============================] - 0s 4ms/step - loss: 0.6445 - accuracy: 0.6320 - val_loss: 0.6463 - val_accuracy: 0.4815\n",
            "Epoch 77/150\n",
            "25/25 [==============================] - 0s 3ms/step - loss: 0.6439 - accuracy: 0.6160 - val_loss: 0.6443 - val_accuracy: 0.5185\n",
            "Epoch 78/150\n",
            "25/25 [==============================] - 0s 3ms/step - loss: 0.6418 - accuracy: 0.6240 - val_loss: 0.6406 - val_accuracy: 0.5926\n",
            "Epoch 79/150\n",
            "25/25 [==============================] - 0s 3ms/step - loss: 0.6421 - accuracy: 0.6400 - val_loss: 0.6448 - val_accuracy: 0.5185\n",
            "Epoch 80/150\n",
            "25/25 [==============================] - 0s 3ms/step - loss: 0.6424 - accuracy: 0.6080 - val_loss: 0.6390 - val_accuracy: 0.5926\n",
            "Epoch 81/150\n",
            "25/25 [==============================] - 0s 4ms/step - loss: 0.6415 - accuracy: 0.6400 - val_loss: 0.6447 - val_accuracy: 0.5185\n",
            "Epoch 82/150\n",
            "25/25 [==============================] - 0s 3ms/step - loss: 0.6408 - accuracy: 0.6160 - val_loss: 0.6435 - val_accuracy: 0.5185\n",
            "Epoch 83/150\n",
            "25/25 [==============================] - 0s 4ms/step - loss: 0.6419 - accuracy: 0.6080 - val_loss: 0.6371 - val_accuracy: 0.6667\n",
            "Epoch 84/150\n",
            "25/25 [==============================] - 0s 3ms/step - loss: 0.6415 - accuracy: 0.6240 - val_loss: 0.6414 - val_accuracy: 0.5556\n",
            "Epoch 85/150\n",
            "25/25 [==============================] - 0s 4ms/step - loss: 0.6398 - accuracy: 0.6400 - val_loss: 0.6395 - val_accuracy: 0.5556\n",
            "Epoch 86/150\n",
            "25/25 [==============================] - 0s 3ms/step - loss: 0.6386 - accuracy: 0.6240 - val_loss: 0.6429 - val_accuracy: 0.5185\n",
            "Epoch 87/150\n",
            "25/25 [==============================] - 0s 3ms/step - loss: 0.6387 - accuracy: 0.6160 - val_loss: 0.6416 - val_accuracy: 0.5556\n",
            "Epoch 88/150\n",
            "25/25 [==============================] - 0s 4ms/step - loss: 0.6393 - accuracy: 0.6240 - val_loss: 0.6423 - val_accuracy: 0.5185\n",
            "Epoch 89/150\n",
            "25/25 [==============================] - 0s 4ms/step - loss: 0.6382 - accuracy: 0.6400 - val_loss: 0.6392 - val_accuracy: 0.5556\n",
            "Epoch 90/150\n",
            "25/25 [==============================] - 0s 3ms/step - loss: 0.6408 - accuracy: 0.6320 - val_loss: 0.6419 - val_accuracy: 0.5185\n",
            "Epoch 91/150\n",
            "25/25 [==============================] - 0s 4ms/step - loss: 0.6363 - accuracy: 0.6240 - val_loss: 0.6380 - val_accuracy: 0.5556\n",
            "Epoch 92/150\n",
            "25/25 [==============================] - 0s 3ms/step - loss: 0.6370 - accuracy: 0.6320 - val_loss: 0.6385 - val_accuracy: 0.5556\n",
            "Epoch 93/150\n",
            "25/25 [==============================] - 0s 3ms/step - loss: 0.6361 - accuracy: 0.6320 - val_loss: 0.6395 - val_accuracy: 0.5556\n",
            "Epoch 94/150\n",
            "25/25 [==============================] - 0s 3ms/step - loss: 0.6374 - accuracy: 0.6240 - val_loss: 0.6443 - val_accuracy: 0.5185\n",
            "Epoch 95/150\n",
            "25/25 [==============================] - 0s 3ms/step - loss: 0.6342 - accuracy: 0.6240 - val_loss: 0.6359 - val_accuracy: 0.5926\n",
            "Epoch 96/150\n",
            "25/25 [==============================] - 0s 4ms/step - loss: 0.6378 - accuracy: 0.6400 - val_loss: 0.6363 - val_accuracy: 0.6296\n",
            "Epoch 97/150\n",
            "25/25 [==============================] - 0s 3ms/step - loss: 0.6340 - accuracy: 0.6240 - val_loss: 0.6379 - val_accuracy: 0.5556\n",
            "Epoch 98/150\n",
            "25/25 [==============================] - 0s 3ms/step - loss: 0.6367 - accuracy: 0.6240 - val_loss: 0.6399 - val_accuracy: 0.5185\n",
            "Epoch 99/150\n",
            "25/25 [==============================] - 0s 3ms/step - loss: 0.6345 - accuracy: 0.6560 - val_loss: 0.6432 - val_accuracy: 0.5185\n",
            "Epoch 100/150\n",
            "25/25 [==============================] - 0s 3ms/step - loss: 0.6357 - accuracy: 0.6400 - val_loss: 0.6358 - val_accuracy: 0.5926\n",
            "Epoch 101/150\n",
            "25/25 [==============================] - 0s 3ms/step - loss: 0.6314 - accuracy: 0.6560 - val_loss: 0.6383 - val_accuracy: 0.5185\n",
            "Epoch 102/150\n",
            "25/25 [==============================] - 0s 3ms/step - loss: 0.6333 - accuracy: 0.6320 - val_loss: 0.6367 - val_accuracy: 0.5556\n",
            "Epoch 103/150\n",
            "25/25 [==============================] - 0s 3ms/step - loss: 0.6305 - accuracy: 0.6480 - val_loss: 0.6383 - val_accuracy: 0.5185\n",
            "Epoch 104/150\n",
            "25/25 [==============================] - 0s 3ms/step - loss: 0.6343 - accuracy: 0.6480 - val_loss: 0.6435 - val_accuracy: 0.5185\n",
            "Epoch 105/150\n",
            "25/25 [==============================] - 0s 3ms/step - loss: 0.6289 - accuracy: 0.6400 - val_loss: 0.6346 - val_accuracy: 0.5926\n",
            "Epoch 106/150\n",
            "25/25 [==============================] - 0s 4ms/step - loss: 0.6303 - accuracy: 0.6480 - val_loss: 0.6339 - val_accuracy: 0.5926\n",
            "Epoch 107/150\n",
            "25/25 [==============================] - 0s 3ms/step - loss: 0.6304 - accuracy: 0.6400 - val_loss: 0.6365 - val_accuracy: 0.5556\n",
            "Epoch 108/150\n",
            "25/25 [==============================] - 0s 3ms/step - loss: 0.6289 - accuracy: 0.6480 - val_loss: 0.6364 - val_accuracy: 0.5556\n",
            "Epoch 109/150\n",
            "25/25 [==============================] - 0s 3ms/step - loss: 0.6282 - accuracy: 0.6640 - val_loss: 0.6378 - val_accuracy: 0.5185\n",
            "Epoch 110/150\n",
            "25/25 [==============================] - 0s 3ms/step - loss: 0.6289 - accuracy: 0.6560 - val_loss: 0.6402 - val_accuracy: 0.5185\n",
            "Epoch 111/150\n",
            "25/25 [==============================] - 0s 4ms/step - loss: 0.6289 - accuracy: 0.6400 - val_loss: 0.6369 - val_accuracy: 0.5185\n",
            "Epoch 112/150\n",
            "25/25 [==============================] - 0s 3ms/step - loss: 0.6282 - accuracy: 0.6560 - val_loss: 0.6413 - val_accuracy: 0.5185\n",
            "Epoch 113/150\n",
            "25/25 [==============================] - 0s 4ms/step - loss: 0.6263 - accuracy: 0.6480 - val_loss: 0.6385 - val_accuracy: 0.5185\n",
            "Epoch 114/150\n",
            "25/25 [==============================] - 0s 3ms/step - loss: 0.6262 - accuracy: 0.6480 - val_loss: 0.6308 - val_accuracy: 0.6296\n",
            "Epoch 115/150\n",
            "25/25 [==============================] - 0s 4ms/step - loss: 0.6265 - accuracy: 0.6560 - val_loss: 0.6360 - val_accuracy: 0.5926\n",
            "Epoch 116/150\n",
            "25/25 [==============================] - 0s 3ms/step - loss: 0.6268 - accuracy: 0.6400 - val_loss: 0.6340 - val_accuracy: 0.6296\n",
            "Epoch 117/150\n",
            "25/25 [==============================] - 0s 4ms/step - loss: 0.6271 - accuracy: 0.6240 - val_loss: 0.6373 - val_accuracy: 0.5185\n",
            "Epoch 118/150\n",
            "25/25 [==============================] - 0s 3ms/step - loss: 0.6248 - accuracy: 0.6560 - val_loss: 0.6346 - val_accuracy: 0.5926\n",
            "Epoch 119/150\n",
            "25/25 [==============================] - 0s 3ms/step - loss: 0.6247 - accuracy: 0.6480 - val_loss: 0.6394 - val_accuracy: 0.4815\n",
            "Epoch 120/150\n",
            "25/25 [==============================] - 0s 3ms/step - loss: 0.6259 - accuracy: 0.6560 - val_loss: 0.6371 - val_accuracy: 0.4815\n",
            "Epoch 121/150\n",
            "25/25 [==============================] - 0s 4ms/step - loss: 0.6238 - accuracy: 0.6400 - val_loss: 0.6389 - val_accuracy: 0.4815\n",
            "Epoch 122/150\n",
            "25/25 [==============================] - 0s 4ms/step - loss: 0.6252 - accuracy: 0.6400 - val_loss: 0.6377 - val_accuracy: 0.5185\n",
            "Epoch 123/150\n",
            "25/25 [==============================] - 0s 4ms/step - loss: 0.6259 - accuracy: 0.6560 - val_loss: 0.6304 - val_accuracy: 0.6296\n",
            "Epoch 124/150\n",
            "25/25 [==============================] - 0s 3ms/step - loss: 0.6264 - accuracy: 0.6480 - val_loss: 0.6384 - val_accuracy: 0.4815\n",
            "Epoch 125/150\n",
            "25/25 [==============================] - 0s 3ms/step - loss: 0.6225 - accuracy: 0.6480 - val_loss: 0.6311 - val_accuracy: 0.6296\n",
            "Epoch 126/150\n",
            "25/25 [==============================] - 0s 3ms/step - loss: 0.6215 - accuracy: 0.6560 - val_loss: 0.6373 - val_accuracy: 0.4815\n",
            "Epoch 127/150\n",
            "25/25 [==============================] - 0s 4ms/step - loss: 0.6213 - accuracy: 0.6480 - val_loss: 0.6393 - val_accuracy: 0.4815\n",
            "Epoch 128/150\n",
            "25/25 [==============================] - 0s 4ms/step - loss: 0.6230 - accuracy: 0.6560 - val_loss: 0.6347 - val_accuracy: 0.5926\n",
            "Epoch 129/150\n",
            "25/25 [==============================] - 0s 3ms/step - loss: 0.6244 - accuracy: 0.6640 - val_loss: 0.6374 - val_accuracy: 0.4815\n",
            "Epoch 130/150\n",
            "25/25 [==============================] - 0s 4ms/step - loss: 0.6212 - accuracy: 0.6480 - val_loss: 0.6298 - val_accuracy: 0.6296\n",
            "Epoch 131/150\n",
            "25/25 [==============================] - 0s 3ms/step - loss: 0.6250 - accuracy: 0.6720 - val_loss: 0.6409 - val_accuracy: 0.4815\n",
            "Epoch 132/150\n",
            "25/25 [==============================] - 0s 3ms/step - loss: 0.6191 - accuracy: 0.6720 - val_loss: 0.6321 - val_accuracy: 0.6296\n",
            "Epoch 133/150\n",
            "25/25 [==============================] - 0s 3ms/step - loss: 0.6195 - accuracy: 0.6800 - val_loss: 0.6350 - val_accuracy: 0.5185\n",
            "Epoch 134/150\n",
            "25/25 [==============================] - 0s 3ms/step - loss: 0.6194 - accuracy: 0.6640 - val_loss: 0.6376 - val_accuracy: 0.4815\n",
            "Epoch 135/150\n",
            "25/25 [==============================] - 0s 3ms/step - loss: 0.6189 - accuracy: 0.6640 - val_loss: 0.6376 - val_accuracy: 0.4815\n",
            "Epoch 136/150\n",
            "25/25 [==============================] - 0s 3ms/step - loss: 0.6205 - accuracy: 0.6480 - val_loss: 0.6337 - val_accuracy: 0.5185\n",
            "Epoch 137/150\n",
            "25/25 [==============================] - 0s 4ms/step - loss: 0.6167 - accuracy: 0.6800 - val_loss: 0.6364 - val_accuracy: 0.5185\n",
            "Epoch 138/150\n",
            "25/25 [==============================] - 0s 4ms/step - loss: 0.6184 - accuracy: 0.6560 - val_loss: 0.6348 - val_accuracy: 0.5185\n",
            "Epoch 139/150\n",
            "25/25 [==============================] - 0s 3ms/step - loss: 0.6169 - accuracy: 0.6800 - val_loss: 0.6391 - val_accuracy: 0.4815\n",
            "Epoch 140/150\n",
            "25/25 [==============================] - 0s 3ms/step - loss: 0.6174 - accuracy: 0.6480 - val_loss: 0.6430 - val_accuracy: 0.4815\n",
            "Epoch 141/150\n",
            "25/25 [==============================] - 0s 3ms/step - loss: 0.6166 - accuracy: 0.6720 - val_loss: 0.6291 - val_accuracy: 0.6296\n",
            "Epoch 142/150\n",
            "25/25 [==============================] - 0s 3ms/step - loss: 0.6176 - accuracy: 0.6400 - val_loss: 0.6364 - val_accuracy: 0.5556\n",
            "Epoch 143/150\n",
            "25/25 [==============================] - 0s 4ms/step - loss: 0.6157 - accuracy: 0.6880 - val_loss: 0.6323 - val_accuracy: 0.5926\n",
            "Epoch 144/150\n",
            "25/25 [==============================] - 0s 3ms/step - loss: 0.6166 - accuracy: 0.6640 - val_loss: 0.6326 - val_accuracy: 0.5926\n",
            "Epoch 145/150\n",
            "25/25 [==============================] - 0s 3ms/step - loss: 0.6168 - accuracy: 0.6640 - val_loss: 0.6388 - val_accuracy: 0.4815\n",
            "Epoch 146/150\n",
            "25/25 [==============================] - 0s 3ms/step - loss: 0.6150 - accuracy: 0.6720 - val_loss: 0.6366 - val_accuracy: 0.4815\n",
            "Epoch 147/150\n",
            "25/25 [==============================] - 0s 3ms/step - loss: 0.6138 - accuracy: 0.6880 - val_loss: 0.6339 - val_accuracy: 0.5556\n",
            "Epoch 148/150\n",
            "25/25 [==============================] - 0s 4ms/step - loss: 0.6151 - accuracy: 0.6560 - val_loss: 0.6431 - val_accuracy: 0.4815\n",
            "Epoch 149/150\n",
            "25/25 [==============================] - 0s 3ms/step - loss: 0.6124 - accuracy: 0.6640 - val_loss: 0.6290 - val_accuracy: 0.5926\n",
            "Epoch 150/150\n",
            "25/25 [==============================] - 0s 3ms/step - loss: 0.6127 - accuracy: 0.6720 - val_loss: 0.6331 - val_accuracy: 0.5556\n"
          ]
        }
      ]
    },
    {
      "cell_type": "code",
      "source": [
        "model13.evaluate(X_test, y_test)"
      ],
      "metadata": {
        "colab": {
          "base_uri": "https://localhost:8080/"
        },
        "id": "kTAuxujt72VG",
        "outputId": "e462cea5-4cb6-442e-bc73-d6dd6271b9ba"
      },
      "execution_count": 905,
      "outputs": [
        {
          "output_type": "stream",
          "name": "stdout",
          "text": [
            "1/1 [==============================] - 0s 21ms/step - loss: 4.5775 - accuracy: 0.6522\n"
          ]
        },
        {
          "output_type": "execute_result",
          "data": {
            "text/plain": [
              "[4.577537536621094, 0.6521739363670349]"
            ]
          },
          "metadata": {},
          "execution_count": 905
        }
      ]
    },
    {
      "cell_type": "code",
      "source": [
        "model13 = tf.keras.models.load_model(f\"/content/model_experiments/{model13.name}\")\n",
        "model13.evaluate(X_test, y_test)"
      ],
      "metadata": {
        "id": "FFd7l6LPrAGn",
        "outputId": "c3971884-8ec9-423d-ce38-2fc898bdc3df",
        "colab": {
          "base_uri": "https://localhost:8080/"
        }
      },
      "execution_count": 906,
      "outputs": [
        {
          "output_type": "stream",
          "name": "stdout",
          "text": [
            "1/1 [==============================] - 0s 135ms/step - loss: 0.6496 - accuracy: 0.6087\n"
          ]
        },
        {
          "output_type": "execute_result",
          "data": {
            "text/plain": [
              "[0.649634838104248, 0.6086956262588501]"
            ]
          },
          "metadata": {},
          "execution_count": 906
        }
      ]
    },
    {
      "cell_type": "code",
      "source": [
        "tf.random.set_seed(42)\n",
        "\n",
        "model14 = tf.keras.Sequential([\n",
        "    tf.keras.layers.Dense(5, activation='relu'),\n",
        "    tf.keras.layers.Dense(14, activation='relu'),\n",
        "    tf.keras.layers.Dense(14, activation='relu'),\n",
        "\n",
        "    tf.keras.layers.Dense(20, activation='relu'),\n",
        "    tf.keras.layers.Dense(10, activation='relu'),\n",
        "\n",
        "    # tf.keras.layers.Dense(256, activation='relu'),\n",
        "    tf.keras.layers.Dense(1, activation='sigmoid')\n",
        "])\n",
        "\n",
        "model14.compile(\n",
        "    loss=tf.keras.losses.binary_crossentropy,\n",
        "    optimizer=tf.keras.optimizers.Adam(0.001),\n",
        "    metrics=[\"accuracy\"]\n",
        ")\n",
        "\n",
        "\n",
        "history14 = model14.fit(X_train_scaled, \n",
        "                    y_train, \n",
        "                    epochs=150,\n",
        "                    batch_size=5,\n",
        "                    validation_data = (X_valid_scaled, y_valid),\n",
        "                    callbacks=[create_model_checkpoint(model_name=model14.name)])"
      ],
      "metadata": {
        "id": "T3c16NIOtOyF",
        "outputId": "3316c3d2-d0d2-4731-b745-5c18e4e6bd5e",
        "colab": {
          "base_uri": "https://localhost:8080/"
        }
      },
      "execution_count": 907,
      "outputs": [
        {
          "output_type": "stream",
          "name": "stdout",
          "text": [
            "Epoch 1/150\n",
            " 1/25 [>.............................] - ETA: 42s - loss: 0.7017 - accuracy: 0.2000INFO:tensorflow:Assets written to: model_experiments/sequential_88/assets\n",
            "25/25 [==============================] - 3s 49ms/step - loss: 0.6929 - accuracy: 0.5440 - val_loss: 0.6860 - val_accuracy: 0.6296\n",
            "Epoch 2/150\n",
            "25/25 [==============================] - 0s 4ms/step - loss: 0.6872 - accuracy: 0.5760 - val_loss: 0.6791 - val_accuracy: 0.6296\n",
            "Epoch 3/150\n",
            "25/25 [==============================] - 0s 3ms/step - loss: 0.6836 - accuracy: 0.5760 - val_loss: 0.6764 - val_accuracy: 0.6296\n",
            "Epoch 4/150\n",
            "25/25 [==============================] - 0s 4ms/step - loss: 0.6805 - accuracy: 0.5760 - val_loss: 0.6701 - val_accuracy: 0.6296\n",
            "Epoch 5/150\n",
            "25/25 [==============================] - 0s 4ms/step - loss: 0.6785 - accuracy: 0.5760 - val_loss: 0.6690 - val_accuracy: 0.6296\n",
            "Epoch 6/150\n",
            "25/25 [==============================] - 0s 4ms/step - loss: 0.6799 - accuracy: 0.5760 - val_loss: 0.6672 - val_accuracy: 0.6296\n",
            "Epoch 7/150\n",
            "25/25 [==============================] - 0s 4ms/step - loss: 0.6757 - accuracy: 0.5760 - val_loss: 0.6685 - val_accuracy: 0.6296\n",
            "Epoch 8/150\n",
            "25/25 [==============================] - 0s 4ms/step - loss: 0.6757 - accuracy: 0.5760 - val_loss: 0.6668 - val_accuracy: 0.6296\n",
            "Epoch 9/150\n",
            "25/25 [==============================] - 0s 4ms/step - loss: 0.6720 - accuracy: 0.5760 - val_loss: 0.6672 - val_accuracy: 0.6296\n",
            "Epoch 10/150\n",
            "25/25 [==============================] - 0s 4ms/step - loss: 0.6695 - accuracy: 0.5760 - val_loss: 0.6667 - val_accuracy: 0.6296\n",
            "Epoch 11/150\n",
            "25/25 [==============================] - 0s 4ms/step - loss: 0.6691 - accuracy: 0.5760 - val_loss: 0.6653 - val_accuracy: 0.6296\n",
            "Epoch 12/150\n",
            "25/25 [==============================] - 0s 4ms/step - loss: 0.6689 - accuracy: 0.5520 - val_loss: 0.6662 - val_accuracy: 0.6296\n",
            "Epoch 13/150\n",
            "25/25 [==============================] - 0s 3ms/step - loss: 0.6666 - accuracy: 0.5520 - val_loss: 0.6670 - val_accuracy: 0.5926\n",
            "Epoch 14/150\n",
            "25/25 [==============================] - 0s 4ms/step - loss: 0.6696 - accuracy: 0.6240 - val_loss: 0.6650 - val_accuracy: 0.6296\n",
            "Epoch 15/150\n",
            "25/25 [==============================] - 0s 4ms/step - loss: 0.6654 - accuracy: 0.5840 - val_loss: 0.6674 - val_accuracy: 0.5926\n",
            "Epoch 16/150\n",
            "25/25 [==============================] - 0s 4ms/step - loss: 0.6638 - accuracy: 0.6000 - val_loss: 0.6677 - val_accuracy: 0.5926\n",
            "Epoch 17/150\n",
            "25/25 [==============================] - 0s 4ms/step - loss: 0.6634 - accuracy: 0.6080 - val_loss: 0.6692 - val_accuracy: 0.5926\n",
            "Epoch 18/150\n",
            "25/25 [==============================] - 0s 4ms/step - loss: 0.6617 - accuracy: 0.6160 - val_loss: 0.6691 - val_accuracy: 0.5926\n",
            "Epoch 19/150\n",
            "25/25 [==============================] - 0s 4ms/step - loss: 0.6622 - accuracy: 0.6240 - val_loss: 0.6707 - val_accuracy: 0.5556\n",
            "Epoch 20/150\n",
            "25/25 [==============================] - 0s 4ms/step - loss: 0.6610 - accuracy: 0.6240 - val_loss: 0.6706 - val_accuracy: 0.5926\n",
            "Epoch 21/150\n",
            "25/25 [==============================] - 0s 4ms/step - loss: 0.6600 - accuracy: 0.6000 - val_loss: 0.6722 - val_accuracy: 0.5185\n",
            "Epoch 22/150\n",
            "25/25 [==============================] - 0s 4ms/step - loss: 0.6662 - accuracy: 0.6000 - val_loss: 0.6688 - val_accuracy: 0.5926\n",
            "Epoch 23/150\n",
            "25/25 [==============================] - 0s 4ms/step - loss: 0.6639 - accuracy: 0.5920 - val_loss: 0.6746 - val_accuracy: 0.4815\n",
            "Epoch 24/150\n",
            "25/25 [==============================] - 0s 4ms/step - loss: 0.6576 - accuracy: 0.6240 - val_loss: 0.6708 - val_accuracy: 0.5926\n",
            "Epoch 25/150\n",
            "25/25 [==============================] - 0s 3ms/step - loss: 0.6587 - accuracy: 0.6400 - val_loss: 0.6731 - val_accuracy: 0.5185\n",
            "Epoch 26/150\n",
            "25/25 [==============================] - 0s 4ms/step - loss: 0.6572 - accuracy: 0.6400 - val_loss: 0.6739 - val_accuracy: 0.5185\n",
            "Epoch 27/150\n",
            "25/25 [==============================] - 0s 5ms/step - loss: 0.6571 - accuracy: 0.6240 - val_loss: 0.6769 - val_accuracy: 0.5185\n",
            "Epoch 28/150\n",
            "25/25 [==============================] - 0s 4ms/step - loss: 0.6563 - accuracy: 0.6240 - val_loss: 0.6768 - val_accuracy: 0.5185\n",
            "Epoch 29/150\n",
            "25/25 [==============================] - 0s 3ms/step - loss: 0.6559 - accuracy: 0.6240 - val_loss: 0.6767 - val_accuracy: 0.5185\n",
            "Epoch 30/150\n",
            "25/25 [==============================] - 0s 3ms/step - loss: 0.6554 - accuracy: 0.6320 - val_loss: 0.6771 - val_accuracy: 0.5185\n",
            "Epoch 31/150\n",
            "25/25 [==============================] - 0s 4ms/step - loss: 0.6577 - accuracy: 0.6240 - val_loss: 0.6766 - val_accuracy: 0.5185\n",
            "Epoch 32/150\n",
            "25/25 [==============================] - 0s 3ms/step - loss: 0.6571 - accuracy: 0.6320 - val_loss: 0.6778 - val_accuracy: 0.5185\n",
            "Epoch 33/150\n",
            "25/25 [==============================] - 0s 3ms/step - loss: 0.6556 - accuracy: 0.6320 - val_loss: 0.6762 - val_accuracy: 0.5185\n",
            "Epoch 34/150\n",
            "25/25 [==============================] - 0s 3ms/step - loss: 0.6556 - accuracy: 0.6480 - val_loss: 0.6775 - val_accuracy: 0.5185\n",
            "Epoch 35/150\n",
            "25/25 [==============================] - 0s 4ms/step - loss: 0.6537 - accuracy: 0.6320 - val_loss: 0.6796 - val_accuracy: 0.5185\n",
            "Epoch 36/150\n",
            "25/25 [==============================] - 0s 3ms/step - loss: 0.6525 - accuracy: 0.6320 - val_loss: 0.6783 - val_accuracy: 0.5185\n",
            "Epoch 37/150\n",
            "25/25 [==============================] - 0s 4ms/step - loss: 0.6526 - accuracy: 0.6400 - val_loss: 0.6797 - val_accuracy: 0.5185\n",
            "Epoch 38/150\n",
            "25/25 [==============================] - 0s 3ms/step - loss: 0.6561 - accuracy: 0.6240 - val_loss: 0.6821 - val_accuracy: 0.4815\n",
            "Epoch 39/150\n",
            "25/25 [==============================] - 0s 3ms/step - loss: 0.6529 - accuracy: 0.6320 - val_loss: 0.6789 - val_accuracy: 0.5185\n",
            "Epoch 40/150\n",
            "25/25 [==============================] - 0s 4ms/step - loss: 0.6511 - accuracy: 0.6480 - val_loss: 0.6820 - val_accuracy: 0.5185\n",
            "Epoch 41/150\n",
            "25/25 [==============================] - 0s 3ms/step - loss: 0.6531 - accuracy: 0.6240 - val_loss: 0.6824 - val_accuracy: 0.5185\n",
            "Epoch 42/150\n",
            "25/25 [==============================] - 0s 3ms/step - loss: 0.6497 - accuracy: 0.6240 - val_loss: 0.6796 - val_accuracy: 0.5185\n",
            "Epoch 43/150\n",
            "25/25 [==============================] - 0s 3ms/step - loss: 0.6510 - accuracy: 0.6560 - val_loss: 0.6836 - val_accuracy: 0.4815\n",
            "Epoch 44/150\n",
            "25/25 [==============================] - 0s 4ms/step - loss: 0.6502 - accuracy: 0.6240 - val_loss: 0.6839 - val_accuracy: 0.5185\n",
            "Epoch 45/150\n",
            "25/25 [==============================] - 0s 4ms/step - loss: 0.6521 - accuracy: 0.6320 - val_loss: 0.6844 - val_accuracy: 0.5185\n",
            "Epoch 46/150\n",
            "25/25 [==============================] - 0s 4ms/step - loss: 0.6536 - accuracy: 0.6480 - val_loss: 0.6838 - val_accuracy: 0.5185\n",
            "Epoch 47/150\n",
            "25/25 [==============================] - 0s 3ms/step - loss: 0.6489 - accuracy: 0.6480 - val_loss: 0.6837 - val_accuracy: 0.5185\n",
            "Epoch 48/150\n",
            "25/25 [==============================] - 0s 4ms/step - loss: 0.6566 - accuracy: 0.6160 - val_loss: 0.6864 - val_accuracy: 0.4815\n",
            "Epoch 49/150\n",
            "25/25 [==============================] - 0s 4ms/step - loss: 0.6481 - accuracy: 0.6560 - val_loss: 0.6783 - val_accuracy: 0.5556\n",
            "Epoch 50/150\n",
            "25/25 [==============================] - 0s 3ms/step - loss: 0.6519 - accuracy: 0.6320 - val_loss: 0.6834 - val_accuracy: 0.5185\n",
            "Epoch 51/150\n",
            "25/25 [==============================] - 0s 3ms/step - loss: 0.6492 - accuracy: 0.6400 - val_loss: 0.6824 - val_accuracy: 0.5185\n",
            "Epoch 52/150\n",
            "25/25 [==============================] - 0s 3ms/step - loss: 0.6490 - accuracy: 0.6480 - val_loss: 0.6837 - val_accuracy: 0.5185\n",
            "Epoch 53/150\n",
            "25/25 [==============================] - 0s 4ms/step - loss: 0.6497 - accuracy: 0.6320 - val_loss: 0.6851 - val_accuracy: 0.4815\n",
            "Epoch 54/150\n",
            "25/25 [==============================] - 0s 3ms/step - loss: 0.6478 - accuracy: 0.6480 - val_loss: 0.6834 - val_accuracy: 0.5556\n",
            "Epoch 55/150\n",
            "25/25 [==============================] - 0s 4ms/step - loss: 0.6498 - accuracy: 0.6480 - val_loss: 0.6843 - val_accuracy: 0.5185\n",
            "Epoch 56/150\n",
            "25/25 [==============================] - 0s 4ms/step - loss: 0.6468 - accuracy: 0.6400 - val_loss: 0.6883 - val_accuracy: 0.5185\n",
            "Epoch 57/150\n",
            "25/25 [==============================] - 0s 3ms/step - loss: 0.6502 - accuracy: 0.6400 - val_loss: 0.6867 - val_accuracy: 0.5185\n",
            "Epoch 58/150\n",
            "25/25 [==============================] - 0s 3ms/step - loss: 0.6490 - accuracy: 0.6480 - val_loss: 0.6853 - val_accuracy: 0.5185\n",
            "Epoch 59/150\n",
            "25/25 [==============================] - 0s 4ms/step - loss: 0.6450 - accuracy: 0.6560 - val_loss: 0.6892 - val_accuracy: 0.5185\n",
            "Epoch 60/150\n",
            "25/25 [==============================] - 0s 4ms/step - loss: 0.6487 - accuracy: 0.6720 - val_loss: 0.6863 - val_accuracy: 0.5185\n",
            "Epoch 61/150\n",
            "25/25 [==============================] - 0s 3ms/step - loss: 0.6516 - accuracy: 0.6320 - val_loss: 0.6907 - val_accuracy: 0.5185\n",
            "Epoch 62/150\n",
            "25/25 [==============================] - 0s 3ms/step - loss: 0.6472 - accuracy: 0.6320 - val_loss: 0.6894 - val_accuracy: 0.5185\n",
            "Epoch 63/150\n",
            "25/25 [==============================] - 0s 4ms/step - loss: 0.6505 - accuracy: 0.6560 - val_loss: 0.6900 - val_accuracy: 0.5185\n",
            "Epoch 64/150\n",
            "25/25 [==============================] - 0s 3ms/step - loss: 0.6483 - accuracy: 0.6480 - val_loss: 0.6877 - val_accuracy: 0.5185\n",
            "Epoch 65/150\n",
            "25/25 [==============================] - 0s 3ms/step - loss: 0.6439 - accuracy: 0.6560 - val_loss: 0.6879 - val_accuracy: 0.5185\n",
            "Epoch 66/150\n",
            "25/25 [==============================] - 0s 4ms/step - loss: 0.6460 - accuracy: 0.6560 - val_loss: 0.6893 - val_accuracy: 0.4815\n",
            "Epoch 67/150\n",
            "25/25 [==============================] - 0s 3ms/step - loss: 0.6467 - accuracy: 0.6480 - val_loss: 0.6892 - val_accuracy: 0.5185\n",
            "Epoch 68/150\n",
            "25/25 [==============================] - 0s 3ms/step - loss: 0.6441 - accuracy: 0.6480 - val_loss: 0.6885 - val_accuracy: 0.5185\n",
            "Epoch 69/150\n",
            "25/25 [==============================] - 0s 3ms/step - loss: 0.6445 - accuracy: 0.6560 - val_loss: 0.6926 - val_accuracy: 0.5185\n",
            "Epoch 70/150\n",
            "25/25 [==============================] - 0s 3ms/step - loss: 0.6455 - accuracy: 0.6560 - val_loss: 0.6883 - val_accuracy: 0.5185\n",
            "Epoch 71/150\n",
            "25/25 [==============================] - 0s 4ms/step - loss: 0.6439 - accuracy: 0.6560 - val_loss: 0.6900 - val_accuracy: 0.5185\n",
            "Epoch 72/150\n",
            "25/25 [==============================] - 0s 3ms/step - loss: 0.6481 - accuracy: 0.6320 - val_loss: 0.6906 - val_accuracy: 0.5185\n",
            "Epoch 73/150\n",
            "25/25 [==============================] - 0s 4ms/step - loss: 0.6446 - accuracy: 0.6640 - val_loss: 0.6912 - val_accuracy: 0.5185\n",
            "Epoch 74/150\n",
            "25/25 [==============================] - 0s 4ms/step - loss: 0.6443 - accuracy: 0.6640 - val_loss: 0.6905 - val_accuracy: 0.5185\n",
            "Epoch 75/150\n",
            "25/25 [==============================] - 0s 4ms/step - loss: 0.6439 - accuracy: 0.6480 - val_loss: 0.6945 - val_accuracy: 0.4815\n",
            "Epoch 76/150\n",
            "25/25 [==============================] - 0s 3ms/step - loss: 0.6431 - accuracy: 0.6720 - val_loss: 0.6924 - val_accuracy: 0.5185\n",
            "Epoch 77/150\n",
            "25/25 [==============================] - 0s 4ms/step - loss: 0.6449 - accuracy: 0.6640 - val_loss: 0.6917 - val_accuracy: 0.4815\n",
            "Epoch 78/150\n",
            "25/25 [==============================] - 0s 3ms/step - loss: 0.6415 - accuracy: 0.6800 - val_loss: 0.6895 - val_accuracy: 0.5185\n",
            "Epoch 79/150\n",
            "25/25 [==============================] - 0s 4ms/step - loss: 0.6415 - accuracy: 0.6800 - val_loss: 0.6941 - val_accuracy: 0.5185\n",
            "Epoch 80/150\n",
            "25/25 [==============================] - 0s 5ms/step - loss: 0.6426 - accuracy: 0.6640 - val_loss: 0.6926 - val_accuracy: 0.5185\n",
            "Epoch 81/150\n",
            "25/25 [==============================] - 0s 3ms/step - loss: 0.6420 - accuracy: 0.6560 - val_loss: 0.6935 - val_accuracy: 0.5185\n",
            "Epoch 82/150\n",
            "25/25 [==============================] - 0s 3ms/step - loss: 0.6413 - accuracy: 0.6720 - val_loss: 0.6961 - val_accuracy: 0.5185\n",
            "Epoch 83/150\n",
            "25/25 [==============================] - 0s 3ms/step - loss: 0.6408 - accuracy: 0.6720 - val_loss: 0.6945 - val_accuracy: 0.5185\n",
            "Epoch 84/150\n",
            "25/25 [==============================] - 0s 3ms/step - loss: 0.6445 - accuracy: 0.6320 - val_loss: 0.6930 - val_accuracy: 0.5185\n",
            "Epoch 85/150\n",
            "25/25 [==============================] - 0s 4ms/step - loss: 0.6438 - accuracy: 0.6400 - val_loss: 0.6939 - val_accuracy: 0.5185\n",
            "Epoch 86/150\n",
            "25/25 [==============================] - 0s 4ms/step - loss: 0.6373 - accuracy: 0.6640 - val_loss: 0.6946 - val_accuracy: 0.5185\n",
            "Epoch 87/150\n",
            "25/25 [==============================] - 0s 4ms/step - loss: 0.6383 - accuracy: 0.6720 - val_loss: 0.6955 - val_accuracy: 0.5185\n",
            "Epoch 88/150\n",
            "25/25 [==============================] - 0s 3ms/step - loss: 0.6401 - accuracy: 0.6720 - val_loss: 0.6982 - val_accuracy: 0.4815\n",
            "Epoch 89/150\n",
            "25/25 [==============================] - 0s 3ms/step - loss: 0.6396 - accuracy: 0.6800 - val_loss: 0.6944 - val_accuracy: 0.5185\n",
            "Epoch 90/150\n",
            "25/25 [==============================] - 0s 3ms/step - loss: 0.6420 - accuracy: 0.6560 - val_loss: 0.6982 - val_accuracy: 0.5185\n",
            "Epoch 91/150\n",
            "25/25 [==============================] - 0s 3ms/step - loss: 0.6377 - accuracy: 0.6880 - val_loss: 0.6964 - val_accuracy: 0.5185\n",
            "Epoch 92/150\n",
            "25/25 [==============================] - 0s 4ms/step - loss: 0.6402 - accuracy: 0.6800 - val_loss: 0.6966 - val_accuracy: 0.5185\n",
            "Epoch 93/150\n",
            "25/25 [==============================] - 0s 4ms/step - loss: 0.6371 - accuracy: 0.6720 - val_loss: 0.6950 - val_accuracy: 0.5185\n",
            "Epoch 94/150\n",
            "25/25 [==============================] - 0s 3ms/step - loss: 0.6391 - accuracy: 0.6720 - val_loss: 0.6994 - val_accuracy: 0.5185\n",
            "Epoch 95/150\n",
            "25/25 [==============================] - 0s 3ms/step - loss: 0.6354 - accuracy: 0.6800 - val_loss: 0.6957 - val_accuracy: 0.5185\n",
            "Epoch 96/150\n",
            "25/25 [==============================] - 0s 4ms/step - loss: 0.6371 - accuracy: 0.6800 - val_loss: 0.6990 - val_accuracy: 0.4815\n",
            "Epoch 97/150\n",
            "25/25 [==============================] - 0s 4ms/step - loss: 0.6417 - accuracy: 0.6560 - val_loss: 0.6966 - val_accuracy: 0.5185\n",
            "Epoch 98/150\n",
            "25/25 [==============================] - 0s 3ms/step - loss: 0.6370 - accuracy: 0.6800 - val_loss: 0.7012 - val_accuracy: 0.5185\n",
            "Epoch 99/150\n",
            "25/25 [==============================] - 0s 3ms/step - loss: 0.6369 - accuracy: 0.6560 - val_loss: 0.6997 - val_accuracy: 0.4815\n",
            "Epoch 100/150\n",
            "25/25 [==============================] - 0s 4ms/step - loss: 0.6440 - accuracy: 0.6320 - val_loss: 0.6988 - val_accuracy: 0.5185\n",
            "Epoch 101/150\n",
            "25/25 [==============================] - 0s 4ms/step - loss: 0.6332 - accuracy: 0.6800 - val_loss: 0.7005 - val_accuracy: 0.4815\n",
            "Epoch 102/150\n",
            "25/25 [==============================] - 0s 5ms/step - loss: 0.6367 - accuracy: 0.6560 - val_loss: 0.6984 - val_accuracy: 0.5185\n",
            "Epoch 103/150\n",
            "25/25 [==============================] - 0s 3ms/step - loss: 0.6316 - accuracy: 0.6800 - val_loss: 0.6988 - val_accuracy: 0.4815\n",
            "Epoch 104/150\n",
            "25/25 [==============================] - 0s 4ms/step - loss: 0.6371 - accuracy: 0.6560 - val_loss: 0.7031 - val_accuracy: 0.4815\n",
            "Epoch 105/150\n",
            "25/25 [==============================] - 0s 4ms/step - loss: 0.6317 - accuracy: 0.6800 - val_loss: 0.7004 - val_accuracy: 0.5185\n",
            "Epoch 106/150\n",
            "25/25 [==============================] - 0s 3ms/step - loss: 0.6320 - accuracy: 0.6880 - val_loss: 0.7006 - val_accuracy: 0.4815\n",
            "Epoch 107/150\n",
            "25/25 [==============================] - 0s 4ms/step - loss: 0.6331 - accuracy: 0.6640 - val_loss: 0.7006 - val_accuracy: 0.5185\n",
            "Epoch 108/150\n",
            "25/25 [==============================] - 0s 4ms/step - loss: 0.6333 - accuracy: 0.6640 - val_loss: 0.7052 - val_accuracy: 0.4815\n",
            "Epoch 109/150\n",
            "25/25 [==============================] - 0s 3ms/step - loss: 0.6321 - accuracy: 0.6880 - val_loss: 0.7027 - val_accuracy: 0.4815\n",
            "Epoch 110/150\n",
            "25/25 [==============================] - 0s 4ms/step - loss: 0.6319 - accuracy: 0.6720 - val_loss: 0.7015 - val_accuracy: 0.4815\n",
            "Epoch 111/150\n",
            "25/25 [==============================] - 0s 4ms/step - loss: 0.6349 - accuracy: 0.6720 - val_loss: 0.7083 - val_accuracy: 0.4815\n",
            "Epoch 112/150\n",
            "25/25 [==============================] - 0s 3ms/step - loss: 0.6313 - accuracy: 0.6800 - val_loss: 0.7048 - val_accuracy: 0.4815\n",
            "Epoch 113/150\n",
            "25/25 [==============================] - 0s 4ms/step - loss: 0.6301 - accuracy: 0.6560 - val_loss: 0.7028 - val_accuracy: 0.4815\n",
            "Epoch 114/150\n",
            "25/25 [==============================] - 0s 4ms/step - loss: 0.6295 - accuracy: 0.6720 - val_loss: 0.7004 - val_accuracy: 0.5185\n",
            "Epoch 115/150\n",
            "25/25 [==============================] - 0s 4ms/step - loss: 0.6304 - accuracy: 0.6800 - val_loss: 0.7049 - val_accuracy: 0.4815\n",
            "Epoch 116/150\n",
            "25/25 [==============================] - 0s 3ms/step - loss: 0.6287 - accuracy: 0.6800 - val_loss: 0.7019 - val_accuracy: 0.4815\n",
            "Epoch 117/150\n",
            "25/25 [==============================] - 0s 4ms/step - loss: 0.6308 - accuracy: 0.6720 - val_loss: 0.7053 - val_accuracy: 0.4815\n",
            "Epoch 118/150\n",
            "25/25 [==============================] - 0s 4ms/step - loss: 0.6250 - accuracy: 0.6640 - val_loss: 0.7080 - val_accuracy: 0.4815\n",
            "Epoch 119/150\n",
            "25/25 [==============================] - 0s 4ms/step - loss: 0.6269 - accuracy: 0.6800 - val_loss: 0.7057 - val_accuracy: 0.5185\n",
            "Epoch 120/150\n",
            "25/25 [==============================] - 0s 5ms/step - loss: 0.6257 - accuracy: 0.6720 - val_loss: 0.7060 - val_accuracy: 0.5185\n",
            "Epoch 121/150\n",
            "25/25 [==============================] - 0s 4ms/step - loss: 0.6234 - accuracy: 0.6560 - val_loss: 0.7069 - val_accuracy: 0.4815\n",
            "Epoch 122/150\n",
            "25/25 [==============================] - 0s 3ms/step - loss: 0.6328 - accuracy: 0.6480 - val_loss: 0.7068 - val_accuracy: 0.5185\n",
            "Epoch 123/150\n",
            "25/25 [==============================] - 0s 3ms/step - loss: 0.6307 - accuracy: 0.6640 - val_loss: 0.7037 - val_accuracy: 0.4815\n",
            "Epoch 124/150\n",
            "25/25 [==============================] - 0s 3ms/step - loss: 0.6282 - accuracy: 0.6320 - val_loss: 0.7079 - val_accuracy: 0.5185\n",
            "Epoch 125/150\n",
            "25/25 [==============================] - 0s 4ms/step - loss: 0.6265 - accuracy: 0.6400 - val_loss: 0.7034 - val_accuracy: 0.4815\n",
            "Epoch 126/150\n",
            "25/25 [==============================] - 0s 3ms/step - loss: 0.6204 - accuracy: 0.6720 - val_loss: 0.7136 - val_accuracy: 0.5185\n",
            "Epoch 127/150\n",
            "25/25 [==============================] - 0s 4ms/step - loss: 0.6223 - accuracy: 0.6640 - val_loss: 0.7029 - val_accuracy: 0.5185\n",
            "Epoch 128/150\n",
            "25/25 [==============================] - 0s 4ms/step - loss: 0.6227 - accuracy: 0.6560 - val_loss: 0.7031 - val_accuracy: 0.5185\n",
            "Epoch 129/150\n",
            "25/25 [==============================] - 0s 4ms/step - loss: 0.6269 - accuracy: 0.6560 - val_loss: 0.7026 - val_accuracy: 0.5185\n",
            "Epoch 130/150\n",
            "25/25 [==============================] - 0s 4ms/step - loss: 0.6210 - accuracy: 0.6640 - val_loss: 0.7051 - val_accuracy: 0.4815\n",
            "Epoch 131/150\n",
            "25/25 [==============================] - 0s 5ms/step - loss: 0.6253 - accuracy: 0.6640 - val_loss: 0.7046 - val_accuracy: 0.4815\n",
            "Epoch 132/150\n",
            "25/25 [==============================] - 0s 4ms/step - loss: 0.6152 - accuracy: 0.6720 - val_loss: 0.6983 - val_accuracy: 0.5185\n",
            "Epoch 133/150\n",
            "25/25 [==============================] - 0s 4ms/step - loss: 0.6126 - accuracy: 0.6720 - val_loss: 0.7014 - val_accuracy: 0.5185\n",
            "Epoch 134/150\n",
            "25/25 [==============================] - 0s 3ms/step - loss: 0.6143 - accuracy: 0.6480 - val_loss: 0.7014 - val_accuracy: 0.5185\n",
            "Epoch 135/150\n",
            "25/25 [==============================] - 0s 4ms/step - loss: 0.6121 - accuracy: 0.6560 - val_loss: 0.7010 - val_accuracy: 0.5185\n",
            "Epoch 136/150\n",
            "25/25 [==============================] - 0s 3ms/step - loss: 0.6145 - accuracy: 0.6640 - val_loss: 0.7069 - val_accuracy: 0.5185\n",
            "Epoch 137/150\n",
            "25/25 [==============================] - 0s 4ms/step - loss: 0.6054 - accuracy: 0.6720 - val_loss: 0.7029 - val_accuracy: 0.5185\n",
            "Epoch 138/150\n",
            "25/25 [==============================] - 0s 4ms/step - loss: 0.6111 - accuracy: 0.6640 - val_loss: 0.7039 - val_accuracy: 0.5185\n",
            "Epoch 139/150\n",
            "25/25 [==============================] - 0s 4ms/step - loss: 0.6072 - accuracy: 0.6560 - val_loss: 0.7070 - val_accuracy: 0.5185\n",
            "Epoch 140/150\n",
            "25/25 [==============================] - 0s 3ms/step - loss: 0.6062 - accuracy: 0.6560 - val_loss: 0.7069 - val_accuracy: 0.4815\n",
            "Epoch 141/150\n",
            "25/25 [==============================] - 0s 5ms/step - loss: 0.6051 - accuracy: 0.6560 - val_loss: 0.7079 - val_accuracy: 0.5185\n",
            "Epoch 142/150\n",
            "25/25 [==============================] - 0s 4ms/step - loss: 0.6056 - accuracy: 0.6480 - val_loss: 0.7033 - val_accuracy: 0.5185\n",
            "Epoch 143/150\n",
            "25/25 [==============================] - 0s 3ms/step - loss: 0.6046 - accuracy: 0.6720 - val_loss: 0.7077 - val_accuracy: 0.5185\n",
            "Epoch 144/150\n",
            "25/25 [==============================] - 0s 3ms/step - loss: 0.5995 - accuracy: 0.6560 - val_loss: 0.7005 - val_accuracy: 0.5185\n",
            "Epoch 145/150\n",
            "25/25 [==============================] - 0s 3ms/step - loss: 0.6032 - accuracy: 0.6800 - val_loss: 0.7012 - val_accuracy: 0.5185\n",
            "Epoch 146/150\n",
            "25/25 [==============================] - 0s 3ms/step - loss: 0.5989 - accuracy: 0.6560 - val_loss: 0.7045 - val_accuracy: 0.5185\n",
            "Epoch 147/150\n",
            "25/25 [==============================] - 0s 3ms/step - loss: 0.5961 - accuracy: 0.6720 - val_loss: 0.7057 - val_accuracy: 0.5185\n",
            "Epoch 148/150\n",
            "25/25 [==============================] - 0s 4ms/step - loss: 0.5949 - accuracy: 0.6720 - val_loss: 0.7093 - val_accuracy: 0.5185\n",
            "Epoch 149/150\n",
            "25/25 [==============================] - 0s 4ms/step - loss: 0.5971 - accuracy: 0.6640 - val_loss: 0.7101 - val_accuracy: 0.5185\n",
            "Epoch 150/150\n",
            "25/25 [==============================] - 0s 3ms/step - loss: 0.5982 - accuracy: 0.6800 - val_loss: 0.7112 - val_accuracy: 0.5185\n"
          ]
        }
      ]
    },
    {
      "cell_type": "code",
      "source": [
        "model14.evaluate(X_test, y_test)"
      ],
      "metadata": {
        "colab": {
          "base_uri": "https://localhost:8080/"
        },
        "id": "GHC9jAs273i8",
        "outputId": "75107582-c781-45a7-afa1-2b6a59128cbd"
      },
      "execution_count": 908,
      "outputs": [
        {
          "output_type": "stream",
          "name": "stdout",
          "text": [
            "1/1 [==============================] - 0s 20ms/step - loss: 19.8075 - accuracy: 0.3913\n"
          ]
        },
        {
          "output_type": "execute_result",
          "data": {
            "text/plain": [
              "[19.807527542114258, 0.3913043439388275]"
            ]
          },
          "metadata": {},
          "execution_count": 908
        }
      ]
    },
    {
      "cell_type": "code",
      "source": [
        "model14 = tf.keras.models.load_model(f\"/content/model_experiments/{model14.name}\")\n",
        "model14.evaluate(X_test, y_test)"
      ],
      "metadata": {
        "id": "ey6oyFQIrA1B",
        "outputId": "d48a45be-49ed-4acd-a9f2-2eb29fcf04ad",
        "colab": {
          "base_uri": "https://localhost:8080/"
        }
      },
      "execution_count": 909,
      "outputs": [
        {
          "output_type": "stream",
          "name": "stdout",
          "text": [
            "1/1 [==============================] - 0s 156ms/step - loss: 0.9099 - accuracy: 0.6087\n"
          ]
        },
        {
          "output_type": "execute_result",
          "data": {
            "text/plain": [
              "[0.9099339842796326, 0.6086956262588501]"
            ]
          },
          "metadata": {},
          "execution_count": 909
        }
      ]
    },
    {
      "cell_type": "code",
      "source": [
        "tf.random.set_seed(42)\n",
        "\n",
        "model15 = tf.keras.Sequential([\n",
        "    tf.keras.layers.Dense(5, activation='relu'),\n",
        "    tf.keras.layers.Dense(40, activation='relu'),\n",
        "    tf.keras.layers.Dense(40, activation='relu'),\n",
        "\n",
        "    tf.keras.layers.Dense(20, activation='relu'),\n",
        "    tf.keras.layers.Dense(10, activation='relu'),\n",
        "\n",
        "    tf.keras.layers.Dense(256, activation='relu'),\n",
        "    tf.keras.layers.Dense(1, activation='sigmoid')\n",
        "])\n",
        "\n",
        "model15.compile(\n",
        "    loss=tf.keras.losses.binary_crossentropy,\n",
        "    optimizer=tf.keras.optimizers.Adam(0.001),\n",
        "    metrics=[\"accuracy\"]\n",
        ")\n",
        "\n",
        "\n",
        "history15 = model15.fit(X_train_scaled, \n",
        "                    y_train, \n",
        "                    epochs=150,\n",
        "                    batch_size=5,\n",
        "                    validation_data = (X_valid_scaled, y_valid),\n",
        "                    callbacks=[create_model_checkpoint(model_name=model15.name)])"
      ],
      "metadata": {
        "id": "ytfYzYMftS79",
        "outputId": "c40bae2c-a3aa-41e2-9490-ef101c594e7b",
        "colab": {
          "base_uri": "https://localhost:8080/"
        }
      },
      "execution_count": 910,
      "outputs": [
        {
          "output_type": "stream",
          "name": "stdout",
          "text": [
            "Epoch 1/150\n",
            "19/25 [=====================>........] - ETA: 0s - loss: 0.6920 - accuracy: 0.5474 INFO:tensorflow:Assets written to: model_experiments/sequential_89/assets\n",
            "25/25 [==============================] - 2s 58ms/step - loss: 0.6916 - accuracy: 0.5600 - val_loss: 0.6810 - val_accuracy: 0.6296\n",
            "Epoch 2/150\n",
            "25/25 [==============================] - 0s 4ms/step - loss: 0.6857 - accuracy: 0.5760 - val_loss: 0.6664 - val_accuracy: 0.6296\n",
            "Epoch 3/150\n",
            "25/25 [==============================] - 0s 4ms/step - loss: 0.6817 - accuracy: 0.5760 - val_loss: 0.6677 - val_accuracy: 0.6296\n",
            "Epoch 4/150\n",
            "25/25 [==============================] - 0s 4ms/step - loss: 0.6794 - accuracy: 0.5760 - val_loss: 0.6607 - val_accuracy: 0.6296\n",
            "Epoch 5/150\n",
            "25/25 [==============================] - 0s 4ms/step - loss: 0.6817 - accuracy: 0.5760 - val_loss: 0.6612 - val_accuracy: 0.6296\n",
            "Epoch 6/150\n",
            "25/25 [==============================] - 0s 4ms/step - loss: 0.6855 - accuracy: 0.5760 - val_loss: 0.6603 - val_accuracy: 0.6296\n",
            "Epoch 7/150\n",
            "25/25 [==============================] - 0s 4ms/step - loss: 0.6783 - accuracy: 0.5760 - val_loss: 0.6632 - val_accuracy: 0.6296\n",
            "Epoch 8/150\n",
            "25/25 [==============================] - 0s 4ms/step - loss: 0.6811 - accuracy: 0.5760 - val_loss: 0.6605 - val_accuracy: 0.6296\n",
            "Epoch 9/150\n",
            "25/25 [==============================] - 0s 4ms/step - loss: 0.6742 - accuracy: 0.5760 - val_loss: 0.6594 - val_accuracy: 0.6296\n",
            "Epoch 10/150\n",
            "25/25 [==============================] - 0s 4ms/step - loss: 0.6710 - accuracy: 0.5760 - val_loss: 0.6581 - val_accuracy: 0.6296\n",
            "Epoch 11/150\n",
            "25/25 [==============================] - 0s 4ms/step - loss: 0.6712 - accuracy: 0.5760 - val_loss: 0.6563 - val_accuracy: 0.6296\n",
            "Epoch 12/150\n",
            "25/25 [==============================] - 0s 4ms/step - loss: 0.6720 - accuracy: 0.5760 - val_loss: 0.6605 - val_accuracy: 0.6296\n",
            "Epoch 13/150\n",
            "25/25 [==============================] - 0s 4ms/step - loss: 0.6679 - accuracy: 0.5600 - val_loss: 0.6616 - val_accuracy: 0.5926\n",
            "Epoch 14/150\n",
            "25/25 [==============================] - 0s 5ms/step - loss: 0.6773 - accuracy: 0.6240 - val_loss: 0.6632 - val_accuracy: 0.6296\n",
            "Epoch 15/150\n",
            "25/25 [==============================] - 0s 3ms/step - loss: 0.6672 - accuracy: 0.5520 - val_loss: 0.6651 - val_accuracy: 0.5185\n",
            "Epoch 16/150\n",
            "25/25 [==============================] - 0s 4ms/step - loss: 0.6636 - accuracy: 0.6160 - val_loss: 0.6627 - val_accuracy: 0.5926\n",
            "Epoch 17/150\n",
            "25/25 [==============================] - 0s 4ms/step - loss: 0.6620 - accuracy: 0.6000 - val_loss: 0.6658 - val_accuracy: 0.5185\n",
            "Epoch 18/150\n",
            "25/25 [==============================] - 0s 4ms/step - loss: 0.6600 - accuracy: 0.6080 - val_loss: 0.6666 - val_accuracy: 0.5926\n",
            "Epoch 19/150\n",
            "25/25 [==============================] - 0s 5ms/step - loss: 0.6607 - accuracy: 0.6160 - val_loss: 0.6702 - val_accuracy: 0.5185\n",
            "Epoch 20/150\n",
            "25/25 [==============================] - 0s 4ms/step - loss: 0.6593 - accuracy: 0.6160 - val_loss: 0.6718 - val_accuracy: 0.5185\n",
            "Epoch 21/150\n",
            "25/25 [==============================] - 0s 4ms/step - loss: 0.6570 - accuracy: 0.6400 - val_loss: 0.6736 - val_accuracy: 0.5185\n",
            "Epoch 22/150\n",
            "25/25 [==============================] - 0s 4ms/step - loss: 0.6674 - accuracy: 0.6080 - val_loss: 0.6756 - val_accuracy: 0.5185\n",
            "Epoch 23/150\n",
            "25/25 [==============================] - 0s 4ms/step - loss: 0.6626 - accuracy: 0.6320 - val_loss: 0.6749 - val_accuracy: 0.5185\n",
            "Epoch 24/150\n",
            "25/25 [==============================] - 0s 4ms/step - loss: 0.6526 - accuracy: 0.6080 - val_loss: 0.6742 - val_accuracy: 0.5926\n",
            "Epoch 25/150\n",
            "25/25 [==============================] - 0s 4ms/step - loss: 0.6548 - accuracy: 0.6160 - val_loss: 0.6776 - val_accuracy: 0.5185\n",
            "Epoch 26/150\n",
            "25/25 [==============================] - 0s 4ms/step - loss: 0.6559 - accuracy: 0.6240 - val_loss: 0.6793 - val_accuracy: 0.5185\n",
            "Epoch 27/150\n",
            "25/25 [==============================] - 0s 4ms/step - loss: 0.6521 - accuracy: 0.6400 - val_loss: 0.6846 - val_accuracy: 0.5185\n",
            "Epoch 28/150\n",
            "25/25 [==============================] - 0s 5ms/step - loss: 0.6580 - accuracy: 0.6000 - val_loss: 0.6758 - val_accuracy: 0.5556\n",
            "Epoch 29/150\n",
            "25/25 [==============================] - 0s 4ms/step - loss: 0.6539 - accuracy: 0.6400 - val_loss: 0.6766 - val_accuracy: 0.5185\n",
            "Epoch 30/150\n",
            "25/25 [==============================] - 0s 5ms/step - loss: 0.6491 - accuracy: 0.6320 - val_loss: 0.6791 - val_accuracy: 0.5185\n",
            "Epoch 31/150\n",
            "25/25 [==============================] - 0s 5ms/step - loss: 0.6495 - accuracy: 0.6400 - val_loss: 0.6850 - val_accuracy: 0.5185\n",
            "Epoch 32/150\n",
            "25/25 [==============================] - 0s 4ms/step - loss: 0.6527 - accuracy: 0.6240 - val_loss: 0.6888 - val_accuracy: 0.5185\n",
            "Epoch 33/150\n",
            "25/25 [==============================] - 0s 4ms/step - loss: 0.6464 - accuracy: 0.6400 - val_loss: 0.6864 - val_accuracy: 0.4815\n",
            "Epoch 34/150\n",
            "25/25 [==============================] - 0s 4ms/step - loss: 0.6502 - accuracy: 0.6240 - val_loss: 0.6906 - val_accuracy: 0.5185\n",
            "Epoch 35/150\n",
            "25/25 [==============================] - 0s 5ms/step - loss: 0.6478 - accuracy: 0.6400 - val_loss: 0.6911 - val_accuracy: 0.5185\n",
            "Epoch 36/150\n",
            "25/25 [==============================] - 0s 4ms/step - loss: 0.6409 - accuracy: 0.6480 - val_loss: 0.6956 - val_accuracy: 0.5185\n",
            "Epoch 37/150\n",
            "25/25 [==============================] - 0s 4ms/step - loss: 0.6388 - accuracy: 0.6400 - val_loss: 0.6937 - val_accuracy: 0.5185\n",
            "Epoch 38/150\n",
            "25/25 [==============================] - 0s 4ms/step - loss: 0.6492 - accuracy: 0.6480 - val_loss: 0.6970 - val_accuracy: 0.5185\n",
            "Epoch 39/150\n",
            "25/25 [==============================] - 0s 4ms/step - loss: 0.6387 - accuracy: 0.6320 - val_loss: 0.6999 - val_accuracy: 0.5185\n",
            "Epoch 40/150\n",
            "25/25 [==============================] - 0s 5ms/step - loss: 0.6356 - accuracy: 0.6480 - val_loss: 0.7028 - val_accuracy: 0.5185\n",
            "Epoch 41/150\n",
            "25/25 [==============================] - 0s 4ms/step - loss: 0.6408 - accuracy: 0.6400 - val_loss: 0.7103 - val_accuracy: 0.4815\n",
            "Epoch 42/150\n",
            "25/25 [==============================] - 0s 4ms/step - loss: 0.6349 - accuracy: 0.6320 - val_loss: 0.7099 - val_accuracy: 0.5185\n",
            "Epoch 43/150\n",
            "25/25 [==============================] - 0s 5ms/step - loss: 0.6327 - accuracy: 0.6560 - val_loss: 0.7174 - val_accuracy: 0.5185\n",
            "Epoch 44/150\n",
            "25/25 [==============================] - 0s 4ms/step - loss: 0.6276 - accuracy: 0.6400 - val_loss: 0.7285 - val_accuracy: 0.5185\n",
            "Epoch 45/150\n",
            "25/25 [==============================] - 0s 4ms/step - loss: 0.6365 - accuracy: 0.6480 - val_loss: 0.7127 - val_accuracy: 0.5185\n",
            "Epoch 46/150\n",
            "25/25 [==============================] - 0s 4ms/step - loss: 0.6546 - accuracy: 0.6080 - val_loss: 0.7080 - val_accuracy: 0.5185\n",
            "Epoch 47/150\n",
            "25/25 [==============================] - 0s 4ms/step - loss: 0.6360 - accuracy: 0.6560 - val_loss: 0.7286 - val_accuracy: 0.5185\n",
            "Epoch 48/150\n",
            "25/25 [==============================] - 0s 4ms/step - loss: 0.6313 - accuracy: 0.6320 - val_loss: 0.7222 - val_accuracy: 0.4815\n",
            "Epoch 49/150\n",
            "25/25 [==============================] - 0s 4ms/step - loss: 0.6239 - accuracy: 0.6480 - val_loss: 0.7379 - val_accuracy: 0.5185\n",
            "Epoch 50/150\n",
            "25/25 [==============================] - 0s 4ms/step - loss: 0.6425 - accuracy: 0.6480 - val_loss: 0.7286 - val_accuracy: 0.4815\n",
            "Epoch 51/150\n",
            "25/25 [==============================] - 0s 4ms/step - loss: 0.6250 - accuracy: 0.6400 - val_loss: 0.7387 - val_accuracy: 0.5185\n",
            "Epoch 52/150\n",
            "25/25 [==============================] - 0s 4ms/step - loss: 0.6169 - accuracy: 0.6640 - val_loss: 0.7391 - val_accuracy: 0.5185\n",
            "Epoch 53/150\n",
            "25/25 [==============================] - 0s 4ms/step - loss: 0.6174 - accuracy: 0.6480 - val_loss: 0.7466 - val_accuracy: 0.5185\n",
            "Epoch 54/150\n",
            "25/25 [==============================] - 0s 4ms/step - loss: 0.6132 - accuracy: 0.6480 - val_loss: 0.7630 - val_accuracy: 0.5185\n",
            "Epoch 55/150\n",
            "25/25 [==============================] - 0s 4ms/step - loss: 0.6139 - accuracy: 0.6560 - val_loss: 0.7650 - val_accuracy: 0.4815\n",
            "Epoch 56/150\n",
            "25/25 [==============================] - 0s 4ms/step - loss: 0.6037 - accuracy: 0.6640 - val_loss: 0.7675 - val_accuracy: 0.4815\n",
            "Epoch 57/150\n",
            "25/25 [==============================] - 0s 4ms/step - loss: 0.6176 - accuracy: 0.6400 - val_loss: 0.7264 - val_accuracy: 0.5185\n",
            "Epoch 58/150\n",
            "25/25 [==============================] - 0s 4ms/step - loss: 0.6440 - accuracy: 0.6240 - val_loss: 0.7266 - val_accuracy: 0.4815\n",
            "Epoch 59/150\n",
            "25/25 [==============================] - 0s 4ms/step - loss: 0.5999 - accuracy: 0.6560 - val_loss: 0.7435 - val_accuracy: 0.5185\n",
            "Epoch 60/150\n",
            "25/25 [==============================] - 0s 4ms/step - loss: 0.6184 - accuracy: 0.6320 - val_loss: 0.7475 - val_accuracy: 0.5185\n",
            "Epoch 61/150\n",
            "25/25 [==============================] - 0s 4ms/step - loss: 0.6121 - accuracy: 0.6640 - val_loss: 0.7728 - val_accuracy: 0.5556\n",
            "Epoch 62/150\n",
            "25/25 [==============================] - 0s 3ms/step - loss: 0.6099 - accuracy: 0.6560 - val_loss: 0.7655 - val_accuracy: 0.4815\n",
            "Epoch 63/150\n",
            "25/25 [==============================] - 0s 4ms/step - loss: 0.6097 - accuracy: 0.6640 - val_loss: 0.7732 - val_accuracy: 0.4815\n",
            "Epoch 64/150\n",
            "25/25 [==============================] - 0s 5ms/step - loss: 0.5939 - accuracy: 0.6640 - val_loss: 0.7593 - val_accuracy: 0.5185\n",
            "Epoch 65/150\n",
            "25/25 [==============================] - 0s 4ms/step - loss: 0.6015 - accuracy: 0.6560 - val_loss: 0.7740 - val_accuracy: 0.5185\n",
            "Epoch 66/150\n",
            "25/25 [==============================] - 0s 4ms/step - loss: 0.5953 - accuracy: 0.6800 - val_loss: 0.7594 - val_accuracy: 0.5185\n",
            "Epoch 67/150\n",
            "25/25 [==============================] - 0s 4ms/step - loss: 0.6018 - accuracy: 0.6800 - val_loss: 0.7918 - val_accuracy: 0.5185\n",
            "Epoch 68/150\n",
            "25/25 [==============================] - 0s 3ms/step - loss: 0.6057 - accuracy: 0.6720 - val_loss: 0.7952 - val_accuracy: 0.5185\n",
            "Epoch 69/150\n",
            "25/25 [==============================] - 0s 4ms/step - loss: 0.5947 - accuracy: 0.6560 - val_loss: 0.7674 - val_accuracy: 0.5185\n",
            "Epoch 70/150\n",
            "25/25 [==============================] - 0s 4ms/step - loss: 0.6010 - accuracy: 0.6880 - val_loss: 0.7502 - val_accuracy: 0.4815\n",
            "Epoch 71/150\n",
            "25/25 [==============================] - 0s 4ms/step - loss: 0.5879 - accuracy: 0.6880 - val_loss: 0.7926 - val_accuracy: 0.5185\n",
            "Epoch 72/150\n",
            "25/25 [==============================] - 0s 3ms/step - loss: 0.6111 - accuracy: 0.6480 - val_loss: 0.7497 - val_accuracy: 0.5556\n",
            "Epoch 73/150\n",
            "25/25 [==============================] - 0s 4ms/step - loss: 0.6035 - accuracy: 0.6640 - val_loss: 0.7980 - val_accuracy: 0.5185\n",
            "Epoch 74/150\n",
            "25/25 [==============================] - 0s 4ms/step - loss: 0.5967 - accuracy: 0.6720 - val_loss: 0.7441 - val_accuracy: 0.5185\n",
            "Epoch 75/150\n",
            "25/25 [==============================] - 0s 4ms/step - loss: 0.5842 - accuracy: 0.6800 - val_loss: 0.7949 - val_accuracy: 0.4815\n",
            "Epoch 76/150\n",
            "25/25 [==============================] - 0s 4ms/step - loss: 0.5837 - accuracy: 0.7040 - val_loss: 0.7772 - val_accuracy: 0.5185\n",
            "Epoch 77/150\n",
            "25/25 [==============================] - 0s 4ms/step - loss: 0.5729 - accuracy: 0.7040 - val_loss: 0.8517 - val_accuracy: 0.4815\n",
            "Epoch 78/150\n",
            "25/25 [==============================] - 0s 5ms/step - loss: 0.5818 - accuracy: 0.6720 - val_loss: 0.7764 - val_accuracy: 0.5556\n",
            "Epoch 79/150\n",
            "25/25 [==============================] - 0s 4ms/step - loss: 0.5710 - accuracy: 0.7040 - val_loss: 0.8090 - val_accuracy: 0.4815\n",
            "Epoch 80/150\n",
            "25/25 [==============================] - 0s 4ms/step - loss: 0.5826 - accuracy: 0.6880 - val_loss: 0.7800 - val_accuracy: 0.5556\n",
            "Epoch 81/150\n",
            "25/25 [==============================] - 0s 4ms/step - loss: 0.5896 - accuracy: 0.6560 - val_loss: 0.8302 - val_accuracy: 0.5185\n",
            "Epoch 82/150\n",
            "25/25 [==============================] - 0s 4ms/step - loss: 0.5778 - accuracy: 0.6800 - val_loss: 0.7945 - val_accuracy: 0.5185\n",
            "Epoch 83/150\n",
            "25/25 [==============================] - 0s 4ms/step - loss: 0.5815 - accuracy: 0.6800 - val_loss: 0.8133 - val_accuracy: 0.5185\n",
            "Epoch 84/150\n",
            "25/25 [==============================] - 0s 4ms/step - loss: 0.5825 - accuracy: 0.6720 - val_loss: 0.8173 - val_accuracy: 0.4815\n",
            "Epoch 85/150\n",
            "25/25 [==============================] - 0s 3ms/step - loss: 0.5720 - accuracy: 0.7280 - val_loss: 0.7950 - val_accuracy: 0.5185\n",
            "Epoch 86/150\n",
            "25/25 [==============================] - 0s 4ms/step - loss: 0.5725 - accuracy: 0.7040 - val_loss: 0.7867 - val_accuracy: 0.5185\n",
            "Epoch 87/150\n",
            "25/25 [==============================] - 0s 4ms/step - loss: 0.5776 - accuracy: 0.6880 - val_loss: 0.8160 - val_accuracy: 0.4815\n",
            "Epoch 88/150\n",
            "25/25 [==============================] - 0s 3ms/step - loss: 0.5877 - accuracy: 0.6960 - val_loss: 0.8479 - val_accuracy: 0.4815\n",
            "Epoch 89/150\n",
            "25/25 [==============================] - 0s 4ms/step - loss: 0.5822 - accuracy: 0.6720 - val_loss: 0.7674 - val_accuracy: 0.5556\n",
            "Epoch 90/150\n",
            "25/25 [==============================] - 0s 3ms/step - loss: 0.5889 - accuracy: 0.6720 - val_loss: 0.8334 - val_accuracy: 0.5185\n",
            "Epoch 91/150\n",
            "25/25 [==============================] - 0s 3ms/step - loss: 0.5656 - accuracy: 0.6960 - val_loss: 0.8077 - val_accuracy: 0.5185\n",
            "Epoch 92/150\n",
            "25/25 [==============================] - 0s 4ms/step - loss: 0.5760 - accuracy: 0.7040 - val_loss: 0.7463 - val_accuracy: 0.4815\n",
            "Epoch 93/150\n",
            "25/25 [==============================] - 0s 4ms/step - loss: 0.5832 - accuracy: 0.6960 - val_loss: 0.8642 - val_accuracy: 0.5185\n",
            "Epoch 94/150\n",
            "25/25 [==============================] - 0s 3ms/step - loss: 0.5694 - accuracy: 0.6880 - val_loss: 0.7883 - val_accuracy: 0.4815\n",
            "Epoch 95/150\n",
            "25/25 [==============================] - 0s 4ms/step - loss: 0.5597 - accuracy: 0.7040 - val_loss: 0.8337 - val_accuracy: 0.5185\n",
            "Epoch 96/150\n",
            "25/25 [==============================] - 0s 4ms/step - loss: 0.5718 - accuracy: 0.6800 - val_loss: 0.8675 - val_accuracy: 0.4815\n",
            "Epoch 97/150\n",
            "25/25 [==============================] - 0s 3ms/step - loss: 0.5818 - accuracy: 0.6880 - val_loss: 0.8125 - val_accuracy: 0.5556\n",
            "Epoch 98/150\n",
            "25/25 [==============================] - 0s 4ms/step - loss: 0.5688 - accuracy: 0.6880 - val_loss: 0.8284 - val_accuracy: 0.4815\n",
            "Epoch 99/150\n",
            "25/25 [==============================] - 0s 4ms/step - loss: 0.5623 - accuracy: 0.7120 - val_loss: 0.8220 - val_accuracy: 0.4815\n",
            "Epoch 100/150\n",
            "25/25 [==============================] - 0s 4ms/step - loss: 0.5845 - accuracy: 0.6960 - val_loss: 0.7861 - val_accuracy: 0.5556\n",
            "Epoch 101/150\n",
            "25/25 [==============================] - 0s 4ms/step - loss: 0.5544 - accuracy: 0.7040 - val_loss: 0.8724 - val_accuracy: 0.4815\n",
            "Epoch 102/150\n",
            "25/25 [==============================] - 0s 4ms/step - loss: 0.5596 - accuracy: 0.6960 - val_loss: 0.8121 - val_accuracy: 0.5556\n",
            "Epoch 103/150\n",
            "25/25 [==============================] - 0s 4ms/step - loss: 0.5562 - accuracy: 0.6960 - val_loss: 0.8687 - val_accuracy: 0.5185\n",
            "Epoch 104/150\n",
            "25/25 [==============================] - 0s 4ms/step - loss: 0.5683 - accuracy: 0.6800 - val_loss: 0.8315 - val_accuracy: 0.4815\n",
            "Epoch 105/150\n",
            "25/25 [==============================] - 0s 4ms/step - loss: 0.5561 - accuracy: 0.6880 - val_loss: 0.8545 - val_accuracy: 0.5185\n",
            "Epoch 106/150\n",
            "25/25 [==============================] - 0s 4ms/step - loss: 0.5518 - accuracy: 0.7120 - val_loss: 0.8320 - val_accuracy: 0.5556\n",
            "Epoch 107/150\n",
            "25/25 [==============================] - 0s 5ms/step - loss: 0.5409 - accuracy: 0.7040 - val_loss: 0.8304 - val_accuracy: 0.5185\n",
            "Epoch 108/150\n",
            "25/25 [==============================] - 0s 4ms/step - loss: 0.5525 - accuracy: 0.7040 - val_loss: 0.8947 - val_accuracy: 0.5185\n",
            "Epoch 109/150\n",
            "25/25 [==============================] - 0s 4ms/step - loss: 0.5454 - accuracy: 0.6960 - val_loss: 0.8744 - val_accuracy: 0.5185\n",
            "Epoch 110/150\n",
            "25/25 [==============================] - 0s 4ms/step - loss: 0.5605 - accuracy: 0.6880 - val_loss: 0.8484 - val_accuracy: 0.5185\n",
            "Epoch 111/150\n",
            "25/25 [==============================] - 0s 4ms/step - loss: 0.5464 - accuracy: 0.6960 - val_loss: 0.8331 - val_accuracy: 0.4815\n",
            "Epoch 112/150\n",
            "25/25 [==============================] - 0s 4ms/step - loss: 0.5549 - accuracy: 0.6880 - val_loss: 0.7958 - val_accuracy: 0.5185\n",
            "Epoch 113/150\n",
            "25/25 [==============================] - 0s 4ms/step - loss: 0.5359 - accuracy: 0.7040 - val_loss: 0.9859 - val_accuracy: 0.4815\n",
            "Epoch 114/150\n",
            "25/25 [==============================] - 0s 4ms/step - loss: 0.5550 - accuracy: 0.6960 - val_loss: 0.8283 - val_accuracy: 0.5185\n",
            "Epoch 115/150\n",
            "25/25 [==============================] - 0s 3ms/step - loss: 0.5457 - accuracy: 0.6960 - val_loss: 0.9477 - val_accuracy: 0.4815\n",
            "Epoch 116/150\n",
            "25/25 [==============================] - 0s 5ms/step - loss: 0.5630 - accuracy: 0.6560 - val_loss: 0.8882 - val_accuracy: 0.5556\n",
            "Epoch 117/150\n",
            "25/25 [==============================] - 0s 3ms/step - loss: 0.5570 - accuracy: 0.6560 - val_loss: 0.8638 - val_accuracy: 0.4815\n",
            "Epoch 118/150\n",
            "25/25 [==============================] - 0s 4ms/step - loss: 0.5346 - accuracy: 0.6960 - val_loss: 0.8385 - val_accuracy: 0.4815\n",
            "Epoch 119/150\n",
            "25/25 [==============================] - 0s 4ms/step - loss: 0.5256 - accuracy: 0.7120 - val_loss: 0.8612 - val_accuracy: 0.5556\n",
            "Epoch 120/150\n",
            "25/25 [==============================] - 0s 3ms/step - loss: 0.5308 - accuracy: 0.7120 - val_loss: 0.8505 - val_accuracy: 0.4815\n",
            "Epoch 121/150\n",
            "25/25 [==============================] - 0s 4ms/step - loss: 0.5191 - accuracy: 0.7200 - val_loss: 0.9169 - val_accuracy: 0.5556\n",
            "Epoch 122/150\n",
            "25/25 [==============================] - 0s 4ms/step - loss: 0.5170 - accuracy: 0.7200 - val_loss: 0.8828 - val_accuracy: 0.5926\n",
            "Epoch 123/150\n",
            "25/25 [==============================] - 0s 4ms/step - loss: 0.5227 - accuracy: 0.6880 - val_loss: 0.8309 - val_accuracy: 0.5185\n",
            "Epoch 124/150\n",
            "25/25 [==============================] - 0s 4ms/step - loss: 0.5193 - accuracy: 0.7280 - val_loss: 0.9710 - val_accuracy: 0.5185\n",
            "Epoch 125/150\n",
            "25/25 [==============================] - 0s 4ms/step - loss: 0.5342 - accuracy: 0.7200 - val_loss: 0.8907 - val_accuracy: 0.5185\n",
            "Epoch 126/150\n",
            "25/25 [==============================] - 0s 4ms/step - loss: 0.5098 - accuracy: 0.7200 - val_loss: 0.8648 - val_accuracy: 0.4815\n",
            "Epoch 127/150\n",
            "25/25 [==============================] - 0s 5ms/step - loss: 0.5377 - accuracy: 0.6880 - val_loss: 0.9293 - val_accuracy: 0.4815\n",
            "Epoch 128/150\n",
            "25/25 [==============================] - 0s 4ms/step - loss: 0.5202 - accuracy: 0.7360 - val_loss: 0.8651 - val_accuracy: 0.5185\n",
            "Epoch 129/150\n",
            "25/25 [==============================] - 0s 4ms/step - loss: 0.5283 - accuracy: 0.7280 - val_loss: 0.9714 - val_accuracy: 0.4815\n",
            "Epoch 130/150\n",
            "25/25 [==============================] - 0s 4ms/step - loss: 0.5424 - accuracy: 0.7040 - val_loss: 0.8710 - val_accuracy: 0.4444\n",
            "Epoch 131/150\n",
            "25/25 [==============================] - 0s 5ms/step - loss: 0.5671 - accuracy: 0.6720 - val_loss: 0.9706 - val_accuracy: 0.5926\n",
            "Epoch 132/150\n",
            "25/25 [==============================] - 0s 4ms/step - loss: 0.5436 - accuracy: 0.6720 - val_loss: 0.8909 - val_accuracy: 0.5185\n",
            "Epoch 133/150\n",
            "25/25 [==============================] - 0s 4ms/step - loss: 0.5338 - accuracy: 0.7200 - val_loss: 0.8608 - val_accuracy: 0.5185\n",
            "Epoch 134/150\n",
            "25/25 [==============================] - 0s 3ms/step - loss: 0.5477 - accuracy: 0.6960 - val_loss: 0.9052 - val_accuracy: 0.5556\n",
            "Epoch 135/150\n",
            "25/25 [==============================] - 0s 4ms/step - loss: 0.5037 - accuracy: 0.7440 - val_loss: 0.8892 - val_accuracy: 0.5926\n",
            "Epoch 136/150\n",
            "25/25 [==============================] - 0s 4ms/step - loss: 0.5034 - accuracy: 0.7440 - val_loss: 0.7995 - val_accuracy: 0.5185\n",
            "Epoch 137/150\n",
            "25/25 [==============================] - 0s 4ms/step - loss: 0.5027 - accuracy: 0.7280 - val_loss: 0.8998 - val_accuracy: 0.5556\n",
            "Epoch 138/150\n",
            "25/25 [==============================] - 0s 4ms/step - loss: 0.5012 - accuracy: 0.6960 - val_loss: 0.8906 - val_accuracy: 0.4444\n",
            "Epoch 139/150\n",
            "25/25 [==============================] - 0s 4ms/step - loss: 0.4976 - accuracy: 0.7280 - val_loss: 0.9343 - val_accuracy: 0.5556\n",
            "Epoch 140/150\n",
            "25/25 [==============================] - 0s 5ms/step - loss: 0.4871 - accuracy: 0.7600 - val_loss: 0.9887 - val_accuracy: 0.5185\n",
            "Epoch 141/150\n",
            "25/25 [==============================] - 0s 4ms/step - loss: 0.5066 - accuracy: 0.6960 - val_loss: 0.9370 - val_accuracy: 0.4815\n",
            "Epoch 142/150\n",
            "25/25 [==============================] - 0s 3ms/step - loss: 0.5734 - accuracy: 0.6960 - val_loss: 0.9421 - val_accuracy: 0.5926\n",
            "Epoch 143/150\n",
            "25/25 [==============================] - 0s 4ms/step - loss: 0.5630 - accuracy: 0.6880 - val_loss: 0.9009 - val_accuracy: 0.4815\n",
            "Epoch 144/150\n",
            "25/25 [==============================] - 0s 4ms/step - loss: 0.5349 - accuracy: 0.7120 - val_loss: 0.9262 - val_accuracy: 0.4815\n",
            "Epoch 145/150\n",
            "25/25 [==============================] - 0s 4ms/step - loss: 0.5275 - accuracy: 0.7360 - val_loss: 0.9191 - val_accuracy: 0.5185\n",
            "Epoch 146/150\n",
            "25/25 [==============================] - 0s 3ms/step - loss: 0.5186 - accuracy: 0.7440 - val_loss: 0.9158 - val_accuracy: 0.5556\n",
            "Epoch 147/150\n",
            "25/25 [==============================] - 0s 4ms/step - loss: 0.5258 - accuracy: 0.7360 - val_loss: 0.8506 - val_accuracy: 0.4815\n",
            "Epoch 148/150\n",
            "25/25 [==============================] - 0s 4ms/step - loss: 0.5978 - accuracy: 0.6720 - val_loss: 0.8543 - val_accuracy: 0.4815\n",
            "Epoch 149/150\n",
            "25/25 [==============================] - 0s 4ms/step - loss: 0.4917 - accuracy: 0.7440 - val_loss: 0.8984 - val_accuracy: 0.5556\n",
            "Epoch 150/150\n",
            "25/25 [==============================] - 0s 5ms/step - loss: 0.5054 - accuracy: 0.7680 - val_loss: 0.8222 - val_accuracy: 0.5556\n"
          ]
        }
      ]
    },
    {
      "cell_type": "code",
      "source": [
        "model15.evaluate(X_test, y_test)"
      ],
      "metadata": {
        "colab": {
          "base_uri": "https://localhost:8080/"
        },
        "id": "9zF-Vflf74n8",
        "outputId": "6d6ad003-3c9d-41c5-a815-494df773b021"
      },
      "execution_count": 911,
      "outputs": [
        {
          "output_type": "stream",
          "name": "stdout",
          "text": [
            "1/1 [==============================] - 0s 23ms/step - loss: 48.1071 - accuracy: 0.6087\n"
          ]
        },
        {
          "output_type": "execute_result",
          "data": {
            "text/plain": [
              "[48.107112884521484, 0.6086956262588501]"
            ]
          },
          "metadata": {},
          "execution_count": 911
        }
      ]
    },
    {
      "cell_type": "code",
      "source": [
        "model15 = tf.keras.models.load_model(f\"/content/model_experiments/{model15.name}\")\n",
        "model15.evaluate(X_test, y_test)"
      ],
      "metadata": {
        "id": "hnN5jGe7rBrV",
        "outputId": "f2c61bf4-4cbc-4cf2-bcaf-4c35bd4d4307",
        "colab": {
          "base_uri": "https://localhost:8080/"
        }
      },
      "execution_count": 912,
      "outputs": [
        {
          "output_type": "stream",
          "name": "stdout",
          "text": [
            "1/1 [==============================] - 0s 150ms/step - loss: 0.7842 - accuracy: 0.6087\n"
          ]
        },
        {
          "output_type": "execute_result",
          "data": {
            "text/plain": [
              "[0.7841835021972656, 0.6086956262588501]"
            ]
          },
          "metadata": {},
          "execution_count": 912
        }
      ]
    },
    {
      "cell_type": "code",
      "source": [
        ""
      ],
      "metadata": {
        "id": "aSFXiJDIe0wL"
      },
      "execution_count": 912,
      "outputs": []
    },
    {
      "cell_type": "code",
      "source": [
        "y"
      ],
      "metadata": {
        "id": "HwrvwOX0cyMf",
        "colab": {
          "base_uri": "https://localhost:8080/"
        },
        "outputId": "5880cec4-1340-4add-eac2-8d8b20f4e8dd"
      },
      "execution_count": 914,
      "outputs": [
        {
          "output_type": "execute_result",
          "data": {
            "text/plain": [
              "0      1.0\n",
              "1      1.0\n",
              "2      0.0\n",
              "3      1.0\n",
              "4      0.0\n",
              "      ... \n",
              "170    0.0\n",
              "171    0.0\n",
              "172    0.0\n",
              "173    1.0\n",
              "174    1.0\n",
              "Name: psqi больше 5, Length: 175, dtype: float32"
            ]
          },
          "metadata": {},
          "execution_count": 914
        }
      ]
    },
    {
      "cell_type": "code",
      "source": [
        ""
      ],
      "metadata": {
        "id": "sGr_oqlJHh4h"
      },
      "execution_count": 912,
      "outputs": []
    },
    {
      "cell_type": "code",
      "source": [
        ""
      ],
      "metadata": {
        "id": "xSCrBKNIHh7K"
      },
      "execution_count": 912,
      "outputs": []
    },
    {
      "cell_type": "code",
      "execution_count": 913,
      "metadata": {
        "id": "jxDbWXbvvMEV",
        "colab": {
          "base_uri": "https://localhost:8080/",
          "height": 502
        },
        "outputId": "7ba982e9-5718-4d42-aff7-3159c2fad684"
      },
      "outputs": [
        {
          "output_type": "error",
          "ename": "KeyError",
          "evalue": "ignored",
          "traceback": [
            "\u001b[0;31m---------------------------------------------------------------------------\u001b[0m",
            "\u001b[0;31mKeyError\u001b[0m                                  Traceback (most recent call last)",
            "\u001b[0;32m/usr/local/lib/python3.7/dist-packages/pandas/core/indexes/base.py\u001b[0m in \u001b[0;36mget_loc\u001b[0;34m(self, key, method, tolerance)\u001b[0m\n\u001b[1;32m   3360\u001b[0m             \u001b[0;32mtry\u001b[0m\u001b[0;34m:\u001b[0m\u001b[0;34m\u001b[0m\u001b[0;34m\u001b[0m\u001b[0m\n\u001b[0;32m-> 3361\u001b[0;31m                 \u001b[0;32mreturn\u001b[0m \u001b[0mself\u001b[0m\u001b[0;34m.\u001b[0m\u001b[0m_engine\u001b[0m\u001b[0;34m.\u001b[0m\u001b[0mget_loc\u001b[0m\u001b[0;34m(\u001b[0m\u001b[0mcasted_key\u001b[0m\u001b[0;34m)\u001b[0m\u001b[0;34m\u001b[0m\u001b[0;34m\u001b[0m\u001b[0m\n\u001b[0m\u001b[1;32m   3362\u001b[0m             \u001b[0;32mexcept\u001b[0m \u001b[0mKeyError\u001b[0m \u001b[0;32mas\u001b[0m \u001b[0merr\u001b[0m\u001b[0;34m:\u001b[0m\u001b[0;34m\u001b[0m\u001b[0;34m\u001b[0m\u001b[0m\n",
            "\u001b[0;32m/usr/local/lib/python3.7/dist-packages/pandas/_libs/index.pyx\u001b[0m in \u001b[0;36mpandas._libs.index.IndexEngine.get_loc\u001b[0;34m()\u001b[0m\n",
            "\u001b[0;32m/usr/local/lib/python3.7/dist-packages/pandas/_libs/index.pyx\u001b[0m in \u001b[0;36mpandas._libs.index.IndexEngine.get_loc\u001b[0;34m()\u001b[0m\n",
            "\u001b[0;32mpandas/_libs/hashtable_class_helper.pxi\u001b[0m in \u001b[0;36mpandas._libs.hashtable.PyObjectHashTable.get_item\u001b[0;34m()\u001b[0m\n",
            "\u001b[0;32mpandas/_libs/hashtable_class_helper.pxi\u001b[0m in \u001b[0;36mpandas._libs.hashtable.PyObjectHashTable.get_item\u001b[0;34m()\u001b[0m\n",
            "\u001b[0;31mKeyError\u001b[0m: 'Нарушения сна больше 5'",
            "\nThe above exception was the direct cause of the following exception:\n",
            "\u001b[0;31mKeyError\u001b[0m                                  Traceback (most recent call last)",
            "\u001b[0;32m<ipython-input-913-3819433a1a35>\u001b[0m in \u001b[0;36m<module>\u001b[0;34m()\u001b[0m\n\u001b[0;32m----> 1\u001b[0;31m \u001b[0my\u001b[0m \u001b[0;34m=\u001b[0m \u001b[0mdata\u001b[0m\u001b[0;34m[\u001b[0m\u001b[0;34m'Нарушения сна больше 5'\u001b[0m\u001b[0;34m]\u001b[0m\u001b[0;34m\u001b[0m\u001b[0;34m\u001b[0m\u001b[0m\n\u001b[0m\u001b[1;32m      2\u001b[0m \u001b[0;31m# X = data.drop(columns=['Нарушения сна больше 5'])\u001b[0m\u001b[0;34m\u001b[0m\u001b[0;34m\u001b[0m\u001b[0;34m\u001b[0m\u001b[0m\n\u001b[1;32m      3\u001b[0m \u001b[0;31m# X = data[['Пол', 'Удовлетворенность семейными отношениями', 'ЧМТ','Стаж шизофр', 'Образование']]\u001b[0m\u001b[0;34m\u001b[0m\u001b[0;34m\u001b[0m\u001b[0;34m\u001b[0m\u001b[0m\n\u001b[1;32m      4\u001b[0m \u001b[0mX\u001b[0m \u001b[0;34m=\u001b[0m \u001b[0mdata\u001b[0m\u001b[0;34m[\u001b[0m\u001b[0;34m[\u001b[0m\u001b[0;34m'Пол'\u001b[0m\u001b[0;34m,\u001b[0m \u001b[0;34m'Удовлетворенность семейными отношениями'\u001b[0m\u001b[0;34m,\u001b[0m \u001b[0;34m'ЧМТ'\u001b[0m\u001b[0;34m,\u001b[0m\u001b[0;34m'Стаж шизофр'\u001b[0m\u001b[0;34m,\u001b[0m \u001b[0;34m'Образование'\u001b[0m\u001b[0;34m,\u001b[0m \u001b[0;34m'Насл отягощенность'\u001b[0m\u001b[0;34m,\u001b[0m \u001b[0;34m'P'\u001b[0m\u001b[0;34m,\u001b[0m \u001b[0;34m'N'\u001b[0m\u001b[0;34m,\u001b[0m \u001b[0;34m'G'\u001b[0m\u001b[0;34m]\u001b[0m\u001b[0;34m]\u001b[0m\u001b[0;34m\u001b[0m\u001b[0;34m\u001b[0m\u001b[0m\n\u001b[1;32m      5\u001b[0m \u001b[0;31m# X = data[[ 'P', 'N', 'G']] # Only with these 3 values we can get very good result\u001b[0m\u001b[0;34m\u001b[0m\u001b[0;34m\u001b[0m\u001b[0;34m\u001b[0m\u001b[0m\n",
            "\u001b[0;32m/usr/local/lib/python3.7/dist-packages/pandas/core/frame.py\u001b[0m in \u001b[0;36m__getitem__\u001b[0;34m(self, key)\u001b[0m\n\u001b[1;32m   3456\u001b[0m             \u001b[0;32mif\u001b[0m \u001b[0mself\u001b[0m\u001b[0;34m.\u001b[0m\u001b[0mcolumns\u001b[0m\u001b[0;34m.\u001b[0m\u001b[0mnlevels\u001b[0m \u001b[0;34m>\u001b[0m \u001b[0;36m1\u001b[0m\u001b[0;34m:\u001b[0m\u001b[0;34m\u001b[0m\u001b[0;34m\u001b[0m\u001b[0m\n\u001b[1;32m   3457\u001b[0m                 \u001b[0;32mreturn\u001b[0m \u001b[0mself\u001b[0m\u001b[0;34m.\u001b[0m\u001b[0m_getitem_multilevel\u001b[0m\u001b[0;34m(\u001b[0m\u001b[0mkey\u001b[0m\u001b[0;34m)\u001b[0m\u001b[0;34m\u001b[0m\u001b[0;34m\u001b[0m\u001b[0m\n\u001b[0;32m-> 3458\u001b[0;31m             \u001b[0mindexer\u001b[0m \u001b[0;34m=\u001b[0m \u001b[0mself\u001b[0m\u001b[0;34m.\u001b[0m\u001b[0mcolumns\u001b[0m\u001b[0;34m.\u001b[0m\u001b[0mget_loc\u001b[0m\u001b[0;34m(\u001b[0m\u001b[0mkey\u001b[0m\u001b[0;34m)\u001b[0m\u001b[0;34m\u001b[0m\u001b[0;34m\u001b[0m\u001b[0m\n\u001b[0m\u001b[1;32m   3459\u001b[0m             \u001b[0;32mif\u001b[0m \u001b[0mis_integer\u001b[0m\u001b[0;34m(\u001b[0m\u001b[0mindexer\u001b[0m\u001b[0;34m)\u001b[0m\u001b[0;34m:\u001b[0m\u001b[0;34m\u001b[0m\u001b[0;34m\u001b[0m\u001b[0m\n\u001b[1;32m   3460\u001b[0m                 \u001b[0mindexer\u001b[0m \u001b[0;34m=\u001b[0m \u001b[0;34m[\u001b[0m\u001b[0mindexer\u001b[0m\u001b[0;34m]\u001b[0m\u001b[0;34m\u001b[0m\u001b[0;34m\u001b[0m\u001b[0m\n",
            "\u001b[0;32m/usr/local/lib/python3.7/dist-packages/pandas/core/indexes/base.py\u001b[0m in \u001b[0;36mget_loc\u001b[0;34m(self, key, method, tolerance)\u001b[0m\n\u001b[1;32m   3361\u001b[0m                 \u001b[0;32mreturn\u001b[0m \u001b[0mself\u001b[0m\u001b[0;34m.\u001b[0m\u001b[0m_engine\u001b[0m\u001b[0;34m.\u001b[0m\u001b[0mget_loc\u001b[0m\u001b[0;34m(\u001b[0m\u001b[0mcasted_key\u001b[0m\u001b[0;34m)\u001b[0m\u001b[0;34m\u001b[0m\u001b[0;34m\u001b[0m\u001b[0m\n\u001b[1;32m   3362\u001b[0m             \u001b[0;32mexcept\u001b[0m \u001b[0mKeyError\u001b[0m \u001b[0;32mas\u001b[0m \u001b[0merr\u001b[0m\u001b[0;34m:\u001b[0m\u001b[0;34m\u001b[0m\u001b[0;34m\u001b[0m\u001b[0m\n\u001b[0;32m-> 3363\u001b[0;31m                 \u001b[0;32mraise\u001b[0m \u001b[0mKeyError\u001b[0m\u001b[0;34m(\u001b[0m\u001b[0mkey\u001b[0m\u001b[0;34m)\u001b[0m \u001b[0;32mfrom\u001b[0m \u001b[0merr\u001b[0m\u001b[0;34m\u001b[0m\u001b[0;34m\u001b[0m\u001b[0m\n\u001b[0m\u001b[1;32m   3364\u001b[0m \u001b[0;34m\u001b[0m\u001b[0m\n\u001b[1;32m   3365\u001b[0m         \u001b[0;32mif\u001b[0m \u001b[0mis_scalar\u001b[0m\u001b[0;34m(\u001b[0m\u001b[0mkey\u001b[0m\u001b[0;34m)\u001b[0m \u001b[0;32mand\u001b[0m \u001b[0misna\u001b[0m\u001b[0;34m(\u001b[0m\u001b[0mkey\u001b[0m\u001b[0;34m)\u001b[0m \u001b[0;32mand\u001b[0m \u001b[0;32mnot\u001b[0m \u001b[0mself\u001b[0m\u001b[0;34m.\u001b[0m\u001b[0mhasnans\u001b[0m\u001b[0;34m:\u001b[0m\u001b[0;34m\u001b[0m\u001b[0;34m\u001b[0m\u001b[0m\n",
            "\u001b[0;31mKeyError\u001b[0m: 'Нарушения сна больше 5'"
          ]
        }
      ],
      "source": [
        "y = data['Нарушения сна больше 5']\n",
        "# X = data.drop(columns=['Нарушения сна больше 5'])\n",
        "# X = data[['Пол', 'Удовлетворенность семейными отношениями', 'ЧМТ','Стаж шизофр', 'Образование']]\n",
        "X = data[['Пол', 'Удовлетворенность семейными отношениями', 'ЧМТ','Стаж шизофр', 'Образование', 'Насл отягощенность', 'P', 'N', 'G']]\n",
        "# X = data[[ 'P', 'N', 'G']] # Only with these 3 values we can get very good result\n",
        "\n",
        "X_train, X_valid, y_train, y_valid = train_test_split(X, y, test_size=0.2)"
      ]
    },
    {
      "cell_type": "code",
      "execution_count": null,
      "metadata": {
        "id": "7kZTjgK7vMG8"
      },
      "outputs": [],
      "source": [
        "# Scale X from 0 to 1\n",
        "from sklearn.preprocessing import StandardScaler\n",
        "from sklearn.preprocessing import MinMaxScaler\n",
        "# scaler = StandardScaler()\n",
        "minmax_scaler = MinMaxScaler()\n",
        "\n",
        "# X_train_scaled = scaler.fit_transform(X_train)\n",
        "# X_valid_scaled = scaler.transform(X_valid)\n",
        "\n",
        "X_train_scaled = minmax_scaler.fit_transform(X_train)\n",
        "X_valid_scaled = minmax_scaler.transform(X_valid)"
      ]
    },
    {
      "cell_type": "code",
      "execution_count": null,
      "metadata": {
        "id": "yOQOcCCXPrrL"
      },
      "outputs": [],
      "source": [
        "tf.random.set_seed(42)\n",
        "\n",
        "model = tf.keras.Sequential([\n",
        "    tf.keras.layers.Dense(10, activation='relu'),\n",
        "    tf.keras.layers.Dense(10, activation='relu'),\n",
        "    # tf.keras.layers.Dense(10, activation='relu'),\n",
        "\n",
        "    # tf.keras.layers.Dense(256, activation='relu'),\n",
        "    tf.keras.layers.Dense(1, activation='sigmoid')\n",
        "])\n",
        "\n",
        "model.compile(\n",
        "    loss=tf.keras.losses.binary_crossentropy,\n",
        "    optimizer=tf.keras.optimizers.Adam(lr=0.003), # lr=0.003\n",
        "    metrics=[\"accuracy\"]\n",
        ")\n",
        "\n",
        "# Create a learning rate callback\n",
        "lr_scheduler = tf.keras.callbacks.LearningRateScheduler(lambda epoch: 1e-4 * 10**(epoch/20)) # Learning rate will increase at each epoch\n",
        "\n",
        "history0 = model.fit(X_train_scaled, \n",
        "                    y_train, \n",
        "                    epochs=50,\n",
        "                    validation_data = (X_valid_scaled, y_valid),\n",
        "                    callbacks=[lr_scheduler])"
      ]
    },
    {
      "cell_type": "code",
      "execution_count": null,
      "metadata": {
        "id": "QVMn6WFCPEHX"
      },
      "outputs": [],
      "source": [
        "import matplotlib.pyplot as plt\n",
        "\n",
        "# Plot the validation and training data separately\n",
        "def plot_loss_curves(history):\n",
        "  \"\"\"\n",
        "  Returns separate loss curves for training and validation metrics.\n",
        "  \"\"\" \n",
        "  loss = history.history['loss']\n",
        "  val_loss = history.history['val_loss']\n",
        "\n",
        "  accuracy = history.history['accuracy']\n",
        "  val_accuracy = history.history['val_accuracy']\n",
        "\n",
        "  epochs = range(len(history.history['loss']))\n",
        "\n",
        "  # Plot loss\n",
        "  plt.plot(epochs, loss, label='training_loss')\n",
        "  plt.plot(epochs, val_loss, label='val_loss')\n",
        "  plt.title('Loss')\n",
        "  plt.xlabel('Epochs')\n",
        "  plt.legend()\n",
        "\n",
        "  # Plot accuracy\n",
        "  plt.figure()\n",
        "  plt.plot(epochs, accuracy, label='training_accuracy')\n",
        "  plt.plot(epochs, val_accuracy, label='val_accuracy')\n",
        "  plt.title('Accuracy')\n",
        "  plt.xlabel('Epochs')\n",
        "  plt.legend();\n"
      ]
    },
    {
      "cell_type": "code",
      "execution_count": null,
      "metadata": {
        "id": "3zFAGeTMPvxf"
      },
      "outputs": [],
      "source": [
        "plot_loss_curves(history0)"
      ]
    },
    {
      "cell_type": "markdown",
      "metadata": {
        "id": "dXokhoC2PwQk"
      },
      "source": [
        "### Find bels LR"
      ]
    },
    {
      "cell_type": "code",
      "execution_count": null,
      "metadata": {
        "id": "hH0ZyOMevW6o"
      },
      "outputs": [],
      "source": [
        "tf.random.set_seed(42)\n",
        "\n",
        "model = tf.keras.Sequential([\n",
        "    tf.keras.layers.Dense(10, activation='relu'),\n",
        "    tf.keras.layers.Dense(10, activation='relu'),\n",
        "    # tf.keras.layers.Dense(10, activation='relu'),\n",
        "\n",
        "    # tf.keras.layers.Dense(256, activation='relu'),\n",
        "    tf.keras.layers.Dense(1, activation='sigmoid')\n",
        "])\n",
        "\n",
        "model.compile(\n",
        "    loss=tf.keras.losses.binary_crossentropy,\n",
        "    optimizer=tf.keras.optimizers.Adam(), # lr=0.003\n",
        "    metrics=[\"accuracy\"]\n",
        ")\n",
        "\n",
        "# Create a learning rate callback\n",
        "lr_scheduler = tf.keras.callbacks.LearningRateScheduler(lambda epoch: 1e-4 * 10**(epoch/20)) # Learning rate will increase at each epoch\n",
        "\n",
        "history_lr = model.fit(X_train_scaled, \n",
        "                    y_train, \n",
        "                    epochs=100,\n",
        "                    validation_data = (X_valid_scaled, y_valid),\n",
        "                    callbacks=[lr_scheduler])"
      ]
    },
    {
      "cell_type": "code",
      "execution_count": null,
      "metadata": {
        "id": "hWTprQ0aOC_S"
      },
      "outputs": [],
      "source": [
        "import matplotlib.pyplot as plt\n",
        "\n",
        "# Plot the learning rate vs loss\n",
        "lrs = 1e-4 * (10 ** (tf.range(100)/20))\n",
        "plt.figure(figsize=(10, 7))\n",
        "plt.semilogx(lrs, history_lr.history[\"loss\"]) # lrs - x-axis, history - y-axis\n",
        "plt.xlabel(\"Learning rate\")\n",
        "plt.ylabel(\"Loss\")\n",
        "plt.title(\"Learning rate vs. loss\")"
      ]
    },
    {
      "cell_type": "code",
      "execution_count": null,
      "metadata": {
        "id": "EPZdm2LqvMQs"
      },
      "outputs": [],
      "source": [
        "tf.random.set_seed(42)\n",
        "\n",
        "model = tf.keras.Sequential([\n",
        "    tf.keras.layers.Dense(20, activation='relu'),\n",
        "    tf.keras.layers.Dense(20, activation='relu'),\n",
        "    tf.keras.layers.Dense(20, activation='relu'),\n",
        "    # tf.keras.layers.Dense(10, activation='relu'),\n",
        "\n",
        "    # tf.keras.layers.Dense(256, activation='relu'),\n",
        "    tf.keras.layers.Dense(1, activation='sigmoid')\n",
        "])\n",
        "\n",
        "model.compile(\n",
        "    loss=tf.keras.losses.binary_crossentropy,\n",
        "    optimizer=tf.keras.optimizers.Adam(0.03),\n",
        "    metrics=[\"accuracy\"]\n",
        ")\n",
        "\n",
        "\n",
        "history1 = model.fit(X_train_scaled, \n",
        "                    y_train, \n",
        "                    epochs=50,\n",
        "                    validation_data = (X_valid_scaled, y_valid))"
      ]
    },
    {
      "cell_type": "code",
      "execution_count": null,
      "metadata": {
        "id": "mJCjkFO-Pb3f"
      },
      "outputs": [],
      "source": [
        "plot_loss_curves(history1)"
      ]
    },
    {
      "cell_type": "code",
      "execution_count": null,
      "metadata": {
        "id": "H1n34k49Pebz"
      },
      "outputs": [],
      "source": [
        ""
      ]
    },
    {
      "cell_type": "code",
      "execution_count": null,
      "metadata": {
        "id": "lqB5o19TPfeV"
      },
      "outputs": [],
      "source": [
        ""
      ]
    },
    {
      "cell_type": "code",
      "execution_count": null,
      "metadata": {
        "id": "pofTvAKuPfhO"
      },
      "outputs": [],
      "source": [
        ""
      ]
    },
    {
      "cell_type": "code",
      "execution_count": null,
      "metadata": {
        "id": "3XzO4JMrPfjd"
      },
      "outputs": [],
      "source": [
        ""
      ]
    },
    {
      "cell_type": "code",
      "execution_count": null,
      "metadata": {
        "id": "gtdAN5vAPfmH"
      },
      "outputs": [],
      "source": [
        ""
      ]
    },
    {
      "cell_type": "code",
      "execution_count": null,
      "metadata": {
        "id": "sMlFZkEuPCer"
      },
      "outputs": [],
      "source": [
        ""
      ]
    },
    {
      "cell_type": "code",
      "execution_count": null,
      "metadata": {
        "id": "8jzqVz0-vMSw"
      },
      "outputs": [],
      "source": [
        " "
      ]
    },
    {
      "cell_type": "code",
      "execution_count": null,
      "metadata": {
        "id": "-AdEsLsQhl-L"
      },
      "outputs": [],
      "source": [
        "train_data = data[:121] # 70%\n",
        "validation_data = data[121:155] # 20%\n",
        "test_data = data[155:174] # 10%"
      ]
    },
    {
      "cell_type": "code",
      "execution_count": null,
      "metadata": {
        "id": "oD1BAgypjWbC"
      },
      "outputs": [],
      "source": [
        "y_train = train_data['Нарушения сна больше 5']\n",
        "y_validation = validation_data['Нарушения сна больше 5']\n",
        "y_test = test_data['Нарушения сна больше 5']\n",
        "\n",
        "X_train = train_data[['Пол', 'Удовлетворенность семейными отношениями', 'ЧМТ','Стаж шизофр', 'Образование', 'Насл отягощенность', 'P', 'N', 'G']]\n",
        "X_validation = validation_data[['Пол', 'Удовлетворенность семейными отношениями', 'ЧМТ','Стаж шизофр', 'Образование', 'Насл отягощенность', 'P', 'N', 'G']]\n",
        "X_test = test_data[['Пол', 'Удовлетворенность семейными отношениями', 'ЧМТ','Стаж шизофр', 'Образование', 'Насл отягощенность', 'P', 'N', 'G']]"
      ]
    },
    {
      "cell_type": "code",
      "execution_count": null,
      "metadata": {
        "id": "Dgi-q_Iujyt-"
      },
      "outputs": [],
      "source": [
        "len(y_train), len(y_validation), len(y_test)"
      ]
    },
    {
      "cell_type": "code",
      "execution_count": null,
      "metadata": {
        "id": "4w3owV7dhnfn"
      },
      "outputs": [],
      "source": [
        "# y = data['Нарушения сна']\n",
        "# # X = data.drop(columns=['Нарушения сна'])\n",
        "# # X = data[['Пол', 'Удовлетворенность семейными отношениями', 'ЧМТ','Стаж шизофр', 'Образование']]\n",
        "# # X = data[['Пол', 'Удовлетворенность семейными отношениями', 'ЧМТ','Стаж шизофр', 'Образование', 'Насл отягощенность', 'P', 'N', 'G']]\n",
        "# X = data[[ 'P', 'N', 'G']] # Only with these 3 values we can get very good result\n",
        "\n",
        "# X_train, X_test, y_train, y_test = train_test_split(X, y, test_size=0.2,)"
      ]
    },
    {
      "cell_type": "code",
      "execution_count": null,
      "metadata": {
        "id": "S5EEQckhaLgC"
      },
      "outputs": [],
      "source": [
        "# Scale X from 0 to 1\n",
        "from sklearn.preprocessing import StandardScaler\n",
        "\n",
        "scaler = StandardScaler()\n",
        "X_train_scaled = scaler.fit_transform(X_train)\n",
        "X_validation_scaled = scaler.fit_transform(X_validation)\n",
        "X_test_scaled = scaler.transform(X_test)"
      ]
    },
    {
      "cell_type": "code",
      "execution_count": null,
      "metadata": {
        "id": "QVjPP8UokzzF"
      },
      "outputs": [],
      "source": [
        "tf.random.set_seed(42)\n",
        "\n",
        "model = tf.keras.Sequential([\n",
        "    tf.keras.layers.Dense(100, activation='relu'),\n",
        "    tf.keras.layers.Dense(100, activation='relu'),\n",
        "    tf.keras.layers.Dense(100, activation='relu'),\n",
        "\n",
        "    # tf.keras.layers.Dense(256, activation='relu'),\n",
        "    tf.keras.layers.Dense(1, activation='sigmoid')\n",
        "])\n",
        "\n",
        "model.compile(\n",
        "    loss=tf.keras.losses.binary_crossentropy,\n",
        "    optimizer=tf.keras.optimizers.Adam(), # lr=0.03\n",
        "    metrics=[\"accuracy\"]\n",
        ")\n",
        "\n",
        "history = model.fit(X_train_scaled, \n",
        "                    y_train, \n",
        "                    epochs=50,\n",
        "                    validation_data = (X_validation_scaled, y_validation))"
      ]
    },
    {
      "cell_type": "code",
      "execution_count": null,
      "metadata": {
        "id": "kc5mFrJQhMsd"
      },
      "outputs": [],
      "source": [
        ""
      ]
    },
    {
      "cell_type": "code",
      "execution_count": null,
      "metadata": {
        "id": "DEAMkOEmhOE9"
      },
      "outputs": [],
      "source": [
        "plot_loss_curves(history)"
      ]
    },
    {
      "cell_type": "code",
      "execution_count": null,
      "metadata": {
        "id": "1yZGlBKrhNN1"
      },
      "outputs": [],
      "source": [
        ""
      ]
    },
    {
      "cell_type": "markdown",
      "metadata": {
        "id": "CrA_ArvkOh9c"
      },
      "source": [
        "### It is very likely that the model has overfitted. It is necessary to add data augmentation, validation data, visualization\n",
        "Find best lr\n",
        "\n",
        "Вывести наиболее значимые характеристики\n",
        "\n",
        "\n",
        "\n",
        "Check result on different scalers. For example:\n",
        "\n",
        "1) Min Max Scaler (try it)\n",
        "\n",
        "2) Standard Scaler\n",
        "\n",
        "3) Max Abs Scaler\n",
        "\n",
        "4) Robust Scaler\n",
        "\n",
        "5) Quantile Transformer Scaler\n",
        "\n",
        "6) Power Transformer Scaler\n",
        "\n",
        "7) Unit Vector Scaler\n",
        "\n"
      ]
    },
    {
      "cell_type": "code",
      "execution_count": null,
      "metadata": {
        "id": "io90TB1dlcBf"
      },
      "outputs": [],
      "source": [
        ""
      ]
    },
    {
      "cell_type": "code",
      "execution_count": null,
      "metadata": {
        "id": "DDAqLqo5DT74"
      },
      "outputs": [],
      "source": [
        ""
      ]
    },
    {
      "cell_type": "code",
      "execution_count": null,
      "metadata": {
        "id": "rNhuw9AgDT-L"
      },
      "outputs": [],
      "source": [
        "# Let's try to use 'Нарушения сна' as y value\n",
        "data = ds.drop(columns=['Тревога больше 7', 'Madrs больше 6', 'Калгари больше 5'])\n",
        "y = data['Нарушения сна больше 5']\n",
        "# X = data.drop(columns=['Нарушения сна'])\n",
        "X = data[['Пол', 'Удовлетворенность семейными отношениями', 'ЧМТ','Стаж шизофр', 'Образование', 'Насл отягощенность', 'P', 'N', 'G']] # 'Были ли нарушения сна', \n",
        "\n",
        "X_train, X_test, y_train, y_test = train_test_split(X, y, test_size=0.2,)\n",
        "\n",
        "# Scale X from 0 to 1\n",
        "scaler2 = StandardScaler()\n",
        "\n",
        "X_train_scaled = scaler2.fit_transform(X_train)\n",
        "X_test_scaled = scaler2.transform(X_test)"
      ]
    },
    {
      "cell_type": "code",
      "execution_count": null,
      "metadata": {
        "id": "xR0dXD6DEdDg"
      },
      "outputs": [],
      "source": [
        "X_train_scaled"
      ]
    },
    {
      "cell_type": "code",
      "execution_count": null,
      "metadata": {
        "id": "SKvqJHX3DWyj"
      },
      "outputs": [],
      "source": [
        "tf.random.set_seed(42)\n",
        "\n",
        "model2 = tf.keras.Sequential([\n",
        "    tf.keras.layers.Dense(100, activation='relu'),\n",
        "    tf.keras.layers.Dense(100, activation='relu'),\n",
        "    tf.keras.layers.Dense(100, activation='relu'),\n",
        "\n",
        "    # tf.keras.layers.Dense(256, activation='relu'),\n",
        "    tf.keras.layers.Dense(1, activation='sigmoid')\n",
        "])\n",
        "\n",
        "model2.compile(\n",
        "    loss=tf.keras.losses.binary_crossentropy,\n",
        "    optimizer=tf.keras.optimizers.Adam(), # lr=0.03\n",
        "    metrics=[\"accuracy\"]\n",
        ")\n",
        "\n",
        "history2 = model2.fit(X_train_scaled, y_train, epochs=50)"
      ]
    },
    {
      "cell_type": "code",
      "execution_count": null,
      "metadata": {
        "id": "CGzI7qA1DrxS"
      },
      "outputs": [],
      "source": [
        ""
      ]
    }
  ],
  "metadata": {
    "colab": {
      "name": "mental_disorders.ipynb",
      "provenance": [],
      "include_colab_link": true
    },
    "kernelspec": {
      "display_name": "Python 3",
      "name": "python3"
    },
    "language_info": {
      "name": "python"
    }
  },
  "nbformat": 4,
  "nbformat_minor": 0
}