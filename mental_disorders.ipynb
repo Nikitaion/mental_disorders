{
  "cells": [
    {
      "cell_type": "markdown",
      "metadata": {
        "id": "view-in-github",
        "colab_type": "text"
      },
      "source": [
        "<a href=\"https://colab.research.google.com/github/Nikitaion/mental_disorders/blob/main/mental_disorders.ipynb\" target=\"_parent\"><img src=\"https://colab.research.google.com/assets/colab-badge.svg\" alt=\"Open In Colab\"/></a>"
      ]
    },
    {
      "cell_type": "code",
      "execution_count": 1,
      "metadata": {
        "colab": {
          "base_uri": "https://localhost:8080/"
        },
        "id": "xviXFSvcd-gZ",
        "outputId": "9b6fc826-490a-4cde-b9a4-7470a659dd3e"
      },
      "outputs": [
        {
          "output_type": "stream",
          "name": "stdout",
          "text": [
            "--2022-09-17 16:03:57--  https://raw.githubusercontent.com/Nikitaion/mental_disorders/main/data/150922_mental_disorders_data_without_somatika.csv\n",
            "Resolving raw.githubusercontent.com (raw.githubusercontent.com)... 185.199.108.133, 185.199.111.133, 185.199.110.133, ...\n",
            "Connecting to raw.githubusercontent.com (raw.githubusercontent.com)|185.199.108.133|:443... connected.\n",
            "HTTP request sent, awaiting response... 200 OK\n",
            "Length: 14432 (14K) [text/plain]\n",
            "Saving to: ‘ds.csv’\n",
            "\n",
            "ds.csv              100%[===================>]  14.09K  --.-KB/s    in 0.001s  \n",
            "\n",
            "2022-09-17 16:03:57 (9.80 MB/s) - ‘ds.csv’ saved [14432/14432]\n",
            "\n"
          ]
        }
      ],
      "source": [
        "!wget https://raw.githubusercontent.com/Nikitaion/mental_disorders/main/data/150922_mental_disorders_data_without_somatika.csv -O ds.csv"
      ]
    },
    {
      "cell_type": "code",
      "execution_count": 2,
      "metadata": {
        "colab": {
          "base_uri": "https://localhost:8080/"
        },
        "id": "w6YXg1QZeuWS",
        "outputId": "e0dd07cc-9501-428a-b49f-d8005dc10af8"
      },
      "outputs": [
        {
          "output_type": "stream",
          "name": "stdout",
          "text": [
            "Tensorflow version: 2.8.2\n"
          ]
        }
      ],
      "source": [
        "import tensorflow as tf\n",
        "print(f\"Tensorflow version: {tf.__version__}\")\n",
        "\n",
        "import pandas as pd\n",
        "import numpy as np\n",
        "\n",
        "from sklearn.model_selection import  train_test_split\n",
        "\n",
        "from sklearn.preprocessing import StandardScaler\n"
      ]
    },
    {
      "cell_type": "code",
      "execution_count": 3,
      "metadata": {
        "colab": {
          "base_uri": "https://localhost:8080/",
          "height": 352
        },
        "id": "0lKSFBRwg3oI",
        "outputId": "cf99d6bf-6631-4d24-af28-63367dbc8a59"
      },
      "outputs": [
        {
          "output_type": "execute_result",
          "data": {
            "text/plain": [
              "  Снинговый номер Пол  Полных лет  Образование(0-начальное, 4-высшее)  \\\n",
              "0            УП-1   М          32                                   4   \n",
              "1            УП-2   М          26                                   2   \n",
              "2            УП-3   М          49                                   2   \n",
              "3            УП-4   М          50                                   2   \n",
              "4            УП-6   М          39                                   2   \n",
              "\n",
              "   Род занятий(0-0, работает-1  Семейное положение(0-0, 1-женат)  \\\n",
              "0                            0                                 0   \n",
              "1                            0                                 0   \n",
              "2                            0                                 0   \n",
              "3                            0                                 0   \n",
              "4                            0                                 0   \n",
              "\n",
              "   Удовлетворенность семеными отношениями  \\\n",
              "0                                       5   \n",
              "1                                       5   \n",
              "2                                       5   \n",
              "3                                       5   \n",
              "4                                       5   \n",
              "\n",
              "   Удовлетворенность материальным положением  Здоровье от 1 до 10  \\\n",
              "0                                          0                    7   \n",
              "1                                          0                   10   \n",
              "2                                          1                   10   \n",
              "3                                          1                    7   \n",
              "4                                          1                    7   \n",
              "\n",
              "   Были ли нарушения сна  ...  Стаж шизофр   P   N   G  Была попытка суицида?  \\\n",
              "0                      1  ...          3.7  11  11  18                      0   \n",
              "1                      1  ...          2.0  10  25  36                      0   \n",
              "2                      0  ...         23.0   9  16  23                      0   \n",
              "3                      1  ...         34.0  13  13  20                      0   \n",
              "4                      0  ...          4.0   9  13  22                      0   \n",
              "\n",
              "   PSQI  psqi больше 5  (ТРЕВОГА)Гаиильтон больше 16  \\\n",
              "0     6              1                             0   \n",
              "1     8              1                             0   \n",
              "2     3              0                             0   \n",
              "3     6              1                             0   \n",
              "4     4              0                             0   \n",
              "\n",
              "   (ДЕПРЕССИЯ)madrs больше 6  (ДЕПРЕССИЯ)Калгари больше 5  \n",
              "0                          0                            0  \n",
              "1                          1                            1  \n",
              "2                          0                            0  \n",
              "3                          0                            0  \n",
              "4                          0                            0  \n",
              "\n",
              "[5 rows x 26 columns]"
            ],
            "text/html": [
              "\n",
              "  <div id=\"df-243f0156-7e52-4adc-9372-90b4d430cbd3\">\n",
              "    <div class=\"colab-df-container\">\n",
              "      <div>\n",
              "<style scoped>\n",
              "    .dataframe tbody tr th:only-of-type {\n",
              "        vertical-align: middle;\n",
              "    }\n",
              "\n",
              "    .dataframe tbody tr th {\n",
              "        vertical-align: top;\n",
              "    }\n",
              "\n",
              "    .dataframe thead th {\n",
              "        text-align: right;\n",
              "    }\n",
              "</style>\n",
              "<table border=\"1\" class=\"dataframe\">\n",
              "  <thead>\n",
              "    <tr style=\"text-align: right;\">\n",
              "      <th></th>\n",
              "      <th>Снинговый номер</th>\n",
              "      <th>Пол</th>\n",
              "      <th>Полных лет</th>\n",
              "      <th>Образование(0-начальное, 4-высшее)</th>\n",
              "      <th>Род занятий(0-0, работает-1</th>\n",
              "      <th>Семейное положение(0-0, 1-женат)</th>\n",
              "      <th>Удовлетворенность семеными отношениями</th>\n",
              "      <th>Удовлетворенность материальным положением</th>\n",
              "      <th>Здоровье от 1 до 10</th>\n",
              "      <th>Были ли нарушения сна</th>\n",
              "      <th>...</th>\n",
              "      <th>Стаж шизофр</th>\n",
              "      <th>P</th>\n",
              "      <th>N</th>\n",
              "      <th>G</th>\n",
              "      <th>Была попытка суицида?</th>\n",
              "      <th>PSQI</th>\n",
              "      <th>psqi больше 5</th>\n",
              "      <th>(ТРЕВОГА)Гаиильтон больше 16</th>\n",
              "      <th>(ДЕПРЕССИЯ)madrs больше 6</th>\n",
              "      <th>(ДЕПРЕССИЯ)Калгари больше 5</th>\n",
              "    </tr>\n",
              "  </thead>\n",
              "  <tbody>\n",
              "    <tr>\n",
              "      <th>0</th>\n",
              "      <td>УП-1</td>\n",
              "      <td>М</td>\n",
              "      <td>32</td>\n",
              "      <td>4</td>\n",
              "      <td>0</td>\n",
              "      <td>0</td>\n",
              "      <td>5</td>\n",
              "      <td>0</td>\n",
              "      <td>7</td>\n",
              "      <td>1</td>\n",
              "      <td>...</td>\n",
              "      <td>3.7</td>\n",
              "      <td>11</td>\n",
              "      <td>11</td>\n",
              "      <td>18</td>\n",
              "      <td>0</td>\n",
              "      <td>6</td>\n",
              "      <td>1</td>\n",
              "      <td>0</td>\n",
              "      <td>0</td>\n",
              "      <td>0</td>\n",
              "    </tr>\n",
              "    <tr>\n",
              "      <th>1</th>\n",
              "      <td>УП-2</td>\n",
              "      <td>М</td>\n",
              "      <td>26</td>\n",
              "      <td>2</td>\n",
              "      <td>0</td>\n",
              "      <td>0</td>\n",
              "      <td>5</td>\n",
              "      <td>0</td>\n",
              "      <td>10</td>\n",
              "      <td>1</td>\n",
              "      <td>...</td>\n",
              "      <td>2.0</td>\n",
              "      <td>10</td>\n",
              "      <td>25</td>\n",
              "      <td>36</td>\n",
              "      <td>0</td>\n",
              "      <td>8</td>\n",
              "      <td>1</td>\n",
              "      <td>0</td>\n",
              "      <td>1</td>\n",
              "      <td>1</td>\n",
              "    </tr>\n",
              "    <tr>\n",
              "      <th>2</th>\n",
              "      <td>УП-3</td>\n",
              "      <td>М</td>\n",
              "      <td>49</td>\n",
              "      <td>2</td>\n",
              "      <td>0</td>\n",
              "      <td>0</td>\n",
              "      <td>5</td>\n",
              "      <td>1</td>\n",
              "      <td>10</td>\n",
              "      <td>0</td>\n",
              "      <td>...</td>\n",
              "      <td>23.0</td>\n",
              "      <td>9</td>\n",
              "      <td>16</td>\n",
              "      <td>23</td>\n",
              "      <td>0</td>\n",
              "      <td>3</td>\n",
              "      <td>0</td>\n",
              "      <td>0</td>\n",
              "      <td>0</td>\n",
              "      <td>0</td>\n",
              "    </tr>\n",
              "    <tr>\n",
              "      <th>3</th>\n",
              "      <td>УП-4</td>\n",
              "      <td>М</td>\n",
              "      <td>50</td>\n",
              "      <td>2</td>\n",
              "      <td>0</td>\n",
              "      <td>0</td>\n",
              "      <td>5</td>\n",
              "      <td>1</td>\n",
              "      <td>7</td>\n",
              "      <td>1</td>\n",
              "      <td>...</td>\n",
              "      <td>34.0</td>\n",
              "      <td>13</td>\n",
              "      <td>13</td>\n",
              "      <td>20</td>\n",
              "      <td>0</td>\n",
              "      <td>6</td>\n",
              "      <td>1</td>\n",
              "      <td>0</td>\n",
              "      <td>0</td>\n",
              "      <td>0</td>\n",
              "    </tr>\n",
              "    <tr>\n",
              "      <th>4</th>\n",
              "      <td>УП-6</td>\n",
              "      <td>М</td>\n",
              "      <td>39</td>\n",
              "      <td>2</td>\n",
              "      <td>0</td>\n",
              "      <td>0</td>\n",
              "      <td>5</td>\n",
              "      <td>1</td>\n",
              "      <td>7</td>\n",
              "      <td>0</td>\n",
              "      <td>...</td>\n",
              "      <td>4.0</td>\n",
              "      <td>9</td>\n",
              "      <td>13</td>\n",
              "      <td>22</td>\n",
              "      <td>0</td>\n",
              "      <td>4</td>\n",
              "      <td>0</td>\n",
              "      <td>0</td>\n",
              "      <td>0</td>\n",
              "      <td>0</td>\n",
              "    </tr>\n",
              "  </tbody>\n",
              "</table>\n",
              "<p>5 rows × 26 columns</p>\n",
              "</div>\n",
              "      <button class=\"colab-df-convert\" onclick=\"convertToInteractive('df-243f0156-7e52-4adc-9372-90b4d430cbd3')\"\n",
              "              title=\"Convert this dataframe to an interactive table.\"\n",
              "              style=\"display:none;\">\n",
              "        \n",
              "  <svg xmlns=\"http://www.w3.org/2000/svg\" height=\"24px\"viewBox=\"0 0 24 24\"\n",
              "       width=\"24px\">\n",
              "    <path d=\"M0 0h24v24H0V0z\" fill=\"none\"/>\n",
              "    <path d=\"M18.56 5.44l.94 2.06.94-2.06 2.06-.94-2.06-.94-.94-2.06-.94 2.06-2.06.94zm-11 1L8.5 8.5l.94-2.06 2.06-.94-2.06-.94L8.5 2.5l-.94 2.06-2.06.94zm10 10l.94 2.06.94-2.06 2.06-.94-2.06-.94-.94-2.06-.94 2.06-2.06.94z\"/><path d=\"M17.41 7.96l-1.37-1.37c-.4-.4-.92-.59-1.43-.59-.52 0-1.04.2-1.43.59L10.3 9.45l-7.72 7.72c-.78.78-.78 2.05 0 2.83L4 21.41c.39.39.9.59 1.41.59.51 0 1.02-.2 1.41-.59l7.78-7.78 2.81-2.81c.8-.78.8-2.07 0-2.86zM5.41 20L4 18.59l7.72-7.72 1.47 1.35L5.41 20z\"/>\n",
              "  </svg>\n",
              "      </button>\n",
              "      \n",
              "  <style>\n",
              "    .colab-df-container {\n",
              "      display:flex;\n",
              "      flex-wrap:wrap;\n",
              "      gap: 12px;\n",
              "    }\n",
              "\n",
              "    .colab-df-convert {\n",
              "      background-color: #E8F0FE;\n",
              "      border: none;\n",
              "      border-radius: 50%;\n",
              "      cursor: pointer;\n",
              "      display: none;\n",
              "      fill: #1967D2;\n",
              "      height: 32px;\n",
              "      padding: 0 0 0 0;\n",
              "      width: 32px;\n",
              "    }\n",
              "\n",
              "    .colab-df-convert:hover {\n",
              "      background-color: #E2EBFA;\n",
              "      box-shadow: 0px 1px 2px rgba(60, 64, 67, 0.3), 0px 1px 3px 1px rgba(60, 64, 67, 0.15);\n",
              "      fill: #174EA6;\n",
              "    }\n",
              "\n",
              "    [theme=dark] .colab-df-convert {\n",
              "      background-color: #3B4455;\n",
              "      fill: #D2E3FC;\n",
              "    }\n",
              "\n",
              "    [theme=dark] .colab-df-convert:hover {\n",
              "      background-color: #434B5C;\n",
              "      box-shadow: 0px 1px 3px 1px rgba(0, 0, 0, 0.15);\n",
              "      filter: drop-shadow(0px 1px 2px rgba(0, 0, 0, 0.3));\n",
              "      fill: #FFFFFF;\n",
              "    }\n",
              "  </style>\n",
              "\n",
              "      <script>\n",
              "        const buttonEl =\n",
              "          document.querySelector('#df-243f0156-7e52-4adc-9372-90b4d430cbd3 button.colab-df-convert');\n",
              "        buttonEl.style.display =\n",
              "          google.colab.kernel.accessAllowed ? 'block' : 'none';\n",
              "\n",
              "        async function convertToInteractive(key) {\n",
              "          const element = document.querySelector('#df-243f0156-7e52-4adc-9372-90b4d430cbd3');\n",
              "          const dataTable =\n",
              "            await google.colab.kernel.invokeFunction('convertToInteractive',\n",
              "                                                     [key], {});\n",
              "          if (!dataTable) return;\n",
              "\n",
              "          const docLinkHtml = 'Like what you see? Visit the ' +\n",
              "            '<a target=\"_blank\" href=https://colab.research.google.com/notebooks/data_table.ipynb>data table notebook</a>'\n",
              "            + ' to learn more about interactive tables.';\n",
              "          element.innerHTML = '';\n",
              "          dataTable['output_type'] = 'display_data';\n",
              "          await google.colab.output.renderOutput(dataTable, element);\n",
              "          const docLink = document.createElement('div');\n",
              "          docLink.innerHTML = docLinkHtml;\n",
              "          element.appendChild(docLink);\n",
              "        }\n",
              "      </script>\n",
              "    </div>\n",
              "  </div>\n",
              "  "
            ]
          },
          "metadata": {},
          "execution_count": 3
        }
      ],
      "source": [
        "ds = pd.read_csv(\"/content/ds.csv\")\n",
        "ds.head()"
      ]
    },
    {
      "cell_type": "code",
      "execution_count": 4,
      "metadata": {
        "colab": {
          "base_uri": "https://localhost:8080/",
          "height": 352
        },
        "id": "ASj1vcYIhAzw",
        "outputId": "a7bb6f35-f835-402c-b36e-509603f83006"
      },
      "outputs": [
        {
          "output_type": "execute_result",
          "data": {
            "text/plain": [
              "    Снинговый номер Пол  Полных лет  Образование(0-начальное, 4-высшее)  \\\n",
              "175          УП-224   М          53                                   4   \n",
              "176          УП-225   М          36                                   4   \n",
              "177          УП-227   Ж          38                                   2   \n",
              "178          УП-228   М          27                                   4   \n",
              "179          УП-230   М          36                                   4   \n",
              "\n",
              "     Род занятий(0-0, работает-1  Семейное положение(0-0, 1-женат)  \\\n",
              "175                            0                                 0   \n",
              "176                            0                                 0   \n",
              "177                            0                                 1   \n",
              "178                            1                                 0   \n",
              "179                            0                                 0   \n",
              "\n",
              "     Удовлетворенность семеными отношениями  \\\n",
              "175                                       3   \n",
              "176                                       2   \n",
              "177                                       4   \n",
              "178                                       2   \n",
              "179                                       5   \n",
              "\n",
              "     Удовлетворенность материальным положением  Здоровье от 1 до 10  \\\n",
              "175                                          0                    6   \n",
              "176                                          1                   10   \n",
              "177                                          1                    4   \n",
              "178                                          0                    8   \n",
              "179                                          1                    3   \n",
              "\n",
              "     Были ли нарушения сна  ...  Стаж шизофр   P   N   G  \\\n",
              "175                      1  ...         27.0  12  16  31   \n",
              "176                      1  ...         23.0  19  26  47   \n",
              "177                      1  ...          5.0  10  10  27   \n",
              "178                      1  ...          8.0  11  18  31   \n",
              "179                      0  ...          3.0  13  21  33   \n",
              "\n",
              "     Была попытка суицида?  PSQI  psqi больше 5  (ТРЕВОГА)Гаиильтон больше 16  \\\n",
              "175                      0     7              1                             0   \n",
              "176                      0     5              0                             0   \n",
              "177                      1    11              1                             1   \n",
              "178                      0     5              0                             0   \n",
              "179                      0     2              0                             0   \n",
              "\n",
              "     (ДЕПРЕССИЯ)madrs больше 6  (ДЕПРЕССИЯ)Калгари больше 5  \n",
              "175                          0                            0  \n",
              "176                          0                            0  \n",
              "177                          0                            1  \n",
              "178                          0                            1  \n",
              "179                          0                            0  \n",
              "\n",
              "[5 rows x 26 columns]"
            ],
            "text/html": [
              "\n",
              "  <div id=\"df-e03bb284-671e-4ca4-889a-1e80552bbc7a\">\n",
              "    <div class=\"colab-df-container\">\n",
              "      <div>\n",
              "<style scoped>\n",
              "    .dataframe tbody tr th:only-of-type {\n",
              "        vertical-align: middle;\n",
              "    }\n",
              "\n",
              "    .dataframe tbody tr th {\n",
              "        vertical-align: top;\n",
              "    }\n",
              "\n",
              "    .dataframe thead th {\n",
              "        text-align: right;\n",
              "    }\n",
              "</style>\n",
              "<table border=\"1\" class=\"dataframe\">\n",
              "  <thead>\n",
              "    <tr style=\"text-align: right;\">\n",
              "      <th></th>\n",
              "      <th>Снинговый номер</th>\n",
              "      <th>Пол</th>\n",
              "      <th>Полных лет</th>\n",
              "      <th>Образование(0-начальное, 4-высшее)</th>\n",
              "      <th>Род занятий(0-0, работает-1</th>\n",
              "      <th>Семейное положение(0-0, 1-женат)</th>\n",
              "      <th>Удовлетворенность семеными отношениями</th>\n",
              "      <th>Удовлетворенность материальным положением</th>\n",
              "      <th>Здоровье от 1 до 10</th>\n",
              "      <th>Были ли нарушения сна</th>\n",
              "      <th>...</th>\n",
              "      <th>Стаж шизофр</th>\n",
              "      <th>P</th>\n",
              "      <th>N</th>\n",
              "      <th>G</th>\n",
              "      <th>Была попытка суицида?</th>\n",
              "      <th>PSQI</th>\n",
              "      <th>psqi больше 5</th>\n",
              "      <th>(ТРЕВОГА)Гаиильтон больше 16</th>\n",
              "      <th>(ДЕПРЕССИЯ)madrs больше 6</th>\n",
              "      <th>(ДЕПРЕССИЯ)Калгари больше 5</th>\n",
              "    </tr>\n",
              "  </thead>\n",
              "  <tbody>\n",
              "    <tr>\n",
              "      <th>175</th>\n",
              "      <td>УП-224</td>\n",
              "      <td>М</td>\n",
              "      <td>53</td>\n",
              "      <td>4</td>\n",
              "      <td>0</td>\n",
              "      <td>0</td>\n",
              "      <td>3</td>\n",
              "      <td>0</td>\n",
              "      <td>6</td>\n",
              "      <td>1</td>\n",
              "      <td>...</td>\n",
              "      <td>27.0</td>\n",
              "      <td>12</td>\n",
              "      <td>16</td>\n",
              "      <td>31</td>\n",
              "      <td>0</td>\n",
              "      <td>7</td>\n",
              "      <td>1</td>\n",
              "      <td>0</td>\n",
              "      <td>0</td>\n",
              "      <td>0</td>\n",
              "    </tr>\n",
              "    <tr>\n",
              "      <th>176</th>\n",
              "      <td>УП-225</td>\n",
              "      <td>М</td>\n",
              "      <td>36</td>\n",
              "      <td>4</td>\n",
              "      <td>0</td>\n",
              "      <td>0</td>\n",
              "      <td>2</td>\n",
              "      <td>1</td>\n",
              "      <td>10</td>\n",
              "      <td>1</td>\n",
              "      <td>...</td>\n",
              "      <td>23.0</td>\n",
              "      <td>19</td>\n",
              "      <td>26</td>\n",
              "      <td>47</td>\n",
              "      <td>0</td>\n",
              "      <td>5</td>\n",
              "      <td>0</td>\n",
              "      <td>0</td>\n",
              "      <td>0</td>\n",
              "      <td>0</td>\n",
              "    </tr>\n",
              "    <tr>\n",
              "      <th>177</th>\n",
              "      <td>УП-227</td>\n",
              "      <td>Ж</td>\n",
              "      <td>38</td>\n",
              "      <td>2</td>\n",
              "      <td>0</td>\n",
              "      <td>1</td>\n",
              "      <td>4</td>\n",
              "      <td>1</td>\n",
              "      <td>4</td>\n",
              "      <td>1</td>\n",
              "      <td>...</td>\n",
              "      <td>5.0</td>\n",
              "      <td>10</td>\n",
              "      <td>10</td>\n",
              "      <td>27</td>\n",
              "      <td>1</td>\n",
              "      <td>11</td>\n",
              "      <td>1</td>\n",
              "      <td>1</td>\n",
              "      <td>0</td>\n",
              "      <td>1</td>\n",
              "    </tr>\n",
              "    <tr>\n",
              "      <th>178</th>\n",
              "      <td>УП-228</td>\n",
              "      <td>М</td>\n",
              "      <td>27</td>\n",
              "      <td>4</td>\n",
              "      <td>1</td>\n",
              "      <td>0</td>\n",
              "      <td>2</td>\n",
              "      <td>0</td>\n",
              "      <td>8</td>\n",
              "      <td>1</td>\n",
              "      <td>...</td>\n",
              "      <td>8.0</td>\n",
              "      <td>11</td>\n",
              "      <td>18</td>\n",
              "      <td>31</td>\n",
              "      <td>0</td>\n",
              "      <td>5</td>\n",
              "      <td>0</td>\n",
              "      <td>0</td>\n",
              "      <td>0</td>\n",
              "      <td>1</td>\n",
              "    </tr>\n",
              "    <tr>\n",
              "      <th>179</th>\n",
              "      <td>УП-230</td>\n",
              "      <td>М</td>\n",
              "      <td>36</td>\n",
              "      <td>4</td>\n",
              "      <td>0</td>\n",
              "      <td>0</td>\n",
              "      <td>5</td>\n",
              "      <td>1</td>\n",
              "      <td>3</td>\n",
              "      <td>0</td>\n",
              "      <td>...</td>\n",
              "      <td>3.0</td>\n",
              "      <td>13</td>\n",
              "      <td>21</td>\n",
              "      <td>33</td>\n",
              "      <td>0</td>\n",
              "      <td>2</td>\n",
              "      <td>0</td>\n",
              "      <td>0</td>\n",
              "      <td>0</td>\n",
              "      <td>0</td>\n",
              "    </tr>\n",
              "  </tbody>\n",
              "</table>\n",
              "<p>5 rows × 26 columns</p>\n",
              "</div>\n",
              "      <button class=\"colab-df-convert\" onclick=\"convertToInteractive('df-e03bb284-671e-4ca4-889a-1e80552bbc7a')\"\n",
              "              title=\"Convert this dataframe to an interactive table.\"\n",
              "              style=\"display:none;\">\n",
              "        \n",
              "  <svg xmlns=\"http://www.w3.org/2000/svg\" height=\"24px\"viewBox=\"0 0 24 24\"\n",
              "       width=\"24px\">\n",
              "    <path d=\"M0 0h24v24H0V0z\" fill=\"none\"/>\n",
              "    <path d=\"M18.56 5.44l.94 2.06.94-2.06 2.06-.94-2.06-.94-.94-2.06-.94 2.06-2.06.94zm-11 1L8.5 8.5l.94-2.06 2.06-.94-2.06-.94L8.5 2.5l-.94 2.06-2.06.94zm10 10l.94 2.06.94-2.06 2.06-.94-2.06-.94-.94-2.06-.94 2.06-2.06.94z\"/><path d=\"M17.41 7.96l-1.37-1.37c-.4-.4-.92-.59-1.43-.59-.52 0-1.04.2-1.43.59L10.3 9.45l-7.72 7.72c-.78.78-.78 2.05 0 2.83L4 21.41c.39.39.9.59 1.41.59.51 0 1.02-.2 1.41-.59l7.78-7.78 2.81-2.81c.8-.78.8-2.07 0-2.86zM5.41 20L4 18.59l7.72-7.72 1.47 1.35L5.41 20z\"/>\n",
              "  </svg>\n",
              "      </button>\n",
              "      \n",
              "  <style>\n",
              "    .colab-df-container {\n",
              "      display:flex;\n",
              "      flex-wrap:wrap;\n",
              "      gap: 12px;\n",
              "    }\n",
              "\n",
              "    .colab-df-convert {\n",
              "      background-color: #E8F0FE;\n",
              "      border: none;\n",
              "      border-radius: 50%;\n",
              "      cursor: pointer;\n",
              "      display: none;\n",
              "      fill: #1967D2;\n",
              "      height: 32px;\n",
              "      padding: 0 0 0 0;\n",
              "      width: 32px;\n",
              "    }\n",
              "\n",
              "    .colab-df-convert:hover {\n",
              "      background-color: #E2EBFA;\n",
              "      box-shadow: 0px 1px 2px rgba(60, 64, 67, 0.3), 0px 1px 3px 1px rgba(60, 64, 67, 0.15);\n",
              "      fill: #174EA6;\n",
              "    }\n",
              "\n",
              "    [theme=dark] .colab-df-convert {\n",
              "      background-color: #3B4455;\n",
              "      fill: #D2E3FC;\n",
              "    }\n",
              "\n",
              "    [theme=dark] .colab-df-convert:hover {\n",
              "      background-color: #434B5C;\n",
              "      box-shadow: 0px 1px 3px 1px rgba(0, 0, 0, 0.15);\n",
              "      filter: drop-shadow(0px 1px 2px rgba(0, 0, 0, 0.3));\n",
              "      fill: #FFFFFF;\n",
              "    }\n",
              "  </style>\n",
              "\n",
              "      <script>\n",
              "        const buttonEl =\n",
              "          document.querySelector('#df-e03bb284-671e-4ca4-889a-1e80552bbc7a button.colab-df-convert');\n",
              "        buttonEl.style.display =\n",
              "          google.colab.kernel.accessAllowed ? 'block' : 'none';\n",
              "\n",
              "        async function convertToInteractive(key) {\n",
              "          const element = document.querySelector('#df-e03bb284-671e-4ca4-889a-1e80552bbc7a');\n",
              "          const dataTable =\n",
              "            await google.colab.kernel.invokeFunction('convertToInteractive',\n",
              "                                                     [key], {});\n",
              "          if (!dataTable) return;\n",
              "\n",
              "          const docLinkHtml = 'Like what you see? Visit the ' +\n",
              "            '<a target=\"_blank\" href=https://colab.research.google.com/notebooks/data_table.ipynb>data table notebook</a>'\n",
              "            + ' to learn more about interactive tables.';\n",
              "          element.innerHTML = '';\n",
              "          dataTable['output_type'] = 'display_data';\n",
              "          await google.colab.output.renderOutput(dataTable, element);\n",
              "          const docLink = document.createElement('div');\n",
              "          docLink.innerHTML = docLinkHtml;\n",
              "          element.appendChild(docLink);\n",
              "        }\n",
              "      </script>\n",
              "    </div>\n",
              "  </div>\n",
              "  "
            ]
          },
          "metadata": {},
          "execution_count": 4
        }
      ],
      "source": [
        "ds.tail()"
      ]
    },
    {
      "cell_type": "code",
      "source": [
        "ds.info()"
      ],
      "metadata": {
        "colab": {
          "base_uri": "https://localhost:8080/"
        },
        "id": "W_N2ueZDTxGN",
        "outputId": "3f49f957-2d0b-4765-8c63-3bef0e7555c2"
      },
      "execution_count": 5,
      "outputs": [
        {
          "output_type": "stream",
          "name": "stdout",
          "text": [
            "<class 'pandas.core.frame.DataFrame'>\n",
            "RangeIndex: 180 entries, 0 to 179\n",
            "Data columns (total 26 columns):\n",
            " #   Column                                     Non-Null Count  Dtype  \n",
            "---  ------                                     --------------  -----  \n",
            " 0   Снинговый номер                            180 non-null    object \n",
            " 1   Пол                                        180 non-null    object \n",
            " 2   Полных лет                                 180 non-null    int64  \n",
            " 3   Образование(0-начальное, 4-высшее)         180 non-null    int64  \n",
            " 4   Род занятий(0-0, работает-1                180 non-null    int64  \n",
            " 5   Семейное положение(0-0, 1-женат)           180 non-null    int64  \n",
            " 6   Удовлетворенность семеными отношениями     180 non-null    int64  \n",
            " 7   Удовлетворенность материальным положением  180 non-null    int64  \n",
            " 8   Здоровье от 1 до 10                        180 non-null    int64  \n",
            " 9   Были ли нарушения сна                      180 non-null    int64  \n",
            " 10  ИМТ                                        180 non-null    float64\n",
            " 11  Операции                                   180 non-null    int64  \n",
            " 12  ЧМТ                                        180 non-null    int64  \n",
            " 13  Насл отягощенность                         180 non-null    int64  \n",
            " 14  Дебют                                      180 non-null    float64\n",
            " 15  Частота госпит                             180 non-null    int64  \n",
            " 16  Стаж шизофр                                180 non-null    float64\n",
            " 17  P                                          180 non-null    int64  \n",
            " 18  N                                          180 non-null    int64  \n",
            " 19  G                                          180 non-null    int64  \n",
            " 20  Была попытка суицида?                      180 non-null    int64  \n",
            " 21  PSQI                                       180 non-null    int64  \n",
            " 22  psqi больше 5                              180 non-null    int64  \n",
            " 23  (ТРЕВОГА)Гаиильтон больше 16               180 non-null    int64  \n",
            " 24  (ДЕПРЕССИЯ)madrs больше 6                  180 non-null    int64  \n",
            " 25  (ДЕПРЕССИЯ)Калгари больше 5                180 non-null    int64  \n",
            "dtypes: float64(3), int64(21), object(2)\n",
            "memory usage: 36.7+ KB\n"
          ]
        }
      ]
    },
    {
      "cell_type": "code",
      "source": [],
      "metadata": {
        "id": "ydmKTum1euwu"
      },
      "execution_count": 5,
      "outputs": []
    },
    {
      "cell_type": "code",
      "source": [],
      "metadata": {
        "id": "FV4kacAYeuzT"
      },
      "execution_count": 5,
      "outputs": []
    },
    {
      "cell_type": "code",
      "source": [
        "ds[['N', 'PSQI']]"
      ],
      "metadata": {
        "id": "E1-ZYGviVJA_",
        "outputId": "a6bc4bb8-95ff-4bf5-f4d0-4b6374b7ee5e",
        "colab": {
          "base_uri": "https://localhost:8080/",
          "height": 424
        }
      },
      "execution_count": 6,
      "outputs": [
        {
          "output_type": "execute_result",
          "data": {
            "text/plain": [
              "      N  PSQI\n",
              "0    11     6\n",
              "1    25     8\n",
              "2    16     3\n",
              "3    13     6\n",
              "4    13     4\n",
              "..   ..   ...\n",
              "175  16     7\n",
              "176  26     5\n",
              "177  10    11\n",
              "178  18     5\n",
              "179  21     2\n",
              "\n",
              "[180 rows x 2 columns]"
            ],
            "text/html": [
              "\n",
              "  <div id=\"df-2acce0d6-3c22-4377-bec6-3648e22e2965\">\n",
              "    <div class=\"colab-df-container\">\n",
              "      <div>\n",
              "<style scoped>\n",
              "    .dataframe tbody tr th:only-of-type {\n",
              "        vertical-align: middle;\n",
              "    }\n",
              "\n",
              "    .dataframe tbody tr th {\n",
              "        vertical-align: top;\n",
              "    }\n",
              "\n",
              "    .dataframe thead th {\n",
              "        text-align: right;\n",
              "    }\n",
              "</style>\n",
              "<table border=\"1\" class=\"dataframe\">\n",
              "  <thead>\n",
              "    <tr style=\"text-align: right;\">\n",
              "      <th></th>\n",
              "      <th>N</th>\n",
              "      <th>PSQI</th>\n",
              "    </tr>\n",
              "  </thead>\n",
              "  <tbody>\n",
              "    <tr>\n",
              "      <th>0</th>\n",
              "      <td>11</td>\n",
              "      <td>6</td>\n",
              "    </tr>\n",
              "    <tr>\n",
              "      <th>1</th>\n",
              "      <td>25</td>\n",
              "      <td>8</td>\n",
              "    </tr>\n",
              "    <tr>\n",
              "      <th>2</th>\n",
              "      <td>16</td>\n",
              "      <td>3</td>\n",
              "    </tr>\n",
              "    <tr>\n",
              "      <th>3</th>\n",
              "      <td>13</td>\n",
              "      <td>6</td>\n",
              "    </tr>\n",
              "    <tr>\n",
              "      <th>4</th>\n",
              "      <td>13</td>\n",
              "      <td>4</td>\n",
              "    </tr>\n",
              "    <tr>\n",
              "      <th>...</th>\n",
              "      <td>...</td>\n",
              "      <td>...</td>\n",
              "    </tr>\n",
              "    <tr>\n",
              "      <th>175</th>\n",
              "      <td>16</td>\n",
              "      <td>7</td>\n",
              "    </tr>\n",
              "    <tr>\n",
              "      <th>176</th>\n",
              "      <td>26</td>\n",
              "      <td>5</td>\n",
              "    </tr>\n",
              "    <tr>\n",
              "      <th>177</th>\n",
              "      <td>10</td>\n",
              "      <td>11</td>\n",
              "    </tr>\n",
              "    <tr>\n",
              "      <th>178</th>\n",
              "      <td>18</td>\n",
              "      <td>5</td>\n",
              "    </tr>\n",
              "    <tr>\n",
              "      <th>179</th>\n",
              "      <td>21</td>\n",
              "      <td>2</td>\n",
              "    </tr>\n",
              "  </tbody>\n",
              "</table>\n",
              "<p>180 rows × 2 columns</p>\n",
              "</div>\n",
              "      <button class=\"colab-df-convert\" onclick=\"convertToInteractive('df-2acce0d6-3c22-4377-bec6-3648e22e2965')\"\n",
              "              title=\"Convert this dataframe to an interactive table.\"\n",
              "              style=\"display:none;\">\n",
              "        \n",
              "  <svg xmlns=\"http://www.w3.org/2000/svg\" height=\"24px\"viewBox=\"0 0 24 24\"\n",
              "       width=\"24px\">\n",
              "    <path d=\"M0 0h24v24H0V0z\" fill=\"none\"/>\n",
              "    <path d=\"M18.56 5.44l.94 2.06.94-2.06 2.06-.94-2.06-.94-.94-2.06-.94 2.06-2.06.94zm-11 1L8.5 8.5l.94-2.06 2.06-.94-2.06-.94L8.5 2.5l-.94 2.06-2.06.94zm10 10l.94 2.06.94-2.06 2.06-.94-2.06-.94-.94-2.06-.94 2.06-2.06.94z\"/><path d=\"M17.41 7.96l-1.37-1.37c-.4-.4-.92-.59-1.43-.59-.52 0-1.04.2-1.43.59L10.3 9.45l-7.72 7.72c-.78.78-.78 2.05 0 2.83L4 21.41c.39.39.9.59 1.41.59.51 0 1.02-.2 1.41-.59l7.78-7.78 2.81-2.81c.8-.78.8-2.07 0-2.86zM5.41 20L4 18.59l7.72-7.72 1.47 1.35L5.41 20z\"/>\n",
              "  </svg>\n",
              "      </button>\n",
              "      \n",
              "  <style>\n",
              "    .colab-df-container {\n",
              "      display:flex;\n",
              "      flex-wrap:wrap;\n",
              "      gap: 12px;\n",
              "    }\n",
              "\n",
              "    .colab-df-convert {\n",
              "      background-color: #E8F0FE;\n",
              "      border: none;\n",
              "      border-radius: 50%;\n",
              "      cursor: pointer;\n",
              "      display: none;\n",
              "      fill: #1967D2;\n",
              "      height: 32px;\n",
              "      padding: 0 0 0 0;\n",
              "      width: 32px;\n",
              "    }\n",
              "\n",
              "    .colab-df-convert:hover {\n",
              "      background-color: #E2EBFA;\n",
              "      box-shadow: 0px 1px 2px rgba(60, 64, 67, 0.3), 0px 1px 3px 1px rgba(60, 64, 67, 0.15);\n",
              "      fill: #174EA6;\n",
              "    }\n",
              "\n",
              "    [theme=dark] .colab-df-convert {\n",
              "      background-color: #3B4455;\n",
              "      fill: #D2E3FC;\n",
              "    }\n",
              "\n",
              "    [theme=dark] .colab-df-convert:hover {\n",
              "      background-color: #434B5C;\n",
              "      box-shadow: 0px 1px 3px 1px rgba(0, 0, 0, 0.15);\n",
              "      filter: drop-shadow(0px 1px 2px rgba(0, 0, 0, 0.3));\n",
              "      fill: #FFFFFF;\n",
              "    }\n",
              "  </style>\n",
              "\n",
              "      <script>\n",
              "        const buttonEl =\n",
              "          document.querySelector('#df-2acce0d6-3c22-4377-bec6-3648e22e2965 button.colab-df-convert');\n",
              "        buttonEl.style.display =\n",
              "          google.colab.kernel.accessAllowed ? 'block' : 'none';\n",
              "\n",
              "        async function convertToInteractive(key) {\n",
              "          const element = document.querySelector('#df-2acce0d6-3c22-4377-bec6-3648e22e2965');\n",
              "          const dataTable =\n",
              "            await google.colab.kernel.invokeFunction('convertToInteractive',\n",
              "                                                     [key], {});\n",
              "          if (!dataTable) return;\n",
              "\n",
              "          const docLinkHtml = 'Like what you see? Visit the ' +\n",
              "            '<a target=\"_blank\" href=https://colab.research.google.com/notebooks/data_table.ipynb>data table notebook</a>'\n",
              "            + ' to learn more about interactive tables.';\n",
              "          element.innerHTML = '';\n",
              "          dataTable['output_type'] = 'display_data';\n",
              "          await google.colab.output.renderOutput(dataTable, element);\n",
              "          const docLink = document.createElement('div');\n",
              "          docLink.innerHTML = docLinkHtml;\n",
              "          element.appendChild(docLink);\n",
              "        }\n",
              "      </script>\n",
              "    </div>\n",
              "  </div>\n",
              "  "
            ]
          },
          "metadata": {},
          "execution_count": 6
        }
      ]
    },
    {
      "cell_type": "code",
      "source": [
        "# import tensorflow_probability as tfp\n",
        "# tfp.stats.correlation(ds['PSQI'], ds['N'])"
      ],
      "metadata": {
        "id": "MryEqya5VJDa"
      },
      "execution_count": 7,
      "outputs": []
    },
    {
      "cell_type": "code",
      "source": [],
      "metadata": {
        "id": "2oclsp8-VJF0"
      },
      "execution_count": 7,
      "outputs": []
    },
    {
      "cell_type": "code",
      "source": [],
      "metadata": {
        "id": "UgENhvX1VJJL"
      },
      "execution_count": 7,
      "outputs": []
    },
    {
      "cell_type": "code",
      "source": [
        "ds.isna().sum()"
      ],
      "metadata": {
        "colab": {
          "base_uri": "https://localhost:8080/"
        },
        "id": "j5kHDI6VTxyX",
        "outputId": "afc83d6d-097b-4b3b-d299-d2a9ad695a5f"
      },
      "execution_count": 8,
      "outputs": [
        {
          "output_type": "execute_result",
          "data": {
            "text/plain": [
              "Снинговый номер                              0\n",
              "Пол                                          0\n",
              "Полных лет                                   0\n",
              "Образование(0-начальное, 4-высшее)           0\n",
              "Род занятий(0-0, работает-1                  0\n",
              "Семейное положение(0-0, 1-женат)             0\n",
              "Удовлетворенность семеными отношениями       0\n",
              "Удовлетворенность материальным положением    0\n",
              "Здоровье от 1 до 10                          0\n",
              "Были ли нарушения сна                        0\n",
              "ИМТ                                          0\n",
              "Операции                                     0\n",
              "ЧМТ                                          0\n",
              "Насл отягощенность                           0\n",
              "Дебют                                        0\n",
              "Частота госпит                               0\n",
              "Стаж шизофр                                  0\n",
              "P                                            0\n",
              "N                                            0\n",
              "G                                            0\n",
              "Была попытка суицида?                        0\n",
              "PSQI                                         0\n",
              "psqi больше 5                                0\n",
              "(ТРЕВОГА)Гаиильтон больше 16                 0\n",
              "(ДЕПРЕССИЯ)madrs больше 6                    0\n",
              "(ДЕПРЕССИЯ)Калгари больше 5                  0\n",
              "dtype: int64"
            ]
          },
          "metadata": {},
          "execution_count": 8
        }
      ]
    },
    {
      "cell_type": "code",
      "source": [],
      "metadata": {
        "id": "TXPhKu8mT4cS"
      },
      "execution_count": 8,
      "outputs": []
    },
    {
      "cell_type": "code",
      "execution_count": 9,
      "metadata": {
        "id": "pEJ79uoXQZdV"
      },
      "outputs": [],
      "source": [
        "# drop unnecessary columns\n",
        "ds = ds.drop(columns=['Снинговый номер'])\n",
        "# ds = ds.drop(columns=['Здоровье от 1 до 10', 'Удовлетворенность материальным положением', 'Рост', 'Вес', 'BARS (акатизия)', 'SAS (Экстрапир)', 'AIMS (непр дв)', 'ESS', 'шкала общего клин впечатления', 'шкала соц функционир'])"
      ]
    },
    {
      "cell_type": "code",
      "execution_count": 10,
      "metadata": {
        "colab": {
          "base_uri": "https://localhost:8080/"
        },
        "id": "R-YpnvKCkznI",
        "outputId": "405ed339-8ac5-4866-8a19-44d20b874e67"
      },
      "outputs": [
        {
          "output_type": "stream",
          "name": "stdout",
          "text": [
            "<class 'pandas.core.frame.DataFrame'>\n",
            "RangeIndex: 180 entries, 0 to 179\n",
            "Data columns (total 25 columns):\n",
            " #   Column                                     Non-Null Count  Dtype  \n",
            "---  ------                                     --------------  -----  \n",
            " 0   Пол                                        180 non-null    object \n",
            " 1   Полных лет                                 180 non-null    int64  \n",
            " 2   Образование(0-начальное, 4-высшее)         180 non-null    int64  \n",
            " 3   Род занятий(0-0, работает-1                180 non-null    int64  \n",
            " 4   Семейное положение(0-0, 1-женат)           180 non-null    int64  \n",
            " 5   Удовлетворенность семеными отношениями     180 non-null    int64  \n",
            " 6   Удовлетворенность материальным положением  180 non-null    int64  \n",
            " 7   Здоровье от 1 до 10                        180 non-null    int64  \n",
            " 8   Были ли нарушения сна                      180 non-null    int64  \n",
            " 9   ИМТ                                        180 non-null    float64\n",
            " 10  Операции                                   180 non-null    int64  \n",
            " 11  ЧМТ                                        180 non-null    int64  \n",
            " 12  Насл отягощенность                         180 non-null    int64  \n",
            " 13  Дебют                                      180 non-null    float64\n",
            " 14  Частота госпит                             180 non-null    int64  \n",
            " 15  Стаж шизофр                                180 non-null    float64\n",
            " 16  P                                          180 non-null    int64  \n",
            " 17  N                                          180 non-null    int64  \n",
            " 18  G                                          180 non-null    int64  \n",
            " 19  Была попытка суицида?                      180 non-null    int64  \n",
            " 20  PSQI                                       180 non-null    int64  \n",
            " 21  psqi больше 5                              180 non-null    int64  \n",
            " 22  (ТРЕВОГА)Гаиильтон больше 16               180 non-null    int64  \n",
            " 23  (ДЕПРЕССИЯ)madrs больше 6                  180 non-null    int64  \n",
            " 24  (ДЕПРЕССИЯ)Калгари больше 5                180 non-null    int64  \n",
            "dtypes: float64(3), int64(21), object(1)\n",
            "memory usage: 35.3+ KB\n"
          ]
        }
      ],
      "source": [
        "ds.info()"
      ]
    },
    {
      "cell_type": "code",
      "source": [],
      "metadata": {
        "id": "psWgB8oSkcF-"
      },
      "execution_count": 10,
      "outputs": []
    },
    {
      "cell_type": "code",
      "source": [
        "ds['Пол'].value_counts()"
      ],
      "metadata": {
        "colab": {
          "base_uri": "https://localhost:8080/"
        },
        "id": "Dy9-88v9bi2u",
        "outputId": "9fc0f4b5-1b81-4ac1-a0ca-325fe459b909"
      },
      "execution_count": 11,
      "outputs": [
        {
          "output_type": "execute_result",
          "data": {
            "text/plain": [
              "М    136\n",
              "Ж     44\n",
              "Name: Пол, dtype: int64"
            ]
          },
          "metadata": {},
          "execution_count": 11
        }
      ]
    },
    {
      "cell_type": "code",
      "source": [
        "ds['Пол'] = np.where(ds['Пол']=='М',1,0)"
      ],
      "metadata": {
        "id": "0HsMmuGXbX0i"
      },
      "execution_count": 12,
      "outputs": []
    },
    {
      "cell_type": "code",
      "source": [
        "ds['Пол'].value_counts()"
      ],
      "metadata": {
        "colab": {
          "base_uri": "https://localhost:8080/"
        },
        "id": "BTxS-svEbkoK",
        "outputId": "767f528c-575e-4e01-aaec-4647fb0b9f45"
      },
      "execution_count": 13,
      "outputs": [
        {
          "output_type": "execute_result",
          "data": {
            "text/plain": [
              "1    136\n",
              "0     44\n",
              "Name: Пол, dtype: int64"
            ]
          },
          "metadata": {},
          "execution_count": 13
        }
      ]
    },
    {
      "cell_type": "code",
      "execution_count": 14,
      "metadata": {
        "colab": {
          "base_uri": "https://localhost:8080/",
          "height": 352
        },
        "id": "eYGpxa6cG2Oi",
        "outputId": "8b60803c-8790-4c17-c865-4b3f1634e3e1"
      },
      "outputs": [
        {
          "output_type": "execute_result",
          "data": {
            "text/plain": [
              "   Пол  Полных лет  Образование(0-начальное, 4-высшее)  \\\n",
              "0    1          32                                   4   \n",
              "1    1          26                                   2   \n",
              "2    1          49                                   2   \n",
              "3    1          50                                   2   \n",
              "4    1          39                                   2   \n",
              "\n",
              "   Род занятий(0-0, работает-1  Семейное положение(0-0, 1-женат)  \\\n",
              "0                            0                                 0   \n",
              "1                            0                                 0   \n",
              "2                            0                                 0   \n",
              "3                            0                                 0   \n",
              "4                            0                                 0   \n",
              "\n",
              "   Удовлетворенность семеными отношениями  \\\n",
              "0                                       5   \n",
              "1                                       5   \n",
              "2                                       5   \n",
              "3                                       5   \n",
              "4                                       5   \n",
              "\n",
              "   Удовлетворенность материальным положением  Здоровье от 1 до 10  \\\n",
              "0                                          0                    7   \n",
              "1                                          0                   10   \n",
              "2                                          1                   10   \n",
              "3                                          1                    7   \n",
              "4                                          1                    7   \n",
              "\n",
              "   Были ли нарушения сна        ИМТ  ...  Стаж шизофр   P   N   G  \\\n",
              "0                      1  24.012346  ...          3.7  11  11  18   \n",
              "1                      1  20.244898  ...          2.0  10  25  36   \n",
              "2                      0  29.752744  ...         23.0   9  16  23   \n",
              "3                      1  22.093170  ...         34.0  13  13  20   \n",
              "4                      0  20.761246  ...          4.0   9  13  22   \n",
              "\n",
              "   Была попытка суицида?  PSQI  psqi больше 5  (ТРЕВОГА)Гаиильтон больше 16  \\\n",
              "0                      0     6              1                             0   \n",
              "1                      0     8              1                             0   \n",
              "2                      0     3              0                             0   \n",
              "3                      0     6              1                             0   \n",
              "4                      0     4              0                             0   \n",
              "\n",
              "   (ДЕПРЕССИЯ)madrs больше 6  (ДЕПРЕССИЯ)Калгари больше 5  \n",
              "0                          0                            0  \n",
              "1                          1                            1  \n",
              "2                          0                            0  \n",
              "3                          0                            0  \n",
              "4                          0                            0  \n",
              "\n",
              "[5 rows x 25 columns]"
            ],
            "text/html": [
              "\n",
              "  <div id=\"df-982148e7-0d5a-45b5-8988-c8fd397732a7\">\n",
              "    <div class=\"colab-df-container\">\n",
              "      <div>\n",
              "<style scoped>\n",
              "    .dataframe tbody tr th:only-of-type {\n",
              "        vertical-align: middle;\n",
              "    }\n",
              "\n",
              "    .dataframe tbody tr th {\n",
              "        vertical-align: top;\n",
              "    }\n",
              "\n",
              "    .dataframe thead th {\n",
              "        text-align: right;\n",
              "    }\n",
              "</style>\n",
              "<table border=\"1\" class=\"dataframe\">\n",
              "  <thead>\n",
              "    <tr style=\"text-align: right;\">\n",
              "      <th></th>\n",
              "      <th>Пол</th>\n",
              "      <th>Полных лет</th>\n",
              "      <th>Образование(0-начальное, 4-высшее)</th>\n",
              "      <th>Род занятий(0-0, работает-1</th>\n",
              "      <th>Семейное положение(0-0, 1-женат)</th>\n",
              "      <th>Удовлетворенность семеными отношениями</th>\n",
              "      <th>Удовлетворенность материальным положением</th>\n",
              "      <th>Здоровье от 1 до 10</th>\n",
              "      <th>Были ли нарушения сна</th>\n",
              "      <th>ИМТ</th>\n",
              "      <th>...</th>\n",
              "      <th>Стаж шизофр</th>\n",
              "      <th>P</th>\n",
              "      <th>N</th>\n",
              "      <th>G</th>\n",
              "      <th>Была попытка суицида?</th>\n",
              "      <th>PSQI</th>\n",
              "      <th>psqi больше 5</th>\n",
              "      <th>(ТРЕВОГА)Гаиильтон больше 16</th>\n",
              "      <th>(ДЕПРЕССИЯ)madrs больше 6</th>\n",
              "      <th>(ДЕПРЕССИЯ)Калгари больше 5</th>\n",
              "    </tr>\n",
              "  </thead>\n",
              "  <tbody>\n",
              "    <tr>\n",
              "      <th>0</th>\n",
              "      <td>1</td>\n",
              "      <td>32</td>\n",
              "      <td>4</td>\n",
              "      <td>0</td>\n",
              "      <td>0</td>\n",
              "      <td>5</td>\n",
              "      <td>0</td>\n",
              "      <td>7</td>\n",
              "      <td>1</td>\n",
              "      <td>24.012346</td>\n",
              "      <td>...</td>\n",
              "      <td>3.7</td>\n",
              "      <td>11</td>\n",
              "      <td>11</td>\n",
              "      <td>18</td>\n",
              "      <td>0</td>\n",
              "      <td>6</td>\n",
              "      <td>1</td>\n",
              "      <td>0</td>\n",
              "      <td>0</td>\n",
              "      <td>0</td>\n",
              "    </tr>\n",
              "    <tr>\n",
              "      <th>1</th>\n",
              "      <td>1</td>\n",
              "      <td>26</td>\n",
              "      <td>2</td>\n",
              "      <td>0</td>\n",
              "      <td>0</td>\n",
              "      <td>5</td>\n",
              "      <td>0</td>\n",
              "      <td>10</td>\n",
              "      <td>1</td>\n",
              "      <td>20.244898</td>\n",
              "      <td>...</td>\n",
              "      <td>2.0</td>\n",
              "      <td>10</td>\n",
              "      <td>25</td>\n",
              "      <td>36</td>\n",
              "      <td>0</td>\n",
              "      <td>8</td>\n",
              "      <td>1</td>\n",
              "      <td>0</td>\n",
              "      <td>1</td>\n",
              "      <td>1</td>\n",
              "    </tr>\n",
              "    <tr>\n",
              "      <th>2</th>\n",
              "      <td>1</td>\n",
              "      <td>49</td>\n",
              "      <td>2</td>\n",
              "      <td>0</td>\n",
              "      <td>0</td>\n",
              "      <td>5</td>\n",
              "      <td>1</td>\n",
              "      <td>10</td>\n",
              "      <td>0</td>\n",
              "      <td>29.752744</td>\n",
              "      <td>...</td>\n",
              "      <td>23.0</td>\n",
              "      <td>9</td>\n",
              "      <td>16</td>\n",
              "      <td>23</td>\n",
              "      <td>0</td>\n",
              "      <td>3</td>\n",
              "      <td>0</td>\n",
              "      <td>0</td>\n",
              "      <td>0</td>\n",
              "      <td>0</td>\n",
              "    </tr>\n",
              "    <tr>\n",
              "      <th>3</th>\n",
              "      <td>1</td>\n",
              "      <td>50</td>\n",
              "      <td>2</td>\n",
              "      <td>0</td>\n",
              "      <td>0</td>\n",
              "      <td>5</td>\n",
              "      <td>1</td>\n",
              "      <td>7</td>\n",
              "      <td>1</td>\n",
              "      <td>22.093170</td>\n",
              "      <td>...</td>\n",
              "      <td>34.0</td>\n",
              "      <td>13</td>\n",
              "      <td>13</td>\n",
              "      <td>20</td>\n",
              "      <td>0</td>\n",
              "      <td>6</td>\n",
              "      <td>1</td>\n",
              "      <td>0</td>\n",
              "      <td>0</td>\n",
              "      <td>0</td>\n",
              "    </tr>\n",
              "    <tr>\n",
              "      <th>4</th>\n",
              "      <td>1</td>\n",
              "      <td>39</td>\n",
              "      <td>2</td>\n",
              "      <td>0</td>\n",
              "      <td>0</td>\n",
              "      <td>5</td>\n",
              "      <td>1</td>\n",
              "      <td>7</td>\n",
              "      <td>0</td>\n",
              "      <td>20.761246</td>\n",
              "      <td>...</td>\n",
              "      <td>4.0</td>\n",
              "      <td>9</td>\n",
              "      <td>13</td>\n",
              "      <td>22</td>\n",
              "      <td>0</td>\n",
              "      <td>4</td>\n",
              "      <td>0</td>\n",
              "      <td>0</td>\n",
              "      <td>0</td>\n",
              "      <td>0</td>\n",
              "    </tr>\n",
              "  </tbody>\n",
              "</table>\n",
              "<p>5 rows × 25 columns</p>\n",
              "</div>\n",
              "      <button class=\"colab-df-convert\" onclick=\"convertToInteractive('df-982148e7-0d5a-45b5-8988-c8fd397732a7')\"\n",
              "              title=\"Convert this dataframe to an interactive table.\"\n",
              "              style=\"display:none;\">\n",
              "        \n",
              "  <svg xmlns=\"http://www.w3.org/2000/svg\" height=\"24px\"viewBox=\"0 0 24 24\"\n",
              "       width=\"24px\">\n",
              "    <path d=\"M0 0h24v24H0V0z\" fill=\"none\"/>\n",
              "    <path d=\"M18.56 5.44l.94 2.06.94-2.06 2.06-.94-2.06-.94-.94-2.06-.94 2.06-2.06.94zm-11 1L8.5 8.5l.94-2.06 2.06-.94-2.06-.94L8.5 2.5l-.94 2.06-2.06.94zm10 10l.94 2.06.94-2.06 2.06-.94-2.06-.94-.94-2.06-.94 2.06-2.06.94z\"/><path d=\"M17.41 7.96l-1.37-1.37c-.4-.4-.92-.59-1.43-.59-.52 0-1.04.2-1.43.59L10.3 9.45l-7.72 7.72c-.78.78-.78 2.05 0 2.83L4 21.41c.39.39.9.59 1.41.59.51 0 1.02-.2 1.41-.59l7.78-7.78 2.81-2.81c.8-.78.8-2.07 0-2.86zM5.41 20L4 18.59l7.72-7.72 1.47 1.35L5.41 20z\"/>\n",
              "  </svg>\n",
              "      </button>\n",
              "      \n",
              "  <style>\n",
              "    .colab-df-container {\n",
              "      display:flex;\n",
              "      flex-wrap:wrap;\n",
              "      gap: 12px;\n",
              "    }\n",
              "\n",
              "    .colab-df-convert {\n",
              "      background-color: #E8F0FE;\n",
              "      border: none;\n",
              "      border-radius: 50%;\n",
              "      cursor: pointer;\n",
              "      display: none;\n",
              "      fill: #1967D2;\n",
              "      height: 32px;\n",
              "      padding: 0 0 0 0;\n",
              "      width: 32px;\n",
              "    }\n",
              "\n",
              "    .colab-df-convert:hover {\n",
              "      background-color: #E2EBFA;\n",
              "      box-shadow: 0px 1px 2px rgba(60, 64, 67, 0.3), 0px 1px 3px 1px rgba(60, 64, 67, 0.15);\n",
              "      fill: #174EA6;\n",
              "    }\n",
              "\n",
              "    [theme=dark] .colab-df-convert {\n",
              "      background-color: #3B4455;\n",
              "      fill: #D2E3FC;\n",
              "    }\n",
              "\n",
              "    [theme=dark] .colab-df-convert:hover {\n",
              "      background-color: #434B5C;\n",
              "      box-shadow: 0px 1px 3px 1px rgba(0, 0, 0, 0.15);\n",
              "      filter: drop-shadow(0px 1px 2px rgba(0, 0, 0, 0.3));\n",
              "      fill: #FFFFFF;\n",
              "    }\n",
              "  </style>\n",
              "\n",
              "      <script>\n",
              "        const buttonEl =\n",
              "          document.querySelector('#df-982148e7-0d5a-45b5-8988-c8fd397732a7 button.colab-df-convert');\n",
              "        buttonEl.style.display =\n",
              "          google.colab.kernel.accessAllowed ? 'block' : 'none';\n",
              "\n",
              "        async function convertToInteractive(key) {\n",
              "          const element = document.querySelector('#df-982148e7-0d5a-45b5-8988-c8fd397732a7');\n",
              "          const dataTable =\n",
              "            await google.colab.kernel.invokeFunction('convertToInteractive',\n",
              "                                                     [key], {});\n",
              "          if (!dataTable) return;\n",
              "\n",
              "          const docLinkHtml = 'Like what you see? Visit the ' +\n",
              "            '<a target=\"_blank\" href=https://colab.research.google.com/notebooks/data_table.ipynb>data table notebook</a>'\n",
              "            + ' to learn more about interactive tables.';\n",
              "          element.innerHTML = '';\n",
              "          dataTable['output_type'] = 'display_data';\n",
              "          await google.colab.output.renderOutput(dataTable, element);\n",
              "          const docLink = document.createElement('div');\n",
              "          docLink.innerHTML = docLinkHtml;\n",
              "          element.appendChild(docLink);\n",
              "        }\n",
              "      </script>\n",
              "    </div>\n",
              "  </div>\n",
              "  "
            ]
          },
          "metadata": {},
          "execution_count": 14
        }
      ],
      "source": [
        "ds.head()"
      ]
    },
    {
      "cell_type": "code",
      "execution_count": 15,
      "metadata": {
        "colab": {
          "base_uri": "https://localhost:8080/"
        },
        "id": "-dNDEEZMXqCI",
        "outputId": "3c5e2c41-35bf-4e35-8f35-ee84ee7deef6"
      },
      "outputs": [
        {
          "output_type": "execute_result",
          "data": {
            "text/plain": [
              "Пол                                          0\n",
              "Полных лет                                   0\n",
              "Образование(0-начальное, 4-высшее)           0\n",
              "Род занятий(0-0, работает-1                  0\n",
              "Семейное положение(0-0, 1-женат)             0\n",
              "Удовлетворенность семеными отношениями       0\n",
              "Удовлетворенность материальным положением    0\n",
              "Здоровье от 1 до 10                          0\n",
              "Были ли нарушения сна                        0\n",
              "ИМТ                                          0\n",
              "Операции                                     0\n",
              "ЧМТ                                          0\n",
              "Насл отягощенность                           0\n",
              "Дебют                                        0\n",
              "Частота госпит                               0\n",
              "Стаж шизофр                                  0\n",
              "P                                            0\n",
              "N                                            0\n",
              "G                                            0\n",
              "Была попытка суицида?                        0\n",
              "PSQI                                         0\n",
              "psqi больше 5                                0\n",
              "(ТРЕВОГА)Гаиильтон больше 16                 0\n",
              "(ДЕПРЕССИЯ)madrs больше 6                    0\n",
              "(ДЕПРЕССИЯ)Калгари больше 5                  0\n",
              "dtype: int64"
            ]
          },
          "metadata": {},
          "execution_count": 15
        }
      ],
      "source": [
        "# Check for na values\n",
        "ds.isna().sum()"
      ]
    },
    {
      "cell_type": "code",
      "execution_count": 16,
      "metadata": {
        "colab": {
          "base_uri": "https://localhost:8080/"
        },
        "id": "Kak3ZDUIIWNo",
        "outputId": "4bd64142-2b8a-403d-e621-90cbcd942c90"
      },
      "outputs": [
        {
          "output_type": "stream",
          "name": "stdout",
          "text": [
            "<class 'pandas.core.frame.DataFrame'>\n",
            "RangeIndex: 180 entries, 0 to 179\n",
            "Data columns (total 25 columns):\n",
            " #   Column                                     Non-Null Count  Dtype  \n",
            "---  ------                                     --------------  -----  \n",
            " 0   Пол                                        180 non-null    int64  \n",
            " 1   Полных лет                                 180 non-null    int64  \n",
            " 2   Образование(0-начальное, 4-высшее)         180 non-null    int64  \n",
            " 3   Род занятий(0-0, работает-1                180 non-null    int64  \n",
            " 4   Семейное положение(0-0, 1-женат)           180 non-null    int64  \n",
            " 5   Удовлетворенность семеными отношениями     180 non-null    int64  \n",
            " 6   Удовлетворенность материальным положением  180 non-null    int64  \n",
            " 7   Здоровье от 1 до 10                        180 non-null    int64  \n",
            " 8   Были ли нарушения сна                      180 non-null    int64  \n",
            " 9   ИМТ                                        180 non-null    float64\n",
            " 10  Операции                                   180 non-null    int64  \n",
            " 11  ЧМТ                                        180 non-null    int64  \n",
            " 12  Насл отягощенность                         180 non-null    int64  \n",
            " 13  Дебют                                      180 non-null    float64\n",
            " 14  Частота госпит                             180 non-null    int64  \n",
            " 15  Стаж шизофр                                180 non-null    float64\n",
            " 16  P                                          180 non-null    int64  \n",
            " 17  N                                          180 non-null    int64  \n",
            " 18  G                                          180 non-null    int64  \n",
            " 19  Была попытка суицида?                      180 non-null    int64  \n",
            " 20  PSQI                                       180 non-null    int64  \n",
            " 21  psqi больше 5                              180 non-null    int64  \n",
            " 22  (ТРЕВОГА)Гаиильтон больше 16               180 non-null    int64  \n",
            " 23  (ДЕПРЕССИЯ)madrs больше 6                  180 non-null    int64  \n",
            " 24  (ДЕПРЕССИЯ)Калгари больше 5                180 non-null    int64  \n",
            "dtypes: float64(3), int64(22)\n",
            "memory usage: 35.3 KB\n"
          ]
        }
      ],
      "source": [
        "ds.info()"
      ]
    },
    {
      "cell_type": "code",
      "execution_count": 17,
      "metadata": {
        "colab": {
          "base_uri": "https://localhost:8080/"
        },
        "id": "kLmf_yhQIdAS",
        "outputId": "d2be12e5-222e-4718-94b1-7b03174f898c"
      },
      "outputs": [
        {
          "output_type": "stream",
          "name": "stdout",
          "text": [
            "<class 'pandas.core.frame.DataFrame'>\n",
            "RangeIndex: 180 entries, 0 to 179\n",
            "Data columns (total 25 columns):\n",
            " #   Column                                     Non-Null Count  Dtype  \n",
            "---  ------                                     --------------  -----  \n",
            " 0   Пол                                        180 non-null    float32\n",
            " 1   Полных лет                                 180 non-null    float32\n",
            " 2   Образование(0-начальное, 4-высшее)         180 non-null    float32\n",
            " 3   Род занятий(0-0, работает-1                180 non-null    float32\n",
            " 4   Семейное положение(0-0, 1-женат)           180 non-null    float32\n",
            " 5   Удовлетворенность семеными отношениями     180 non-null    float32\n",
            " 6   Удовлетворенность материальным положением  180 non-null    float32\n",
            " 7   Здоровье от 1 до 10                        180 non-null    float32\n",
            " 8   Были ли нарушения сна                      180 non-null    float32\n",
            " 9   ИМТ                                        180 non-null    float32\n",
            " 10  Операции                                   180 non-null    float32\n",
            " 11  ЧМТ                                        180 non-null    float32\n",
            " 12  Насл отягощенность                         180 non-null    float32\n",
            " 13  Дебют                                      180 non-null    float32\n",
            " 14  Частота госпит                             180 non-null    float32\n",
            " 15  Стаж шизофр                                180 non-null    float32\n",
            " 16  P                                          180 non-null    float32\n",
            " 17  N                                          180 non-null    float32\n",
            " 18  G                                          180 non-null    float32\n",
            " 19  Была попытка суицида?                      180 non-null    float32\n",
            " 20  PSQI                                       180 non-null    float32\n",
            " 21  psqi больше 5                              180 non-null    float32\n",
            " 22  (ТРЕВОГА)Гаиильтон больше 16               180 non-null    float32\n",
            " 23  (ДЕПРЕССИЯ)madrs больше 6                  180 non-null    float32\n",
            " 24  (ДЕПРЕССИЯ)Калгари больше 5                180 non-null    float32\n",
            "dtypes: float32(25)\n",
            "memory usage: 17.7 KB\n"
          ]
        }
      ],
      "source": [
        "# turn dataset to float32\n",
        "ds = ds.astype(np.float32)\n",
        "ds.info()"
      ]
    },
    {
      "cell_type": "code",
      "execution_count": 18,
      "metadata": {
        "colab": {
          "base_uri": "https://localhost:8080/"
        },
        "id": "A5Ai6pimUakX",
        "outputId": "78ca6bed-7716-40bd-9ed4-3783aa2e27a4"
      },
      "outputs": [
        {
          "output_type": "execute_result",
          "data": {
            "text/plain": [
              "1.0    105\n",
              "0.0     75\n",
              "Name: psqi больше 5, dtype: int64"
            ]
          },
          "metadata": {},
          "execution_count": 18
        }
      ],
      "source": [
        "ds['psqi больше 5'].value_counts()"
      ]
    },
    {
      "cell_type": "code",
      "execution_count": 19,
      "metadata": {
        "colab": {
          "base_uri": "https://localhost:8080/"
        },
        "id": "4fytj8feUaq7",
        "outputId": "888bfaee-507f-4900-d72c-c5284337f8d5"
      },
      "outputs": [
        {
          "output_type": "execute_result",
          "data": {
            "text/plain": [
              "0.0    139\n",
              "1.0     41\n",
              "Name: (ТРЕВОГА)Гаиильтон больше 16, dtype: int64"
            ]
          },
          "metadata": {},
          "execution_count": 19
        }
      ],
      "source": [
        "ds['(ТРЕВОГА)Гаиильтон больше 16'].value_counts()\n"
      ]
    },
    {
      "cell_type": "code",
      "execution_count": 20,
      "metadata": {
        "colab": {
          "base_uri": "https://localhost:8080/"
        },
        "id": "Z96bukAkUata",
        "outputId": "93179817-8576-459b-b297-c73e6320155f"
      },
      "outputs": [
        {
          "output_type": "execute_result",
          "data": {
            "text/plain": [
              "0.0    121\n",
              "1.0     59\n",
              "Name: (ДЕПРЕССИЯ)madrs больше 6, dtype: int64"
            ]
          },
          "metadata": {},
          "execution_count": 20
        }
      ],
      "source": [
        "ds['(ДЕПРЕССИЯ)madrs больше 6'].value_counts()"
      ]
    },
    {
      "cell_type": "code",
      "source": [
        "ds['(ДЕПРЕССИЯ)Калгари больше 5'].value_counts()"
      ],
      "metadata": {
        "colab": {
          "base_uri": "https://localhost:8080/"
        },
        "id": "o2SUV1exnNuK",
        "outputId": "e92d422a-87a4-4b24-a3ae-741ecc510915"
      },
      "execution_count": 21,
      "outputs": [
        {
          "output_type": "execute_result",
          "data": {
            "text/plain": [
              "0.0    139\n",
              "1.0     41\n",
              "Name: (ДЕПРЕССИЯ)Калгари больше 5, dtype: int64"
            ]
          },
          "metadata": {},
          "execution_count": 21
        }
      ]
    },
    {
      "cell_type": "code",
      "execution_count": 22,
      "metadata": {
        "id": "z0Fx5Wsrk2mi"
      },
      "outputs": [],
      "source": [
        "# Let's try to use 'psqi больше 5' as y value\n",
        "data = ds"
      ]
    },
    {
      "cell_type": "code",
      "execution_count": 23,
      "metadata": {
        "id": "x-rJ0J9gvL8Q"
      },
      "outputs": [],
      "source": [
        "# Create X, y\n",
        "y = data['psqi больше 5']\n",
        "X = data.drop(columns=['PSQI', 'psqi больше 5', '(ТРЕВОГА)Гаиильтон больше 16', '(ДЕПРЕССИЯ)madrs больше 6', '(ДЕПРЕССИЯ)Калгари больше 5'])\n",
        "# X = data.drop(columns=['Нарушения сна больше 5'])"
      ]
    },
    {
      "cell_type": "code",
      "source": [],
      "metadata": {
        "id": "JV3JWvaa8vS2"
      },
      "execution_count": 23,
      "outputs": []
    },
    {
      "cell_type": "code",
      "source": [
        "X.columns"
      ],
      "metadata": {
        "id": "I1vVG5N_8vWH",
        "outputId": "cec971f4-5f5d-424f-87c1-a7568ef7c273",
        "colab": {
          "base_uri": "https://localhost:8080/"
        }
      },
      "execution_count": 24,
      "outputs": [
        {
          "output_type": "execute_result",
          "data": {
            "text/plain": [
              "Index(['Пол', 'Полных лет', 'Образование(0-начальное, 4-высшее)',\n",
              "       'Род занятий(0-0, работает-1', 'Семейное положение(0-0, 1-женат)',\n",
              "       'Удовлетворенность семеными отношениями',\n",
              "       'Удовлетворенность материальным положением', 'Здоровье от 1 до 10',\n",
              "       'Были ли нарушения сна', 'ИМТ', 'Операции', 'ЧМТ', 'Насл отягощенность',\n",
              "       'Дебют', 'Частота госпит', 'Стаж шизофр', 'P', 'N', 'G',\n",
              "       'Была попытка суицида?'],\n",
              "      dtype='object')"
            ]
          },
          "metadata": {},
          "execution_count": 24
        }
      ]
    },
    {
      "cell_type": "code",
      "source": [
        "X['Пол'].plot.hist()"
      ],
      "metadata": {
        "id": "TvFjqRJs9FKq",
        "outputId": "c563d3c9-b938-461d-80ab-f5cf00b62c7f",
        "colab": {
          "base_uri": "https://localhost:8080/",
          "height": 282
        }
      },
      "execution_count": 25,
      "outputs": [
        {
          "output_type": "execute_result",
          "data": {
            "text/plain": [
              "<matplotlib.axes._subplots.AxesSubplot at 0x7fc530595210>"
            ]
          },
          "metadata": {},
          "execution_count": 25
        },
        {
          "output_type": "display_data",
          "data": {
            "text/plain": [
              "<Figure size 432x288 with 1 Axes>"
            ],
            "image/png": "[encoded data removed]"
          },
          "metadata": {
            "needs_background": "light"
          }
        }
      ]
    },
    {
      "cell_type": "code",
      "source": [
        "X['Полных лет'].plot.hist()"
      ],
      "metadata": {
        "id": "cSzNKuAE8vY0",
        "outputId": "e2f24447-a170-4783-b942-2ebd3b344cf5",
        "colab": {
          "base_uri": "https://localhost:8080/",
          "height": 282
        }
      },
      "execution_count": 26,
      "outputs": [
        {
          "output_type": "execute_result",
          "data": {
            "text/plain": [
              "<matplotlib.axes._subplots.AxesSubplot at 0x7fc53003ba50>"
            ]
          },
          "metadata": {},
          "execution_count": 26
        },
        {
          "output_type": "display_data",
          "data": {
            "text/plain": [
              "<Figure size 432x288 with 1 Axes>"
            ],
            "image/png": "[encoded data removed]"
          },
          "metadata": {
            "needs_background": "light"
          }
        }
      ]
    },
    {
      "cell_type": "code",
      "source": [
        "X['Образование(0-начальное, 4-высшее)'].plot.hist()"
      ],
      "metadata": {
        "id": "rS7RThGt8vbA",
        "outputId": "4e1f86a1-913f-439a-8f23-a36c50a721fc",
        "colab": {
          "base_uri": "https://localhost:8080/",
          "height": 282
        }
      },
      "execution_count": 27,
      "outputs": [
        {
          "output_type": "execute_result",
          "data": {
            "text/plain": [
              "<matplotlib.axes._subplots.AxesSubplot at 0x7fc52ffde590>"
            ]
          },
          "metadata": {},
          "execution_count": 27
        },
        {
          "output_type": "display_data",
          "data": {
            "text/plain": [
              "<Figure size 432x288 with 1 Axes>"
            ],
            "image/png": "[encoded data removed]"
          },
          "metadata": {
            "needs_background": "light"
          }
        }
      ]
    },
    {
      "cell_type": "code",
      "source": [
        "X['Удовлетворенность семеными отношениями'].plot.hist()"
      ],
      "metadata": {
        "id": "qcJXSM9x9KeR",
        "outputId": "745de3df-40d2-4919-d63b-cc9ab891c927",
        "colab": {
          "base_uri": "https://localhost:8080/",
          "height": 282
        }
      },
      "execution_count": 28,
      "outputs": [
        {
          "output_type": "execute_result",
          "data": {
            "text/plain": [
              "<matplotlib.axes._subplots.AxesSubplot at 0x7fc52feffe10>"
            ]
          },
          "metadata": {},
          "execution_count": 28
        },
        {
          "output_type": "display_data",
          "data": {
            "text/plain": [
              "<Figure size 432x288 with 1 Axes>"
            ],
            "image/png": "[encoded data removed]"
          },
          "metadata": {
            "needs_background": "light"
          }
        }
      ]
    },
    {
      "cell_type": "code",
      "source": [
        "X['Удовлетворенность материальным положением'].plot.hist()"
      ],
      "metadata": {
        "id": "ZaW99Tv29M2p",
        "outputId": "d277e548-68e5-4723-d848-ed9a1708ae28",
        "colab": {
          "base_uri": "https://localhost:8080/",
          "height": 282
        }
      },
      "execution_count": 29,
      "outputs": [
        {
          "output_type": "execute_result",
          "data": {
            "text/plain": [
              "<matplotlib.axes._subplots.AxesSubplot at 0x7fc52fe85190>"
            ]
          },
          "metadata": {},
          "execution_count": 29
        },
        {
          "output_type": "display_data",
          "data": {
            "text/plain": [
              "<Figure size 432x288 with 1 Axes>"
            ],
            "image/png": "[encoded data removed]"
          },
          "metadata": {
            "needs_background": "light"
          }
        }
      ]
    },
    {
      "cell_type": "code",
      "source": [
        "X['Здоровье от 1 до 10'].plot.hist()"
      ],
      "metadata": {
        "id": "t9RAlre-9NDZ",
        "outputId": "11f7d2d9-19f6-41ff-94fa-9a3a03f07bf1",
        "colab": {
          "base_uri": "https://localhost:8080/",
          "height": 283
        }
      },
      "execution_count": 30,
      "outputs": [
        {
          "output_type": "execute_result",
          "data": {
            "text/plain": [
              "<matplotlib.axes._subplots.AxesSubplot at 0x7fc52fe18590>"
            ]
          },
          "metadata": {},
          "execution_count": 30
        },
        {
          "output_type": "display_data",
          "data": {
            "text/plain": [
              "<Figure size 432x288 with 1 Axes>"
            ],
            "image/png": "[encoded data removed]"
          },
          "metadata": {
            "needs_background": "light"
          }
        }
      ]
    },
    {
      "cell_type": "code",
      "source": [
        "X['Были ли нарушения сна'].plot.hist()"
      ],
      "metadata": {
        "id": "vHaj2_J99NR3",
        "outputId": "c1259ed3-dab2-449e-e23f-eec2635be975",
        "colab": {
          "base_uri": "https://localhost:8080/",
          "height": 282
        }
      },
      "execution_count": 31,
      "outputs": [
        {
          "output_type": "execute_result",
          "data": {
            "text/plain": [
              "<matplotlib.axes._subplots.AxesSubplot at 0x7fc52fd9ad90>"
            ]
          },
          "metadata": {},
          "execution_count": 31
        },
        {
          "output_type": "display_data",
          "data": {
            "text/plain": [
              "<Figure size 432x288 with 1 Axes>"
            ],
            "image/png": "[encoded data removed]"
          },
          "metadata": {
            "needs_background": "light"
          }
        }
      ]
    },
    {
      "cell_type": "code",
      "source": [
        "X['ИМТ'].plot.hist()"
      ],
      "metadata": {
        "id": "1xC2ChxODvpM",
        "outputId": "f447ffbf-3df3-4e85-eb7a-1d6005c3336c",
        "colab": {
          "base_uri": "https://localhost:8080/",
          "height": 282
        }
      },
      "execution_count": 32,
      "outputs": [
        {
          "output_type": "execute_result",
          "data": {
            "text/plain": [
              "<matplotlib.axes._subplots.AxesSubplot at 0x7fc52fd20c90>"
            ]
          },
          "metadata": {},
          "execution_count": 32
        },
        {
          "output_type": "display_data",
          "data": {
            "text/plain": [
              "<Figure size 432x288 with 1 Axes>"
            ],
            "image/png": "[encoded data removed]"
          },
          "metadata": {
            "needs_background": "light"
          }
        }
      ]
    },
    {
      "cell_type": "code",
      "source": [
        "X['Операции'].plot.hist()"
      ],
      "metadata": {
        "id": "QKyiTn8z8vdN",
        "outputId": "dad389a9-11c5-4b96-b270-892e3668fafa",
        "colab": {
          "base_uri": "https://localhost:8080/",
          "height": 282
        }
      },
      "execution_count": 33,
      "outputs": [
        {
          "output_type": "execute_result",
          "data": {
            "text/plain": [
              "<matplotlib.axes._subplots.AxesSubplot at 0x7fc52fcb3790>"
            ]
          },
          "metadata": {},
          "execution_count": 33
        },
        {
          "output_type": "display_data",
          "data": {
            "text/plain": [
              "<Figure size 432x288 with 1 Axes>"
            ],
            "image/png": "[encoded data removed]"
          },
          "metadata": {
            "needs_background": "light"
          }
        }
      ]
    },
    {
      "cell_type": "code",
      "source": [
        "# X['Аллергии'].plot.hist()"
      ],
      "metadata": {
        "id": "9mM7BGvI9N5N"
      },
      "execution_count": 34,
      "outputs": []
    },
    {
      "cell_type": "code",
      "source": [
        "# X['Забол кожи'].plot.hist()"
      ],
      "metadata": {
        "id": "9OIttp848vfV"
      },
      "execution_count": 35,
      "outputs": []
    },
    {
      "cell_type": "code",
      "source": [
        "# X['ГБ'].plot.hist()"
      ],
      "metadata": {
        "id": "UQSDw5Sj9P2P"
      },
      "execution_count": 36,
      "outputs": []
    },
    {
      "cell_type": "code",
      "source": [
        "# X['Панкреатит'].plot.hist()"
      ],
      "metadata": {
        "id": "IkrDKxnY9P4y"
      },
      "execution_count": 37,
      "outputs": []
    },
    {
      "cell_type": "code",
      "source": [
        "# X['Дисфункция ЖКТ'].plot.hist()"
      ],
      "metadata": {
        "id": "fe_keiy09P7M"
      },
      "execution_count": 38,
      "outputs": []
    },
    {
      "cell_type": "code",
      "source": [
        "X['ЧМТ'].plot.hist()"
      ],
      "metadata": {
        "id": "loEyKK3y9P9v",
        "outputId": "b7efd4a6-36f4-4a0b-da3a-c4efe94f0cc3",
        "colab": {
          "base_uri": "https://localhost:8080/",
          "height": 282
        }
      },
      "execution_count": 39,
      "outputs": [
        {
          "output_type": "execute_result",
          "data": {
            "text/plain": [
              "<matplotlib.axes._subplots.AxesSubplot at 0x7fc52fbc3c90>"
            ]
          },
          "metadata": {},
          "execution_count": 39
        },
        {
          "output_type": "display_data",
          "data": {
            "text/plain": [
              "<Figure size 432x288 with 1 Axes>"
            ],
            "image/png": "[encoded data removed]"
          },
          "metadata": {
            "needs_background": "light"
          }
        }
      ]
    },
    {
      "cell_type": "code",
      "source": [
        "X['Насл отягощенность'].plot.hist()"
      ],
      "metadata": {
        "id": "lB6JgIeJ9QAB",
        "outputId": "16d1605b-240a-4d5a-d64b-153753e39e38",
        "colab": {
          "base_uri": "https://localhost:8080/",
          "height": 285
        }
      },
      "execution_count": 40,
      "outputs": [
        {
          "output_type": "execute_result",
          "data": {
            "text/plain": [
              "<matplotlib.axes._subplots.AxesSubplot at 0x7fc52fb41210>"
            ]
          },
          "metadata": {},
          "execution_count": 40
        },
        {
          "output_type": "display_data",
          "data": {
            "text/plain": [
              "<Figure size 432x288 with 1 Axes>"
            ],
            "image/png": "[encoded data removed]"
          },
          "metadata": {
            "needs_background": "light"
          }
        }
      ]
    },
    {
      "cell_type": "code",
      "source": [
        "X['Дебют'].plot.hist()"
      ],
      "metadata": {
        "id": "73hXHFoX9QCa",
        "outputId": "e1626673-1ed7-4916-fb5d-0cb6211732e3",
        "colab": {
          "base_uri": "https://localhost:8080/",
          "height": 282
        }
      },
      "execution_count": 41,
      "outputs": [
        {
          "output_type": "execute_result",
          "data": {
            "text/plain": [
              "<matplotlib.axes._subplots.AxesSubplot at 0x7fc52fad9e90>"
            ]
          },
          "metadata": {},
          "execution_count": 41
        },
        {
          "output_type": "display_data",
          "data": {
            "text/plain": [
              "<Figure size 432x288 with 1 Axes>"
            ],
            "image/png": "[encoded data removed]"
          },
          "metadata": {
            "needs_background": "light"
          }
        }
      ]
    },
    {
      "cell_type": "code",
      "source": [
        "X['Частота госпит'].plot.hist()"
      ],
      "metadata": {
        "id": "dfRTqleE9QFD",
        "outputId": "fc92b886-98f7-4416-8583-0cce6b1af622",
        "colab": {
          "base_uri": "https://localhost:8080/",
          "height": 282
        }
      },
      "execution_count": 42,
      "outputs": [
        {
          "output_type": "execute_result",
          "data": {
            "text/plain": [
              "<matplotlib.axes._subplots.AxesSubplot at 0x7fc52fa91410>"
            ]
          },
          "metadata": {},
          "execution_count": 42
        },
        {
          "output_type": "display_data",
          "data": {
            "text/plain": [
              "<Figure size 432x288 with 1 Axes>"
            ],
            "image/png": "[encoded data removed]"
          },
          "metadata": {
            "needs_background": "light"
          }
        }
      ]
    },
    {
      "cell_type": "code",
      "source": [
        "X['Стаж шизофр'].plot.hist()"
      ],
      "metadata": {
        "id": "MPLll8-L9u8u",
        "outputId": "ad1a5470-f0cc-42dc-ca2a-1fad1f1947b7",
        "colab": {
          "base_uri": "https://localhost:8080/",
          "height": 282
        }
      },
      "execution_count": 43,
      "outputs": [
        {
          "output_type": "execute_result",
          "data": {
            "text/plain": [
              "<matplotlib.axes._subplots.AxesSubplot at 0x7fc52fe10390>"
            ]
          },
          "metadata": {},
          "execution_count": 43
        },
        {
          "output_type": "display_data",
          "data": {
            "text/plain": [
              "<Figure size 432x288 with 1 Axes>"
            ],
            "image/png": "[encoded data removed]"
          },
          "metadata": {
            "needs_background": "light"
          }
        }
      ]
    },
    {
      "cell_type": "code",
      "source": [
        "X['P'].plot.hist()"
      ],
      "metadata": {
        "id": "WR2YxXxd9u_V",
        "outputId": "60f051a6-42ce-470f-f0f2-92bbea532045",
        "colab": {
          "base_uri": "https://localhost:8080/",
          "height": 282
        }
      },
      "execution_count": 44,
      "outputs": [
        {
          "output_type": "execute_result",
          "data": {
            "text/plain": [
              "<matplotlib.axes._subplots.AxesSubplot at 0x7fc52f957fd0>"
            ]
          },
          "metadata": {},
          "execution_count": 44
        },
        {
          "output_type": "display_data",
          "data": {
            "text/plain": [
              "<Figure size 432x288 with 1 Axes>"
            ],
            "image/png": "[encoded data removed]"
          },
          "metadata": {
            "needs_background": "light"
          }
        }
      ]
    },
    {
      "cell_type": "code",
      "source": [
        "X['N'].plot.hist()"
      ],
      "metadata": {
        "id": "n15glR8-9vB2",
        "outputId": "77bc2299-6d83-46fb-c342-a329a1860b9c",
        "colab": {
          "base_uri": "https://localhost:8080/",
          "height": 282
        }
      },
      "execution_count": 45,
      "outputs": [
        {
          "output_type": "execute_result",
          "data": {
            "text/plain": [
              "<matplotlib.axes._subplots.AxesSubplot at 0x7fc52f8e2150>"
            ]
          },
          "metadata": {},
          "execution_count": 45
        },
        {
          "output_type": "display_data",
          "data": {
            "text/plain": [
              "<Figure size 432x288 with 1 Axes>"
            ],
            "image/png": "[encoded data removed]"
          },
          "metadata": {
            "needs_background": "light"
          }
        }
      ]
    },
    {
      "cell_type": "code",
      "source": [
        "X['G'].plot.hist()"
      ],
      "metadata": {
        "id": "jNFwr3Rt9vEi",
        "outputId": "3c048b4e-22ea-48cf-bf8c-bff089ec1d4f",
        "colab": {
          "base_uri": "https://localhost:8080/",
          "height": 282
        }
      },
      "execution_count": 46,
      "outputs": [
        {
          "output_type": "execute_result",
          "data": {
            "text/plain": [
              "<matplotlib.axes._subplots.AxesSubplot at 0x7fc52f860ad0>"
            ]
          },
          "metadata": {},
          "execution_count": 46
        },
        {
          "output_type": "display_data",
          "data": {
            "text/plain": [
              "<Figure size 432x288 with 1 Axes>"
            ],
            "image/png": "[encoded data removed]"
          },
          "metadata": {
            "needs_background": "light"
          }
        }
      ]
    },
    {
      "cell_type": "code",
      "source": [
        "X['Была попытка суицида?'].plot.hist()"
      ],
      "metadata": {
        "id": "3Fwjsi4iNyVs",
        "outputId": "e74a9005-e1c8-4987-851e-c187172dc46d",
        "colab": {
          "base_uri": "https://localhost:8080/",
          "height": 282
        }
      },
      "execution_count": 47,
      "outputs": [
        {
          "output_type": "execute_result",
          "data": {
            "text/plain": [
              "<matplotlib.axes._subplots.AxesSubplot at 0x7fc52fc09750>"
            ]
          },
          "metadata": {},
          "execution_count": 47
        },
        {
          "output_type": "display_data",
          "data": {
            "text/plain": [
              "<Figure size 432x288 with 1 Axes>"
            ],
            "image/png": "[encoded data removed]"
          },
          "metadata": {
            "needs_background": "light"
          }
        }
      ]
    },
    {
      "cell_type": "code",
      "source": [
        "X.min()"
      ],
      "metadata": {
        "id": "SjbyFES59vHG",
        "outputId": "8efe558f-e383-45eb-fd79-12f16e666b3a",
        "colab": {
          "base_uri": "https://localhost:8080/"
        }
      },
      "execution_count": 48,
      "outputs": [
        {
          "output_type": "execute_result",
          "data": {
            "text/plain": [
              "Пол                                           0.000000\n",
              "Полных лет                                   19.000000\n",
              "Образование(0-начальное, 4-высшее)            1.000000\n",
              "Род занятий(0-0, работает-1                   0.000000\n",
              "Семейное положение(0-0, 1-женат)              0.000000\n",
              "Удовлетворенность семеными отношениями        1.000000\n",
              "Удовлетворенность материальным положением     0.000000\n",
              "Здоровье от 1 до 10                           1.000000\n",
              "Были ли нарушения сна                         0.000000\n",
              "ИМТ                                          14.005112\n",
              "Операции                                      0.000000\n",
              "ЧМТ                                           0.000000\n",
              "Насл отягощенность                            0.000000\n",
              "Дебют                                         5.000000\n",
              "Частота госпит                                0.000000\n",
              "Стаж шизофр                                   0.500000\n",
              "P                                             7.000000\n",
              "N                                             5.000000\n",
              "G                                            16.000000\n",
              "Была попытка суицида?                         0.000000\n",
              "dtype: float32"
            ]
          },
          "metadata": {},
          "execution_count": 48
        }
      ]
    },
    {
      "cell_type": "code",
      "source": [
        "X.max()"
      ],
      "metadata": {
        "id": "Ov1NYpWJ9vLD",
        "outputId": "2faaee18-fd73-4602-c771-6b74ee61fb79",
        "colab": {
          "base_uri": "https://localhost:8080/"
        }
      },
      "execution_count": 49,
      "outputs": [
        {
          "output_type": "execute_result",
          "data": {
            "text/plain": [
              "Пол                                           1.000000\n",
              "Полных лет                                   67.000000\n",
              "Образование(0-начальное, 4-высшее)            4.000000\n",
              "Род занятий(0-0, работает-1                   1.000000\n",
              "Семейное положение(0-0, 1-женат)              1.000000\n",
              "Удовлетворенность семеными отношениями        5.000000\n",
              "Удовлетворенность материальным положением     1.000000\n",
              "Здоровье от 1 до 10                          10.000000\n",
              "Были ли нарушения сна                         1.000000\n",
              "ИМТ                                          40.404041\n",
              "Операции                                      1.000000\n",
              "ЧМТ                                           2.000000\n",
              "Насл отягощенность                            1.000000\n",
              "Дебют                                        45.000000\n",
              "Частота госпит                                2.000000\n",
              "Стаж шизофр                                  41.000000\n",
              "P                                            32.000000\n",
              "N                                            37.000000\n",
              "G                                            56.000000\n",
              "Была попытка суицида?                         1.000000\n",
              "dtype: float32"
            ]
          },
          "metadata": {},
          "execution_count": 49
        }
      ]
    },
    {
      "cell_type": "code",
      "source": [],
      "metadata": {
        "id": "Z8MPctJWaFgp"
      },
      "execution_count": 49,
      "outputs": []
    },
    {
      "cell_type": "code",
      "source": [],
      "metadata": {
        "id": "eoSFxsKXaFjZ"
      },
      "execution_count": 49,
      "outputs": []
    },
    {
      "cell_type": "markdown",
      "source": [
        "### recursive feature elimination (feature selection)"
      ],
      "metadata": {
        "id": "6__3yeowZurC"
      }
    },
    {
      "cell_type": "code",
      "source": [
        "# Without scaling\n",
        "from sklearn.feature_selection import RFE\n",
        "from sklearn.linear_model import LinearRegression\n",
        " \n",
        "lr = LinearRegression()\n",
        "#select 5 the most informative features\n",
        "rfe = RFE(lr, n_features_to_select=5) \n",
        "selector = rfe.fit(X,y)\n",
        "selector.support_"
      ],
      "metadata": {
        "colab": {
          "base_uri": "https://localhost:8080/"
        },
        "id": "vZgqfNgPZutk",
        "outputId": "b4ac2b6c-1a99-4d14-f6be-1a12706a85d9"
      },
      "execution_count": 50,
      "outputs": [
        {
          "output_type": "execute_result",
          "data": {
            "text/plain": [
              "array([False,  True, False, False, False, False, False, False,  True,\n",
              "       False, False, False, False,  True, False,  True, False, False,\n",
              "       False,  True])"
            ]
          },
          "metadata": {},
          "execution_count": 50
        }
      ]
    },
    {
      "cell_type": "code",
      "source": [
        "selector.ranking_"
      ],
      "metadata": {
        "colab": {
          "base_uri": "https://localhost:8080/"
        },
        "id": "q5e_Fa3NZuv8",
        "outputId": "6b4f2b9d-8783-4d9c-bd70-0a44f0338415"
      },
      "execution_count": 51,
      "outputs": [
        {
          "output_type": "execute_result",
          "data": {
            "text/plain": [
              "array([ 2,  1,  8,  3,  4, 13,  5,  7,  1, 15,  6,  9, 14,  1, 16,  1, 12,\n",
              "       10, 11,  1])"
            ]
          },
          "metadata": {},
          "execution_count": 51
        }
      ]
    },
    {
      "cell_type": "code",
      "source": [
        "# With scaling\n",
        "\n",
        "from sklearn.preprocessing import MinMaxScaler\n",
        "minmax_scaler = MinMaxScaler()\n",
        "\n",
        "X_scaled = minmax_scaler.fit_transform(X)"
      ],
      "metadata": {
        "id": "IZm5ISGTZuyJ"
      },
      "execution_count": 52,
      "outputs": []
    },
    {
      "cell_type": "code",
      "source": [
        "lr = LinearRegression()\n",
        "#select 5 the most informative features\n",
        "rfe = RFE(lr, n_features_to_select=5) \n",
        "selector = rfe.fit(X_scaled,y)\n",
        "X.columns[selector.support_]"
      ],
      "metadata": {
        "colab": {
          "base_uri": "https://localhost:8080/"
        },
        "id": "OEhomgyhZu0m",
        "outputId": "c7b091f9-2fe2-4359-9c1a-bf26e3dcd6c5"
      },
      "execution_count": 53,
      "outputs": [
        {
          "output_type": "execute_result",
          "data": {
            "text/plain": [
              "Index(['Полных лет', 'Дебют', 'Стаж шизофр', 'N', 'G'], dtype='object')"
            ]
          },
          "metadata": {},
          "execution_count": 53
        }
      ]
    },
    {
      "cell_type": "code",
      "source": [
        "selector.ranking_\n"
      ],
      "metadata": {
        "colab": {
          "base_uri": "https://localhost:8080/"
        },
        "id": "3WMVWWaOZu3j",
        "outputId": "3ce9cb21-d58f-4278-ebd6-8371f2589d9b"
      },
      "execution_count": 54,
      "outputs": [
        {
          "output_type": "execute_result",
          "data": {
            "text/plain": [
              "array([ 4,  1, 10,  7,  9, 14, 11,  6,  3,  8, 12, 13, 15,  1, 16,  1,  2,\n",
              "        1,  1,  5])"
            ]
          },
          "metadata": {},
          "execution_count": 54
        }
      ]
    },
    {
      "cell_type": "markdown",
      "source": [
        "[False,  Полных лет, False, False, False, False, False, False, False,\n",
        "       False, False, False, False,  Дебют, False,  Стаж шизофр, False,  N,\n",
        "        G])\n",
        "\n",
        "Полных лет, G, N, Стаж шизофр, Дебют"
      ],
      "metadata": {
        "id": "E6kRoWoDdrY0"
      }
    },
    {
      "cell_type": "code",
      "source": [
        "lr = LinearRegression()\n",
        "#select 5 the most informative features\n",
        "rfe = RFE(lr, n_features_to_select=3) \n",
        "selector = rfe.fit(X_scaled,y)\n",
        "\n",
        "X.columns[selector.support_]\n",
        "# Полных лет Стаж шизофр, Дебют"
      ],
      "metadata": {
        "colab": {
          "base_uri": "https://localhost:8080/"
        },
        "id": "pUvPGl25drvw",
        "outputId": "dadc4d0c-e955-4d74-e957-655cb144bbe9"
      },
      "execution_count": 55,
      "outputs": [
        {
          "output_type": "execute_result",
          "data": {
            "text/plain": [
              "Index(['Полных лет', 'Дебют', 'Стаж шизофр'], dtype='object')"
            ]
          },
          "metadata": {},
          "execution_count": 55
        }
      ]
    },
    {
      "cell_type": "code",
      "source": [
        "selector.ranking_\n"
      ],
      "metadata": {
        "colab": {
          "base_uri": "https://localhost:8080/"
        },
        "id": "wmaSGWsydryY",
        "outputId": "19d60351-6c9a-4215-9a71-e825351b6c5b"
      },
      "execution_count": 56,
      "outputs": [
        {
          "output_type": "execute_result",
          "data": {
            "text/plain": [
              "array([ 6,  1, 12,  9, 11, 16, 13,  8,  5, 10, 14, 15, 17,  1, 18,  1,  4,\n",
              "        3,  2,  7])"
            ]
          },
          "metadata": {},
          "execution_count": 56
        }
      ]
    },
    {
      "cell_type": "code",
      "source": [],
      "metadata": {
        "id": "_s14onwvdr00"
      },
      "execution_count": 56,
      "outputs": []
    },
    {
      "cell_type": "code",
      "source": [],
      "metadata": {
        "id": "V4VkmXfGJU73"
      },
      "execution_count": 56,
      "outputs": []
    },
    {
      "cell_type": "markdown",
      "source": [
        "### ridge regression"
      ],
      "metadata": {
        "id": "bWVE9lVYJU-N"
      }
    },
    {
      "cell_type": "code",
      "source": [
        "from sklearn.linear_model import Ridge\n",
        "clf = Ridge(alpha=1.0)\n",
        "clf.fit(X_scaled, y)\n",
        "clf.coef_"
      ],
      "metadata": {
        "colab": {
          "base_uri": "https://localhost:8080/"
        },
        "id": "yu1WF01jdr3X",
        "outputId": "2b710d51-5112-4427-a6f1-45466ab1d901"
      },
      "execution_count": 57,
      "outputs": [
        {
          "output_type": "execute_result",
          "data": {
            "text/plain": [
              "array([ 0.23175219, -0.02697261, -0.03729384, -0.14539498,  0.13882285,\n",
              "        0.04455977, -0.07623333, -0.13897881,  0.25573903, -0.08939964,\n",
              "        0.04722007, -0.03500349,  0.01163663,  0.04991342,  0.01213992,\n",
              "       -0.05580775,  0.21841994, -0.38015437,  0.35581154,  0.15863894],\n",
              "      dtype=float32)"
            ]
          },
          "metadata": {},
          "execution_count": 57
        }
      ]
    },
    {
      "cell_type": "code",
      "source": [
        "clf.intercept_"
      ],
      "metadata": {
        "colab": {
          "base_uri": "https://localhost:8080/"
        },
        "id": "YNlDvdjDdr6q",
        "outputId": "1d41f777-ff86-41d6-ac0a-d5f6e19f7131"
      },
      "execution_count": 58,
      "outputs": [
        {
          "output_type": "execute_result",
          "data": {
            "text/plain": [
              "0.35628915"
            ]
          },
          "metadata": {},
          "execution_count": 58
        }
      ]
    },
    {
      "cell_type": "code",
      "source": [],
      "metadata": {
        "id": "RLA1NUAJKHvd"
      },
      "execution_count": 58,
      "outputs": []
    },
    {
      "cell_type": "code",
      "source": [],
      "metadata": {
        "id": "YBl9ZGQpZu59"
      },
      "execution_count": 58,
      "outputs": []
    },
    {
      "cell_type": "markdown",
      "source": [
        "LASSO regression (feature selection)"
      ],
      "metadata": {
        "id": "SkuZbKUBBkOO"
      }
    },
    {
      "cell_type": "code",
      "source": [
        "import numpy as np\n",
        "from sklearn.preprocessing import StandardScaler\n",
        "from sklearn.pipeline import Pipeline\n",
        "from sklearn.model_selection import train_test_split, GridSearchCV\n",
        "from sklearn.linear_model import Lasso"
      ],
      "metadata": {
        "id": "qRuBoZdY7yy9"
      },
      "execution_count": 59,
      "outputs": []
    },
    {
      "cell_type": "code",
      "source": [
        "X_train, X_test, y_train, y_test = train_test_split(X, y, test_size=0.2, random_state=42)"
      ],
      "metadata": {
        "id": "DG_91ub87y1z"
      },
      "execution_count": 60,
      "outputs": []
    },
    {
      "cell_type": "code",
      "source": [
        "pipeline = Pipeline([\n",
        "                     ('scaler',StandardScaler()),\n",
        "                     ('model',Lasso())\n",
        "])\n"
      ],
      "metadata": {
        "id": "0BjWX-gC7_TQ"
      },
      "execution_count": 61,
      "outputs": []
    },
    {
      "cell_type": "code",
      "source": [
        "search = GridSearchCV(pipeline,\n",
        "                      {'model__alpha':np.arange(0.1,10,0.1)},\n",
        "                      cv = 5, scoring=\"neg_mean_squared_error\",verbose=3\n",
        "                      )"
      ],
      "metadata": {
        "id": "P4DMl7uv8Bt6"
      },
      "execution_count": 62,
      "outputs": []
    },
    {
      "cell_type": "code",
      "source": [
        "search.fit(X_train,y_train)"
      ],
      "metadata": {
        "id": "-I6VjLFw8DqO",
        "outputId": "ad2c452c-b47a-4eab-e0b7-214de0503b58",
        "colab": {
          "base_uri": "https://localhost:8080/"
        }
      },
      "execution_count": 63,
      "outputs": [
        {
          "output_type": "stream",
          "name": "stdout",
          "text": [
            "Fitting 5 folds for each of 99 candidates, totalling 495 fits\n",
            "[CV 1/5] END .................model__alpha=0.1;, score=-0.261 total time=   0.0s\n",
            "[CV 2/5] END .................model__alpha=0.1;, score=-0.227 total time=   0.0s\n",
            "[CV 3/5] END .................model__alpha=0.1;, score=-0.234 total time=   0.0s\n",
            "[CV 4/5] END .................model__alpha=0.1;, score=-0.213 total time=   0.0s\n",
            "[CV 5/5] END .................model__alpha=0.1;, score=-0.248 total time=   0.0s\n",
            "[CV 1/5] END .................model__alpha=0.2;, score=-0.264 total time=   0.0s\n",
            "[CV 2/5] END .................model__alpha=0.2;, score=-0.236 total time=   0.0s\n",
            "[CV 3/5] END .................model__alpha=0.2;, score=-0.236 total time=   0.0s\n",
            "[CV 4/5] END .................model__alpha=0.2;, score=-0.217 total time=   0.0s\n",
            "[CV 5/5] END .................model__alpha=0.2;, score=-0.257 total time=   0.0s\n",
            "[CV 1/5] END .model__alpha=0.30000000000000004;, score=-0.264 total time=   0.0s\n",
            "[CV 2/5] END .model__alpha=0.30000000000000004;, score=-0.236 total time=   0.0s\n",
            "[CV 3/5] END .model__alpha=0.30000000000000004;, score=-0.236 total time=   0.0s\n",
            "[CV 4/5] END .model__alpha=0.30000000000000004;, score=-0.217 total time=   0.0s\n",
            "[CV 5/5] END .model__alpha=0.30000000000000004;, score=-0.257 total time=   0.0s\n",
            "[CV 1/5] END .................model__alpha=0.4;, score=-0.264 total time=   0.0s\n",
            "[CV 2/5] END .................model__alpha=0.4;, score=-0.236 total time=   0.0s\n",
            "[CV 3/5] END .................model__alpha=0.4;, score=-0.236 total time=   0.0s\n",
            "[CV 4/5] END .................model__alpha=0.4;, score=-0.217 total time=   0.0s\n",
            "[CV 5/5] END .................model__alpha=0.4;, score=-0.257 total time=   0.0s\n",
            "[CV 1/5] END .................model__alpha=0.5;, score=-0.264 total time=   0.0s\n",
            "[CV 2/5] END .................model__alpha=0.5;, score=-0.236 total time=   0.0s\n",
            "[CV 3/5] END .................model__alpha=0.5;, score=-0.236 total time=   0.0s\n",
            "[CV 4/5] END .................model__alpha=0.5;, score=-0.217 total time=   0.0s\n",
            "[CV 5/5] END .................model__alpha=0.5;, score=-0.257 total time=   0.0s\n",
            "[CV 1/5] END .................model__alpha=0.6;, score=-0.264 total time=   0.0s\n",
            "[CV 2/5] END .................model__alpha=0.6;, score=-0.236 total time=   0.0s\n",
            "[CV 3/5] END .................model__alpha=0.6;, score=-0.236 total time=   0.0s\n",
            "[CV 4/5] END .................model__alpha=0.6;, score=-0.217 total time=   0.0s\n",
            "[CV 5/5] END .................model__alpha=0.6;, score=-0.257 total time=   0.0s\n",
            "[CV 1/5] END ..model__alpha=0.7000000000000001;, score=-0.264 total time=   0.0s\n",
            "[CV 2/5] END ..model__alpha=0.7000000000000001;, score=-0.236 total time=   0.0s\n",
            "[CV 3/5] END ..model__alpha=0.7000000000000001;, score=-0.236 total time=   0.0s\n",
            "[CV 4/5] END ..model__alpha=0.7000000000000001;, score=-0.217 total time=   0.0s\n",
            "[CV 5/5] END ..model__alpha=0.7000000000000001;, score=-0.257 total time=   0.0s\n",
            "[CV 1/5] END .................model__alpha=0.8;, score=-0.264 total time=   0.0s\n",
            "[CV 2/5] END .................model__alpha=0.8;, score=-0.236 total time=   0.0s\n",
            "[CV 3/5] END .................model__alpha=0.8;, score=-0.236 total time=   0.0s\n",
            "[CV 4/5] END .................model__alpha=0.8;, score=-0.217 total time=   0.0s\n",
            "[CV 5/5] END .................model__alpha=0.8;, score=-0.257 total time=   0.0s\n",
            "[CV 1/5] END .................model__alpha=0.9;, score=-0.264 total time=   0.0s\n",
            "[CV 2/5] END .................model__alpha=0.9;, score=-0.236 total time=   0.0s\n",
            "[CV 3/5] END .................model__alpha=0.9;, score=-0.236 total time=   0.0s\n",
            "[CV 4/5] END .................model__alpha=0.9;, score=-0.217 total time=   0.0s\n",
            "[CV 5/5] END .................model__alpha=0.9;, score=-0.257 total time=   0.0s\n",
            "[CV 1/5] END .................model__alpha=1.0;, score=-0.264 total time=   0.0s\n",
            "[CV 2/5] END .................model__alpha=1.0;, score=-0.236 total time=   0.0s\n",
            "[CV 3/5] END .................model__alpha=1.0;, score=-0.236 total time=   0.0s\n",
            "[CV 4/5] END .................model__alpha=1.0;, score=-0.217 total time=   0.0s\n",
            "[CV 5/5] END .................model__alpha=1.0;, score=-0.257 total time=   0.0s\n",
            "[CV 1/5] END .................model__alpha=1.1;, score=-0.264 total time=   0.0s\n",
            "[CV 2/5] END .................model__alpha=1.1;, score=-0.236 total time=   0.0s\n",
            "[CV 3/5] END .................model__alpha=1.1;, score=-0.236 total time=   0.0s\n",
            "[CV 4/5] END .................model__alpha=1.1;, score=-0.217 total time=   0.0s\n",
            "[CV 5/5] END .................model__alpha=1.1;, score=-0.257 total time=   0.0s\n",
            "[CV 1/5] END ..model__alpha=1.2000000000000002;, score=-0.264 total time=   0.0s\n",
            "[CV 2/5] END ..model__alpha=1.2000000000000002;, score=-0.236 total time=   0.0s\n",
            "[CV 3/5] END ..model__alpha=1.2000000000000002;, score=-0.236 total time=   0.0s\n",
            "[CV 4/5] END ..model__alpha=1.2000000000000002;, score=-0.217 total time=   0.0s\n",
            "[CV 5/5] END ..model__alpha=1.2000000000000002;, score=-0.257 total time=   0.0s\n",
            "[CV 1/5] END ..model__alpha=1.3000000000000003;, score=-0.264 total time=   0.0s\n",
            "[CV 2/5] END ..model__alpha=1.3000000000000003;, score=-0.236 total time=   0.0s\n",
            "[CV 3/5] END ..model__alpha=1.3000000000000003;, score=-0.236 total time=   0.0s\n",
            "[CV 4/5] END ..model__alpha=1.3000000000000003;, score=-0.217 total time=   0.0s\n",
            "[CV 5/5] END ..model__alpha=1.3000000000000003;, score=-0.257 total time=   0.0s\n",
            "[CV 1/5] END ..model__alpha=1.4000000000000001;, score=-0.264 total time=   0.0s\n",
            "[CV 2/5] END ..model__alpha=1.4000000000000001;, score=-0.236 total time=   0.0s\n",
            "[CV 3/5] END ..model__alpha=1.4000000000000001;, score=-0.236 total time=   0.0s\n",
            "[CV 4/5] END ..model__alpha=1.4000000000000001;, score=-0.217 total time=   0.0s\n",
            "[CV 5/5] END ..model__alpha=1.4000000000000001;, score=-0.257 total time=   0.0s\n",
            "[CV 1/5] END ..model__alpha=1.5000000000000002;, score=-0.264 total time=   0.0s\n",
            "[CV 2/5] END ..model__alpha=1.5000000000000002;, score=-0.236 total time=   0.0s\n",
            "[CV 3/5] END ..model__alpha=1.5000000000000002;, score=-0.236 total time=   0.0s\n",
            "[CV 4/5] END ..model__alpha=1.5000000000000002;, score=-0.217 total time=   0.0s\n",
            "[CV 5/5] END ..model__alpha=1.5000000000000002;, score=-0.257 total time=   0.0s\n",
            "[CV 1/5] END .................model__alpha=1.6;, score=-0.264 total time=   0.0s\n",
            "[CV 2/5] END .................model__alpha=1.6;, score=-0.236 total time=   0.0s\n",
            "[CV 3/5] END .................model__alpha=1.6;, score=-0.236 total time=   0.0s\n",
            "[CV 4/5] END .................model__alpha=1.6;, score=-0.217 total time=   0.0s\n",
            "[CV 5/5] END .................model__alpha=1.6;, score=-0.257 total time=   0.0s\n",
            "[CV 1/5] END ..model__alpha=1.7000000000000002;, score=-0.264 total time=   0.0s\n",
            "[CV 2/5] END ..model__alpha=1.7000000000000002;, score=-0.236 total time=   0.0s\n",
            "[CV 3/5] END ..model__alpha=1.7000000000000002;, score=-0.236 total time=   0.0s\n",
            "[CV 4/5] END ..model__alpha=1.7000000000000002;, score=-0.217 total time=   0.0s\n",
            "[CV 5/5] END ..model__alpha=1.7000000000000002;, score=-0.257 total time=   0.0s\n",
            "[CV 1/5] END ..model__alpha=1.8000000000000003;, score=-0.264 total time=   0.0s\n",
            "[CV 2/5] END ..model__alpha=1.8000000000000003;, score=-0.236 total time=   0.0s\n",
            "[CV 3/5] END ..model__alpha=1.8000000000000003;, score=-0.236 total time=   0.0s\n",
            "[CV 4/5] END ..model__alpha=1.8000000000000003;, score=-0.217 total time=   0.0s\n",
            "[CV 5/5] END ..model__alpha=1.8000000000000003;, score=-0.257 total time=   0.0s\n",
            "[CV 1/5] END ..model__alpha=1.9000000000000001;, score=-0.264 total time=   0.0s\n",
            "[CV 2/5] END ..model__alpha=1.9000000000000001;, score=-0.236 total time=   0.0s\n",
            "[CV 3/5] END ..model__alpha=1.9000000000000001;, score=-0.236 total time=   0.0s\n",
            "[CV 4/5] END ..model__alpha=1.9000000000000001;, score=-0.217 total time=   0.0s\n",
            "[CV 5/5] END ..model__alpha=1.9000000000000001;, score=-0.257 total time=   0.0s\n",
            "[CV 1/5] END .................model__alpha=2.0;, score=-0.264 total time=   0.0s\n",
            "[CV 2/5] END .................model__alpha=2.0;, score=-0.236 total time=   0.0s\n",
            "[CV 3/5] END .................model__alpha=2.0;, score=-0.236 total time=   0.0s\n",
            "[CV 4/5] END .................model__alpha=2.0;, score=-0.217 total time=   0.0s\n",
            "[CV 5/5] END .................model__alpha=2.0;, score=-0.257 total time=   0.0s\n",
            "[CV 1/5] END .................model__alpha=2.1;, score=-0.264 total time=   0.0s\n",
            "[CV 2/5] END .................model__alpha=2.1;, score=-0.236 total time=   0.0s\n",
            "[CV 3/5] END .................model__alpha=2.1;, score=-0.236 total time=   0.0s\n",
            "[CV 4/5] END .................model__alpha=2.1;, score=-0.217 total time=   0.0s\n",
            "[CV 5/5] END .................model__alpha=2.1;, score=-0.257 total time=   0.0s\n",
            "[CV 1/5] END .................model__alpha=2.2;, score=-0.264 total time=   0.0s\n",
            "[CV 2/5] END .................model__alpha=2.2;, score=-0.236 total time=   0.0s\n",
            "[CV 3/5] END .................model__alpha=2.2;, score=-0.236 total time=   0.0s\n",
            "[CV 4/5] END .................model__alpha=2.2;, score=-0.217 total time=   0.0s\n",
            "[CV 5/5] END .................model__alpha=2.2;, score=-0.257 total time=   0.0s\n",
            "[CV 1/5] END ..model__alpha=2.3000000000000003;, score=-0.264 total time=   0.0s\n",
            "[CV 2/5] END ..model__alpha=2.3000000000000003;, score=-0.236 total time=   0.0s\n",
            "[CV 3/5] END ..model__alpha=2.3000000000000003;, score=-0.236 total time=   0.0s\n",
            "[CV 4/5] END ..model__alpha=2.3000000000000003;, score=-0.217 total time=   0.0s\n",
            "[CV 5/5] END ..model__alpha=2.3000000000000003;, score=-0.257 total time=   0.0s\n",
            "[CV 1/5] END ..model__alpha=2.4000000000000004;, score=-0.264 total time=   0.0s\n",
            "[CV 2/5] END ..model__alpha=2.4000000000000004;, score=-0.236 total time=   0.0s\n",
            "[CV 3/5] END ..model__alpha=2.4000000000000004;, score=-0.236 total time=   0.0s\n",
            "[CV 4/5] END ..model__alpha=2.4000000000000004;, score=-0.217 total time=   0.0s\n",
            "[CV 5/5] END ..model__alpha=2.4000000000000004;, score=-0.257 total time=   0.0s\n",
            "[CV 1/5] END ..model__alpha=2.5000000000000004;, score=-0.264 total time=   0.0s\n",
            "[CV 2/5] END ..model__alpha=2.5000000000000004;, score=-0.236 total time=   0.0s\n",
            "[CV 3/5] END ..model__alpha=2.5000000000000004;, score=-0.236 total time=   0.0s\n",
            "[CV 4/5] END ..model__alpha=2.5000000000000004;, score=-0.217 total time=   0.0s\n",
            "[CV 5/5] END ..model__alpha=2.5000000000000004;, score=-0.257 total time=   0.0s\n",
            "[CV 1/5] END .................model__alpha=2.6;, score=-0.264 total time=   0.0s\n",
            "[CV 2/5] END .................model__alpha=2.6;, score=-0.236 total time=   0.0s\n",
            "[CV 3/5] END .................model__alpha=2.6;, score=-0.236 total time=   0.0s\n",
            "[CV 4/5] END .................model__alpha=2.6;, score=-0.217 total time=   0.0s\n",
            "[CV 5/5] END .................model__alpha=2.6;, score=-0.257 total time=   0.0s\n",
            "[CV 1/5] END .................model__alpha=2.7;, score=-0.264 total time=   0.0s\n",
            "[CV 2/5] END .................model__alpha=2.7;, score=-0.236 total time=   0.0s\n",
            "[CV 3/5] END .................model__alpha=2.7;, score=-0.236 total time=   0.0s\n",
            "[CV 4/5] END .................model__alpha=2.7;, score=-0.217 total time=   0.0s\n",
            "[CV 5/5] END .................model__alpha=2.7;, score=-0.257 total time=   0.0s\n",
            "[CV 1/5] END ..model__alpha=2.8000000000000003;, score=-0.264 total time=   0.0s\n",
            "[CV 2/5] END ..model__alpha=2.8000000000000003;, score=-0.236 total time=   0.0s\n",
            "[CV 3/5] END ..model__alpha=2.8000000000000003;, score=-0.236 total time=   0.0s\n",
            "[CV 4/5] END ..model__alpha=2.8000000000000003;, score=-0.217 total time=   0.0s\n",
            "[CV 5/5] END ..model__alpha=2.8000000000000003;, score=-0.257 total time=   0.0s\n",
            "[CV 1/5] END ..model__alpha=2.9000000000000004;, score=-0.264 total time=   0.0s\n",
            "[CV 2/5] END ..model__alpha=2.9000000000000004;, score=-0.236 total time=   0.0s\n",
            "[CV 3/5] END ..model__alpha=2.9000000000000004;, score=-0.236 total time=   0.0s\n",
            "[CV 4/5] END ..model__alpha=2.9000000000000004;, score=-0.217 total time=   0.0s\n",
            "[CV 5/5] END ..model__alpha=2.9000000000000004;, score=-0.257 total time=   0.0s\n",
            "[CV 1/5] END ..model__alpha=3.0000000000000004;, score=-0.264 total time=   0.0s\n",
            "[CV 2/5] END ..model__alpha=3.0000000000000004;, score=-0.236 total time=   0.0s\n",
            "[CV 3/5] END ..model__alpha=3.0000000000000004;, score=-0.236 total time=   0.0s\n",
            "[CV 4/5] END ..model__alpha=3.0000000000000004;, score=-0.217 total time=   0.0s\n",
            "[CV 5/5] END ..model__alpha=3.0000000000000004;, score=-0.257 total time=   0.0s\n",
            "[CV 1/5] END .................model__alpha=3.1;, score=-0.264 total time=   0.0s\n",
            "[CV 2/5] END .................model__alpha=3.1;, score=-0.236 total time=   0.0s\n",
            "[CV 3/5] END .................model__alpha=3.1;, score=-0.236 total time=   0.0s\n",
            "[CV 4/5] END .................model__alpha=3.1;, score=-0.217 total time=   0.0s\n",
            "[CV 5/5] END .................model__alpha=3.1;, score=-0.257 total time=   0.0s\n",
            "[CV 1/5] END .................model__alpha=3.2;, score=-0.264 total time=   0.0s\n",
            "[CV 2/5] END .................model__alpha=3.2;, score=-0.236 total time=   0.0s\n",
            "[CV 3/5] END .................model__alpha=3.2;, score=-0.236 total time=   0.0s\n",
            "[CV 4/5] END .................model__alpha=3.2;, score=-0.217 total time=   0.0s\n",
            "[CV 5/5] END .................model__alpha=3.2;, score=-0.257 total time=   0.0s\n",
            "[CV 1/5] END ..model__alpha=3.3000000000000003;, score=-0.264 total time=   0.0s\n",
            "[CV 2/5] END ..model__alpha=3.3000000000000003;, score=-0.236 total time=   0.0s\n",
            "[CV 3/5] END ..model__alpha=3.3000000000000003;, score=-0.236 total time=   0.0s\n",
            "[CV 4/5] END ..model__alpha=3.3000000000000003;, score=-0.217 total time=   0.0s\n",
            "[CV 5/5] END ..model__alpha=3.3000000000000003;, score=-0.257 total time=   0.0s\n",
            "[CV 1/5] END ..model__alpha=3.4000000000000004;, score=-0.264 total time=   0.0s\n",
            "[CV 2/5] END ..model__alpha=3.4000000000000004;, score=-0.236 total time=   0.0s\n",
            "[CV 3/5] END ..model__alpha=3.4000000000000004;, score=-0.236 total time=   0.0s\n",
            "[CV 4/5] END ..model__alpha=3.4000000000000004;, score=-0.217 total time=   0.0s\n",
            "[CV 5/5] END ..model__alpha=3.4000000000000004;, score=-0.257 total time=   0.0s\n",
            "[CV 1/5] END ..model__alpha=3.5000000000000004;, score=-0.264 total time=   0.0s\n",
            "[CV 2/5] END ..model__alpha=3.5000000000000004;, score=-0.236 total time=   0.0s\n",
            "[CV 3/5] END ..model__alpha=3.5000000000000004;, score=-0.236 total time=   0.0s\n",
            "[CV 4/5] END ..model__alpha=3.5000000000000004;, score=-0.217 total time=   0.0s\n",
            "[CV 5/5] END ..model__alpha=3.5000000000000004;, score=-0.257 total time=   0.0s\n",
            "[CV 1/5] END .................model__alpha=3.6;, score=-0.264 total time=   0.0s\n",
            "[CV 2/5] END .................model__alpha=3.6;, score=-0.236 total time=   0.0s\n",
            "[CV 3/5] END .................model__alpha=3.6;, score=-0.236 total time=   0.0s\n",
            "[CV 4/5] END .................model__alpha=3.6;, score=-0.217 total time=   0.0s\n",
            "[CV 5/5] END .................model__alpha=3.6;, score=-0.257 total time=   0.0s\n",
            "[CV 1/5] END .................model__alpha=3.7;, score=-0.264 total time=   0.0s\n",
            "[CV 2/5] END .................model__alpha=3.7;, score=-0.236 total time=   0.0s\n",
            "[CV 3/5] END .................model__alpha=3.7;, score=-0.236 total time=   0.0s\n",
            "[CV 4/5] END .................model__alpha=3.7;, score=-0.217 total time=   0.0s\n",
            "[CV 5/5] END .................model__alpha=3.7;, score=-0.257 total time=   0.0s\n",
            "[CV 1/5] END ..model__alpha=3.8000000000000003;, score=-0.264 total time=   0.0s\n",
            "[CV 2/5] END ..model__alpha=3.8000000000000003;, score=-0.236 total time=   0.0s\n",
            "[CV 3/5] END ..model__alpha=3.8000000000000003;, score=-0.236 total time=   0.0s\n",
            "[CV 4/5] END ..model__alpha=3.8000000000000003;, score=-0.217 total time=   0.0s\n",
            "[CV 5/5] END ..model__alpha=3.8000000000000003;, score=-0.257 total time=   0.0s\n",
            "[CV 1/5] END ..model__alpha=3.9000000000000004;, score=-0.264 total time=   0.0s\n",
            "[CV 2/5] END ..model__alpha=3.9000000000000004;, score=-0.236 total time=   0.0s\n",
            "[CV 3/5] END ..model__alpha=3.9000000000000004;, score=-0.236 total time=   0.0s\n",
            "[CV 4/5] END ..model__alpha=3.9000000000000004;, score=-0.217 total time=   0.0s\n",
            "[CV 5/5] END ..model__alpha=3.9000000000000004;, score=-0.257 total time=   0.0s\n",
            "[CV 1/5] END .................model__alpha=4.0;, score=-0.264 total time=   0.0s\n",
            "[CV 2/5] END .................model__alpha=4.0;, score=-0.236 total time=   0.0s\n",
            "[CV 3/5] END .................model__alpha=4.0;, score=-0.236 total time=   0.0s\n",
            "[CV 4/5] END .................model__alpha=4.0;, score=-0.217 total time=   0.0s\n",
            "[CV 5/5] END .................model__alpha=4.0;, score=-0.257 total time=   0.0s\n",
            "[CV 1/5] END .................model__alpha=4.1;, score=-0.264 total time=   0.0s\n",
            "[CV 2/5] END .................model__alpha=4.1;, score=-0.236 total time=   0.0s\n",
            "[CV 3/5] END .................model__alpha=4.1;, score=-0.236 total time=   0.0s\n",
            "[CV 4/5] END .................model__alpha=4.1;, score=-0.217 total time=   0.0s\n",
            "[CV 5/5] END .................model__alpha=4.1;, score=-0.257 total time=   0.0s\n",
            "[CV 1/5] END .................model__alpha=4.2;, score=-0.264 total time=   0.0s\n",
            "[CV 2/5] END .................model__alpha=4.2;, score=-0.236 total time=   0.0s\n",
            "[CV 3/5] END .................model__alpha=4.2;, score=-0.236 total time=   0.0s\n",
            "[CV 4/5] END .................model__alpha=4.2;, score=-0.217 total time=   0.0s\n",
            "[CV 5/5] END .................model__alpha=4.2;, score=-0.257 total time=   0.0s\n",
            "[CV 1/5] END .................model__alpha=4.3;, score=-0.264 total time=   0.0s\n",
            "[CV 2/5] END .................model__alpha=4.3;, score=-0.236 total time=   0.0s\n",
            "[CV 3/5] END .................model__alpha=4.3;, score=-0.236 total time=   0.0s\n",
            "[CV 4/5] END .................model__alpha=4.3;, score=-0.217 total time=   0.0s\n",
            "[CV 5/5] END .................model__alpha=4.3;, score=-0.257 total time=   0.0s\n",
            "[CV 1/5] END ..model__alpha=4.3999999999999995;, score=-0.264 total time=   0.0s\n",
            "[CV 2/5] END ..model__alpha=4.3999999999999995;, score=-0.236 total time=   0.0s\n",
            "[CV 3/5] END ..model__alpha=4.3999999999999995;, score=-0.236 total time=   0.0s\n",
            "[CV 4/5] END ..model__alpha=4.3999999999999995;, score=-0.217 total time=   0.0s\n",
            "[CV 5/5] END ..model__alpha=4.3999999999999995;, score=-0.257 total time=   0.0s\n",
            "[CV 1/5] END .................model__alpha=4.5;, score=-0.264 total time=   0.0s\n",
            "[CV 2/5] END .................model__alpha=4.5;, score=-0.236 total time=   0.0s\n",
            "[CV 3/5] END .................model__alpha=4.5;, score=-0.236 total time=   0.0s\n",
            "[CV 4/5] END .................model__alpha=4.5;, score=-0.217 total time=   0.0s\n",
            "[CV 5/5] END .................model__alpha=4.5;, score=-0.257 total time=   0.0s\n",
            "[CV 1/5] END .................model__alpha=4.6;, score=-0.264 total time=   0.0s\n",
            "[CV 2/5] END .................model__alpha=4.6;, score=-0.236 total time=   0.0s\n",
            "[CV 3/5] END .................model__alpha=4.6;, score=-0.236 total time=   0.0s\n",
            "[CV 4/5] END .................model__alpha=4.6;, score=-0.217 total time=   0.0s\n",
            "[CV 5/5] END .................model__alpha=4.6;, score=-0.257 total time=   0.0s\n",
            "[CV 1/5] END .................model__alpha=4.7;, score=-0.264 total time=   0.0s\n",
            "[CV 2/5] END .................model__alpha=4.7;, score=-0.236 total time=   0.0s\n",
            "[CV 3/5] END .................model__alpha=4.7;, score=-0.236 total time=   0.0s\n",
            "[CV 4/5] END .................model__alpha=4.7;, score=-0.217 total time=   0.0s\n",
            "[CV 5/5] END .................model__alpha=4.7;, score=-0.257 total time=   0.0s\n",
            "[CV 1/5] END .................model__alpha=4.8;, score=-0.264 total time=   0.0s\n",
            "[CV 2/5] END .................model__alpha=4.8;, score=-0.236 total time=   0.0s\n",
            "[CV 3/5] END .................model__alpha=4.8;, score=-0.236 total time=   0.0s\n",
            "[CV 4/5] END .................model__alpha=4.8;, score=-0.217 total time=   0.0s\n",
            "[CV 5/5] END .................model__alpha=4.8;, score=-0.257 total time=   0.0s\n",
            "[CV 1/5] END .................model__alpha=4.9;, score=-0.264 total time=   0.0s\n",
            "[CV 2/5] END .................model__alpha=4.9;, score=-0.236 total time=   0.0s\n",
            "[CV 3/5] END .................model__alpha=4.9;, score=-0.236 total time=   0.0s\n",
            "[CV 4/5] END .................model__alpha=4.9;, score=-0.217 total time=   0.0s\n",
            "[CV 5/5] END .................model__alpha=4.9;, score=-0.257 total time=   0.0s\n",
            "[CV 1/5] END .................model__alpha=5.0;, score=-0.264 total time=   0.0s\n",
            "[CV 2/5] END .................model__alpha=5.0;, score=-0.236 total time=   0.0s\n",
            "[CV 3/5] END .................model__alpha=5.0;, score=-0.236 total time=   0.0s\n",
            "[CV 4/5] END .................model__alpha=5.0;, score=-0.217 total time=   0.0s\n",
            "[CV 5/5] END .................model__alpha=5.0;, score=-0.257 total time=   0.0s\n",
            "[CV 1/5] END .................model__alpha=5.1;, score=-0.264 total time=   0.0s\n",
            "[CV 2/5] END .................model__alpha=5.1;, score=-0.236 total time=   0.0s\n",
            "[CV 3/5] END .................model__alpha=5.1;, score=-0.236 total time=   0.0s\n",
            "[CV 4/5] END .................model__alpha=5.1;, score=-0.217 total time=   0.0s\n",
            "[CV 5/5] END .................model__alpha=5.1;, score=-0.257 total time=   0.0s\n",
            "[CV 1/5] END .................model__alpha=5.2;, score=-0.264 total time=   0.0s\n",
            "[CV 2/5] END .................model__alpha=5.2;, score=-0.236 total time=   0.0s\n",
            "[CV 3/5] END .................model__alpha=5.2;, score=-0.236 total time=   0.0s\n",
            "[CV 4/5] END .................model__alpha=5.2;, score=-0.217 total time=   0.0s\n",
            "[CV 5/5] END .................model__alpha=5.2;, score=-0.257 total time=   0.0s\n",
            "[CV 1/5] END .................model__alpha=5.3;, score=-0.264 total time=   0.0s\n",
            "[CV 2/5] END .................model__alpha=5.3;, score=-0.236 total time=   0.0s\n",
            "[CV 3/5] END .................model__alpha=5.3;, score=-0.236 total time=   0.0s\n",
            "[CV 4/5] END .................model__alpha=5.3;, score=-0.217 total time=   0.0s\n",
            "[CV 5/5] END .................model__alpha=5.3;, score=-0.257 total time=   0.0s\n",
            "[CV 1/5] END .................model__alpha=5.4;, score=-0.264 total time=   0.0s\n",
            "[CV 2/5] END .................model__alpha=5.4;, score=-0.236 total time=   0.0s\n",
            "[CV 3/5] END .................model__alpha=5.4;, score=-0.236 total time=   0.0s\n",
            "[CV 4/5] END .................model__alpha=5.4;, score=-0.217 total time=   0.0s\n",
            "[CV 5/5] END .................model__alpha=5.4;, score=-0.257 total time=   0.0s\n",
            "[CV 1/5] END .................model__alpha=5.5;, score=-0.264 total time=   0.0s\n",
            "[CV 2/5] END .................model__alpha=5.5;, score=-0.236 total time=   0.0s\n",
            "[CV 3/5] END .................model__alpha=5.5;, score=-0.236 total time=   0.0s\n",
            "[CV 4/5] END .................model__alpha=5.5;, score=-0.217 total time=   0.0s\n",
            "[CV 5/5] END .................model__alpha=5.5;, score=-0.257 total time=   0.0s\n",
            "[CV 1/5] END .................model__alpha=5.6;, score=-0.264 total time=   0.0s\n",
            "[CV 2/5] END .................model__alpha=5.6;, score=-0.236 total time=   0.0s\n",
            "[CV 3/5] END .................model__alpha=5.6;, score=-0.236 total time=   0.0s\n",
            "[CV 4/5] END .................model__alpha=5.6;, score=-0.217 total time=   0.0s\n",
            "[CV 5/5] END .................model__alpha=5.6;, score=-0.257 total time=   0.0s\n",
            "[CV 1/5] END .................model__alpha=5.7;, score=-0.264 total time=   0.0s\n",
            "[CV 2/5] END .................model__alpha=5.7;, score=-0.236 total time=   0.0s\n",
            "[CV 3/5] END .................model__alpha=5.7;, score=-0.236 total time=   0.0s\n",
            "[CV 4/5] END .................model__alpha=5.7;, score=-0.217 total time=   0.0s\n",
            "[CV 5/5] END .................model__alpha=5.7;, score=-0.257 total time=   0.0s\n",
            "[CV 1/5] END .................model__alpha=5.8;, score=-0.264 total time=   0.0s\n",
            "[CV 2/5] END .................model__alpha=5.8;, score=-0.236 total time=   0.0s\n",
            "[CV 3/5] END .................model__alpha=5.8;, score=-0.236 total time=   0.0s\n",
            "[CV 4/5] END .................model__alpha=5.8;, score=-0.217 total time=   0.0s\n",
            "[CV 5/5] END .................model__alpha=5.8;, score=-0.257 total time=   0.0s\n",
            "[CV 1/5] END .................model__alpha=5.9;, score=-0.264 total time=   0.0s\n",
            "[CV 2/5] END .................model__alpha=5.9;, score=-0.236 total time=   0.0s\n",
            "[CV 3/5] END .................model__alpha=5.9;, score=-0.236 total time=   0.0s\n",
            "[CV 4/5] END .................model__alpha=5.9;, score=-0.217 total time=   0.0s\n",
            "[CV 5/5] END .................model__alpha=5.9;, score=-0.257 total time=   0.0s\n",
            "[CV 1/5] END .................model__alpha=6.0;, score=-0.264 total time=   0.0s\n",
            "[CV 2/5] END .................model__alpha=6.0;, score=-0.236 total time=   0.0s\n",
            "[CV 3/5] END .................model__alpha=6.0;, score=-0.236 total time=   0.0s\n",
            "[CV 4/5] END .................model__alpha=6.0;, score=-0.217 total time=   0.0s\n",
            "[CV 5/5] END .................model__alpha=6.0;, score=-0.257 total time=   0.0s\n",
            "[CV 1/5] END .................model__alpha=6.1;, score=-0.264 total time=   0.0s\n",
            "[CV 2/5] END .................model__alpha=6.1;, score=-0.236 total time=   0.0s\n",
            "[CV 3/5] END .................model__alpha=6.1;, score=-0.236 total time=   0.0s\n",
            "[CV 4/5] END .................model__alpha=6.1;, score=-0.217 total time=   0.0s\n",
            "[CV 5/5] END .................model__alpha=6.1;, score=-0.257 total time=   0.0s\n",
            "[CV 1/5] END .................model__alpha=6.2;, score=-0.264 total time=   0.0s\n",
            "[CV 2/5] END .................model__alpha=6.2;, score=-0.236 total time=   0.0s\n",
            "[CV 3/5] END .................model__alpha=6.2;, score=-0.236 total time=   0.0s\n",
            "[CV 4/5] END .................model__alpha=6.2;, score=-0.217 total time=   0.0s\n",
            "[CV 5/5] END .................model__alpha=6.2;, score=-0.257 total time=   0.0s\n",
            "[CV 1/5] END .................model__alpha=6.3;, score=-0.264 total time=   0.0s\n",
            "[CV 2/5] END .................model__alpha=6.3;, score=-0.236 total time=   0.0s\n",
            "[CV 3/5] END .................model__alpha=6.3;, score=-0.236 total time=   0.0s\n",
            "[CV 4/5] END .................model__alpha=6.3;, score=-0.217 total time=   0.0s\n",
            "[CV 5/5] END .................model__alpha=6.3;, score=-0.257 total time=   0.0s\n",
            "[CV 1/5] END .................model__alpha=6.4;, score=-0.264 total time=   0.0s\n",
            "[CV 2/5] END .................model__alpha=6.4;, score=-0.236 total time=   0.0s\n",
            "[CV 3/5] END .................model__alpha=6.4;, score=-0.236 total time=   0.0s\n",
            "[CV 4/5] END .................model__alpha=6.4;, score=-0.217 total time=   0.0s\n",
            "[CV 5/5] END .................model__alpha=6.4;, score=-0.257 total time=   0.0s\n",
            "[CV 1/5] END .................model__alpha=6.5;, score=-0.264 total time=   0.0s\n",
            "[CV 2/5] END .................model__alpha=6.5;, score=-0.236 total time=   0.0s\n",
            "[CV 3/5] END .................model__alpha=6.5;, score=-0.236 total time=   0.0s\n",
            "[CV 4/5] END .................model__alpha=6.5;, score=-0.217 total time=   0.0s\n",
            "[CV 5/5] END .................model__alpha=6.5;, score=-0.257 total time=   0.0s\n",
            "[CV 1/5] END .................model__alpha=6.6;, score=-0.264 total time=   0.0s\n",
            "[CV 2/5] END .................model__alpha=6.6;, score=-0.236 total time=   0.0s\n",
            "[CV 3/5] END .................model__alpha=6.6;, score=-0.236 total time=   0.0s\n",
            "[CV 4/5] END .................model__alpha=6.6;, score=-0.217 total time=   0.0s\n",
            "[CV 5/5] END .................model__alpha=6.6;, score=-0.257 total time=   0.0s\n",
            "[CV 1/5] END .................model__alpha=6.7;, score=-0.264 total time=   0.0s\n",
            "[CV 2/5] END .................model__alpha=6.7;, score=-0.236 total time=   0.0s\n",
            "[CV 3/5] END .................model__alpha=6.7;, score=-0.236 total time=   0.0s\n",
            "[CV 4/5] END .................model__alpha=6.7;, score=-0.217 total time=   0.0s\n",
            "[CV 5/5] END .................model__alpha=6.7;, score=-0.257 total time=   0.0s\n",
            "[CV 1/5] END .................model__alpha=6.8;, score=-0.264 total time=   0.0s\n",
            "[CV 2/5] END .................model__alpha=6.8;, score=-0.236 total time=   0.0s\n",
            "[CV 3/5] END .................model__alpha=6.8;, score=-0.236 total time=   0.0s\n",
            "[CV 4/5] END .................model__alpha=6.8;, score=-0.217 total time=   0.0s\n",
            "[CV 5/5] END .................model__alpha=6.8;, score=-0.257 total time=   0.0s\n",
            "[CV 1/5] END .................model__alpha=6.9;, score=-0.264 total time=   0.0s\n",
            "[CV 2/5] END .................model__alpha=6.9;, score=-0.236 total time=   0.0s\n",
            "[CV 3/5] END .................model__alpha=6.9;, score=-0.236 total time=   0.0s\n",
            "[CV 4/5] END .................model__alpha=6.9;, score=-0.217 total time=   0.0s\n",
            "[CV 5/5] END .................model__alpha=6.9;, score=-0.257 total time=   0.0s\n",
            "[CV 1/5] END .................model__alpha=7.0;, score=-0.264 total time=   0.0s\n",
            "[CV 2/5] END .................model__alpha=7.0;, score=-0.236 total time=   0.0s\n",
            "[CV 3/5] END .................model__alpha=7.0;, score=-0.236 total time=   0.0s\n",
            "[CV 4/5] END .................model__alpha=7.0;, score=-0.217 total time=   0.0s\n",
            "[CV 5/5] END .................model__alpha=7.0;, score=-0.257 total time=   0.0s\n",
            "[CV 1/5] END .................model__alpha=7.1;, score=-0.264 total time=   0.0s\n",
            "[CV 2/5] END .................model__alpha=7.1;, score=-0.236 total time=   0.0s\n",
            "[CV 3/5] END .................model__alpha=7.1;, score=-0.236 total time=   0.0s\n",
            "[CV 4/5] END .................model__alpha=7.1;, score=-0.217 total time=   0.0s\n",
            "[CV 5/5] END .................model__alpha=7.1;, score=-0.257 total time=   0.0s\n",
            "[CV 1/5] END .................model__alpha=7.2;, score=-0.264 total time=   0.0s\n",
            "[CV 2/5] END .................model__alpha=7.2;, score=-0.236 total time=   0.0s\n",
            "[CV 3/5] END .................model__alpha=7.2;, score=-0.236 total time=   0.0s\n",
            "[CV 4/5] END .................model__alpha=7.2;, score=-0.217 total time=   0.0s\n",
            "[CV 5/5] END .................model__alpha=7.2;, score=-0.257 total time=   0.0s\n",
            "[CV 1/5] END .................model__alpha=7.3;, score=-0.264 total time=   0.0s\n",
            "[CV 2/5] END .................model__alpha=7.3;, score=-0.236 total time=   0.0s\n",
            "[CV 3/5] END .................model__alpha=7.3;, score=-0.236 total time=   0.0s\n",
            "[CV 4/5] END .................model__alpha=7.3;, score=-0.217 total time=   0.0s\n",
            "[CV 5/5] END .................model__alpha=7.3;, score=-0.257 total time=   0.0s\n",
            "[CV 1/5] END .................model__alpha=7.4;, score=-0.264 total time=   0.0s\n",
            "[CV 2/5] END .................model__alpha=7.4;, score=-0.236 total time=   0.0s\n",
            "[CV 3/5] END .................model__alpha=7.4;, score=-0.236 total time=   0.0s\n",
            "[CV 4/5] END .................model__alpha=7.4;, score=-0.217 total time=   0.0s\n",
            "[CV 5/5] END .................model__alpha=7.4;, score=-0.257 total time=   0.0s\n",
            "[CV 1/5] END .................model__alpha=7.5;, score=-0.264 total time=   0.0s\n",
            "[CV 2/5] END .................model__alpha=7.5;, score=-0.236 total time=   0.0s\n",
            "[CV 3/5] END .................model__alpha=7.5;, score=-0.236 total time=   0.0s\n",
            "[CV 4/5] END .................model__alpha=7.5;, score=-0.217 total time=   0.0s\n",
            "[CV 5/5] END .................model__alpha=7.5;, score=-0.257 total time=   0.0s\n",
            "[CV 1/5] END .................model__alpha=7.6;, score=-0.264 total time=   0.0s\n",
            "[CV 2/5] END .................model__alpha=7.6;, score=-0.236 total time=   0.0s\n",
            "[CV 3/5] END .................model__alpha=7.6;, score=-0.236 total time=   0.0s\n",
            "[CV 4/5] END .................model__alpha=7.6;, score=-0.217 total time=   0.0s\n",
            "[CV 5/5] END .................model__alpha=7.6;, score=-0.257 total time=   0.0s\n",
            "[CV 1/5] END .................model__alpha=7.7;, score=-0.264 total time=   0.0s\n",
            "[CV 2/5] END .................model__alpha=7.7;, score=-0.236 total time=   0.0s\n",
            "[CV 3/5] END .................model__alpha=7.7;, score=-0.236 total time=   0.0s\n",
            "[CV 4/5] END .................model__alpha=7.7;, score=-0.217 total time=   0.0s\n",
            "[CV 5/5] END .................model__alpha=7.7;, score=-0.257 total time=   0.0s\n",
            "[CV 1/5] END .................model__alpha=7.8;, score=-0.264 total time=   0.0s\n",
            "[CV 2/5] END .................model__alpha=7.8;, score=-0.236 total time=   0.0s\n",
            "[CV 3/5] END .................model__alpha=7.8;, score=-0.236 total time=   0.0s\n",
            "[CV 4/5] END .................model__alpha=7.8;, score=-0.217 total time=   0.0s\n",
            "[CV 5/5] END .................model__alpha=7.8;, score=-0.257 total time=   0.0s\n",
            "[CV 1/5] END .................model__alpha=7.9;, score=-0.264 total time=   0.0s\n",
            "[CV 2/5] END .................model__alpha=7.9;, score=-0.236 total time=   0.0s\n",
            "[CV 3/5] END .................model__alpha=7.9;, score=-0.236 total time=   0.0s\n",
            "[CV 4/5] END .................model__alpha=7.9;, score=-0.217 total time=   0.0s\n",
            "[CV 5/5] END .................model__alpha=7.9;, score=-0.257 total time=   0.0s\n",
            "[CV 1/5] END .................model__alpha=8.0;, score=-0.264 total time=   0.0s\n",
            "[CV 2/5] END .................model__alpha=8.0;, score=-0.236 total time=   0.0s\n",
            "[CV 3/5] END .................model__alpha=8.0;, score=-0.236 total time=   0.0s\n",
            "[CV 4/5] END .................model__alpha=8.0;, score=-0.217 total time=   0.0s\n",
            "[CV 5/5] END .................model__alpha=8.0;, score=-0.257 total time=   0.0s\n",
            "[CV 1/5] END .................model__alpha=8.1;, score=-0.264 total time=   0.0s\n",
            "[CV 2/5] END .................model__alpha=8.1;, score=-0.236 total time=   0.0s\n",
            "[CV 3/5] END .................model__alpha=8.1;, score=-0.236 total time=   0.0s\n",
            "[CV 4/5] END .................model__alpha=8.1;, score=-0.217 total time=   0.0s\n",
            "[CV 5/5] END .................model__alpha=8.1;, score=-0.257 total time=   0.0s\n",
            "[CV 1/5] END .................model__alpha=8.2;, score=-0.264 total time=   0.0s\n",
            "[CV 2/5] END .................model__alpha=8.2;, score=-0.236 total time=   0.0s\n",
            "[CV 3/5] END .................model__alpha=8.2;, score=-0.236 total time=   0.0s\n",
            "[CV 4/5] END .................model__alpha=8.2;, score=-0.217 total time=   0.0s\n",
            "[CV 5/5] END .................model__alpha=8.2;, score=-0.257 total time=   0.0s\n",
            "[CV 1/5] END .................model__alpha=8.3;, score=-0.264 total time=   0.0s\n",
            "[CV 2/5] END .................model__alpha=8.3;, score=-0.236 total time=   0.0s\n",
            "[CV 3/5] END .................model__alpha=8.3;, score=-0.236 total time=   0.0s\n",
            "[CV 4/5] END .................model__alpha=8.3;, score=-0.217 total time=   0.0s\n",
            "[CV 5/5] END .................model__alpha=8.3;, score=-0.257 total time=   0.0s\n",
            "[CV 1/5] END .................model__alpha=8.4;, score=-0.264 total time=   0.0s\n",
            "[CV 2/5] END .................model__alpha=8.4;, score=-0.236 total time=   0.0s\n",
            "[CV 3/5] END .................model__alpha=8.4;, score=-0.236 total time=   0.0s\n",
            "[CV 4/5] END .................model__alpha=8.4;, score=-0.217 total time=   0.0s\n",
            "[CV 5/5] END .................model__alpha=8.4;, score=-0.257 total time=   0.0s\n",
            "[CV 1/5] END .................model__alpha=8.5;, score=-0.264 total time=   0.0s\n",
            "[CV 2/5] END .................model__alpha=8.5;, score=-0.236 total time=   0.0s\n",
            "[CV 3/5] END .................model__alpha=8.5;, score=-0.236 total time=   0.0s\n",
            "[CV 4/5] END .................model__alpha=8.5;, score=-0.217 total time=   0.0s\n",
            "[CV 5/5] END .................model__alpha=8.5;, score=-0.257 total time=   0.0s\n",
            "[CV 1/5] END .................model__alpha=8.6;, score=-0.264 total time=   0.0s\n",
            "[CV 2/5] END .................model__alpha=8.6;, score=-0.236 total time=   0.0s\n",
            "[CV 3/5] END .................model__alpha=8.6;, score=-0.236 total time=   0.0s\n",
            "[CV 4/5] END .................model__alpha=8.6;, score=-0.217 total time=   0.0s\n",
            "[CV 5/5] END .................model__alpha=8.6;, score=-0.257 total time=   0.0s\n",
            "[CV 1/5] END .................model__alpha=8.7;, score=-0.264 total time=   0.0s\n",
            "[CV 2/5] END .................model__alpha=8.7;, score=-0.236 total time=   0.0s\n",
            "[CV 3/5] END .................model__alpha=8.7;, score=-0.236 total time=   0.0s\n",
            "[CV 4/5] END .................model__alpha=8.7;, score=-0.217 total time=   0.0s\n",
            "[CV 5/5] END .................model__alpha=8.7;, score=-0.257 total time=   0.0s\n",
            "[CV 1/5] END .................model__alpha=8.8;, score=-0.264 total time=   0.0s\n",
            "[CV 2/5] END .................model__alpha=8.8;, score=-0.236 total time=   0.0s\n",
            "[CV 3/5] END .................model__alpha=8.8;, score=-0.236 total time=   0.0s\n",
            "[CV 4/5] END .................model__alpha=8.8;, score=-0.217 total time=   0.0s\n",
            "[CV 5/5] END .................model__alpha=8.8;, score=-0.257 total time=   0.0s\n",
            "[CV 1/5] END .................model__alpha=8.9;, score=-0.264 total time=   0.0s\n",
            "[CV 2/5] END .................model__alpha=8.9;, score=-0.236 total time=   0.0s\n",
            "[CV 3/5] END .................model__alpha=8.9;, score=-0.236 total time=   0.0s\n",
            "[CV 4/5] END .................model__alpha=8.9;, score=-0.217 total time=   0.0s\n",
            "[CV 5/5] END .................model__alpha=8.9;, score=-0.257 total time=   0.0s\n",
            "[CV 1/5] END .................model__alpha=9.0;, score=-0.264 total time=   0.0s\n",
            "[CV 2/5] END .................model__alpha=9.0;, score=-0.236 total time=   0.0s\n",
            "[CV 3/5] END .................model__alpha=9.0;, score=-0.236 total time=   0.0s\n",
            "[CV 4/5] END .................model__alpha=9.0;, score=-0.217 total time=   0.0s\n",
            "[CV 5/5] END .................model__alpha=9.0;, score=-0.257 total time=   0.0s\n",
            "[CV 1/5] END .................model__alpha=9.1;, score=-0.264 total time=   0.0s\n",
            "[CV 2/5] END .................model__alpha=9.1;, score=-0.236 total time=   0.0s\n",
            "[CV 3/5] END .................model__alpha=9.1;, score=-0.236 total time=   0.0s\n",
            "[CV 4/5] END .................model__alpha=9.1;, score=-0.217 total time=   0.0s\n",
            "[CV 5/5] END .................model__alpha=9.1;, score=-0.257 total time=   0.0s\n",
            "[CV 1/5] END .................model__alpha=9.2;, score=-0.264 total time=   0.0s\n",
            "[CV 2/5] END .................model__alpha=9.2;, score=-0.236 total time=   0.0s\n",
            "[CV 3/5] END .................model__alpha=9.2;, score=-0.236 total time=   0.0s\n",
            "[CV 4/5] END .................model__alpha=9.2;, score=-0.217 total time=   0.0s\n",
            "[CV 5/5] END .................model__alpha=9.2;, score=-0.257 total time=   0.0s\n",
            "[CV 1/5] END .................model__alpha=9.3;, score=-0.264 total time=   0.0s\n",
            "[CV 2/5] END .................model__alpha=9.3;, score=-0.236 total time=   0.0s\n",
            "[CV 3/5] END .................model__alpha=9.3;, score=-0.236 total time=   0.0s\n",
            "[CV 4/5] END .................model__alpha=9.3;, score=-0.217 total time=   0.0s\n",
            "[CV 5/5] END .................model__alpha=9.3;, score=-0.257 total time=   0.0s\n",
            "[CV 1/5] END .................model__alpha=9.4;, score=-0.264 total time=   0.0s\n",
            "[CV 2/5] END .................model__alpha=9.4;, score=-0.236 total time=   0.0s\n",
            "[CV 3/5] END .................model__alpha=9.4;, score=-0.236 total time=   0.0s\n",
            "[CV 4/5] END .................model__alpha=9.4;, score=-0.217 total time=   0.0s\n",
            "[CV 5/5] END .................model__alpha=9.4;, score=-0.257 total time=   0.0s\n",
            "[CV 1/5] END .................model__alpha=9.5;, score=-0.264 total time=   0.0s\n",
            "[CV 2/5] END .................model__alpha=9.5;, score=-0.236 total time=   0.0s\n",
            "[CV 3/5] END .................model__alpha=9.5;, score=-0.236 total time=   0.0s\n",
            "[CV 4/5] END .................model__alpha=9.5;, score=-0.217 total time=   0.0s\n",
            "[CV 5/5] END .................model__alpha=9.5;, score=-0.257 total time=   0.0s\n",
            "[CV 1/5] END .................model__alpha=9.6;, score=-0.264 total time=   0.0s\n",
            "[CV 2/5] END .................model__alpha=9.6;, score=-0.236 total time=   0.0s\n",
            "[CV 3/5] END .................model__alpha=9.6;, score=-0.236 total time=   0.0s\n",
            "[CV 4/5] END .................model__alpha=9.6;, score=-0.217 total time=   0.0s\n",
            "[CV 5/5] END .................model__alpha=9.6;, score=-0.257 total time=   0.0s\n",
            "[CV 1/5] END ...model__alpha=9.700000000000001;, score=-0.264 total time=   0.0s\n",
            "[CV 2/5] END ...model__alpha=9.700000000000001;, score=-0.236 total time=   0.0s\n",
            "[CV 3/5] END ...model__alpha=9.700000000000001;, score=-0.236 total time=   0.0s\n",
            "[CV 4/5] END ...model__alpha=9.700000000000001;, score=-0.217 total time=   0.0s\n",
            "[CV 5/5] END ...model__alpha=9.700000000000001;, score=-0.257 total time=   0.0s\n",
            "[CV 1/5] END .................model__alpha=9.8;, score=-0.264 total time=   0.0s\n",
            "[CV 2/5] END .................model__alpha=9.8;, score=-0.236 total time=   0.0s\n",
            "[CV 3/5] END .................model__alpha=9.8;, score=-0.236 total time=   0.0s\n",
            "[CV 4/5] END .................model__alpha=9.8;, score=-0.217 total time=   0.0s\n",
            "[CV 5/5] END .................model__alpha=9.8;, score=-0.257 total time=   0.0s\n",
            "[CV 1/5] END .................model__alpha=9.9;, score=-0.264 total time=   0.0s\n",
            "[CV 2/5] END .................model__alpha=9.9;, score=-0.236 total time=   0.0s\n",
            "[CV 3/5] END .................model__alpha=9.9;, score=-0.236 total time=   0.0s\n",
            "[CV 4/5] END .................model__alpha=9.9;, score=-0.217 total time=   0.0s\n",
            "[CV 5/5] END .................model__alpha=9.9;, score=-0.257 total time=   0.0s\n"
          ]
        },
        {
          "output_type": "execute_result",
          "data": {
            "text/plain": [
              "GridSearchCV(cv=5,\n",
              "             estimator=Pipeline(steps=[('scaler', StandardScaler()),\n",
              "                                       ('model', Lasso())]),\n",
              "             param_grid={'model__alpha': array([0.1, 0.2, 0.3, 0.4, 0.5, 0.6, 0.7, 0.8, 0.9, 1. , 1.1, 1.2, 1.3,\n",
              "       1.4, 1.5, 1.6, 1.7, 1.8, 1.9, 2. , 2.1, 2.2, 2.3, 2.4, 2.5, 2.6,\n",
              "       2.7, 2.8, 2.9, 3. , 3.1, 3.2, 3.3, 3.4, 3.5, 3.6, 3.7, 3.8, 3.9,\n",
              "       4. , 4.1, 4.2, 4.3, 4.4, 4.5, 4.6, 4.7, 4.8, 4.9, 5. , 5.1, 5.2,\n",
              "       5.3, 5.4, 5.5, 5.6, 5.7, 5.8, 5.9, 6. , 6.1, 6.2, 6.3, 6.4, 6.5,\n",
              "       6.6, 6.7, 6.8, 6.9, 7. , 7.1, 7.2, 7.3, 7.4, 7.5, 7.6, 7.7, 7.8,\n",
              "       7.9, 8. , 8.1, 8.2, 8.3, 8.4, 8.5, 8.6, 8.7, 8.8, 8.9, 9. , 9.1,\n",
              "       9.2, 9.3, 9.4, 9.5, 9.6, 9.7, 9.8, 9.9])},\n",
              "             scoring='neg_mean_squared_error', verbose=3)"
            ]
          },
          "metadata": {},
          "execution_count": 63
        }
      ]
    },
    {
      "cell_type": "code",
      "source": [
        "search.best_params_\n"
      ],
      "metadata": {
        "id": "467Y8gXz8Kqb",
        "outputId": "649b2fb4-fcc3-47d8-df4f-ca70f7c01e95",
        "colab": {
          "base_uri": "https://localhost:8080/"
        }
      },
      "execution_count": 64,
      "outputs": [
        {
          "output_type": "execute_result",
          "data": {
            "text/plain": [
              "{'model__alpha': 0.1}"
            ]
          },
          "metadata": {},
          "execution_count": 64
        }
      ]
    },
    {
      "cell_type": "code",
      "source": [
        "coefficients = search.best_estimator_.named_steps['model'].coef_\n"
      ],
      "metadata": {
        "id": "r5ZsQXb78Py9"
      },
      "execution_count": 65,
      "outputs": []
    },
    {
      "cell_type": "code",
      "source": [
        "coefficients"
      ],
      "metadata": {
        "id": "c6v7Dm-q8RPP",
        "outputId": "aae7d7e7-63b2-48c2-d335-c0f7051b3379",
        "colab": {
          "base_uri": "https://localhost:8080/"
        }
      },
      "execution_count": 66,
      "outputs": [
        {
          "output_type": "execute_result",
          "data": {
            "text/plain": [
              "array([ 0.        , -0.        , -0.        , -0.        ,  0.        ,\n",
              "        0.        , -0.        , -0.        ,  0.03737169, -0.        ,\n",
              "        0.        , -0.        ,  0.        , -0.        , -0.        ,\n",
              "        0.        ,  0.        , -0.        ,  0.        ,  0.        ],\n",
              "      dtype=float32)"
            ]
          },
          "metadata": {},
          "execution_count": 66
        }
      ]
    },
    {
      "cell_type": "code",
      "source": [
        "importance = np.abs(coefficients)\n",
        "importance"
      ],
      "metadata": {
        "id": "Qaa48PUw8T4V",
        "outputId": "c1f1d8cd-fe2f-4a5d-e16e-a7584e81a5dd",
        "colab": {
          "base_uri": "https://localhost:8080/"
        }
      },
      "execution_count": 67,
      "outputs": [
        {
          "output_type": "execute_result",
          "data": {
            "text/plain": [
              "array([0.        , 0.        , 0.        , 0.        , 0.        ,\n",
              "       0.        , 0.        , 0.        , 0.03737169, 0.        ,\n",
              "       0.        , 0.        , 0.        , 0.        , 0.        ,\n",
              "       0.        , 0.        , 0.        , 0.        , 0.        ],\n",
              "      dtype=float32)"
            ]
          },
          "metadata": {},
          "execution_count": 67
        }
      ]
    },
    {
      "cell_type": "code",
      "source": [
        "np.array(['Пол', 'Полных лет', 'Образование(0-начальное, 4-высшее)',\n",
        "       'Род занятий(0-0, работает-1', 'Семейное положение(0-0, 1-женат)',\n",
        "       'Удовлетворенность семеными отношениями', 'Здоровье от 1 до 10', 'Были ли нарушения сна', 'ИМТ', 'Операции',\n",
        "       'Удовлетворенность материальным положением','ЧМТ',\n",
        "       'Насл отягощенность', 'Дебют', 'Частота госпит', 'Стаж шизофр', 'P',\n",
        "       'N', 'G', 'Была попытка суицида?'])[importance > 0]\n"
      ],
      "metadata": {
        "id": "Crjl4-ak8VZF",
        "outputId": "d9b7f7c3-ec62-4a5f-e9fe-a7b4b8a00c81",
        "colab": {
          "base_uri": "https://localhost:8080/"
        }
      },
      "execution_count": 68,
      "outputs": [
        {
          "output_type": "execute_result",
          "data": {
            "text/plain": [
              "array(['ИМТ'], dtype='<U41')"
            ]
          },
          "metadata": {},
          "execution_count": 68
        }
      ]
    },
    {
      "cell_type": "code",
      "source": [
        "np.array(['Пол', 'Полных лет', 'Образование(0-начальное, 4-высшее)',\n",
        "       'Род занятий(0-0, работает-1', 'Семейное положение(0-0, 1-женат)',\n",
        "       'Удовлетворенность семеными отношениями', 'Здоровье от 1 до 10', 'Были ли нарушения сна', 'ИМТ', 'Операции',\n",
        "       'Удовлетворенность материальным положением','ЧМТ',\n",
        "       'Насл отягощенность', 'Дебют', 'Частота госпит', 'Стаж шизофр', 'P',\n",
        "       'N', 'G', 'Была попытка суицида?'])[importance == 0]\n"
      ],
      "metadata": {
        "id": "VpSqwmgK8XI8",
        "outputId": "cba4ebe8-c4b5-4bce-fcbf-a39f483cf2c6",
        "colab": {
          "base_uri": "https://localhost:8080/"
        }
      },
      "execution_count": 69,
      "outputs": [
        {
          "output_type": "execute_result",
          "data": {
            "text/plain": [
              "array(['Пол', 'Полных лет', 'Образование(0-начальное, 4-высшее)',\n",
              "       'Род занятий(0-0, работает-1', 'Семейное положение(0-0, 1-женат)',\n",
              "       'Удовлетворенность семеными отношениями', 'Здоровье от 1 до 10',\n",
              "       'Были ли нарушения сна', 'Операции',\n",
              "       'Удовлетворенность материальным положением', 'ЧМТ',\n",
              "       'Насл отягощенность', 'Дебют', 'Частота госпит', 'Стаж шизофр',\n",
              "       'P', 'N', 'G', 'Была попытка суицида?'], dtype='<U41')"
            ]
          },
          "metadata": {},
          "execution_count": 69
        }
      ]
    },
    {
      "cell_type": "code",
      "source": [],
      "metadata": {
        "id": "fyb98Ux-9IQl"
      },
      "execution_count": 69,
      "outputs": []
    },
    {
      "cell_type": "code",
      "source": [],
      "metadata": {
        "id": "It37YfGRBkQf"
      },
      "execution_count": 69,
      "outputs": []
    },
    {
      "cell_type": "code",
      "source": [
        "# Find 3 best predictors witn chi square and ANOVA\n",
        "from sklearn.feature_selection import SelectKBest\n",
        "from sklearn.feature_selection import chi2 # chi^2\n",
        "from sklearn.feature_selection import f_classif # ANOVA\n",
        "\n",
        "X_chi2 = SelectKBest(chi2, k=5).fit_transform(X, y)\n",
        "X_anova = SelectKBest(f_classif, k=5).fit_transform(X, y)"
      ],
      "metadata": {
        "id": "oW3UvZbiNUcI"
      },
      "execution_count": 70,
      "outputs": []
    },
    {
      "cell_type": "markdown",
      "source": [
        "Get the Top Selected Features\n",
        "\n",
        "https://ml2021.medium.com/chi-square-and-anova-feature-selection-for-ml-5e1063ab0991"
      ],
      "metadata": {
        "id": "8aImEuZChXVK"
      }
    },
    {
      "cell_type": "code",
      "source": [
        "f_score = chi2(X, y)\n",
        "f_score\n",
        "# The first array is the F_score , 2nd one is the P_values\n",
        "# the smaller the P value the more significant the difference in the features"
      ],
      "metadata": {
        "colab": {
          "base_uri": "https://localhost:8080/"
        },
        "id": "X3x7wS6Key9P",
        "outputId": "e417939d-5f91-47f1-a61e-b597bc4ebc43"
      },
      "execution_count": 71,
      "outputs": [
        {
          "output_type": "execute_result",
          "data": {
            "text/plain": [
              "(array([6.58823529e-01, 4.35251509e-02, 4.21709295e-02, 3.57142857e-01,\n",
              "        3.65714286e-01, 1.67574361e-04, 7.50066756e-01, 2.89349161e+00,\n",
              "        5.00000000e+00, 3.43775229e-02, 1.42016807e+00, 3.60653061e-01,\n",
              "        4.40816327e-01, 2.31704838e-01, 1.47783251e-01, 9.47373170e-02,\n",
              "        1.48680254e+01, 2.27850208e+00, 1.48578212e+01, 5.15714286e+00]),\n",
              " array([4.16975589e-01, 8.34739570e-01, 8.37294294e-01, 5.50097317e-01,\n",
              "        5.45349668e-01, 9.89671632e-01, 3.86455096e-01, 8.89379861e-02,\n",
              "        2.53473187e-02, 8.52906081e-01, 2.33375742e-01, 5.48143766e-01,\n",
              "        5.06728712e-01, 6.30262588e-01, 7.00662828e-01, 7.58238877e-01,\n",
              "        1.15300917e-04, 1.31178513e-01, 1.15926370e-04, 2.31509520e-02]))"
            ]
          },
          "metadata": {},
          "execution_count": 71
        }
      ]
    },
    {
      "cell_type": "code",
      "source": [
        "pvalues = pd.Series(f_score[1])\n",
        "pvalues.index = X.columns\n",
        "pvalues.sort_values(ascending=True)"
      ],
      "metadata": {
        "colab": {
          "base_uri": "https://localhost:8080/"
        },
        "id": "3Xp3b1pMe9AS",
        "outputId": "300ce166-2214-4dca-ee3a-43e74772f845"
      },
      "execution_count": 72,
      "outputs": [
        {
          "output_type": "execute_result",
          "data": {
            "text/plain": [
              "P                                            0.000115\n",
              "G                                            0.000116\n",
              "Была попытка суицида?                        0.023151\n",
              "Были ли нарушения сна                        0.025347\n",
              "Здоровье от 1 до 10                          0.088938\n",
              "N                                            0.131179\n",
              "Операции                                     0.233376\n",
              "Удовлетворенность материальным положением    0.386455\n",
              "Пол                                          0.416976\n",
              "Насл отягощенность                           0.506729\n",
              "Семейное положение(0-0, 1-женат)             0.545350\n",
              "ЧМТ                                          0.548144\n",
              "Род занятий(0-0, работает-1                  0.550097\n",
              "Дебют                                        0.630263\n",
              "Частота госпит                               0.700663\n",
              "Стаж шизофр                                  0.758239\n",
              "Полных лет                                   0.834740\n",
              "Образование(0-начальное, 4-высшее)           0.837294\n",
              "ИМТ                                          0.852906\n",
              "Удовлетворенность семеными отношениями       0.989672\n",
              "dtype: float64"
            ]
          },
          "metadata": {},
          "execution_count": 72
        }
      ]
    },
    {
      "cell_type": "code",
      "source": [
        "# Now use the SelectKBest Model with the chi2 classifier to find the best features\n",
        "\n",
        "sel_ = SelectKBest(chi2, k=5).fit(X, y)\n",
        "X.columns[sel_.get_support()]"
      ],
      "metadata": {
        "colab": {
          "base_uri": "https://localhost:8080/"
        },
        "id": "pelM22yef1sD",
        "outputId": "8dd128be-6fed-4ed5-9b17-3376ac2bddf0"
      },
      "execution_count": 73,
      "outputs": [
        {
          "output_type": "execute_result",
          "data": {
            "text/plain": [
              "Index(['Здоровье от 1 до 10', 'Были ли нарушения сна', 'P', 'G',\n",
              "       'Была попытка суицида?'],\n",
              "      dtype='object')"
            ]
          },
          "metadata": {},
          "execution_count": 73
        }
      ]
    },
    {
      "cell_type": "code",
      "source": [],
      "metadata": {
        "id": "tra8Cu0Af292"
      },
      "execution_count": 73,
      "outputs": []
    },
    {
      "cell_type": "code",
      "source": [],
      "metadata": {
        "id": "4TvTeApRfKkw"
      },
      "execution_count": 73,
      "outputs": []
    },
    {
      "cell_type": "code",
      "source": [
        "ds.head(20)"
      ],
      "metadata": {
        "colab": {
          "base_uri": "https://localhost:8080/",
          "height": 822
        },
        "id": "QVqfCfsgQHwV",
        "outputId": "9d5f117a-d156-4666-9e2f-3f11729e424f"
      },
      "execution_count": 74,
      "outputs": [
        {
          "output_type": "execute_result",
          "data": {
            "text/plain": [
              "    Пол  Полных лет  Образование(0-начальное, 4-высшее)  \\\n",
              "0   1.0        32.0                                 4.0   \n",
              "1   1.0        26.0                                 2.0   \n",
              "2   1.0        49.0                                 2.0   \n",
              "3   1.0        50.0                                 2.0   \n",
              "4   1.0        39.0                                 2.0   \n",
              "5   1.0        26.0                                 2.0   \n",
              "6   1.0        35.0                                 3.0   \n",
              "7   1.0        31.0                                 3.0   \n",
              "8   1.0        23.0                                 2.0   \n",
              "9   1.0        37.0                                 3.0   \n",
              "10  1.0        39.0                                 3.0   \n",
              "11  1.0        29.0                                 1.0   \n",
              "12  1.0        36.0                                 4.0   \n",
              "13  1.0        33.0                                 3.0   \n",
              "14  1.0        24.0                                 2.0   \n",
              "15  1.0        54.0                                 4.0   \n",
              "16  1.0        32.0                                 2.0   \n",
              "17  1.0        29.0                                 2.0   \n",
              "18  1.0        49.0                                 2.0   \n",
              "19  1.0        34.0                                 2.0   \n",
              "\n",
              "    Род занятий(0-0, работает-1  Семейное положение(0-0, 1-женат)  \\\n",
              "0                           0.0                               0.0   \n",
              "1                           0.0                               0.0   \n",
              "2                           0.0                               0.0   \n",
              "3                           0.0                               0.0   \n",
              "4                           0.0                               0.0   \n",
              "5                           1.0                               1.0   \n",
              "6                           0.0                               0.0   \n",
              "7                           0.0                               0.0   \n",
              "8                           0.0                               0.0   \n",
              "9                           1.0                               0.0   \n",
              "10                          1.0                               0.0   \n",
              "11                          0.0                               0.0   \n",
              "12                          0.0                               0.0   \n",
              "13                          1.0                               1.0   \n",
              "14                          1.0                               0.0   \n",
              "15                          0.0                               0.0   \n",
              "16                          0.0                               0.0   \n",
              "17                          0.0                               0.0   \n",
              "18                          0.0                               0.0   \n",
              "19                          1.0                               0.0   \n",
              "\n",
              "    Удовлетворенность семеными отношениями  \\\n",
              "0                                      5.0   \n",
              "1                                      5.0   \n",
              "2                                      5.0   \n",
              "3                                      5.0   \n",
              "4                                      5.0   \n",
              "5                                      5.0   \n",
              "6                                      5.0   \n",
              "7                                      1.0   \n",
              "8                                      4.0   \n",
              "9                                      5.0   \n",
              "10                                     1.0   \n",
              "11                                     5.0   \n",
              "12                                     1.0   \n",
              "13                                     5.0   \n",
              "14                                     5.0   \n",
              "15                                     2.0   \n",
              "16                                     5.0   \n",
              "17                                     4.0   \n",
              "18                                     4.0   \n",
              "19                                     4.0   \n",
              "\n",
              "    Удовлетворенность материальным положением  Здоровье от 1 до 10  \\\n",
              "0                                         0.0                  7.0   \n",
              "1                                         0.0                 10.0   \n",
              "2                                         1.0                 10.0   \n",
              "3                                         1.0                  7.0   \n",
              "4                                         1.0                  7.0   \n",
              "5                                         1.0                 10.0   \n",
              "6                                         1.0                  5.0   \n",
              "7                                         0.0                  3.0   \n",
              "8                                         1.0                  7.0   \n",
              "9                                         0.0                  7.0   \n",
              "10                                        0.0                  1.0   \n",
              "11                                        1.0                 10.0   \n",
              "12                                        0.0                  7.0   \n",
              "13                                        1.0                 10.0   \n",
              "14                                        1.0                  5.0   \n",
              "15                                        0.0                  5.0   \n",
              "16                                        1.0                  9.0   \n",
              "17                                        1.0                 10.0   \n",
              "18                                        0.0                 10.0   \n",
              "19                                        0.0                 10.0   \n",
              "\n",
              "    Были ли нарушения сна        ИМТ  ...  Стаж шизофр     P     N     G  \\\n",
              "0                     1.0  24.012346  ...         3.70  11.0  11.0  18.0   \n",
              "1                     1.0  20.244898  ...         2.00  10.0  25.0  36.0   \n",
              "2                     0.0  29.752745  ...        23.00   9.0  16.0  23.0   \n",
              "3                     1.0  22.093170  ...        34.00  13.0  13.0  20.0   \n",
              "4                     0.0  20.761246  ...         4.00   9.0  13.0  22.0   \n",
              "5                     1.0  25.737082  ...         1.00   7.0   9.0  21.0   \n",
              "6                     0.0  23.547880  ...        12.20  14.0  20.0  40.0   \n",
              "7                     1.0  26.128611  ...         9.00   7.0   7.0  16.0   \n",
              "8                     0.0  18.812147  ...         5.67  15.0  11.0  28.0   \n",
              "9                     0.0  20.761246  ...        11.00  18.0   7.0  22.0   \n",
              "10                    1.0  23.148148  ...        16.00  19.0  13.0  41.0   \n",
              "11                    1.0  25.661152  ...        16.00  15.0   9.0  26.0   \n",
              "12                    1.0  29.407787  ...        15.00  11.0  19.0  48.0   \n",
              "13                    1.0  26.827421  ...        13.00   9.0   7.0  25.0   \n",
              "14                    1.0  25.390625  ...         8.00  12.0  11.0  23.0   \n",
              "15                    0.0  29.411764  ...        19.00  14.0  11.0  31.0   \n",
              "16                    0.0  22.724403  ...        17.00   8.0   9.0  22.0   \n",
              "17                    0.0  21.877550  ...        11.00   8.0   9.0  24.0   \n",
              "18                    0.0  24.092970  ...        20.00   7.0   7.0  18.0   \n",
              "19                    1.0  22.386314  ...        17.00  13.0  12.0  28.0   \n",
              "\n",
              "    Была попытка суицида?  PSQI  psqi больше 5  (ТРЕВОГА)Гаиильтон больше 16  \\\n",
              "0                     0.0   6.0            1.0                           0.0   \n",
              "1                     0.0   8.0            1.0                           0.0   \n",
              "2                     0.0   3.0            0.0                           0.0   \n",
              "3                     0.0   6.0            1.0                           0.0   \n",
              "4                     0.0   4.0            0.0                           0.0   \n",
              "5                     0.0   1.0            0.0                           0.0   \n",
              "6                     0.0   8.0            1.0                           1.0   \n",
              "7                     0.0   6.0            1.0                           0.0   \n",
              "8                     0.0   8.0            1.0                           0.0   \n",
              "9                     0.0   7.0            1.0                           0.0   \n",
              "10                    0.0  11.0            1.0                           1.0   \n",
              "11                    0.0   8.0            1.0                           0.0   \n",
              "12                    0.0  10.0            1.0                           1.0   \n",
              "13                    1.0  10.0            1.0                           0.0   \n",
              "14                    1.0   7.0            1.0                           1.0   \n",
              "15                    0.0   5.0            0.0                           0.0   \n",
              "16                    0.0   3.0            0.0                           0.0   \n",
              "17                    0.0   4.0            0.0                           0.0   \n",
              "18                    0.0   2.0            0.0                           0.0   \n",
              "19                    0.0   8.0            1.0                           0.0   \n",
              "\n",
              "    (ДЕПРЕССИЯ)madrs больше 6  (ДЕПРЕССИЯ)Калгари больше 5  \n",
              "0                         0.0                          0.0  \n",
              "1                         1.0                          1.0  \n",
              "2                         0.0                          0.0  \n",
              "3                         0.0                          0.0  \n",
              "4                         0.0                          0.0  \n",
              "5                         0.0                          0.0  \n",
              "6                         1.0                          0.0  \n",
              "7                         0.0                          0.0  \n",
              "8                         0.0                          0.0  \n",
              "9                         0.0                          0.0  \n",
              "10                        1.0                          1.0  \n",
              "11                        0.0                          0.0  \n",
              "12                        1.0                          1.0  \n",
              "13                        1.0                          0.0  \n",
              "14                        1.0                          1.0  \n",
              "15                        0.0                          0.0  \n",
              "16                        0.0                          0.0  \n",
              "17                        0.0                          0.0  \n",
              "18                        0.0                          0.0  \n",
              "19                        1.0                          1.0  \n",
              "\n",
              "[20 rows x 25 columns]"
            ],
            "text/html": [
              "\n",
              "  <div id=\"df-c09a5e26-fd93-423c-8d72-5b3fcccf3c95\">\n",
              "    <div class=\"colab-df-container\">\n",
              "      <div>\n",
              "<style scoped>\n",
              "    .dataframe tbody tr th:only-of-type {\n",
              "        vertical-align: middle;\n",
              "    }\n",
              "\n",
              "    .dataframe tbody tr th {\n",
              "        vertical-align: top;\n",
              "    }\n",
              "\n",
              "    .dataframe thead th {\n",
              "        text-align: right;\n",
              "    }\n",
              "</style>\n",
              "<table border=\"1\" class=\"dataframe\">\n",
              "  <thead>\n",
              "    <tr style=\"text-align: right;\">\n",
              "      <th></th>\n",
              "      <th>Пол</th>\n",
              "      <th>Полных лет</th>\n",
              "      <th>Образование(0-начальное, 4-высшее)</th>\n",
              "      <th>Род занятий(0-0, работает-1</th>\n",
              "      <th>Семейное положение(0-0, 1-женат)</th>\n",
              "      <th>Удовлетворенность семеными отношениями</th>\n",
              "      <th>Удовлетворенность материальным положением</th>\n",
              "      <th>Здоровье от 1 до 10</th>\n",
              "      <th>Были ли нарушения сна</th>\n",
              "      <th>ИМТ</th>\n",
              "      <th>...</th>\n",
              "      <th>Стаж шизофр</th>\n",
              "      <th>P</th>\n",
              "      <th>N</th>\n",
              "      <th>G</th>\n",
              "      <th>Была попытка суицида?</th>\n",
              "      <th>PSQI</th>\n",
              "      <th>psqi больше 5</th>\n",
              "      <th>(ТРЕВОГА)Гаиильтон больше 16</th>\n",
              "      <th>(ДЕПРЕССИЯ)madrs больше 6</th>\n",
              "      <th>(ДЕПРЕССИЯ)Калгари больше 5</th>\n",
              "    </tr>\n",
              "  </thead>\n",
              "  <tbody>\n",
              "    <tr>\n",
              "      <th>0</th>\n",
              "      <td>1.0</td>\n",
              "      <td>32.0</td>\n",
              "      <td>4.0</td>\n",
              "      <td>0.0</td>\n",
              "      <td>0.0</td>\n",
              "      <td>5.0</td>\n",
              "      <td>0.0</td>\n",
              "      <td>7.0</td>\n",
              "      <td>1.0</td>\n",
              "      <td>24.012346</td>\n",
              "      <td>...</td>\n",
              "      <td>3.70</td>\n",
              "      <td>11.0</td>\n",
              "      <td>11.0</td>\n",
              "      <td>18.0</td>\n",
              "      <td>0.0</td>\n",
              "      <td>6.0</td>\n",
              "      <td>1.0</td>\n",
              "      <td>0.0</td>\n",
              "      <td>0.0</td>\n",
              "      <td>0.0</td>\n",
              "    </tr>\n",
              "    <tr>\n",
              "      <th>1</th>\n",
              "      <td>1.0</td>\n",
              "      <td>26.0</td>\n",
              "      <td>2.0</td>\n",
              "      <td>0.0</td>\n",
              "      <td>0.0</td>\n",
              "      <td>5.0</td>\n",
              "      <td>0.0</td>\n",
              "      <td>10.0</td>\n",
              "      <td>1.0</td>\n",
              "      <td>20.244898</td>\n",
              "      <td>...</td>\n",
              "      <td>2.00</td>\n",
              "      <td>10.0</td>\n",
              "      <td>25.0</td>\n",
              "      <td>36.0</td>\n",
              "      <td>0.0</td>\n",
              "      <td>8.0</td>\n",
              "      <td>1.0</td>\n",
              "      <td>0.0</td>\n",
              "      <td>1.0</td>\n",
              "      <td>1.0</td>\n",
              "    </tr>\n",
              "    <tr>\n",
              "      <th>2</th>\n",
              "      <td>1.0</td>\n",
              "      <td>49.0</td>\n",
              "      <td>2.0</td>\n",
              "      <td>0.0</td>\n",
              "      <td>0.0</td>\n",
              "      <td>5.0</td>\n",
              "      <td>1.0</td>\n",
              "      <td>10.0</td>\n",
              "      <td>0.0</td>\n",
              "      <td>29.752745</td>\n",
              "      <td>...</td>\n",
              "      <td>23.00</td>\n",
              "      <td>9.0</td>\n",
              "      <td>16.0</td>\n",
              "      <td>23.0</td>\n",
              "      <td>0.0</td>\n",
              "      <td>3.0</td>\n",
              "      <td>0.0</td>\n",
              "      <td>0.0</td>\n",
              "      <td>0.0</td>\n",
              "      <td>0.0</td>\n",
              "    </tr>\n",
              "    <tr>\n",
              "      <th>3</th>\n",
              "      <td>1.0</td>\n",
              "      <td>50.0</td>\n",
              "      <td>2.0</td>\n",
              "      <td>0.0</td>\n",
              "      <td>0.0</td>\n",
              "      <td>5.0</td>\n",
              "      <td>1.0</td>\n",
              "      <td>7.0</td>\n",
              "      <td>1.0</td>\n",
              "      <td>22.093170</td>\n",
              "      <td>...</td>\n",
              "      <td>34.00</td>\n",
              "      <td>13.0</td>\n",
              "      <td>13.0</td>\n",
              "      <td>20.0</td>\n",
              "      <td>0.0</td>\n",
              "      <td>6.0</td>\n",
              "      <td>1.0</td>\n",
              "      <td>0.0</td>\n",
              "      <td>0.0</td>\n",
              "      <td>0.0</td>\n",
              "    </tr>\n",
              "    <tr>\n",
              "      <th>4</th>\n",
              "      <td>1.0</td>\n",
              "      <td>39.0</td>\n",
              "      <td>2.0</td>\n",
              "      <td>0.0</td>\n",
              "      <td>0.0</td>\n",
              "      <td>5.0</td>\n",
              "      <td>1.0</td>\n",
              "      <td>7.0</td>\n",
              "      <td>0.0</td>\n",
              "      <td>20.761246</td>\n",
              "      <td>...</td>\n",
              "      <td>4.00</td>\n",
              "      <td>9.0</td>\n",
              "      <td>13.0</td>\n",
              "      <td>22.0</td>\n",
              "      <td>0.0</td>\n",
              "      <td>4.0</td>\n",
              "      <td>0.0</td>\n",
              "      <td>0.0</td>\n",
              "      <td>0.0</td>\n",
              "      <td>0.0</td>\n",
              "    </tr>\n",
              "    <tr>\n",
              "      <th>5</th>\n",
              "      <td>1.0</td>\n",
              "      <td>26.0</td>\n",
              "      <td>2.0</td>\n",
              "      <td>1.0</td>\n",
              "      <td>1.0</td>\n",
              "      <td>5.0</td>\n",
              "      <td>1.0</td>\n",
              "      <td>10.0</td>\n",
              "      <td>1.0</td>\n",
              "      <td>25.737082</td>\n",
              "      <td>...</td>\n",
              "      <td>1.00</td>\n",
              "      <td>7.0</td>\n",
              "      <td>9.0</td>\n",
              "      <td>21.0</td>\n",
              "      <td>0.0</td>\n",
              "      <td>1.0</td>\n",
              "      <td>0.0</td>\n",
              "      <td>0.0</td>\n",
              "      <td>0.0</td>\n",
              "      <td>0.0</td>\n",
              "    </tr>\n",
              "    <tr>\n",
              "      <th>6</th>\n",
              "      <td>1.0</td>\n",
              "      <td>35.0</td>\n",
              "      <td>3.0</td>\n",
              "      <td>0.0</td>\n",
              "      <td>0.0</td>\n",
              "      <td>5.0</td>\n",
              "      <td>1.0</td>\n",
              "      <td>5.0</td>\n",
              "      <td>0.0</td>\n",
              "      <td>23.547880</td>\n",
              "      <td>...</td>\n",
              "      <td>12.20</td>\n",
              "      <td>14.0</td>\n",
              "      <td>20.0</td>\n",
              "      <td>40.0</td>\n",
              "      <td>0.0</td>\n",
              "      <td>8.0</td>\n",
              "      <td>1.0</td>\n",
              "      <td>1.0</td>\n",
              "      <td>1.0</td>\n",
              "      <td>0.0</td>\n",
              "    </tr>\n",
              "    <tr>\n",
              "      <th>7</th>\n",
              "      <td>1.0</td>\n",
              "      <td>31.0</td>\n",
              "      <td>3.0</td>\n",
              "      <td>0.0</td>\n",
              "      <td>0.0</td>\n",
              "      <td>1.0</td>\n",
              "      <td>0.0</td>\n",
              "      <td>3.0</td>\n",
              "      <td>1.0</td>\n",
              "      <td>26.128611</td>\n",
              "      <td>...</td>\n",
              "      <td>9.00</td>\n",
              "      <td>7.0</td>\n",
              "      <td>7.0</td>\n",
              "      <td>16.0</td>\n",
              "      <td>0.0</td>\n",
              "      <td>6.0</td>\n",
              "      <td>1.0</td>\n",
              "      <td>0.0</td>\n",
              "      <td>0.0</td>\n",
              "      <td>0.0</td>\n",
              "    </tr>\n",
              "    <tr>\n",
              "      <th>8</th>\n",
              "      <td>1.0</td>\n",
              "      <td>23.0</td>\n",
              "      <td>2.0</td>\n",
              "      <td>0.0</td>\n",
              "      <td>0.0</td>\n",
              "      <td>4.0</td>\n",
              "      <td>1.0</td>\n",
              "      <td>7.0</td>\n",
              "      <td>0.0</td>\n",
              "      <td>18.812147</td>\n",
              "      <td>...</td>\n",
              "      <td>5.67</td>\n",
              "      <td>15.0</td>\n",
              "      <td>11.0</td>\n",
              "      <td>28.0</td>\n",
              "      <td>0.0</td>\n",
              "      <td>8.0</td>\n",
              "      <td>1.0</td>\n",
              "      <td>0.0</td>\n",
              "      <td>0.0</td>\n",
              "      <td>0.0</td>\n",
              "    </tr>\n",
              "    <tr>\n",
              "      <th>9</th>\n",
              "      <td>1.0</td>\n",
              "      <td>37.0</td>\n",
              "      <td>3.0</td>\n",
              "      <td>1.0</td>\n",
              "      <td>0.0</td>\n",
              "      <td>5.0</td>\n",
              "      <td>0.0</td>\n",
              "      <td>7.0</td>\n",
              "      <td>0.0</td>\n",
              "      <td>20.761246</td>\n",
              "      <td>...</td>\n",
              "      <td>11.00</td>\n",
              "      <td>18.0</td>\n",
              "      <td>7.0</td>\n",
              "      <td>22.0</td>\n",
              "      <td>0.0</td>\n",
              "      <td>7.0</td>\n",
              "      <td>1.0</td>\n",
              "      <td>0.0</td>\n",
              "      <td>0.0</td>\n",
              "      <td>0.0</td>\n",
              "    </tr>\n",
              "    <tr>\n",
              "      <th>10</th>\n",
              "      <td>1.0</td>\n",
              "      <td>39.0</td>\n",
              "      <td>3.0</td>\n",
              "      <td>1.0</td>\n",
              "      <td>0.0</td>\n",
              "      <td>1.0</td>\n",
              "      <td>0.0</td>\n",
              "      <td>1.0</td>\n",
              "      <td>1.0</td>\n",
              "      <td>23.148148</td>\n",
              "      <td>...</td>\n",
              "      <td>16.00</td>\n",
              "      <td>19.0</td>\n",
              "      <td>13.0</td>\n",
              "      <td>41.0</td>\n",
              "      <td>0.0</td>\n",
              "      <td>11.0</td>\n",
              "      <td>1.0</td>\n",
              "      <td>1.0</td>\n",
              "      <td>1.0</td>\n",
              "      <td>1.0</td>\n",
              "    </tr>\n",
              "    <tr>\n",
              "      <th>11</th>\n",
              "      <td>1.0</td>\n",
              "      <td>29.0</td>\n",
              "      <td>1.0</td>\n",
              "      <td>0.0</td>\n",
              "      <td>0.0</td>\n",
              "      <td>5.0</td>\n",
              "      <td>1.0</td>\n",
              "      <td>10.0</td>\n",
              "      <td>1.0</td>\n",
              "      <td>25.661152</td>\n",
              "      <td>...</td>\n",
              "      <td>16.00</td>\n",
              "      <td>15.0</td>\n",
              "      <td>9.0</td>\n",
              "      <td>26.0</td>\n",
              "      <td>0.0</td>\n",
              "      <td>8.0</td>\n",
              "      <td>1.0</td>\n",
              "      <td>0.0</td>\n",
              "      <td>0.0</td>\n",
              "      <td>0.0</td>\n",
              "    </tr>\n",
              "    <tr>\n",
              "      <th>12</th>\n",
              "      <td>1.0</td>\n",
              "      <td>36.0</td>\n",
              "      <td>4.0</td>\n",
              "      <td>0.0</td>\n",
              "      <td>0.0</td>\n",
              "      <td>1.0</td>\n",
              "      <td>0.0</td>\n",
              "      <td>7.0</td>\n",
              "      <td>1.0</td>\n",
              "      <td>29.407787</td>\n",
              "      <td>...</td>\n",
              "      <td>15.00</td>\n",
              "      <td>11.0</td>\n",
              "      <td>19.0</td>\n",
              "      <td>48.0</td>\n",
              "      <td>0.0</td>\n",
              "      <td>10.0</td>\n",
              "      <td>1.0</td>\n",
              "      <td>1.0</td>\n",
              "      <td>1.0</td>\n",
              "      <td>1.0</td>\n",
              "    </tr>\n",
              "    <tr>\n",
              "      <th>13</th>\n",
              "      <td>1.0</td>\n",
              "      <td>33.0</td>\n",
              "      <td>3.0</td>\n",
              "      <td>1.0</td>\n",
              "      <td>1.0</td>\n",
              "      <td>5.0</td>\n",
              "      <td>1.0</td>\n",
              "      <td>10.0</td>\n",
              "      <td>1.0</td>\n",
              "      <td>26.827421</td>\n",
              "      <td>...</td>\n",
              "      <td>13.00</td>\n",
              "      <td>9.0</td>\n",
              "      <td>7.0</td>\n",
              "      <td>25.0</td>\n",
              "      <td>1.0</td>\n",
              "      <td>10.0</td>\n",
              "      <td>1.0</td>\n",
              "      <td>0.0</td>\n",
              "      <td>1.0</td>\n",
              "      <td>0.0</td>\n",
              "    </tr>\n",
              "    <tr>\n",
              "      <th>14</th>\n",
              "      <td>1.0</td>\n",
              "      <td>24.0</td>\n",
              "      <td>2.0</td>\n",
              "      <td>1.0</td>\n",
              "      <td>0.0</td>\n",
              "      <td>5.0</td>\n",
              "      <td>1.0</td>\n",
              "      <td>5.0</td>\n",
              "      <td>1.0</td>\n",
              "      <td>25.390625</td>\n",
              "      <td>...</td>\n",
              "      <td>8.00</td>\n",
              "      <td>12.0</td>\n",
              "      <td>11.0</td>\n",
              "      <td>23.0</td>\n",
              "      <td>1.0</td>\n",
              "      <td>7.0</td>\n",
              "      <td>1.0</td>\n",
              "      <td>1.0</td>\n",
              "      <td>1.0</td>\n",
              "      <td>1.0</td>\n",
              "    </tr>\n",
              "    <tr>\n",
              "      <th>15</th>\n",
              "      <td>1.0</td>\n",
              "      <td>54.0</td>\n",
              "      <td>4.0</td>\n",
              "      <td>0.0</td>\n",
              "      <td>0.0</td>\n",
              "      <td>2.0</td>\n",
              "      <td>0.0</td>\n",
              "      <td>5.0</td>\n",
              "      <td>0.0</td>\n",
              "      <td>29.411764</td>\n",
              "      <td>...</td>\n",
              "      <td>19.00</td>\n",
              "      <td>14.0</td>\n",
              "      <td>11.0</td>\n",
              "      <td>31.0</td>\n",
              "      <td>0.0</td>\n",
              "      <td>5.0</td>\n",
              "      <td>0.0</td>\n",
              "      <td>0.0</td>\n",
              "      <td>0.0</td>\n",
              "      <td>0.0</td>\n",
              "    </tr>\n",
              "    <tr>\n",
              "      <th>16</th>\n",
              "      <td>1.0</td>\n",
              "      <td>32.0</td>\n",
              "      <td>2.0</td>\n",
              "      <td>0.0</td>\n",
              "      <td>0.0</td>\n",
              "      <td>5.0</td>\n",
              "      <td>1.0</td>\n",
              "      <td>9.0</td>\n",
              "      <td>0.0</td>\n",
              "      <td>22.724403</td>\n",
              "      <td>...</td>\n",
              "      <td>17.00</td>\n",
              "      <td>8.0</td>\n",
              "      <td>9.0</td>\n",
              "      <td>22.0</td>\n",
              "      <td>0.0</td>\n",
              "      <td>3.0</td>\n",
              "      <td>0.0</td>\n",
              "      <td>0.0</td>\n",
              "      <td>0.0</td>\n",
              "      <td>0.0</td>\n",
              "    </tr>\n",
              "    <tr>\n",
              "      <th>17</th>\n",
              "      <td>1.0</td>\n",
              "      <td>29.0</td>\n",
              "      <td>2.0</td>\n",
              "      <td>0.0</td>\n",
              "      <td>0.0</td>\n",
              "      <td>4.0</td>\n",
              "      <td>1.0</td>\n",
              "      <td>10.0</td>\n",
              "      <td>0.0</td>\n",
              "      <td>21.877550</td>\n",
              "      <td>...</td>\n",
              "      <td>11.00</td>\n",
              "      <td>8.0</td>\n",
              "      <td>9.0</td>\n",
              "      <td>24.0</td>\n",
              "      <td>0.0</td>\n",
              "      <td>4.0</td>\n",
              "      <td>0.0</td>\n",
              "      <td>0.0</td>\n",
              "      <td>0.0</td>\n",
              "      <td>0.0</td>\n",
              "    </tr>\n",
              "    <tr>\n",
              "      <th>18</th>\n",
              "      <td>1.0</td>\n",
              "      <td>49.0</td>\n",
              "      <td>2.0</td>\n",
              "      <td>0.0</td>\n",
              "      <td>0.0</td>\n",
              "      <td>4.0</td>\n",
              "      <td>0.0</td>\n",
              "      <td>10.0</td>\n",
              "      <td>0.0</td>\n",
              "      <td>24.092970</td>\n",
              "      <td>...</td>\n",
              "      <td>20.00</td>\n",
              "      <td>7.0</td>\n",
              "      <td>7.0</td>\n",
              "      <td>18.0</td>\n",
              "      <td>0.0</td>\n",
              "      <td>2.0</td>\n",
              "      <td>0.0</td>\n",
              "      <td>0.0</td>\n",
              "      <td>0.0</td>\n",
              "      <td>0.0</td>\n",
              "    </tr>\n",
              "    <tr>\n",
              "      <th>19</th>\n",
              "      <td>1.0</td>\n",
              "      <td>34.0</td>\n",
              "      <td>2.0</td>\n",
              "      <td>1.0</td>\n",
              "      <td>0.0</td>\n",
              "      <td>4.0</td>\n",
              "      <td>0.0</td>\n",
              "      <td>10.0</td>\n",
              "      <td>1.0</td>\n",
              "      <td>22.386314</td>\n",
              "      <td>...</td>\n",
              "      <td>17.00</td>\n",
              "      <td>13.0</td>\n",
              "      <td>12.0</td>\n",
              "      <td>28.0</td>\n",
              "      <td>0.0</td>\n",
              "      <td>8.0</td>\n",
              "      <td>1.0</td>\n",
              "      <td>0.0</td>\n",
              "      <td>1.0</td>\n",
              "      <td>1.0</td>\n",
              "    </tr>\n",
              "  </tbody>\n",
              "</table>\n",
              "<p>20 rows × 25 columns</p>\n",
              "</div>\n",
              "      <button class=\"colab-df-convert\" onclick=\"convertToInteractive('df-c09a5e26-fd93-423c-8d72-5b3fcccf3c95')\"\n",
              "              title=\"Convert this dataframe to an interactive table.\"\n",
              "              style=\"display:none;\">\n",
              "        \n",
              "  <svg xmlns=\"http://www.w3.org/2000/svg\" height=\"24px\"viewBox=\"0 0 24 24\"\n",
              "       width=\"24px\">\n",
              "    <path d=\"M0 0h24v24H0V0z\" fill=\"none\"/>\n",
              "    <path d=\"M18.56 5.44l.94 2.06.94-2.06 2.06-.94-2.06-.94-.94-2.06-.94 2.06-2.06.94zm-11 1L8.5 8.5l.94-2.06 2.06-.94-2.06-.94L8.5 2.5l-.94 2.06-2.06.94zm10 10l.94 2.06.94-2.06 2.06-.94-2.06-.94-.94-2.06-.94 2.06-2.06.94z\"/><path d=\"M17.41 7.96l-1.37-1.37c-.4-.4-.92-.59-1.43-.59-.52 0-1.04.2-1.43.59L10.3 9.45l-7.72 7.72c-.78.78-.78 2.05 0 2.83L4 21.41c.39.39.9.59 1.41.59.51 0 1.02-.2 1.41-.59l7.78-7.78 2.81-2.81c.8-.78.8-2.07 0-2.86zM5.41 20L4 18.59l7.72-7.72 1.47 1.35L5.41 20z\"/>\n",
              "  </svg>\n",
              "      </button>\n",
              "      \n",
              "  <style>\n",
              "    .colab-df-container {\n",
              "      display:flex;\n",
              "      flex-wrap:wrap;\n",
              "      gap: 12px;\n",
              "    }\n",
              "\n",
              "    .colab-df-convert {\n",
              "      background-color: #E8F0FE;\n",
              "      border: none;\n",
              "      border-radius: 50%;\n",
              "      cursor: pointer;\n",
              "      display: none;\n",
              "      fill: #1967D2;\n",
              "      height: 32px;\n",
              "      padding: 0 0 0 0;\n",
              "      width: 32px;\n",
              "    }\n",
              "\n",
              "    .colab-df-convert:hover {\n",
              "      background-color: #E2EBFA;\n",
              "      box-shadow: 0px 1px 2px rgba(60, 64, 67, 0.3), 0px 1px 3px 1px rgba(60, 64, 67, 0.15);\n",
              "      fill: #174EA6;\n",
              "    }\n",
              "\n",
              "    [theme=dark] .colab-df-convert {\n",
              "      background-color: #3B4455;\n",
              "      fill: #D2E3FC;\n",
              "    }\n",
              "\n",
              "    [theme=dark] .colab-df-convert:hover {\n",
              "      background-color: #434B5C;\n",
              "      box-shadow: 0px 1px 3px 1px rgba(0, 0, 0, 0.15);\n",
              "      filter: drop-shadow(0px 1px 2px rgba(0, 0, 0, 0.3));\n",
              "      fill: #FFFFFF;\n",
              "    }\n",
              "  </style>\n",
              "\n",
              "      <script>\n",
              "        const buttonEl =\n",
              "          document.querySelector('#df-c09a5e26-fd93-423c-8d72-5b3fcccf3c95 button.colab-df-convert');\n",
              "        buttonEl.style.display =\n",
              "          google.colab.kernel.accessAllowed ? 'block' : 'none';\n",
              "\n",
              "        async function convertToInteractive(key) {\n",
              "          const element = document.querySelector('#df-c09a5e26-fd93-423c-8d72-5b3fcccf3c95');\n",
              "          const dataTable =\n",
              "            await google.colab.kernel.invokeFunction('convertToInteractive',\n",
              "                                                     [key], {});\n",
              "          if (!dataTable) return;\n",
              "\n",
              "          const docLinkHtml = 'Like what you see? Visit the ' +\n",
              "            '<a target=\"_blank\" href=https://colab.research.google.com/notebooks/data_table.ipynb>data table notebook</a>'\n",
              "            + ' to learn more about interactive tables.';\n",
              "          element.innerHTML = '';\n",
              "          dataTable['output_type'] = 'display_data';\n",
              "          await google.colab.output.renderOutput(dataTable, element);\n",
              "          const docLink = document.createElement('div');\n",
              "          docLink.innerHTML = docLinkHtml;\n",
              "          element.appendChild(docLink);\n",
              "        }\n",
              "      </script>\n",
              "    </div>\n",
              "  </div>\n",
              "  "
            ]
          },
          "metadata": {},
          "execution_count": 74
        }
      ]
    },
    {
      "cell_type": "code",
      "source": [
        "X_chi2 # ['Здоровье от 1 до 10', 'Были ли нарушения сна', 'P', 'G', 'Была попытка суицида?']"
      ],
      "metadata": {
        "id": "RKzIBlkeNe7M",
        "colab": {
          "base_uri": "https://localhost:8080/"
        },
        "outputId": "c4f20890-fac4-4afc-e762-18fa2cf4b78d"
      },
      "execution_count": 75,
      "outputs": [
        {
          "output_type": "execute_result",
          "data": {
            "text/plain": [
              "array([[ 7.,  1., 11., 18.,  0.],\n",
              "       [10.,  1., 10., 36.,  0.],\n",
              "       [10.,  0.,  9., 23.,  0.],\n",
              "       [ 7.,  1., 13., 20.,  0.],\n",
              "       [ 7.,  0.,  9., 22.,  0.],\n",
              "       [10.,  1.,  7., 21.,  0.],\n",
              "       [ 5.,  0., 14., 40.,  0.],\n",
              "       [ 3.,  1.,  7., 16.,  0.],\n",
              "       [ 7.,  0., 15., 28.,  0.],\n",
              "       [ 7.,  0., 18., 22.,  0.],\n",
              "       [ 1.,  1., 19., 41.,  0.],\n",
              "       [10.,  1., 15., 26.,  0.],\n",
              "       [ 7.,  1., 11., 48.,  0.],\n",
              "       [10.,  1.,  9., 25.,  1.],\n",
              "       [ 5.,  1., 12., 23.,  1.],\n",
              "       [ 5.,  0., 14., 31.,  0.],\n",
              "       [ 9.,  0.,  8., 22.,  0.],\n",
              "       [10.,  0.,  8., 24.,  0.],\n",
              "       [10.,  0.,  7., 18.,  0.],\n",
              "       [10.,  1., 13., 28.,  0.],\n",
              "       [ 9.,  1.,  8., 20.,  0.],\n",
              "       [10.,  0.,  7., 16.,  1.],\n",
              "       [ 4.,  1.,  8., 22.,  0.],\n",
              "       [10.,  0.,  8., 25.,  0.],\n",
              "       [ 5.,  1., 22., 37.,  0.],\n",
              "       [ 7.,  1., 11., 35.,  0.],\n",
              "       [ 7.,  0., 15., 31.,  1.],\n",
              "       [ 7.,  1., 13., 23.,  1.],\n",
              "       [ 9.,  1., 13., 30.,  0.],\n",
              "       [ 9.,  1., 10., 25.,  0.],\n",
              "       [ 9.,  0., 11., 18.,  0.],\n",
              "       [ 5.,  0., 13., 24.,  0.],\n",
              "       [ 2.,  0., 10., 31.,  0.],\n",
              "       [ 9.,  0., 13., 27.,  0.],\n",
              "       [10.,  1., 14., 27.,  1.],\n",
              "       [ 8.,  1.,  8., 28.,  0.],\n",
              "       [ 8.,  1., 12., 23.,  0.],\n",
              "       [ 7.,  1., 10., 29.,  0.],\n",
              "       [ 1.,  0., 22., 43.,  0.],\n",
              "       [ 7.,  1., 18., 33.,  0.],\n",
              "       [ 9.,  1., 17., 25.,  0.],\n",
              "       [ 9.,  0., 20., 30.,  0.],\n",
              "       [ 8.,  1., 17., 19.,  0.],\n",
              "       [10.,  0.,  9., 21.,  0.],\n",
              "       [10.,  1., 22., 36.,  1.],\n",
              "       [10.,  0., 11., 24.,  0.],\n",
              "       [ 9.,  1., 11., 22.,  0.],\n",
              "       [ 9.,  0.,  7., 16.,  1.],\n",
              "       [ 8.,  1., 10., 34.,  0.],\n",
              "       [10.,  0.,  7., 18.,  0.],\n",
              "       [ 8.,  0., 20., 35.,  0.],\n",
              "       [10.,  1., 18., 25.,  0.],\n",
              "       [10.,  0.,  7., 22.,  0.],\n",
              "       [10.,  0., 12., 25.,  0.],\n",
              "       [10.,  0.,  7., 22.,  0.],\n",
              "       [10.,  1., 11., 28.,  0.],\n",
              "       [10.,  1.,  7., 18.,  0.],\n",
              "       [10.,  0.,  9., 19.,  0.],\n",
              "       [10.,  0.,  7., 18.,  0.],\n",
              "       [ 6.,  0., 10., 21.,  0.],\n",
              "       [ 8.,  0.,  9., 18.,  0.],\n",
              "       [10.,  1.,  7., 18.,  0.],\n",
              "       [ 6.,  1., 17., 34.,  1.],\n",
              "       [ 9.,  1., 15., 20.,  0.],\n",
              "       [10.,  0., 11., 29.,  0.],\n",
              "       [ 6.,  1., 20., 32.,  0.],\n",
              "       [10.,  1., 15., 42.,  0.],\n",
              "       [ 3.,  1., 10., 26.,  0.],\n",
              "       [ 8.,  1., 10., 26.,  1.],\n",
              "       [ 7.,  1., 15., 31.,  0.],\n",
              "       [ 7.,  0.,  7., 23.,  0.],\n",
              "       [ 2.,  1.,  7., 30.,  0.],\n",
              "       [10.,  1.,  7., 24.,  0.],\n",
              "       [ 9.,  1.,  9., 18.,  0.],\n",
              "       [ 9.,  1.,  7., 18.,  0.],\n",
              "       [10.,  0., 16., 29.,  0.],\n",
              "       [ 6.,  0., 18., 32.,  0.],\n",
              "       [ 7.,  0.,  7., 25.,  0.],\n",
              "       [ 3.,  1., 28., 43.,  1.],\n",
              "       [ 8.,  0., 10., 21.,  1.],\n",
              "       [10.,  1.,  9., 27.,  0.],\n",
              "       [ 8.,  1., 14., 26.,  1.],\n",
              "       [10.,  1., 11., 28.,  0.],\n",
              "       [10.,  0.,  7., 24.,  0.],\n",
              "       [10.,  1.,  7., 16.,  1.],\n",
              "       [10.,  1.,  7., 16.,  0.],\n",
              "       [ 8.,  1.,  8., 23.,  0.],\n",
              "       [ 9.,  1.,  7., 24.,  1.],\n",
              "       [10.,  1.,  7., 18.,  0.],\n",
              "       [10.,  1.,  7., 21.,  0.],\n",
              "       [ 5.,  1.,  7., 18.,  0.],\n",
              "       [10.,  0., 17., 34.,  0.],\n",
              "       [ 5.,  0., 21., 28.,  0.],\n",
              "       [10.,  1.,  7., 30.,  1.],\n",
              "       [10.,  1.,  7., 16.,  0.],\n",
              "       [ 3.,  1., 14., 25.,  0.],\n",
              "       [10.,  0.,  7., 16.,  1.],\n",
              "       [ 7.,  0., 14., 20.,  0.],\n",
              "       [10.,  1., 20., 22.,  0.],\n",
              "       [10.,  0., 10., 26.,  0.],\n",
              "       [ 8.,  1.,  9., 17.,  0.],\n",
              "       [ 7.,  1.,  9., 18.,  0.],\n",
              "       [10.,  0.,  7., 18.,  0.],\n",
              "       [10.,  0.,  7., 18.,  0.],\n",
              "       [ 5.,  1., 25., 16.,  1.],\n",
              "       [ 9.,  1., 15., 18.,  0.],\n",
              "       [ 9.,  1., 10., 20.,  0.],\n",
              "       [ 8.,  0., 15., 35.,  1.],\n",
              "       [ 9.,  0., 15., 31.,  0.],\n",
              "       [ 9.,  1., 14., 30.,  0.],\n",
              "       [ 9.,  0.,  7., 16.,  1.],\n",
              "       [10.,  1.,  7., 20.,  1.],\n",
              "       [ 3.,  0., 13., 25.,  0.],\n",
              "       [ 9.,  1.,  7., 20.,  0.],\n",
              "       [ 8.,  1.,  7., 19.,  0.],\n",
              "       [ 5.,  1.,  9., 30.,  0.],\n",
              "       [ 7.,  0.,  9., 25.,  0.],\n",
              "       [10.,  0.,  7., 22.,  0.],\n",
              "       [10.,  1.,  7., 19.,  0.],\n",
              "       [10.,  1.,  9., 29.,  0.],\n",
              "       [ 7.,  1., 15., 30.,  0.],\n",
              "       [ 8.,  0., 10., 19.,  0.],\n",
              "       [ 6.,  1., 16., 33.,  0.],\n",
              "       [ 5.,  1., 14., 38.,  0.],\n",
              "       [ 9.,  1., 10., 29.,  0.],\n",
              "       [ 5.,  1., 20., 44.,  0.],\n",
              "       [ 8.,  1., 25., 49.,  1.],\n",
              "       [ 8.,  0., 11., 24.,  0.],\n",
              "       [ 5.,  1., 10., 33.,  0.],\n",
              "       [ 7.,  1.,  8., 25.,  0.],\n",
              "       [ 7.,  0.,  9., 32.,  0.],\n",
              "       [ 7.,  1., 11., 28.,  0.],\n",
              "       [ 8.,  1.,  9., 31.,  0.],\n",
              "       [ 7.,  0., 25., 44.,  0.],\n",
              "       [ 5.,  1., 16., 39.,  1.],\n",
              "       [10.,  0., 18., 25.,  1.],\n",
              "       [ 6.,  0.,  9., 26.,  0.],\n",
              "       [ 5.,  1., 24., 44.,  0.],\n",
              "       [10.,  1., 14., 35.,  0.],\n",
              "       [ 8.,  1., 10., 38.,  1.],\n",
              "       [ 5.,  1., 15., 34.,  0.],\n",
              "       [ 8.,  1.,  7., 28.,  0.],\n",
              "       [ 7.,  0., 15., 33.,  0.],\n",
              "       [ 5.,  0., 12., 28.,  0.],\n",
              "       [ 8.,  1., 17., 28.,  0.],\n",
              "       [10.,  1.,  9., 24.,  0.],\n",
              "       [ 8.,  1., 17., 25.,  0.],\n",
              "       [ 5.,  0., 24., 42.,  0.],\n",
              "       [ 6.,  1., 11., 35.,  0.],\n",
              "       [ 9.,  0.,  9., 36.,  0.],\n",
              "       [ 1.,  1., 20., 41.,  0.],\n",
              "       [ 8.,  1., 17., 23.,  1.],\n",
              "       [ 7.,  1., 11., 34.,  1.],\n",
              "       [ 1.,  0., 21., 52.,  1.],\n",
              "       [ 8.,  0.,  7., 22.,  0.],\n",
              "       [ 8.,  0.,  9., 21.,  0.],\n",
              "       [ 9.,  1., 20., 46.,  0.],\n",
              "       [ 7.,  1., 11., 29.,  0.],\n",
              "       [ 5.,  1., 18., 41.,  1.],\n",
              "       [ 3.,  0., 26., 38.,  0.],\n",
              "       [ 4.,  1., 21., 49.,  0.],\n",
              "       [10.,  1.,  7., 22.,  0.],\n",
              "       [ 6.,  1.,  8., 17.,  0.],\n",
              "       [10.,  1.,  9., 16.,  0.],\n",
              "       [ 9.,  1., 18., 16.,  1.],\n",
              "       [10.,  0.,  7., 16.,  0.],\n",
              "       [10.,  1., 18., 21.,  1.],\n",
              "       [ 6.,  0., 32., 56.,  0.],\n",
              "       [ 9.,  0., 25., 32.,  0.],\n",
              "       [10.,  1.,  7., 16.,  0.],\n",
              "       [ 7.,  1., 19., 31.,  0.],\n",
              "       [ 9.,  1., 10., 23.,  0.],\n",
              "       [10.,  1.,  7., 27.,  0.],\n",
              "       [ 9.,  1., 14., 21.,  0.],\n",
              "       [10.,  1.,  7., 28.,  0.],\n",
              "       [ 6.,  1., 12., 31.,  0.],\n",
              "       [10.,  1., 19., 47.,  0.],\n",
              "       [ 4.,  1., 10., 27.,  1.],\n",
              "       [ 8.,  1., 11., 31.,  0.],\n",
              "       [ 3.,  0., 13., 33.,  0.]], dtype=float32)"
            ]
          },
          "metadata": {},
          "execution_count": 75
        }
      ]
    },
    {
      "cell_type": "markdown",
      "source": [
        "ANOVA"
      ],
      "metadata": {
        "id": "wVd6jE3hZslG"
      }
    },
    {
      "cell_type": "code",
      "source": [
        "univariate = f_classif(X, y)\n",
        "univariate"
      ],
      "metadata": {
        "id": "EUMyT5pBZnG7",
        "outputId": "7d15d4b0-b908-4764-a436-5ad7b24df60d",
        "colab": {
          "base_uri": "https://localhost:8080/"
        }
      },
      "execution_count": 76,
      "outputs": [
        {
          "output_type": "execute_result",
          "data": {
            "text/plain": [
              "(array([2.7057238e+00, 1.3677023e-02, 1.3590264e-01, 4.3057406e-01,\n",
              "        4.0778628e-01, 3.3776904e-04, 1.8478861e+00, 4.2277527e+00,\n",
              "        1.4127000e+01, 3.7693277e-02, 2.7013304e+00, 5.0126255e-01,\n",
              "        8.2112098e-01, 1.3415864e-01, 1.6337517e-01, 1.4161005e-02,\n",
              "        6.7678490e+00, 7.1855211e-01, 5.8342133e+00, 6.4264417e+00],\n",
              "       dtype=float32),\n",
              " array([1.0175351e-01, 9.0703249e-01, 7.1282691e-01, 5.1255471e-01,\n",
              "        5.2391601e-01, 9.8535746e-01, 1.7574911e-01, 4.1227754e-02,\n",
              "        2.3148650e-04, 8.4628171e-01, 1.0202970e-01, 4.7987193e-01,\n",
              "        3.6607760e-01, 7.1459359e-01, 6.8655312e-01, 9.0540951e-01,\n",
              "        1.0062584e-02, 3.9775762e-01, 1.6729033e-02, 1.2104519e-02],\n",
              "       dtype=float32))"
            ]
          },
          "metadata": {},
          "execution_count": 76
        }
      ]
    },
    {
      "cell_type": "code",
      "source": [
        "# The 2nd values are the PValue and we capture those below\n",
        "univariate = pd.Series(univariate[1])\n",
        "univariate.index = X.columns\n",
        "univariate.sort_values(ascending=False).plot.bar(figsize=(20,6))"
      ],
      "metadata": {
        "id": "b9wq1WrOZzPA",
        "outputId": "6f1458d8-78be-442a-8cd7-606247142651",
        "colab": {
          "base_uri": "https://localhost:8080/",
          "height": 636
        }
      },
      "execution_count": 77,
      "outputs": [
        {
          "output_type": "execute_result",
          "data": {
            "text/plain": [
              "<matplotlib.axes._subplots.AxesSubplot at 0x7fc52f0d0110>"
            ]
          },
          "metadata": {},
          "execution_count": 77
        },
        {
          "output_type": "display_data",
          "data": {
            "text/plain": [
              "<Figure size 1440x432 with 1 Axes>"
            ],
            "image/png": "[encoded data removed]"
          },
          "metadata": {
            "needs_background": "light"
          }
        }
      ]
    },
    {
      "cell_type": "code",
      "source": [
        "# Get TOP 3 features\n",
        "sel_ = SelectKBest(f_classif, k=3).fit(X, y)\n",
        "X.columns[sel_.get_support()]"
      ],
      "metadata": {
        "id": "mIEtgv73S-y9",
        "outputId": "813ad5f0-7bd2-48cb-85c7-6c59691840ef",
        "colab": {
          "base_uri": "https://localhost:8080/"
        }
      },
      "execution_count": 78,
      "outputs": [
        {
          "output_type": "execute_result",
          "data": {
            "text/plain": [
              "Index(['Были ли нарушения сна', 'P', 'Была попытка суицида?'], dtype='object')"
            ]
          },
          "metadata": {},
          "execution_count": 78
        }
      ]
    },
    {
      "cell_type": "code",
      "source": [
        "# Get TOP 5 features\n",
        "sel_ = SelectKBest(f_classif, k=5).fit(X, y)\n",
        "X.columns[sel_.get_support()]"
      ],
      "metadata": {
        "id": "BIbA_QH2aNMQ",
        "outputId": "11f2a3d4-5006-48b4-9529-7e306eb0dd7e",
        "colab": {
          "base_uri": "https://localhost:8080/"
        }
      },
      "execution_count": 79,
      "outputs": [
        {
          "output_type": "execute_result",
          "data": {
            "text/plain": [
              "Index(['Здоровье от 1 до 10', 'Были ли нарушения сна', 'P', 'G',\n",
              "       'Была попытка суицида?'],\n",
              "      dtype='object')"
            ]
          },
          "metadata": {},
          "execution_count": 79
        }
      ]
    },
    {
      "cell_type": "code",
      "source": [],
      "metadata": {
        "id": "I90-1SNSaPPg"
      },
      "execution_count": 79,
      "outputs": []
    },
    {
      "cell_type": "code",
      "source": [],
      "metadata": {
        "id": "Lmy3RTQzZzxL"
      },
      "execution_count": 79,
      "outputs": []
    },
    {
      "cell_type": "code",
      "source": [
        "X_anova "
      ],
      "metadata": {
        "id": "RDWO9sN0O0xs",
        "colab": {
          "base_uri": "https://localhost:8080/"
        },
        "outputId": "d25db42b-fce0-4ded-9bbd-3249f1bea0d6"
      },
      "execution_count": 80,
      "outputs": [
        {
          "output_type": "execute_result",
          "data": {
            "text/plain": [
              "array([[ 7.,  1., 11., 18.,  0.],\n",
              "       [10.,  1., 10., 36.,  0.],\n",
              "       [10.,  0.,  9., 23.,  0.],\n",
              "       [ 7.,  1., 13., 20.,  0.],\n",
              "       [ 7.,  0.,  9., 22.,  0.],\n",
              "       [10.,  1.,  7., 21.,  0.],\n",
              "       [ 5.,  0., 14., 40.,  0.],\n",
              "       [ 3.,  1.,  7., 16.,  0.],\n",
              "       [ 7.,  0., 15., 28.,  0.],\n",
              "       [ 7.,  0., 18., 22.,  0.],\n",
              "       [ 1.,  1., 19., 41.,  0.],\n",
              "       [10.,  1., 15., 26.,  0.],\n",
              "       [ 7.,  1., 11., 48.,  0.],\n",
              "       [10.,  1.,  9., 25.,  1.],\n",
              "       [ 5.,  1., 12., 23.,  1.],\n",
              "       [ 5.,  0., 14., 31.,  0.],\n",
              "       [ 9.,  0.,  8., 22.,  0.],\n",
              "       [10.,  0.,  8., 24.,  0.],\n",
              "       [10.,  0.,  7., 18.,  0.],\n",
              "       [10.,  1., 13., 28.,  0.],\n",
              "       [ 9.,  1.,  8., 20.,  0.],\n",
              "       [10.,  0.,  7., 16.,  1.],\n",
              "       [ 4.,  1.,  8., 22.,  0.],\n",
              "       [10.,  0.,  8., 25.,  0.],\n",
              "       [ 5.,  1., 22., 37.,  0.],\n",
              "       [ 7.,  1., 11., 35.,  0.],\n",
              "       [ 7.,  0., 15., 31.,  1.],\n",
              "       [ 7.,  1., 13., 23.,  1.],\n",
              "       [ 9.,  1., 13., 30.,  0.],\n",
              "       [ 9.,  1., 10., 25.,  0.],\n",
              "       [ 9.,  0., 11., 18.,  0.],\n",
              "       [ 5.,  0., 13., 24.,  0.],\n",
              "       [ 2.,  0., 10., 31.,  0.],\n",
              "       [ 9.,  0., 13., 27.,  0.],\n",
              "       [10.,  1., 14., 27.,  1.],\n",
              "       [ 8.,  1.,  8., 28.,  0.],\n",
              "       [ 8.,  1., 12., 23.,  0.],\n",
              "       [ 7.,  1., 10., 29.,  0.],\n",
              "       [ 1.,  0., 22., 43.,  0.],\n",
              "       [ 7.,  1., 18., 33.,  0.],\n",
              "       [ 9.,  1., 17., 25.,  0.],\n",
              "       [ 9.,  0., 20., 30.,  0.],\n",
              "       [ 8.,  1., 17., 19.,  0.],\n",
              "       [10.,  0.,  9., 21.,  0.],\n",
              "       [10.,  1., 22., 36.,  1.],\n",
              "       [10.,  0., 11., 24.,  0.],\n",
              "       [ 9.,  1., 11., 22.,  0.],\n",
              "       [ 9.,  0.,  7., 16.,  1.],\n",
              "       [ 8.,  1., 10., 34.,  0.],\n",
              "       [10.,  0.,  7., 18.,  0.],\n",
              "       [ 8.,  0., 20., 35.,  0.],\n",
              "       [10.,  1., 18., 25.,  0.],\n",
              "       [10.,  0.,  7., 22.,  0.],\n",
              "       [10.,  0., 12., 25.,  0.],\n",
              "       [10.,  0.,  7., 22.,  0.],\n",
              "       [10.,  1., 11., 28.,  0.],\n",
              "       [10.,  1.,  7., 18.,  0.],\n",
              "       [10.,  0.,  9., 19.,  0.],\n",
              "       [10.,  0.,  7., 18.,  0.],\n",
              "       [ 6.,  0., 10., 21.,  0.],\n",
              "       [ 8.,  0.,  9., 18.,  0.],\n",
              "       [10.,  1.,  7., 18.,  0.],\n",
              "       [ 6.,  1., 17., 34.,  1.],\n",
              "       [ 9.,  1., 15., 20.,  0.],\n",
              "       [10.,  0., 11., 29.,  0.],\n",
              "       [ 6.,  1., 20., 32.,  0.],\n",
              "       [10.,  1., 15., 42.,  0.],\n",
              "       [ 3.,  1., 10., 26.,  0.],\n",
              "       [ 8.,  1., 10., 26.,  1.],\n",
              "       [ 7.,  1., 15., 31.,  0.],\n",
              "       [ 7.,  0.,  7., 23.,  0.],\n",
              "       [ 2.,  1.,  7., 30.,  0.],\n",
              "       [10.,  1.,  7., 24.,  0.],\n",
              "       [ 9.,  1.,  9., 18.,  0.],\n",
              "       [ 9.,  1.,  7., 18.,  0.],\n",
              "       [10.,  0., 16., 29.,  0.],\n",
              "       [ 6.,  0., 18., 32.,  0.],\n",
              "       [ 7.,  0.,  7., 25.,  0.],\n",
              "       [ 3.,  1., 28., 43.,  1.],\n",
              "       [ 8.,  0., 10., 21.,  1.],\n",
              "       [10.,  1.,  9., 27.,  0.],\n",
              "       [ 8.,  1., 14., 26.,  1.],\n",
              "       [10.,  1., 11., 28.,  0.],\n",
              "       [10.,  0.,  7., 24.,  0.],\n",
              "       [10.,  1.,  7., 16.,  1.],\n",
              "       [10.,  1.,  7., 16.,  0.],\n",
              "       [ 8.,  1.,  8., 23.,  0.],\n",
              "       [ 9.,  1.,  7., 24.,  1.],\n",
              "       [10.,  1.,  7., 18.,  0.],\n",
              "       [10.,  1.,  7., 21.,  0.],\n",
              "       [ 5.,  1.,  7., 18.,  0.],\n",
              "       [10.,  0., 17., 34.,  0.],\n",
              "       [ 5.,  0., 21., 28.,  0.],\n",
              "       [10.,  1.,  7., 30.,  1.],\n",
              "       [10.,  1.,  7., 16.,  0.],\n",
              "       [ 3.,  1., 14., 25.,  0.],\n",
              "       [10.,  0.,  7., 16.,  1.],\n",
              "       [ 7.,  0., 14., 20.,  0.],\n",
              "       [10.,  1., 20., 22.,  0.],\n",
              "       [10.,  0., 10., 26.,  0.],\n",
              "       [ 8.,  1.,  9., 17.,  0.],\n",
              "       [ 7.,  1.,  9., 18.,  0.],\n",
              "       [10.,  0.,  7., 18.,  0.],\n",
              "       [10.,  0.,  7., 18.,  0.],\n",
              "       [ 5.,  1., 25., 16.,  1.],\n",
              "       [ 9.,  1., 15., 18.,  0.],\n",
              "       [ 9.,  1., 10., 20.,  0.],\n",
              "       [ 8.,  0., 15., 35.,  1.],\n",
              "       [ 9.,  0., 15., 31.,  0.],\n",
              "       [ 9.,  1., 14., 30.,  0.],\n",
              "       [ 9.,  0.,  7., 16.,  1.],\n",
              "       [10.,  1.,  7., 20.,  1.],\n",
              "       [ 3.,  0., 13., 25.,  0.],\n",
              "       [ 9.,  1.,  7., 20.,  0.],\n",
              "       [ 8.,  1.,  7., 19.,  0.],\n",
              "       [ 5.,  1.,  9., 30.,  0.],\n",
              "       [ 7.,  0.,  9., 25.,  0.],\n",
              "       [10.,  0.,  7., 22.,  0.],\n",
              "       [10.,  1.,  7., 19.,  0.],\n",
              "       [10.,  1.,  9., 29.,  0.],\n",
              "       [ 7.,  1., 15., 30.,  0.],\n",
              "       [ 8.,  0., 10., 19.,  0.],\n",
              "       [ 6.,  1., 16., 33.,  0.],\n",
              "       [ 5.,  1., 14., 38.,  0.],\n",
              "       [ 9.,  1., 10., 29.,  0.],\n",
              "       [ 5.,  1., 20., 44.,  0.],\n",
              "       [ 8.,  1., 25., 49.,  1.],\n",
              "       [ 8.,  0., 11., 24.,  0.],\n",
              "       [ 5.,  1., 10., 33.,  0.],\n",
              "       [ 7.,  1.,  8., 25.,  0.],\n",
              "       [ 7.,  0.,  9., 32.,  0.],\n",
              "       [ 7.,  1., 11., 28.,  0.],\n",
              "       [ 8.,  1.,  9., 31.,  0.],\n",
              "       [ 7.,  0., 25., 44.,  0.],\n",
              "       [ 5.,  1., 16., 39.,  1.],\n",
              "       [10.,  0., 18., 25.,  1.],\n",
              "       [ 6.,  0.,  9., 26.,  0.],\n",
              "       [ 5.,  1., 24., 44.,  0.],\n",
              "       [10.,  1., 14., 35.,  0.],\n",
              "       [ 8.,  1., 10., 38.,  1.],\n",
              "       [ 5.,  1., 15., 34.,  0.],\n",
              "       [ 8.,  1.,  7., 28.,  0.],\n",
              "       [ 7.,  0., 15., 33.,  0.],\n",
              "       [ 5.,  0., 12., 28.,  0.],\n",
              "       [ 8.,  1., 17., 28.,  0.],\n",
              "       [10.,  1.,  9., 24.,  0.],\n",
              "       [ 8.,  1., 17., 25.,  0.],\n",
              "       [ 5.,  0., 24., 42.,  0.],\n",
              "       [ 6.,  1., 11., 35.,  0.],\n",
              "       [ 9.,  0.,  9., 36.,  0.],\n",
              "       [ 1.,  1., 20., 41.,  0.],\n",
              "       [ 8.,  1., 17., 23.,  1.],\n",
              "       [ 7.,  1., 11., 34.,  1.],\n",
              "       [ 1.,  0., 21., 52.,  1.],\n",
              "       [ 8.,  0.,  7., 22.,  0.],\n",
              "       [ 8.,  0.,  9., 21.,  0.],\n",
              "       [ 9.,  1., 20., 46.,  0.],\n",
              "       [ 7.,  1., 11., 29.,  0.],\n",
              "       [ 5.,  1., 18., 41.,  1.],\n",
              "       [ 3.,  0., 26., 38.,  0.],\n",
              "       [ 4.,  1., 21., 49.,  0.],\n",
              "       [10.,  1.,  7., 22.,  0.],\n",
              "       [ 6.,  1.,  8., 17.,  0.],\n",
              "       [10.,  1.,  9., 16.,  0.],\n",
              "       [ 9.,  1., 18., 16.,  1.],\n",
              "       [10.,  0.,  7., 16.,  0.],\n",
              "       [10.,  1., 18., 21.,  1.],\n",
              "       [ 6.,  0., 32., 56.,  0.],\n",
              "       [ 9.,  0., 25., 32.,  0.],\n",
              "       [10.,  1.,  7., 16.,  0.],\n",
              "       [ 7.,  1., 19., 31.,  0.],\n",
              "       [ 9.,  1., 10., 23.,  0.],\n",
              "       [10.,  1.,  7., 27.,  0.],\n",
              "       [ 9.,  1., 14., 21.,  0.],\n",
              "       [10.,  1.,  7., 28.,  0.],\n",
              "       [ 6.,  1., 12., 31.,  0.],\n",
              "       [10.,  1., 19., 47.,  0.],\n",
              "       [ 4.,  1., 10., 27.,  1.],\n",
              "       [ 8.,  1., 11., 31.,  0.],\n",
              "       [ 3.,  0., 13., 33.,  0.]], dtype=float32)"
            ]
          },
          "metadata": {},
          "execution_count": 80
        }
      ]
    },
    {
      "cell_type": "code",
      "source": [],
      "metadata": {
        "id": "F21u74y3UP6q"
      },
      "execution_count": 80,
      "outputs": []
    },
    {
      "cell_type": "code",
      "source": [
        "# Find 4 best predictors witn scalied data\n",
        "\n",
        "from sklearn.preprocessing import MinMaxScaler\n",
        "minmax_scaler = MinMaxScaler()\n",
        "\n",
        "X_scaled = minmax_scaler.fit_transform(X)\n",
        "X_chi2_scaled = SelectKBest(chi2, k=4).fit_transform(X_scaled, y)\n",
        "X_anova_scaled = SelectKBest(f_classif, k=4).fit_transform(X_scaled, y)"
      ],
      "metadata": {
        "id": "023I6vdtNf5b"
      },
      "execution_count": 81,
      "outputs": []
    },
    {
      "cell_type": "code",
      "source": [],
      "metadata": {
        "id": "MUHcI8Zz8msw"
      },
      "execution_count": 81,
      "outputs": []
    },
    {
      "cell_type": "code",
      "source": [],
      "metadata": {
        "id": "w4TOf6Gl8nDv"
      },
      "execution_count": 81,
      "outputs": []
    },
    {
      "cell_type": "code",
      "source": [],
      "metadata": {
        "id": "hknAxieW8nHC"
      },
      "execution_count": 81,
      "outputs": []
    },
    {
      "cell_type": "code",
      "source": [
        "f_score_scaled = chi2(X_scaled, y)\n",
        "f_score_scaled\n",
        "# The first array is the F_score , 2nd one is the P_values\n",
        "# the smaller the P value the more significant the difference in the features"
      ],
      "metadata": {
        "colab": {
          "base_uri": "https://localhost:8080/"
        },
        "id": "14mLv1Rcgpcb",
        "outputId": "9ebd2437-bf61-48c3-9745-d965b97a04c7"
      },
      "execution_count": 82,
      "outputs": [
        {
          "output_type": "execute_result",
          "data": {
            "text/plain": [
              "(array([6.58823529e-01, 1.74948487e-03, 2.31586224e-02, 3.57142857e-01,\n",
              "        3.65714286e-01, 5.69151964e-05, 7.50066756e-01, 3.69089345e-01,\n",
              "        5.00000000e+00, 3.00568182e-03, 1.42016807e+00, 1.80326531e-01,\n",
              "        4.40816327e-01, 7.36602681e-03, 7.38916256e-02, 2.41444284e-03,\n",
              "        1.36804244e+00, 1.11968375e-01, 9.04727204e-01, 5.15714286e+00]),\n",
              " array([0.41697559, 0.96663674, 0.8790453 , 0.55009732, 0.54534967,\n",
              "        0.99398064, 0.3864551 , 0.54350107, 0.02534732, 0.9562786 ,\n",
              "        0.23337574, 0.67109278, 0.50672871, 0.93160509, 0.78575263,\n",
              "        0.96081013, 0.24214851, 0.7379142 , 0.34151733, 0.02315095]))"
            ]
          },
          "metadata": {},
          "execution_count": 82
        }
      ]
    },
    {
      "cell_type": "code",
      "source": [
        "pvalues = pd.Series(f_score_scaled[1])\n",
        "pvalues.index = X.columns\n",
        "pvalues.sort_values(ascending=True)"
      ],
      "metadata": {
        "colab": {
          "base_uri": "https://localhost:8080/"
        },
        "id": "dvYgWRBqgtKI",
        "outputId": "c0882a8d-10f6-4b82-c78d-90008d80bcd4"
      },
      "execution_count": 83,
      "outputs": [
        {
          "output_type": "execute_result",
          "data": {
            "text/plain": [
              "Была попытка суицида?                        0.023151\n",
              "Были ли нарушения сна                        0.025347\n",
              "Операции                                     0.233376\n",
              "P                                            0.242149\n",
              "G                                            0.341517\n",
              "Удовлетворенность материальным положением    0.386455\n",
              "Пол                                          0.416976\n",
              "Насл отягощенность                           0.506729\n",
              "Здоровье от 1 до 10                          0.543501\n",
              "Семейное положение(0-0, 1-женат)             0.545350\n",
              "Род занятий(0-0, работает-1                  0.550097\n",
              "ЧМТ                                          0.671093\n",
              "N                                            0.737914\n",
              "Частота госпит                               0.785753\n",
              "Образование(0-начальное, 4-высшее)           0.879045\n",
              "Дебют                                        0.931605\n",
              "ИМТ                                          0.956279\n",
              "Стаж шизофр                                  0.960810\n",
              "Полных лет                                   0.966637\n",
              "Удовлетворенность семеными отношениями       0.993981\n",
              "dtype: float64"
            ]
          },
          "metadata": {},
          "execution_count": 83
        }
      ]
    },
    {
      "cell_type": "code",
      "source": [
        "# Now use the SelectKBest Model with the chi2 classifier to find the best features\n",
        "\n",
        "sel_ = SelectKBest(chi2, k=5).fit(X_scaled, y)\n",
        "X.columns[sel_.get_support()]"
      ],
      "metadata": {
        "colab": {
          "base_uri": "https://localhost:8080/"
        },
        "id": "rm1xMp0jgz-e",
        "outputId": "c280d5f4-6b0b-4505-aab1-35b6f6e2f582"
      },
      "execution_count": 84,
      "outputs": [
        {
          "output_type": "execute_result",
          "data": {
            "text/plain": [
              "Index(['Были ли нарушения сна', 'Операции', 'P', 'G', 'Была попытка суицида?'], dtype='object')"
            ]
          },
          "metadata": {},
          "execution_count": 84
        }
      ]
    },
    {
      "cell_type": "code",
      "source": [],
      "metadata": {
        "id": "rOW1fDJzhImX"
      },
      "execution_count": 84,
      "outputs": []
    },
    {
      "cell_type": "markdown",
      "source": [
        "ANOVA"
      ],
      "metadata": {
        "id": "YBuG7ukDhFuX"
      }
    },
    {
      "cell_type": "code",
      "source": [
        "univariate_scaled = f_classif(X_scaled, y)\n",
        "univariate_scaled"
      ],
      "metadata": {
        "id": "OwBx45LZhG-8",
        "outputId": "2db976bc-112a-41cb-9d83-6c56fcb2fa7f",
        "colab": {
          "base_uri": "https://localhost:8080/"
        }
      },
      "execution_count": 85,
      "outputs": [
        {
          "output_type": "execute_result",
          "data": {
            "text/plain": [
              "(array([2.7057238e+00, 1.3638137e-02, 1.3597526e-01, 4.3057406e-01,\n",
              "        4.0778628e-01, 2.8147412e-04, 1.8478861e+00, 4.2278109e+00,\n",
              "        1.4127000e+01, 3.7138164e-02, 2.7013304e+00, 5.0126255e-01,\n",
              "        8.2112098e-01, 1.3372521e-01, 1.6337517e-01, 1.4198870e-02,\n",
              "        6.7677937e+00, 7.1852952e-01, 5.8341742e+00, 6.4264417e+00],\n",
              "       dtype=float32),\n",
              " array([1.0175351e-01, 9.0716410e-01, 7.1275359e-01, 5.1255471e-01,\n",
              "        5.2391601e-01, 9.8663318e-01, 1.7574911e-01, 4.1226376e-02,\n",
              "        2.3148650e-04, 8.4740371e-01, 1.0202970e-01, 4.7987193e-01,\n",
              "        3.6607760e-01, 7.1503466e-01, 6.8655312e-01, 9.0528375e-01,\n",
              "        1.0062884e-02, 3.9776501e-01, 1.6729392e-02, 1.2104519e-02],\n",
              "       dtype=float32))"
            ]
          },
          "metadata": {},
          "execution_count": 85
        }
      ]
    },
    {
      "cell_type": "code",
      "source": [
        "# The 2nd values are the PValue and we capture those below\n",
        "univariate_scaled = pd.Series(univariate_scaled[1])\n",
        "univariate_scaled.index = X.columns\n",
        "univariate_scaled.sort_values(ascending=False).plot.bar(figsize=(20,6))"
      ],
      "metadata": {
        "id": "djLNEHfThKKz",
        "outputId": "ebcfec16-1208-4120-d5dd-65f6e39f5568",
        "colab": {
          "base_uri": "https://localhost:8080/",
          "height": 636
        }
      },
      "execution_count": 86,
      "outputs": [
        {
          "output_type": "execute_result",
          "data": {
            "text/plain": [
              "<matplotlib.axes._subplots.AxesSubplot at 0x7fc52f06df10>"
            ]
          },
          "metadata": {},
          "execution_count": 86
        },
        {
          "output_type": "display_data",
          "data": {
            "text/plain": [
              "<Figure size 1440x432 with 1 Axes>"
            ],
            "image/png": "[encoded data removed]"
          },
          "metadata": {
            "needs_background": "light"
          }
        }
      ]
    },
    {
      "cell_type": "code",
      "source": [
        "# Get TOP 5 features\n",
        "sel_ = SelectKBest(f_classif, k=5).fit(X_scaled, y)\n",
        "X.columns[sel_.get_support()]"
      ],
      "metadata": {
        "id": "KSGhE7K5hUqO",
        "outputId": "0c7684ec-af07-4b5a-a3e0-5c6b81fcb9c4",
        "colab": {
          "base_uri": "https://localhost:8080/"
        }
      },
      "execution_count": 87,
      "outputs": [
        {
          "output_type": "execute_result",
          "data": {
            "text/plain": [
              "Index(['Здоровье от 1 до 10', 'Были ли нарушения сна', 'P', 'G',\n",
              "       'Была попытка суицида?'],\n",
              "      dtype='object')"
            ]
          },
          "metadata": {},
          "execution_count": 87
        }
      ]
    },
    {
      "cell_type": "code",
      "source": [],
      "metadata": {
        "id": "L0FH6fE0hhzK"
      },
      "execution_count": 87,
      "outputs": []
    },
    {
      "cell_type": "code",
      "source": [],
      "metadata": {
        "id": "OVxUbs4lhFwd"
      },
      "execution_count": 87,
      "outputs": []
    },
    {
      "cell_type": "code",
      "source": [],
      "metadata": {
        "id": "0morjvDohFyU"
      },
      "execution_count": 87,
      "outputs": []
    },
    {
      "cell_type": "code",
      "source": [],
      "metadata": {
        "id": "cE49CtiChHBb"
      },
      "execution_count": 87,
      "outputs": []
    },
    {
      "cell_type": "code",
      "source": [
        "# X_chi2_scaled # Были ли нарушения сна, Динамека веса за год, Аллергии, ГБ"
      ],
      "metadata": {
        "id": "kK2YEY2VS9kV"
      },
      "execution_count": 88,
      "outputs": []
    },
    {
      "cell_type": "code",
      "source": [
        "# X_anova_scaled # Были ли нарушения сна, Аллергии, P, G"
      ],
      "metadata": {
        "id": "aW029ll0S9nm"
      },
      "execution_count": 89,
      "outputs": []
    },
    {
      "cell_type": "code",
      "source": [
        "# How many times and which features were the most influential?\n",
        "\n",
        "# Аллергии 4\n",
        "# Были ли нарушения сна  3\n",
        "# P 3\n",
        "# G 3\n",
        "# Динамека веса за год 1 \n",
        "# ГБ 1\n",
        "# Стаж шизофр 1"
      ],
      "metadata": {
        "id": "JGbIT52RS9pu"
      },
      "execution_count": 90,
      "outputs": []
    },
    {
      "cell_type": "code",
      "source": [
        "print(X)"
      ],
      "metadata": {
        "id": "cj_NC7LORQoY",
        "outputId": "84069b2f-ba4f-4ccd-f6f1-404181701d6e",
        "colab": {
          "base_uri": "https://localhost:8080/"
        }
      },
      "execution_count": 91,
      "outputs": [
        {
          "output_type": "stream",
          "name": "stdout",
          "text": [
            "     Пол  Полных лет  Образование(0-начальное, 4-высшее)  \\\n",
            "0    1.0        32.0                                 4.0   \n",
            "1    1.0        26.0                                 2.0   \n",
            "2    1.0        49.0                                 2.0   \n",
            "3    1.0        50.0                                 2.0   \n",
            "4    1.0        39.0                                 2.0   \n",
            "..   ...         ...                                 ...   \n",
            "175  1.0        53.0                                 4.0   \n",
            "176  1.0        36.0                                 4.0   \n",
            "177  0.0        38.0                                 2.0   \n",
            "178  1.0        27.0                                 4.0   \n",
            "179  1.0        36.0                                 4.0   \n",
            "\n",
            "     Род занятий(0-0, работает-1  Семейное положение(0-0, 1-женат)  \\\n",
            "0                            0.0                               0.0   \n",
            "1                            0.0                               0.0   \n",
            "2                            0.0                               0.0   \n",
            "3                            0.0                               0.0   \n",
            "4                            0.0                               0.0   \n",
            "..                           ...                               ...   \n",
            "175                          0.0                               0.0   \n",
            "176                          0.0                               0.0   \n",
            "177                          0.0                               1.0   \n",
            "178                          1.0                               0.0   \n",
            "179                          0.0                               0.0   \n",
            "\n",
            "     Удовлетворенность семеными отношениями  \\\n",
            "0                                       5.0   \n",
            "1                                       5.0   \n",
            "2                                       5.0   \n",
            "3                                       5.0   \n",
            "4                                       5.0   \n",
            "..                                      ...   \n",
            "175                                     3.0   \n",
            "176                                     2.0   \n",
            "177                                     4.0   \n",
            "178                                     2.0   \n",
            "179                                     5.0   \n",
            "\n",
            "     Удовлетворенность материальным положением  Здоровье от 1 до 10  \\\n",
            "0                                          0.0                  7.0   \n",
            "1                                          0.0                 10.0   \n",
            "2                                          1.0                 10.0   \n",
            "3                                          1.0                  7.0   \n",
            "4                                          1.0                  7.0   \n",
            "..                                         ...                  ...   \n",
            "175                                        0.0                  6.0   \n",
            "176                                        1.0                 10.0   \n",
            "177                                        1.0                  4.0   \n",
            "178                                        0.0                  8.0   \n",
            "179                                        1.0                  3.0   \n",
            "\n",
            "     Были ли нарушения сна        ИМТ  Операции  ЧМТ  Насл отягощенность  \\\n",
            "0                      1.0  24.012346       0.0  1.0                 0.0   \n",
            "1                      1.0  20.244898       0.0  0.0                 0.0   \n",
            "2                      0.0  29.752745       0.0  1.0                 0.0   \n",
            "3                      1.0  22.093170       1.0  2.0                 0.0   \n",
            "4                      0.0  20.761246       1.0  2.0                 1.0   \n",
            "..                     ...        ...       ...  ...                 ...   \n",
            "175                    1.0  34.220043       1.0  0.0                 1.0   \n",
            "176                    1.0  18.710949       1.0  2.0                 0.0   \n",
            "177                    1.0  27.434843       1.0  1.0                 1.0   \n",
            "178                    1.0  19.974407       0.0  1.0                 1.0   \n",
            "179                    0.0  28.027681       0.0  2.0                 0.0   \n",
            "\n",
            "         Дебют  Частота госпит  Стаж шизофр     P     N     G  \\\n",
            "0    28.299999             0.0          3.7  11.0  11.0  18.0   \n",
            "1    26.000000             1.0          2.0  10.0  25.0  36.0   \n",
            "2    26.000000             2.0         23.0   9.0  16.0  23.0   \n",
            "3    16.000000             1.0         34.0  13.0  13.0  20.0   \n",
            "4    34.000000             0.0          4.0   9.0  13.0  22.0   \n",
            "..         ...             ...          ...   ...   ...   ...   \n",
            "175  26.000000             0.0         27.0  12.0  16.0  31.0   \n",
            "176  13.000000             2.0         23.0  19.0  26.0  47.0   \n",
            "177  33.000000             2.0          5.0  10.0  10.0  27.0   \n",
            "178  19.000000             0.0          8.0  11.0  18.0  31.0   \n",
            "179  33.000000             1.0          3.0  13.0  21.0  33.0   \n",
            "\n",
            "     Была попытка суицида?  \n",
            "0                      0.0  \n",
            "1                      0.0  \n",
            "2                      0.0  \n",
            "3                      0.0  \n",
            "4                      0.0  \n",
            "..                     ...  \n",
            "175                    0.0  \n",
            "176                    0.0  \n",
            "177                    1.0  \n",
            "178                    0.0  \n",
            "179                    0.0  \n",
            "\n",
            "[180 rows x 20 columns]\n"
          ]
        }
      ]
    },
    {
      "cell_type": "code",
      "source": [
        "print(y)"
      ],
      "metadata": {
        "id": "x1gPm1eqRSx8",
        "outputId": "10ac41e1-3f40-4ea2-b821-8bfcf7428706",
        "colab": {
          "base_uri": "https://localhost:8080/"
        }
      },
      "execution_count": 92,
      "outputs": [
        {
          "output_type": "stream",
          "name": "stdout",
          "text": [
            "0      1.0\n",
            "1      1.0\n",
            "2      0.0\n",
            "3      1.0\n",
            "4      0.0\n",
            "      ... \n",
            "175    1.0\n",
            "176    0.0\n",
            "177    1.0\n",
            "178    0.0\n",
            "179    0.0\n",
            "Name: psqi больше 5, Length: 180, dtype: float32\n"
          ]
        }
      ]
    },
    {
      "cell_type": "code",
      "source": [
        "# Using best features\n",
        "# X = X[['Аллергии', 'Были ли нарушения сна', 'P', 'G']]\n",
        "\n",
        "# X = X[['Забол кожи', 'Были ли нарушения сна', 'Панкреатит', 'ГБ']]\n",
        "\n",
        "# X = X[['Удовлетворенность материальным положением', 'Были ли нарушения сна', 'Забол кожи', 'P', 'G']]\n",
        "\n",
        "# X = X[['Забол кожи', 'Были ли нарушения сна', 'Панкреатит', 'ГБ', 'P']]\n",
        "\n",
        "# X = X[['P', 'G', 'ИМТ', 'Были ли нарушения сна', 'N']]\n",
        "\n",
        "# X = X[['Были ли нарушения сна', 'Забол кожи', 'P']]\n",
        "\n",
        "# X = X[['Были ли нарушения сна', 'Операции', 'P', 'G']]\n",
        "\n",
        "\n",
        "# X = X[['Полных лет', 'Дебют', 'Стаж шизофр', 'P', 'N', 'G']]\n",
        "\n",
        "\n",
        "\n",
        "# X = X[['Была попытка суицида?', 'Дебют', 'Стаж шизофр', 'P', 'N', 'G']]\n",
        "\n",
        "# recursive feature elimination\n",
        "# X = X[['Полных лет', 'Дебют', 'Стаж шизофр', 'N', 'G']]\n",
        "\n",
        "# ANOVA\n",
        "X = X[['Здоровье от 1 до 10', 'Были ли нарушения сна', 'P', 'G', 'Была попытка суицида?']]\n",
        "\n",
        "# chi2\n",
        "# X = X[['Были ли нарушения сна', 'Операции', 'P', 'G', 'Была попытка суицида?']]\n",
        "\n"
      ],
      "metadata": {
        "id": "cA1BbqGaS9ru"
      },
      "execution_count": 93,
      "outputs": []
    },
    {
      "cell_type": "code",
      "source": [
        "X"
      ],
      "metadata": {
        "id": "JoxH9N4PxIe3",
        "outputId": "b8aa6832-731c-4775-d5d2-d6143cc15176",
        "colab": {
          "base_uri": "https://localhost:8080/",
          "height": 424
        }
      },
      "execution_count": 94,
      "outputs": [
        {
          "output_type": "execute_result",
          "data": {
            "text/plain": [
              "     Здоровье от 1 до 10  Были ли нарушения сна     P     G  \\\n",
              "0                    7.0                    1.0  11.0  18.0   \n",
              "1                   10.0                    1.0  10.0  36.0   \n",
              "2                   10.0                    0.0   9.0  23.0   \n",
              "3                    7.0                    1.0  13.0  20.0   \n",
              "4                    7.0                    0.0   9.0  22.0   \n",
              "..                   ...                    ...   ...   ...   \n",
              "175                  6.0                    1.0  12.0  31.0   \n",
              "176                 10.0                    1.0  19.0  47.0   \n",
              "177                  4.0                    1.0  10.0  27.0   \n",
              "178                  8.0                    1.0  11.0  31.0   \n",
              "179                  3.0                    0.0  13.0  33.0   \n",
              "\n",
              "     Была попытка суицида?  \n",
              "0                      0.0  \n",
              "1                      0.0  \n",
              "2                      0.0  \n",
              "3                      0.0  \n",
              "4                      0.0  \n",
              "..                     ...  \n",
              "175                    0.0  \n",
              "176                    0.0  \n",
              "177                    1.0  \n",
              "178                    0.0  \n",
              "179                    0.0  \n",
              "\n",
              "[180 rows x 5 columns]"
            ],
            "text/html": [
              "\n",
              "  <div id=\"df-2e568150-f6b9-4710-a512-debce7d3ec40\">\n",
              "    <div class=\"colab-df-container\">\n",
              "      <div>\n",
              "<style scoped>\n",
              "    .dataframe tbody tr th:only-of-type {\n",
              "        vertical-align: middle;\n",
              "    }\n",
              "\n",
              "    .dataframe tbody tr th {\n",
              "        vertical-align: top;\n",
              "    }\n",
              "\n",
              "    .dataframe thead th {\n",
              "        text-align: right;\n",
              "    }\n",
              "</style>\n",
              "<table border=\"1\" class=\"dataframe\">\n",
              "  <thead>\n",
              "    <tr style=\"text-align: right;\">\n",
              "      <th></th>\n",
              "      <th>Здоровье от 1 до 10</th>\n",
              "      <th>Были ли нарушения сна</th>\n",
              "      <th>P</th>\n",
              "      <th>G</th>\n",
              "      <th>Была попытка суицида?</th>\n",
              "    </tr>\n",
              "  </thead>\n",
              "  <tbody>\n",
              "    <tr>\n",
              "      <th>0</th>\n",
              "      <td>7.0</td>\n",
              "      <td>1.0</td>\n",
              "      <td>11.0</td>\n",
              "      <td>18.0</td>\n",
              "      <td>0.0</td>\n",
              "    </tr>\n",
              "    <tr>\n",
              "      <th>1</th>\n",
              "      <td>10.0</td>\n",
              "      <td>1.0</td>\n",
              "      <td>10.0</td>\n",
              "      <td>36.0</td>\n",
              "      <td>0.0</td>\n",
              "    </tr>\n",
              "    <tr>\n",
              "      <th>2</th>\n",
              "      <td>10.0</td>\n",
              "      <td>0.0</td>\n",
              "      <td>9.0</td>\n",
              "      <td>23.0</td>\n",
              "      <td>0.0</td>\n",
              "    </tr>\n",
              "    <tr>\n",
              "      <th>3</th>\n",
              "      <td>7.0</td>\n",
              "      <td>1.0</td>\n",
              "      <td>13.0</td>\n",
              "      <td>20.0</td>\n",
              "      <td>0.0</td>\n",
              "    </tr>\n",
              "    <tr>\n",
              "      <th>4</th>\n",
              "      <td>7.0</td>\n",
              "      <td>0.0</td>\n",
              "      <td>9.0</td>\n",
              "      <td>22.0</td>\n",
              "      <td>0.0</td>\n",
              "    </tr>\n",
              "    <tr>\n",
              "      <th>...</th>\n",
              "      <td>...</td>\n",
              "      <td>...</td>\n",
              "      <td>...</td>\n",
              "      <td>...</td>\n",
              "      <td>...</td>\n",
              "    </tr>\n",
              "    <tr>\n",
              "      <th>175</th>\n",
              "      <td>6.0</td>\n",
              "      <td>1.0</td>\n",
              "      <td>12.0</td>\n",
              "      <td>31.0</td>\n",
              "      <td>0.0</td>\n",
              "    </tr>\n",
              "    <tr>\n",
              "      <th>176</th>\n",
              "      <td>10.0</td>\n",
              "      <td>1.0</td>\n",
              "      <td>19.0</td>\n",
              "      <td>47.0</td>\n",
              "      <td>0.0</td>\n",
              "    </tr>\n",
              "    <tr>\n",
              "      <th>177</th>\n",
              "      <td>4.0</td>\n",
              "      <td>1.0</td>\n",
              "      <td>10.0</td>\n",
              "      <td>27.0</td>\n",
              "      <td>1.0</td>\n",
              "    </tr>\n",
              "    <tr>\n",
              "      <th>178</th>\n",
              "      <td>8.0</td>\n",
              "      <td>1.0</td>\n",
              "      <td>11.0</td>\n",
              "      <td>31.0</td>\n",
              "      <td>0.0</td>\n",
              "    </tr>\n",
              "    <tr>\n",
              "      <th>179</th>\n",
              "      <td>3.0</td>\n",
              "      <td>0.0</td>\n",
              "      <td>13.0</td>\n",
              "      <td>33.0</td>\n",
              "      <td>0.0</td>\n",
              "    </tr>\n",
              "  </tbody>\n",
              "</table>\n",
              "<p>180 rows × 5 columns</p>\n",
              "</div>\n",
              "      <button class=\"colab-df-convert\" onclick=\"convertToInteractive('df-2e568150-f6b9-4710-a512-debce7d3ec40')\"\n",
              "              title=\"Convert this dataframe to an interactive table.\"\n",
              "              style=\"display:none;\">\n",
              "        \n",
              "  <svg xmlns=\"http://www.w3.org/2000/svg\" height=\"24px\"viewBox=\"0 0 24 24\"\n",
              "       width=\"24px\">\n",
              "    <path d=\"M0 0h24v24H0V0z\" fill=\"none\"/>\n",
              "    <path d=\"M18.56 5.44l.94 2.06.94-2.06 2.06-.94-2.06-.94-.94-2.06-.94 2.06-2.06.94zm-11 1L8.5 8.5l.94-2.06 2.06-.94-2.06-.94L8.5 2.5l-.94 2.06-2.06.94zm10 10l.94 2.06.94-2.06 2.06-.94-2.06-.94-.94-2.06-.94 2.06-2.06.94z\"/><path d=\"M17.41 7.96l-1.37-1.37c-.4-.4-.92-.59-1.43-.59-.52 0-1.04.2-1.43.59L10.3 9.45l-7.72 7.72c-.78.78-.78 2.05 0 2.83L4 21.41c.39.39.9.59 1.41.59.51 0 1.02-.2 1.41-.59l7.78-7.78 2.81-2.81c.8-.78.8-2.07 0-2.86zM5.41 20L4 18.59l7.72-7.72 1.47 1.35L5.41 20z\"/>\n",
              "  </svg>\n",
              "      </button>\n",
              "      \n",
              "  <style>\n",
              "    .colab-df-container {\n",
              "      display:flex;\n",
              "      flex-wrap:wrap;\n",
              "      gap: 12px;\n",
              "    }\n",
              "\n",
              "    .colab-df-convert {\n",
              "      background-color: #E8F0FE;\n",
              "      border: none;\n",
              "      border-radius: 50%;\n",
              "      cursor: pointer;\n",
              "      display: none;\n",
              "      fill: #1967D2;\n",
              "      height: 32px;\n",
              "      padding: 0 0 0 0;\n",
              "      width: 32px;\n",
              "    }\n",
              "\n",
              "    .colab-df-convert:hover {\n",
              "      background-color: #E2EBFA;\n",
              "      box-shadow: 0px 1px 2px rgba(60, 64, 67, 0.3), 0px 1px 3px 1px rgba(60, 64, 67, 0.15);\n",
              "      fill: #174EA6;\n",
              "    }\n",
              "\n",
              "    [theme=dark] .colab-df-convert {\n",
              "      background-color: #3B4455;\n",
              "      fill: #D2E3FC;\n",
              "    }\n",
              "\n",
              "    [theme=dark] .colab-df-convert:hover {\n",
              "      background-color: #434B5C;\n",
              "      box-shadow: 0px 1px 3px 1px rgba(0, 0, 0, 0.15);\n",
              "      filter: drop-shadow(0px 1px 2px rgba(0, 0, 0, 0.3));\n",
              "      fill: #FFFFFF;\n",
              "    }\n",
              "  </style>\n",
              "\n",
              "      <script>\n",
              "        const buttonEl =\n",
              "          document.querySelector('#df-2e568150-f6b9-4710-a512-debce7d3ec40 button.colab-df-convert');\n",
              "        buttonEl.style.display =\n",
              "          google.colab.kernel.accessAllowed ? 'block' : 'none';\n",
              "\n",
              "        async function convertToInteractive(key) {\n",
              "          const element = document.querySelector('#df-2e568150-f6b9-4710-a512-debce7d3ec40');\n",
              "          const dataTable =\n",
              "            await google.colab.kernel.invokeFunction('convertToInteractive',\n",
              "                                                     [key], {});\n",
              "          if (!dataTable) return;\n",
              "\n",
              "          const docLinkHtml = 'Like what you see? Visit the ' +\n",
              "            '<a target=\"_blank\" href=https://colab.research.google.com/notebooks/data_table.ipynb>data table notebook</a>'\n",
              "            + ' to learn more about interactive tables.';\n",
              "          element.innerHTML = '';\n",
              "          dataTable['output_type'] = 'display_data';\n",
              "          await google.colab.output.renderOutput(dataTable, element);\n",
              "          const docLink = document.createElement('div');\n",
              "          docLink.innerHTML = docLinkHtml;\n",
              "          element.appendChild(docLink);\n",
              "        }\n",
              "      </script>\n",
              "    </div>\n",
              "  </div>\n",
              "  "
            ]
          },
          "metadata": {},
          "execution_count": 94
        }
      ]
    },
    {
      "cell_type": "code",
      "source": [
        "# Get helper functions file\n",
        "import os\n",
        "if not os.path.exists(\"helper_functions.py\"):\n",
        "    print(\"Downloading helper functions...\")\n",
        "    !wget https://raw.githubusercontent.com/Nikitaion/TensorFlowLearning/main/extras/helper_functions.py\n",
        "else:\n",
        "    print(\"Helper functions file already exists, skipping download...\")"
      ],
      "metadata": {
        "id": "ztJnG1gMpQKR",
        "outputId": "31f0ea47-3c67-4b81-ac56-99382ef629a3",
        "colab": {
          "base_uri": "https://localhost:8080/"
        }
      },
      "execution_count": 95,
      "outputs": [
        {
          "output_type": "stream",
          "name": "stdout",
          "text": [
            "Downloading helper functions...\n",
            "--2022-09-17 16:04:12--  https://raw.githubusercontent.com/Nikitaion/TensorFlowLearning/main/extras/helper_functions.py\n",
            "Resolving raw.githubusercontent.com (raw.githubusercontent.com)... 185.199.108.133, 185.199.110.133, 185.199.109.133, ...\n",
            "Connecting to raw.githubusercontent.com (raw.githubusercontent.com)|185.199.108.133|:443... connected.\n",
            "HTTP request sent, awaiting response... 200 OK\n",
            "Length: 10246 (10K) [text/plain]\n",
            "Saving to: ‘helper_functions.py’\n",
            "\n",
            "helper_functions.py 100%[===================>]  10.01K  --.-KB/s    in 0s      \n",
            "\n",
            "2022-09-17 16:04:12 (60.3 MB/s) - ‘helper_functions.py’ saved [10246/10246]\n",
            "\n"
          ]
        }
      ]
    },
    {
      "cell_type": "code",
      "source": [
        "# Create TensorBoard callback\n",
        "from helper_functions import create_tensorboard_callback\n",
        "\n",
        "# Create ModelCheckpoint callback to save model's progress\n",
        "# checkpoint_path = \"model_checkpoints/cp.ckpt\" # saving weights requires \".ckpt\" extension\n",
        "# model_checkpoint = tf.keras.callbacks.ModelCheckpoint(checkpoint_path,\n",
        "#                                                       montior=\"val_accuracy\", # save the model weights with best validation accuracy\n",
        "#                                                       save_best_only=True, # only save the best weights\n",
        "#                                                       save_weights_only=True) # only save model weights (not whole model)\n",
        "#                                                       # verbose=1) # don't print out whether or not model is being saved\n",
        "\n",
        "# Create a function to implment a ModelCheckpoint callback with a specific filename\n",
        "def create_model_checkpoint(model_name, save_path=\"model_experiments\"):\n",
        "  return tf.keras.callbacks.ModelCheckpoint(filepath=os.path.join(save_path, model_name),\n",
        "                                            monitor=\"val_accuracy\", # was 'val_loss'\n",
        "                                            verbose=0, #only output a limited amount of text\n",
        "                                            save_best_only=True)\n"
      ],
      "metadata": {
        "id": "1mRN6S7XpPD6"
      },
      "execution_count": 96,
      "outputs": []
    },
    {
      "cell_type": "code",
      "source": [
        "# Train/valid/test split\n",
        "tf.random.set_seed(2)\n",
        "\n",
        "X_train, X_valid, y_train, y_valid = train_test_split(X, y, test_size=0.15)\n",
        "\n",
        "X_train, X_test, y_train, y_test = train_test_split(X_train, y_train, test_size=0.15)\n",
        "\n",
        "\n",
        "# Scaling\n",
        "from sklearn.preprocessing import StandardScaler\n",
        "from sklearn.preprocessing import MinMaxScaler\n",
        "\n",
        "scaler = StandardScaler()\n",
        "minmax_scaler = MinMaxScaler()\n",
        "\n",
        "# X_train_scaled = scaler.fit_transform(X_train)\n",
        "# X_valid_scaled = scaler.transform(X_valid)\n",
        "\n",
        "X_train_scaled = minmax_scaler.fit_transform(X_train)\n",
        "X_valid_scaled = minmax_scaler.transform(X_valid)\n",
        "X_test_scaled = minmax_scaler.transform(X_test)"
      ],
      "metadata": {
        "id": "EkYpF44DNQjU"
      },
      "execution_count": 97,
      "outputs": []
    },
    {
      "cell_type": "code",
      "source": [],
      "metadata": {
        "id": "Z2UDFlW2VQjH"
      },
      "execution_count": 97,
      "outputs": []
    },
    {
      "cell_type": "code",
      "source": [
        "# Linear SVC test\n",
        "from sklearn.svm import LinearSVC\n",
        "lsvc = LinearSVC(verbose=0)\n",
        "print(lsvc)\n"
      ],
      "metadata": {
        "id": "WfVPIUKhVQl0",
        "outputId": "edd85e03-ff27-4321-83c6-15177639b71a",
        "colab": {
          "base_uri": "https://localhost:8080/"
        }
      },
      "execution_count": 98,
      "outputs": [
        {
          "output_type": "stream",
          "name": "stdout",
          "text": [
            "LinearSVC()\n"
          ]
        }
      ]
    },
    {
      "cell_type": "code",
      "source": [
        "LinearSVC(C=1.0, class_weight=None, dual=True, fit_intercept=True,\n",
        "          intercept_scaling=1, loss='squared_hinge', max_iter=1000,\n",
        "          multi_class='ovr', penalty='l2', random_state=None, tol=0.0001,\n",
        "          verbose=0)\n"
      ],
      "metadata": {
        "id": "rkH2nDFWVZ1u",
        "outputId": "89a4730e-b161-40d6-cf3c-65c31069ae2b",
        "colab": {
          "base_uri": "https://localhost:8080/"
        }
      },
      "execution_count": 99,
      "outputs": [
        {
          "output_type": "execute_result",
          "data": {
            "text/plain": [
              "LinearSVC()"
            ]
          },
          "metadata": {},
          "execution_count": 99
        }
      ]
    },
    {
      "cell_type": "code",
      "source": [
        "lsvc.fit(X_train, y_train)\n",
        "score = lsvc.score(X_train, y_train)\n",
        "print(\"Score: \", score)"
      ],
      "metadata": {
        "id": "aLxy6i-0VQoc",
        "outputId": "5dfa41ca-7e80-4eda-da7a-e73545980159",
        "colab": {
          "base_uri": "https://localhost:8080/"
        }
      },
      "execution_count": 100,
      "outputs": [
        {
          "output_type": "stream",
          "name": "stdout",
          "text": [
            "Score:  0.6461538461538462\n"
          ]
        },
        {
          "output_type": "stream",
          "name": "stderr",
          "text": [
            "/usr/local/lib/python3.7/dist-packages/sklearn/svm/_base.py:1208: ConvergenceWarning: Liblinear failed to converge, increase the number of iterations.\n",
            "  ConvergenceWarning,\n"
          ]
        }
      ]
    },
    {
      "cell_type": "code",
      "source": [
        "from sklearn.model_selection import cross_val_score\n",
        "\n",
        "cv_scores = cross_val_score(lsvc, X_train, y_train, cv=10)\n",
        "print(\"CV average score: %.2f\" % cv_scores.mean())"
      ],
      "metadata": {
        "id": "Q_UxjfdtVpo0",
        "outputId": "eeda7dd2-4cd2-41fa-d255-52601695cc1d",
        "colab": {
          "base_uri": "https://localhost:8080/"
        }
      },
      "execution_count": 101,
      "outputs": [
        {
          "output_type": "stream",
          "name": "stdout",
          "text": [
            "CV average score: 0.61\n"
          ]
        },
        {
          "output_type": "stream",
          "name": "stderr",
          "text": [
            "/usr/local/lib/python3.7/dist-packages/sklearn/svm/_base.py:1208: ConvergenceWarning: Liblinear failed to converge, increase the number of iterations.\n",
            "  ConvergenceWarning,\n",
            "/usr/local/lib/python3.7/dist-packages/sklearn/svm/_base.py:1208: ConvergenceWarning: Liblinear failed to converge, increase the number of iterations.\n",
            "  ConvergenceWarning,\n",
            "/usr/local/lib/python3.7/dist-packages/sklearn/svm/_base.py:1208: ConvergenceWarning: Liblinear failed to converge, increase the number of iterations.\n",
            "  ConvergenceWarning,\n",
            "/usr/local/lib/python3.7/dist-packages/sklearn/svm/_base.py:1208: ConvergenceWarning: Liblinear failed to converge, increase the number of iterations.\n",
            "  ConvergenceWarning,\n",
            "/usr/local/lib/python3.7/dist-packages/sklearn/svm/_base.py:1208: ConvergenceWarning: Liblinear failed to converge, increase the number of iterations.\n",
            "  ConvergenceWarning,\n",
            "/usr/local/lib/python3.7/dist-packages/sklearn/svm/_base.py:1208: ConvergenceWarning: Liblinear failed to converge, increase the number of iterations.\n",
            "  ConvergenceWarning,\n",
            "/usr/local/lib/python3.7/dist-packages/sklearn/svm/_base.py:1208: ConvergenceWarning: Liblinear failed to converge, increase the number of iterations.\n",
            "  ConvergenceWarning,\n",
            "/usr/local/lib/python3.7/dist-packages/sklearn/svm/_base.py:1208: ConvergenceWarning: Liblinear failed to converge, increase the number of iterations.\n",
            "  ConvergenceWarning,\n",
            "/usr/local/lib/python3.7/dist-packages/sklearn/svm/_base.py:1208: ConvergenceWarning: Liblinear failed to converge, increase the number of iterations.\n",
            "  ConvergenceWarning,\n",
            "/usr/local/lib/python3.7/dist-packages/sklearn/svm/_base.py:1208: ConvergenceWarning: Liblinear failed to converge, increase the number of iterations.\n",
            "  ConvergenceWarning,\n"
          ]
        }
      ]
    },
    {
      "cell_type": "code",
      "source": [
        "from sklearn.metrics import confusion_matrix\n",
        "\n",
        "ypred = lsvc.predict(X_test)\n",
        "\n",
        "cm = confusion_matrix(X_test, y_test)\n",
        "print(cm)\n"
      ],
      "metadata": {
        "id": "pM_YXgJdVz3a",
        "outputId": "797a2006-0e4b-4a47-96cb-20824506dfee",
        "colab": {
          "base_uri": "https://localhost:8080/",
          "height": 363
        }
      },
      "execution_count": 102,
      "outputs": [
        {
          "output_type": "error",
          "ename": "ValueError",
          "evalue": "ignored",
          "traceback": [
            "\u001b[0;31m---------------------------------------------------------------------------\u001b[0m",
            "\u001b[0;31mValueError\u001b[0m                                Traceback (most recent call last)",
            "\u001b[0;32m<ipython-input-102-5c076d8a5c70>\u001b[0m in \u001b[0;36m<module>\u001b[0;34m\u001b[0m\n\u001b[1;32m      3\u001b[0m \u001b[0mypred\u001b[0m \u001b[0;34m=\u001b[0m \u001b[0mlsvc\u001b[0m\u001b[0;34m.\u001b[0m\u001b[0mpredict\u001b[0m\u001b[0;34m(\u001b[0m\u001b[0mX_test\u001b[0m\u001b[0;34m)\u001b[0m\u001b[0;34m\u001b[0m\u001b[0;34m\u001b[0m\u001b[0m\n\u001b[1;32m      4\u001b[0m \u001b[0;34m\u001b[0m\u001b[0m\n\u001b[0;32m----> 5\u001b[0;31m \u001b[0mcm\u001b[0m \u001b[0;34m=\u001b[0m \u001b[0mconfusion_matrix\u001b[0m\u001b[0;34m(\u001b[0m\u001b[0mX_test\u001b[0m\u001b[0;34m,\u001b[0m \u001b[0my_test\u001b[0m\u001b[0;34m)\u001b[0m\u001b[0;34m\u001b[0m\u001b[0;34m\u001b[0m\u001b[0m\n\u001b[0m\u001b[1;32m      6\u001b[0m \u001b[0mprint\u001b[0m\u001b[0;34m(\u001b[0m\u001b[0mcm\u001b[0m\u001b[0;34m)\u001b[0m\u001b[0;34m\u001b[0m\u001b[0;34m\u001b[0m\u001b[0m\n",
            "\u001b[0;32m/usr/local/lib/python3.7/dist-packages/sklearn/metrics/_classification.py\u001b[0m in \u001b[0;36mconfusion_matrix\u001b[0;34m(y_true, y_pred, labels, sample_weight, normalize)\u001b[0m\n\u001b[1;32m    305\u001b[0m     \u001b[0;34m(\u001b[0m\u001b[0;36m0\u001b[0m\u001b[0;34m,\u001b[0m \u001b[0;36m2\u001b[0m\u001b[0;34m,\u001b[0m \u001b[0;36m1\u001b[0m\u001b[0;34m,\u001b[0m \u001b[0;36m1\u001b[0m\u001b[0;34m)\u001b[0m\u001b[0;34m\u001b[0m\u001b[0;34m\u001b[0m\u001b[0m\n\u001b[1;32m    306\u001b[0m     \"\"\"\n\u001b[0;32m--> 307\u001b[0;31m     \u001b[0my_type\u001b[0m\u001b[0;34m,\u001b[0m \u001b[0my_true\u001b[0m\u001b[0;34m,\u001b[0m \u001b[0my_pred\u001b[0m \u001b[0;34m=\u001b[0m \u001b[0m_check_targets\u001b[0m\u001b[0;34m(\u001b[0m\u001b[0my_true\u001b[0m\u001b[0;34m,\u001b[0m \u001b[0my_pred\u001b[0m\u001b[0;34m)\u001b[0m\u001b[0;34m\u001b[0m\u001b[0;34m\u001b[0m\u001b[0m\n\u001b[0m\u001b[1;32m    308\u001b[0m     \u001b[0;32mif\u001b[0m \u001b[0my_type\u001b[0m \u001b[0;32mnot\u001b[0m \u001b[0;32min\u001b[0m \u001b[0;34m(\u001b[0m\u001b[0;34m\"binary\"\u001b[0m\u001b[0;34m,\u001b[0m \u001b[0;34m\"multiclass\"\u001b[0m\u001b[0;34m)\u001b[0m\u001b[0;34m:\u001b[0m\u001b[0;34m\u001b[0m\u001b[0;34m\u001b[0m\u001b[0m\n\u001b[1;32m    309\u001b[0m         \u001b[0;32mraise\u001b[0m \u001b[0mValueError\u001b[0m\u001b[0;34m(\u001b[0m\u001b[0;34m\"%s is not supported\"\u001b[0m \u001b[0;34m%\u001b[0m \u001b[0my_type\u001b[0m\u001b[0;34m)\u001b[0m\u001b[0;34m\u001b[0m\u001b[0;34m\u001b[0m\u001b[0m\n",
            "\u001b[0;32m/usr/local/lib/python3.7/dist-packages/sklearn/metrics/_classification.py\u001b[0m in \u001b[0;36m_check_targets\u001b[0;34m(y_true, y_pred)\u001b[0m\n\u001b[1;32m     93\u001b[0m         raise ValueError(\n\u001b[1;32m     94\u001b[0m             \"Classification metrics can't handle a mix of {0} and {1} targets\".format(\n\u001b[0;32m---> 95\u001b[0;31m                 \u001b[0mtype_true\u001b[0m\u001b[0;34m,\u001b[0m \u001b[0mtype_pred\u001b[0m\u001b[0;34m\u001b[0m\u001b[0;34m\u001b[0m\u001b[0m\n\u001b[0m\u001b[1;32m     96\u001b[0m             )\n\u001b[1;32m     97\u001b[0m         )\n",
            "\u001b[0;31mValueError\u001b[0m: Classification metrics can't handle a mix of multiclass-multioutput and binary targets"
          ]
        }
      ]
    },
    {
      "cell_type": "code",
      "source": [
        "from sklearn.metrics import classification_report\n",
        "cr = classification_report(X_train, y_train)\n",
        "print(cr)\n"
      ],
      "metadata": {
        "id": "8eBJBehCWD52"
      },
      "execution_count": null,
      "outputs": []
    },
    {
      "cell_type": "code",
      "source": [],
      "metadata": {
        "id": "YWVCdu65WBRJ"
      },
      "execution_count": null,
      "outputs": []
    },
    {
      "cell_type": "code",
      "source": [],
      "metadata": {
        "id": "IhajJ-VgY1hn"
      },
      "execution_count": null,
      "outputs": []
    },
    {
      "cell_type": "code",
      "source": [
        "# KNeighborsClassifier\n",
        "from sklearn.neighbors import KNeighborsClassifier\n",
        "\n",
        "from sklearn import metrics\n",
        "# We are going to run it for k = 1 to 15 and will be recording testing accuracy, plotting it, showing confusion matrix and classification report:\n",
        "Range_k = range(1,130)\n",
        "scores = {}\n",
        "scores_list = []\n",
        "for k in Range_k:\n",
        "   classifier = KNeighborsClassifier(n_neighbors=k)\n",
        "   classifier.fit(X_train, y_train)\n",
        "   y_pred = classifier.predict(X_test)\n",
        "   scores[k] = metrics.accuracy_score(y_test,y_pred)\n",
        "   scores_list.append(metrics.accuracy_score(y_test,y_pred))\n",
        "result = metrics.confusion_matrix(y_test, y_pred)\n",
        "print(\"Confusion Matrix:\")\n",
        "print(result)\n",
        "result1 = metrics.classification_report(y_test, y_pred)\n",
        "print(\"Classification Report:\",)\n",
        "print (result1)\n"
      ],
      "metadata": {
        "id": "RSLxn85kY1kV",
        "outputId": "22468757-3d11-4acc-aa09-700af3ba642c",
        "colab": {
          "base_uri": "https://localhost:8080/"
        }
      },
      "execution_count": 103,
      "outputs": [
        {
          "output_type": "stream",
          "name": "stdout",
          "text": [
            "Confusion Matrix:\n",
            "[[ 0 12]\n",
            " [ 0 11]]\n",
            "Classification Report:\n",
            "              precision    recall  f1-score   support\n",
            "\n",
            "         0.0       0.00      0.00      0.00        12\n",
            "         1.0       0.48      1.00      0.65        11\n",
            "\n",
            "    accuracy                           0.48        23\n",
            "   macro avg       0.24      0.50      0.32        23\n",
            "weighted avg       0.23      0.48      0.31        23\n",
            "\n"
          ]
        },
        {
          "output_type": "stream",
          "name": "stderr",
          "text": [
            "/usr/local/lib/python3.7/dist-packages/sklearn/metrics/_classification.py:1318: UndefinedMetricWarning: Precision and F-score are ill-defined and being set to 0.0 in labels with no predicted samples. Use `zero_division` parameter to control this behavior.\n",
            "  _warn_prf(average, modifier, msg_start, len(result))\n",
            "/usr/local/lib/python3.7/dist-packages/sklearn/metrics/_classification.py:1318: UndefinedMetricWarning: Precision and F-score are ill-defined and being set to 0.0 in labels with no predicted samples. Use `zero_division` parameter to control this behavior.\n",
            "  _warn_prf(average, modifier, msg_start, len(result))\n",
            "/usr/local/lib/python3.7/dist-packages/sklearn/metrics/_classification.py:1318: UndefinedMetricWarning: Precision and F-score are ill-defined and being set to 0.0 in labels with no predicted samples. Use `zero_division` parameter to control this behavior.\n",
            "  _warn_prf(average, modifier, msg_start, len(result))\n"
          ]
        }
      ]
    },
    {
      "cell_type": "code",
      "source": [
        "%matplotlib inline\n",
        "import matplotlib.pyplot as plt\n",
        "plt.plot(Range_k,scores_list)\n",
        "plt.xlabel(\"Value of K\")\n",
        "plt.ylabel(\"Accuracy\")\n"
      ],
      "metadata": {
        "id": "LptwTAGvVhoZ",
        "outputId": "5350a5d2-7675-4174-f64d-9fea772a79e8",
        "colab": {
          "base_uri": "https://localhost:8080/",
          "height": 298
        }
      },
      "execution_count": 104,
      "outputs": [
        {
          "output_type": "execute_result",
          "data": {
            "text/plain": [
              "Text(0, 0.5, 'Accuracy')"
            ]
          },
          "metadata": {},
          "execution_count": 104
        },
        {
          "output_type": "display_data",
          "data": {
            "text/plain": [
              "<Figure size 432x288 with 1 Axes>"
            ],
            "image/png": "[encoded data removed]"
          },
          "metadata": {
            "needs_background": "light"
          }
        }
      ]
    },
    {
      "cell_type": "code",
      "source": [],
      "metadata": {
        "id": "u2JPXNFcZ7AP"
      },
      "execution_count": 104,
      "outputs": []
    },
    {
      "cell_type": "code",
      "source": [],
      "metadata": {
        "id": "DZJZUfx2VhrL"
      },
      "execution_count": 104,
      "outputs": []
    },
    {
      "cell_type": "code",
      "source": [],
      "metadata": {
        "id": "3dilnjn2Vhte"
      },
      "execution_count": 104,
      "outputs": []
    },
    {
      "cell_type": "code",
      "source": [
        "tf.random.set_seed(42)\n",
        "\n",
        "model1 = tf.keras.Sequential([\n",
        "    tf.keras.layers.Dense(5, activation='relu'),\n",
        "    tf.keras.layers.Dense(4, activation='relu'),\n",
        "    tf.keras.layers.Dense(4, activation='relu'),\n",
        "\n",
        "    # tf.keras.layers.Dense(20, activation='relu'),\n",
        "    # tf.keras.layers.Dense(10, activation='relu'),\n",
        "\n",
        "    # tf.keras.layers.Dense(256, activation='relu'),\n",
        "    tf.keras.layers.Dense(1, activation='sigmoid')\n",
        "])\n",
        "\n",
        "model1.compile(\n",
        "    loss=tf.keras.losses.binary_crossentropy,\n",
        "    optimizer=tf.keras.optimizers.Adam(0.03),\n",
        "    metrics=[\"accuracy\"]\n",
        ")\n",
        "\n",
        "\n",
        "history1 = model1.fit(X_train_scaled, \n",
        "                    y_train, \n",
        "                    epochs=40,\n",
        "                    validation_data = (X_valid_scaled, y_valid),\n",
        "                    callbacks=[create_model_checkpoint(model_name=model1.name)])"
      ],
      "metadata": {
        "colab": {
          "base_uri": "https://localhost:8080/"
        },
        "id": "Y8cdqTwvKMbi",
        "outputId": "2b5bc67e-ee4f-4cc5-862b-9b430b85276d"
      },
      "execution_count": 105,
      "outputs": [
        {
          "output_type": "stream",
          "name": "stdout",
          "text": [
            "Epoch 1/40\n",
            "5/5 [==============================] - 4s 539ms/step - loss: 0.6846 - accuracy: 0.5538 - val_loss: 0.6903 - val_accuracy: 0.5185\n",
            "Epoch 2/40\n",
            "5/5 [==============================] - 0s 20ms/step - loss: 0.6649 - accuracy: 0.6154 - val_loss: 0.6837 - val_accuracy: 0.5185\n",
            "Epoch 3/40\n",
            "5/5 [==============================] - 0s 17ms/step - loss: 0.6591 - accuracy: 0.6154 - val_loss: 0.6893 - val_accuracy: 0.5185\n",
            "Epoch 4/40\n",
            "5/5 [==============================] - 0s 16ms/step - loss: 0.6467 - accuracy: 0.6154 - val_loss: 0.7024 - val_accuracy: 0.5185\n",
            "Epoch 5/40\n",
            "5/5 [==============================] - 0s 26ms/step - loss: 0.6547 - accuracy: 0.6154 - val_loss: 0.7010 - val_accuracy: 0.5185\n",
            "Epoch 6/40\n",
            "5/5 [==============================] - 0s 14ms/step - loss: 0.6454 - accuracy: 0.6154 - val_loss: 0.6674 - val_accuracy: 0.5185\n",
            "Epoch 7/40\n",
            "5/5 [==============================] - 0s 12ms/step - loss: 0.6403 - accuracy: 0.6154 - val_loss: 0.6680 - val_accuracy: 0.5185\n",
            "Epoch 8/40\n",
            "5/5 [==============================] - 0s 15ms/step - loss: 0.6455 - accuracy: 0.6154 - val_loss: 0.6697 - val_accuracy: 0.5185\n",
            "Epoch 9/40\n",
            "5/5 [==============================] - 0s 19ms/step - loss: 0.6376 - accuracy: 0.6154 - val_loss: 0.6433 - val_accuracy: 0.5185\n",
            "Epoch 10/40\n",
            "5/5 [==============================] - 0s 23ms/step - loss: 0.6358 - accuracy: 0.6154 - val_loss: 0.6382 - val_accuracy: 0.5185\n",
            "Epoch 11/40\n",
            "5/5 [==============================] - 1s 276ms/step - loss: 0.6347 - accuracy: 0.6154 - val_loss: 0.6333 - val_accuracy: 0.6667\n",
            "Epoch 12/40\n",
            "5/5 [==============================] - 0s 9ms/step - loss: 0.6314 - accuracy: 0.6538 - val_loss: 0.6290 - val_accuracy: 0.6667\n",
            "Epoch 13/40\n",
            "5/5 [==============================] - 0s 10ms/step - loss: 0.6257 - accuracy: 0.6615 - val_loss: 0.6281 - val_accuracy: 0.6667\n",
            "Epoch 14/40\n",
            "5/5 [==============================] - 0s 10ms/step - loss: 0.6238 - accuracy: 0.6538 - val_loss: 0.6310 - val_accuracy: 0.6667\n",
            "Epoch 15/40\n",
            "5/5 [==============================] - 0s 8ms/step - loss: 0.6245 - accuracy: 0.6615 - val_loss: 0.6410 - val_accuracy: 0.6296\n",
            "Epoch 16/40\n",
            "5/5 [==============================] - 0s 7ms/step - loss: 0.6207 - accuracy: 0.6538 - val_loss: 0.6384 - val_accuracy: 0.6667\n",
            "Epoch 17/40\n",
            "5/5 [==============================] - 0s 8ms/step - loss: 0.6178 - accuracy: 0.6462 - val_loss: 0.6518 - val_accuracy: 0.6667\n",
            "Epoch 18/40\n",
            "5/5 [==============================] - 0s 8ms/step - loss: 0.6317 - accuracy: 0.6538 - val_loss: 0.6689 - val_accuracy: 0.6667\n",
            "Epoch 19/40\n",
            "5/5 [==============================] - 0s 9ms/step - loss: 0.6285 - accuracy: 0.6692 - val_loss: 0.6479 - val_accuracy: 0.6667\n",
            "Epoch 20/40\n",
            "5/5 [==============================] - 0s 8ms/step - loss: 0.6299 - accuracy: 0.6615 - val_loss: 0.6510 - val_accuracy: 0.6667\n",
            "Epoch 21/40\n",
            "5/5 [==============================] - 1s 193ms/step - loss: 0.6315 - accuracy: 0.6769 - val_loss: 0.6502 - val_accuracy: 0.7037\n",
            "Epoch 22/40\n",
            "5/5 [==============================] - 0s 8ms/step - loss: 0.6302 - accuracy: 0.6769 - val_loss: 0.6470 - val_accuracy: 0.5926\n",
            "Epoch 23/40\n",
            "5/5 [==============================] - 0s 7ms/step - loss: 0.6116 - accuracy: 0.6692 - val_loss: 0.6747 - val_accuracy: 0.6667\n",
            "Epoch 24/40\n",
            "5/5 [==============================] - 0s 8ms/step - loss: 0.6396 - accuracy: 0.6462 - val_loss: 0.6990 - val_accuracy: 0.6296\n",
            "Epoch 25/40\n",
            "5/5 [==============================] - 0s 8ms/step - loss: 0.6295 - accuracy: 0.6692 - val_loss: 0.6464 - val_accuracy: 0.5926\n",
            "Epoch 26/40\n",
            "5/5 [==============================] - 0s 9ms/step - loss: 0.6246 - accuracy: 0.6615 - val_loss: 0.6441 - val_accuracy: 0.7037\n",
            "Epoch 27/40\n",
            "5/5 [==============================] - 0s 8ms/step - loss: 0.6276 - accuracy: 0.6615 - val_loss: 0.6443 - val_accuracy: 0.5926\n",
            "Epoch 28/40\n",
            "5/5 [==============================] - 0s 8ms/step - loss: 0.6174 - accuracy: 0.6615 - val_loss: 0.6876 - val_accuracy: 0.6667\n",
            "Epoch 29/40\n",
            "5/5 [==============================] - 0s 8ms/step - loss: 0.6274 - accuracy: 0.6462 - val_loss: 0.7291 - val_accuracy: 0.6296\n",
            "Epoch 30/40\n",
            "5/5 [==============================] - 0s 9ms/step - loss: 0.6428 - accuracy: 0.6462 - val_loss: 0.6745 - val_accuracy: 0.6667\n",
            "Epoch 31/40\n",
            "5/5 [==============================] - 0s 8ms/step - loss: 0.6153 - accuracy: 0.6769 - val_loss: 0.6389 - val_accuracy: 0.7037\n",
            "Epoch 32/40\n",
            "5/5 [==============================] - 0s 7ms/step - loss: 0.6338 - accuracy: 0.6462 - val_loss: 0.6399 - val_accuracy: 0.5926\n",
            "Epoch 33/40\n",
            "5/5 [==============================] - 0s 9ms/step - loss: 0.6222 - accuracy: 0.6846 - val_loss: 0.6394 - val_accuracy: 0.5926\n",
            "Epoch 34/40\n",
            "5/5 [==============================] - 0s 11ms/step - loss: 0.6100 - accuracy: 0.6846 - val_loss: 0.6547 - val_accuracy: 0.6667\n",
            "Epoch 35/40\n",
            "5/5 [==============================] - 0s 8ms/step - loss: 0.6174 - accuracy: 0.6615 - val_loss: 0.6898 - val_accuracy: 0.6667\n",
            "Epoch 36/40\n",
            "5/5 [==============================] - 0s 8ms/step - loss: 0.6351 - accuracy: 0.6538 - val_loss: 0.6929 - val_accuracy: 0.6667\n",
            "Epoch 37/40\n",
            "5/5 [==============================] - 0s 8ms/step - loss: 0.6394 - accuracy: 0.6538 - val_loss: 0.6981 - val_accuracy: 0.6667\n",
            "Epoch 38/40\n",
            "5/5 [==============================] - 0s 8ms/step - loss: 0.6306 - accuracy: 0.6538 - val_loss: 0.6733 - val_accuracy: 0.6667\n",
            "Epoch 39/40\n",
            "5/5 [==============================] - 0s 8ms/step - loss: 0.6169 - accuracy: 0.6615 - val_loss: 0.6613 - val_accuracy: 0.6296\n",
            "Epoch 40/40\n",
            "5/5 [==============================] - 0s 8ms/step - loss: 0.6135 - accuracy: 0.6692 - val_loss: 0.6509 - val_accuracy: 0.6296\n"
          ]
        }
      ]
    },
    {
      "cell_type": "code",
      "source": [
        "model1.evaluate(X_test_scaled, y_test)"
      ],
      "metadata": {
        "id": "KRbfjDQWqt0l",
        "outputId": "dc38af23-99de-476a-b020-c6203ffc0624",
        "colab": {
          "base_uri": "https://localhost:8080/"
        }
      },
      "execution_count": 106,
      "outputs": [
        {
          "output_type": "stream",
          "name": "stdout",
          "text": [
            "1/1 [==============================] - 0s 22ms/step - loss: 0.5792 - accuracy: 0.6957\n"
          ]
        },
        {
          "output_type": "execute_result",
          "data": {
            "text/plain": [
              "[0.5792427659034729, 0.695652186870575]"
            ]
          },
          "metadata": {},
          "execution_count": 106
        }
      ]
    },
    {
      "cell_type": "code",
      "source": [
        "model1 = tf.keras.models.load_model(f\"/content/model_experiments/{model1.name}\")\n",
        "model1.evaluate(X_test_scaled, y_test)"
      ],
      "metadata": {
        "colab": {
          "base_uri": "https://localhost:8080/"
        },
        "id": "TQgxT9Qd5r8y",
        "outputId": "eb8e3bf8-77cd-42ac-d8fd-ec23935d56e2"
      },
      "execution_count": 107,
      "outputs": [
        {
          "output_type": "stream",
          "name": "stdout",
          "text": [
            "1/1 [==============================] - 0s 120ms/step - loss: 0.6159 - accuracy: 0.8696\n"
          ]
        },
        {
          "output_type": "execute_result",
          "data": {
            "text/plain": [
              "[0.6159473061561584, 0.8695651888847351]"
            ]
          },
          "metadata": {},
          "execution_count": 107
        }
      ]
    },
    {
      "cell_type": "code",
      "source": [],
      "metadata": {
        "id": "SowPTdIT6Fwq"
      },
      "execution_count": 107,
      "outputs": []
    },
    {
      "cell_type": "code",
      "source": [
        "tf.random.set_seed(42)\n",
        "\n",
        "model2 = tf.keras.Sequential([\n",
        "    tf.keras.layers.Dense(5, activation='relu'),\n",
        "    tf.keras.layers.Dense(10, activation='relu'),\n",
        "    tf.keras.layers.Dense(10, activation='relu'),\n",
        "\n",
        "    # tf.keras.layers.Dense(20, activation='relu'),\n",
        "    # tf.keras.layers.Dense(10, activation='relu'),\n",
        "\n",
        "    # tf.keras.layers.Dense(256, activation='relu'),\n",
        "    tf.keras.layers.Dense(1, activation='sigmoid')\n",
        "])\n",
        "\n",
        "model2.compile(\n",
        "    loss=tf.keras.losses.binary_crossentropy,\n",
        "    optimizer=tf.keras.optimizers.Adam(0.03),\n",
        "    metrics=[\"accuracy\"]\n",
        ")\n",
        "\n",
        "\n",
        "history2 = model2.fit(X_train_scaled, \n",
        "                    y_train, \n",
        "                    epochs=40,\n",
        "                    validation_data = (X_valid_scaled, y_valid),\n",
        "                    callbacks=[create_model_checkpoint(model_name=model2.name)])"
      ],
      "metadata": {
        "id": "q9VW_1RycyHm",
        "outputId": "60ebc7f3-3b0d-4884-b9dd-cc0ec64d934f",
        "colab": {
          "base_uri": "https://localhost:8080/"
        }
      },
      "execution_count": 108,
      "outputs": [
        {
          "output_type": "stream",
          "name": "stdout",
          "text": [
            "Epoch 1/40\n",
            "5/5 [==============================] - 1s 212ms/step - loss: 0.6803 - accuracy: 0.5385 - val_loss: 0.6863 - val_accuracy: 0.5185\n",
            "Epoch 2/40\n",
            "5/5 [==============================] - 0s 8ms/step - loss: 0.6606 - accuracy: 0.6154 - val_loss: 0.6812 - val_accuracy: 0.5185\n",
            "Epoch 3/40\n",
            "5/5 [==============================] - 0s 8ms/step - loss: 0.6603 - accuracy: 0.6154 - val_loss: 0.6853 - val_accuracy: 0.5185\n",
            "Epoch 4/40\n",
            "5/5 [==============================] - 0s 8ms/step - loss: 0.6483 - accuracy: 0.6154 - val_loss: 0.7010 - val_accuracy: 0.5185\n",
            "Epoch 5/40\n",
            "5/5 [==============================] - 0s 8ms/step - loss: 0.6540 - accuracy: 0.6154 - val_loss: 0.7087 - val_accuracy: 0.5185\n",
            "Epoch 6/40\n",
            "5/5 [==============================] - 0s 8ms/step - loss: 0.6458 - accuracy: 0.6154 - val_loss: 0.6702 - val_accuracy: 0.5185\n",
            "Epoch 7/40\n",
            "5/5 [==============================] - 0s 8ms/step - loss: 0.6397 - accuracy: 0.6154 - val_loss: 0.6698 - val_accuracy: 0.5185\n",
            "Epoch 8/40\n",
            "5/5 [==============================] - 0s 9ms/step - loss: 0.6398 - accuracy: 0.6154 - val_loss: 0.6680 - val_accuracy: 0.5185\n",
            "Epoch 9/40\n",
            "5/5 [==============================] - 0s 8ms/step - loss: 0.6349 - accuracy: 0.6154 - val_loss: 0.6448 - val_accuracy: 0.5185\n",
            "Epoch 10/40\n",
            "5/5 [==============================] - 0s 8ms/step - loss: 0.6381 - accuracy: 0.6154 - val_loss: 0.6411 - val_accuracy: 0.5185\n",
            "Epoch 11/40\n",
            "5/5 [==============================] - 0s 8ms/step - loss: 0.6379 - accuracy: 0.6154 - val_loss: 0.6366 - val_accuracy: 0.5185\n",
            "Epoch 12/40\n",
            "5/5 [==============================] - 1s 175ms/step - loss: 0.6372 - accuracy: 0.6231 - val_loss: 0.6365 - val_accuracy: 0.6667\n",
            "Epoch 13/40\n",
            "5/5 [==============================] - 0s 9ms/step - loss: 0.6275 - accuracy: 0.6769 - val_loss: 0.6374 - val_accuracy: 0.6667\n",
            "Epoch 14/40\n",
            "5/5 [==============================] - 0s 8ms/step - loss: 0.6224 - accuracy: 0.6615 - val_loss: 0.6437 - val_accuracy: 0.6667\n",
            "Epoch 15/40\n",
            "5/5 [==============================] - 0s 8ms/step - loss: 0.6228 - accuracy: 0.6615 - val_loss: 0.6634 - val_accuracy: 0.6667\n",
            "Epoch 16/40\n",
            "5/5 [==============================] - 0s 8ms/step - loss: 0.6162 - accuracy: 0.6692 - val_loss: 0.6726 - val_accuracy: 0.6667\n",
            "Epoch 17/40\n",
            "5/5 [==============================] - 0s 8ms/step - loss: 0.6133 - accuracy: 0.6615 - val_loss: 0.7022 - val_accuracy: 0.6667\n",
            "Epoch 18/40\n",
            "5/5 [==============================] - 1s 181ms/step - loss: 0.6401 - accuracy: 0.6615 - val_loss: 0.6968 - val_accuracy: 0.7037\n",
            "Epoch 19/40\n",
            "5/5 [==============================] - 0s 9ms/step - loss: 0.6300 - accuracy: 0.6385 - val_loss: 0.6750 - val_accuracy: 0.6296\n",
            "Epoch 20/40\n",
            "5/5 [==============================] - 0s 9ms/step - loss: 0.6537 - accuracy: 0.6154 - val_loss: 0.6729 - val_accuracy: 0.6296\n",
            "Epoch 21/40\n",
            "5/5 [==============================] - 0s 9ms/step - loss: 0.6378 - accuracy: 0.6385 - val_loss: 0.6665 - val_accuracy: 0.6296\n",
            "Epoch 22/40\n",
            "5/5 [==============================] - 0s 9ms/step - loss: 0.6230 - accuracy: 0.6692 - val_loss: 0.6836 - val_accuracy: 0.6296\n",
            "Epoch 23/40\n",
            "5/5 [==============================] - 0s 8ms/step - loss: 0.6317 - accuracy: 0.6385 - val_loss: 0.6961 - val_accuracy: 0.6296\n",
            "Epoch 24/40\n",
            "5/5 [==============================] - 0s 8ms/step - loss: 0.6405 - accuracy: 0.6615 - val_loss: 0.6717 - val_accuracy: 0.6296\n",
            "Epoch 25/40\n",
            "5/5 [==============================] - 0s 9ms/step - loss: 0.6244 - accuracy: 0.6462 - val_loss: 0.6539 - val_accuracy: 0.7037\n",
            "Epoch 26/40\n",
            "5/5 [==============================] - 0s 8ms/step - loss: 0.6319 - accuracy: 0.6846 - val_loss: 0.6542 - val_accuracy: 0.7037\n",
            "Epoch 27/40\n",
            "5/5 [==============================] - 0s 8ms/step - loss: 0.6200 - accuracy: 0.6692 - val_loss: 0.6699 - val_accuracy: 0.6296\n",
            "Epoch 28/40\n",
            "5/5 [==============================] - 0s 8ms/step - loss: 0.6293 - accuracy: 0.6615 - val_loss: 0.7566 - val_accuracy: 0.6667\n",
            "Epoch 29/40\n",
            "5/5 [==============================] - 0s 9ms/step - loss: 0.6425 - accuracy: 0.6538 - val_loss: 0.7106 - val_accuracy: 0.6667\n",
            "Epoch 30/40\n",
            "5/5 [==============================] - 0s 9ms/step - loss: 0.6177 - accuracy: 0.6769 - val_loss: 0.6560 - val_accuracy: 0.6296\n",
            "Epoch 31/40\n",
            "5/5 [==============================] - 0s 8ms/step - loss: 0.6117 - accuracy: 0.6538 - val_loss: 0.6456 - val_accuracy: 0.6296\n",
            "Epoch 32/40\n",
            "5/5 [==============================] - 0s 8ms/step - loss: 0.6302 - accuracy: 0.6462 - val_loss: 0.6441 - val_accuracy: 0.6296\n",
            "Epoch 33/40\n",
            "5/5 [==============================] - 0s 8ms/step - loss: 0.6071 - accuracy: 0.6923 - val_loss: 0.6755 - val_accuracy: 0.6667\n",
            "Epoch 34/40\n",
            "5/5 [==============================] - 0s 9ms/step - loss: 0.6138 - accuracy: 0.6538 - val_loss: 0.6707 - val_accuracy: 0.6667\n",
            "Epoch 35/40\n",
            "5/5 [==============================] - 0s 9ms/step - loss: 0.6165 - accuracy: 0.6615 - val_loss: 0.6801 - val_accuracy: 0.6667\n",
            "Epoch 36/40\n",
            "5/5 [==============================] - 0s 8ms/step - loss: 0.6206 - accuracy: 0.6538 - val_loss: 0.6822 - val_accuracy: 0.6667\n",
            "Epoch 37/40\n",
            "5/5 [==============================] - 0s 9ms/step - loss: 0.6270 - accuracy: 0.6615 - val_loss: 0.7151 - val_accuracy: 0.6667\n",
            "Epoch 38/40\n",
            "5/5 [==============================] - 0s 8ms/step - loss: 0.6246 - accuracy: 0.6615 - val_loss: 0.6999 - val_accuracy: 0.6296\n",
            "Epoch 39/40\n",
            "5/5 [==============================] - 0s 9ms/step - loss: 0.6139 - accuracy: 0.6846 - val_loss: 0.6869 - val_accuracy: 0.6667\n",
            "Epoch 40/40\n",
            "5/5 [==============================] - 0s 8ms/step - loss: 0.6093 - accuracy: 0.6692 - val_loss: 0.6656 - val_accuracy: 0.6667\n"
          ]
        }
      ]
    },
    {
      "cell_type": "code",
      "source": [
        "model2.evaluate(X_test_scaled, y_test)"
      ],
      "metadata": {
        "colab": {
          "base_uri": "https://localhost:8080/"
        },
        "id": "Npvp-cKs7lwK",
        "outputId": "4c526444-a5f1-4700-d4ee-444cfe74e6fe"
      },
      "execution_count": 109,
      "outputs": [
        {
          "output_type": "stream",
          "name": "stdout",
          "text": [
            "1/1 [==============================] - 0s 24ms/step - loss: 0.5949 - accuracy: 0.6522\n"
          ]
        },
        {
          "output_type": "execute_result",
          "data": {
            "text/plain": [
              "[0.5948721170425415, 0.6521739363670349]"
            ]
          },
          "metadata": {},
          "execution_count": 109
        }
      ]
    },
    {
      "cell_type": "code",
      "source": [
        "model2 = tf.keras.models.load_model(f\"/content/model_experiments/{model2.name}\")\n",
        "model2.evaluate(X_test_scaled, y_test)"
      ],
      "metadata": {
        "id": "LpO3HR26qyu3",
        "outputId": "018d35c9-bb61-47de-e1fa-237f0e36952a",
        "colab": {
          "base_uri": "https://localhost:8080/"
        }
      },
      "execution_count": 110,
      "outputs": [
        {
          "output_type": "stream",
          "name": "stdout",
          "text": [
            "1/1 [==============================] - 0s 134ms/step - loss: 0.6039 - accuracy: 0.6957\n"
          ]
        },
        {
          "output_type": "execute_result",
          "data": {
            "text/plain": [
              "[0.6039373278617859, 0.695652186870575]"
            ]
          },
          "metadata": {},
          "execution_count": 110
        }
      ]
    },
    {
      "cell_type": "code",
      "source": [
        "tf.random.set_seed(42)\n",
        "\n",
        "model3 = tf.keras.Sequential([\n",
        "    tf.keras.layers.Dense(5, activation='relu'),\n",
        "    tf.keras.layers.Dense(21, activation='relu'),\n",
        "    tf.keras.layers.Dense(21, activation='relu'),\n",
        "\n",
        "    # tf.keras.layers.Dense(20, activation='relu'),\n",
        "    # tf.keras.layers.Dense(10, activation='relu'),\n",
        "\n",
        "    # tf.keras.layers.Dense(256, activation='relu'),\n",
        "    tf.keras.layers.Dense(1, activation='sigmoid')\n",
        "])\n",
        "\n",
        "model3.compile(\n",
        "    loss=tf.keras.losses.binary_crossentropy,\n",
        "    optimizer=tf.keras.optimizers.Adam(0.03),\n",
        "    metrics=[\"accuracy\"]\n",
        ")\n",
        "\n",
        "\n",
        "history3 = model3.fit(X_train_scaled, \n",
        "                    y_train, \n",
        "                    epochs=40,\n",
        "                    validation_data = (X_valid_scaled, y_valid),\n",
        "                    callbacks=[create_model_checkpoint(model_name=model3.name)])"
      ],
      "metadata": {
        "id": "2tsjSDV7eP3u",
        "outputId": "40a90541-5782-4b85-996f-188809f69444",
        "colab": {
          "base_uri": "https://localhost:8080/"
        }
      },
      "execution_count": 111,
      "outputs": [
        {
          "output_type": "stream",
          "name": "stdout",
          "text": [
            "Epoch 1/40\n",
            "5/5 [==============================] - 1s 207ms/step - loss: 0.6685 - accuracy: 0.5769 - val_loss: 0.6878 - val_accuracy: 0.5185\n",
            "Epoch 2/40\n",
            "5/5 [==============================] - 0s 8ms/step - loss: 0.6527 - accuracy: 0.6154 - val_loss: 0.6750 - val_accuracy: 0.5185\n",
            "Epoch 3/40\n",
            "5/5 [==============================] - 0s 9ms/step - loss: 0.6613 - accuracy: 0.6154 - val_loss: 0.6679 - val_accuracy: 0.5185\n",
            "Epoch 4/40\n",
            "5/5 [==============================] - 0s 9ms/step - loss: 0.6416 - accuracy: 0.6154 - val_loss: 0.6889 - val_accuracy: 0.5185\n",
            "Epoch 5/40\n",
            "5/5 [==============================] - 0s 8ms/step - loss: 0.6527 - accuracy: 0.6154 - val_loss: 0.6924 - val_accuracy: 0.5185\n",
            "Epoch 6/40\n",
            "5/5 [==============================] - 0s 8ms/step - loss: 0.6407 - accuracy: 0.6154 - val_loss: 0.6582 - val_accuracy: 0.5185\n",
            "Epoch 7/40\n",
            "5/5 [==============================] - 0s 10ms/step - loss: 0.6414 - accuracy: 0.6154 - val_loss: 0.6616 - val_accuracy: 0.5185\n",
            "Epoch 8/40\n",
            "5/5 [==============================] - 0s 9ms/step - loss: 0.6422 - accuracy: 0.6154 - val_loss: 0.6735 - val_accuracy: 0.5185\n",
            "Epoch 9/40\n",
            "5/5 [==============================] - 0s 9ms/step - loss: 0.6349 - accuracy: 0.6154 - val_loss: 0.6501 - val_accuracy: 0.5185\n",
            "Epoch 10/40\n",
            "5/5 [==============================] - 0s 8ms/step - loss: 0.6377 - accuracy: 0.6154 - val_loss: 0.6574 - val_accuracy: 0.5185\n",
            "Epoch 11/40\n",
            "5/5 [==============================] - 1s 246ms/step - loss: 0.6253 - accuracy: 0.6308 - val_loss: 0.6639 - val_accuracy: 0.7037\n",
            "Epoch 12/40\n",
            "5/5 [==============================] - 0s 8ms/step - loss: 0.6259 - accuracy: 0.6538 - val_loss: 0.6467 - val_accuracy: 0.7037\n",
            "Epoch 13/40\n",
            "5/5 [==============================] - 0s 11ms/step - loss: 0.6276 - accuracy: 0.6615 - val_loss: 0.6370 - val_accuracy: 0.6296\n",
            "Epoch 14/40\n",
            "5/5 [==============================] - 0s 9ms/step - loss: 0.6206 - accuracy: 0.6615 - val_loss: 0.6321 - val_accuracy: 0.6296\n",
            "Epoch 15/40\n",
            "5/5 [==============================] - 0s 11ms/step - loss: 0.6264 - accuracy: 0.6385 - val_loss: 0.6782 - val_accuracy: 0.7037\n",
            "Epoch 16/40\n",
            "5/5 [==============================] - 0s 8ms/step - loss: 0.6181 - accuracy: 0.6615 - val_loss: 0.6679 - val_accuracy: 0.5926\n",
            "Epoch 17/40\n",
            "5/5 [==============================] - 0s 9ms/step - loss: 0.6111 - accuracy: 0.6538 - val_loss: 0.7188 - val_accuracy: 0.7037\n",
            "Epoch 18/40\n",
            "5/5 [==============================] - 0s 8ms/step - loss: 0.6597 - accuracy: 0.6538 - val_loss: 0.7015 - val_accuracy: 0.7037\n",
            "Epoch 19/40\n",
            "5/5 [==============================] - 0s 9ms/step - loss: 0.6379 - accuracy: 0.6385 - val_loss: 0.6695 - val_accuracy: 0.6296\n",
            "Epoch 20/40\n",
            "5/5 [==============================] - 0s 8ms/step - loss: 0.6768 - accuracy: 0.5538 - val_loss: 0.6737 - val_accuracy: 0.6296\n",
            "Epoch 21/40\n",
            "5/5 [==============================] - 0s 9ms/step - loss: 0.6750 - accuracy: 0.5923 - val_loss: 0.6683 - val_accuracy: 0.6296\n",
            "Epoch 22/40\n",
            "5/5 [==============================] - 0s 8ms/step - loss: 0.6558 - accuracy: 0.6308 - val_loss: 0.6526 - val_accuracy: 0.6667\n",
            "Epoch 23/40\n",
            "5/5 [==============================] - 0s 8ms/step - loss: 0.6141 - accuracy: 0.6538 - val_loss: 0.6933 - val_accuracy: 0.6296\n",
            "Epoch 24/40\n",
            "5/5 [==============================] - 0s 8ms/step - loss: 0.6625 - accuracy: 0.6385 - val_loss: 0.7273 - val_accuracy: 0.5185\n",
            "Epoch 25/40\n",
            "5/5 [==============================] - 0s 8ms/step - loss: 0.6308 - accuracy: 0.6462 - val_loss: 0.6638 - val_accuracy: 0.6667\n",
            "Epoch 26/40\n",
            "5/5 [==============================] - 0s 8ms/step - loss: 0.6279 - accuracy: 0.6769 - val_loss: 0.6592 - val_accuracy: 0.6667\n",
            "Epoch 27/40\n",
            "5/5 [==============================] - 0s 8ms/step - loss: 0.6332 - accuracy: 0.6692 - val_loss: 0.6625 - val_accuracy: 0.6667\n",
            "Epoch 28/40\n",
            "5/5 [==============================] - 0s 13ms/step - loss: 0.6218 - accuracy: 0.6615 - val_loss: 0.7183 - val_accuracy: 0.6667\n",
            "Epoch 29/40\n",
            "5/5 [==============================] - 0s 9ms/step - loss: 0.6268 - accuracy: 0.6538 - val_loss: 0.7600 - val_accuracy: 0.6667\n",
            "Epoch 30/40\n",
            "5/5 [==============================] - 0s 9ms/step - loss: 0.6383 - accuracy: 0.6615 - val_loss: 0.6782 - val_accuracy: 0.6667\n",
            "Epoch 31/40\n",
            "5/5 [==============================] - 0s 13ms/step - loss: 0.6106 - accuracy: 0.6615 - val_loss: 0.6467 - val_accuracy: 0.6667\n",
            "Epoch 32/40\n",
            "5/5 [==============================] - 0s 8ms/step - loss: 0.6411 - accuracy: 0.6231 - val_loss: 0.6450 - val_accuracy: 0.6667\n",
            "Epoch 33/40\n",
            "5/5 [==============================] - 0s 10ms/step - loss: 0.6325 - accuracy: 0.6308 - val_loss: 0.6386 - val_accuracy: 0.7037\n",
            "Epoch 34/40\n",
            "5/5 [==============================] - 0s 9ms/step - loss: 0.6259 - accuracy: 0.6308 - val_loss: 0.6498 - val_accuracy: 0.6667\n",
            "Epoch 35/40\n",
            "5/5 [==============================] - 0s 8ms/step - loss: 0.6404 - accuracy: 0.6462 - val_loss: 0.6813 - val_accuracy: 0.6667\n",
            "Epoch 36/40\n",
            "5/5 [==============================] - 0s 8ms/step - loss: 0.6553 - accuracy: 0.6538 - val_loss: 0.6660 - val_accuracy: 0.6296\n",
            "Epoch 37/40\n",
            "5/5 [==============================] - 0s 9ms/step - loss: 0.6284 - accuracy: 0.6462 - val_loss: 0.6717 - val_accuracy: 0.5926\n",
            "Epoch 38/40\n",
            "5/5 [==============================] - 0s 13ms/step - loss: 0.6173 - accuracy: 0.6538 - val_loss: 0.6896 - val_accuracy: 0.6667\n",
            "Epoch 39/40\n",
            "5/5 [==============================] - 0s 9ms/step - loss: 0.6198 - accuracy: 0.6385 - val_loss: 0.7112 - val_accuracy: 0.6667\n",
            "Epoch 40/40\n",
            "5/5 [==============================] - 0s 13ms/step - loss: 0.6187 - accuracy: 0.6538 - val_loss: 0.6883 - val_accuracy: 0.6296\n"
          ]
        }
      ]
    },
    {
      "cell_type": "code",
      "source": [
        "model3.evaluate(X_test_scaled, y_test)"
      ],
      "metadata": {
        "colab": {
          "base_uri": "https://localhost:8080/"
        },
        "id": "_NDBuLs_7nCE",
        "outputId": "aa4cc32b-086a-423b-de20-0cb42d20f3df"
      },
      "execution_count": 112,
      "outputs": [
        {
          "output_type": "stream",
          "name": "stdout",
          "text": [
            "1/1 [==============================] - 0s 21ms/step - loss: 0.6102 - accuracy: 0.6957\n"
          ]
        },
        {
          "output_type": "execute_result",
          "data": {
            "text/plain": [
              "[0.6101651787757874, 0.695652186870575]"
            ]
          },
          "metadata": {},
          "execution_count": 112
        }
      ]
    },
    {
      "cell_type": "code",
      "source": [
        "model3 = tf.keras.models.load_model(f\"/content/model_experiments/{model3.name}\")\n",
        "model3.evaluate(X_test_scaled, y_test)"
      ],
      "metadata": {
        "id": "p6e78-hkq0FB",
        "outputId": "86e90731-60e0-42af-fa40-c4d776f6e72c",
        "colab": {
          "base_uri": "https://localhost:8080/"
        }
      },
      "execution_count": 113,
      "outputs": [
        {
          "output_type": "stream",
          "name": "stdout",
          "text": [
            "1/1 [==============================] - 0s 118ms/step - loss: 0.6317 - accuracy: 0.7391\n"
          ]
        },
        {
          "output_type": "execute_result",
          "data": {
            "text/plain": [
              "[0.6317034363746643, 0.739130437374115]"
            ]
          },
          "metadata": {},
          "execution_count": 113
        }
      ]
    },
    {
      "cell_type": "code",
      "source": [
        "tf.random.set_seed(42)\n",
        "\n",
        "model4 = tf.keras.Sequential([\n",
        "    tf.keras.layers.Dense(5, activation='relu'),\n",
        "    tf.keras.layers.Dense(4, activation='relu'),\n",
        "    tf.keras.layers.Dense(4, activation='relu'),\n",
        "\n",
        "    # tf.keras.layers.Dense(20, activation='relu'),\n",
        "    # tf.keras.layers.Dense(10, activation='relu'),\n",
        "\n",
        "    # tf.keras.layers.Dense(256, activation='relu'),\n",
        "    tf.keras.layers.Dense(1, activation='sigmoid')\n",
        "])\n",
        "\n",
        "model4.compile(\n",
        "    loss=tf.keras.losses.binary_crossentropy,\n",
        "    optimizer=tf.keras.optimizers.Adam(0.01),\n",
        "    metrics=[\"accuracy\"]\n",
        ")\n",
        "\n",
        "\n",
        "history4 = model4.fit(X_train_scaled, \n",
        "                    y_train, \n",
        "                    epochs=100,\n",
        "                    validation_data = (X_valid_scaled, y_valid),\n",
        "                    callbacks=[create_model_checkpoint(model_name=model4.name)])"
      ],
      "metadata": {
        "id": "6x7NFRwFeVwx",
        "outputId": "c398b0cb-2a06-4347-dd87-cc8329ee3018",
        "colab": {
          "base_uri": "https://localhost:8080/"
        }
      },
      "execution_count": 114,
      "outputs": [
        {
          "output_type": "stream",
          "name": "stdout",
          "text": [
            "Epoch 1/100\n",
            "5/5 [==============================] - 1s 212ms/step - loss: 0.6912 - accuracy: 0.5538 - val_loss: 0.6896 - val_accuracy: 0.5185\n",
            "Epoch 2/100\n",
            "5/5 [==============================] - 0s 7ms/step - loss: 0.6878 - accuracy: 0.6154 - val_loss: 0.6902 - val_accuracy: 0.5185\n",
            "Epoch 3/100\n",
            "5/5 [==============================] - 0s 8ms/step - loss: 0.6859 - accuracy: 0.6154 - val_loss: 0.6879 - val_accuracy: 0.5185\n",
            "Epoch 4/100\n",
            "5/5 [==============================] - 0s 8ms/step - loss: 0.6800 - accuracy: 0.6154 - val_loss: 0.6877 - val_accuracy: 0.5185\n",
            "Epoch 5/100\n",
            "5/5 [==============================] - 0s 8ms/step - loss: 0.6680 - accuracy: 0.6154 - val_loss: 0.6908 - val_accuracy: 0.5185\n",
            "Epoch 6/100\n",
            "5/5 [==============================] - 0s 8ms/step - loss: 0.6578 - accuracy: 0.6154 - val_loss: 0.6958 - val_accuracy: 0.5185\n",
            "Epoch 7/100\n",
            "5/5 [==============================] - 0s 9ms/step - loss: 0.6598 - accuracy: 0.6154 - val_loss: 0.7125 - val_accuracy: 0.5185\n",
            "Epoch 8/100\n",
            "5/5 [==============================] - 0s 8ms/step - loss: 0.6590 - accuracy: 0.6154 - val_loss: 0.7242 - val_accuracy: 0.5185\n",
            "Epoch 9/100\n",
            "5/5 [==============================] - 0s 8ms/step - loss: 0.6572 - accuracy: 0.6154 - val_loss: 0.7073 - val_accuracy: 0.5185\n",
            "Epoch 10/100\n",
            "5/5 [==============================] - 0s 8ms/step - loss: 0.6509 - accuracy: 0.6154 - val_loss: 0.6920 - val_accuracy: 0.5185\n",
            "Epoch 11/100\n",
            "5/5 [==============================] - 0s 8ms/step - loss: 0.6492 - accuracy: 0.6154 - val_loss: 0.6821 - val_accuracy: 0.5185\n",
            "Epoch 12/100\n",
            "5/5 [==============================] - 0s 9ms/step - loss: 0.6492 - accuracy: 0.6154 - val_loss: 0.6744 - val_accuracy: 0.5185\n",
            "Epoch 13/100\n",
            "5/5 [==============================] - 0s 8ms/step - loss: 0.6493 - accuracy: 0.6154 - val_loss: 0.6712 - val_accuracy: 0.5185\n",
            "Epoch 14/100\n",
            "5/5 [==============================] - 0s 10ms/step - loss: 0.6494 - accuracy: 0.6154 - val_loss: 0.6693 - val_accuracy: 0.5185\n",
            "Epoch 15/100\n",
            "5/5 [==============================] - 0s 9ms/step - loss: 0.6483 - accuracy: 0.6154 - val_loss: 0.6673 - val_accuracy: 0.5185\n",
            "Epoch 16/100\n",
            "5/5 [==============================] - 0s 10ms/step - loss: 0.6429 - accuracy: 0.6154 - val_loss: 0.6661 - val_accuracy: 0.5185\n",
            "Epoch 17/100\n",
            "5/5 [==============================] - 0s 8ms/step - loss: 0.6383 - accuracy: 0.6154 - val_loss: 0.6676 - val_accuracy: 0.5185\n",
            "Epoch 18/100\n",
            "5/5 [==============================] - 0s 8ms/step - loss: 0.6378 - accuracy: 0.6154 - val_loss: 0.6755 - val_accuracy: 0.5185\n",
            "Epoch 19/100\n",
            "5/5 [==============================] - 0s 9ms/step - loss: 0.6360 - accuracy: 0.6154 - val_loss: 0.6696 - val_accuracy: 0.5185\n",
            "Epoch 20/100\n",
            "5/5 [==============================] - 0s 8ms/step - loss: 0.6333 - accuracy: 0.6154 - val_loss: 0.6678 - val_accuracy: 0.5185\n",
            "Epoch 21/100\n",
            "5/5 [==============================] - 0s 8ms/step - loss: 0.6306 - accuracy: 0.6154 - val_loss: 0.6604 - val_accuracy: 0.5185\n",
            "Epoch 22/100\n",
            "5/5 [==============================] - 0s 9ms/step - loss: 0.6335 - accuracy: 0.6154 - val_loss: 0.6580 - val_accuracy: 0.5185\n",
            "Epoch 23/100\n",
            "5/5 [==============================] - 0s 8ms/step - loss: 0.6334 - accuracy: 0.6154 - val_loss: 0.6571 - val_accuracy: 0.5185\n",
            "Epoch 24/100\n",
            "5/5 [==============================] - 0s 9ms/step - loss: 0.6318 - accuracy: 0.6154 - val_loss: 0.6595 - val_accuracy: 0.5185\n",
            "Epoch 25/100\n",
            "5/5 [==============================] - 0s 8ms/step - loss: 0.6275 - accuracy: 0.6154 - val_loss: 0.6610 - val_accuracy: 0.5185\n",
            "Epoch 26/100\n",
            "5/5 [==============================] - 0s 11ms/step - loss: 0.6269 - accuracy: 0.6154 - val_loss: 0.6606 - val_accuracy: 0.5185\n",
            "Epoch 27/100\n",
            "5/5 [==============================] - 0s 9ms/step - loss: 0.6255 - accuracy: 0.6154 - val_loss: 0.6637 - val_accuracy: 0.5185\n",
            "Epoch 28/100\n",
            "5/5 [==============================] - 0s 7ms/step - loss: 0.6266 - accuracy: 0.6154 - val_loss: 0.6723 - val_accuracy: 0.5185\n",
            "Epoch 29/100\n",
            "5/5 [==============================] - 0s 9ms/step - loss: 0.6272 - accuracy: 0.6154 - val_loss: 0.6816 - val_accuracy: 0.5185\n",
            "Epoch 30/100\n",
            "5/5 [==============================] - 1s 174ms/step - loss: 0.6325 - accuracy: 0.6154 - val_loss: 0.6806 - val_accuracy: 0.6296\n",
            "Epoch 31/100\n",
            "5/5 [==============================] - 1s 171ms/step - loss: 0.6280 - accuracy: 0.6462 - val_loss: 0.6602 - val_accuracy: 0.6667\n",
            "Epoch 32/100\n",
            "5/5 [==============================] - 0s 10ms/step - loss: 0.6211 - accuracy: 0.6615 - val_loss: 0.6543 - val_accuracy: 0.6667\n",
            "Epoch 33/100\n",
            "5/5 [==============================] - 0s 8ms/step - loss: 0.6205 - accuracy: 0.6692 - val_loss: 0.6555 - val_accuracy: 0.6667\n",
            "Epoch 34/100\n",
            "5/5 [==============================] - 0s 8ms/step - loss: 0.6200 - accuracy: 0.6615 - val_loss: 0.6538 - val_accuracy: 0.6667\n",
            "Epoch 35/100\n",
            "5/5 [==============================] - 0s 7ms/step - loss: 0.6193 - accuracy: 0.6692 - val_loss: 0.6604 - val_accuracy: 0.6667\n",
            "Epoch 36/100\n",
            "5/5 [==============================] - 0s 8ms/step - loss: 0.6212 - accuracy: 0.6615 - val_loss: 0.6700 - val_accuracy: 0.6667\n",
            "Epoch 37/100\n",
            "5/5 [==============================] - 0s 8ms/step - loss: 0.6294 - accuracy: 0.6615 - val_loss: 0.6852 - val_accuracy: 0.6667\n",
            "Epoch 38/100\n",
            "5/5 [==============================] - 0s 8ms/step - loss: 0.6283 - accuracy: 0.6692 - val_loss: 0.6911 - val_accuracy: 0.6667\n",
            "Epoch 39/100\n",
            "5/5 [==============================] - 0s 15ms/step - loss: 0.6311 - accuracy: 0.6615 - val_loss: 0.6947 - val_accuracy: 0.6667\n",
            "Epoch 40/100\n",
            "5/5 [==============================] - 0s 8ms/step - loss: 0.6304 - accuracy: 0.6538 - val_loss: 0.6852 - val_accuracy: 0.6667\n",
            "Epoch 41/100\n",
            "5/5 [==============================] - 0s 9ms/step - loss: 0.6238 - accuracy: 0.6769 - val_loss: 0.6637 - val_accuracy: 0.6667\n",
            "Epoch 42/100\n",
            "5/5 [==============================] - 0s 8ms/step - loss: 0.6208 - accuracy: 0.6846 - val_loss: 0.6597 - val_accuracy: 0.6667\n",
            "Epoch 43/100\n",
            "5/5 [==============================] - 0s 8ms/step - loss: 0.6233 - accuracy: 0.6769 - val_loss: 0.6591 - val_accuracy: 0.6667\n",
            "Epoch 44/100\n",
            "5/5 [==============================] - 0s 8ms/step - loss: 0.6192 - accuracy: 0.6769 - val_loss: 0.6582 - val_accuracy: 0.6667\n",
            "Epoch 45/100\n",
            "5/5 [==============================] - 0s 8ms/step - loss: 0.6153 - accuracy: 0.6769 - val_loss: 0.6608 - val_accuracy: 0.6667\n",
            "Epoch 46/100\n",
            "5/5 [==============================] - 0s 8ms/step - loss: 0.6146 - accuracy: 0.6769 - val_loss: 0.6640 - val_accuracy: 0.6667\n",
            "Epoch 47/100\n",
            "5/5 [==============================] - 0s 8ms/step - loss: 0.6158 - accuracy: 0.6769 - val_loss: 0.6713 - val_accuracy: 0.6667\n",
            "Epoch 48/100\n",
            "5/5 [==============================] - 0s 8ms/step - loss: 0.6140 - accuracy: 0.6692 - val_loss: 0.6792 - val_accuracy: 0.6296\n",
            "Epoch 49/100\n",
            "5/5 [==============================] - 0s 9ms/step - loss: 0.6141 - accuracy: 0.6769 - val_loss: 0.6679 - val_accuracy: 0.6667\n",
            "Epoch 50/100\n",
            "5/5 [==============================] - 0s 8ms/step - loss: 0.6149 - accuracy: 0.6846 - val_loss: 0.6620 - val_accuracy: 0.6667\n",
            "Epoch 51/100\n",
            "5/5 [==============================] - 0s 8ms/step - loss: 0.6258 - accuracy: 0.6615 - val_loss: 0.6650 - val_accuracy: 0.6296\n",
            "Epoch 52/100\n",
            "5/5 [==============================] - 0s 7ms/step - loss: 0.6363 - accuracy: 0.6538 - val_loss: 0.6660 - val_accuracy: 0.6667\n",
            "Epoch 53/100\n",
            "5/5 [==============================] - 0s 8ms/step - loss: 0.6306 - accuracy: 0.6615 - val_loss: 0.6638 - val_accuracy: 0.6667\n",
            "Epoch 54/100\n",
            "5/5 [==============================] - 0s 11ms/step - loss: 0.6230 - accuracy: 0.6846 - val_loss: 0.6681 - val_accuracy: 0.6667\n",
            "Epoch 55/100\n",
            "5/5 [==============================] - 0s 8ms/step - loss: 0.6168 - accuracy: 0.6769 - val_loss: 0.6775 - val_accuracy: 0.6296\n",
            "Epoch 56/100\n",
            "5/5 [==============================] - 0s 8ms/step - loss: 0.6153 - accuracy: 0.6769 - val_loss: 0.6808 - val_accuracy: 0.6296\n",
            "Epoch 57/100\n",
            "5/5 [==============================] - 0s 8ms/step - loss: 0.6164 - accuracy: 0.6769 - val_loss: 0.6819 - val_accuracy: 0.6296\n",
            "Epoch 58/100\n",
            "5/5 [==============================] - 0s 8ms/step - loss: 0.6120 - accuracy: 0.6769 - val_loss: 0.6647 - val_accuracy: 0.6667\n",
            "Epoch 59/100\n",
            "5/5 [==============================] - 0s 8ms/step - loss: 0.6144 - accuracy: 0.6692 - val_loss: 0.6562 - val_accuracy: 0.6667\n",
            "Epoch 60/100\n",
            "5/5 [==============================] - 0s 8ms/step - loss: 0.6164 - accuracy: 0.6692 - val_loss: 0.6552 - val_accuracy: 0.6667\n",
            "Epoch 61/100\n",
            "5/5 [==============================] - 0s 9ms/step - loss: 0.6170 - accuracy: 0.6615 - val_loss: 0.6510 - val_accuracy: 0.6667\n",
            "Epoch 62/100\n",
            "5/5 [==============================] - 0s 8ms/step - loss: 0.6166 - accuracy: 0.6846 - val_loss: 0.6468 - val_accuracy: 0.6667\n",
            "Epoch 63/100\n",
            "5/5 [==============================] - 0s 10ms/step - loss: 0.6241 - accuracy: 0.6692 - val_loss: 0.6509 - val_accuracy: 0.6296\n",
            "Epoch 64/100\n",
            "5/5 [==============================] - 0s 9ms/step - loss: 0.6328 - accuracy: 0.6615 - val_loss: 0.6535 - val_accuracy: 0.6296\n",
            "Epoch 65/100\n",
            "5/5 [==============================] - 0s 9ms/step - loss: 0.6304 - accuracy: 0.6615 - val_loss: 0.6523 - val_accuracy: 0.6667\n",
            "Epoch 66/100\n",
            "5/5 [==============================] - 0s 9ms/step - loss: 0.6249 - accuracy: 0.6692 - val_loss: 0.6516 - val_accuracy: 0.6667\n",
            "Epoch 67/100\n",
            "5/5 [==============================] - 0s 8ms/step - loss: 0.6191 - accuracy: 0.6692 - val_loss: 0.6543 - val_accuracy: 0.6667\n",
            "Epoch 68/100\n",
            "5/5 [==============================] - 0s 9ms/step - loss: 0.6148 - accuracy: 0.6846 - val_loss: 0.6615 - val_accuracy: 0.6667\n",
            "Epoch 69/100\n",
            "5/5 [==============================] - 0s 8ms/step - loss: 0.6115 - accuracy: 0.6692 - val_loss: 0.6706 - val_accuracy: 0.6296\n",
            "Epoch 70/100\n",
            "5/5 [==============================] - 0s 8ms/step - loss: 0.6132 - accuracy: 0.6692 - val_loss: 0.6734 - val_accuracy: 0.6296\n",
            "Epoch 71/100\n",
            "5/5 [==============================] - 0s 8ms/step - loss: 0.6119 - accuracy: 0.6692 - val_loss: 0.6678 - val_accuracy: 0.6667\n",
            "Epoch 72/100\n",
            "5/5 [==============================] - 0s 9ms/step - loss: 0.6115 - accuracy: 0.6769 - val_loss: 0.6664 - val_accuracy: 0.6667\n",
            "Epoch 73/100\n",
            "5/5 [==============================] - 0s 9ms/step - loss: 0.6119 - accuracy: 0.6692 - val_loss: 0.6730 - val_accuracy: 0.6296\n",
            "Epoch 74/100\n",
            "5/5 [==============================] - 0s 8ms/step - loss: 0.6132 - accuracy: 0.6692 - val_loss: 0.6741 - val_accuracy: 0.6296\n",
            "Epoch 75/100\n",
            "5/5 [==============================] - 0s 9ms/step - loss: 0.6105 - accuracy: 0.6769 - val_loss: 0.6648 - val_accuracy: 0.6667\n",
            "Epoch 76/100\n",
            "5/5 [==============================] - 0s 10ms/step - loss: 0.6071 - accuracy: 0.6769 - val_loss: 0.6599 - val_accuracy: 0.6667\n",
            "Epoch 77/100\n",
            "5/5 [==============================] - 0s 8ms/step - loss: 0.6164 - accuracy: 0.6846 - val_loss: 0.6567 - val_accuracy: 0.6667\n",
            "Epoch 78/100\n",
            "5/5 [==============================] - 0s 8ms/step - loss: 0.6166 - accuracy: 0.6846 - val_loss: 0.6578 - val_accuracy: 0.6667\n",
            "Epoch 79/100\n",
            "5/5 [==============================] - 0s 9ms/step - loss: 0.6130 - accuracy: 0.6769 - val_loss: 0.6611 - val_accuracy: 0.6667\n",
            "Epoch 80/100\n",
            "5/5 [==============================] - 0s 11ms/step - loss: 0.6083 - accuracy: 0.6846 - val_loss: 0.6704 - val_accuracy: 0.6296\n",
            "Epoch 81/100\n",
            "5/5 [==============================] - 0s 7ms/step - loss: 0.6077 - accuracy: 0.6769 - val_loss: 0.6769 - val_accuracy: 0.6296\n",
            "Epoch 82/100\n",
            "5/5 [==============================] - 0s 8ms/step - loss: 0.6101 - accuracy: 0.6538 - val_loss: 0.6917 - val_accuracy: 0.6296\n",
            "Epoch 83/100\n",
            "5/5 [==============================] - 0s 9ms/step - loss: 0.6119 - accuracy: 0.6692 - val_loss: 0.6962 - val_accuracy: 0.6296\n",
            "Epoch 84/100\n",
            "5/5 [==============================] - 0s 9ms/step - loss: 0.6124 - accuracy: 0.6769 - val_loss: 0.6919 - val_accuracy: 0.6296\n",
            "Epoch 85/100\n",
            "5/5 [==============================] - 0s 9ms/step - loss: 0.6084 - accuracy: 0.6615 - val_loss: 0.6834 - val_accuracy: 0.6296\n",
            "Epoch 86/100\n",
            "5/5 [==============================] - 0s 8ms/step - loss: 0.6091 - accuracy: 0.6692 - val_loss: 0.6766 - val_accuracy: 0.6296\n",
            "Epoch 87/100\n",
            "5/5 [==============================] - 0s 8ms/step - loss: 0.6051 - accuracy: 0.6692 - val_loss: 0.6809 - val_accuracy: 0.6296\n",
            "Epoch 88/100\n",
            "5/5 [==============================] - 0s 8ms/step - loss: 0.6078 - accuracy: 0.6692 - val_loss: 0.6866 - val_accuracy: 0.6296\n",
            "Epoch 89/100\n",
            "5/5 [==============================] - 0s 8ms/step - loss: 0.6074 - accuracy: 0.6692 - val_loss: 0.6898 - val_accuracy: 0.6296\n",
            "Epoch 90/100\n",
            "5/5 [==============================] - 0s 13ms/step - loss: 0.6122 - accuracy: 0.6769 - val_loss: 0.6958 - val_accuracy: 0.6296\n",
            "Epoch 91/100\n",
            "5/5 [==============================] - 0s 8ms/step - loss: 0.6074 - accuracy: 0.6846 - val_loss: 0.6779 - val_accuracy: 0.6296\n",
            "Epoch 92/100\n",
            "5/5 [==============================] - 0s 8ms/step - loss: 0.6038 - accuracy: 0.6769 - val_loss: 0.6726 - val_accuracy: 0.6667\n",
            "Epoch 93/100\n",
            "5/5 [==============================] - 0s 8ms/step - loss: 0.6018 - accuracy: 0.6769 - val_loss: 0.6670 - val_accuracy: 0.6667\n",
            "Epoch 94/100\n",
            "5/5 [==============================] - 0s 8ms/step - loss: 0.6021 - accuracy: 0.6769 - val_loss: 0.6678 - val_accuracy: 0.6667\n",
            "Epoch 95/100\n",
            "5/5 [==============================] - 0s 10ms/step - loss: 0.6020 - accuracy: 0.6769 - val_loss: 0.6659 - val_accuracy: 0.6667\n",
            "Epoch 96/100\n",
            "5/5 [==============================] - 0s 8ms/step - loss: 0.6031 - accuracy: 0.6692 - val_loss: 0.6648 - val_accuracy: 0.6667\n",
            "Epoch 97/100\n",
            "5/5 [==============================] - 0s 13ms/step - loss: 0.6030 - accuracy: 0.6769 - val_loss: 0.6614 - val_accuracy: 0.6667\n",
            "Epoch 98/100\n",
            "5/5 [==============================] - 0s 8ms/step - loss: 0.6042 - accuracy: 0.6692 - val_loss: 0.6619 - val_accuracy: 0.6667\n",
            "Epoch 99/100\n",
            "5/5 [==============================] - 0s 8ms/step - loss: 0.6022 - accuracy: 0.6692 - val_loss: 0.6579 - val_accuracy: 0.6667\n",
            "Epoch 100/100\n",
            "5/5 [==============================] - 0s 8ms/step - loss: 0.6022 - accuracy: 0.6692 - val_loss: 0.6566 - val_accuracy: 0.6667\n"
          ]
        }
      ]
    },
    {
      "cell_type": "code",
      "source": [
        "model4.evaluate(X_test_scaled, y_test)"
      ],
      "metadata": {
        "colab": {
          "base_uri": "https://localhost:8080/"
        },
        "id": "x_-4IBuJ7o6-",
        "outputId": "50b5c4a3-a1b1-4a1c-96b0-a2ff6d596f01"
      },
      "execution_count": 115,
      "outputs": [
        {
          "output_type": "stream",
          "name": "stdout",
          "text": [
            "1/1 [==============================] - 0s 19ms/step - loss: 0.5838 - accuracy: 0.6957\n"
          ]
        },
        {
          "output_type": "execute_result",
          "data": {
            "text/plain": [
              "[0.5838184356689453, 0.695652186870575]"
            ]
          },
          "metadata": {},
          "execution_count": 115
        }
      ]
    },
    {
      "cell_type": "code",
      "source": [
        "model4 = tf.keras.models.load_model(f\"/content/model_experiments/{model4.name}\")\n",
        "model4.evaluate(X_test_scaled, y_test)"
      ],
      "metadata": {
        "id": "CKJfsbhUq01R",
        "outputId": "bc630cd0-db0c-4622-a1d9-9b9a31d724bd",
        "colab": {
          "base_uri": "https://localhost:8080/"
        }
      },
      "execution_count": 116,
      "outputs": [
        {
          "output_type": "stream",
          "name": "stdout",
          "text": [
            "1/1 [==============================] - 0s 147ms/step - loss: 0.6290 - accuracy: 0.6957\n"
          ]
        },
        {
          "output_type": "execute_result",
          "data": {
            "text/plain": [
              "[0.628968358039856, 0.695652186870575]"
            ]
          },
          "metadata": {},
          "execution_count": 116
        }
      ]
    },
    {
      "cell_type": "code",
      "source": [
        "tf.random.set_seed(42)\n",
        "\n",
        "model5 = tf.keras.Sequential([\n",
        "    tf.keras.layers.Dense(5, activation='relu'),\n",
        "    tf.keras.layers.Dense(10, activation='relu'),\n",
        "    tf.keras.layers.Dense(10, activation='relu'),\n",
        "\n",
        "    # tf.keras.layers.Dense(20, activation='relu'),\n",
        "    # tf.keras.layers.Dense(10, activation='relu'),\n",
        "\n",
        "    # tf.keras.layers.Dense(256, activation='relu'),\n",
        "    tf.keras.layers.Dense(1, activation='sigmoid')\n",
        "])\n",
        "\n",
        "model5.compile(\n",
        "    loss=tf.keras.losses.binary_crossentropy,\n",
        "    optimizer=tf.keras.optimizers.Adam(0.01),\n",
        "    metrics=[\"accuracy\"]\n",
        ")\n",
        "\n",
        "\n",
        "history5 = model5.fit(X_train_scaled, \n",
        "                    y_train, \n",
        "                    epochs=100,\n",
        "                    validation_data = (X_valid_scaled, y_valid),\n",
        "                    callbacks=[create_model_checkpoint(model_name=model5.name)])"
      ],
      "metadata": {
        "id": "9uRfoFpYeXtB",
        "outputId": "dbc552e1-deac-4cf1-9e6d-96c226b8e556",
        "colab": {
          "base_uri": "https://localhost:8080/"
        }
      },
      "execution_count": 117,
      "outputs": [
        {
          "output_type": "stream",
          "name": "stdout",
          "text": [
            "Epoch 1/100\n",
            "5/5 [==============================] - 1s 208ms/step - loss: 0.6878 - accuracy: 0.5462 - val_loss: 0.6869 - val_accuracy: 0.5185\n",
            "Epoch 2/100\n",
            "5/5 [==============================] - 0s 12ms/step - loss: 0.6762 - accuracy: 0.6154 - val_loss: 0.6875 - val_accuracy: 0.5185\n",
            "Epoch 3/100\n",
            "5/5 [==============================] - 0s 8ms/step - loss: 0.6673 - accuracy: 0.6154 - val_loss: 0.6914 - val_accuracy: 0.5185\n",
            "Epoch 4/100\n",
            "5/5 [==============================] - 0s 8ms/step - loss: 0.6501 - accuracy: 0.6154 - val_loss: 0.7148 - val_accuracy: 0.5185\n",
            "Epoch 5/100\n",
            "5/5 [==============================] - 0s 7ms/step - loss: 0.6522 - accuracy: 0.6154 - val_loss: 0.7313 - val_accuracy: 0.5185\n",
            "Epoch 6/100\n",
            "5/5 [==============================] - 0s 8ms/step - loss: 0.6501 - accuracy: 0.6154 - val_loss: 0.7040 - val_accuracy: 0.5185\n",
            "Epoch 7/100\n",
            "5/5 [==============================] - 0s 8ms/step - loss: 0.6442 - accuracy: 0.6154 - val_loss: 0.7020 - val_accuracy: 0.5185\n",
            "Epoch 8/100\n",
            "5/5 [==============================] - 0s 8ms/step - loss: 0.6426 - accuracy: 0.6154 - val_loss: 0.6968 - val_accuracy: 0.5185\n",
            "Epoch 9/100\n",
            "5/5 [==============================] - 0s 10ms/step - loss: 0.6381 - accuracy: 0.6154 - val_loss: 0.6727 - val_accuracy: 0.5185\n",
            "Epoch 10/100\n",
            "5/5 [==============================] - 0s 8ms/step - loss: 0.6350 - accuracy: 0.6154 - val_loss: 0.6605 - val_accuracy: 0.5185\n",
            "Epoch 11/100\n",
            "5/5 [==============================] - 0s 8ms/step - loss: 0.6350 - accuracy: 0.6154 - val_loss: 0.6544 - val_accuracy: 0.5185\n",
            "Epoch 12/100\n",
            "5/5 [==============================] - 1s 175ms/step - loss: 0.6354 - accuracy: 0.6231 - val_loss: 0.6508 - val_accuracy: 0.6296\n",
            "Epoch 13/100\n",
            "5/5 [==============================] - 0s 8ms/step - loss: 0.6322 - accuracy: 0.6538 - val_loss: 0.6478 - val_accuracy: 0.6296\n",
            "Epoch 14/100\n",
            "5/5 [==============================] - 0s 8ms/step - loss: 0.6281 - accuracy: 0.6615 - val_loss: 0.6483 - val_accuracy: 0.6296\n",
            "Epoch 15/100\n",
            "5/5 [==============================] - 0s 9ms/step - loss: 0.6272 - accuracy: 0.6846 - val_loss: 0.6582 - val_accuracy: 0.5926\n",
            "Epoch 16/100\n",
            "5/5 [==============================] - 0s 8ms/step - loss: 0.6244 - accuracy: 0.6692 - val_loss: 0.6573 - val_accuracy: 0.6296\n",
            "Epoch 17/100\n",
            "5/5 [==============================] - 0s 8ms/step - loss: 0.6227 - accuracy: 0.6615 - val_loss: 0.6630 - val_accuracy: 0.6296\n",
            "Epoch 18/100\n",
            "5/5 [==============================] - 0s 8ms/step - loss: 0.6269 - accuracy: 0.6538 - val_loss: 0.6798 - val_accuracy: 0.6296\n",
            "Epoch 19/100\n",
            "5/5 [==============================] - 1s 178ms/step - loss: 0.6241 - accuracy: 0.6615 - val_loss: 0.6567 - val_accuracy: 0.6667\n",
            "Epoch 20/100\n",
            "5/5 [==============================] - 1s 258ms/step - loss: 0.6202 - accuracy: 0.6615 - val_loss: 0.6570 - val_accuracy: 0.7037\n",
            "Epoch 21/100\n",
            "5/5 [==============================] - 0s 9ms/step - loss: 0.6238 - accuracy: 0.6615 - val_loss: 0.6564 - val_accuracy: 0.7037\n",
            "Epoch 22/100\n",
            "5/5 [==============================] - 0s 8ms/step - loss: 0.6319 - accuracy: 0.6692 - val_loss: 0.6518 - val_accuracy: 0.7037\n",
            "Epoch 23/100\n",
            "5/5 [==============================] - 0s 10ms/step - loss: 0.6222 - accuracy: 0.6538 - val_loss: 0.6521 - val_accuracy: 0.6667\n",
            "Epoch 24/100\n",
            "5/5 [==============================] - 0s 9ms/step - loss: 0.6193 - accuracy: 0.6615 - val_loss: 0.6671 - val_accuracy: 0.6296\n",
            "Epoch 25/100\n",
            "5/5 [==============================] - 0s 8ms/step - loss: 0.6175 - accuracy: 0.6538 - val_loss: 0.6666 - val_accuracy: 0.6667\n",
            "Epoch 26/100\n",
            "5/5 [==============================] - 0s 8ms/step - loss: 0.6162 - accuracy: 0.6615 - val_loss: 0.6557 - val_accuracy: 0.6667\n",
            "Epoch 27/100\n",
            "5/5 [==============================] - 0s 8ms/step - loss: 0.6124 - accuracy: 0.6538 - val_loss: 0.6594 - val_accuracy: 0.6667\n",
            "Epoch 28/100\n",
            "5/5 [==============================] - 0s 10ms/step - loss: 0.6138 - accuracy: 0.6538 - val_loss: 0.6774 - val_accuracy: 0.6667\n",
            "Epoch 29/100\n",
            "5/5 [==============================] - 0s 9ms/step - loss: 0.6143 - accuracy: 0.6615 - val_loss: 0.6944 - val_accuracy: 0.6667\n",
            "Epoch 30/100\n",
            "5/5 [==============================] - 0s 9ms/step - loss: 0.6211 - accuracy: 0.6692 - val_loss: 0.6886 - val_accuracy: 0.6667\n",
            "Epoch 31/100\n",
            "5/5 [==============================] - 0s 9ms/step - loss: 0.6118 - accuracy: 0.6846 - val_loss: 0.6547 - val_accuracy: 0.7037\n",
            "Epoch 32/100\n",
            "5/5 [==============================] - 0s 9ms/step - loss: 0.6107 - accuracy: 0.6692 - val_loss: 0.6519 - val_accuracy: 0.6667\n",
            "Epoch 33/100\n",
            "5/5 [==============================] - 0s 9ms/step - loss: 0.6104 - accuracy: 0.6692 - val_loss: 0.6572 - val_accuracy: 0.7037\n",
            "Epoch 34/100\n",
            "5/5 [==============================] - 0s 8ms/step - loss: 0.6081 - accuracy: 0.6615 - val_loss: 0.6570 - val_accuracy: 0.6667\n",
            "Epoch 35/100\n",
            "5/5 [==============================] - 0s 8ms/step - loss: 0.6094 - accuracy: 0.6615 - val_loss: 0.6761 - val_accuracy: 0.6667\n",
            "Epoch 36/100\n",
            "5/5 [==============================] - 0s 8ms/step - loss: 0.6178 - accuracy: 0.6692 - val_loss: 0.6927 - val_accuracy: 0.6667\n",
            "Epoch 37/100\n",
            "5/5 [==============================] - 0s 9ms/step - loss: 0.6309 - accuracy: 0.6538 - val_loss: 0.7148 - val_accuracy: 0.6667\n",
            "Epoch 38/100\n",
            "5/5 [==============================] - 0s 10ms/step - loss: 0.6282 - accuracy: 0.6538 - val_loss: 0.7048 - val_accuracy: 0.6667\n",
            "Epoch 39/100\n",
            "5/5 [==============================] - 0s 10ms/step - loss: 0.6176 - accuracy: 0.6615 - val_loss: 0.6896 - val_accuracy: 0.6667\n",
            "Epoch 40/100\n",
            "5/5 [==============================] - 0s 9ms/step - loss: 0.6089 - accuracy: 0.6538 - val_loss: 0.6743 - val_accuracy: 0.6667\n",
            "Epoch 41/100\n",
            "5/5 [==============================] - 0s 8ms/step - loss: 0.6093 - accuracy: 0.6615 - val_loss: 0.6641 - val_accuracy: 0.6667\n",
            "Epoch 42/100\n",
            "5/5 [==============================] - 0s 10ms/step - loss: 0.6208 - accuracy: 0.6615 - val_loss: 0.6676 - val_accuracy: 0.6296\n",
            "Epoch 43/100\n",
            "5/5 [==============================] - 0s 9ms/step - loss: 0.6141 - accuracy: 0.6538 - val_loss: 0.6761 - val_accuracy: 0.6667\n",
            "Epoch 44/100\n",
            "5/5 [==============================] - 0s 8ms/step - loss: 0.6077 - accuracy: 0.6538 - val_loss: 0.6767 - val_accuracy: 0.6667\n",
            "Epoch 45/100\n",
            "5/5 [==============================] - 0s 8ms/step - loss: 0.6047 - accuracy: 0.6692 - val_loss: 0.6787 - val_accuracy: 0.6667\n",
            "Epoch 46/100\n",
            "5/5 [==============================] - 0s 9ms/step - loss: 0.6023 - accuracy: 0.6692 - val_loss: 0.6744 - val_accuracy: 0.6667\n",
            "Epoch 47/100\n",
            "5/5 [==============================] - 0s 9ms/step - loss: 0.6031 - accuracy: 0.6692 - val_loss: 0.6840 - val_accuracy: 0.6667\n",
            "Epoch 48/100\n",
            "5/5 [==============================] - 0s 9ms/step - loss: 0.6019 - accuracy: 0.6769 - val_loss: 0.7008 - val_accuracy: 0.6667\n",
            "Epoch 49/100\n",
            "5/5 [==============================] - 0s 9ms/step - loss: 0.5994 - accuracy: 0.6846 - val_loss: 0.6685 - val_accuracy: 0.6667\n",
            "Epoch 50/100\n",
            "5/5 [==============================] - 0s 10ms/step - loss: 0.6088 - accuracy: 0.6308 - val_loss: 0.6644 - val_accuracy: 0.6296\n",
            "Epoch 51/100\n",
            "5/5 [==============================] - 0s 9ms/step - loss: 0.6324 - accuracy: 0.6154 - val_loss: 0.6655 - val_accuracy: 0.6296\n",
            "Epoch 52/100\n",
            "5/5 [==============================] - 0s 10ms/step - loss: 0.6352 - accuracy: 0.6000 - val_loss: 0.6629 - val_accuracy: 0.6296\n",
            "Epoch 53/100\n",
            "5/5 [==============================] - 0s 10ms/step - loss: 0.6177 - accuracy: 0.6231 - val_loss: 0.6750 - val_accuracy: 0.5926\n",
            "Epoch 54/100\n",
            "5/5 [==============================] - 0s 9ms/step - loss: 0.6189 - accuracy: 0.6846 - val_loss: 0.7297 - val_accuracy: 0.6667\n",
            "Epoch 55/100\n",
            "5/5 [==============================] - 0s 9ms/step - loss: 0.6303 - accuracy: 0.6615 - val_loss: 0.7467 - val_accuracy: 0.6667\n",
            "Epoch 56/100\n",
            "5/5 [==============================] - 0s 8ms/step - loss: 0.6293 - accuracy: 0.6538 - val_loss: 0.7147 - val_accuracy: 0.6667\n",
            "Epoch 57/100\n",
            "5/5 [==============================] - 0s 8ms/step - loss: 0.6160 - accuracy: 0.6615 - val_loss: 0.6791 - val_accuracy: 0.6667\n",
            "Epoch 58/100\n",
            "5/5 [==============================] - 0s 8ms/step - loss: 0.6003 - accuracy: 0.6846 - val_loss: 0.6564 - val_accuracy: 0.6667\n",
            "Epoch 59/100\n",
            "5/5 [==============================] - 0s 9ms/step - loss: 0.6076 - accuracy: 0.6692 - val_loss: 0.6581 - val_accuracy: 0.6667\n",
            "Epoch 60/100\n",
            "5/5 [==============================] - 0s 13ms/step - loss: 0.6069 - accuracy: 0.6538 - val_loss: 0.6695 - val_accuracy: 0.6667\n",
            "Epoch 61/100\n",
            "5/5 [==============================] - 0s 8ms/step - loss: 0.6049 - accuracy: 0.6692 - val_loss: 0.6751 - val_accuracy: 0.6667\n",
            "Epoch 62/100\n",
            "5/5 [==============================] - 0s 9ms/step - loss: 0.6018 - accuracy: 0.6692 - val_loss: 0.6594 - val_accuracy: 0.6667\n",
            "Epoch 63/100\n",
            "5/5 [==============================] - 0s 9ms/step - loss: 0.6096 - accuracy: 0.6692 - val_loss: 0.6582 - val_accuracy: 0.5926\n",
            "Epoch 64/100\n",
            "5/5 [==============================] - 0s 9ms/step - loss: 0.6161 - accuracy: 0.6462 - val_loss: 0.6580 - val_accuracy: 0.6667\n",
            "Epoch 65/100\n",
            "5/5 [==============================] - 0s 8ms/step - loss: 0.6077 - accuracy: 0.6462 - val_loss: 0.6618 - val_accuracy: 0.6296\n",
            "Epoch 66/100\n",
            "5/5 [==============================] - 0s 9ms/step - loss: 0.5992 - accuracy: 0.6692 - val_loss: 0.6657 - val_accuracy: 0.6296\n",
            "Epoch 67/100\n",
            "5/5 [==============================] - 0s 8ms/step - loss: 0.5953 - accuracy: 0.6846 - val_loss: 0.6841 - val_accuracy: 0.6667\n",
            "Epoch 68/100\n",
            "5/5 [==============================] - 0s 9ms/step - loss: 0.6020 - accuracy: 0.6769 - val_loss: 0.7059 - val_accuracy: 0.6667\n",
            "Epoch 69/100\n",
            "5/5 [==============================] - 0s 10ms/step - loss: 0.6058 - accuracy: 0.6615 - val_loss: 0.6964 - val_accuracy: 0.6667\n",
            "Epoch 70/100\n",
            "5/5 [==============================] - 0s 11ms/step - loss: 0.6007 - accuracy: 0.6615 - val_loss: 0.6811 - val_accuracy: 0.6667\n",
            "Epoch 71/100\n",
            "5/5 [==============================] - 0s 9ms/step - loss: 0.5943 - accuracy: 0.6769 - val_loss: 0.6686 - val_accuracy: 0.6296\n",
            "Epoch 72/100\n",
            "5/5 [==============================] - 0s 9ms/step - loss: 0.5972 - accuracy: 0.6692 - val_loss: 0.6683 - val_accuracy: 0.6296\n",
            "Epoch 73/100\n",
            "5/5 [==============================] - 0s 8ms/step - loss: 0.5985 - accuracy: 0.6615 - val_loss: 0.6873 - val_accuracy: 0.6667\n",
            "Epoch 74/100\n",
            "5/5 [==============================] - 0s 8ms/step - loss: 0.5992 - accuracy: 0.6615 - val_loss: 0.6874 - val_accuracy: 0.6667\n",
            "Epoch 75/100\n",
            "5/5 [==============================] - 0s 8ms/step - loss: 0.5990 - accuracy: 0.6538 - val_loss: 0.6612 - val_accuracy: 0.6667\n",
            "Epoch 76/100\n",
            "5/5 [==============================] - 0s 9ms/step - loss: 0.5999 - accuracy: 0.6692 - val_loss: 0.6585 - val_accuracy: 0.5926\n",
            "Epoch 77/100\n",
            "5/5 [==============================] - 0s 9ms/step - loss: 0.6144 - accuracy: 0.6154 - val_loss: 0.6588 - val_accuracy: 0.5926\n",
            "Epoch 78/100\n",
            "5/5 [==============================] - 0s 10ms/step - loss: 0.6115 - accuracy: 0.6077 - val_loss: 0.6733 - val_accuracy: 0.6667\n",
            "Epoch 79/100\n",
            "5/5 [==============================] - 0s 9ms/step - loss: 0.5993 - accuracy: 0.6846 - val_loss: 0.6945 - val_accuracy: 0.6667\n",
            "Epoch 80/100\n",
            "5/5 [==============================] - 0s 8ms/step - loss: 0.5991 - accuracy: 0.6846 - val_loss: 0.7231 - val_accuracy: 0.6296\n",
            "Epoch 81/100\n",
            "5/5 [==============================] - 0s 9ms/step - loss: 0.6023 - accuracy: 0.6769 - val_loss: 0.7214 - val_accuracy: 0.6667\n",
            "Epoch 82/100\n",
            "5/5 [==============================] - 0s 10ms/step - loss: 0.6015 - accuracy: 0.6615 - val_loss: 0.7161 - val_accuracy: 0.6667\n",
            "Epoch 83/100\n",
            "5/5 [==============================] - 0s 13ms/step - loss: 0.5976 - accuracy: 0.6615 - val_loss: 0.6983 - val_accuracy: 0.6667\n",
            "Epoch 84/100\n",
            "5/5 [==============================] - 0s 10ms/step - loss: 0.5937 - accuracy: 0.6692 - val_loss: 0.6824 - val_accuracy: 0.6296\n",
            "Epoch 85/100\n",
            "5/5 [==============================] - 0s 8ms/step - loss: 0.5920 - accuracy: 0.6769 - val_loss: 0.6718 - val_accuracy: 0.6296\n",
            "Epoch 86/100\n",
            "5/5 [==============================] - 0s 8ms/step - loss: 0.5954 - accuracy: 0.6846 - val_loss: 0.6719 - val_accuracy: 0.5926\n",
            "Epoch 87/100\n",
            "5/5 [==============================] - 0s 8ms/step - loss: 0.5902 - accuracy: 0.6769 - val_loss: 0.6961 - val_accuracy: 0.6667\n",
            "Epoch 88/100\n",
            "5/5 [==============================] - 0s 10ms/step - loss: 0.5967 - accuracy: 0.6692 - val_loss: 0.7111 - val_accuracy: 0.6667\n",
            "Epoch 89/100\n",
            "5/5 [==============================] - 0s 8ms/step - loss: 0.6007 - accuracy: 0.6615 - val_loss: 0.7152 - val_accuracy: 0.6296\n",
            "Epoch 90/100\n",
            "5/5 [==============================] - 0s 11ms/step - loss: 0.6049 - accuracy: 0.6692 - val_loss: 0.7089 - val_accuracy: 0.6296\n",
            "Epoch 91/100\n",
            "5/5 [==============================] - 0s 9ms/step - loss: 0.5918 - accuracy: 0.6846 - val_loss: 0.6695 - val_accuracy: 0.6296\n",
            "Epoch 92/100\n",
            "5/5 [==============================] - 0s 9ms/step - loss: 0.5916 - accuracy: 0.6769 - val_loss: 0.6694 - val_accuracy: 0.6296\n",
            "Epoch 93/100\n",
            "5/5 [==============================] - 0s 9ms/step - loss: 0.5915 - accuracy: 0.6846 - val_loss: 0.6739 - val_accuracy: 0.6296\n",
            "Epoch 94/100\n",
            "5/5 [==============================] - 0s 9ms/step - loss: 0.5903 - accuracy: 0.6615 - val_loss: 0.6925 - val_accuracy: 0.6667\n",
            "Epoch 95/100\n",
            "5/5 [==============================] - 0s 9ms/step - loss: 0.5907 - accuracy: 0.6769 - val_loss: 0.6917 - val_accuracy: 0.6667\n",
            "Epoch 96/100\n",
            "5/5 [==============================] - 0s 9ms/step - loss: 0.5927 - accuracy: 0.6692 - val_loss: 0.6857 - val_accuracy: 0.6667\n",
            "Epoch 97/100\n",
            "5/5 [==============================] - 0s 8ms/step - loss: 0.5964 - accuracy: 0.6538 - val_loss: 0.6596 - val_accuracy: 0.6296\n",
            "Epoch 98/100\n",
            "5/5 [==============================] - 0s 10ms/step - loss: 0.6015 - accuracy: 0.6615 - val_loss: 0.6550 - val_accuracy: 0.6667\n",
            "Epoch 99/100\n",
            "5/5 [==============================] - 0s 9ms/step - loss: 0.5980 - accuracy: 0.6692 - val_loss: 0.6514 - val_accuracy: 0.6296\n",
            "Epoch 100/100\n",
            "5/5 [==============================] - 0s 8ms/step - loss: 0.5909 - accuracy: 0.6692 - val_loss: 0.6618 - val_accuracy: 0.6667\n"
          ]
        }
      ]
    },
    {
      "cell_type": "code",
      "source": [
        "model5.evaluate(X_test_scaled, y_test)"
      ],
      "metadata": {
        "colab": {
          "base_uri": "https://localhost:8080/"
        },
        "id": "9gvMvEml7qdi",
        "outputId": "57f91114-fa84-43ae-e013-46235a1ab276"
      },
      "execution_count": 118,
      "outputs": [
        {
          "output_type": "stream",
          "name": "stdout",
          "text": [
            "1/1 [==============================] - 0s 19ms/step - loss: 0.5684 - accuracy: 0.6957\n"
          ]
        },
        {
          "output_type": "execute_result",
          "data": {
            "text/plain": [
              "[0.568408191204071, 0.695652186870575]"
            ]
          },
          "metadata": {},
          "execution_count": 118
        }
      ]
    },
    {
      "cell_type": "code",
      "source": [
        "model5 = tf.keras.models.load_model(f\"/content/model_experiments/{model5.name}\")\n",
        "model5.evaluate(X_test_scaled, y_test)"
      ],
      "metadata": {
        "id": "XeQ1W3ycq2Kg",
        "outputId": "46e86891-9933-47ab-983d-46070890ba4d",
        "colab": {
          "base_uri": "https://localhost:8080/"
        }
      },
      "execution_count": 119,
      "outputs": [
        {
          "output_type": "stream",
          "name": "stdout",
          "text": [
            "1/1 [==============================] - 0s 125ms/step - loss: 0.6265 - accuracy: 0.6957\n"
          ]
        },
        {
          "output_type": "execute_result",
          "data": {
            "text/plain": [
              "[0.6265031695365906, 0.695652186870575]"
            ]
          },
          "metadata": {},
          "execution_count": 119
        }
      ]
    },
    {
      "cell_type": "code",
      "source": [
        "tf.random.set_seed(42)\n",
        "\n",
        "model6 = tf.keras.Sequential([\n",
        "    tf.keras.layers.Dense(5, activation='relu'),\n",
        "    tf.keras.layers.Dense(20, activation='relu'),\n",
        "    tf.keras.layers.Dense(20, activation='relu'),\n",
        "\n",
        "    # tf.keras.layers.Dense(20, activation='relu'),\n",
        "    # tf.keras.layers.Dense(10, activation='relu'),\n",
        "\n",
        "    # tf.keras.layers.Dense(256, activation='relu'),\n",
        "    tf.keras.layers.Dense(1, activation='sigmoid')\n",
        "])\n",
        "\n",
        "model6.compile(\n",
        "    loss=tf.keras.losses.binary_crossentropy,\n",
        "    optimizer=tf.keras.optimizers.Adam(0.01),\n",
        "    metrics=[\"accuracy\"]\n",
        ")\n",
        "\n",
        "\n",
        "history6 = model6.fit(X_train_scaled, \n",
        "                    y_train, \n",
        "                    epochs=100,\n",
        "                    validation_data = (X_valid_scaled, y_valid),\n",
        "                    callbacks=[create_model_checkpoint(model_name=model6.name)])"
      ],
      "metadata": {
        "id": "aGjeYTd4eZ7x",
        "outputId": "f3f6c971-5815-4154-b3f9-e3dac52c7d02",
        "colab": {
          "base_uri": "https://localhost:8080/"
        }
      },
      "execution_count": 120,
      "outputs": [
        {
          "output_type": "stream",
          "name": "stdout",
          "text": [
            "Epoch 1/100\n",
            "5/5 [==============================] - 1s 216ms/step - loss: 0.6801 - accuracy: 0.5538 - val_loss: 0.6813 - val_accuracy: 0.5185\n",
            "Epoch 2/100\n",
            "5/5 [==============================] - 0s 8ms/step - loss: 0.6598 - accuracy: 0.6154 - val_loss: 0.6788 - val_accuracy: 0.5185\n",
            "Epoch 3/100\n",
            "5/5 [==============================] - 0s 8ms/step - loss: 0.6562 - accuracy: 0.6154 - val_loss: 0.6810 - val_accuracy: 0.5185\n",
            "Epoch 4/100\n",
            "5/5 [==============================] - 0s 13ms/step - loss: 0.6465 - accuracy: 0.6154 - val_loss: 0.6965 - val_accuracy: 0.5185\n",
            "Epoch 5/100\n",
            "5/5 [==============================] - 0s 8ms/step - loss: 0.6494 - accuracy: 0.6154 - val_loss: 0.7122 - val_accuracy: 0.5185\n",
            "Epoch 6/100\n",
            "5/5 [==============================] - 0s 8ms/step - loss: 0.6475 - accuracy: 0.6154 - val_loss: 0.6863 - val_accuracy: 0.5185\n",
            "Epoch 7/100\n",
            "5/5 [==============================] - 0s 9ms/step - loss: 0.6419 - accuracy: 0.6154 - val_loss: 0.6848 - val_accuracy: 0.5185\n",
            "Epoch 8/100\n",
            "5/5 [==============================] - 0s 10ms/step - loss: 0.6412 - accuracy: 0.6154 - val_loss: 0.6813 - val_accuracy: 0.5185\n",
            "Epoch 9/100\n",
            "5/5 [==============================] - 0s 9ms/step - loss: 0.6371 - accuracy: 0.6154 - val_loss: 0.6612 - val_accuracy: 0.5185\n",
            "Epoch 10/100\n",
            "5/5 [==============================] - 0s 9ms/step - loss: 0.6353 - accuracy: 0.6154 - val_loss: 0.6533 - val_accuracy: 0.5185\n",
            "Epoch 11/100\n",
            "5/5 [==============================] - 1s 200ms/step - loss: 0.6364 - accuracy: 0.6154 - val_loss: 0.6493 - val_accuracy: 0.5926\n",
            "Epoch 12/100\n",
            "5/5 [==============================] - 1s 187ms/step - loss: 0.6373 - accuracy: 0.6538 - val_loss: 0.6463 - val_accuracy: 0.6296\n",
            "Epoch 13/100\n",
            "5/5 [==============================] - 0s 10ms/step - loss: 0.6340 - accuracy: 0.6615 - val_loss: 0.6443 - val_accuracy: 0.6296\n",
            "Epoch 14/100\n",
            "5/5 [==============================] - 0s 9ms/step - loss: 0.6295 - accuracy: 0.6692 - val_loss: 0.6475 - val_accuracy: 0.6296\n",
            "Epoch 15/100\n",
            "5/5 [==============================] - 0s 9ms/step - loss: 0.6296 - accuracy: 0.6692 - val_loss: 0.6558 - val_accuracy: 0.5926\n",
            "Epoch 16/100\n",
            "5/5 [==============================] - 0s 8ms/step - loss: 0.6264 - accuracy: 0.6615 - val_loss: 0.6557 - val_accuracy: 0.6296\n",
            "Epoch 17/100\n",
            "5/5 [==============================] - 0s 9ms/step - loss: 0.6238 - accuracy: 0.6462 - val_loss: 0.6582 - val_accuracy: 0.6296\n",
            "Epoch 18/100\n",
            "5/5 [==============================] - 0s 8ms/step - loss: 0.6296 - accuracy: 0.6538 - val_loss: 0.6672 - val_accuracy: 0.6296\n",
            "Epoch 19/100\n",
            "5/5 [==============================] - 1s 177ms/step - loss: 0.6264 - accuracy: 0.6538 - val_loss: 0.6443 - val_accuracy: 0.7037\n",
            "Epoch 20/100\n",
            "5/5 [==============================] - 0s 13ms/step - loss: 0.6239 - accuracy: 0.6538 - val_loss: 0.6462 - val_accuracy: 0.7037\n",
            "Epoch 21/100\n",
            "5/5 [==============================] - 0s 14ms/step - loss: 0.6271 - accuracy: 0.6615 - val_loss: 0.6493 - val_accuracy: 0.6667\n",
            "Epoch 22/100\n",
            "5/5 [==============================] - 0s 8ms/step - loss: 0.6314 - accuracy: 0.6769 - val_loss: 0.6448 - val_accuracy: 0.7037\n",
            "Epoch 23/100\n",
            "5/5 [==============================] - 0s 8ms/step - loss: 0.6193 - accuracy: 0.6615 - val_loss: 0.6477 - val_accuracy: 0.6667\n",
            "Epoch 24/100\n",
            "5/5 [==============================] - 0s 8ms/step - loss: 0.6213 - accuracy: 0.6538 - val_loss: 0.6690 - val_accuracy: 0.6667\n",
            "Epoch 25/100\n",
            "5/5 [==============================] - 0s 9ms/step - loss: 0.6205 - accuracy: 0.6615 - val_loss: 0.6594 - val_accuracy: 0.6667\n",
            "Epoch 26/100\n",
            "5/5 [==============================] - 0s 11ms/step - loss: 0.6148 - accuracy: 0.6692 - val_loss: 0.6470 - val_accuracy: 0.6667\n",
            "Epoch 27/100\n",
            "5/5 [==============================] - 0s 9ms/step - loss: 0.6111 - accuracy: 0.6769 - val_loss: 0.6502 - val_accuracy: 0.6667\n",
            "Epoch 28/100\n",
            "5/5 [==============================] - 0s 9ms/step - loss: 0.6115 - accuracy: 0.6692 - val_loss: 0.6793 - val_accuracy: 0.6296\n",
            "Epoch 29/100\n",
            "5/5 [==============================] - 0s 8ms/step - loss: 0.6165 - accuracy: 0.6615 - val_loss: 0.7045 - val_accuracy: 0.6667\n",
            "Epoch 30/100\n",
            "5/5 [==============================] - 0s 10ms/step - loss: 0.6248 - accuracy: 0.6615 - val_loss: 0.6752 - val_accuracy: 0.6667\n",
            "Epoch 31/100\n",
            "5/5 [==============================] - 0s 8ms/step - loss: 0.6072 - accuracy: 0.6769 - val_loss: 0.6422 - val_accuracy: 0.6296\n",
            "Epoch 32/100\n",
            "5/5 [==============================] - 0s 8ms/step - loss: 0.6129 - accuracy: 0.6769 - val_loss: 0.6442 - val_accuracy: 0.6296\n",
            "Epoch 33/100\n",
            "5/5 [==============================] - 0s 10ms/step - loss: 0.6074 - accuracy: 0.6769 - val_loss: 0.6512 - val_accuracy: 0.6296\n",
            "Epoch 34/100\n",
            "5/5 [==============================] - 0s 8ms/step - loss: 0.6046 - accuracy: 0.6615 - val_loss: 0.6577 - val_accuracy: 0.6296\n",
            "Epoch 35/100\n",
            "5/5 [==============================] - 0s 9ms/step - loss: 0.6079 - accuracy: 0.6538 - val_loss: 0.6762 - val_accuracy: 0.6667\n",
            "Epoch 36/100\n",
            "5/5 [==============================] - 0s 9ms/step - loss: 0.6160 - accuracy: 0.6615 - val_loss: 0.6888 - val_accuracy: 0.6667\n",
            "Epoch 37/100\n",
            "5/5 [==============================] - 0s 9ms/step - loss: 0.6253 - accuracy: 0.6615 - val_loss: 0.7117 - val_accuracy: 0.6667\n",
            "Epoch 38/100\n",
            "5/5 [==============================] - 0s 13ms/step - loss: 0.6246 - accuracy: 0.6615 - val_loss: 0.6957 - val_accuracy: 0.6296\n",
            "Epoch 39/100\n",
            "5/5 [==============================] - 0s 8ms/step - loss: 0.6135 - accuracy: 0.6692 - val_loss: 0.6809 - val_accuracy: 0.6667\n",
            "Epoch 40/100\n",
            "5/5 [==============================] - 0s 9ms/step - loss: 0.6061 - accuracy: 0.6769 - val_loss: 0.6649 - val_accuracy: 0.6667\n",
            "Epoch 41/100\n",
            "5/5 [==============================] - 0s 11ms/step - loss: 0.6081 - accuracy: 0.6692 - val_loss: 0.6543 - val_accuracy: 0.6296\n",
            "Epoch 42/100\n",
            "5/5 [==============================] - 0s 9ms/step - loss: 0.6157 - accuracy: 0.6538 - val_loss: 0.6558 - val_accuracy: 0.6296\n",
            "Epoch 43/100\n",
            "5/5 [==============================] - 0s 8ms/step - loss: 0.6043 - accuracy: 0.6615 - val_loss: 0.6682 - val_accuracy: 0.6296\n",
            "Epoch 44/100\n",
            "5/5 [==============================] - 0s 8ms/step - loss: 0.6038 - accuracy: 0.6615 - val_loss: 0.6602 - val_accuracy: 0.6667\n",
            "Epoch 45/100\n",
            "5/5 [==============================] - 0s 8ms/step - loss: 0.5999 - accuracy: 0.6692 - val_loss: 0.6492 - val_accuracy: 0.6667\n",
            "Epoch 46/100\n",
            "5/5 [==============================] - 1s 179ms/step - loss: 0.5992 - accuracy: 0.6692 - val_loss: 0.6481 - val_accuracy: 0.7407\n",
            "Epoch 47/100\n",
            "5/5 [==============================] - 0s 8ms/step - loss: 0.6038 - accuracy: 0.6615 - val_loss: 0.6685 - val_accuracy: 0.6667\n",
            "Epoch 48/100\n",
            "5/5 [==============================] - 0s 9ms/step - loss: 0.6026 - accuracy: 0.6769 - val_loss: 0.7049 - val_accuracy: 0.6667\n",
            "Epoch 49/100\n",
            "5/5 [==============================] - 0s 10ms/step - loss: 0.5987 - accuracy: 0.6692 - val_loss: 0.6523 - val_accuracy: 0.6296\n",
            "Epoch 50/100\n",
            "5/5 [==============================] - 0s 8ms/step - loss: 0.6333 - accuracy: 0.6538 - val_loss: 0.6818 - val_accuracy: 0.5185\n",
            "Epoch 51/100\n",
            "5/5 [==============================] - 0s 9ms/step - loss: 0.6756 - accuracy: 0.5385 - val_loss: 0.6823 - val_accuracy: 0.5185\n",
            "Epoch 52/100\n",
            "5/5 [==============================] - 0s 8ms/step - loss: 0.6521 - accuracy: 0.5769 - val_loss: 0.6765 - val_accuracy: 0.6296\n",
            "Epoch 53/100\n",
            "5/5 [==============================] - 0s 8ms/step - loss: 0.6254 - accuracy: 0.6308 - val_loss: 0.6941 - val_accuracy: 0.6296\n",
            "Epoch 54/100\n",
            "5/5 [==============================] - 0s 10ms/step - loss: 0.6364 - accuracy: 0.6615 - val_loss: 0.7536 - val_accuracy: 0.6296\n",
            "Epoch 55/100\n",
            "5/5 [==============================] - 0s 9ms/step - loss: 0.6402 - accuracy: 0.6615 - val_loss: 0.7391 - val_accuracy: 0.6296\n",
            "Epoch 56/100\n",
            "5/5 [==============================] - 0s 9ms/step - loss: 0.6196 - accuracy: 0.6615 - val_loss: 0.7045 - val_accuracy: 0.6296\n",
            "Epoch 57/100\n",
            "5/5 [==============================] - 0s 8ms/step - loss: 0.6029 - accuracy: 0.6769 - val_loss: 0.6802 - val_accuracy: 0.6667\n",
            "Epoch 58/100\n",
            "5/5 [==============================] - 0s 9ms/step - loss: 0.6014 - accuracy: 0.6615 - val_loss: 0.6660 - val_accuracy: 0.5926\n",
            "Epoch 59/100\n",
            "5/5 [==============================] - 0s 9ms/step - loss: 0.6136 - accuracy: 0.6692 - val_loss: 0.6648 - val_accuracy: 0.6296\n",
            "Epoch 60/100\n",
            "5/5 [==============================] - 0s 8ms/step - loss: 0.6115 - accuracy: 0.6692 - val_loss: 0.6746 - val_accuracy: 0.6296\n",
            "Epoch 61/100\n",
            "5/5 [==============================] - 0s 8ms/step - loss: 0.6083 - accuracy: 0.6692 - val_loss: 0.6784 - val_accuracy: 0.6296\n",
            "Epoch 62/100\n",
            "5/5 [==============================] - 0s 11ms/step - loss: 0.6033 - accuracy: 0.6692 - val_loss: 0.6637 - val_accuracy: 0.6296\n",
            "Epoch 63/100\n",
            "5/5 [==============================] - 0s 11ms/step - loss: 0.6192 - accuracy: 0.6462 - val_loss: 0.6656 - val_accuracy: 0.5926\n",
            "Epoch 64/100\n",
            "5/5 [==============================] - 0s 9ms/step - loss: 0.6261 - accuracy: 0.6462 - val_loss: 0.6643 - val_accuracy: 0.5926\n",
            "Epoch 65/100\n",
            "5/5 [==============================] - 0s 9ms/step - loss: 0.6126 - accuracy: 0.6308 - val_loss: 0.6673 - val_accuracy: 0.5926\n",
            "Epoch 66/100\n",
            "5/5 [==============================] - 0s 9ms/step - loss: 0.6007 - accuracy: 0.6692 - val_loss: 0.6762 - val_accuracy: 0.6296\n",
            "Epoch 67/100\n",
            "5/5 [==============================] - 0s 9ms/step - loss: 0.5967 - accuracy: 0.6692 - val_loss: 0.7057 - val_accuracy: 0.6667\n",
            "Epoch 68/100\n",
            "5/5 [==============================] - 0s 9ms/step - loss: 0.6077 - accuracy: 0.6846 - val_loss: 0.7316 - val_accuracy: 0.6296\n",
            "Epoch 69/100\n",
            "5/5 [==============================] - 0s 9ms/step - loss: 0.6123 - accuracy: 0.6692 - val_loss: 0.7045 - val_accuracy: 0.5926\n",
            "Epoch 70/100\n",
            "5/5 [==============================] - 0s 8ms/step - loss: 0.5995 - accuracy: 0.6615 - val_loss: 0.6840 - val_accuracy: 0.6296\n",
            "Epoch 71/100\n",
            "5/5 [==============================] - 0s 8ms/step - loss: 0.5918 - accuracy: 0.6769 - val_loss: 0.6691 - val_accuracy: 0.7037\n",
            "Epoch 72/100\n",
            "5/5 [==============================] - 0s 10ms/step - loss: 0.5948 - accuracy: 0.6923 - val_loss: 0.6717 - val_accuracy: 0.7037\n",
            "Epoch 73/100\n",
            "5/5 [==============================] - 0s 10ms/step - loss: 0.5970 - accuracy: 0.6692 - val_loss: 0.6948 - val_accuracy: 0.5926\n",
            "Epoch 74/100\n",
            "5/5 [==============================] - 0s 9ms/step - loss: 0.6007 - accuracy: 0.6615 - val_loss: 0.6904 - val_accuracy: 0.5926\n",
            "Epoch 75/100\n",
            "5/5 [==============================] - 0s 10ms/step - loss: 0.5958 - accuracy: 0.6923 - val_loss: 0.6629 - val_accuracy: 0.6296\n",
            "Epoch 76/100\n",
            "5/5 [==============================] - 0s 8ms/step - loss: 0.5989 - accuracy: 0.6538 - val_loss: 0.6595 - val_accuracy: 0.6667\n",
            "Epoch 77/100\n",
            "5/5 [==============================] - 0s 8ms/step - loss: 0.6137 - accuracy: 0.6385 - val_loss: 0.6556 - val_accuracy: 0.6296\n",
            "Epoch 78/100\n",
            "5/5 [==============================] - 0s 8ms/step - loss: 0.6083 - accuracy: 0.6308 - val_loss: 0.6736 - val_accuracy: 0.5926\n",
            "Epoch 79/100\n",
            "5/5 [==============================] - 0s 13ms/step - loss: 0.5951 - accuracy: 0.6846 - val_loss: 0.6954 - val_accuracy: 0.6296\n",
            "Epoch 80/100\n",
            "5/5 [==============================] - 0s 8ms/step - loss: 0.5964 - accuracy: 0.6692 - val_loss: 0.7197 - val_accuracy: 0.6296\n",
            "Epoch 81/100\n",
            "5/5 [==============================] - 0s 8ms/step - loss: 0.5992 - accuracy: 0.6769 - val_loss: 0.7130 - val_accuracy: 0.6296\n",
            "Epoch 82/100\n",
            "5/5 [==============================] - 0s 8ms/step - loss: 0.5964 - accuracy: 0.6769 - val_loss: 0.7062 - val_accuracy: 0.6296\n",
            "Epoch 83/100\n",
            "5/5 [==============================] - 0s 9ms/step - loss: 0.5927 - accuracy: 0.6769 - val_loss: 0.6910 - val_accuracy: 0.6296\n",
            "Epoch 84/100\n",
            "5/5 [==============================] - 0s 9ms/step - loss: 0.5900 - accuracy: 0.6769 - val_loss: 0.6831 - val_accuracy: 0.6667\n",
            "Epoch 85/100\n",
            "5/5 [==============================] - 0s 9ms/step - loss: 0.5875 - accuracy: 0.6615 - val_loss: 0.6809 - val_accuracy: 0.5926\n",
            "Epoch 86/100\n",
            "5/5 [==============================] - 0s 14ms/step - loss: 0.5903 - accuracy: 0.6769 - val_loss: 0.6894 - val_accuracy: 0.6296\n",
            "Epoch 87/100\n",
            "5/5 [==============================] - 0s 12ms/step - loss: 0.5857 - accuracy: 0.6692 - val_loss: 0.7309 - val_accuracy: 0.6296\n",
            "Epoch 88/100\n",
            "5/5 [==============================] - 0s 8ms/step - loss: 0.5984 - accuracy: 0.6769 - val_loss: 0.7380 - val_accuracy: 0.6296\n",
            "Epoch 89/100\n",
            "5/5 [==============================] - 0s 8ms/step - loss: 0.5981 - accuracy: 0.6615 - val_loss: 0.7210 - val_accuracy: 0.6667\n",
            "Epoch 90/100\n",
            "5/5 [==============================] - 0s 9ms/step - loss: 0.5988 - accuracy: 0.6846 - val_loss: 0.7049 - val_accuracy: 0.6667\n",
            "Epoch 91/100\n",
            "5/5 [==============================] - 0s 9ms/step - loss: 0.5889 - accuracy: 0.6692 - val_loss: 0.6667 - val_accuracy: 0.6667\n",
            "Epoch 92/100\n",
            "5/5 [==============================] - 0s 8ms/step - loss: 0.5912 - accuracy: 0.6615 - val_loss: 0.6716 - val_accuracy: 0.6667\n",
            "Epoch 93/100\n",
            "5/5 [==============================] - 0s 8ms/step - loss: 0.5850 - accuracy: 0.6846 - val_loss: 0.6772 - val_accuracy: 0.6667\n",
            "Epoch 94/100\n",
            "5/5 [==============================] - 0s 9ms/step - loss: 0.5837 - accuracy: 0.6769 - val_loss: 0.6925 - val_accuracy: 0.5926\n",
            "Epoch 95/100\n",
            "5/5 [==============================] - 0s 12ms/step - loss: 0.5815 - accuracy: 0.6769 - val_loss: 0.6801 - val_accuracy: 0.6296\n",
            "Epoch 96/100\n",
            "5/5 [==============================] - 0s 10ms/step - loss: 0.5851 - accuracy: 0.6615 - val_loss: 0.6732 - val_accuracy: 0.6296\n",
            "Epoch 97/100\n",
            "5/5 [==============================] - 0s 10ms/step - loss: 0.5943 - accuracy: 0.6538 - val_loss: 0.6636 - val_accuracy: 0.6296\n",
            "Epoch 98/100\n",
            "5/5 [==============================] - 0s 9ms/step - loss: 0.6031 - accuracy: 0.6615 - val_loss: 0.6638 - val_accuracy: 0.6296\n",
            "Epoch 99/100\n",
            "5/5 [==============================] - 0s 8ms/step - loss: 0.5882 - accuracy: 0.6846 - val_loss: 0.6641 - val_accuracy: 0.6296\n",
            "Epoch 100/100\n",
            "5/5 [==============================] - 0s 8ms/step - loss: 0.5817 - accuracy: 0.6692 - val_loss: 0.6896 - val_accuracy: 0.6667\n"
          ]
        }
      ]
    },
    {
      "cell_type": "code",
      "source": [
        "model6.evaluate(X_test_scaled, y_test)"
      ],
      "metadata": {
        "colab": {
          "base_uri": "https://localhost:8080/"
        },
        "id": "Mk7CoEfq7r7I",
        "outputId": "ce862056-307e-46f4-f0c3-825fea0f5d3e"
      },
      "execution_count": 121,
      "outputs": [
        {
          "output_type": "stream",
          "name": "stdout",
          "text": [
            "1/1 [==============================] - 0s 21ms/step - loss: 0.5461 - accuracy: 0.6957\n"
          ]
        },
        {
          "output_type": "execute_result",
          "data": {
            "text/plain": [
              "[0.5460948348045349, 0.695652186870575]"
            ]
          },
          "metadata": {},
          "execution_count": 121
        }
      ]
    },
    {
      "cell_type": "code",
      "source": [
        "model6 = tf.keras.models.load_model(f\"/content/model_experiments/{model6.name}\")\n",
        "model6.evaluate(X_test_scaled, y_test)"
      ],
      "metadata": {
        "id": "jWwLJ77yq27l",
        "outputId": "dc60113c-c065-489f-af79-7df2a4200628",
        "colab": {
          "base_uri": "https://localhost:8080/"
        }
      },
      "execution_count": 122,
      "outputs": [
        {
          "output_type": "stream",
          "name": "stdout",
          "text": [
            "1/1 [==============================] - 0s 121ms/step - loss: 0.5765 - accuracy: 0.8261\n"
          ]
        },
        {
          "output_type": "execute_result",
          "data": {
            "text/plain": [
              "[0.5764762163162231, 0.8260869383811951]"
            ]
          },
          "metadata": {},
          "execution_count": 122
        }
      ]
    },
    {
      "cell_type": "code",
      "source": [
        "tf.random.set_seed(42)\n",
        "\n",
        "model7 = tf.keras.Sequential([\n",
        "    tf.keras.layers.Dense(5, activation='relu'),\n",
        "    tf.keras.layers.Dense(4, activation='relu'),\n",
        "    tf.keras.layers.Dense(4, activation='relu'),\n",
        "\n",
        "    # tf.keras.layers.Dense(20, activation='relu'),\n",
        "    # tf.keras.layers.Dense(10, activation='relu'),\n",
        "\n",
        "    # tf.keras.layers.Dense(256, activation='relu'),\n",
        "    tf.keras.layers.Dense(1, activation='sigmoid')\n",
        "])\n",
        "\n",
        "model7.compile(\n",
        "    loss=tf.keras.losses.binary_crossentropy,\n",
        "    optimizer=tf.keras.optimizers.Adam(0.001),\n",
        "    metrics=[\"accuracy\"]\n",
        ")\n",
        "\n",
        "\n",
        "history7 = model7.fit(X_train_scaled, \n",
        "                    y_train, \n",
        "                    epochs=100,\n",
        "                    validation_data = (X_valid_scaled, y_valid),\n",
        "                    callbacks=[create_model_checkpoint(model_name=model7.name)])"
      ],
      "metadata": {
        "id": "h_ByrY0Cecaw",
        "outputId": "7fb5dc9b-e647-4cea-aff9-4a043cc0f57f",
        "colab": {
          "base_uri": "https://localhost:8080/"
        }
      },
      "execution_count": 123,
      "outputs": [
        {
          "output_type": "stream",
          "name": "stdout",
          "text": [
            "Epoch 1/100\n",
            "5/5 [==============================] - 1s 205ms/step - loss: 0.6926 - accuracy: 0.5846 - val_loss: 0.6925 - val_accuracy: 0.5185\n",
            "Epoch 2/100\n",
            "5/5 [==============================] - 0s 7ms/step - loss: 0.6922 - accuracy: 0.6000 - val_loss: 0.6924 - val_accuracy: 0.5185\n",
            "Epoch 3/100\n",
            "5/5 [==============================] - 0s 7ms/step - loss: 0.6918 - accuracy: 0.6077 - val_loss: 0.6921 - val_accuracy: 0.5185\n",
            "Epoch 4/100\n",
            "5/5 [==============================] - 0s 8ms/step - loss: 0.6913 - accuracy: 0.6154 - val_loss: 0.6915 - val_accuracy: 0.5185\n",
            "Epoch 5/100\n",
            "5/5 [==============================] - 0s 8ms/step - loss: 0.6907 - accuracy: 0.6154 - val_loss: 0.6911 - val_accuracy: 0.5185\n",
            "Epoch 6/100\n",
            "5/5 [==============================] - 0s 9ms/step - loss: 0.6902 - accuracy: 0.6154 - val_loss: 0.6907 - val_accuracy: 0.5185\n",
            "Epoch 7/100\n",
            "5/5 [==============================] - 0s 8ms/step - loss: 0.6897 - accuracy: 0.6154 - val_loss: 0.6904 - val_accuracy: 0.5185\n",
            "Epoch 8/100\n",
            "5/5 [==============================] - 0s 8ms/step - loss: 0.6889 - accuracy: 0.6154 - val_loss: 0.6900 - val_accuracy: 0.5185\n",
            "Epoch 9/100\n",
            "5/5 [==============================] - 0s 8ms/step - loss: 0.6877 - accuracy: 0.6154 - val_loss: 0.6893 - val_accuracy: 0.5185\n",
            "Epoch 10/100\n",
            "5/5 [==============================] - 0s 8ms/step - loss: 0.6870 - accuracy: 0.6154 - val_loss: 0.6888 - val_accuracy: 0.5185\n",
            "Epoch 11/100\n",
            "5/5 [==============================] - 0s 9ms/step - loss: 0.6863 - accuracy: 0.6154 - val_loss: 0.6884 - val_accuracy: 0.5185\n",
            "Epoch 12/100\n",
            "5/5 [==============================] - 0s 7ms/step - loss: 0.6859 - accuracy: 0.6154 - val_loss: 0.6882 - val_accuracy: 0.5185\n",
            "Epoch 13/100\n",
            "5/5 [==============================] - 0s 8ms/step - loss: 0.6854 - accuracy: 0.6154 - val_loss: 0.6880 - val_accuracy: 0.5185\n",
            "Epoch 14/100\n",
            "5/5 [==============================] - 0s 8ms/step - loss: 0.6850 - accuracy: 0.6154 - val_loss: 0.6879 - val_accuracy: 0.5185\n",
            "Epoch 15/100\n",
            "5/5 [==============================] - 0s 8ms/step - loss: 0.6843 - accuracy: 0.6154 - val_loss: 0.6874 - val_accuracy: 0.5185\n",
            "Epoch 16/100\n",
            "5/5 [==============================] - 0s 9ms/step - loss: 0.6830 - accuracy: 0.6154 - val_loss: 0.6870 - val_accuracy: 0.5185\n",
            "Epoch 17/100\n",
            "5/5 [==============================] - 0s 8ms/step - loss: 0.6818 - accuracy: 0.6154 - val_loss: 0.6868 - val_accuracy: 0.5185\n",
            "Epoch 18/100\n",
            "5/5 [==============================] - 0s 9ms/step - loss: 0.6803 - accuracy: 0.6154 - val_loss: 0.6869 - val_accuracy: 0.5185\n",
            "Epoch 19/100\n",
            "5/5 [==============================] - 0s 9ms/step - loss: 0.6783 - accuracy: 0.6154 - val_loss: 0.6871 - val_accuracy: 0.5185\n",
            "Epoch 20/100\n",
            "5/5 [==============================] - 0s 13ms/step - loss: 0.6768 - accuracy: 0.6154 - val_loss: 0.6874 - val_accuracy: 0.5185\n",
            "Epoch 21/100\n",
            "5/5 [==============================] - 0s 12ms/step - loss: 0.6755 - accuracy: 0.6154 - val_loss: 0.6874 - val_accuracy: 0.5185\n",
            "Epoch 22/100\n",
            "5/5 [==============================] - 0s 8ms/step - loss: 0.6745 - accuracy: 0.6154 - val_loss: 0.6872 - val_accuracy: 0.5185\n",
            "Epoch 23/100\n",
            "5/5 [==============================] - 0s 7ms/step - loss: 0.6728 - accuracy: 0.6154 - val_loss: 0.6869 - val_accuracy: 0.5185\n",
            "Epoch 24/100\n",
            "5/5 [==============================] - 0s 7ms/step - loss: 0.6714 - accuracy: 0.6154 - val_loss: 0.6865 - val_accuracy: 0.5185\n",
            "Epoch 25/100\n",
            "5/5 [==============================] - 0s 7ms/step - loss: 0.6693 - accuracy: 0.6154 - val_loss: 0.6861 - val_accuracy: 0.5185\n",
            "Epoch 26/100\n",
            "5/5 [==============================] - 0s 13ms/step - loss: 0.6676 - accuracy: 0.6154 - val_loss: 0.6857 - val_accuracy: 0.5185\n",
            "Epoch 27/100\n",
            "5/5 [==============================] - 0s 8ms/step - loss: 0.6661 - accuracy: 0.6154 - val_loss: 0.6853 - val_accuracy: 0.5185\n",
            "Epoch 28/100\n",
            "5/5 [==============================] - 0s 11ms/step - loss: 0.6640 - accuracy: 0.6154 - val_loss: 0.6850 - val_accuracy: 0.5185\n",
            "Epoch 29/100\n",
            "5/5 [==============================] - 0s 9ms/step - loss: 0.6614 - accuracy: 0.6154 - val_loss: 0.6849 - val_accuracy: 0.5185\n",
            "Epoch 30/100\n",
            "5/5 [==============================] - 0s 8ms/step - loss: 0.6594 - accuracy: 0.6154 - val_loss: 0.6849 - val_accuracy: 0.5185\n",
            "Epoch 31/100\n",
            "5/5 [==============================] - 0s 9ms/step - loss: 0.6579 - accuracy: 0.6154 - val_loss: 0.6848 - val_accuracy: 0.5185\n",
            "Epoch 32/100\n",
            "5/5 [==============================] - 0s 8ms/step - loss: 0.6568 - accuracy: 0.6154 - val_loss: 0.6849 - val_accuracy: 0.5185\n",
            "Epoch 33/100\n",
            "5/5 [==============================] - 0s 9ms/step - loss: 0.6554 - accuracy: 0.6154 - val_loss: 0.6852 - val_accuracy: 0.5185\n",
            "Epoch 34/100\n",
            "5/5 [==============================] - 0s 9ms/step - loss: 0.6544 - accuracy: 0.6154 - val_loss: 0.6853 - val_accuracy: 0.5185\n",
            "Epoch 35/100\n",
            "5/5 [==============================] - 0s 8ms/step - loss: 0.6534 - accuracy: 0.6154 - val_loss: 0.6857 - val_accuracy: 0.5185\n",
            "Epoch 36/100\n",
            "5/5 [==============================] - 0s 8ms/step - loss: 0.6522 - accuracy: 0.6154 - val_loss: 0.6864 - val_accuracy: 0.5185\n",
            "Epoch 37/100\n",
            "5/5 [==============================] - 0s 8ms/step - loss: 0.6516 - accuracy: 0.6154 - val_loss: 0.6874 - val_accuracy: 0.5185\n",
            "Epoch 38/100\n",
            "5/5 [==============================] - 0s 8ms/step - loss: 0.6507 - accuracy: 0.6154 - val_loss: 0.6886 - val_accuracy: 0.5185\n",
            "Epoch 39/100\n",
            "5/5 [==============================] - 0s 8ms/step - loss: 0.6502 - accuracy: 0.6154 - val_loss: 0.6900 - val_accuracy: 0.5185\n",
            "Epoch 40/100\n",
            "5/5 [==============================] - 0s 8ms/step - loss: 0.6497 - accuracy: 0.6154 - val_loss: 0.6911 - val_accuracy: 0.5185\n",
            "Epoch 41/100\n",
            "5/5 [==============================] - 0s 8ms/step - loss: 0.6493 - accuracy: 0.6154 - val_loss: 0.6908 - val_accuracy: 0.5185\n",
            "Epoch 42/100\n",
            "5/5 [==============================] - 0s 8ms/step - loss: 0.6490 - accuracy: 0.6154 - val_loss: 0.6900 - val_accuracy: 0.5185\n",
            "Epoch 43/100\n",
            "5/5 [==============================] - 0s 8ms/step - loss: 0.6487 - accuracy: 0.6154 - val_loss: 0.6898 - val_accuracy: 0.5185\n",
            "Epoch 44/100\n",
            "5/5 [==============================] - 0s 7ms/step - loss: 0.6484 - accuracy: 0.6154 - val_loss: 0.6895 - val_accuracy: 0.5185\n",
            "Epoch 45/100\n",
            "5/5 [==============================] - 0s 8ms/step - loss: 0.6481 - accuracy: 0.6154 - val_loss: 0.6894 - val_accuracy: 0.5185\n",
            "Epoch 46/100\n",
            "5/5 [==============================] - 0s 7ms/step - loss: 0.6479 - accuracy: 0.6154 - val_loss: 0.6888 - val_accuracy: 0.5185\n",
            "Epoch 47/100\n",
            "5/5 [==============================] - 0s 7ms/step - loss: 0.6476 - accuracy: 0.6154 - val_loss: 0.6890 - val_accuracy: 0.5185\n",
            "Epoch 48/100\n",
            "5/5 [==============================] - 0s 8ms/step - loss: 0.6472 - accuracy: 0.6154 - val_loss: 0.6893 - val_accuracy: 0.5185\n",
            "Epoch 49/100\n",
            "5/5 [==============================] - 0s 9ms/step - loss: 0.6470 - accuracy: 0.6154 - val_loss: 0.6883 - val_accuracy: 0.5185\n",
            "Epoch 50/100\n",
            "5/5 [==============================] - 0s 8ms/step - loss: 0.6468 - accuracy: 0.6154 - val_loss: 0.6866 - val_accuracy: 0.5185\n",
            "Epoch 51/100\n",
            "5/5 [==============================] - 0s 10ms/step - loss: 0.6467 - accuracy: 0.6154 - val_loss: 0.6853 - val_accuracy: 0.5185\n",
            "Epoch 52/100\n",
            "5/5 [==============================] - 0s 8ms/step - loss: 0.6470 - accuracy: 0.6154 - val_loss: 0.6843 - val_accuracy: 0.5185\n",
            "Epoch 53/100\n",
            "5/5 [==============================] - 0s 8ms/step - loss: 0.6467 - accuracy: 0.6154 - val_loss: 0.6842 - val_accuracy: 0.5185\n",
            "Epoch 54/100\n",
            "5/5 [==============================] - 0s 8ms/step - loss: 0.6466 - accuracy: 0.6154 - val_loss: 0.6843 - val_accuracy: 0.5185\n",
            "Epoch 55/100\n",
            "5/5 [==============================] - 0s 8ms/step - loss: 0.6462 - accuracy: 0.6154 - val_loss: 0.6845 - val_accuracy: 0.5185\n",
            "Epoch 56/100\n",
            "5/5 [==============================] - 0s 8ms/step - loss: 0.6456 - accuracy: 0.6154 - val_loss: 0.6851 - val_accuracy: 0.5185\n",
            "Epoch 57/100\n",
            "5/5 [==============================] - 0s 8ms/step - loss: 0.6453 - accuracy: 0.6154 - val_loss: 0.6858 - val_accuracy: 0.5185\n",
            "Epoch 58/100\n",
            "5/5 [==============================] - 0s 8ms/step - loss: 0.6452 - accuracy: 0.6154 - val_loss: 0.6855 - val_accuracy: 0.5185\n",
            "Epoch 59/100\n",
            "5/5 [==============================] - 0s 9ms/step - loss: 0.6451 - accuracy: 0.6154 - val_loss: 0.6854 - val_accuracy: 0.5185\n",
            "Epoch 60/100\n",
            "5/5 [==============================] - 0s 8ms/step - loss: 0.6449 - accuracy: 0.6154 - val_loss: 0.6858 - val_accuracy: 0.5185\n",
            "Epoch 61/100\n",
            "5/5 [==============================] - 0s 8ms/step - loss: 0.6447 - accuracy: 0.6154 - val_loss: 0.6854 - val_accuracy: 0.5185\n",
            "Epoch 62/100\n",
            "5/5 [==============================] - 0s 8ms/step - loss: 0.6445 - accuracy: 0.6154 - val_loss: 0.6840 - val_accuracy: 0.5185\n",
            "Epoch 63/100\n",
            "5/5 [==============================] - 0s 8ms/step - loss: 0.6443 - accuracy: 0.6154 - val_loss: 0.6831 - val_accuracy: 0.5185\n",
            "Epoch 64/100\n",
            "5/5 [==============================] - 0s 8ms/step - loss: 0.6447 - accuracy: 0.6154 - val_loss: 0.6822 - val_accuracy: 0.5185\n",
            "Epoch 65/100\n",
            "5/5 [==============================] - 0s 8ms/step - loss: 0.6444 - accuracy: 0.6154 - val_loss: 0.6815 - val_accuracy: 0.5185\n",
            "Epoch 66/100\n",
            "5/5 [==============================] - 0s 8ms/step - loss: 0.6444 - accuracy: 0.6154 - val_loss: 0.6804 - val_accuracy: 0.5185\n",
            "Epoch 67/100\n",
            "5/5 [==============================] - 0s 8ms/step - loss: 0.6443 - accuracy: 0.6154 - val_loss: 0.6799 - val_accuracy: 0.5185\n",
            "Epoch 68/100\n",
            "5/5 [==============================] - 0s 8ms/step - loss: 0.6441 - accuracy: 0.6154 - val_loss: 0.6799 - val_accuracy: 0.5185\n",
            "Epoch 69/100\n",
            "5/5 [==============================] - 0s 8ms/step - loss: 0.6436 - accuracy: 0.6154 - val_loss: 0.6799 - val_accuracy: 0.5185\n",
            "Epoch 70/100\n",
            "5/5 [==============================] - 0s 8ms/step - loss: 0.6433 - accuracy: 0.6154 - val_loss: 0.6798 - val_accuracy: 0.5185\n",
            "Epoch 71/100\n",
            "5/5 [==============================] - 0s 10ms/step - loss: 0.6431 - accuracy: 0.6154 - val_loss: 0.6797 - val_accuracy: 0.5185\n",
            "Epoch 72/100\n",
            "5/5 [==============================] - 0s 8ms/step - loss: 0.6426 - accuracy: 0.6154 - val_loss: 0.6799 - val_accuracy: 0.5185\n",
            "Epoch 73/100\n",
            "5/5 [==============================] - 0s 11ms/step - loss: 0.6425 - accuracy: 0.6154 - val_loss: 0.6807 - val_accuracy: 0.5185\n",
            "Epoch 74/100\n",
            "5/5 [==============================] - 0s 8ms/step - loss: 0.6419 - accuracy: 0.6154 - val_loss: 0.6814 - val_accuracy: 0.5185\n",
            "Epoch 75/100\n",
            "5/5 [==============================] - 0s 9ms/step - loss: 0.6419 - accuracy: 0.6154 - val_loss: 0.6817 - val_accuracy: 0.5185\n",
            "Epoch 76/100\n",
            "5/5 [==============================] - 0s 9ms/step - loss: 0.6418 - accuracy: 0.6154 - val_loss: 0.6817 - val_accuracy: 0.5185\n",
            "Epoch 77/100\n",
            "5/5 [==============================] - 0s 8ms/step - loss: 0.6418 - accuracy: 0.6154 - val_loss: 0.6806 - val_accuracy: 0.5185\n",
            "Epoch 78/100\n",
            "5/5 [==============================] - 0s 8ms/step - loss: 0.6415 - accuracy: 0.6154 - val_loss: 0.6806 - val_accuracy: 0.5185\n",
            "Epoch 79/100\n",
            "5/5 [==============================] - 0s 9ms/step - loss: 0.6412 - accuracy: 0.6154 - val_loss: 0.6803 - val_accuracy: 0.5185\n",
            "Epoch 80/100\n",
            "5/5 [==============================] - 0s 9ms/step - loss: 0.6411 - accuracy: 0.6154 - val_loss: 0.6804 - val_accuracy: 0.5185\n",
            "Epoch 81/100\n",
            "5/5 [==============================] - 0s 13ms/step - loss: 0.6410 - accuracy: 0.6154 - val_loss: 0.6806 - val_accuracy: 0.5185\n",
            "Epoch 82/100\n",
            "5/5 [==============================] - 0s 8ms/step - loss: 0.6410 - accuracy: 0.6154 - val_loss: 0.6812 - val_accuracy: 0.5185\n",
            "Epoch 83/100\n",
            "5/5 [==============================] - 0s 9ms/step - loss: 0.6408 - accuracy: 0.6154 - val_loss: 0.6819 - val_accuracy: 0.5185\n",
            "Epoch 84/100\n",
            "5/5 [==============================] - 0s 9ms/step - loss: 0.6406 - accuracy: 0.6154 - val_loss: 0.6822 - val_accuracy: 0.5185\n",
            "Epoch 85/100\n",
            "5/5 [==============================] - 0s 9ms/step - loss: 0.6402 - accuracy: 0.6154 - val_loss: 0.6821 - val_accuracy: 0.5185\n",
            "Epoch 86/100\n",
            "5/5 [==============================] - 0s 8ms/step - loss: 0.6401 - accuracy: 0.6154 - val_loss: 0.6818 - val_accuracy: 0.5185\n",
            "Epoch 87/100\n",
            "5/5 [==============================] - 0s 7ms/step - loss: 0.6397 - accuracy: 0.6154 - val_loss: 0.6821 - val_accuracy: 0.5185\n",
            "Epoch 88/100\n",
            "5/5 [==============================] - 0s 8ms/step - loss: 0.6395 - accuracy: 0.6154 - val_loss: 0.6821 - val_accuracy: 0.5185\n",
            "Epoch 89/100\n",
            "5/5 [==============================] - 0s 8ms/step - loss: 0.6393 - accuracy: 0.6154 - val_loss: 0.6820 - val_accuracy: 0.5185\n",
            "Epoch 90/100\n",
            "5/5 [==============================] - 0s 8ms/step - loss: 0.6396 - accuracy: 0.6154 - val_loss: 0.6823 - val_accuracy: 0.5185\n",
            "Epoch 91/100\n",
            "5/5 [==============================] - 0s 8ms/step - loss: 0.6389 - accuracy: 0.6154 - val_loss: 0.6811 - val_accuracy: 0.5185\n",
            "Epoch 92/100\n",
            "5/5 [==============================] - 0s 7ms/step - loss: 0.6387 - accuracy: 0.6154 - val_loss: 0.6809 - val_accuracy: 0.5185\n",
            "Epoch 93/100\n",
            "5/5 [==============================] - 0s 8ms/step - loss: 0.6384 - accuracy: 0.6154 - val_loss: 0.6805 - val_accuracy: 0.5185\n",
            "Epoch 94/100\n",
            "5/5 [==============================] - 0s 9ms/step - loss: 0.6383 - accuracy: 0.6154 - val_loss: 0.6804 - val_accuracy: 0.5185\n",
            "Epoch 95/100\n",
            "5/5 [==============================] - 0s 9ms/step - loss: 0.6381 - accuracy: 0.6154 - val_loss: 0.6794 - val_accuracy: 0.5185\n",
            "Epoch 96/100\n",
            "5/5 [==============================] - 0s 8ms/step - loss: 0.6379 - accuracy: 0.6154 - val_loss: 0.6785 - val_accuracy: 0.5185\n",
            "Epoch 97/100\n",
            "5/5 [==============================] - 0s 8ms/step - loss: 0.6375 - accuracy: 0.6154 - val_loss: 0.6772 - val_accuracy: 0.5185\n",
            "Epoch 98/100\n",
            "5/5 [==============================] - 0s 7ms/step - loss: 0.6375 - accuracy: 0.6154 - val_loss: 0.6767 - val_accuracy: 0.5185\n",
            "Epoch 99/100\n",
            "5/5 [==============================] - 0s 8ms/step - loss: 0.6374 - accuracy: 0.6154 - val_loss: 0.6758 - val_accuracy: 0.5185\n",
            "Epoch 100/100\n",
            "5/5 [==============================] - 0s 8ms/step - loss: 0.6374 - accuracy: 0.6154 - val_loss: 0.6751 - val_accuracy: 0.5185\n"
          ]
        }
      ]
    },
    {
      "cell_type": "code",
      "source": [
        "model7.evaluate(X_test_scaled, y_test)"
      ],
      "metadata": {
        "colab": {
          "base_uri": "https://localhost:8080/"
        },
        "id": "vuSW-3hF7uM4",
        "outputId": "316c7d73-d396-45a0-ed3a-8b9cd34583b2"
      },
      "execution_count": 124,
      "outputs": [
        {
          "output_type": "stream",
          "name": "stdout",
          "text": [
            "1/1 [==============================] - 0s 19ms/step - loss: 0.6691 - accuracy: 0.4783\n"
          ]
        },
        {
          "output_type": "execute_result",
          "data": {
            "text/plain": [
              "[0.6691227555274963, 0.47826087474823]"
            ]
          },
          "metadata": {},
          "execution_count": 124
        }
      ]
    },
    {
      "cell_type": "code",
      "source": [
        "model7 = tf.keras.models.load_model(f\"/content/model_experiments/{model7.name}\")\n",
        "model7.evaluate(X_test_scaled, y_test)"
      ],
      "metadata": {
        "id": "S7rS6N1nq4HX",
        "outputId": "7b0f7325-4b4c-4f29-caa7-cd4256c83db5",
        "colab": {
          "base_uri": "https://localhost:8080/"
        }
      },
      "execution_count": 125,
      "outputs": [
        {
          "output_type": "stream",
          "name": "stdout",
          "text": [
            "1/1 [==============================] - 0s 119ms/step - loss: 0.6930 - accuracy: 0.4348\n"
          ]
        },
        {
          "output_type": "execute_result",
          "data": {
            "text/plain": [
              "[0.692970335483551, 0.43478259444236755]"
            ]
          },
          "metadata": {},
          "execution_count": 125
        }
      ]
    },
    {
      "cell_type": "code",
      "source": [],
      "metadata": {
        "id": "jM1qixAGG_oP"
      },
      "execution_count": 125,
      "outputs": []
    },
    {
      "cell_type": "code",
      "source": [
        "tf.random.set_seed(42)\n",
        "\n",
        "model8 = tf.keras.Sequential([\n",
        "    tf.keras.layers.Dense(5, activation='relu'),\n",
        "    tf.keras.layers.Dense(10, activation='relu'),\n",
        "    tf.keras.layers.Dense(10, activation='relu'),\n",
        "\n",
        "    # tf.keras.layers.Dense(20, activation='relu'),\n",
        "    # tf.keras.layers.Dense(10, activation='relu'),\n",
        "\n",
        "    # tf.keras.layers.Dense(256, activation='relu'),\n",
        "    tf.keras.layers.Dense(1, activation='sigmoid')\n",
        "])\n",
        "\n",
        "model8.compile(\n",
        "    loss=tf.keras.losses.binary_crossentropy,\n",
        "    optimizer=tf.keras.optimizers.Adam(0.001),\n",
        "    metrics=[\"accuracy\"]\n",
        ")\n",
        "\n",
        "\n",
        "history8 = model8.fit(X_train_scaled, \n",
        "                    y_train, \n",
        "                    epochs=100,\n",
        "                    validation_data = (X_valid_scaled, y_valid),\n",
        "                    callbacks=[create_model_checkpoint(model_name=model8.name)])"
      ],
      "metadata": {
        "id": "6iqdazWeefng",
        "outputId": "b7485808-6ff6-42ae-b5f3-39de7a581978",
        "colab": {
          "base_uri": "https://localhost:8080/"
        }
      },
      "execution_count": 126,
      "outputs": [
        {
          "output_type": "stream",
          "name": "stdout",
          "text": [
            "Epoch 1/100\n",
            "5/5 [==============================] - 1s 210ms/step - loss: 0.6952 - accuracy: 0.4308 - val_loss: 0.6956 - val_accuracy: 0.3333\n",
            "Epoch 2/100\n",
            "5/5 [==============================] - 0s 8ms/step - loss: 0.6929 - accuracy: 0.5231 - val_loss: 0.6948 - val_accuracy: 0.3333\n",
            "Epoch 3/100\n",
            "5/5 [==============================] - 1s 170ms/step - loss: 0.6913 - accuracy: 0.5538 - val_loss: 0.6935 - val_accuracy: 0.4815\n",
            "Epoch 4/100\n",
            "5/5 [==============================] - 1s 174ms/step - loss: 0.6889 - accuracy: 0.6231 - val_loss: 0.6922 - val_accuracy: 0.5185\n",
            "Epoch 5/100\n",
            "5/5 [==============================] - 0s 8ms/step - loss: 0.6866 - accuracy: 0.6154 - val_loss: 0.6911 - val_accuracy: 0.5185\n",
            "Epoch 6/100\n",
            "5/5 [==============================] - 0s 8ms/step - loss: 0.6846 - accuracy: 0.6154 - val_loss: 0.6903 - val_accuracy: 0.5185\n",
            "Epoch 7/100\n",
            "5/5 [==============================] - 0s 10ms/step - loss: 0.6831 - accuracy: 0.6154 - val_loss: 0.6894 - val_accuracy: 0.5185\n",
            "Epoch 8/100\n",
            "5/5 [==============================] - 0s 9ms/step - loss: 0.6811 - accuracy: 0.6154 - val_loss: 0.6886 - val_accuracy: 0.5185\n",
            "Epoch 9/100\n",
            "5/5 [==============================] - 0s 10ms/step - loss: 0.6791 - accuracy: 0.6154 - val_loss: 0.6879 - val_accuracy: 0.5185\n",
            "Epoch 10/100\n",
            "5/5 [==============================] - 0s 9ms/step - loss: 0.6777 - accuracy: 0.6154 - val_loss: 0.6873 - val_accuracy: 0.5185\n",
            "Epoch 11/100\n",
            "5/5 [==============================] - 0s 13ms/step - loss: 0.6760 - accuracy: 0.6154 - val_loss: 0.6867 - val_accuracy: 0.5185\n",
            "Epoch 12/100\n",
            "5/5 [==============================] - 0s 8ms/step - loss: 0.6747 - accuracy: 0.6154 - val_loss: 0.6865 - val_accuracy: 0.5185\n",
            "Epoch 13/100\n",
            "5/5 [==============================] - 0s 10ms/step - loss: 0.6735 - accuracy: 0.6154 - val_loss: 0.6864 - val_accuracy: 0.5185\n",
            "Epoch 14/100\n",
            "5/5 [==============================] - 0s 9ms/step - loss: 0.6718 - accuracy: 0.6154 - val_loss: 0.6865 - val_accuracy: 0.5185\n",
            "Epoch 15/100\n",
            "5/5 [==============================] - 0s 8ms/step - loss: 0.6700 - accuracy: 0.6154 - val_loss: 0.6864 - val_accuracy: 0.5185\n",
            "Epoch 16/100\n",
            "5/5 [==============================] - 0s 9ms/step - loss: 0.6672 - accuracy: 0.6154 - val_loss: 0.6862 - val_accuracy: 0.5185\n",
            "Epoch 17/100\n",
            "5/5 [==============================] - 0s 10ms/step - loss: 0.6643 - accuracy: 0.6154 - val_loss: 0.6869 - val_accuracy: 0.5185\n",
            "Epoch 18/100\n",
            "5/5 [==============================] - 0s 9ms/step - loss: 0.6615 - accuracy: 0.6154 - val_loss: 0.6882 - val_accuracy: 0.5185\n",
            "Epoch 19/100\n",
            "5/5 [==============================] - 0s 9ms/step - loss: 0.6585 - accuracy: 0.6154 - val_loss: 0.6884 - val_accuracy: 0.5185\n",
            "Epoch 20/100\n",
            "5/5 [==============================] - 0s 8ms/step - loss: 0.6571 - accuracy: 0.6154 - val_loss: 0.6893 - val_accuracy: 0.5185\n",
            "Epoch 21/100\n",
            "5/5 [==============================] - 0s 10ms/step - loss: 0.6560 - accuracy: 0.6154 - val_loss: 0.6886 - val_accuracy: 0.5185\n",
            "Epoch 22/100\n",
            "5/5 [==============================] - 0s 9ms/step - loss: 0.6557 - accuracy: 0.6154 - val_loss: 0.6883 - val_accuracy: 0.5185\n",
            "Epoch 23/100\n",
            "5/5 [==============================] - 0s 9ms/step - loss: 0.6548 - accuracy: 0.6154 - val_loss: 0.6882 - val_accuracy: 0.5185\n",
            "Epoch 24/100\n",
            "5/5 [==============================] - 0s 9ms/step - loss: 0.6539 - accuracy: 0.6154 - val_loss: 0.6890 - val_accuracy: 0.5185\n",
            "Epoch 25/100\n",
            "5/5 [==============================] - 0s 9ms/step - loss: 0.6521 - accuracy: 0.6154 - val_loss: 0.6898 - val_accuracy: 0.5185\n",
            "Epoch 26/100\n",
            "5/5 [==============================] - 0s 9ms/step - loss: 0.6511 - accuracy: 0.6154 - val_loss: 0.6902 - val_accuracy: 0.5185\n",
            "Epoch 27/100\n",
            "5/5 [==============================] - 0s 9ms/step - loss: 0.6502 - accuracy: 0.6154 - val_loss: 0.6910 - val_accuracy: 0.5185\n",
            "Epoch 28/100\n",
            "5/5 [==============================] - 0s 8ms/step - loss: 0.6491 - accuracy: 0.6154 - val_loss: 0.6929 - val_accuracy: 0.5185\n",
            "Epoch 29/100\n",
            "5/5 [==============================] - 0s 9ms/step - loss: 0.6474 - accuracy: 0.6154 - val_loss: 0.6956 - val_accuracy: 0.5185\n",
            "Epoch 30/100\n",
            "5/5 [==============================] - 0s 11ms/step - loss: 0.6466 - accuracy: 0.6154 - val_loss: 0.6979 - val_accuracy: 0.5185\n",
            "Epoch 31/100\n",
            "5/5 [==============================] - 0s 8ms/step - loss: 0.6460 - accuracy: 0.6154 - val_loss: 0.6973 - val_accuracy: 0.5185\n",
            "Epoch 32/100\n",
            "5/5 [==============================] - 0s 9ms/step - loss: 0.6455 - accuracy: 0.6154 - val_loss: 0.6982 - val_accuracy: 0.5185\n",
            "Epoch 33/100\n",
            "5/5 [==============================] - 0s 8ms/step - loss: 0.6449 - accuracy: 0.6154 - val_loss: 0.6996 - val_accuracy: 0.5185\n",
            "Epoch 34/100\n",
            "5/5 [==============================] - 0s 8ms/step - loss: 0.6445 - accuracy: 0.6154 - val_loss: 0.6991 - val_accuracy: 0.5185\n",
            "Epoch 35/100\n",
            "5/5 [==============================] - 0s 8ms/step - loss: 0.6440 - accuracy: 0.6154 - val_loss: 0.6999 - val_accuracy: 0.5185\n",
            "Epoch 36/100\n",
            "5/5 [==============================] - 0s 9ms/step - loss: 0.6434 - accuracy: 0.6154 - val_loss: 0.7018 - val_accuracy: 0.5185\n",
            "Epoch 37/100\n",
            "5/5 [==============================] - 0s 8ms/step - loss: 0.6438 - accuracy: 0.6154 - val_loss: 0.7051 - val_accuracy: 0.5185\n",
            "Epoch 38/100\n",
            "5/5 [==============================] - 0s 8ms/step - loss: 0.6436 - accuracy: 0.6154 - val_loss: 0.7087 - val_accuracy: 0.5185\n",
            "Epoch 39/100\n",
            "5/5 [==============================] - 0s 9ms/step - loss: 0.6443 - accuracy: 0.6154 - val_loss: 0.7121 - val_accuracy: 0.5185\n",
            "Epoch 40/100\n",
            "5/5 [==============================] - 0s 8ms/step - loss: 0.6448 - accuracy: 0.6154 - val_loss: 0.7134 - val_accuracy: 0.5185\n",
            "Epoch 41/100\n",
            "5/5 [==============================] - 0s 9ms/step - loss: 0.6442 - accuracy: 0.6154 - val_loss: 0.7095 - val_accuracy: 0.5185\n",
            "Epoch 42/100\n",
            "5/5 [==============================] - 0s 8ms/step - loss: 0.6431 - accuracy: 0.6154 - val_loss: 0.7063 - val_accuracy: 0.5185\n",
            "Epoch 43/100\n",
            "5/5 [==============================] - 0s 8ms/step - loss: 0.6428 - accuracy: 0.6154 - val_loss: 0.7047 - val_accuracy: 0.5185\n",
            "Epoch 44/100\n",
            "5/5 [==============================] - 0s 9ms/step - loss: 0.6419 - accuracy: 0.6154 - val_loss: 0.7028 - val_accuracy: 0.5185\n",
            "Epoch 45/100\n",
            "5/5 [==============================] - 0s 9ms/step - loss: 0.6417 - accuracy: 0.6154 - val_loss: 0.7016 - val_accuracy: 0.5185\n",
            "Epoch 46/100\n",
            "5/5 [==============================] - 0s 13ms/step - loss: 0.6413 - accuracy: 0.6154 - val_loss: 0.6998 - val_accuracy: 0.5185\n",
            "Epoch 47/100\n",
            "5/5 [==============================] - 0s 8ms/step - loss: 0.6410 - accuracy: 0.6154 - val_loss: 0.6998 - val_accuracy: 0.5185\n",
            "Epoch 48/100\n",
            "5/5 [==============================] - 0s 8ms/step - loss: 0.6407 - accuracy: 0.6154 - val_loss: 0.7002 - val_accuracy: 0.5185\n",
            "Epoch 49/100\n",
            "5/5 [==============================] - 0s 9ms/step - loss: 0.6404 - accuracy: 0.6154 - val_loss: 0.6976 - val_accuracy: 0.5185\n",
            "Epoch 50/100\n",
            "5/5 [==============================] - 0s 8ms/step - loss: 0.6401 - accuracy: 0.6154 - val_loss: 0.6936 - val_accuracy: 0.5185\n",
            "Epoch 51/100\n",
            "5/5 [==============================] - 0s 10ms/step - loss: 0.6401 - accuracy: 0.6154 - val_loss: 0.6905 - val_accuracy: 0.5185\n",
            "Epoch 52/100\n",
            "5/5 [==============================] - 0s 10ms/step - loss: 0.6407 - accuracy: 0.6154 - val_loss: 0.6883 - val_accuracy: 0.5185\n",
            "Epoch 53/100\n",
            "5/5 [==============================] - 0s 8ms/step - loss: 0.6404 - accuracy: 0.6154 - val_loss: 0.6879 - val_accuracy: 0.5185\n",
            "Epoch 54/100\n",
            "5/5 [==============================] - 0s 9ms/step - loss: 0.6405 - accuracy: 0.6154 - val_loss: 0.6883 - val_accuracy: 0.5185\n",
            "Epoch 55/100\n",
            "5/5 [==============================] - 0s 8ms/step - loss: 0.6399 - accuracy: 0.6154 - val_loss: 0.6890 - val_accuracy: 0.5185\n",
            "Epoch 56/100\n",
            "5/5 [==============================] - 0s 8ms/step - loss: 0.6392 - accuracy: 0.6154 - val_loss: 0.6903 - val_accuracy: 0.5185\n",
            "Epoch 57/100\n",
            "5/5 [==============================] - 0s 9ms/step - loss: 0.6388 - accuracy: 0.6154 - val_loss: 0.6918 - val_accuracy: 0.5185\n",
            "Epoch 58/100\n",
            "5/5 [==============================] - 0s 9ms/step - loss: 0.6386 - accuracy: 0.6154 - val_loss: 0.6917 - val_accuracy: 0.5185\n",
            "Epoch 59/100\n",
            "5/5 [==============================] - 0s 8ms/step - loss: 0.6385 - accuracy: 0.6154 - val_loss: 0.6921 - val_accuracy: 0.5185\n",
            "Epoch 60/100\n",
            "5/5 [==============================] - 0s 9ms/step - loss: 0.6383 - accuracy: 0.6154 - val_loss: 0.6931 - val_accuracy: 0.5185\n",
            "Epoch 61/100\n",
            "5/5 [==============================] - 0s 8ms/step - loss: 0.6381 - accuracy: 0.6154 - val_loss: 0.6924 - val_accuracy: 0.5185\n",
            "Epoch 62/100\n",
            "5/5 [==============================] - 0s 10ms/step - loss: 0.6378 - accuracy: 0.6154 - val_loss: 0.6898 - val_accuracy: 0.5185\n",
            "Epoch 63/100\n",
            "5/5 [==============================] - 0s 11ms/step - loss: 0.6377 - accuracy: 0.6154 - val_loss: 0.6884 - val_accuracy: 0.5185\n",
            "Epoch 64/100\n",
            "5/5 [==============================] - 0s 9ms/step - loss: 0.6381 - accuracy: 0.6154 - val_loss: 0.6868 - val_accuracy: 0.5185\n",
            "Epoch 65/100\n",
            "5/5 [==============================] - 0s 9ms/step - loss: 0.6379 - accuracy: 0.6154 - val_loss: 0.6856 - val_accuracy: 0.5185\n",
            "Epoch 66/100\n",
            "5/5 [==============================] - 0s 8ms/step - loss: 0.6379 - accuracy: 0.6154 - val_loss: 0.6841 - val_accuracy: 0.5185\n",
            "Epoch 67/100\n",
            "5/5 [==============================] - 0s 9ms/step - loss: 0.6378 - accuracy: 0.6154 - val_loss: 0.6835 - val_accuracy: 0.5185\n",
            "Epoch 68/100\n",
            "5/5 [==============================] - 0s 8ms/step - loss: 0.6376 - accuracy: 0.6154 - val_loss: 0.6836 - val_accuracy: 0.5185\n",
            "Epoch 69/100\n",
            "5/5 [==============================] - 0s 13ms/step - loss: 0.6369 - accuracy: 0.6154 - val_loss: 0.6838 - val_accuracy: 0.5185\n",
            "Epoch 70/100\n",
            "5/5 [==============================] - 0s 12ms/step - loss: 0.6364 - accuracy: 0.6154 - val_loss: 0.6841 - val_accuracy: 0.5185\n",
            "Epoch 71/100\n",
            "5/5 [==============================] - 0s 10ms/step - loss: 0.6362 - accuracy: 0.6154 - val_loss: 0.6838 - val_accuracy: 0.5185\n",
            "Epoch 72/100\n",
            "5/5 [==============================] - 0s 15ms/step - loss: 0.6356 - accuracy: 0.6154 - val_loss: 0.6843 - val_accuracy: 0.5185\n",
            "Epoch 73/100\n",
            "5/5 [==============================] - 0s 9ms/step - loss: 0.6356 - accuracy: 0.6154 - val_loss: 0.6859 - val_accuracy: 0.5185\n",
            "Epoch 74/100\n",
            "5/5 [==============================] - 0s 9ms/step - loss: 0.6348 - accuracy: 0.6154 - val_loss: 0.6875 - val_accuracy: 0.5185\n",
            "Epoch 75/100\n",
            "5/5 [==============================] - 0s 9ms/step - loss: 0.6348 - accuracy: 0.6154 - val_loss: 0.6884 - val_accuracy: 0.5185\n",
            "Epoch 76/100\n",
            "5/5 [==============================] - 0s 8ms/step - loss: 0.6348 - accuracy: 0.6154 - val_loss: 0.6882 - val_accuracy: 0.5185\n",
            "Epoch 77/100\n",
            "5/5 [==============================] - 0s 9ms/step - loss: 0.6348 - accuracy: 0.6154 - val_loss: 0.6861 - val_accuracy: 0.5185\n",
            "Epoch 78/100\n",
            "5/5 [==============================] - 0s 8ms/step - loss: 0.6343 - accuracy: 0.6154 - val_loss: 0.6861 - val_accuracy: 0.5185\n",
            "Epoch 79/100\n",
            "5/5 [==============================] - 0s 9ms/step - loss: 0.6339 - accuracy: 0.6154 - val_loss: 0.6856 - val_accuracy: 0.5185\n",
            "Epoch 80/100\n",
            "5/5 [==============================] - 0s 8ms/step - loss: 0.6337 - accuracy: 0.6154 - val_loss: 0.6859 - val_accuracy: 0.5185\n",
            "Epoch 81/100\n",
            "5/5 [==============================] - 0s 9ms/step - loss: 0.6336 - accuracy: 0.6154 - val_loss: 0.6863 - val_accuracy: 0.5185\n",
            "Epoch 82/100\n",
            "5/5 [==============================] - 0s 8ms/step - loss: 0.6336 - accuracy: 0.6154 - val_loss: 0.6875 - val_accuracy: 0.5185\n",
            "Epoch 83/100\n",
            "5/5 [==============================] - 0s 9ms/step - loss: 0.6333 - accuracy: 0.6154 - val_loss: 0.6886 - val_accuracy: 0.5185\n",
            "Epoch 84/100\n",
            "5/5 [==============================] - 0s 9ms/step - loss: 0.6333 - accuracy: 0.6154 - val_loss: 0.6894 - val_accuracy: 0.5185\n",
            "Epoch 85/100\n",
            "5/5 [==============================] - 0s 9ms/step - loss: 0.6327 - accuracy: 0.6154 - val_loss: 0.6894 - val_accuracy: 0.5185\n",
            "Epoch 86/100\n",
            "5/5 [==============================] - 0s 9ms/step - loss: 0.6325 - accuracy: 0.6154 - val_loss: 0.6890 - val_accuracy: 0.5185\n",
            "Epoch 87/100\n",
            "5/5 [==============================] - 0s 8ms/step - loss: 0.6321 - accuracy: 0.6154 - val_loss: 0.6897 - val_accuracy: 0.5185\n",
            "Epoch 88/100\n",
            "5/5 [==============================] - 0s 8ms/step - loss: 0.6319 - accuracy: 0.6154 - val_loss: 0.6896 - val_accuracy: 0.5185\n",
            "Epoch 89/100\n",
            "5/5 [==============================] - 0s 9ms/step - loss: 0.6317 - accuracy: 0.6154 - val_loss: 0.6897 - val_accuracy: 0.5185\n",
            "Epoch 90/100\n",
            "5/5 [==============================] - 0s 8ms/step - loss: 0.6323 - accuracy: 0.6154 - val_loss: 0.6903 - val_accuracy: 0.5185\n",
            "Epoch 91/100\n",
            "5/5 [==============================] - 0s 9ms/step - loss: 0.6312 - accuracy: 0.6154 - val_loss: 0.6875 - val_accuracy: 0.5185\n",
            "Epoch 92/100\n",
            "5/5 [==============================] - 0s 9ms/step - loss: 0.6307 - accuracy: 0.6154 - val_loss: 0.6867 - val_accuracy: 0.5185\n",
            "Epoch 93/100\n",
            "5/5 [==============================] - 0s 8ms/step - loss: 0.6303 - accuracy: 0.6154 - val_loss: 0.6859 - val_accuracy: 0.5185\n",
            "Epoch 94/100\n",
            "5/5 [==============================] - 0s 10ms/step - loss: 0.6302 - accuracy: 0.6154 - val_loss: 0.6859 - val_accuracy: 0.5185\n",
            "Epoch 95/100\n",
            "5/5 [==============================] - 0s 8ms/step - loss: 0.6298 - accuracy: 0.6154 - val_loss: 0.6846 - val_accuracy: 0.5185\n",
            "Epoch 96/100\n",
            "5/5 [==============================] - 0s 9ms/step - loss: 0.6297 - accuracy: 0.6154 - val_loss: 0.6832 - val_accuracy: 0.5185\n",
            "Epoch 97/100\n",
            "5/5 [==============================] - 0s 8ms/step - loss: 0.6293 - accuracy: 0.6154 - val_loss: 0.6809 - val_accuracy: 0.5185\n",
            "Epoch 98/100\n",
            "5/5 [==============================] - 0s 9ms/step - loss: 0.6292 - accuracy: 0.6154 - val_loss: 0.6800 - val_accuracy: 0.5185\n",
            "Epoch 99/100\n",
            "5/5 [==============================] - 0s 9ms/step - loss: 0.6290 - accuracy: 0.6154 - val_loss: 0.6782 - val_accuracy: 0.5185\n",
            "Epoch 100/100\n",
            "5/5 [==============================] - 0s 9ms/step - loss: 0.6291 - accuracy: 0.6154 - val_loss: 0.6772 - val_accuracy: 0.5185\n"
          ]
        }
      ]
    },
    {
      "cell_type": "code",
      "source": [
        "model8.evaluate(X_test_scaled, y_test)"
      ],
      "metadata": {
        "colab": {
          "base_uri": "https://localhost:8080/"
        },
        "id": "N3z1ldA67vxo",
        "outputId": "e574d2dc-94ed-4519-f633-3fcdea7091bb"
      },
      "execution_count": 127,
      "outputs": [
        {
          "output_type": "stream",
          "name": "stdout",
          "text": [
            "1/1 [==============================] - 0s 23ms/step - loss: 0.6626 - accuracy: 0.4783\n"
          ]
        },
        {
          "output_type": "execute_result",
          "data": {
            "text/plain": [
              "[0.6625529527664185, 0.47826087474823]"
            ]
          },
          "metadata": {},
          "execution_count": 127
        }
      ]
    },
    {
      "cell_type": "code",
      "source": [
        "model8 = tf.keras.models.load_model(f\"/content/model_experiments/{model8.name}\")\n",
        "model8.evaluate(X_test_scaled, y_test)"
      ],
      "metadata": {
        "id": "HDtXkIhQq43p",
        "outputId": "79315aab-c314-468c-f69a-72e330227653",
        "colab": {
          "base_uri": "https://localhost:8080/"
        }
      },
      "execution_count": 128,
      "outputs": [
        {
          "output_type": "stream",
          "name": "stdout",
          "text": [
            "1/1 [==============================] - 0s 121ms/step - loss: 0.6927 - accuracy: 0.4783\n"
          ]
        },
        {
          "output_type": "execute_result",
          "data": {
            "text/plain": [
              "[0.6926807165145874, 0.47826087474823]"
            ]
          },
          "metadata": {},
          "execution_count": 128
        }
      ]
    },
    {
      "cell_type": "code",
      "source": [
        "tf.random.set_seed(42)\n",
        "\n",
        "model9 = tf.keras.Sequential([\n",
        "    tf.keras.layers.Dense(5, activation='relu'),\n",
        "    tf.keras.layers.Dense(21, activation='relu'),\n",
        "    tf.keras.layers.Dense(21, activation='relu'),\n",
        "\n",
        "    # tf.keras.layers.Dense(20, activation='relu'),\n",
        "    # tf.keras.layers.Dense(10, activation='relu'),\n",
        "\n",
        "    # tf.keras.layers.Dense(256, activation='relu'),\n",
        "    tf.keras.layers.Dense(1, activation='sigmoid')\n",
        "])\n",
        "\n",
        "model9.compile(\n",
        "    loss=tf.keras.losses.binary_crossentropy,\n",
        "    optimizer=tf.keras.optimizers.Adam(0.001),\n",
        "    metrics=[\"accuracy\"]\n",
        ")\n",
        "\n",
        "\n",
        "history9 = model9.fit(X_train_scaled, \n",
        "                    y_train, \n",
        "                    epochs=100,\n",
        "                    validation_data = (X_valid_scaled, y_valid),\n",
        "                    callbacks=[create_model_checkpoint(model_name=model9.name)])"
      ],
      "metadata": {
        "id": "IwsQafCPeho4",
        "outputId": "42f51a85-35e2-4708-f850-3ea5378330a9",
        "colab": {
          "base_uri": "https://localhost:8080/"
        }
      },
      "execution_count": 129,
      "outputs": [
        {
          "output_type": "stream",
          "name": "stdout",
          "text": [
            "Epoch 1/100\n",
            "5/5 [==============================] - 1s 201ms/step - loss: 0.6899 - accuracy: 0.5462 - val_loss: 0.6909 - val_accuracy: 0.4815\n",
            "Epoch 2/100\n",
            "5/5 [==============================] - 1s 170ms/step - loss: 0.6843 - accuracy: 0.6077 - val_loss: 0.6893 - val_accuracy: 0.5185\n",
            "Epoch 3/100\n",
            "5/5 [==============================] - 0s 10ms/step - loss: 0.6808 - accuracy: 0.6154 - val_loss: 0.6870 - val_accuracy: 0.5185\n",
            "Epoch 4/100\n",
            "5/5 [==============================] - 0s 9ms/step - loss: 0.6751 - accuracy: 0.6154 - val_loss: 0.6851 - val_accuracy: 0.5185\n",
            "Epoch 5/100\n",
            "5/5 [==============================] - 0s 8ms/step - loss: 0.6698 - accuracy: 0.6154 - val_loss: 0.6839 - val_accuracy: 0.5185\n",
            "Epoch 6/100\n",
            "5/5 [==============================] - 0s 8ms/step - loss: 0.6654 - accuracy: 0.6154 - val_loss: 0.6834 - val_accuracy: 0.5185\n",
            "Epoch 7/100\n",
            "5/5 [==============================] - 0s 8ms/step - loss: 0.6628 - accuracy: 0.6154 - val_loss: 0.6836 - val_accuracy: 0.5185\n",
            "Epoch 8/100\n",
            "5/5 [==============================] - 0s 8ms/step - loss: 0.6586 - accuracy: 0.6154 - val_loss: 0.6843 - val_accuracy: 0.5185\n",
            "Epoch 9/100\n",
            "5/5 [==============================] - 0s 8ms/step - loss: 0.6556 - accuracy: 0.6154 - val_loss: 0.6850 - val_accuracy: 0.5185\n",
            "Epoch 10/100\n",
            "5/5 [==============================] - 0s 8ms/step - loss: 0.6543 - accuracy: 0.6154 - val_loss: 0.6854 - val_accuracy: 0.5185\n",
            "Epoch 11/100\n",
            "5/5 [==============================] - 0s 8ms/step - loss: 0.6528 - accuracy: 0.6154 - val_loss: 0.6853 - val_accuracy: 0.5185\n",
            "Epoch 12/100\n",
            "5/5 [==============================] - 0s 8ms/step - loss: 0.6522 - accuracy: 0.6154 - val_loss: 0.6845 - val_accuracy: 0.5185\n",
            "Epoch 13/100\n",
            "5/5 [==============================] - 0s 8ms/step - loss: 0.6516 - accuracy: 0.6154 - val_loss: 0.6840 - val_accuracy: 0.5185\n",
            "Epoch 14/100\n",
            "5/5 [==============================] - 0s 8ms/step - loss: 0.6510 - accuracy: 0.6154 - val_loss: 0.6838 - val_accuracy: 0.5185\n",
            "Epoch 15/100\n",
            "5/5 [==============================] - 0s 8ms/step - loss: 0.6507 - accuracy: 0.6154 - val_loss: 0.6837 - val_accuracy: 0.5185\n",
            "Epoch 16/100\n",
            "5/5 [==============================] - 0s 8ms/step - loss: 0.6496 - accuracy: 0.6154 - val_loss: 0.6834 - val_accuracy: 0.5185\n",
            "Epoch 17/100\n",
            "5/5 [==============================] - 0s 13ms/step - loss: 0.6488 - accuracy: 0.6154 - val_loss: 0.6834 - val_accuracy: 0.5185\n",
            "Epoch 18/100\n",
            "5/5 [==============================] - 0s 8ms/step - loss: 0.6481 - accuracy: 0.6154 - val_loss: 0.6842 - val_accuracy: 0.5185\n",
            "Epoch 19/100\n",
            "5/5 [==============================] - 0s 9ms/step - loss: 0.6471 - accuracy: 0.6154 - val_loss: 0.6835 - val_accuracy: 0.5185\n",
            "Epoch 20/100\n",
            "5/5 [==============================] - 0s 9ms/step - loss: 0.6466 - accuracy: 0.6154 - val_loss: 0.6837 - val_accuracy: 0.5185\n",
            "Epoch 21/100\n",
            "5/5 [==============================] - 0s 13ms/step - loss: 0.6462 - accuracy: 0.6154 - val_loss: 0.6824 - val_accuracy: 0.5185\n",
            "Epoch 22/100\n",
            "5/5 [==============================] - 0s 8ms/step - loss: 0.6463 - accuracy: 0.6154 - val_loss: 0.6815 - val_accuracy: 0.5185\n",
            "Epoch 23/100\n",
            "5/5 [==============================] - 0s 8ms/step - loss: 0.6461 - accuracy: 0.6154 - val_loss: 0.6810 - val_accuracy: 0.5185\n",
            "Epoch 24/100\n",
            "5/5 [==============================] - 0s 14ms/step - loss: 0.6457 - accuracy: 0.6154 - val_loss: 0.6819 - val_accuracy: 0.5185\n",
            "Epoch 25/100\n",
            "5/5 [==============================] - 0s 8ms/step - loss: 0.6447 - accuracy: 0.6154 - val_loss: 0.6822 - val_accuracy: 0.5185\n",
            "Epoch 26/100\n",
            "5/5 [==============================] - 0s 8ms/step - loss: 0.6442 - accuracy: 0.6154 - val_loss: 0.6821 - val_accuracy: 0.5185\n",
            "Epoch 27/100\n",
            "5/5 [==============================] - 0s 8ms/step - loss: 0.6438 - accuracy: 0.6154 - val_loss: 0.6825 - val_accuracy: 0.5185\n",
            "Epoch 28/100\n",
            "5/5 [==============================] - 0s 8ms/step - loss: 0.6432 - accuracy: 0.6154 - val_loss: 0.6841 - val_accuracy: 0.5185\n",
            "Epoch 29/100\n",
            "5/5 [==============================] - 0s 9ms/step - loss: 0.6422 - accuracy: 0.6154 - val_loss: 0.6865 - val_accuracy: 0.5185\n",
            "Epoch 30/100\n",
            "5/5 [==============================] - 0s 13ms/step - loss: 0.6418 - accuracy: 0.6154 - val_loss: 0.6887 - val_accuracy: 0.5185\n",
            "Epoch 31/100\n",
            "5/5 [==============================] - 0s 8ms/step - loss: 0.6418 - accuracy: 0.6154 - val_loss: 0.6881 - val_accuracy: 0.5185\n",
            "Epoch 32/100\n",
            "5/5 [==============================] - 0s 8ms/step - loss: 0.6414 - accuracy: 0.6154 - val_loss: 0.6891 - val_accuracy: 0.5185\n",
            "Epoch 33/100\n",
            "5/5 [==============================] - 0s 9ms/step - loss: 0.6411 - accuracy: 0.6154 - val_loss: 0.6903 - val_accuracy: 0.5185\n",
            "Epoch 34/100\n",
            "5/5 [==============================] - 0s 8ms/step - loss: 0.6410 - accuracy: 0.6154 - val_loss: 0.6896 - val_accuracy: 0.5185\n",
            "Epoch 35/100\n",
            "5/5 [==============================] - 0s 8ms/step - loss: 0.6408 - accuracy: 0.6154 - val_loss: 0.6904 - val_accuracy: 0.5185\n",
            "Epoch 36/100\n",
            "5/5 [==============================] - 0s 8ms/step - loss: 0.6405 - accuracy: 0.6154 - val_loss: 0.6920 - val_accuracy: 0.5185\n",
            "Epoch 37/100\n",
            "5/5 [==============================] - 0s 8ms/step - loss: 0.6411 - accuracy: 0.6154 - val_loss: 0.6951 - val_accuracy: 0.5185\n",
            "Epoch 38/100\n",
            "5/5 [==============================] - 0s 8ms/step - loss: 0.6413 - accuracy: 0.6154 - val_loss: 0.6983 - val_accuracy: 0.5185\n",
            "Epoch 39/100\n",
            "5/5 [==============================] - 0s 9ms/step - loss: 0.6423 - accuracy: 0.6154 - val_loss: 0.7017 - val_accuracy: 0.5185\n",
            "Epoch 40/100\n",
            "5/5 [==============================] - 0s 8ms/step - loss: 0.6430 - accuracy: 0.6154 - val_loss: 0.7030 - val_accuracy: 0.5185\n",
            "Epoch 41/100\n",
            "5/5 [==============================] - 0s 8ms/step - loss: 0.6423 - accuracy: 0.6154 - val_loss: 0.6979 - val_accuracy: 0.5185\n",
            "Epoch 42/100\n",
            "5/5 [==============================] - 0s 8ms/step - loss: 0.6402 - accuracy: 0.6154 - val_loss: 0.6928 - val_accuracy: 0.5185\n",
            "Epoch 43/100\n",
            "5/5 [==============================] - 0s 8ms/step - loss: 0.6393 - accuracy: 0.6154 - val_loss: 0.6900 - val_accuracy: 0.5185\n",
            "Epoch 44/100\n",
            "5/5 [==============================] - 0s 8ms/step - loss: 0.6377 - accuracy: 0.6154 - val_loss: 0.6871 - val_accuracy: 0.5185\n",
            "Epoch 45/100\n",
            "5/5 [==============================] - 0s 10ms/step - loss: 0.6371 - accuracy: 0.6154 - val_loss: 0.6853 - val_accuracy: 0.5185\n",
            "Epoch 46/100\n",
            "5/5 [==============================] - 0s 8ms/step - loss: 0.6365 - accuracy: 0.6154 - val_loss: 0.6822 - val_accuracy: 0.5185\n",
            "Epoch 47/100\n",
            "5/5 [==============================] - 0s 8ms/step - loss: 0.6360 - accuracy: 0.6154 - val_loss: 0.6816 - val_accuracy: 0.5185\n",
            "Epoch 48/100\n",
            "5/5 [==============================] - 0s 8ms/step - loss: 0.6355 - accuracy: 0.6154 - val_loss: 0.6819 - val_accuracy: 0.5185\n",
            "Epoch 49/100\n",
            "5/5 [==============================] - 0s 8ms/step - loss: 0.6351 - accuracy: 0.6154 - val_loss: 0.6789 - val_accuracy: 0.5185\n",
            "Epoch 50/100\n",
            "5/5 [==============================] - 0s 8ms/step - loss: 0.6347 - accuracy: 0.6154 - val_loss: 0.6747 - val_accuracy: 0.5185\n",
            "Epoch 51/100\n",
            "5/5 [==============================] - 0s 10ms/step - loss: 0.6348 - accuracy: 0.6154 - val_loss: 0.6719 - val_accuracy: 0.5185\n",
            "Epoch 52/100\n",
            "5/5 [==============================] - 0s 8ms/step - loss: 0.6356 - accuracy: 0.6154 - val_loss: 0.6701 - val_accuracy: 0.5185\n",
            "Epoch 53/100\n",
            "5/5 [==============================] - 0s 8ms/step - loss: 0.6352 - accuracy: 0.6154 - val_loss: 0.6702 - val_accuracy: 0.5185\n",
            "Epoch 54/100\n",
            "5/5 [==============================] - 0s 8ms/step - loss: 0.6352 - accuracy: 0.6154 - val_loss: 0.6710 - val_accuracy: 0.5185\n",
            "Epoch 55/100\n",
            "5/5 [==============================] - 0s 8ms/step - loss: 0.6341 - accuracy: 0.6154 - val_loss: 0.6721 - val_accuracy: 0.5185\n",
            "Epoch 56/100\n",
            "5/5 [==============================] - 0s 9ms/step - loss: 0.6331 - accuracy: 0.6154 - val_loss: 0.6739 - val_accuracy: 0.5185\n",
            "Epoch 57/100\n",
            "5/5 [==============================] - 0s 8ms/step - loss: 0.6327 - accuracy: 0.6154 - val_loss: 0.6756 - val_accuracy: 0.5185\n",
            "Epoch 58/100\n",
            "5/5 [==============================] - 0s 8ms/step - loss: 0.6326 - accuracy: 0.6154 - val_loss: 0.6748 - val_accuracy: 0.5185\n",
            "Epoch 59/100\n",
            "5/5 [==============================] - 0s 8ms/step - loss: 0.6325 - accuracy: 0.6154 - val_loss: 0.6745 - val_accuracy: 0.5185\n",
            "Epoch 60/100\n",
            "5/5 [==============================] - 0s 8ms/step - loss: 0.6322 - accuracy: 0.6154 - val_loss: 0.6754 - val_accuracy: 0.5185\n",
            "Epoch 61/100\n",
            "5/5 [==============================] - 0s 8ms/step - loss: 0.6320 - accuracy: 0.6154 - val_loss: 0.6741 - val_accuracy: 0.5185\n",
            "Epoch 62/100\n",
            "5/5 [==============================] - 0s 9ms/step - loss: 0.6315 - accuracy: 0.6154 - val_loss: 0.6707 - val_accuracy: 0.5185\n",
            "Epoch 63/100\n",
            "5/5 [==============================] - 0s 8ms/step - loss: 0.6313 - accuracy: 0.6154 - val_loss: 0.6688 - val_accuracy: 0.5185\n",
            "Epoch 64/100\n",
            "5/5 [==============================] - 0s 8ms/step - loss: 0.6320 - accuracy: 0.6154 - val_loss: 0.6670 - val_accuracy: 0.5185\n",
            "Epoch 65/100\n",
            "5/5 [==============================] - 0s 8ms/step - loss: 0.6317 - accuracy: 0.6154 - val_loss: 0.6656 - val_accuracy: 0.5185\n",
            "Epoch 66/100\n",
            "5/5 [==============================] - 1s 171ms/step - loss: 0.6316 - accuracy: 0.6077 - val_loss: 0.6639 - val_accuracy: 0.5926\n",
            "Epoch 67/100\n",
            "5/5 [==============================] - 0s 9ms/step - loss: 0.6316 - accuracy: 0.6154 - val_loss: 0.6632 - val_accuracy: 0.5926\n",
            "Epoch 68/100\n",
            "5/5 [==============================] - 0s 9ms/step - loss: 0.6311 - accuracy: 0.6231 - val_loss: 0.6635 - val_accuracy: 0.5926\n",
            "Epoch 69/100\n",
            "5/5 [==============================] - 0s 8ms/step - loss: 0.6300 - accuracy: 0.6308 - val_loss: 0.6638 - val_accuracy: 0.5926\n",
            "Epoch 70/100\n",
            "5/5 [==============================] - 0s 8ms/step - loss: 0.6292 - accuracy: 0.6538 - val_loss: 0.6640 - val_accuracy: 0.5926\n",
            "Epoch 71/100\n",
            "5/5 [==============================] - 0s 8ms/step - loss: 0.6289 - accuracy: 0.6538 - val_loss: 0.6638 - val_accuracy: 0.5926\n",
            "Epoch 72/100\n",
            "5/5 [==============================] - 0s 8ms/step - loss: 0.6281 - accuracy: 0.6538 - val_loss: 0.6644 - val_accuracy: 0.5926\n",
            "Epoch 73/100\n",
            "5/5 [==============================] - 0s 9ms/step - loss: 0.6280 - accuracy: 0.6462 - val_loss: 0.6667 - val_accuracy: 0.5926\n",
            "Epoch 74/100\n",
            "5/5 [==============================] - 0s 13ms/step - loss: 0.6270 - accuracy: 0.6077 - val_loss: 0.6686 - val_accuracy: 0.5926\n",
            "Epoch 75/100\n",
            "5/5 [==============================] - 0s 11ms/step - loss: 0.6270 - accuracy: 0.6077 - val_loss: 0.6690 - val_accuracy: 0.5926\n",
            "Epoch 76/100\n",
            "5/5 [==============================] - 0s 9ms/step - loss: 0.6269 - accuracy: 0.6154 - val_loss: 0.6682 - val_accuracy: 0.5926\n",
            "Epoch 77/100\n",
            "5/5 [==============================] - 0s 8ms/step - loss: 0.6269 - accuracy: 0.6538 - val_loss: 0.6656 - val_accuracy: 0.5926\n",
            "Epoch 78/100\n",
            "5/5 [==============================] - 0s 8ms/step - loss: 0.6263 - accuracy: 0.6538 - val_loss: 0.6657 - val_accuracy: 0.5926\n",
            "Epoch 79/100\n",
            "5/5 [==============================] - 0s 9ms/step - loss: 0.6257 - accuracy: 0.6538 - val_loss: 0.6651 - val_accuracy: 0.5926\n",
            "Epoch 80/100\n",
            "5/5 [==============================] - 0s 9ms/step - loss: 0.6255 - accuracy: 0.6615 - val_loss: 0.6656 - val_accuracy: 0.5926\n",
            "Epoch 81/100\n",
            "5/5 [==============================] - 0s 13ms/step - loss: 0.6253 - accuracy: 0.6615 - val_loss: 0.6663 - val_accuracy: 0.5926\n",
            "Epoch 82/100\n",
            "5/5 [==============================] - 0s 9ms/step - loss: 0.6253 - accuracy: 0.6538 - val_loss: 0.6681 - val_accuracy: 0.5926\n",
            "Epoch 83/100\n",
            "5/5 [==============================] - 0s 14ms/step - loss: 0.6251 - accuracy: 0.6462 - val_loss: 0.6699 - val_accuracy: 0.5926\n",
            "Epoch 84/100\n",
            "5/5 [==============================] - 0s 8ms/step - loss: 0.6251 - accuracy: 0.6615 - val_loss: 0.6708 - val_accuracy: 0.5926\n",
            "Epoch 85/100\n",
            "5/5 [==============================] - 0s 8ms/step - loss: 0.6244 - accuracy: 0.6615 - val_loss: 0.6706 - val_accuracy: 0.5926\n",
            "Epoch 86/100\n",
            "5/5 [==============================] - 0s 8ms/step - loss: 0.6243 - accuracy: 0.6538 - val_loss: 0.6701 - val_accuracy: 0.5926\n",
            "Epoch 87/100\n",
            "5/5 [==============================] - 0s 9ms/step - loss: 0.6237 - accuracy: 0.6538 - val_loss: 0.6709 - val_accuracy: 0.5926\n",
            "Epoch 88/100\n",
            "5/5 [==============================] - 0s 9ms/step - loss: 0.6236 - accuracy: 0.6538 - val_loss: 0.6705 - val_accuracy: 0.5926\n",
            "Epoch 89/100\n",
            "5/5 [==============================] - 0s 8ms/step - loss: 0.6233 - accuracy: 0.6692 - val_loss: 0.6704 - val_accuracy: 0.5926\n",
            "Epoch 90/100\n",
            "5/5 [==============================] - 0s 8ms/step - loss: 0.6239 - accuracy: 0.6692 - val_loss: 0.6707 - val_accuracy: 0.5926\n",
            "Epoch 91/100\n",
            "5/5 [==============================] - 1s 172ms/step - loss: 0.6226 - accuracy: 0.6692 - val_loss: 0.6665 - val_accuracy: 0.6296\n",
            "Epoch 92/100\n",
            "5/5 [==============================] - 0s 10ms/step - loss: 0.6218 - accuracy: 0.6846 - val_loss: 0.6651 - val_accuracy: 0.6296\n",
            "Epoch 93/100\n",
            "5/5 [==============================] - 0s 10ms/step - loss: 0.6213 - accuracy: 0.6846 - val_loss: 0.6636 - val_accuracy: 0.6296\n",
            "Epoch 94/100\n",
            "5/5 [==============================] - 0s 12ms/step - loss: 0.6213 - accuracy: 0.6769 - val_loss: 0.6634 - val_accuracy: 0.6296\n",
            "Epoch 95/100\n",
            "5/5 [==============================] - 0s 9ms/step - loss: 0.6209 - accuracy: 0.6769 - val_loss: 0.6616 - val_accuracy: 0.6296\n",
            "Epoch 96/100\n",
            "5/5 [==============================] - 0s 10ms/step - loss: 0.6208 - accuracy: 0.6538 - val_loss: 0.6600 - val_accuracy: 0.6296\n",
            "Epoch 97/100\n",
            "5/5 [==============================] - 0s 8ms/step - loss: 0.6205 - accuracy: 0.6615 - val_loss: 0.6578 - val_accuracy: 0.6296\n",
            "Epoch 98/100\n",
            "5/5 [==============================] - 0s 8ms/step - loss: 0.6208 - accuracy: 0.6615 - val_loss: 0.6574 - val_accuracy: 0.6296\n",
            "Epoch 99/100\n",
            "5/5 [==============================] - 0s 8ms/step - loss: 0.6207 - accuracy: 0.6692 - val_loss: 0.6561 - val_accuracy: 0.6296\n",
            "Epoch 100/100\n",
            "5/5 [==============================] - 0s 8ms/step - loss: 0.6207 - accuracy: 0.6769 - val_loss: 0.6560 - val_accuracy: 0.6296\n"
          ]
        }
      ]
    },
    {
      "cell_type": "code",
      "source": [
        "model9.evaluate(X_test_scaled, y_test)"
      ],
      "metadata": {
        "colab": {
          "base_uri": "https://localhost:8080/"
        },
        "id": "hd_oLO0b7xF-",
        "outputId": "3ed4aba5-2565-4eaf-bf2f-db094389c96c"
      },
      "execution_count": 130,
      "outputs": [
        {
          "output_type": "stream",
          "name": "stdout",
          "text": [
            "1/1 [==============================] - 0s 20ms/step - loss: 0.6338 - accuracy: 0.6957\n"
          ]
        },
        {
          "output_type": "execute_result",
          "data": {
            "text/plain": [
              "[0.6338170766830444, 0.695652186870575]"
            ]
          },
          "metadata": {},
          "execution_count": 130
        }
      ]
    },
    {
      "cell_type": "code",
      "source": [
        "model9 = tf.keras.models.load_model(f\"/content/model_experiments/{model9.name}\")\n",
        "model9.evaluate(X_test_scaled, y_test)"
      ],
      "metadata": {
        "id": "PNeldcfCq6b9",
        "outputId": "7d48dda7-a8b1-4616-9100-e441d4fd0821",
        "colab": {
          "base_uri": "https://localhost:8080/"
        }
      },
      "execution_count": 131,
      "outputs": [
        {
          "output_type": "stream",
          "name": "stdout",
          "text": [
            "1/1 [==============================] - 0s 118ms/step - loss: 0.6427 - accuracy: 0.6522\n"
          ]
        },
        {
          "output_type": "execute_result",
          "data": {
            "text/plain": [
              "[0.6426671743392944, 0.6521739363670349]"
            ]
          },
          "metadata": {},
          "execution_count": 131
        }
      ]
    },
    {
      "cell_type": "code",
      "source": [],
      "metadata": {
        "id": "MLbBeyiit_4Z"
      },
      "execution_count": 131,
      "outputs": []
    },
    {
      "cell_type": "code",
      "source": [],
      "metadata": {
        "id": "pZYMdY3Ht__h"
      },
      "execution_count": 131,
      "outputs": []
    },
    {
      "cell_type": "code",
      "source": [],
      "metadata": {
        "id": "3jGW7vHzcyKG"
      },
      "execution_count": 131,
      "outputs": []
    },
    {
      "cell_type": "code",
      "source": [
        "tf.random.set_seed(42)\n",
        "\n",
        "model10 = tf.keras.Sequential([\n",
        "    tf.keras.layers.Dense(5, activation='relu'),\n",
        "    tf.keras.layers.Dense(4, activation='relu'),\n",
        "    tf.keras.layers.Dense(4, activation='relu'),\n",
        "\n",
        "    # tf.keras.layers.Dense(20, activation='relu'),\n",
        "    # tf.keras.layers.Dense(10, activation='relu'),\n",
        "\n",
        "    # tf.keras.layers.Dense(256, activation='relu'),\n",
        "    tf.keras.layers.Dense(1, activation='sigmoid')\n",
        "])\n",
        "\n",
        "model10.compile(\n",
        "    loss=tf.keras.losses.binary_crossentropy,\n",
        "    optimizer=tf.keras.optimizers.Adam(0.001),\n",
        "    metrics=[\"accuracy\"]\n",
        ")\n",
        "\n",
        "\n",
        "history10 = model10.fit(X_train_scaled, \n",
        "                    y_train, \n",
        "                    epochs=100,\n",
        "                    validation_data = (X_valid_scaled, y_valid),\n",
        "                    callbacks=[create_model_checkpoint(model_name=model10.name)])"
      ],
      "metadata": {
        "id": "en9K52fle0pU",
        "outputId": "5974b719-fa79-4322-c2b7-4b37535d548c",
        "colab": {
          "base_uri": "https://localhost:8080/"
        }
      },
      "execution_count": 132,
      "outputs": [
        {
          "output_type": "stream",
          "name": "stdout",
          "text": [
            "Epoch 1/100\n",
            "5/5 [==============================] - 2s 214ms/step - loss: 0.6926 - accuracy: 0.5846 - val_loss: 0.6925 - val_accuracy: 0.5185\n",
            "Epoch 2/100\n",
            "5/5 [==============================] - 0s 12ms/step - loss: 0.6922 - accuracy: 0.6000 - val_loss: 0.6924 - val_accuracy: 0.5185\n",
            "Epoch 3/100\n",
            "5/5 [==============================] - 0s 8ms/step - loss: 0.6918 - accuracy: 0.6077 - val_loss: 0.6921 - val_accuracy: 0.5185\n",
            "Epoch 4/100\n",
            "5/5 [==============================] - 0s 8ms/step - loss: 0.6913 - accuracy: 0.6154 - val_loss: 0.6915 - val_accuracy: 0.5185\n",
            "Epoch 5/100\n",
            "5/5 [==============================] - 0s 8ms/step - loss: 0.6907 - accuracy: 0.6154 - val_loss: 0.6911 - val_accuracy: 0.5185\n",
            "Epoch 6/100\n",
            "5/5 [==============================] - 0s 9ms/step - loss: 0.6902 - accuracy: 0.6154 - val_loss: 0.6907 - val_accuracy: 0.5185\n",
            "Epoch 7/100\n",
            "5/5 [==============================] - 0s 8ms/step - loss: 0.6897 - accuracy: 0.6154 - val_loss: 0.6904 - val_accuracy: 0.5185\n",
            "Epoch 8/100\n",
            "5/5 [==============================] - 0s 8ms/step - loss: 0.6889 - accuracy: 0.6154 - val_loss: 0.6900 - val_accuracy: 0.5185\n",
            "Epoch 9/100\n",
            "5/5 [==============================] - 0s 8ms/step - loss: 0.6877 - accuracy: 0.6154 - val_loss: 0.6893 - val_accuracy: 0.5185\n",
            "Epoch 10/100\n",
            "5/5 [==============================] - 0s 8ms/step - loss: 0.6870 - accuracy: 0.6154 - val_loss: 0.6888 - val_accuracy: 0.5185\n",
            "Epoch 11/100\n",
            "5/5 [==============================] - 0s 8ms/step - loss: 0.6863 - accuracy: 0.6154 - val_loss: 0.6884 - val_accuracy: 0.5185\n",
            "Epoch 12/100\n",
            "5/5 [==============================] - 0s 8ms/step - loss: 0.6859 - accuracy: 0.6154 - val_loss: 0.6882 - val_accuracy: 0.5185\n",
            "Epoch 13/100\n",
            "5/5 [==============================] - 0s 8ms/step - loss: 0.6854 - accuracy: 0.6154 - val_loss: 0.6880 - val_accuracy: 0.5185\n",
            "Epoch 14/100\n",
            "5/5 [==============================] - 0s 8ms/step - loss: 0.6850 - accuracy: 0.6154 - val_loss: 0.6879 - val_accuracy: 0.5185\n",
            "Epoch 15/100\n",
            "5/5 [==============================] - 0s 7ms/step - loss: 0.6843 - accuracy: 0.6154 - val_loss: 0.6874 - val_accuracy: 0.5185\n",
            "Epoch 16/100\n",
            "5/5 [==============================] - 0s 7ms/step - loss: 0.6830 - accuracy: 0.6154 - val_loss: 0.6870 - val_accuracy: 0.5185\n",
            "Epoch 17/100\n",
            "5/5 [==============================] - 0s 10ms/step - loss: 0.6818 - accuracy: 0.6154 - val_loss: 0.6868 - val_accuracy: 0.5185\n",
            "Epoch 18/100\n",
            "5/5 [==============================] - 0s 8ms/step - loss: 0.6803 - accuracy: 0.6154 - val_loss: 0.6869 - val_accuracy: 0.5185\n",
            "Epoch 19/100\n",
            "5/5 [==============================] - 0s 9ms/step - loss: 0.6783 - accuracy: 0.6154 - val_loss: 0.6871 - val_accuracy: 0.5185\n",
            "Epoch 20/100\n",
            "5/5 [==============================] - 0s 8ms/step - loss: 0.6768 - accuracy: 0.6154 - val_loss: 0.6874 - val_accuracy: 0.5185\n",
            "Epoch 21/100\n",
            "5/5 [==============================] - 0s 9ms/step - loss: 0.6755 - accuracy: 0.6154 - val_loss: 0.6874 - val_accuracy: 0.5185\n",
            "Epoch 22/100\n",
            "5/5 [==============================] - 0s 8ms/step - loss: 0.6745 - accuracy: 0.6154 - val_loss: 0.6872 - val_accuracy: 0.5185\n",
            "Epoch 23/100\n",
            "5/5 [==============================] - 0s 8ms/step - loss: 0.6728 - accuracy: 0.6154 - val_loss: 0.6869 - val_accuracy: 0.5185\n",
            "Epoch 24/100\n",
            "5/5 [==============================] - 0s 9ms/step - loss: 0.6714 - accuracy: 0.6154 - val_loss: 0.6865 - val_accuracy: 0.5185\n",
            "Epoch 25/100\n",
            "5/5 [==============================] - 0s 9ms/step - loss: 0.6693 - accuracy: 0.6154 - val_loss: 0.6861 - val_accuracy: 0.5185\n",
            "Epoch 26/100\n",
            "5/5 [==============================] - 0s 8ms/step - loss: 0.6676 - accuracy: 0.6154 - val_loss: 0.6857 - val_accuracy: 0.5185\n",
            "Epoch 27/100\n",
            "5/5 [==============================] - 0s 8ms/step - loss: 0.6661 - accuracy: 0.6154 - val_loss: 0.6853 - val_accuracy: 0.5185\n",
            "Epoch 28/100\n",
            "5/5 [==============================] - 0s 8ms/step - loss: 0.6640 - accuracy: 0.6154 - val_loss: 0.6850 - val_accuracy: 0.5185\n",
            "Epoch 29/100\n",
            "5/5 [==============================] - 0s 8ms/step - loss: 0.6614 - accuracy: 0.6154 - val_loss: 0.6849 - val_accuracy: 0.5185\n",
            "Epoch 30/100\n",
            "5/5 [==============================] - 0s 8ms/step - loss: 0.6594 - accuracy: 0.6154 - val_loss: 0.6849 - val_accuracy: 0.5185\n",
            "Epoch 31/100\n",
            "5/5 [==============================] - 0s 8ms/step - loss: 0.6579 - accuracy: 0.6154 - val_loss: 0.6848 - val_accuracy: 0.5185\n",
            "Epoch 32/100\n",
            "5/5 [==============================] - 0s 9ms/step - loss: 0.6568 - accuracy: 0.6154 - val_loss: 0.6849 - val_accuracy: 0.5185\n",
            "Epoch 33/100\n",
            "5/5 [==============================] - 0s 8ms/step - loss: 0.6554 - accuracy: 0.6154 - val_loss: 0.6852 - val_accuracy: 0.5185\n",
            "Epoch 34/100\n",
            "5/5 [==============================] - 0s 8ms/step - loss: 0.6544 - accuracy: 0.6154 - val_loss: 0.6853 - val_accuracy: 0.5185\n",
            "Epoch 35/100\n",
            "5/5 [==============================] - 0s 8ms/step - loss: 0.6534 - accuracy: 0.6154 - val_loss: 0.6857 - val_accuracy: 0.5185\n",
            "Epoch 36/100\n",
            "5/5 [==============================] - 0s 8ms/step - loss: 0.6522 - accuracy: 0.6154 - val_loss: 0.6864 - val_accuracy: 0.5185\n",
            "Epoch 37/100\n",
            "5/5 [==============================] - 0s 8ms/step - loss: 0.6516 - accuracy: 0.6154 - val_loss: 0.6874 - val_accuracy: 0.5185\n",
            "Epoch 38/100\n",
            "5/5 [==============================] - 0s 8ms/step - loss: 0.6507 - accuracy: 0.6154 - val_loss: 0.6886 - val_accuracy: 0.5185\n",
            "Epoch 39/100\n",
            "5/5 [==============================] - 0s 9ms/step - loss: 0.6502 - accuracy: 0.6154 - val_loss: 0.6900 - val_accuracy: 0.5185\n",
            "Epoch 40/100\n",
            "5/5 [==============================] - 0s 15ms/step - loss: 0.6497 - accuracy: 0.6154 - val_loss: 0.6911 - val_accuracy: 0.5185\n",
            "Epoch 41/100\n",
            "5/5 [==============================] - 0s 11ms/step - loss: 0.6493 - accuracy: 0.6154 - val_loss: 0.6908 - val_accuracy: 0.5185\n",
            "Epoch 42/100\n",
            "5/5 [==============================] - 0s 8ms/step - loss: 0.6490 - accuracy: 0.6154 - val_loss: 0.6900 - val_accuracy: 0.5185\n",
            "Epoch 43/100\n",
            "5/5 [==============================] - 0s 9ms/step - loss: 0.6487 - accuracy: 0.6154 - val_loss: 0.6898 - val_accuracy: 0.5185\n",
            "Epoch 44/100\n",
            "5/5 [==============================] - 0s 8ms/step - loss: 0.6484 - accuracy: 0.6154 - val_loss: 0.6895 - val_accuracy: 0.5185\n",
            "Epoch 45/100\n",
            "5/5 [==============================] - 0s 9ms/step - loss: 0.6481 - accuracy: 0.6154 - val_loss: 0.6894 - val_accuracy: 0.5185\n",
            "Epoch 46/100\n",
            "5/5 [==============================] - 0s 9ms/step - loss: 0.6479 - accuracy: 0.6154 - val_loss: 0.6888 - val_accuracy: 0.5185\n",
            "Epoch 47/100\n",
            "5/5 [==============================] - 0s 9ms/step - loss: 0.6476 - accuracy: 0.6154 - val_loss: 0.6890 - val_accuracy: 0.5185\n",
            "Epoch 48/100\n",
            "5/5 [==============================] - 0s 8ms/step - loss: 0.6472 - accuracy: 0.6154 - val_loss: 0.6893 - val_accuracy: 0.5185\n",
            "Epoch 49/100\n",
            "5/5 [==============================] - 0s 9ms/step - loss: 0.6470 - accuracy: 0.6154 - val_loss: 0.6883 - val_accuracy: 0.5185\n",
            "Epoch 50/100\n",
            "5/5 [==============================] - 0s 8ms/step - loss: 0.6468 - accuracy: 0.6154 - val_loss: 0.6866 - val_accuracy: 0.5185\n",
            "Epoch 51/100\n",
            "5/5 [==============================] - 0s 9ms/step - loss: 0.6467 - accuracy: 0.6154 - val_loss: 0.6853 - val_accuracy: 0.5185\n",
            "Epoch 52/100\n",
            "5/5 [==============================] - 0s 8ms/step - loss: 0.6470 - accuracy: 0.6154 - val_loss: 0.6843 - val_accuracy: 0.5185\n",
            "Epoch 53/100\n",
            "5/5 [==============================] - 0s 8ms/step - loss: 0.6467 - accuracy: 0.6154 - val_loss: 0.6842 - val_accuracy: 0.5185\n",
            "Epoch 54/100\n",
            "5/5 [==============================] - 0s 8ms/step - loss: 0.6466 - accuracy: 0.6154 - val_loss: 0.6843 - val_accuracy: 0.5185\n",
            "Epoch 55/100\n",
            "5/5 [==============================] - 0s 8ms/step - loss: 0.6462 - accuracy: 0.6154 - val_loss: 0.6845 - val_accuracy: 0.5185\n",
            "Epoch 56/100\n",
            "5/5 [==============================] - 0s 9ms/step - loss: 0.6456 - accuracy: 0.6154 - val_loss: 0.6851 - val_accuracy: 0.5185\n",
            "Epoch 57/100\n",
            "5/5 [==============================] - 0s 9ms/step - loss: 0.6453 - accuracy: 0.6154 - val_loss: 0.6858 - val_accuracy: 0.5185\n",
            "Epoch 58/100\n",
            "5/5 [==============================] - 0s 8ms/step - loss: 0.6452 - accuracy: 0.6154 - val_loss: 0.6855 - val_accuracy: 0.5185\n",
            "Epoch 59/100\n",
            "5/5 [==============================] - 0s 8ms/step - loss: 0.6451 - accuracy: 0.6154 - val_loss: 0.6854 - val_accuracy: 0.5185\n",
            "Epoch 60/100\n",
            "5/5 [==============================] - 0s 8ms/step - loss: 0.6449 - accuracy: 0.6154 - val_loss: 0.6858 - val_accuracy: 0.5185\n",
            "Epoch 61/100\n",
            "5/5 [==============================] - 0s 10ms/step - loss: 0.6447 - accuracy: 0.6154 - val_loss: 0.6854 - val_accuracy: 0.5185\n",
            "Epoch 62/100\n",
            "5/5 [==============================] - 0s 9ms/step - loss: 0.6445 - accuracy: 0.6154 - val_loss: 0.6840 - val_accuracy: 0.5185\n",
            "Epoch 63/100\n",
            "5/5 [==============================] - 0s 8ms/step - loss: 0.6443 - accuracy: 0.6154 - val_loss: 0.6831 - val_accuracy: 0.5185\n",
            "Epoch 64/100\n",
            "5/5 [==============================] - 0s 8ms/step - loss: 0.6447 - accuracy: 0.6154 - val_loss: 0.6822 - val_accuracy: 0.5185\n",
            "Epoch 65/100\n",
            "5/5 [==============================] - 0s 8ms/step - loss: 0.6444 - accuracy: 0.6154 - val_loss: 0.6815 - val_accuracy: 0.5185\n",
            "Epoch 66/100\n",
            "5/5 [==============================] - 0s 9ms/step - loss: 0.6444 - accuracy: 0.6154 - val_loss: 0.6804 - val_accuracy: 0.5185\n",
            "Epoch 67/100\n",
            "5/5 [==============================] - 0s 10ms/step - loss: 0.6443 - accuracy: 0.6154 - val_loss: 0.6799 - val_accuracy: 0.5185\n",
            "Epoch 68/100\n",
            "5/5 [==============================] - 0s 10ms/step - loss: 0.6441 - accuracy: 0.6154 - val_loss: 0.6799 - val_accuracy: 0.5185\n",
            "Epoch 69/100\n",
            "5/5 [==============================] - 0s 8ms/step - loss: 0.6436 - accuracy: 0.6154 - val_loss: 0.6799 - val_accuracy: 0.5185\n",
            "Epoch 70/100\n",
            "5/5 [==============================] - 0s 8ms/step - loss: 0.6433 - accuracy: 0.6154 - val_loss: 0.6798 - val_accuracy: 0.5185\n",
            "Epoch 71/100\n",
            "5/5 [==============================] - 0s 8ms/step - loss: 0.6431 - accuracy: 0.6154 - val_loss: 0.6797 - val_accuracy: 0.5185\n",
            "Epoch 72/100\n",
            "5/5 [==============================] - 0s 8ms/step - loss: 0.6426 - accuracy: 0.6154 - val_loss: 0.6799 - val_accuracy: 0.5185\n",
            "Epoch 73/100\n",
            "5/5 [==============================] - 0s 8ms/step - loss: 0.6425 - accuracy: 0.6154 - val_loss: 0.6807 - val_accuracy: 0.5185\n",
            "Epoch 74/100\n",
            "5/5 [==============================] - 0s 9ms/step - loss: 0.6419 - accuracy: 0.6154 - val_loss: 0.6814 - val_accuracy: 0.5185\n",
            "Epoch 75/100\n",
            "5/5 [==============================] - 0s 8ms/step - loss: 0.6419 - accuracy: 0.6154 - val_loss: 0.6817 - val_accuracy: 0.5185\n",
            "Epoch 76/100\n",
            "5/5 [==============================] - 0s 9ms/step - loss: 0.6418 - accuracy: 0.6154 - val_loss: 0.6817 - val_accuracy: 0.5185\n",
            "Epoch 77/100\n",
            "5/5 [==============================] - 0s 8ms/step - loss: 0.6418 - accuracy: 0.6154 - val_loss: 0.6806 - val_accuracy: 0.5185\n",
            "Epoch 78/100\n",
            "5/5 [==============================] - 0s 8ms/step - loss: 0.6415 - accuracy: 0.6154 - val_loss: 0.6806 - val_accuracy: 0.5185\n",
            "Epoch 79/100\n",
            "5/5 [==============================] - 0s 10ms/step - loss: 0.6412 - accuracy: 0.6154 - val_loss: 0.6803 - val_accuracy: 0.5185\n",
            "Epoch 80/100\n",
            "5/5 [==============================] - 0s 9ms/step - loss: 0.6411 - accuracy: 0.6154 - val_loss: 0.6804 - val_accuracy: 0.5185\n",
            "Epoch 81/100\n",
            "5/5 [==============================] - 0s 8ms/step - loss: 0.6410 - accuracy: 0.6154 - val_loss: 0.6806 - val_accuracy: 0.5185\n",
            "Epoch 82/100\n",
            "5/5 [==============================] - 0s 10ms/step - loss: 0.6410 - accuracy: 0.6154 - val_loss: 0.6812 - val_accuracy: 0.5185\n",
            "Epoch 83/100\n",
            "5/5 [==============================] - 0s 9ms/step - loss: 0.6408 - accuracy: 0.6154 - val_loss: 0.6819 - val_accuracy: 0.5185\n",
            "Epoch 84/100\n",
            "5/5 [==============================] - 0s 8ms/step - loss: 0.6406 - accuracy: 0.6154 - val_loss: 0.6822 - val_accuracy: 0.5185\n",
            "Epoch 85/100\n",
            "5/5 [==============================] - 0s 8ms/step - loss: 0.6402 - accuracy: 0.6154 - val_loss: 0.6821 - val_accuracy: 0.5185\n",
            "Epoch 86/100\n",
            "5/5 [==============================] - 0s 8ms/step - loss: 0.6401 - accuracy: 0.6154 - val_loss: 0.6818 - val_accuracy: 0.5185\n",
            "Epoch 87/100\n",
            "5/5 [==============================] - 0s 8ms/step - loss: 0.6397 - accuracy: 0.6154 - val_loss: 0.6821 - val_accuracy: 0.5185\n",
            "Epoch 88/100\n",
            "5/5 [==============================] - 0s 8ms/step - loss: 0.6395 - accuracy: 0.6154 - val_loss: 0.6821 - val_accuracy: 0.5185\n",
            "Epoch 89/100\n",
            "5/5 [==============================] - 0s 10ms/step - loss: 0.6393 - accuracy: 0.6154 - val_loss: 0.6820 - val_accuracy: 0.5185\n",
            "Epoch 90/100\n",
            "5/5 [==============================] - 0s 8ms/step - loss: 0.6396 - accuracy: 0.6154 - val_loss: 0.6823 - val_accuracy: 0.5185\n",
            "Epoch 91/100\n",
            "5/5 [==============================] - 0s 11ms/step - loss: 0.6389 - accuracy: 0.6154 - val_loss: 0.6811 - val_accuracy: 0.5185\n",
            "Epoch 92/100\n",
            "5/5 [==============================] - 0s 9ms/step - loss: 0.6387 - accuracy: 0.6154 - val_loss: 0.6809 - val_accuracy: 0.5185\n",
            "Epoch 93/100\n",
            "5/5 [==============================] - 0s 8ms/step - loss: 0.6384 - accuracy: 0.6154 - val_loss: 0.6805 - val_accuracy: 0.5185\n",
            "Epoch 94/100\n",
            "5/5 [==============================] - 0s 9ms/step - loss: 0.6383 - accuracy: 0.6154 - val_loss: 0.6804 - val_accuracy: 0.5185\n",
            "Epoch 95/100\n",
            "5/5 [==============================] - 0s 8ms/step - loss: 0.6381 - accuracy: 0.6154 - val_loss: 0.6794 - val_accuracy: 0.5185\n",
            "Epoch 96/100\n",
            "5/5 [==============================] - 0s 9ms/step - loss: 0.6379 - accuracy: 0.6154 - val_loss: 0.6785 - val_accuracy: 0.5185\n",
            "Epoch 97/100\n",
            "5/5 [==============================] - 0s 9ms/step - loss: 0.6375 - accuracy: 0.6154 - val_loss: 0.6772 - val_accuracy: 0.5185\n",
            "Epoch 98/100\n",
            "5/5 [==============================] - 0s 9ms/step - loss: 0.6375 - accuracy: 0.6154 - val_loss: 0.6767 - val_accuracy: 0.5185\n",
            "Epoch 99/100\n",
            "5/5 [==============================] - 0s 9ms/step - loss: 0.6374 - accuracy: 0.6154 - val_loss: 0.6758 - val_accuracy: 0.5185\n",
            "Epoch 100/100\n",
            "5/5 [==============================] - 0s 8ms/step - loss: 0.6374 - accuracy: 0.6154 - val_loss: 0.6751 - val_accuracy: 0.5185\n"
          ]
        }
      ]
    },
    {
      "cell_type": "code",
      "source": [
        "model10.evaluate(X_test_scaled, y_test)"
      ],
      "metadata": {
        "colab": {
          "base_uri": "https://localhost:8080/"
        },
        "id": "N2fxE1Nm7yn9",
        "outputId": "6205652d-7314-46c2-e2a0-b0820eff7f53"
      },
      "execution_count": 133,
      "outputs": [
        {
          "output_type": "stream",
          "name": "stdout",
          "text": [
            "1/1 [==============================] - 0s 22ms/step - loss: 0.6691 - accuracy: 0.4783\n"
          ]
        },
        {
          "output_type": "execute_result",
          "data": {
            "text/plain": [
              "[0.6691227555274963, 0.47826087474823]"
            ]
          },
          "metadata": {},
          "execution_count": 133
        }
      ]
    },
    {
      "cell_type": "code",
      "source": [
        "model10 = tf.keras.models.load_model(f\"/content/model_experiments/{model10.name}\")\n",
        "model10.evaluate(X_test_scaled, y_test)"
      ],
      "metadata": {
        "id": "lpKDkcyxq8F8",
        "outputId": "804deb30-34e3-4493-9fd6-77cea1213767",
        "colab": {
          "base_uri": "https://localhost:8080/"
        }
      },
      "execution_count": 134,
      "outputs": [
        {
          "output_type": "stream",
          "name": "stdout",
          "text": [
            "1/1 [==============================] - 0s 127ms/step - loss: 0.6930 - accuracy: 0.4348\n"
          ]
        },
        {
          "output_type": "execute_result",
          "data": {
            "text/plain": [
              "[0.692970335483551, 0.43478259444236755]"
            ]
          },
          "metadata": {},
          "execution_count": 134
        }
      ]
    },
    {
      "cell_type": "code",
      "source": [
        "tf.random.set_seed(42)\n",
        "\n",
        "model11 = tf.keras.Sequential([\n",
        "    tf.keras.layers.Dense(5, activation='relu'),\n",
        "    tf.keras.layers.Dense(4, activation='relu'),\n",
        "    tf.keras.layers.Dense(4, activation='relu'),\n",
        "\n",
        "    # tf.keras.layers.Dense(20, activation='relu'),\n",
        "    # tf.keras.layers.Dense(10, activation='relu'),\n",
        "\n",
        "    # tf.keras.layers.Dense(256, activation='relu'),\n",
        "    tf.keras.layers.Dense(1, activation='sigmoid')\n",
        "])\n",
        "\n",
        "model11.compile(\n",
        "    loss=tf.keras.losses.binary_crossentropy,\n",
        "    optimizer=tf.keras.optimizers.Adam(0.001),\n",
        "    metrics=[\"accuracy\"]\n",
        ")\n",
        "\n",
        "\n",
        "history11 = model11.fit(X_train_scaled, \n",
        "                    y_train, \n",
        "                    epochs=100,\n",
        "                    batch_size=5,\n",
        "                    validation_data = (X_valid_scaled, y_valid),\n",
        "                    callbacks=[create_model_checkpoint(model_name=model11.name)])"
      ],
      "metadata": {
        "id": "d0mJOMoge0ri",
        "outputId": "6b42d7ce-cd96-4c4e-c137-2842b26177ae",
        "colab": {
          "base_uri": "https://localhost:8080/"
        }
      },
      "execution_count": 135,
      "outputs": [
        {
          "output_type": "stream",
          "name": "stdout",
          "text": [
            "Epoch 1/100\n",
            "26/26 [==============================] - 1s 36ms/step - loss: 0.6921 - accuracy: 0.5538 - val_loss: 0.6923 - val_accuracy: 0.5185\n",
            "Epoch 2/100\n",
            "26/26 [==============================] - 0s 3ms/step - loss: 0.6904 - accuracy: 0.6154 - val_loss: 0.6917 - val_accuracy: 0.5185\n",
            "Epoch 3/100\n",
            "26/26 [==============================] - 0s 3ms/step - loss: 0.6887 - accuracy: 0.6154 - val_loss: 0.6901 - val_accuracy: 0.5185\n",
            "Epoch 4/100\n",
            "26/26 [==============================] - 0s 3ms/step - loss: 0.6855 - accuracy: 0.6154 - val_loss: 0.6881 - val_accuracy: 0.5185\n",
            "Epoch 5/100\n",
            "26/26 [==============================] - 0s 3ms/step - loss: 0.6799 - accuracy: 0.6154 - val_loss: 0.6878 - val_accuracy: 0.5185\n",
            "Epoch 6/100\n",
            "26/26 [==============================] - 0s 3ms/step - loss: 0.6729 - accuracy: 0.6154 - val_loss: 0.6870 - val_accuracy: 0.5185\n",
            "Epoch 7/100\n",
            "26/26 [==============================] - 0s 3ms/step - loss: 0.6678 - accuracy: 0.6154 - val_loss: 0.6857 - val_accuracy: 0.5185\n",
            "Epoch 8/100\n",
            "26/26 [==============================] - 0s 3ms/step - loss: 0.6595 - accuracy: 0.6154 - val_loss: 0.6855 - val_accuracy: 0.5185\n",
            "Epoch 9/100\n",
            "26/26 [==============================] - 0s 3ms/step - loss: 0.6560 - accuracy: 0.6154 - val_loss: 0.6853 - val_accuracy: 0.5185\n",
            "Epoch 10/100\n",
            "26/26 [==============================] - 0s 3ms/step - loss: 0.6534 - accuracy: 0.6154 - val_loss: 0.6861 - val_accuracy: 0.5185\n",
            "Epoch 11/100\n",
            "26/26 [==============================] - 0s 3ms/step - loss: 0.6513 - accuracy: 0.6154 - val_loss: 0.6863 - val_accuracy: 0.5185\n",
            "Epoch 12/100\n",
            "26/26 [==============================] - 0s 3ms/step - loss: 0.6495 - accuracy: 0.6154 - val_loss: 0.6864 - val_accuracy: 0.5185\n",
            "Epoch 13/100\n",
            "26/26 [==============================] - 0s 3ms/step - loss: 0.6486 - accuracy: 0.6154 - val_loss: 0.6874 - val_accuracy: 0.5185\n",
            "Epoch 14/100\n",
            "26/26 [==============================] - 0s 3ms/step - loss: 0.6469 - accuracy: 0.6154 - val_loss: 0.6875 - val_accuracy: 0.5185\n",
            "Epoch 15/100\n",
            "26/26 [==============================] - 0s 3ms/step - loss: 0.6465 - accuracy: 0.6154 - val_loss: 0.6870 - val_accuracy: 0.5185\n",
            "Epoch 16/100\n",
            "26/26 [==============================] - 0s 3ms/step - loss: 0.6449 - accuracy: 0.6154 - val_loss: 0.6849 - val_accuracy: 0.5185\n",
            "Epoch 17/100\n",
            "26/26 [==============================] - 0s 3ms/step - loss: 0.6450 - accuracy: 0.6154 - val_loss: 0.6833 - val_accuracy: 0.5185\n",
            "Epoch 18/100\n",
            "26/26 [==============================] - 0s 3ms/step - loss: 0.6435 - accuracy: 0.6154 - val_loss: 0.6854 - val_accuracy: 0.5185\n",
            "Epoch 19/100\n",
            "26/26 [==============================] - 0s 3ms/step - loss: 0.6428 - accuracy: 0.6154 - val_loss: 0.6822 - val_accuracy: 0.5185\n",
            "Epoch 20/100\n",
            "26/26 [==============================] - 0s 3ms/step - loss: 0.6417 - accuracy: 0.6154 - val_loss: 0.6831 - val_accuracy: 0.5185\n",
            "Epoch 21/100\n",
            "26/26 [==============================] - 0s 3ms/step - loss: 0.6413 - accuracy: 0.6154 - val_loss: 0.6821 - val_accuracy: 0.5185\n",
            "Epoch 22/100\n",
            "26/26 [==============================] - 0s 4ms/step - loss: 0.6409 - accuracy: 0.6154 - val_loss: 0.6813 - val_accuracy: 0.5185\n",
            "Epoch 23/100\n",
            "26/26 [==============================] - 0s 3ms/step - loss: 0.6404 - accuracy: 0.6154 - val_loss: 0.6777 - val_accuracy: 0.5185\n",
            "Epoch 24/100\n",
            "26/26 [==============================] - 0s 3ms/step - loss: 0.6398 - accuracy: 0.6154 - val_loss: 0.6799 - val_accuracy: 0.5185\n",
            "Epoch 25/100\n",
            "26/26 [==============================] - 0s 3ms/step - loss: 0.6388 - accuracy: 0.6154 - val_loss: 0.6769 - val_accuracy: 0.5185\n",
            "Epoch 26/100\n",
            "26/26 [==============================] - 0s 3ms/step - loss: 0.6377 - accuracy: 0.6154 - val_loss: 0.6770 - val_accuracy: 0.5185\n",
            "Epoch 27/100\n",
            "26/26 [==============================] - 0s 3ms/step - loss: 0.6370 - accuracy: 0.6154 - val_loss: 0.6765 - val_accuracy: 0.5185\n",
            "Epoch 28/100\n",
            "26/26 [==============================] - 0s 2ms/step - loss: 0.6367 - accuracy: 0.6154 - val_loss: 0.6756 - val_accuracy: 0.5185\n",
            "Epoch 29/100\n",
            "26/26 [==============================] - 0s 3ms/step - loss: 0.6362 - accuracy: 0.6154 - val_loss: 0.6740 - val_accuracy: 0.5185\n",
            "Epoch 30/100\n",
            "26/26 [==============================] - 0s 3ms/step - loss: 0.6354 - accuracy: 0.6154 - val_loss: 0.6749 - val_accuracy: 0.5185\n",
            "Epoch 31/100\n",
            "26/26 [==============================] - 0s 3ms/step - loss: 0.6362 - accuracy: 0.6154 - val_loss: 0.6722 - val_accuracy: 0.5185\n",
            "Epoch 32/100\n",
            "26/26 [==============================] - 0s 3ms/step - loss: 0.6343 - accuracy: 0.6154 - val_loss: 0.6722 - val_accuracy: 0.5185\n",
            "Epoch 33/100\n",
            "26/26 [==============================] - 0s 3ms/step - loss: 0.6341 - accuracy: 0.6154 - val_loss: 0.6707 - val_accuracy: 0.5185\n",
            "Epoch 34/100\n",
            "26/26 [==============================] - 0s 3ms/step - loss: 0.6330 - accuracy: 0.6154 - val_loss: 0.6699 - val_accuracy: 0.5185\n",
            "Epoch 35/100\n",
            "26/26 [==============================] - 0s 2ms/step - loss: 0.6325 - accuracy: 0.6154 - val_loss: 0.6695 - val_accuracy: 0.5185\n",
            "Epoch 36/100\n",
            "26/26 [==============================] - 0s 3ms/step - loss: 0.6328 - accuracy: 0.6154 - val_loss: 0.6680 - val_accuracy: 0.5185\n",
            "Epoch 37/100\n",
            "26/26 [==============================] - 0s 3ms/step - loss: 0.6319 - accuracy: 0.6154 - val_loss: 0.6691 - val_accuracy: 0.5185\n",
            "Epoch 38/100\n",
            "26/26 [==============================] - 0s 3ms/step - loss: 0.6312 - accuracy: 0.6154 - val_loss: 0.6666 - val_accuracy: 0.5185\n",
            "Epoch 39/100\n",
            "26/26 [==============================] - 0s 3ms/step - loss: 0.6307 - accuracy: 0.6154 - val_loss: 0.6661 - val_accuracy: 0.5185\n",
            "Epoch 40/100\n",
            "26/26 [==============================] - 0s 3ms/step - loss: 0.6301 - accuracy: 0.6154 - val_loss: 0.6672 - val_accuracy: 0.5185\n",
            "Epoch 41/100\n",
            "26/26 [==============================] - 0s 3ms/step - loss: 0.6297 - accuracy: 0.6154 - val_loss: 0.6647 - val_accuracy: 0.5185\n",
            "Epoch 42/100\n",
            "26/26 [==============================] - 0s 3ms/step - loss: 0.6291 - accuracy: 0.6154 - val_loss: 0.6643 - val_accuracy: 0.5185\n",
            "Epoch 43/100\n",
            "26/26 [==============================] - 0s 3ms/step - loss: 0.6312 - accuracy: 0.6154 - val_loss: 0.6633 - val_accuracy: 0.5185\n",
            "Epoch 44/100\n",
            "26/26 [==============================] - 0s 3ms/step - loss: 0.6284 - accuracy: 0.6154 - val_loss: 0.6641 - val_accuracy: 0.5185\n",
            "Epoch 45/100\n",
            "26/26 [==============================] - 1s 29ms/step - loss: 0.6278 - accuracy: 0.6538 - val_loss: 0.6633 - val_accuracy: 0.5556\n",
            "Epoch 46/100\n",
            "26/26 [==============================] - 0s 3ms/step - loss: 0.6275 - accuracy: 0.6615 - val_loss: 0.6625 - val_accuracy: 0.5556\n",
            "Epoch 47/100\n",
            "26/26 [==============================] - 0s 3ms/step - loss: 0.6271 - accuracy: 0.6538 - val_loss: 0.6615 - val_accuracy: 0.5556\n",
            "Epoch 48/100\n",
            "26/26 [==============================] - 1s 31ms/step - loss: 0.6271 - accuracy: 0.6538 - val_loss: 0.6617 - val_accuracy: 0.5926\n",
            "Epoch 49/100\n",
            "26/26 [==============================] - 0s 3ms/step - loss: 0.6264 - accuracy: 0.6538 - val_loss: 0.6622 - val_accuracy: 0.5556\n",
            "Epoch 50/100\n",
            "26/26 [==============================] - 0s 3ms/step - loss: 0.6261 - accuracy: 0.6538 - val_loss: 0.6614 - val_accuracy: 0.5926\n",
            "Epoch 51/100\n",
            "26/26 [==============================] - 1s 30ms/step - loss: 0.6260 - accuracy: 0.6538 - val_loss: 0.6600 - val_accuracy: 0.6296\n",
            "Epoch 52/100\n",
            "26/26 [==============================] - 1s 29ms/step - loss: 0.6260 - accuracy: 0.6538 - val_loss: 0.6586 - val_accuracy: 0.6667\n",
            "Epoch 53/100\n",
            "26/26 [==============================] - 0s 3ms/step - loss: 0.6255 - accuracy: 0.6538 - val_loss: 0.6615 - val_accuracy: 0.6296\n",
            "Epoch 54/100\n",
            "26/26 [==============================] - 0s 3ms/step - loss: 0.6265 - accuracy: 0.6615 - val_loss: 0.6626 - val_accuracy: 0.6296\n",
            "Epoch 55/100\n",
            "26/26 [==============================] - 0s 3ms/step - loss: 0.6255 - accuracy: 0.6615 - val_loss: 0.6567 - val_accuracy: 0.6667\n",
            "Epoch 56/100\n",
            "26/26 [==============================] - 0s 3ms/step - loss: 0.6246 - accuracy: 0.6615 - val_loss: 0.6567 - val_accuracy: 0.6667\n",
            "Epoch 57/100\n",
            "26/26 [==============================] - 0s 3ms/step - loss: 0.6241 - accuracy: 0.6615 - val_loss: 0.6574 - val_accuracy: 0.6667\n",
            "Epoch 58/100\n",
            "26/26 [==============================] - 0s 3ms/step - loss: 0.6245 - accuracy: 0.6692 - val_loss: 0.6578 - val_accuracy: 0.6667\n",
            "Epoch 59/100\n",
            "26/26 [==============================] - 0s 3ms/step - loss: 0.6232 - accuracy: 0.6615 - val_loss: 0.6574 - val_accuracy: 0.6667\n",
            "Epoch 60/100\n",
            "26/26 [==============================] - 0s 3ms/step - loss: 0.6229 - accuracy: 0.6615 - val_loss: 0.6581 - val_accuracy: 0.6667\n",
            "Epoch 61/100\n",
            "26/26 [==============================] - 0s 3ms/step - loss: 0.6228 - accuracy: 0.6615 - val_loss: 0.6585 - val_accuracy: 0.6667\n",
            "Epoch 62/100\n",
            "26/26 [==============================] - 0s 3ms/step - loss: 0.6224 - accuracy: 0.6615 - val_loss: 0.6571 - val_accuracy: 0.6667\n",
            "Epoch 63/100\n",
            "26/26 [==============================] - 0s 3ms/step - loss: 0.6227 - accuracy: 0.6615 - val_loss: 0.6582 - val_accuracy: 0.6667\n",
            "Epoch 64/100\n",
            "26/26 [==============================] - 0s 3ms/step - loss: 0.6227 - accuracy: 0.6615 - val_loss: 0.6561 - val_accuracy: 0.6667\n",
            "Epoch 65/100\n",
            "26/26 [==============================] - 0s 3ms/step - loss: 0.6215 - accuracy: 0.6692 - val_loss: 0.6578 - val_accuracy: 0.6667\n",
            "Epoch 66/100\n",
            "26/26 [==============================] - 0s 3ms/step - loss: 0.6216 - accuracy: 0.6692 - val_loss: 0.6557 - val_accuracy: 0.6667\n",
            "Epoch 67/100\n",
            "26/26 [==============================] - 0s 3ms/step - loss: 0.6208 - accuracy: 0.6615 - val_loss: 0.6564 - val_accuracy: 0.6667\n",
            "Epoch 68/100\n",
            "26/26 [==============================] - 0s 3ms/step - loss: 0.6215 - accuracy: 0.6692 - val_loss: 0.6566 - val_accuracy: 0.6667\n",
            "Epoch 69/100\n",
            "26/26 [==============================] - 0s 3ms/step - loss: 0.6205 - accuracy: 0.6615 - val_loss: 0.6560 - val_accuracy: 0.6667\n",
            "Epoch 70/100\n",
            "26/26 [==============================] - 0s 3ms/step - loss: 0.6198 - accuracy: 0.6615 - val_loss: 0.6566 - val_accuracy: 0.6667\n",
            "Epoch 71/100\n",
            "26/26 [==============================] - 0s 3ms/step - loss: 0.6201 - accuracy: 0.6615 - val_loss: 0.6579 - val_accuracy: 0.6667\n",
            "Epoch 72/100\n",
            "26/26 [==============================] - 0s 3ms/step - loss: 0.6201 - accuracy: 0.6692 - val_loss: 0.6553 - val_accuracy: 0.6667\n",
            "Epoch 73/100\n",
            "26/26 [==============================] - 0s 3ms/step - loss: 0.6201 - accuracy: 0.6615 - val_loss: 0.6569 - val_accuracy: 0.6667\n",
            "Epoch 74/100\n",
            "26/26 [==============================] - 0s 3ms/step - loss: 0.6195 - accuracy: 0.6692 - val_loss: 0.6551 - val_accuracy: 0.6667\n",
            "Epoch 75/100\n",
            "26/26 [==============================] - 0s 3ms/step - loss: 0.6188 - accuracy: 0.6692 - val_loss: 0.6556 - val_accuracy: 0.6667\n",
            "Epoch 76/100\n",
            "26/26 [==============================] - 0s 3ms/step - loss: 0.6192 - accuracy: 0.6692 - val_loss: 0.6571 - val_accuracy: 0.6667\n",
            "Epoch 77/100\n",
            "26/26 [==============================] - 0s 3ms/step - loss: 0.6196 - accuracy: 0.6615 - val_loss: 0.6546 - val_accuracy: 0.6667\n",
            "Epoch 78/100\n",
            "26/26 [==============================] - 0s 3ms/step - loss: 0.6197 - accuracy: 0.6692 - val_loss: 0.6575 - val_accuracy: 0.6667\n",
            "Epoch 79/100\n",
            "26/26 [==============================] - 0s 3ms/step - loss: 0.6176 - accuracy: 0.6692 - val_loss: 0.6561 - val_accuracy: 0.6667\n",
            "Epoch 80/100\n",
            "26/26 [==============================] - 0s 3ms/step - loss: 0.6171 - accuracy: 0.6538 - val_loss: 0.6553 - val_accuracy: 0.6667\n",
            "Epoch 81/100\n",
            "26/26 [==============================] - 0s 3ms/step - loss: 0.6167 - accuracy: 0.6538 - val_loss: 0.6561 - val_accuracy: 0.6667\n",
            "Epoch 82/100\n",
            "26/26 [==============================] - 0s 3ms/step - loss: 0.6171 - accuracy: 0.6615 - val_loss: 0.6574 - val_accuracy: 0.6667\n",
            "Epoch 83/100\n",
            "26/26 [==============================] - 0s 3ms/step - loss: 0.6161 - accuracy: 0.6615 - val_loss: 0.6564 - val_accuracy: 0.6667\n",
            "Epoch 84/100\n",
            "26/26 [==============================] - 0s 3ms/step - loss: 0.6180 - accuracy: 0.6538 - val_loss: 0.6578 - val_accuracy: 0.6667\n",
            "Epoch 85/100\n",
            "26/26 [==============================] - 0s 3ms/step - loss: 0.6153 - accuracy: 0.6538 - val_loss: 0.6551 - val_accuracy: 0.6667\n",
            "Epoch 86/100\n",
            "26/26 [==============================] - 0s 3ms/step - loss: 0.6176 - accuracy: 0.6538 - val_loss: 0.6545 - val_accuracy: 0.6667\n",
            "Epoch 87/100\n",
            "26/26 [==============================] - 0s 2ms/step - loss: 0.6152 - accuracy: 0.6538 - val_loss: 0.6553 - val_accuracy: 0.6667\n",
            "Epoch 88/100\n",
            "26/26 [==============================] - 0s 3ms/step - loss: 0.6152 - accuracy: 0.6538 - val_loss: 0.6557 - val_accuracy: 0.6667\n",
            "Epoch 89/100\n",
            "26/26 [==============================] - 0s 3ms/step - loss: 0.6148 - accuracy: 0.6538 - val_loss: 0.6565 - val_accuracy: 0.6667\n",
            "Epoch 90/100\n",
            "26/26 [==============================] - 0s 3ms/step - loss: 0.6163 - accuracy: 0.6615 - val_loss: 0.6588 - val_accuracy: 0.6667\n",
            "Epoch 91/100\n",
            "26/26 [==============================] - 0s 3ms/step - loss: 0.6142 - accuracy: 0.6538 - val_loss: 0.6558 - val_accuracy: 0.6667\n",
            "Epoch 92/100\n",
            "26/26 [==============================] - 0s 2ms/step - loss: 0.6142 - accuracy: 0.6538 - val_loss: 0.6568 - val_accuracy: 0.6667\n",
            "Epoch 93/100\n",
            "26/26 [==============================] - 0s 4ms/step - loss: 0.6141 - accuracy: 0.6538 - val_loss: 0.6565 - val_accuracy: 0.6667\n",
            "Epoch 94/100\n",
            "26/26 [==============================] - 0s 3ms/step - loss: 0.6136 - accuracy: 0.6615 - val_loss: 0.6565 - val_accuracy: 0.6667\n",
            "Epoch 95/100\n",
            "26/26 [==============================] - 0s 3ms/step - loss: 0.6131 - accuracy: 0.6538 - val_loss: 0.6566 - val_accuracy: 0.6667\n",
            "Epoch 96/100\n",
            "26/26 [==============================] - 0s 3ms/step - loss: 0.6136 - accuracy: 0.6538 - val_loss: 0.6576 - val_accuracy: 0.6667\n",
            "Epoch 97/100\n",
            "26/26 [==============================] - 0s 3ms/step - loss: 0.6127 - accuracy: 0.6538 - val_loss: 0.6560 - val_accuracy: 0.6296\n",
            "Epoch 98/100\n",
            "26/26 [==============================] - 0s 2ms/step - loss: 0.6133 - accuracy: 0.6538 - val_loss: 0.6564 - val_accuracy: 0.6667\n",
            "Epoch 99/100\n",
            "26/26 [==============================] - 0s 3ms/step - loss: 0.6122 - accuracy: 0.6615 - val_loss: 0.6562 - val_accuracy: 0.6296\n",
            "Epoch 100/100\n",
            "26/26 [==============================] - 0s 3ms/step - loss: 0.6125 - accuracy: 0.6692 - val_loss: 0.6568 - val_accuracy: 0.6296\n"
          ]
        }
      ]
    },
    {
      "cell_type": "code",
      "source": [
        "model11.evaluate(X_test_scaled, y_test)"
      ],
      "metadata": {
        "colab": {
          "base_uri": "https://localhost:8080/"
        },
        "id": "talbzlnM7z6g",
        "outputId": "22cea18f-28c6-4004-ea8e-91571e4affb6"
      },
      "execution_count": 136,
      "outputs": [
        {
          "output_type": "stream",
          "name": "stdout",
          "text": [
            "1/1 [==============================] - 0s 24ms/step - loss: 0.6134 - accuracy: 0.6957\n"
          ]
        },
        {
          "output_type": "execute_result",
          "data": {
            "text/plain": [
              "[0.6134088039398193, 0.695652186870575]"
            ]
          },
          "metadata": {},
          "execution_count": 136
        }
      ]
    },
    {
      "cell_type": "code",
      "source": [
        "model11 = tf.keras.models.load_model(f\"/content/model_experiments/{model11.name}\")\n",
        "model11.evaluate(X_test_scaled, y_test)"
      ],
      "metadata": {
        "id": "0QMLEXq_q-aZ",
        "outputId": "51bdb71c-febd-41c1-b8a3-753c11f98c98",
        "colab": {
          "base_uri": "https://localhost:8080/"
        }
      },
      "execution_count": 137,
      "outputs": [
        {
          "output_type": "stream",
          "name": "stdout",
          "text": [
            "1/1 [==============================] - 0s 122ms/step - loss: 0.6405 - accuracy: 0.6522\n"
          ]
        },
        {
          "output_type": "execute_result",
          "data": {
            "text/plain": [
              "[0.6405295729637146, 0.6521739363670349]"
            ]
          },
          "metadata": {},
          "execution_count": 137
        }
      ]
    },
    {
      "cell_type": "code",
      "source": [
        "tf.random.set_seed(42)\n",
        "\n",
        "model12 = tf.keras.Sequential([\n",
        "    tf.keras.layers.Dense(5, activation='relu'),\n",
        "    tf.keras.layers.Dense(14, activation='relu'),\n",
        "    tf.keras.layers.Dense(14, activation='relu'),\n",
        "\n",
        "    # tf.keras.layers.Dense(20, activation='relu'),\n",
        "    # tf.keras.layers.Dense(10, activation='relu'),\n",
        "\n",
        "    # tf.keras.layers.Dense(256, activation='relu'),\n",
        "    tf.keras.layers.Dense(1, activation='sigmoid')\n",
        "])\n",
        "\n",
        "model12.compile(\n",
        "    loss=tf.keras.losses.binary_crossentropy,\n",
        "    optimizer=tf.keras.optimizers.Adam(0.001),\n",
        "    metrics=[\"accuracy\"]\n",
        ")\n",
        "\n",
        "\n",
        "history12 = model12.fit(X_train_scaled, \n",
        "                    y_train, \n",
        "                    epochs=100,\n",
        "                    batch_size=10,\n",
        "                    validation_data = (X_valid_scaled, y_valid),\n",
        "                    callbacks=[create_model_checkpoint(model_name=model12.name)])"
      ],
      "metadata": {
        "id": "HOLGhvTfe0t1",
        "outputId": "47143452-58af-460c-fcfe-7bd64b7ff4b5",
        "colab": {
          "base_uri": "https://localhost:8080/"
        }
      },
      "execution_count": 138,
      "outputs": [
        {
          "output_type": "stream",
          "name": "stdout",
          "text": [
            "Epoch 1/100\n",
            "13/13 [==============================] - 1s 74ms/step - loss: 0.6519 - accuracy: 0.6154 - val_loss: 0.6797 - val_accuracy: 0.5185\n",
            "Epoch 2/100\n",
            "13/13 [==============================] - 0s 5ms/step - loss: 0.6487 - accuracy: 0.6154 - val_loss: 0.6809 - val_accuracy: 0.5185\n",
            "Epoch 3/100\n",
            "13/13 [==============================] - 0s 4ms/step - loss: 0.6474 - accuracy: 0.6154 - val_loss: 0.6829 - val_accuracy: 0.5185\n",
            "Epoch 4/100\n",
            "13/13 [==============================] - 0s 4ms/step - loss: 0.6455 - accuracy: 0.6154 - val_loss: 0.6840 - val_accuracy: 0.5185\n",
            "Epoch 5/100\n",
            "13/13 [==============================] - 0s 4ms/step - loss: 0.6444 - accuracy: 0.6154 - val_loss: 0.6838 - val_accuracy: 0.5185\n",
            "Epoch 6/100\n",
            "13/13 [==============================] - 0s 4ms/step - loss: 0.6430 - accuracy: 0.6154 - val_loss: 0.6842 - val_accuracy: 0.5185\n",
            "Epoch 7/100\n",
            "13/13 [==============================] - 0s 6ms/step - loss: 0.6440 - accuracy: 0.6154 - val_loss: 0.6872 - val_accuracy: 0.5185\n",
            "Epoch 8/100\n",
            "13/13 [==============================] - 0s 4ms/step - loss: 0.6414 - accuracy: 0.6154 - val_loss: 0.6858 - val_accuracy: 0.5185\n",
            "Epoch 9/100\n",
            "13/13 [==============================] - 0s 4ms/step - loss: 0.6409 - accuracy: 0.6154 - val_loss: 0.6840 - val_accuracy: 0.5185\n",
            "Epoch 10/100\n",
            "13/13 [==============================] - 0s 4ms/step - loss: 0.6402 - accuracy: 0.6154 - val_loss: 0.6838 - val_accuracy: 0.5185\n",
            "Epoch 11/100\n",
            "13/13 [==============================] - 0s 5ms/step - loss: 0.6398 - accuracy: 0.6154 - val_loss: 0.6822 - val_accuracy: 0.5185\n",
            "Epoch 12/100\n",
            "13/13 [==============================] - 0s 5ms/step - loss: 0.6389 - accuracy: 0.6154 - val_loss: 0.6819 - val_accuracy: 0.5185\n",
            "Epoch 13/100\n",
            "13/13 [==============================] - 0s 4ms/step - loss: 0.6384 - accuracy: 0.6154 - val_loss: 0.6822 - val_accuracy: 0.5185\n",
            "Epoch 14/100\n",
            "13/13 [==============================] - 0s 4ms/step - loss: 0.6373 - accuracy: 0.6154 - val_loss: 0.6817 - val_accuracy: 0.5185\n",
            "Epoch 15/100\n",
            "13/13 [==============================] - 0s 5ms/step - loss: 0.6372 - accuracy: 0.6154 - val_loss: 0.6816 - val_accuracy: 0.5185\n",
            "Epoch 16/100\n",
            "13/13 [==============================] - 0s 5ms/step - loss: 0.6360 - accuracy: 0.6154 - val_loss: 0.6788 - val_accuracy: 0.5185\n",
            "Epoch 17/100\n",
            "13/13 [==============================] - 0s 6ms/step - loss: 0.6361 - accuracy: 0.6154 - val_loss: 0.6761 - val_accuracy: 0.5185\n",
            "Epoch 18/100\n",
            "13/13 [==============================] - 0s 6ms/step - loss: 0.6350 - accuracy: 0.6154 - val_loss: 0.6780 - val_accuracy: 0.5185\n",
            "Epoch 19/100\n",
            "13/13 [==============================] - 0s 4ms/step - loss: 0.6342 - accuracy: 0.6154 - val_loss: 0.6748 - val_accuracy: 0.5185\n",
            "Epoch 20/100\n",
            "13/13 [==============================] - 0s 4ms/step - loss: 0.6332 - accuracy: 0.6154 - val_loss: 0.6751 - val_accuracy: 0.5185\n",
            "Epoch 21/100\n",
            "13/13 [==============================] - 0s 4ms/step - loss: 0.6328 - accuracy: 0.6154 - val_loss: 0.6748 - val_accuracy: 0.5185\n",
            "Epoch 22/100\n",
            "13/13 [==============================] - 0s 4ms/step - loss: 0.6323 - accuracy: 0.6154 - val_loss: 0.6738 - val_accuracy: 0.5185\n",
            "Epoch 23/100\n",
            "13/13 [==============================] - 1s 59ms/step - loss: 0.6322 - accuracy: 0.6154 - val_loss: 0.6692 - val_accuracy: 0.5926\n",
            "Epoch 24/100\n",
            "13/13 [==============================] - 0s 4ms/step - loss: 0.6313 - accuracy: 0.6154 - val_loss: 0.6711 - val_accuracy: 0.5926\n",
            "Epoch 25/100\n",
            "13/13 [==============================] - 0s 5ms/step - loss: 0.6305 - accuracy: 0.6154 - val_loss: 0.6689 - val_accuracy: 0.5926\n",
            "Epoch 26/100\n",
            "13/13 [==============================] - 0s 4ms/step - loss: 0.6296 - accuracy: 0.6154 - val_loss: 0.6687 - val_accuracy: 0.5926\n",
            "Epoch 27/100\n",
            "13/13 [==============================] - 0s 4ms/step - loss: 0.6289 - accuracy: 0.6385 - val_loss: 0.6684 - val_accuracy: 0.5926\n",
            "Epoch 28/100\n",
            "13/13 [==============================] - 0s 4ms/step - loss: 0.6286 - accuracy: 0.6462 - val_loss: 0.6682 - val_accuracy: 0.5926\n",
            "Epoch 29/100\n",
            "13/13 [==============================] - 0s 4ms/step - loss: 0.6280 - accuracy: 0.6462 - val_loss: 0.6666 - val_accuracy: 0.5926\n",
            "Epoch 30/100\n",
            "13/13 [==============================] - 0s 4ms/step - loss: 0.6275 - accuracy: 0.6692 - val_loss: 0.6671 - val_accuracy: 0.5926\n",
            "Epoch 31/100\n",
            "13/13 [==============================] - 0s 4ms/step - loss: 0.6277 - accuracy: 0.6615 - val_loss: 0.6662 - val_accuracy: 0.5926\n",
            "Epoch 32/100\n",
            "13/13 [==============================] - 1s 94ms/step - loss: 0.6263 - accuracy: 0.6769 - val_loss: 0.6659 - val_accuracy: 0.6296\n",
            "Epoch 33/100\n",
            "13/13 [==============================] - 0s 6ms/step - loss: 0.6264 - accuracy: 0.6846 - val_loss: 0.6648 - val_accuracy: 0.6296\n",
            "Epoch 34/100\n",
            "13/13 [==============================] - 0s 4ms/step - loss: 0.6254 - accuracy: 0.6769 - val_loss: 0.6641 - val_accuracy: 0.6296\n",
            "Epoch 35/100\n",
            "13/13 [==============================] - 0s 5ms/step - loss: 0.6250 - accuracy: 0.6769 - val_loss: 0.6640 - val_accuracy: 0.6296\n",
            "Epoch 36/100\n",
            "13/13 [==============================] - 0s 4ms/step - loss: 0.6253 - accuracy: 0.6846 - val_loss: 0.6628 - val_accuracy: 0.6296\n",
            "Epoch 37/100\n",
            "13/13 [==============================] - 0s 5ms/step - loss: 0.6246 - accuracy: 0.7000 - val_loss: 0.6653 - val_accuracy: 0.6296\n",
            "Epoch 38/100\n",
            "13/13 [==============================] - 0s 5ms/step - loss: 0.6238 - accuracy: 0.6923 - val_loss: 0.6628 - val_accuracy: 0.6296\n",
            "Epoch 39/100\n",
            "13/13 [==============================] - 0s 4ms/step - loss: 0.6232 - accuracy: 0.6769 - val_loss: 0.6624 - val_accuracy: 0.6296\n",
            "Epoch 40/100\n",
            "13/13 [==============================] - 0s 4ms/step - loss: 0.6229 - accuracy: 0.6769 - val_loss: 0.6631 - val_accuracy: 0.6296\n",
            "Epoch 41/100\n",
            "13/13 [==============================] - 0s 6ms/step - loss: 0.6225 - accuracy: 0.6846 - val_loss: 0.6610 - val_accuracy: 0.6296\n",
            "Epoch 42/100\n",
            "13/13 [==============================] - 0s 4ms/step - loss: 0.6220 - accuracy: 0.6692 - val_loss: 0.6606 - val_accuracy: 0.6296\n",
            "Epoch 43/100\n",
            "13/13 [==============================] - 0s 4ms/step - loss: 0.6237 - accuracy: 0.6615 - val_loss: 0.6597 - val_accuracy: 0.6296\n",
            "Epoch 44/100\n",
            "13/13 [==============================] - 0s 4ms/step - loss: 0.6214 - accuracy: 0.6615 - val_loss: 0.6613 - val_accuracy: 0.6296\n",
            "Epoch 45/100\n",
            "13/13 [==============================] - 0s 5ms/step - loss: 0.6209 - accuracy: 0.6615 - val_loss: 0.6607 - val_accuracy: 0.6296\n",
            "Epoch 46/100\n",
            "13/13 [==============================] - 0s 4ms/step - loss: 0.6206 - accuracy: 0.6615 - val_loss: 0.6601 - val_accuracy: 0.6296\n",
            "Epoch 47/100\n",
            "13/13 [==============================] - 0s 4ms/step - loss: 0.6200 - accuracy: 0.6615 - val_loss: 0.6595 - val_accuracy: 0.6296\n",
            "Epoch 48/100\n",
            "13/13 [==============================] - 0s 4ms/step - loss: 0.6200 - accuracy: 0.6615 - val_loss: 0.6590 - val_accuracy: 0.6296\n",
            "Epoch 49/100\n",
            "13/13 [==============================] - 0s 5ms/step - loss: 0.6193 - accuracy: 0.6615 - val_loss: 0.6597 - val_accuracy: 0.6296\n",
            "Epoch 50/100\n",
            "13/13 [==============================] - 0s 5ms/step - loss: 0.6191 - accuracy: 0.6615 - val_loss: 0.6592 - val_accuracy: 0.6296\n",
            "Epoch 51/100\n",
            "13/13 [==============================] - 0s 5ms/step - loss: 0.6189 - accuracy: 0.6615 - val_loss: 0.6573 - val_accuracy: 0.6296\n",
            "Epoch 52/100\n",
            "13/13 [==============================] - 0s 4ms/step - loss: 0.6189 - accuracy: 0.6615 - val_loss: 0.6562 - val_accuracy: 0.6296\n",
            "Epoch 53/100\n",
            "13/13 [==============================] - 0s 4ms/step - loss: 0.6185 - accuracy: 0.6615 - val_loss: 0.6598 - val_accuracy: 0.6296\n",
            "Epoch 54/100\n",
            "13/13 [==============================] - 0s 4ms/step - loss: 0.6195 - accuracy: 0.6615 - val_loss: 0.6622 - val_accuracy: 0.6296\n",
            "Epoch 55/100\n",
            "13/13 [==============================] - 0s 4ms/step - loss: 0.6187 - accuracy: 0.6615 - val_loss: 0.6555 - val_accuracy: 0.6296\n",
            "Epoch 56/100\n",
            "13/13 [==============================] - 1s 60ms/step - loss: 0.6174 - accuracy: 0.6615 - val_loss: 0.6542 - val_accuracy: 0.6667\n",
            "Epoch 57/100\n",
            "13/13 [==============================] - 0s 4ms/step - loss: 0.6168 - accuracy: 0.6615 - val_loss: 0.6553 - val_accuracy: 0.6296\n",
            "Epoch 58/100\n",
            "13/13 [==============================] - 0s 4ms/step - loss: 0.6170 - accuracy: 0.6615 - val_loss: 0.6561 - val_accuracy: 0.6296\n",
            "Epoch 59/100\n",
            "13/13 [==============================] - 0s 4ms/step - loss: 0.6158 - accuracy: 0.6615 - val_loss: 0.6552 - val_accuracy: 0.6296\n",
            "Epoch 60/100\n",
            "13/13 [==============================] - 0s 4ms/step - loss: 0.6154 - accuracy: 0.6615 - val_loss: 0.6557 - val_accuracy: 0.6296\n",
            "Epoch 61/100\n",
            "13/13 [==============================] - 0s 4ms/step - loss: 0.6152 - accuracy: 0.6615 - val_loss: 0.6564 - val_accuracy: 0.6296\n",
            "Epoch 62/100\n",
            "13/13 [==============================] - 0s 4ms/step - loss: 0.6149 - accuracy: 0.6615 - val_loss: 0.6546 - val_accuracy: 0.6667\n",
            "Epoch 63/100\n",
            "13/13 [==============================] - 0s 4ms/step - loss: 0.6148 - accuracy: 0.6615 - val_loss: 0.6562 - val_accuracy: 0.6296\n",
            "Epoch 64/100\n",
            "13/13 [==============================] - 0s 6ms/step - loss: 0.6149 - accuracy: 0.6615 - val_loss: 0.6529 - val_accuracy: 0.6667\n",
            "Epoch 65/100\n",
            "13/13 [==============================] - 0s 4ms/step - loss: 0.6138 - accuracy: 0.6615 - val_loss: 0.6554 - val_accuracy: 0.6667\n",
            "Epoch 66/100\n",
            "13/13 [==============================] - 0s 4ms/step - loss: 0.6138 - accuracy: 0.6615 - val_loss: 0.6532 - val_accuracy: 0.6667\n",
            "Epoch 67/100\n",
            "13/13 [==============================] - 0s 4ms/step - loss: 0.6130 - accuracy: 0.6615 - val_loss: 0.6536 - val_accuracy: 0.6667\n",
            "Epoch 68/100\n",
            "13/13 [==============================] - 0s 6ms/step - loss: 0.6133 - accuracy: 0.6615 - val_loss: 0.6543 - val_accuracy: 0.6667\n",
            "Epoch 69/100\n",
            "13/13 [==============================] - 0s 5ms/step - loss: 0.6130 - accuracy: 0.6692 - val_loss: 0.6521 - val_accuracy: 0.6667\n",
            "Epoch 70/100\n",
            "13/13 [==============================] - 0s 4ms/step - loss: 0.6120 - accuracy: 0.6692 - val_loss: 0.6537 - val_accuracy: 0.6667\n",
            "Epoch 71/100\n",
            "13/13 [==============================] - 0s 4ms/step - loss: 0.6125 - accuracy: 0.6692 - val_loss: 0.6564 - val_accuracy: 0.6667\n",
            "Epoch 72/100\n",
            "13/13 [==============================] - 0s 4ms/step - loss: 0.6124 - accuracy: 0.6692 - val_loss: 0.6519 - val_accuracy: 0.6667\n",
            "Epoch 73/100\n",
            "13/13 [==============================] - 0s 4ms/step - loss: 0.6119 - accuracy: 0.6692 - val_loss: 0.6541 - val_accuracy: 0.6667\n",
            "Epoch 74/100\n",
            "13/13 [==============================] - 0s 4ms/step - loss: 0.6114 - accuracy: 0.6692 - val_loss: 0.6509 - val_accuracy: 0.6667\n",
            "Epoch 75/100\n",
            "13/13 [==============================] - 0s 4ms/step - loss: 0.6103 - accuracy: 0.6692 - val_loss: 0.6517 - val_accuracy: 0.6667\n",
            "Epoch 76/100\n",
            "13/13 [==============================] - 0s 4ms/step - loss: 0.6107 - accuracy: 0.6692 - val_loss: 0.6539 - val_accuracy: 0.6667\n",
            "Epoch 77/100\n",
            "13/13 [==============================] - 0s 5ms/step - loss: 0.6111 - accuracy: 0.6615 - val_loss: 0.6499 - val_accuracy: 0.6667\n",
            "Epoch 78/100\n",
            "13/13 [==============================] - 0s 4ms/step - loss: 0.6110 - accuracy: 0.6692 - val_loss: 0.6543 - val_accuracy: 0.6667\n",
            "Epoch 79/100\n",
            "13/13 [==============================] - 0s 4ms/step - loss: 0.6089 - accuracy: 0.6692 - val_loss: 0.6530 - val_accuracy: 0.6667\n",
            "Epoch 80/100\n",
            "13/13 [==============================] - 0s 5ms/step - loss: 0.6083 - accuracy: 0.6615 - val_loss: 0.6510 - val_accuracy: 0.6667\n",
            "Epoch 81/100\n",
            "13/13 [==============================] - 0s 5ms/step - loss: 0.6079 - accuracy: 0.6692 - val_loss: 0.6521 - val_accuracy: 0.6667\n",
            "Epoch 82/100\n",
            "13/13 [==============================] - 0s 4ms/step - loss: 0.6081 - accuracy: 0.6615 - val_loss: 0.6538 - val_accuracy: 0.6667\n",
            "Epoch 83/100\n",
            "13/13 [==============================] - 0s 4ms/step - loss: 0.6071 - accuracy: 0.6538 - val_loss: 0.6523 - val_accuracy: 0.6667\n",
            "Epoch 84/100\n",
            "13/13 [==============================] - 0s 5ms/step - loss: 0.6084 - accuracy: 0.6615 - val_loss: 0.6538 - val_accuracy: 0.6667\n",
            "Epoch 85/100\n",
            "13/13 [==============================] - 1s 64ms/step - loss: 0.6062 - accuracy: 0.6615 - val_loss: 0.6498 - val_accuracy: 0.7037\n",
            "Epoch 86/100\n",
            "13/13 [==============================] - 0s 4ms/step - loss: 0.6084 - accuracy: 0.6615 - val_loss: 0.6480 - val_accuracy: 0.7037\n",
            "Epoch 87/100\n",
            "13/13 [==============================] - 0s 4ms/step - loss: 0.6057 - accuracy: 0.6615 - val_loss: 0.6501 - val_accuracy: 0.7037\n",
            "Epoch 88/100\n",
            "13/13 [==============================] - 0s 4ms/step - loss: 0.6057 - accuracy: 0.6692 - val_loss: 0.6515 - val_accuracy: 0.7037\n",
            "Epoch 89/100\n",
            "13/13 [==============================] - 0s 4ms/step - loss: 0.6053 - accuracy: 0.6615 - val_loss: 0.6529 - val_accuracy: 0.7037\n",
            "Epoch 90/100\n",
            "13/13 [==============================] - 0s 4ms/step - loss: 0.6072 - accuracy: 0.6615 - val_loss: 0.6566 - val_accuracy: 0.6667\n",
            "Epoch 91/100\n",
            "13/13 [==============================] - 0s 6ms/step - loss: 0.6047 - accuracy: 0.6615 - val_loss: 0.6508 - val_accuracy: 0.7037\n",
            "Epoch 92/100\n",
            "13/13 [==============================] - 0s 4ms/step - loss: 0.6044 - accuracy: 0.6615 - val_loss: 0.6509 - val_accuracy: 0.7037\n",
            "Epoch 93/100\n",
            "13/13 [==============================] - 0s 4ms/step - loss: 0.6042 - accuracy: 0.6615 - val_loss: 0.6519 - val_accuracy: 0.7037\n",
            "Epoch 94/100\n",
            "13/13 [==============================] - 0s 4ms/step - loss: 0.6039 - accuracy: 0.6615 - val_loss: 0.6513 - val_accuracy: 0.7037\n",
            "Epoch 95/100\n",
            "13/13 [==============================] - 0s 6ms/step - loss: 0.6031 - accuracy: 0.6692 - val_loss: 0.6514 - val_accuracy: 0.7037\n",
            "Epoch 96/100\n",
            "13/13 [==============================] - 0s 4ms/step - loss: 0.6035 - accuracy: 0.6692 - val_loss: 0.6524 - val_accuracy: 0.7037\n",
            "Epoch 97/100\n",
            "13/13 [==============================] - 0s 4ms/step - loss: 0.6029 - accuracy: 0.6692 - val_loss: 0.6505 - val_accuracy: 0.7037\n",
            "Epoch 98/100\n",
            "13/13 [==============================] - 0s 4ms/step - loss: 0.6031 - accuracy: 0.6615 - val_loss: 0.6509 - val_accuracy: 0.7037\n",
            "Epoch 99/100\n",
            "13/13 [==============================] - 0s 5ms/step - loss: 0.6023 - accuracy: 0.6538 - val_loss: 0.6499 - val_accuracy: 0.6667\n",
            "Epoch 100/100\n",
            "13/13 [==============================] - 0s 4ms/step - loss: 0.6023 - accuracy: 0.6769 - val_loss: 0.6505 - val_accuracy: 0.6667\n"
          ]
        }
      ]
    },
    {
      "cell_type": "code",
      "source": [
        "model12.evaluate(X_test_scaled, y_test)"
      ],
      "metadata": {
        "colab": {
          "base_uri": "https://localhost:8080/"
        },
        "id": "6-hHajVs71Ly",
        "outputId": "5f34353a-09fa-42a2-dcce-5b20f2e8a79a"
      },
      "execution_count": 139,
      "outputs": [
        {
          "output_type": "stream",
          "name": "stdout",
          "text": [
            "1/1 [==============================] - 0s 19ms/step - loss: 0.5910 - accuracy: 0.6957\n"
          ]
        },
        {
          "output_type": "execute_result",
          "data": {
            "text/plain": [
              "[0.5909890532493591, 0.695652186870575]"
            ]
          },
          "metadata": {},
          "execution_count": 139
        }
      ]
    },
    {
      "cell_type": "code",
      "source": [
        "model12 = tf.keras.models.load_model(f\"/content/model_experiments/{model12.name}\")\n",
        "model12.evaluate(X_test_scaled, y_test)"
      ],
      "metadata": {
        "id": "iB5xbBGeq_Tn",
        "outputId": "6754e9b6-7a53-4c23-a3ea-836704a7e76b",
        "colab": {
          "base_uri": "https://localhost:8080/"
        }
      },
      "execution_count": 140,
      "outputs": [
        {
          "output_type": "stream",
          "name": "stdout",
          "text": [
            "1/1 [==============================] - 0s 121ms/step - loss: 0.6010 - accuracy: 0.6957\n"
          ]
        },
        {
          "output_type": "execute_result",
          "data": {
            "text/plain": [
              "[0.601042628288269, 0.695652186870575]"
            ]
          },
          "metadata": {},
          "execution_count": 140
        }
      ]
    },
    {
      "cell_type": "code",
      "source": [
        "tf.random.set_seed(42)\n",
        "\n",
        "model13 = tf.keras.Sequential([\n",
        "    tf.keras.layers.Dense(5, activation='relu'),\n",
        "    tf.keras.layers.Dense(10, activation='relu'),\n",
        "    tf.keras.layers.Dense(10, activation='relu'),\n",
        "\n",
        "    # tf.keras.layers.Dense(20, activation='relu'),\n",
        "    # tf.keras.layers.Dense(10, activation='relu'),\n",
        "\n",
        "    # tf.keras.layers.Dense(256, activation='relu'),\n",
        "    tf.keras.layers.Dense(1, activation='sigmoid')\n",
        "])\n",
        "\n",
        "model13.compile(\n",
        "    loss=tf.keras.losses.binary_crossentropy,\n",
        "    optimizer=tf.keras.optimizers.Adam(0.001),\n",
        "    metrics=[\"accuracy\"]\n",
        ")\n",
        "\n",
        "\n",
        "history13 = model13.fit(X_train_scaled, \n",
        "                    y_train, \n",
        "                    epochs=100,\n",
        "                    batch_size=10,\n",
        "                    validation_data = (X_valid_scaled, y_valid),\n",
        "                    callbacks=[create_model_checkpoint(model_name=model13.name)])"
      ],
      "metadata": {
        "id": "etsSl4HktL8C",
        "outputId": "a6dfdb1c-a90e-4166-ec82-17a5bfc36d26",
        "colab": {
          "base_uri": "https://localhost:8080/"
        }
      },
      "execution_count": 141,
      "outputs": [
        {
          "output_type": "stream",
          "name": "stdout",
          "text": [
            "Epoch 1/100\n",
            "13/13 [==============================] - 1s 76ms/step - loss: 0.6932 - accuracy: 0.4462 - val_loss: 0.6937 - val_accuracy: 0.4815\n",
            "Epoch 2/100\n",
            "13/13 [==============================] - 1s 65ms/step - loss: 0.6868 - accuracy: 0.6077 - val_loss: 0.6909 - val_accuracy: 0.5185\n",
            "Epoch 3/100\n",
            "13/13 [==============================] - 0s 4ms/step - loss: 0.6824 - accuracy: 0.6154 - val_loss: 0.6882 - val_accuracy: 0.5185\n",
            "Epoch 4/100\n",
            "13/13 [==============================] - 0s 6ms/step - loss: 0.6774 - accuracy: 0.6154 - val_loss: 0.6877 - val_accuracy: 0.5185\n",
            "Epoch 5/100\n",
            "13/13 [==============================] - 0s 4ms/step - loss: 0.6714 - accuracy: 0.6154 - val_loss: 0.6881 - val_accuracy: 0.5185\n",
            "Epoch 6/100\n",
            "13/13 [==============================] - 0s 4ms/step - loss: 0.6661 - accuracy: 0.6154 - val_loss: 0.6887 - val_accuracy: 0.5185\n",
            "Epoch 7/100\n",
            "13/13 [==============================] - 0s 4ms/step - loss: 0.6626 - accuracy: 0.6154 - val_loss: 0.6909 - val_accuracy: 0.5185\n",
            "Epoch 8/100\n",
            "13/13 [==============================] - 0s 6ms/step - loss: 0.6550 - accuracy: 0.6154 - val_loss: 0.6931 - val_accuracy: 0.5185\n",
            "Epoch 9/100\n",
            "13/13 [==============================] - 0s 5ms/step - loss: 0.6512 - accuracy: 0.6154 - val_loss: 0.6945 - val_accuracy: 0.5185\n",
            "Epoch 10/100\n",
            "13/13 [==============================] - 0s 5ms/step - loss: 0.6494 - accuracy: 0.6154 - val_loss: 0.6971 - val_accuracy: 0.5185\n",
            "Epoch 11/100\n",
            "13/13 [==============================] - 0s 4ms/step - loss: 0.6474 - accuracy: 0.6154 - val_loss: 0.6975 - val_accuracy: 0.5185\n",
            "Epoch 12/100\n",
            "13/13 [==============================] - 0s 5ms/step - loss: 0.6465 - accuracy: 0.6154 - val_loss: 0.6984 - val_accuracy: 0.5185\n",
            "Epoch 13/100\n",
            "13/13 [==============================] - 0s 4ms/step - loss: 0.6457 - accuracy: 0.6154 - val_loss: 0.6999 - val_accuracy: 0.5185\n",
            "Epoch 14/100\n",
            "13/13 [==============================] - 0s 6ms/step - loss: 0.6444 - accuracy: 0.6154 - val_loss: 0.7001 - val_accuracy: 0.5185\n",
            "Epoch 15/100\n",
            "13/13 [==============================] - 0s 6ms/step - loss: 0.6441 - accuracy: 0.6154 - val_loss: 0.7005 - val_accuracy: 0.5185\n",
            "Epoch 16/100\n",
            "13/13 [==============================] - 0s 5ms/step - loss: 0.6428 - accuracy: 0.6154 - val_loss: 0.6975 - val_accuracy: 0.5185\n",
            "Epoch 17/100\n",
            "13/13 [==============================] - 0s 4ms/step - loss: 0.6429 - accuracy: 0.6154 - val_loss: 0.6948 - val_accuracy: 0.5185\n",
            "Epoch 18/100\n",
            "13/13 [==============================] - 0s 6ms/step - loss: 0.6416 - accuracy: 0.6154 - val_loss: 0.6970 - val_accuracy: 0.5185\n",
            "Epoch 19/100\n",
            "13/13 [==============================] - 0s 5ms/step - loss: 0.6407 - accuracy: 0.6154 - val_loss: 0.6938 - val_accuracy: 0.5185\n",
            "Epoch 20/100\n",
            "13/13 [==============================] - 0s 6ms/step - loss: 0.6396 - accuracy: 0.6154 - val_loss: 0.6940 - val_accuracy: 0.5185\n",
            "Epoch 21/100\n",
            "13/13 [==============================] - 0s 4ms/step - loss: 0.6389 - accuracy: 0.6154 - val_loss: 0.6934 - val_accuracy: 0.5185\n",
            "Epoch 22/100\n",
            "13/13 [==============================] - 0s 4ms/step - loss: 0.6382 - accuracy: 0.6154 - val_loss: 0.6924 - val_accuracy: 0.5185\n",
            "Epoch 23/100\n",
            "13/13 [==============================] - 0s 5ms/step - loss: 0.6379 - accuracy: 0.6154 - val_loss: 0.6876 - val_accuracy: 0.5185\n",
            "Epoch 24/100\n",
            "13/13 [==============================] - 0s 4ms/step - loss: 0.6368 - accuracy: 0.6154 - val_loss: 0.6892 - val_accuracy: 0.5185\n",
            "Epoch 25/100\n",
            "13/13 [==============================] - 0s 4ms/step - loss: 0.6356 - accuracy: 0.6154 - val_loss: 0.6864 - val_accuracy: 0.5185\n",
            "Epoch 26/100\n",
            "13/13 [==============================] - 0s 4ms/step - loss: 0.6345 - accuracy: 0.6154 - val_loss: 0.6858 - val_accuracy: 0.5185\n",
            "Epoch 27/100\n",
            "13/13 [==============================] - 0s 4ms/step - loss: 0.6336 - accuracy: 0.6154 - val_loss: 0.6850 - val_accuracy: 0.5185\n",
            "Epoch 28/100\n",
            "13/13 [==============================] - 0s 4ms/step - loss: 0.6330 - accuracy: 0.6154 - val_loss: 0.6840 - val_accuracy: 0.5185\n",
            "Epoch 29/100\n",
            "13/13 [==============================] - 0s 6ms/step - loss: 0.6321 - accuracy: 0.6154 - val_loss: 0.6819 - val_accuracy: 0.5185\n",
            "Epoch 30/100\n",
            "13/13 [==============================] - 0s 5ms/step - loss: 0.6313 - accuracy: 0.6154 - val_loss: 0.6819 - val_accuracy: 0.5185\n",
            "Epoch 31/100\n",
            "13/13 [==============================] - 0s 5ms/step - loss: 0.6314 - accuracy: 0.6154 - val_loss: 0.6807 - val_accuracy: 0.5185\n",
            "Epoch 32/100\n",
            "13/13 [==============================] - 0s 4ms/step - loss: 0.6296 - accuracy: 0.6154 - val_loss: 0.6800 - val_accuracy: 0.5185\n",
            "Epoch 33/100\n",
            "13/13 [==============================] - 0s 6ms/step - loss: 0.6295 - accuracy: 0.6154 - val_loss: 0.6785 - val_accuracy: 0.5185\n",
            "Epoch 34/100\n",
            "13/13 [==============================] - 0s 6ms/step - loss: 0.6284 - accuracy: 0.6154 - val_loss: 0.6778 - val_accuracy: 0.5185\n",
            "Epoch 35/100\n",
            "13/13 [==============================] - 0s 4ms/step - loss: 0.6278 - accuracy: 0.6154 - val_loss: 0.6774 - val_accuracy: 0.5185\n",
            "Epoch 36/100\n",
            "13/13 [==============================] - 0s 4ms/step - loss: 0.6279 - accuracy: 0.6154 - val_loss: 0.6761 - val_accuracy: 0.5185\n",
            "Epoch 37/100\n",
            "13/13 [==============================] - 0s 4ms/step - loss: 0.6273 - accuracy: 0.6154 - val_loss: 0.6788 - val_accuracy: 0.5185\n",
            "Epoch 38/100\n",
            "13/13 [==============================] - 1s 62ms/step - loss: 0.6264 - accuracy: 0.6154 - val_loss: 0.6763 - val_accuracy: 0.5556\n",
            "Epoch 39/100\n",
            "13/13 [==============================] - 1s 59ms/step - loss: 0.6259 - accuracy: 0.6308 - val_loss: 0.6756 - val_accuracy: 0.5926\n",
            "Epoch 40/100\n",
            "13/13 [==============================] - 0s 5ms/step - loss: 0.6254 - accuracy: 0.6462 - val_loss: 0.6764 - val_accuracy: 0.5926\n",
            "Epoch 41/100\n",
            "13/13 [==============================] - 0s 4ms/step - loss: 0.6248 - accuracy: 0.6538 - val_loss: 0.6740 - val_accuracy: 0.5926\n",
            "Epoch 42/100\n",
            "13/13 [==============================] - 1s 60ms/step - loss: 0.6244 - accuracy: 0.6538 - val_loss: 0.6730 - val_accuracy: 0.6296\n",
            "Epoch 43/100\n",
            "13/13 [==============================] - 0s 4ms/step - loss: 0.6261 - accuracy: 0.6615 - val_loss: 0.6716 - val_accuracy: 0.6296\n",
            "Epoch 44/100\n",
            "13/13 [==============================] - 0s 5ms/step - loss: 0.6236 - accuracy: 0.6615 - val_loss: 0.6734 - val_accuracy: 0.6296\n",
            "Epoch 45/100\n",
            "13/13 [==============================] - 0s 6ms/step - loss: 0.6230 - accuracy: 0.6692 - val_loss: 0.6730 - val_accuracy: 0.6296\n",
            "Epoch 46/100\n",
            "13/13 [==============================] - 0s 4ms/step - loss: 0.6227 - accuracy: 0.6615 - val_loss: 0.6720 - val_accuracy: 0.6296\n",
            "Epoch 47/100\n",
            "13/13 [==============================] - 0s 4ms/step - loss: 0.6221 - accuracy: 0.6692 - val_loss: 0.6710 - val_accuracy: 0.6296\n",
            "Epoch 48/100\n",
            "13/13 [==============================] - 0s 4ms/step - loss: 0.6221 - accuracy: 0.6615 - val_loss: 0.6707 - val_accuracy: 0.6296\n",
            "Epoch 49/100\n",
            "13/13 [==============================] - 0s 4ms/step - loss: 0.6214 - accuracy: 0.6615 - val_loss: 0.6714 - val_accuracy: 0.6296\n",
            "Epoch 50/100\n",
            "13/13 [==============================] - 0s 4ms/step - loss: 0.6211 - accuracy: 0.6615 - val_loss: 0.6711 - val_accuracy: 0.6296\n",
            "Epoch 51/100\n",
            "13/13 [==============================] - 0s 4ms/step - loss: 0.6209 - accuracy: 0.6538 - val_loss: 0.6694 - val_accuracy: 0.6296\n",
            "Epoch 52/100\n",
            "13/13 [==============================] - 0s 4ms/step - loss: 0.6209 - accuracy: 0.6538 - val_loss: 0.6682 - val_accuracy: 0.6296\n",
            "Epoch 53/100\n",
            "13/13 [==============================] - 0s 5ms/step - loss: 0.6204 - accuracy: 0.6615 - val_loss: 0.6708 - val_accuracy: 0.6296\n",
            "Epoch 54/100\n",
            "13/13 [==============================] - 0s 4ms/step - loss: 0.6215 - accuracy: 0.6538 - val_loss: 0.6736 - val_accuracy: 0.6296\n",
            "Epoch 55/100\n",
            "13/13 [==============================] - 0s 5ms/step - loss: 0.6204 - accuracy: 0.6615 - val_loss: 0.6675 - val_accuracy: 0.6296\n",
            "Epoch 56/100\n",
            "13/13 [==============================] - 1s 59ms/step - loss: 0.6193 - accuracy: 0.6615 - val_loss: 0.6659 - val_accuracy: 0.6667\n",
            "Epoch 57/100\n",
            "13/13 [==============================] - 0s 4ms/step - loss: 0.6187 - accuracy: 0.6615 - val_loss: 0.6669 - val_accuracy: 0.6667\n",
            "Epoch 58/100\n",
            "13/13 [==============================] - 0s 4ms/step - loss: 0.6188 - accuracy: 0.6615 - val_loss: 0.6679 - val_accuracy: 0.6296\n",
            "Epoch 59/100\n",
            "13/13 [==============================] - 0s 4ms/step - loss: 0.6177 - accuracy: 0.6615 - val_loss: 0.6677 - val_accuracy: 0.6667\n",
            "Epoch 60/100\n",
            "13/13 [==============================] - 0s 4ms/step - loss: 0.6174 - accuracy: 0.6615 - val_loss: 0.6683 - val_accuracy: 0.6667\n",
            "Epoch 61/100\n",
            "13/13 [==============================] - 0s 5ms/step - loss: 0.6172 - accuracy: 0.6615 - val_loss: 0.6696 - val_accuracy: 0.6667\n",
            "Epoch 62/100\n",
            "13/13 [==============================] - 0s 6ms/step - loss: 0.6167 - accuracy: 0.6615 - val_loss: 0.6676 - val_accuracy: 0.6667\n",
            "Epoch 63/100\n",
            "13/13 [==============================] - 0s 4ms/step - loss: 0.6164 - accuracy: 0.6615 - val_loss: 0.6685 - val_accuracy: 0.6667\n",
            "Epoch 64/100\n",
            "13/13 [==============================] - 0s 4ms/step - loss: 0.6167 - accuracy: 0.6692 - val_loss: 0.6654 - val_accuracy: 0.6667\n",
            "Epoch 65/100\n",
            "13/13 [==============================] - 0s 4ms/step - loss: 0.6154 - accuracy: 0.6692 - val_loss: 0.6679 - val_accuracy: 0.6667\n",
            "Epoch 66/100\n",
            "13/13 [==============================] - 0s 4ms/step - loss: 0.6154 - accuracy: 0.6692 - val_loss: 0.6660 - val_accuracy: 0.6667\n",
            "Epoch 67/100\n",
            "13/13 [==============================] - 0s 6ms/step - loss: 0.6145 - accuracy: 0.6692 - val_loss: 0.6670 - val_accuracy: 0.6667\n",
            "Epoch 68/100\n",
            "13/13 [==============================] - 0s 4ms/step - loss: 0.6147 - accuracy: 0.6692 - val_loss: 0.6680 - val_accuracy: 0.6667\n",
            "Epoch 69/100\n",
            "13/13 [==============================] - 0s 4ms/step - loss: 0.6143 - accuracy: 0.6692 - val_loss: 0.6658 - val_accuracy: 0.6667\n",
            "Epoch 70/100\n",
            "13/13 [==============================] - 0s 4ms/step - loss: 0.6133 - accuracy: 0.6615 - val_loss: 0.6674 - val_accuracy: 0.6667\n",
            "Epoch 71/100\n",
            "13/13 [==============================] - 0s 4ms/step - loss: 0.6140 - accuracy: 0.6692 - val_loss: 0.6703 - val_accuracy: 0.6667\n",
            "Epoch 72/100\n",
            "13/13 [==============================] - 0s 5ms/step - loss: 0.6137 - accuracy: 0.6538 - val_loss: 0.6658 - val_accuracy: 0.6667\n",
            "Epoch 73/100\n",
            "13/13 [==============================] - 0s 5ms/step - loss: 0.6130 - accuracy: 0.6538 - val_loss: 0.6684 - val_accuracy: 0.6667\n",
            "Epoch 74/100\n",
            "13/13 [==============================] - 0s 4ms/step - loss: 0.6126 - accuracy: 0.6538 - val_loss: 0.6655 - val_accuracy: 0.6667\n",
            "Epoch 75/100\n",
            "13/13 [==============================] - 0s 4ms/step - loss: 0.6115 - accuracy: 0.6538 - val_loss: 0.6668 - val_accuracy: 0.6667\n",
            "Epoch 76/100\n",
            "13/13 [==============================] - 0s 4ms/step - loss: 0.6121 - accuracy: 0.6538 - val_loss: 0.6699 - val_accuracy: 0.6667\n",
            "Epoch 77/100\n",
            "13/13 [==============================] - 0s 5ms/step - loss: 0.6124 - accuracy: 0.6538 - val_loss: 0.6656 - val_accuracy: 0.6667\n",
            "Epoch 78/100\n",
            "13/13 [==============================] - 0s 6ms/step - loss: 0.6124 - accuracy: 0.6538 - val_loss: 0.6707 - val_accuracy: 0.6667\n",
            "Epoch 79/100\n",
            "13/13 [==============================] - 0s 4ms/step - loss: 0.6101 - accuracy: 0.6538 - val_loss: 0.6691 - val_accuracy: 0.6667\n",
            "Epoch 80/100\n",
            "13/13 [==============================] - 0s 4ms/step - loss: 0.6096 - accuracy: 0.6615 - val_loss: 0.6674 - val_accuracy: 0.6667\n",
            "Epoch 81/100\n",
            "13/13 [==============================] - 0s 4ms/step - loss: 0.6092 - accuracy: 0.6615 - val_loss: 0.6685 - val_accuracy: 0.6667\n",
            "Epoch 82/100\n",
            "13/13 [==============================] - 0s 5ms/step - loss: 0.6095 - accuracy: 0.6615 - val_loss: 0.6708 - val_accuracy: 0.6667\n",
            "Epoch 83/100\n",
            "13/13 [==============================] - 0s 5ms/step - loss: 0.6083 - accuracy: 0.6615 - val_loss: 0.6692 - val_accuracy: 0.6667\n",
            "Epoch 84/100\n",
            "13/13 [==============================] - 0s 4ms/step - loss: 0.6094 - accuracy: 0.6615 - val_loss: 0.6707 - val_accuracy: 0.6667\n",
            "Epoch 85/100\n",
            "13/13 [==============================] - 1s 59ms/step - loss: 0.6075 - accuracy: 0.6615 - val_loss: 0.6669 - val_accuracy: 0.7037\n",
            "Epoch 86/100\n",
            "13/13 [==============================] - 0s 4ms/step - loss: 0.6092 - accuracy: 0.6692 - val_loss: 0.6660 - val_accuracy: 0.7037\n",
            "Epoch 87/100\n",
            "13/13 [==============================] - 0s 6ms/step - loss: 0.6067 - accuracy: 0.6769 - val_loss: 0.6689 - val_accuracy: 0.7037\n",
            "Epoch 88/100\n",
            "13/13 [==============================] - 0s 4ms/step - loss: 0.6068 - accuracy: 0.6769 - val_loss: 0.6696 - val_accuracy: 0.7037\n",
            "Epoch 89/100\n",
            "13/13 [==============================] - 0s 4ms/step - loss: 0.6063 - accuracy: 0.6692 - val_loss: 0.6720 - val_accuracy: 0.7037\n",
            "Epoch 90/100\n",
            "13/13 [==============================] - 0s 4ms/step - loss: 0.6081 - accuracy: 0.6692 - val_loss: 0.6761 - val_accuracy: 0.6667\n",
            "Epoch 91/100\n",
            "13/13 [==============================] - 0s 4ms/step - loss: 0.6056 - accuracy: 0.6769 - val_loss: 0.6697 - val_accuracy: 0.7037\n",
            "Epoch 92/100\n",
            "13/13 [==============================] - 0s 4ms/step - loss: 0.6050 - accuracy: 0.6692 - val_loss: 0.6700 - val_accuracy: 0.7037\n",
            "Epoch 93/100\n",
            "13/13 [==============================] - 0s 4ms/step - loss: 0.6047 - accuracy: 0.6769 - val_loss: 0.6723 - val_accuracy: 0.7037\n",
            "Epoch 94/100\n",
            "13/13 [==============================] - 0s 4ms/step - loss: 0.6045 - accuracy: 0.6692 - val_loss: 0.6723 - val_accuracy: 0.7037\n",
            "Epoch 95/100\n",
            "13/13 [==============================] - 0s 5ms/step - loss: 0.6034 - accuracy: 0.6692 - val_loss: 0.6727 - val_accuracy: 0.7037\n",
            "Epoch 96/100\n",
            "13/13 [==============================] - 0s 4ms/step - loss: 0.6036 - accuracy: 0.6692 - val_loss: 0.6754 - val_accuracy: 0.7037\n",
            "Epoch 97/100\n",
            "13/13 [==============================] - 0s 4ms/step - loss: 0.6029 - accuracy: 0.6692 - val_loss: 0.6738 - val_accuracy: 0.7037\n",
            "Epoch 98/100\n",
            "13/13 [==============================] - 0s 4ms/step - loss: 0.6033 - accuracy: 0.6692 - val_loss: 0.6745 - val_accuracy: 0.7037\n",
            "Epoch 99/100\n",
            "13/13 [==============================] - 0s 5ms/step - loss: 0.6019 - accuracy: 0.6692 - val_loss: 0.6739 - val_accuracy: 0.7037\n",
            "Epoch 100/100\n",
            "13/13 [==============================] - 0s 4ms/step - loss: 0.6022 - accuracy: 0.6615 - val_loss: 0.6743 - val_accuracy: 0.7037\n"
          ]
        }
      ]
    },
    {
      "cell_type": "code",
      "source": [
        "model13.evaluate(X_test_scaled, y_test)"
      ],
      "metadata": {
        "colab": {
          "base_uri": "https://localhost:8080/"
        },
        "id": "kTAuxujt72VG",
        "outputId": "6c18906d-650d-40d7-a46d-853338d87a81"
      },
      "execution_count": 142,
      "outputs": [
        {
          "output_type": "stream",
          "name": "stdout",
          "text": [
            "1/1 [==============================] - 0s 28ms/step - loss: 0.6122 - accuracy: 0.6957\n"
          ]
        },
        {
          "output_type": "execute_result",
          "data": {
            "text/plain": [
              "[0.6122291684150696, 0.695652186870575]"
            ]
          },
          "metadata": {},
          "execution_count": 142
        }
      ]
    },
    {
      "cell_type": "code",
      "source": [
        "model13 = tf.keras.models.load_model(f\"/content/model_experiments/{model13.name}\")\n",
        "model13.evaluate(X_test_scaled, y_test)"
      ],
      "metadata": {
        "id": "FFd7l6LPrAGn",
        "outputId": "8cac7899-62e8-4d93-db27-7301f5baf1b5",
        "colab": {
          "base_uri": "https://localhost:8080/"
        }
      },
      "execution_count": 143,
      "outputs": [
        {
          "output_type": "stream",
          "name": "stdout",
          "text": [
            "1/1 [==============================] - 0s 193ms/step - loss: 0.6197 - accuracy: 0.6957\n"
          ]
        },
        {
          "output_type": "execute_result",
          "data": {
            "text/plain": [
              "[0.6196947693824768, 0.695652186870575]"
            ]
          },
          "metadata": {},
          "execution_count": 143
        }
      ]
    },
    {
      "cell_type": "code",
      "source": [
        "tf.random.set_seed(42)\n",
        "\n",
        "model14 = tf.keras.Sequential([\n",
        "    tf.keras.layers.Dense(5, activation='relu'),\n",
        "    tf.keras.layers.Dense(14, activation='relu'),\n",
        "    tf.keras.layers.Dense(14, activation='relu'),\n",
        "\n",
        "    tf.keras.layers.Dense(20, activation='relu'),\n",
        "    tf.keras.layers.Dense(10, activation='relu'),\n",
        "\n",
        "    # tf.keras.layers.Dense(256, activation='relu'),\n",
        "    tf.keras.layers.Dense(1, activation='sigmoid')\n",
        "])\n",
        "\n",
        "model14.compile(\n",
        "    loss=tf.keras.losses.binary_crossentropy,\n",
        "    optimizer=tf.keras.optimizers.Adam(0.001),\n",
        "    metrics=[\"accuracy\"]\n",
        ")\n",
        "\n",
        "\n",
        "history14 = model14.fit(X_train_scaled, \n",
        "                    y_train, \n",
        "                    epochs=100,\n",
        "                    batch_size=10,\n",
        "                    validation_data = (X_valid_scaled, y_valid),\n",
        "                    callbacks=[create_model_checkpoint(model_name=model14.name)])"
      ],
      "metadata": {
        "id": "T3c16NIOtOyF",
        "outputId": "8616b207-d6f5-408d-e00d-133ae7d7e7bb",
        "colab": {
          "base_uri": "https://localhost:8080/"
        }
      },
      "execution_count": 144,
      "outputs": [
        {
          "output_type": "stream",
          "name": "stdout",
          "text": [
            "Epoch 1/100\n",
            "13/13 [==============================] - 5s 272ms/step - loss: 0.6837 - accuracy: 0.5769 - val_loss: 0.6845 - val_accuracy: 0.5185\n",
            "Epoch 2/100\n",
            "13/13 [==============================] - 0s 8ms/step - loss: 0.6714 - accuracy: 0.6154 - val_loss: 0.6820 - val_accuracy: 0.5185\n",
            "Epoch 3/100\n",
            "13/13 [==============================] - 0s 9ms/step - loss: 0.6632 - accuracy: 0.6154 - val_loss: 0.6816 - val_accuracy: 0.5185\n",
            "Epoch 4/100\n",
            "13/13 [==============================] - 0s 7ms/step - loss: 0.6552 - accuracy: 0.6154 - val_loss: 0.6836 - val_accuracy: 0.5185\n",
            "Epoch 5/100\n",
            "13/13 [==============================] - 0s 7ms/step - loss: 0.6506 - accuracy: 0.6154 - val_loss: 0.6855 - val_accuracy: 0.5185\n",
            "Epoch 6/100\n",
            "13/13 [==============================] - 0s 9ms/step - loss: 0.6472 - accuracy: 0.6154 - val_loss: 0.6877 - val_accuracy: 0.5185\n",
            "Epoch 7/100\n",
            "13/13 [==============================] - 0s 8ms/step - loss: 0.6493 - accuracy: 0.6154 - val_loss: 0.6938 - val_accuracy: 0.5185\n",
            "Epoch 8/100\n",
            "13/13 [==============================] - 0s 13ms/step - loss: 0.6444 - accuracy: 0.6154 - val_loss: 0.6911 - val_accuracy: 0.5185\n",
            "Epoch 9/100\n",
            "13/13 [==============================] - 0s 15ms/step - loss: 0.6439 - accuracy: 0.6154 - val_loss: 0.6872 - val_accuracy: 0.5185\n",
            "Epoch 10/100\n",
            "13/13 [==============================] - 0s 7ms/step - loss: 0.6428 - accuracy: 0.6154 - val_loss: 0.6870 - val_accuracy: 0.5185\n",
            "Epoch 11/100\n",
            "13/13 [==============================] - 0s 4ms/step - loss: 0.6421 - accuracy: 0.6154 - val_loss: 0.6844 - val_accuracy: 0.5185\n",
            "Epoch 12/100\n",
            "13/13 [==============================] - 0s 5ms/step - loss: 0.6407 - accuracy: 0.6154 - val_loss: 0.6835 - val_accuracy: 0.5185\n",
            "Epoch 13/100\n",
            "13/13 [==============================] - 0s 5ms/step - loss: 0.6400 - accuracy: 0.6154 - val_loss: 0.6844 - val_accuracy: 0.5185\n",
            "Epoch 14/100\n",
            "13/13 [==============================] - 0s 6ms/step - loss: 0.6384 - accuracy: 0.6154 - val_loss: 0.6835 - val_accuracy: 0.5185\n",
            "Epoch 15/100\n",
            "13/13 [==============================] - 0s 4ms/step - loss: 0.6382 - accuracy: 0.6154 - val_loss: 0.6830 - val_accuracy: 0.5185\n",
            "Epoch 16/100\n",
            "13/13 [==============================] - 0s 4ms/step - loss: 0.6363 - accuracy: 0.6154 - val_loss: 0.6782 - val_accuracy: 0.5185\n",
            "Epoch 17/100\n",
            "13/13 [==============================] - 0s 4ms/step - loss: 0.6368 - accuracy: 0.6154 - val_loss: 0.6742 - val_accuracy: 0.5185\n",
            "Epoch 18/100\n",
            "13/13 [==============================] - 0s 4ms/step - loss: 0.6350 - accuracy: 0.6154 - val_loss: 0.6772 - val_accuracy: 0.5185\n",
            "Epoch 19/100\n",
            "13/13 [==============================] - 0s 6ms/step - loss: 0.6338 - accuracy: 0.6154 - val_loss: 0.6724 - val_accuracy: 0.5185\n",
            "Epoch 20/100\n",
            "13/13 [==============================] - 0s 5ms/step - loss: 0.6325 - accuracy: 0.6154 - val_loss: 0.6726 - val_accuracy: 0.5185\n",
            "Epoch 21/100\n",
            "13/13 [==============================] - 0s 4ms/step - loss: 0.6318 - accuracy: 0.6154 - val_loss: 0.6719 - val_accuracy: 0.5185\n",
            "Epoch 22/100\n",
            "13/13 [==============================] - 0s 4ms/step - loss: 0.6311 - accuracy: 0.6154 - val_loss: 0.6703 - val_accuracy: 0.5185\n",
            "Epoch 23/100\n",
            "13/13 [==============================] - 1s 80ms/step - loss: 0.6311 - accuracy: 0.6308 - val_loss: 0.6652 - val_accuracy: 0.5926\n",
            "Epoch 24/100\n",
            "13/13 [==============================] - 0s 5ms/step - loss: 0.6305 - accuracy: 0.6615 - val_loss: 0.6687 - val_accuracy: 0.5926\n",
            "Epoch 25/100\n",
            "13/13 [==============================] - 0s 6ms/step - loss: 0.6293 - accuracy: 0.6692 - val_loss: 0.6663 - val_accuracy: 0.5926\n",
            "Epoch 26/100\n",
            "13/13 [==============================] - 0s 4ms/step - loss: 0.6282 - accuracy: 0.6692 - val_loss: 0.6667 - val_accuracy: 0.5926\n",
            "Epoch 27/100\n",
            "13/13 [==============================] - 0s 6ms/step - loss: 0.6273 - accuracy: 0.6692 - val_loss: 0.6672 - val_accuracy: 0.5926\n",
            "Epoch 28/100\n",
            "13/13 [==============================] - 1s 81ms/step - loss: 0.6275 - accuracy: 0.6538 - val_loss: 0.6669 - val_accuracy: 0.6296\n",
            "Epoch 29/100\n",
            "13/13 [==============================] - 0s 4ms/step - loss: 0.6268 - accuracy: 0.6846 - val_loss: 0.6646 - val_accuracy: 0.6296\n",
            "Epoch 30/100\n",
            "13/13 [==============================] - 0s 4ms/step - loss: 0.6265 - accuracy: 0.6846 - val_loss: 0.6657 - val_accuracy: 0.6296\n",
            "Epoch 31/100\n",
            "13/13 [==============================] - 0s 6ms/step - loss: 0.6271 - accuracy: 0.6769 - val_loss: 0.6646 - val_accuracy: 0.6296\n",
            "Epoch 32/100\n",
            "13/13 [==============================] - 0s 6ms/step - loss: 0.6251 - accuracy: 0.6923 - val_loss: 0.6645 - val_accuracy: 0.6296\n",
            "Epoch 33/100\n",
            "13/13 [==============================] - 0s 5ms/step - loss: 0.6256 - accuracy: 0.6846 - val_loss: 0.6628 - val_accuracy: 0.6296\n",
            "Epoch 34/100\n",
            "13/13 [==============================] - 0s 5ms/step - loss: 0.6241 - accuracy: 0.6769 - val_loss: 0.6631 - val_accuracy: 0.6296\n",
            "Epoch 35/100\n",
            "13/13 [==============================] - 0s 4ms/step - loss: 0.6238 - accuracy: 0.6846 - val_loss: 0.6638 - val_accuracy: 0.6296\n",
            "Epoch 36/100\n",
            "13/13 [==============================] - 0s 4ms/step - loss: 0.6249 - accuracy: 0.6769 - val_loss: 0.6623 - val_accuracy: 0.6296\n",
            "Epoch 37/100\n",
            "13/13 [==============================] - 0s 4ms/step - loss: 0.6238 - accuracy: 0.6769 - val_loss: 0.6660 - val_accuracy: 0.6296\n",
            "Epoch 38/100\n",
            "13/13 [==============================] - 0s 4ms/step - loss: 0.6230 - accuracy: 0.6769 - val_loss: 0.6622 - val_accuracy: 0.6296\n",
            "Epoch 39/100\n",
            "13/13 [==============================] - 0s 5ms/step - loss: 0.6222 - accuracy: 0.6692 - val_loss: 0.6621 - val_accuracy: 0.6296\n",
            "Epoch 40/100\n",
            "13/13 [==============================] - 0s 4ms/step - loss: 0.6221 - accuracy: 0.6692 - val_loss: 0.6642 - val_accuracy: 0.6296\n",
            "Epoch 41/100\n",
            "13/13 [==============================] - 0s 5ms/step - loss: 0.6217 - accuracy: 0.6692 - val_loss: 0.6615 - val_accuracy: 0.6296\n",
            "Epoch 42/100\n",
            "13/13 [==============================] - 0s 6ms/step - loss: 0.6210 - accuracy: 0.6692 - val_loss: 0.6611 - val_accuracy: 0.6296\n",
            "Epoch 43/100\n",
            "13/13 [==============================] - 0s 6ms/step - loss: 0.6237 - accuracy: 0.6615 - val_loss: 0.6601 - val_accuracy: 0.6296\n",
            "Epoch 44/100\n",
            "13/13 [==============================] - 0s 4ms/step - loss: 0.6204 - accuracy: 0.6615 - val_loss: 0.6629 - val_accuracy: 0.6296\n",
            "Epoch 45/100\n",
            "13/13 [==============================] - 0s 4ms/step - loss: 0.6195 - accuracy: 0.6692 - val_loss: 0.6623 - val_accuracy: 0.6296\n",
            "Epoch 46/100\n",
            "13/13 [==============================] - 0s 4ms/step - loss: 0.6192 - accuracy: 0.6692 - val_loss: 0.6610 - val_accuracy: 0.6296\n",
            "Epoch 47/100\n",
            "13/13 [==============================] - 0s 4ms/step - loss: 0.6183 - accuracy: 0.6615 - val_loss: 0.6596 - val_accuracy: 0.6296\n",
            "Epoch 48/100\n",
            "13/13 [==============================] - 0s 4ms/step - loss: 0.6184 - accuracy: 0.6615 - val_loss: 0.6586 - val_accuracy: 0.6296\n",
            "Epoch 49/100\n",
            "13/13 [==============================] - 0s 4ms/step - loss: 0.6170 - accuracy: 0.6615 - val_loss: 0.6602 - val_accuracy: 0.6296\n",
            "Epoch 50/100\n",
            "13/13 [==============================] - 1s 84ms/step - loss: 0.6166 - accuracy: 0.6615 - val_loss: 0.6592 - val_accuracy: 0.6667\n",
            "Epoch 51/100\n",
            "13/13 [==============================] - 0s 5ms/step - loss: 0.6164 - accuracy: 0.6615 - val_loss: 0.6563 - val_accuracy: 0.6667\n",
            "Epoch 52/100\n",
            "13/13 [==============================] - 0s 6ms/step - loss: 0.6166 - accuracy: 0.6692 - val_loss: 0.6537 - val_accuracy: 0.6667\n",
            "Epoch 53/100\n",
            "13/13 [==============================] - 0s 5ms/step - loss: 0.6154 - accuracy: 0.6692 - val_loss: 0.6585 - val_accuracy: 0.6667\n",
            "Epoch 54/100\n",
            "13/13 [==============================] - 0s 6ms/step - loss: 0.6176 - accuracy: 0.6615 - val_loss: 0.6633 - val_accuracy: 0.6667\n",
            "Epoch 55/100\n",
            "13/13 [==============================] - 1s 81ms/step - loss: 0.6162 - accuracy: 0.6538 - val_loss: 0.6503 - val_accuracy: 0.7037\n",
            "Epoch 56/100\n",
            "13/13 [==============================] - 0s 4ms/step - loss: 0.6140 - accuracy: 0.6615 - val_loss: 0.6487 - val_accuracy: 0.7037\n",
            "Epoch 57/100\n",
            "13/13 [==============================] - 0s 4ms/step - loss: 0.6130 - accuracy: 0.6615 - val_loss: 0.6509 - val_accuracy: 0.6667\n",
            "Epoch 58/100\n",
            "13/13 [==============================] - 0s 4ms/step - loss: 0.6139 - accuracy: 0.6692 - val_loss: 0.6537 - val_accuracy: 0.6667\n",
            "Epoch 59/100\n",
            "13/13 [==============================] - 0s 4ms/step - loss: 0.6115 - accuracy: 0.6692 - val_loss: 0.6514 - val_accuracy: 0.6667\n",
            "Epoch 60/100\n",
            "13/13 [==============================] - 0s 6ms/step - loss: 0.6107 - accuracy: 0.6538 - val_loss: 0.6515 - val_accuracy: 0.6667\n",
            "Epoch 61/100\n",
            "13/13 [==============================] - 0s 4ms/step - loss: 0.6106 - accuracy: 0.6615 - val_loss: 0.6534 - val_accuracy: 0.6667\n",
            "Epoch 62/100\n",
            "13/13 [==============================] - 0s 5ms/step - loss: 0.6099 - accuracy: 0.6692 - val_loss: 0.6497 - val_accuracy: 0.7037\n",
            "Epoch 63/100\n",
            "13/13 [==============================] - 0s 6ms/step - loss: 0.6099 - accuracy: 0.6538 - val_loss: 0.6527 - val_accuracy: 0.6667\n",
            "Epoch 64/100\n",
            "13/13 [==============================] - 0s 4ms/step - loss: 0.6105 - accuracy: 0.6692 - val_loss: 0.6474 - val_accuracy: 0.7037\n",
            "Epoch 65/100\n",
            "13/13 [==============================] - 0s 5ms/step - loss: 0.6082 - accuracy: 0.6615 - val_loss: 0.6515 - val_accuracy: 0.6667\n",
            "Epoch 66/100\n",
            "13/13 [==============================] - 0s 4ms/step - loss: 0.6084 - accuracy: 0.6615 - val_loss: 0.6473 - val_accuracy: 0.7037\n",
            "Epoch 67/100\n",
            "13/13 [==============================] - 0s 4ms/step - loss: 0.6073 - accuracy: 0.6692 - val_loss: 0.6481 - val_accuracy: 0.7037\n",
            "Epoch 68/100\n",
            "13/13 [==============================] - 0s 6ms/step - loss: 0.6077 - accuracy: 0.6692 - val_loss: 0.6501 - val_accuracy: 0.6667\n",
            "Epoch 69/100\n",
            "13/13 [==============================] - 0s 4ms/step - loss: 0.6073 - accuracy: 0.6692 - val_loss: 0.6461 - val_accuracy: 0.7037\n",
            "Epoch 70/100\n",
            "13/13 [==============================] - 0s 4ms/step - loss: 0.6059 - accuracy: 0.6692 - val_loss: 0.6488 - val_accuracy: 0.7037\n",
            "Epoch 71/100\n",
            "13/13 [==============================] - 0s 5ms/step - loss: 0.6068 - accuracy: 0.6615 - val_loss: 0.6533 - val_accuracy: 0.6667\n",
            "Epoch 72/100\n",
            "13/13 [==============================] - 0s 4ms/step - loss: 0.6071 - accuracy: 0.6615 - val_loss: 0.6437 - val_accuracy: 0.7037\n",
            "Epoch 73/100\n",
            "13/13 [==============================] - 0s 6ms/step - loss: 0.6065 - accuracy: 0.6692 - val_loss: 0.6483 - val_accuracy: 0.7037\n",
            "Epoch 74/100\n",
            "13/13 [==============================] - 0s 5ms/step - loss: 0.6057 - accuracy: 0.6615 - val_loss: 0.6432 - val_accuracy: 0.7037\n",
            "Epoch 75/100\n",
            "13/13 [==============================] - 0s 5ms/step - loss: 0.6042 - accuracy: 0.6692 - val_loss: 0.6457 - val_accuracy: 0.7037\n",
            "Epoch 76/100\n",
            "13/13 [==============================] - 0s 6ms/step - loss: 0.6051 - accuracy: 0.6692 - val_loss: 0.6492 - val_accuracy: 0.7037\n",
            "Epoch 77/100\n",
            "13/13 [==============================] - 0s 4ms/step - loss: 0.6059 - accuracy: 0.6538 - val_loss: 0.6422 - val_accuracy: 0.7037\n",
            "Epoch 78/100\n",
            "13/13 [==============================] - 0s 6ms/step - loss: 0.6062 - accuracy: 0.6692 - val_loss: 0.6510 - val_accuracy: 0.7037\n",
            "Epoch 79/100\n",
            "13/13 [==============================] - 0s 6ms/step - loss: 0.6030 - accuracy: 0.6692 - val_loss: 0.6473 - val_accuracy: 0.7037\n",
            "Epoch 80/100\n",
            "13/13 [==============================] - 0s 5ms/step - loss: 0.6021 - accuracy: 0.6538 - val_loss: 0.6438 - val_accuracy: 0.7037\n",
            "Epoch 81/100\n",
            "13/13 [==============================] - 0s 6ms/step - loss: 0.6015 - accuracy: 0.6692 - val_loss: 0.6464 - val_accuracy: 0.7037\n",
            "Epoch 82/100\n",
            "13/13 [==============================] - 0s 5ms/step - loss: 0.6020 - accuracy: 0.6538 - val_loss: 0.6491 - val_accuracy: 0.7037\n",
            "Epoch 83/100\n",
            "13/13 [==============================] - 0s 5ms/step - loss: 0.6001 - accuracy: 0.6692 - val_loss: 0.6461 - val_accuracy: 0.7037\n",
            "Epoch 84/100\n",
            "13/13 [==============================] - 0s 5ms/step - loss: 0.6027 - accuracy: 0.6692 - val_loss: 0.6497 - val_accuracy: 0.7037\n",
            "Epoch 85/100\n",
            "13/13 [==============================] - 0s 4ms/step - loss: 0.5994 - accuracy: 0.6769 - val_loss: 0.6439 - val_accuracy: 0.6667\n",
            "Epoch 86/100\n",
            "13/13 [==============================] - 0s 5ms/step - loss: 0.6032 - accuracy: 0.6769 - val_loss: 0.6426 - val_accuracy: 0.6667\n",
            "Epoch 87/100\n",
            "13/13 [==============================] - 0s 4ms/step - loss: 0.5984 - accuracy: 0.6769 - val_loss: 0.6479 - val_accuracy: 0.6667\n",
            "Epoch 88/100\n",
            "13/13 [==============================] - 0s 4ms/step - loss: 0.5991 - accuracy: 0.6769 - val_loss: 0.6510 - val_accuracy: 0.7037\n",
            "Epoch 89/100\n",
            "13/13 [==============================] - 0s 6ms/step - loss: 0.5988 - accuracy: 0.6692 - val_loss: 0.6526 - val_accuracy: 0.6667\n",
            "Epoch 90/100\n",
            "13/13 [==============================] - 0s 4ms/step - loss: 0.6019 - accuracy: 0.6615 - val_loss: 0.6578 - val_accuracy: 0.6667\n",
            "Epoch 91/100\n",
            "13/13 [==============================] - 0s 4ms/step - loss: 0.5984 - accuracy: 0.6846 - val_loss: 0.6451 - val_accuracy: 0.6667\n",
            "Epoch 92/100\n",
            "13/13 [==============================] - 0s 5ms/step - loss: 0.5980 - accuracy: 0.6769 - val_loss: 0.6483 - val_accuracy: 0.6667\n",
            "Epoch 93/100\n",
            "13/13 [==============================] - 0s 6ms/step - loss: 0.5980 - accuracy: 0.6769 - val_loss: 0.6531 - val_accuracy: 0.6667\n",
            "Epoch 94/100\n",
            "13/13 [==============================] - 0s 5ms/step - loss: 0.5972 - accuracy: 0.6769 - val_loss: 0.6526 - val_accuracy: 0.6667\n",
            "Epoch 95/100\n",
            "13/13 [==============================] - 0s 6ms/step - loss: 0.5961 - accuracy: 0.6769 - val_loss: 0.6523 - val_accuracy: 0.6667\n",
            "Epoch 96/100\n",
            "13/13 [==============================] - 0s 4ms/step - loss: 0.5972 - accuracy: 0.6769 - val_loss: 0.6542 - val_accuracy: 0.6667\n",
            "Epoch 97/100\n",
            "13/13 [==============================] - 0s 7ms/step - loss: 0.5965 - accuracy: 0.6769 - val_loss: 0.6510 - val_accuracy: 0.6667\n",
            "Epoch 98/100\n",
            "13/13 [==============================] - 0s 5ms/step - loss: 0.5968 - accuracy: 0.6769 - val_loss: 0.6523 - val_accuracy: 0.6667\n",
            "Epoch 99/100\n",
            "13/13 [==============================] - 0s 4ms/step - loss: 0.5950 - accuracy: 0.6769 - val_loss: 0.6514 - val_accuracy: 0.6667\n",
            "Epoch 100/100\n",
            "13/13 [==============================] - 0s 4ms/step - loss: 0.5957 - accuracy: 0.6769 - val_loss: 0.6534 - val_accuracy: 0.6667\n"
          ]
        }
      ]
    },
    {
      "cell_type": "code",
      "source": [
        "model14.evaluate(X_test_scaled, y_test)"
      ],
      "metadata": {
        "colab": {
          "base_uri": "https://localhost:8080/"
        },
        "id": "GHC9jAs273i8",
        "outputId": "19522145-60a5-4f1f-a50c-8316bdad453f"
      },
      "execution_count": 145,
      "outputs": [
        {
          "output_type": "stream",
          "name": "stdout",
          "text": [
            "1/1 [==============================] - 0s 27ms/step - loss: 0.5747 - accuracy: 0.7391\n"
          ]
        },
        {
          "output_type": "execute_result",
          "data": {
            "text/plain": [
              "[0.5747423768043518, 0.739130437374115]"
            ]
          },
          "metadata": {},
          "execution_count": 145
        }
      ]
    },
    {
      "cell_type": "code",
      "source": [
        "model14 = tf.keras.models.load_model(f\"/content/model_experiments/{model14.name}\")\n",
        "model14.evaluate(X_test_scaled, y_test)"
      ],
      "metadata": {
        "id": "ey6oyFQIrA1B",
        "outputId": "ac811e1b-fc19-4dff-d41f-d85eb428cb6d",
        "colab": {
          "base_uri": "https://localhost:8080/"
        }
      },
      "execution_count": 146,
      "outputs": [
        {
          "output_type": "stream",
          "name": "stdout",
          "text": [
            "1/1 [==============================] - 0s 135ms/step - loss: 0.6161 - accuracy: 0.6957\n"
          ]
        },
        {
          "output_type": "execute_result",
          "data": {
            "text/plain": [
              "[0.6161332130432129, 0.695652186870575]"
            ]
          },
          "metadata": {},
          "execution_count": 146
        }
      ]
    },
    {
      "cell_type": "code",
      "source": [
        "tf.random.set_seed(42)\n",
        "\n",
        "model15 = tf.keras.Sequential([\n",
        "    tf.keras.layers.Dense(5, activation='relu'),\n",
        "    tf.keras.layers.Dense(40, activation='relu'),\n",
        "    tf.keras.layers.Dense(40, activation='relu'),\n",
        "\n",
        "    tf.keras.layers.Dense(20, activation='relu'),\n",
        "    tf.keras.layers.Dense(10, activation='relu'),\n",
        "\n",
        "    tf.keras.layers.Dense(256, activation='relu'),\n",
        "    tf.keras.layers.Dense(1, activation='sigmoid')\n",
        "])\n",
        "\n",
        "model15.compile(\n",
        "    loss=tf.keras.losses.binary_crossentropy,\n",
        "    optimizer=tf.keras.optimizers.Adam(0.001),\n",
        "    metrics=[\"accuracy\"]\n",
        ")\n",
        "\n",
        "\n",
        "history15 = model15.fit(X_train_scaled, \n",
        "                    y_train, \n",
        "                    epochs=100,\n",
        "                    batch_size=10,\n",
        "                    validation_data = (X_valid_scaled, y_valid),\n",
        "                    callbacks=[create_model_checkpoint(model_name=model15.name)])"
      ],
      "metadata": {
        "id": "ytfYzYMftS79",
        "outputId": "3beac5dd-36c4-49c4-fc33-c9c0a0346119",
        "colab": {
          "base_uri": "https://localhost:8080/"
        }
      },
      "execution_count": 147,
      "outputs": [
        {
          "output_type": "stream",
          "name": "stdout",
          "text": [
            "Epoch 1/100\n",
            "13/13 [==============================] - 2s 108ms/step - loss: 0.6847 - accuracy: 0.5846 - val_loss: 0.6869 - val_accuracy: 0.5185\n",
            "Epoch 2/100\n",
            "13/13 [==============================] - 0s 6ms/step - loss: 0.6652 - accuracy: 0.6154 - val_loss: 0.6872 - val_accuracy: 0.5185\n",
            "Epoch 3/100\n",
            "13/13 [==============================] - 0s 5ms/step - loss: 0.6572 - accuracy: 0.6154 - val_loss: 0.6995 - val_accuracy: 0.5185\n",
            "Epoch 4/100\n",
            "13/13 [==============================] - 0s 5ms/step - loss: 0.6512 - accuracy: 0.6154 - val_loss: 0.6974 - val_accuracy: 0.5185\n",
            "Epoch 5/100\n",
            "13/13 [==============================] - 0s 6ms/step - loss: 0.6491 - accuracy: 0.6154 - val_loss: 0.6887 - val_accuracy: 0.5185\n",
            "Epoch 6/100\n",
            "13/13 [==============================] - 0s 6ms/step - loss: 0.6449 - accuracy: 0.6154 - val_loss: 0.6868 - val_accuracy: 0.5185\n",
            "Epoch 7/100\n",
            "13/13 [==============================] - 0s 4ms/step - loss: 0.6498 - accuracy: 0.6154 - val_loss: 0.6943 - val_accuracy: 0.5185\n",
            "Epoch 8/100\n",
            "13/13 [==============================] - 0s 4ms/step - loss: 0.6384 - accuracy: 0.6154 - val_loss: 0.6785 - val_accuracy: 0.5185\n",
            "Epoch 9/100\n",
            "13/13 [==============================] - 0s 6ms/step - loss: 0.6407 - accuracy: 0.6154 - val_loss: 0.6726 - val_accuracy: 0.5185\n",
            "Epoch 10/100\n",
            "13/13 [==============================] - 0s 5ms/step - loss: 0.6377 - accuracy: 0.6154 - val_loss: 0.6764 - val_accuracy: 0.5185\n",
            "Epoch 11/100\n",
            "13/13 [==============================] - 0s 4ms/step - loss: 0.6355 - accuracy: 0.6154 - val_loss: 0.6711 - val_accuracy: 0.5185\n",
            "Epoch 12/100\n",
            "13/13 [==============================] - 1s 92ms/step - loss: 0.6328 - accuracy: 0.6231 - val_loss: 0.6676 - val_accuracy: 0.5926\n",
            "Epoch 13/100\n",
            "13/13 [==============================] - 0s 5ms/step - loss: 0.6327 - accuracy: 0.6538 - val_loss: 0.6744 - val_accuracy: 0.5926\n",
            "Epoch 14/100\n",
            "13/13 [==============================] - 1s 90ms/step - loss: 0.6286 - accuracy: 0.6923 - val_loss: 0.6647 - val_accuracy: 0.6296\n",
            "Epoch 15/100\n",
            "13/13 [==============================] - 0s 4ms/step - loss: 0.6289 - accuracy: 0.6692 - val_loss: 0.6655 - val_accuracy: 0.6296\n",
            "Epoch 16/100\n",
            "13/13 [==============================] - 0s 7ms/step - loss: 0.6251 - accuracy: 0.6615 - val_loss: 0.6579 - val_accuracy: 0.6296\n",
            "Epoch 17/100\n",
            "13/13 [==============================] - 0s 4ms/step - loss: 0.6284 - accuracy: 0.6538 - val_loss: 0.6563 - val_accuracy: 0.6296\n",
            "Epoch 18/100\n",
            "13/13 [==============================] - 0s 4ms/step - loss: 0.6272 - accuracy: 0.6538 - val_loss: 0.6701 - val_accuracy: 0.6296\n",
            "Epoch 19/100\n",
            "13/13 [==============================] - 2s 127ms/step - loss: 0.6256 - accuracy: 0.6538 - val_loss: 0.6489 - val_accuracy: 0.7037\n",
            "Epoch 20/100\n",
            "13/13 [==============================] - 0s 5ms/step - loss: 0.6222 - accuracy: 0.6769 - val_loss: 0.6600 - val_accuracy: 0.6296\n",
            "Epoch 21/100\n",
            "13/13 [==============================] - 0s 4ms/step - loss: 0.6215 - accuracy: 0.6615 - val_loss: 0.6554 - val_accuracy: 0.6667\n",
            "Epoch 22/100\n",
            "13/13 [==============================] - 0s 5ms/step - loss: 0.6196 - accuracy: 0.6615 - val_loss: 0.6478 - val_accuracy: 0.7037\n",
            "Epoch 23/100\n",
            "13/13 [==============================] - 0s 5ms/step - loss: 0.6209 - accuracy: 0.6538 - val_loss: 0.6419 - val_accuracy: 0.7037\n",
            "Epoch 24/100\n",
            "13/13 [==============================] - 0s 5ms/step - loss: 0.6238 - accuracy: 0.6538 - val_loss: 0.6609 - val_accuracy: 0.6296\n",
            "Epoch 25/100\n",
            "13/13 [==============================] - 0s 4ms/step - loss: 0.6213 - accuracy: 0.6769 - val_loss: 0.6378 - val_accuracy: 0.7037\n",
            "Epoch 26/100\n",
            "13/13 [==============================] - 0s 4ms/step - loss: 0.6151 - accuracy: 0.6538 - val_loss: 0.6528 - val_accuracy: 0.7037\n",
            "Epoch 27/100\n",
            "13/13 [==============================] - 0s 4ms/step - loss: 0.6122 - accuracy: 0.6615 - val_loss: 0.6471 - val_accuracy: 0.7037\n",
            "Epoch 28/100\n",
            "13/13 [==============================] - 0s 5ms/step - loss: 0.6130 - accuracy: 0.6615 - val_loss: 0.6395 - val_accuracy: 0.7037\n",
            "Epoch 29/100\n",
            "13/13 [==============================] - 0s 6ms/step - loss: 0.6106 - accuracy: 0.6692 - val_loss: 0.6358 - val_accuracy: 0.7037\n",
            "Epoch 30/100\n",
            "13/13 [==============================] - 0s 6ms/step - loss: 0.6082 - accuracy: 0.6615 - val_loss: 0.6549 - val_accuracy: 0.7037\n",
            "Epoch 31/100\n",
            "13/13 [==============================] - 0s 6ms/step - loss: 0.6138 - accuracy: 0.6615 - val_loss: 0.6234 - val_accuracy: 0.7037\n",
            "Epoch 32/100\n",
            "13/13 [==============================] - 0s 5ms/step - loss: 0.6049 - accuracy: 0.6615 - val_loss: 0.6347 - val_accuracy: 0.7037\n",
            "Epoch 33/100\n",
            "13/13 [==============================] - 0s 4ms/step - loss: 0.6093 - accuracy: 0.6692 - val_loss: 0.6308 - val_accuracy: 0.7037\n",
            "Epoch 34/100\n",
            "13/13 [==============================] - 0s 5ms/step - loss: 0.6013 - accuracy: 0.6692 - val_loss: 0.6324 - val_accuracy: 0.7037\n",
            "Epoch 35/100\n",
            "13/13 [==============================] - 0s 4ms/step - loss: 0.6014 - accuracy: 0.6692 - val_loss: 0.6233 - val_accuracy: 0.7037\n",
            "Epoch 36/100\n",
            "13/13 [==============================] - 0s 4ms/step - loss: 0.6088 - accuracy: 0.6615 - val_loss: 0.6251 - val_accuracy: 0.7037\n",
            "Epoch 37/100\n",
            "13/13 [==============================] - 0s 6ms/step - loss: 0.6022 - accuracy: 0.6692 - val_loss: 0.6434 - val_accuracy: 0.7037\n",
            "Epoch 38/100\n",
            "13/13 [==============================] - 0s 6ms/step - loss: 0.5985 - accuracy: 0.6692 - val_loss: 0.6121 - val_accuracy: 0.7037\n",
            "Epoch 39/100\n",
            "13/13 [==============================] - 0s 4ms/step - loss: 0.5973 - accuracy: 0.6692 - val_loss: 0.6251 - val_accuracy: 0.7037\n",
            "Epoch 40/100\n",
            "13/13 [==============================] - 0s 4ms/step - loss: 0.5928 - accuracy: 0.6692 - val_loss: 0.6291 - val_accuracy: 0.7037\n",
            "Epoch 41/100\n",
            "13/13 [==============================] - 0s 4ms/step - loss: 0.5909 - accuracy: 0.6692 - val_loss: 0.6120 - val_accuracy: 0.7037\n",
            "Epoch 42/100\n",
            "13/13 [==============================] - 0s 5ms/step - loss: 0.5921 - accuracy: 0.6692 - val_loss: 0.6121 - val_accuracy: 0.7037\n",
            "Epoch 43/100\n",
            "13/13 [==============================] - 0s 4ms/step - loss: 0.6007 - accuracy: 0.6615 - val_loss: 0.6471 - val_accuracy: 0.7037\n",
            "Epoch 44/100\n",
            "13/13 [==============================] - 0s 4ms/step - loss: 0.5973 - accuracy: 0.6692 - val_loss: 0.6048 - val_accuracy: 0.6667\n",
            "Epoch 45/100\n",
            "13/13 [==============================] - 0s 5ms/step - loss: 0.5892 - accuracy: 0.6769 - val_loss: 0.6176 - val_accuracy: 0.7037\n",
            "Epoch 46/100\n",
            "13/13 [==============================] - 0s 5ms/step - loss: 0.5865 - accuracy: 0.6692 - val_loss: 0.6128 - val_accuracy: 0.6667\n",
            "Epoch 47/100\n",
            "13/13 [==============================] - 0s 4ms/step - loss: 0.5809 - accuracy: 0.6692 - val_loss: 0.6326 - val_accuracy: 0.6667\n",
            "Epoch 48/100\n",
            "13/13 [==============================] - 0s 4ms/step - loss: 0.5831 - accuracy: 0.6692 - val_loss: 0.6203 - val_accuracy: 0.6667\n",
            "Epoch 49/100\n",
            "13/13 [==============================] - 0s 4ms/step - loss: 0.5781 - accuracy: 0.6769 - val_loss: 0.6412 - val_accuracy: 0.6667\n",
            "Epoch 50/100\n",
            "13/13 [==============================] - 0s 5ms/step - loss: 0.5775 - accuracy: 0.6769 - val_loss: 0.6165 - val_accuracy: 0.6667\n",
            "Epoch 51/100\n",
            "13/13 [==============================] - 0s 4ms/step - loss: 0.5786 - accuracy: 0.6769 - val_loss: 0.6265 - val_accuracy: 0.6667\n",
            "Epoch 52/100\n",
            "13/13 [==============================] - 0s 4ms/step - loss: 0.5770 - accuracy: 0.6692 - val_loss: 0.6312 - val_accuracy: 0.6667\n",
            "Epoch 53/100\n",
            "13/13 [==============================] - 0s 4ms/step - loss: 0.5840 - accuracy: 0.6769 - val_loss: 0.6420 - val_accuracy: 0.6667\n",
            "Epoch 54/100\n",
            "13/13 [==============================] - 0s 6ms/step - loss: 0.5889 - accuracy: 0.6769 - val_loss: 0.6220 - val_accuracy: 0.6667\n",
            "Epoch 55/100\n",
            "13/13 [==============================] - 0s 4ms/step - loss: 0.5808 - accuracy: 0.6923 - val_loss: 0.6073 - val_accuracy: 0.7037\n",
            "Epoch 56/100\n",
            "13/13 [==============================] - 0s 4ms/step - loss: 0.5721 - accuracy: 0.6923 - val_loss: 0.6465 - val_accuracy: 0.6667\n",
            "Epoch 57/100\n",
            "13/13 [==============================] - 0s 4ms/step - loss: 0.5758 - accuracy: 0.6846 - val_loss: 0.6261 - val_accuracy: 0.6667\n",
            "Epoch 58/100\n",
            "13/13 [==============================] - 0s 5ms/step - loss: 0.5839 - accuracy: 0.6692 - val_loss: 0.6329 - val_accuracy: 0.6667\n",
            "Epoch 59/100\n",
            "13/13 [==============================] - 1s 90ms/step - loss: 0.5714 - accuracy: 0.6769 - val_loss: 0.6111 - val_accuracy: 0.7407\n",
            "Epoch 60/100\n",
            "13/13 [==============================] - 0s 4ms/step - loss: 0.5683 - accuracy: 0.6846 - val_loss: 0.6372 - val_accuracy: 0.6667\n",
            "Epoch 61/100\n",
            "13/13 [==============================] - 0s 4ms/step - loss: 0.5700 - accuracy: 0.6923 - val_loss: 0.6247 - val_accuracy: 0.6667\n",
            "Epoch 62/100\n",
            "13/13 [==============================] - 0s 5ms/step - loss: 0.5718 - accuracy: 0.6923 - val_loss: 0.6226 - val_accuracy: 0.7037\n",
            "Epoch 63/100\n",
            "13/13 [==============================] - 0s 4ms/step - loss: 0.5755 - accuracy: 0.6769 - val_loss: 0.6421 - val_accuracy: 0.6667\n",
            "Epoch 64/100\n",
            "13/13 [==============================] - 0s 4ms/step - loss: 0.5858 - accuracy: 0.6692 - val_loss: 0.6140 - val_accuracy: 0.7037\n",
            "Epoch 65/100\n",
            "13/13 [==============================] - 0s 4ms/step - loss: 0.5667 - accuracy: 0.6615 - val_loss: 0.6516 - val_accuracy: 0.6667\n",
            "Epoch 66/100\n",
            "13/13 [==============================] - 0s 5ms/step - loss: 0.5728 - accuracy: 0.7077 - val_loss: 0.6152 - val_accuracy: 0.5926\n",
            "Epoch 67/100\n",
            "13/13 [==============================] - 0s 5ms/step - loss: 0.5672 - accuracy: 0.6769 - val_loss: 0.6551 - val_accuracy: 0.6667\n",
            "Epoch 68/100\n",
            "13/13 [==============================] - 0s 4ms/step - loss: 0.5712 - accuracy: 0.6846 - val_loss: 0.6225 - val_accuracy: 0.6667\n",
            "Epoch 69/100\n",
            "13/13 [==============================] - 0s 6ms/step - loss: 0.5716 - accuracy: 0.6923 - val_loss: 0.6537 - val_accuracy: 0.6296\n",
            "Epoch 70/100\n",
            "13/13 [==============================] - 0s 6ms/step - loss: 0.5705 - accuracy: 0.6923 - val_loss: 0.6627 - val_accuracy: 0.6296\n",
            "Epoch 71/100\n",
            "13/13 [==============================] - 0s 5ms/step - loss: 0.5681 - accuracy: 0.6923 - val_loss: 0.6466 - val_accuracy: 0.6667\n",
            "Epoch 72/100\n",
            "13/13 [==============================] - 0s 4ms/step - loss: 0.5807 - accuracy: 0.6615 - val_loss: 0.6422 - val_accuracy: 0.6667\n",
            "Epoch 73/100\n",
            "13/13 [==============================] - 0s 5ms/step - loss: 0.5782 - accuracy: 0.6846 - val_loss: 0.6493 - val_accuracy: 0.6296\n",
            "Epoch 74/100\n",
            "13/13 [==============================] - 0s 4ms/step - loss: 0.5804 - accuracy: 0.7077 - val_loss: 0.6370 - val_accuracy: 0.6667\n",
            "Epoch 75/100\n",
            "13/13 [==============================] - 0s 4ms/step - loss: 0.5734 - accuracy: 0.7077 - val_loss: 0.6440 - val_accuracy: 0.6667\n",
            "Epoch 76/100\n",
            "13/13 [==============================] - 0s 6ms/step - loss: 0.5634 - accuracy: 0.7077 - val_loss: 0.6350 - val_accuracy: 0.6667\n",
            "Epoch 77/100\n",
            "13/13 [==============================] - 0s 4ms/step - loss: 0.5691 - accuracy: 0.7077 - val_loss: 0.6364 - val_accuracy: 0.7407\n",
            "Epoch 78/100\n",
            "13/13 [==============================] - 0s 5ms/step - loss: 0.5816 - accuracy: 0.6769 - val_loss: 0.6497 - val_accuracy: 0.6667\n",
            "Epoch 79/100\n",
            "13/13 [==============================] - 0s 4ms/step - loss: 0.5631 - accuracy: 0.7000 - val_loss: 0.6321 - val_accuracy: 0.7037\n",
            "Epoch 80/100\n",
            "13/13 [==============================] - 0s 4ms/step - loss: 0.5670 - accuracy: 0.6923 - val_loss: 0.6326 - val_accuracy: 0.7407\n",
            "Epoch 81/100\n",
            "13/13 [==============================] - 0s 6ms/step - loss: 0.5615 - accuracy: 0.7077 - val_loss: 0.6461 - val_accuracy: 0.6667\n",
            "Epoch 82/100\n",
            "13/13 [==============================] - 0s 5ms/step - loss: 0.5583 - accuracy: 0.7000 - val_loss: 0.6423 - val_accuracy: 0.6667\n",
            "Epoch 83/100\n",
            "13/13 [==============================] - 0s 7ms/step - loss: 0.5593 - accuracy: 0.7077 - val_loss: 0.6412 - val_accuracy: 0.7407\n",
            "Epoch 84/100\n",
            "13/13 [==============================] - 0s 6ms/step - loss: 0.5680 - accuracy: 0.6923 - val_loss: 0.6631 - val_accuracy: 0.6296\n",
            "Epoch 85/100\n",
            "13/13 [==============================] - 0s 6ms/step - loss: 0.5626 - accuracy: 0.7077 - val_loss: 0.6253 - val_accuracy: 0.6296\n",
            "Epoch 86/100\n",
            "13/13 [==============================] - 0s 6ms/step - loss: 0.5566 - accuracy: 0.7000 - val_loss: 0.6566 - val_accuracy: 0.6667\n",
            "Epoch 87/100\n",
            "13/13 [==============================] - 0s 6ms/step - loss: 0.5568 - accuracy: 0.7000 - val_loss: 0.6445 - val_accuracy: 0.7037\n",
            "Epoch 88/100\n",
            "13/13 [==============================] - 0s 4ms/step - loss: 0.5668 - accuracy: 0.7000 - val_loss: 0.6486 - val_accuracy: 0.6667\n",
            "Epoch 89/100\n",
            "13/13 [==============================] - 0s 4ms/step - loss: 0.5642 - accuracy: 0.7077 - val_loss: 0.6424 - val_accuracy: 0.6667\n",
            "Epoch 90/100\n",
            "13/13 [==============================] - 0s 6ms/step - loss: 0.5538 - accuracy: 0.7154 - val_loss: 0.6517 - val_accuracy: 0.6667\n",
            "Epoch 91/100\n",
            "13/13 [==============================] - 0s 5ms/step - loss: 0.5545 - accuracy: 0.7154 - val_loss: 0.6389 - val_accuracy: 0.7037\n",
            "Epoch 92/100\n",
            "13/13 [==============================] - 0s 4ms/step - loss: 0.5506 - accuracy: 0.7077 - val_loss: 0.6442 - val_accuracy: 0.7037\n",
            "Epoch 93/100\n",
            "13/13 [==============================] - 0s 4ms/step - loss: 0.5526 - accuracy: 0.6923 - val_loss: 0.6434 - val_accuracy: 0.7037\n",
            "Epoch 94/100\n",
            "13/13 [==============================] - 0s 4ms/step - loss: 0.5633 - accuracy: 0.7231 - val_loss: 0.6546 - val_accuracy: 0.6667\n",
            "Epoch 95/100\n",
            "13/13 [==============================] - 0s 5ms/step - loss: 0.5477 - accuracy: 0.7231 - val_loss: 0.6423 - val_accuracy: 0.6667\n",
            "Epoch 96/100\n",
            "13/13 [==============================] - 0s 4ms/step - loss: 0.5522 - accuracy: 0.7000 - val_loss: 0.6557 - val_accuracy: 0.6667\n",
            "Epoch 97/100\n",
            "13/13 [==============================] - 0s 5ms/step - loss: 0.5494 - accuracy: 0.7231 - val_loss: 0.6342 - val_accuracy: 0.6667\n",
            "Epoch 98/100\n",
            "13/13 [==============================] - 0s 5ms/step - loss: 0.5517 - accuracy: 0.7154 - val_loss: 0.6283 - val_accuracy: 0.6667\n",
            "Epoch 99/100\n",
            "13/13 [==============================] - 0s 4ms/step - loss: 0.5484 - accuracy: 0.7154 - val_loss: 0.6628 - val_accuracy: 0.6667\n",
            "Epoch 100/100\n",
            "13/13 [==============================] - 0s 4ms/step - loss: 0.5519 - accuracy: 0.7308 - val_loss: 0.6429 - val_accuracy: 0.6667\n"
          ]
        }
      ]
    },
    {
      "cell_type": "code",
      "source": [
        "model15.evaluate(X_test_scaled, y_test)"
      ],
      "metadata": {
        "colab": {
          "base_uri": "https://localhost:8080/"
        },
        "id": "9zF-Vflf74n8",
        "outputId": "25a31782-d50e-44ef-ed8a-3961b0acfc69"
      },
      "execution_count": 148,
      "outputs": [
        {
          "output_type": "stream",
          "name": "stdout",
          "text": [
            "1/1 [==============================] - 0s 22ms/step - loss: 0.5013 - accuracy: 0.8261\n"
          ]
        },
        {
          "output_type": "execute_result",
          "data": {
            "text/plain": [
              "[0.5012883543968201, 0.8260869383811951]"
            ]
          },
          "metadata": {},
          "execution_count": 148
        }
      ]
    },
    {
      "cell_type": "code",
      "source": [
        "model15 = tf.keras.models.load_model(f\"/content/model_experiments/{model15.name}\")\n",
        "model15.evaluate(X_test_scaled, y_test)"
      ],
      "metadata": {
        "id": "hnN5jGe7rBrV",
        "outputId": "a12489ac-966b-4405-8bcf-9f3669987211",
        "colab": {
          "base_uri": "https://localhost:8080/"
        }
      },
      "execution_count": 149,
      "outputs": [
        {
          "output_type": "stream",
          "name": "stdout",
          "text": [
            "1/1 [==============================] - 0s 140ms/step - loss: 0.5224 - accuracy: 0.8696\n"
          ]
        },
        {
          "output_type": "execute_result",
          "data": {
            "text/plain": [
              "[0.5224146842956543, 0.8695651888847351]"
            ]
          },
          "metadata": {},
          "execution_count": 149
        }
      ]
    },
    {
      "cell_type": "code",
      "source": [],
      "metadata": {
        "id": "aSFXiJDIe0wL"
      },
      "execution_count": 149,
      "outputs": []
    },
    {
      "cell_type": "code",
      "source": [],
      "metadata": {
        "id": "Ndd_Lu6DajLv"
      },
      "execution_count": 149,
      "outputs": []
    },
    {
      "cell_type": "code",
      "source": [
        "tf.random.set_seed(42)\n",
        "\n",
        "model16 = tf.keras.Sequential([\n",
        "    tf.keras.layers.Dense(5, activation='relu'),\n",
        "    tf.keras.layers.Dense(40, activation='relu'),\n",
        "    tf.keras.layers.Dense(40, activation='relu'),\n",
        "\n",
        "    tf.keras.layers.Dense(20, activation='relu'),\n",
        "    tf.keras.layers.Dense(10, activation='relu'),\n",
        "\n",
        "    tf.keras.layers.Dense(256, activation='relu'),\n",
        "    tf.keras.layers.Dense(1, activation='sigmoid')\n",
        "])\n",
        "\n",
        "model16.compile(\n",
        "    loss=tf.keras.losses.binary_crossentropy,\n",
        "    optimizer=tf.keras.optimizers.Adam(0.0003),\n",
        "    metrics=[\"accuracy\"]\n",
        ")\n",
        "\n",
        "\n",
        "history16 = model16.fit(X_train_scaled, \n",
        "                    y_train, \n",
        "                    epochs=100,\n",
        "                    batch_size=5,\n",
        "                    validation_data = (X_valid_scaled, y_valid),\n",
        "                    callbacks=[create_model_checkpoint(model_name=model16.name)])"
      ],
      "metadata": {
        "id": "bXvnP0wBajOx",
        "outputId": "fa50d6b9-45e6-4c22-84b8-c035c29a19d9",
        "colab": {
          "base_uri": "https://localhost:8080/"
        }
      },
      "execution_count": 150,
      "outputs": [
        {
          "output_type": "stream",
          "name": "stdout",
          "text": [
            "Epoch 1/100\n",
            "26/26 [==============================] - 2s 53ms/step - loss: 0.6892 - accuracy: 0.5846 - val_loss: 0.6900 - val_accuracy: 0.5185\n",
            "Epoch 2/100\n",
            "26/26 [==============================] - 0s 4ms/step - loss: 0.6792 - accuracy: 0.6154 - val_loss: 0.6869 - val_accuracy: 0.5185\n",
            "Epoch 3/100\n",
            "26/26 [==============================] - 0s 4ms/step - loss: 0.6706 - accuracy: 0.6154 - val_loss: 0.6854 - val_accuracy: 0.5185\n",
            "Epoch 4/100\n",
            "26/26 [==============================] - 0s 3ms/step - loss: 0.6608 - accuracy: 0.6154 - val_loss: 0.6874 - val_accuracy: 0.5185\n",
            "Epoch 5/100\n",
            "26/26 [==============================] - 0s 4ms/step - loss: 0.6544 - accuracy: 0.6154 - val_loss: 0.6883 - val_accuracy: 0.5185\n",
            "Epoch 6/100\n",
            "26/26 [==============================] - 0s 4ms/step - loss: 0.6506 - accuracy: 0.6154 - val_loss: 0.6910 - val_accuracy: 0.5185\n",
            "Epoch 7/100\n",
            "26/26 [==============================] - 0s 3ms/step - loss: 0.6525 - accuracy: 0.6154 - val_loss: 0.6964 - val_accuracy: 0.5185\n",
            "Epoch 8/100\n",
            "26/26 [==============================] - 0s 3ms/step - loss: 0.6469 - accuracy: 0.6154 - val_loss: 0.6908 - val_accuracy: 0.5185\n",
            "Epoch 9/100\n",
            "26/26 [==============================] - 0s 4ms/step - loss: 0.6474 - accuracy: 0.6154 - val_loss: 0.6889 - val_accuracy: 0.5185\n",
            "Epoch 10/100\n",
            "26/26 [==============================] - 0s 3ms/step - loss: 0.6457 - accuracy: 0.6154 - val_loss: 0.6903 - val_accuracy: 0.5185\n",
            "Epoch 11/100\n",
            "26/26 [==============================] - 0s 4ms/step - loss: 0.6454 - accuracy: 0.6154 - val_loss: 0.6885 - val_accuracy: 0.5185\n",
            "Epoch 12/100\n",
            "26/26 [==============================] - 0s 4ms/step - loss: 0.6440 - accuracy: 0.6154 - val_loss: 0.6865 - val_accuracy: 0.5185\n",
            "Epoch 13/100\n",
            "26/26 [==============================] - 0s 3ms/step - loss: 0.6433 - accuracy: 0.6154 - val_loss: 0.6891 - val_accuracy: 0.5185\n",
            "Epoch 14/100\n",
            "26/26 [==============================] - 0s 4ms/step - loss: 0.6416 - accuracy: 0.6154 - val_loss: 0.6872 - val_accuracy: 0.5185\n",
            "Epoch 15/100\n",
            "26/26 [==============================] - 0s 4ms/step - loss: 0.6413 - accuracy: 0.6154 - val_loss: 0.6849 - val_accuracy: 0.5185\n",
            "Epoch 16/100\n",
            "26/26 [==============================] - 0s 4ms/step - loss: 0.6394 - accuracy: 0.6154 - val_loss: 0.6804 - val_accuracy: 0.5185\n",
            "Epoch 17/100\n",
            "26/26 [==============================] - 0s 4ms/step - loss: 0.6402 - accuracy: 0.6154 - val_loss: 0.6785 - val_accuracy: 0.5185\n",
            "Epoch 18/100\n",
            "26/26 [==============================] - 0s 4ms/step - loss: 0.6382 - accuracy: 0.6154 - val_loss: 0.6829 - val_accuracy: 0.5185\n",
            "Epoch 19/100\n",
            "26/26 [==============================] - 0s 4ms/step - loss: 0.6373 - accuracy: 0.6154 - val_loss: 0.6748 - val_accuracy: 0.5185\n",
            "Epoch 20/100\n",
            "26/26 [==============================] - 0s 4ms/step - loss: 0.6353 - accuracy: 0.6154 - val_loss: 0.6781 - val_accuracy: 0.5185\n",
            "Epoch 21/100\n",
            "26/26 [==============================] - 0s 4ms/step - loss: 0.6348 - accuracy: 0.6154 - val_loss: 0.6755 - val_accuracy: 0.5185\n",
            "Epoch 22/100\n",
            "26/26 [==============================] - 0s 3ms/step - loss: 0.6344 - accuracy: 0.6154 - val_loss: 0.6726 - val_accuracy: 0.5185\n",
            "Epoch 23/100\n",
            "26/26 [==============================] - 1s 44ms/step - loss: 0.6338 - accuracy: 0.6154 - val_loss: 0.6673 - val_accuracy: 0.5926\n",
            "Epoch 24/100\n",
            "26/26 [==============================] - 0s 4ms/step - loss: 0.6336 - accuracy: 0.6154 - val_loss: 0.6734 - val_accuracy: 0.5185\n",
            "Epoch 25/100\n",
            "26/26 [==============================] - 0s 3ms/step - loss: 0.6320 - accuracy: 0.6154 - val_loss: 0.6669 - val_accuracy: 0.5926\n",
            "Epoch 26/100\n",
            "26/26 [==============================] - 0s 4ms/step - loss: 0.6298 - accuracy: 0.6231 - val_loss: 0.6700 - val_accuracy: 0.5926\n",
            "Epoch 27/100\n",
            "26/26 [==============================] - 0s 3ms/step - loss: 0.6288 - accuracy: 0.6538 - val_loss: 0.6692 - val_accuracy: 0.5926\n",
            "Epoch 28/100\n",
            "26/26 [==============================] - 0s 4ms/step - loss: 0.6295 - accuracy: 0.6615 - val_loss: 0.6686 - val_accuracy: 0.5926\n",
            "Epoch 29/100\n",
            "26/26 [==============================] - 0s 3ms/step - loss: 0.6285 - accuracy: 0.6692 - val_loss: 0.6672 - val_accuracy: 0.5926\n",
            "Epoch 30/100\n",
            "26/26 [==============================] - 0s 3ms/step - loss: 0.6279 - accuracy: 0.6769 - val_loss: 0.6717 - val_accuracy: 0.5926\n",
            "Epoch 31/100\n",
            "26/26 [==============================] - 1s 45ms/step - loss: 0.6304 - accuracy: 0.6615 - val_loss: 0.6662 - val_accuracy: 0.6296\n",
            "Epoch 32/100\n",
            "26/26 [==============================] - 0s 3ms/step - loss: 0.6268 - accuracy: 0.6769 - val_loss: 0.6681 - val_accuracy: 0.6296\n",
            "Epoch 33/100\n",
            "26/26 [==============================] - 0s 4ms/step - loss: 0.6280 - accuracy: 0.6846 - val_loss: 0.6660 - val_accuracy: 0.6296\n",
            "Epoch 34/100\n",
            "26/26 [==============================] - 0s 4ms/step - loss: 0.6261 - accuracy: 0.6846 - val_loss: 0.6676 - val_accuracy: 0.6296\n",
            "Epoch 35/100\n",
            "26/26 [==============================] - 0s 3ms/step - loss: 0.6258 - accuracy: 0.6846 - val_loss: 0.6679 - val_accuracy: 0.6296\n",
            "Epoch 36/100\n",
            "26/26 [==============================] - 0s 3ms/step - loss: 0.6274 - accuracy: 0.6615 - val_loss: 0.6664 - val_accuracy: 0.6296\n",
            "Epoch 37/100\n",
            "26/26 [==============================] - 0s 3ms/step - loss: 0.6266 - accuracy: 0.6692 - val_loss: 0.6713 - val_accuracy: 0.6296\n",
            "Epoch 38/100\n",
            "26/26 [==============================] - 0s 3ms/step - loss: 0.6253 - accuracy: 0.6769 - val_loss: 0.6638 - val_accuracy: 0.6296\n",
            "Epoch 39/100\n",
            "26/26 [==============================] - 0s 4ms/step - loss: 0.6246 - accuracy: 0.6692 - val_loss: 0.6647 - val_accuracy: 0.6296\n",
            "Epoch 40/100\n",
            "26/26 [==============================] - 0s 4ms/step - loss: 0.6242 - accuracy: 0.6769 - val_loss: 0.6696 - val_accuracy: 0.6296\n",
            "Epoch 41/100\n",
            "26/26 [==============================] - 0s 4ms/step - loss: 0.6241 - accuracy: 0.6692 - val_loss: 0.6625 - val_accuracy: 0.6296\n",
            "Epoch 42/100\n",
            "26/26 [==============================] - 0s 3ms/step - loss: 0.6234 - accuracy: 0.6692 - val_loss: 0.6626 - val_accuracy: 0.6296\n",
            "Epoch 43/100\n",
            "26/26 [==============================] - 0s 3ms/step - loss: 0.6282 - accuracy: 0.6615 - val_loss: 0.6640 - val_accuracy: 0.6296\n",
            "Epoch 44/100\n",
            "26/26 [==============================] - 0s 4ms/step - loss: 0.6230 - accuracy: 0.6692 - val_loss: 0.6655 - val_accuracy: 0.6296\n",
            "Epoch 45/100\n",
            "26/26 [==============================] - 0s 3ms/step - loss: 0.6220 - accuracy: 0.6692 - val_loss: 0.6657 - val_accuracy: 0.6296\n",
            "Epoch 46/100\n",
            "26/26 [==============================] - 0s 3ms/step - loss: 0.6218 - accuracy: 0.6692 - val_loss: 0.6626 - val_accuracy: 0.6296\n",
            "Epoch 47/100\n",
            "26/26 [==============================] - 0s 3ms/step - loss: 0.6209 - accuracy: 0.6615 - val_loss: 0.6626 - val_accuracy: 0.6296\n",
            "Epoch 48/100\n",
            "26/26 [==============================] - 0s 3ms/step - loss: 0.6218 - accuracy: 0.6615 - val_loss: 0.6630 - val_accuracy: 0.6296\n",
            "Epoch 49/100\n",
            "26/26 [==============================] - 0s 4ms/step - loss: 0.6202 - accuracy: 0.6615 - val_loss: 0.6648 - val_accuracy: 0.6296\n",
            "Epoch 50/100\n",
            "26/26 [==============================] - 0s 3ms/step - loss: 0.6206 - accuracy: 0.6615 - val_loss: 0.6626 - val_accuracy: 0.6296\n",
            "Epoch 51/100\n",
            "26/26 [==============================] - 0s 3ms/step - loss: 0.6202 - accuracy: 0.6615 - val_loss: 0.6591 - val_accuracy: 0.6296\n",
            "Epoch 52/100\n",
            "26/26 [==============================] - 0s 4ms/step - loss: 0.6205 - accuracy: 0.6769 - val_loss: 0.6579 - val_accuracy: 0.6296\n",
            "Epoch 53/100\n",
            "26/26 [==============================] - 0s 3ms/step - loss: 0.6205 - accuracy: 0.6615 - val_loss: 0.6686 - val_accuracy: 0.6296\n",
            "Epoch 54/100\n",
            "26/26 [==============================] - 0s 3ms/step - loss: 0.6226 - accuracy: 0.6692 - val_loss: 0.6684 - val_accuracy: 0.6296\n",
            "Epoch 55/100\n",
            "26/26 [==============================] - 1s 45ms/step - loss: 0.6206 - accuracy: 0.6462 - val_loss: 0.6500 - val_accuracy: 0.7037\n",
            "Epoch 56/100\n",
            "26/26 [==============================] - 0s 4ms/step - loss: 0.6193 - accuracy: 0.6615 - val_loss: 0.6520 - val_accuracy: 0.7037\n",
            "Epoch 57/100\n",
            "26/26 [==============================] - 0s 3ms/step - loss: 0.6180 - accuracy: 0.6769 - val_loss: 0.6573 - val_accuracy: 0.6667\n",
            "Epoch 58/100\n",
            "26/26 [==============================] - 0s 4ms/step - loss: 0.6192 - accuracy: 0.6615 - val_loss: 0.6616 - val_accuracy: 0.6296\n",
            "Epoch 59/100\n",
            "26/26 [==============================] - 0s 4ms/step - loss: 0.6166 - accuracy: 0.6615 - val_loss: 0.6530 - val_accuracy: 0.7037\n",
            "Epoch 60/100\n",
            "26/26 [==============================] - 0s 4ms/step - loss: 0.6157 - accuracy: 0.6692 - val_loss: 0.6543 - val_accuracy: 0.7037\n",
            "Epoch 61/100\n",
            "26/26 [==============================] - 0s 4ms/step - loss: 0.6161 - accuracy: 0.6692 - val_loss: 0.6546 - val_accuracy: 0.7037\n",
            "Epoch 62/100\n",
            "26/26 [==============================] - 0s 4ms/step - loss: 0.6157 - accuracy: 0.6769 - val_loss: 0.6477 - val_accuracy: 0.7037\n",
            "Epoch 63/100\n",
            "26/26 [==============================] - 0s 4ms/step - loss: 0.6160 - accuracy: 0.6615 - val_loss: 0.6540 - val_accuracy: 0.7037\n",
            "Epoch 64/100\n",
            "26/26 [==============================] - 0s 3ms/step - loss: 0.6155 - accuracy: 0.6615 - val_loss: 0.6467 - val_accuracy: 0.7037\n",
            "Epoch 65/100\n",
            "26/26 [==============================] - 0s 3ms/step - loss: 0.6127 - accuracy: 0.6615 - val_loss: 0.6545 - val_accuracy: 0.7037\n",
            "Epoch 66/100\n",
            "26/26 [==============================] - 0s 3ms/step - loss: 0.6139 - accuracy: 0.6538 - val_loss: 0.6436 - val_accuracy: 0.7037\n",
            "Epoch 67/100\n",
            "26/26 [==============================] - 0s 3ms/step - loss: 0.6113 - accuracy: 0.6538 - val_loss: 0.6474 - val_accuracy: 0.7037\n",
            "Epoch 68/100\n",
            "26/26 [==============================] - 0s 4ms/step - loss: 0.6128 - accuracy: 0.6615 - val_loss: 0.6473 - val_accuracy: 0.7037\n",
            "Epoch 69/100\n",
            "26/26 [==============================] - 0s 3ms/step - loss: 0.6119 - accuracy: 0.6538 - val_loss: 0.6426 - val_accuracy: 0.7037\n",
            "Epoch 70/100\n",
            "26/26 [==============================] - 0s 3ms/step - loss: 0.6088 - accuracy: 0.6538 - val_loss: 0.6489 - val_accuracy: 0.7037\n",
            "Epoch 71/100\n",
            "26/26 [==============================] - 0s 4ms/step - loss: 0.6110 - accuracy: 0.6615 - val_loss: 0.6525 - val_accuracy: 0.7037\n",
            "Epoch 72/100\n",
            "26/26 [==============================] - 0s 4ms/step - loss: 0.6131 - accuracy: 0.6538 - val_loss: 0.6387 - val_accuracy: 0.7037\n",
            "Epoch 73/100\n",
            "26/26 [==============================] - 0s 4ms/step - loss: 0.6110 - accuracy: 0.6538 - val_loss: 0.6438 - val_accuracy: 0.7037\n",
            "Epoch 74/100\n",
            "26/26 [==============================] - 0s 3ms/step - loss: 0.6097 - accuracy: 0.6615 - val_loss: 0.6380 - val_accuracy: 0.7037\n",
            "Epoch 75/100\n",
            "26/26 [==============================] - 0s 3ms/step - loss: 0.6073 - accuracy: 0.6615 - val_loss: 0.6398 - val_accuracy: 0.7037\n",
            "Epoch 76/100\n",
            "26/26 [==============================] - 0s 3ms/step - loss: 0.6085 - accuracy: 0.6538 - val_loss: 0.6413 - val_accuracy: 0.7037\n",
            "Epoch 77/100\n",
            "26/26 [==============================] - 0s 3ms/step - loss: 0.6080 - accuracy: 0.6692 - val_loss: 0.6338 - val_accuracy: 0.7037\n",
            "Epoch 78/100\n",
            "26/26 [==============================] - 0s 4ms/step - loss: 0.6126 - accuracy: 0.6538 - val_loss: 0.6448 - val_accuracy: 0.7037\n",
            "Epoch 79/100\n",
            "26/26 [==============================] - 0s 4ms/step - loss: 0.6032 - accuracy: 0.6538 - val_loss: 0.6337 - val_accuracy: 0.7037\n",
            "Epoch 80/100\n",
            "26/26 [==============================] - 0s 4ms/step - loss: 0.6030 - accuracy: 0.6692 - val_loss: 0.6323 - val_accuracy: 0.7037\n",
            "Epoch 81/100\n",
            "26/26 [==============================] - 0s 3ms/step - loss: 0.6019 - accuracy: 0.6615 - val_loss: 0.6386 - val_accuracy: 0.7037\n",
            "Epoch 82/100\n",
            "26/26 [==============================] - 0s 4ms/step - loss: 0.6039 - accuracy: 0.6615 - val_loss: 0.6418 - val_accuracy: 0.7037\n",
            "Epoch 83/100\n",
            "26/26 [==============================] - 0s 4ms/step - loss: 0.6000 - accuracy: 0.6769 - val_loss: 0.6320 - val_accuracy: 0.7037\n",
            "Epoch 84/100\n",
            "26/26 [==============================] - 0s 3ms/step - loss: 0.6071 - accuracy: 0.6692 - val_loss: 0.6403 - val_accuracy: 0.7037\n",
            "Epoch 85/100\n",
            "26/26 [==============================] - 0s 4ms/step - loss: 0.6000 - accuracy: 0.6615 - val_loss: 0.6265 - val_accuracy: 0.7037\n",
            "Epoch 86/100\n",
            "26/26 [==============================] - 0s 3ms/step - loss: 0.6025 - accuracy: 0.6692 - val_loss: 0.6287 - val_accuracy: 0.7037\n",
            "Epoch 87/100\n",
            "26/26 [==============================] - 0s 3ms/step - loss: 0.5977 - accuracy: 0.6769 - val_loss: 0.6343 - val_accuracy: 0.7037\n",
            "Epoch 88/100\n",
            "26/26 [==============================] - 0s 4ms/step - loss: 0.5985 - accuracy: 0.6692 - val_loss: 0.6327 - val_accuracy: 0.7037\n",
            "Epoch 89/100\n",
            "26/26 [==============================] - 0s 3ms/step - loss: 0.5975 - accuracy: 0.6769 - val_loss: 0.6290 - val_accuracy: 0.7037\n",
            "Epoch 90/100\n",
            "26/26 [==============================] - 0s 4ms/step - loss: 0.6024 - accuracy: 0.6615 - val_loss: 0.6372 - val_accuracy: 0.7037\n",
            "Epoch 91/100\n",
            "26/26 [==============================] - 0s 3ms/step - loss: 0.5955 - accuracy: 0.6692 - val_loss: 0.6227 - val_accuracy: 0.7037\n",
            "Epoch 92/100\n",
            "26/26 [==============================] - 0s 4ms/step - loss: 0.5959 - accuracy: 0.6692 - val_loss: 0.6320 - val_accuracy: 0.7037\n",
            "Epoch 93/100\n",
            "26/26 [==============================] - 0s 3ms/step - loss: 0.5943 - accuracy: 0.6769 - val_loss: 0.6284 - val_accuracy: 0.7037\n",
            "Epoch 94/100\n",
            "26/26 [==============================] - 0s 3ms/step - loss: 0.5967 - accuracy: 0.6692 - val_loss: 0.6316 - val_accuracy: 0.7037\n",
            "Epoch 95/100\n",
            "26/26 [==============================] - 0s 3ms/step - loss: 0.5919 - accuracy: 0.6692 - val_loss: 0.6280 - val_accuracy: 0.7037\n",
            "Epoch 96/100\n",
            "26/26 [==============================] - 0s 4ms/step - loss: 0.5940 - accuracy: 0.6692 - val_loss: 0.6315 - val_accuracy: 0.7037\n",
            "Epoch 97/100\n",
            "26/26 [==============================] - 0s 4ms/step - loss: 0.5932 - accuracy: 0.6692 - val_loss: 0.6243 - val_accuracy: 0.7037\n",
            "Epoch 98/100\n",
            "26/26 [==============================] - 0s 4ms/step - loss: 0.5943 - accuracy: 0.6692 - val_loss: 0.6255 - val_accuracy: 0.7037\n",
            "Epoch 99/100\n",
            "26/26 [==============================] - 0s 3ms/step - loss: 0.5902 - accuracy: 0.6692 - val_loss: 0.6255 - val_accuracy: 0.7037\n",
            "Epoch 100/100\n",
            "26/26 [==============================] - 0s 4ms/step - loss: 0.5914 - accuracy: 0.6692 - val_loss: 0.6298 - val_accuracy: 0.7037\n"
          ]
        }
      ]
    },
    {
      "cell_type": "code",
      "source": [
        "model16.evaluate(X_test_scaled, y_test)"
      ],
      "metadata": {
        "id": "D2ndsxfdatDD",
        "outputId": "19101a29-9458-48e4-bf36-53f73f01d190",
        "colab": {
          "base_uri": "https://localhost:8080/"
        }
      },
      "execution_count": 151,
      "outputs": [
        {
          "output_type": "stream",
          "name": "stdout",
          "text": [
            "1/1 [==============================] - 0s 23ms/step - loss: 0.5712 - accuracy: 0.7391\n"
          ]
        },
        {
          "output_type": "execute_result",
          "data": {
            "text/plain": [
              "[0.5712490081787109, 0.739130437374115]"
            ]
          },
          "metadata": {},
          "execution_count": 151
        }
      ]
    },
    {
      "cell_type": "code",
      "source": [
        "model16 = tf.keras.models.load_model(f\"/content/model_experiments/{model16.name}\")\n",
        "model16.evaluate(X_test_scaled, y_test)"
      ],
      "metadata": {
        "id": "4Sg7wFpWJVC0",
        "outputId": "d1fd580d-4cb1-4f57-9e22-ad2628cb17fa",
        "colab": {
          "base_uri": "https://localhost:8080/"
        }
      },
      "execution_count": 152,
      "outputs": [
        {
          "output_type": "stream",
          "name": "stdout",
          "text": [
            "1/1 [==============================] - 0s 141ms/step - loss: 0.6298 - accuracy: 0.7391\n"
          ]
        },
        {
          "output_type": "execute_result",
          "data": {
            "text/plain": [
              "[0.6297730803489685, 0.739130437374115]"
            ]
          },
          "metadata": {},
          "execution_count": 152
        }
      ]
    },
    {
      "cell_type": "code",
      "source": [],
      "metadata": {
        "id": "zB-pR3_DJXEk"
      },
      "execution_count": 152,
      "outputs": []
    },
    {
      "cell_type": "code",
      "source": [
        "tf.random.set_seed(42)\n",
        "\n",
        "model17 = tf.keras.Sequential([\n",
        "    tf.keras.layers.Dense(5, activation='relu'),\n",
        "    tf.keras.layers.Dense(40, activation='relu'),\n",
        "    tf.keras.layers.Dense(40, activation='relu'),\n",
        "\n",
        "    tf.keras.layers.Dense(1, activation='sigmoid')\n",
        "])\n",
        "\n",
        "model17.compile(\n",
        "    loss=tf.keras.losses.binary_crossentropy,\n",
        "    optimizer=tf.keras.optimizers.Adam(0.0003),\n",
        "    metrics=[\"accuracy\"]\n",
        ")\n",
        "\n",
        "\n",
        "history17 = model17.fit(X_train_scaled, \n",
        "                    y_train, \n",
        "                    epochs=100,\n",
        "                    batch_size=5,\n",
        "                    validation_data = (X_valid_scaled, y_valid),\n",
        "                    callbacks=[create_model_checkpoint(model_name=model17.name)])"
      ],
      "metadata": {
        "id": "6_nOu_7jatHU",
        "outputId": "4452e3b3-c8c0-4c2e-a6eb-f2643ee4c59c",
        "colab": {
          "base_uri": "https://localhost:8080/"
        }
      },
      "execution_count": 153,
      "outputs": [
        {
          "output_type": "stream",
          "name": "stdout",
          "text": [
            "Epoch 1/100\n",
            "26/26 [==============================] - 2s 57ms/step - loss: 0.6921 - accuracy: 0.5000 - val_loss: 0.6919 - val_accuracy: 0.5185\n",
            "Epoch 2/100\n",
            "26/26 [==============================] - 0s 3ms/step - loss: 0.6799 - accuracy: 0.6154 - val_loss: 0.6882 - val_accuracy: 0.5185\n",
            "Epoch 3/100\n",
            "26/26 [==============================] - 0s 3ms/step - loss: 0.6719 - accuracy: 0.6154 - val_loss: 0.6855 - val_accuracy: 0.5185\n",
            "Epoch 4/100\n",
            "26/26 [==============================] - 0s 3ms/step - loss: 0.6641 - accuracy: 0.6154 - val_loss: 0.6850 - val_accuracy: 0.5185\n",
            "Epoch 5/100\n",
            "26/26 [==============================] - 0s 3ms/step - loss: 0.6588 - accuracy: 0.6154 - val_loss: 0.6846 - val_accuracy: 0.5185\n",
            "Epoch 6/100\n",
            "26/26 [==============================] - 0s 4ms/step - loss: 0.6550 - accuracy: 0.6154 - val_loss: 0.6852 - val_accuracy: 0.5185\n",
            "Epoch 7/100\n",
            "26/26 [==============================] - 0s 3ms/step - loss: 0.6536 - accuracy: 0.6154 - val_loss: 0.6870 - val_accuracy: 0.5185\n",
            "Epoch 8/100\n",
            "26/26 [==============================] - 0s 4ms/step - loss: 0.6500 - accuracy: 0.6154 - val_loss: 0.6875 - val_accuracy: 0.5185\n",
            "Epoch 9/100\n",
            "26/26 [==============================] - 0s 3ms/step - loss: 0.6490 - accuracy: 0.6154 - val_loss: 0.6877 - val_accuracy: 0.5185\n",
            "Epoch 10/100\n",
            "26/26 [==============================] - 0s 3ms/step - loss: 0.6478 - accuracy: 0.6154 - val_loss: 0.6888 - val_accuracy: 0.5185\n",
            "Epoch 11/100\n",
            "26/26 [==============================] - 0s 4ms/step - loss: 0.6470 - accuracy: 0.6154 - val_loss: 0.6890 - val_accuracy: 0.5185\n",
            "Epoch 12/100\n",
            "26/26 [==============================] - 0s 4ms/step - loss: 0.6461 - accuracy: 0.6154 - val_loss: 0.6890 - val_accuracy: 0.5185\n",
            "Epoch 13/100\n",
            "26/26 [==============================] - 0s 3ms/step - loss: 0.6456 - accuracy: 0.6154 - val_loss: 0.6903 - val_accuracy: 0.5185\n",
            "Epoch 14/100\n",
            "26/26 [==============================] - 0s 4ms/step - loss: 0.6447 - accuracy: 0.6154 - val_loss: 0.6907 - val_accuracy: 0.5185\n",
            "Epoch 15/100\n",
            "26/26 [==============================] - 0s 3ms/step - loss: 0.6445 - accuracy: 0.6154 - val_loss: 0.6907 - val_accuracy: 0.5185\n",
            "Epoch 16/100\n",
            "26/26 [==============================] - 0s 3ms/step - loss: 0.6436 - accuracy: 0.6154 - val_loss: 0.6892 - val_accuracy: 0.5185\n",
            "Epoch 17/100\n",
            "26/26 [==============================] - 0s 4ms/step - loss: 0.6438 - accuracy: 0.6154 - val_loss: 0.6883 - val_accuracy: 0.5185\n",
            "Epoch 18/100\n",
            "26/26 [==============================] - 0s 3ms/step - loss: 0.6427 - accuracy: 0.6154 - val_loss: 0.6903 - val_accuracy: 0.5185\n",
            "Epoch 19/100\n",
            "26/26 [==============================] - 0s 4ms/step - loss: 0.6423 - accuracy: 0.6154 - val_loss: 0.6877 - val_accuracy: 0.5185\n",
            "Epoch 20/100\n",
            "26/26 [==============================] - 0s 3ms/step - loss: 0.6414 - accuracy: 0.6154 - val_loss: 0.6890 - val_accuracy: 0.5185\n",
            "Epoch 21/100\n",
            "26/26 [==============================] - 0s 3ms/step - loss: 0.6410 - accuracy: 0.6154 - val_loss: 0.6885 - val_accuracy: 0.5185\n",
            "Epoch 22/100\n",
            "26/26 [==============================] - 0s 3ms/step - loss: 0.6407 - accuracy: 0.6154 - val_loss: 0.6878 - val_accuracy: 0.5185\n",
            "Epoch 23/100\n",
            "26/26 [==============================] - 0s 3ms/step - loss: 0.6405 - accuracy: 0.6154 - val_loss: 0.6850 - val_accuracy: 0.5185\n",
            "Epoch 24/100\n",
            "26/26 [==============================] - 0s 3ms/step - loss: 0.6400 - accuracy: 0.6154 - val_loss: 0.6872 - val_accuracy: 0.5185\n",
            "Epoch 25/100\n",
            "26/26 [==============================] - 0s 3ms/step - loss: 0.6392 - accuracy: 0.6154 - val_loss: 0.6847 - val_accuracy: 0.5185\n",
            "Epoch 26/100\n",
            "26/26 [==============================] - 0s 4ms/step - loss: 0.6384 - accuracy: 0.6154 - val_loss: 0.6852 - val_accuracy: 0.5185\n",
            "Epoch 27/100\n",
            "26/26 [==============================] - 0s 3ms/step - loss: 0.6379 - accuracy: 0.6154 - val_loss: 0.6845 - val_accuracy: 0.5185\n",
            "Epoch 28/100\n",
            "26/26 [==============================] - 0s 3ms/step - loss: 0.6376 - accuracy: 0.6154 - val_loss: 0.6838 - val_accuracy: 0.5185\n",
            "Epoch 29/100\n",
            "26/26 [==============================] - 0s 3ms/step - loss: 0.6370 - accuracy: 0.6154 - val_loss: 0.6826 - val_accuracy: 0.5185\n",
            "Epoch 30/100\n",
            "26/26 [==============================] - 0s 4ms/step - loss: 0.6365 - accuracy: 0.6154 - val_loss: 0.6832 - val_accuracy: 0.5185\n",
            "Epoch 31/100\n",
            "26/26 [==============================] - 0s 4ms/step - loss: 0.6369 - accuracy: 0.6154 - val_loss: 0.6812 - val_accuracy: 0.5185\n",
            "Epoch 32/100\n",
            "26/26 [==============================] - 0s 4ms/step - loss: 0.6353 - accuracy: 0.6154 - val_loss: 0.6812 - val_accuracy: 0.5185\n",
            "Epoch 33/100\n",
            "26/26 [==============================] - 0s 4ms/step - loss: 0.6354 - accuracy: 0.6154 - val_loss: 0.6797 - val_accuracy: 0.5185\n",
            "Epoch 34/100\n",
            "26/26 [==============================] - 0s 4ms/step - loss: 0.6343 - accuracy: 0.6154 - val_loss: 0.6793 - val_accuracy: 0.5185\n",
            "Epoch 35/100\n",
            "26/26 [==============================] - 0s 3ms/step - loss: 0.6338 - accuracy: 0.6154 - val_loss: 0.6788 - val_accuracy: 0.5185\n",
            "Epoch 36/100\n",
            "26/26 [==============================] - 0s 3ms/step - loss: 0.6339 - accuracy: 0.6154 - val_loss: 0.6780 - val_accuracy: 0.5185\n",
            "Epoch 37/100\n",
            "26/26 [==============================] - 0s 3ms/step - loss: 0.6333 - accuracy: 0.6154 - val_loss: 0.6792 - val_accuracy: 0.5185\n",
            "Epoch 38/100\n",
            "26/26 [==============================] - 0s 4ms/step - loss: 0.6324 - accuracy: 0.6154 - val_loss: 0.6769 - val_accuracy: 0.5185\n",
            "Epoch 39/100\n",
            "26/26 [==============================] - 0s 3ms/step - loss: 0.6320 - accuracy: 0.6154 - val_loss: 0.6766 - val_accuracy: 0.5185\n",
            "Epoch 40/100\n",
            "26/26 [==============================] - 0s 3ms/step - loss: 0.6314 - accuracy: 0.6077 - val_loss: 0.6778 - val_accuracy: 0.5185\n",
            "Epoch 41/100\n",
            "26/26 [==============================] - 1s 30ms/step - loss: 0.6309 - accuracy: 0.6077 - val_loss: 0.6756 - val_accuracy: 0.5926\n",
            "Epoch 42/100\n",
            "26/26 [==============================] - 0s 3ms/step - loss: 0.6304 - accuracy: 0.6000 - val_loss: 0.6750 - val_accuracy: 0.5926\n",
            "Epoch 43/100\n",
            "26/26 [==============================] - 0s 3ms/step - loss: 0.6320 - accuracy: 0.6154 - val_loss: 0.6740 - val_accuracy: 0.5926\n",
            "Epoch 44/100\n",
            "26/26 [==============================] - 0s 3ms/step - loss: 0.6296 - accuracy: 0.6154 - val_loss: 0.6744 - val_accuracy: 0.5926\n",
            "Epoch 45/100\n",
            "26/26 [==============================] - 0s 3ms/step - loss: 0.6289 - accuracy: 0.6538 - val_loss: 0.6742 - val_accuracy: 0.5926\n",
            "Epoch 46/100\n",
            "26/26 [==============================] - 0s 4ms/step - loss: 0.6285 - accuracy: 0.6538 - val_loss: 0.6730 - val_accuracy: 0.5926\n",
            "Epoch 47/100\n",
            "26/26 [==============================] - 0s 3ms/step - loss: 0.6280 - accuracy: 0.6538 - val_loss: 0.6725 - val_accuracy: 0.5926\n",
            "Epoch 48/100\n",
            "26/26 [==============================] - 0s 3ms/step - loss: 0.6280 - accuracy: 0.6538 - val_loss: 0.6721 - val_accuracy: 0.5926\n",
            "Epoch 49/100\n",
            "26/26 [==============================] - 0s 3ms/step - loss: 0.6272 - accuracy: 0.6615 - val_loss: 0.6722 - val_accuracy: 0.5926\n",
            "Epoch 50/100\n",
            "26/26 [==============================] - 0s 3ms/step - loss: 0.6270 - accuracy: 0.6615 - val_loss: 0.6715 - val_accuracy: 0.5926\n",
            "Epoch 51/100\n",
            "26/26 [==============================] - 1s 32ms/step - loss: 0.6267 - accuracy: 0.6615 - val_loss: 0.6701 - val_accuracy: 0.6296\n",
            "Epoch 52/100\n",
            "26/26 [==============================] - 0s 3ms/step - loss: 0.6267 - accuracy: 0.6769 - val_loss: 0.6687 - val_accuracy: 0.6296\n",
            "Epoch 53/100\n",
            "26/26 [==============================] - 0s 3ms/step - loss: 0.6261 - accuracy: 0.6769 - val_loss: 0.6712 - val_accuracy: 0.6296\n",
            "Epoch 54/100\n",
            "26/26 [==============================] - 0s 3ms/step - loss: 0.6270 - accuracy: 0.6615 - val_loss: 0.6727 - val_accuracy: 0.6296\n",
            "Epoch 55/100\n",
            "26/26 [==============================] - 0s 4ms/step - loss: 0.6262 - accuracy: 0.6615 - val_loss: 0.6668 - val_accuracy: 0.6296\n",
            "Epoch 56/100\n",
            "26/26 [==============================] - 0s 3ms/step - loss: 0.6250 - accuracy: 0.6692 - val_loss: 0.6668 - val_accuracy: 0.6296\n",
            "Epoch 57/100\n",
            "26/26 [==============================] - 0s 3ms/step - loss: 0.6249 - accuracy: 0.6615 - val_loss: 0.6674 - val_accuracy: 0.6296\n",
            "Epoch 58/100\n",
            "26/26 [==============================] - 0s 3ms/step - loss: 0.6249 - accuracy: 0.6692 - val_loss: 0.6685 - val_accuracy: 0.6296\n",
            "Epoch 59/100\n",
            "26/26 [==============================] - 0s 3ms/step - loss: 0.6238 - accuracy: 0.6769 - val_loss: 0.6668 - val_accuracy: 0.6296\n",
            "Epoch 60/100\n",
            "26/26 [==============================] - 0s 3ms/step - loss: 0.6236 - accuracy: 0.6692 - val_loss: 0.6678 - val_accuracy: 0.6296\n",
            "Epoch 61/100\n",
            "26/26 [==============================] - 0s 3ms/step - loss: 0.6234 - accuracy: 0.6692 - val_loss: 0.6678 - val_accuracy: 0.6296\n",
            "Epoch 62/100\n",
            "26/26 [==============================] - 0s 3ms/step - loss: 0.6233 - accuracy: 0.6615 - val_loss: 0.6658 - val_accuracy: 0.6296\n",
            "Epoch 63/100\n",
            "26/26 [==============================] - 0s 4ms/step - loss: 0.6234 - accuracy: 0.6615 - val_loss: 0.6676 - val_accuracy: 0.6296\n",
            "Epoch 64/100\n",
            "26/26 [==============================] - 0s 16ms/step - loss: 0.6230 - accuracy: 0.6538 - val_loss: 0.6647 - val_accuracy: 0.6296\n",
            "Epoch 65/100\n",
            "26/26 [==============================] - 0s 7ms/step - loss: 0.6223 - accuracy: 0.6538 - val_loss: 0.6666 - val_accuracy: 0.6296\n",
            "Epoch 66/100\n",
            "26/26 [==============================] - 0s 3ms/step - loss: 0.6225 - accuracy: 0.6538 - val_loss: 0.6639 - val_accuracy: 0.6296\n",
            "Epoch 67/100\n",
            "26/26 [==============================] - 0s 3ms/step - loss: 0.6217 - accuracy: 0.6538 - val_loss: 0.6645 - val_accuracy: 0.6296\n",
            "Epoch 68/100\n",
            "26/26 [==============================] - 0s 3ms/step - loss: 0.6221 - accuracy: 0.6538 - val_loss: 0.6644 - val_accuracy: 0.6296\n",
            "Epoch 69/100\n",
            "26/26 [==============================] - 0s 3ms/step - loss: 0.6216 - accuracy: 0.6538 - val_loss: 0.6631 - val_accuracy: 0.6296\n",
            "Epoch 70/100\n",
            "26/26 [==============================] - 0s 3ms/step - loss: 0.6210 - accuracy: 0.6538 - val_loss: 0.6640 - val_accuracy: 0.6296\n",
            "Epoch 71/100\n",
            "26/26 [==============================] - 0s 14ms/step - loss: 0.6214 - accuracy: 0.6538 - val_loss: 0.6657 - val_accuracy: 0.6296\n",
            "Epoch 72/100\n",
            "26/26 [==============================] - 0s 6ms/step - loss: 0.6216 - accuracy: 0.6538 - val_loss: 0.6615 - val_accuracy: 0.6296\n",
            "Epoch 73/100\n",
            "26/26 [==============================] - 0s 5ms/step - loss: 0.6213 - accuracy: 0.6538 - val_loss: 0.6635 - val_accuracy: 0.6296\n",
            "Epoch 74/100\n",
            "26/26 [==============================] - 0s 3ms/step - loss: 0.6205 - accuracy: 0.6615 - val_loss: 0.6610 - val_accuracy: 0.6296\n",
            "Epoch 75/100\n",
            "26/26 [==============================] - 0s 3ms/step - loss: 0.6200 - accuracy: 0.6615 - val_loss: 0.6613 - val_accuracy: 0.6296\n",
            "Epoch 76/100\n",
            "26/26 [==============================] - 0s 3ms/step - loss: 0.6204 - accuracy: 0.6615 - val_loss: 0.6620 - val_accuracy: 0.6296\n",
            "Epoch 77/100\n",
            "26/26 [==============================] - 0s 3ms/step - loss: 0.6203 - accuracy: 0.6692 - val_loss: 0.6590 - val_accuracy: 0.6296\n",
            "Epoch 78/100\n",
            "26/26 [==============================] - 0s 3ms/step - loss: 0.6209 - accuracy: 0.6615 - val_loss: 0.6628 - val_accuracy: 0.6296\n",
            "Epoch 79/100\n",
            "26/26 [==============================] - 0s 15ms/step - loss: 0.6192 - accuracy: 0.6538 - val_loss: 0.6604 - val_accuracy: 0.6296\n",
            "Epoch 80/100\n",
            "26/26 [==============================] - 0s 8ms/step - loss: 0.6186 - accuracy: 0.6615 - val_loss: 0.6587 - val_accuracy: 0.6296\n",
            "Epoch 81/100\n",
            "26/26 [==============================] - 0s 3ms/step - loss: 0.6183 - accuracy: 0.6615 - val_loss: 0.6596 - val_accuracy: 0.6296\n",
            "Epoch 82/100\n",
            "26/26 [==============================] - 0s 3ms/step - loss: 0.6187 - accuracy: 0.6615 - val_loss: 0.6606 - val_accuracy: 0.6296\n",
            "Epoch 83/100\n",
            "26/26 [==============================] - 0s 3ms/step - loss: 0.6176 - accuracy: 0.6615 - val_loss: 0.6587 - val_accuracy: 0.6296\n",
            "Epoch 84/100\n",
            "26/26 [==============================] - 0s 3ms/step - loss: 0.6192 - accuracy: 0.6615 - val_loss: 0.6604 - val_accuracy: 0.6296\n",
            "Epoch 85/100\n",
            "26/26 [==============================] - 1s 32ms/step - loss: 0.6172 - accuracy: 0.6769 - val_loss: 0.6562 - val_accuracy: 0.7037\n",
            "Epoch 86/100\n",
            "26/26 [==============================] - 0s 4ms/step - loss: 0.6188 - accuracy: 0.6769 - val_loss: 0.6546 - val_accuracy: 0.7037\n",
            "Epoch 87/100\n",
            "26/26 [==============================] - 0s 4ms/step - loss: 0.6169 - accuracy: 0.6769 - val_loss: 0.6561 - val_accuracy: 0.7037\n",
            "Epoch 88/100\n",
            "26/26 [==============================] - 0s 4ms/step - loss: 0.6168 - accuracy: 0.6692 - val_loss: 0.6561 - val_accuracy: 0.7037\n",
            "Epoch 89/100\n",
            "26/26 [==============================] - 0s 3ms/step - loss: 0.6165 - accuracy: 0.6692 - val_loss: 0.6563 - val_accuracy: 0.7037\n",
            "Epoch 90/100\n",
            "26/26 [==============================] - 0s 3ms/step - loss: 0.6186 - accuracy: 0.6615 - val_loss: 0.6598 - val_accuracy: 0.6296\n",
            "Epoch 91/100\n",
            "26/26 [==============================] - 0s 4ms/step - loss: 0.6159 - accuracy: 0.6769 - val_loss: 0.6546 - val_accuracy: 0.7037\n",
            "Epoch 92/100\n",
            "26/26 [==============================] - 0s 3ms/step - loss: 0.6158 - accuracy: 0.6769 - val_loss: 0.6555 - val_accuracy: 0.7037\n",
            "Epoch 93/100\n",
            "26/26 [==============================] - 0s 3ms/step - loss: 0.6158 - accuracy: 0.6692 - val_loss: 0.6550 - val_accuracy: 0.7037\n",
            "Epoch 94/100\n",
            "26/26 [==============================] - 0s 3ms/step - loss: 0.6156 - accuracy: 0.6769 - val_loss: 0.6546 - val_accuracy: 0.7037\n",
            "Epoch 95/100\n",
            "26/26 [==============================] - 0s 3ms/step - loss: 0.6150 - accuracy: 0.6769 - val_loss: 0.6540 - val_accuracy: 0.7037\n",
            "Epoch 96/100\n",
            "26/26 [==============================] - 0s 3ms/step - loss: 0.6154 - accuracy: 0.6769 - val_loss: 0.6548 - val_accuracy: 0.7037\n",
            "Epoch 97/100\n",
            "26/26 [==============================] - 0s 3ms/step - loss: 0.6151 - accuracy: 0.6769 - val_loss: 0.6532 - val_accuracy: 0.7037\n",
            "Epoch 98/100\n",
            "26/26 [==============================] - 0s 3ms/step - loss: 0.6150 - accuracy: 0.6769 - val_loss: 0.6532 - val_accuracy: 0.7037\n",
            "Epoch 99/100\n",
            "26/26 [==============================] - 0s 3ms/step - loss: 0.6142 - accuracy: 0.6769 - val_loss: 0.6518 - val_accuracy: 0.7037\n",
            "Epoch 100/100\n",
            "26/26 [==============================] - 0s 3ms/step - loss: 0.6141 - accuracy: 0.6692 - val_loss: 0.6520 - val_accuracy: 0.7037\n"
          ]
        }
      ]
    },
    {
      "cell_type": "code",
      "source": [
        "model17.evaluate(X_test_scaled, y_test)"
      ],
      "metadata": {
        "id": "0vZZ7o6sayjB",
        "outputId": "895ffe15-b653-433e-abc8-f13ec8772261",
        "colab": {
          "base_uri": "https://localhost:8080/"
        }
      },
      "execution_count": 154,
      "outputs": [
        {
          "output_type": "stream",
          "name": "stdout",
          "text": [
            "1/1 [==============================] - 0s 22ms/step - loss: 0.6122 - accuracy: 0.6957\n"
          ]
        },
        {
          "output_type": "execute_result",
          "data": {
            "text/plain": [
              "[0.6122463345527649, 0.695652186870575]"
            ]
          },
          "metadata": {},
          "execution_count": 154
        }
      ]
    },
    {
      "cell_type": "code",
      "source": [
        "model17 = tf.keras.models.load_model(f\"/content/model_experiments/{model17.name}\")\n",
        "model17.evaluate(X_test_scaled, y_test)"
      ],
      "metadata": {
        "id": "I6cyip8JJbW-",
        "outputId": "98651070-8b46-4af1-efb0-ce7602e8269f",
        "colab": {
          "base_uri": "https://localhost:8080/"
        }
      },
      "execution_count": 155,
      "outputs": [
        {
          "output_type": "stream",
          "name": "stdout",
          "text": [
            "1/1 [==============================] - 0s 127ms/step - loss: 0.6218 - accuracy: 0.6957\n"
          ]
        },
        {
          "output_type": "execute_result",
          "data": {
            "text/plain": [
              "[0.6218386888504028, 0.695652186870575]"
            ]
          },
          "metadata": {},
          "execution_count": 155
        }
      ]
    },
    {
      "cell_type": "code",
      "source": [],
      "metadata": {
        "id": "MT1OoowIaylx"
      },
      "execution_count": 155,
      "outputs": []
    },
    {
      "cell_type": "code",
      "source": [
        "tf.random.set_seed(42)\n",
        "\n",
        "model18 = tf.keras.Sequential([\n",
        "    tf.keras.layers.Dense(5, activation='relu'),\n",
        "    tf.keras.layers.Dense(20, activation='relu'),\n",
        "    tf.keras.layers.Dense(20, activation='relu'),\n",
        "\n",
        "    tf.keras.layers.Dense(1, activation='sigmoid')\n",
        "])\n",
        "\n",
        "model18.compile(\n",
        "    loss=tf.keras.losses.binary_crossentropy,\n",
        "    optimizer=tf.keras.optimizers.Adam(0.0003),\n",
        "    metrics=[\"accuracy\"]\n",
        ")\n",
        "\n",
        "\n",
        "history18 = model18.fit(X_train_scaled, \n",
        "                    y_train, \n",
        "                    epochs=100,\n",
        "                    batch_size=5,\n",
        "                    validation_data = (X_valid_scaled, y_valid),\n",
        "                    callbacks=[create_model_checkpoint(model_name=model18.name)])"
      ],
      "metadata": {
        "id": "w6omLrG8ayx2",
        "outputId": "48a5dddb-0aa7-4cc3-b190-73a3969f1fb9",
        "colab": {
          "base_uri": "https://localhost:8080/"
        }
      },
      "execution_count": 156,
      "outputs": [
        {
          "output_type": "stream",
          "name": "stdout",
          "text": [
            "Epoch 1/100\n",
            "26/26 [==============================] - 1s 37ms/step - loss: 0.6923 - accuracy: 0.5154 - val_loss: 0.6913 - val_accuracy: 0.5185\n",
            "Epoch 2/100\n",
            "26/26 [==============================] - 0s 3ms/step - loss: 0.6864 - accuracy: 0.6154 - val_loss: 0.6892 - val_accuracy: 0.5185\n",
            "Epoch 3/100\n",
            "26/26 [==============================] - 0s 3ms/step - loss: 0.6819 - accuracy: 0.6154 - val_loss: 0.6872 - val_accuracy: 0.5185\n",
            "Epoch 4/100\n",
            "26/26 [==============================] - 0s 3ms/step - loss: 0.6772 - accuracy: 0.6154 - val_loss: 0.6861 - val_accuracy: 0.5185\n",
            "Epoch 5/100\n",
            "26/26 [==============================] - 0s 3ms/step - loss: 0.6730 - accuracy: 0.6154 - val_loss: 0.6849 - val_accuracy: 0.5185\n",
            "Epoch 6/100\n",
            "26/26 [==============================] - 0s 3ms/step - loss: 0.6694 - accuracy: 0.6154 - val_loss: 0.6840 - val_accuracy: 0.5185\n",
            "Epoch 7/100\n",
            "26/26 [==============================] - 0s 4ms/step - loss: 0.6667 - accuracy: 0.6154 - val_loss: 0.6832 - val_accuracy: 0.5185\n",
            "Epoch 8/100\n",
            "26/26 [==============================] - 0s 4ms/step - loss: 0.6627 - accuracy: 0.6154 - val_loss: 0.6829 - val_accuracy: 0.5185\n",
            "Epoch 9/100\n",
            "26/26 [==============================] - 0s 3ms/step - loss: 0.6602 - accuracy: 0.6154 - val_loss: 0.6824 - val_accuracy: 0.5185\n",
            "Epoch 10/100\n",
            "26/26 [==============================] - 0s 3ms/step - loss: 0.6580 - accuracy: 0.6154 - val_loss: 0.6823 - val_accuracy: 0.5185\n",
            "Epoch 11/100\n",
            "26/26 [==============================] - 0s 3ms/step - loss: 0.6559 - accuracy: 0.6154 - val_loss: 0.6824 - val_accuracy: 0.5185\n",
            "Epoch 12/100\n",
            "26/26 [==============================] - 0s 3ms/step - loss: 0.6542 - accuracy: 0.6154 - val_loss: 0.6826 - val_accuracy: 0.5185\n",
            "Epoch 13/100\n",
            "26/26 [==============================] - 0s 3ms/step - loss: 0.6531 - accuracy: 0.6154 - val_loss: 0.6830 - val_accuracy: 0.5185\n",
            "Epoch 14/100\n",
            "26/26 [==============================] - 0s 3ms/step - loss: 0.6516 - accuracy: 0.6154 - val_loss: 0.6837 - val_accuracy: 0.5185\n",
            "Epoch 15/100\n",
            "26/26 [==============================] - 0s 3ms/step - loss: 0.6508 - accuracy: 0.6154 - val_loss: 0.6842 - val_accuracy: 0.5185\n",
            "Epoch 16/100\n",
            "26/26 [==============================] - 0s 3ms/step - loss: 0.6496 - accuracy: 0.6154 - val_loss: 0.6841 - val_accuracy: 0.5185\n",
            "Epoch 17/100\n",
            "26/26 [==============================] - 0s 3ms/step - loss: 0.6492 - accuracy: 0.6154 - val_loss: 0.6839 - val_accuracy: 0.5185\n",
            "Epoch 18/100\n",
            "26/26 [==============================] - 0s 3ms/step - loss: 0.6483 - accuracy: 0.6154 - val_loss: 0.6852 - val_accuracy: 0.5185\n",
            "Epoch 19/100\n",
            "26/26 [==============================] - 0s 3ms/step - loss: 0.6475 - accuracy: 0.6154 - val_loss: 0.6845 - val_accuracy: 0.5185\n",
            "Epoch 20/100\n",
            "26/26 [==============================] - 0s 4ms/step - loss: 0.6468 - accuracy: 0.6154 - val_loss: 0.6854 - val_accuracy: 0.5185\n",
            "Epoch 21/100\n",
            "26/26 [==============================] - 0s 4ms/step - loss: 0.6463 - accuracy: 0.6154 - val_loss: 0.6855 - val_accuracy: 0.5185\n",
            "Epoch 22/100\n",
            "26/26 [==============================] - 0s 3ms/step - loss: 0.6459 - accuracy: 0.6154 - val_loss: 0.6857 - val_accuracy: 0.5185\n",
            "Epoch 23/100\n",
            "26/26 [==============================] - 0s 3ms/step - loss: 0.6454 - accuracy: 0.6154 - val_loss: 0.6846 - val_accuracy: 0.5185\n",
            "Epoch 24/100\n",
            "26/26 [==============================] - 0s 3ms/step - loss: 0.6451 - accuracy: 0.6154 - val_loss: 0.6860 - val_accuracy: 0.5185\n",
            "Epoch 25/100\n",
            "26/26 [==============================] - 0s 4ms/step - loss: 0.6444 - accuracy: 0.6154 - val_loss: 0.6850 - val_accuracy: 0.5185\n",
            "Epoch 26/100\n",
            "26/26 [==============================] - 0s 3ms/step - loss: 0.6438 - accuracy: 0.6154 - val_loss: 0.6855 - val_accuracy: 0.5185\n",
            "Epoch 27/100\n",
            "26/26 [==============================] - 0s 3ms/step - loss: 0.6434 - accuracy: 0.6154 - val_loss: 0.6854 - val_accuracy: 0.5185\n",
            "Epoch 28/100\n",
            "26/26 [==============================] - 0s 3ms/step - loss: 0.6431 - accuracy: 0.6154 - val_loss: 0.6849 - val_accuracy: 0.5185\n",
            "Epoch 29/100\n",
            "26/26 [==============================] - 0s 3ms/step - loss: 0.6426 - accuracy: 0.6154 - val_loss: 0.6845 - val_accuracy: 0.5185\n",
            "Epoch 30/100\n",
            "26/26 [==============================] - 0s 3ms/step - loss: 0.6423 - accuracy: 0.6154 - val_loss: 0.6850 - val_accuracy: 0.5185\n",
            "Epoch 31/100\n",
            "26/26 [==============================] - 0s 4ms/step - loss: 0.6423 - accuracy: 0.6154 - val_loss: 0.6839 - val_accuracy: 0.5185\n",
            "Epoch 32/100\n",
            "26/26 [==============================] - 0s 3ms/step - loss: 0.6413 - accuracy: 0.6154 - val_loss: 0.6839 - val_accuracy: 0.5185\n",
            "Epoch 33/100\n",
            "26/26 [==============================] - 0s 4ms/step - loss: 0.6411 - accuracy: 0.6154 - val_loss: 0.6827 - val_accuracy: 0.5185\n",
            "Epoch 34/100\n",
            "26/26 [==============================] - 0s 3ms/step - loss: 0.6404 - accuracy: 0.6154 - val_loss: 0.6822 - val_accuracy: 0.5185\n",
            "Epoch 35/100\n",
            "26/26 [==============================] - 0s 3ms/step - loss: 0.6398 - accuracy: 0.6154 - val_loss: 0.6814 - val_accuracy: 0.5185\n",
            "Epoch 36/100\n",
            "26/26 [==============================] - 0s 3ms/step - loss: 0.6396 - accuracy: 0.6154 - val_loss: 0.6806 - val_accuracy: 0.5185\n",
            "Epoch 37/100\n",
            "26/26 [==============================] - 0s 3ms/step - loss: 0.6390 - accuracy: 0.6154 - val_loss: 0.6807 - val_accuracy: 0.5185\n",
            "Epoch 38/100\n",
            "26/26 [==============================] - 0s 3ms/step - loss: 0.6384 - accuracy: 0.6154 - val_loss: 0.6792 - val_accuracy: 0.5185\n",
            "Epoch 39/100\n",
            "26/26 [==============================] - 0s 3ms/step - loss: 0.6379 - accuracy: 0.6154 - val_loss: 0.6786 - val_accuracy: 0.5185\n",
            "Epoch 40/100\n",
            "26/26 [==============================] - 0s 3ms/step - loss: 0.6374 - accuracy: 0.6154 - val_loss: 0.6789 - val_accuracy: 0.5185\n",
            "Epoch 41/100\n",
            "26/26 [==============================] - 0s 3ms/step - loss: 0.6369 - accuracy: 0.6154 - val_loss: 0.6775 - val_accuracy: 0.5185\n",
            "Epoch 42/100\n",
            "26/26 [==============================] - 0s 3ms/step - loss: 0.6365 - accuracy: 0.6154 - val_loss: 0.6768 - val_accuracy: 0.5185\n",
            "Epoch 43/100\n",
            "26/26 [==============================] - 0s 3ms/step - loss: 0.6373 - accuracy: 0.6154 - val_loss: 0.6758 - val_accuracy: 0.5185\n",
            "Epoch 44/100\n",
            "26/26 [==============================] - 0s 3ms/step - loss: 0.6357 - accuracy: 0.6154 - val_loss: 0.6755 - val_accuracy: 0.5185\n",
            "Epoch 45/100\n",
            "26/26 [==============================] - 0s 3ms/step - loss: 0.6352 - accuracy: 0.6154 - val_loss: 0.6750 - val_accuracy: 0.5185\n",
            "Epoch 46/100\n",
            "26/26 [==============================] - 0s 3ms/step - loss: 0.6348 - accuracy: 0.6154 - val_loss: 0.6739 - val_accuracy: 0.5185\n",
            "Epoch 47/100\n",
            "26/26 [==============================] - 0s 3ms/step - loss: 0.6343 - accuracy: 0.6154 - val_loss: 0.6734 - val_accuracy: 0.5185\n",
            "Epoch 48/100\n",
            "26/26 [==============================] - 0s 3ms/step - loss: 0.6341 - accuracy: 0.6154 - val_loss: 0.6730 - val_accuracy: 0.5185\n",
            "Epoch 49/100\n",
            "26/26 [==============================] - 0s 3ms/step - loss: 0.6335 - accuracy: 0.6154 - val_loss: 0.6727 - val_accuracy: 0.5185\n",
            "Epoch 50/100\n",
            "26/26 [==============================] - 0s 3ms/step - loss: 0.6332 - accuracy: 0.6154 - val_loss: 0.6718 - val_accuracy: 0.5185\n",
            "Epoch 51/100\n",
            "26/26 [==============================] - 0s 3ms/step - loss: 0.6329 - accuracy: 0.6154 - val_loss: 0.6706 - val_accuracy: 0.5185\n",
            "Epoch 52/100\n",
            "26/26 [==============================] - 0s 3ms/step - loss: 0.6329 - accuracy: 0.6154 - val_loss: 0.6687 - val_accuracy: 0.5185\n",
            "Epoch 53/100\n",
            "26/26 [==============================] - 0s 4ms/step - loss: 0.6322 - accuracy: 0.6154 - val_loss: 0.6705 - val_accuracy: 0.5185\n",
            "Epoch 54/100\n",
            "26/26 [==============================] - 0s 3ms/step - loss: 0.6328 - accuracy: 0.6154 - val_loss: 0.6715 - val_accuracy: 0.5185\n",
            "Epoch 55/100\n",
            "26/26 [==============================] - 1s 30ms/step - loss: 0.6321 - accuracy: 0.6154 - val_loss: 0.6666 - val_accuracy: 0.5926\n",
            "Epoch 56/100\n",
            "26/26 [==============================] - 0s 3ms/step - loss: 0.6310 - accuracy: 0.6154 - val_loss: 0.6668 - val_accuracy: 0.5926\n",
            "Epoch 57/100\n",
            "26/26 [==============================] - 0s 3ms/step - loss: 0.6309 - accuracy: 0.6154 - val_loss: 0.6670 - val_accuracy: 0.5926\n",
            "Epoch 58/100\n",
            "26/26 [==============================] - 0s 3ms/step - loss: 0.6306 - accuracy: 0.6154 - val_loss: 0.6671 - val_accuracy: 0.5926\n",
            "Epoch 59/100\n",
            "26/26 [==============================] - 0s 3ms/step - loss: 0.6301 - accuracy: 0.6077 - val_loss: 0.6651 - val_accuracy: 0.5926\n",
            "Epoch 60/100\n",
            "26/26 [==============================] - 0s 3ms/step - loss: 0.6296 - accuracy: 0.6385 - val_loss: 0.6657 - val_accuracy: 0.5926\n",
            "Epoch 61/100\n",
            "26/26 [==============================] - 0s 3ms/step - loss: 0.6294 - accuracy: 0.6462 - val_loss: 0.6659 - val_accuracy: 0.5926\n",
            "Epoch 62/100\n",
            "26/26 [==============================] - 0s 3ms/step - loss: 0.6292 - accuracy: 0.6615 - val_loss: 0.6643 - val_accuracy: 0.5926\n",
            "Epoch 63/100\n",
            "26/26 [==============================] - 0s 4ms/step - loss: 0.6291 - accuracy: 0.6615 - val_loss: 0.6652 - val_accuracy: 0.5926\n",
            "Epoch 64/100\n",
            "26/26 [==============================] - 0s 4ms/step - loss: 0.6286 - accuracy: 0.6692 - val_loss: 0.6629 - val_accuracy: 0.5926\n",
            "Epoch 65/100\n",
            "26/26 [==============================] - 0s 4ms/step - loss: 0.6281 - accuracy: 0.6615 - val_loss: 0.6641 - val_accuracy: 0.5926\n",
            "Epoch 66/100\n",
            "26/26 [==============================] - 1s 32ms/step - loss: 0.6280 - accuracy: 0.6692 - val_loss: 0.6607 - val_accuracy: 0.6296\n",
            "Epoch 67/100\n",
            "26/26 [==============================] - 0s 3ms/step - loss: 0.6274 - accuracy: 0.6692 - val_loss: 0.6609 - val_accuracy: 0.6296\n",
            "Epoch 68/100\n",
            "26/26 [==============================] - 0s 4ms/step - loss: 0.6275 - accuracy: 0.6615 - val_loss: 0.6610 - val_accuracy: 0.6296\n",
            "Epoch 69/100\n",
            "26/26 [==============================] - 0s 3ms/step - loss: 0.6270 - accuracy: 0.6846 - val_loss: 0.6602 - val_accuracy: 0.6296\n",
            "Epoch 70/100\n",
            "26/26 [==============================] - 0s 3ms/step - loss: 0.6265 - accuracy: 0.6769 - val_loss: 0.6610 - val_accuracy: 0.6296\n",
            "Epoch 71/100\n",
            "26/26 [==============================] - 0s 4ms/step - loss: 0.6266 - accuracy: 0.6769 - val_loss: 0.6613 - val_accuracy: 0.6296\n",
            "Epoch 72/100\n",
            "26/26 [==============================] - 0s 3ms/step - loss: 0.6266 - accuracy: 0.6846 - val_loss: 0.6580 - val_accuracy: 0.6296\n",
            "Epoch 73/100\n",
            "26/26 [==============================] - 0s 3ms/step - loss: 0.6262 - accuracy: 0.6846 - val_loss: 0.6595 - val_accuracy: 0.6296\n",
            "Epoch 74/100\n",
            "26/26 [==============================] - 0s 3ms/step - loss: 0.6257 - accuracy: 0.6846 - val_loss: 0.6573 - val_accuracy: 0.6296\n",
            "Epoch 75/100\n",
            "26/26 [==============================] - 0s 3ms/step - loss: 0.6251 - accuracy: 0.6846 - val_loss: 0.6577 - val_accuracy: 0.6296\n",
            "Epoch 76/100\n",
            "26/26 [==============================] - 0s 3ms/step - loss: 0.6252 - accuracy: 0.6846 - val_loss: 0.6580 - val_accuracy: 0.6296\n",
            "Epoch 77/100\n",
            "26/26 [==============================] - 0s 3ms/step - loss: 0.6251 - accuracy: 0.6769 - val_loss: 0.6551 - val_accuracy: 0.6296\n",
            "Epoch 78/100\n",
            "26/26 [==============================] - 0s 3ms/step - loss: 0.6250 - accuracy: 0.6846 - val_loss: 0.6575 - val_accuracy: 0.6296\n",
            "Epoch 79/100\n",
            "26/26 [==============================] - 0s 3ms/step - loss: 0.6240 - accuracy: 0.6692 - val_loss: 0.6559 - val_accuracy: 0.6296\n",
            "Epoch 80/100\n",
            "26/26 [==============================] - 0s 3ms/step - loss: 0.6236 - accuracy: 0.6692 - val_loss: 0.6543 - val_accuracy: 0.6296\n",
            "Epoch 81/100\n",
            "26/26 [==============================] - 0s 3ms/step - loss: 0.6234 - accuracy: 0.6692 - val_loss: 0.6549 - val_accuracy: 0.6296\n",
            "Epoch 82/100\n",
            "26/26 [==============================] - 0s 4ms/step - loss: 0.6233 - accuracy: 0.6692 - val_loss: 0.6546 - val_accuracy: 0.6296\n",
            "Epoch 83/100\n",
            "26/26 [==============================] - 0s 3ms/step - loss: 0.6226 - accuracy: 0.6615 - val_loss: 0.6530 - val_accuracy: 0.6296\n",
            "Epoch 84/100\n",
            "26/26 [==============================] - 0s 3ms/step - loss: 0.6233 - accuracy: 0.6615 - val_loss: 0.6532 - val_accuracy: 0.6296\n",
            "Epoch 85/100\n",
            "26/26 [==============================] - 0s 4ms/step - loss: 0.6219 - accuracy: 0.6615 - val_loss: 0.6505 - val_accuracy: 0.6296\n",
            "Epoch 86/100\n",
            "26/26 [==============================] - 0s 3ms/step - loss: 0.6226 - accuracy: 0.6615 - val_loss: 0.6494 - val_accuracy: 0.6296\n",
            "Epoch 87/100\n",
            "26/26 [==============================] - 0s 3ms/step - loss: 0.6215 - accuracy: 0.6615 - val_loss: 0.6499 - val_accuracy: 0.6296\n",
            "Epoch 88/100\n",
            "26/26 [==============================] - 0s 3ms/step - loss: 0.6213 - accuracy: 0.6615 - val_loss: 0.6493 - val_accuracy: 0.6296\n",
            "Epoch 89/100\n",
            "26/26 [==============================] - 0s 4ms/step - loss: 0.6210 - accuracy: 0.6615 - val_loss: 0.6490 - val_accuracy: 0.6296\n",
            "Epoch 90/100\n",
            "26/26 [==============================] - 0s 3ms/step - loss: 0.6218 - accuracy: 0.6615 - val_loss: 0.6513 - val_accuracy: 0.6296\n",
            "Epoch 91/100\n",
            "26/26 [==============================] - 0s 4ms/step - loss: 0.6202 - accuracy: 0.6615 - val_loss: 0.6476 - val_accuracy: 0.6296\n",
            "Epoch 92/100\n",
            "26/26 [==============================] - 0s 3ms/step - loss: 0.6199 - accuracy: 0.6692 - val_loss: 0.6481 - val_accuracy: 0.6296\n",
            "Epoch 93/100\n",
            "26/26 [==============================] - 0s 3ms/step - loss: 0.6197 - accuracy: 0.6615 - val_loss: 0.6475 - val_accuracy: 0.6296\n",
            "Epoch 94/100\n",
            "26/26 [==============================] - 0s 3ms/step - loss: 0.6195 - accuracy: 0.6692 - val_loss: 0.6468 - val_accuracy: 0.6296\n",
            "Epoch 95/100\n",
            "26/26 [==============================] - 0s 3ms/step - loss: 0.6189 - accuracy: 0.6692 - val_loss: 0.6462 - val_accuracy: 0.6296\n",
            "Epoch 96/100\n",
            "26/26 [==============================] - 0s 3ms/step - loss: 0.6190 - accuracy: 0.6692 - val_loss: 0.6471 - val_accuracy: 0.6296\n",
            "Epoch 97/100\n",
            "26/26 [==============================] - 0s 3ms/step - loss: 0.6187 - accuracy: 0.6692 - val_loss: 0.6455 - val_accuracy: 0.6296\n",
            "Epoch 98/100\n",
            "26/26 [==============================] - 0s 3ms/step - loss: 0.6184 - accuracy: 0.6692 - val_loss: 0.6446 - val_accuracy: 0.6296\n",
            "Epoch 99/100\n",
            "26/26 [==============================] - 1s 29ms/step - loss: 0.6178 - accuracy: 0.6692 - val_loss: 0.6441 - val_accuracy: 0.7037\n",
            "Epoch 100/100\n",
            "26/26 [==============================] - 0s 3ms/step - loss: 0.6176 - accuracy: 0.6769 - val_loss: 0.6440 - val_accuracy: 0.7037\n"
          ]
        }
      ]
    },
    {
      "cell_type": "code",
      "source": [
        "model18.evaluate(X_test_scaled, y_test)"
      ],
      "metadata": {
        "id": "vQ__vw93Jha4",
        "outputId": "446250dc-b4ec-4d62-9605-11d2eddc9816",
        "colab": {
          "base_uri": "https://localhost:8080/"
        }
      },
      "execution_count": 157,
      "outputs": [
        {
          "output_type": "stream",
          "name": "stdout",
          "text": [
            "1/1 [==============================] - 0s 21ms/step - loss: 0.6194 - accuracy: 0.6957\n"
          ]
        },
        {
          "output_type": "execute_result",
          "data": {
            "text/plain": [
              "[0.6194218397140503, 0.695652186870575]"
            ]
          },
          "metadata": {},
          "execution_count": 157
        }
      ]
    },
    {
      "cell_type": "code",
      "source": [
        "model18 = tf.keras.models.load_model(f\"/content/model_experiments/{model18.name}\")\n",
        "model18.evaluate(X_test_scaled, y_test)"
      ],
      "metadata": {
        "id": "gJJ51Qqpa5AY",
        "outputId": "4b3326d3-d165-44b3-e6e3-c0db8c15e21c",
        "colab": {
          "base_uri": "https://localhost:8080/"
        }
      },
      "execution_count": 158,
      "outputs": [
        {
          "output_type": "stream",
          "name": "stdout",
          "text": [
            "1/1 [==============================] - 0s 122ms/step - loss: 0.6199 - accuracy: 0.6957\n"
          ]
        },
        {
          "output_type": "execute_result",
          "data": {
            "text/plain": [
              "[0.6199381351470947, 0.695652186870575]"
            ]
          },
          "metadata": {},
          "execution_count": 158
        }
      ]
    },
    {
      "cell_type": "code",
      "source": [],
      "metadata": {
        "id": "DTCg_cOha5DS"
      },
      "execution_count": 158,
      "outputs": []
    },
    {
      "cell_type": "code",
      "source": [
        "tf.random.set_seed(42)\n",
        "\n",
        "model19 = tf.keras.Sequential([\n",
        "    tf.keras.layers.Dense(5, activation='relu'),\n",
        "    tf.keras.layers.Dense(20, activation='relu'),\n",
        "    tf.keras.layers.Dense(20, activation='relu'),\n",
        "    tf.keras.layers.Dense(20, activation='relu'),\n",
        "\n",
        "\n",
        "    tf.keras.layers.Dense(1, activation='sigmoid')\n",
        "])\n",
        "\n",
        "model19.compile(\n",
        "    loss=tf.keras.losses.binary_crossentropy,\n",
        "    optimizer=tf.keras.optimizers.Adam(0.0003),\n",
        "    metrics=[\"accuracy\"]\n",
        ")\n",
        "\n",
        "\n",
        "history19 = model19.fit(X_train_scaled, \n",
        "                    y_train, \n",
        "                    epochs=100,\n",
        "                    batch_size=5,\n",
        "                    validation_data = (X_valid_scaled, y_valid),\n",
        "                    callbacks=[create_model_checkpoint(model_name=model19.name)])"
      ],
      "metadata": {
        "id": "K2TjoYoea5FP",
        "outputId": "ef64d8b1-9d6e-43cd-e524-c9a6c21ae7bb",
        "colab": {
          "base_uri": "https://localhost:8080/"
        }
      },
      "execution_count": 159,
      "outputs": [
        {
          "output_type": "stream",
          "name": "stdout",
          "text": [
            "Epoch 1/100\n",
            "26/26 [==============================] - 2s 41ms/step - loss: 0.6684 - accuracy: 0.6154 - val_loss: 0.6793 - val_accuracy: 0.5185\n",
            "Epoch 2/100\n",
            "26/26 [==============================] - 0s 3ms/step - loss: 0.6617 - accuracy: 0.6154 - val_loss: 0.6785 - val_accuracy: 0.5185\n",
            "Epoch 3/100\n",
            "26/26 [==============================] - 0s 3ms/step - loss: 0.6576 - accuracy: 0.6154 - val_loss: 0.6786 - val_accuracy: 0.5185\n",
            "Epoch 4/100\n",
            "26/26 [==============================] - 0s 3ms/step - loss: 0.6534 - accuracy: 0.6154 - val_loss: 0.6794 - val_accuracy: 0.5185\n",
            "Epoch 5/100\n",
            "26/26 [==============================] - 0s 3ms/step - loss: 0.6505 - accuracy: 0.6154 - val_loss: 0.6797 - val_accuracy: 0.5185\n",
            "Epoch 6/100\n",
            "26/26 [==============================] - 0s 3ms/step - loss: 0.6481 - accuracy: 0.6154 - val_loss: 0.6808 - val_accuracy: 0.5185\n",
            "Epoch 7/100\n",
            "26/26 [==============================] - 0s 3ms/step - loss: 0.6485 - accuracy: 0.6154 - val_loss: 0.6841 - val_accuracy: 0.5185\n",
            "Epoch 8/100\n",
            "26/26 [==============================] - 0s 3ms/step - loss: 0.6451 - accuracy: 0.6154 - val_loss: 0.6833 - val_accuracy: 0.5185\n",
            "Epoch 9/100\n",
            "26/26 [==============================] - 0s 3ms/step - loss: 0.6448 - accuracy: 0.6154 - val_loss: 0.6829 - val_accuracy: 0.5185\n",
            "Epoch 10/100\n",
            "26/26 [==============================] - 0s 3ms/step - loss: 0.6438 - accuracy: 0.6154 - val_loss: 0.6840 - val_accuracy: 0.5185\n",
            "Epoch 11/100\n",
            "26/26 [==============================] - 0s 4ms/step - loss: 0.6434 - accuracy: 0.6154 - val_loss: 0.6835 - val_accuracy: 0.5185\n",
            "Epoch 12/100\n",
            "26/26 [==============================] - 0s 4ms/step - loss: 0.6426 - accuracy: 0.6154 - val_loss: 0.6835 - val_accuracy: 0.5185\n",
            "Epoch 13/100\n",
            "26/26 [==============================] - 0s 3ms/step - loss: 0.6421 - accuracy: 0.6154 - val_loss: 0.6844 - val_accuracy: 0.5185\n",
            "Epoch 14/100\n",
            "26/26 [==============================] - 0s 3ms/step - loss: 0.6411 - accuracy: 0.6154 - val_loss: 0.6845 - val_accuracy: 0.5185\n",
            "Epoch 15/100\n",
            "26/26 [==============================] - 0s 3ms/step - loss: 0.6410 - accuracy: 0.6154 - val_loss: 0.6842 - val_accuracy: 0.5185\n",
            "Epoch 16/100\n",
            "26/26 [==============================] - 0s 3ms/step - loss: 0.6400 - accuracy: 0.6154 - val_loss: 0.6818 - val_accuracy: 0.5185\n",
            "Epoch 17/100\n",
            "26/26 [==============================] - 0s 3ms/step - loss: 0.6404 - accuracy: 0.6154 - val_loss: 0.6801 - val_accuracy: 0.5185\n",
            "Epoch 18/100\n",
            "26/26 [==============================] - 0s 3ms/step - loss: 0.6392 - accuracy: 0.6154 - val_loss: 0.6824 - val_accuracy: 0.5185\n",
            "Epoch 19/100\n",
            "26/26 [==============================] - 0s 3ms/step - loss: 0.6387 - accuracy: 0.6154 - val_loss: 0.6784 - val_accuracy: 0.5185\n",
            "Epoch 20/100\n",
            "26/26 [==============================] - 0s 3ms/step - loss: 0.6376 - accuracy: 0.6154 - val_loss: 0.6796 - val_accuracy: 0.5185\n",
            "Epoch 21/100\n",
            "26/26 [==============================] - 0s 3ms/step - loss: 0.6372 - accuracy: 0.6154 - val_loss: 0.6785 - val_accuracy: 0.5185\n",
            "Epoch 22/100\n",
            "26/26 [==============================] - 0s 4ms/step - loss: 0.6368 - accuracy: 0.6154 - val_loss: 0.6774 - val_accuracy: 0.5185\n",
            "Epoch 23/100\n",
            "26/26 [==============================] - 0s 3ms/step - loss: 0.6365 - accuracy: 0.6154 - val_loss: 0.6735 - val_accuracy: 0.5185\n",
            "Epoch 24/100\n",
            "26/26 [==============================] - 0s 3ms/step - loss: 0.6360 - accuracy: 0.6154 - val_loss: 0.6764 - val_accuracy: 0.5185\n",
            "Epoch 25/100\n",
            "26/26 [==============================] - 0s 3ms/step - loss: 0.6350 - accuracy: 0.6154 - val_loss: 0.6730 - val_accuracy: 0.5185\n",
            "Epoch 26/100\n",
            "26/26 [==============================] - 0s 3ms/step - loss: 0.6339 - accuracy: 0.6154 - val_loss: 0.6737 - val_accuracy: 0.5185\n",
            "Epoch 27/100\n",
            "26/26 [==============================] - 0s 3ms/step - loss: 0.6332 - accuracy: 0.6154 - val_loss: 0.6728 - val_accuracy: 0.5185\n",
            "Epoch 28/100\n",
            "26/26 [==============================] - 0s 3ms/step - loss: 0.6330 - accuracy: 0.6154 - val_loss: 0.6715 - val_accuracy: 0.5185\n",
            "Epoch 29/100\n",
            "26/26 [==============================] - 1s 36ms/step - loss: 0.6322 - accuracy: 0.6154 - val_loss: 0.6700 - val_accuracy: 0.5926\n",
            "Epoch 30/100\n",
            "26/26 [==============================] - 0s 3ms/step - loss: 0.6317 - accuracy: 0.6308 - val_loss: 0.6706 - val_accuracy: 0.5926\n",
            "Epoch 31/100\n",
            "26/26 [==============================] - 0s 3ms/step - loss: 0.6322 - accuracy: 0.6308 - val_loss: 0.6679 - val_accuracy: 0.5926\n",
            "Epoch 32/100\n",
            "26/26 [==============================] - 0s 3ms/step - loss: 0.6304 - accuracy: 0.6692 - val_loss: 0.6680 - val_accuracy: 0.5926\n",
            "Epoch 33/100\n",
            "26/26 [==============================] - 0s 3ms/step - loss: 0.6305 - accuracy: 0.6615 - val_loss: 0.6661 - val_accuracy: 0.5926\n",
            "Epoch 34/100\n",
            "26/26 [==============================] - 0s 3ms/step - loss: 0.6294 - accuracy: 0.6692 - val_loss: 0.6657 - val_accuracy: 0.5926\n",
            "Epoch 35/100\n",
            "26/26 [==============================] - 0s 3ms/step - loss: 0.6288 - accuracy: 0.6692 - val_loss: 0.6649 - val_accuracy: 0.5926\n",
            "Epoch 36/100\n",
            "26/26 [==============================] - 1s 34ms/step - loss: 0.6290 - accuracy: 0.6692 - val_loss: 0.6638 - val_accuracy: 0.6296\n",
            "Epoch 37/100\n",
            "26/26 [==============================] - 0s 3ms/step - loss: 0.6281 - accuracy: 0.6846 - val_loss: 0.6649 - val_accuracy: 0.6296\n",
            "Epoch 38/100\n",
            "26/26 [==============================] - 0s 3ms/step - loss: 0.6273 - accuracy: 0.6846 - val_loss: 0.6618 - val_accuracy: 0.6296\n",
            "Epoch 39/100\n",
            "26/26 [==============================] - 0s 3ms/step - loss: 0.6267 - accuracy: 0.7000 - val_loss: 0.6612 - val_accuracy: 0.6296\n",
            "Epoch 40/100\n",
            "26/26 [==============================] - 0s 4ms/step - loss: 0.6261 - accuracy: 0.6846 - val_loss: 0.6627 - val_accuracy: 0.6296\n",
            "Epoch 41/100\n",
            "26/26 [==============================] - 0s 3ms/step - loss: 0.6255 - accuracy: 0.6769 - val_loss: 0.6596 - val_accuracy: 0.6296\n",
            "Epoch 42/100\n",
            "26/26 [==============================] - 0s 3ms/step - loss: 0.6249 - accuracy: 0.6769 - val_loss: 0.6591 - val_accuracy: 0.6296\n",
            "Epoch 43/100\n",
            "26/26 [==============================] - 0s 3ms/step - loss: 0.6273 - accuracy: 0.6692 - val_loss: 0.6581 - val_accuracy: 0.6296\n",
            "Epoch 44/100\n",
            "26/26 [==============================] - 0s 3ms/step - loss: 0.6242 - accuracy: 0.6692 - val_loss: 0.6588 - val_accuracy: 0.6296\n",
            "Epoch 45/100\n",
            "26/26 [==============================] - 0s 4ms/step - loss: 0.6234 - accuracy: 0.6769 - val_loss: 0.6582 - val_accuracy: 0.6296\n",
            "Epoch 46/100\n",
            "26/26 [==============================] - 0s 3ms/step - loss: 0.6230 - accuracy: 0.6692 - val_loss: 0.6568 - val_accuracy: 0.6296\n",
            "Epoch 47/100\n",
            "26/26 [==============================] - 0s 3ms/step - loss: 0.6224 - accuracy: 0.6769 - val_loss: 0.6567 - val_accuracy: 0.6296\n",
            "Epoch 48/100\n",
            "26/26 [==============================] - 0s 3ms/step - loss: 0.6226 - accuracy: 0.6692 - val_loss: 0.6566 - val_accuracy: 0.6296\n",
            "Epoch 49/100\n",
            "26/26 [==============================] - 0s 3ms/step - loss: 0.6215 - accuracy: 0.6692 - val_loss: 0.6570 - val_accuracy: 0.6296\n",
            "Epoch 50/100\n",
            "26/26 [==============================] - 0s 3ms/step - loss: 0.6215 - accuracy: 0.6692 - val_loss: 0.6561 - val_accuracy: 0.6296\n",
            "Epoch 51/100\n",
            "26/26 [==============================] - 0s 3ms/step - loss: 0.6214 - accuracy: 0.6692 - val_loss: 0.6542 - val_accuracy: 0.6296\n",
            "Epoch 52/100\n",
            "26/26 [==============================] - 1s 58ms/step - loss: 0.6216 - accuracy: 0.6769 - val_loss: 0.6526 - val_accuracy: 0.7037\n",
            "Epoch 53/100\n",
            "26/26 [==============================] - 0s 3ms/step - loss: 0.6207 - accuracy: 0.6692 - val_loss: 0.6568 - val_accuracy: 0.6296\n",
            "Epoch 54/100\n",
            "26/26 [==============================] - 0s 3ms/step - loss: 0.6223 - accuracy: 0.6769 - val_loss: 0.6588 - val_accuracy: 0.6296\n",
            "Epoch 55/100\n",
            "26/26 [==============================] - 0s 3ms/step - loss: 0.6215 - accuracy: 0.6538 - val_loss: 0.6500 - val_accuracy: 0.7037\n",
            "Epoch 56/100\n",
            "26/26 [==============================] - 0s 4ms/step - loss: 0.6197 - accuracy: 0.6769 - val_loss: 0.6510 - val_accuracy: 0.7037\n",
            "Epoch 57/100\n",
            "26/26 [==============================] - 0s 3ms/step - loss: 0.6196 - accuracy: 0.6769 - val_loss: 0.6519 - val_accuracy: 0.7037\n",
            "Epoch 58/100\n",
            "26/26 [==============================] - 0s 4ms/step - loss: 0.6197 - accuracy: 0.6692 - val_loss: 0.6536 - val_accuracy: 0.6296\n",
            "Epoch 59/100\n",
            "26/26 [==============================] - 0s 3ms/step - loss: 0.6183 - accuracy: 0.6692 - val_loss: 0.6511 - val_accuracy: 0.7037\n",
            "Epoch 60/100\n",
            "26/26 [==============================] - 0s 3ms/step - loss: 0.6179 - accuracy: 0.6692 - val_loss: 0.6523 - val_accuracy: 0.6667\n",
            "Epoch 61/100\n",
            "26/26 [==============================] - 0s 3ms/step - loss: 0.6178 - accuracy: 0.6769 - val_loss: 0.6521 - val_accuracy: 0.7037\n",
            "Epoch 62/100\n",
            "26/26 [==============================] - 0s 3ms/step - loss: 0.6176 - accuracy: 0.6769 - val_loss: 0.6500 - val_accuracy: 0.7037\n",
            "Epoch 63/100\n",
            "26/26 [==============================] - 0s 4ms/step - loss: 0.6179 - accuracy: 0.6769 - val_loss: 0.6524 - val_accuracy: 0.6667\n",
            "Epoch 64/100\n",
            "26/26 [==============================] - 0s 3ms/step - loss: 0.6174 - accuracy: 0.6769 - val_loss: 0.6489 - val_accuracy: 0.7037\n",
            "Epoch 65/100\n",
            "26/26 [==============================] - 0s 3ms/step - loss: 0.6165 - accuracy: 0.6769 - val_loss: 0.6518 - val_accuracy: 0.6667\n",
            "Epoch 66/100\n",
            "26/26 [==============================] - 0s 3ms/step - loss: 0.6166 - accuracy: 0.6769 - val_loss: 0.6479 - val_accuracy: 0.7037\n",
            "Epoch 67/100\n",
            "26/26 [==============================] - 0s 3ms/step - loss: 0.6156 - accuracy: 0.6769 - val_loss: 0.6495 - val_accuracy: 0.7037\n",
            "Epoch 68/100\n",
            "26/26 [==============================] - 0s 4ms/step - loss: 0.6162 - accuracy: 0.6769 - val_loss: 0.6496 - val_accuracy: 0.7037\n",
            "Epoch 69/100\n",
            "26/26 [==============================] - 0s 4ms/step - loss: 0.6157 - accuracy: 0.6769 - val_loss: 0.6484 - val_accuracy: 0.7037\n",
            "Epoch 70/100\n",
            "26/26 [==============================] - 0s 4ms/step - loss: 0.6148 - accuracy: 0.6769 - val_loss: 0.6496 - val_accuracy: 0.7037\n",
            "Epoch 71/100\n",
            "26/26 [==============================] - 0s 4ms/step - loss: 0.6152 - accuracy: 0.6769 - val_loss: 0.6513 - val_accuracy: 0.7037\n",
            "Epoch 72/100\n",
            "26/26 [==============================] - 0s 3ms/step - loss: 0.6159 - accuracy: 0.6692 - val_loss: 0.6462 - val_accuracy: 0.7037\n",
            "Epoch 73/100\n",
            "26/26 [==============================] - 0s 3ms/step - loss: 0.6154 - accuracy: 0.6692 - val_loss: 0.6490 - val_accuracy: 0.7037\n",
            "Epoch 74/100\n",
            "26/26 [==============================] - 0s 3ms/step - loss: 0.6145 - accuracy: 0.6692 - val_loss: 0.6456 - val_accuracy: 0.7037\n",
            "Epoch 75/100\n",
            "26/26 [==============================] - 0s 3ms/step - loss: 0.6135 - accuracy: 0.6769 - val_loss: 0.6466 - val_accuracy: 0.7037\n",
            "Epoch 76/100\n",
            "26/26 [==============================] - 0s 3ms/step - loss: 0.6142 - accuracy: 0.6769 - val_loss: 0.6471 - val_accuracy: 0.7037\n",
            "Epoch 77/100\n",
            "26/26 [==============================] - 0s 3ms/step - loss: 0.6137 - accuracy: 0.6615 - val_loss: 0.6433 - val_accuracy: 0.7037\n",
            "Epoch 78/100\n",
            "26/26 [==============================] - 0s 3ms/step - loss: 0.6145 - accuracy: 0.6769 - val_loss: 0.6482 - val_accuracy: 0.7037\n",
            "Epoch 79/100\n",
            "26/26 [==============================] - 0s 3ms/step - loss: 0.6123 - accuracy: 0.6769 - val_loss: 0.6448 - val_accuracy: 0.7037\n",
            "Epoch 80/100\n",
            "26/26 [==============================] - 0s 3ms/step - loss: 0.6117 - accuracy: 0.6692 - val_loss: 0.6427 - val_accuracy: 0.7037\n",
            "Epoch 81/100\n",
            "26/26 [==============================] - 0s 3ms/step - loss: 0.6113 - accuracy: 0.6692 - val_loss: 0.6438 - val_accuracy: 0.7037\n",
            "Epoch 82/100\n",
            "26/26 [==============================] - 0s 3ms/step - loss: 0.6117 - accuracy: 0.6692 - val_loss: 0.6453 - val_accuracy: 0.7037\n",
            "Epoch 83/100\n",
            "26/26 [==============================] - 0s 3ms/step - loss: 0.6105 - accuracy: 0.6692 - val_loss: 0.6424 - val_accuracy: 0.7037\n",
            "Epoch 84/100\n",
            "26/26 [==============================] - 0s 3ms/step - loss: 0.6126 - accuracy: 0.6692 - val_loss: 0.6457 - val_accuracy: 0.7037\n",
            "Epoch 85/100\n",
            "26/26 [==============================] - 0s 3ms/step - loss: 0.6098 - accuracy: 0.6769 - val_loss: 0.6401 - val_accuracy: 0.7037\n",
            "Epoch 86/100\n",
            "26/26 [==============================] - 0s 3ms/step - loss: 0.6116 - accuracy: 0.6692 - val_loss: 0.6386 - val_accuracy: 0.7037\n",
            "Epoch 87/100\n",
            "26/26 [==============================] - 0s 3ms/step - loss: 0.6094 - accuracy: 0.6769 - val_loss: 0.6407 - val_accuracy: 0.7037\n",
            "Epoch 88/100\n",
            "26/26 [==============================] - 0s 4ms/step - loss: 0.6094 - accuracy: 0.6692 - val_loss: 0.6404 - val_accuracy: 0.7037\n",
            "Epoch 89/100\n",
            "26/26 [==============================] - 0s 3ms/step - loss: 0.6091 - accuracy: 0.6692 - val_loss: 0.6403 - val_accuracy: 0.7037\n",
            "Epoch 90/100\n",
            "26/26 [==============================] - 0s 3ms/step - loss: 0.6113 - accuracy: 0.6769 - val_loss: 0.6451 - val_accuracy: 0.7037\n",
            "Epoch 91/100\n",
            "26/26 [==============================] - 0s 3ms/step - loss: 0.6081 - accuracy: 0.6692 - val_loss: 0.6374 - val_accuracy: 0.7037\n",
            "Epoch 92/100\n",
            "26/26 [==============================] - 0s 3ms/step - loss: 0.6080 - accuracy: 0.6692 - val_loss: 0.6393 - val_accuracy: 0.7037\n",
            "Epoch 93/100\n",
            "26/26 [==============================] - 0s 3ms/step - loss: 0.6079 - accuracy: 0.6692 - val_loss: 0.6387 - val_accuracy: 0.7037\n",
            "Epoch 94/100\n",
            "26/26 [==============================] - 0s 3ms/step - loss: 0.6078 - accuracy: 0.6615 - val_loss: 0.6391 - val_accuracy: 0.7037\n",
            "Epoch 95/100\n",
            "26/26 [==============================] - 0s 3ms/step - loss: 0.6069 - accuracy: 0.6615 - val_loss: 0.6381 - val_accuracy: 0.7037\n",
            "Epoch 96/100\n",
            "26/26 [==============================] - 0s 3ms/step - loss: 0.6074 - accuracy: 0.6692 - val_loss: 0.6398 - val_accuracy: 0.7037\n",
            "Epoch 97/100\n",
            "26/26 [==============================] - 0s 3ms/step - loss: 0.6073 - accuracy: 0.6692 - val_loss: 0.6372 - val_accuracy: 0.7037\n",
            "Epoch 98/100\n",
            "26/26 [==============================] - 0s 3ms/step - loss: 0.6068 - accuracy: 0.6692 - val_loss: 0.6374 - val_accuracy: 0.7037\n",
            "Epoch 99/100\n",
            "26/26 [==============================] - 0s 3ms/step - loss: 0.6060 - accuracy: 0.6692 - val_loss: 0.6361 - val_accuracy: 0.7037\n",
            "Epoch 100/100\n",
            "26/26 [==============================] - 0s 3ms/step - loss: 0.6058 - accuracy: 0.6692 - val_loss: 0.6365 - val_accuracy: 0.7037\n"
          ]
        }
      ]
    },
    {
      "cell_type": "code",
      "source": [
        "model19.evaluate(X_test_scaled, y_test)"
      ],
      "metadata": {
        "id": "AXRcc8LGJltz",
        "outputId": "a4043850-254d-4a6d-9177-7cf518913621",
        "colab": {
          "base_uri": "https://localhost:8080/"
        }
      },
      "execution_count": 160,
      "outputs": [
        {
          "output_type": "stream",
          "name": "stdout",
          "text": [
            "1/1 [==============================] - 0s 25ms/step - loss: 0.5981 - accuracy: 0.7391\n"
          ]
        },
        {
          "output_type": "execute_result",
          "data": {
            "text/plain": [
              "[0.5981103777885437, 0.739130437374115]"
            ]
          },
          "metadata": {},
          "execution_count": 160
        }
      ]
    },
    {
      "cell_type": "code",
      "source": [
        "model19 = tf.keras.models.load_model(f\"/content/model_experiments/{model19.name}\")\n",
        "model19.evaluate(X_test_scaled, y_test)"
      ],
      "metadata": {
        "id": "NAc3PhNnajRQ",
        "outputId": "3c5b4f3a-c559-48c5-8d32-ebb034ad1d82",
        "colab": {
          "base_uri": "https://localhost:8080/"
        }
      },
      "execution_count": 161,
      "outputs": [
        {
          "output_type": "stream",
          "name": "stdout",
          "text": [
            "1/1 [==============================] - 0s 139ms/step - loss: 0.6311 - accuracy: 0.6957\n"
          ]
        },
        {
          "output_type": "execute_result",
          "data": {
            "text/plain": [
              "[0.6311095952987671, 0.695652186870575]"
            ]
          },
          "metadata": {},
          "execution_count": 161
        }
      ]
    },
    {
      "cell_type": "code",
      "source": [],
      "metadata": {
        "id": "jrFHLXvsJqs4"
      },
      "execution_count": 161,
      "outputs": []
    },
    {
      "cell_type": "code",
      "source": [],
      "metadata": {
        "id": "a_YLE821JpnZ"
      },
      "execution_count": 161,
      "outputs": []
    },
    {
      "cell_type": "code",
      "source": [
        "tf.random.set_seed(42)\n",
        "\n",
        "model20 = tf.keras.Sequential([\n",
        "    tf.keras.layers.Dense(5, activation='relu'),\n",
        "    tf.keras.layers.Dense(3, activation='relu'),\n",
        "    tf.keras.layers.Dense(3, activation='relu'),\n",
        "    tf.keras.layers.Dense(3, activation='relu'),\n",
        "\n",
        "    tf.keras.layers.Dense(1, activation='sigmoid')\n",
        "])\n",
        "\n",
        "model20.compile(\n",
        "    loss=tf.keras.losses.binary_crossentropy,\n",
        "    optimizer=tf.keras.optimizers.Adam(0.0003),\n",
        "    metrics=[\"accuracy\"]\n",
        ")\n",
        "\n",
        "\n",
        "history20 = model20.fit(X_train_scaled, \n",
        "                    y_train, \n",
        "                    epochs=100,\n",
        "                    batch_size=20,\n",
        "                    validation_data = (X_valid_scaled, y_valid),\n",
        "                    callbacks=[create_model_checkpoint(model_name=model20.name)])"
      ],
      "metadata": {
        "id": "wycpJGLpajTr",
        "outputId": "f3a0ebe4-3c67-4151-b1e9-c25c8f4318ec",
        "colab": {
          "base_uri": "https://localhost:8080/"
        }
      },
      "execution_count": 162,
      "outputs": [
        {
          "output_type": "stream",
          "name": "stdout",
          "text": [
            "Epoch 1/100\n",
            "7/7 [==============================] - 2s 166ms/step - loss: 0.6931 - accuracy: 0.5385 - val_loss: 0.6931 - val_accuracy: 0.5185\n",
            "Epoch 2/100\n",
            "7/7 [==============================] - 0s 6ms/step - loss: 0.6929 - accuracy: 0.6154 - val_loss: 0.6931 - val_accuracy: 0.5185\n",
            "Epoch 3/100\n",
            "7/7 [==============================] - 0s 6ms/step - loss: 0.6928 - accuracy: 0.6154 - val_loss: 0.6931 - val_accuracy: 0.5185\n",
            "Epoch 4/100\n",
            "7/7 [==============================] - 0s 6ms/step - loss: 0.6926 - accuracy: 0.6154 - val_loss: 0.6931 - val_accuracy: 0.5185\n",
            "Epoch 5/100\n",
            "7/7 [==============================] - 0s 6ms/step - loss: 0.6925 - accuracy: 0.6154 - val_loss: 0.6930 - val_accuracy: 0.5185\n",
            "Epoch 6/100\n",
            "7/7 [==============================] - 0s 6ms/step - loss: 0.6923 - accuracy: 0.6154 - val_loss: 0.6930 - val_accuracy: 0.5185\n",
            "Epoch 7/100\n",
            "7/7 [==============================] - 0s 7ms/step - loss: 0.6922 - accuracy: 0.6154 - val_loss: 0.6930 - val_accuracy: 0.5185\n",
            "Epoch 8/100\n",
            "7/7 [==============================] - 0s 6ms/step - loss: 0.6920 - accuracy: 0.6154 - val_loss: 0.6930 - val_accuracy: 0.5185\n",
            "Epoch 9/100\n",
            "7/7 [==============================] - 0s 7ms/step - loss: 0.6919 - accuracy: 0.6154 - val_loss: 0.6929 - val_accuracy: 0.5185\n",
            "Epoch 10/100\n",
            "7/7 [==============================] - 0s 6ms/step - loss: 0.6917 - accuracy: 0.6154 - val_loss: 0.6929 - val_accuracy: 0.5185\n",
            "Epoch 11/100\n",
            "7/7 [==============================] - 0s 7ms/step - loss: 0.6915 - accuracy: 0.6154 - val_loss: 0.6929 - val_accuracy: 0.5185\n",
            "Epoch 12/100\n",
            "7/7 [==============================] - 0s 6ms/step - loss: 0.6914 - accuracy: 0.6154 - val_loss: 0.6929 - val_accuracy: 0.5185\n",
            "Epoch 13/100\n",
            "7/7 [==============================] - 0s 7ms/step - loss: 0.6912 - accuracy: 0.6154 - val_loss: 0.6929 - val_accuracy: 0.5185\n",
            "Epoch 14/100\n",
            "7/7 [==============================] - 0s 6ms/step - loss: 0.6911 - accuracy: 0.6154 - val_loss: 0.6928 - val_accuracy: 0.5185\n",
            "Epoch 15/100\n",
            "7/7 [==============================] - 0s 6ms/step - loss: 0.6909 - accuracy: 0.6154 - val_loss: 0.6928 - val_accuracy: 0.5185\n",
            "Epoch 16/100\n",
            "7/7 [==============================] - 0s 6ms/step - loss: 0.6907 - accuracy: 0.6154 - val_loss: 0.6928 - val_accuracy: 0.5185\n",
            "Epoch 17/100\n",
            "7/7 [==============================] - 0s 6ms/step - loss: 0.6906 - accuracy: 0.6154 - val_loss: 0.6928 - val_accuracy: 0.5185\n",
            "Epoch 18/100\n",
            "7/7 [==============================] - 0s 8ms/step - loss: 0.6905 - accuracy: 0.6154 - val_loss: 0.6928 - val_accuracy: 0.5185\n",
            "Epoch 19/100\n",
            "7/7 [==============================] - 0s 6ms/step - loss: 0.6903 - accuracy: 0.6154 - val_loss: 0.6927 - val_accuracy: 0.5185\n",
            "Epoch 20/100\n",
            "7/7 [==============================] - 0s 6ms/step - loss: 0.6901 - accuracy: 0.6154 - val_loss: 0.6927 - val_accuracy: 0.5185\n",
            "Epoch 21/100\n",
            "7/7 [==============================] - 0s 9ms/step - loss: 0.6899 - accuracy: 0.6154 - val_loss: 0.6927 - val_accuracy: 0.5185\n",
            "Epoch 22/100\n",
            "7/7 [==============================] - 0s 6ms/step - loss: 0.6898 - accuracy: 0.6154 - val_loss: 0.6927 - val_accuracy: 0.5185\n",
            "Epoch 23/100\n",
            "7/7 [==============================] - 0s 7ms/step - loss: 0.6896 - accuracy: 0.6154 - val_loss: 0.6927 - val_accuracy: 0.5185\n",
            "Epoch 24/100\n",
            "7/7 [==============================] - 0s 6ms/step - loss: 0.6895 - accuracy: 0.6154 - val_loss: 0.6927 - val_accuracy: 0.5185\n",
            "Epoch 25/100\n",
            "7/7 [==============================] - 0s 6ms/step - loss: 0.6893 - accuracy: 0.6154 - val_loss: 0.6926 - val_accuracy: 0.5185\n",
            "Epoch 26/100\n",
            "7/7 [==============================] - 0s 7ms/step - loss: 0.6891 - accuracy: 0.6154 - val_loss: 0.6926 - val_accuracy: 0.5185\n",
            "Epoch 27/100\n",
            "7/7 [==============================] - 0s 8ms/step - loss: 0.6890 - accuracy: 0.6154 - val_loss: 0.6926 - val_accuracy: 0.5185\n",
            "Epoch 28/100\n",
            "7/7 [==============================] - 0s 7ms/step - loss: 0.6888 - accuracy: 0.6154 - val_loss: 0.6926 - val_accuracy: 0.5185\n",
            "Epoch 29/100\n",
            "7/7 [==============================] - 0s 7ms/step - loss: 0.6887 - accuracy: 0.6154 - val_loss: 0.6926 - val_accuracy: 0.5185\n",
            "Epoch 30/100\n",
            "7/7 [==============================] - 0s 7ms/step - loss: 0.6885 - accuracy: 0.6154 - val_loss: 0.6926 - val_accuracy: 0.5185\n",
            "Epoch 31/100\n",
            "7/7 [==============================] - 0s 6ms/step - loss: 0.6884 - accuracy: 0.6154 - val_loss: 0.6926 - val_accuracy: 0.5185\n",
            "Epoch 32/100\n",
            "7/7 [==============================] - 0s 6ms/step - loss: 0.6882 - accuracy: 0.6154 - val_loss: 0.6926 - val_accuracy: 0.5185\n",
            "Epoch 33/100\n",
            "7/7 [==============================] - 0s 7ms/step - loss: 0.6880 - accuracy: 0.6154 - val_loss: 0.6926 - val_accuracy: 0.5185\n",
            "Epoch 34/100\n",
            "7/7 [==============================] - 0s 6ms/step - loss: 0.6879 - accuracy: 0.6154 - val_loss: 0.6925 - val_accuracy: 0.5185\n",
            "Epoch 35/100\n",
            "7/7 [==============================] - 0s 6ms/step - loss: 0.6877 - accuracy: 0.6154 - val_loss: 0.6925 - val_accuracy: 0.5185\n",
            "Epoch 36/100\n",
            "7/7 [==============================] - 0s 6ms/step - loss: 0.6875 - accuracy: 0.6154 - val_loss: 0.6925 - val_accuracy: 0.5185\n",
            "Epoch 37/100\n",
            "7/7 [==============================] - 0s 6ms/step - loss: 0.6874 - accuracy: 0.6154 - val_loss: 0.6925 - val_accuracy: 0.5185\n",
            "Epoch 38/100\n",
            "7/7 [==============================] - 0s 6ms/step - loss: 0.6872 - accuracy: 0.6154 - val_loss: 0.6925 - val_accuracy: 0.5185\n",
            "Epoch 39/100\n",
            "7/7 [==============================] - 0s 6ms/step - loss: 0.6871 - accuracy: 0.6154 - val_loss: 0.6925 - val_accuracy: 0.5185\n",
            "Epoch 40/100\n",
            "7/7 [==============================] - 0s 6ms/step - loss: 0.6870 - accuracy: 0.6154 - val_loss: 0.6925 - val_accuracy: 0.5185\n",
            "Epoch 41/100\n",
            "7/7 [==============================] - 0s 6ms/step - loss: 0.6868 - accuracy: 0.6154 - val_loss: 0.6925 - val_accuracy: 0.5185\n",
            "Epoch 42/100\n",
            "7/7 [==============================] - 0s 10ms/step - loss: 0.6867 - accuracy: 0.6154 - val_loss: 0.6925 - val_accuracy: 0.5185\n",
            "Epoch 43/100\n",
            "7/7 [==============================] - 0s 6ms/step - loss: 0.6865 - accuracy: 0.6154 - val_loss: 0.6925 - val_accuracy: 0.5185\n",
            "Epoch 44/100\n",
            "7/7 [==============================] - 0s 6ms/step - loss: 0.6864 - accuracy: 0.6154 - val_loss: 0.6925 - val_accuracy: 0.5185\n",
            "Epoch 45/100\n",
            "7/7 [==============================] - 0s 6ms/step - loss: 0.6863 - accuracy: 0.6154 - val_loss: 0.6925 - val_accuracy: 0.5185\n",
            "Epoch 46/100\n",
            "7/7 [==============================] - 0s 8ms/step - loss: 0.6861 - accuracy: 0.6154 - val_loss: 0.6925 - val_accuracy: 0.5185\n",
            "Epoch 47/100\n",
            "7/7 [==============================] - 0s 10ms/step - loss: 0.6860 - accuracy: 0.6154 - val_loss: 0.6925 - val_accuracy: 0.5185\n",
            "Epoch 48/100\n",
            "7/7 [==============================] - 0s 10ms/step - loss: 0.6859 - accuracy: 0.6154 - val_loss: 0.6925 - val_accuracy: 0.5185\n",
            "Epoch 49/100\n",
            "7/7 [==============================] - 0s 6ms/step - loss: 0.6857 - accuracy: 0.6154 - val_loss: 0.6925 - val_accuracy: 0.5185\n",
            "Epoch 50/100\n",
            "7/7 [==============================] - 0s 6ms/step - loss: 0.6856 - accuracy: 0.6154 - val_loss: 0.6925 - val_accuracy: 0.5185\n",
            "Epoch 51/100\n",
            "7/7 [==============================] - 0s 6ms/step - loss: 0.6855 - accuracy: 0.6154 - val_loss: 0.6925 - val_accuracy: 0.5185\n",
            "Epoch 52/100\n",
            "7/7 [==============================] - 0s 6ms/step - loss: 0.6853 - accuracy: 0.6154 - val_loss: 0.6925 - val_accuracy: 0.5185\n",
            "Epoch 53/100\n",
            "7/7 [==============================] - 0s 6ms/step - loss: 0.6853 - accuracy: 0.6154 - val_loss: 0.6925 - val_accuracy: 0.5185\n",
            "Epoch 54/100\n",
            "7/7 [==============================] - 0s 6ms/step - loss: 0.6852 - accuracy: 0.6154 - val_loss: 0.6925 - val_accuracy: 0.5185\n",
            "Epoch 55/100\n",
            "7/7 [==============================] - 0s 6ms/step - loss: 0.6850 - accuracy: 0.6154 - val_loss: 0.6925 - val_accuracy: 0.5185\n",
            "Epoch 56/100\n",
            "7/7 [==============================] - 0s 6ms/step - loss: 0.6849 - accuracy: 0.6154 - val_loss: 0.6925 - val_accuracy: 0.5185\n",
            "Epoch 57/100\n",
            "7/7 [==============================] - 0s 7ms/step - loss: 0.6848 - accuracy: 0.6154 - val_loss: 0.6925 - val_accuracy: 0.5185\n",
            "Epoch 58/100\n",
            "7/7 [==============================] - 0s 7ms/step - loss: 0.6847 - accuracy: 0.6154 - val_loss: 0.6925 - val_accuracy: 0.5185\n",
            "Epoch 59/100\n",
            "7/7 [==============================] - 0s 7ms/step - loss: 0.6845 - accuracy: 0.6154 - val_loss: 0.6925 - val_accuracy: 0.5185\n",
            "Epoch 60/100\n",
            "7/7 [==============================] - 0s 6ms/step - loss: 0.6844 - accuracy: 0.6154 - val_loss: 0.6925 - val_accuracy: 0.5185\n",
            "Epoch 61/100\n",
            "7/7 [==============================] - 0s 6ms/step - loss: 0.6843 - accuracy: 0.6154 - val_loss: 0.6925 - val_accuracy: 0.5185\n",
            "Epoch 62/100\n",
            "7/7 [==============================] - 0s 6ms/step - loss: 0.6842 - accuracy: 0.6154 - val_loss: 0.6925 - val_accuracy: 0.5185\n",
            "Epoch 63/100\n",
            "7/7 [==============================] - 0s 6ms/step - loss: 0.6841 - accuracy: 0.6154 - val_loss: 0.6925 - val_accuracy: 0.5185\n",
            "Epoch 64/100\n",
            "7/7 [==============================] - 0s 6ms/step - loss: 0.6839 - accuracy: 0.6154 - val_loss: 0.6925 - val_accuracy: 0.5185\n",
            "Epoch 65/100\n",
            "7/7 [==============================] - 0s 7ms/step - loss: 0.6838 - accuracy: 0.6154 - val_loss: 0.6925 - val_accuracy: 0.5185\n",
            "Epoch 66/100\n",
            "7/7 [==============================] - 0s 10ms/step - loss: 0.6837 - accuracy: 0.6154 - val_loss: 0.6925 - val_accuracy: 0.5185\n",
            "Epoch 67/100\n",
            "7/7 [==============================] - 0s 6ms/step - loss: 0.6836 - accuracy: 0.6154 - val_loss: 0.6925 - val_accuracy: 0.5185\n",
            "Epoch 68/100\n",
            "7/7 [==============================] - 0s 6ms/step - loss: 0.6835 - accuracy: 0.6154 - val_loss: 0.6925 - val_accuracy: 0.5185\n",
            "Epoch 69/100\n",
            "7/7 [==============================] - 0s 6ms/step - loss: 0.6833 - accuracy: 0.6154 - val_loss: 0.6925 - val_accuracy: 0.5185\n",
            "Epoch 70/100\n",
            "7/7 [==============================] - 0s 7ms/step - loss: 0.6832 - accuracy: 0.6154 - val_loss: 0.6925 - val_accuracy: 0.5185\n",
            "Epoch 71/100\n",
            "7/7 [==============================] - 0s 6ms/step - loss: 0.6831 - accuracy: 0.6154 - val_loss: 0.6925 - val_accuracy: 0.5185\n",
            "Epoch 72/100\n",
            "7/7 [==============================] - 0s 6ms/step - loss: 0.6830 - accuracy: 0.6154 - val_loss: 0.6925 - val_accuracy: 0.5185\n",
            "Epoch 73/100\n",
            "7/7 [==============================] - 0s 6ms/step - loss: 0.6829 - accuracy: 0.6154 - val_loss: 0.6925 - val_accuracy: 0.5185\n",
            "Epoch 74/100\n",
            "7/7 [==============================] - 0s 6ms/step - loss: 0.6828 - accuracy: 0.6154 - val_loss: 0.6926 - val_accuracy: 0.5185\n",
            "Epoch 75/100\n",
            "7/7 [==============================] - 0s 6ms/step - loss: 0.6827 - accuracy: 0.6154 - val_loss: 0.6926 - val_accuracy: 0.5185\n",
            "Epoch 76/100\n",
            "7/7 [==============================] - 0s 7ms/step - loss: 0.6825 - accuracy: 0.6154 - val_loss: 0.6926 - val_accuracy: 0.5185\n",
            "Epoch 77/100\n",
            "7/7 [==============================] - 0s 6ms/step - loss: 0.6824 - accuracy: 0.6154 - val_loss: 0.6926 - val_accuracy: 0.5185\n",
            "Epoch 78/100\n",
            "7/7 [==============================] - 0s 6ms/step - loss: 0.6823 - accuracy: 0.6154 - val_loss: 0.6926 - val_accuracy: 0.5185\n",
            "Epoch 79/100\n",
            "7/7 [==============================] - 0s 6ms/step - loss: 0.6822 - accuracy: 0.6154 - val_loss: 0.6926 - val_accuracy: 0.5185\n",
            "Epoch 80/100\n",
            "7/7 [==============================] - 0s 6ms/step - loss: 0.6821 - accuracy: 0.6154 - val_loss: 0.6926 - val_accuracy: 0.5185\n",
            "Epoch 81/100\n",
            "7/7 [==============================] - 0s 7ms/step - loss: 0.6820 - accuracy: 0.6154 - val_loss: 0.6926 - val_accuracy: 0.5185\n",
            "Epoch 82/100\n",
            "7/7 [==============================] - 0s 6ms/step - loss: 0.6819 - accuracy: 0.6154 - val_loss: 0.6926 - val_accuracy: 0.5185\n",
            "Epoch 83/100\n",
            "7/7 [==============================] - 0s 6ms/step - loss: 0.6818 - accuracy: 0.6154 - val_loss: 0.6927 - val_accuracy: 0.5185\n",
            "Epoch 84/100\n",
            "7/7 [==============================] - 0s 6ms/step - loss: 0.6817 - accuracy: 0.6154 - val_loss: 0.6927 - val_accuracy: 0.5185\n",
            "Epoch 85/100\n",
            "7/7 [==============================] - 0s 7ms/step - loss: 0.6816 - accuracy: 0.6154 - val_loss: 0.6927 - val_accuracy: 0.5185\n",
            "Epoch 86/100\n",
            "7/7 [==============================] - 0s 6ms/step - loss: 0.6814 - accuracy: 0.6154 - val_loss: 0.6927 - val_accuracy: 0.5185\n",
            "Epoch 87/100\n",
            "7/7 [==============================] - 0s 6ms/step - loss: 0.6814 - accuracy: 0.6154 - val_loss: 0.6927 - val_accuracy: 0.5185\n",
            "Epoch 88/100\n",
            "7/7 [==============================] - 0s 6ms/step - loss: 0.6812 - accuracy: 0.6154 - val_loss: 0.6927 - val_accuracy: 0.5185\n",
            "Epoch 89/100\n",
            "7/7 [==============================] - 0s 6ms/step - loss: 0.6811 - accuracy: 0.6154 - val_loss: 0.6927 - val_accuracy: 0.5185\n",
            "Epoch 90/100\n",
            "7/7 [==============================] - 0s 6ms/step - loss: 0.6811 - accuracy: 0.6154 - val_loss: 0.6927 - val_accuracy: 0.5185\n",
            "Epoch 91/100\n",
            "7/7 [==============================] - 0s 6ms/step - loss: 0.6809 - accuracy: 0.6154 - val_loss: 0.6928 - val_accuracy: 0.5185\n",
            "Epoch 92/100\n",
            "7/7 [==============================] - 0s 7ms/step - loss: 0.6808 - accuracy: 0.6154 - val_loss: 0.6928 - val_accuracy: 0.5185\n",
            "Epoch 93/100\n",
            "7/7 [==============================] - 0s 8ms/step - loss: 0.6807 - accuracy: 0.6154 - val_loss: 0.6928 - val_accuracy: 0.5185\n",
            "Epoch 94/100\n",
            "7/7 [==============================] - 0s 7ms/step - loss: 0.6806 - accuracy: 0.6154 - val_loss: 0.6928 - val_accuracy: 0.5185\n",
            "Epoch 95/100\n",
            "7/7 [==============================] - 0s 6ms/step - loss: 0.6805 - accuracy: 0.6154 - val_loss: 0.6928 - val_accuracy: 0.5185\n",
            "Epoch 96/100\n",
            "7/7 [==============================] - 0s 6ms/step - loss: 0.6804 - accuracy: 0.6154 - val_loss: 0.6928 - val_accuracy: 0.5185\n",
            "Epoch 97/100\n",
            "7/7 [==============================] - 0s 6ms/step - loss: 0.6803 - accuracy: 0.6154 - val_loss: 0.6929 - val_accuracy: 0.5185\n",
            "Epoch 98/100\n",
            "7/7 [==============================] - 0s 6ms/step - loss: 0.6802 - accuracy: 0.6154 - val_loss: 0.6929 - val_accuracy: 0.5185\n",
            "Epoch 99/100\n",
            "7/7 [==============================] - 0s 7ms/step - loss: 0.6801 - accuracy: 0.6154 - val_loss: 0.6929 - val_accuracy: 0.5185\n",
            "Epoch 100/100\n",
            "7/7 [==============================] - 0s 6ms/step - loss: 0.6800 - accuracy: 0.6154 - val_loss: 0.6929 - val_accuracy: 0.5185\n"
          ]
        }
      ]
    },
    {
      "cell_type": "code",
      "source": [
        "model20.evaluate(X_test_scaled, y_test)"
      ],
      "metadata": {
        "id": "VL39O9CUJ0aV",
        "outputId": "5871c4b9-088c-4c4d-9089-87f14ab74d44",
        "colab": {
          "base_uri": "https://localhost:8080/"
        }
      },
      "execution_count": 163,
      "outputs": [
        {
          "output_type": "stream",
          "name": "stdout",
          "text": [
            "1/1 [==============================] - 0s 20ms/step - loss: 0.6983 - accuracy: 0.4783\n"
          ]
        },
        {
          "output_type": "execute_result",
          "data": {
            "text/plain": [
              "[0.6982666254043579, 0.47826087474823]"
            ]
          },
          "metadata": {},
          "execution_count": 163
        }
      ]
    },
    {
      "cell_type": "code",
      "source": [
        "model20 = tf.keras.models.load_model(f\"/content/model_experiments/{model20.name}\")\n",
        "model20.evaluate(X_test_scaled, y_test)"
      ],
      "metadata": {
        "id": "27s6h46_ajVd",
        "outputId": "1e598d64-01aa-4202-9842-a823e71df2e9",
        "colab": {
          "base_uri": "https://localhost:8080/"
        }
      },
      "execution_count": 164,
      "outputs": [
        {
          "output_type": "stream",
          "name": "stdout",
          "text": [
            "1/1 [==============================] - 0s 138ms/step - loss: 0.6932 - accuracy: 0.4783\n"
          ]
        },
        {
          "output_type": "execute_result",
          "data": {
            "text/plain": [
              "[0.6931762099266052, 0.47826087474823]"
            ]
          },
          "metadata": {},
          "execution_count": 164
        }
      ]
    },
    {
      "cell_type": "code",
      "source": [
        "y"
      ],
      "metadata": {
        "id": "HwrvwOX0cyMf",
        "outputId": "221c4bd2-9bfa-4aad-d674-dcd740fe75c9",
        "colab": {
          "base_uri": "https://localhost:8080/"
        }
      },
      "execution_count": 165,
      "outputs": [
        {
          "output_type": "execute_result",
          "data": {
            "text/plain": [
              "0      1.0\n",
              "1      1.0\n",
              "2      0.0\n",
              "3      1.0\n",
              "4      0.0\n",
              "      ... \n",
              "175    1.0\n",
              "176    0.0\n",
              "177    1.0\n",
              "178    0.0\n",
              "179    0.0\n",
              "Name: psqi больше 5, Length: 180, dtype: float32"
            ]
          },
          "metadata": {},
          "execution_count": 165
        }
      ]
    },
    {
      "cell_type": "code",
      "source": [],
      "metadata": {
        "id": "sGr_oqlJHh4h"
      },
      "execution_count": 165,
      "outputs": []
    },
    {
      "cell_type": "code",
      "source": [],
      "metadata": {
        "id": "xSCrBKNIHh7K"
      },
      "execution_count": 165,
      "outputs": []
    },
    {
      "cell_type": "code",
      "execution_count": 166,
      "metadata": {
        "id": "jxDbWXbvvMEV",
        "outputId": "0ae2120b-e75d-4263-e731-0870127d47df",
        "colab": {
          "base_uri": "https://localhost:8080/",
          "height": 501
        }
      },
      "outputs": [
        {
          "output_type": "error",
          "ename": "KeyError",
          "evalue": "ignored",
          "traceback": [
            "\u001b[0;31m---------------------------------------------------------------------------\u001b[0m",
            "\u001b[0;31mKeyError\u001b[0m                                  Traceback (most recent call last)",
            "\u001b[0;32m/usr/local/lib/python3.7/dist-packages/pandas/core/indexes/base.py\u001b[0m in \u001b[0;36mget_loc\u001b[0;34m(self, key, method, tolerance)\u001b[0m\n\u001b[1;32m   3360\u001b[0m             \u001b[0;32mtry\u001b[0m\u001b[0;34m:\u001b[0m\u001b[0;34m\u001b[0m\u001b[0;34m\u001b[0m\u001b[0m\n\u001b[0;32m-> 3361\u001b[0;31m                 \u001b[0;32mreturn\u001b[0m \u001b[0mself\u001b[0m\u001b[0;34m.\u001b[0m\u001b[0m_engine\u001b[0m\u001b[0;34m.\u001b[0m\u001b[0mget_loc\u001b[0m\u001b[0;34m(\u001b[0m\u001b[0mcasted_key\u001b[0m\u001b[0;34m)\u001b[0m\u001b[0;34m\u001b[0m\u001b[0;34m\u001b[0m\u001b[0m\n\u001b[0m\u001b[1;32m   3362\u001b[0m             \u001b[0;32mexcept\u001b[0m \u001b[0mKeyError\u001b[0m \u001b[0;32mas\u001b[0m \u001b[0merr\u001b[0m\u001b[0;34m:\u001b[0m\u001b[0;34m\u001b[0m\u001b[0;34m\u001b[0m\u001b[0m\n",
            "\u001b[0;32m/usr/local/lib/python3.7/dist-packages/pandas/_libs/index.pyx\u001b[0m in \u001b[0;36mpandas._libs.index.IndexEngine.get_loc\u001b[0;34m()\u001b[0m\n",
            "\u001b[0;32m/usr/local/lib/python3.7/dist-packages/pandas/_libs/index.pyx\u001b[0m in \u001b[0;36mpandas._libs.index.IndexEngine.get_loc\u001b[0;34m()\u001b[0m\n",
            "\u001b[0;32mpandas/_libs/hashtable_class_helper.pxi\u001b[0m in \u001b[0;36mpandas._libs.hashtable.PyObjectHashTable.get_item\u001b[0;34m()\u001b[0m\n",
            "\u001b[0;32mpandas/_libs/hashtable_class_helper.pxi\u001b[0m in \u001b[0;36mpandas._libs.hashtable.PyObjectHashTable.get_item\u001b[0;34m()\u001b[0m\n",
            "\u001b[0;31mKeyError\u001b[0m: 'Нарушения сна больше 5'",
            "\nThe above exception was the direct cause of the following exception:\n",
            "\u001b[0;31mKeyError\u001b[0m                                  Traceback (most recent call last)",
            "\u001b[0;32m<ipython-input-166-3819433a1a35>\u001b[0m in \u001b[0;36m<module>\u001b[0;34m\u001b[0m\n\u001b[0;32m----> 1\u001b[0;31m \u001b[0my\u001b[0m \u001b[0;34m=\u001b[0m \u001b[0mdata\u001b[0m\u001b[0;34m[\u001b[0m\u001b[0;34m'Нарушения сна больше 5'\u001b[0m\u001b[0;34m]\u001b[0m\u001b[0;34m\u001b[0m\u001b[0;34m\u001b[0m\u001b[0m\n\u001b[0m\u001b[1;32m      2\u001b[0m \u001b[0;31m# X = data.drop(columns=['Нарушения сна больше 5'])\u001b[0m\u001b[0;34m\u001b[0m\u001b[0;34m\u001b[0m\u001b[0;34m\u001b[0m\u001b[0m\n\u001b[1;32m      3\u001b[0m \u001b[0;31m# X = data[['Пол', 'Удовлетворенность семейными отношениями', 'ЧМТ','Стаж шизофр', 'Образование']]\u001b[0m\u001b[0;34m\u001b[0m\u001b[0;34m\u001b[0m\u001b[0;34m\u001b[0m\u001b[0m\n\u001b[1;32m      4\u001b[0m \u001b[0mX\u001b[0m \u001b[0;34m=\u001b[0m \u001b[0mdata\u001b[0m\u001b[0;34m[\u001b[0m\u001b[0;34m[\u001b[0m\u001b[0;34m'Пол'\u001b[0m\u001b[0;34m,\u001b[0m \u001b[0;34m'Удовлетворенность семейными отношениями'\u001b[0m\u001b[0;34m,\u001b[0m \u001b[0;34m'ЧМТ'\u001b[0m\u001b[0;34m,\u001b[0m\u001b[0;34m'Стаж шизофр'\u001b[0m\u001b[0;34m,\u001b[0m \u001b[0;34m'Образование'\u001b[0m\u001b[0;34m,\u001b[0m \u001b[0;34m'Насл отягощенность'\u001b[0m\u001b[0;34m,\u001b[0m \u001b[0;34m'P'\u001b[0m\u001b[0;34m,\u001b[0m \u001b[0;34m'N'\u001b[0m\u001b[0;34m,\u001b[0m \u001b[0;34m'G'\u001b[0m\u001b[0;34m]\u001b[0m\u001b[0;34m]\u001b[0m\u001b[0;34m\u001b[0m\u001b[0;34m\u001b[0m\u001b[0m\n\u001b[1;32m      5\u001b[0m \u001b[0;31m# X = data[[ 'P', 'N', 'G']] # Only with these 3 values we can get very good result\u001b[0m\u001b[0;34m\u001b[0m\u001b[0;34m\u001b[0m\u001b[0;34m\u001b[0m\u001b[0m\n",
            "\u001b[0;32m/usr/local/lib/python3.7/dist-packages/pandas/core/frame.py\u001b[0m in \u001b[0;36m__getitem__\u001b[0;34m(self, key)\u001b[0m\n\u001b[1;32m   3456\u001b[0m             \u001b[0;32mif\u001b[0m \u001b[0mself\u001b[0m\u001b[0;34m.\u001b[0m\u001b[0mcolumns\u001b[0m\u001b[0;34m.\u001b[0m\u001b[0mnlevels\u001b[0m \u001b[0;34m>\u001b[0m \u001b[0;36m1\u001b[0m\u001b[0;34m:\u001b[0m\u001b[0;34m\u001b[0m\u001b[0;34m\u001b[0m\u001b[0m\n\u001b[1;32m   3457\u001b[0m                 \u001b[0;32mreturn\u001b[0m \u001b[0mself\u001b[0m\u001b[0;34m.\u001b[0m\u001b[0m_getitem_multilevel\u001b[0m\u001b[0;34m(\u001b[0m\u001b[0mkey\u001b[0m\u001b[0;34m)\u001b[0m\u001b[0;34m\u001b[0m\u001b[0;34m\u001b[0m\u001b[0m\n\u001b[0;32m-> 3458\u001b[0;31m             \u001b[0mindexer\u001b[0m \u001b[0;34m=\u001b[0m \u001b[0mself\u001b[0m\u001b[0;34m.\u001b[0m\u001b[0mcolumns\u001b[0m\u001b[0;34m.\u001b[0m\u001b[0mget_loc\u001b[0m\u001b[0;34m(\u001b[0m\u001b[0mkey\u001b[0m\u001b[0;34m)\u001b[0m\u001b[0;34m\u001b[0m\u001b[0;34m\u001b[0m\u001b[0m\n\u001b[0m\u001b[1;32m   3459\u001b[0m             \u001b[0;32mif\u001b[0m \u001b[0mis_integer\u001b[0m\u001b[0;34m(\u001b[0m\u001b[0mindexer\u001b[0m\u001b[0;34m)\u001b[0m\u001b[0;34m:\u001b[0m\u001b[0;34m\u001b[0m\u001b[0;34m\u001b[0m\u001b[0m\n\u001b[1;32m   3460\u001b[0m                 \u001b[0mindexer\u001b[0m \u001b[0;34m=\u001b[0m \u001b[0;34m[\u001b[0m\u001b[0mindexer\u001b[0m\u001b[0;34m]\u001b[0m\u001b[0;34m\u001b[0m\u001b[0;34m\u001b[0m\u001b[0m\n",
            "\u001b[0;32m/usr/local/lib/python3.7/dist-packages/pandas/core/indexes/base.py\u001b[0m in \u001b[0;36mget_loc\u001b[0;34m(self, key, method, tolerance)\u001b[0m\n\u001b[1;32m   3361\u001b[0m                 \u001b[0;32mreturn\u001b[0m \u001b[0mself\u001b[0m\u001b[0;34m.\u001b[0m\u001b[0m_engine\u001b[0m\u001b[0;34m.\u001b[0m\u001b[0mget_loc\u001b[0m\u001b[0;34m(\u001b[0m\u001b[0mcasted_key\u001b[0m\u001b[0;34m)\u001b[0m\u001b[0;34m\u001b[0m\u001b[0;34m\u001b[0m\u001b[0m\n\u001b[1;32m   3362\u001b[0m             \u001b[0;32mexcept\u001b[0m \u001b[0mKeyError\u001b[0m \u001b[0;32mas\u001b[0m \u001b[0merr\u001b[0m\u001b[0;34m:\u001b[0m\u001b[0;34m\u001b[0m\u001b[0;34m\u001b[0m\u001b[0m\n\u001b[0;32m-> 3363\u001b[0;31m                 \u001b[0;32mraise\u001b[0m \u001b[0mKeyError\u001b[0m\u001b[0;34m(\u001b[0m\u001b[0mkey\u001b[0m\u001b[0;34m)\u001b[0m \u001b[0;32mfrom\u001b[0m \u001b[0merr\u001b[0m\u001b[0;34m\u001b[0m\u001b[0;34m\u001b[0m\u001b[0m\n\u001b[0m\u001b[1;32m   3364\u001b[0m \u001b[0;34m\u001b[0m\u001b[0m\n\u001b[1;32m   3365\u001b[0m         \u001b[0;32mif\u001b[0m \u001b[0mis_scalar\u001b[0m\u001b[0;34m(\u001b[0m\u001b[0mkey\u001b[0m\u001b[0;34m)\u001b[0m \u001b[0;32mand\u001b[0m \u001b[0misna\u001b[0m\u001b[0;34m(\u001b[0m\u001b[0mkey\u001b[0m\u001b[0;34m)\u001b[0m \u001b[0;32mand\u001b[0m \u001b[0;32mnot\u001b[0m \u001b[0mself\u001b[0m\u001b[0;34m.\u001b[0m\u001b[0mhasnans\u001b[0m\u001b[0;34m:\u001b[0m\u001b[0;34m\u001b[0m\u001b[0;34m\u001b[0m\u001b[0m\n",
            "\u001b[0;31mKeyError\u001b[0m: 'Нарушения сна больше 5'"
          ]
        }
      ],
      "source": [
        "y = data['Нарушения сна больше 5']\n",
        "# X = data.drop(columns=['Нарушения сна больше 5'])\n",
        "# X = data[['Пол', 'Удовлетворенность семейными отношениями', 'ЧМТ','Стаж шизофр', 'Образование']]\n",
        "X = data[['Пол', 'Удовлетворенность семейными отношениями', 'ЧМТ','Стаж шизофр', 'Образование', 'Насл отягощенность', 'P', 'N', 'G']]\n",
        "# X = data[[ 'P', 'N', 'G']] # Only with these 3 values we can get very good result\n",
        "\n",
        "X_train, X_valid, y_train, y_valid = train_test_split(X, y, test_size=0.2)"
      ]
    },
    {
      "cell_type": "code",
      "execution_count": null,
      "metadata": {
        "id": "7kZTjgK7vMG8"
      },
      "outputs": [],
      "source": [
        "# Scale X from 0 to 1\n",
        "from sklearn.preprocessing import StandardScaler\n",
        "from sklearn.preprocessing import MinMaxScaler\n",
        "# scaler = StandardScaler()\n",
        "minmax_scaler = MinMaxScaler()\n",
        "\n",
        "# X_train_scaled = scaler.fit_transform(X_train)\n",
        "# X_valid_scaled = scaler.transform(X_valid)\n",
        "\n",
        "X_train_scaled = minmax_scaler.fit_transform(X_train)\n",
        "X_valid_scaled = minmax_scaler.transform(X_valid)"
      ]
    },
    {
      "cell_type": "code",
      "execution_count": null,
      "metadata": {
        "id": "yOQOcCCXPrrL"
      },
      "outputs": [],
      "source": [
        "tf.random.set_seed(42)\n",
        "\n",
        "model = tf.keras.Sequential([\n",
        "    tf.keras.layers.Dense(10, activation='relu'),\n",
        "    tf.keras.layers.Dense(10, activation='relu'),\n",
        "    # tf.keras.layers.Dense(10, activation='relu'),\n",
        "\n",
        "    # tf.keras.layers.Dense(256, activation='relu'),\n",
        "    tf.keras.layers.Dense(1, activation='sigmoid')\n",
        "])\n",
        "\n",
        "model.compile(\n",
        "    loss=tf.keras.losses.binary_crossentropy,\n",
        "    optimizer=tf.keras.optimizers.Adam(lr=0.003), # lr=0.003\n",
        "    metrics=[\"accuracy\"]\n",
        ")\n",
        "\n",
        "# Create a learning rate callback\n",
        "lr_scheduler = tf.keras.callbacks.LearningRateScheduler(lambda epoch: 1e-4 * 10**(epoch/20)) # Learning rate will increase at each epoch\n",
        "\n",
        "history0 = model.fit(X_train_scaled, \n",
        "                    y_train, \n",
        "                    epochs=50,\n",
        "                    validation_data = (X_valid_scaled, y_valid),\n",
        "                    callbacks=[lr_scheduler])"
      ]
    },
    {
      "cell_type": "code",
      "execution_count": null,
      "metadata": {
        "id": "QVMn6WFCPEHX"
      },
      "outputs": [],
      "source": [
        "import matplotlib.pyplot as plt\n",
        "\n",
        "# Plot the validation and training data separately\n",
        "def plot_loss_curves(history):\n",
        "  \"\"\"\n",
        "  Returns separate loss curves for training and validation metrics.\n",
        "  \"\"\" \n",
        "  loss = history.history['loss']\n",
        "  val_loss = history.history['val_loss']\n",
        "\n",
        "  accuracy = history.history['accuracy']\n",
        "  val_accuracy = history.history['val_accuracy']\n",
        "\n",
        "  epochs = range(len(history.history['loss']))\n",
        "\n",
        "  # Plot loss\n",
        "  plt.plot(epochs, loss, label='training_loss')\n",
        "  plt.plot(epochs, val_loss, label='val_loss')\n",
        "  plt.title('Loss')\n",
        "  plt.xlabel('Epochs')\n",
        "  plt.legend()\n",
        "\n",
        "  # Plot accuracy\n",
        "  plt.figure()\n",
        "  plt.plot(epochs, accuracy, label='training_accuracy')\n",
        "  plt.plot(epochs, val_accuracy, label='val_accuracy')\n",
        "  plt.title('Accuracy')\n",
        "  plt.xlabel('Epochs')\n",
        "  plt.legend();\n"
      ]
    },
    {
      "cell_type": "code",
      "execution_count": null,
      "metadata": {
        "id": "3zFAGeTMPvxf"
      },
      "outputs": [],
      "source": [
        "plot_loss_curves(history0)"
      ]
    },
    {
      "cell_type": "markdown",
      "metadata": {
        "id": "dXokhoC2PwQk"
      },
      "source": [
        "### Find bels LR"
      ]
    },
    {
      "cell_type": "code",
      "execution_count": null,
      "metadata": {
        "id": "hH0ZyOMevW6o"
      },
      "outputs": [],
      "source": [
        "tf.random.set_seed(42)\n",
        "\n",
        "model = tf.keras.Sequential([\n",
        "    tf.keras.layers.Dense(10, activation='relu'),\n",
        "    tf.keras.layers.Dense(10, activation='relu'),\n",
        "    # tf.keras.layers.Dense(10, activation='relu'),\n",
        "\n",
        "    # tf.keras.layers.Dense(256, activation='relu'),\n",
        "    tf.keras.layers.Dense(1, activation='sigmoid')\n",
        "])\n",
        "\n",
        "model.compile(\n",
        "    loss=tf.keras.losses.binary_crossentropy,\n",
        "    optimizer=tf.keras.optimizers.Adam(), # lr=0.003\n",
        "    metrics=[\"accuracy\"]\n",
        ")\n",
        "\n",
        "# Create a learning rate callback\n",
        "lr_scheduler = tf.keras.callbacks.LearningRateScheduler(lambda epoch: 1e-4 * 10**(epoch/20)) # Learning rate will increase at each epoch\n",
        "\n",
        "history_lr = model.fit(X_train_scaled, \n",
        "                    y_train, \n",
        "                    epochs=100,\n",
        "                    validation_data = (X_valid_scaled, y_valid),\n",
        "                    callbacks=[lr_scheduler])"
      ]
    },
    {
      "cell_type": "code",
      "execution_count": null,
      "metadata": {
        "id": "hWTprQ0aOC_S"
      },
      "outputs": [],
      "source": [
        "import matplotlib.pyplot as plt\n",
        "\n",
        "# Plot the learning rate vs loss\n",
        "lrs = 1e-4 * (10 ** (tf.range(100)/20))\n",
        "plt.figure(figsize=(10, 7))\n",
        "plt.semilogx(lrs, history_lr.history[\"loss\"]) # lrs - x-axis, history - y-axis\n",
        "plt.xlabel(\"Learning rate\")\n",
        "plt.ylabel(\"Loss\")\n",
        "plt.title(\"Learning rate vs. loss\")"
      ]
    },
    {
      "cell_type": "code",
      "execution_count": null,
      "metadata": {
        "id": "EPZdm2LqvMQs"
      },
      "outputs": [],
      "source": [
        "tf.random.set_seed(42)\n",
        "\n",
        "model = tf.keras.Sequential([\n",
        "    tf.keras.layers.Dense(20, activation='relu'),\n",
        "    tf.keras.layers.Dense(20, activation='relu'),\n",
        "    tf.keras.layers.Dense(20, activation='relu'),\n",
        "    # tf.keras.layers.Dense(10, activation='relu'),\n",
        "\n",
        "    # tf.keras.layers.Dense(256, activation='relu'),\n",
        "    tf.keras.layers.Dense(1, activation='sigmoid')\n",
        "])\n",
        "\n",
        "model.compile(\n",
        "    loss=tf.keras.losses.binary_crossentropy,\n",
        "    optimizer=tf.keras.optimizers.Adam(0.03),\n",
        "    metrics=[\"accuracy\"]\n",
        ")\n",
        "\n",
        "\n",
        "history1 = model.fit(X_train_scaled, \n",
        "                    y_train, \n",
        "                    epochs=50,\n",
        "                    validation_data = (X_valid_scaled, y_valid))"
      ]
    },
    {
      "cell_type": "code",
      "execution_count": null,
      "metadata": {
        "id": "mJCjkFO-Pb3f"
      },
      "outputs": [],
      "source": [
        "plot_loss_curves(history1)"
      ]
    },
    {
      "cell_type": "code",
      "execution_count": null,
      "metadata": {
        "id": "H1n34k49Pebz"
      },
      "outputs": [],
      "source": []
    },
    {
      "cell_type": "code",
      "execution_count": null,
      "metadata": {
        "id": "lqB5o19TPfeV"
      },
      "outputs": [],
      "source": []
    },
    {
      "cell_type": "code",
      "execution_count": null,
      "metadata": {
        "id": "pofTvAKuPfhO"
      },
      "outputs": [],
      "source": []
    },
    {
      "cell_type": "code",
      "execution_count": null,
      "metadata": {
        "id": "3XzO4JMrPfjd"
      },
      "outputs": [],
      "source": []
    },
    {
      "cell_type": "code",
      "execution_count": null,
      "metadata": {
        "id": "gtdAN5vAPfmH"
      },
      "outputs": [],
      "source": []
    },
    {
      "cell_type": "code",
      "execution_count": null,
      "metadata": {
        "id": "sMlFZkEuPCer"
      },
      "outputs": [],
      "source": []
    },
    {
      "cell_type": "code",
      "execution_count": null,
      "metadata": {
        "id": "8jzqVz0-vMSw"
      },
      "outputs": [],
      "source": [
        " "
      ]
    },
    {
      "cell_type": "code",
      "execution_count": null,
      "metadata": {
        "id": "-AdEsLsQhl-L"
      },
      "outputs": [],
      "source": [
        "train_data = data[:121] # 70%\n",
        "validation_data = data[121:155] # 20%\n",
        "test_data = data[155:174] # 10%"
      ]
    },
    {
      "cell_type": "code",
      "execution_count": null,
      "metadata": {
        "id": "oD1BAgypjWbC"
      },
      "outputs": [],
      "source": [
        "y_train = train_data['Нарушения сна больше 5']\n",
        "y_validation = validation_data['Нарушения сна больше 5']\n",
        "y_test = test_data['Нарушения сна больше 5']\n",
        "\n",
        "X_train = train_data[['Пол', 'Удовлетворенность семейными отношениями', 'ЧМТ','Стаж шизофр', 'Образование', 'Насл отягощенность', 'P', 'N', 'G']]\n",
        "X_validation = validation_data[['Пол', 'Удовлетворенность семейными отношениями', 'ЧМТ','Стаж шизофр', 'Образование', 'Насл отягощенность', 'P', 'N', 'G']]\n",
        "X_test = test_data[['Пол', 'Удовлетворенность семейными отношениями', 'ЧМТ','Стаж шизофр', 'Образование', 'Насл отягощенность', 'P', 'N', 'G']]"
      ]
    },
    {
      "cell_type": "code",
      "execution_count": null,
      "metadata": {
        "id": "Dgi-q_Iujyt-"
      },
      "outputs": [],
      "source": [
        "len(y_train), len(y_validation), len(y_test)"
      ]
    },
    {
      "cell_type": "code",
      "execution_count": null,
      "metadata": {
        "id": "4w3owV7dhnfn"
      },
      "outputs": [],
      "source": [
        "# y = data['Нарушения сна']\n",
        "# # X = data.drop(columns=['Нарушения сна'])\n",
        "# # X = data[['Пол', 'Удовлетворенность семейными отношениями', 'ЧМТ','Стаж шизофр', 'Образование']]\n",
        "# # X = data[['Пол', 'Удовлетворенность семейными отношениями', 'ЧМТ','Стаж шизофр', 'Образование', 'Насл отягощенность', 'P', 'N', 'G']]\n",
        "# X = data[[ 'P', 'N', 'G']] # Only with these 3 values we can get very good result\n",
        "\n",
        "# X_train, X_test, y_train, y_test = train_test_split(X, y, test_size=0.2,)"
      ]
    },
    {
      "cell_type": "code",
      "execution_count": null,
      "metadata": {
        "id": "S5EEQckhaLgC"
      },
      "outputs": [],
      "source": [
        "# Scale X from 0 to 1\n",
        "from sklearn.preprocessing import StandardScaler\n",
        "\n",
        "scaler = StandardScaler()\n",
        "X_train_scaled = scaler.fit_transform(X_train)\n",
        "X_validation_scaled = scaler.fit_transform(X_validation)\n",
        "X_test_scaled = scaler.transform(X_test)"
      ]
    },
    {
      "cell_type": "code",
      "execution_count": null,
      "metadata": {
        "id": "QVjPP8UokzzF"
      },
      "outputs": [],
      "source": [
        "tf.random.set_seed(42)\n",
        "\n",
        "model = tf.keras.Sequential([\n",
        "    tf.keras.layers.Dense(100, activation='relu'),\n",
        "    tf.keras.layers.Dense(100, activation='relu'),\n",
        "    tf.keras.layers.Dense(100, activation='relu'),\n",
        "\n",
        "    # tf.keras.layers.Dense(256, activation='relu'),\n",
        "    tf.keras.layers.Dense(1, activation='sigmoid')\n",
        "])\n",
        "\n",
        "model.compile(\n",
        "    loss=tf.keras.losses.binary_crossentropy,\n",
        "    optimizer=tf.keras.optimizers.Adam(), # lr=0.03\n",
        "    metrics=[\"accuracy\"]\n",
        ")\n",
        "\n",
        "history = model.fit(X_train_scaled, \n",
        "                    y_train, \n",
        "                    epochs=50,\n",
        "                    validation_data = (X_validation_scaled, y_validation))"
      ]
    },
    {
      "cell_type": "code",
      "execution_count": null,
      "metadata": {
        "id": "kc5mFrJQhMsd"
      },
      "outputs": [],
      "source": []
    },
    {
      "cell_type": "code",
      "execution_count": null,
      "metadata": {
        "id": "DEAMkOEmhOE9"
      },
      "outputs": [],
      "source": [
        "plot_loss_curves(history)"
      ]
    },
    {
      "cell_type": "code",
      "execution_count": null,
      "metadata": {
        "id": "1yZGlBKrhNN1"
      },
      "outputs": [],
      "source": []
    },
    {
      "cell_type": "markdown",
      "metadata": {
        "id": "CrA_ArvkOh9c"
      },
      "source": [
        "### It is very likely that the model has overfitted. It is necessary to add data augmentation, validation data, visualization\n",
        "Find best lr\n",
        "\n",
        "Вывести наиболее значимые характеристики\n",
        "\n",
        "\n",
        "\n",
        "Check result on different scalers. For example:\n",
        "\n",
        "1) Min Max Scaler (try it)\n",
        "\n",
        "2) Standard Scaler\n",
        "\n",
        "3) Max Abs Scaler\n",
        "\n",
        "4) Robust Scaler\n",
        "\n",
        "5) Quantile Transformer Scaler\n",
        "\n",
        "6) Power Transformer Scaler\n",
        "\n",
        "7) Unit Vector Scaler\n",
        "\n"
      ]
    },
    {
      "cell_type": "code",
      "execution_count": null,
      "metadata": {
        "id": "io90TB1dlcBf"
      },
      "outputs": [],
      "source": []
    },
    {
      "cell_type": "code",
      "execution_count": null,
      "metadata": {
        "id": "DDAqLqo5DT74"
      },
      "outputs": [],
      "source": []
    },
    {
      "cell_type": "code",
      "execution_count": null,
      "metadata": {
        "id": "rNhuw9AgDT-L"
      },
      "outputs": [],
      "source": [
        "# Let's try to use 'Нарушения сна' as y value\n",
        "data = ds.drop(columns=['Тревога больше 7', 'Madrs больше 6', 'Калгари больше 5'])\n",
        "y = data['Нарушения сна больше 5']\n",
        "# X = data.drop(columns=['Нарушения сна'])\n",
        "X = data[['Пол', 'Удовлетворенность семейными отношениями', 'ЧМТ','Стаж шизофр', 'Образование', 'Насл отягощенность', 'P', 'N', 'G']] # 'Были ли нарушения сна', \n",
        "\n",
        "X_train, X_test, y_train, y_test = train_test_split(X, y, test_size=0.2,)\n",
        "\n",
        "# Scale X from 0 to 1\n",
        "scaler2 = StandardScaler()\n",
        "\n",
        "X_train_scaled = scaler2.fit_transform(X_train)\n",
        "X_test_scaled = scaler2.transform(X_test)"
      ]
    },
    {
      "cell_type": "code",
      "execution_count": null,
      "metadata": {
        "id": "xR0dXD6DEdDg"
      },
      "outputs": [],
      "source": [
        "X_train_scaled"
      ]
    },
    {
      "cell_type": "code",
      "execution_count": null,
      "metadata": {
        "id": "SKvqJHX3DWyj"
      },
      "outputs": [],
      "source": [
        "tf.random.set_seed(42)\n",
        "\n",
        "model2 = tf.keras.Sequential([\n",
        "    tf.keras.layers.Dense(100, activation='relu'),\n",
        "    tf.keras.layers.Dense(100, activation='relu'),\n",
        "    tf.keras.layers.Dense(100, activation='relu'),\n",
        "\n",
        "    # tf.keras.layers.Dense(256, activation='relu'),\n",
        "    tf.keras.layers.Dense(1, activation='sigmoid')\n",
        "])\n",
        "\n",
        "model2.compile(\n",
        "    loss=tf.keras.losses.binary_crossentropy,\n",
        "    optimizer=tf.keras.optimizers.Adam(), # lr=0.03\n",
        "    metrics=[\"accuracy\"]\n",
        ")\n",
        "\n",
        "history2 = model2.fit(X_train_scaled, y_train, epochs=50)"
      ]
    },
    {
      "cell_type": "code",
      "execution_count": null,
      "metadata": {
        "id": "CGzI7qA1DrxS"
      },
      "outputs": [],
      "source": []
    }
  ],
  "metadata": {
    "colab": {
      "name": "mental_disorders.ipynb",
      "provenance": [],
      "include_colab_link": true
    },
    "kernelspec": {
      "display_name": "Python 3",
      "name": "python3"
    },
    "language_info": {
      "name": "python"
    }
  },
  "nbformat": 4,
  "nbformat_minor": 0
}