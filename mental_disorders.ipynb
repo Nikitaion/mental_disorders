{
  "nbformat": 4,
  "nbformat_minor": 0,
  "metadata": {
    "colab": {
      "name": "mental_disorders.ipynb",
      "provenance": [],
      "authorship_tag": "ABX9TyMITRb6iVex3fgrLS8MEr4g",
      "include_colab_link": true
    },
    "kernelspec": {
      "name": "python3",
      "display_name": "Python 3"
    },
    "language_info": {
      "name": "python"
    }
  },
  "cells": [
    {
      "cell_type": "markdown",
      "metadata": {
        "id": "view-in-github",
        "colab_type": "text"
      },
      "source": [
        "<a href=\"https://colab.research.google.com/github/Nikitaion/mental_disorders/blob/main/mental_disorders.ipynb\" target=\"_parent\"><img src=\"https://colab.research.google.com/assets/colab-badge.svg\" alt=\"Open In Colab\"/></a>"
      ]
    },
    {
      "cell_type": "code",
      "execution_count": 1,
      "metadata": {
        "colab": {
          "base_uri": "https://localhost:8080/"
        },
        "id": "xviXFSvcd-gZ",
        "outputId": "839c8c73-a5dd-4d09-a59c-3142724dfef9"
      },
      "outputs": [
        {
          "output_type": "stream",
          "name": "stdout",
          "text": [
            "--2022-04-23 18:50:34--  https://raw.githubusercontent.com/Nikitaion/mental_disorders/main/data/mental_disorders_with_manual_handling.csv\n",
            "Resolving raw.githubusercontent.com (raw.githubusercontent.com)... 185.199.108.133, 185.199.109.133, 185.199.110.133, ...\n",
            "Connecting to raw.githubusercontent.com (raw.githubusercontent.com)|185.199.108.133|:443... connected.\n",
            "HTTP request sent, awaiting response... 200 OK\n",
            "Length: 60331 (59K) [text/plain]\n",
            "Saving to: ‘ds.csv’\n",
            "\n",
            "ds.csv              100%[===================>]  58.92K  --.-KB/s    in 0.01s   \n",
            "\n",
            "2022-04-23 18:50:34 (5.15 MB/s) - ‘ds.csv’ saved [60331/60331]\n",
            "\n"
          ]
        }
      ],
      "source": [
        "!wget https://raw.githubusercontent.com/Nikitaion/mental_disorders/main/data/mental_disorders_with_manual_handling.csv -O ds.csv"
      ]
    },
    {
      "cell_type": "code",
      "source": [
        "import tensorflow as tf\n",
        "print(f\"Tensorflow version: {tf.__version__}\")\n",
        "\n",
        "import pandas as pd\n",
        "import numpy as np\n",
        "\n",
        "from sklearn.model_selection import  train_test_split\n",
        "\n",
        "from sklearn.preprocessing import StandardScaler\n"
      ],
      "metadata": {
        "colab": {
          "base_uri": "https://localhost:8080/"
        },
        "id": "w6YXg1QZeuWS",
        "outputId": "99e5f519-6e29-42bb-823e-58dd872d3443"
      },
      "execution_count": 2,
      "outputs": [
        {
          "output_type": "stream",
          "name": "stdout",
          "text": [
            "Tensorflow version: 2.8.0\n"
          ]
        }
      ]
    },
    {
      "cell_type": "code",
      "source": [
        "ds = pd.read_csv(\"/content/ds.csv\")\n",
        "ds.head()"
      ],
      "metadata": {
        "colab": {
          "base_uri": "https://localhost:8080/",
          "height": 383
        },
        "id": "0lKSFBRwg3oI",
        "outputId": "ea6fbc4e-d303-4947-dd96-ed1f87a66139"
      },
      "execution_count": 3,
      "outputs": [
        {
          "output_type": "execute_result",
          "data": {
            "text/plain": [
              "  Нарушения сна Тревога Депрессия Пол  Полных лет Образование  Род занятий  \\\n",
              "0            да     нет       нет   М          32      высшее  не работает   \n",
              "1            да     нет        да   М          26     среднее  не работает   \n",
              "2           нет     нет       нет   М          49     среднее  не работает   \n",
              "3            да     нет       нет   М          50     среднее  не работает   \n",
              "4            да     нет       нет   М          27     среднее     Работает   \n",
              "\n",
              "  Семейное положение  Здоровье от 1 до 10  \\\n",
              "0             Холост                  7.0   \n",
              "1             Холост                 10.0   \n",
              "2           Разведен                 10.0   \n",
              "3             Холост                  7.0   \n",
              "4           Разведен                  9.0   \n",
              "\n",
              "   Удовлетворенность семейными отношениями  ... Т. пупок Т. грудь  Т. бицепс  \\\n",
              "0                                        5  ...     20.0     10.0       10.0   \n",
              "1                                        5  ...     10.0     10.0        5.0   \n",
              "2                                        5  ...     20.0     20.0       32.0   \n",
              "3                                        5  ...     30.0     10.0       15.0   \n",
              "4                                        5  ...     10.0      8.0       10.0   \n",
              "\n",
              "   Т. трицепс Т.предпл Т. бедро Т. икра   ESS шкала общего клин впечатления  \\\n",
              "0        24.0      6.0     22.0    24.0   3.0                           3.0   \n",
              "1        12.0      4.0      7.0    12.0   1.0                           4.0   \n",
              "2        34.0      6.0     50.0    28.0   1.0                           3.0   \n",
              "3        20.0      5.0     10.0    10.0   6.0                           4.0   \n",
              "4        18.0      4.0     28.0     8.0  10.0                           3.0   \n",
              "\n",
              "  шкала соц функционир  \n",
              "0                 70.0  \n",
              "1                 60.0  \n",
              "2                 60.0  \n",
              "3                 60.0  \n",
              "4                 70.0  \n",
              "\n",
              "[5 rows x 50 columns]"
            ],
            "text/html": [
              "\n",
              "  <div id=\"df-1f9368a1-5ee4-45c9-9df1-976eee136f16\">\n",
              "    <div class=\"colab-df-container\">\n",
              "      <div>\n",
              "<style scoped>\n",
              "    .dataframe tbody tr th:only-of-type {\n",
              "        vertical-align: middle;\n",
              "    }\n",
              "\n",
              "    .dataframe tbody tr th {\n",
              "        vertical-align: top;\n",
              "    }\n",
              "\n",
              "    .dataframe thead th {\n",
              "        text-align: right;\n",
              "    }\n",
              "</style>\n",
              "<table border=\"1\" class=\"dataframe\">\n",
              "  <thead>\n",
              "    <tr style=\"text-align: right;\">\n",
              "      <th></th>\n",
              "      <th>Нарушения сна</th>\n",
              "      <th>Тревога</th>\n",
              "      <th>Депрессия</th>\n",
              "      <th>Пол</th>\n",
              "      <th>Полных лет</th>\n",
              "      <th>Образование</th>\n",
              "      <th>Род занятий</th>\n",
              "      <th>Семейное положение</th>\n",
              "      <th>Здоровье от 1 до 10</th>\n",
              "      <th>Удовлетворенность семейными отношениями</th>\n",
              "      <th>...</th>\n",
              "      <th>Т. пупок</th>\n",
              "      <th>Т. грудь</th>\n",
              "      <th>Т. бицепс</th>\n",
              "      <th>Т. трицепс</th>\n",
              "      <th>Т.предпл</th>\n",
              "      <th>Т. бедро</th>\n",
              "      <th>Т. икра</th>\n",
              "      <th>ESS</th>\n",
              "      <th>шкала общего клин впечатления</th>\n",
              "      <th>шкала соц функционир</th>\n",
              "    </tr>\n",
              "  </thead>\n",
              "  <tbody>\n",
              "    <tr>\n",
              "      <th>0</th>\n",
              "      <td>да</td>\n",
              "      <td>нет</td>\n",
              "      <td>нет</td>\n",
              "      <td>М</td>\n",
              "      <td>32</td>\n",
              "      <td>высшее</td>\n",
              "      <td>не работает</td>\n",
              "      <td>Холост</td>\n",
              "      <td>7.0</td>\n",
              "      <td>5</td>\n",
              "      <td>...</td>\n",
              "      <td>20.0</td>\n",
              "      <td>10.0</td>\n",
              "      <td>10.0</td>\n",
              "      <td>24.0</td>\n",
              "      <td>6.0</td>\n",
              "      <td>22.0</td>\n",
              "      <td>24.0</td>\n",
              "      <td>3.0</td>\n",
              "      <td>3.0</td>\n",
              "      <td>70.0</td>\n",
              "    </tr>\n",
              "    <tr>\n",
              "      <th>1</th>\n",
              "      <td>да</td>\n",
              "      <td>нет</td>\n",
              "      <td>да</td>\n",
              "      <td>М</td>\n",
              "      <td>26</td>\n",
              "      <td>среднее</td>\n",
              "      <td>не работает</td>\n",
              "      <td>Холост</td>\n",
              "      <td>10.0</td>\n",
              "      <td>5</td>\n",
              "      <td>...</td>\n",
              "      <td>10.0</td>\n",
              "      <td>10.0</td>\n",
              "      <td>5.0</td>\n",
              "      <td>12.0</td>\n",
              "      <td>4.0</td>\n",
              "      <td>7.0</td>\n",
              "      <td>12.0</td>\n",
              "      <td>1.0</td>\n",
              "      <td>4.0</td>\n",
              "      <td>60.0</td>\n",
              "    </tr>\n",
              "    <tr>\n",
              "      <th>2</th>\n",
              "      <td>нет</td>\n",
              "      <td>нет</td>\n",
              "      <td>нет</td>\n",
              "      <td>М</td>\n",
              "      <td>49</td>\n",
              "      <td>среднее</td>\n",
              "      <td>не работает</td>\n",
              "      <td>Разведен</td>\n",
              "      <td>10.0</td>\n",
              "      <td>5</td>\n",
              "      <td>...</td>\n",
              "      <td>20.0</td>\n",
              "      <td>20.0</td>\n",
              "      <td>32.0</td>\n",
              "      <td>34.0</td>\n",
              "      <td>6.0</td>\n",
              "      <td>50.0</td>\n",
              "      <td>28.0</td>\n",
              "      <td>1.0</td>\n",
              "      <td>3.0</td>\n",
              "      <td>60.0</td>\n",
              "    </tr>\n",
              "    <tr>\n",
              "      <th>3</th>\n",
              "      <td>да</td>\n",
              "      <td>нет</td>\n",
              "      <td>нет</td>\n",
              "      <td>М</td>\n",
              "      <td>50</td>\n",
              "      <td>среднее</td>\n",
              "      <td>не работает</td>\n",
              "      <td>Холост</td>\n",
              "      <td>7.0</td>\n",
              "      <td>5</td>\n",
              "      <td>...</td>\n",
              "      <td>30.0</td>\n",
              "      <td>10.0</td>\n",
              "      <td>15.0</td>\n",
              "      <td>20.0</td>\n",
              "      <td>5.0</td>\n",
              "      <td>10.0</td>\n",
              "      <td>10.0</td>\n",
              "      <td>6.0</td>\n",
              "      <td>4.0</td>\n",
              "      <td>60.0</td>\n",
              "    </tr>\n",
              "    <tr>\n",
              "      <th>4</th>\n",
              "      <td>да</td>\n",
              "      <td>нет</td>\n",
              "      <td>нет</td>\n",
              "      <td>М</td>\n",
              "      <td>27</td>\n",
              "      <td>среднее</td>\n",
              "      <td>Работает</td>\n",
              "      <td>Разведен</td>\n",
              "      <td>9.0</td>\n",
              "      <td>5</td>\n",
              "      <td>...</td>\n",
              "      <td>10.0</td>\n",
              "      <td>8.0</td>\n",
              "      <td>10.0</td>\n",
              "      <td>18.0</td>\n",
              "      <td>4.0</td>\n",
              "      <td>28.0</td>\n",
              "      <td>8.0</td>\n",
              "      <td>10.0</td>\n",
              "      <td>3.0</td>\n",
              "      <td>70.0</td>\n",
              "    </tr>\n",
              "  </tbody>\n",
              "</table>\n",
              "<p>5 rows × 50 columns</p>\n",
              "</div>\n",
              "      <button class=\"colab-df-convert\" onclick=\"convertToInteractive('df-1f9368a1-5ee4-45c9-9df1-976eee136f16')\"\n",
              "              title=\"Convert this dataframe to an interactive table.\"\n",
              "              style=\"display:none;\">\n",
              "        \n",
              "  <svg xmlns=\"http://www.w3.org/2000/svg\" height=\"24px\"viewBox=\"0 0 24 24\"\n",
              "       width=\"24px\">\n",
              "    <path d=\"M0 0h24v24H0V0z\" fill=\"none\"/>\n",
              "    <path d=\"M18.56 5.44l.94 2.06.94-2.06 2.06-.94-2.06-.94-.94-2.06-.94 2.06-2.06.94zm-11 1L8.5 8.5l.94-2.06 2.06-.94-2.06-.94L8.5 2.5l-.94 2.06-2.06.94zm10 10l.94 2.06.94-2.06 2.06-.94-2.06-.94-.94-2.06-.94 2.06-2.06.94z\"/><path d=\"M17.41 7.96l-1.37-1.37c-.4-.4-.92-.59-1.43-.59-.52 0-1.04.2-1.43.59L10.3 9.45l-7.72 7.72c-.78.78-.78 2.05 0 2.83L4 21.41c.39.39.9.59 1.41.59.51 0 1.02-.2 1.41-.59l7.78-7.78 2.81-2.81c.8-.78.8-2.07 0-2.86zM5.41 20L4 18.59l7.72-7.72 1.47 1.35L5.41 20z\"/>\n",
              "  </svg>\n",
              "      </button>\n",
              "      \n",
              "  <style>\n",
              "    .colab-df-container {\n",
              "      display:flex;\n",
              "      flex-wrap:wrap;\n",
              "      gap: 12px;\n",
              "    }\n",
              "\n",
              "    .colab-df-convert {\n",
              "      background-color: #E8F0FE;\n",
              "      border: none;\n",
              "      border-radius: 50%;\n",
              "      cursor: pointer;\n",
              "      display: none;\n",
              "      fill: #1967D2;\n",
              "      height: 32px;\n",
              "      padding: 0 0 0 0;\n",
              "      width: 32px;\n",
              "    }\n",
              "\n",
              "    .colab-df-convert:hover {\n",
              "      background-color: #E2EBFA;\n",
              "      box-shadow: 0px 1px 2px rgba(60, 64, 67, 0.3), 0px 1px 3px 1px rgba(60, 64, 67, 0.15);\n",
              "      fill: #174EA6;\n",
              "    }\n",
              "\n",
              "    [theme=dark] .colab-df-convert {\n",
              "      background-color: #3B4455;\n",
              "      fill: #D2E3FC;\n",
              "    }\n",
              "\n",
              "    [theme=dark] .colab-df-convert:hover {\n",
              "      background-color: #434B5C;\n",
              "      box-shadow: 0px 1px 3px 1px rgba(0, 0, 0, 0.15);\n",
              "      filter: drop-shadow(0px 1px 2px rgba(0, 0, 0, 0.3));\n",
              "      fill: #FFFFFF;\n",
              "    }\n",
              "  </style>\n",
              "\n",
              "      <script>\n",
              "        const buttonEl =\n",
              "          document.querySelector('#df-1f9368a1-5ee4-45c9-9df1-976eee136f16 button.colab-df-convert');\n",
              "        buttonEl.style.display =\n",
              "          google.colab.kernel.accessAllowed ? 'block' : 'none';\n",
              "\n",
              "        async function convertToInteractive(key) {\n",
              "          const element = document.querySelector('#df-1f9368a1-5ee4-45c9-9df1-976eee136f16');\n",
              "          const dataTable =\n",
              "            await google.colab.kernel.invokeFunction('convertToInteractive',\n",
              "                                                     [key], {});\n",
              "          if (!dataTable) return;\n",
              "\n",
              "          const docLinkHtml = 'Like what you see? Visit the ' +\n",
              "            '<a target=\"_blank\" href=https://colab.research.google.com/notebooks/data_table.ipynb>data table notebook</a>'\n",
              "            + ' to learn more about interactive tables.';\n",
              "          element.innerHTML = '';\n",
              "          dataTable['output_type'] = 'display_data';\n",
              "          await google.colab.output.renderOutput(dataTable, element);\n",
              "          const docLink = document.createElement('div');\n",
              "          docLink.innerHTML = docLinkHtml;\n",
              "          element.appendChild(docLink);\n",
              "        }\n",
              "      </script>\n",
              "    </div>\n",
              "  </div>\n",
              "  "
            ]
          },
          "metadata": {},
          "execution_count": 3
        }
      ]
    },
    {
      "cell_type": "code",
      "source": [
        "ds.tail()"
      ],
      "metadata": {
        "colab": {
          "base_uri": "https://localhost:8080/",
          "height": 383
        },
        "id": "ASj1vcYIhAzw",
        "outputId": "a12597b3-841d-4d51-995a-6b5bcaaa627b"
      },
      "execution_count": 4,
      "outputs": [
        {
          "output_type": "execute_result",
          "data": {
            "text/plain": [
              "    Нарушения сна Тревога Депрессия Пол  Полных лет           Образование  \\\n",
              "175            да     нет       нет   Ж          48                Высшее   \n",
              "176            да     нет        да   М          36               Среднее   \n",
              "177            да      да       нет   М          40               Среднее   \n",
              "178           нет     нет        да   М          35  Незаконченное высшее   \n",
              "179           нет     нет       нет   М          24                Высшее   \n",
              "\n",
              "     Род занятий Семейное положение  Здоровье от 1 до 10  \\\n",
              "175  Не работает              Женат                  6.0   \n",
              "176  Не работает             Холост                  6.0   \n",
              "177  Не работает             Холост                  9.0   \n",
              "178  Не работает             Холост                  7.0   \n",
              "179     Работает             Холост                 10.0   \n",
              "\n",
              "     Удовлетворенность семейными отношениями  ... Т. пупок Т. грудь  \\\n",
              "175                                        5  ...     40.0     30.0   \n",
              "176                                        3  ...     14.0      8.0   \n",
              "177                                        5  ...     25.0     18.0   \n",
              "178                                        2  ...     28.0     30.0   \n",
              "179                                        5  ...     10.0     20.0   \n",
              "\n",
              "     Т. бицепс  Т. трицепс Т.предпл Т. бедро Т. икра   ESS  \\\n",
              "175       15.0        20.0     10.0     25.0    10.0   8.0   \n",
              "176        4.0        10.0      4.0     14.0    18.0   5.0   \n",
              "177       12.0        20.0      8.0     30.0    12.0  15.0   \n",
              "178       30.0        40.0     12.0     50.0    50.0   2.0   \n",
              "179       10.0        10.0     10.0     20.0    10.0   7.0   \n",
              "\n",
              "    шкала общего клин впечатления шкала соц функционир  \n",
              "175                           3.0                 70.0  \n",
              "176                           6.0                 30.0  \n",
              "177                           6.0                 30.0  \n",
              "178                           4.0                 60.0  \n",
              "179                           3.0                 80.0  \n",
              "\n",
              "[5 rows x 50 columns]"
            ],
            "text/html": [
              "\n",
              "  <div id=\"df-f1da6ec8-7b1a-4f9e-915d-c26cd85b5566\">\n",
              "    <div class=\"colab-df-container\">\n",
              "      <div>\n",
              "<style scoped>\n",
              "    .dataframe tbody tr th:only-of-type {\n",
              "        vertical-align: middle;\n",
              "    }\n",
              "\n",
              "    .dataframe tbody tr th {\n",
              "        vertical-align: top;\n",
              "    }\n",
              "\n",
              "    .dataframe thead th {\n",
              "        text-align: right;\n",
              "    }\n",
              "</style>\n",
              "<table border=\"1\" class=\"dataframe\">\n",
              "  <thead>\n",
              "    <tr style=\"text-align: right;\">\n",
              "      <th></th>\n",
              "      <th>Нарушения сна</th>\n",
              "      <th>Тревога</th>\n",
              "      <th>Депрессия</th>\n",
              "      <th>Пол</th>\n",
              "      <th>Полных лет</th>\n",
              "      <th>Образование</th>\n",
              "      <th>Род занятий</th>\n",
              "      <th>Семейное положение</th>\n",
              "      <th>Здоровье от 1 до 10</th>\n",
              "      <th>Удовлетворенность семейными отношениями</th>\n",
              "      <th>...</th>\n",
              "      <th>Т. пупок</th>\n",
              "      <th>Т. грудь</th>\n",
              "      <th>Т. бицепс</th>\n",
              "      <th>Т. трицепс</th>\n",
              "      <th>Т.предпл</th>\n",
              "      <th>Т. бедро</th>\n",
              "      <th>Т. икра</th>\n",
              "      <th>ESS</th>\n",
              "      <th>шкала общего клин впечатления</th>\n",
              "      <th>шкала соц функционир</th>\n",
              "    </tr>\n",
              "  </thead>\n",
              "  <tbody>\n",
              "    <tr>\n",
              "      <th>175</th>\n",
              "      <td>да</td>\n",
              "      <td>нет</td>\n",
              "      <td>нет</td>\n",
              "      <td>Ж</td>\n",
              "      <td>48</td>\n",
              "      <td>Высшее</td>\n",
              "      <td>Не работает</td>\n",
              "      <td>Женат</td>\n",
              "      <td>6.0</td>\n",
              "      <td>5</td>\n",
              "      <td>...</td>\n",
              "      <td>40.0</td>\n",
              "      <td>30.0</td>\n",
              "      <td>15.0</td>\n",
              "      <td>20.0</td>\n",
              "      <td>10.0</td>\n",
              "      <td>25.0</td>\n",
              "      <td>10.0</td>\n",
              "      <td>8.0</td>\n",
              "      <td>3.0</td>\n",
              "      <td>70.0</td>\n",
              "    </tr>\n",
              "    <tr>\n",
              "      <th>176</th>\n",
              "      <td>да</td>\n",
              "      <td>нет</td>\n",
              "      <td>да</td>\n",
              "      <td>М</td>\n",
              "      <td>36</td>\n",
              "      <td>Среднее</td>\n",
              "      <td>Не работает</td>\n",
              "      <td>Холост</td>\n",
              "      <td>6.0</td>\n",
              "      <td>3</td>\n",
              "      <td>...</td>\n",
              "      <td>14.0</td>\n",
              "      <td>8.0</td>\n",
              "      <td>4.0</td>\n",
              "      <td>10.0</td>\n",
              "      <td>4.0</td>\n",
              "      <td>14.0</td>\n",
              "      <td>18.0</td>\n",
              "      <td>5.0</td>\n",
              "      <td>6.0</td>\n",
              "      <td>30.0</td>\n",
              "    </tr>\n",
              "    <tr>\n",
              "      <th>177</th>\n",
              "      <td>да</td>\n",
              "      <td>да</td>\n",
              "      <td>нет</td>\n",
              "      <td>М</td>\n",
              "      <td>40</td>\n",
              "      <td>Среднее</td>\n",
              "      <td>Не работает</td>\n",
              "      <td>Холост</td>\n",
              "      <td>9.0</td>\n",
              "      <td>5</td>\n",
              "      <td>...</td>\n",
              "      <td>25.0</td>\n",
              "      <td>18.0</td>\n",
              "      <td>12.0</td>\n",
              "      <td>20.0</td>\n",
              "      <td>8.0</td>\n",
              "      <td>30.0</td>\n",
              "      <td>12.0</td>\n",
              "      <td>15.0</td>\n",
              "      <td>6.0</td>\n",
              "      <td>30.0</td>\n",
              "    </tr>\n",
              "    <tr>\n",
              "      <th>178</th>\n",
              "      <td>нет</td>\n",
              "      <td>нет</td>\n",
              "      <td>да</td>\n",
              "      <td>М</td>\n",
              "      <td>35</td>\n",
              "      <td>Незаконченное высшее</td>\n",
              "      <td>Не работает</td>\n",
              "      <td>Холост</td>\n",
              "      <td>7.0</td>\n",
              "      <td>2</td>\n",
              "      <td>...</td>\n",
              "      <td>28.0</td>\n",
              "      <td>30.0</td>\n",
              "      <td>30.0</td>\n",
              "      <td>40.0</td>\n",
              "      <td>12.0</td>\n",
              "      <td>50.0</td>\n",
              "      <td>50.0</td>\n",
              "      <td>2.0</td>\n",
              "      <td>4.0</td>\n",
              "      <td>60.0</td>\n",
              "    </tr>\n",
              "    <tr>\n",
              "      <th>179</th>\n",
              "      <td>нет</td>\n",
              "      <td>нет</td>\n",
              "      <td>нет</td>\n",
              "      <td>М</td>\n",
              "      <td>24</td>\n",
              "      <td>Высшее</td>\n",
              "      <td>Работает</td>\n",
              "      <td>Холост</td>\n",
              "      <td>10.0</td>\n",
              "      <td>5</td>\n",
              "      <td>...</td>\n",
              "      <td>10.0</td>\n",
              "      <td>20.0</td>\n",
              "      <td>10.0</td>\n",
              "      <td>10.0</td>\n",
              "      <td>10.0</td>\n",
              "      <td>20.0</td>\n",
              "      <td>10.0</td>\n",
              "      <td>7.0</td>\n",
              "      <td>3.0</td>\n",
              "      <td>80.0</td>\n",
              "    </tr>\n",
              "  </tbody>\n",
              "</table>\n",
              "<p>5 rows × 50 columns</p>\n",
              "</div>\n",
              "      <button class=\"colab-df-convert\" onclick=\"convertToInteractive('df-f1da6ec8-7b1a-4f9e-915d-c26cd85b5566')\"\n",
              "              title=\"Convert this dataframe to an interactive table.\"\n",
              "              style=\"display:none;\">\n",
              "        \n",
              "  <svg xmlns=\"http://www.w3.org/2000/svg\" height=\"24px\"viewBox=\"0 0 24 24\"\n",
              "       width=\"24px\">\n",
              "    <path d=\"M0 0h24v24H0V0z\" fill=\"none\"/>\n",
              "    <path d=\"M18.56 5.44l.94 2.06.94-2.06 2.06-.94-2.06-.94-.94-2.06-.94 2.06-2.06.94zm-11 1L8.5 8.5l.94-2.06 2.06-.94-2.06-.94L8.5 2.5l-.94 2.06-2.06.94zm10 10l.94 2.06.94-2.06 2.06-.94-2.06-.94-.94-2.06-.94 2.06-2.06.94z\"/><path d=\"M17.41 7.96l-1.37-1.37c-.4-.4-.92-.59-1.43-.59-.52 0-1.04.2-1.43.59L10.3 9.45l-7.72 7.72c-.78.78-.78 2.05 0 2.83L4 21.41c.39.39.9.59 1.41.59.51 0 1.02-.2 1.41-.59l7.78-7.78 2.81-2.81c.8-.78.8-2.07 0-2.86zM5.41 20L4 18.59l7.72-7.72 1.47 1.35L5.41 20z\"/>\n",
              "  </svg>\n",
              "      </button>\n",
              "      \n",
              "  <style>\n",
              "    .colab-df-container {\n",
              "      display:flex;\n",
              "      flex-wrap:wrap;\n",
              "      gap: 12px;\n",
              "    }\n",
              "\n",
              "    .colab-df-convert {\n",
              "      background-color: #E8F0FE;\n",
              "      border: none;\n",
              "      border-radius: 50%;\n",
              "      cursor: pointer;\n",
              "      display: none;\n",
              "      fill: #1967D2;\n",
              "      height: 32px;\n",
              "      padding: 0 0 0 0;\n",
              "      width: 32px;\n",
              "    }\n",
              "\n",
              "    .colab-df-convert:hover {\n",
              "      background-color: #E2EBFA;\n",
              "      box-shadow: 0px 1px 2px rgba(60, 64, 67, 0.3), 0px 1px 3px 1px rgba(60, 64, 67, 0.15);\n",
              "      fill: #174EA6;\n",
              "    }\n",
              "\n",
              "    [theme=dark] .colab-df-convert {\n",
              "      background-color: #3B4455;\n",
              "      fill: #D2E3FC;\n",
              "    }\n",
              "\n",
              "    [theme=dark] .colab-df-convert:hover {\n",
              "      background-color: #434B5C;\n",
              "      box-shadow: 0px 1px 3px 1px rgba(0, 0, 0, 0.15);\n",
              "      filter: drop-shadow(0px 1px 2px rgba(0, 0, 0, 0.3));\n",
              "      fill: #FFFFFF;\n",
              "    }\n",
              "  </style>\n",
              "\n",
              "      <script>\n",
              "        const buttonEl =\n",
              "          document.querySelector('#df-f1da6ec8-7b1a-4f9e-915d-c26cd85b5566 button.colab-df-convert');\n",
              "        buttonEl.style.display =\n",
              "          google.colab.kernel.accessAllowed ? 'block' : 'none';\n",
              "\n",
              "        async function convertToInteractive(key) {\n",
              "          const element = document.querySelector('#df-f1da6ec8-7b1a-4f9e-915d-c26cd85b5566');\n",
              "          const dataTable =\n",
              "            await google.colab.kernel.invokeFunction('convertToInteractive',\n",
              "                                                     [key], {});\n",
              "          if (!dataTable) return;\n",
              "\n",
              "          const docLinkHtml = 'Like what you see? Visit the ' +\n",
              "            '<a target=\"_blank\" href=https://colab.research.google.com/notebooks/data_table.ipynb>data table notebook</a>'\n",
              "            + ' to learn more about interactive tables.';\n",
              "          element.innerHTML = '';\n",
              "          dataTable['output_type'] = 'display_data';\n",
              "          await google.colab.output.renderOutput(dataTable, element);\n",
              "          const docLink = document.createElement('div');\n",
              "          docLink.innerHTML = docLinkHtml;\n",
              "          element.appendChild(docLink);\n",
              "        }\n",
              "      </script>\n",
              "    </div>\n",
              "  </div>\n",
              "  "
            ]
          },
          "metadata": {},
          "execution_count": 4
        }
      ]
    },
    {
      "cell_type": "code",
      "source": [
        "# drop unnecessary columns\n",
        "ds = ds.drop(columns=['О. талии', 'О. бедра', 'О. запястья', 'О. Бедер', 'О. плеча', 'Т. спина', 'Т. пупок', 'Т. грудь', 'Т. бицепс', 'Т. трицепс', 'Т.предпл', 'Т. бедро', 'Т. икра'])\n",
        "ds = ds.drop(columns=['Здоровье от 1 до 10', 'Удовлетворенность материальным положением', 'Рост', 'Вес', 'BARS (акатизия)', 'SAS (Экстрапир)', 'AIMS (непр дв)', 'ESS', 'шкала общего клин впечатления', 'шкала соц функционир'])"
      ],
      "metadata": {
        "id": "pEJ79uoXQZdV"
      },
      "execution_count": 5,
      "outputs": []
    },
    {
      "cell_type": "code",
      "source": [
        "ds.info()"
      ],
      "metadata": {
        "colab": {
          "base_uri": "https://localhost:8080/"
        },
        "id": "R-YpnvKCkznI",
        "outputId": "c0ea4d25-405d-41fd-9ceb-1c6a63325e17"
      },
      "execution_count": 6,
      "outputs": [
        {
          "output_type": "stream",
          "name": "stdout",
          "text": [
            "<class 'pandas.core.frame.DataFrame'>\n",
            "RangeIndex: 180 entries, 0 to 179\n",
            "Data columns (total 27 columns):\n",
            " #   Column                                   Non-Null Count  Dtype \n",
            "---  ------                                   --------------  ----- \n",
            " 0   Нарушения сна                            180 non-null    object\n",
            " 1   Тревога                                  180 non-null    object\n",
            " 2   Депрессия                                180 non-null    object\n",
            " 3   Пол                                      180 non-null    object\n",
            " 4   Полных лет                               180 non-null    int64 \n",
            " 5   Образование                              180 non-null    object\n",
            " 6   Род занятий                              180 non-null    object\n",
            " 7   Семейное положение                       180 non-null    object\n",
            " 8   Удовлетворенность семейными отношениями  180 non-null    int64 \n",
            " 9   Были ли нарушения сна                    180 non-null    object\n",
            " 10  ИМТ                                      180 non-null    object\n",
            " 11  Динамика веса за год                     180 non-null    object\n",
            " 12  Операции                                 180 non-null    object\n",
            " 13  Аллергии                                 180 non-null    object\n",
            " 14  СД                                       180 non-null    object\n",
            " 15  Забол кожи                               180 non-null    object\n",
            " 16  ГБ                                       180 non-null    object\n",
            " 17  Панкреатит                               180 non-null    object\n",
            " 18  Дисфункция ЖКТ                           180 non-null    object\n",
            " 19  ЧМТ                                      178 non-null    object\n",
            " 20  Насл отягощенность                       180 non-null    object\n",
            " 21  Дебют                                    180 non-null    object\n",
            " 22  Стаж шизофр                              177 non-null    object\n",
            " 23  Преобл синдром                           179 non-null    object\n",
            " 24  P                                        180 non-null    int64 \n",
            " 25  N                                        180 non-null    int64 \n",
            " 26  G                                        180 non-null    int64 \n",
            "dtypes: int64(5), object(22)\n",
            "memory usage: 38.1+ KB\n"
          ]
        }
      ]
    },
    {
      "cell_type": "code",
      "source": [
        "ds = ds.dropna(axis=0)\n",
        "ds.isna().sum()"
      ],
      "metadata": {
        "colab": {
          "base_uri": "https://localhost:8080/"
        },
        "id": "5YdOjrrJ9lWV",
        "outputId": "8281e2f8-5a6c-4ec9-e830-ef1bfd5b6ee2"
      },
      "execution_count": 7,
      "outputs": [
        {
          "output_type": "execute_result",
          "data": {
            "text/plain": [
              "Нарушения сна                              0\n",
              "Тревога                                    0\n",
              "Депрессия                                  0\n",
              "Пол                                        0\n",
              "Полных лет                                 0\n",
              "Образование                                0\n",
              "Род занятий                                0\n",
              "Семейное положение                         0\n",
              "Удовлетворенность семейными отношениями    0\n",
              "Были ли нарушения сна                      0\n",
              "ИМТ                                        0\n",
              "Динамика веса за год                       0\n",
              "Операции                                   0\n",
              "Аллергии                                   0\n",
              "СД                                         0\n",
              "Забол кожи                                 0\n",
              "ГБ                                         0\n",
              "Панкреатит                                 0\n",
              "Дисфункция ЖКТ                             0\n",
              "ЧМТ                                        0\n",
              "Насл отягощенность                         0\n",
              "Дебют                                      0\n",
              "Стаж шизофр                                0\n",
              "Преобл синдром                             0\n",
              "P                                          0\n",
              "N                                          0\n",
              "G                                          0\n",
              "dtype: int64"
            ]
          },
          "metadata": {},
          "execution_count": 7
        }
      ]
    },
    {
      "cell_type": "code",
      "source": [
        "# ds[[\"Вес\", \"ИМТ\", \"Дебют\", \"Стаж шизофр\"]].astype(np.float64)"
      ],
      "metadata": {
        "id": "zqk1citn-mVk"
      },
      "execution_count": 8,
      "outputs": []
    },
    {
      "cell_type": "code",
      "source": [
        "# \"Вес\" to float\n",
        "# ds[\"Вес\"] = ds[\"Вес\"].str.split().apply(lambda x: float(x[0].replace(',', '.')))"
      ],
      "metadata": {
        "id": "yY7nDrK3-CP3"
      },
      "execution_count": 9,
      "outputs": []
    },
    {
      "cell_type": "code",
      "source": [
        "ds['ИМТ']"
      ],
      "metadata": {
        "colab": {
          "base_uri": "https://localhost:8080/"
        },
        "id": "stdYPRvaSdtP",
        "outputId": "4e0b0e83-323e-4db6-d020-02e0fe9c95fb"
      },
      "execution_count": 10,
      "outputs": [
        {
          "output_type": "execute_result",
          "data": {
            "text/plain": [
              "0      24,01234568\n",
              "1      20,24489796\n",
              "2      29,75274443\n",
              "3      22,09317005\n",
              "4      26,06167931\n",
              "          ...     \n",
              "175     26,2226847\n",
              "176           25,0\n",
              "177    23,99945917\n",
              "178    35,18853306\n",
              "179    19,88385305\n",
              "Name: ИМТ, Length: 174, dtype: object"
            ]
          },
          "metadata": {},
          "execution_count": 10
        }
      ]
    },
    {
      "cell_type": "code",
      "source": [
        "# \"ИМТ\" to float\n",
        "ds[\"ИМТ\"] = ds[\"ИМТ\"].str.split().apply(lambda x: float(x[0].replace(',', '.')))"
      ],
      "metadata": {
        "id": "m0VR3mKR-TNW",
        "colab": {
          "base_uri": "https://localhost:8080/"
        },
        "outputId": "0ec42596-7708-4c66-dd08-f23d2fc1a462"
      },
      "execution_count": 11,
      "outputs": [
        {
          "output_type": "stream",
          "name": "stderr",
          "text": [
            "/usr/local/lib/python3.7/dist-packages/ipykernel_launcher.py:2: SettingWithCopyWarning: \n",
            "A value is trying to be set on a copy of a slice from a DataFrame.\n",
            "Try using .loc[row_indexer,col_indexer] = value instead\n",
            "\n",
            "See the caveats in the documentation: https://pandas.pydata.org/pandas-docs/stable/user_guide/indexing.html#returning-a-view-versus-a-copy\n",
            "  \n"
          ]
        }
      ]
    },
    {
      "cell_type": "code",
      "source": [
        "# \"Дебют\" to float\n",
        "ds[\"Дебют\"] = ds[\"Дебют\"].str.split().apply(lambda x: float(x[0].replace(',', '.')))"
      ],
      "metadata": {
        "id": "Wy32XTRW-6yb",
        "colab": {
          "base_uri": "https://localhost:8080/"
        },
        "outputId": "c16057e7-0d3a-41bd-84b8-cb03c1081fb6"
      },
      "execution_count": 12,
      "outputs": [
        {
          "output_type": "stream",
          "name": "stderr",
          "text": [
            "/usr/local/lib/python3.7/dist-packages/ipykernel_launcher.py:2: SettingWithCopyWarning: \n",
            "A value is trying to be set on a copy of a slice from a DataFrame.\n",
            "Try using .loc[row_indexer,col_indexer] = value instead\n",
            "\n",
            "See the caveats in the documentation: https://pandas.pydata.org/pandas-docs/stable/user_guide/indexing.html#returning-a-view-versus-a-copy\n",
            "  \n"
          ]
        }
      ]
    },
    {
      "cell_type": "code",
      "source": [
        "# \"Стаж шизофр\" to float\n",
        "ds[\"Стаж шизофр\"] = ds[\"Стаж шизофр\"].str.split().apply(lambda x: float(x[0].replace(',', '.')))"
      ],
      "metadata": {
        "id": "PoXOWBA_-8Rl",
        "colab": {
          "base_uri": "https://localhost:8080/"
        },
        "outputId": "33d70400-a6e5-44f2-806e-5531ee517d78"
      },
      "execution_count": 13,
      "outputs": [
        {
          "output_type": "stream",
          "name": "stderr",
          "text": [
            "/usr/local/lib/python3.7/dist-packages/ipykernel_launcher.py:2: SettingWithCopyWarning: \n",
            "A value is trying to be set on a copy of a slice from a DataFrame.\n",
            "Try using .loc[row_indexer,col_indexer] = value instead\n",
            "\n",
            "See the caveats in the documentation: https://pandas.pydata.org/pandas-docs/stable/user_guide/indexing.html#returning-a-view-versus-a-copy\n",
            "  \n"
          ]
        }
      ]
    },
    {
      "cell_type": "code",
      "source": [
        "ds.info()"
      ],
      "metadata": {
        "colab": {
          "base_uri": "https://localhost:8080/"
        },
        "id": "1ZGWuwzk-N4S",
        "outputId": "5271ad7a-4872-43f7-dced-88523f93d046"
      },
      "execution_count": 14,
      "outputs": [
        {
          "output_type": "stream",
          "name": "stdout",
          "text": [
            "<class 'pandas.core.frame.DataFrame'>\n",
            "Int64Index: 174 entries, 0 to 179\n",
            "Data columns (total 27 columns):\n",
            " #   Column                                   Non-Null Count  Dtype  \n",
            "---  ------                                   --------------  -----  \n",
            " 0   Нарушения сна                            174 non-null    object \n",
            " 1   Тревога                                  174 non-null    object \n",
            " 2   Депрессия                                174 non-null    object \n",
            " 3   Пол                                      174 non-null    object \n",
            " 4   Полных лет                               174 non-null    int64  \n",
            " 5   Образование                              174 non-null    object \n",
            " 6   Род занятий                              174 non-null    object \n",
            " 7   Семейное положение                       174 non-null    object \n",
            " 8   Удовлетворенность семейными отношениями  174 non-null    int64  \n",
            " 9   Были ли нарушения сна                    174 non-null    object \n",
            " 10  ИМТ                                      174 non-null    float64\n",
            " 11  Динамика веса за год                     174 non-null    object \n",
            " 12  Операции                                 174 non-null    object \n",
            " 13  Аллергии                                 174 non-null    object \n",
            " 14  СД                                       174 non-null    object \n",
            " 15  Забол кожи                               174 non-null    object \n",
            " 16  ГБ                                       174 non-null    object \n",
            " 17  Панкреатит                               174 non-null    object \n",
            " 18  Дисфункция ЖКТ                           174 non-null    object \n",
            " 19  ЧМТ                                      174 non-null    object \n",
            " 20  Насл отягощенность                       174 non-null    object \n",
            " 21  Дебют                                    174 non-null    float64\n",
            " 22  Стаж шизофр                              174 non-null    float64\n",
            " 23  Преобл синдром                           174 non-null    object \n",
            " 24  P                                        174 non-null    int64  \n",
            " 25  N                                        174 non-null    int64  \n",
            " 26  G                                        174 non-null    int64  \n",
            "dtypes: float64(3), int64(5), object(19)\n",
            "memory usage: 38.1+ KB\n"
          ]
        }
      ]
    },
    {
      "cell_type": "code",
      "source": [
        ""
      ],
      "metadata": {
        "id": "41kSkZZq-Ch2"
      },
      "execution_count": 14,
      "outputs": []
    },
    {
      "cell_type": "code",
      "source": [
        "ds[\"Нарушения сна\"].value_counts()"
      ],
      "metadata": {
        "colab": {
          "base_uri": "https://localhost:8080/"
        },
        "id": "xV0DMqq0nifB",
        "outputId": "ec382a58-fd07-4acf-af67-fd04ebd469fc"
      },
      "execution_count": 15,
      "outputs": [
        {
          "output_type": "execute_result",
          "data": {
            "text/plain": [
              "да     108\n",
              "нет     66\n",
              "Name: Нарушения сна, dtype: int64"
            ]
          },
          "metadata": {},
          "execution_count": 15
        }
      ]
    },
    {
      "cell_type": "code",
      "source": [
        "# Why i did this?\n",
        "# We have one-hot encoding lol -_-\n",
        "\n",
        "def change_value_to_numeric(x):\n",
        "  if type(x) == int or type(x) == float:\n",
        "    return x\n",
        "\n",
        "  if x.lower() == \"да\":\n",
        "    return 1\n",
        "  elif x.lower() == \"нет\":\n",
        "    return 0\n",
        "  elif x.lower() == \"м\":\n",
        "    return 1\n",
        "  elif x.lower() == \"ж\":\n",
        "    return 0\n",
        "  \n",
        "  # Род занятий\n",
        "  elif x.lower() == \"не работает\":\n",
        "    return 0\n",
        "  elif x.lower() == \"работает\":\n",
        "    return 1\n",
        "  elif x.lower() == \"учится\":\n",
        "    return 2\n",
        "  elif x.lower() == \"пенсионер\":\n",
        "    return 3\n",
        "  \n",
        "  # Семейное положение:\n",
        "  elif x.lower() == \"холост\":\n",
        "    return 0 \n",
        "  elif x.lower() == \"женат\":\n",
        "    return 1\n",
        "  elif x.lower() == \"разведен\":\n",
        "    return 2\n",
        "  elif x.lower() == \"вдовец\":\n",
        "    return 3\n",
        "\n",
        "  # Образование:\n",
        "  elif x.lower() == \"среднее\":\n",
        "    return 0 \n",
        "  elif x.lower() == \"незаконченное высшее\":\n",
        "    return 1\n",
        "  elif x.lower() == \"высшее\":\n",
        "    return 2\n",
        "  elif x.lower() == \"неполное среднее\":\n",
        "    return 3\n",
        "  elif x.lower() == \"начальное\":\n",
        "    return 4\n",
        "\n",
        "  # Динамика веса за год:\n",
        "  elif x.lower() == \"стабильный вес\":\n",
        "    return 0 \n",
        "  elif x.lower() == \"снижение веса\":\n",
        "    return 1\n",
        "  elif x.lower() == \"увеличение веса\":\n",
        "    return 2\n",
        "\n",
        "  # ЧМТ:\n",
        "  elif x.lower() == \"нет\":\n",
        "    return 0 \n",
        "  elif x.lower() == \"да (без потери сознания)\":\n",
        "    return 1\n",
        "  elif x.lower() == \"да (с потерей сознания)\":\n",
        "    return 2\n",
        "\n",
        "  # Преобл синдром:\n",
        "  elif x.lower() == \"аффективно-параноидный\":\n",
        "    return 0 \n",
        "  elif x.lower() == \"параноидный\":\n",
        "    return 1\n",
        "  elif x.lower() == \"галлюцинаторно-параноидный\":\n",
        "    return 2\n",
        "  elif x.lower() == \"парафренный\":\n",
        "    return 3\n",
        "  elif x.lower() == \"кататонический\":\n",
        "    return 4\n",
        "\n",
        "  return \"NaN\""
      ],
      "metadata": {
        "id": "DV4Cfa-0wKzw"
      },
      "execution_count": 16,
      "outputs": []
    },
    {
      "cell_type": "code",
      "source": [
        "ds.applymap(lambda x: change_value_to_numeric(x))"
      ],
      "metadata": {
        "colab": {
          "base_uri": "https://localhost:8080/",
          "height": 502
        },
        "id": "dB7dnTgpqs_-",
        "outputId": "b8d39292-888f-4d05-8cc6-6d8895a0ea57"
      },
      "execution_count": 17,
      "outputs": [
        {
          "output_type": "execute_result",
          "data": {
            "text/plain": [
              "     Нарушения сна  Тревога  Депрессия  Пол  Полных лет  Образование  \\\n",
              "0                1        0          0    1          32            2   \n",
              "1                1        0          1    1          26            0   \n",
              "2                0        0          0    1          49            0   \n",
              "3                1        0          0    1          50            0   \n",
              "4                1        0          0    1          27            0   \n",
              "..             ...      ...        ...  ...         ...          ...   \n",
              "175              1        0          0    0          48            2   \n",
              "176              1        0          1    1          36            0   \n",
              "177              1        1          0    1          40            0   \n",
              "178              0        0          1    1          35            1   \n",
              "179              0        0          0    1          24            2   \n",
              "\n",
              "     Род занятий  Семейное положение  Удовлетворенность семейными отношениями  \\\n",
              "0              0                   0                                        5   \n",
              "1              0                   0                                        5   \n",
              "2              0                   2                                        5   \n",
              "3              0                   0                                        5   \n",
              "4              1                   2                                        5   \n",
              "..           ...                 ...                                      ...   \n",
              "175            0                   1                                        5   \n",
              "176            0                   0                                        3   \n",
              "177            0                   0                                        5   \n",
              "178            0                   0                                        2   \n",
              "179            1                   0                                        5   \n",
              "\n",
              "     Были ли нарушения сна  ...  Панкреатит  Дисфункция ЖКТ  ЧМТ  \\\n",
              "0                        1  ...           0               0    1   \n",
              "1                        1  ...           0               0    0   \n",
              "2                        0  ...           0               0    1   \n",
              "3                        1  ...           0               0    2   \n",
              "4                        1  ...           0               0    1   \n",
              "..                     ...  ...         ...             ...  ...   \n",
              "175                      1  ...           0               0    0   \n",
              "176                      0  ...           0               0    0   \n",
              "177                      0  ...           0               0    1   \n",
              "178                      1  ...           0               0    0   \n",
              "179                      1  ...           0               0    1   \n",
              "\n",
              "    Насл отягощенность  Дебют  Стаж шизофр  Преобл синдром   P   N   G  \n",
              "0                    0   28.3          3.7               2  11  11  18  \n",
              "1                    0   26.0          2.0               1  10  25  36  \n",
              "2                    0   26.0         23.0               0   9  16  23  \n",
              "3                    0   16.0         34.0               1  13  13  20  \n",
              "4                    0   21.0          6.0               1   7   9  22  \n",
              "..                 ...    ...          ...             ...  ..  ..  ..  \n",
              "175                  0   39.0          9.0               1   2   0   2  \n",
              "176                  0   18.0         18.0               2  32  29  56  \n",
              "177                  0   23.0         17.0               0  25  14  32  \n",
              "178                  0   19.0         16.0               2  19   8  31  \n",
              "179                  1   18.0          6.0               1   0   3  15  \n",
              "\n",
              "[174 rows x 27 columns]"
            ],
            "text/html": [
              "\n",
              "  <div id=\"df-d9471d64-6b2f-4602-808c-0b441c4d2152\">\n",
              "    <div class=\"colab-df-container\">\n",
              "      <div>\n",
              "<style scoped>\n",
              "    .dataframe tbody tr th:only-of-type {\n",
              "        vertical-align: middle;\n",
              "    }\n",
              "\n",
              "    .dataframe tbody tr th {\n",
              "        vertical-align: top;\n",
              "    }\n",
              "\n",
              "    .dataframe thead th {\n",
              "        text-align: right;\n",
              "    }\n",
              "</style>\n",
              "<table border=\"1\" class=\"dataframe\">\n",
              "  <thead>\n",
              "    <tr style=\"text-align: right;\">\n",
              "      <th></th>\n",
              "      <th>Нарушения сна</th>\n",
              "      <th>Тревога</th>\n",
              "      <th>Депрессия</th>\n",
              "      <th>Пол</th>\n",
              "      <th>Полных лет</th>\n",
              "      <th>Образование</th>\n",
              "      <th>Род занятий</th>\n",
              "      <th>Семейное положение</th>\n",
              "      <th>Удовлетворенность семейными отношениями</th>\n",
              "      <th>Были ли нарушения сна</th>\n",
              "      <th>...</th>\n",
              "      <th>Панкреатит</th>\n",
              "      <th>Дисфункция ЖКТ</th>\n",
              "      <th>ЧМТ</th>\n",
              "      <th>Насл отягощенность</th>\n",
              "      <th>Дебют</th>\n",
              "      <th>Стаж шизофр</th>\n",
              "      <th>Преобл синдром</th>\n",
              "      <th>P</th>\n",
              "      <th>N</th>\n",
              "      <th>G</th>\n",
              "    </tr>\n",
              "  </thead>\n",
              "  <tbody>\n",
              "    <tr>\n",
              "      <th>0</th>\n",
              "      <td>1</td>\n",
              "      <td>0</td>\n",
              "      <td>0</td>\n",
              "      <td>1</td>\n",
              "      <td>32</td>\n",
              "      <td>2</td>\n",
              "      <td>0</td>\n",
              "      <td>0</td>\n",
              "      <td>5</td>\n",
              "      <td>1</td>\n",
              "      <td>...</td>\n",
              "      <td>0</td>\n",
              "      <td>0</td>\n",
              "      <td>1</td>\n",
              "      <td>0</td>\n",
              "      <td>28.3</td>\n",
              "      <td>3.7</td>\n",
              "      <td>2</td>\n",
              "      <td>11</td>\n",
              "      <td>11</td>\n",
              "      <td>18</td>\n",
              "    </tr>\n",
              "    <tr>\n",
              "      <th>1</th>\n",
              "      <td>1</td>\n",
              "      <td>0</td>\n",
              "      <td>1</td>\n",
              "      <td>1</td>\n",
              "      <td>26</td>\n",
              "      <td>0</td>\n",
              "      <td>0</td>\n",
              "      <td>0</td>\n",
              "      <td>5</td>\n",
              "      <td>1</td>\n",
              "      <td>...</td>\n",
              "      <td>0</td>\n",
              "      <td>0</td>\n",
              "      <td>0</td>\n",
              "      <td>0</td>\n",
              "      <td>26.0</td>\n",
              "      <td>2.0</td>\n",
              "      <td>1</td>\n",
              "      <td>10</td>\n",
              "      <td>25</td>\n",
              "      <td>36</td>\n",
              "    </tr>\n",
              "    <tr>\n",
              "      <th>2</th>\n",
              "      <td>0</td>\n",
              "      <td>0</td>\n",
              "      <td>0</td>\n",
              "      <td>1</td>\n",
              "      <td>49</td>\n",
              "      <td>0</td>\n",
              "      <td>0</td>\n",
              "      <td>2</td>\n",
              "      <td>5</td>\n",
              "      <td>0</td>\n",
              "      <td>...</td>\n",
              "      <td>0</td>\n",
              "      <td>0</td>\n",
              "      <td>1</td>\n",
              "      <td>0</td>\n",
              "      <td>26.0</td>\n",
              "      <td>23.0</td>\n",
              "      <td>0</td>\n",
              "      <td>9</td>\n",
              "      <td>16</td>\n",
              "      <td>23</td>\n",
              "    </tr>\n",
              "    <tr>\n",
              "      <th>3</th>\n",
              "      <td>1</td>\n",
              "      <td>0</td>\n",
              "      <td>0</td>\n",
              "      <td>1</td>\n",
              "      <td>50</td>\n",
              "      <td>0</td>\n",
              "      <td>0</td>\n",
              "      <td>0</td>\n",
              "      <td>5</td>\n",
              "      <td>1</td>\n",
              "      <td>...</td>\n",
              "      <td>0</td>\n",
              "      <td>0</td>\n",
              "      <td>2</td>\n",
              "      <td>0</td>\n",
              "      <td>16.0</td>\n",
              "      <td>34.0</td>\n",
              "      <td>1</td>\n",
              "      <td>13</td>\n",
              "      <td>13</td>\n",
              "      <td>20</td>\n",
              "    </tr>\n",
              "    <tr>\n",
              "      <th>4</th>\n",
              "      <td>1</td>\n",
              "      <td>0</td>\n",
              "      <td>0</td>\n",
              "      <td>1</td>\n",
              "      <td>27</td>\n",
              "      <td>0</td>\n",
              "      <td>1</td>\n",
              "      <td>2</td>\n",
              "      <td>5</td>\n",
              "      <td>1</td>\n",
              "      <td>...</td>\n",
              "      <td>0</td>\n",
              "      <td>0</td>\n",
              "      <td>1</td>\n",
              "      <td>0</td>\n",
              "      <td>21.0</td>\n",
              "      <td>6.0</td>\n",
              "      <td>1</td>\n",
              "      <td>7</td>\n",
              "      <td>9</td>\n",
              "      <td>22</td>\n",
              "    </tr>\n",
              "    <tr>\n",
              "      <th>...</th>\n",
              "      <td>...</td>\n",
              "      <td>...</td>\n",
              "      <td>...</td>\n",
              "      <td>...</td>\n",
              "      <td>...</td>\n",
              "      <td>...</td>\n",
              "      <td>...</td>\n",
              "      <td>...</td>\n",
              "      <td>...</td>\n",
              "      <td>...</td>\n",
              "      <td>...</td>\n",
              "      <td>...</td>\n",
              "      <td>...</td>\n",
              "      <td>...</td>\n",
              "      <td>...</td>\n",
              "      <td>...</td>\n",
              "      <td>...</td>\n",
              "      <td>...</td>\n",
              "      <td>...</td>\n",
              "      <td>...</td>\n",
              "      <td>...</td>\n",
              "    </tr>\n",
              "    <tr>\n",
              "      <th>175</th>\n",
              "      <td>1</td>\n",
              "      <td>0</td>\n",
              "      <td>0</td>\n",
              "      <td>0</td>\n",
              "      <td>48</td>\n",
              "      <td>2</td>\n",
              "      <td>0</td>\n",
              "      <td>1</td>\n",
              "      <td>5</td>\n",
              "      <td>1</td>\n",
              "      <td>...</td>\n",
              "      <td>0</td>\n",
              "      <td>0</td>\n",
              "      <td>0</td>\n",
              "      <td>0</td>\n",
              "      <td>39.0</td>\n",
              "      <td>9.0</td>\n",
              "      <td>1</td>\n",
              "      <td>2</td>\n",
              "      <td>0</td>\n",
              "      <td>2</td>\n",
              "    </tr>\n",
              "    <tr>\n",
              "      <th>176</th>\n",
              "      <td>1</td>\n",
              "      <td>0</td>\n",
              "      <td>1</td>\n",
              "      <td>1</td>\n",
              "      <td>36</td>\n",
              "      <td>0</td>\n",
              "      <td>0</td>\n",
              "      <td>0</td>\n",
              "      <td>3</td>\n",
              "      <td>0</td>\n",
              "      <td>...</td>\n",
              "      <td>0</td>\n",
              "      <td>0</td>\n",
              "      <td>0</td>\n",
              "      <td>0</td>\n",
              "      <td>18.0</td>\n",
              "      <td>18.0</td>\n",
              "      <td>2</td>\n",
              "      <td>32</td>\n",
              "      <td>29</td>\n",
              "      <td>56</td>\n",
              "    </tr>\n",
              "    <tr>\n",
              "      <th>177</th>\n",
              "      <td>1</td>\n",
              "      <td>1</td>\n",
              "      <td>0</td>\n",
              "      <td>1</td>\n",
              "      <td>40</td>\n",
              "      <td>0</td>\n",
              "      <td>0</td>\n",
              "      <td>0</td>\n",
              "      <td>5</td>\n",
              "      <td>0</td>\n",
              "      <td>...</td>\n",
              "      <td>0</td>\n",
              "      <td>0</td>\n",
              "      <td>1</td>\n",
              "      <td>0</td>\n",
              "      <td>23.0</td>\n",
              "      <td>17.0</td>\n",
              "      <td>0</td>\n",
              "      <td>25</td>\n",
              "      <td>14</td>\n",
              "      <td>32</td>\n",
              "    </tr>\n",
              "    <tr>\n",
              "      <th>178</th>\n",
              "      <td>0</td>\n",
              "      <td>0</td>\n",
              "      <td>1</td>\n",
              "      <td>1</td>\n",
              "      <td>35</td>\n",
              "      <td>1</td>\n",
              "      <td>0</td>\n",
              "      <td>0</td>\n",
              "      <td>2</td>\n",
              "      <td>1</td>\n",
              "      <td>...</td>\n",
              "      <td>0</td>\n",
              "      <td>0</td>\n",
              "      <td>0</td>\n",
              "      <td>0</td>\n",
              "      <td>19.0</td>\n",
              "      <td>16.0</td>\n",
              "      <td>2</td>\n",
              "      <td>19</td>\n",
              "      <td>8</td>\n",
              "      <td>31</td>\n",
              "    </tr>\n",
              "    <tr>\n",
              "      <th>179</th>\n",
              "      <td>0</td>\n",
              "      <td>0</td>\n",
              "      <td>0</td>\n",
              "      <td>1</td>\n",
              "      <td>24</td>\n",
              "      <td>2</td>\n",
              "      <td>1</td>\n",
              "      <td>0</td>\n",
              "      <td>5</td>\n",
              "      <td>1</td>\n",
              "      <td>...</td>\n",
              "      <td>0</td>\n",
              "      <td>0</td>\n",
              "      <td>1</td>\n",
              "      <td>1</td>\n",
              "      <td>18.0</td>\n",
              "      <td>6.0</td>\n",
              "      <td>1</td>\n",
              "      <td>0</td>\n",
              "      <td>3</td>\n",
              "      <td>15</td>\n",
              "    </tr>\n",
              "  </tbody>\n",
              "</table>\n",
              "<p>174 rows × 27 columns</p>\n",
              "</div>\n",
              "      <button class=\"colab-df-convert\" onclick=\"convertToInteractive('df-d9471d64-6b2f-4602-808c-0b441c4d2152')\"\n",
              "              title=\"Convert this dataframe to an interactive table.\"\n",
              "              style=\"display:none;\">\n",
              "        \n",
              "  <svg xmlns=\"http://www.w3.org/2000/svg\" height=\"24px\"viewBox=\"0 0 24 24\"\n",
              "       width=\"24px\">\n",
              "    <path d=\"M0 0h24v24H0V0z\" fill=\"none\"/>\n",
              "    <path d=\"M18.56 5.44l.94 2.06.94-2.06 2.06-.94-2.06-.94-.94-2.06-.94 2.06-2.06.94zm-11 1L8.5 8.5l.94-2.06 2.06-.94-2.06-.94L8.5 2.5l-.94 2.06-2.06.94zm10 10l.94 2.06.94-2.06 2.06-.94-2.06-.94-.94-2.06-.94 2.06-2.06.94z\"/><path d=\"M17.41 7.96l-1.37-1.37c-.4-.4-.92-.59-1.43-.59-.52 0-1.04.2-1.43.59L10.3 9.45l-7.72 7.72c-.78.78-.78 2.05 0 2.83L4 21.41c.39.39.9.59 1.41.59.51 0 1.02-.2 1.41-.59l7.78-7.78 2.81-2.81c.8-.78.8-2.07 0-2.86zM5.41 20L4 18.59l7.72-7.72 1.47 1.35L5.41 20z\"/>\n",
              "  </svg>\n",
              "      </button>\n",
              "      \n",
              "  <style>\n",
              "    .colab-df-container {\n",
              "      display:flex;\n",
              "      flex-wrap:wrap;\n",
              "      gap: 12px;\n",
              "    }\n",
              "\n",
              "    .colab-df-convert {\n",
              "      background-color: #E8F0FE;\n",
              "      border: none;\n",
              "      border-radius: 50%;\n",
              "      cursor: pointer;\n",
              "      display: none;\n",
              "      fill: #1967D2;\n",
              "      height: 32px;\n",
              "      padding: 0 0 0 0;\n",
              "      width: 32px;\n",
              "    }\n",
              "\n",
              "    .colab-df-convert:hover {\n",
              "      background-color: #E2EBFA;\n",
              "      box-shadow: 0px 1px 2px rgba(60, 64, 67, 0.3), 0px 1px 3px 1px rgba(60, 64, 67, 0.15);\n",
              "      fill: #174EA6;\n",
              "    }\n",
              "\n",
              "    [theme=dark] .colab-df-convert {\n",
              "      background-color: #3B4455;\n",
              "      fill: #D2E3FC;\n",
              "    }\n",
              "\n",
              "    [theme=dark] .colab-df-convert:hover {\n",
              "      background-color: #434B5C;\n",
              "      box-shadow: 0px 1px 3px 1px rgba(0, 0, 0, 0.15);\n",
              "      filter: drop-shadow(0px 1px 2px rgba(0, 0, 0, 0.3));\n",
              "      fill: #FFFFFF;\n",
              "    }\n",
              "  </style>\n",
              "\n",
              "      <script>\n",
              "        const buttonEl =\n",
              "          document.querySelector('#df-d9471d64-6b2f-4602-808c-0b441c4d2152 button.colab-df-convert');\n",
              "        buttonEl.style.display =\n",
              "          google.colab.kernel.accessAllowed ? 'block' : 'none';\n",
              "\n",
              "        async function convertToInteractive(key) {\n",
              "          const element = document.querySelector('#df-d9471d64-6b2f-4602-808c-0b441c4d2152');\n",
              "          const dataTable =\n",
              "            await google.colab.kernel.invokeFunction('convertToInteractive',\n",
              "                                                     [key], {});\n",
              "          if (!dataTable) return;\n",
              "\n",
              "          const docLinkHtml = 'Like what you see? Visit the ' +\n",
              "            '<a target=\"_blank\" href=https://colab.research.google.com/notebooks/data_table.ipynb>data table notebook</a>'\n",
              "            + ' to learn more about interactive tables.';\n",
              "          element.innerHTML = '';\n",
              "          dataTable['output_type'] = 'display_data';\n",
              "          await google.colab.output.renderOutput(dataTable, element);\n",
              "          const docLink = document.createElement('div');\n",
              "          docLink.innerHTML = docLinkHtml;\n",
              "          element.appendChild(docLink);\n",
              "        }\n",
              "      </script>\n",
              "    </div>\n",
              "  </div>\n",
              "  "
            ]
          },
          "metadata": {},
          "execution_count": 17
        }
      ]
    },
    {
      "cell_type": "code",
      "source": [
        "ds = ds.applymap(lambda x: change_value_to_numeric(x))"
      ],
      "metadata": {
        "id": "zQnlz8DAnAC3"
      },
      "execution_count": 18,
      "outputs": []
    },
    {
      "cell_type": "code",
      "source": [
        "ds.head()"
      ],
      "metadata": {
        "colab": {
          "base_uri": "https://localhost:8080/",
          "height": 314
        },
        "id": "eYGpxa6cG2Oi",
        "outputId": "87988514-a14f-4034-b236-a06928351d8e"
      },
      "execution_count": 19,
      "outputs": [
        {
          "output_type": "execute_result",
          "data": {
            "text/plain": [
              "   Нарушения сна  Тревога  Депрессия  Пол  Полных лет  Образование  \\\n",
              "0              1        0          0    1          32            2   \n",
              "1              1        0          1    1          26            0   \n",
              "2              0        0          0    1          49            0   \n",
              "3              1        0          0    1          50            0   \n",
              "4              1        0          0    1          27            0   \n",
              "\n",
              "   Род занятий  Семейное положение  Удовлетворенность семейными отношениями  \\\n",
              "0            0                   0                                        5   \n",
              "1            0                   0                                        5   \n",
              "2            0                   2                                        5   \n",
              "3            0                   0                                        5   \n",
              "4            1                   2                                        5   \n",
              "\n",
              "   Были ли нарушения сна  ...  Панкреатит  Дисфункция ЖКТ  ЧМТ  \\\n",
              "0                      1  ...           0               0    1   \n",
              "1                      1  ...           0               0    0   \n",
              "2                      0  ...           0               0    1   \n",
              "3                      1  ...           0               0    2   \n",
              "4                      1  ...           0               0    1   \n",
              "\n",
              "  Насл отягощенность  Дебют  Стаж шизофр  Преобл синдром   P   N   G  \n",
              "0                  0   28.3          3.7               2  11  11  18  \n",
              "1                  0   26.0          2.0               1  10  25  36  \n",
              "2                  0   26.0         23.0               0   9  16  23  \n",
              "3                  0   16.0         34.0               1  13  13  20  \n",
              "4                  0   21.0          6.0               1   7   9  22  \n",
              "\n",
              "[5 rows x 27 columns]"
            ],
            "text/html": [
              "\n",
              "  <div id=\"df-cb89b8cd-f5a8-4f9a-b0e2-6a062f3837d9\">\n",
              "    <div class=\"colab-df-container\">\n",
              "      <div>\n",
              "<style scoped>\n",
              "    .dataframe tbody tr th:only-of-type {\n",
              "        vertical-align: middle;\n",
              "    }\n",
              "\n",
              "    .dataframe tbody tr th {\n",
              "        vertical-align: top;\n",
              "    }\n",
              "\n",
              "    .dataframe thead th {\n",
              "        text-align: right;\n",
              "    }\n",
              "</style>\n",
              "<table border=\"1\" class=\"dataframe\">\n",
              "  <thead>\n",
              "    <tr style=\"text-align: right;\">\n",
              "      <th></th>\n",
              "      <th>Нарушения сна</th>\n",
              "      <th>Тревога</th>\n",
              "      <th>Депрессия</th>\n",
              "      <th>Пол</th>\n",
              "      <th>Полных лет</th>\n",
              "      <th>Образование</th>\n",
              "      <th>Род занятий</th>\n",
              "      <th>Семейное положение</th>\n",
              "      <th>Удовлетворенность семейными отношениями</th>\n",
              "      <th>Были ли нарушения сна</th>\n",
              "      <th>...</th>\n",
              "      <th>Панкреатит</th>\n",
              "      <th>Дисфункция ЖКТ</th>\n",
              "      <th>ЧМТ</th>\n",
              "      <th>Насл отягощенность</th>\n",
              "      <th>Дебют</th>\n",
              "      <th>Стаж шизофр</th>\n",
              "      <th>Преобл синдром</th>\n",
              "      <th>P</th>\n",
              "      <th>N</th>\n",
              "      <th>G</th>\n",
              "    </tr>\n",
              "  </thead>\n",
              "  <tbody>\n",
              "    <tr>\n",
              "      <th>0</th>\n",
              "      <td>1</td>\n",
              "      <td>0</td>\n",
              "      <td>0</td>\n",
              "      <td>1</td>\n",
              "      <td>32</td>\n",
              "      <td>2</td>\n",
              "      <td>0</td>\n",
              "      <td>0</td>\n",
              "      <td>5</td>\n",
              "      <td>1</td>\n",
              "      <td>...</td>\n",
              "      <td>0</td>\n",
              "      <td>0</td>\n",
              "      <td>1</td>\n",
              "      <td>0</td>\n",
              "      <td>28.3</td>\n",
              "      <td>3.7</td>\n",
              "      <td>2</td>\n",
              "      <td>11</td>\n",
              "      <td>11</td>\n",
              "      <td>18</td>\n",
              "    </tr>\n",
              "    <tr>\n",
              "      <th>1</th>\n",
              "      <td>1</td>\n",
              "      <td>0</td>\n",
              "      <td>1</td>\n",
              "      <td>1</td>\n",
              "      <td>26</td>\n",
              "      <td>0</td>\n",
              "      <td>0</td>\n",
              "      <td>0</td>\n",
              "      <td>5</td>\n",
              "      <td>1</td>\n",
              "      <td>...</td>\n",
              "      <td>0</td>\n",
              "      <td>0</td>\n",
              "      <td>0</td>\n",
              "      <td>0</td>\n",
              "      <td>26.0</td>\n",
              "      <td>2.0</td>\n",
              "      <td>1</td>\n",
              "      <td>10</td>\n",
              "      <td>25</td>\n",
              "      <td>36</td>\n",
              "    </tr>\n",
              "    <tr>\n",
              "      <th>2</th>\n",
              "      <td>0</td>\n",
              "      <td>0</td>\n",
              "      <td>0</td>\n",
              "      <td>1</td>\n",
              "      <td>49</td>\n",
              "      <td>0</td>\n",
              "      <td>0</td>\n",
              "      <td>2</td>\n",
              "      <td>5</td>\n",
              "      <td>0</td>\n",
              "      <td>...</td>\n",
              "      <td>0</td>\n",
              "      <td>0</td>\n",
              "      <td>1</td>\n",
              "      <td>0</td>\n",
              "      <td>26.0</td>\n",
              "      <td>23.0</td>\n",
              "      <td>0</td>\n",
              "      <td>9</td>\n",
              "      <td>16</td>\n",
              "      <td>23</td>\n",
              "    </tr>\n",
              "    <tr>\n",
              "      <th>3</th>\n",
              "      <td>1</td>\n",
              "      <td>0</td>\n",
              "      <td>0</td>\n",
              "      <td>1</td>\n",
              "      <td>50</td>\n",
              "      <td>0</td>\n",
              "      <td>0</td>\n",
              "      <td>0</td>\n",
              "      <td>5</td>\n",
              "      <td>1</td>\n",
              "      <td>...</td>\n",
              "      <td>0</td>\n",
              "      <td>0</td>\n",
              "      <td>2</td>\n",
              "      <td>0</td>\n",
              "      <td>16.0</td>\n",
              "      <td>34.0</td>\n",
              "      <td>1</td>\n",
              "      <td>13</td>\n",
              "      <td>13</td>\n",
              "      <td>20</td>\n",
              "    </tr>\n",
              "    <tr>\n",
              "      <th>4</th>\n",
              "      <td>1</td>\n",
              "      <td>0</td>\n",
              "      <td>0</td>\n",
              "      <td>1</td>\n",
              "      <td>27</td>\n",
              "      <td>0</td>\n",
              "      <td>1</td>\n",
              "      <td>2</td>\n",
              "      <td>5</td>\n",
              "      <td>1</td>\n",
              "      <td>...</td>\n",
              "      <td>0</td>\n",
              "      <td>0</td>\n",
              "      <td>1</td>\n",
              "      <td>0</td>\n",
              "      <td>21.0</td>\n",
              "      <td>6.0</td>\n",
              "      <td>1</td>\n",
              "      <td>7</td>\n",
              "      <td>9</td>\n",
              "      <td>22</td>\n",
              "    </tr>\n",
              "  </tbody>\n",
              "</table>\n",
              "<p>5 rows × 27 columns</p>\n",
              "</div>\n",
              "      <button class=\"colab-df-convert\" onclick=\"convertToInteractive('df-cb89b8cd-f5a8-4f9a-b0e2-6a062f3837d9')\"\n",
              "              title=\"Convert this dataframe to an interactive table.\"\n",
              "              style=\"display:none;\">\n",
              "        \n",
              "  <svg xmlns=\"http://www.w3.org/2000/svg\" height=\"24px\"viewBox=\"0 0 24 24\"\n",
              "       width=\"24px\">\n",
              "    <path d=\"M0 0h24v24H0V0z\" fill=\"none\"/>\n",
              "    <path d=\"M18.56 5.44l.94 2.06.94-2.06 2.06-.94-2.06-.94-.94-2.06-.94 2.06-2.06.94zm-11 1L8.5 8.5l.94-2.06 2.06-.94-2.06-.94L8.5 2.5l-.94 2.06-2.06.94zm10 10l.94 2.06.94-2.06 2.06-.94-2.06-.94-.94-2.06-.94 2.06-2.06.94z\"/><path d=\"M17.41 7.96l-1.37-1.37c-.4-.4-.92-.59-1.43-.59-.52 0-1.04.2-1.43.59L10.3 9.45l-7.72 7.72c-.78.78-.78 2.05 0 2.83L4 21.41c.39.39.9.59 1.41.59.51 0 1.02-.2 1.41-.59l7.78-7.78 2.81-2.81c.8-.78.8-2.07 0-2.86zM5.41 20L4 18.59l7.72-7.72 1.47 1.35L5.41 20z\"/>\n",
              "  </svg>\n",
              "      </button>\n",
              "      \n",
              "  <style>\n",
              "    .colab-df-container {\n",
              "      display:flex;\n",
              "      flex-wrap:wrap;\n",
              "      gap: 12px;\n",
              "    }\n",
              "\n",
              "    .colab-df-convert {\n",
              "      background-color: #E8F0FE;\n",
              "      border: none;\n",
              "      border-radius: 50%;\n",
              "      cursor: pointer;\n",
              "      display: none;\n",
              "      fill: #1967D2;\n",
              "      height: 32px;\n",
              "      padding: 0 0 0 0;\n",
              "      width: 32px;\n",
              "    }\n",
              "\n",
              "    .colab-df-convert:hover {\n",
              "      background-color: #E2EBFA;\n",
              "      box-shadow: 0px 1px 2px rgba(60, 64, 67, 0.3), 0px 1px 3px 1px rgba(60, 64, 67, 0.15);\n",
              "      fill: #174EA6;\n",
              "    }\n",
              "\n",
              "    [theme=dark] .colab-df-convert {\n",
              "      background-color: #3B4455;\n",
              "      fill: #D2E3FC;\n",
              "    }\n",
              "\n",
              "    [theme=dark] .colab-df-convert:hover {\n",
              "      background-color: #434B5C;\n",
              "      box-shadow: 0px 1px 3px 1px rgba(0, 0, 0, 0.15);\n",
              "      filter: drop-shadow(0px 1px 2px rgba(0, 0, 0, 0.3));\n",
              "      fill: #FFFFFF;\n",
              "    }\n",
              "  </style>\n",
              "\n",
              "      <script>\n",
              "        const buttonEl =\n",
              "          document.querySelector('#df-cb89b8cd-f5a8-4f9a-b0e2-6a062f3837d9 button.colab-df-convert');\n",
              "        buttonEl.style.display =\n",
              "          google.colab.kernel.accessAllowed ? 'block' : 'none';\n",
              "\n",
              "        async function convertToInteractive(key) {\n",
              "          const element = document.querySelector('#df-cb89b8cd-f5a8-4f9a-b0e2-6a062f3837d9');\n",
              "          const dataTable =\n",
              "            await google.colab.kernel.invokeFunction('convertToInteractive',\n",
              "                                                     [key], {});\n",
              "          if (!dataTable) return;\n",
              "\n",
              "          const docLinkHtml = 'Like what you see? Visit the ' +\n",
              "            '<a target=\"_blank\" href=https://colab.research.google.com/notebooks/data_table.ipynb>data table notebook</a>'\n",
              "            + ' to learn more about interactive tables.';\n",
              "          element.innerHTML = '';\n",
              "          dataTable['output_type'] = 'display_data';\n",
              "          await google.colab.output.renderOutput(dataTable, element);\n",
              "          const docLink = document.createElement('div');\n",
              "          docLink.innerHTML = docLinkHtml;\n",
              "          element.appendChild(docLink);\n",
              "        }\n",
              "      </script>\n",
              "    </div>\n",
              "  </div>\n",
              "  "
            ]
          },
          "metadata": {},
          "execution_count": 19
        }
      ]
    },
    {
      "cell_type": "code",
      "source": [
        "# Check for na values\n",
        "ds.isna().sum()"
      ],
      "metadata": {
        "colab": {
          "base_uri": "https://localhost:8080/"
        },
        "id": "-dNDEEZMXqCI",
        "outputId": "62a63668-7fc4-42ed-af6d-8a25280e6c1b"
      },
      "execution_count": 20,
      "outputs": [
        {
          "output_type": "execute_result",
          "data": {
            "text/plain": [
              "Нарушения сна                              0\n",
              "Тревога                                    0\n",
              "Депрессия                                  0\n",
              "Пол                                        0\n",
              "Полных лет                                 0\n",
              "Образование                                0\n",
              "Род занятий                                0\n",
              "Семейное положение                         0\n",
              "Удовлетворенность семейными отношениями    0\n",
              "Были ли нарушения сна                      0\n",
              "ИМТ                                        0\n",
              "Динамика веса за год                       0\n",
              "Операции                                   0\n",
              "Аллергии                                   0\n",
              "СД                                         0\n",
              "Забол кожи                                 0\n",
              "ГБ                                         0\n",
              "Панкреатит                                 0\n",
              "Дисфункция ЖКТ                             0\n",
              "ЧМТ                                        0\n",
              "Насл отягощенность                         0\n",
              "Дебют                                      0\n",
              "Стаж шизофр                                0\n",
              "Преобл синдром                             0\n",
              "P                                          0\n",
              "N                                          0\n",
              "G                                          0\n",
              "dtype: int64"
            ]
          },
          "metadata": {},
          "execution_count": 20
        }
      ]
    },
    {
      "cell_type": "code",
      "source": [
        "ds.info()"
      ],
      "metadata": {
        "colab": {
          "base_uri": "https://localhost:8080/"
        },
        "id": "Kak3ZDUIIWNo",
        "outputId": "39ba629f-1307-4a52-db11-4813abbdec1f"
      },
      "execution_count": 21,
      "outputs": [
        {
          "output_type": "stream",
          "name": "stdout",
          "text": [
            "<class 'pandas.core.frame.DataFrame'>\n",
            "Int64Index: 174 entries, 0 to 179\n",
            "Data columns (total 27 columns):\n",
            " #   Column                                   Non-Null Count  Dtype  \n",
            "---  ------                                   --------------  -----  \n",
            " 0   Нарушения сна                            174 non-null    int64  \n",
            " 1   Тревога                                  174 non-null    int64  \n",
            " 2   Депрессия                                174 non-null    int64  \n",
            " 3   Пол                                      174 non-null    int64  \n",
            " 4   Полных лет                               174 non-null    int64  \n",
            " 5   Образование                              174 non-null    int64  \n",
            " 6   Род занятий                              174 non-null    int64  \n",
            " 7   Семейное положение                       174 non-null    int64  \n",
            " 8   Удовлетворенность семейными отношениями  174 non-null    int64  \n",
            " 9   Были ли нарушения сна                    174 non-null    int64  \n",
            " 10  ИМТ                                      174 non-null    float64\n",
            " 11  Динамика веса за год                     174 non-null    int64  \n",
            " 12  Операции                                 174 non-null    int64  \n",
            " 13  Аллергии                                 174 non-null    object \n",
            " 14  СД                                       174 non-null    int64  \n",
            " 15  Забол кожи                               174 non-null    int64  \n",
            " 16  ГБ                                       174 non-null    int64  \n",
            " 17  Панкреатит                               174 non-null    int64  \n",
            " 18  Дисфункция ЖКТ                           174 non-null    int64  \n",
            " 19  ЧМТ                                      174 non-null    int64  \n",
            " 20  Насл отягощенность                       174 non-null    int64  \n",
            " 21  Дебют                                    174 non-null    float64\n",
            " 22  Стаж шизофр                              174 non-null    float64\n",
            " 23  Преобл синдром                           174 non-null    int64  \n",
            " 24  P                                        174 non-null    int64  \n",
            " 25  N                                        174 non-null    int64  \n",
            " 26  G                                        174 non-null    int64  \n",
            "dtypes: float64(3), int64(23), object(1)\n",
            "memory usage: 38.1+ KB\n"
          ]
        }
      ]
    },
    {
      "cell_type": "code",
      "source": [
        "# turn dataset to float32\n",
        "ds = ds.astype(np.float32)\n",
        "ds.info()"
      ],
      "metadata": {
        "colab": {
          "base_uri": "https://localhost:8080/"
        },
        "id": "kLmf_yhQIdAS",
        "outputId": "1c901a5c-b5ad-4236-df38-48c90164d935"
      },
      "execution_count": 22,
      "outputs": [
        {
          "output_type": "stream",
          "name": "stdout",
          "text": [
            "<class 'pandas.core.frame.DataFrame'>\n",
            "Int64Index: 174 entries, 0 to 179\n",
            "Data columns (total 27 columns):\n",
            " #   Column                                   Non-Null Count  Dtype  \n",
            "---  ------                                   --------------  -----  \n",
            " 0   Нарушения сна                            174 non-null    float32\n",
            " 1   Тревога                                  174 non-null    float32\n",
            " 2   Депрессия                                174 non-null    float32\n",
            " 3   Пол                                      174 non-null    float32\n",
            " 4   Полных лет                               174 non-null    float32\n",
            " 5   Образование                              174 non-null    float32\n",
            " 6   Род занятий                              174 non-null    float32\n",
            " 7   Семейное положение                       174 non-null    float32\n",
            " 8   Удовлетворенность семейными отношениями  174 non-null    float32\n",
            " 9   Были ли нарушения сна                    174 non-null    float32\n",
            " 10  ИМТ                                      174 non-null    float32\n",
            " 11  Динамика веса за год                     174 non-null    float32\n",
            " 12  Операции                                 174 non-null    float32\n",
            " 13  Аллергии                                 173 non-null    float32\n",
            " 14  СД                                       174 non-null    float32\n",
            " 15  Забол кожи                               174 non-null    float32\n",
            " 16  ГБ                                       174 non-null    float32\n",
            " 17  Панкреатит                               174 non-null    float32\n",
            " 18  Дисфункция ЖКТ                           174 non-null    float32\n",
            " 19  ЧМТ                                      174 non-null    float32\n",
            " 20  Насл отягощенность                       174 non-null    float32\n",
            " 21  Дебют                                    174 non-null    float32\n",
            " 22  Стаж шизофр                              174 non-null    float32\n",
            " 23  Преобл синдром                           174 non-null    float32\n",
            " 24  P                                        174 non-null    float32\n",
            " 25  N                                        174 non-null    float32\n",
            " 26  G                                        174 non-null    float32\n",
            "dtypes: float32(27)\n",
            "memory usage: 19.7 KB\n"
          ]
        }
      ]
    },
    {
      "cell_type": "code",
      "source": [
        "ds['Нарушения сна'].value_counts()"
      ],
      "metadata": {
        "colab": {
          "base_uri": "https://localhost:8080/"
        },
        "id": "A5Ai6pimUakX",
        "outputId": "37e0bb44-ebcf-4116-bc6b-f21c4d31497e"
      },
      "execution_count": 23,
      "outputs": [
        {
          "output_type": "execute_result",
          "data": {
            "text/plain": [
              "1.0    108\n",
              "0.0     66\n",
              "Name: Нарушения сна, dtype: int64"
            ]
          },
          "metadata": {},
          "execution_count": 23
        }
      ]
    },
    {
      "cell_type": "code",
      "source": [
        "ds['Тревога'].value_counts()\n"
      ],
      "metadata": {
        "colab": {
          "base_uri": "https://localhost:8080/"
        },
        "id": "4fytj8feUaq7",
        "outputId": "83948948-d127-4ee2-ca5f-f9f6171f012c"
      },
      "execution_count": 24,
      "outputs": [
        {
          "output_type": "execute_result",
          "data": {
            "text/plain": [
              "0.0    131\n",
              "1.0     43\n",
              "Name: Тревога, dtype: int64"
            ]
          },
          "metadata": {},
          "execution_count": 24
        }
      ]
    },
    {
      "cell_type": "code",
      "source": [
        "ds['Депрессия'].value_counts()"
      ],
      "metadata": {
        "colab": {
          "base_uri": "https://localhost:8080/"
        },
        "id": "Z96bukAkUata",
        "outputId": "c6c30d17-9bb9-46db-fbef-1b2d27a76f41"
      },
      "execution_count": 25,
      "outputs": [
        {
          "output_type": "execute_result",
          "data": {
            "text/plain": [
              "0.0    106\n",
              "1.0     68\n",
              "Name: Депрессия, dtype: int64"
            ]
          },
          "metadata": {},
          "execution_count": 25
        }
      ]
    },
    {
      "cell_type": "markdown",
      "source": [
        "###  Note to myrself. Стаж шизофр variable greatly reduced prediction accuracy after it was removed"
      ],
      "metadata": {
        "id": "iiq-fKYgNMlo"
      }
    },
    {
      "cell_type": "code",
      "source": [
        "# Let's try to use 'Нарушения сна' as y value\n",
        "data = ds.drop(columns=['Тревога', 'Депрессия'])"
      ],
      "metadata": {
        "id": "z0Fx5Wsrk2mi"
      },
      "execution_count": 26,
      "outputs": []
    },
    {
      "cell_type": "code",
      "source": [
        ""
      ],
      "metadata": {
        "id": "x-rJ0J9gvL8Q"
      },
      "execution_count": 26,
      "outputs": []
    },
    {
      "cell_type": "code",
      "source": [
        "y = data['Нарушения сна']\n",
        "# X = data.drop(columns=['Нарушения сна'])\n",
        "# X = data[['Пол', 'Удовлетворенность семейными отношениями', 'ЧМТ','Стаж шизофр', 'Образование']]\n",
        "X = data[['Пол', 'Удовлетворенность семейными отношениями', 'ЧМТ','Стаж шизофр', 'Образование', 'Насл отягощенность', 'P', 'N', 'G']]\n",
        "# X = data[[ 'P', 'N', 'G']] # Only with these 3 values we can get very good result\n",
        "\n",
        "X_train, X_valid, y_train, y_valid = train_test_split(X, y, test_size=0.2)"
      ],
      "metadata": {
        "id": "jxDbWXbvvMEV"
      },
      "execution_count": 27,
      "outputs": []
    },
    {
      "cell_type": "code",
      "source": [
        "# Scale X from 0 to 1\n",
        "from sklearn.preprocessing import StandardScaler\n",
        "from sklearn.preprocessing import MinMaxScaler\n",
        "# scaler = StandardScaler()\n",
        "minmax_scaler = MinMaxScaler()\n",
        "\n",
        "# X_train_scaled = scaler.fit_transform(X_train)\n",
        "# X_valid_scaled = scaler.transform(X_valid)\n",
        "\n",
        "X_train_scaled = minmax_scaler.fit_transform(X_train)\n",
        "X_valid_scaled = minmax_scaler.transform(X_valid)"
      ],
      "metadata": {
        "id": "7kZTjgK7vMG8"
      },
      "execution_count": 40,
      "outputs": []
    },
    {
      "cell_type": "code",
      "source": [
        "tf.random.set_seed(42)\n",
        "\n",
        "model = tf.keras.Sequential([\n",
        "    tf.keras.layers.Dense(10, activation='relu'),\n",
        "    tf.keras.layers.Dense(10, activation='relu'),\n",
        "    # tf.keras.layers.Dense(10, activation='relu'),\n",
        "\n",
        "    # tf.keras.layers.Dense(256, activation='relu'),\n",
        "    tf.keras.layers.Dense(1, activation='sigmoid')\n",
        "])\n",
        "\n",
        "model.compile(\n",
        "    loss=tf.keras.losses.binary_crossentropy,\n",
        "    optimizer=tf.keras.optimizers.Adam(lr=0.003), # lr=0.003\n",
        "    metrics=[\"accuracy\"]\n",
        ")\n",
        "\n",
        "# Create a learning rate callback\n",
        "lr_scheduler = tf.keras.callbacks.LearningRateScheduler(lambda epoch: 1e-4 * 10**(epoch/20)) # Learning rate will increase at each epoch\n",
        "\n",
        "history0 = model.fit(X_train_scaled, \n",
        "                    y_train, \n",
        "                    epochs=50,\n",
        "                    validation_data = (X_valid_scaled, y_valid),\n",
        "                    callbacks=[lr_scheduler])"
      ],
      "metadata": {
        "colab": {
          "base_uri": "https://localhost:8080/"
        },
        "id": "yOQOcCCXPrrL",
        "outputId": "d4ddff4f-6196-4428-9a68-cc44e883d877"
      },
      "execution_count": 41,
      "outputs": [
        {
          "output_type": "stream",
          "name": "stdout",
          "text": [
            "Epoch 1/50\n"
          ]
        },
        {
          "output_type": "stream",
          "name": "stderr",
          "text": [
            "/usr/local/lib/python3.7/dist-packages/keras/optimizer_v2/adam.py:105: UserWarning: The `lr` argument is deprecated, use `learning_rate` instead.\n",
            "  super(Adam, self).__init__(name, **kwargs)\n"
          ]
        },
        {
          "output_type": "stream",
          "name": "stdout",
          "text": [
            "5/5 [==============================] - 2s 105ms/step - loss: 0.8212 - accuracy: 0.3885 - val_loss: 0.8222 - val_accuracy: 0.3429 - lr: 1.0000e-04\n",
            "Epoch 2/50\n",
            "5/5 [==============================] - 0s 20ms/step - loss: 0.8188 - accuracy: 0.3885 - val_loss: 0.8195 - val_accuracy: 0.3429 - lr: 1.1220e-04\n",
            "Epoch 3/50\n",
            "5/5 [==============================] - 0s 33ms/step - loss: 0.8159 - accuracy: 0.3813 - val_loss: 0.8165 - val_accuracy: 0.3429 - lr: 1.2589e-04\n",
            "Epoch 4/50\n",
            "5/5 [==============================] - 0s 10ms/step - loss: 0.8131 - accuracy: 0.3813 - val_loss: 0.8131 - val_accuracy: 0.3429 - lr: 1.4125e-04\n",
            "Epoch 5/50\n",
            "5/5 [==============================] - 0s 18ms/step - loss: 0.8097 - accuracy: 0.3813 - val_loss: 0.8096 - val_accuracy: 0.3429 - lr: 1.5849e-04\n",
            "Epoch 6/50\n",
            "5/5 [==============================] - 0s 18ms/step - loss: 0.8064 - accuracy: 0.3813 - val_loss: 0.8055 - val_accuracy: 0.3429 - lr: 1.7783e-04\n",
            "Epoch 7/50\n",
            "5/5 [==============================] - 0s 22ms/step - loss: 0.8022 - accuracy: 0.3813 - val_loss: 0.8014 - val_accuracy: 0.3429 - lr: 1.9953e-04\n",
            "Epoch 8/50\n",
            "5/5 [==============================] - 0s 13ms/step - loss: 0.7981 - accuracy: 0.3813 - val_loss: 0.7968 - val_accuracy: 0.3429 - lr: 2.2387e-04\n",
            "Epoch 9/50\n",
            "5/5 [==============================] - 0s 10ms/step - loss: 0.7935 - accuracy: 0.3813 - val_loss: 0.7918 - val_accuracy: 0.3429 - lr: 2.5119e-04\n",
            "Epoch 10/50\n",
            "5/5 [==============================] - 0s 17ms/step - loss: 0.7893 - accuracy: 0.3813 - val_loss: 0.7863 - val_accuracy: 0.3429 - lr: 2.8184e-04\n",
            "Epoch 11/50\n",
            "5/5 [==============================] - 0s 16ms/step - loss: 0.7835 - accuracy: 0.3813 - val_loss: 0.7807 - val_accuracy: 0.3143 - lr: 3.1623e-04\n",
            "Epoch 12/50\n",
            "5/5 [==============================] - 0s 18ms/step - loss: 0.7781 - accuracy: 0.3813 - val_loss: 0.7750 - val_accuracy: 0.3143 - lr: 3.5481e-04\n",
            "Epoch 13/50\n",
            "5/5 [==============================] - 0s 14ms/step - loss: 0.7725 - accuracy: 0.3813 - val_loss: 0.7689 - val_accuracy: 0.3143 - lr: 3.9811e-04\n",
            "Epoch 14/50\n",
            "5/5 [==============================] - 0s 24ms/step - loss: 0.7666 - accuracy: 0.3813 - val_loss: 0.7625 - val_accuracy: 0.3143 - lr: 4.4668e-04\n",
            "Epoch 15/50\n",
            "5/5 [==============================] - 0s 23ms/step - loss: 0.7604 - accuracy: 0.3813 - val_loss: 0.7557 - val_accuracy: 0.3143 - lr: 5.0119e-04\n",
            "Epoch 16/50\n",
            "5/5 [==============================] - 0s 17ms/step - loss: 0.7548 - accuracy: 0.3885 - val_loss: 0.7484 - val_accuracy: 0.3143 - lr: 5.6234e-04\n",
            "Epoch 17/50\n",
            "5/5 [==============================] - 0s 10ms/step - loss: 0.7477 - accuracy: 0.3885 - val_loss: 0.7415 - val_accuracy: 0.3143 - lr: 6.3096e-04\n",
            "Epoch 18/50\n",
            "5/5 [==============================] - 0s 27ms/step - loss: 0.7414 - accuracy: 0.3885 - val_loss: 0.7345 - val_accuracy: 0.3143 - lr: 7.0795e-04\n",
            "Epoch 19/50\n",
            "5/5 [==============================] - 0s 27ms/step - loss: 0.7359 - accuracy: 0.3885 - val_loss: 0.7278 - val_accuracy: 0.3143 - lr: 7.9433e-04\n",
            "Epoch 20/50\n",
            "5/5 [==============================] - 0s 16ms/step - loss: 0.7296 - accuracy: 0.3885 - val_loss: 0.7219 - val_accuracy: 0.3429 - lr: 8.9125e-04\n",
            "Epoch 21/50\n",
            "5/5 [==============================] - 0s 17ms/step - loss: 0.7239 - accuracy: 0.3813 - val_loss: 0.7161 - val_accuracy: 0.3714 - lr: 0.0010\n",
            "Epoch 22/50\n",
            "5/5 [==============================] - 0s 11ms/step - loss: 0.7173 - accuracy: 0.3885 - val_loss: 0.7105 - val_accuracy: 0.3714 - lr: 0.0011\n",
            "Epoch 23/50\n",
            "5/5 [==============================] - 0s 15ms/step - loss: 0.7130 - accuracy: 0.4173 - val_loss: 0.7049 - val_accuracy: 0.4286 - lr: 0.0013\n",
            "Epoch 24/50\n",
            "5/5 [==============================] - 0s 23ms/step - loss: 0.7066 - accuracy: 0.4173 - val_loss: 0.6997 - val_accuracy: 0.4571 - lr: 0.0014\n",
            "Epoch 25/50\n",
            "5/5 [==============================] - 0s 36ms/step - loss: 0.7027 - accuracy: 0.4173 - val_loss: 0.6937 - val_accuracy: 0.5429 - lr: 0.0016\n",
            "Epoch 26/50\n",
            "5/5 [==============================] - 0s 18ms/step - loss: 0.6978 - accuracy: 0.4532 - val_loss: 0.6876 - val_accuracy: 0.6286 - lr: 0.0018\n",
            "Epoch 27/50\n",
            "5/5 [==============================] - 0s 17ms/step - loss: 0.6930 - accuracy: 0.4964 - val_loss: 0.6827 - val_accuracy: 0.6286 - lr: 0.0020\n",
            "Epoch 28/50\n",
            "5/5 [==============================] - 0s 15ms/step - loss: 0.6895 - accuracy: 0.5108 - val_loss: 0.6784 - val_accuracy: 0.6286 - lr: 0.0022\n",
            "Epoch 29/50\n",
            "5/5 [==============================] - 0s 21ms/step - loss: 0.6858 - accuracy: 0.5396 - val_loss: 0.6751 - val_accuracy: 0.6571 - lr: 0.0025\n",
            "Epoch 30/50\n",
            "5/5 [==============================] - 0s 11ms/step - loss: 0.6823 - accuracy: 0.5899 - val_loss: 0.6715 - val_accuracy: 0.6571 - lr: 0.0028\n",
            "Epoch 31/50\n",
            "5/5 [==============================] - 0s 18ms/step - loss: 0.6778 - accuracy: 0.6043 - val_loss: 0.6679 - val_accuracy: 0.6571 - lr: 0.0032\n",
            "Epoch 32/50\n",
            "5/5 [==============================] - 0s 11ms/step - loss: 0.6746 - accuracy: 0.6331 - val_loss: 0.6629 - val_accuracy: 0.6571 - lr: 0.0035\n",
            "Epoch 33/50\n",
            "5/5 [==============================] - 0s 11ms/step - loss: 0.6714 - accuracy: 0.6115 - val_loss: 0.6576 - val_accuracy: 0.6286 - lr: 0.0040\n",
            "Epoch 34/50\n",
            "5/5 [==============================] - 0s 14ms/step - loss: 0.6689 - accuracy: 0.6187 - val_loss: 0.6552 - val_accuracy: 0.6286 - lr: 0.0045\n",
            "Epoch 35/50\n",
            "5/5 [==============================] - 0s 15ms/step - loss: 0.6670 - accuracy: 0.6187 - val_loss: 0.6540 - val_accuracy: 0.6286 - lr: 0.0050\n",
            "Epoch 36/50\n",
            "5/5 [==============================] - 0s 17ms/step - loss: 0.6653 - accuracy: 0.6187 - val_loss: 0.6536 - val_accuracy: 0.6286 - lr: 0.0056\n",
            "Epoch 37/50\n",
            "5/5 [==============================] - 0s 18ms/step - loss: 0.6643 - accuracy: 0.6187 - val_loss: 0.6518 - val_accuracy: 0.6571 - lr: 0.0063\n",
            "Epoch 38/50\n",
            "5/5 [==============================] - 0s 16ms/step - loss: 0.6625 - accuracy: 0.6115 - val_loss: 0.6499 - val_accuracy: 0.6571 - lr: 0.0071\n",
            "Epoch 39/50\n",
            "5/5 [==============================] - 0s 29ms/step - loss: 0.6614 - accuracy: 0.6115 - val_loss: 0.6494 - val_accuracy: 0.6571 - lr: 0.0079\n",
            "Epoch 40/50\n",
            "5/5 [==============================] - 0s 12ms/step - loss: 0.6602 - accuracy: 0.6115 - val_loss: 0.6493 - val_accuracy: 0.6286 - lr: 0.0089\n",
            "Epoch 41/50\n",
            "5/5 [==============================] - 0s 36ms/step - loss: 0.6586 - accuracy: 0.6187 - val_loss: 0.6488 - val_accuracy: 0.6286 - lr: 0.0100\n",
            "Epoch 42/50\n",
            "5/5 [==============================] - 0s 21ms/step - loss: 0.6601 - accuracy: 0.6187 - val_loss: 0.6513 - val_accuracy: 0.6286 - lr: 0.0112\n",
            "Epoch 43/50\n",
            "5/5 [==============================] - 0s 37ms/step - loss: 0.6553 - accuracy: 0.6187 - val_loss: 0.6483 - val_accuracy: 0.6286 - lr: 0.0126\n",
            "Epoch 44/50\n",
            "5/5 [==============================] - 0s 35ms/step - loss: 0.6530 - accuracy: 0.6187 - val_loss: 0.6482 - val_accuracy: 0.6286 - lr: 0.0141\n",
            "Epoch 45/50\n",
            "5/5 [==============================] - 0s 13ms/step - loss: 0.6502 - accuracy: 0.6187 - val_loss: 0.6504 - val_accuracy: 0.6571 - lr: 0.0158\n",
            "Epoch 46/50\n",
            "5/5 [==============================] - 0s 13ms/step - loss: 0.6500 - accuracy: 0.6331 - val_loss: 0.6511 - val_accuracy: 0.6286 - lr: 0.0178\n",
            "Epoch 47/50\n",
            "5/5 [==============================] - 0s 13ms/step - loss: 0.6388 - accuracy: 0.6403 - val_loss: 0.6350 - val_accuracy: 0.6571 - lr: 0.0200\n",
            "Epoch 48/50\n",
            "5/5 [==============================] - 0s 15ms/step - loss: 0.6428 - accuracy: 0.6115 - val_loss: 0.6413 - val_accuracy: 0.6286 - lr: 0.0224\n",
            "Epoch 49/50\n",
            "5/5 [==============================] - 0s 27ms/step - loss: 0.6379 - accuracy: 0.6547 - val_loss: 0.6534 - val_accuracy: 0.5714 - lr: 0.0251\n",
            "Epoch 50/50\n",
            "5/5 [==============================] - 0s 11ms/step - loss: 0.6235 - accuracy: 0.6691 - val_loss: 0.6353 - val_accuracy: 0.6857 - lr: 0.0282\n"
          ]
        }
      ]
    },
    {
      "cell_type": "code",
      "source": [
        "import matplotlib.pyplot as plt\n",
        "\n",
        "# Plot the validation and training data separately\n",
        "def plot_loss_curves(history):\n",
        "  \"\"\"\n",
        "  Returns separate loss curves for training and validation metrics.\n",
        "  \"\"\" \n",
        "  loss = history.history['loss']\n",
        "  val_loss = history.history['val_loss']\n",
        "\n",
        "  accuracy = history.history['accuracy']\n",
        "  val_accuracy = history.history['val_accuracy']\n",
        "\n",
        "  epochs = range(len(history.history['loss']))\n",
        "\n",
        "  # Plot loss\n",
        "  plt.plot(epochs, loss, label='training_loss')\n",
        "  plt.plot(epochs, val_loss, label='val_loss')\n",
        "  plt.title('Loss')\n",
        "  plt.xlabel('Epochs')\n",
        "  plt.legend()\n",
        "\n",
        "  # Plot accuracy\n",
        "  plt.figure()\n",
        "  plt.plot(epochs, accuracy, label='training_accuracy')\n",
        "  plt.plot(epochs, val_accuracy, label='val_accuracy')\n",
        "  plt.title('Accuracy')\n",
        "  plt.xlabel('Epochs')\n",
        "  plt.legend();\n"
      ],
      "metadata": {
        "id": "QVMn6WFCPEHX"
      },
      "execution_count": 42,
      "outputs": []
    },
    {
      "cell_type": "code",
      "source": [
        "plot_loss_curves(history0)"
      ],
      "metadata": {
        "colab": {
          "base_uri": "https://localhost:8080/",
          "height": 573
        },
        "id": "3zFAGeTMPvxf",
        "outputId": "963f59e6-9140-43f3-bb8f-cbe3e606f988"
      },
      "execution_count": 43,
      "outputs": [
        {
          "output_type": "display_data",
          "data": {
            "text/plain": [
              "<Figure size 432x288 with 1 Axes>"
            ],
            "image/png": "[encoded data removed]"
          },
          "metadata": {
            "needs_background": "light"
          }
        },
        {
          "output_type": "display_data",
          "data": {
            "text/plain": [
              "<Figure size 432x288 with 1 Axes>"
            ],
            "image/png": "[encoded data removed]"
          },
          "metadata": {
            "needs_background": "light"
          }
        }
      ]
    },
    {
      "cell_type": "markdown",
      "source": [
        "### Find bels LR"
      ],
      "metadata": {
        "id": "dXokhoC2PwQk"
      }
    },
    {
      "cell_type": "code",
      "source": [
        "tf.random.set_seed(42)\n",
        "\n",
        "model = tf.keras.Sequential([\n",
        "    tf.keras.layers.Dense(10, activation='relu'),\n",
        "    tf.keras.layers.Dense(10, activation='relu'),\n",
        "    # tf.keras.layers.Dense(10, activation='relu'),\n",
        "\n",
        "    # tf.keras.layers.Dense(256, activation='relu'),\n",
        "    tf.keras.layers.Dense(1, activation='sigmoid')\n",
        "])\n",
        "\n",
        "model.compile(\n",
        "    loss=tf.keras.losses.binary_crossentropy,\n",
        "    optimizer=tf.keras.optimizers.Adam(), # lr=0.003\n",
        "    metrics=[\"accuracy\"]\n",
        ")\n",
        "\n",
        "# Create a learning rate callback\n",
        "lr_scheduler = tf.keras.callbacks.LearningRateScheduler(lambda epoch: 1e-4 * 10**(epoch/20)) # Learning rate will increase at each epoch\n",
        "\n",
        "history_lr = model.fit(X_train_scaled, \n",
        "                    y_train, \n",
        "                    epochs=100,\n",
        "                    validation_data = (X_valid_scaled, y_valid),\n",
        "                    callbacks=[lr_scheduler])"
      ],
      "metadata": {
        "colab": {
          "base_uri": "https://localhost:8080/"
        },
        "id": "hH0ZyOMevW6o",
        "outputId": "11b94981-6cdf-46de-ac03-df96d589108b"
      },
      "execution_count": 44,
      "outputs": [
        {
          "output_type": "stream",
          "name": "stdout",
          "text": [
            "Epoch 1/100\n",
            "5/5 [==============================] - 1s 51ms/step - loss: 0.8212 - accuracy: 0.3885 - val_loss: 0.8222 - val_accuracy: 0.3429 - lr: 1.0000e-04\n",
            "Epoch 2/100\n",
            "5/5 [==============================] - 0s 10ms/step - loss: 0.8188 - accuracy: 0.3885 - val_loss: 0.8195 - val_accuracy: 0.3429 - lr: 1.1220e-04\n",
            "Epoch 3/100\n",
            "5/5 [==============================] - 0s 11ms/step - loss: 0.8159 - accuracy: 0.3813 - val_loss: 0.8165 - val_accuracy: 0.3429 - lr: 1.2589e-04\n",
            "Epoch 4/100\n",
            "5/5 [==============================] - 0s 10ms/step - loss: 0.8131 - accuracy: 0.3813 - val_loss: 0.8131 - val_accuracy: 0.3429 - lr: 1.4125e-04\n",
            "Epoch 5/100\n",
            "5/5 [==============================] - 0s 12ms/step - loss: 0.8097 - accuracy: 0.3813 - val_loss: 0.8096 - val_accuracy: 0.3429 - lr: 1.5849e-04\n",
            "Epoch 6/100\n",
            "5/5 [==============================] - 0s 11ms/step - loss: 0.8064 - accuracy: 0.3813 - val_loss: 0.8055 - val_accuracy: 0.3429 - lr: 1.7783e-04\n",
            "Epoch 7/100\n",
            "5/5 [==============================] - 0s 11ms/step - loss: 0.8022 - accuracy: 0.3813 - val_loss: 0.8014 - val_accuracy: 0.3429 - lr: 1.9953e-04\n",
            "Epoch 8/100\n",
            "5/5 [==============================] - 0s 12ms/step - loss: 0.7981 - accuracy: 0.3813 - val_loss: 0.7968 - val_accuracy: 0.3429 - lr: 2.2387e-04\n",
            "Epoch 9/100\n",
            "5/5 [==============================] - 0s 19ms/step - loss: 0.7935 - accuracy: 0.3813 - val_loss: 0.7918 - val_accuracy: 0.3429 - lr: 2.5119e-04\n",
            "Epoch 10/100\n",
            "5/5 [==============================] - 0s 12ms/step - loss: 0.7893 - accuracy: 0.3813 - val_loss: 0.7863 - val_accuracy: 0.3429 - lr: 2.8184e-04\n",
            "Epoch 11/100\n",
            "5/5 [==============================] - 0s 13ms/step - loss: 0.7835 - accuracy: 0.3813 - val_loss: 0.7807 - val_accuracy: 0.3143 - lr: 3.1623e-04\n",
            "Epoch 12/100\n",
            "5/5 [==============================] - 0s 12ms/step - loss: 0.7781 - accuracy: 0.3813 - val_loss: 0.7750 - val_accuracy: 0.3143 - lr: 3.5481e-04\n",
            "Epoch 13/100\n",
            "5/5 [==============================] - 0s 11ms/step - loss: 0.7725 - accuracy: 0.3813 - val_loss: 0.7689 - val_accuracy: 0.3143 - lr: 3.9811e-04\n",
            "Epoch 14/100\n",
            "5/5 [==============================] - 0s 11ms/step - loss: 0.7666 - accuracy: 0.3813 - val_loss: 0.7625 - val_accuracy: 0.3143 - lr: 4.4668e-04\n",
            "Epoch 15/100\n",
            "5/5 [==============================] - 0s 11ms/step - loss: 0.7604 - accuracy: 0.3813 - val_loss: 0.7557 - val_accuracy: 0.3143 - lr: 5.0119e-04\n",
            "Epoch 16/100\n",
            "5/5 [==============================] - 0s 12ms/step - loss: 0.7548 - accuracy: 0.3885 - val_loss: 0.7484 - val_accuracy: 0.3143 - lr: 5.6234e-04\n",
            "Epoch 17/100\n",
            "5/5 [==============================] - 0s 12ms/step - loss: 0.7477 - accuracy: 0.3885 - val_loss: 0.7415 - val_accuracy: 0.3143 - lr: 6.3096e-04\n",
            "Epoch 18/100\n",
            "5/5 [==============================] - 0s 12ms/step - loss: 0.7414 - accuracy: 0.3885 - val_loss: 0.7345 - val_accuracy: 0.3143 - lr: 7.0795e-04\n",
            "Epoch 19/100\n",
            "5/5 [==============================] - 0s 13ms/step - loss: 0.7359 - accuracy: 0.3885 - val_loss: 0.7278 - val_accuracy: 0.3143 - lr: 7.9433e-04\n",
            "Epoch 20/100\n",
            "5/5 [==============================] - 0s 16ms/step - loss: 0.7296 - accuracy: 0.3885 - val_loss: 0.7219 - val_accuracy: 0.3429 - lr: 8.9125e-04\n",
            "Epoch 21/100\n",
            "5/5 [==============================] - 0s 14ms/step - loss: 0.7239 - accuracy: 0.3813 - val_loss: 0.7161 - val_accuracy: 0.3714 - lr: 0.0010\n",
            "Epoch 22/100\n",
            "5/5 [==============================] - 0s 16ms/step - loss: 0.7173 - accuracy: 0.3885 - val_loss: 0.7105 - val_accuracy: 0.3714 - lr: 0.0011\n",
            "Epoch 23/100\n",
            "5/5 [==============================] - 0s 12ms/step - loss: 0.7130 - accuracy: 0.4173 - val_loss: 0.7049 - val_accuracy: 0.4286 - lr: 0.0013\n",
            "Epoch 24/100\n",
            "5/5 [==============================] - 0s 17ms/step - loss: 0.7066 - accuracy: 0.4173 - val_loss: 0.6997 - val_accuracy: 0.4571 - lr: 0.0014\n",
            "Epoch 25/100\n",
            "5/5 [==============================] - 0s 17ms/step - loss: 0.7027 - accuracy: 0.4173 - val_loss: 0.6937 - val_accuracy: 0.5429 - lr: 0.0016\n",
            "Epoch 26/100\n",
            "5/5 [==============================] - 0s 15ms/step - loss: 0.6978 - accuracy: 0.4532 - val_loss: 0.6876 - val_accuracy: 0.6286 - lr: 0.0018\n",
            "Epoch 27/100\n",
            "5/5 [==============================] - 0s 11ms/step - loss: 0.6930 - accuracy: 0.4964 - val_loss: 0.6827 - val_accuracy: 0.6286 - lr: 0.0020\n",
            "Epoch 28/100\n",
            "5/5 [==============================] - 0s 11ms/step - loss: 0.6895 - accuracy: 0.5108 - val_loss: 0.6784 - val_accuracy: 0.6286 - lr: 0.0022\n",
            "Epoch 29/100\n",
            "5/5 [==============================] - 0s 11ms/step - loss: 0.6858 - accuracy: 0.5396 - val_loss: 0.6751 - val_accuracy: 0.6571 - lr: 0.0025\n",
            "Epoch 30/100\n",
            "5/5 [==============================] - 0s 11ms/step - loss: 0.6823 - accuracy: 0.5899 - val_loss: 0.6715 - val_accuracy: 0.6571 - lr: 0.0028\n",
            "Epoch 31/100\n",
            "5/5 [==============================] - 0s 11ms/step - loss: 0.6778 - accuracy: 0.6043 - val_loss: 0.6679 - val_accuracy: 0.6571 - lr: 0.0032\n",
            "Epoch 32/100\n",
            "5/5 [==============================] - 0s 11ms/step - loss: 0.6746 - accuracy: 0.6331 - val_loss: 0.6629 - val_accuracy: 0.6571 - lr: 0.0035\n",
            "Epoch 33/100\n",
            "5/5 [==============================] - 0s 12ms/step - loss: 0.6714 - accuracy: 0.6115 - val_loss: 0.6576 - val_accuracy: 0.6286 - lr: 0.0040\n",
            "Epoch 34/100\n",
            "5/5 [==============================] - 0s 12ms/step - loss: 0.6689 - accuracy: 0.6187 - val_loss: 0.6552 - val_accuracy: 0.6286 - lr: 0.0045\n",
            "Epoch 35/100\n",
            "5/5 [==============================] - 0s 12ms/step - loss: 0.6670 - accuracy: 0.6187 - val_loss: 0.6540 - val_accuracy: 0.6286 - lr: 0.0050\n",
            "Epoch 36/100\n",
            "5/5 [==============================] - 0s 12ms/step - loss: 0.6653 - accuracy: 0.6187 - val_loss: 0.6536 - val_accuracy: 0.6286 - lr: 0.0056\n",
            "Epoch 37/100\n",
            "5/5 [==============================] - 0s 13ms/step - loss: 0.6643 - accuracy: 0.6187 - val_loss: 0.6518 - val_accuracy: 0.6571 - lr: 0.0063\n",
            "Epoch 38/100\n",
            "5/5 [==============================] - 0s 12ms/step - loss: 0.6625 - accuracy: 0.6115 - val_loss: 0.6499 - val_accuracy: 0.6571 - lr: 0.0071\n",
            "Epoch 39/100\n",
            "5/5 [==============================] - 0s 13ms/step - loss: 0.6614 - accuracy: 0.6115 - val_loss: 0.6494 - val_accuracy: 0.6571 - lr: 0.0079\n",
            "Epoch 40/100\n",
            "5/5 [==============================] - 0s 12ms/step - loss: 0.6602 - accuracy: 0.6115 - val_loss: 0.6493 - val_accuracy: 0.6286 - lr: 0.0089\n",
            "Epoch 41/100\n",
            "5/5 [==============================] - 0s 13ms/step - loss: 0.6586 - accuracy: 0.6187 - val_loss: 0.6488 - val_accuracy: 0.6286 - lr: 0.0100\n",
            "Epoch 42/100\n",
            "5/5 [==============================] - 0s 18ms/step - loss: 0.6601 - accuracy: 0.6187 - val_loss: 0.6513 - val_accuracy: 0.6286 - lr: 0.0112\n",
            "Epoch 43/100\n",
            "5/5 [==============================] - 0s 12ms/step - loss: 0.6553 - accuracy: 0.6187 - val_loss: 0.6483 - val_accuracy: 0.6286 - lr: 0.0126\n",
            "Epoch 44/100\n",
            "5/5 [==============================] - 0s 11ms/step - loss: 0.6530 - accuracy: 0.6187 - val_loss: 0.6482 - val_accuracy: 0.6286 - lr: 0.0141\n",
            "Epoch 45/100\n",
            "5/5 [==============================] - 0s 12ms/step - loss: 0.6502 - accuracy: 0.6187 - val_loss: 0.6504 - val_accuracy: 0.6571 - lr: 0.0158\n",
            "Epoch 46/100\n",
            "5/5 [==============================] - 0s 11ms/step - loss: 0.6500 - accuracy: 0.6331 - val_loss: 0.6511 - val_accuracy: 0.6286 - lr: 0.0178\n",
            "Epoch 47/100\n",
            "5/5 [==============================] - 0s 11ms/step - loss: 0.6388 - accuracy: 0.6403 - val_loss: 0.6350 - val_accuracy: 0.6571 - lr: 0.0200\n",
            "Epoch 48/100\n",
            "5/5 [==============================] - 0s 12ms/step - loss: 0.6428 - accuracy: 0.6115 - val_loss: 0.6413 - val_accuracy: 0.6286 - lr: 0.0224\n",
            "Epoch 49/100\n",
            "5/5 [==============================] - 0s 13ms/step - loss: 0.6379 - accuracy: 0.6547 - val_loss: 0.6534 - val_accuracy: 0.5714 - lr: 0.0251\n",
            "Epoch 50/100\n",
            "5/5 [==============================] - 0s 11ms/step - loss: 0.6235 - accuracy: 0.6691 - val_loss: 0.6353 - val_accuracy: 0.6857 - lr: 0.0282\n",
            "Epoch 51/100\n",
            "5/5 [==============================] - 0s 11ms/step - loss: 0.6136 - accuracy: 0.6763 - val_loss: 0.6687 - val_accuracy: 0.6571 - lr: 0.0316\n",
            "Epoch 52/100\n",
            "5/5 [==============================] - 0s 11ms/step - loss: 0.6234 - accuracy: 0.6691 - val_loss: 0.6587 - val_accuracy: 0.6286 - lr: 0.0355\n",
            "Epoch 53/100\n",
            "5/5 [==============================] - 0s 11ms/step - loss: 0.6374 - accuracy: 0.5971 - val_loss: 0.6644 - val_accuracy: 0.5714 - lr: 0.0398\n",
            "Epoch 54/100\n",
            "5/5 [==============================] - 0s 11ms/step - loss: 0.6130 - accuracy: 0.6763 - val_loss: 0.6950 - val_accuracy: 0.5714 - lr: 0.0447\n",
            "Epoch 55/100\n",
            "5/5 [==============================] - 0s 12ms/step - loss: 0.6063 - accuracy: 0.6835 - val_loss: 0.6529 - val_accuracy: 0.6286 - lr: 0.0501\n",
            "Epoch 56/100\n",
            "5/5 [==============================] - 0s 11ms/step - loss: 0.6081 - accuracy: 0.6763 - val_loss: 0.6054 - val_accuracy: 0.6857 - lr: 0.0562\n",
            "Epoch 57/100\n",
            "5/5 [==============================] - 0s 11ms/step - loss: 0.6221 - accuracy: 0.6906 - val_loss: 0.6571 - val_accuracy: 0.6571 - lr: 0.0631\n",
            "Epoch 58/100\n",
            "5/5 [==============================] - 0s 15ms/step - loss: 0.6100 - accuracy: 0.6763 - val_loss: 0.6440 - val_accuracy: 0.5714 - lr: 0.0708\n",
            "Epoch 59/100\n",
            "5/5 [==============================] - 0s 13ms/step - loss: 0.6230 - accuracy: 0.6691 - val_loss: 0.6595 - val_accuracy: 0.6571 - lr: 0.0794\n",
            "Epoch 60/100\n",
            "5/5 [==============================] - 0s 11ms/step - loss: 0.6203 - accuracy: 0.6906 - val_loss: 0.6783 - val_accuracy: 0.6571 - lr: 0.0891\n",
            "Epoch 61/100\n",
            "5/5 [==============================] - 0s 12ms/step - loss: 0.5863 - accuracy: 0.7050 - val_loss: 0.6481 - val_accuracy: 0.6571 - lr: 0.1000\n",
            "Epoch 62/100\n",
            "5/5 [==============================] - 0s 12ms/step - loss: 0.6021 - accuracy: 0.6978 - val_loss: 0.6820 - val_accuracy: 0.6000 - lr: 0.1122\n",
            "Epoch 63/100\n",
            "5/5 [==============================] - 0s 11ms/step - loss: 0.5705 - accuracy: 0.6978 - val_loss: 0.7733 - val_accuracy: 0.5429 - lr: 0.1259\n",
            "Epoch 64/100\n",
            "5/5 [==============================] - 0s 12ms/step - loss: 0.6245 - accuracy: 0.6619 - val_loss: 0.6217 - val_accuracy: 0.6857 - lr: 0.1413\n",
            "Epoch 65/100\n",
            "5/5 [==============================] - 0s 12ms/step - loss: 0.6422 - accuracy: 0.6043 - val_loss: 0.6691 - val_accuracy: 0.6571 - lr: 0.1585\n",
            "Epoch 66/100\n",
            "5/5 [==============================] - 0s 13ms/step - loss: 0.6359 - accuracy: 0.6187 - val_loss: 0.6605 - val_accuracy: 0.6571 - lr: 0.1778\n",
            "Epoch 67/100\n",
            "5/5 [==============================] - 0s 11ms/step - loss: 0.6512 - accuracy: 0.5971 - val_loss: 0.6891 - val_accuracy: 0.4571 - lr: 0.1995\n",
            "Epoch 68/100\n",
            "5/5 [==============================] - 0s 11ms/step - loss: 0.6651 - accuracy: 0.5971 - val_loss: 0.6883 - val_accuracy: 0.6571 - lr: 0.2239\n",
            "Epoch 69/100\n",
            "5/5 [==============================] - 0s 12ms/step - loss: 0.7138 - accuracy: 0.6187 - val_loss: 0.6704 - val_accuracy: 0.6286 - lr: 0.2512\n",
            "Epoch 70/100\n",
            "5/5 [==============================] - 0s 16ms/step - loss: 0.6604 - accuracy: 0.5468 - val_loss: 0.6436 - val_accuracy: 0.6571 - lr: 0.2818\n",
            "Epoch 71/100\n",
            "5/5 [==============================] - 0s 11ms/step - loss: 0.6425 - accuracy: 0.6259 - val_loss: 0.6663 - val_accuracy: 0.6571 - lr: 0.3162\n",
            "Epoch 72/100\n",
            "5/5 [==============================] - 0s 16ms/step - loss: 0.6327 - accuracy: 0.6187 - val_loss: 0.6548 - val_accuracy: 0.6571 - lr: 0.3548\n",
            "Epoch 73/100\n",
            "5/5 [==============================] - 0s 13ms/step - loss: 0.6393 - accuracy: 0.6331 - val_loss: 0.7429 - val_accuracy: 0.6857 - lr: 0.3981\n",
            "Epoch 74/100\n",
            "5/5 [==============================] - 0s 12ms/step - loss: 0.6035 - accuracy: 0.6547 - val_loss: 0.6643 - val_accuracy: 0.6571 - lr: 0.4467\n",
            "Epoch 75/100\n",
            "5/5 [==============================] - 0s 12ms/step - loss: 0.6584 - accuracy: 0.6403 - val_loss: 0.6546 - val_accuracy: 0.6571 - lr: 0.5012\n",
            "Epoch 76/100\n",
            "5/5 [==============================] - 0s 12ms/step - loss: 0.6390 - accuracy: 0.6403 - val_loss: 0.6433 - val_accuracy: 0.6571 - lr: 0.5623\n",
            "Epoch 77/100\n",
            "5/5 [==============================] - 0s 12ms/step - loss: 0.6597 - accuracy: 0.6259 - val_loss: 0.6429 - val_accuracy: 0.6571 - lr: 0.6310\n",
            "Epoch 78/100\n",
            "5/5 [==============================] - 0s 12ms/step - loss: 0.6706 - accuracy: 0.6115 - val_loss: 0.6524 - val_accuracy: 0.6571 - lr: 0.7079\n",
            "Epoch 79/100\n",
            "5/5 [==============================] - 0s 11ms/step - loss: 0.6780 - accuracy: 0.6115 - val_loss: 0.6525 - val_accuracy: 0.6571 - lr: 0.7943\n",
            "Epoch 80/100\n",
            "5/5 [==============================] - 0s 12ms/step - loss: 0.6816 - accuracy: 0.6115 - val_loss: 0.6429 - val_accuracy: 0.6571 - lr: 0.8913\n",
            "Epoch 81/100\n",
            "5/5 [==============================] - 0s 12ms/step - loss: 0.6731 - accuracy: 0.6115 - val_loss: 0.6508 - val_accuracy: 0.6571 - lr: 1.0000\n",
            "Epoch 82/100\n",
            "5/5 [==============================] - 0s 16ms/step - loss: 0.6811 - accuracy: 0.6115 - val_loss: 0.6667 - val_accuracy: 0.6571 - lr: 1.1220\n",
            "Epoch 83/100\n",
            "5/5 [==============================] - 0s 18ms/step - loss: 0.6900 - accuracy: 0.6115 - val_loss: 0.6452 - val_accuracy: 0.6571 - lr: 1.2589\n",
            "Epoch 84/100\n",
            "5/5 [==============================] - 0s 15ms/step - loss: 0.6772 - accuracy: 0.6115 - val_loss: 0.6739 - val_accuracy: 0.6571 - lr: 1.4125\n",
            "Epoch 85/100\n",
            "5/5 [==============================] - 0s 11ms/step - loss: 0.6739 - accuracy: 0.6115 - val_loss: 0.6432 - val_accuracy: 0.6571 - lr: 1.5849\n",
            "Epoch 86/100\n",
            "5/5 [==============================] - 0s 12ms/step - loss: 0.6822 - accuracy: 0.6115 - val_loss: 0.6571 - val_accuracy: 0.6571 - lr: 1.7783\n",
            "Epoch 87/100\n",
            "5/5 [==============================] - 0s 14ms/step - loss: 0.6829 - accuracy: 0.6115 - val_loss: 0.6442 - val_accuracy: 0.6571 - lr: 1.9953\n",
            "Epoch 88/100\n",
            "5/5 [==============================] - 0s 12ms/step - loss: 0.6937 - accuracy: 0.6115 - val_loss: 0.6543 - val_accuracy: 0.6571 - lr: 2.2387\n",
            "Epoch 89/100\n",
            "5/5 [==============================] - 0s 7ms/step - loss: 0.6744 - accuracy: 0.6115 - val_loss: 0.6436 - val_accuracy: 0.6571 - lr: 2.5119\n",
            "Epoch 90/100\n",
            "5/5 [==============================] - 0s 8ms/step - loss: 0.6762 - accuracy: 0.6115 - val_loss: 0.6465 - val_accuracy: 0.6571 - lr: 2.8184\n",
            "Epoch 91/100\n",
            "5/5 [==============================] - 0s 12ms/step - loss: 0.6972 - accuracy: 0.6115 - val_loss: 0.6772 - val_accuracy: 0.6571 - lr: 3.1623\n",
            "Epoch 92/100\n",
            "5/5 [==============================] - 0s 7ms/step - loss: 0.6909 - accuracy: 0.5252 - val_loss: 0.6827 - val_accuracy: 0.6571 - lr: 3.5481\n",
            "Epoch 93/100\n",
            "5/5 [==============================] - 0s 7ms/step - loss: 0.7286 - accuracy: 0.6115 - val_loss: 0.6638 - val_accuracy: 0.6571 - lr: 3.9811\n",
            "Epoch 94/100\n",
            "5/5 [==============================] - 0s 9ms/step - loss: 0.6715 - accuracy: 0.6115 - val_loss: 0.7072 - val_accuracy: 0.6571 - lr: 4.4668\n",
            "Epoch 95/100\n",
            "5/5 [==============================] - 0s 7ms/step - loss: 0.7866 - accuracy: 0.4245 - val_loss: 0.6722 - val_accuracy: 0.6571 - lr: 5.0119\n",
            "Epoch 96/100\n",
            "5/5 [==============================] - 0s 8ms/step - loss: 0.7372 - accuracy: 0.4676 - val_loss: 0.7728 - val_accuracy: 0.6571 - lr: 5.6234\n",
            "Epoch 97/100\n",
            "5/5 [==============================] - 0s 8ms/step - loss: 0.7795 - accuracy: 0.5899 - val_loss: 0.8914 - val_accuracy: 0.3429 - lr: 6.3096\n",
            "Epoch 98/100\n",
            "5/5 [==============================] - 0s 7ms/step - loss: 0.9327 - accuracy: 0.4892 - val_loss: 0.7678 - val_accuracy: 0.3429 - lr: 7.0795\n",
            "Epoch 99/100\n",
            "5/5 [==============================] - 0s 7ms/step - loss: 0.6995 - accuracy: 0.5540 - val_loss: 0.7929 - val_accuracy: 0.3429 - lr: 7.9433\n",
            "Epoch 100/100\n",
            "5/5 [==============================] - 0s 8ms/step - loss: 0.7625 - accuracy: 0.5108 - val_loss: 0.6556 - val_accuracy: 0.6571 - lr: 8.9125\n"
          ]
        }
      ]
    },
    {
      "cell_type": "code",
      "source": [
        "import matplotlib.pyplot as plt\n",
        "\n",
        "# Plot the learning rate vs loss\n",
        "lrs = 1e-4 * (10 ** (tf.range(100)/20))\n",
        "plt.figure(figsize=(10, 7))\n",
        "plt.semilogx(lrs, history_lr.history[\"loss\"]) # lrs - x-axis, history - y-axis\n",
        "plt.xlabel(\"Learning rate\")\n",
        "plt.ylabel(\"Loss\")\n",
        "plt.title(\"Learning rate vs. loss\")"
      ],
      "metadata": {
        "colab": {
          "base_uri": "https://localhost:8080/",
          "height": 480
        },
        "id": "hWTprQ0aOC_S",
        "outputId": "90389d77-625b-4685-933c-c874381320ce"
      },
      "execution_count": 45,
      "outputs": [
        {
          "output_type": "execute_result",
          "data": {
            "text/plain": [
              "Text(0.5, 1.0, 'Learning rate vs. loss')"
            ]
          },
          "metadata": {},
          "execution_count": 45
        },
        {
          "output_type": "display_data",
          "data": {
            "text/plain": [
              "<Figure size 720x504 with 1 Axes>"
            ],
            "image/png": "[encoded data removed]"
          },
          "metadata": {
            "needs_background": "light"
          }
        }
      ]
    },
    {
      "cell_type": "code",
      "source": [
        "tf.random.set_seed(42)\n",
        "\n",
        "model = tf.keras.Sequential([\n",
        "    tf.keras.layers.Dense(5, activation='relu'),\n",
        "    tf.keras.layers.Dense(5, activation='relu'),\n",
        "    # tf.keras.layers.Dense(5, activation='relu'),\n",
        "    # tf.keras.layers.Dense(10, activation='relu'),\n",
        "\n",
        "    # tf.keras.layers.Dense(256, activation='relu'),\n",
        "    tf.keras.layers.Dense(1, activation='sigmoid')\n",
        "])\n",
        "\n",
        "model.compile(\n",
        "    loss=tf.keras.losses.binary_crossentropy,\n",
        "    optimizer=tf.keras.optimizers.Adam(),\n",
        "    metrics=[\"accuracy\"]\n",
        ")\n",
        "\n",
        "\n",
        "history1 = model.fit(X_train_scaled, \n",
        "                    y_train, \n",
        "                    epochs=50,\n",
        "                    validation_data = (X_valid_scaled, y_valid))"
      ],
      "metadata": {
        "colab": {
          "base_uri": "https://localhost:8080/"
        },
        "id": "EPZdm2LqvMQs",
        "outputId": "8c21eed0-9412-40dd-c58b-56081cf8af04"
      },
      "execution_count": 52,
      "outputs": [
        {
          "output_type": "stream",
          "name": "stdout",
          "text": [
            "Epoch 1/50\n",
            "5/5 [==============================] - 1s 63ms/step - loss: 0.6894 - accuracy: 0.5324 - val_loss: 0.6970 - val_accuracy: 0.5143\n",
            "Epoch 2/50\n",
            "5/5 [==============================] - 0s 12ms/step - loss: 0.6856 - accuracy: 0.5540 - val_loss: 0.6932 - val_accuracy: 0.5429\n",
            "Epoch 3/50\n",
            "5/5 [==============================] - 0s 21ms/step - loss: 0.6823 - accuracy: 0.5612 - val_loss: 0.6903 - val_accuracy: 0.6286\n",
            "Epoch 4/50\n",
            "5/5 [==============================] - 0s 22ms/step - loss: 0.6802 - accuracy: 0.5755 - val_loss: 0.6875 - val_accuracy: 0.6571\n",
            "Epoch 5/50\n",
            "5/5 [==============================] - 0s 21ms/step - loss: 0.6774 - accuracy: 0.5755 - val_loss: 0.6851 - val_accuracy: 0.6857\n",
            "Epoch 6/50\n",
            "5/5 [==============================] - 0s 19ms/step - loss: 0.6757 - accuracy: 0.6043 - val_loss: 0.6825 - val_accuracy: 0.6571\n",
            "Epoch 7/50\n",
            "5/5 [==============================] - 0s 35ms/step - loss: 0.6736 - accuracy: 0.6043 - val_loss: 0.6805 - val_accuracy: 0.6571\n",
            "Epoch 8/50\n",
            "5/5 [==============================] - 0s 33ms/step - loss: 0.6722 - accuracy: 0.6043 - val_loss: 0.6788 - val_accuracy: 0.6571\n",
            "Epoch 9/50\n",
            "5/5 [==============================] - 0s 27ms/step - loss: 0.6704 - accuracy: 0.6115 - val_loss: 0.6773 - val_accuracy: 0.6571\n",
            "Epoch 10/50\n",
            "5/5 [==============================] - 0s 21ms/step - loss: 0.6699 - accuracy: 0.6115 - val_loss: 0.6755 - val_accuracy: 0.6286\n",
            "Epoch 11/50\n",
            "5/5 [==============================] - 0s 14ms/step - loss: 0.6680 - accuracy: 0.6187 - val_loss: 0.6746 - val_accuracy: 0.6571\n",
            "Epoch 12/50\n",
            "5/5 [==============================] - 0s 7ms/step - loss: 0.6670 - accuracy: 0.6187 - val_loss: 0.6738 - val_accuracy: 0.6571\n",
            "Epoch 13/50\n",
            "5/5 [==============================] - 0s 9ms/step - loss: 0.6660 - accuracy: 0.6187 - val_loss: 0.6728 - val_accuracy: 0.6571\n",
            "Epoch 14/50\n",
            "5/5 [==============================] - 0s 7ms/step - loss: 0.6651 - accuracy: 0.6187 - val_loss: 0.6718 - val_accuracy: 0.6571\n",
            "Epoch 15/50\n",
            "5/5 [==============================] - 0s 9ms/step - loss: 0.6644 - accuracy: 0.6187 - val_loss: 0.6709 - val_accuracy: 0.6571\n",
            "Epoch 16/50\n",
            "5/5 [==============================] - 0s 9ms/step - loss: 0.6641 - accuracy: 0.6187 - val_loss: 0.6699 - val_accuracy: 0.6571\n",
            "Epoch 17/50\n",
            "5/5 [==============================] - 0s 8ms/step - loss: 0.6632 - accuracy: 0.6115 - val_loss: 0.6696 - val_accuracy: 0.6571\n",
            "Epoch 18/50\n",
            "5/5 [==============================] - 0s 8ms/step - loss: 0.6626 - accuracy: 0.6115 - val_loss: 0.6693 - val_accuracy: 0.6571\n",
            "Epoch 19/50\n",
            "5/5 [==============================] - 0s 7ms/step - loss: 0.6622 - accuracy: 0.6115 - val_loss: 0.6693 - val_accuracy: 0.6571\n",
            "Epoch 20/50\n",
            "5/5 [==============================] - 0s 8ms/step - loss: 0.6617 - accuracy: 0.6115 - val_loss: 0.6692 - val_accuracy: 0.6571\n",
            "Epoch 21/50\n",
            "5/5 [==============================] - 0s 7ms/step - loss: 0.6614 - accuracy: 0.6115 - val_loss: 0.6693 - val_accuracy: 0.6571\n",
            "Epoch 22/50\n",
            "5/5 [==============================] - 0s 9ms/step - loss: 0.6610 - accuracy: 0.6115 - val_loss: 0.6693 - val_accuracy: 0.6571\n",
            "Epoch 23/50\n",
            "5/5 [==============================] - 0s 7ms/step - loss: 0.6608 - accuracy: 0.6115 - val_loss: 0.6692 - val_accuracy: 0.6571\n",
            "Epoch 24/50\n",
            "5/5 [==============================] - 0s 7ms/step - loss: 0.6604 - accuracy: 0.6115 - val_loss: 0.6693 - val_accuracy: 0.6571\n",
            "Epoch 25/50\n",
            "5/5 [==============================] - 0s 7ms/step - loss: 0.6602 - accuracy: 0.6115 - val_loss: 0.6693 - val_accuracy: 0.6571\n",
            "Epoch 26/50\n",
            "5/5 [==============================] - 0s 7ms/step - loss: 0.6601 - accuracy: 0.6115 - val_loss: 0.6692 - val_accuracy: 0.6571\n",
            "Epoch 27/50\n",
            "5/5 [==============================] - 0s 7ms/step - loss: 0.6598 - accuracy: 0.6115 - val_loss: 0.6688 - val_accuracy: 0.6571\n",
            "Epoch 28/50\n",
            "5/5 [==============================] - 0s 7ms/step - loss: 0.6596 - accuracy: 0.6115 - val_loss: 0.6685 - val_accuracy: 0.6571\n",
            "Epoch 29/50\n",
            "5/5 [==============================] - 0s 7ms/step - loss: 0.6593 - accuracy: 0.6115 - val_loss: 0.6684 - val_accuracy: 0.6571\n",
            "Epoch 30/50\n",
            "5/5 [==============================] - 0s 7ms/step - loss: 0.6593 - accuracy: 0.6115 - val_loss: 0.6679 - val_accuracy: 0.6571\n",
            "Epoch 31/50\n",
            "5/5 [==============================] - 0s 7ms/step - loss: 0.6587 - accuracy: 0.6115 - val_loss: 0.6677 - val_accuracy: 0.6571\n",
            "Epoch 32/50\n",
            "5/5 [==============================] - 0s 8ms/step - loss: 0.6586 - accuracy: 0.6115 - val_loss: 0.6671 - val_accuracy: 0.6571\n",
            "Epoch 33/50\n",
            "5/5 [==============================] - 0s 8ms/step - loss: 0.6584 - accuracy: 0.6115 - val_loss: 0.6667 - val_accuracy: 0.6571\n",
            "Epoch 34/50\n",
            "5/5 [==============================] - 0s 7ms/step - loss: 0.6581 - accuracy: 0.6115 - val_loss: 0.6668 - val_accuracy: 0.6571\n",
            "Epoch 35/50\n",
            "5/5 [==============================] - 0s 8ms/step - loss: 0.6577 - accuracy: 0.6115 - val_loss: 0.6671 - val_accuracy: 0.6571\n",
            "Epoch 36/50\n",
            "5/5 [==============================] - 0s 7ms/step - loss: 0.6576 - accuracy: 0.6115 - val_loss: 0.6674 - val_accuracy: 0.6571\n",
            "Epoch 37/50\n",
            "5/5 [==============================] - 0s 7ms/step - loss: 0.6575 - accuracy: 0.6115 - val_loss: 0.6672 - val_accuracy: 0.6571\n",
            "Epoch 38/50\n",
            "5/5 [==============================] - 0s 7ms/step - loss: 0.6572 - accuracy: 0.6115 - val_loss: 0.6670 - val_accuracy: 0.6571\n",
            "Epoch 39/50\n",
            "5/5 [==============================] - 0s 7ms/step - loss: 0.6570 - accuracy: 0.6115 - val_loss: 0.6671 - val_accuracy: 0.6571\n",
            "Epoch 40/50\n",
            "5/5 [==============================] - 0s 7ms/step - loss: 0.6567 - accuracy: 0.6115 - val_loss: 0.6671 - val_accuracy: 0.6571\n",
            "Epoch 41/50\n",
            "5/5 [==============================] - 0s 7ms/step - loss: 0.6564 - accuracy: 0.6115 - val_loss: 0.6668 - val_accuracy: 0.6571\n",
            "Epoch 42/50\n",
            "5/5 [==============================] - 0s 7ms/step - loss: 0.6564 - accuracy: 0.6115 - val_loss: 0.6669 - val_accuracy: 0.6571\n",
            "Epoch 43/50\n",
            "5/5 [==============================] - 0s 7ms/step - loss: 0.6559 - accuracy: 0.6115 - val_loss: 0.6665 - val_accuracy: 0.6571\n",
            "Epoch 44/50\n",
            "5/5 [==============================] - 0s 7ms/step - loss: 0.6555 - accuracy: 0.6115 - val_loss: 0.6661 - val_accuracy: 0.6571\n",
            "Epoch 45/50\n",
            "5/5 [==============================] - 0s 7ms/step - loss: 0.6553 - accuracy: 0.6115 - val_loss: 0.6658 - val_accuracy: 0.6571\n",
            "Epoch 46/50\n",
            "5/5 [==============================] - 0s 7ms/step - loss: 0.6549 - accuracy: 0.6115 - val_loss: 0.6656 - val_accuracy: 0.6571\n",
            "Epoch 47/50\n",
            "5/5 [==============================] - 0s 7ms/step - loss: 0.6546 - accuracy: 0.6115 - val_loss: 0.6652 - val_accuracy: 0.6571\n",
            "Epoch 48/50\n",
            "5/5 [==============================] - 0s 9ms/step - loss: 0.6543 - accuracy: 0.6115 - val_loss: 0.6647 - val_accuracy: 0.6571\n",
            "Epoch 49/50\n",
            "5/5 [==============================] - 0s 7ms/step - loss: 0.6541 - accuracy: 0.6115 - val_loss: 0.6647 - val_accuracy: 0.6571\n",
            "Epoch 50/50\n",
            "5/5 [==============================] - 0s 7ms/step - loss: 0.6539 - accuracy: 0.6115 - val_loss: 0.6647 - val_accuracy: 0.6571\n"
          ]
        }
      ]
    },
    {
      "cell_type": "code",
      "source": [
        "plot_loss_curves(history1)"
      ],
      "metadata": {
        "colab": {
          "base_uri": "https://localhost:8080/",
          "height": 573
        },
        "id": "mJCjkFO-Pb3f",
        "outputId": "caadc0cf-6bea-4113-ebe6-8ed85c8353b4"
      },
      "execution_count": 53,
      "outputs": [
        {
          "output_type": "display_data",
          "data": {
            "text/plain": [
              "<Figure size 432x288 with 1 Axes>"
            ],
            "image/png": "[encoded data removed]"
          },
          "metadata": {
            "needs_background": "light"
          }
        },
        {
          "output_type": "display_data",
          "data": {
            "text/plain": [
              "<Figure size 432x288 with 1 Axes>"
            ],
            "image/png": "[encoded data removed]"
          },
          "metadata": {
            "needs_background": "light"
          }
        }
      ]
    },
    {
      "cell_type": "markdown",
      "source": [
        "Increase the number of model layers (e.g. add more convolutional layers).\n",
        "Increase the number of filters in each convolutional layer (e.g. from 10 to 32, 64, or 128, these numbers aren't set in stone either, they are usually found through trial and error).\n",
        "Train for longer (more epochs).\n",
        "Finding an ideal learning rate.\n",
        "Get more data (give the model more opportunities to learn).\n",
        "Use transfer learning to leverage what another image model has learned and adjust it for our own use case.\n"
      ],
      "metadata": {
        "id": "H1n34k49Pebz"
      }
    },
    {
      "cell_type": "code",
      "source": [
        ""
      ],
      "metadata": {
        "id": "lqB5o19TPfeV"
      },
      "execution_count": 51,
      "outputs": []
    },
    {
      "cell_type": "code",
      "source": [
        ""
      ],
      "metadata": {
        "id": "pofTvAKuPfhO"
      },
      "execution_count": 36,
      "outputs": []
    },
    {
      "cell_type": "code",
      "source": [
        ""
      ],
      "metadata": {
        "id": "3XzO4JMrPfjd"
      },
      "execution_count": 36,
      "outputs": []
    },
    {
      "cell_type": "code",
      "source": [
        ""
      ],
      "metadata": {
        "id": "gtdAN5vAPfmH"
      },
      "execution_count": 36,
      "outputs": []
    },
    {
      "cell_type": "code",
      "source": [
        ""
      ],
      "metadata": {
        "id": "sMlFZkEuPCer"
      },
      "execution_count": 36,
      "outputs": []
    },
    {
      "cell_type": "code",
      "source": [
        " "
      ],
      "metadata": {
        "id": "8jzqVz0-vMSw"
      },
      "execution_count": 36,
      "outputs": []
    },
    {
      "cell_type": "code",
      "source": [
        "train_data = data[:121] # 70%\n",
        "validation_data = data[121:155] # 20%\n",
        "test_data = data[155:174] # 10%"
      ],
      "metadata": {
        "id": "-AdEsLsQhl-L"
      },
      "execution_count": 37,
      "outputs": []
    },
    {
      "cell_type": "code",
      "source": [
        "y_train = train_data['Нарушения сна']\n",
        "y_validation = validation_data['Нарушения сна']\n",
        "y_test = test_data['Нарушения сна']\n",
        "\n",
        "X_train = train_data[['Пол', 'Удовлетворенность семейными отношениями', 'ЧМТ','Стаж шизофр', 'Образование', 'Насл отягощенность', 'P', 'N', 'G']]\n",
        "X_validation = validation_data[['Пол', 'Удовлетворенность семейными отношениями', 'ЧМТ','Стаж шизофр', 'Образование', 'Насл отягощенность', 'P', 'N', 'G']]\n",
        "X_test = test_data[['Пол', 'Удовлетворенность семейными отношениями', 'ЧМТ','Стаж шизофр', 'Образование', 'Насл отягощенность', 'P', 'N', 'G']]"
      ],
      "metadata": {
        "id": "oD1BAgypjWbC"
      },
      "execution_count": 38,
      "outputs": []
    },
    {
      "cell_type": "code",
      "source": [
        "len(y_train), len(y_validation), len(y_test)"
      ],
      "metadata": {
        "colab": {
          "base_uri": "https://localhost:8080/"
        },
        "id": "Dgi-q_Iujyt-",
        "outputId": "d5199770-97e8-41ea-c6fb-ae86060a06ac"
      },
      "execution_count": 39,
      "outputs": [
        {
          "output_type": "execute_result",
          "data": {
            "text/plain": [
              "(121, 34, 19)"
            ]
          },
          "metadata": {},
          "execution_count": 39
        }
      ]
    },
    {
      "cell_type": "code",
      "source": [
        "# y = data['Нарушения сна']\n",
        "# # X = data.drop(columns=['Нарушения сна'])\n",
        "# # X = data[['Пол', 'Удовлетворенность семейными отношениями', 'ЧМТ','Стаж шизофр', 'Образование']]\n",
        "# # X = data[['Пол', 'Удовлетворенность семейными отношениями', 'ЧМТ','Стаж шизофр', 'Образование', 'Насл отягощенность', 'P', 'N', 'G']]\n",
        "# X = data[[ 'P', 'N', 'G']] # Only with these 3 values we can get very good result\n",
        "\n",
        "# X_train, X_test, y_train, y_test = train_test_split(X, y, test_size=0.2,)"
      ],
      "metadata": {
        "id": "4w3owV7dhnfn"
      },
      "execution_count": 40,
      "outputs": []
    },
    {
      "cell_type": "code",
      "source": [
        "# Scale X from 0 to 1\n",
        "from sklearn.preprocessing import StandardScaler\n",
        "\n",
        "scaler = StandardScaler()\n",
        "X_train_scaled = scaler.fit_transform(X_train)\n",
        "X_validation_scaled = scaler.fit_transform(X_validation)\n",
        "X_test_scaled = scaler.transform(X_test)"
      ],
      "metadata": {
        "id": "S5EEQckhaLgC"
      },
      "execution_count": 41,
      "outputs": []
    },
    {
      "cell_type": "code",
      "source": [
        "tf.random.set_seed(42)\n",
        "\n",
        "model = tf.keras.Sequential([\n",
        "    tf.keras.layers.Dense(100, activation='relu'),\n",
        "    tf.keras.layers.Dense(100, activation='relu'),\n",
        "    tf.keras.layers.Dense(100, activation='relu'),\n",
        "\n",
        "    # tf.keras.layers.Dense(256, activation='relu'),\n",
        "    tf.keras.layers.Dense(1, activation='sigmoid')\n",
        "])\n",
        "\n",
        "model.compile(\n",
        "    loss=tf.keras.losses.binary_crossentropy,\n",
        "    optimizer=tf.keras.optimizers.Adam(), # lr=0.03\n",
        "    metrics=[\"accuracy\"]\n",
        ")\n",
        "\n",
        "history = model.fit(X_train_scaled, \n",
        "                    y_train, \n",
        "                    epochs=50,\n",
        "                    validation_data = (X_validation_scaled, y_validation))"
      ],
      "metadata": {
        "colab": {
          "base_uri": "https://localhost:8080/"
        },
        "id": "QVjPP8UokzzF",
        "outputId": "7945d28e-d667-4e15-9053-53742db319c3"
      },
      "execution_count": 42,
      "outputs": [
        {
          "output_type": "stream",
          "name": "stdout",
          "text": [
            "Epoch 1/50\n",
            "4/4 [==============================] - 1s 43ms/step - loss: 0.6809 - accuracy: 0.6033 - val_loss: 0.6716 - val_accuracy: 0.6765\n",
            "Epoch 2/50\n",
            "4/4 [==============================] - 0s 8ms/step - loss: 0.6521 - accuracy: 0.6116 - val_loss: 0.6652 - val_accuracy: 0.6471\n",
            "Epoch 3/50\n",
            "4/4 [==============================] - 0s 9ms/step - loss: 0.6316 - accuracy: 0.6612 - val_loss: 0.6622 - val_accuracy: 0.6765\n",
            "Epoch 4/50\n",
            "4/4 [==============================] - 0s 10ms/step - loss: 0.6147 - accuracy: 0.6860 - val_loss: 0.6633 - val_accuracy: 0.6765\n",
            "Epoch 5/50\n",
            "4/4 [==============================] - 0s 9ms/step - loss: 0.5985 - accuracy: 0.6942 - val_loss: 0.6685 - val_accuracy: 0.7353\n",
            "Epoch 6/50\n",
            "4/4 [==============================] - 0s 9ms/step - loss: 0.5809 - accuracy: 0.7107 - val_loss: 0.6745 - val_accuracy: 0.6765\n",
            "Epoch 7/50\n",
            "4/4 [==============================] - 0s 9ms/step - loss: 0.5638 - accuracy: 0.7273 - val_loss: 0.6753 - val_accuracy: 0.6765\n",
            "Epoch 8/50\n",
            "4/4 [==============================] - 0s 9ms/step - loss: 0.5467 - accuracy: 0.7355 - val_loss: 0.6822 - val_accuracy: 0.6765\n",
            "Epoch 9/50\n",
            "4/4 [==============================] - 0s 9ms/step - loss: 0.5278 - accuracy: 0.7438 - val_loss: 0.6873 - val_accuracy: 0.6765\n",
            "Epoch 10/50\n",
            "4/4 [==============================] - 0s 9ms/step - loss: 0.5100 - accuracy: 0.7438 - val_loss: 0.6955 - val_accuracy: 0.6765\n",
            "Epoch 11/50\n",
            "4/4 [==============================] - 0s 9ms/step - loss: 0.4928 - accuracy: 0.7521 - val_loss: 0.6985 - val_accuracy: 0.6765\n",
            "Epoch 12/50\n",
            "4/4 [==============================] - 0s 9ms/step - loss: 0.4745 - accuracy: 0.7686 - val_loss: 0.7053 - val_accuracy: 0.6765\n",
            "Epoch 13/50\n",
            "4/4 [==============================] - 0s 9ms/step - loss: 0.4539 - accuracy: 0.8017 - val_loss: 0.7143 - val_accuracy: 0.6176\n",
            "Epoch 14/50\n",
            "4/4 [==============================] - 0s 9ms/step - loss: 0.4366 - accuracy: 0.8182 - val_loss: 0.7274 - val_accuracy: 0.6176\n",
            "Epoch 15/50\n",
            "4/4 [==============================] - 0s 9ms/step - loss: 0.4194 - accuracy: 0.8430 - val_loss: 0.7319 - val_accuracy: 0.6176\n",
            "Epoch 16/50\n",
            "4/4 [==============================] - 0s 8ms/step - loss: 0.3999 - accuracy: 0.8512 - val_loss: 0.7401 - val_accuracy: 0.5882\n",
            "Epoch 17/50\n",
            "4/4 [==============================] - 0s 11ms/step - loss: 0.3844 - accuracy: 0.8512 - val_loss: 0.7515 - val_accuracy: 0.6176\n",
            "Epoch 18/50\n",
            "4/4 [==============================] - 0s 9ms/step - loss: 0.3645 - accuracy: 0.8678 - val_loss: 0.7648 - val_accuracy: 0.6176\n",
            "Epoch 19/50\n",
            "4/4 [==============================] - 0s 16ms/step - loss: 0.3490 - accuracy: 0.8760 - val_loss: 0.7779 - val_accuracy: 0.6176\n",
            "Epoch 20/50\n",
            "4/4 [==============================] - 0s 8ms/step - loss: 0.3302 - accuracy: 0.8843 - val_loss: 0.7873 - val_accuracy: 0.6176\n",
            "Epoch 21/50\n",
            "4/4 [==============================] - 0s 9ms/step - loss: 0.3143 - accuracy: 0.8926 - val_loss: 0.8043 - val_accuracy: 0.5882\n",
            "Epoch 22/50\n",
            "4/4 [==============================] - 0s 9ms/step - loss: 0.2960 - accuracy: 0.9091 - val_loss: 0.8018 - val_accuracy: 0.6471\n",
            "Epoch 23/50\n",
            "4/4 [==============================] - 0s 9ms/step - loss: 0.2801 - accuracy: 0.9174 - val_loss: 0.8118 - val_accuracy: 0.6765\n",
            "Epoch 24/50\n",
            "4/4 [==============================] - 0s 9ms/step - loss: 0.2635 - accuracy: 0.9256 - val_loss: 0.8374 - val_accuracy: 0.6176\n",
            "Epoch 25/50\n",
            "4/4 [==============================] - 0s 8ms/step - loss: 0.2471 - accuracy: 0.9256 - val_loss: 0.8466 - val_accuracy: 0.6176\n",
            "Epoch 26/50\n",
            "4/4 [==============================] - 0s 8ms/step - loss: 0.2307 - accuracy: 0.9339 - val_loss: 0.8597 - val_accuracy: 0.6471\n",
            "Epoch 27/50\n",
            "4/4 [==============================] - 0s 9ms/step - loss: 0.2150 - accuracy: 0.9339 - val_loss: 0.8625 - val_accuracy: 0.6471\n",
            "Epoch 28/50\n",
            "4/4 [==============================] - 0s 9ms/step - loss: 0.2004 - accuracy: 0.9339 - val_loss: 0.8817 - val_accuracy: 0.6471\n",
            "Epoch 29/50\n",
            "4/4 [==============================] - 0s 9ms/step - loss: 0.1869 - accuracy: 0.9421 - val_loss: 0.9072 - val_accuracy: 0.6765\n",
            "Epoch 30/50\n",
            "4/4 [==============================] - 0s 10ms/step - loss: 0.1722 - accuracy: 0.9587 - val_loss: 0.9273 - val_accuracy: 0.6176\n",
            "Epoch 31/50\n",
            "4/4 [==============================] - 0s 10ms/step - loss: 0.1590 - accuracy: 0.9504 - val_loss: 0.9306 - val_accuracy: 0.6765\n",
            "Epoch 32/50\n",
            "4/4 [==============================] - 0s 8ms/step - loss: 0.1462 - accuracy: 0.9669 - val_loss: 0.9516 - val_accuracy: 0.6471\n",
            "Epoch 33/50\n",
            "4/4 [==============================] - 0s 8ms/step - loss: 0.1383 - accuracy: 0.9669 - val_loss: 0.9692 - val_accuracy: 0.6471\n",
            "Epoch 34/50\n",
            "4/4 [==============================] - 0s 8ms/step - loss: 0.1285 - accuracy: 0.9669 - val_loss: 1.0184 - val_accuracy: 0.5882\n",
            "Epoch 35/50\n",
            "4/4 [==============================] - 0s 8ms/step - loss: 0.1160 - accuracy: 0.9752 - val_loss: 1.0134 - val_accuracy: 0.6471\n",
            "Epoch 36/50\n",
            "4/4 [==============================] - 0s 10ms/step - loss: 0.1054 - accuracy: 0.9835 - val_loss: 1.0418 - val_accuracy: 0.6471\n",
            "Epoch 37/50\n",
            "4/4 [==============================] - 0s 10ms/step - loss: 0.0972 - accuracy: 0.9835 - val_loss: 1.0721 - val_accuracy: 0.6176\n",
            "Epoch 38/50\n",
            "4/4 [==============================] - 0s 11ms/step - loss: 0.0881 - accuracy: 0.9917 - val_loss: 1.0849 - val_accuracy: 0.6176\n",
            "Epoch 39/50\n",
            "4/4 [==============================] - 0s 11ms/step - loss: 0.0803 - accuracy: 0.9917 - val_loss: 1.1246 - val_accuracy: 0.6176\n",
            "Epoch 40/50\n",
            "4/4 [==============================] - 0s 11ms/step - loss: 0.0729 - accuracy: 0.9917 - val_loss: 1.1600 - val_accuracy: 0.6176\n",
            "Epoch 41/50\n",
            "4/4 [==============================] - 0s 8ms/step - loss: 0.0672 - accuracy: 1.0000 - val_loss: 1.1681 - val_accuracy: 0.6176\n",
            "Epoch 42/50\n",
            "4/4 [==============================] - 0s 13ms/step - loss: 0.0638 - accuracy: 1.0000 - val_loss: 1.1784 - val_accuracy: 0.6176\n",
            "Epoch 43/50\n",
            "4/4 [==============================] - 0s 11ms/step - loss: 0.0552 - accuracy: 0.9917 - val_loss: 1.2237 - val_accuracy: 0.5882\n",
            "Epoch 44/50\n",
            "4/4 [==============================] - 0s 8ms/step - loss: 0.0545 - accuracy: 1.0000 - val_loss: 1.2603 - val_accuracy: 0.6176\n",
            "Epoch 45/50\n",
            "4/4 [==============================] - 0s 9ms/step - loss: 0.0485 - accuracy: 1.0000 - val_loss: 1.2575 - val_accuracy: 0.6176\n",
            "Epoch 46/50\n",
            "4/4 [==============================] - 0s 9ms/step - loss: 0.0440 - accuracy: 1.0000 - val_loss: 1.2941 - val_accuracy: 0.6176\n",
            "Epoch 47/50\n",
            "4/4 [==============================] - 0s 10ms/step - loss: 0.0394 - accuracy: 1.0000 - val_loss: 1.3198 - val_accuracy: 0.6176\n",
            "Epoch 48/50\n",
            "4/4 [==============================] - 0s 9ms/step - loss: 0.0359 - accuracy: 1.0000 - val_loss: 1.3427 - val_accuracy: 0.6176\n",
            "Epoch 49/50\n",
            "4/4 [==============================] - 0s 9ms/step - loss: 0.0337 - accuracy: 1.0000 - val_loss: 1.3686 - val_accuracy: 0.6176\n",
            "Epoch 50/50\n",
            "4/4 [==============================] - 0s 9ms/step - loss: 0.0306 - accuracy: 1.0000 - val_loss: 1.3944 - val_accuracy: 0.6176\n"
          ]
        }
      ]
    },
    {
      "cell_type": "code",
      "source": [
        ""
      ],
      "metadata": {
        "id": "kc5mFrJQhMsd"
      },
      "execution_count": 42,
      "outputs": []
    },
    {
      "cell_type": "code",
      "source": [
        "plot_loss_curves(history)"
      ],
      "metadata": {
        "colab": {
          "base_uri": "https://localhost:8080/",
          "height": 573
        },
        "id": "DEAMkOEmhOE9",
        "outputId": "601fd054-2a55-47ab-c30c-37054eb3e41f"
      },
      "execution_count": 43,
      "outputs": [
        {
          "output_type": "display_data",
          "data": {
            "text/plain": [
              "<Figure size 432x288 with 1 Axes>"
            ],
            "image/png": "[encoded data removed]"
          },
          "metadata": {
            "needs_background": "light"
          }
        },
        {
          "output_type": "display_data",
          "data": {
            "text/plain": [
              "<Figure size 432x288 with 1 Axes>"
            ],
            "image/png": "[encoded data removed]"
          },
          "metadata": {
            "needs_background": "light"
          }
        }
      ]
    },
    {
      "cell_type": "code",
      "source": [
        ""
      ],
      "metadata": {
        "id": "1yZGlBKrhNN1"
      },
      "execution_count": 43,
      "outputs": []
    },
    {
      "cell_type": "markdown",
      "source": [
        "### It is very likely that the model has overfitted. It is necessary to add data augmentation, validation data, visualization\n",
        "Find best lr\n",
        "\n",
        "Вывести наиболее значимые характеристики\n",
        "\n",
        "\n",
        "\n",
        "Check result on different scalers. For example:\n",
        "\n",
        "1) Min Max Scaler (try it)\n",
        "\n",
        "2) Standard Scaler\n",
        "\n",
        "3) Max Abs Scaler\n",
        "\n",
        "4) Robust Scaler\n",
        "\n",
        "5) Quantile Transformer Scaler\n",
        "\n",
        "6) Power Transformer Scaler\n",
        "\n",
        "7) Unit Vector Scaler\n",
        "\n"
      ],
      "metadata": {
        "id": "CrA_ArvkOh9c"
      }
    },
    {
      "cell_type": "code",
      "source": [
        ""
      ],
      "metadata": {
        "id": "io90TB1dlcBf"
      },
      "execution_count": 43,
      "outputs": []
    },
    {
      "cell_type": "code",
      "source": [
        ""
      ],
      "metadata": {
        "id": "DDAqLqo5DT74"
      },
      "execution_count": 43,
      "outputs": []
    },
    {
      "cell_type": "code",
      "source": [
        "# Let's try to use 'Нарушения сна' as y value\n",
        "data = ds.drop(columns=['Тревога', 'Депрессия'])\n",
        "y = data['Нарушения сна']\n",
        "# X = data.drop(columns=['Нарушения сна'])\n",
        "X = data[['Пол', 'Удовлетворенность семейными отношениями', 'ЧМТ','Стаж шизофр', 'Образование', 'Насл отягощенность', 'P', 'N', 'G']] # 'Были ли нарушения сна', \n",
        "\n",
        "X_train, X_test, y_train, y_test = train_test_split(X, y, test_size=0.2,)\n",
        "\n",
        "# Scale X from 0 to 1\n",
        "scaler2 = StandardScaler()\n",
        "\n",
        "X_train_scaled = scaler2.fit_transform(X_train)\n",
        "X_test_scaled = scaler2.transform(X_test)"
      ],
      "metadata": {
        "id": "rNhuw9AgDT-L"
      },
      "execution_count": 44,
      "outputs": []
    },
    {
      "cell_type": "code",
      "source": [
        "X_train_scaled"
      ],
      "metadata": {
        "colab": {
          "base_uri": "https://localhost:8080/"
        },
        "id": "xR0dXD6DEdDg",
        "outputId": "1147c830-453d-4269-f842-d94a6b6093c0"
      },
      "execution_count": 45,
      "outputs": [
        {
          "output_type": "execute_result",
          "data": {
            "text/plain": [
              "array([[ 0.6918984 ,  0.8722883 ,  1.3401407 , ..., -0.5061745 ,\n",
              "        -0.38204715, -0.22233704],\n",
              "       [ 0.6918984 ,  0.8722883 , -1.1435868 , ..., -0.35486642,\n",
              "         2.2368073 ,  0.5268714 ],\n",
              "       [-1.4452989 , -1.0833257 , -1.1435868 , ...,  0.25036588,\n",
              "         0.4909044 , -0.03503493],\n",
              "       ...,\n",
              "       [ 0.6918984 ,  0.22041692,  1.3401407 , ...,  0.8555982 ,\n",
              "        -0.5275391 , -0.12868598],\n",
              "       [ 0.6918984 ,  0.22041692,  0.09827699, ...,  0.0990578 ,\n",
              "         0.05442863, -0.22233704],\n",
              "       [ 0.6918984 ,  0.8722883 , -1.1435868 , ..., -0.20355834,\n",
              "        -0.09106328, -0.3159881 ]], dtype=float32)"
            ]
          },
          "metadata": {},
          "execution_count": 45
        }
      ]
    },
    {
      "cell_type": "code",
      "source": [
        "tf.random.set_seed(42)\n",
        "\n",
        "model2 = tf.keras.Sequential([\n",
        "    tf.keras.layers.Dense(100, activation='relu'),\n",
        "    tf.keras.layers.Dense(100, activation='relu'),\n",
        "    tf.keras.layers.Dense(100, activation='relu'),\n",
        "\n",
        "    # tf.keras.layers.Dense(256, activation='relu'),\n",
        "    tf.keras.layers.Dense(1, activation='sigmoid')\n",
        "])\n",
        "\n",
        "model2.compile(\n",
        "    loss=tf.keras.losses.binary_crossentropy,\n",
        "    optimizer=tf.keras.optimizers.Adam(), # lr=0.03\n",
        "    metrics=[\"accuracy\"]\n",
        ")\n",
        "\n",
        "history2 = model2.fit(X_train_scaled, y_train, epochs=50)"
      ],
      "metadata": {
        "colab": {
          "base_uri": "https://localhost:8080/"
        },
        "id": "SKvqJHX3DWyj",
        "outputId": "e2672c0c-fe37-481a-97ef-c3f8dfc08b9b"
      },
      "execution_count": 46,
      "outputs": [
        {
          "output_type": "stream",
          "name": "stdout",
          "text": [
            "Epoch 1/50\n",
            "5/5 [==============================] - 0s 2ms/step - loss: 0.6779 - accuracy: 0.6331\n",
            "Epoch 2/50\n",
            "5/5 [==============================] - 0s 3ms/step - loss: 0.6418 - accuracy: 0.6403\n",
            "Epoch 3/50\n",
            "5/5 [==============================] - 0s 3ms/step - loss: 0.6255 - accuracy: 0.6403\n",
            "Epoch 4/50\n",
            "5/5 [==============================] - 0s 3ms/step - loss: 0.6149 - accuracy: 0.6403\n",
            "Epoch 5/50\n",
            "5/5 [==============================] - 0s 3ms/step - loss: 0.5987 - accuracy: 0.6763\n",
            "Epoch 6/50\n",
            "5/5 [==============================] - 0s 3ms/step - loss: 0.5853 - accuracy: 0.6906\n",
            "Epoch 7/50\n",
            "5/5 [==============================] - 0s 4ms/step - loss: 0.5722 - accuracy: 0.6978\n",
            "Epoch 8/50\n",
            "5/5 [==============================] - 0s 3ms/step - loss: 0.5593 - accuracy: 0.6978\n",
            "Epoch 9/50\n",
            "5/5 [==============================] - 0s 3ms/step - loss: 0.5455 - accuracy: 0.7194\n",
            "Epoch 10/50\n",
            "5/5 [==============================] - 0s 3ms/step - loss: 0.5305 - accuracy: 0.7338\n",
            "Epoch 11/50\n",
            "5/5 [==============================] - 0s 3ms/step - loss: 0.5178 - accuracy: 0.7338\n",
            "Epoch 12/50\n",
            "5/5 [==============================] - 0s 3ms/step - loss: 0.5038 - accuracy: 0.7626\n",
            "Epoch 13/50\n",
            "5/5 [==============================] - 0s 4ms/step - loss: 0.4909 - accuracy: 0.7770\n",
            "Epoch 14/50\n",
            "5/5 [==============================] - 0s 3ms/step - loss: 0.4754 - accuracy: 0.7842\n",
            "Epoch 15/50\n",
            "5/5 [==============================] - 0s 3ms/step - loss: 0.4628 - accuracy: 0.8058\n",
            "Epoch 16/50\n",
            "5/5 [==============================] - 0s 3ms/step - loss: 0.4410 - accuracy: 0.8273\n",
            "Epoch 17/50\n",
            "5/5 [==============================] - 0s 3ms/step - loss: 0.4258 - accuracy: 0.8489\n",
            "Epoch 18/50\n",
            "5/5 [==============================] - 0s 3ms/step - loss: 0.4084 - accuracy: 0.8561\n",
            "Epoch 19/50\n",
            "5/5 [==============================] - 0s 3ms/step - loss: 0.3914 - accuracy: 0.8633\n",
            "Epoch 20/50\n",
            "5/5 [==============================] - 0s 4ms/step - loss: 0.3761 - accuracy: 0.8633\n",
            "Epoch 21/50\n",
            "5/5 [==============================] - 0s 3ms/step - loss: 0.3556 - accuracy: 0.8633\n",
            "Epoch 22/50\n",
            "5/5 [==============================] - 0s 3ms/step - loss: 0.3370 - accuracy: 0.8849\n",
            "Epoch 23/50\n",
            "5/5 [==============================] - 0s 2ms/step - loss: 0.3190 - accuracy: 0.8921\n",
            "Epoch 24/50\n",
            "5/5 [==============================] - 0s 3ms/step - loss: 0.3054 - accuracy: 0.8993\n",
            "Epoch 25/50\n",
            "5/5 [==============================] - 0s 3ms/step - loss: 0.2848 - accuracy: 0.9065\n",
            "Epoch 26/50\n",
            "5/5 [==============================] - 0s 3ms/step - loss: 0.2798 - accuracy: 0.8849\n",
            "Epoch 27/50\n",
            "5/5 [==============================] - 0s 3ms/step - loss: 0.2568 - accuracy: 0.8921\n",
            "Epoch 28/50\n",
            "5/5 [==============================] - 0s 3ms/step - loss: 0.2415 - accuracy: 0.9281\n",
            "Epoch 29/50\n",
            "5/5 [==============================] - 0s 3ms/step - loss: 0.2261 - accuracy: 0.9281\n",
            "Epoch 30/50\n",
            "5/5 [==============================] - 0s 3ms/step - loss: 0.2125 - accuracy: 0.9281\n",
            "Epoch 31/50\n",
            "5/5 [==============================] - 0s 3ms/step - loss: 0.1955 - accuracy: 0.9281\n",
            "Epoch 32/50\n",
            "5/5 [==============================] - 0s 3ms/step - loss: 0.1813 - accuracy: 0.9353\n",
            "Epoch 33/50\n",
            "5/5 [==============================] - 0s 3ms/step - loss: 0.1727 - accuracy: 0.9496\n",
            "Epoch 34/50\n",
            "5/5 [==============================] - 0s 3ms/step - loss: 0.1693 - accuracy: 0.9568\n",
            "Epoch 35/50\n",
            "5/5 [==============================] - 0s 3ms/step - loss: 0.1506 - accuracy: 0.9353\n",
            "Epoch 36/50\n",
            "5/5 [==============================] - 0s 3ms/step - loss: 0.1400 - accuracy: 0.9424\n",
            "Epoch 37/50\n",
            "5/5 [==============================] - 0s 3ms/step - loss: 0.1334 - accuracy: 0.9856\n",
            "Epoch 38/50\n",
            "5/5 [==============================] - 0s 3ms/step - loss: 0.1245 - accuracy: 0.9856\n",
            "Epoch 39/50\n",
            "5/5 [==============================] - 0s 3ms/step - loss: 0.1158 - accuracy: 0.9784\n",
            "Epoch 40/50\n",
            "5/5 [==============================] - 0s 3ms/step - loss: 0.1042 - accuracy: 0.9856\n",
            "Epoch 41/50\n",
            "5/5 [==============================] - 0s 3ms/step - loss: 0.1000 - accuracy: 0.9928\n",
            "Epoch 42/50\n",
            "5/5 [==============================] - 0s 3ms/step - loss: 0.0930 - accuracy: 0.9928\n",
            "Epoch 43/50\n",
            "5/5 [==============================] - 0s 3ms/step - loss: 0.0799 - accuracy: 1.0000\n",
            "Epoch 44/50\n",
            "5/5 [==============================] - 0s 3ms/step - loss: 0.0765 - accuracy: 0.9928\n",
            "Epoch 45/50\n",
            "5/5 [==============================] - 0s 3ms/step - loss: 0.0684 - accuracy: 1.0000\n",
            "Epoch 46/50\n",
            "5/5 [==============================] - 0s 4ms/step - loss: 0.0639 - accuracy: 1.0000\n",
            "Epoch 47/50\n",
            "5/5 [==============================] - 0s 3ms/step - loss: 0.0584 - accuracy: 1.0000\n",
            "Epoch 48/50\n",
            "5/5 [==============================] - 0s 3ms/step - loss: 0.0527 - accuracy: 1.0000\n",
            "Epoch 49/50\n",
            "5/5 [==============================] - 0s 3ms/step - loss: 0.0472 - accuracy: 1.0000\n",
            "Epoch 50/50\n",
            "5/5 [==============================] - 0s 3ms/step - loss: 0.0451 - accuracy: 1.0000\n"
          ]
        }
      ]
    },
    {
      "cell_type": "code",
      "source": [
        ""
      ],
      "metadata": {
        "id": "CGzI7qA1DrxS"
      },
      "execution_count": 46,
      "outputs": []
    }
  ]
}