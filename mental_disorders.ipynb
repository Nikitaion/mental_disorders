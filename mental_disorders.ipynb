{
  "cells": [
    {
      "cell_type": "markdown",
      "metadata": {
        "id": "view-in-github",
        "colab_type": "text"
      },
      "source": [
        "<a href=\"https://colab.research.google.com/github/Nikitaion/mental_disorders/blob/main/mental_disorders.ipynb\" target=\"_parent\"><img src=\"https://colab.research.google.com/assets/colab-badge.svg\" alt=\"Open In Colab\"/></a>"
      ]
    },
    {
      "cell_type": "code",
      "execution_count": 1,
      "metadata": {
        "colab": {
          "base_uri": "https://localhost:8080/"
        },
        "id": "xviXFSvcd-gZ",
        "outputId": "af2e5600-f963-4e67-8b5c-c2aab555502a"
      },
      "outputs": [
        {
          "output_type": "stream",
          "name": "stdout",
          "text": [
            "--2022-07-11 12:39:15--  https://raw.githubusercontent.com/Nikitaion/mental_disorders/main/data/290622_mental_disorders_data_without_somatika.csv\n",
            "Resolving raw.githubusercontent.com (raw.githubusercontent.com)... 185.199.109.133, 185.199.111.133, 185.199.108.133, ...\n",
            "Connecting to raw.githubusercontent.com (raw.githubusercontent.com)|185.199.109.133|:443... connected.\n",
            "HTTP request sent, awaiting response... 200 OK\n",
            "Length: 13658 (13K) [text/plain]\n",
            "Saving to: ‘ds.csv’\n",
            "\n",
            "\rds.csv                0%[                    ]       0  --.-KB/s               \rds.csv              100%[===================>]  13.34K  --.-KB/s    in 0s      \n",
            "\n",
            "2022-07-11 12:39:15 (87.8 MB/s) - ‘ds.csv’ saved [13658/13658]\n",
            "\n"
          ]
        }
      ],
      "source": [
        "!wget https://raw.githubusercontent.com/Nikitaion/mental_disorders/main/data/290622_mental_disorders_data_without_somatika.csv -O ds.csv"
      ]
    },
    {
      "cell_type": "code",
      "execution_count": 2,
      "metadata": {
        "colab": {
          "base_uri": "https://localhost:8080/"
        },
        "id": "w6YXg1QZeuWS",
        "outputId": "2ae83173-ece2-4bb7-8dc6-dd4effc60351"
      },
      "outputs": [
        {
          "output_type": "stream",
          "name": "stdout",
          "text": [
            "Tensorflow version: 2.8.2\n"
          ]
        }
      ],
      "source": [
        "import tensorflow as tf\n",
        "print(f\"Tensorflow version: {tf.__version__}\")\n",
        "\n",
        "import pandas as pd\n",
        "import numpy as np\n",
        "\n",
        "from sklearn.model_selection import  train_test_split\n",
        "\n",
        "from sklearn.preprocessing import StandardScaler\n"
      ]
    },
    {
      "cell_type": "code",
      "execution_count": 3,
      "metadata": {
        "colab": {
          "base_uri": "https://localhost:8080/",
          "height": 352
        },
        "id": "0lKSFBRwg3oI",
        "outputId": "8eea9154-f5fc-4472-b241-9b12de66c4ac"
      },
      "outputs": [
        {
          "output_type": "execute_result",
          "data": {
            "text/plain": [
              "  Снинговый номер Пол  Полных лет  Образование(0-начальное, 4-высшее)  \\\n",
              "0            УП-1   М          32                                   4   \n",
              "1            УП-2   М          26                                   2   \n",
              "2            УП-3   М          49                                   2   \n",
              "3            УП-4   М          50                                   2   \n",
              "4            УП-6   М          39                                   2   \n",
              "\n",
              "   Род занятий(0-0, работает-1  Семейное положение(0-0, 1-женат)  \\\n",
              "0                            0                                 0   \n",
              "1                            0                                 0   \n",
              "2                            0                                 0   \n",
              "3                            0                                 0   \n",
              "4                            0                                 0   \n",
              "\n",
              "   Удовлетворенность семеными отношениями  \\\n",
              "0                                       5   \n",
              "1                                       5   \n",
              "2                                       5   \n",
              "3                                       5   \n",
              "4                                       5   \n",
              "\n",
              "   Удовлетворенность материальным положением  Здоровье от 1 до 10  \\\n",
              "0                                          0                    7   \n",
              "1                                          0                   10   \n",
              "2                                          1                   10   \n",
              "3                                          1                    7   \n",
              "4                                          1                    7   \n",
              "\n",
              "   Были ли нарушения сна  ...  Частота госпит  Стаж шизофр   P   N   G  PSQI  \\\n",
              "0                      1  ...               0          3.7  11  11  18     6   \n",
              "1                      1  ...               1          2.0  10  25  36     8   \n",
              "2                      0  ...               2         23.0   9  16  23     3   \n",
              "3                      1  ...               1         34.0  13  13  20     6   \n",
              "4                      0  ...               0          4.0   9  13  22     4   \n",
              "\n",
              "   psqi больше 5  (ТРЕВОГА)Гаиильтон больше 16  (ДЕПРЕССИЯ)madrs больше 6  \\\n",
              "0              1                             0                          0   \n",
              "1              1                             0                          1   \n",
              "2              0                             0                          0   \n",
              "3              1                             0                          0   \n",
              "4              0                             0                          0   \n",
              "\n",
              "   (ДЕПРЕССИЯ)Калгари больше 5  \n",
              "0                            0  \n",
              "1                            1  \n",
              "2                            0  \n",
              "3                            0  \n",
              "4                            0  \n",
              "\n",
              "[5 rows x 25 columns]"
            ],
            "text/html": [
              "\n",
              "  <div id=\"df-8ba47ac3-c12e-4774-bdc2-e428f82e8c44\">\n",
              "    <div class=\"colab-df-container\">\n",
              "      <div>\n",
              "<style scoped>\n",
              "    .dataframe tbody tr th:only-of-type {\n",
              "        vertical-align: middle;\n",
              "    }\n",
              "\n",
              "    .dataframe tbody tr th {\n",
              "        vertical-align: top;\n",
              "    }\n",
              "\n",
              "    .dataframe thead th {\n",
              "        text-align: right;\n",
              "    }\n",
              "</style>\n",
              "<table border=\"1\" class=\"dataframe\">\n",
              "  <thead>\n",
              "    <tr style=\"text-align: right;\">\n",
              "      <th></th>\n",
              "      <th>Снинговый номер</th>\n",
              "      <th>Пол</th>\n",
              "      <th>Полных лет</th>\n",
              "      <th>Образование(0-начальное, 4-высшее)</th>\n",
              "      <th>Род занятий(0-0, работает-1</th>\n",
              "      <th>Семейное положение(0-0, 1-женат)</th>\n",
              "      <th>Удовлетворенность семеными отношениями</th>\n",
              "      <th>Удовлетворенность материальным положением</th>\n",
              "      <th>Здоровье от 1 до 10</th>\n",
              "      <th>Были ли нарушения сна</th>\n",
              "      <th>...</th>\n",
              "      <th>Частота госпит</th>\n",
              "      <th>Стаж шизофр</th>\n",
              "      <th>P</th>\n",
              "      <th>N</th>\n",
              "      <th>G</th>\n",
              "      <th>PSQI</th>\n",
              "      <th>psqi больше 5</th>\n",
              "      <th>(ТРЕВОГА)Гаиильтон больше 16</th>\n",
              "      <th>(ДЕПРЕССИЯ)madrs больше 6</th>\n",
              "      <th>(ДЕПРЕССИЯ)Калгари больше 5</th>\n",
              "    </tr>\n",
              "  </thead>\n",
              "  <tbody>\n",
              "    <tr>\n",
              "      <th>0</th>\n",
              "      <td>УП-1</td>\n",
              "      <td>М</td>\n",
              "      <td>32</td>\n",
              "      <td>4</td>\n",
              "      <td>0</td>\n",
              "      <td>0</td>\n",
              "      <td>5</td>\n",
              "      <td>0</td>\n",
              "      <td>7</td>\n",
              "      <td>1</td>\n",
              "      <td>...</td>\n",
              "      <td>0</td>\n",
              "      <td>3.7</td>\n",
              "      <td>11</td>\n",
              "      <td>11</td>\n",
              "      <td>18</td>\n",
              "      <td>6</td>\n",
              "      <td>1</td>\n",
              "      <td>0</td>\n",
              "      <td>0</td>\n",
              "      <td>0</td>\n",
              "    </tr>\n",
              "    <tr>\n",
              "      <th>1</th>\n",
              "      <td>УП-2</td>\n",
              "      <td>М</td>\n",
              "      <td>26</td>\n",
              "      <td>2</td>\n",
              "      <td>0</td>\n",
              "      <td>0</td>\n",
              "      <td>5</td>\n",
              "      <td>0</td>\n",
              "      <td>10</td>\n",
              "      <td>1</td>\n",
              "      <td>...</td>\n",
              "      <td>1</td>\n",
              "      <td>2.0</td>\n",
              "      <td>10</td>\n",
              "      <td>25</td>\n",
              "      <td>36</td>\n",
              "      <td>8</td>\n",
              "      <td>1</td>\n",
              "      <td>0</td>\n",
              "      <td>1</td>\n",
              "      <td>1</td>\n",
              "    </tr>\n",
              "    <tr>\n",
              "      <th>2</th>\n",
              "      <td>УП-3</td>\n",
              "      <td>М</td>\n",
              "      <td>49</td>\n",
              "      <td>2</td>\n",
              "      <td>0</td>\n",
              "      <td>0</td>\n",
              "      <td>5</td>\n",
              "      <td>1</td>\n",
              "      <td>10</td>\n",
              "      <td>0</td>\n",
              "      <td>...</td>\n",
              "      <td>2</td>\n",
              "      <td>23.0</td>\n",
              "      <td>9</td>\n",
              "      <td>16</td>\n",
              "      <td>23</td>\n",
              "      <td>3</td>\n",
              "      <td>0</td>\n",
              "      <td>0</td>\n",
              "      <td>0</td>\n",
              "      <td>0</td>\n",
              "    </tr>\n",
              "    <tr>\n",
              "      <th>3</th>\n",
              "      <td>УП-4</td>\n",
              "      <td>М</td>\n",
              "      <td>50</td>\n",
              "      <td>2</td>\n",
              "      <td>0</td>\n",
              "      <td>0</td>\n",
              "      <td>5</td>\n",
              "      <td>1</td>\n",
              "      <td>7</td>\n",
              "      <td>1</td>\n",
              "      <td>...</td>\n",
              "      <td>1</td>\n",
              "      <td>34.0</td>\n",
              "      <td>13</td>\n",
              "      <td>13</td>\n",
              "      <td>20</td>\n",
              "      <td>6</td>\n",
              "      <td>1</td>\n",
              "      <td>0</td>\n",
              "      <td>0</td>\n",
              "      <td>0</td>\n",
              "    </tr>\n",
              "    <tr>\n",
              "      <th>4</th>\n",
              "      <td>УП-6</td>\n",
              "      <td>М</td>\n",
              "      <td>39</td>\n",
              "      <td>2</td>\n",
              "      <td>0</td>\n",
              "      <td>0</td>\n",
              "      <td>5</td>\n",
              "      <td>1</td>\n",
              "      <td>7</td>\n",
              "      <td>0</td>\n",
              "      <td>...</td>\n",
              "      <td>0</td>\n",
              "      <td>4.0</td>\n",
              "      <td>9</td>\n",
              "      <td>13</td>\n",
              "      <td>22</td>\n",
              "      <td>4</td>\n",
              "      <td>0</td>\n",
              "      <td>0</td>\n",
              "      <td>0</td>\n",
              "      <td>0</td>\n",
              "    </tr>\n",
              "  </tbody>\n",
              "</table>\n",
              "<p>5 rows × 25 columns</p>\n",
              "</div>\n",
              "      <button class=\"colab-df-convert\" onclick=\"convertToInteractive('df-8ba47ac3-c12e-4774-bdc2-e428f82e8c44')\"\n",
              "              title=\"Convert this dataframe to an interactive table.\"\n",
              "              style=\"display:none;\">\n",
              "        \n",
              "  <svg xmlns=\"http://www.w3.org/2000/svg\" height=\"24px\"viewBox=\"0 0 24 24\"\n",
              "       width=\"24px\">\n",
              "    <path d=\"M0 0h24v24H0V0z\" fill=\"none\"/>\n",
              "    <path d=\"M18.56 5.44l.94 2.06.94-2.06 2.06-.94-2.06-.94-.94-2.06-.94 2.06-2.06.94zm-11 1L8.5 8.5l.94-2.06 2.06-.94-2.06-.94L8.5 2.5l-.94 2.06-2.06.94zm10 10l.94 2.06.94-2.06 2.06-.94-2.06-.94-.94-2.06-.94 2.06-2.06.94z\"/><path d=\"M17.41 7.96l-1.37-1.37c-.4-.4-.92-.59-1.43-.59-.52 0-1.04.2-1.43.59L10.3 9.45l-7.72 7.72c-.78.78-.78 2.05 0 2.83L4 21.41c.39.39.9.59 1.41.59.51 0 1.02-.2 1.41-.59l7.78-7.78 2.81-2.81c.8-.78.8-2.07 0-2.86zM5.41 20L4 18.59l7.72-7.72 1.47 1.35L5.41 20z\"/>\n",
              "  </svg>\n",
              "      </button>\n",
              "      \n",
              "  <style>\n",
              "    .colab-df-container {\n",
              "      display:flex;\n",
              "      flex-wrap:wrap;\n",
              "      gap: 12px;\n",
              "    }\n",
              "\n",
              "    .colab-df-convert {\n",
              "      background-color: #E8F0FE;\n",
              "      border: none;\n",
              "      border-radius: 50%;\n",
              "      cursor: pointer;\n",
              "      display: none;\n",
              "      fill: #1967D2;\n",
              "      height: 32px;\n",
              "      padding: 0 0 0 0;\n",
              "      width: 32px;\n",
              "    }\n",
              "\n",
              "    .colab-df-convert:hover {\n",
              "      background-color: #E2EBFA;\n",
              "      box-shadow: 0px 1px 2px rgba(60, 64, 67, 0.3), 0px 1px 3px 1px rgba(60, 64, 67, 0.15);\n",
              "      fill: #174EA6;\n",
              "    }\n",
              "\n",
              "    [theme=dark] .colab-df-convert {\n",
              "      background-color: #3B4455;\n",
              "      fill: #D2E3FC;\n",
              "    }\n",
              "\n",
              "    [theme=dark] .colab-df-convert:hover {\n",
              "      background-color: #434B5C;\n",
              "      box-shadow: 0px 1px 3px 1px rgba(0, 0, 0, 0.15);\n",
              "      filter: drop-shadow(0px 1px 2px rgba(0, 0, 0, 0.3));\n",
              "      fill: #FFFFFF;\n",
              "    }\n",
              "  </style>\n",
              "\n",
              "      <script>\n",
              "        const buttonEl =\n",
              "          document.querySelector('#df-8ba47ac3-c12e-4774-bdc2-e428f82e8c44 button.colab-df-convert');\n",
              "        buttonEl.style.display =\n",
              "          google.colab.kernel.accessAllowed ? 'block' : 'none';\n",
              "\n",
              "        async function convertToInteractive(key) {\n",
              "          const element = document.querySelector('#df-8ba47ac3-c12e-4774-bdc2-e428f82e8c44');\n",
              "          const dataTable =\n",
              "            await google.colab.kernel.invokeFunction('convertToInteractive',\n",
              "                                                     [key], {});\n",
              "          if (!dataTable) return;\n",
              "\n",
              "          const docLinkHtml = 'Like what you see? Visit the ' +\n",
              "            '<a target=\"_blank\" href=https://colab.research.google.com/notebooks/data_table.ipynb>data table notebook</a>'\n",
              "            + ' to learn more about interactive tables.';\n",
              "          element.innerHTML = '';\n",
              "          dataTable['output_type'] = 'display_data';\n",
              "          await google.colab.output.renderOutput(dataTable, element);\n",
              "          const docLink = document.createElement('div');\n",
              "          docLink.innerHTML = docLinkHtml;\n",
              "          element.appendChild(docLink);\n",
              "        }\n",
              "      </script>\n",
              "    </div>\n",
              "  </div>\n",
              "  "
            ]
          },
          "metadata": {},
          "execution_count": 3
        }
      ],
      "source": [
        "ds = pd.read_csv(\"/content/ds.csv\")\n",
        "ds.head()"
      ]
    },
    {
      "cell_type": "code",
      "execution_count": 4,
      "metadata": {
        "colab": {
          "base_uri": "https://localhost:8080/",
          "height": 352
        },
        "id": "ASj1vcYIhAzw",
        "outputId": "2328d8f1-5964-4346-8722-751d67bd0c8c"
      },
      "outputs": [
        {
          "output_type": "execute_result",
          "data": {
            "text/plain": [
              "    Снинговый номер Пол  Полных лет  Образование(0-начальное, 4-высшее)  \\\n",
              "170           УФ-32   М          35                                   3   \n",
              "171           УФ-33   М          57                                   2   \n",
              "172           УФ-34   М          24                                   4   \n",
              "173         УФ-33-2   М          41                                   2   \n",
              "174         УФ-34-2   М          32                                   2   \n",
              "\n",
              "     Род занятий(0-0, работает-1  Семейное положение(0-0, 1-женат)  \\\n",
              "170                            0                                 0   \n",
              "171                            0                                 0   \n",
              "172                            1                                 0   \n",
              "173                            0                                 0   \n",
              "174                            0                                 0   \n",
              "\n",
              "     Удовлетворенность семеными отношениями  \\\n",
              "170                                       2   \n",
              "171                                       1   \n",
              "172                                       5   \n",
              "173                                       3   \n",
              "174                                       5   \n",
              "\n",
              "     Удовлетворенность материальным положением  Здоровье от 1 до 10  \\\n",
              "170                                          0                    7   \n",
              "171                                          0                    9   \n",
              "172                                          1                   10   \n",
              "173                                          0                    9   \n",
              "174                                          1                   10   \n",
              "\n",
              "     Были ли нарушения сна  ...  Частота госпит  Стаж шизофр   P   N   G  \\\n",
              "170                      1  ...               0         16.0  19   8  31   \n",
              "171                      1  ...               0         35.0  10  10  23   \n",
              "172                      1  ...               0          6.0   7   9  27   \n",
              "173                      1  ...               2         13.0  14  13  21   \n",
              "174                      1  ...               1          9.0   7  12  28   \n",
              "\n",
              "     PSQI  psqi больше 5  (ТРЕВОГА)Гаиильтон больше 16  \\\n",
              "170     5              0                             0   \n",
              "171     5              0                             0   \n",
              "172     5              0                             0   \n",
              "173     9              1                             1   \n",
              "174     6              1                             0   \n",
              "\n",
              "     (ДЕПРЕССИЯ)madrs больше 6  (ДЕПРЕССИЯ)Калгари больше 5  \n",
              "170                          1                            1  \n",
              "171                          0                            0  \n",
              "172                          0                            0  \n",
              "173                          1                            0  \n",
              "174                          1                            0  \n",
              "\n",
              "[5 rows x 25 columns]"
            ],
            "text/html": [
              "\n",
              "  <div id=\"df-c00a8799-2764-406d-94e9-d59873d71512\">\n",
              "    <div class=\"colab-df-container\">\n",
              "      <div>\n",
              "<style scoped>\n",
              "    .dataframe tbody tr th:only-of-type {\n",
              "        vertical-align: middle;\n",
              "    }\n",
              "\n",
              "    .dataframe tbody tr th {\n",
              "        vertical-align: top;\n",
              "    }\n",
              "\n",
              "    .dataframe thead th {\n",
              "        text-align: right;\n",
              "    }\n",
              "</style>\n",
              "<table border=\"1\" class=\"dataframe\">\n",
              "  <thead>\n",
              "    <tr style=\"text-align: right;\">\n",
              "      <th></th>\n",
              "      <th>Снинговый номер</th>\n",
              "      <th>Пол</th>\n",
              "      <th>Полных лет</th>\n",
              "      <th>Образование(0-начальное, 4-высшее)</th>\n",
              "      <th>Род занятий(0-0, работает-1</th>\n",
              "      <th>Семейное положение(0-0, 1-женат)</th>\n",
              "      <th>Удовлетворенность семеными отношениями</th>\n",
              "      <th>Удовлетворенность материальным положением</th>\n",
              "      <th>Здоровье от 1 до 10</th>\n",
              "      <th>Были ли нарушения сна</th>\n",
              "      <th>...</th>\n",
              "      <th>Частота госпит</th>\n",
              "      <th>Стаж шизофр</th>\n",
              "      <th>P</th>\n",
              "      <th>N</th>\n",
              "      <th>G</th>\n",
              "      <th>PSQI</th>\n",
              "      <th>psqi больше 5</th>\n",
              "      <th>(ТРЕВОГА)Гаиильтон больше 16</th>\n",
              "      <th>(ДЕПРЕССИЯ)madrs больше 6</th>\n",
              "      <th>(ДЕПРЕССИЯ)Калгари больше 5</th>\n",
              "    </tr>\n",
              "  </thead>\n",
              "  <tbody>\n",
              "    <tr>\n",
              "      <th>170</th>\n",
              "      <td>УФ-32</td>\n",
              "      <td>М</td>\n",
              "      <td>35</td>\n",
              "      <td>3</td>\n",
              "      <td>0</td>\n",
              "      <td>0</td>\n",
              "      <td>2</td>\n",
              "      <td>0</td>\n",
              "      <td>7</td>\n",
              "      <td>1</td>\n",
              "      <td>...</td>\n",
              "      <td>0</td>\n",
              "      <td>16.0</td>\n",
              "      <td>19</td>\n",
              "      <td>8</td>\n",
              "      <td>31</td>\n",
              "      <td>5</td>\n",
              "      <td>0</td>\n",
              "      <td>0</td>\n",
              "      <td>1</td>\n",
              "      <td>1</td>\n",
              "    </tr>\n",
              "    <tr>\n",
              "      <th>171</th>\n",
              "      <td>УФ-33</td>\n",
              "      <td>М</td>\n",
              "      <td>57</td>\n",
              "      <td>2</td>\n",
              "      <td>0</td>\n",
              "      <td>0</td>\n",
              "      <td>1</td>\n",
              "      <td>0</td>\n",
              "      <td>9</td>\n",
              "      <td>1</td>\n",
              "      <td>...</td>\n",
              "      <td>0</td>\n",
              "      <td>35.0</td>\n",
              "      <td>10</td>\n",
              "      <td>10</td>\n",
              "      <td>23</td>\n",
              "      <td>5</td>\n",
              "      <td>0</td>\n",
              "      <td>0</td>\n",
              "      <td>0</td>\n",
              "      <td>0</td>\n",
              "    </tr>\n",
              "    <tr>\n",
              "      <th>172</th>\n",
              "      <td>УФ-34</td>\n",
              "      <td>М</td>\n",
              "      <td>24</td>\n",
              "      <td>4</td>\n",
              "      <td>1</td>\n",
              "      <td>0</td>\n",
              "      <td>5</td>\n",
              "      <td>1</td>\n",
              "      <td>10</td>\n",
              "      <td>1</td>\n",
              "      <td>...</td>\n",
              "      <td>0</td>\n",
              "      <td>6.0</td>\n",
              "      <td>7</td>\n",
              "      <td>9</td>\n",
              "      <td>27</td>\n",
              "      <td>5</td>\n",
              "      <td>0</td>\n",
              "      <td>0</td>\n",
              "      <td>0</td>\n",
              "      <td>0</td>\n",
              "    </tr>\n",
              "    <tr>\n",
              "      <th>173</th>\n",
              "      <td>УФ-33-2</td>\n",
              "      <td>М</td>\n",
              "      <td>41</td>\n",
              "      <td>2</td>\n",
              "      <td>0</td>\n",
              "      <td>0</td>\n",
              "      <td>3</td>\n",
              "      <td>0</td>\n",
              "      <td>9</td>\n",
              "      <td>1</td>\n",
              "      <td>...</td>\n",
              "      <td>2</td>\n",
              "      <td>13.0</td>\n",
              "      <td>14</td>\n",
              "      <td>13</td>\n",
              "      <td>21</td>\n",
              "      <td>9</td>\n",
              "      <td>1</td>\n",
              "      <td>1</td>\n",
              "      <td>1</td>\n",
              "      <td>0</td>\n",
              "    </tr>\n",
              "    <tr>\n",
              "      <th>174</th>\n",
              "      <td>УФ-34-2</td>\n",
              "      <td>М</td>\n",
              "      <td>32</td>\n",
              "      <td>2</td>\n",
              "      <td>0</td>\n",
              "      <td>0</td>\n",
              "      <td>5</td>\n",
              "      <td>1</td>\n",
              "      <td>10</td>\n",
              "      <td>1</td>\n",
              "      <td>...</td>\n",
              "      <td>1</td>\n",
              "      <td>9.0</td>\n",
              "      <td>7</td>\n",
              "      <td>12</td>\n",
              "      <td>28</td>\n",
              "      <td>6</td>\n",
              "      <td>1</td>\n",
              "      <td>0</td>\n",
              "      <td>1</td>\n",
              "      <td>0</td>\n",
              "    </tr>\n",
              "  </tbody>\n",
              "</table>\n",
              "<p>5 rows × 25 columns</p>\n",
              "</div>\n",
              "      <button class=\"colab-df-convert\" onclick=\"convertToInteractive('df-c00a8799-2764-406d-94e9-d59873d71512')\"\n",
              "              title=\"Convert this dataframe to an interactive table.\"\n",
              "              style=\"display:none;\">\n",
              "        \n",
              "  <svg xmlns=\"http://www.w3.org/2000/svg\" height=\"24px\"viewBox=\"0 0 24 24\"\n",
              "       width=\"24px\">\n",
              "    <path d=\"M0 0h24v24H0V0z\" fill=\"none\"/>\n",
              "    <path d=\"M18.56 5.44l.94 2.06.94-2.06 2.06-.94-2.06-.94-.94-2.06-.94 2.06-2.06.94zm-11 1L8.5 8.5l.94-2.06 2.06-.94-2.06-.94L8.5 2.5l-.94 2.06-2.06.94zm10 10l.94 2.06.94-2.06 2.06-.94-2.06-.94-.94-2.06-.94 2.06-2.06.94z\"/><path d=\"M17.41 7.96l-1.37-1.37c-.4-.4-.92-.59-1.43-.59-.52 0-1.04.2-1.43.59L10.3 9.45l-7.72 7.72c-.78.78-.78 2.05 0 2.83L4 21.41c.39.39.9.59 1.41.59.51 0 1.02-.2 1.41-.59l7.78-7.78 2.81-2.81c.8-.78.8-2.07 0-2.86zM5.41 20L4 18.59l7.72-7.72 1.47 1.35L5.41 20z\"/>\n",
              "  </svg>\n",
              "      </button>\n",
              "      \n",
              "  <style>\n",
              "    .colab-df-container {\n",
              "      display:flex;\n",
              "      flex-wrap:wrap;\n",
              "      gap: 12px;\n",
              "    }\n",
              "\n",
              "    .colab-df-convert {\n",
              "      background-color: #E8F0FE;\n",
              "      border: none;\n",
              "      border-radius: 50%;\n",
              "      cursor: pointer;\n",
              "      display: none;\n",
              "      fill: #1967D2;\n",
              "      height: 32px;\n",
              "      padding: 0 0 0 0;\n",
              "      width: 32px;\n",
              "    }\n",
              "\n",
              "    .colab-df-convert:hover {\n",
              "      background-color: #E2EBFA;\n",
              "      box-shadow: 0px 1px 2px rgba(60, 64, 67, 0.3), 0px 1px 3px 1px rgba(60, 64, 67, 0.15);\n",
              "      fill: #174EA6;\n",
              "    }\n",
              "\n",
              "    [theme=dark] .colab-df-convert {\n",
              "      background-color: #3B4455;\n",
              "      fill: #D2E3FC;\n",
              "    }\n",
              "\n",
              "    [theme=dark] .colab-df-convert:hover {\n",
              "      background-color: #434B5C;\n",
              "      box-shadow: 0px 1px 3px 1px rgba(0, 0, 0, 0.15);\n",
              "      filter: drop-shadow(0px 1px 2px rgba(0, 0, 0, 0.3));\n",
              "      fill: #FFFFFF;\n",
              "    }\n",
              "  </style>\n",
              "\n",
              "      <script>\n",
              "        const buttonEl =\n",
              "          document.querySelector('#df-c00a8799-2764-406d-94e9-d59873d71512 button.colab-df-convert');\n",
              "        buttonEl.style.display =\n",
              "          google.colab.kernel.accessAllowed ? 'block' : 'none';\n",
              "\n",
              "        async function convertToInteractive(key) {\n",
              "          const element = document.querySelector('#df-c00a8799-2764-406d-94e9-d59873d71512');\n",
              "          const dataTable =\n",
              "            await google.colab.kernel.invokeFunction('convertToInteractive',\n",
              "                                                     [key], {});\n",
              "          if (!dataTable) return;\n",
              "\n",
              "          const docLinkHtml = 'Like what you see? Visit the ' +\n",
              "            '<a target=\"_blank\" href=https://colab.research.google.com/notebooks/data_table.ipynb>data table notebook</a>'\n",
              "            + ' to learn more about interactive tables.';\n",
              "          element.innerHTML = '';\n",
              "          dataTable['output_type'] = 'display_data';\n",
              "          await google.colab.output.renderOutput(dataTable, element);\n",
              "          const docLink = document.createElement('div');\n",
              "          docLink.innerHTML = docLinkHtml;\n",
              "          element.appendChild(docLink);\n",
              "        }\n",
              "      </script>\n",
              "    </div>\n",
              "  </div>\n",
              "  "
            ]
          },
          "metadata": {},
          "execution_count": 4
        }
      ],
      "source": [
        "ds.tail()"
      ]
    },
    {
      "cell_type": "code",
      "source": [
        "ds.info()"
      ],
      "metadata": {
        "colab": {
          "base_uri": "https://localhost:8080/"
        },
        "id": "W_N2ueZDTxGN",
        "outputId": "04e464e2-6435-4fe7-9858-c1aab1deb658"
      },
      "execution_count": 5,
      "outputs": [
        {
          "output_type": "stream",
          "name": "stdout",
          "text": [
            "<class 'pandas.core.frame.DataFrame'>\n",
            "RangeIndex: 175 entries, 0 to 174\n",
            "Data columns (total 25 columns):\n",
            " #   Column                                     Non-Null Count  Dtype  \n",
            "---  ------                                     --------------  -----  \n",
            " 0   Снинговый номер                            175 non-null    object \n",
            " 1   Пол                                        175 non-null    object \n",
            " 2   Полных лет                                 175 non-null    int64  \n",
            " 3   Образование(0-начальное, 4-высшее)         175 non-null    int64  \n",
            " 4   Род занятий(0-0, работает-1                175 non-null    int64  \n",
            " 5   Семейное положение(0-0, 1-женат)           175 non-null    int64  \n",
            " 6   Удовлетворенность семеными отношениями     175 non-null    int64  \n",
            " 7   Удовлетворенность материальным положением  175 non-null    int64  \n",
            " 8   Здоровье от 1 до 10                        175 non-null    int64  \n",
            " 9   Были ли нарушения сна                      175 non-null    int64  \n",
            " 10  ИМТ                                        175 non-null    float64\n",
            " 11  Операции                                   175 non-null    int64  \n",
            " 12  ЧМТ                                        175 non-null    int64  \n",
            " 13  Насл отягощенность                         175 non-null    int64  \n",
            " 14  Дебют                                      175 non-null    float64\n",
            " 15  Частота госпит                             175 non-null    int64  \n",
            " 16  Стаж шизофр                                175 non-null    float64\n",
            " 17  P                                          175 non-null    int64  \n",
            " 18  N                                          175 non-null    int64  \n",
            " 19  G                                          175 non-null    int64  \n",
            " 20  PSQI                                       175 non-null    int64  \n",
            " 21  psqi больше 5                              175 non-null    int64  \n",
            " 22  (ТРЕВОГА)Гаиильтон больше 16               175 non-null    int64  \n",
            " 23  (ДЕПРЕССИЯ)madrs больше 6                  175 non-null    int64  \n",
            " 24  (ДЕПРЕССИЯ)Калгари больше 5                175 non-null    int64  \n",
            "dtypes: float64(3), int64(20), object(2)\n",
            "memory usage: 34.3+ KB\n"
          ]
        }
      ]
    },
    {
      "cell_type": "code",
      "source": [
        "ds.isna().sum()"
      ],
      "metadata": {
        "colab": {
          "base_uri": "https://localhost:8080/"
        },
        "id": "j5kHDI6VTxyX",
        "outputId": "7b033dd7-4ca4-47c5-d7cc-6424034e8f09"
      },
      "execution_count": 6,
      "outputs": [
        {
          "output_type": "execute_result",
          "data": {
            "text/plain": [
              "Снинговый номер                              0\n",
              "Пол                                          0\n",
              "Полных лет                                   0\n",
              "Образование(0-начальное, 4-высшее)           0\n",
              "Род занятий(0-0, работает-1                  0\n",
              "Семейное положение(0-0, 1-женат)             0\n",
              "Удовлетворенность семеными отношениями       0\n",
              "Удовлетворенность материальным положением    0\n",
              "Здоровье от 1 до 10                          0\n",
              "Были ли нарушения сна                        0\n",
              "ИМТ                                          0\n",
              "Операции                                     0\n",
              "ЧМТ                                          0\n",
              "Насл отягощенность                           0\n",
              "Дебют                                        0\n",
              "Частота госпит                               0\n",
              "Стаж шизофр                                  0\n",
              "P                                            0\n",
              "N                                            0\n",
              "G                                            0\n",
              "PSQI                                         0\n",
              "psqi больше 5                                0\n",
              "(ТРЕВОГА)Гаиильтон больше 16                 0\n",
              "(ДЕПРЕССИЯ)madrs больше 6                    0\n",
              "(ДЕПРЕССИЯ)Калгари больше 5                  0\n",
              "dtype: int64"
            ]
          },
          "metadata": {},
          "execution_count": 6
        }
      ]
    },
    {
      "cell_type": "code",
      "source": [
        ""
      ],
      "metadata": {
        "id": "TXPhKu8mT4cS"
      },
      "execution_count": 6,
      "outputs": []
    },
    {
      "cell_type": "code",
      "execution_count": 7,
      "metadata": {
        "id": "pEJ79uoXQZdV"
      },
      "outputs": [],
      "source": [
        "# drop unnecessary columns\n",
        "ds = ds.drop(columns=['Снинговый номер'])\n",
        "# ds = ds.drop(columns=['Здоровье от 1 до 10', 'Удовлетворенность материальным положением', 'Рост', 'Вес', 'BARS (акатизия)', 'SAS (Экстрапир)', 'AIMS (непр дв)', 'ESS', 'шкала общего клин впечатления', 'шкала соц функционир'])"
      ]
    },
    {
      "cell_type": "code",
      "execution_count": 8,
      "metadata": {
        "colab": {
          "base_uri": "https://localhost:8080/"
        },
        "id": "R-YpnvKCkznI",
        "outputId": "7fc07dc3-c24b-4ec9-829f-a36869c201d5"
      },
      "outputs": [
        {
          "output_type": "stream",
          "name": "stdout",
          "text": [
            "<class 'pandas.core.frame.DataFrame'>\n",
            "RangeIndex: 175 entries, 0 to 174\n",
            "Data columns (total 24 columns):\n",
            " #   Column                                     Non-Null Count  Dtype  \n",
            "---  ------                                     --------------  -----  \n",
            " 0   Пол                                        175 non-null    object \n",
            " 1   Полных лет                                 175 non-null    int64  \n",
            " 2   Образование(0-начальное, 4-высшее)         175 non-null    int64  \n",
            " 3   Род занятий(0-0, работает-1                175 non-null    int64  \n",
            " 4   Семейное положение(0-0, 1-женат)           175 non-null    int64  \n",
            " 5   Удовлетворенность семеными отношениями     175 non-null    int64  \n",
            " 6   Удовлетворенность материальным положением  175 non-null    int64  \n",
            " 7   Здоровье от 1 до 10                        175 non-null    int64  \n",
            " 8   Были ли нарушения сна                      175 non-null    int64  \n",
            " 9   ИМТ                                        175 non-null    float64\n",
            " 10  Операции                                   175 non-null    int64  \n",
            " 11  ЧМТ                                        175 non-null    int64  \n",
            " 12  Насл отягощенность                         175 non-null    int64  \n",
            " 13  Дебют                                      175 non-null    float64\n",
            " 14  Частота госпит                             175 non-null    int64  \n",
            " 15  Стаж шизофр                                175 non-null    float64\n",
            " 16  P                                          175 non-null    int64  \n",
            " 17  N                                          175 non-null    int64  \n",
            " 18  G                                          175 non-null    int64  \n",
            " 19  PSQI                                       175 non-null    int64  \n",
            " 20  psqi больше 5                              175 non-null    int64  \n",
            " 21  (ТРЕВОГА)Гаиильтон больше 16               175 non-null    int64  \n",
            " 22  (ДЕПРЕССИЯ)madrs больше 6                  175 non-null    int64  \n",
            " 23  (ДЕПРЕССИЯ)Калгари больше 5                175 non-null    int64  \n",
            "dtypes: float64(3), int64(20), object(1)\n",
            "memory usage: 32.9+ KB\n"
          ]
        }
      ],
      "source": [
        "ds.info()"
      ]
    },
    {
      "cell_type": "code",
      "source": [
        ""
      ],
      "metadata": {
        "id": "psWgB8oSkcF-"
      },
      "execution_count": 8,
      "outputs": []
    },
    {
      "cell_type": "code",
      "source": [
        "ds['Пол'].value_counts()"
      ],
      "metadata": {
        "colab": {
          "base_uri": "https://localhost:8080/"
        },
        "id": "Dy9-88v9bi2u",
        "outputId": "829402e6-2c53-45e0-e8b0-c94d7ab6e3de"
      },
      "execution_count": 9,
      "outputs": [
        {
          "output_type": "execute_result",
          "data": {
            "text/plain": [
              "М    132\n",
              "Ж     43\n",
              "Name: Пол, dtype: int64"
            ]
          },
          "metadata": {},
          "execution_count": 9
        }
      ]
    },
    {
      "cell_type": "code",
      "source": [
        "ds['Пол'] = np.where(ds['Пол']=='М',1,0)"
      ],
      "metadata": {
        "id": "0HsMmuGXbX0i"
      },
      "execution_count": 10,
      "outputs": []
    },
    {
      "cell_type": "code",
      "source": [
        "ds['Пол'].value_counts()"
      ],
      "metadata": {
        "colab": {
          "base_uri": "https://localhost:8080/"
        },
        "id": "BTxS-svEbkoK",
        "outputId": "d5c5729b-f0aa-4041-910a-ec5e876ac233"
      },
      "execution_count": 11,
      "outputs": [
        {
          "output_type": "execute_result",
          "data": {
            "text/plain": [
              "1    132\n",
              "0     43\n",
              "Name: Пол, dtype: int64"
            ]
          },
          "metadata": {},
          "execution_count": 11
        }
      ]
    },
    {
      "cell_type": "code",
      "execution_count": 12,
      "metadata": {
        "colab": {
          "base_uri": "https://localhost:8080/",
          "height": 352
        },
        "id": "eYGpxa6cG2Oi",
        "outputId": "4352a20d-8e39-4392-c2af-529f7583e809"
      },
      "outputs": [
        {
          "output_type": "execute_result",
          "data": {
            "text/plain": [
              "   Пол  Полных лет  Образование(0-начальное, 4-высшее)  \\\n",
              "0    1          32                                   4   \n",
              "1    1          26                                   2   \n",
              "2    1          49                                   2   \n",
              "3    1          50                                   2   \n",
              "4    1          39                                   2   \n",
              "\n",
              "   Род занятий(0-0, работает-1  Семейное положение(0-0, 1-женат)  \\\n",
              "0                            0                                 0   \n",
              "1                            0                                 0   \n",
              "2                            0                                 0   \n",
              "3                            0                                 0   \n",
              "4                            0                                 0   \n",
              "\n",
              "   Удовлетворенность семеными отношениями  \\\n",
              "0                                       5   \n",
              "1                                       5   \n",
              "2                                       5   \n",
              "3                                       5   \n",
              "4                                       5   \n",
              "\n",
              "   Удовлетворенность материальным положением  Здоровье от 1 до 10  \\\n",
              "0                                          0                    7   \n",
              "1                                          0                   10   \n",
              "2                                          1                   10   \n",
              "3                                          1                    7   \n",
              "4                                          1                    7   \n",
              "\n",
              "   Были ли нарушения сна        ИМТ  ...  Частота госпит  Стаж шизофр   P   N  \\\n",
              "0                      1  24.012346  ...               0          3.7  11  11   \n",
              "1                      1  20.244898  ...               1          2.0  10  25   \n",
              "2                      0  29.752744  ...               2         23.0   9  16   \n",
              "3                      1  22.093170  ...               1         34.0  13  13   \n",
              "4                      0  20.761246  ...               0          4.0   9  13   \n",
              "\n",
              "    G  PSQI  psqi больше 5  (ТРЕВОГА)Гаиильтон больше 16  \\\n",
              "0  18     6              1                             0   \n",
              "1  36     8              1                             0   \n",
              "2  23     3              0                             0   \n",
              "3  20     6              1                             0   \n",
              "4  22     4              0                             0   \n",
              "\n",
              "   (ДЕПРЕССИЯ)madrs больше 6  (ДЕПРЕССИЯ)Калгари больше 5  \n",
              "0                          0                            0  \n",
              "1                          1                            1  \n",
              "2                          0                            0  \n",
              "3                          0                            0  \n",
              "4                          0                            0  \n",
              "\n",
              "[5 rows x 24 columns]"
            ],
            "text/html": [
              "\n",
              "  <div id=\"df-02ca4594-69ca-4195-896a-726f4243f61c\">\n",
              "    <div class=\"colab-df-container\">\n",
              "      <div>\n",
              "<style scoped>\n",
              "    .dataframe tbody tr th:only-of-type {\n",
              "        vertical-align: middle;\n",
              "    }\n",
              "\n",
              "    .dataframe tbody tr th {\n",
              "        vertical-align: top;\n",
              "    }\n",
              "\n",
              "    .dataframe thead th {\n",
              "        text-align: right;\n",
              "    }\n",
              "</style>\n",
              "<table border=\"1\" class=\"dataframe\">\n",
              "  <thead>\n",
              "    <tr style=\"text-align: right;\">\n",
              "      <th></th>\n",
              "      <th>Пол</th>\n",
              "      <th>Полных лет</th>\n",
              "      <th>Образование(0-начальное, 4-высшее)</th>\n",
              "      <th>Род занятий(0-0, работает-1</th>\n",
              "      <th>Семейное положение(0-0, 1-женат)</th>\n",
              "      <th>Удовлетворенность семеными отношениями</th>\n",
              "      <th>Удовлетворенность материальным положением</th>\n",
              "      <th>Здоровье от 1 до 10</th>\n",
              "      <th>Были ли нарушения сна</th>\n",
              "      <th>ИМТ</th>\n",
              "      <th>...</th>\n",
              "      <th>Частота госпит</th>\n",
              "      <th>Стаж шизофр</th>\n",
              "      <th>P</th>\n",
              "      <th>N</th>\n",
              "      <th>G</th>\n",
              "      <th>PSQI</th>\n",
              "      <th>psqi больше 5</th>\n",
              "      <th>(ТРЕВОГА)Гаиильтон больше 16</th>\n",
              "      <th>(ДЕПРЕССИЯ)madrs больше 6</th>\n",
              "      <th>(ДЕПРЕССИЯ)Калгари больше 5</th>\n",
              "    </tr>\n",
              "  </thead>\n",
              "  <tbody>\n",
              "    <tr>\n",
              "      <th>0</th>\n",
              "      <td>1</td>\n",
              "      <td>32</td>\n",
              "      <td>4</td>\n",
              "      <td>0</td>\n",
              "      <td>0</td>\n",
              "      <td>5</td>\n",
              "      <td>0</td>\n",
              "      <td>7</td>\n",
              "      <td>1</td>\n",
              "      <td>24.012346</td>\n",
              "      <td>...</td>\n",
              "      <td>0</td>\n",
              "      <td>3.7</td>\n",
              "      <td>11</td>\n",
              "      <td>11</td>\n",
              "      <td>18</td>\n",
              "      <td>6</td>\n",
              "      <td>1</td>\n",
              "      <td>0</td>\n",
              "      <td>0</td>\n",
              "      <td>0</td>\n",
              "    </tr>\n",
              "    <tr>\n",
              "      <th>1</th>\n",
              "      <td>1</td>\n",
              "      <td>26</td>\n",
              "      <td>2</td>\n",
              "      <td>0</td>\n",
              "      <td>0</td>\n",
              "      <td>5</td>\n",
              "      <td>0</td>\n",
              "      <td>10</td>\n",
              "      <td>1</td>\n",
              "      <td>20.244898</td>\n",
              "      <td>...</td>\n",
              "      <td>1</td>\n",
              "      <td>2.0</td>\n",
              "      <td>10</td>\n",
              "      <td>25</td>\n",
              "      <td>36</td>\n",
              "      <td>8</td>\n",
              "      <td>1</td>\n",
              "      <td>0</td>\n",
              "      <td>1</td>\n",
              "      <td>1</td>\n",
              "    </tr>\n",
              "    <tr>\n",
              "      <th>2</th>\n",
              "      <td>1</td>\n",
              "      <td>49</td>\n",
              "      <td>2</td>\n",
              "      <td>0</td>\n",
              "      <td>0</td>\n",
              "      <td>5</td>\n",
              "      <td>1</td>\n",
              "      <td>10</td>\n",
              "      <td>0</td>\n",
              "      <td>29.752744</td>\n",
              "      <td>...</td>\n",
              "      <td>2</td>\n",
              "      <td>23.0</td>\n",
              "      <td>9</td>\n",
              "      <td>16</td>\n",
              "      <td>23</td>\n",
              "      <td>3</td>\n",
              "      <td>0</td>\n",
              "      <td>0</td>\n",
              "      <td>0</td>\n",
              "      <td>0</td>\n",
              "    </tr>\n",
              "    <tr>\n",
              "      <th>3</th>\n",
              "      <td>1</td>\n",
              "      <td>50</td>\n",
              "      <td>2</td>\n",
              "      <td>0</td>\n",
              "      <td>0</td>\n",
              "      <td>5</td>\n",
              "      <td>1</td>\n",
              "      <td>7</td>\n",
              "      <td>1</td>\n",
              "      <td>22.093170</td>\n",
              "      <td>...</td>\n",
              "      <td>1</td>\n",
              "      <td>34.0</td>\n",
              "      <td>13</td>\n",
              "      <td>13</td>\n",
              "      <td>20</td>\n",
              "      <td>6</td>\n",
              "      <td>1</td>\n",
              "      <td>0</td>\n",
              "      <td>0</td>\n",
              "      <td>0</td>\n",
              "    </tr>\n",
              "    <tr>\n",
              "      <th>4</th>\n",
              "      <td>1</td>\n",
              "      <td>39</td>\n",
              "      <td>2</td>\n",
              "      <td>0</td>\n",
              "      <td>0</td>\n",
              "      <td>5</td>\n",
              "      <td>1</td>\n",
              "      <td>7</td>\n",
              "      <td>0</td>\n",
              "      <td>20.761246</td>\n",
              "      <td>...</td>\n",
              "      <td>0</td>\n",
              "      <td>4.0</td>\n",
              "      <td>9</td>\n",
              "      <td>13</td>\n",
              "      <td>22</td>\n",
              "      <td>4</td>\n",
              "      <td>0</td>\n",
              "      <td>0</td>\n",
              "      <td>0</td>\n",
              "      <td>0</td>\n",
              "    </tr>\n",
              "  </tbody>\n",
              "</table>\n",
              "<p>5 rows × 24 columns</p>\n",
              "</div>\n",
              "      <button class=\"colab-df-convert\" onclick=\"convertToInteractive('df-02ca4594-69ca-4195-896a-726f4243f61c')\"\n",
              "              title=\"Convert this dataframe to an interactive table.\"\n",
              "              style=\"display:none;\">\n",
              "        \n",
              "  <svg xmlns=\"http://www.w3.org/2000/svg\" height=\"24px\"viewBox=\"0 0 24 24\"\n",
              "       width=\"24px\">\n",
              "    <path d=\"M0 0h24v24H0V0z\" fill=\"none\"/>\n",
              "    <path d=\"M18.56 5.44l.94 2.06.94-2.06 2.06-.94-2.06-.94-.94-2.06-.94 2.06-2.06.94zm-11 1L8.5 8.5l.94-2.06 2.06-.94-2.06-.94L8.5 2.5l-.94 2.06-2.06.94zm10 10l.94 2.06.94-2.06 2.06-.94-2.06-.94-.94-2.06-.94 2.06-2.06.94z\"/><path d=\"M17.41 7.96l-1.37-1.37c-.4-.4-.92-.59-1.43-.59-.52 0-1.04.2-1.43.59L10.3 9.45l-7.72 7.72c-.78.78-.78 2.05 0 2.83L4 21.41c.39.39.9.59 1.41.59.51 0 1.02-.2 1.41-.59l7.78-7.78 2.81-2.81c.8-.78.8-2.07 0-2.86zM5.41 20L4 18.59l7.72-7.72 1.47 1.35L5.41 20z\"/>\n",
              "  </svg>\n",
              "      </button>\n",
              "      \n",
              "  <style>\n",
              "    .colab-df-container {\n",
              "      display:flex;\n",
              "      flex-wrap:wrap;\n",
              "      gap: 12px;\n",
              "    }\n",
              "\n",
              "    .colab-df-convert {\n",
              "      background-color: #E8F0FE;\n",
              "      border: none;\n",
              "      border-radius: 50%;\n",
              "      cursor: pointer;\n",
              "      display: none;\n",
              "      fill: #1967D2;\n",
              "      height: 32px;\n",
              "      padding: 0 0 0 0;\n",
              "      width: 32px;\n",
              "    }\n",
              "\n",
              "    .colab-df-convert:hover {\n",
              "      background-color: #E2EBFA;\n",
              "      box-shadow: 0px 1px 2px rgba(60, 64, 67, 0.3), 0px 1px 3px 1px rgba(60, 64, 67, 0.15);\n",
              "      fill: #174EA6;\n",
              "    }\n",
              "\n",
              "    [theme=dark] .colab-df-convert {\n",
              "      background-color: #3B4455;\n",
              "      fill: #D2E3FC;\n",
              "    }\n",
              "\n",
              "    [theme=dark] .colab-df-convert:hover {\n",
              "      background-color: #434B5C;\n",
              "      box-shadow: 0px 1px 3px 1px rgba(0, 0, 0, 0.15);\n",
              "      filter: drop-shadow(0px 1px 2px rgba(0, 0, 0, 0.3));\n",
              "      fill: #FFFFFF;\n",
              "    }\n",
              "  </style>\n",
              "\n",
              "      <script>\n",
              "        const buttonEl =\n",
              "          document.querySelector('#df-02ca4594-69ca-4195-896a-726f4243f61c button.colab-df-convert');\n",
              "        buttonEl.style.display =\n",
              "          google.colab.kernel.accessAllowed ? 'block' : 'none';\n",
              "\n",
              "        async function convertToInteractive(key) {\n",
              "          const element = document.querySelector('#df-02ca4594-69ca-4195-896a-726f4243f61c');\n",
              "          const dataTable =\n",
              "            await google.colab.kernel.invokeFunction('convertToInteractive',\n",
              "                                                     [key], {});\n",
              "          if (!dataTable) return;\n",
              "\n",
              "          const docLinkHtml = 'Like what you see? Visit the ' +\n",
              "            '<a target=\"_blank\" href=https://colab.research.google.com/notebooks/data_table.ipynb>data table notebook</a>'\n",
              "            + ' to learn more about interactive tables.';\n",
              "          element.innerHTML = '';\n",
              "          dataTable['output_type'] = 'display_data';\n",
              "          await google.colab.output.renderOutput(dataTable, element);\n",
              "          const docLink = document.createElement('div');\n",
              "          docLink.innerHTML = docLinkHtml;\n",
              "          element.appendChild(docLink);\n",
              "        }\n",
              "      </script>\n",
              "    </div>\n",
              "  </div>\n",
              "  "
            ]
          },
          "metadata": {},
          "execution_count": 12
        }
      ],
      "source": [
        "ds.head()"
      ]
    },
    {
      "cell_type": "code",
      "execution_count": 13,
      "metadata": {
        "colab": {
          "base_uri": "https://localhost:8080/"
        },
        "id": "-dNDEEZMXqCI",
        "outputId": "954d494a-b436-4bbb-9fb6-a829cb51707b"
      },
      "outputs": [
        {
          "output_type": "execute_result",
          "data": {
            "text/plain": [
              "Пол                                          0\n",
              "Полных лет                                   0\n",
              "Образование(0-начальное, 4-высшее)           0\n",
              "Род занятий(0-0, работает-1                  0\n",
              "Семейное положение(0-0, 1-женат)             0\n",
              "Удовлетворенность семеными отношениями       0\n",
              "Удовлетворенность материальным положением    0\n",
              "Здоровье от 1 до 10                          0\n",
              "Были ли нарушения сна                        0\n",
              "ИМТ                                          0\n",
              "Операции                                     0\n",
              "ЧМТ                                          0\n",
              "Насл отягощенность                           0\n",
              "Дебют                                        0\n",
              "Частота госпит                               0\n",
              "Стаж шизофр                                  0\n",
              "P                                            0\n",
              "N                                            0\n",
              "G                                            0\n",
              "PSQI                                         0\n",
              "psqi больше 5                                0\n",
              "(ТРЕВОГА)Гаиильтон больше 16                 0\n",
              "(ДЕПРЕССИЯ)madrs больше 6                    0\n",
              "(ДЕПРЕССИЯ)Калгари больше 5                  0\n",
              "dtype: int64"
            ]
          },
          "metadata": {},
          "execution_count": 13
        }
      ],
      "source": [
        "# Check for na values\n",
        "ds.isna().sum()"
      ]
    },
    {
      "cell_type": "code",
      "execution_count": 14,
      "metadata": {
        "colab": {
          "base_uri": "https://localhost:8080/"
        },
        "id": "Kak3ZDUIIWNo",
        "outputId": "b56e7e68-59c5-4485-d94f-544ca87c78f0"
      },
      "outputs": [
        {
          "output_type": "stream",
          "name": "stdout",
          "text": [
            "<class 'pandas.core.frame.DataFrame'>\n",
            "RangeIndex: 175 entries, 0 to 174\n",
            "Data columns (total 24 columns):\n",
            " #   Column                                     Non-Null Count  Dtype  \n",
            "---  ------                                     --------------  -----  \n",
            " 0   Пол                                        175 non-null    int64  \n",
            " 1   Полных лет                                 175 non-null    int64  \n",
            " 2   Образование(0-начальное, 4-высшее)         175 non-null    int64  \n",
            " 3   Род занятий(0-0, работает-1                175 non-null    int64  \n",
            " 4   Семейное положение(0-0, 1-женат)           175 non-null    int64  \n",
            " 5   Удовлетворенность семеными отношениями     175 non-null    int64  \n",
            " 6   Удовлетворенность материальным положением  175 non-null    int64  \n",
            " 7   Здоровье от 1 до 10                        175 non-null    int64  \n",
            " 8   Были ли нарушения сна                      175 non-null    int64  \n",
            " 9   ИМТ                                        175 non-null    float64\n",
            " 10  Операции                                   175 non-null    int64  \n",
            " 11  ЧМТ                                        175 non-null    int64  \n",
            " 12  Насл отягощенность                         175 non-null    int64  \n",
            " 13  Дебют                                      175 non-null    float64\n",
            " 14  Частота госпит                             175 non-null    int64  \n",
            " 15  Стаж шизофр                                175 non-null    float64\n",
            " 16  P                                          175 non-null    int64  \n",
            " 17  N                                          175 non-null    int64  \n",
            " 18  G                                          175 non-null    int64  \n",
            " 19  PSQI                                       175 non-null    int64  \n",
            " 20  psqi больше 5                              175 non-null    int64  \n",
            " 21  (ТРЕВОГА)Гаиильтон больше 16               175 non-null    int64  \n",
            " 22  (ДЕПРЕССИЯ)madrs больше 6                  175 non-null    int64  \n",
            " 23  (ДЕПРЕССИЯ)Калгари больше 5                175 non-null    int64  \n",
            "dtypes: float64(3), int64(21)\n",
            "memory usage: 32.9 KB\n"
          ]
        }
      ],
      "source": [
        "ds.info()"
      ]
    },
    {
      "cell_type": "code",
      "execution_count": 15,
      "metadata": {
        "colab": {
          "base_uri": "https://localhost:8080/"
        },
        "id": "kLmf_yhQIdAS",
        "outputId": "fa6cd990-750c-4e52-8d0b-725b0b5bd899"
      },
      "outputs": [
        {
          "output_type": "stream",
          "name": "stdout",
          "text": [
            "<class 'pandas.core.frame.DataFrame'>\n",
            "RangeIndex: 175 entries, 0 to 174\n",
            "Data columns (total 24 columns):\n",
            " #   Column                                     Non-Null Count  Dtype  \n",
            "---  ------                                     --------------  -----  \n",
            " 0   Пол                                        175 non-null    float32\n",
            " 1   Полных лет                                 175 non-null    float32\n",
            " 2   Образование(0-начальное, 4-высшее)         175 non-null    float32\n",
            " 3   Род занятий(0-0, работает-1                175 non-null    float32\n",
            " 4   Семейное положение(0-0, 1-женат)           175 non-null    float32\n",
            " 5   Удовлетворенность семеными отношениями     175 non-null    float32\n",
            " 6   Удовлетворенность материальным положением  175 non-null    float32\n",
            " 7   Здоровье от 1 до 10                        175 non-null    float32\n",
            " 8   Были ли нарушения сна                      175 non-null    float32\n",
            " 9   ИМТ                                        175 non-null    float32\n",
            " 10  Операции                                   175 non-null    float32\n",
            " 11  ЧМТ                                        175 non-null    float32\n",
            " 12  Насл отягощенность                         175 non-null    float32\n",
            " 13  Дебют                                      175 non-null    float32\n",
            " 14  Частота госпит                             175 non-null    float32\n",
            " 15  Стаж шизофр                                175 non-null    float32\n",
            " 16  P                                          175 non-null    float32\n",
            " 17  N                                          175 non-null    float32\n",
            " 18  G                                          175 non-null    float32\n",
            " 19  PSQI                                       175 non-null    float32\n",
            " 20  psqi больше 5                              175 non-null    float32\n",
            " 21  (ТРЕВОГА)Гаиильтон больше 16               175 non-null    float32\n",
            " 22  (ДЕПРЕССИЯ)madrs больше 6                  175 non-null    float32\n",
            " 23  (ДЕПРЕССИЯ)Калгари больше 5                175 non-null    float32\n",
            "dtypes: float32(24)\n",
            "memory usage: 16.5 KB\n"
          ]
        }
      ],
      "source": [
        "# turn dataset to float32\n",
        "ds = ds.astype(np.float32)\n",
        "ds.info()"
      ]
    },
    {
      "cell_type": "code",
      "execution_count": 16,
      "metadata": {
        "colab": {
          "base_uri": "https://localhost:8080/"
        },
        "id": "A5Ai6pimUakX",
        "outputId": "4185e52c-33a5-4e47-b988-18aa72b908e2"
      },
      "outputs": [
        {
          "output_type": "execute_result",
          "data": {
            "text/plain": [
              "1.0    103\n",
              "0.0     72\n",
              "Name: psqi больше 5, dtype: int64"
            ]
          },
          "metadata": {},
          "execution_count": 16
        }
      ],
      "source": [
        "ds['psqi больше 5'].value_counts()"
      ]
    },
    {
      "cell_type": "code",
      "execution_count": 17,
      "metadata": {
        "colab": {
          "base_uri": "https://localhost:8080/"
        },
        "id": "4fytj8feUaq7",
        "outputId": "2989aa07-029d-4fbe-ed2e-1c401ba3e814"
      },
      "outputs": [
        {
          "output_type": "execute_result",
          "data": {
            "text/plain": [
              "0.0    135\n",
              "1.0     40\n",
              "Name: (ТРЕВОГА)Гаиильтон больше 16, dtype: int64"
            ]
          },
          "metadata": {},
          "execution_count": 17
        }
      ],
      "source": [
        "ds['(ТРЕВОГА)Гаиильтон больше 16'].value_counts()\n"
      ]
    },
    {
      "cell_type": "code",
      "execution_count": 18,
      "metadata": {
        "colab": {
          "base_uri": "https://localhost:8080/"
        },
        "id": "Z96bukAkUata",
        "outputId": "8bd450ea-aaa4-47b1-fbf3-c2ecd66c4835"
      },
      "outputs": [
        {
          "output_type": "execute_result",
          "data": {
            "text/plain": [
              "0.0    116\n",
              "1.0     59\n",
              "Name: (ДЕПРЕССИЯ)madrs больше 6, dtype: int64"
            ]
          },
          "metadata": {},
          "execution_count": 18
        }
      ],
      "source": [
        "ds['(ДЕПРЕССИЯ)madrs больше 6'].value_counts()"
      ]
    },
    {
      "cell_type": "code",
      "source": [
        "ds['(ДЕПРЕССИЯ)Калгари больше 5'].value_counts()"
      ],
      "metadata": {
        "colab": {
          "base_uri": "https://localhost:8080/"
        },
        "id": "o2SUV1exnNuK",
        "outputId": "70ab7150-221f-420b-d556-b1e13ad3b2c9"
      },
      "execution_count": 19,
      "outputs": [
        {
          "output_type": "execute_result",
          "data": {
            "text/plain": [
              "0.0    136\n",
              "1.0     39\n",
              "Name: (ДЕПРЕССИЯ)Калгари больше 5, dtype: int64"
            ]
          },
          "metadata": {},
          "execution_count": 19
        }
      ]
    },
    {
      "cell_type": "code",
      "execution_count": 20,
      "metadata": {
        "id": "z0Fx5Wsrk2mi"
      },
      "outputs": [],
      "source": [
        "# Let's try to use 'psqi больше 5' as y value\n",
        "data = ds"
      ]
    },
    {
      "cell_type": "code",
      "execution_count": 21,
      "metadata": {
        "id": "x-rJ0J9gvL8Q"
      },
      "outputs": [],
      "source": [
        "# Create X, y\n",
        "y = data['psqi больше 5']\n",
        "X = data.drop(columns=['PSQI', 'psqi больше 5', '(ТРЕВОГА)Гаиильтон больше 16', '(ДЕПРЕССИЯ)madrs больше 6', '(ДЕПРЕССИЯ)Калгари больше 5'])\n",
        "# X = data.drop(columns=['Нарушения сна больше 5'])"
      ]
    },
    {
      "cell_type": "code",
      "source": [
        ""
      ],
      "metadata": {
        "id": "JV3JWvaa8vS2"
      },
      "execution_count": 21,
      "outputs": []
    },
    {
      "cell_type": "code",
      "source": [
        "X.columns"
      ],
      "metadata": {
        "id": "I1vVG5N_8vWH",
        "outputId": "16b07f39-3d97-4a6f-d3f9-3667cbc4616e",
        "colab": {
          "base_uri": "https://localhost:8080/"
        }
      },
      "execution_count": 22,
      "outputs": [
        {
          "output_type": "execute_result",
          "data": {
            "text/plain": [
              "Index(['Пол', 'Полных лет', 'Образование(0-начальное, 4-высшее)',\n",
              "       'Род занятий(0-0, работает-1', 'Семейное положение(0-0, 1-женат)',\n",
              "       'Удовлетворенность семеными отношениями',\n",
              "       'Удовлетворенность материальным положением', 'Здоровье от 1 до 10',\n",
              "       'Были ли нарушения сна', 'ИМТ', 'Операции', 'ЧМТ', 'Насл отягощенность',\n",
              "       'Дебют', 'Частота госпит', 'Стаж шизофр', 'P', 'N', 'G'],\n",
              "      dtype='object')"
            ]
          },
          "metadata": {},
          "execution_count": 22
        }
      ]
    },
    {
      "cell_type": "code",
      "source": [
        "X['Пол'].plot.hist()"
      ],
      "metadata": {
        "id": "TvFjqRJs9FKq",
        "outputId": "6c523fa6-336f-4b8b-bdc6-909c14007982",
        "colab": {
          "base_uri": "https://localhost:8080/",
          "height": 283
        }
      },
      "execution_count": 23,
      "outputs": [
        {
          "output_type": "execute_result",
          "data": {
            "text/plain": [
              "<matplotlib.axes._subplots.AxesSubplot at 0x7f6ce37a3810>"
            ]
          },
          "metadata": {},
          "execution_count": 23
        },
        {
          "output_type": "display_data",
          "data": {
            "text/plain": [
              "<Figure size 432x288 with 1 Axes>"
            ],
            "image/png": "[encoded data removed]"
          },
          "metadata": {
            "needs_background": "light"
          }
        }
      ]
    },
    {
      "cell_type": "code",
      "source": [
        "X['Полных лет'].plot.hist()"
      ],
      "metadata": {
        "id": "cSzNKuAE8vY0",
        "outputId": "b0196e05-868a-4508-c4e9-bc42950431ef",
        "colab": {
          "base_uri": "https://localhost:8080/",
          "height": 283
        }
      },
      "execution_count": 24,
      "outputs": [
        {
          "output_type": "execute_result",
          "data": {
            "text/plain": [
              "<matplotlib.axes._subplots.AxesSubplot at 0x7f6ce3690350>"
            ]
          },
          "metadata": {},
          "execution_count": 24
        },
        {
          "output_type": "display_data",
          "data": {
            "text/plain": [
              "<Figure size 432x288 with 1 Axes>"
            ],
            "image/png": "[encoded data removed]"
          },
          "metadata": {
            "needs_background": "light"
          }
        }
      ]
    },
    {
      "cell_type": "code",
      "source": [
        "X['Образование(0-начальное, 4-высшее)'].plot.hist()"
      ],
      "metadata": {
        "id": "rS7RThGt8vbA",
        "outputId": "d2f4a728-2bf7-4865-baf7-2063f841adc6",
        "colab": {
          "base_uri": "https://localhost:8080/",
          "height": 283
        }
      },
      "execution_count": 25,
      "outputs": [
        {
          "output_type": "execute_result",
          "data": {
            "text/plain": [
              "<matplotlib.axes._subplots.AxesSubplot at 0x7f6ce31e0710>"
            ]
          },
          "metadata": {},
          "execution_count": 25
        },
        {
          "output_type": "display_data",
          "data": {
            "text/plain": [
              "<Figure size 432x288 with 1 Axes>"
            ],
            "image/png": "[encoded data removed]"
          },
          "metadata": {
            "needs_background": "light"
          }
        }
      ]
    },
    {
      "cell_type": "code",
      "source": [
        "X['Удовлетворенность семеными отношениями'].plot.hist()"
      ],
      "metadata": {
        "id": "qcJXSM9x9KeR",
        "outputId": "84ec402d-860d-43f3-d03e-6bc768f7bd3c",
        "colab": {
          "base_uri": "https://localhost:8080/",
          "height": 283
        }
      },
      "execution_count": 26,
      "outputs": [
        {
          "output_type": "execute_result",
          "data": {
            "text/plain": [
              "<matplotlib.axes._subplots.AxesSubplot at 0x7f6ce314f6d0>"
            ]
          },
          "metadata": {},
          "execution_count": 26
        },
        {
          "output_type": "display_data",
          "data": {
            "text/plain": [
              "<Figure size 432x288 with 1 Axes>"
            ],
            "image/png": "[encoded data removed]"
          },
          "metadata": {
            "needs_background": "light"
          }
        }
      ]
    },
    {
      "cell_type": "code",
      "source": [
        "X['Удовлетворенность материальным положением'].plot.hist()"
      ],
      "metadata": {
        "id": "ZaW99Tv29M2p",
        "outputId": "a5d1e497-50d5-459e-f3d7-ee78a1171247",
        "colab": {
          "base_uri": "https://localhost:8080/",
          "height": 283
        }
      },
      "execution_count": 27,
      "outputs": [
        {
          "output_type": "execute_result",
          "data": {
            "text/plain": [
              "<matplotlib.axes._subplots.AxesSubplot at 0x7f6ce307ca90>"
            ]
          },
          "metadata": {},
          "execution_count": 27
        },
        {
          "output_type": "display_data",
          "data": {
            "text/plain": [
              "<Figure size 432x288 with 1 Axes>"
            ],
            "image/png": "[encoded data removed]"
          },
          "metadata": {
            "needs_background": "light"
          }
        }
      ]
    },
    {
      "cell_type": "code",
      "source": [
        "X['Здоровье от 1 до 10'].plot.hist()"
      ],
      "metadata": {
        "id": "t9RAlre-9NDZ",
        "outputId": "4e456ce8-bfdf-4e2d-98bc-a0bbf17431ca",
        "colab": {
          "base_uri": "https://localhost:8080/",
          "height": 283
        }
      },
      "execution_count": 28,
      "outputs": [
        {
          "output_type": "execute_result",
          "data": {
            "text/plain": [
              "<matplotlib.axes._subplots.AxesSubplot at 0x7f6ce307a690>"
            ]
          },
          "metadata": {},
          "execution_count": 28
        },
        {
          "output_type": "display_data",
          "data": {
            "text/plain": [
              "<Figure size 432x288 with 1 Axes>"
            ],
            "image/png": "[encoded data removed]"
          },
          "metadata": {
            "needs_background": "light"
          }
        }
      ]
    },
    {
      "cell_type": "code",
      "source": [
        "X['Были ли нарушения сна'].plot.hist()"
      ],
      "metadata": {
        "id": "vHaj2_J99NR3",
        "outputId": "d5362d21-19a7-44ab-c2ad-3f054450b21b",
        "colab": {
          "base_uri": "https://localhost:8080/",
          "height": 283
        }
      },
      "execution_count": 29,
      "outputs": [
        {
          "output_type": "execute_result",
          "data": {
            "text/plain": [
              "<matplotlib.axes._subplots.AxesSubplot at 0x7f6ce2f7c310>"
            ]
          },
          "metadata": {},
          "execution_count": 29
        },
        {
          "output_type": "display_data",
          "data": {
            "text/plain": [
              "<Figure size 432x288 with 1 Axes>"
            ],
            "image/png": "[encoded data removed]"
          },
          "metadata": {
            "needs_background": "light"
          }
        }
      ]
    },
    {
      "cell_type": "code",
      "source": [
        "X['ИМТ'].plot.hist()"
      ],
      "metadata": {
        "id": "1xC2ChxODvpM",
        "outputId": "84fc62a2-216e-4453-d1df-9e26b831d9e8",
        "colab": {
          "base_uri": "https://localhost:8080/",
          "height": 283
        }
      },
      "execution_count": 30,
      "outputs": [
        {
          "output_type": "execute_result",
          "data": {
            "text/plain": [
              "<matplotlib.axes._subplots.AxesSubplot at 0x7f6ce2f01b50>"
            ]
          },
          "metadata": {},
          "execution_count": 30
        },
        {
          "output_type": "display_data",
          "data": {
            "text/plain": [
              "<Figure size 432x288 with 1 Axes>"
            ],
            "image/png": "[encoded data removed]"
          },
          "metadata": {
            "needs_background": "light"
          }
        }
      ]
    },
    {
      "cell_type": "code",
      "source": [
        "X['Операции'].plot.hist()"
      ],
      "metadata": {
        "id": "QKyiTn8z8vdN",
        "outputId": "58c1e72d-9c76-482a-e674-950c74d00f2f",
        "colab": {
          "base_uri": "https://localhost:8080/",
          "height": 283
        }
      },
      "execution_count": 31,
      "outputs": [
        {
          "output_type": "execute_result",
          "data": {
            "text/plain": [
              "<matplotlib.axes._subplots.AxesSubplot at 0x7f6ce2e97cd0>"
            ]
          },
          "metadata": {},
          "execution_count": 31
        },
        {
          "output_type": "display_data",
          "data": {
            "text/plain": [
              "<Figure size 432x288 with 1 Axes>"
            ],
            "image/png": "[encoded data removed]"
          },
          "metadata": {
            "needs_background": "light"
          }
        }
      ]
    },
    {
      "cell_type": "code",
      "source": [
        "# X['Аллергии'].plot.hist()"
      ],
      "metadata": {
        "id": "9mM7BGvI9N5N"
      },
      "execution_count": 32,
      "outputs": []
    },
    {
      "cell_type": "code",
      "source": [
        "# X['Забол кожи'].plot.hist()"
      ],
      "metadata": {
        "id": "9OIttp848vfV"
      },
      "execution_count": 33,
      "outputs": []
    },
    {
      "cell_type": "code",
      "source": [
        "# X['ГБ'].plot.hist()"
      ],
      "metadata": {
        "id": "UQSDw5Sj9P2P"
      },
      "execution_count": 34,
      "outputs": []
    },
    {
      "cell_type": "code",
      "source": [
        "# X['Панкреатит'].plot.hist()"
      ],
      "metadata": {
        "id": "IkrDKxnY9P4y"
      },
      "execution_count": 35,
      "outputs": []
    },
    {
      "cell_type": "code",
      "source": [
        "# X['Дисфункция ЖКТ'].plot.hist()"
      ],
      "metadata": {
        "id": "fe_keiy09P7M"
      },
      "execution_count": 36,
      "outputs": []
    },
    {
      "cell_type": "code",
      "source": [
        "X['ЧМТ'].plot.hist()"
      ],
      "metadata": {
        "id": "loEyKK3y9P9v",
        "outputId": "d6b8a718-2b2b-4f2b-8f8a-c4ff02c09d36",
        "colab": {
          "base_uri": "https://localhost:8080/",
          "height": 283
        }
      },
      "execution_count": 37,
      "outputs": [
        {
          "output_type": "execute_result",
          "data": {
            "text/plain": [
              "<matplotlib.axes._subplots.AxesSubplot at 0x7f6ce2e258d0>"
            ]
          },
          "metadata": {},
          "execution_count": 37
        },
        {
          "output_type": "display_data",
          "data": {
            "text/plain": [
              "<Figure size 432x288 with 1 Axes>"
            ],
            "image/png": "[encoded data removed]"
          },
          "metadata": {
            "needs_background": "light"
          }
        }
      ]
    },
    {
      "cell_type": "code",
      "source": [
        "X['Насл отягощенность'].plot.hist()"
      ],
      "metadata": {
        "id": "lB6JgIeJ9QAB",
        "outputId": "8f29b23d-9b2f-4291-9c63-23d10b95734a",
        "colab": {
          "base_uri": "https://localhost:8080/",
          "height": 283
        }
      },
      "execution_count": 38,
      "outputs": [
        {
          "output_type": "execute_result",
          "data": {
            "text/plain": [
              "<matplotlib.axes._subplots.AxesSubplot at 0x7f6ce2db34d0>"
            ]
          },
          "metadata": {},
          "execution_count": 38
        },
        {
          "output_type": "display_data",
          "data": {
            "text/plain": [
              "<Figure size 432x288 with 1 Axes>"
            ],
            "image/png": "[encoded data removed]"
          },
          "metadata": {
            "needs_background": "light"
          }
        }
      ]
    },
    {
      "cell_type": "code",
      "source": [
        "X['Дебют'].plot.hist()"
      ],
      "metadata": {
        "id": "73hXHFoX9QCa",
        "outputId": "7036c6d7-fdf2-4915-be70-835f19a1cf58",
        "colab": {
          "base_uri": "https://localhost:8080/",
          "height": 283
        }
      },
      "execution_count": 39,
      "outputs": [
        {
          "output_type": "execute_result",
          "data": {
            "text/plain": [
              "<matplotlib.axes._subplots.AxesSubplot at 0x7f6ce2d8a7d0>"
            ]
          },
          "metadata": {},
          "execution_count": 39
        },
        {
          "output_type": "display_data",
          "data": {
            "text/plain": [
              "<Figure size 432x288 with 1 Axes>"
            ],
            "image/png": "[encoded data removed]"
          },
          "metadata": {
            "needs_background": "light"
          }
        }
      ]
    },
    {
      "cell_type": "code",
      "source": [
        "X['Частота госпит'].plot.hist()"
      ],
      "metadata": {
        "id": "dfRTqleE9QFD",
        "outputId": "895724cf-81af-4fa5-a936-cfa1dae114ba",
        "colab": {
          "base_uri": "https://localhost:8080/",
          "height": 283
        }
      },
      "execution_count": 40,
      "outputs": [
        {
          "output_type": "execute_result",
          "data": {
            "text/plain": [
              "<matplotlib.axes._subplots.AxesSubplot at 0x7f6ce2c3dc50>"
            ]
          },
          "metadata": {},
          "execution_count": 40
        },
        {
          "output_type": "display_data",
          "data": {
            "text/plain": [
              "<Figure size 432x288 with 1 Axes>"
            ],
            "image/png": "[encoded data removed]"
          },
          "metadata": {
            "needs_background": "light"
          }
        }
      ]
    },
    {
      "cell_type": "code",
      "source": [
        "X['Стаж шизофр'].plot.hist()"
      ],
      "metadata": {
        "id": "MPLll8-L9u8u",
        "outputId": "a7f6229c-6712-4b49-b6af-978436b1d9ed",
        "colab": {
          "base_uri": "https://localhost:8080/",
          "height": 283
        }
      },
      "execution_count": 41,
      "outputs": [
        {
          "output_type": "execute_result",
          "data": {
            "text/plain": [
              "<matplotlib.axes._subplots.AxesSubplot at 0x7f6ce2c37090>"
            ]
          },
          "metadata": {},
          "execution_count": 41
        },
        {
          "output_type": "display_data",
          "data": {
            "text/plain": [
              "<Figure size 432x288 with 1 Axes>"
            ],
            "image/png": "[encoded data removed]"
          },
          "metadata": {
            "needs_background": "light"
          }
        }
      ]
    },
    {
      "cell_type": "code",
      "source": [
        "X['P'].plot.hist()"
      ],
      "metadata": {
        "id": "WR2YxXxd9u_V",
        "outputId": "4964599d-8e20-4d6d-ed70-f0e1e0435325",
        "colab": {
          "base_uri": "https://localhost:8080/",
          "height": 283
        }
      },
      "execution_count": 42,
      "outputs": [
        {
          "output_type": "execute_result",
          "data": {
            "text/plain": [
              "<matplotlib.axes._subplots.AxesSubplot at 0x7f6ce2b40c90>"
            ]
          },
          "metadata": {},
          "execution_count": 42
        },
        {
          "output_type": "display_data",
          "data": {
            "text/plain": [
              "<Figure size 432x288 with 1 Axes>"
            ],
            "image/png": "[encoded data removed]"
          },
          "metadata": {
            "needs_background": "light"
          }
        }
      ]
    },
    {
      "cell_type": "code",
      "source": [
        "X['N'].plot.hist()"
      ],
      "metadata": {
        "id": "n15glR8-9vB2",
        "outputId": "8a5e1dfe-7b38-49ae-f628-65e61ec8ae98",
        "colab": {
          "base_uri": "https://localhost:8080/",
          "height": 283
        }
      },
      "execution_count": 43,
      "outputs": [
        {
          "output_type": "execute_result",
          "data": {
            "text/plain": [
              "<matplotlib.axes._subplots.AxesSubplot at 0x7f6ce2af8c90>"
            ]
          },
          "metadata": {},
          "execution_count": 43
        },
        {
          "output_type": "display_data",
          "data": {
            "text/plain": [
              "<Figure size 432x288 with 1 Axes>"
            ],
            "image/png": "[encoded data removed]"
          },
          "metadata": {
            "needs_background": "light"
          }
        }
      ]
    },
    {
      "cell_type": "code",
      "source": [
        "X['G'].plot.hist()"
      ],
      "metadata": {
        "id": "jNFwr3Rt9vEi",
        "outputId": "96a4bb71-c688-47c7-8344-dfc6763bcbc9",
        "colab": {
          "base_uri": "https://localhost:8080/",
          "height": 283
        }
      },
      "execution_count": 44,
      "outputs": [
        {
          "output_type": "execute_result",
          "data": {
            "text/plain": [
              "<matplotlib.axes._subplots.AxesSubplot at 0x7f6ce2a7a710>"
            ]
          },
          "metadata": {},
          "execution_count": 44
        },
        {
          "output_type": "display_data",
          "data": {
            "text/plain": [
              "<Figure size 432x288 with 1 Axes>"
            ],
            "image/png": "[encoded data removed]"
          },
          "metadata": {
            "needs_background": "light"
          }
        }
      ]
    },
    {
      "cell_type": "code",
      "source": [
        "X.min()"
      ],
      "metadata": {
        "id": "SjbyFES59vHG",
        "outputId": "1435b636-43ea-4798-868f-796815607972",
        "colab": {
          "base_uri": "https://localhost:8080/"
        }
      },
      "execution_count": 45,
      "outputs": [
        {
          "output_type": "execute_result",
          "data": {
            "text/plain": [
              "Пол                                           0.000000\n",
              "Полных лет                                   19.000000\n",
              "Образование(0-начальное, 4-высшее)            1.000000\n",
              "Род занятий(0-0, работает-1                   0.000000\n",
              "Семейное положение(0-0, 1-женат)              0.000000\n",
              "Удовлетворенность семеными отношениями        1.000000\n",
              "Удовлетворенность материальным положением     0.000000\n",
              "Здоровье от 1 до 10                           1.000000\n",
              "Были ли нарушения сна                         0.000000\n",
              "ИМТ                                          14.005112\n",
              "Операции                                      0.000000\n",
              "ЧМТ                                           0.000000\n",
              "Насл отягощенность                            0.000000\n",
              "Дебют                                         5.000000\n",
              "Частота госпит                                0.000000\n",
              "Стаж шизофр                                   0.500000\n",
              "P                                             7.000000\n",
              "N                                             5.000000\n",
              "G                                            16.000000\n",
              "dtype: float32"
            ]
          },
          "metadata": {},
          "execution_count": 45
        }
      ]
    },
    {
      "cell_type": "code",
      "source": [
        "X.max()"
      ],
      "metadata": {
        "id": "Ov1NYpWJ9vLD",
        "outputId": "cd82ae6b-043d-415c-af90-f3d91923a764",
        "colab": {
          "base_uri": "https://localhost:8080/"
        }
      },
      "execution_count": 118,
      "outputs": [
        {
          "output_type": "execute_result",
          "data": {
            "text/plain": [
              "Пол                                           1.000000\n",
              "Полных лет                                   67.000000\n",
              "Образование(0-начальное, 4-высшее)            4.000000\n",
              "Род занятий(0-0, работает-1                   1.000000\n",
              "Семейное положение(0-0, 1-женат)              1.000000\n",
              "Удовлетворенность семеными отношениями        5.000000\n",
              "Удовлетворенность материальным положением     1.000000\n",
              "Здоровье от 1 до 10                          10.000000\n",
              "Были ли нарушения сна                         1.000000\n",
              "ИМТ                                          40.404041\n",
              "Операции                                      1.000000\n",
              "ЧМТ                                           2.000000\n",
              "Насл отягощенность                            1.000000\n",
              "Дебют                                        45.000000\n",
              "Частота госпит                                2.000000\n",
              "Стаж шизофр                                  41.000000\n",
              "P                                            32.000000\n",
              "N                                            37.000000\n",
              "G                                            56.000000\n",
              "dtype: float32"
            ]
          },
          "metadata": {},
          "execution_count": 118
        }
      ]
    },
    {
      "cell_type": "code",
      "source": [
        ""
      ],
      "metadata": {
        "id": "Z8MPctJWaFgp"
      },
      "execution_count": 118,
      "outputs": []
    },
    {
      "cell_type": "code",
      "source": [
        ""
      ],
      "metadata": {
        "id": "eoSFxsKXaFjZ"
      },
      "execution_count": 118,
      "outputs": []
    },
    {
      "cell_type": "code",
      "source": [
        ""
      ],
      "metadata": {
        "id": "Ld02q8uCaFlZ"
      },
      "execution_count": null,
      "outputs": []
    },
    {
      "cell_type": "markdown",
      "source": [
        "### recursive feature elimination (feature selection)"
      ],
      "metadata": {
        "id": "6__3yeowZurC"
      }
    },
    {
      "cell_type": "code",
      "source": [
        "from sklearn.feature_selection import RFE\n",
        "from sklearn.linear_model import LinearRegression\n",
        " \n",
        "lr = LinearRegression()\n",
        "#select 5 the most informative features\n",
        "rfe = RFE(lr, n_features_to_select=5) \n",
        "selector = rfe.fit(X,y)\n",
        "selector.support_"
      ],
      "metadata": {
        "id": "vZgqfNgPZutk",
        "outputId": "83dc10f3-e211-4067-ed42-675926a28a66",
        "colab": {
          "base_uri": "https://localhost:8080/"
        }
      },
      "execution_count": 122,
      "outputs": [
        {
          "output_type": "execute_result",
          "data": {
            "text/plain": [
              "array([ True,  True, False, False, False, False, False, False,  True,\n",
              "       False, False, False, False,  True, False,  True, False, False,\n",
              "       False])"
            ]
          },
          "metadata": {},
          "execution_count": 122
        }
      ]
    },
    {
      "cell_type": "code",
      "source": [
        "selector.ranking_\n"
      ],
      "metadata": {
        "id": "q5e_Fa3NZuv8",
        "outputId": "d33405e7-fefb-4d93-92b7-175eddd65318",
        "colab": {
          "base_uri": "https://localhost:8080/"
        }
      },
      "execution_count": 123,
      "outputs": [
        {
          "output_type": "execute_result",
          "data": {
            "text/plain": [
              "array([ 1,  1, 13,  2,  3, 12,  4,  8,  1, 10,  5, 14, 11,  1, 15,  1,  9,\n",
              "        7,  6])"
            ]
          },
          "metadata": {},
          "execution_count": 123
        }
      ]
    },
    {
      "cell_type": "code",
      "source": [
        "from sklearn.preprocessing import MinMaxScaler\n",
        "minmax_scaler = MinMaxScaler()\n",
        "\n",
        "X_scaled = minmax_scaler.fit_transform(X)"
      ],
      "metadata": {
        "id": "IZm5ISGTZuyJ"
      },
      "execution_count": 124,
      "outputs": []
    },
    {
      "cell_type": "code",
      "source": [
        "lr = LinearRegression()\n",
        "#select 5 the most informative features\n",
        "rfe = RFE(lr, n_features_to_select=5) \n",
        "selector = rfe.fit(X_scaled,y)\n",
        "selector.support_"
      ],
      "metadata": {
        "id": "OEhomgyhZu0m",
        "outputId": "43afeb64-c25c-4145-8864-3d31a5533ef7",
        "colab": {
          "base_uri": "https://localhost:8080/"
        }
      },
      "execution_count": 125,
      "outputs": [
        {
          "output_type": "execute_result",
          "data": {
            "text/plain": [
              "array([False,  True, False, False, False, False, False, False, False,\n",
              "       False, False, False, False,  True, False,  True, False,  True,\n",
              "        True])"
            ]
          },
          "metadata": {},
          "execution_count": 125
        }
      ]
    },
    {
      "cell_type": "code",
      "source": [
        "selector.ranking_\n"
      ],
      "metadata": {
        "id": "3WMVWWaOZu3j",
        "outputId": "d0ba537b-8c6c-4e83-ce21-48cee244abcb",
        "colab": {
          "base_uri": "https://localhost:8080/"
        }
      },
      "execution_count": 126,
      "outputs": [
        {
          "output_type": "execute_result",
          "data": {
            "text/plain": [
              "array([ 4,  1, 12,  7,  6, 11,  9,  8,  3,  5, 10, 14, 13,  1, 15,  1,  2,\n",
              "        1,  1])"
            ]
          },
          "metadata": {},
          "execution_count": 126
        }
      ]
    },
    {
      "cell_type": "markdown",
      "source": [
        "[False,  Полных лет, False, False, False, False, False, False, False,\n",
        "       False, False, False, False,  Дебют, False,  Стаж шизофр, False,  N,\n",
        "        G])\n",
        "\n",
        "Полных лет, G, N, Стаж шизофр, Дебют"
      ],
      "metadata": {
        "id": "E6kRoWoDdrY0"
      }
    },
    {
      "cell_type": "code",
      "source": [
        "lr = LinearRegression()\n",
        "#select 5 the most informative features\n",
        "rfe = RFE(lr, n_features_to_select=3) \n",
        "selector = rfe.fit(X_scaled,y)\n",
        "selector.support_\n",
        "\n",
        "# Полных лет, G, N, Стаж шизофр, Дебют"
      ],
      "metadata": {
        "id": "pUvPGl25drvw",
        "outputId": "7b3f801f-8873-431b-8dab-fe91e8a42878",
        "colab": {
          "base_uri": "https://localhost:8080/"
        }
      },
      "execution_count": 127,
      "outputs": [
        {
          "output_type": "execute_result",
          "data": {
            "text/plain": [
              "array([False,  True, False, False, False, False, False, False, False,\n",
              "       False, False, False, False,  True, False,  True, False, False,\n",
              "       False])"
            ]
          },
          "metadata": {},
          "execution_count": 127
        }
      ]
    },
    {
      "cell_type": "code",
      "source": [
        "selector.ranking_\n"
      ],
      "metadata": {
        "id": "wmaSGWsydryY",
        "outputId": "243a3ebd-0336-4b84-d5dd-d58a02ad379d",
        "colab": {
          "base_uri": "https://localhost:8080/"
        }
      },
      "execution_count": 128,
      "outputs": [
        {
          "output_type": "execute_result",
          "data": {
            "text/plain": [
              "array([ 6,  1, 14,  9,  8, 13, 11, 10,  5,  7, 12, 16, 15,  1, 17,  1,  4,\n",
              "        3,  2])"
            ]
          },
          "metadata": {},
          "execution_count": 128
        }
      ]
    },
    {
      "cell_type": "code",
      "source": [
        ""
      ],
      "metadata": {
        "id": "_s14onwvdr00"
      },
      "execution_count": null,
      "outputs": []
    },
    {
      "cell_type": "code",
      "source": [
        ""
      ],
      "metadata": {
        "id": "yu1WF01jdr3X"
      },
      "execution_count": null,
      "outputs": []
    },
    {
      "cell_type": "code",
      "source": [
        ""
      ],
      "metadata": {
        "id": "YNlDvdjDdr6q"
      },
      "execution_count": null,
      "outputs": []
    },
    {
      "cell_type": "code",
      "source": [
        ""
      ],
      "metadata": {
        "id": "YBl9ZGQpZu59"
      },
      "execution_count": null,
      "outputs": []
    },
    {
      "cell_type": "markdown",
      "source": [
        "LASSO regression (feature selection)"
      ],
      "metadata": {
        "id": "SkuZbKUBBkOO"
      }
    },
    {
      "cell_type": "code",
      "source": [
        "import numpy as np\n",
        "from sklearn.preprocessing import StandardScaler\n",
        "from sklearn.pipeline import Pipeline\n",
        "from sklearn.model_selection import train_test_split, GridSearchCV\n",
        "from sklearn.linear_model import Lasso"
      ],
      "metadata": {
        "id": "qRuBoZdY7yy9"
      },
      "execution_count": 47,
      "outputs": []
    },
    {
      "cell_type": "code",
      "source": [
        "X_train, X_test, y_train, y_test = train_test_split(X, y, test_size=0.2, random_state=42)"
      ],
      "metadata": {
        "id": "DG_91ub87y1z"
      },
      "execution_count": 48,
      "outputs": []
    },
    {
      "cell_type": "code",
      "source": [
        "pipeline = Pipeline([\n",
        "                     ('scaler',StandardScaler()),\n",
        "                     ('model',Lasso())\n",
        "])\n"
      ],
      "metadata": {
        "id": "0BjWX-gC7_TQ"
      },
      "execution_count": 49,
      "outputs": []
    },
    {
      "cell_type": "code",
      "source": [
        "search = GridSearchCV(pipeline,\n",
        "                      {'model__alpha':np.arange(0.1,10,0.1)},\n",
        "                      cv = 5, scoring=\"neg_mean_squared_error\",verbose=3\n",
        "                      )"
      ],
      "metadata": {
        "id": "P4DMl7uv8Bt6"
      },
      "execution_count": 50,
      "outputs": []
    },
    {
      "cell_type": "code",
      "source": [
        "search.fit(X_train,y_train)"
      ],
      "metadata": {
        "id": "-I6VjLFw8DqO",
        "outputId": "3b719300-3b2a-4de7-da12-3d3646b5cef6",
        "colab": {
          "base_uri": "https://localhost:8080/"
        }
      },
      "execution_count": 51,
      "outputs": [
        {
          "output_type": "stream",
          "name": "stdout",
          "text": [
            "Fitting 5 folds for each of 99 candidates, totalling 495 fits\n",
            "[CV 1/5] END .................model__alpha=0.1;, score=-0.260 total time=   0.0s\n",
            "[CV 2/5] END .................model__alpha=0.1;, score=-0.218 total time=   0.0s\n",
            "[CV 3/5] END .................model__alpha=0.1;, score=-0.248 total time=   0.0s\n",
            "[CV 4/5] END .................model__alpha=0.1;, score=-0.212 total time=   0.0s\n",
            "[CV 5/5] END .................model__alpha=0.1;, score=-0.260 total time=   0.0s\n",
            "[CV 1/5] END .................model__alpha=0.2;, score=-0.260 total time=   0.0s\n",
            "[CV 2/5] END .................model__alpha=0.2;, score=-0.218 total time=   0.0s\n",
            "[CV 3/5] END .................model__alpha=0.2;, score=-0.249 total time=   0.0s\n",
            "[CV 4/5] END .................model__alpha=0.2;, score=-0.213 total time=   0.0s\n",
            "[CV 5/5] END .................model__alpha=0.2;, score=-0.260 total time=   0.0s\n",
            "[CV 1/5] END .model__alpha=0.30000000000000004;, score=-0.260 total time=   0.0s\n",
            "[CV 2/5] END .model__alpha=0.30000000000000004;, score=-0.218 total time=   0.0s\n",
            "[CV 3/5] END .model__alpha=0.30000000000000004;, score=-0.249 total time=   0.0s\n",
            "[CV 4/5] END .model__alpha=0.30000000000000004;, score=-0.213 total time=   0.0s\n",
            "[CV 5/5] END .model__alpha=0.30000000000000004;, score=-0.260 total time=   0.0s\n",
            "[CV 1/5] END .................model__alpha=0.4;, score=-0.260 total time=   0.0s\n",
            "[CV 2/5] END .................model__alpha=0.4;, score=-0.218 total time=   0.0s\n",
            "[CV 3/5] END .................model__alpha=0.4;, score=-0.249 total time=   0.0s\n",
            "[CV 4/5] END .................model__alpha=0.4;, score=-0.213 total time=   0.0s\n",
            "[CV 5/5] END .................model__alpha=0.4;, score=-0.260 total time=   0.0s\n",
            "[CV 1/5] END .................model__alpha=0.5;, score=-0.260 total time=   0.0s\n",
            "[CV 2/5] END .................model__alpha=0.5;, score=-0.218 total time=   0.0s\n",
            "[CV 3/5] END .................model__alpha=0.5;, score=-0.249 total time=   0.0s\n",
            "[CV 4/5] END .................model__alpha=0.5;, score=-0.213 total time=   0.0s\n",
            "[CV 5/5] END .................model__alpha=0.5;, score=-0.260 total time=   0.0s\n",
            "[CV 1/5] END .................model__alpha=0.6;, score=-0.260 total time=   0.0s\n",
            "[CV 2/5] END .................model__alpha=0.6;, score=-0.218 total time=   0.0s\n",
            "[CV 3/5] END .................model__alpha=0.6;, score=-0.249 total time=   0.0s\n",
            "[CV 4/5] END .................model__alpha=0.6;, score=-0.213 total time=   0.0s\n",
            "[CV 5/5] END .................model__alpha=0.6;, score=-0.260 total time=   0.0s\n",
            "[CV 1/5] END ..model__alpha=0.7000000000000001;, score=-0.260 total time=   0.0s\n",
            "[CV 2/5] END ..model__alpha=0.7000000000000001;, score=-0.218 total time=   0.0s\n",
            "[CV 3/5] END ..model__alpha=0.7000000000000001;, score=-0.249 total time=   0.0s\n",
            "[CV 4/5] END ..model__alpha=0.7000000000000001;, score=-0.213 total time=   0.0s\n",
            "[CV 5/5] END ..model__alpha=0.7000000000000001;, score=-0.260 total time=   0.0s\n",
            "[CV 1/5] END .................model__alpha=0.8;, score=-0.260 total time=   0.0s\n",
            "[CV 2/5] END .................model__alpha=0.8;, score=-0.218 total time=   0.0s\n",
            "[CV 3/5] END .................model__alpha=0.8;, score=-0.249 total time=   0.0s\n",
            "[CV 4/5] END .................model__alpha=0.8;, score=-0.213 total time=   0.0s\n",
            "[CV 5/5] END .................model__alpha=0.8;, score=-0.260 total time=   0.0s\n",
            "[CV 1/5] END .................model__alpha=0.9;, score=-0.260 total time=   0.0s\n",
            "[CV 2/5] END .................model__alpha=0.9;, score=-0.218 total time=   0.0s\n",
            "[CV 3/5] END .................model__alpha=0.9;, score=-0.249 total time=   0.0s\n",
            "[CV 4/5] END .................model__alpha=0.9;, score=-0.213 total time=   0.0s\n",
            "[CV 5/5] END .................model__alpha=0.9;, score=-0.260 total time=   0.0s\n",
            "[CV 1/5] END .................model__alpha=1.0;, score=-0.260 total time=   0.0s\n",
            "[CV 2/5] END .................model__alpha=1.0;, score=-0.218 total time=   0.0s\n",
            "[CV 3/5] END .................model__alpha=1.0;, score=-0.249 total time=   0.0s\n",
            "[CV 4/5] END .................model__alpha=1.0;, score=-0.213 total time=   0.0s\n",
            "[CV 5/5] END .................model__alpha=1.0;, score=-0.260 total time=   0.0s\n",
            "[CV 1/5] END .................model__alpha=1.1;, score=-0.260 total time=   0.0s\n",
            "[CV 2/5] END .................model__alpha=1.1;, score=-0.218 total time=   0.0s\n",
            "[CV 3/5] END .................model__alpha=1.1;, score=-0.249 total time=   0.0s\n",
            "[CV 4/5] END .................model__alpha=1.1;, score=-0.213 total time=   0.0s\n",
            "[CV 5/5] END .................model__alpha=1.1;, score=-0.260 total time=   0.0s\n",
            "[CV 1/5] END ..model__alpha=1.2000000000000002;, score=-0.260 total time=   0.0s\n",
            "[CV 2/5] END ..model__alpha=1.2000000000000002;, score=-0.218 total time=   0.0s\n",
            "[CV 3/5] END ..model__alpha=1.2000000000000002;, score=-0.249 total time=   0.0s\n",
            "[CV 4/5] END ..model__alpha=1.2000000000000002;, score=-0.213 total time=   0.0s\n",
            "[CV 5/5] END ..model__alpha=1.2000000000000002;, score=-0.260 total time=   0.0s\n",
            "[CV 1/5] END ..model__alpha=1.3000000000000003;, score=-0.260 total time=   0.0s\n",
            "[CV 2/5] END ..model__alpha=1.3000000000000003;, score=-0.218 total time=   0.0s\n",
            "[CV 3/5] END ..model__alpha=1.3000000000000003;, score=-0.249 total time=   0.0s\n",
            "[CV 4/5] END ..model__alpha=1.3000000000000003;, score=-0.213 total time=   0.0s\n",
            "[CV 5/5] END ..model__alpha=1.3000000000000003;, score=-0.260 total time=   0.0s\n",
            "[CV 1/5] END ..model__alpha=1.4000000000000001;, score=-0.260 total time=   0.0s\n",
            "[CV 2/5] END ..model__alpha=1.4000000000000001;, score=-0.218 total time=   0.0s\n",
            "[CV 3/5] END ..model__alpha=1.4000000000000001;, score=-0.249 total time=   0.0s\n",
            "[CV 4/5] END ..model__alpha=1.4000000000000001;, score=-0.213 total time=   0.0s\n",
            "[CV 5/5] END ..model__alpha=1.4000000000000001;, score=-0.260 total time=   0.0s\n",
            "[CV 1/5] END ..model__alpha=1.5000000000000002;, score=-0.260 total time=   0.0s\n",
            "[CV 2/5] END ..model__alpha=1.5000000000000002;, score=-0.218 total time=   0.0s\n",
            "[CV 3/5] END ..model__alpha=1.5000000000000002;, score=-0.249 total time=   0.0s\n",
            "[CV 4/5] END ..model__alpha=1.5000000000000002;, score=-0.213 total time=   0.0s\n",
            "[CV 5/5] END ..model__alpha=1.5000000000000002;, score=-0.260 total time=   0.0s\n",
            "[CV 1/5] END .................model__alpha=1.6;, score=-0.260 total time=   0.0s\n",
            "[CV 2/5] END .................model__alpha=1.6;, score=-0.218 total time=   0.0s\n",
            "[CV 3/5] END .................model__alpha=1.6;, score=-0.249 total time=   0.0s\n",
            "[CV 4/5] END .................model__alpha=1.6;, score=-0.213 total time=   0.0s\n",
            "[CV 5/5] END .................model__alpha=1.6;, score=-0.260 total time=   0.0s\n",
            "[CV 1/5] END ..model__alpha=1.7000000000000002;, score=-0.260 total time=   0.0s\n",
            "[CV 2/5] END ..model__alpha=1.7000000000000002;, score=-0.218 total time=   0.0s\n",
            "[CV 3/5] END ..model__alpha=1.7000000000000002;, score=-0.249 total time=   0.0s\n",
            "[CV 4/5] END ..model__alpha=1.7000000000000002;, score=-0.213 total time=   0.0s\n",
            "[CV 5/5] END ..model__alpha=1.7000000000000002;, score=-0.260 total time=   0.0s\n",
            "[CV 1/5] END ..model__alpha=1.8000000000000003;, score=-0.260 total time=   0.0s\n",
            "[CV 2/5] END ..model__alpha=1.8000000000000003;, score=-0.218 total time=   0.0s\n",
            "[CV 3/5] END ..model__alpha=1.8000000000000003;, score=-0.249 total time=   0.0s\n",
            "[CV 4/5] END ..model__alpha=1.8000000000000003;, score=-0.213 total time=   0.0s\n",
            "[CV 5/5] END ..model__alpha=1.8000000000000003;, score=-0.260 total time=   0.0s\n",
            "[CV 1/5] END ..model__alpha=1.9000000000000001;, score=-0.260 total time=   0.0s\n",
            "[CV 2/5] END ..model__alpha=1.9000000000000001;, score=-0.218 total time=   0.0s\n",
            "[CV 3/5] END ..model__alpha=1.9000000000000001;, score=-0.249 total time=   0.0s\n",
            "[CV 4/5] END ..model__alpha=1.9000000000000001;, score=-0.213 total time=   0.0s\n",
            "[CV 5/5] END ..model__alpha=1.9000000000000001;, score=-0.260 total time=   0.0s\n",
            "[CV 1/5] END .................model__alpha=2.0;, score=-0.260 total time=   0.0s\n",
            "[CV 2/5] END .................model__alpha=2.0;, score=-0.218 total time=   0.0s\n",
            "[CV 3/5] END .................model__alpha=2.0;, score=-0.249 total time=   0.0s\n",
            "[CV 4/5] END .................model__alpha=2.0;, score=-0.213 total time=   0.0s\n",
            "[CV 5/5] END .................model__alpha=2.0;, score=-0.260 total time=   0.0s\n",
            "[CV 1/5] END .................model__alpha=2.1;, score=-0.260 total time=   0.0s\n",
            "[CV 2/5] END .................model__alpha=2.1;, score=-0.218 total time=   0.0s\n",
            "[CV 3/5] END .................model__alpha=2.1;, score=-0.249 total time=   0.0s\n",
            "[CV 4/5] END .................model__alpha=2.1;, score=-0.213 total time=   0.0s\n",
            "[CV 5/5] END .................model__alpha=2.1;, score=-0.260 total time=   0.0s\n",
            "[CV 1/5] END .................model__alpha=2.2;, score=-0.260 total time=   0.0s\n",
            "[CV 2/5] END .................model__alpha=2.2;, score=-0.218 total time=   0.0s\n",
            "[CV 3/5] END .................model__alpha=2.2;, score=-0.249 total time=   0.0s\n",
            "[CV 4/5] END .................model__alpha=2.2;, score=-0.213 total time=   0.0s\n",
            "[CV 5/5] END .................model__alpha=2.2;, score=-0.260 total time=   0.0s\n",
            "[CV 1/5] END ..model__alpha=2.3000000000000003;, score=-0.260 total time=   0.0s\n",
            "[CV 2/5] END ..model__alpha=2.3000000000000003;, score=-0.218 total time=   0.0s\n",
            "[CV 3/5] END ..model__alpha=2.3000000000000003;, score=-0.249 total time=   0.0s\n",
            "[CV 4/5] END ..model__alpha=2.3000000000000003;, score=-0.213 total time=   0.0s\n",
            "[CV 5/5] END ..model__alpha=2.3000000000000003;, score=-0.260 total time=   0.0s\n",
            "[CV 1/5] END ..model__alpha=2.4000000000000004;, score=-0.260 total time=   0.0s\n",
            "[CV 2/5] END ..model__alpha=2.4000000000000004;, score=-0.218 total time=   0.0s\n",
            "[CV 3/5] END ..model__alpha=2.4000000000000004;, score=-0.249 total time=   0.0s\n",
            "[CV 4/5] END ..model__alpha=2.4000000000000004;, score=-0.213 total time=   0.0s\n",
            "[CV 5/5] END ..model__alpha=2.4000000000000004;, score=-0.260 total time=   0.0s\n",
            "[CV 1/5] END ..model__alpha=2.5000000000000004;, score=-0.260 total time=   0.0s\n",
            "[CV 2/5] END ..model__alpha=2.5000000000000004;, score=-0.218 total time=   0.0s\n",
            "[CV 3/5] END ..model__alpha=2.5000000000000004;, score=-0.249 total time=   0.0s\n",
            "[CV 4/5] END ..model__alpha=2.5000000000000004;, score=-0.213 total time=   0.0s\n",
            "[CV 5/5] END ..model__alpha=2.5000000000000004;, score=-0.260 total time=   0.0s\n",
            "[CV 1/5] END .................model__alpha=2.6;, score=-0.260 total time=   0.0s\n",
            "[CV 2/5] END .................model__alpha=2.6;, score=-0.218 total time=   0.0s\n",
            "[CV 3/5] END .................model__alpha=2.6;, score=-0.249 total time=   0.0s\n",
            "[CV 4/5] END .................model__alpha=2.6;, score=-0.213 total time=   0.0s\n",
            "[CV 5/5] END .................model__alpha=2.6;, score=-0.260 total time=   0.0s\n",
            "[CV 1/5] END .................model__alpha=2.7;, score=-0.260 total time=   0.0s\n",
            "[CV 2/5] END .................model__alpha=2.7;, score=-0.218 total time=   0.0s\n",
            "[CV 3/5] END .................model__alpha=2.7;, score=-0.249 total time=   0.0s\n",
            "[CV 4/5] END .................model__alpha=2.7;, score=-0.213 total time=   0.0s\n",
            "[CV 5/5] END .................model__alpha=2.7;, score=-0.260 total time=   0.0s\n",
            "[CV 1/5] END ..model__alpha=2.8000000000000003;, score=-0.260 total time=   0.0s\n",
            "[CV 2/5] END ..model__alpha=2.8000000000000003;, score=-0.218 total time=   0.0s\n",
            "[CV 3/5] END ..model__alpha=2.8000000000000003;, score=-0.249 total time=   0.0s\n",
            "[CV 4/5] END ..model__alpha=2.8000000000000003;, score=-0.213 total time=   0.0s\n",
            "[CV 5/5] END ..model__alpha=2.8000000000000003;, score=-0.260 total time=   0.0s\n",
            "[CV 1/5] END ..model__alpha=2.9000000000000004;, score=-0.260 total time=   0.0s\n",
            "[CV 2/5] END ..model__alpha=2.9000000000000004;, score=-0.218 total time=   0.0s\n",
            "[CV 3/5] END ..model__alpha=2.9000000000000004;, score=-0.249 total time=   0.0s\n",
            "[CV 4/5] END ..model__alpha=2.9000000000000004;, score=-0.213 total time=   0.0s\n",
            "[CV 5/5] END ..model__alpha=2.9000000000000004;, score=-0.260 total time=   0.0s\n",
            "[CV 1/5] END ..model__alpha=3.0000000000000004;, score=-0.260 total time=   0.0s\n",
            "[CV 2/5] END ..model__alpha=3.0000000000000004;, score=-0.218 total time=   0.0s\n",
            "[CV 3/5] END ..model__alpha=3.0000000000000004;, score=-0.249 total time=   0.0s\n",
            "[CV 4/5] END ..model__alpha=3.0000000000000004;, score=-0.213 total time=   0.0s\n",
            "[CV 5/5] END ..model__alpha=3.0000000000000004;, score=-0.260 total time=   0.0s\n",
            "[CV 1/5] END .................model__alpha=3.1;, score=-0.260 total time=   0.0s\n",
            "[CV 2/5] END .................model__alpha=3.1;, score=-0.218 total time=   0.0s\n",
            "[CV 3/5] END .................model__alpha=3.1;, score=-0.249 total time=   0.0s\n",
            "[CV 4/5] END .................model__alpha=3.1;, score=-0.213 total time=   0.0s\n",
            "[CV 5/5] END .................model__alpha=3.1;, score=-0.260 total time=   0.0s\n",
            "[CV 1/5] END .................model__alpha=3.2;, score=-0.260 total time=   0.0s\n",
            "[CV 2/5] END .................model__alpha=3.2;, score=-0.218 total time=   0.0s\n",
            "[CV 3/5] END .................model__alpha=3.2;, score=-0.249 total time=   0.0s\n",
            "[CV 4/5] END .................model__alpha=3.2;, score=-0.213 total time=   0.0s\n",
            "[CV 5/5] END .................model__alpha=3.2;, score=-0.260 total time=   0.0s\n",
            "[CV 1/5] END ..model__alpha=3.3000000000000003;, score=-0.260 total time=   0.0s\n",
            "[CV 2/5] END ..model__alpha=3.3000000000000003;, score=-0.218 total time=   0.0s\n",
            "[CV 3/5] END ..model__alpha=3.3000000000000003;, score=-0.249 total time=   0.0s\n",
            "[CV 4/5] END ..model__alpha=3.3000000000000003;, score=-0.213 total time=   0.0s\n",
            "[CV 5/5] END ..model__alpha=3.3000000000000003;, score=-0.260 total time=   0.0s\n",
            "[CV 1/5] END ..model__alpha=3.4000000000000004;, score=-0.260 total time=   0.0s\n",
            "[CV 2/5] END ..model__alpha=3.4000000000000004;, score=-0.218 total time=   0.0s\n",
            "[CV 3/5] END ..model__alpha=3.4000000000000004;, score=-0.249 total time=   0.0s\n",
            "[CV 4/5] END ..model__alpha=3.4000000000000004;, score=-0.213 total time=   0.0s\n",
            "[CV 5/5] END ..model__alpha=3.4000000000000004;, score=-0.260 total time=   0.0s\n",
            "[CV 1/5] END ..model__alpha=3.5000000000000004;, score=-0.260 total time=   0.0s\n",
            "[CV 2/5] END ..model__alpha=3.5000000000000004;, score=-0.218 total time=   0.0s\n",
            "[CV 3/5] END ..model__alpha=3.5000000000000004;, score=-0.249 total time=   0.0s\n",
            "[CV 4/5] END ..model__alpha=3.5000000000000004;, score=-0.213 total time=   0.0s\n",
            "[CV 5/5] END ..model__alpha=3.5000000000000004;, score=-0.260 total time=   0.0s\n",
            "[CV 1/5] END .................model__alpha=3.6;, score=-0.260 total time=   0.0s\n",
            "[CV 2/5] END .................model__alpha=3.6;, score=-0.218 total time=   0.0s\n",
            "[CV 3/5] END .................model__alpha=3.6;, score=-0.249 total time=   0.0s\n",
            "[CV 4/5] END .................model__alpha=3.6;, score=-0.213 total time=   0.0s\n",
            "[CV 5/5] END .................model__alpha=3.6;, score=-0.260 total time=   0.0s\n",
            "[CV 1/5] END .................model__alpha=3.7;, score=-0.260 total time=   0.0s\n",
            "[CV 2/5] END .................model__alpha=3.7;, score=-0.218 total time=   0.0s\n",
            "[CV 3/5] END .................model__alpha=3.7;, score=-0.249 total time=   0.0s\n",
            "[CV 4/5] END .................model__alpha=3.7;, score=-0.213 total time=   0.0s\n",
            "[CV 5/5] END .................model__alpha=3.7;, score=-0.260 total time=   0.0s\n",
            "[CV 1/5] END ..model__alpha=3.8000000000000003;, score=-0.260 total time=   0.0s\n",
            "[CV 2/5] END ..model__alpha=3.8000000000000003;, score=-0.218 total time=   0.0s\n",
            "[CV 3/5] END ..model__alpha=3.8000000000000003;, score=-0.249 total time=   0.0s\n",
            "[CV 4/5] END ..model__alpha=3.8000000000000003;, score=-0.213 total time=   0.0s\n",
            "[CV 5/5] END ..model__alpha=3.8000000000000003;, score=-0.260 total time=   0.0s\n",
            "[CV 1/5] END ..model__alpha=3.9000000000000004;, score=-0.260 total time=   0.0s\n",
            "[CV 2/5] END ..model__alpha=3.9000000000000004;, score=-0.218 total time=   0.0s\n",
            "[CV 3/5] END ..model__alpha=3.9000000000000004;, score=-0.249 total time=   0.0s\n",
            "[CV 4/5] END ..model__alpha=3.9000000000000004;, score=-0.213 total time=   0.0s\n",
            "[CV 5/5] END ..model__alpha=3.9000000000000004;, score=-0.260 total time=   0.0s\n",
            "[CV 1/5] END .................model__alpha=4.0;, score=-0.260 total time=   0.0s\n",
            "[CV 2/5] END .................model__alpha=4.0;, score=-0.218 total time=   0.0s\n",
            "[CV 3/5] END .................model__alpha=4.0;, score=-0.249 total time=   0.0s\n",
            "[CV 4/5] END .................model__alpha=4.0;, score=-0.213 total time=   0.0s\n",
            "[CV 5/5] END .................model__alpha=4.0;, score=-0.260 total time=   0.0s\n",
            "[CV 1/5] END .................model__alpha=4.1;, score=-0.260 total time=   0.0s\n",
            "[CV 2/5] END .................model__alpha=4.1;, score=-0.218 total time=   0.0s\n",
            "[CV 3/5] END .................model__alpha=4.1;, score=-0.249 total time=   0.0s\n",
            "[CV 4/5] END .................model__alpha=4.1;, score=-0.213 total time=   0.0s\n",
            "[CV 5/5] END .................model__alpha=4.1;, score=-0.260 total time=   0.0s\n",
            "[CV 1/5] END .................model__alpha=4.2;, score=-0.260 total time=   0.0s\n",
            "[CV 2/5] END .................model__alpha=4.2;, score=-0.218 total time=   0.0s\n",
            "[CV 3/5] END .................model__alpha=4.2;, score=-0.249 total time=   0.0s\n",
            "[CV 4/5] END .................model__alpha=4.2;, score=-0.213 total time=   0.0s\n",
            "[CV 5/5] END .................model__alpha=4.2;, score=-0.260 total time=   0.0s\n",
            "[CV 1/5] END .................model__alpha=4.3;, score=-0.260 total time=   0.0s\n",
            "[CV 2/5] END .................model__alpha=4.3;, score=-0.218 total time=   0.0s\n",
            "[CV 3/5] END .................model__alpha=4.3;, score=-0.249 total time=   0.0s\n",
            "[CV 4/5] END .................model__alpha=4.3;, score=-0.213 total time=   0.0s\n",
            "[CV 5/5] END .................model__alpha=4.3;, score=-0.260 total time=   0.0s\n",
            "[CV 1/5] END ..model__alpha=4.3999999999999995;, score=-0.260 total time=   0.0s\n",
            "[CV 2/5] END ..model__alpha=4.3999999999999995;, score=-0.218 total time=   0.0s\n",
            "[CV 3/5] END ..model__alpha=4.3999999999999995;, score=-0.249 total time=   0.0s\n",
            "[CV 4/5] END ..model__alpha=4.3999999999999995;, score=-0.213 total time=   0.0s\n",
            "[CV 5/5] END ..model__alpha=4.3999999999999995;, score=-0.260 total time=   0.0s\n",
            "[CV 1/5] END .................model__alpha=4.5;, score=-0.260 total time=   0.0s\n",
            "[CV 2/5] END .................model__alpha=4.5;, score=-0.218 total time=   0.0s\n",
            "[CV 3/5] END .................model__alpha=4.5;, score=-0.249 total time=   0.0s\n",
            "[CV 4/5] END .................model__alpha=4.5;, score=-0.213 total time=   0.0s\n",
            "[CV 5/5] END .................model__alpha=4.5;, score=-0.260 total time=   0.0s\n",
            "[CV 1/5] END .................model__alpha=4.6;, score=-0.260 total time=   0.0s\n",
            "[CV 2/5] END .................model__alpha=4.6;, score=-0.218 total time=   0.0s\n",
            "[CV 3/5] END .................model__alpha=4.6;, score=-0.249 total time=   0.0s\n",
            "[CV 4/5] END .................model__alpha=4.6;, score=-0.213 total time=   0.0s\n",
            "[CV 5/5] END .................model__alpha=4.6;, score=-0.260 total time=   0.0s\n",
            "[CV 1/5] END .................model__alpha=4.7;, score=-0.260 total time=   0.0s\n",
            "[CV 2/5] END .................model__alpha=4.7;, score=-0.218 total time=   0.0s\n",
            "[CV 3/5] END .................model__alpha=4.7;, score=-0.249 total time=   0.0s\n",
            "[CV 4/5] END .................model__alpha=4.7;, score=-0.213 total time=   0.0s\n",
            "[CV 5/5] END .................model__alpha=4.7;, score=-0.260 total time=   0.0s\n",
            "[CV 1/5] END .................model__alpha=4.8;, score=-0.260 total time=   0.0s\n",
            "[CV 2/5] END .................model__alpha=4.8;, score=-0.218 total time=   0.0s\n",
            "[CV 3/5] END .................model__alpha=4.8;, score=-0.249 total time=   0.0s\n",
            "[CV 4/5] END .................model__alpha=4.8;, score=-0.213 total time=   0.0s\n",
            "[CV 5/5] END .................model__alpha=4.8;, score=-0.260 total time=   0.0s\n",
            "[CV 1/5] END .................model__alpha=4.9;, score=-0.260 total time=   0.0s\n",
            "[CV 2/5] END .................model__alpha=4.9;, score=-0.218 total time=   0.0s\n",
            "[CV 3/5] END .................model__alpha=4.9;, score=-0.249 total time=   0.0s\n",
            "[CV 4/5] END .................model__alpha=4.9;, score=-0.213 total time=   0.0s\n",
            "[CV 5/5] END .................model__alpha=4.9;, score=-0.260 total time=   0.0s\n",
            "[CV 1/5] END .................model__alpha=5.0;, score=-0.260 total time=   0.0s\n",
            "[CV 2/5] END .................model__alpha=5.0;, score=-0.218 total time=   0.0s\n",
            "[CV 3/5] END .................model__alpha=5.0;, score=-0.249 total time=   0.0s\n",
            "[CV 4/5] END .................model__alpha=5.0;, score=-0.213 total time=   0.0s\n",
            "[CV 5/5] END .................model__alpha=5.0;, score=-0.260 total time=   0.0s\n",
            "[CV 1/5] END .................model__alpha=5.1;, score=-0.260 total time=   0.0s\n",
            "[CV 2/5] END .................model__alpha=5.1;, score=-0.218 total time=   0.0s\n",
            "[CV 3/5] END .................model__alpha=5.1;, score=-0.249 total time=   0.0s\n",
            "[CV 4/5] END .................model__alpha=5.1;, score=-0.213 total time=   0.0s\n",
            "[CV 5/5] END .................model__alpha=5.1;, score=-0.260 total time=   0.0s\n",
            "[CV 1/5] END .................model__alpha=5.2;, score=-0.260 total time=   0.0s\n",
            "[CV 2/5] END .................model__alpha=5.2;, score=-0.218 total time=   0.0s\n",
            "[CV 3/5] END .................model__alpha=5.2;, score=-0.249 total time=   0.0s\n",
            "[CV 4/5] END .................model__alpha=5.2;, score=-0.213 total time=   0.0s\n",
            "[CV 5/5] END .................model__alpha=5.2;, score=-0.260 total time=   0.0s\n",
            "[CV 1/5] END .................model__alpha=5.3;, score=-0.260 total time=   0.0s\n",
            "[CV 2/5] END .................model__alpha=5.3;, score=-0.218 total time=   0.0s\n",
            "[CV 3/5] END .................model__alpha=5.3;, score=-0.249 total time=   0.0s\n",
            "[CV 4/5] END .................model__alpha=5.3;, score=-0.213 total time=   0.0s\n",
            "[CV 5/5] END .................model__alpha=5.3;, score=-0.260 total time=   0.0s\n",
            "[CV 1/5] END .................model__alpha=5.4;, score=-0.260 total time=   0.0s\n",
            "[CV 2/5] END .................model__alpha=5.4;, score=-0.218 total time=   0.0s\n",
            "[CV 3/5] END .................model__alpha=5.4;, score=-0.249 total time=   0.0s\n",
            "[CV 4/5] END .................model__alpha=5.4;, score=-0.213 total time=   0.0s\n",
            "[CV 5/5] END .................model__alpha=5.4;, score=-0.260 total time=   0.0s\n",
            "[CV 1/5] END .................model__alpha=5.5;, score=-0.260 total time=   0.0s\n",
            "[CV 2/5] END .................model__alpha=5.5;, score=-0.218 total time=   0.0s\n",
            "[CV 3/5] END .................model__alpha=5.5;, score=-0.249 total time=   0.0s\n",
            "[CV 4/5] END .................model__alpha=5.5;, score=-0.213 total time=   0.0s\n",
            "[CV 5/5] END .................model__alpha=5.5;, score=-0.260 total time=   0.0s\n",
            "[CV 1/5] END .................model__alpha=5.6;, score=-0.260 total time=   0.0s\n",
            "[CV 2/5] END .................model__alpha=5.6;, score=-0.218 total time=   0.0s\n",
            "[CV 3/5] END .................model__alpha=5.6;, score=-0.249 total time=   0.0s\n",
            "[CV 4/5] END .................model__alpha=5.6;, score=-0.213 total time=   0.0s\n",
            "[CV 5/5] END .................model__alpha=5.6;, score=-0.260 total time=   0.0s\n",
            "[CV 1/5] END .................model__alpha=5.7;, score=-0.260 total time=   0.0s\n",
            "[CV 2/5] END .................model__alpha=5.7;, score=-0.218 total time=   0.0s\n",
            "[CV 3/5] END .................model__alpha=5.7;, score=-0.249 total time=   0.0s\n",
            "[CV 4/5] END .................model__alpha=5.7;, score=-0.213 total time=   0.0s\n",
            "[CV 5/5] END .................model__alpha=5.7;, score=-0.260 total time=   0.0s\n",
            "[CV 1/5] END .................model__alpha=5.8;, score=-0.260 total time=   0.0s\n",
            "[CV 2/5] END .................model__alpha=5.8;, score=-0.218 total time=   0.0s\n",
            "[CV 3/5] END .................model__alpha=5.8;, score=-0.249 total time=   0.1s\n",
            "[CV 4/5] END .................model__alpha=5.8;, score=-0.213 total time=   0.0s\n",
            "[CV 5/5] END .................model__alpha=5.8;, score=-0.260 total time=   0.0s\n",
            "[CV 1/5] END .................model__alpha=5.9;, score=-0.260 total time=   0.0s\n",
            "[CV 2/5] END .................model__alpha=5.9;, score=-0.218 total time=   0.0s\n",
            "[CV 3/5] END .................model__alpha=5.9;, score=-0.249 total time=   0.0s\n",
            "[CV 4/5] END .................model__alpha=5.9;, score=-0.213 total time=   0.0s\n",
            "[CV 5/5] END .................model__alpha=5.9;, score=-0.260 total time=   0.0s\n",
            "[CV 1/5] END .................model__alpha=6.0;, score=-0.260 total time=   0.0s\n",
            "[CV 2/5] END .................model__alpha=6.0;, score=-0.218 total time=   0.0s\n",
            "[CV 3/5] END .................model__alpha=6.0;, score=-0.249 total time=   0.0s\n",
            "[CV 4/5] END .................model__alpha=6.0;, score=-0.213 total time=   0.0s\n",
            "[CV 5/5] END .................model__alpha=6.0;, score=-0.260 total time=   0.0s\n",
            "[CV 1/5] END .................model__alpha=6.1;, score=-0.260 total time=   0.0s\n",
            "[CV 2/5] END .................model__alpha=6.1;, score=-0.218 total time=   0.0s\n",
            "[CV 3/5] END .................model__alpha=6.1;, score=-0.249 total time=   0.0s\n",
            "[CV 4/5] END .................model__alpha=6.1;, score=-0.213 total time=   0.0s\n",
            "[CV 5/5] END .................model__alpha=6.1;, score=-0.260 total time=   0.0s\n",
            "[CV 1/5] END .................model__alpha=6.2;, score=-0.260 total time=   0.0s\n",
            "[CV 2/5] END .................model__alpha=6.2;, score=-0.218 total time=   0.0s\n",
            "[CV 3/5] END .................model__alpha=6.2;, score=-0.249 total time=   0.0s\n",
            "[CV 4/5] END .................model__alpha=6.2;, score=-0.213 total time=   0.0s\n",
            "[CV 5/5] END .................model__alpha=6.2;, score=-0.260 total time=   0.0s\n",
            "[CV 1/5] END .................model__alpha=6.3;, score=-0.260 total time=   0.0s\n",
            "[CV 2/5] END .................model__alpha=6.3;, score=-0.218 total time=   0.0s\n",
            "[CV 3/5] END .................model__alpha=6.3;, score=-0.249 total time=   0.0s\n",
            "[CV 4/5] END .................model__alpha=6.3;, score=-0.213 total time=   0.0s\n",
            "[CV 5/5] END .................model__alpha=6.3;, score=-0.260 total time=   0.0s\n",
            "[CV 1/5] END .................model__alpha=6.4;, score=-0.260 total time=   0.0s\n",
            "[CV 2/5] END .................model__alpha=6.4;, score=-0.218 total time=   0.0s\n",
            "[CV 3/5] END .................model__alpha=6.4;, score=-0.249 total time=   0.0s\n",
            "[CV 4/5] END .................model__alpha=6.4;, score=-0.213 total time=   0.0s\n",
            "[CV 5/5] END .................model__alpha=6.4;, score=-0.260 total time=   0.0s\n",
            "[CV 1/5] END .................model__alpha=6.5;, score=-0.260 total time=   0.0s\n",
            "[CV 2/5] END .................model__alpha=6.5;, score=-0.218 total time=   0.0s\n",
            "[CV 3/5] END .................model__alpha=6.5;, score=-0.249 total time=   0.0s\n",
            "[CV 4/5] END .................model__alpha=6.5;, score=-0.213 total time=   0.0s\n",
            "[CV 5/5] END .................model__alpha=6.5;, score=-0.260 total time=   0.0s\n",
            "[CV 1/5] END .................model__alpha=6.6;, score=-0.260 total time=   0.0s\n",
            "[CV 2/5] END .................model__alpha=6.6;, score=-0.218 total time=   0.0s\n",
            "[CV 3/5] END .................model__alpha=6.6;, score=-0.249 total time=   0.0s\n",
            "[CV 4/5] END .................model__alpha=6.6;, score=-0.213 total time=   0.0s\n",
            "[CV 5/5] END .................model__alpha=6.6;, score=-0.260 total time=   0.0s\n",
            "[CV 1/5] END .................model__alpha=6.7;, score=-0.260 total time=   0.0s\n",
            "[CV 2/5] END .................model__alpha=6.7;, score=-0.218 total time=   0.0s\n",
            "[CV 3/5] END .................model__alpha=6.7;, score=-0.249 total time=   0.0s\n",
            "[CV 4/5] END .................model__alpha=6.7;, score=-0.213 total time=   0.0s\n",
            "[CV 5/5] END .................model__alpha=6.7;, score=-0.260 total time=   0.0s\n",
            "[CV 1/5] END .................model__alpha=6.8;, score=-0.260 total time=   0.0s\n",
            "[CV 2/5] END .................model__alpha=6.8;, score=-0.218 total time=   0.0s\n",
            "[CV 3/5] END .................model__alpha=6.8;, score=-0.249 total time=   0.0s\n",
            "[CV 4/5] END .................model__alpha=6.8;, score=-0.213 total time=   0.0s\n",
            "[CV 5/5] END .................model__alpha=6.8;, score=-0.260 total time=   0.0s\n",
            "[CV 1/5] END .................model__alpha=6.9;, score=-0.260 total time=   0.0s\n",
            "[CV 2/5] END .................model__alpha=6.9;, score=-0.218 total time=   0.0s\n",
            "[CV 3/5] END .................model__alpha=6.9;, score=-0.249 total time=   0.0s\n",
            "[CV 4/5] END .................model__alpha=6.9;, score=-0.213 total time=   0.0s\n",
            "[CV 5/5] END .................model__alpha=6.9;, score=-0.260 total time=   0.0s\n",
            "[CV 1/5] END .................model__alpha=7.0;, score=-0.260 total time=   0.0s\n",
            "[CV 2/5] END .................model__alpha=7.0;, score=-0.218 total time=   0.0s\n",
            "[CV 3/5] END .................model__alpha=7.0;, score=-0.249 total time=   0.0s\n",
            "[CV 4/5] END .................model__alpha=7.0;, score=-0.213 total time=   0.0s\n",
            "[CV 5/5] END .................model__alpha=7.0;, score=-0.260 total time=   0.0s\n",
            "[CV 1/5] END .................model__alpha=7.1;, score=-0.260 total time=   0.0s\n",
            "[CV 2/5] END .................model__alpha=7.1;, score=-0.218 total time=   0.0s\n",
            "[CV 3/5] END .................model__alpha=7.1;, score=-0.249 total time=   0.0s\n",
            "[CV 4/5] END .................model__alpha=7.1;, score=-0.213 total time=   0.0s\n",
            "[CV 5/5] END .................model__alpha=7.1;, score=-0.260 total time=   0.0s\n",
            "[CV 1/5] END .................model__alpha=7.2;, score=-0.260 total time=   0.0s\n",
            "[CV 2/5] END .................model__alpha=7.2;, score=-0.218 total time=   0.0s\n",
            "[CV 3/5] END .................model__alpha=7.2;, score=-0.249 total time=   0.0s\n",
            "[CV 4/5] END .................model__alpha=7.2;, score=-0.213 total time=   0.0s\n",
            "[CV 5/5] END .................model__alpha=7.2;, score=-0.260 total time=   0.0s\n",
            "[CV 1/5] END .................model__alpha=7.3;, score=-0.260 total time=   0.0s\n",
            "[CV 2/5] END .................model__alpha=7.3;, score=-0.218 total time=   0.0s\n",
            "[CV 3/5] END .................model__alpha=7.3;, score=-0.249 total time=   0.0s\n",
            "[CV 4/5] END .................model__alpha=7.3;, score=-0.213 total time=   0.0s\n",
            "[CV 5/5] END .................model__alpha=7.3;, score=-0.260 total time=   0.0s\n",
            "[CV 1/5] END .................model__alpha=7.4;, score=-0.260 total time=   0.0s\n",
            "[CV 2/5] END .................model__alpha=7.4;, score=-0.218 total time=   0.0s\n",
            "[CV 3/5] END .................model__alpha=7.4;, score=-0.249 total time=   0.0s\n",
            "[CV 4/5] END .................model__alpha=7.4;, score=-0.213 total time=   0.0s\n",
            "[CV 5/5] END .................model__alpha=7.4;, score=-0.260 total time=   0.0s\n",
            "[CV 1/5] END .................model__alpha=7.5;, score=-0.260 total time=   0.0s\n",
            "[CV 2/5] END .................model__alpha=7.5;, score=-0.218 total time=   0.0s\n",
            "[CV 3/5] END .................model__alpha=7.5;, score=-0.249 total time=   0.0s\n",
            "[CV 4/5] END .................model__alpha=7.5;, score=-0.213 total time=   0.0s\n",
            "[CV 5/5] END .................model__alpha=7.5;, score=-0.260 total time=   0.0s\n",
            "[CV 1/5] END .................model__alpha=7.6;, score=-0.260 total time=   0.0s\n",
            "[CV 2/5] END .................model__alpha=7.6;, score=-0.218 total time=   0.0s\n",
            "[CV 3/5] END .................model__alpha=7.6;, score=-0.249 total time=   0.0s\n",
            "[CV 4/5] END .................model__alpha=7.6;, score=-0.213 total time=   0.0s\n",
            "[CV 5/5] END .................model__alpha=7.6;, score=-0.260 total time=   0.0s\n",
            "[CV 1/5] END .................model__alpha=7.7;, score=-0.260 total time=   0.0s\n",
            "[CV 2/5] END .................model__alpha=7.7;, score=-0.218 total time=   0.0s\n",
            "[CV 3/5] END .................model__alpha=7.7;, score=-0.249 total time=   0.0s\n",
            "[CV 4/5] END .................model__alpha=7.7;, score=-0.213 total time=   0.0s\n",
            "[CV 5/5] END .................model__alpha=7.7;, score=-0.260 total time=   0.0s\n",
            "[CV 1/5] END .................model__alpha=7.8;, score=-0.260 total time=   0.0s\n",
            "[CV 2/5] END .................model__alpha=7.8;, score=-0.218 total time=   0.0s\n",
            "[CV 3/5] END .................model__alpha=7.8;, score=-0.249 total time=   0.0s\n",
            "[CV 4/5] END .................model__alpha=7.8;, score=-0.213 total time=   0.0s\n",
            "[CV 5/5] END .................model__alpha=7.8;, score=-0.260 total time=   0.0s\n",
            "[CV 1/5] END .................model__alpha=7.9;, score=-0.260 total time=   0.0s\n",
            "[CV 2/5] END .................model__alpha=7.9;, score=-0.218 total time=   0.0s\n",
            "[CV 3/5] END .................model__alpha=7.9;, score=-0.249 total time=   0.0s\n",
            "[CV 4/5] END .................model__alpha=7.9;, score=-0.213 total time=   0.0s\n",
            "[CV 5/5] END .................model__alpha=7.9;, score=-0.260 total time=   0.0s\n",
            "[CV 1/5] END .................model__alpha=8.0;, score=-0.260 total time=   0.0s\n",
            "[CV 2/5] END .................model__alpha=8.0;, score=-0.218 total time=   0.0s\n",
            "[CV 3/5] END .................model__alpha=8.0;, score=-0.249 total time=   0.0s\n",
            "[CV 4/5] END .................model__alpha=8.0;, score=-0.213 total time=   0.0s\n",
            "[CV 5/5] END .................model__alpha=8.0;, score=-0.260 total time=   0.0s\n",
            "[CV 1/5] END .................model__alpha=8.1;, score=-0.260 total time=   0.0s\n",
            "[CV 2/5] END .................model__alpha=8.1;, score=-0.218 total time=   0.0s\n",
            "[CV 3/5] END .................model__alpha=8.1;, score=-0.249 total time=   0.0s\n",
            "[CV 4/5] END .................model__alpha=8.1;, score=-0.213 total time=   0.0s\n",
            "[CV 5/5] END .................model__alpha=8.1;, score=-0.260 total time=   0.0s\n",
            "[CV 1/5] END .................model__alpha=8.2;, score=-0.260 total time=   0.0s\n",
            "[CV 2/5] END .................model__alpha=8.2;, score=-0.218 total time=   0.0s\n",
            "[CV 3/5] END .................model__alpha=8.2;, score=-0.249 total time=   0.0s\n",
            "[CV 4/5] END .................model__alpha=8.2;, score=-0.213 total time=   0.0s\n",
            "[CV 5/5] END .................model__alpha=8.2;, score=-0.260 total time=   0.0s\n",
            "[CV 1/5] END .................model__alpha=8.3;, score=-0.260 total time=   0.0s\n",
            "[CV 2/5] END .................model__alpha=8.3;, score=-0.218 total time=   0.0s\n",
            "[CV 3/5] END .................model__alpha=8.3;, score=-0.249 total time=   0.0s\n",
            "[CV 4/5] END .................model__alpha=8.3;, score=-0.213 total time=   0.0s\n",
            "[CV 5/5] END .................model__alpha=8.3;, score=-0.260 total time=   0.0s\n",
            "[CV 1/5] END .................model__alpha=8.4;, score=-0.260 total time=   0.0s\n",
            "[CV 2/5] END .................model__alpha=8.4;, score=-0.218 total time=   0.0s\n",
            "[CV 3/5] END .................model__alpha=8.4;, score=-0.249 total time=   0.0s\n",
            "[CV 4/5] END .................model__alpha=8.4;, score=-0.213 total time=   0.0s\n",
            "[CV 5/5] END .................model__alpha=8.4;, score=-0.260 total time=   0.0s\n",
            "[CV 1/5] END .................model__alpha=8.5;, score=-0.260 total time=   0.0s\n",
            "[CV 2/5] END .................model__alpha=8.5;, score=-0.218 total time=   0.0s\n",
            "[CV 3/5] END .................model__alpha=8.5;, score=-0.249 total time=   0.0s\n",
            "[CV 4/5] END .................model__alpha=8.5;, score=-0.213 total time=   0.0s\n",
            "[CV 5/5] END .................model__alpha=8.5;, score=-0.260 total time=   0.0s\n",
            "[CV 1/5] END .................model__alpha=8.6;, score=-0.260 total time=   0.0s\n",
            "[CV 2/5] END .................model__alpha=8.6;, score=-0.218 total time=   0.0s\n",
            "[CV 3/5] END .................model__alpha=8.6;, score=-0.249 total time=   0.0s\n",
            "[CV 4/5] END .................model__alpha=8.6;, score=-0.213 total time=   0.0s\n",
            "[CV 5/5] END .................model__alpha=8.6;, score=-0.260 total time=   0.0s\n",
            "[CV 1/5] END .................model__alpha=8.7;, score=-0.260 total time=   0.0s\n",
            "[CV 2/5] END .................model__alpha=8.7;, score=-0.218 total time=   0.0s\n",
            "[CV 3/5] END .................model__alpha=8.7;, score=-0.249 total time=   0.0s\n",
            "[CV 4/5] END .................model__alpha=8.7;, score=-0.213 total time=   0.0s\n",
            "[CV 5/5] END .................model__alpha=8.7;, score=-0.260 total time=   0.0s\n",
            "[CV 1/5] END .................model__alpha=8.8;, score=-0.260 total time=   0.0s\n",
            "[CV 2/5] END .................model__alpha=8.8;, score=-0.218 total time=   0.0s\n",
            "[CV 3/5] END .................model__alpha=8.8;, score=-0.249 total time=   0.0s\n",
            "[CV 4/5] END .................model__alpha=8.8;, score=-0.213 total time=   0.0s\n",
            "[CV 5/5] END .................model__alpha=8.8;, score=-0.260 total time=   0.0s\n",
            "[CV 1/5] END .................model__alpha=8.9;, score=-0.260 total time=   0.0s\n",
            "[CV 2/5] END .................model__alpha=8.9;, score=-0.218 total time=   0.0s\n",
            "[CV 3/5] END .................model__alpha=8.9;, score=-0.249 total time=   0.0s\n",
            "[CV 4/5] END .................model__alpha=8.9;, score=-0.213 total time=   0.0s\n",
            "[CV 5/5] END .................model__alpha=8.9;, score=-0.260 total time=   0.0s\n",
            "[CV 1/5] END .................model__alpha=9.0;, score=-0.260 total time=   0.0s\n",
            "[CV 2/5] END .................model__alpha=9.0;, score=-0.218 total time=   0.0s\n",
            "[CV 3/5] END .................model__alpha=9.0;, score=-0.249 total time=   0.0s\n",
            "[CV 4/5] END .................model__alpha=9.0;, score=-0.213 total time=   0.0s\n",
            "[CV 5/5] END .................model__alpha=9.0;, score=-0.260 total time=   0.0s\n",
            "[CV 1/5] END .................model__alpha=9.1;, score=-0.260 total time=   0.0s\n",
            "[CV 2/5] END .................model__alpha=9.1;, score=-0.218 total time=   0.0s\n",
            "[CV 3/5] END .................model__alpha=9.1;, score=-0.249 total time=   0.0s\n",
            "[CV 4/5] END .................model__alpha=9.1;, score=-0.213 total time=   0.0s\n",
            "[CV 5/5] END .................model__alpha=9.1;, score=-0.260 total time=   0.0s\n",
            "[CV 1/5] END .................model__alpha=9.2;, score=-0.260 total time=   0.0s\n",
            "[CV 2/5] END .................model__alpha=9.2;, score=-0.218 total time=   0.0s\n",
            "[CV 3/5] END .................model__alpha=9.2;, score=-0.249 total time=   0.0s\n",
            "[CV 4/5] END .................model__alpha=9.2;, score=-0.213 total time=   0.0s\n",
            "[CV 5/5] END .................model__alpha=9.2;, score=-0.260 total time=   0.0s\n",
            "[CV 1/5] END .................model__alpha=9.3;, score=-0.260 total time=   0.0s\n",
            "[CV 2/5] END .................model__alpha=9.3;, score=-0.218 total time=   0.0s\n",
            "[CV 3/5] END .................model__alpha=9.3;, score=-0.249 total time=   0.0s\n",
            "[CV 4/5] END .................model__alpha=9.3;, score=-0.213 total time=   0.0s\n",
            "[CV 5/5] END .................model__alpha=9.3;, score=-0.260 total time=   0.0s\n",
            "[CV 1/5] END .................model__alpha=9.4;, score=-0.260 total time=   0.0s\n",
            "[CV 2/5] END .................model__alpha=9.4;, score=-0.218 total time=   0.0s\n",
            "[CV 3/5] END .................model__alpha=9.4;, score=-0.249 total time=   0.0s\n",
            "[CV 4/5] END .................model__alpha=9.4;, score=-0.213 total time=   0.0s\n",
            "[CV 5/5] END .................model__alpha=9.4;, score=-0.260 total time=   0.0s\n",
            "[CV 1/5] END .................model__alpha=9.5;, score=-0.260 total time=   0.0s\n",
            "[CV 2/5] END .................model__alpha=9.5;, score=-0.218 total time=   0.0s\n",
            "[CV 3/5] END .................model__alpha=9.5;, score=-0.249 total time=   0.0s\n",
            "[CV 4/5] END .................model__alpha=9.5;, score=-0.213 total time=   0.0s\n",
            "[CV 5/5] END .................model__alpha=9.5;, score=-0.260 total time=   0.0s\n",
            "[CV 1/5] END .................model__alpha=9.6;, score=-0.260 total time=   0.0s\n",
            "[CV 2/5] END .................model__alpha=9.6;, score=-0.218 total time=   0.0s\n",
            "[CV 3/5] END .................model__alpha=9.6;, score=-0.249 total time=   0.0s\n",
            "[CV 4/5] END .................model__alpha=9.6;, score=-0.213 total time=   0.0s\n",
            "[CV 5/5] END .................model__alpha=9.6;, score=-0.260 total time=   0.0s\n",
            "[CV 1/5] END ...model__alpha=9.700000000000001;, score=-0.260 total time=   0.0s\n",
            "[CV 2/5] END ...model__alpha=9.700000000000001;, score=-0.218 total time=   0.0s\n",
            "[CV 3/5] END ...model__alpha=9.700000000000001;, score=-0.249 total time=   0.0s\n",
            "[CV 4/5] END ...model__alpha=9.700000000000001;, score=-0.213 total time=   0.0s\n",
            "[CV 5/5] END ...model__alpha=9.700000000000001;, score=-0.260 total time=   0.0s\n",
            "[CV 1/5] END .................model__alpha=9.8;, score=-0.260 total time=   0.0s\n",
            "[CV 2/5] END .................model__alpha=9.8;, score=-0.218 total time=   0.0s\n",
            "[CV 3/5] END .................model__alpha=9.8;, score=-0.249 total time=   0.0s\n",
            "[CV 4/5] END .................model__alpha=9.8;, score=-0.213 total time=   0.0s\n",
            "[CV 5/5] END .................model__alpha=9.8;, score=-0.260 total time=   0.0s\n",
            "[CV 1/5] END .................model__alpha=9.9;, score=-0.260 total time=   0.0s\n",
            "[CV 2/5] END .................model__alpha=9.9;, score=-0.218 total time=   0.0s\n",
            "[CV 3/5] END .................model__alpha=9.9;, score=-0.249 total time=   0.0s\n",
            "[CV 4/5] END .................model__alpha=9.9;, score=-0.213 total time=   0.0s\n",
            "[CV 5/5] END .................model__alpha=9.9;, score=-0.260 total time=   0.0s\n"
          ]
        },
        {
          "output_type": "execute_result",
          "data": {
            "text/plain": [
              "GridSearchCV(cv=5,\n",
              "             estimator=Pipeline(steps=[('scaler', StandardScaler()),\n",
              "                                       ('model', Lasso())]),\n",
              "             param_grid={'model__alpha': array([0.1, 0.2, 0.3, 0.4, 0.5, 0.6, 0.7, 0.8, 0.9, 1. , 1.1, 1.2, 1.3,\n",
              "       1.4, 1.5, 1.6, 1.7, 1.8, 1.9, 2. , 2.1, 2.2, 2.3, 2.4, 2.5, 2.6,\n",
              "       2.7, 2.8, 2.9, 3. , 3.1, 3.2, 3.3, 3.4, 3.5, 3.6, 3.7, 3.8, 3.9,\n",
              "       4. , 4.1, 4.2, 4.3, 4.4, 4.5, 4.6, 4.7, 4.8, 4.9, 5. , 5.1, 5.2,\n",
              "       5.3, 5.4, 5.5, 5.6, 5.7, 5.8, 5.9, 6. , 6.1, 6.2, 6.3, 6.4, 6.5,\n",
              "       6.6, 6.7, 6.8, 6.9, 7. , 7.1, 7.2, 7.3, 7.4, 7.5, 7.6, 7.7, 7.8,\n",
              "       7.9, 8. , 8.1, 8.2, 8.3, 8.4, 8.5, 8.6, 8.7, 8.8, 8.9, 9. , 9.1,\n",
              "       9.2, 9.3, 9.4, 9.5, 9.6, 9.7, 9.8, 9.9])},\n",
              "             scoring='neg_mean_squared_error', verbose=3)"
            ]
          },
          "metadata": {},
          "execution_count": 51
        }
      ]
    },
    {
      "cell_type": "code",
      "source": [
        "search.best_params_\n"
      ],
      "metadata": {
        "id": "467Y8gXz8Kqb",
        "outputId": "1fab553b-27ee-42aa-ba8e-d47dbe156ddc",
        "colab": {
          "base_uri": "https://localhost:8080/"
        }
      },
      "execution_count": 52,
      "outputs": [
        {
          "output_type": "execute_result",
          "data": {
            "text/plain": [
              "{'model__alpha': 0.1}"
            ]
          },
          "metadata": {},
          "execution_count": 52
        }
      ]
    },
    {
      "cell_type": "code",
      "source": [
        "coefficients = search.best_estimator_.named_steps['model'].coef_\n"
      ],
      "metadata": {
        "id": "r5ZsQXb78Py9"
      },
      "execution_count": 53,
      "outputs": []
    },
    {
      "cell_type": "code",
      "source": [
        "coefficients"
      ],
      "metadata": {
        "id": "c6v7Dm-q8RPP",
        "outputId": "880bf974-6577-426a-e051-1b7f9d618b65",
        "colab": {
          "base_uri": "https://localhost:8080/"
        }
      },
      "execution_count": 54,
      "outputs": [
        {
          "output_type": "execute_result",
          "data": {
            "text/plain": [
              "array([ 0.        , -0.        ,  0.        , -0.        ,  0.        ,\n",
              "        0.        , -0.        , -0.        ,  0.00213946,  0.        ,\n",
              "        0.        ,  0.        ,  0.        , -0.        , -0.        ,\n",
              "        0.        ,  0.        , -0.        ,  0.        ], dtype=float32)"
            ]
          },
          "metadata": {},
          "execution_count": 54
        }
      ]
    },
    {
      "cell_type": "code",
      "source": [
        "importance = np.abs(coefficients)\n",
        "importance"
      ],
      "metadata": {
        "id": "Qaa48PUw8T4V",
        "outputId": "5ccd2065-c33f-4ccd-8115-1157135bc5c5",
        "colab": {
          "base_uri": "https://localhost:8080/"
        }
      },
      "execution_count": 55,
      "outputs": [
        {
          "output_type": "execute_result",
          "data": {
            "text/plain": [
              "array([0.        , 0.        , 0.        , 0.        , 0.        ,\n",
              "       0.        , 0.        , 0.        , 0.00213946, 0.        ,\n",
              "       0.        , 0.        , 0.        , 0.        , 0.        ,\n",
              "       0.        , 0.        , 0.        , 0.        ], dtype=float32)"
            ]
          },
          "metadata": {},
          "execution_count": 55
        }
      ]
    },
    {
      "cell_type": "code",
      "source": [
        "np.array(['Пол', 'Полных лет', 'Образование(0-начальное, 4-высшее)',\n",
        "       'Род занятий(0-0, работает-1', 'Семейное положение(0-0, 1-женат)',\n",
        "       'Удовлетворенность семеными отношениями', 'Здоровье от 1 до 10', 'Были ли нарушения сна', 'ИМТ', 'Операции',\n",
        "       'Удовлетворенность материальным положением','ЧМТ',\n",
        "       'Насл отягощенность', 'Дебют', 'Частота госпит', 'Стаж шизофр', 'P',\n",
        "       'N', 'G'])[importance > 0]\n"
      ],
      "metadata": {
        "id": "Crjl4-ak8VZF",
        "outputId": "837c6ada-0918-44db-ef62-98f25a750255",
        "colab": {
          "base_uri": "https://localhost:8080/"
        }
      },
      "execution_count": 56,
      "outputs": [
        {
          "output_type": "execute_result",
          "data": {
            "text/plain": [
              "array(['ИМТ'], dtype='<U41')"
            ]
          },
          "metadata": {},
          "execution_count": 56
        }
      ]
    },
    {
      "cell_type": "code",
      "source": [
        "np.array(['Пол', 'Полных лет', 'Образование(0-начальное, 4-высшее)',\n",
        "       'Род занятий(0-0, работает-1', 'Семейное положение(0-0, 1-женат)',\n",
        "       'Удовлетворенность семеными отношениями', 'Здоровье от 1 до 10', 'Были ли нарушения сна', 'ИМТ', 'Операции',\n",
        "       'Удовлетворенность материальным положением','ЧМТ',\n",
        "       'Насл отягощенность', 'Дебют', 'Частота госпит', 'Стаж шизофр', 'P',\n",
        "       'N', 'G'])[importance == 0]\n"
      ],
      "metadata": {
        "id": "VpSqwmgK8XI8",
        "outputId": "2a4c37e6-1957-43ed-f9cf-43a0d5a31856",
        "colab": {
          "base_uri": "https://localhost:8080/"
        }
      },
      "execution_count": 57,
      "outputs": [
        {
          "output_type": "execute_result",
          "data": {
            "text/plain": [
              "array(['Пол', 'Полных лет', 'Образование(0-начальное, 4-высшее)',\n",
              "       'Род занятий(0-0, работает-1', 'Семейное положение(0-0, 1-женат)',\n",
              "       'Удовлетворенность семеными отношениями', 'Здоровье от 1 до 10',\n",
              "       'Были ли нарушения сна', 'Операции',\n",
              "       'Удовлетворенность материальным положением', 'ЧМТ',\n",
              "       'Насл отягощенность', 'Дебют', 'Частота госпит', 'Стаж шизофр',\n",
              "       'P', 'N', 'G'], dtype='<U41')"
            ]
          },
          "metadata": {},
          "execution_count": 57
        }
      ]
    },
    {
      "cell_type": "code",
      "source": [
        ""
      ],
      "metadata": {
        "id": "fyb98Ux-9IQl"
      },
      "execution_count": 57,
      "outputs": []
    },
    {
      "cell_type": "code",
      "source": [
        "from sklearn.datasets import load_diabetes\n",
        "\n",
        "load_diabetes()['feature_names']\n"
      ],
      "metadata": {
        "id": "oT2xQzDP8Ktb",
        "outputId": "4412e40c-a34b-4a0d-d932-1f7589ba1a58",
        "colab": {
          "base_uri": "https://localhost:8080/"
        }
      },
      "execution_count": 58,
      "outputs": [
        {
          "output_type": "execute_result",
          "data": {
            "text/plain": [
              "['age', 'sex', 'bmi', 'bp', 's1', 's2', 's3', 's4', 's5', 's6']"
            ]
          },
          "metadata": {},
          "execution_count": 58
        }
      ]
    },
    {
      "cell_type": "code",
      "source": [
        ""
      ],
      "metadata": {
        "id": "tIun2lrs8Kvo"
      },
      "execution_count": 58,
      "outputs": []
    },
    {
      "cell_type": "code",
      "source": [
        ""
      ],
      "metadata": {
        "id": "FVw800PA8Kyb"
      },
      "execution_count": 58,
      "outputs": []
    },
    {
      "cell_type": "code",
      "source": [
        ""
      ],
      "metadata": {
        "id": "qV4qLhq_8K16"
      },
      "execution_count": 58,
      "outputs": []
    },
    {
      "cell_type": "code",
      "source": [
        ""
      ],
      "metadata": {
        "id": "8b-nuu2-8E0_"
      },
      "execution_count": 58,
      "outputs": []
    },
    {
      "cell_type": "code",
      "source": [
        ""
      ],
      "metadata": {
        "id": "nvDEcbsU7y4A"
      },
      "execution_count": 58,
      "outputs": []
    },
    {
      "cell_type": "code",
      "source": [
        ""
      ],
      "metadata": {
        "id": "0KJDyl-A7y6U"
      },
      "execution_count": 58,
      "outputs": []
    },
    {
      "cell_type": "code",
      "source": [
        ""
      ],
      "metadata": {
        "id": "XndBQbwQ7y8e"
      },
      "execution_count": 58,
      "outputs": []
    },
    {
      "cell_type": "code",
      "source": [
        ""
      ],
      "metadata": {
        "id": "It37YfGRBkQf"
      },
      "execution_count": 58,
      "outputs": []
    },
    {
      "cell_type": "code",
      "source": [
        "# Find 3 best predictors witn chi square and ANOVA\n",
        "from sklearn.feature_selection import SelectKBest\n",
        "from sklearn.feature_selection import chi2 # chi^2\n",
        "from sklearn.feature_selection import f_classif # ANOVA\n",
        "\n",
        "X_chi2 = SelectKBest(chi2, k=5).fit_transform(X, y)\n",
        "X_anova = SelectKBest(f_classif, k=5).fit_transform(X, y)"
      ],
      "metadata": {
        "id": "oW3UvZbiNUcI"
      },
      "execution_count": 59,
      "outputs": []
    },
    {
      "cell_type": "markdown",
      "source": [
        "Get the Top Selected Features\n",
        "\n",
        "https://ml2021.medium.com/chi-square-and-anova-feature-selection-for-ml-5e1063ab0991"
      ],
      "metadata": {
        "id": "8aImEuZChXVK"
      }
    },
    {
      "cell_type": "code",
      "source": [
        "f_score = chi2(X, y)\n",
        "f_score\n",
        "# The first array is the F_score , 2nd one is the P_values\n",
        "# the smaller the P value the more significant the difference in the features"
      ],
      "metadata": {
        "colab": {
          "base_uri": "https://localhost:8080/"
        },
        "id": "X3x7wS6Key9P",
        "outputId": "d13336c3-da0a-4407-f05f-0a49b4fc4ccd"
      },
      "execution_count": 60,
      "outputs": [
        {
          "output_type": "execute_result",
          "data": {
            "text/plain": [
              "(array([8.81632874e-01, 3.74369494e-01, 7.66156713e-06, 2.06719560e-01,\n",
              "        1.45127179e-01, 6.05965998e-03, 7.04258205e-01, 2.79589522e+00,\n",
              "        4.99920218e+00, 1.04374187e-02, 1.13012241e+00, 7.47643030e-01,\n",
              "        2.75761783e-01, 5.57276766e-01, 1.48905613e-01, 2.30464656e-05,\n",
              "        1.69809484e+01, 8.69360186e-01, 1.93603187e+01]),\n",
              " array([3.47754838e-01, 5.40632100e-01, 9.97791495e-01, 6.49350820e-01,\n",
              "        7.03236185e-01, 9.37952291e-01, 4.01356564e-01, 9.45059716e-02,\n",
              "        2.53590056e-02, 9.18626751e-01, 2.87749230e-01, 3.87223489e-01,\n",
              "        5.99492646e-01, 4.55359561e-01, 6.99583395e-01, 9.96169631e-01,\n",
              "        3.77567873e-05, 3.51132497e-01, 1.08232811e-05]))"
            ]
          },
          "metadata": {},
          "execution_count": 60
        }
      ]
    },
    {
      "cell_type": "code",
      "source": [
        "pvalues = pd.Series(f_score[1])\n",
        "pvalues.index = X.columns\n",
        "pvalues.sort_values(ascending=True)"
      ],
      "metadata": {
        "colab": {
          "base_uri": "https://localhost:8080/"
        },
        "id": "3Xp3b1pMe9AS",
        "outputId": "e8634d95-e345-4a0d-b492-b68d7e718901"
      },
      "execution_count": 61,
      "outputs": [
        {
          "output_type": "execute_result",
          "data": {
            "text/plain": [
              "G                                            0.000011\n",
              "P                                            0.000038\n",
              "Были ли нарушения сна                        0.025359\n",
              "Здоровье от 1 до 10                          0.094506\n",
              "Операции                                     0.287749\n",
              "Пол                                          0.347755\n",
              "N                                            0.351132\n",
              "ЧМТ                                          0.387223\n",
              "Удовлетворенность материальным положением    0.401357\n",
              "Дебют                                        0.455360\n",
              "Полных лет                                   0.540632\n",
              "Насл отягощенность                           0.599493\n",
              "Род занятий(0-0, работает-1                  0.649351\n",
              "Частота госпит                               0.699583\n",
              "Семейное положение(0-0, 1-женат)             0.703236\n",
              "ИМТ                                          0.918627\n",
              "Удовлетворенность семеными отношениями       0.937952\n",
              "Стаж шизофр                                  0.996170\n",
              "Образование(0-начальное, 4-высшее)           0.997791\n",
              "dtype: float64"
            ]
          },
          "metadata": {},
          "execution_count": 61
        }
      ]
    },
    {
      "cell_type": "code",
      "source": [
        "# Now use the SelectKBest Model with the chi2 classifier to find the best features\n",
        "\n",
        "sel_ = SelectKBest(chi2, k=5).fit(X, y)\n",
        "X.columns[sel_.get_support()]"
      ],
      "metadata": {
        "colab": {
          "base_uri": "https://localhost:8080/"
        },
        "id": "pelM22yef1sD",
        "outputId": "d952b2ee-7295-44dd-da97-328a4fb1fbd4"
      },
      "execution_count": 62,
      "outputs": [
        {
          "output_type": "execute_result",
          "data": {
            "text/plain": [
              "Index(['Здоровье от 1 до 10', 'Были ли нарушения сна', 'Операции', 'P', 'G'], dtype='object')"
            ]
          },
          "metadata": {},
          "execution_count": 62
        }
      ]
    },
    {
      "cell_type": "code",
      "source": [
        ""
      ],
      "metadata": {
        "id": "tra8Cu0Af292"
      },
      "execution_count": 62,
      "outputs": []
    },
    {
      "cell_type": "code",
      "source": [
        ""
      ],
      "metadata": {
        "id": "4TvTeApRfKkw"
      },
      "execution_count": 62,
      "outputs": []
    },
    {
      "cell_type": "code",
      "source": [
        "ds.head(20)"
      ],
      "metadata": {
        "colab": {
          "base_uri": "https://localhost:8080/",
          "height": 822
        },
        "id": "QVqfCfsgQHwV",
        "outputId": "90543940-4d94-4648-d074-31ea43d5a0a9"
      },
      "execution_count": 63,
      "outputs": [
        {
          "output_type": "execute_result",
          "data": {
            "text/plain": [
              "    Пол  Полных лет  Образование(0-начальное, 4-высшее)  \\\n",
              "0   1.0        32.0                                 4.0   \n",
              "1   1.0        26.0                                 2.0   \n",
              "2   1.0        49.0                                 2.0   \n",
              "3   1.0        50.0                                 2.0   \n",
              "4   1.0        39.0                                 2.0   \n",
              "5   1.0        26.0                                 2.0   \n",
              "6   1.0        35.0                                 3.0   \n",
              "7   1.0        31.0                                 3.0   \n",
              "8   1.0        23.0                                 2.0   \n",
              "9   1.0        37.0                                 3.0   \n",
              "10  1.0        39.0                                 3.0   \n",
              "11  1.0        29.0                                 1.0   \n",
              "12  1.0        36.0                                 4.0   \n",
              "13  1.0        33.0                                 3.0   \n",
              "14  1.0        24.0                                 2.0   \n",
              "15  1.0        54.0                                 4.0   \n",
              "16  1.0        32.0                                 2.0   \n",
              "17  1.0        29.0                                 2.0   \n",
              "18  1.0        49.0                                 2.0   \n",
              "19  1.0        34.0                                 2.0   \n",
              "\n",
              "    Род занятий(0-0, работает-1  Семейное положение(0-0, 1-женат)  \\\n",
              "0                           0.0                               0.0   \n",
              "1                           0.0                               0.0   \n",
              "2                           0.0                               0.0   \n",
              "3                           0.0                               0.0   \n",
              "4                           0.0                               0.0   \n",
              "5                           1.0                               1.0   \n",
              "6                           0.0                               0.0   \n",
              "7                           0.0                               0.0   \n",
              "8                           0.0                               0.0   \n",
              "9                           1.0                               0.0   \n",
              "10                          1.0                               0.0   \n",
              "11                          0.0                               0.0   \n",
              "12                          0.0                               0.0   \n",
              "13                          1.0                               1.0   \n",
              "14                          1.0                               0.0   \n",
              "15                          0.0                               0.0   \n",
              "16                          0.0                               0.0   \n",
              "17                          0.0                               0.0   \n",
              "18                          0.0                               0.0   \n",
              "19                          1.0                               0.0   \n",
              "\n",
              "    Удовлетворенность семеными отношениями  \\\n",
              "0                                      5.0   \n",
              "1                                      5.0   \n",
              "2                                      5.0   \n",
              "3                                      5.0   \n",
              "4                                      5.0   \n",
              "5                                      5.0   \n",
              "6                                      5.0   \n",
              "7                                      1.0   \n",
              "8                                      4.0   \n",
              "9                                      5.0   \n",
              "10                                     1.0   \n",
              "11                                     5.0   \n",
              "12                                     1.0   \n",
              "13                                     5.0   \n",
              "14                                     5.0   \n",
              "15                                     2.0   \n",
              "16                                     5.0   \n",
              "17                                     4.0   \n",
              "18                                     4.0   \n",
              "19                                     4.0   \n",
              "\n",
              "    Удовлетворенность материальным положением  Здоровье от 1 до 10  \\\n",
              "0                                         0.0                  7.0   \n",
              "1                                         0.0                 10.0   \n",
              "2                                         1.0                 10.0   \n",
              "3                                         1.0                  7.0   \n",
              "4                                         1.0                  7.0   \n",
              "5                                         1.0                 10.0   \n",
              "6                                         1.0                  5.0   \n",
              "7                                         0.0                  3.0   \n",
              "8                                         1.0                  7.0   \n",
              "9                                         0.0                  7.0   \n",
              "10                                        0.0                  1.0   \n",
              "11                                        1.0                 10.0   \n",
              "12                                        0.0                  7.0   \n",
              "13                                        1.0                 10.0   \n",
              "14                                        1.0                  5.0   \n",
              "15                                        0.0                  5.0   \n",
              "16                                        1.0                  9.0   \n",
              "17                                        1.0                 10.0   \n",
              "18                                        0.0                 10.0   \n",
              "19                                        0.0                 10.0   \n",
              "\n",
              "    Были ли нарушения сна        ИМТ  ...  Частота госпит  Стаж шизофр     P  \\\n",
              "0                     1.0  24.012346  ...             0.0         3.70  11.0   \n",
              "1                     1.0  20.244898  ...             1.0         2.00  10.0   \n",
              "2                     0.0  29.752745  ...             2.0        23.00   9.0   \n",
              "3                     1.0  22.093170  ...             1.0        34.00  13.0   \n",
              "4                     0.0  20.761246  ...             0.0         4.00   9.0   \n",
              "5                     1.0  25.737082  ...             2.0         1.00   7.0   \n",
              "6                     0.0  23.547880  ...             2.0        12.20  14.0   \n",
              "7                     1.0  26.128611  ...             1.0         9.00   7.0   \n",
              "8                     0.0  18.812147  ...             0.0         5.67  15.0   \n",
              "9                     0.0  20.761246  ...             2.0        11.00  18.0   \n",
              "10                    1.0  23.148148  ...             2.0        16.00  19.0   \n",
              "11                    1.0  25.661152  ...             2.0        16.00  15.0   \n",
              "12                    1.0  29.407787  ...             2.0        15.00  11.0   \n",
              "13                    1.0  26.827421  ...             0.0        13.00   9.0   \n",
              "14                    1.0  25.390625  ...             0.0         8.00  12.0   \n",
              "15                    0.0  29.411764  ...             2.0        19.00  14.0   \n",
              "16                    0.0  22.724403  ...             2.0        17.00   8.0   \n",
              "17                    0.0  21.877550  ...             2.0        11.00   8.0   \n",
              "18                    0.0  24.092970  ...             2.0        20.00   7.0   \n",
              "19                    1.0  22.386314  ...             2.0        17.00  13.0   \n",
              "\n",
              "       N     G  PSQI  psqi больше 5  (ТРЕВОГА)Гаиильтон больше 16  \\\n",
              "0   11.0  18.0   6.0            1.0                           0.0   \n",
              "1   25.0  36.0   8.0            1.0                           0.0   \n",
              "2   16.0  23.0   3.0            0.0                           0.0   \n",
              "3   13.0  20.0   6.0            1.0                           0.0   \n",
              "4   13.0  22.0   4.0            0.0                           0.0   \n",
              "5    9.0  21.0   1.0            0.0                           0.0   \n",
              "6   20.0  40.0   8.0            1.0                           1.0   \n",
              "7    7.0  16.0   6.0            1.0                           0.0   \n",
              "8   11.0  28.0   8.0            1.0                           0.0   \n",
              "9    7.0  22.0   7.0            1.0                           0.0   \n",
              "10  13.0  41.0  11.0            1.0                           1.0   \n",
              "11   9.0  26.0   8.0            1.0                           0.0   \n",
              "12  19.0  48.0  10.0            1.0                           1.0   \n",
              "13   7.0  25.0  10.0            1.0                           0.0   \n",
              "14  11.0  23.0   7.0            1.0                           1.0   \n",
              "15  11.0  31.0   5.0            0.0                           0.0   \n",
              "16   9.0  22.0   3.0            0.0                           0.0   \n",
              "17   9.0  24.0   4.0            0.0                           0.0   \n",
              "18   7.0  18.0   2.0            0.0                           0.0   \n",
              "19  12.0  28.0   8.0            1.0                           0.0   \n",
              "\n",
              "    (ДЕПРЕССИЯ)madrs больше 6  (ДЕПРЕССИЯ)Калгари больше 5  \n",
              "0                         0.0                          0.0  \n",
              "1                         1.0                          1.0  \n",
              "2                         0.0                          0.0  \n",
              "3                         0.0                          0.0  \n",
              "4                         0.0                          0.0  \n",
              "5                         0.0                          0.0  \n",
              "6                         1.0                          0.0  \n",
              "7                         0.0                          0.0  \n",
              "8                         0.0                          0.0  \n",
              "9                         0.0                          0.0  \n",
              "10                        1.0                          1.0  \n",
              "11                        0.0                          0.0  \n",
              "12                        1.0                          1.0  \n",
              "13                        1.0                          0.0  \n",
              "14                        1.0                          1.0  \n",
              "15                        0.0                          0.0  \n",
              "16                        0.0                          0.0  \n",
              "17                        0.0                          0.0  \n",
              "18                        0.0                          0.0  \n",
              "19                        1.0                          1.0  \n",
              "\n",
              "[20 rows x 24 columns]"
            ],
            "text/html": [
              "\n",
              "  <div id=\"df-52f5eb7b-010d-43fc-b63b-298c29a42f67\">\n",
              "    <div class=\"colab-df-container\">\n",
              "      <div>\n",
              "<style scoped>\n",
              "    .dataframe tbody tr th:only-of-type {\n",
              "        vertical-align: middle;\n",
              "    }\n",
              "\n",
              "    .dataframe tbody tr th {\n",
              "        vertical-align: top;\n",
              "    }\n",
              "\n",
              "    .dataframe thead th {\n",
              "        text-align: right;\n",
              "    }\n",
              "</style>\n",
              "<table border=\"1\" class=\"dataframe\">\n",
              "  <thead>\n",
              "    <tr style=\"text-align: right;\">\n",
              "      <th></th>\n",
              "      <th>Пол</th>\n",
              "      <th>Полных лет</th>\n",
              "      <th>Образование(0-начальное, 4-высшее)</th>\n",
              "      <th>Род занятий(0-0, работает-1</th>\n",
              "      <th>Семейное положение(0-0, 1-женат)</th>\n",
              "      <th>Удовлетворенность семеными отношениями</th>\n",
              "      <th>Удовлетворенность материальным положением</th>\n",
              "      <th>Здоровье от 1 до 10</th>\n",
              "      <th>Были ли нарушения сна</th>\n",
              "      <th>ИМТ</th>\n",
              "      <th>...</th>\n",
              "      <th>Частота госпит</th>\n",
              "      <th>Стаж шизофр</th>\n",
              "      <th>P</th>\n",
              "      <th>N</th>\n",
              "      <th>G</th>\n",
              "      <th>PSQI</th>\n",
              "      <th>psqi больше 5</th>\n",
              "      <th>(ТРЕВОГА)Гаиильтон больше 16</th>\n",
              "      <th>(ДЕПРЕССИЯ)madrs больше 6</th>\n",
              "      <th>(ДЕПРЕССИЯ)Калгари больше 5</th>\n",
              "    </tr>\n",
              "  </thead>\n",
              "  <tbody>\n",
              "    <tr>\n",
              "      <th>0</th>\n",
              "      <td>1.0</td>\n",
              "      <td>32.0</td>\n",
              "      <td>4.0</td>\n",
              "      <td>0.0</td>\n",
              "      <td>0.0</td>\n",
              "      <td>5.0</td>\n",
              "      <td>0.0</td>\n",
              "      <td>7.0</td>\n",
              "      <td>1.0</td>\n",
              "      <td>24.012346</td>\n",
              "      <td>...</td>\n",
              "      <td>0.0</td>\n",
              "      <td>3.70</td>\n",
              "      <td>11.0</td>\n",
              "      <td>11.0</td>\n",
              "      <td>18.0</td>\n",
              "      <td>6.0</td>\n",
              "      <td>1.0</td>\n",
              "      <td>0.0</td>\n",
              "      <td>0.0</td>\n",
              "      <td>0.0</td>\n",
              "    </tr>\n",
              "    <tr>\n",
              "      <th>1</th>\n",
              "      <td>1.0</td>\n",
              "      <td>26.0</td>\n",
              "      <td>2.0</td>\n",
              "      <td>0.0</td>\n",
              "      <td>0.0</td>\n",
              "      <td>5.0</td>\n",
              "      <td>0.0</td>\n",
              "      <td>10.0</td>\n",
              "      <td>1.0</td>\n",
              "      <td>20.244898</td>\n",
              "      <td>...</td>\n",
              "      <td>1.0</td>\n",
              "      <td>2.00</td>\n",
              "      <td>10.0</td>\n",
              "      <td>25.0</td>\n",
              "      <td>36.0</td>\n",
              "      <td>8.0</td>\n",
              "      <td>1.0</td>\n",
              "      <td>0.0</td>\n",
              "      <td>1.0</td>\n",
              "      <td>1.0</td>\n",
              "    </tr>\n",
              "    <tr>\n",
              "      <th>2</th>\n",
              "      <td>1.0</td>\n",
              "      <td>49.0</td>\n",
              "      <td>2.0</td>\n",
              "      <td>0.0</td>\n",
              "      <td>0.0</td>\n",
              "      <td>5.0</td>\n",
              "      <td>1.0</td>\n",
              "      <td>10.0</td>\n",
              "      <td>0.0</td>\n",
              "      <td>29.752745</td>\n",
              "      <td>...</td>\n",
              "      <td>2.0</td>\n",
              "      <td>23.00</td>\n",
              "      <td>9.0</td>\n",
              "      <td>16.0</td>\n",
              "      <td>23.0</td>\n",
              "      <td>3.0</td>\n",
              "      <td>0.0</td>\n",
              "      <td>0.0</td>\n",
              "      <td>0.0</td>\n",
              "      <td>0.0</td>\n",
              "    </tr>\n",
              "    <tr>\n",
              "      <th>3</th>\n",
              "      <td>1.0</td>\n",
              "      <td>50.0</td>\n",
              "      <td>2.0</td>\n",
              "      <td>0.0</td>\n",
              "      <td>0.0</td>\n",
              "      <td>5.0</td>\n",
              "      <td>1.0</td>\n",
              "      <td>7.0</td>\n",
              "      <td>1.0</td>\n",
              "      <td>22.093170</td>\n",
              "      <td>...</td>\n",
              "      <td>1.0</td>\n",
              "      <td>34.00</td>\n",
              "      <td>13.0</td>\n",
              "      <td>13.0</td>\n",
              "      <td>20.0</td>\n",
              "      <td>6.0</td>\n",
              "      <td>1.0</td>\n",
              "      <td>0.0</td>\n",
              "      <td>0.0</td>\n",
              "      <td>0.0</td>\n",
              "    </tr>\n",
              "    <tr>\n",
              "      <th>4</th>\n",
              "      <td>1.0</td>\n",
              "      <td>39.0</td>\n",
              "      <td>2.0</td>\n",
              "      <td>0.0</td>\n",
              "      <td>0.0</td>\n",
              "      <td>5.0</td>\n",
              "      <td>1.0</td>\n",
              "      <td>7.0</td>\n",
              "      <td>0.0</td>\n",
              "      <td>20.761246</td>\n",
              "      <td>...</td>\n",
              "      <td>0.0</td>\n",
              "      <td>4.00</td>\n",
              "      <td>9.0</td>\n",
              "      <td>13.0</td>\n",
              "      <td>22.0</td>\n",
              "      <td>4.0</td>\n",
              "      <td>0.0</td>\n",
              "      <td>0.0</td>\n",
              "      <td>0.0</td>\n",
              "      <td>0.0</td>\n",
              "    </tr>\n",
              "    <tr>\n",
              "      <th>5</th>\n",
              "      <td>1.0</td>\n",
              "      <td>26.0</td>\n",
              "      <td>2.0</td>\n",
              "      <td>1.0</td>\n",
              "      <td>1.0</td>\n",
              "      <td>5.0</td>\n",
              "      <td>1.0</td>\n",
              "      <td>10.0</td>\n",
              "      <td>1.0</td>\n",
              "      <td>25.737082</td>\n",
              "      <td>...</td>\n",
              "      <td>2.0</td>\n",
              "      <td>1.00</td>\n",
              "      <td>7.0</td>\n",
              "      <td>9.0</td>\n",
              "      <td>21.0</td>\n",
              "      <td>1.0</td>\n",
              "      <td>0.0</td>\n",
              "      <td>0.0</td>\n",
              "      <td>0.0</td>\n",
              "      <td>0.0</td>\n",
              "    </tr>\n",
              "    <tr>\n",
              "      <th>6</th>\n",
              "      <td>1.0</td>\n",
              "      <td>35.0</td>\n",
              "      <td>3.0</td>\n",
              "      <td>0.0</td>\n",
              "      <td>0.0</td>\n",
              "      <td>5.0</td>\n",
              "      <td>1.0</td>\n",
              "      <td>5.0</td>\n",
              "      <td>0.0</td>\n",
              "      <td>23.547880</td>\n",
              "      <td>...</td>\n",
              "      <td>2.0</td>\n",
              "      <td>12.20</td>\n",
              "      <td>14.0</td>\n",
              "      <td>20.0</td>\n",
              "      <td>40.0</td>\n",
              "      <td>8.0</td>\n",
              "      <td>1.0</td>\n",
              "      <td>1.0</td>\n",
              "      <td>1.0</td>\n",
              "      <td>0.0</td>\n",
              "    </tr>\n",
              "    <tr>\n",
              "      <th>7</th>\n",
              "      <td>1.0</td>\n",
              "      <td>31.0</td>\n",
              "      <td>3.0</td>\n",
              "      <td>0.0</td>\n",
              "      <td>0.0</td>\n",
              "      <td>1.0</td>\n",
              "      <td>0.0</td>\n",
              "      <td>3.0</td>\n",
              "      <td>1.0</td>\n",
              "      <td>26.128611</td>\n",
              "      <td>...</td>\n",
              "      <td>1.0</td>\n",
              "      <td>9.00</td>\n",
              "      <td>7.0</td>\n",
              "      <td>7.0</td>\n",
              "      <td>16.0</td>\n",
              "      <td>6.0</td>\n",
              "      <td>1.0</td>\n",
              "      <td>0.0</td>\n",
              "      <td>0.0</td>\n",
              "      <td>0.0</td>\n",
              "    </tr>\n",
              "    <tr>\n",
              "      <th>8</th>\n",
              "      <td>1.0</td>\n",
              "      <td>23.0</td>\n",
              "      <td>2.0</td>\n",
              "      <td>0.0</td>\n",
              "      <td>0.0</td>\n",
              "      <td>4.0</td>\n",
              "      <td>1.0</td>\n",
              "      <td>7.0</td>\n",
              "      <td>0.0</td>\n",
              "      <td>18.812147</td>\n",
              "      <td>...</td>\n",
              "      <td>0.0</td>\n",
              "      <td>5.67</td>\n",
              "      <td>15.0</td>\n",
              "      <td>11.0</td>\n",
              "      <td>28.0</td>\n",
              "      <td>8.0</td>\n",
              "      <td>1.0</td>\n",
              "      <td>0.0</td>\n",
              "      <td>0.0</td>\n",
              "      <td>0.0</td>\n",
              "    </tr>\n",
              "    <tr>\n",
              "      <th>9</th>\n",
              "      <td>1.0</td>\n",
              "      <td>37.0</td>\n",
              "      <td>3.0</td>\n",
              "      <td>1.0</td>\n",
              "      <td>0.0</td>\n",
              "      <td>5.0</td>\n",
              "      <td>0.0</td>\n",
              "      <td>7.0</td>\n",
              "      <td>0.0</td>\n",
              "      <td>20.761246</td>\n",
              "      <td>...</td>\n",
              "      <td>2.0</td>\n",
              "      <td>11.00</td>\n",
              "      <td>18.0</td>\n",
              "      <td>7.0</td>\n",
              "      <td>22.0</td>\n",
              "      <td>7.0</td>\n",
              "      <td>1.0</td>\n",
              "      <td>0.0</td>\n",
              "      <td>0.0</td>\n",
              "      <td>0.0</td>\n",
              "    </tr>\n",
              "    <tr>\n",
              "      <th>10</th>\n",
              "      <td>1.0</td>\n",
              "      <td>39.0</td>\n",
              "      <td>3.0</td>\n",
              "      <td>1.0</td>\n",
              "      <td>0.0</td>\n",
              "      <td>1.0</td>\n",
              "      <td>0.0</td>\n",
              "      <td>1.0</td>\n",
              "      <td>1.0</td>\n",
              "      <td>23.148148</td>\n",
              "      <td>...</td>\n",
              "      <td>2.0</td>\n",
              "      <td>16.00</td>\n",
              "      <td>19.0</td>\n",
              "      <td>13.0</td>\n",
              "      <td>41.0</td>\n",
              "      <td>11.0</td>\n",
              "      <td>1.0</td>\n",
              "      <td>1.0</td>\n",
              "      <td>1.0</td>\n",
              "      <td>1.0</td>\n",
              "    </tr>\n",
              "    <tr>\n",
              "      <th>11</th>\n",
              "      <td>1.0</td>\n",
              "      <td>29.0</td>\n",
              "      <td>1.0</td>\n",
              "      <td>0.0</td>\n",
              "      <td>0.0</td>\n",
              "      <td>5.0</td>\n",
              "      <td>1.0</td>\n",
              "      <td>10.0</td>\n",
              "      <td>1.0</td>\n",
              "      <td>25.661152</td>\n",
              "      <td>...</td>\n",
              "      <td>2.0</td>\n",
              "      <td>16.00</td>\n",
              "      <td>15.0</td>\n",
              "      <td>9.0</td>\n",
              "      <td>26.0</td>\n",
              "      <td>8.0</td>\n",
              "      <td>1.0</td>\n",
              "      <td>0.0</td>\n",
              "      <td>0.0</td>\n",
              "      <td>0.0</td>\n",
              "    </tr>\n",
              "    <tr>\n",
              "      <th>12</th>\n",
              "      <td>1.0</td>\n",
              "      <td>36.0</td>\n",
              "      <td>4.0</td>\n",
              "      <td>0.0</td>\n",
              "      <td>0.0</td>\n",
              "      <td>1.0</td>\n",
              "      <td>0.0</td>\n",
              "      <td>7.0</td>\n",
              "      <td>1.0</td>\n",
              "      <td>29.407787</td>\n",
              "      <td>...</td>\n",
              "      <td>2.0</td>\n",
              "      <td>15.00</td>\n",
              "      <td>11.0</td>\n",
              "      <td>19.0</td>\n",
              "      <td>48.0</td>\n",
              "      <td>10.0</td>\n",
              "      <td>1.0</td>\n",
              "      <td>1.0</td>\n",
              "      <td>1.0</td>\n",
              "      <td>1.0</td>\n",
              "    </tr>\n",
              "    <tr>\n",
              "      <th>13</th>\n",
              "      <td>1.0</td>\n",
              "      <td>33.0</td>\n",
              "      <td>3.0</td>\n",
              "      <td>1.0</td>\n",
              "      <td>1.0</td>\n",
              "      <td>5.0</td>\n",
              "      <td>1.0</td>\n",
              "      <td>10.0</td>\n",
              "      <td>1.0</td>\n",
              "      <td>26.827421</td>\n",
              "      <td>...</td>\n",
              "      <td>0.0</td>\n",
              "      <td>13.00</td>\n",
              "      <td>9.0</td>\n",
              "      <td>7.0</td>\n",
              "      <td>25.0</td>\n",
              "      <td>10.0</td>\n",
              "      <td>1.0</td>\n",
              "      <td>0.0</td>\n",
              "      <td>1.0</td>\n",
              "      <td>0.0</td>\n",
              "    </tr>\n",
              "    <tr>\n",
              "      <th>14</th>\n",
              "      <td>1.0</td>\n",
              "      <td>24.0</td>\n",
              "      <td>2.0</td>\n",
              "      <td>1.0</td>\n",
              "      <td>0.0</td>\n",
              "      <td>5.0</td>\n",
              "      <td>1.0</td>\n",
              "      <td>5.0</td>\n",
              "      <td>1.0</td>\n",
              "      <td>25.390625</td>\n",
              "      <td>...</td>\n",
              "      <td>0.0</td>\n",
              "      <td>8.00</td>\n",
              "      <td>12.0</td>\n",
              "      <td>11.0</td>\n",
              "      <td>23.0</td>\n",
              "      <td>7.0</td>\n",
              "      <td>1.0</td>\n",
              "      <td>1.0</td>\n",
              "      <td>1.0</td>\n",
              "      <td>1.0</td>\n",
              "    </tr>\n",
              "    <tr>\n",
              "      <th>15</th>\n",
              "      <td>1.0</td>\n",
              "      <td>54.0</td>\n",
              "      <td>4.0</td>\n",
              "      <td>0.0</td>\n",
              "      <td>0.0</td>\n",
              "      <td>2.0</td>\n",
              "      <td>0.0</td>\n",
              "      <td>5.0</td>\n",
              "      <td>0.0</td>\n",
              "      <td>29.411764</td>\n",
              "      <td>...</td>\n",
              "      <td>2.0</td>\n",
              "      <td>19.00</td>\n",
              "      <td>14.0</td>\n",
              "      <td>11.0</td>\n",
              "      <td>31.0</td>\n",
              "      <td>5.0</td>\n",
              "      <td>0.0</td>\n",
              "      <td>0.0</td>\n",
              "      <td>0.0</td>\n",
              "      <td>0.0</td>\n",
              "    </tr>\n",
              "    <tr>\n",
              "      <th>16</th>\n",
              "      <td>1.0</td>\n",
              "      <td>32.0</td>\n",
              "      <td>2.0</td>\n",
              "      <td>0.0</td>\n",
              "      <td>0.0</td>\n",
              "      <td>5.0</td>\n",
              "      <td>1.0</td>\n",
              "      <td>9.0</td>\n",
              "      <td>0.0</td>\n",
              "      <td>22.724403</td>\n",
              "      <td>...</td>\n",
              "      <td>2.0</td>\n",
              "      <td>17.00</td>\n",
              "      <td>8.0</td>\n",
              "      <td>9.0</td>\n",
              "      <td>22.0</td>\n",
              "      <td>3.0</td>\n",
              "      <td>0.0</td>\n",
              "      <td>0.0</td>\n",
              "      <td>0.0</td>\n",
              "      <td>0.0</td>\n",
              "    </tr>\n",
              "    <tr>\n",
              "      <th>17</th>\n",
              "      <td>1.0</td>\n",
              "      <td>29.0</td>\n",
              "      <td>2.0</td>\n",
              "      <td>0.0</td>\n",
              "      <td>0.0</td>\n",
              "      <td>4.0</td>\n",
              "      <td>1.0</td>\n",
              "      <td>10.0</td>\n",
              "      <td>0.0</td>\n",
              "      <td>21.877550</td>\n",
              "      <td>...</td>\n",
              "      <td>2.0</td>\n",
              "      <td>11.00</td>\n",
              "      <td>8.0</td>\n",
              "      <td>9.0</td>\n",
              "      <td>24.0</td>\n",
              "      <td>4.0</td>\n",
              "      <td>0.0</td>\n",
              "      <td>0.0</td>\n",
              "      <td>0.0</td>\n",
              "      <td>0.0</td>\n",
              "    </tr>\n",
              "    <tr>\n",
              "      <th>18</th>\n",
              "      <td>1.0</td>\n",
              "      <td>49.0</td>\n",
              "      <td>2.0</td>\n",
              "      <td>0.0</td>\n",
              "      <td>0.0</td>\n",
              "      <td>4.0</td>\n",
              "      <td>0.0</td>\n",
              "      <td>10.0</td>\n",
              "      <td>0.0</td>\n",
              "      <td>24.092970</td>\n",
              "      <td>...</td>\n",
              "      <td>2.0</td>\n",
              "      <td>20.00</td>\n",
              "      <td>7.0</td>\n",
              "      <td>7.0</td>\n",
              "      <td>18.0</td>\n",
              "      <td>2.0</td>\n",
              "      <td>0.0</td>\n",
              "      <td>0.0</td>\n",
              "      <td>0.0</td>\n",
              "      <td>0.0</td>\n",
              "    </tr>\n",
              "    <tr>\n",
              "      <th>19</th>\n",
              "      <td>1.0</td>\n",
              "      <td>34.0</td>\n",
              "      <td>2.0</td>\n",
              "      <td>1.0</td>\n",
              "      <td>0.0</td>\n",
              "      <td>4.0</td>\n",
              "      <td>0.0</td>\n",
              "      <td>10.0</td>\n",
              "      <td>1.0</td>\n",
              "      <td>22.386314</td>\n",
              "      <td>...</td>\n",
              "      <td>2.0</td>\n",
              "      <td>17.00</td>\n",
              "      <td>13.0</td>\n",
              "      <td>12.0</td>\n",
              "      <td>28.0</td>\n",
              "      <td>8.0</td>\n",
              "      <td>1.0</td>\n",
              "      <td>0.0</td>\n",
              "      <td>1.0</td>\n",
              "      <td>1.0</td>\n",
              "    </tr>\n",
              "  </tbody>\n",
              "</table>\n",
              "<p>20 rows × 24 columns</p>\n",
              "</div>\n",
              "      <button class=\"colab-df-convert\" onclick=\"convertToInteractive('df-52f5eb7b-010d-43fc-b63b-298c29a42f67')\"\n",
              "              title=\"Convert this dataframe to an interactive table.\"\n",
              "              style=\"display:none;\">\n",
              "        \n",
              "  <svg xmlns=\"http://www.w3.org/2000/svg\" height=\"24px\"viewBox=\"0 0 24 24\"\n",
              "       width=\"24px\">\n",
              "    <path d=\"M0 0h24v24H0V0z\" fill=\"none\"/>\n",
              "    <path d=\"M18.56 5.44l.94 2.06.94-2.06 2.06-.94-2.06-.94-.94-2.06-.94 2.06-2.06.94zm-11 1L8.5 8.5l.94-2.06 2.06-.94-2.06-.94L8.5 2.5l-.94 2.06-2.06.94zm10 10l.94 2.06.94-2.06 2.06-.94-2.06-.94-.94-2.06-.94 2.06-2.06.94z\"/><path d=\"M17.41 7.96l-1.37-1.37c-.4-.4-.92-.59-1.43-.59-.52 0-1.04.2-1.43.59L10.3 9.45l-7.72 7.72c-.78.78-.78 2.05 0 2.83L4 21.41c.39.39.9.59 1.41.59.51 0 1.02-.2 1.41-.59l7.78-7.78 2.81-2.81c.8-.78.8-2.07 0-2.86zM5.41 20L4 18.59l7.72-7.72 1.47 1.35L5.41 20z\"/>\n",
              "  </svg>\n",
              "      </button>\n",
              "      \n",
              "  <style>\n",
              "    .colab-df-container {\n",
              "      display:flex;\n",
              "      flex-wrap:wrap;\n",
              "      gap: 12px;\n",
              "    }\n",
              "\n",
              "    .colab-df-convert {\n",
              "      background-color: #E8F0FE;\n",
              "      border: none;\n",
              "      border-radius: 50%;\n",
              "      cursor: pointer;\n",
              "      display: none;\n",
              "      fill: #1967D2;\n",
              "      height: 32px;\n",
              "      padding: 0 0 0 0;\n",
              "      width: 32px;\n",
              "    }\n",
              "\n",
              "    .colab-df-convert:hover {\n",
              "      background-color: #E2EBFA;\n",
              "      box-shadow: 0px 1px 2px rgba(60, 64, 67, 0.3), 0px 1px 3px 1px rgba(60, 64, 67, 0.15);\n",
              "      fill: #174EA6;\n",
              "    }\n",
              "\n",
              "    [theme=dark] .colab-df-convert {\n",
              "      background-color: #3B4455;\n",
              "      fill: #D2E3FC;\n",
              "    }\n",
              "\n",
              "    [theme=dark] .colab-df-convert:hover {\n",
              "      background-color: #434B5C;\n",
              "      box-shadow: 0px 1px 3px 1px rgba(0, 0, 0, 0.15);\n",
              "      filter: drop-shadow(0px 1px 2px rgba(0, 0, 0, 0.3));\n",
              "      fill: #FFFFFF;\n",
              "    }\n",
              "  </style>\n",
              "\n",
              "      <script>\n",
              "        const buttonEl =\n",
              "          document.querySelector('#df-52f5eb7b-010d-43fc-b63b-298c29a42f67 button.colab-df-convert');\n",
              "        buttonEl.style.display =\n",
              "          google.colab.kernel.accessAllowed ? 'block' : 'none';\n",
              "\n",
              "        async function convertToInteractive(key) {\n",
              "          const element = document.querySelector('#df-52f5eb7b-010d-43fc-b63b-298c29a42f67');\n",
              "          const dataTable =\n",
              "            await google.colab.kernel.invokeFunction('convertToInteractive',\n",
              "                                                     [key], {});\n",
              "          if (!dataTable) return;\n",
              "\n",
              "          const docLinkHtml = 'Like what you see? Visit the ' +\n",
              "            '<a target=\"_blank\" href=https://colab.research.google.com/notebooks/data_table.ipynb>data table notebook</a>'\n",
              "            + ' to learn more about interactive tables.';\n",
              "          element.innerHTML = '';\n",
              "          dataTable['output_type'] = 'display_data';\n",
              "          await google.colab.output.renderOutput(dataTable, element);\n",
              "          const docLink = document.createElement('div');\n",
              "          docLink.innerHTML = docLinkHtml;\n",
              "          element.appendChild(docLink);\n",
              "        }\n",
              "      </script>\n",
              "    </div>\n",
              "  </div>\n",
              "  "
            ]
          },
          "metadata": {},
          "execution_count": 63
        }
      ]
    },
    {
      "cell_type": "code",
      "source": [
        "X_chi2 # TOP 3 - ИМТ, P, G. TOP 5 - Были ли нарушения сна, забол кожи и топ3"
      ],
      "metadata": {
        "id": "RKzIBlkeNe7M",
        "colab": {
          "base_uri": "https://localhost:8080/"
        },
        "outputId": "9b74bc65-040f-4e80-b0b2-7e58e4035def"
      },
      "execution_count": 64,
      "outputs": [
        {
          "output_type": "execute_result",
          "data": {
            "text/plain": [
              "array([[ 7.,  1.,  0., 11., 18.],\n",
              "       [10.,  1.,  0., 10., 36.],\n",
              "       [10.,  0.,  0.,  9., 23.],\n",
              "       [ 7.,  1.,  1., 13., 20.],\n",
              "       [ 7.,  0.,  1.,  9., 22.],\n",
              "       [10.,  1.,  0.,  7., 21.],\n",
              "       [ 5.,  0.,  1., 14., 40.],\n",
              "       [ 3.,  1.,  0.,  7., 16.],\n",
              "       [ 7.,  0.,  1., 15., 28.],\n",
              "       [ 7.,  0.,  0., 18., 22.],\n",
              "       [ 1.,  1.,  1., 19., 41.],\n",
              "       [10.,  1.,  0., 15., 26.],\n",
              "       [ 7.,  1.,  1., 11., 48.],\n",
              "       [10.,  1.,  1.,  9., 25.],\n",
              "       [ 5.,  1.,  1., 12., 23.],\n",
              "       [ 5.,  0.,  0., 14., 31.],\n",
              "       [ 9.,  0.,  0.,  8., 22.],\n",
              "       [10.,  0.,  1.,  8., 24.],\n",
              "       [10.,  0.,  1.,  7., 18.],\n",
              "       [10.,  1.,  1., 13., 28.],\n",
              "       [ 9.,  1.,  0.,  8., 20.],\n",
              "       [10.,  0.,  0.,  7., 16.],\n",
              "       [ 4.,  1.,  1.,  8., 22.],\n",
              "       [10.,  0.,  0.,  8., 25.],\n",
              "       [ 5.,  1.,  0., 22., 37.],\n",
              "       [ 7.,  1.,  0., 11., 35.],\n",
              "       [ 7.,  0.,  0., 15., 31.],\n",
              "       [ 7.,  1.,  1., 13., 23.],\n",
              "       [ 9.,  1.,  1., 13., 30.],\n",
              "       [ 9.,  1.,  1., 10., 25.],\n",
              "       [ 9.,  0.,  1., 11., 18.],\n",
              "       [ 5.,  0.,  1., 13., 24.],\n",
              "       [ 2.,  0.,  0., 10., 31.],\n",
              "       [ 9.,  0.,  1., 13., 27.],\n",
              "       [10.,  1.,  1., 14., 27.],\n",
              "       [ 8.,  1.,  1.,  8., 28.],\n",
              "       [ 8.,  1.,  1., 12., 23.],\n",
              "       [ 7.,  1.,  1., 10., 29.],\n",
              "       [ 1.,  0.,  0., 22., 43.],\n",
              "       [ 7.,  1.,  1., 18., 33.],\n",
              "       [ 9.,  1.,  0., 17., 25.],\n",
              "       [ 9.,  0.,  0., 20., 30.],\n",
              "       [ 8.,  1.,  1., 17., 19.],\n",
              "       [10.,  0.,  0.,  9., 21.],\n",
              "       [10.,  1.,  1., 22., 36.],\n",
              "       [10.,  0.,  1., 11., 24.],\n",
              "       [ 9.,  1.,  0., 11., 22.],\n",
              "       [ 9.,  0.,  1.,  7., 16.],\n",
              "       [ 8.,  1.,  0., 10., 34.],\n",
              "       [10.,  0.,  1.,  7., 18.],\n",
              "       [ 8.,  0.,  1., 20., 35.],\n",
              "       [10.,  1.,  0., 18., 25.],\n",
              "       [10.,  0.,  1.,  7., 22.],\n",
              "       [10.,  0.,  1., 12., 25.],\n",
              "       [10.,  0.,  0.,  7., 22.],\n",
              "       [10.,  1.,  1., 11., 28.],\n",
              "       [10.,  1.,  1.,  7., 18.],\n",
              "       [10.,  0.,  0.,  9., 19.],\n",
              "       [10.,  0.,  0.,  7., 18.],\n",
              "       [ 6.,  0.,  0., 10., 21.],\n",
              "       [ 8.,  0.,  1.,  9., 18.],\n",
              "       [10.,  1.,  0.,  7., 18.],\n",
              "       [ 6.,  1.,  1., 17., 34.],\n",
              "       [ 9.,  1.,  1., 15., 20.],\n",
              "       [10.,  0.,  0., 11., 29.],\n",
              "       [ 6.,  1.,  1., 20., 32.],\n",
              "       [10.,  1.,  0., 15., 42.],\n",
              "       [ 3.,  1.,  1., 10., 26.],\n",
              "       [ 8.,  1.,  0., 10., 26.],\n",
              "       [ 7.,  1.,  1., 15., 31.],\n",
              "       [ 7.,  0.,  0.,  7., 23.],\n",
              "       [ 2.,  1.,  0.,  7., 30.],\n",
              "       [10.,  1.,  0.,  7., 24.],\n",
              "       [ 9.,  1.,  0.,  9., 18.],\n",
              "       [ 9.,  1.,  1.,  7., 18.],\n",
              "       [10.,  0.,  0., 16., 29.],\n",
              "       [ 6.,  0.,  0., 18., 32.],\n",
              "       [ 7.,  0.,  1.,  7., 25.],\n",
              "       [ 3.,  1.,  0., 28., 43.],\n",
              "       [ 8.,  0.,  0., 10., 21.],\n",
              "       [10.,  1.,  0.,  9., 27.],\n",
              "       [ 8.,  1.,  1., 14., 26.],\n",
              "       [10.,  1.,  0., 11., 28.],\n",
              "       [10.,  0.,  1.,  7., 24.],\n",
              "       [10.,  1.,  1.,  7., 16.],\n",
              "       [10.,  1.,  1.,  7., 16.],\n",
              "       [ 8.,  1.,  0.,  8., 23.],\n",
              "       [ 9.,  1.,  0.,  7., 24.],\n",
              "       [10.,  1.,  0.,  7., 18.],\n",
              "       [10.,  1.,  1.,  7., 21.],\n",
              "       [ 5.,  1.,  1.,  7., 18.],\n",
              "       [10.,  0.,  0., 17., 34.],\n",
              "       [ 5.,  0.,  1., 21., 28.],\n",
              "       [10.,  1.,  0.,  7., 30.],\n",
              "       [10.,  1.,  1.,  7., 16.],\n",
              "       [ 3.,  1.,  1., 14., 25.],\n",
              "       [10.,  0.,  0.,  7., 16.],\n",
              "       [ 7.,  0.,  0., 14., 20.],\n",
              "       [10.,  1.,  1., 20., 22.],\n",
              "       [10.,  0.,  0., 10., 26.],\n",
              "       [ 8.,  1.,  1.,  9., 17.],\n",
              "       [ 7.,  1.,  0.,  9., 18.],\n",
              "       [10.,  0.,  0.,  7., 18.],\n",
              "       [10.,  0.,  0.,  7., 18.],\n",
              "       [ 5.,  1.,  1., 25., 16.],\n",
              "       [ 9.,  1.,  1., 15., 18.],\n",
              "       [ 9.,  1.,  0., 10., 20.],\n",
              "       [ 8.,  0.,  0., 15., 35.],\n",
              "       [ 9.,  0.,  0., 15., 31.],\n",
              "       [ 9.,  1.,  1., 14., 30.],\n",
              "       [ 9.,  0.,  0.,  7., 16.],\n",
              "       [10.,  1.,  0.,  7., 20.],\n",
              "       [ 3.,  0.,  1., 13., 25.],\n",
              "       [ 9.,  1.,  1.,  7., 20.],\n",
              "       [ 8.,  1.,  0.,  7., 19.],\n",
              "       [ 5.,  1.,  1.,  9., 30.],\n",
              "       [ 7.,  0.,  0.,  9., 25.],\n",
              "       [10.,  0.,  0.,  7., 22.],\n",
              "       [10.,  1.,  0.,  7., 19.],\n",
              "       [10.,  1.,  1.,  9., 29.],\n",
              "       [ 7.,  1.,  0., 15., 30.],\n",
              "       [ 8.,  0.,  0., 10., 19.],\n",
              "       [ 6.,  1.,  0., 16., 33.],\n",
              "       [ 5.,  1.,  0., 14., 38.],\n",
              "       [ 9.,  1.,  1., 10., 29.],\n",
              "       [ 5.,  1.,  0., 20., 44.],\n",
              "       [ 8.,  1.,  0., 25., 49.],\n",
              "       [ 8.,  0.,  0., 11., 24.],\n",
              "       [ 5.,  1.,  0., 10., 33.],\n",
              "       [ 7.,  1.,  1.,  8., 25.],\n",
              "       [ 7.,  0.,  1.,  9., 32.],\n",
              "       [ 7.,  1.,  1., 11., 28.],\n",
              "       [ 8.,  1.,  0.,  9., 31.],\n",
              "       [ 7.,  0.,  0., 25., 44.],\n",
              "       [ 5.,  1.,  0., 16., 39.],\n",
              "       [10.,  0.,  0., 18., 25.],\n",
              "       [ 6.,  0.,  0.,  9., 26.],\n",
              "       [ 5.,  1.,  1., 24., 44.],\n",
              "       [10.,  1.,  0., 14., 35.],\n",
              "       [ 8.,  1.,  0., 10., 38.],\n",
              "       [ 5.,  1.,  0., 15., 34.],\n",
              "       [ 8.,  1.,  0.,  7., 28.],\n",
              "       [ 7.,  0.,  0., 15., 33.],\n",
              "       [ 5.,  0.,  1., 12., 28.],\n",
              "       [ 8.,  1.,  0., 17., 28.],\n",
              "       [10.,  1.,  0.,  9., 24.],\n",
              "       [ 8.,  1.,  0., 17., 25.],\n",
              "       [ 5.,  0.,  0., 24., 42.],\n",
              "       [ 6.,  1.,  0., 11., 35.],\n",
              "       [ 9.,  0.,  0.,  9., 36.],\n",
              "       [ 1.,  1.,  1., 20., 41.],\n",
              "       [ 8.,  1.,  1., 17., 23.],\n",
              "       [ 7.,  1.,  0., 11., 34.],\n",
              "       [ 1.,  0.,  1., 21., 52.],\n",
              "       [ 8.,  0.,  0.,  7., 22.],\n",
              "       [ 8.,  0.,  0.,  9., 21.],\n",
              "       [ 9.,  1.,  0., 20., 46.],\n",
              "       [ 7.,  1.,  1., 11., 29.],\n",
              "       [ 5.,  1.,  1., 18., 41.],\n",
              "       [ 3.,  0.,  1., 26., 38.],\n",
              "       [ 4.,  1.,  0., 21., 49.],\n",
              "       [10.,  1.,  1.,  7., 22.],\n",
              "       [ 6.,  1.,  1.,  8., 17.],\n",
              "       [10.,  1.,  1.,  9., 16.],\n",
              "       [ 9.,  1.,  1., 18., 16.],\n",
              "       [10.,  0.,  1.,  7., 16.],\n",
              "       [10.,  1.,  1., 18., 21.],\n",
              "       [ 6.,  0.,  0., 32., 56.],\n",
              "       [ 9.,  0.,  1., 25., 32.],\n",
              "       [10.,  1.,  0.,  7., 16.],\n",
              "       [ 7.,  1.,  1., 19., 31.],\n",
              "       [ 9.,  1.,  1., 10., 23.],\n",
              "       [10.,  1.,  0.,  7., 27.],\n",
              "       [ 9.,  1.,  1., 14., 21.],\n",
              "       [10.,  1.,  1.,  7., 28.]], dtype=float32)"
            ]
          },
          "metadata": {},
          "execution_count": 64
        }
      ]
    },
    {
      "cell_type": "markdown",
      "source": [
        "ANOVA"
      ],
      "metadata": {
        "id": "wVd6jE3hZslG"
      }
    },
    {
      "cell_type": "code",
      "source": [
        "univariate = f_classif(X, y)\n",
        "univariate"
      ],
      "metadata": {
        "id": "EUMyT5pBZnG7",
        "outputId": "facdd77a-f8f9-44a2-e030-fbd03d4bb10f",
        "colab": {
          "base_uri": "https://localhost:8080/"
        }
      },
      "execution_count": 65,
      "outputs": [
        {
          "output_type": "execute_result",
          "data": {
            "text/plain": [
              "(array([3.6212697e+00, 1.1628228e-01, 0.0000000e+00, 2.4870960e-01,\n",
              "        1.6109158e-01, 1.0520712e-02, 1.7331967e+00, 4.1912050e+00,\n",
              "        1.3949199e+01, 1.1808826e-02, 2.1281385e+00, 1.0316648e+00,\n",
              "        5.0901812e-01, 3.2690009e-01, 1.6404298e-01, 3.6380683e-05,\n",
              "        7.6243281e+00, 2.7182183e-01, 7.7019234e+00], dtype=float32),\n",
              " array([5.8706161e-02, 7.3351598e-01, 1.0000000e+00, 6.1861867e-01,\n",
              "        6.8864882e-01, 9.1842264e-01, 1.8974462e-01, 4.2146448e-02,\n",
              "        2.5474589e-04, 9.1359144e-01, 1.4642949e-01, 3.1118634e-01,\n",
              "        4.7652555e-01, 5.6823230e-01, 6.8596160e-01, 9.9519444e-01,\n",
              "        6.3802483e-03, 6.0277903e-01, 6.1230245e-03], dtype=float32))"
            ]
          },
          "metadata": {},
          "execution_count": 65
        }
      ]
    },
    {
      "cell_type": "code",
      "source": [
        "# The 2nd values are the PValue and we capture those below\n",
        "univariate = pd.Series(univariate[1])\n",
        "univariate.index = X.columns\n",
        "univariate.sort_values(ascending=False).plot.bar(figsize=(20,6))"
      ],
      "metadata": {
        "id": "b9wq1WrOZzPA",
        "outputId": "3b23d82e-60ca-4a55-dd4d-55be1cf2e589",
        "colab": {
          "base_uri": "https://localhost:8080/",
          "height": 637
        }
      },
      "execution_count": 66,
      "outputs": [
        {
          "output_type": "execute_result",
          "data": {
            "text/plain": [
              "<matplotlib.axes._subplots.AxesSubplot at 0x7f6ce1e76790>"
            ]
          },
          "metadata": {},
          "execution_count": 66
        },
        {
          "output_type": "display_data",
          "data": {
            "text/plain": [
              "<Figure size 1440x432 with 1 Axes>"
            ],
            "image/png": "[encoded data removed]"
          },
          "metadata": {
            "needs_background": "light"
          }
        }
      ]
    },
    {
      "cell_type": "code",
      "source": [
        "# Get TOP 5 features\n",
        "sel_ = SelectKBest(f_classif, k=5).fit(X, y)\n",
        "X.columns[sel_.get_support()]"
      ],
      "metadata": {
        "id": "BIbA_QH2aNMQ",
        "outputId": "e8e8d79e-b712-4c94-d510-a9e23c6d6b3a",
        "colab": {
          "base_uri": "https://localhost:8080/"
        }
      },
      "execution_count": 67,
      "outputs": [
        {
          "output_type": "execute_result",
          "data": {
            "text/plain": [
              "Index(['Пол', 'Здоровье от 1 до 10', 'Были ли нарушения сна', 'P', 'G'], dtype='object')"
            ]
          },
          "metadata": {},
          "execution_count": 67
        }
      ]
    },
    {
      "cell_type": "code",
      "source": [
        ""
      ],
      "metadata": {
        "id": "I90-1SNSaPPg"
      },
      "execution_count": 67,
      "outputs": []
    },
    {
      "cell_type": "code",
      "source": [
        ""
      ],
      "metadata": {
        "id": "Lmy3RTQzZzxL"
      },
      "execution_count": 67,
      "outputs": []
    },
    {
      "cell_type": "code",
      "source": [
        "X_anova # TOP 3 - Были ли нарушения сна, P, G"
      ],
      "metadata": {
        "id": "RDWO9sN0O0xs",
        "colab": {
          "base_uri": "https://localhost:8080/"
        },
        "outputId": "93068856-6a0d-4ff9-871f-8bd4b7dac67e"
      },
      "execution_count": 68,
      "outputs": [
        {
          "output_type": "execute_result",
          "data": {
            "text/plain": [
              "array([[ 1.,  7.,  1., 11., 18.],\n",
              "       [ 1., 10.,  1., 10., 36.],\n",
              "       [ 1., 10.,  0.,  9., 23.],\n",
              "       [ 1.,  7.,  1., 13., 20.],\n",
              "       [ 1.,  7.,  0.,  9., 22.],\n",
              "       [ 1., 10.,  1.,  7., 21.],\n",
              "       [ 1.,  5.,  0., 14., 40.],\n",
              "       [ 1.,  3.,  1.,  7., 16.],\n",
              "       [ 1.,  7.,  0., 15., 28.],\n",
              "       [ 1.,  7.,  0., 18., 22.],\n",
              "       [ 1.,  1.,  1., 19., 41.],\n",
              "       [ 1., 10.,  1., 15., 26.],\n",
              "       [ 1.,  7.,  1., 11., 48.],\n",
              "       [ 1., 10.,  1.,  9., 25.],\n",
              "       [ 1.,  5.,  1., 12., 23.],\n",
              "       [ 1.,  5.,  0., 14., 31.],\n",
              "       [ 1.,  9.,  0.,  8., 22.],\n",
              "       [ 1., 10.,  0.,  8., 24.],\n",
              "       [ 1., 10.,  0.,  7., 18.],\n",
              "       [ 1., 10.,  1., 13., 28.],\n",
              "       [ 1.,  9.,  1.,  8., 20.],\n",
              "       [ 1., 10.,  0.,  7., 16.],\n",
              "       [ 1.,  4.,  1.,  8., 22.],\n",
              "       [ 1., 10.,  0.,  8., 25.],\n",
              "       [ 1.,  5.,  1., 22., 37.],\n",
              "       [ 1.,  7.,  1., 11., 35.],\n",
              "       [ 1.,  7.,  0., 15., 31.],\n",
              "       [ 1.,  7.,  1., 13., 23.],\n",
              "       [ 1.,  9.,  1., 13., 30.],\n",
              "       [ 1.,  9.,  1., 10., 25.],\n",
              "       [ 1.,  9.,  0., 11., 18.],\n",
              "       [ 1.,  5.,  0., 13., 24.],\n",
              "       [ 1.,  2.,  0., 10., 31.],\n",
              "       [ 1.,  9.,  0., 13., 27.],\n",
              "       [ 1., 10.,  1., 14., 27.],\n",
              "       [ 1.,  8.,  1.,  8., 28.],\n",
              "       [ 1.,  8.,  1., 12., 23.],\n",
              "       [ 1.,  7.,  1., 10., 29.],\n",
              "       [ 0.,  1.,  0., 22., 43.],\n",
              "       [ 0.,  7.,  1., 18., 33.],\n",
              "       [ 0.,  9.,  1., 17., 25.],\n",
              "       [ 0.,  9.,  0., 20., 30.],\n",
              "       [ 0.,  8.,  1., 17., 19.],\n",
              "       [ 0., 10.,  0.,  9., 21.],\n",
              "       [ 0., 10.,  1., 22., 36.],\n",
              "       [ 0., 10.,  0., 11., 24.],\n",
              "       [ 0.,  9.,  1., 11., 22.],\n",
              "       [ 0.,  9.,  0.,  7., 16.],\n",
              "       [ 0.,  8.,  1., 10., 34.],\n",
              "       [ 1., 10.,  0.,  7., 18.],\n",
              "       [ 1.,  8.,  0., 20., 35.],\n",
              "       [ 1., 10.,  1., 18., 25.],\n",
              "       [ 1., 10.,  0.,  7., 22.],\n",
              "       [ 1., 10.,  0., 12., 25.],\n",
              "       [ 1., 10.,  0.,  7., 22.],\n",
              "       [ 1., 10.,  1., 11., 28.],\n",
              "       [ 1., 10.,  1.,  7., 18.],\n",
              "       [ 1., 10.,  0.,  9., 19.],\n",
              "       [ 1., 10.,  0.,  7., 18.],\n",
              "       [ 1.,  6.,  0., 10., 21.],\n",
              "       [ 1.,  8.,  0.,  9., 18.],\n",
              "       [ 1., 10.,  1.,  7., 18.],\n",
              "       [ 1.,  6.,  1., 17., 34.],\n",
              "       [ 1.,  9.,  1., 15., 20.],\n",
              "       [ 1., 10.,  0., 11., 29.],\n",
              "       [ 1.,  6.,  1., 20., 32.],\n",
              "       [ 1., 10.,  1., 15., 42.],\n",
              "       [ 0.,  3.,  1., 10., 26.],\n",
              "       [ 1.,  8.,  1., 10., 26.],\n",
              "       [ 0.,  7.,  1., 15., 31.],\n",
              "       [ 1.,  7.,  0.,  7., 23.],\n",
              "       [ 0.,  2.,  1.,  7., 30.],\n",
              "       [ 0., 10.,  1.,  7., 24.],\n",
              "       [ 0.,  9.,  1.,  9., 18.],\n",
              "       [ 0.,  9.,  1.,  7., 18.],\n",
              "       [ 0., 10.,  0., 16., 29.],\n",
              "       [ 0.,  6.,  0., 18., 32.],\n",
              "       [ 0.,  7.,  0.,  7., 25.],\n",
              "       [ 0.,  3.,  1., 28., 43.],\n",
              "       [ 1.,  8.,  0., 10., 21.],\n",
              "       [ 1., 10.,  1.,  9., 27.],\n",
              "       [ 0.,  8.,  1., 14., 26.],\n",
              "       [ 0., 10.,  1., 11., 28.],\n",
              "       [ 0., 10.,  0.,  7., 24.],\n",
              "       [ 0., 10.,  1.,  7., 16.],\n",
              "       [ 0., 10.,  1.,  7., 16.],\n",
              "       [ 0.,  8.,  1.,  8., 23.],\n",
              "       [ 0.,  9.,  1.,  7., 24.],\n",
              "       [ 0., 10.,  1.,  7., 18.],\n",
              "       [ 0., 10.,  1.,  7., 21.],\n",
              "       [ 0.,  5.,  1.,  7., 18.],\n",
              "       [ 0., 10.,  0., 17., 34.],\n",
              "       [ 1.,  5.,  0., 21., 28.],\n",
              "       [ 0., 10.,  1.,  7., 30.],\n",
              "       [ 1., 10.,  1.,  7., 16.],\n",
              "       [ 1.,  3.,  1., 14., 25.],\n",
              "       [ 0., 10.,  0.,  7., 16.],\n",
              "       [ 1.,  7.,  0., 14., 20.],\n",
              "       [ 1., 10.,  1., 20., 22.],\n",
              "       [ 1., 10.,  0., 10., 26.],\n",
              "       [ 1.,  8.,  1.,  9., 17.],\n",
              "       [ 1.,  7.,  1.,  9., 18.],\n",
              "       [ 1., 10.,  0.,  7., 18.],\n",
              "       [ 1., 10.,  0.,  7., 18.],\n",
              "       [ 1.,  5.,  1., 25., 16.],\n",
              "       [ 1.,  9.,  1., 15., 18.],\n",
              "       [ 1.,  9.,  1., 10., 20.],\n",
              "       [ 1.,  8.,  0., 15., 35.],\n",
              "       [ 1.,  9.,  0., 15., 31.],\n",
              "       [ 1.,  9.,  1., 14., 30.],\n",
              "       [ 1.,  9.,  0.,  7., 16.],\n",
              "       [ 1., 10.,  1.,  7., 20.],\n",
              "       [ 1.,  3.,  0., 13., 25.],\n",
              "       [ 1.,  9.,  1.,  7., 20.],\n",
              "       [ 1.,  8.,  1.,  7., 19.],\n",
              "       [ 1.,  5.,  1.,  9., 30.],\n",
              "       [ 1.,  7.,  0.,  9., 25.],\n",
              "       [ 1., 10.,  0.,  7., 22.],\n",
              "       [ 1., 10.,  1.,  7., 19.],\n",
              "       [ 1., 10.,  1.,  9., 29.],\n",
              "       [ 1.,  7.,  1., 15., 30.],\n",
              "       [ 0.,  8.,  0., 10., 19.],\n",
              "       [ 0.,  6.,  1., 16., 33.],\n",
              "       [ 1.,  5.,  1., 14., 38.],\n",
              "       [ 1.,  9.,  1., 10., 29.],\n",
              "       [ 1.,  5.,  1., 20., 44.],\n",
              "       [ 1.,  8.,  1., 25., 49.],\n",
              "       [ 1.,  8.,  0., 11., 24.],\n",
              "       [ 1.,  5.,  1., 10., 33.],\n",
              "       [ 1.,  7.,  1.,  8., 25.],\n",
              "       [ 1.,  7.,  0.,  9., 32.],\n",
              "       [ 1.,  7.,  1., 11., 28.],\n",
              "       [ 1.,  8.,  1.,  9., 31.],\n",
              "       [ 1.,  7.,  0., 25., 44.],\n",
              "       [ 0.,  5.,  1., 16., 39.],\n",
              "       [ 1., 10.,  0., 18., 25.],\n",
              "       [ 1.,  6.,  0.,  9., 26.],\n",
              "       [ 1.,  5.,  1., 24., 44.],\n",
              "       [ 1., 10.,  1., 14., 35.],\n",
              "       [ 1.,  8.,  1., 10., 38.],\n",
              "       [ 1.,  5.,  1., 15., 34.],\n",
              "       [ 1.,  8.,  1.,  7., 28.],\n",
              "       [ 1.,  7.,  0., 15., 33.],\n",
              "       [ 1.,  5.,  0., 12., 28.],\n",
              "       [ 1.,  8.,  1., 17., 28.],\n",
              "       [ 1., 10.,  1.,  9., 24.],\n",
              "       [ 1.,  8.,  1., 17., 25.],\n",
              "       [ 1.,  5.,  0., 24., 42.],\n",
              "       [ 1.,  6.,  1., 11., 35.],\n",
              "       [ 1.,  9.,  0.,  9., 36.],\n",
              "       [ 1.,  1.,  1., 20., 41.],\n",
              "       [ 1.,  8.,  1., 17., 23.],\n",
              "       [ 1.,  7.,  1., 11., 34.],\n",
              "       [ 1.,  1.,  0., 21., 52.],\n",
              "       [ 1.,  8.,  0.,  7., 22.],\n",
              "       [ 1.,  8.,  0.,  9., 21.],\n",
              "       [ 1.,  9.,  1., 20., 46.],\n",
              "       [ 1.,  7.,  1., 11., 29.],\n",
              "       [ 0.,  5.,  1., 18., 41.],\n",
              "       [ 0.,  3.,  0., 26., 38.],\n",
              "       [ 0.,  4.,  1., 21., 49.],\n",
              "       [ 0., 10.,  1.,  7., 22.],\n",
              "       [ 0.,  6.,  1.,  8., 17.],\n",
              "       [ 0., 10.,  1.,  9., 16.],\n",
              "       [ 1.,  9.,  1., 18., 16.],\n",
              "       [ 1., 10.,  0.,  7., 16.],\n",
              "       [ 1., 10.,  1., 18., 21.],\n",
              "       [ 1.,  6.,  0., 32., 56.],\n",
              "       [ 1.,  9.,  0., 25., 32.],\n",
              "       [ 1., 10.,  1.,  7., 16.],\n",
              "       [ 1.,  7.,  1., 19., 31.],\n",
              "       [ 1.,  9.,  1., 10., 23.],\n",
              "       [ 1., 10.,  1.,  7., 27.],\n",
              "       [ 1.,  9.,  1., 14., 21.],\n",
              "       [ 1., 10.,  1.,  7., 28.]], dtype=float32)"
            ]
          },
          "metadata": {},
          "execution_count": 68
        }
      ]
    },
    {
      "cell_type": "code",
      "source": [
        ""
      ],
      "metadata": {
        "id": "F21u74y3UP6q"
      },
      "execution_count": 68,
      "outputs": []
    },
    {
      "cell_type": "code",
      "source": [
        "# Find 4 best predictors witn scalied data\n",
        "\n",
        "from sklearn.preprocessing import MinMaxScaler\n",
        "minmax_scaler = MinMaxScaler()\n",
        "\n",
        "X_scaled = minmax_scaler.fit_transform(X)\n",
        "X_chi2_scaled = SelectKBest(chi2, k=4).fit_transform(X_scaled, y)\n",
        "X_anova_scaled = SelectKBest(f_classif, k=4).fit_transform(X_scaled, y)"
      ],
      "metadata": {
        "id": "023I6vdtNf5b"
      },
      "execution_count": 69,
      "outputs": []
    },
    {
      "cell_type": "code",
      "source": [
        ""
      ],
      "metadata": {
        "id": "MUHcI8Zz8msw"
      },
      "execution_count": 69,
      "outputs": []
    },
    {
      "cell_type": "code",
      "source": [
        ""
      ],
      "metadata": {
        "id": "w4TOf6Gl8nDv"
      },
      "execution_count": 69,
      "outputs": []
    },
    {
      "cell_type": "code",
      "source": [
        ""
      ],
      "metadata": {
        "id": "hknAxieW8nHC"
      },
      "execution_count": 69,
      "outputs": []
    },
    {
      "cell_type": "code",
      "source": [
        "f_score_scaled = chi2(X_scaled, y)\n",
        "f_score_scaled\n",
        "# The first array is the F_score , 2nd one is the P_values\n",
        "# the smaller the P value the more significant the difference in the features"
      ],
      "metadata": {
        "colab": {
          "base_uri": "https://localhost:8080/"
        },
        "id": "14mLv1Rcgpcb",
        "outputId": "6b47f97b-b817-4838-cbfb-e442ce233bb2"
      },
      "execution_count": 70,
      "outputs": [
        {
          "output_type": "execute_result",
          "data": {
            "text/plain": [
              "(array([8.81632874e-01, 1.50330947e-02, 4.24027991e-06, 2.06719560e-01,\n",
              "        1.45127179e-01, 2.05485415e-03, 7.04258205e-01, 3.56339576e-01,\n",
              "        4.99920218e+00, 9.13889215e-04, 1.13012241e+00, 3.73821515e-01,\n",
              "        2.75761783e-01, 1.77243336e-02, 7.44528063e-02, 5.87319075e-07,\n",
              "        1.56535759e+00, 4.29520792e-02, 1.19095746e+00]),\n",
              " array([0.34775484, 0.90241631, 0.998357  , 0.64935082, 0.70323619,\n",
              "        0.96384388, 0.40135656, 0.5505462 , 0.02535901, 0.97588314,\n",
              "        0.28774923, 0.54092855, 0.59949265, 0.89408838, 0.78496052,\n",
              "        0.99938853, 0.21088249, 0.83581553, 0.27513651]))"
            ]
          },
          "metadata": {},
          "execution_count": 70
        }
      ]
    },
    {
      "cell_type": "code",
      "source": [
        "pvalues = pd.Series(f_score_scaled[1])\n",
        "pvalues.index = X.columns\n",
        "pvalues.sort_values(ascending=True)"
      ],
      "metadata": {
        "colab": {
          "base_uri": "https://localhost:8080/"
        },
        "id": "dvYgWRBqgtKI",
        "outputId": "0ac56c97-db74-4f58-87d2-1ce7b11d5ed3"
      },
      "execution_count": 71,
      "outputs": [
        {
          "output_type": "execute_result",
          "data": {
            "text/plain": [
              "Были ли нарушения сна                        0.025359\n",
              "P                                            0.210882\n",
              "G                                            0.275137\n",
              "Операции                                     0.287749\n",
              "Пол                                          0.347755\n",
              "Удовлетворенность материальным положением    0.401357\n",
              "ЧМТ                                          0.540929\n",
              "Здоровье от 1 до 10                          0.550546\n",
              "Насл отягощенность                           0.599493\n",
              "Род занятий(0-0, работает-1                  0.649351\n",
              "Семейное положение(0-0, 1-женат)             0.703236\n",
              "Частота госпит                               0.784961\n",
              "N                                            0.835816\n",
              "Дебют                                        0.894088\n",
              "Полных лет                                   0.902416\n",
              "Удовлетворенность семеными отношениями       0.963844\n",
              "ИМТ                                          0.975883\n",
              "Образование(0-начальное, 4-высшее)           0.998357\n",
              "Стаж шизофр                                  0.999389\n",
              "dtype: float64"
            ]
          },
          "metadata": {},
          "execution_count": 71
        }
      ]
    },
    {
      "cell_type": "code",
      "source": [
        "# Now use the SelectKBest Model with the chi2 classifier to find the best features\n",
        "\n",
        "sel_ = SelectKBest(chi2, k=5).fit(X_scaled, y)\n",
        "X.columns[sel_.get_support()]"
      ],
      "metadata": {
        "colab": {
          "base_uri": "https://localhost:8080/"
        },
        "id": "rm1xMp0jgz-e",
        "outputId": "d5610bec-1905-45f5-85a8-a98625dc291a"
      },
      "execution_count": 72,
      "outputs": [
        {
          "output_type": "execute_result",
          "data": {
            "text/plain": [
              "Index(['Пол', 'Были ли нарушения сна', 'Операции', 'P', 'G'], dtype='object')"
            ]
          },
          "metadata": {},
          "execution_count": 72
        }
      ]
    },
    {
      "cell_type": "code",
      "source": [
        ""
      ],
      "metadata": {
        "id": "rOW1fDJzhImX"
      },
      "execution_count": 72,
      "outputs": []
    },
    {
      "cell_type": "markdown",
      "source": [
        "ANOVA"
      ],
      "metadata": {
        "id": "YBuG7ukDhFuX"
      }
    },
    {
      "cell_type": "code",
      "source": [
        "univariate_scaled = f_classif(X_scaled, y)\n",
        "univariate_scaled"
      ],
      "metadata": {
        "id": "OwBx45LZhG-8",
        "outputId": "64db3d97-bf2c-4668-f5c8-587f00965dea",
        "colab": {
          "base_uri": "https://localhost:8080/"
        }
      },
      "execution_count": 73,
      "outputs": [
        {
          "output_type": "execute_result",
          "data": {
            "text/plain": [
              "(array([ 3.62126970e+00,  1.16262905e-01,  0.00000000e+00,  2.48709604e-01,\n",
              "         1.61091581e-01,  1.05766766e-02,  1.73319674e+00,  4.19083738e+00,\n",
              "         1.39491987e+01,  1.14049437e-02,  2.12813854e+00,  1.03166485e+00,\n",
              "         5.09018123e-01,  3.27133834e-01,  1.64042979e-01, -2.91374363e-05,\n",
              "         7.62430048e+00,  2.71821856e-01,  7.70179749e+00], dtype=float32),\n",
              " array([5.8706161e-02, 7.3353732e-01, 1.0000000e+00, 6.1861867e-01,\n",
              "        6.8864882e-01, 9.1820669e-01, 1.8974462e-01, 4.2155363e-02,\n",
              "        2.5474589e-04, 9.1507620e-01, 1.4642949e-01, 3.1118634e-01,\n",
              "        4.7652555e-01, 5.6809413e-01, 6.8596160e-01,           nan,\n",
              "        6.3803419e-03, 6.0277903e-01, 6.1234334e-03], dtype=float32))"
            ]
          },
          "metadata": {},
          "execution_count": 73
        }
      ]
    },
    {
      "cell_type": "code",
      "source": [
        "# The 2nd values are the PValue and we capture those below\n",
        "univariate_scaled = pd.Series(univariate_scaled[1])\n",
        "univariate_scaled.index = X.columns\n",
        "univariate_scaled.sort_values(ascending=False).plot.bar(figsize=(20,6))"
      ],
      "metadata": {
        "id": "djLNEHfThKKz",
        "outputId": "b62f9dd7-d57b-434d-cf0a-60add2f72efd",
        "colab": {
          "base_uri": "https://localhost:8080/",
          "height": 637
        }
      },
      "execution_count": 74,
      "outputs": [
        {
          "output_type": "execute_result",
          "data": {
            "text/plain": [
              "<matplotlib.axes._subplots.AxesSubplot at 0x7f6ce1b7dd10>"
            ]
          },
          "metadata": {},
          "execution_count": 74
        },
        {
          "output_type": "display_data",
          "data": {
            "text/plain": [
              "<Figure size 1440x432 with 1 Axes>"
            ],
            "image/png": "[encoded data removed]"
          },
          "metadata": {
            "needs_background": "light"
          }
        }
      ]
    },
    {
      "cell_type": "code",
      "source": [
        "# Get TOP 5 features\n",
        "sel_ = SelectKBest(f_classif, k=5).fit(X_scaled, y)\n",
        "X.columns[sel_.get_support()]"
      ],
      "metadata": {
        "id": "KSGhE7K5hUqO",
        "outputId": "9f0df8cf-0004-4acf-c6aa-641e8f7747d7",
        "colab": {
          "base_uri": "https://localhost:8080/"
        }
      },
      "execution_count": 75,
      "outputs": [
        {
          "output_type": "execute_result",
          "data": {
            "text/plain": [
              "Index(['Пол', 'Здоровье от 1 до 10', 'Были ли нарушения сна', 'P', 'G'], dtype='object')"
            ]
          },
          "metadata": {},
          "execution_count": 75
        }
      ]
    },
    {
      "cell_type": "code",
      "source": [
        ""
      ],
      "metadata": {
        "id": "L0FH6fE0hhzK"
      },
      "execution_count": 75,
      "outputs": []
    },
    {
      "cell_type": "code",
      "source": [
        ""
      ],
      "metadata": {
        "id": "OVxUbs4lhFwd"
      },
      "execution_count": 75,
      "outputs": []
    },
    {
      "cell_type": "code",
      "source": [
        ""
      ],
      "metadata": {
        "id": "0morjvDohFyU"
      },
      "execution_count": 75,
      "outputs": []
    },
    {
      "cell_type": "code",
      "source": [
        ""
      ],
      "metadata": {
        "id": "cE49CtiChHBb"
      },
      "execution_count": 75,
      "outputs": []
    },
    {
      "cell_type": "code",
      "source": [
        "# X_chi2_scaled # Были ли нарушения сна, Динамека веса за год, Аллергии, ГБ"
      ],
      "metadata": {
        "id": "kK2YEY2VS9kV"
      },
      "execution_count": 76,
      "outputs": []
    },
    {
      "cell_type": "code",
      "source": [
        "# X_anova_scaled # Были ли нарушения сна, Аллергии, P, G"
      ],
      "metadata": {
        "id": "aW029ll0S9nm"
      },
      "execution_count": 77,
      "outputs": []
    },
    {
      "cell_type": "code",
      "source": [
        "# How many times and which features were the most influential?\n",
        "\n",
        "# Аллергии 4\n",
        "# Были ли нарушения сна  3\n",
        "# P 3\n",
        "# G 3\n",
        "# Динамека веса за год 1 \n",
        "# ГБ 1\n",
        "# Стаж шизофр 1"
      ],
      "metadata": {
        "id": "JGbIT52RS9pu"
      },
      "execution_count": 78,
      "outputs": []
    },
    {
      "cell_type": "code",
      "source": [
        "# Using best features\n",
        "# X = X[['Аллергии', 'Были ли нарушения сна', 'P', 'G']]\n",
        "\n",
        "# X = X[['Забол кожи', 'Были ли нарушения сна', 'Панкреатит', 'ГБ']]\n",
        "\n",
        "# X = X[['Удовлетворенность материальным положением', 'Были ли нарушения сна', 'Забол кожи', 'P', 'G']]\n",
        "\n",
        "# X = X[['Забол кожи', 'Были ли нарушения сна', 'Панкреатит', 'ГБ', 'P']]\n",
        "\n",
        "# X = X[['P', 'G', 'ИМТ', 'Были ли нарушения сна', 'N']]\n",
        "\n",
        "# X = X[['Были ли нарушения сна', 'Забол кожи', 'P']]\n",
        "\n",
        "# X = X[['Были ли нарушения сна', 'Операции', 'P', 'G']]"
      ],
      "metadata": {
        "id": "cA1BbqGaS9ru"
      },
      "execution_count": 79,
      "outputs": []
    },
    {
      "cell_type": "code",
      "source": [
        "# Get helper functions file\n",
        "import os\n",
        "if not os.path.exists(\"helper_functions.py\"):\n",
        "    print(\"Downloading helper functions...\")\n",
        "    !wget https://raw.githubusercontent.com/Nikitaion/TensorFlowLearning/main/extras/helper_functions.py\n",
        "else:\n",
        "    print(\"Helper functions file already exists, skipping download...\")"
      ],
      "metadata": {
        "id": "ztJnG1gMpQKR",
        "outputId": "2fb957fe-e129-4386-f859-6741e71f4bfb",
        "colab": {
          "base_uri": "https://localhost:8080/"
        }
      },
      "execution_count": 80,
      "outputs": [
        {
          "output_type": "stream",
          "name": "stdout",
          "text": [
            "Downloading helper functions...\n",
            "--2022-07-11 12:39:34--  https://raw.githubusercontent.com/Nikitaion/TensorFlowLearning/main/extras/helper_functions.py\n",
            "Resolving raw.githubusercontent.com (raw.githubusercontent.com)... 185.199.108.133, 185.199.109.133, 185.199.110.133, ...\n",
            "Connecting to raw.githubusercontent.com (raw.githubusercontent.com)|185.199.108.133|:443... connected.\n",
            "HTTP request sent, awaiting response... 200 OK\n",
            "Length: 10246 (10K) [text/plain]\n",
            "Saving to: ‘helper_functions.py’\n",
            "\n",
            "helper_functions.py 100%[===================>]  10.01K  --.-KB/s    in 0s      \n",
            "\n",
            "2022-07-11 12:39:34 (63.0 MB/s) - ‘helper_functions.py’ saved [10246/10246]\n",
            "\n"
          ]
        }
      ]
    },
    {
      "cell_type": "code",
      "source": [
        "# Create TensorBoard callback\n",
        "from helper_functions import create_tensorboard_callback\n",
        "\n",
        "# Create ModelCheckpoint callback to save model's progress\n",
        "checkpoint_path = \"model_checkpoints/cp.ckpt\" # saving weights requires \".ckpt\" extension\n",
        "model_checkpoint = tf.keras.callbacks.ModelCheckpoint(checkpoint_path,\n",
        "                                                      montior=\"val_accuracy\", # save the model weights with best validation accuracy\n",
        "                                                      save_best_only=True, # only save the best weights\n",
        "                                                      save_weights_only=True) # only save model weights (not whole model)\n",
        "                                                      # verbose=1) # don't print out whether or not model is being saved\n"
      ],
      "metadata": {
        "id": "1mRN6S7XpPD6"
      },
      "execution_count": 81,
      "outputs": []
    },
    {
      "cell_type": "code",
      "source": [
        "# Train/valid/test split\n",
        "X_train, X_valid, y_train, y_valid = train_test_split(X, y, test_size=0.15)\n",
        "\n",
        "X_train, X_test, y_train, y_test = train_test_split(X_train, y_train, test_size=0.15)\n",
        "\n",
        "\n",
        "# Scaling\n",
        "from sklearn.preprocessing import StandardScaler\n",
        "from sklearn.preprocessing import MinMaxScaler\n",
        "\n",
        "scaler = StandardScaler()\n",
        "minmax_scaler = MinMaxScaler()\n",
        "\n",
        "# X_train_scaled = scaler.fit_transform(X_train)\n",
        "# X_valid_scaled = scaler.transform(X_valid)\n",
        "\n",
        "X_train_scaled = minmax_scaler.fit_transform(X_train)\n",
        "X_valid_scaled = minmax_scaler.transform(X_valid)\n",
        "X_test_scaled = minmax_scaler.transform(X_test)"
      ],
      "metadata": {
        "id": "EkYpF44DNQjU"
      },
      "execution_count": 82,
      "outputs": []
    },
    {
      "cell_type": "code",
      "source": [
        "tf.random.set_seed(42)\n",
        "\n",
        "model = tf.keras.Sequential([\n",
        "    tf.keras.layers.Dense(19, activation='relu'),\n",
        "    tf.keras.layers.Dense(4, activation='relu'),\n",
        "    tf.keras.layers.Dense(4, activation='relu'),\n",
        "\n",
        "    # tf.keras.layers.Dense(20, activation='relu'),\n",
        "    # tf.keras.layers.Dense(10, activation='relu'),\n",
        "\n",
        "    # tf.keras.layers.Dense(256, activation='relu'),\n",
        "    tf.keras.layers.Dense(1, activation='sigmoid')\n",
        "])\n",
        "\n",
        "model.compile(\n",
        "    loss=tf.keras.losses.binary_crossentropy,\n",
        "    optimizer=tf.keras.optimizers.Adam(0.03),\n",
        "    metrics=[\"accuracy\"]\n",
        ")\n",
        "\n",
        "\n",
        "history = model.fit(X_train_scaled, \n",
        "                    y_train, \n",
        "                    epochs=22,\n",
        "                    validation_data = (X_valid_scaled, y_valid),\n",
        "                    callbacks=[model_checkpoint])"
      ],
      "metadata": {
        "colab": {
          "base_uri": "https://localhost:8080/"
        },
        "id": "Y8cdqTwvKMbi",
        "outputId": "06902cf1-b87c-4dc8-ecd8-c1f5f874e114"
      },
      "execution_count": 83,
      "outputs": [
        {
          "output_type": "stream",
          "name": "stdout",
          "text": [
            "Epoch 1/22\n",
            "4/4 [==============================] - 2s 156ms/step - loss: 0.6974 - accuracy: 0.5840 - val_loss: 0.6731 - val_accuracy: 0.5926\n",
            "Epoch 2/22\n",
            "4/4 [==============================] - 0s 30ms/step - loss: 0.6696 - accuracy: 0.5600 - val_loss: 0.6574 - val_accuracy: 0.7037\n",
            "Epoch 3/22\n",
            "4/4 [==============================] - 0s 22ms/step - loss: 0.6506 - accuracy: 0.6000 - val_loss: 0.6423 - val_accuracy: 0.5926\n",
            "Epoch 4/22\n",
            "4/4 [==============================] - 0s 21ms/step - loss: 0.6490 - accuracy: 0.5840 - val_loss: 0.6268 - val_accuracy: 0.5926\n",
            "Epoch 5/22\n",
            "4/4 [==============================] - 0s 19ms/step - loss: 0.6267 - accuracy: 0.6560 - val_loss: 0.6241 - val_accuracy: 0.7407\n",
            "Epoch 6/22\n",
            "4/4 [==============================] - 0s 19ms/step - loss: 0.6035 - accuracy: 0.6880 - val_loss: 0.6145 - val_accuracy: 0.5926\n",
            "Epoch 7/22\n",
            "4/4 [==============================] - 0s 18ms/step - loss: 0.6196 - accuracy: 0.6240 - val_loss: 0.5936 - val_accuracy: 0.6296\n",
            "Epoch 8/22\n",
            "4/4 [==============================] - 0s 20ms/step - loss: 0.6275 - accuracy: 0.6720 - val_loss: 0.6121 - val_accuracy: 0.7037\n",
            "Epoch 9/22\n",
            "4/4 [==============================] - 0s 16ms/step - loss: 0.5954 - accuracy: 0.7040 - val_loss: 0.6085 - val_accuracy: 0.7037\n",
            "Epoch 10/22\n",
            "4/4 [==============================] - 0s 16ms/step - loss: 0.5901 - accuracy: 0.6800 - val_loss: 0.6137 - val_accuracy: 0.6667\n",
            "Epoch 11/22\n",
            "4/4 [==============================] - 0s 16ms/step - loss: 0.5837 - accuracy: 0.7200 - val_loss: 0.6015 - val_accuracy: 0.7037\n",
            "Epoch 12/22\n",
            "4/4 [==============================] - 0s 18ms/step - loss: 0.5639 - accuracy: 0.7440 - val_loss: 0.6060 - val_accuracy: 0.7037\n",
            "Epoch 13/22\n",
            "4/4 [==============================] - 0s 12ms/step - loss: 0.5414 - accuracy: 0.7040 - val_loss: 0.6716 - val_accuracy: 0.6667\n",
            "Epoch 14/22\n",
            "4/4 [==============================] - 0s 13ms/step - loss: 0.5301 - accuracy: 0.7360 - val_loss: 0.6060 - val_accuracy: 0.7037\n",
            "Epoch 15/22\n",
            "4/4 [==============================] - 0s 18ms/step - loss: 0.5233 - accuracy: 0.7520 - val_loss: 0.7127 - val_accuracy: 0.6296\n",
            "Epoch 16/22\n",
            "4/4 [==============================] - 0s 13ms/step - loss: 0.4892 - accuracy: 0.7680 - val_loss: 0.7136 - val_accuracy: 0.6667\n",
            "Epoch 17/22\n",
            "4/4 [==============================] - 0s 24ms/step - loss: 0.4738 - accuracy: 0.7920 - val_loss: 0.7432 - val_accuracy: 0.6667\n",
            "Epoch 18/22\n",
            "4/4 [==============================] - 0s 14ms/step - loss: 0.4441 - accuracy: 0.8080 - val_loss: 0.8070 - val_accuracy: 0.6667\n",
            "Epoch 19/22\n",
            "4/4 [==============================] - 0s 28ms/step - loss: 0.4193 - accuracy: 0.8560 - val_loss: 0.8921 - val_accuracy: 0.6667\n",
            "Epoch 20/22\n",
            "4/4 [==============================] - 0s 14ms/step - loss: 0.4300 - accuracy: 0.8080 - val_loss: 0.8836 - val_accuracy: 0.6296\n",
            "Epoch 21/22\n",
            "4/4 [==============================] - 0s 14ms/step - loss: 0.4117 - accuracy: 0.8320 - val_loss: 0.9851 - val_accuracy: 0.6296\n",
            "Epoch 22/22\n",
            "4/4 [==============================] - 0s 16ms/step - loss: 0.3710 - accuracy: 0.8480 - val_loss: 1.0023 - val_accuracy: 0.6296\n"
          ]
        }
      ]
    },
    {
      "cell_type": "code",
      "source": [
        "model.evaluate(X_test, y_test)"
      ],
      "metadata": {
        "id": "KRbfjDQWqt0l",
        "outputId": "052f5c97-f537-4fd4-e889-4848a9a87a73",
        "colab": {
          "base_uri": "https://localhost:8080/"
        }
      },
      "execution_count": 84,
      "outputs": [
        {
          "output_type": "stream",
          "name": "stdout",
          "text": [
            "1/1 [==============================] - 0s 32ms/step - loss: 0.8838 - accuracy: 0.3913\n"
          ]
        },
        {
          "output_type": "execute_result",
          "data": {
            "text/plain": [
              "[0.8838068246841431, 0.3913043439388275]"
            ]
          },
          "metadata": {},
          "execution_count": 84
        }
      ]
    },
    {
      "cell_type": "code",
      "source": [
        "tf.random.set_seed(42)\n",
        "\n",
        "model = tf.keras.Sequential([\n",
        "    tf.keras.layers.Dense(19, activation='relu'),\n",
        "    tf.keras.layers.Dense(10, activation='relu'),\n",
        "    tf.keras.layers.Dense(10, activation='relu'),\n",
        "\n",
        "    # tf.keras.layers.Dense(20, activation='relu'),\n",
        "    # tf.keras.layers.Dense(10, activation='relu'),\n",
        "\n",
        "    # tf.keras.layers.Dense(256, activation='relu'),\n",
        "    tf.keras.layers.Dense(1, activation='sigmoid')\n",
        "])\n",
        "\n",
        "model.compile(\n",
        "    loss=tf.keras.losses.binary_crossentropy,\n",
        "    optimizer=tf.keras.optimizers.Adam(0.03),\n",
        "    metrics=[\"accuracy\"]\n",
        ")\n",
        "\n",
        "\n",
        "history = model.fit(X_train_scaled, \n",
        "                    y_train, \n",
        "                    epochs=19,\n",
        "                    validation_data = (X_valid_scaled, y_valid),\n",
        "                    callbacks=[model_checkpoint])"
      ],
      "metadata": {
        "id": "q9VW_1RycyHm",
        "outputId": "f87e7e5a-5664-428b-b23c-3e5ffb49168a",
        "colab": {
          "base_uri": "https://localhost:8080/"
        }
      },
      "execution_count": 85,
      "outputs": [
        {
          "output_type": "stream",
          "name": "stdout",
          "text": [
            "Epoch 1/19\n",
            "4/4 [==============================] - 2s 117ms/step - loss: 0.7136 - accuracy: 0.4960 - val_loss: 0.6839 - val_accuracy: 0.5926\n",
            "Epoch 2/19\n",
            "4/4 [==============================] - 0s 38ms/step - loss: 0.6699 - accuracy: 0.5840 - val_loss: 0.6601 - val_accuracy: 0.5926\n",
            "Epoch 3/19\n",
            "4/4 [==============================] - 0s 34ms/step - loss: 0.6388 - accuracy: 0.5760 - val_loss: 0.6451 - val_accuracy: 0.6296\n",
            "Epoch 4/19\n",
            "4/4 [==============================] - 0s 43ms/step - loss: 0.6126 - accuracy: 0.6640 - val_loss: 0.6113 - val_accuracy: 0.6667\n",
            "Epoch 5/19\n",
            "4/4 [==============================] - 0s 26ms/step - loss: 0.5883 - accuracy: 0.6800 - val_loss: 0.6492 - val_accuracy: 0.7778\n",
            "Epoch 6/19\n",
            "4/4 [==============================] - 0s 15ms/step - loss: 0.5863 - accuracy: 0.6560 - val_loss: 0.6071 - val_accuracy: 0.7037\n",
            "Epoch 7/19\n",
            "4/4 [==============================] - 0s 17ms/step - loss: 0.5865 - accuracy: 0.6720 - val_loss: 0.6441 - val_accuracy: 0.7037\n",
            "Epoch 8/19\n",
            "4/4 [==============================] - 0s 17ms/step - loss: 0.5759 - accuracy: 0.7040 - val_loss: 0.6190 - val_accuracy: 0.6667\n",
            "Epoch 9/19\n",
            "4/4 [==============================] - 0s 21ms/step - loss: 0.5078 - accuracy: 0.8000 - val_loss: 0.7042 - val_accuracy: 0.6667\n",
            "Epoch 10/19\n",
            "4/4 [==============================] - 0s 14ms/step - loss: 0.4788 - accuracy: 0.7760 - val_loss: 0.6355 - val_accuracy: 0.7037\n",
            "Epoch 11/19\n",
            "4/4 [==============================] - 0s 19ms/step - loss: 0.4706 - accuracy: 0.7760 - val_loss: 0.8107 - val_accuracy: 0.6296\n",
            "Epoch 12/19\n",
            "4/4 [==============================] - 0s 15ms/step - loss: 0.4410 - accuracy: 0.7680 - val_loss: 0.7314 - val_accuracy: 0.6296\n",
            "Epoch 13/19\n",
            "4/4 [==============================] - 0s 18ms/step - loss: 0.3980 - accuracy: 0.8080 - val_loss: 0.8936 - val_accuracy: 0.6667\n",
            "Epoch 14/19\n",
            "4/4 [==============================] - 0s 12ms/step - loss: 0.3549 - accuracy: 0.8640 - val_loss: 0.8636 - val_accuracy: 0.6667\n",
            "Epoch 15/19\n",
            "4/4 [==============================] - 0s 15ms/step - loss: 0.3397 - accuracy: 0.8240 - val_loss: 1.0839 - val_accuracy: 0.6296\n",
            "Epoch 16/19\n",
            "4/4 [==============================] - 0s 17ms/step - loss: 0.2887 - accuracy: 0.8960 - val_loss: 1.0583 - val_accuracy: 0.5926\n",
            "Epoch 17/19\n",
            "4/4 [==============================] - 0s 14ms/step - loss: 0.2705 - accuracy: 0.8880 - val_loss: 1.3883 - val_accuracy: 0.5926\n",
            "Epoch 18/19\n",
            "4/4 [==============================] - 0s 21ms/step - loss: 0.3005 - accuracy: 0.8640 - val_loss: 1.3177 - val_accuracy: 0.5556\n",
            "Epoch 19/19\n",
            "4/4 [==============================] - 0s 16ms/step - loss: 0.2399 - accuracy: 0.8800 - val_loss: 1.4981 - val_accuracy: 0.6296\n"
          ]
        }
      ]
    },
    {
      "cell_type": "code",
      "source": [
        "model.evaluate(X_test, y_test)"
      ],
      "metadata": {
        "id": "LpO3HR26qyu3",
        "outputId": "db5da029-1387-4282-d4d0-38dd7483220b",
        "colab": {
          "base_uri": "https://localhost:8080/"
        }
      },
      "execution_count": 86,
      "outputs": [
        {
          "output_type": "stream",
          "name": "stdout",
          "text": [
            "1/1 [==============================] - 0s 56ms/step - loss: 142.6864 - accuracy: 0.3913\n"
          ]
        },
        {
          "output_type": "execute_result",
          "data": {
            "text/plain": [
              "[142.68637084960938, 0.3913043439388275]"
            ]
          },
          "metadata": {},
          "execution_count": 86
        }
      ]
    },
    {
      "cell_type": "code",
      "source": [
        "tf.random.set_seed(42)\n",
        "\n",
        "model = tf.keras.Sequential([\n",
        "    tf.keras.layers.Dense(19, activation='relu'),\n",
        "    tf.keras.layers.Dense(21, activation='relu'),\n",
        "    tf.keras.layers.Dense(21, activation='relu'),\n",
        "\n",
        "    # tf.keras.layers.Dense(20, activation='relu'),\n",
        "    # tf.keras.layers.Dense(10, activation='relu'),\n",
        "\n",
        "    # tf.keras.layers.Dense(256, activation='relu'),\n",
        "    tf.keras.layers.Dense(1, activation='sigmoid')\n",
        "])\n",
        "\n",
        "model.compile(\n",
        "    loss=tf.keras.losses.binary_crossentropy,\n",
        "    optimizer=tf.keras.optimizers.Adam(0.03),\n",
        "    metrics=[\"accuracy\"]\n",
        ")\n",
        "\n",
        "\n",
        "history = model.fit(X_train_scaled, \n",
        "                    y_train, \n",
        "                    epochs=22,\n",
        "                    validation_data = (X_valid_scaled, y_valid),\n",
        "                    callbacks=[model_checkpoint])"
      ],
      "metadata": {
        "id": "2tsjSDV7eP3u",
        "outputId": "8ec749f4-4eba-4f25-9488-47b8ec71232a",
        "colab": {
          "base_uri": "https://localhost:8080/"
        }
      },
      "execution_count": 87,
      "outputs": [
        {
          "output_type": "stream",
          "name": "stdout",
          "text": [
            "Epoch 1/22\n",
            "4/4 [==============================] - 1s 93ms/step - loss: 0.7110 - accuracy: 0.5440 - val_loss: 0.6811 - val_accuracy: 0.5556\n",
            "Epoch 2/22\n",
            "4/4 [==============================] - 0s 13ms/step - loss: 0.6818 - accuracy: 0.5680 - val_loss: 0.6692 - val_accuracy: 0.5926\n",
            "Epoch 3/22\n",
            "4/4 [==============================] - 0s 16ms/step - loss: 0.6612 - accuracy: 0.5920 - val_loss: 0.6499 - val_accuracy: 0.5926\n",
            "Epoch 4/22\n",
            "4/4 [==============================] - 0s 18ms/step - loss: 0.6472 - accuracy: 0.6000 - val_loss: 0.6180 - val_accuracy: 0.7407\n",
            "Epoch 5/22\n",
            "4/4 [==============================] - 0s 16ms/step - loss: 0.6323 - accuracy: 0.6400 - val_loss: 0.5949 - val_accuracy: 0.7037\n",
            "Epoch 6/22\n",
            "4/4 [==============================] - 0s 21ms/step - loss: 0.6059 - accuracy: 0.6640 - val_loss: 0.5794 - val_accuracy: 0.7778\n",
            "Epoch 7/22\n",
            "4/4 [==============================] - 0s 23ms/step - loss: 0.6077 - accuracy: 0.7120 - val_loss: 0.5748 - val_accuracy: 0.7778\n",
            "Epoch 8/22\n",
            "4/4 [==============================] - 0s 23ms/step - loss: 0.5826 - accuracy: 0.6960 - val_loss: 0.5924 - val_accuracy: 0.6296\n",
            "Epoch 9/22\n",
            "4/4 [==============================] - 0s 27ms/step - loss: 0.5454 - accuracy: 0.6960 - val_loss: 0.6479 - val_accuracy: 0.6667\n",
            "Epoch 10/22\n",
            "4/4 [==============================] - 0s 14ms/step - loss: 0.5179 - accuracy: 0.7600 - val_loss: 0.5942 - val_accuracy: 0.7407\n",
            "Epoch 11/22\n",
            "4/4 [==============================] - 0s 13ms/step - loss: 0.5234 - accuracy: 0.7200 - val_loss: 0.7353 - val_accuracy: 0.6667\n",
            "Epoch 12/22\n",
            "4/4 [==============================] - 0s 13ms/step - loss: 0.4877 - accuracy: 0.7680 - val_loss: 0.6232 - val_accuracy: 0.6667\n",
            "Epoch 13/22\n",
            "4/4 [==============================] - 0s 14ms/step - loss: 0.4766 - accuracy: 0.8240 - val_loss: 0.7085 - val_accuracy: 0.6296\n",
            "Epoch 14/22\n",
            "4/4 [==============================] - 0s 14ms/step - loss: 0.4488 - accuracy: 0.8240 - val_loss: 0.7705 - val_accuracy: 0.6296\n",
            "Epoch 15/22\n",
            "4/4 [==============================] - 0s 13ms/step - loss: 0.4689 - accuracy: 0.7520 - val_loss: 0.7705 - val_accuracy: 0.6296\n",
            "Epoch 16/22\n",
            "4/4 [==============================] - 0s 20ms/step - loss: 0.4239 - accuracy: 0.7760 - val_loss: 0.7244 - val_accuracy: 0.6667\n",
            "Epoch 17/22\n",
            "4/4 [==============================] - 0s 21ms/step - loss: 0.3935 - accuracy: 0.8320 - val_loss: 0.7485 - val_accuracy: 0.6296\n",
            "Epoch 18/22\n",
            "4/4 [==============================] - 0s 14ms/step - loss: 0.3786 - accuracy: 0.8320 - val_loss: 0.8719 - val_accuracy: 0.6667\n",
            "Epoch 19/22\n",
            "4/4 [==============================] - 0s 16ms/step - loss: 0.3837 - accuracy: 0.8240 - val_loss: 0.8274 - val_accuracy: 0.6667\n",
            "Epoch 20/22\n",
            "4/4 [==============================] - 0s 21ms/step - loss: 0.3957 - accuracy: 0.8160 - val_loss: 0.7986 - val_accuracy: 0.6296\n",
            "Epoch 21/22\n",
            "4/4 [==============================] - 0s 17ms/step - loss: 0.3794 - accuracy: 0.8400 - val_loss: 0.7454 - val_accuracy: 0.6667\n",
            "Epoch 22/22\n",
            "4/4 [==============================] - 0s 19ms/step - loss: 0.3498 - accuracy: 0.8400 - val_loss: 0.9456 - val_accuracy: 0.6667\n"
          ]
        }
      ]
    },
    {
      "cell_type": "code",
      "source": [
        "model.evaluate(X_test, y_test)  # loss: 466.6897 - accuracy: 0.5217"
      ],
      "metadata": {
        "id": "p6e78-hkq0FB",
        "outputId": "9abd6158-f81b-4970-89ce-126b1a1b44c7",
        "colab": {
          "base_uri": "https://localhost:8080/"
        }
      },
      "execution_count": 88,
      "outputs": [
        {
          "output_type": "stream",
          "name": "stdout",
          "text": [
            "1/1 [==============================] - 0s 31ms/step - loss: 21.6279 - accuracy: 0.5652\n"
          ]
        },
        {
          "output_type": "execute_result",
          "data": {
            "text/plain": [
              "[21.62794303894043, 0.5652173757553101]"
            ]
          },
          "metadata": {},
          "execution_count": 88
        }
      ]
    },
    {
      "cell_type": "code",
      "source": [
        "tf.random.set_seed(42)\n",
        "\n",
        "model = tf.keras.Sequential([\n",
        "    tf.keras.layers.Dense(19, activation='relu'),\n",
        "    tf.keras.layers.Dense(4, activation='relu'),\n",
        "    tf.keras.layers.Dense(4, activation='relu'),\n",
        "\n",
        "    # tf.keras.layers.Dense(20, activation='relu'),\n",
        "    # tf.keras.layers.Dense(10, activation='relu'),\n",
        "\n",
        "    # tf.keras.layers.Dense(256, activation='relu'),\n",
        "    tf.keras.layers.Dense(1, activation='sigmoid')\n",
        "])\n",
        "\n",
        "model.compile(\n",
        "    loss=tf.keras.losses.binary_crossentropy,\n",
        "    optimizer=tf.keras.optimizers.Adam(0.01),\n",
        "    metrics=[\"accuracy\"]\n",
        ")\n",
        "\n",
        "\n",
        "history = model.fit(X_train_scaled, \n",
        "                    y_train, \n",
        "                    epochs=100,\n",
        "                    validation_data = (X_valid_scaled, y_valid))#,\n",
        "                    # callbacks=[model_checkpoint])"
      ],
      "metadata": {
        "id": "6x7NFRwFeVwx",
        "outputId": "a77bd320-3503-4b4e-b381-d5e27829dd16",
        "colab": {
          "base_uri": "https://localhost:8080/"
        }
      },
      "execution_count": 89,
      "outputs": [
        {
          "output_type": "stream",
          "name": "stdout",
          "text": [
            "Epoch 1/100\n",
            "4/4 [==============================] - 1s 115ms/step - loss: 0.6895 - accuracy: 0.5840 - val_loss: 0.6729 - val_accuracy: 0.5926\n",
            "Epoch 2/100\n",
            "4/4 [==============================] - 0s 14ms/step - loss: 0.6702 - accuracy: 0.5840 - val_loss: 0.6612 - val_accuracy: 0.5926\n",
            "Epoch 3/100\n",
            "4/4 [==============================] - 0s 13ms/step - loss: 0.6579 - accuracy: 0.5840 - val_loss: 0.6521 - val_accuracy: 0.5926\n",
            "Epoch 4/100\n",
            "4/4 [==============================] - 0s 20ms/step - loss: 0.6481 - accuracy: 0.5840 - val_loss: 0.6416 - val_accuracy: 0.5926\n",
            "Epoch 5/100\n",
            "4/4 [==============================] - 0s 19ms/step - loss: 0.6346 - accuracy: 0.5840 - val_loss: 0.6308 - val_accuracy: 0.5926\n",
            "Epoch 6/100\n",
            "4/4 [==============================] - 0s 23ms/step - loss: 0.6277 - accuracy: 0.6560 - val_loss: 0.6223 - val_accuracy: 0.7037\n",
            "Epoch 7/100\n",
            "4/4 [==============================] - 0s 18ms/step - loss: 0.6231 - accuracy: 0.6480 - val_loss: 0.6233 - val_accuracy: 0.5926\n",
            "Epoch 8/100\n",
            "4/4 [==============================] - 0s 15ms/step - loss: 0.6078 - accuracy: 0.6480 - val_loss: 0.6075 - val_accuracy: 0.7037\n",
            "Epoch 9/100\n",
            "4/4 [==============================] - 0s 13ms/step - loss: 0.5982 - accuracy: 0.7120 - val_loss: 0.6045 - val_accuracy: 0.7037\n",
            "Epoch 10/100\n",
            "4/4 [==============================] - 0s 14ms/step - loss: 0.5915 - accuracy: 0.6960 - val_loss: 0.6146 - val_accuracy: 0.6296\n",
            "Epoch 11/100\n",
            "4/4 [==============================] - 0s 13ms/step - loss: 0.5828 - accuracy: 0.7440 - val_loss: 0.6062 - val_accuracy: 0.7037\n",
            "Epoch 12/100\n",
            "4/4 [==============================] - 0s 17ms/step - loss: 0.5763 - accuracy: 0.8000 - val_loss: 0.6114 - val_accuracy: 0.7037\n",
            "Epoch 13/100\n",
            "4/4 [==============================] - 0s 21ms/step - loss: 0.5669 - accuracy: 0.7280 - val_loss: 0.6271 - val_accuracy: 0.6296\n",
            "Epoch 14/100\n",
            "4/4 [==============================] - 0s 14ms/step - loss: 0.5622 - accuracy: 0.7440 - val_loss: 0.6136 - val_accuracy: 0.6667\n",
            "Epoch 15/100\n",
            "4/4 [==============================] - 0s 13ms/step - loss: 0.5699 - accuracy: 0.7600 - val_loss: 0.6217 - val_accuracy: 0.6667\n",
            "Epoch 16/100\n",
            "4/4 [==============================] - 0s 29ms/step - loss: 0.5448 - accuracy: 0.7840 - val_loss: 0.6519 - val_accuracy: 0.6667\n",
            "Epoch 17/100\n",
            "4/4 [==============================] - 0s 33ms/step - loss: 0.5497 - accuracy: 0.7600 - val_loss: 0.6228 - val_accuracy: 0.6667\n",
            "Epoch 18/100\n",
            "4/4 [==============================] - 0s 24ms/step - loss: 0.5367 - accuracy: 0.8000 - val_loss: 0.6352 - val_accuracy: 0.6667\n",
            "Epoch 19/100\n",
            "4/4 [==============================] - 0s 26ms/step - loss: 0.5305 - accuracy: 0.7680 - val_loss: 0.6565 - val_accuracy: 0.6667\n",
            "Epoch 20/100\n",
            "4/4 [==============================] - 0s 13ms/step - loss: 0.5183 - accuracy: 0.7840 - val_loss: 0.6531 - val_accuracy: 0.6667\n",
            "Epoch 21/100\n",
            "4/4 [==============================] - 0s 13ms/step - loss: 0.5112 - accuracy: 0.7920 - val_loss: 0.6695 - val_accuracy: 0.6667\n",
            "Epoch 22/100\n",
            "4/4 [==============================] - 0s 15ms/step - loss: 0.4981 - accuracy: 0.8000 - val_loss: 0.6712 - val_accuracy: 0.6667\n",
            "Epoch 23/100\n",
            "4/4 [==============================] - 0s 14ms/step - loss: 0.4944 - accuracy: 0.8000 - val_loss: 0.6913 - val_accuracy: 0.6667\n",
            "Epoch 24/100\n",
            "4/4 [==============================] - 0s 17ms/step - loss: 0.4781 - accuracy: 0.8000 - val_loss: 0.6887 - val_accuracy: 0.6667\n",
            "Epoch 25/100\n",
            "4/4 [==============================] - 0s 16ms/step - loss: 0.4753 - accuracy: 0.8160 - val_loss: 0.7569 - val_accuracy: 0.6667\n",
            "Epoch 26/100\n",
            "4/4 [==============================] - 0s 16ms/step - loss: 0.4592 - accuracy: 0.8160 - val_loss: 0.7286 - val_accuracy: 0.6667\n",
            "Epoch 27/100\n",
            "4/4 [==============================] - 0s 15ms/step - loss: 0.4506 - accuracy: 0.8080 - val_loss: 0.7471 - val_accuracy: 0.6667\n",
            "Epoch 28/100\n",
            "4/4 [==============================] - 0s 23ms/step - loss: 0.4289 - accuracy: 0.8400 - val_loss: 0.8118 - val_accuracy: 0.6667\n",
            "Epoch 29/100\n",
            "4/4 [==============================] - 0s 14ms/step - loss: 0.4093 - accuracy: 0.8240 - val_loss: 0.8014 - val_accuracy: 0.6667\n",
            "Epoch 30/100\n",
            "4/4 [==============================] - 0s 33ms/step - loss: 0.4077 - accuracy: 0.8400 - val_loss: 0.8734 - val_accuracy: 0.6667\n",
            "Epoch 31/100\n",
            "4/4 [==============================] - 0s 19ms/step - loss: 0.3694 - accuracy: 0.8480 - val_loss: 0.8660 - val_accuracy: 0.6296\n",
            "Epoch 32/100\n",
            "4/4 [==============================] - 0s 22ms/step - loss: 0.3700 - accuracy: 0.8640 - val_loss: 1.0368 - val_accuracy: 0.6667\n",
            "Epoch 33/100\n",
            "4/4 [==============================] - 0s 20ms/step - loss: 0.3577 - accuracy: 0.8480 - val_loss: 0.9442 - val_accuracy: 0.5926\n",
            "Epoch 34/100\n",
            "4/4 [==============================] - 0s 16ms/step - loss: 0.3512 - accuracy: 0.8720 - val_loss: 1.1481 - val_accuracy: 0.6667\n",
            "Epoch 35/100\n",
            "4/4 [==============================] - 0s 22ms/step - loss: 0.3161 - accuracy: 0.8880 - val_loss: 0.9931 - val_accuracy: 0.5926\n",
            "Epoch 36/100\n",
            "4/4 [==============================] - 0s 17ms/step - loss: 0.3246 - accuracy: 0.8800 - val_loss: 1.2166 - val_accuracy: 0.6667\n",
            "Epoch 37/100\n",
            "4/4 [==============================] - 0s 17ms/step - loss: 0.3162 - accuracy: 0.8960 - val_loss: 1.1854 - val_accuracy: 0.6296\n",
            "Epoch 38/100\n",
            "4/4 [==============================] - 0s 14ms/step - loss: 0.2945 - accuracy: 0.8800 - val_loss: 1.2722 - val_accuracy: 0.6296\n",
            "Epoch 39/100\n",
            "4/4 [==============================] - 0s 20ms/step - loss: 0.2642 - accuracy: 0.9200 - val_loss: 1.1647 - val_accuracy: 0.6296\n",
            "Epoch 40/100\n",
            "4/4 [==============================] - 0s 29ms/step - loss: 0.2731 - accuracy: 0.9120 - val_loss: 1.3721 - val_accuracy: 0.6296\n",
            "Epoch 41/100\n",
            "4/4 [==============================] - 0s 11ms/step - loss: 0.2563 - accuracy: 0.9120 - val_loss: 1.2275 - val_accuracy: 0.5926\n",
            "Epoch 42/100\n",
            "4/4 [==============================] - 0s 14ms/step - loss: 0.2502 - accuracy: 0.9360 - val_loss: 1.3970 - val_accuracy: 0.6296\n",
            "Epoch 43/100\n",
            "4/4 [==============================] - 0s 14ms/step - loss: 0.2320 - accuracy: 0.9360 - val_loss: 1.4885 - val_accuracy: 0.6296\n",
            "Epoch 44/100\n",
            "4/4 [==============================] - 0s 15ms/step - loss: 0.2346 - accuracy: 0.9200 - val_loss: 1.3885 - val_accuracy: 0.6296\n",
            "Epoch 45/100\n",
            "4/4 [==============================] - 0s 22ms/step - loss: 0.2401 - accuracy: 0.9120 - val_loss: 1.6702 - val_accuracy: 0.6296\n",
            "Epoch 46/100\n",
            "4/4 [==============================] - 0s 14ms/step - loss: 0.1981 - accuracy: 0.9360 - val_loss: 1.5639 - val_accuracy: 0.6296\n",
            "Epoch 47/100\n",
            "4/4 [==============================] - 0s 12ms/step - loss: 0.1840 - accuracy: 0.9520 - val_loss: 1.5303 - val_accuracy: 0.6296\n",
            "Epoch 48/100\n",
            "4/4 [==============================] - 0s 18ms/step - loss: 0.1732 - accuracy: 0.9680 - val_loss: 1.7024 - val_accuracy: 0.6296\n",
            "Epoch 49/100\n",
            "4/4 [==============================] - 0s 23ms/step - loss: 0.1632 - accuracy: 0.9600 - val_loss: 1.6053 - val_accuracy: 0.5926\n",
            "Epoch 50/100\n",
            "4/4 [==============================] - 0s 16ms/step - loss: 0.1566 - accuracy: 0.9680 - val_loss: 1.8651 - val_accuracy: 0.6296\n",
            "Epoch 51/100\n",
            "4/4 [==============================] - 0s 16ms/step - loss: 0.1689 - accuracy: 0.9360 - val_loss: 1.6536 - val_accuracy: 0.6296\n",
            "Epoch 52/100\n",
            "4/4 [==============================] - 0s 14ms/step - loss: 0.1661 - accuracy: 0.9600 - val_loss: 1.9693 - val_accuracy: 0.6296\n",
            "Epoch 53/100\n",
            "4/4 [==============================] - 0s 26ms/step - loss: 0.1651 - accuracy: 0.9440 - val_loss: 1.6759 - val_accuracy: 0.5926\n",
            "Epoch 54/100\n",
            "4/4 [==============================] - 0s 29ms/step - loss: 0.1548 - accuracy: 0.9680 - val_loss: 2.1312 - val_accuracy: 0.6296\n",
            "Epoch 55/100\n",
            "4/4 [==============================] - 0s 20ms/step - loss: 0.1594 - accuracy: 0.9440 - val_loss: 1.7568 - val_accuracy: 0.5926\n",
            "Epoch 56/100\n",
            "4/4 [==============================] - 0s 27ms/step - loss: 0.1371 - accuracy: 0.9680 - val_loss: 2.0538 - val_accuracy: 0.6296\n",
            "Epoch 57/100\n",
            "4/4 [==============================] - 0s 30ms/step - loss: 0.1362 - accuracy: 0.9520 - val_loss: 1.9107 - val_accuracy: 0.6296\n",
            "Epoch 58/100\n",
            "4/4 [==============================] - 0s 16ms/step - loss: 0.1467 - accuracy: 0.9680 - val_loss: 2.2350 - val_accuracy: 0.6296\n",
            "Epoch 59/100\n",
            "4/4 [==============================] - 0s 28ms/step - loss: 0.1378 - accuracy: 0.9440 - val_loss: 1.9955 - val_accuracy: 0.6296\n",
            "Epoch 60/100\n",
            "4/4 [==============================] - 0s 22ms/step - loss: 0.1029 - accuracy: 0.9760 - val_loss: 2.2229 - val_accuracy: 0.6296\n",
            "Epoch 61/100\n",
            "4/4 [==============================] - 0s 22ms/step - loss: 0.1024 - accuracy: 0.9760 - val_loss: 2.0295 - val_accuracy: 0.6296\n",
            "Epoch 62/100\n",
            "4/4 [==============================] - 0s 20ms/step - loss: 0.1139 - accuracy: 0.9600 - val_loss: 2.5479 - val_accuracy: 0.6296\n",
            "Epoch 63/100\n",
            "4/4 [==============================] - 0s 15ms/step - loss: 0.1201 - accuracy: 0.9600 - val_loss: 2.1600 - val_accuracy: 0.6296\n",
            "Epoch 64/100\n",
            "4/4 [==============================] - 0s 19ms/step - loss: 0.1131 - accuracy: 0.9680 - val_loss: 2.3060 - val_accuracy: 0.6296\n",
            "Epoch 65/100\n",
            "4/4 [==============================] - 0s 15ms/step - loss: 0.1110 - accuracy: 0.9680 - val_loss: 2.4004 - val_accuracy: 0.6296\n",
            "Epoch 66/100\n",
            "4/4 [==============================] - 0s 13ms/step - loss: 0.0857 - accuracy: 0.9760 - val_loss: 2.2286 - val_accuracy: 0.6296\n",
            "Epoch 67/100\n",
            "4/4 [==============================] - 0s 20ms/step - loss: 0.0790 - accuracy: 0.9760 - val_loss: 2.5424 - val_accuracy: 0.6296\n",
            "Epoch 68/100\n",
            "4/4 [==============================] - 0s 36ms/step - loss: 0.0705 - accuracy: 0.9840 - val_loss: 2.4986 - val_accuracy: 0.6296\n",
            "Epoch 69/100\n",
            "4/4 [==============================] - 0s 32ms/step - loss: 0.0682 - accuracy: 0.9840 - val_loss: 2.5706 - val_accuracy: 0.6296\n",
            "Epoch 70/100\n",
            "4/4 [==============================] - 0s 37ms/step - loss: 0.0714 - accuracy: 0.9840 - val_loss: 2.6693 - val_accuracy: 0.6296\n",
            "Epoch 71/100\n",
            "4/4 [==============================] - 0s 14ms/step - loss: 0.0612 - accuracy: 0.9840 - val_loss: 2.5835 - val_accuracy: 0.6296\n",
            "Epoch 72/100\n",
            "4/4 [==============================] - 0s 14ms/step - loss: 0.0595 - accuracy: 0.9840 - val_loss: 2.7680 - val_accuracy: 0.6296\n",
            "Epoch 73/100\n",
            "4/4 [==============================] - 0s 20ms/step - loss: 0.0632 - accuracy: 0.9840 - val_loss: 2.6804 - val_accuracy: 0.6296\n",
            "Epoch 74/100\n",
            "4/4 [==============================] - 0s 40ms/step - loss: 0.0639 - accuracy: 0.9840 - val_loss: 2.7178 - val_accuracy: 0.6296\n",
            "Epoch 75/100\n",
            "4/4 [==============================] - 0s 14ms/step - loss: 0.0571 - accuracy: 0.9840 - val_loss: 2.9379 - val_accuracy: 0.6296\n",
            "Epoch 76/100\n",
            "4/4 [==============================] - 0s 22ms/step - loss: 0.0563 - accuracy: 0.9840 - val_loss: 2.7872 - val_accuracy: 0.6296\n",
            "Epoch 77/100\n",
            "4/4 [==============================] - 0s 16ms/step - loss: 0.0598 - accuracy: 0.9840 - val_loss: 2.8413 - val_accuracy: 0.6296\n",
            "Epoch 78/100\n",
            "4/4 [==============================] - 0s 13ms/step - loss: 0.0651 - accuracy: 0.9840 - val_loss: 2.9605 - val_accuracy: 0.6296\n",
            "Epoch 79/100\n",
            "4/4 [==============================] - 0s 15ms/step - loss: 0.0721 - accuracy: 0.9840 - val_loss: 2.9046 - val_accuracy: 0.6296\n",
            "Epoch 80/100\n",
            "4/4 [==============================] - 0s 15ms/step - loss: 0.0666 - accuracy: 0.9840 - val_loss: 3.1277 - val_accuracy: 0.6296\n",
            "Epoch 81/100\n",
            "4/4 [==============================] - 0s 14ms/step - loss: 0.0551 - accuracy: 0.9840 - val_loss: 2.8245 - val_accuracy: 0.6296\n",
            "Epoch 82/100\n",
            "4/4 [==============================] - 0s 15ms/step - loss: 0.0501 - accuracy: 0.9840 - val_loss: 3.2215 - val_accuracy: 0.6296\n",
            "Epoch 83/100\n",
            "4/4 [==============================] - 0s 14ms/step - loss: 0.0516 - accuracy: 0.9840 - val_loss: 3.0996 - val_accuracy: 0.6296\n",
            "Epoch 84/100\n",
            "4/4 [==============================] - 0s 15ms/step - loss: 0.0479 - accuracy: 0.9840 - val_loss: 2.9723 - val_accuracy: 0.6296\n",
            "Epoch 85/100\n",
            "4/4 [==============================] - 0s 46ms/step - loss: 0.0540 - accuracy: 0.9760 - val_loss: 3.2014 - val_accuracy: 0.6296\n",
            "Epoch 86/100\n",
            "4/4 [==============================] - 0s 31ms/step - loss: 0.0420 - accuracy: 0.9840 - val_loss: 3.1085 - val_accuracy: 0.6296\n",
            "Epoch 87/100\n",
            "4/4 [==============================] - 0s 17ms/step - loss: 0.0416 - accuracy: 0.9840 - val_loss: 3.3027 - val_accuracy: 0.6296\n",
            "Epoch 88/100\n",
            "4/4 [==============================] - 0s 15ms/step - loss: 0.0392 - accuracy: 0.9840 - val_loss: 3.3793 - val_accuracy: 0.6296\n",
            "Epoch 89/100\n",
            "4/4 [==============================] - 0s 13ms/step - loss: 0.0354 - accuracy: 0.9840 - val_loss: 3.3145 - val_accuracy: 0.6296\n",
            "Epoch 90/100\n",
            "4/4 [==============================] - 0s 14ms/step - loss: 0.0350 - accuracy: 0.9840 - val_loss: 3.2818 - val_accuracy: 0.6296\n",
            "Epoch 91/100\n",
            "4/4 [==============================] - 0s 17ms/step - loss: 0.0338 - accuracy: 0.9840 - val_loss: 3.3916 - val_accuracy: 0.6296\n",
            "Epoch 92/100\n",
            "4/4 [==============================] - 0s 19ms/step - loss: 0.0325 - accuracy: 0.9840 - val_loss: 3.4996 - val_accuracy: 0.6296\n",
            "Epoch 93/100\n",
            "4/4 [==============================] - 0s 14ms/step - loss: 0.0320 - accuracy: 0.9840 - val_loss: 3.5258 - val_accuracy: 0.6296\n",
            "Epoch 94/100\n",
            "4/4 [==============================] - 0s 15ms/step - loss: 0.0300 - accuracy: 0.9840 - val_loss: 3.5027 - val_accuracy: 0.6296\n",
            "Epoch 95/100\n",
            "4/4 [==============================] - 0s 16ms/step - loss: 0.0293 - accuracy: 0.9840 - val_loss: 3.6686 - val_accuracy: 0.6296\n",
            "Epoch 96/100\n",
            "4/4 [==============================] - 0s 12ms/step - loss: 0.0262 - accuracy: 0.9840 - val_loss: 3.7441 - val_accuracy: 0.6296\n",
            "Epoch 97/100\n",
            "4/4 [==============================] - 0s 12ms/step - loss: 0.0220 - accuracy: 0.9920 - val_loss: 3.6957 - val_accuracy: 0.6296\n",
            "Epoch 98/100\n",
            "4/4 [==============================] - 0s 13ms/step - loss: 0.0224 - accuracy: 0.9920 - val_loss: 3.7758 - val_accuracy: 0.6296\n",
            "Epoch 99/100\n",
            "4/4 [==============================] - 0s 12ms/step - loss: 0.0231 - accuracy: 0.9920 - val_loss: 3.8411 - val_accuracy: 0.6296\n",
            "Epoch 100/100\n",
            "4/4 [==============================] - 0s 13ms/step - loss: 0.0172 - accuracy: 1.0000 - val_loss: 3.8491 - val_accuracy: 0.6296\n"
          ]
        }
      ]
    },
    {
      "cell_type": "code",
      "source": [
        "model.evaluate(X_test, y_test) # loss: 203.7137 - accuracy: 0.5217 047"
      ],
      "metadata": {
        "id": "CKJfsbhUq01R",
        "outputId": "92038373-8ac2-4d41-8bea-66ee1b0a442d",
        "colab": {
          "base_uri": "https://localhost:8080/"
        }
      },
      "execution_count": 90,
      "outputs": [
        {
          "output_type": "stream",
          "name": "stdout",
          "text": [
            "1/1 [==============================] - 0s 35ms/step - loss: 67.5471 - accuracy: 0.4783\n"
          ]
        },
        {
          "output_type": "execute_result",
          "data": {
            "text/plain": [
              "[67.54711151123047, 0.47826087474823]"
            ]
          },
          "metadata": {},
          "execution_count": 90
        }
      ]
    },
    {
      "cell_type": "code",
      "source": [
        "tf.random.set_seed(42)\n",
        "\n",
        "model = tf.keras.Sequential([\n",
        "    tf.keras.layers.Dense(19, activation='relu'),\n",
        "    tf.keras.layers.Dense(10, activation='relu'),\n",
        "    tf.keras.layers.Dense(10, activation='relu'),\n",
        "\n",
        "    # tf.keras.layers.Dense(20, activation='relu'),\n",
        "    # tf.keras.layers.Dense(10, activation='relu'),\n",
        "\n",
        "    # tf.keras.layers.Dense(256, activation='relu'),\n",
        "    tf.keras.layers.Dense(1, activation='sigmoid')\n",
        "])\n",
        "\n",
        "model.compile(\n",
        "    loss=tf.keras.losses.binary_crossentropy,\n",
        "    optimizer=tf.keras.optimizers.Adam(0.01),\n",
        "    metrics=[\"accuracy\"]\n",
        ")\n",
        "\n",
        "\n",
        "history = model.fit(X_train_scaled, \n",
        "                    y_train, \n",
        "                    epochs=150,\n",
        "                    validation_data = (X_valid_scaled, y_valid),\n",
        "                    callbacks=[model_checkpoint])"
      ],
      "metadata": {
        "id": "9uRfoFpYeXtB",
        "outputId": "52736f38-3ea3-4fad-c9df-24208343aac2",
        "colab": {
          "base_uri": "https://localhost:8080/"
        }
      },
      "execution_count": 91,
      "outputs": [
        {
          "output_type": "stream",
          "name": "stdout",
          "text": [
            "Epoch 1/150\n",
            "4/4 [==============================] - 1s 53ms/step - loss: 0.7202 - accuracy: 0.4320 - val_loss: 0.7028 - val_accuracy: 0.5556\n",
            "Epoch 2/150\n",
            "4/4 [==============================] - 0s 11ms/step - loss: 0.6792 - accuracy: 0.5840 - val_loss: 0.6907 - val_accuracy: 0.5926\n",
            "Epoch 3/150\n",
            "4/4 [==============================] - 0s 10ms/step - loss: 0.6644 - accuracy: 0.5840 - val_loss: 0.6778 - val_accuracy: 0.5926\n",
            "Epoch 4/150\n",
            "4/4 [==============================] - 0s 8ms/step - loss: 0.6550 - accuracy: 0.5840 - val_loss: 0.6689 - val_accuracy: 0.5926\n",
            "Epoch 5/150\n",
            "4/4 [==============================] - 0s 8ms/step - loss: 0.6451 - accuracy: 0.6000 - val_loss: 0.6575 - val_accuracy: 0.5926\n",
            "Epoch 6/150\n",
            "4/4 [==============================] - 0s 9ms/step - loss: 0.6389 - accuracy: 0.6480 - val_loss: 0.6455 - val_accuracy: 0.6667\n",
            "Epoch 7/150\n",
            "4/4 [==============================] - 0s 9ms/step - loss: 0.6374 - accuracy: 0.6400 - val_loss: 0.6564 - val_accuracy: 0.5926\n",
            "Epoch 8/150\n",
            "4/4 [==============================] - 0s 10ms/step - loss: 0.6192 - accuracy: 0.6880 - val_loss: 0.6262 - val_accuracy: 0.7037\n",
            "Epoch 9/150\n",
            "4/4 [==============================] - 0s 9ms/step - loss: 0.6046 - accuracy: 0.6640 - val_loss: 0.6170 - val_accuracy: 0.7407\n",
            "Epoch 10/150\n",
            "4/4 [==============================] - 0s 9ms/step - loss: 0.5877 - accuracy: 0.7040 - val_loss: 0.6155 - val_accuracy: 0.6667\n",
            "Epoch 11/150\n",
            "4/4 [==============================] - 0s 9ms/step - loss: 0.5747 - accuracy: 0.7040 - val_loss: 0.6018 - val_accuracy: 0.6667\n",
            "Epoch 12/150\n",
            "4/4 [==============================] - 0s 9ms/step - loss: 0.5591 - accuracy: 0.7040 - val_loss: 0.6005 - val_accuracy: 0.6667\n",
            "Epoch 13/150\n",
            "4/4 [==============================] - 0s 9ms/step - loss: 0.5383 - accuracy: 0.7360 - val_loss: 0.5975 - val_accuracy: 0.6667\n",
            "Epoch 14/150\n",
            "4/4 [==============================] - 0s 14ms/step - loss: 0.5237 - accuracy: 0.7680 - val_loss: 0.5725 - val_accuracy: 0.7407\n",
            "Epoch 15/150\n",
            "4/4 [==============================] - 0s 10ms/step - loss: 0.5133 - accuracy: 0.7680 - val_loss: 0.6378 - val_accuracy: 0.6667\n",
            "Epoch 16/150\n",
            "4/4 [==============================] - 0s 10ms/step - loss: 0.4928 - accuracy: 0.7520 - val_loss: 0.6021 - val_accuracy: 0.6296\n",
            "Epoch 17/150\n",
            "4/4 [==============================] - 0s 9ms/step - loss: 0.4746 - accuracy: 0.7760 - val_loss: 0.6329 - val_accuracy: 0.6296\n",
            "Epoch 18/150\n",
            "4/4 [==============================] - 0s 9ms/step - loss: 0.4505 - accuracy: 0.8000 - val_loss: 0.7223 - val_accuracy: 0.6296\n",
            "Epoch 19/150\n",
            "4/4 [==============================] - 0s 9ms/step - loss: 0.4274 - accuracy: 0.8160 - val_loss: 0.6320 - val_accuracy: 0.6667\n",
            "Epoch 20/150\n",
            "4/4 [==============================] - 0s 10ms/step - loss: 0.4463 - accuracy: 0.7760 - val_loss: 0.8201 - val_accuracy: 0.5556\n",
            "Epoch 21/150\n",
            "4/4 [==============================] - 0s 11ms/step - loss: 0.3863 - accuracy: 0.8560 - val_loss: 0.7114 - val_accuracy: 0.6296\n",
            "Epoch 22/150\n",
            "4/4 [==============================] - 0s 9ms/step - loss: 0.3886 - accuracy: 0.8240 - val_loss: 0.8536 - val_accuracy: 0.5926\n",
            "Epoch 23/150\n",
            "4/4 [==============================] - 0s 10ms/step - loss: 0.3676 - accuracy: 0.8480 - val_loss: 0.8152 - val_accuracy: 0.6667\n",
            "Epoch 24/150\n",
            "4/4 [==============================] - 0s 11ms/step - loss: 0.3590 - accuracy: 0.8560 - val_loss: 0.8851 - val_accuracy: 0.6296\n",
            "Epoch 25/150\n",
            "4/4 [==============================] - 0s 9ms/step - loss: 0.3578 - accuracy: 0.8400 - val_loss: 0.8688 - val_accuracy: 0.6296\n",
            "Epoch 26/150\n",
            "4/4 [==============================] - 0s 10ms/step - loss: 0.3334 - accuracy: 0.8800 - val_loss: 0.9390 - val_accuracy: 0.6296\n",
            "Epoch 27/150\n",
            "4/4 [==============================] - 0s 10ms/step - loss: 0.3591 - accuracy: 0.8320 - val_loss: 0.9317 - val_accuracy: 0.6296\n",
            "Epoch 28/150\n",
            "4/4 [==============================] - 0s 12ms/step - loss: 0.3351 - accuracy: 0.8640 - val_loss: 0.9758 - val_accuracy: 0.6296\n",
            "Epoch 29/150\n",
            "4/4 [==============================] - 0s 9ms/step - loss: 0.3044 - accuracy: 0.8480 - val_loss: 1.0918 - val_accuracy: 0.6296\n",
            "Epoch 30/150\n",
            "4/4 [==============================] - 0s 9ms/step - loss: 0.2738 - accuracy: 0.8960 - val_loss: 0.9121 - val_accuracy: 0.6296\n",
            "Epoch 31/150\n",
            "4/4 [==============================] - 0s 10ms/step - loss: 0.2832 - accuracy: 0.8800 - val_loss: 1.1362 - val_accuracy: 0.6296\n",
            "Epoch 32/150\n",
            "4/4 [==============================] - 0s 12ms/step - loss: 0.2530 - accuracy: 0.9120 - val_loss: 1.0968 - val_accuracy: 0.6296\n",
            "Epoch 33/150\n",
            "4/4 [==============================] - 0s 9ms/step - loss: 0.2365 - accuracy: 0.9040 - val_loss: 1.1943 - val_accuracy: 0.6296\n",
            "Epoch 34/150\n",
            "4/4 [==============================] - 0s 10ms/step - loss: 0.2364 - accuracy: 0.9040 - val_loss: 1.1401 - val_accuracy: 0.6667\n",
            "Epoch 35/150\n",
            "4/4 [==============================] - 0s 9ms/step - loss: 0.2142 - accuracy: 0.9360 - val_loss: 1.1681 - val_accuracy: 0.6296\n",
            "Epoch 36/150\n",
            "4/4 [==============================] - 0s 9ms/step - loss: 0.2075 - accuracy: 0.9200 - val_loss: 1.3020 - val_accuracy: 0.5926\n",
            "Epoch 37/150\n",
            "4/4 [==============================] - 0s 9ms/step - loss: 0.2189 - accuracy: 0.9120 - val_loss: 1.2983 - val_accuracy: 0.6296\n",
            "Epoch 38/150\n",
            "4/4 [==============================] - 0s 10ms/step - loss: 0.2068 - accuracy: 0.9200 - val_loss: 1.2327 - val_accuracy: 0.6296\n",
            "Epoch 39/150\n",
            "4/4 [==============================] - 0s 10ms/step - loss: 0.1734 - accuracy: 0.9440 - val_loss: 1.2710 - val_accuracy: 0.6296\n",
            "Epoch 40/150\n",
            "4/4 [==============================] - 0s 10ms/step - loss: 0.1714 - accuracy: 0.9440 - val_loss: 1.4061 - val_accuracy: 0.6667\n",
            "Epoch 41/150\n",
            "4/4 [==============================] - 0s 9ms/step - loss: 0.1517 - accuracy: 0.9520 - val_loss: 1.3563 - val_accuracy: 0.6296\n",
            "Epoch 42/150\n",
            "4/4 [==============================] - 0s 9ms/step - loss: 0.1408 - accuracy: 0.9600 - val_loss: 1.4579 - val_accuracy: 0.6667\n",
            "Epoch 43/150\n",
            "4/4 [==============================] - 0s 8ms/step - loss: 0.1348 - accuracy: 0.9600 - val_loss: 1.4543 - val_accuracy: 0.6296\n",
            "Epoch 44/150\n",
            "4/4 [==============================] - 0s 8ms/step - loss: 0.1250 - accuracy: 0.9600 - val_loss: 1.4900 - val_accuracy: 0.6667\n",
            "Epoch 45/150\n",
            "4/4 [==============================] - 0s 10ms/step - loss: 0.1172 - accuracy: 0.9680 - val_loss: 1.5086 - val_accuracy: 0.6667\n",
            "Epoch 46/150\n",
            "4/4 [==============================] - 0s 10ms/step - loss: 0.1061 - accuracy: 0.9680 - val_loss: 1.6061 - val_accuracy: 0.7037\n",
            "Epoch 47/150\n",
            "4/4 [==============================] - 0s 11ms/step - loss: 0.1159 - accuracy: 0.9600 - val_loss: 1.5123 - val_accuracy: 0.5926\n",
            "Epoch 48/150\n",
            "4/4 [==============================] - 0s 9ms/step - loss: 0.0927 - accuracy: 0.9840 - val_loss: 1.7220 - val_accuracy: 0.6296\n",
            "Epoch 49/150\n",
            "4/4 [==============================] - 0s 10ms/step - loss: 0.0898 - accuracy: 0.9520 - val_loss: 1.7020 - val_accuracy: 0.6296\n",
            "Epoch 50/150\n",
            "4/4 [==============================] - 0s 9ms/step - loss: 0.0699 - accuracy: 0.9840 - val_loss: 1.7786 - val_accuracy: 0.6667\n",
            "Epoch 51/150\n",
            "4/4 [==============================] - 0s 12ms/step - loss: 0.0849 - accuracy: 0.9840 - val_loss: 1.8201 - val_accuracy: 0.6296\n",
            "Epoch 52/150\n",
            "4/4 [==============================] - 0s 9ms/step - loss: 0.0585 - accuracy: 0.9920 - val_loss: 1.8200 - val_accuracy: 0.6296\n",
            "Epoch 53/150\n",
            "4/4 [==============================] - 0s 11ms/step - loss: 0.0615 - accuracy: 1.0000 - val_loss: 1.9022 - val_accuracy: 0.6296\n",
            "Epoch 54/150\n",
            "4/4 [==============================] - 0s 11ms/step - loss: 0.0573 - accuracy: 1.0000 - val_loss: 2.1573 - val_accuracy: 0.6296\n",
            "Epoch 55/150\n",
            "4/4 [==============================] - 0s 10ms/step - loss: 0.0484 - accuracy: 1.0000 - val_loss: 2.0732 - val_accuracy: 0.6296\n",
            "Epoch 56/150\n",
            "4/4 [==============================] - 0s 10ms/step - loss: 0.0419 - accuracy: 1.0000 - val_loss: 2.2515 - val_accuracy: 0.6667\n",
            "Epoch 57/150\n",
            "4/4 [==============================] - 0s 11ms/step - loss: 0.0408 - accuracy: 1.0000 - val_loss: 2.3294 - val_accuracy: 0.6296\n",
            "Epoch 58/150\n",
            "4/4 [==============================] - 0s 10ms/step - loss: 0.0645 - accuracy: 0.9760 - val_loss: 3.0498 - val_accuracy: 0.5556\n",
            "Epoch 59/150\n",
            "4/4 [==============================] - 0s 10ms/step - loss: 0.2321 - accuracy: 0.8800 - val_loss: 2.1764 - val_accuracy: 0.5926\n",
            "Epoch 60/150\n",
            "4/4 [==============================] - 0s 11ms/step - loss: 0.1336 - accuracy: 0.9360 - val_loss: 2.4364 - val_accuracy: 0.6296\n",
            "Epoch 61/150\n",
            "4/4 [==============================] - 0s 10ms/step - loss: 0.0843 - accuracy: 0.9760 - val_loss: 2.2527 - val_accuracy: 0.6296\n",
            "Epoch 62/150\n",
            "4/4 [==============================] - 0s 11ms/step - loss: 0.0552 - accuracy: 0.9920 - val_loss: 2.8435 - val_accuracy: 0.6296\n",
            "Epoch 63/150\n",
            "4/4 [==============================] - 0s 9ms/step - loss: 0.0602 - accuracy: 0.9760 - val_loss: 2.3502 - val_accuracy: 0.6296\n",
            "Epoch 64/150\n",
            "4/4 [==============================] - 0s 10ms/step - loss: 0.0478 - accuracy: 0.9840 - val_loss: 2.5935 - val_accuracy: 0.6296\n",
            "Epoch 65/150\n",
            "4/4 [==============================] - 0s 10ms/step - loss: 0.0340 - accuracy: 0.9920 - val_loss: 2.6537 - val_accuracy: 0.5926\n",
            "Epoch 66/150\n",
            "4/4 [==============================] - 0s 10ms/step - loss: 0.0267 - accuracy: 0.9920 - val_loss: 2.5280 - val_accuracy: 0.6296\n",
            "Epoch 67/150\n",
            "4/4 [==============================] - 0s 9ms/step - loss: 0.0239 - accuracy: 1.0000 - val_loss: 2.7944 - val_accuracy: 0.6296\n",
            "Epoch 68/150\n",
            "4/4 [==============================] - 0s 9ms/step - loss: 0.0216 - accuracy: 1.0000 - val_loss: 2.5599 - val_accuracy: 0.6296\n",
            "Epoch 69/150\n",
            "4/4 [==============================] - 0s 9ms/step - loss: 0.0189 - accuracy: 1.0000 - val_loss: 2.5209 - val_accuracy: 0.6296\n",
            "Epoch 70/150\n",
            "4/4 [==============================] - 0s 9ms/step - loss: 0.0157 - accuracy: 1.0000 - val_loss: 2.7266 - val_accuracy: 0.6296\n",
            "Epoch 71/150\n",
            "4/4 [==============================] - 0s 9ms/step - loss: 0.0183 - accuracy: 1.0000 - val_loss: 2.7231 - val_accuracy: 0.6296\n",
            "Epoch 72/150\n",
            "4/4 [==============================] - 0s 9ms/step - loss: 0.0140 - accuracy: 1.0000 - val_loss: 2.6135 - val_accuracy: 0.6296\n",
            "Epoch 73/150\n",
            "4/4 [==============================] - 0s 9ms/step - loss: 0.0143 - accuracy: 1.0000 - val_loss: 2.8605 - val_accuracy: 0.5926\n",
            "Epoch 74/150\n",
            "4/4 [==============================] - 0s 9ms/step - loss: 0.0114 - accuracy: 1.0000 - val_loss: 2.9737 - val_accuracy: 0.5926\n",
            "Epoch 75/150\n",
            "4/4 [==============================] - 0s 10ms/step - loss: 0.0095 - accuracy: 1.0000 - val_loss: 2.8156 - val_accuracy: 0.6296\n",
            "Epoch 76/150\n",
            "4/4 [==============================] - 0s 9ms/step - loss: 0.0089 - accuracy: 1.0000 - val_loss: 2.8012 - val_accuracy: 0.6296\n",
            "Epoch 77/150\n",
            "4/4 [==============================] - 0s 10ms/step - loss: 0.0066 - accuracy: 1.0000 - val_loss: 2.8776 - val_accuracy: 0.5926\n",
            "Epoch 78/150\n",
            "4/4 [==============================] - 0s 18ms/step - loss: 0.0081 - accuracy: 1.0000 - val_loss: 2.9011 - val_accuracy: 0.5926\n",
            "Epoch 79/150\n",
            "4/4 [==============================] - 0s 9ms/step - loss: 0.0070 - accuracy: 1.0000 - val_loss: 2.8244 - val_accuracy: 0.6296\n",
            "Epoch 80/150\n",
            "4/4 [==============================] - 0s 9ms/step - loss: 0.0068 - accuracy: 1.0000 - val_loss: 2.8529 - val_accuracy: 0.6296\n",
            "Epoch 81/150\n",
            "4/4 [==============================] - 0s 9ms/step - loss: 0.0060 - accuracy: 1.0000 - val_loss: 2.9473 - val_accuracy: 0.5926\n",
            "Epoch 82/150\n",
            "4/4 [==============================] - 0s 9ms/step - loss: 0.0056 - accuracy: 1.0000 - val_loss: 2.9786 - val_accuracy: 0.5926\n",
            "Epoch 83/150\n",
            "4/4 [==============================] - 0s 10ms/step - loss: 0.0051 - accuracy: 1.0000 - val_loss: 2.9579 - val_accuracy: 0.6296\n",
            "Epoch 84/150\n",
            "4/4 [==============================] - 0s 11ms/step - loss: 0.0048 - accuracy: 1.0000 - val_loss: 2.9641 - val_accuracy: 0.6296\n",
            "Epoch 85/150\n",
            "4/4 [==============================] - 0s 10ms/step - loss: 0.0045 - accuracy: 1.0000 - val_loss: 3.0094 - val_accuracy: 0.5926\n",
            "Epoch 86/150\n",
            "4/4 [==============================] - 0s 9ms/step - loss: 0.0041 - accuracy: 1.0000 - val_loss: 3.0372 - val_accuracy: 0.5926\n",
            "Epoch 87/150\n",
            "4/4 [==============================] - 0s 9ms/step - loss: 0.0039 - accuracy: 1.0000 - val_loss: 3.0483 - val_accuracy: 0.5926\n",
            "Epoch 88/150\n",
            "4/4 [==============================] - 0s 9ms/step - loss: 0.0038 - accuracy: 1.0000 - val_loss: 3.0646 - val_accuracy: 0.5926\n",
            "Epoch 89/150\n",
            "4/4 [==============================] - 0s 9ms/step - loss: 0.0036 - accuracy: 1.0000 - val_loss: 3.0754 - val_accuracy: 0.5926\n",
            "Epoch 90/150\n",
            "4/4 [==============================] - 0s 9ms/step - loss: 0.0034 - accuracy: 1.0000 - val_loss: 3.0941 - val_accuracy: 0.5926\n",
            "Epoch 91/150\n",
            "4/4 [==============================] - 0s 10ms/step - loss: 0.0033 - accuracy: 1.0000 - val_loss: 3.1231 - val_accuracy: 0.5926\n",
            "Epoch 92/150\n",
            "4/4 [==============================] - 0s 11ms/step - loss: 0.0032 - accuracy: 1.0000 - val_loss: 3.1341 - val_accuracy: 0.5926\n",
            "Epoch 93/150\n",
            "4/4 [==============================] - 0s 11ms/step - loss: 0.0031 - accuracy: 1.0000 - val_loss: 3.1326 - val_accuracy: 0.5926\n",
            "Epoch 94/150\n",
            "4/4 [==============================] - 0s 11ms/step - loss: 0.0029 - accuracy: 1.0000 - val_loss: 3.1463 - val_accuracy: 0.5926\n",
            "Epoch 95/150\n",
            "4/4 [==============================] - 0s 10ms/step - loss: 0.0028 - accuracy: 1.0000 - val_loss: 3.1694 - val_accuracy: 0.5926\n",
            "Epoch 96/150\n",
            "4/4 [==============================] - 0s 10ms/step - loss: 0.0027 - accuracy: 1.0000 - val_loss: 3.1968 - val_accuracy: 0.5926\n",
            "Epoch 97/150\n",
            "4/4 [==============================] - 0s 9ms/step - loss: 0.0026 - accuracy: 1.0000 - val_loss: 3.2066 - val_accuracy: 0.5926\n",
            "Epoch 98/150\n",
            "4/4 [==============================] - 0s 10ms/step - loss: 0.0025 - accuracy: 1.0000 - val_loss: 3.2032 - val_accuracy: 0.5926\n",
            "Epoch 99/150\n",
            "4/4 [==============================] - 0s 16ms/step - loss: 0.0024 - accuracy: 1.0000 - val_loss: 3.2140 - val_accuracy: 0.5926\n",
            "Epoch 100/150\n",
            "4/4 [==============================] - 0s 12ms/step - loss: 0.0024 - accuracy: 1.0000 - val_loss: 3.2295 - val_accuracy: 0.5926\n",
            "Epoch 101/150\n",
            "4/4 [==============================] - 0s 13ms/step - loss: 0.0023 - accuracy: 1.0000 - val_loss: 3.2459 - val_accuracy: 0.5926\n",
            "Epoch 102/150\n",
            "4/4 [==============================] - 0s 10ms/step - loss: 0.0022 - accuracy: 1.0000 - val_loss: 3.2651 - val_accuracy: 0.5926\n",
            "Epoch 103/150\n",
            "4/4 [==============================] - 0s 10ms/step - loss: 0.0021 - accuracy: 1.0000 - val_loss: 3.2921 - val_accuracy: 0.5926\n",
            "Epoch 104/150\n",
            "4/4 [==============================] - 0s 11ms/step - loss: 0.0021 - accuracy: 1.0000 - val_loss: 3.2930 - val_accuracy: 0.5926\n",
            "Epoch 105/150\n",
            "4/4 [==============================] - 0s 11ms/step - loss: 0.0020 - accuracy: 1.0000 - val_loss: 3.2987 - val_accuracy: 0.5926\n",
            "Epoch 106/150\n",
            "4/4 [==============================] - 0s 10ms/step - loss: 0.0019 - accuracy: 1.0000 - val_loss: 3.3071 - val_accuracy: 0.5926\n",
            "Epoch 107/150\n",
            "4/4 [==============================] - 0s 10ms/step - loss: 0.0019 - accuracy: 1.0000 - val_loss: 3.3258 - val_accuracy: 0.5926\n",
            "Epoch 108/150\n",
            "4/4 [==============================] - 0s 9ms/step - loss: 0.0018 - accuracy: 1.0000 - val_loss: 3.3462 - val_accuracy: 0.5926\n",
            "Epoch 109/150\n",
            "4/4 [==============================] - 0s 11ms/step - loss: 0.0018 - accuracy: 1.0000 - val_loss: 3.3488 - val_accuracy: 0.5926\n",
            "Epoch 110/150\n",
            "4/4 [==============================] - 0s 10ms/step - loss: 0.0017 - accuracy: 1.0000 - val_loss: 3.3693 - val_accuracy: 0.5926\n",
            "Epoch 111/150\n",
            "4/4 [==============================] - 0s 10ms/step - loss: 0.0017 - accuracy: 1.0000 - val_loss: 3.3863 - val_accuracy: 0.5926\n",
            "Epoch 112/150\n",
            "4/4 [==============================] - 0s 9ms/step - loss: 0.0016 - accuracy: 1.0000 - val_loss: 3.3872 - val_accuracy: 0.5926\n",
            "Epoch 113/150\n",
            "4/4 [==============================] - 0s 10ms/step - loss: 0.0016 - accuracy: 1.0000 - val_loss: 3.3967 - val_accuracy: 0.5926\n",
            "Epoch 114/150\n",
            "4/4 [==============================] - 0s 10ms/step - loss: 0.0016 - accuracy: 1.0000 - val_loss: 3.4103 - val_accuracy: 0.5926\n",
            "Epoch 115/150\n",
            "4/4 [==============================] - 0s 9ms/step - loss: 0.0015 - accuracy: 1.0000 - val_loss: 3.4319 - val_accuracy: 0.5926\n",
            "Epoch 116/150\n",
            "4/4 [==============================] - 0s 10ms/step - loss: 0.0015 - accuracy: 1.0000 - val_loss: 3.4451 - val_accuracy: 0.5926\n",
            "Epoch 117/150\n",
            "4/4 [==============================] - 0s 10ms/step - loss: 0.0014 - accuracy: 1.0000 - val_loss: 3.4486 - val_accuracy: 0.5926\n",
            "Epoch 118/150\n",
            "4/4 [==============================] - 0s 9ms/step - loss: 0.0014 - accuracy: 1.0000 - val_loss: 3.4481 - val_accuracy: 0.5926\n",
            "Epoch 119/150\n",
            "4/4 [==============================] - 0s 9ms/step - loss: 0.0013 - accuracy: 1.0000 - val_loss: 3.4595 - val_accuracy: 0.5926\n",
            "Epoch 120/150\n",
            "4/4 [==============================] - 0s 10ms/step - loss: 0.0013 - accuracy: 1.0000 - val_loss: 3.4696 - val_accuracy: 0.5926\n",
            "Epoch 121/150\n",
            "4/4 [==============================] - 0s 10ms/step - loss: 0.0013 - accuracy: 1.0000 - val_loss: 3.4823 - val_accuracy: 0.5926\n",
            "Epoch 122/150\n",
            "4/4 [==============================] - 0s 11ms/step - loss: 0.0012 - accuracy: 1.0000 - val_loss: 3.4978 - val_accuracy: 0.5926\n",
            "Epoch 123/150\n",
            "4/4 [==============================] - 0s 10ms/step - loss: 0.0012 - accuracy: 1.0000 - val_loss: 3.5087 - val_accuracy: 0.5926\n",
            "Epoch 124/150\n",
            "4/4 [==============================] - 0s 10ms/step - loss: 0.0012 - accuracy: 1.0000 - val_loss: 3.5310 - val_accuracy: 0.5926\n",
            "Epoch 125/150\n",
            "4/4 [==============================] - 0s 13ms/step - loss: 0.0012 - accuracy: 1.0000 - val_loss: 3.5354 - val_accuracy: 0.5926\n",
            "Epoch 126/150\n",
            "4/4 [==============================] - 0s 10ms/step - loss: 0.0011 - accuracy: 1.0000 - val_loss: 3.5303 - val_accuracy: 0.5926\n",
            "Epoch 127/150\n",
            "4/4 [==============================] - 0s 10ms/step - loss: 0.0011 - accuracy: 1.0000 - val_loss: 3.5326 - val_accuracy: 0.5926\n",
            "Epoch 128/150\n",
            "4/4 [==============================] - 0s 9ms/step - loss: 0.0011 - accuracy: 1.0000 - val_loss: 3.5515 - val_accuracy: 0.5926\n",
            "Epoch 129/150\n",
            "4/4 [==============================] - 0s 10ms/step - loss: 0.0011 - accuracy: 1.0000 - val_loss: 3.5661 - val_accuracy: 0.5926\n",
            "Epoch 130/150\n",
            "4/4 [==============================] - 0s 10ms/step - loss: 0.0010 - accuracy: 1.0000 - val_loss: 3.5772 - val_accuracy: 0.5926\n",
            "Epoch 131/150\n",
            "4/4 [==============================] - 0s 12ms/step - loss: 0.0010 - accuracy: 1.0000 - val_loss: 3.5814 - val_accuracy: 0.5926\n",
            "Epoch 132/150\n",
            "4/4 [==============================] - 0s 11ms/step - loss: 9.8268e-04 - accuracy: 1.0000 - val_loss: 3.5884 - val_accuracy: 0.5926\n",
            "Epoch 133/150\n",
            "4/4 [==============================] - 0s 10ms/step - loss: 9.5909e-04 - accuracy: 1.0000 - val_loss: 3.6032 - val_accuracy: 0.5926\n",
            "Epoch 134/150\n",
            "4/4 [==============================] - 0s 11ms/step - loss: 9.4230e-04 - accuracy: 1.0000 - val_loss: 3.6060 - val_accuracy: 0.5926\n",
            "Epoch 135/150\n",
            "4/4 [==============================] - 0s 11ms/step - loss: 9.2010e-04 - accuracy: 1.0000 - val_loss: 3.6206 - val_accuracy: 0.5926\n",
            "Epoch 136/150\n",
            "4/4 [==============================] - 0s 17ms/step - loss: 8.9813e-04 - accuracy: 1.0000 - val_loss: 3.6277 - val_accuracy: 0.5926\n",
            "Epoch 137/150\n",
            "4/4 [==============================] - 0s 13ms/step - loss: 8.7538e-04 - accuracy: 1.0000 - val_loss: 3.6373 - val_accuracy: 0.5926\n",
            "Epoch 138/150\n",
            "4/4 [==============================] - 0s 8ms/step - loss: 8.6381e-04 - accuracy: 1.0000 - val_loss: 3.6474 - val_accuracy: 0.5926\n",
            "Epoch 139/150\n",
            "4/4 [==============================] - 0s 9ms/step - loss: 8.4574e-04 - accuracy: 1.0000 - val_loss: 3.6586 - val_accuracy: 0.5926\n",
            "Epoch 140/150\n",
            "4/4 [==============================] - 0s 9ms/step - loss: 8.2273e-04 - accuracy: 1.0000 - val_loss: 3.6601 - val_accuracy: 0.5926\n",
            "Epoch 141/150\n",
            "4/4 [==============================] - 0s 10ms/step - loss: 8.0427e-04 - accuracy: 1.0000 - val_loss: 3.6676 - val_accuracy: 0.5926\n",
            "Epoch 142/150\n",
            "4/4 [==============================] - 0s 11ms/step - loss: 7.8605e-04 - accuracy: 1.0000 - val_loss: 3.6766 - val_accuracy: 0.5926\n",
            "Epoch 143/150\n",
            "4/4 [==============================] - 0s 10ms/step - loss: 7.7262e-04 - accuracy: 1.0000 - val_loss: 3.6899 - val_accuracy: 0.5926\n",
            "Epoch 144/150\n",
            "4/4 [==============================] - 0s 11ms/step - loss: 7.5776e-04 - accuracy: 1.0000 - val_loss: 3.7019 - val_accuracy: 0.5926\n",
            "Epoch 145/150\n",
            "4/4 [==============================] - 0s 9ms/step - loss: 7.4287e-04 - accuracy: 1.0000 - val_loss: 3.7101 - val_accuracy: 0.5926\n",
            "Epoch 146/150\n",
            "4/4 [==============================] - 0s 11ms/step - loss: 7.2689e-04 - accuracy: 1.0000 - val_loss: 3.7151 - val_accuracy: 0.5926\n",
            "Epoch 147/150\n",
            "4/4 [==============================] - 0s 10ms/step - loss: 7.1209e-04 - accuracy: 1.0000 - val_loss: 3.7245 - val_accuracy: 0.5926\n",
            "Epoch 148/150\n",
            "4/4 [==============================] - 0s 13ms/step - loss: 7.0269e-04 - accuracy: 1.0000 - val_loss: 3.7282 - val_accuracy: 0.5926\n",
            "Epoch 149/150\n",
            "4/4 [==============================] - 0s 11ms/step - loss: 6.9003e-04 - accuracy: 1.0000 - val_loss: 3.7405 - val_accuracy: 0.5926\n",
            "Epoch 150/150\n",
            "4/4 [==============================] - 0s 10ms/step - loss: 6.7881e-04 - accuracy: 1.0000 - val_loss: 3.7510 - val_accuracy: 0.5926\n"
          ]
        }
      ]
    },
    {
      "cell_type": "code",
      "source": [
        "model.evaluate(X_test, y_test)"
      ],
      "metadata": {
        "id": "XeQ1W3ycq2Kg",
        "outputId": "82f220fc-d4d3-4ed3-fbbf-263c6c92829e",
        "colab": {
          "base_uri": "https://localhost:8080/"
        }
      },
      "execution_count": 92,
      "outputs": [
        {
          "output_type": "stream",
          "name": "stdout",
          "text": [
            "1/1 [==============================] - 0s 20ms/step - loss: 55.1471 - accuracy: 0.4348\n"
          ]
        },
        {
          "output_type": "execute_result",
          "data": {
            "text/plain": [
              "[55.147132873535156, 0.43478259444236755]"
            ]
          },
          "metadata": {},
          "execution_count": 92
        }
      ]
    },
    {
      "cell_type": "code",
      "source": [
        "tf.random.set_seed(42)\n",
        "\n",
        "model = tf.keras.Sequential([\n",
        "    tf.keras.layers.Dense(19, activation='relu'),\n",
        "    tf.keras.layers.Dense(20, activation='relu'),\n",
        "    tf.keras.layers.Dense(20, activation='relu'),\n",
        "\n",
        "    # tf.keras.layers.Dense(20, activation='relu'),\n",
        "    # tf.keras.layers.Dense(10, activation='relu'),\n",
        "\n",
        "    # tf.keras.layers.Dense(256, activation='relu'),\n",
        "    tf.keras.layers.Dense(1, activation='sigmoid')\n",
        "])\n",
        "\n",
        "model.compile(\n",
        "    loss=tf.keras.losses.binary_crossentropy,\n",
        "    optimizer=tf.keras.optimizers.Adam(0.01),\n",
        "    metrics=[\"accuracy\"]\n",
        ")\n",
        "\n",
        "\n",
        "history = model.fit(X_train_scaled, \n",
        "                    y_train, \n",
        "                    epochs=150,\n",
        "                    validation_data = (X_valid_scaled, y_valid),\n",
        "                    callbacks=[model_checkpoint])"
      ],
      "metadata": {
        "id": "aGjeYTd4eZ7x",
        "outputId": "b3b0355a-f4d1-4a5b-eb3c-34cd7373b5ac",
        "colab": {
          "base_uri": "https://localhost:8080/"
        }
      },
      "execution_count": 93,
      "outputs": [
        {
          "output_type": "stream",
          "name": "stdout",
          "text": [
            "Epoch 1/150\n",
            "4/4 [==============================] - 1s 51ms/step - loss: 0.7058 - accuracy: 0.4800 - val_loss: 0.6727 - val_accuracy: 0.5926\n",
            "Epoch 2/150\n",
            "4/4 [==============================] - 0s 12ms/step - loss: 0.6758 - accuracy: 0.5840 - val_loss: 0.6617 - val_accuracy: 0.5926\n",
            "Epoch 3/150\n",
            "4/4 [==============================] - 0s 11ms/step - loss: 0.6600 - accuracy: 0.5920 - val_loss: 0.6483 - val_accuracy: 0.5926\n",
            "Epoch 4/150\n",
            "4/4 [==============================] - 0s 11ms/step - loss: 0.6476 - accuracy: 0.6160 - val_loss: 0.6319 - val_accuracy: 0.6296\n",
            "Epoch 5/150\n",
            "4/4 [==============================] - 0s 10ms/step - loss: 0.6315 - accuracy: 0.6640 - val_loss: 0.6149 - val_accuracy: 0.7778\n",
            "Epoch 6/150\n",
            "4/4 [==============================] - 0s 10ms/step - loss: 0.6172 - accuracy: 0.6880 - val_loss: 0.5933 - val_accuracy: 0.8148\n",
            "Epoch 7/150\n",
            "4/4 [==============================] - 0s 10ms/step - loss: 0.6249 - accuracy: 0.6880 - val_loss: 0.6048 - val_accuracy: 0.6667\n",
            "Epoch 8/150\n",
            "4/4 [==============================] - 0s 10ms/step - loss: 0.5912 - accuracy: 0.7360 - val_loss: 0.5847 - val_accuracy: 0.7407\n",
            "Epoch 9/150\n",
            "4/4 [==============================] - 0s 10ms/step - loss: 0.5719 - accuracy: 0.7120 - val_loss: 0.5799 - val_accuracy: 0.7037\n",
            "Epoch 10/150\n",
            "4/4 [==============================] - 0s 11ms/step - loss: 0.5556 - accuracy: 0.7280 - val_loss: 0.5924 - val_accuracy: 0.7037\n",
            "Epoch 11/150\n",
            "4/4 [==============================] - 0s 9ms/step - loss: 0.5387 - accuracy: 0.7600 - val_loss: 0.5933 - val_accuracy: 0.7407\n",
            "Epoch 12/150\n",
            "4/4 [==============================] - 0s 10ms/step - loss: 0.5160 - accuracy: 0.7440 - val_loss: 0.5903 - val_accuracy: 0.6667\n",
            "Epoch 13/150\n",
            "4/4 [==============================] - 0s 10ms/step - loss: 0.4983 - accuracy: 0.7600 - val_loss: 0.6046 - val_accuracy: 0.7037\n",
            "Epoch 14/150\n",
            "4/4 [==============================] - 0s 10ms/step - loss: 0.4730 - accuracy: 0.7680 - val_loss: 0.5857 - val_accuracy: 0.6667\n",
            "Epoch 15/150\n",
            "4/4 [==============================] - 0s 10ms/step - loss: 0.4755 - accuracy: 0.7680 - val_loss: 0.6689 - val_accuracy: 0.6667\n",
            "Epoch 16/150\n",
            "4/4 [==============================] - 0s 9ms/step - loss: 0.4511 - accuracy: 0.8080 - val_loss: 0.6079 - val_accuracy: 0.6667\n",
            "Epoch 17/150\n",
            "4/4 [==============================] - 0s 9ms/step - loss: 0.4297 - accuracy: 0.7680 - val_loss: 0.6160 - val_accuracy: 0.7037\n",
            "Epoch 18/150\n",
            "4/4 [==============================] - 0s 11ms/step - loss: 0.4019 - accuracy: 0.8160 - val_loss: 0.6543 - val_accuracy: 0.7037\n",
            "Epoch 19/150\n",
            "4/4 [==============================] - 0s 9ms/step - loss: 0.3866 - accuracy: 0.8400 - val_loss: 0.6456 - val_accuracy: 0.6667\n",
            "Epoch 20/150\n",
            "4/4 [==============================] - 0s 9ms/step - loss: 0.3774 - accuracy: 0.8160 - val_loss: 0.7185 - val_accuracy: 0.6296\n",
            "Epoch 21/150\n",
            "4/4 [==============================] - 0s 9ms/step - loss: 0.3487 - accuracy: 0.8560 - val_loss: 0.7141 - val_accuracy: 0.7037\n",
            "Epoch 22/150\n",
            "4/4 [==============================] - 0s 10ms/step - loss: 0.3320 - accuracy: 0.8560 - val_loss: 0.7991 - val_accuracy: 0.6667\n",
            "Epoch 23/150\n",
            "4/4 [==============================] - 0s 10ms/step - loss: 0.3186 - accuracy: 0.8480 - val_loss: 0.7800 - val_accuracy: 0.6667\n",
            "Epoch 24/150\n",
            "4/4 [==============================] - 0s 10ms/step - loss: 0.2881 - accuracy: 0.8800 - val_loss: 0.8965 - val_accuracy: 0.6667\n",
            "Epoch 25/150\n",
            "4/4 [==============================] - 0s 11ms/step - loss: 0.2693 - accuracy: 0.8960 - val_loss: 0.8768 - val_accuracy: 0.7037\n",
            "Epoch 26/150\n",
            "4/4 [==============================] - 0s 9ms/step - loss: 0.2589 - accuracy: 0.8880 - val_loss: 0.9410 - val_accuracy: 0.7037\n",
            "Epoch 27/150\n",
            "4/4 [==============================] - 0s 10ms/step - loss: 0.2260 - accuracy: 0.9200 - val_loss: 1.0702 - val_accuracy: 0.6667\n",
            "Epoch 28/150\n",
            "4/4 [==============================] - 0s 12ms/step - loss: 0.2334 - accuracy: 0.9120 - val_loss: 1.2209 - val_accuracy: 0.6296\n",
            "Epoch 29/150\n",
            "4/4 [==============================] - 0s 8ms/step - loss: 0.2188 - accuracy: 0.9200 - val_loss: 1.2254 - val_accuracy: 0.6296\n",
            "Epoch 30/150\n",
            "4/4 [==============================] - 0s 9ms/step - loss: 0.2480 - accuracy: 0.8960 - val_loss: 1.3623 - val_accuracy: 0.6667\n",
            "Epoch 31/150\n",
            "4/4 [==============================] - 0s 9ms/step - loss: 0.1621 - accuracy: 0.9680 - val_loss: 1.3558 - val_accuracy: 0.6296\n",
            "Epoch 32/150\n",
            "4/4 [==============================] - 0s 9ms/step - loss: 0.1779 - accuracy: 0.9520 - val_loss: 1.4368 - val_accuracy: 0.6667\n",
            "Epoch 33/150\n",
            "4/4 [==============================] - 0s 11ms/step - loss: 0.1543 - accuracy: 0.9280 - val_loss: 1.3230 - val_accuracy: 0.6296\n",
            "Epoch 34/150\n",
            "4/4 [==============================] - 0s 10ms/step - loss: 0.1389 - accuracy: 0.9520 - val_loss: 1.4562 - val_accuracy: 0.6296\n",
            "Epoch 35/150\n",
            "4/4 [==============================] - 0s 10ms/step - loss: 0.1222 - accuracy: 0.9680 - val_loss: 1.5011 - val_accuracy: 0.6296\n",
            "Epoch 36/150\n",
            "4/4 [==============================] - 0s 11ms/step - loss: 0.0988 - accuracy: 0.9840 - val_loss: 1.6094 - val_accuracy: 0.6296\n",
            "Epoch 37/150\n",
            "4/4 [==============================] - 0s 9ms/step - loss: 0.0867 - accuracy: 0.9760 - val_loss: 1.6386 - val_accuracy: 0.6667\n",
            "Epoch 38/150\n",
            "4/4 [==============================] - 0s 9ms/step - loss: 0.0789 - accuracy: 0.9920 - val_loss: 1.6986 - val_accuracy: 0.6296\n",
            "Epoch 39/150\n",
            "4/4 [==============================] - 0s 9ms/step - loss: 0.0674 - accuracy: 0.9920 - val_loss: 1.7771 - val_accuracy: 0.6296\n",
            "Epoch 40/150\n",
            "4/4 [==============================] - 0s 9ms/step - loss: 0.0530 - accuracy: 0.9920 - val_loss: 1.8279 - val_accuracy: 0.6296\n",
            "Epoch 41/150\n",
            "4/4 [==============================] - 0s 9ms/step - loss: 0.0492 - accuracy: 0.9920 - val_loss: 1.9138 - val_accuracy: 0.6296\n",
            "Epoch 42/150\n",
            "4/4 [==============================] - 0s 8ms/step - loss: 0.0462 - accuracy: 0.9920 - val_loss: 2.0609 - val_accuracy: 0.6296\n",
            "Epoch 43/150\n",
            "4/4 [==============================] - 0s 9ms/step - loss: 0.0439 - accuracy: 0.9920 - val_loss: 2.1705 - val_accuracy: 0.6296\n",
            "Epoch 44/150\n",
            "4/4 [==============================] - 0s 9ms/step - loss: 0.0386 - accuracy: 0.9920 - val_loss: 2.1552 - val_accuracy: 0.6296\n",
            "Epoch 45/150\n",
            "4/4 [==============================] - 0s 10ms/step - loss: 0.0344 - accuracy: 0.9920 - val_loss: 2.2396 - val_accuracy: 0.6296\n",
            "Epoch 46/150\n",
            "4/4 [==============================] - 0s 9ms/step - loss: 0.0315 - accuracy: 0.9920 - val_loss: 2.3298 - val_accuracy: 0.6296\n",
            "Epoch 47/150\n",
            "4/4 [==============================] - 0s 8ms/step - loss: 0.0301 - accuracy: 0.9920 - val_loss: 2.3843 - val_accuracy: 0.6296\n",
            "Epoch 48/150\n",
            "4/4 [==============================] - 0s 10ms/step - loss: 0.0302 - accuracy: 0.9920 - val_loss: 2.4613 - val_accuracy: 0.6296\n",
            "Epoch 49/150\n",
            "4/4 [==============================] - 0s 12ms/step - loss: 0.0225 - accuracy: 1.0000 - val_loss: 2.5398 - val_accuracy: 0.6296\n",
            "Epoch 50/150\n",
            "4/4 [==============================] - 0s 10ms/step - loss: 0.0209 - accuracy: 1.0000 - val_loss: 2.6296 - val_accuracy: 0.6296\n",
            "Epoch 51/150\n",
            "4/4 [==============================] - 0s 9ms/step - loss: 0.0196 - accuracy: 0.9920 - val_loss: 2.6820 - val_accuracy: 0.6296\n",
            "Epoch 52/150\n",
            "4/4 [==============================] - 0s 9ms/step - loss: 0.0153 - accuracy: 1.0000 - val_loss: 2.7615 - val_accuracy: 0.6296\n",
            "Epoch 53/150\n",
            "4/4 [==============================] - 0s 9ms/step - loss: 0.0124 - accuracy: 1.0000 - val_loss: 2.8839 - val_accuracy: 0.6296\n",
            "Epoch 54/150\n",
            "4/4 [==============================] - 0s 10ms/step - loss: 0.0156 - accuracy: 0.9920 - val_loss: 2.9189 - val_accuracy: 0.6296\n",
            "Epoch 55/150\n",
            "4/4 [==============================] - 0s 9ms/step - loss: 0.0103 - accuracy: 1.0000 - val_loss: 3.0312 - val_accuracy: 0.5556\n",
            "Epoch 56/150\n",
            "4/4 [==============================] - 0s 9ms/step - loss: 0.0095 - accuracy: 1.0000 - val_loss: 3.1478 - val_accuracy: 0.5926\n",
            "Epoch 57/150\n",
            "4/4 [==============================] - 0s 10ms/step - loss: 0.0062 - accuracy: 1.0000 - val_loss: 3.2300 - val_accuracy: 0.5926\n",
            "Epoch 58/150\n",
            "4/4 [==============================] - 0s 9ms/step - loss: 0.0064 - accuracy: 1.0000 - val_loss: 3.3054 - val_accuracy: 0.5926\n",
            "Epoch 59/150\n",
            "4/4 [==============================] - 0s 9ms/step - loss: 0.0044 - accuracy: 1.0000 - val_loss: 3.3850 - val_accuracy: 0.6296\n",
            "Epoch 60/150\n",
            "4/4 [==============================] - 0s 10ms/step - loss: 0.0048 - accuracy: 1.0000 - val_loss: 3.4143 - val_accuracy: 0.6296\n",
            "Epoch 61/150\n",
            "4/4 [==============================] - 0s 11ms/step - loss: 0.0039 - accuracy: 1.0000 - val_loss: 3.4618 - val_accuracy: 0.5926\n",
            "Epoch 62/150\n",
            "4/4 [==============================] - 0s 11ms/step - loss: 0.0033 - accuracy: 1.0000 - val_loss: 3.5373 - val_accuracy: 0.5926\n",
            "Epoch 63/150\n",
            "4/4 [==============================] - 0s 9ms/step - loss: 0.0031 - accuracy: 1.0000 - val_loss: 3.5816 - val_accuracy: 0.5926\n",
            "Epoch 64/150\n",
            "4/4 [==============================] - 0s 9ms/step - loss: 0.0027 - accuracy: 1.0000 - val_loss: 3.5969 - val_accuracy: 0.5926\n",
            "Epoch 65/150\n",
            "4/4 [==============================] - 0s 10ms/step - loss: 0.0026 - accuracy: 1.0000 - val_loss: 3.6369 - val_accuracy: 0.6296\n",
            "Epoch 66/150\n",
            "4/4 [==============================] - 0s 9ms/step - loss: 0.0023 - accuracy: 1.0000 - val_loss: 3.6988 - val_accuracy: 0.6296\n",
            "Epoch 67/150\n",
            "4/4 [==============================] - 0s 11ms/step - loss: 0.0021 - accuracy: 1.0000 - val_loss: 3.7541 - val_accuracy: 0.6296\n",
            "Epoch 68/150\n",
            "4/4 [==============================] - 0s 9ms/step - loss: 0.0019 - accuracy: 1.0000 - val_loss: 3.8095 - val_accuracy: 0.6296\n",
            "Epoch 69/150\n",
            "4/4 [==============================] - 0s 10ms/step - loss: 0.0019 - accuracy: 1.0000 - val_loss: 3.8461 - val_accuracy: 0.6296\n",
            "Epoch 70/150\n",
            "4/4 [==============================] - 0s 9ms/step - loss: 0.0017 - accuracy: 1.0000 - val_loss: 3.8569 - val_accuracy: 0.6296\n",
            "Epoch 71/150\n",
            "4/4 [==============================] - 0s 9ms/step - loss: 0.0017 - accuracy: 1.0000 - val_loss: 3.8821 - val_accuracy: 0.6296\n",
            "Epoch 72/150\n",
            "4/4 [==============================] - 0s 10ms/step - loss: 0.0015 - accuracy: 1.0000 - val_loss: 3.9090 - val_accuracy: 0.6296\n",
            "Epoch 73/150\n",
            "4/4 [==============================] - 0s 10ms/step - loss: 0.0014 - accuracy: 1.0000 - val_loss: 3.9461 - val_accuracy: 0.6296\n",
            "Epoch 74/150\n",
            "4/4 [==============================] - 0s 9ms/step - loss: 0.0014 - accuracy: 1.0000 - val_loss: 3.9777 - val_accuracy: 0.6296\n",
            "Epoch 75/150\n",
            "4/4 [==============================] - 0s 9ms/step - loss: 0.0013 - accuracy: 1.0000 - val_loss: 3.9919 - val_accuracy: 0.6296\n",
            "Epoch 76/150\n",
            "4/4 [==============================] - 0s 9ms/step - loss: 0.0013 - accuracy: 1.0000 - val_loss: 4.0217 - val_accuracy: 0.6296\n",
            "Epoch 77/150\n",
            "4/4 [==============================] - 0s 10ms/step - loss: 0.0012 - accuracy: 1.0000 - val_loss: 4.0504 - val_accuracy: 0.6296\n",
            "Epoch 78/150\n",
            "4/4 [==============================] - 0s 9ms/step - loss: 0.0012 - accuracy: 1.0000 - val_loss: 4.0695 - val_accuracy: 0.6296\n",
            "Epoch 79/150\n",
            "4/4 [==============================] - 0s 11ms/step - loss: 0.0011 - accuracy: 1.0000 - val_loss: 4.0759 - val_accuracy: 0.6296\n",
            "Epoch 80/150\n",
            "4/4 [==============================] - 0s 10ms/step - loss: 0.0011 - accuracy: 1.0000 - val_loss: 4.0995 - val_accuracy: 0.6296\n",
            "Epoch 81/150\n",
            "4/4 [==============================] - 0s 10ms/step - loss: 0.0010 - accuracy: 1.0000 - val_loss: 4.1291 - val_accuracy: 0.6296\n",
            "Epoch 82/150\n",
            "4/4 [==============================] - 0s 10ms/step - loss: 9.6496e-04 - accuracy: 1.0000 - val_loss: 4.1471 - val_accuracy: 0.6296\n",
            "Epoch 83/150\n",
            "4/4 [==============================] - 0s 9ms/step - loss: 9.3346e-04 - accuracy: 1.0000 - val_loss: 4.1670 - val_accuracy: 0.6296\n",
            "Epoch 84/150\n",
            "4/4 [==============================] - 0s 9ms/step - loss: 8.9240e-04 - accuracy: 1.0000 - val_loss: 4.1851 - val_accuracy: 0.6296\n",
            "Epoch 85/150\n",
            "4/4 [==============================] - 0s 9ms/step - loss: 8.6708e-04 - accuracy: 1.0000 - val_loss: 4.2108 - val_accuracy: 0.6296\n",
            "Epoch 86/150\n",
            "4/4 [==============================] - 0s 9ms/step - loss: 8.5913e-04 - accuracy: 1.0000 - val_loss: 4.2171 - val_accuracy: 0.6296\n",
            "Epoch 87/150\n",
            "4/4 [==============================] - 0s 10ms/step - loss: 8.1747e-04 - accuracy: 1.0000 - val_loss: 4.2309 - val_accuracy: 0.6296\n",
            "Epoch 88/150\n",
            "4/4 [==============================] - 0s 9ms/step - loss: 7.8312e-04 - accuracy: 1.0000 - val_loss: 4.2587 - val_accuracy: 0.6296\n",
            "Epoch 89/150\n",
            "4/4 [==============================] - 0s 9ms/step - loss: 7.5292e-04 - accuracy: 1.0000 - val_loss: 4.2865 - val_accuracy: 0.6296\n",
            "Epoch 90/150\n",
            "4/4 [==============================] - 0s 9ms/step - loss: 7.2067e-04 - accuracy: 1.0000 - val_loss: 4.3060 - val_accuracy: 0.6296\n",
            "Epoch 91/150\n",
            "4/4 [==============================] - 0s 10ms/step - loss: 6.9681e-04 - accuracy: 1.0000 - val_loss: 4.3177 - val_accuracy: 0.6296\n",
            "Epoch 92/150\n",
            "4/4 [==============================] - 0s 9ms/step - loss: 6.6850e-04 - accuracy: 1.0000 - val_loss: 4.3272 - val_accuracy: 0.6296\n",
            "Epoch 93/150\n",
            "4/4 [==============================] - 0s 9ms/step - loss: 6.6298e-04 - accuracy: 1.0000 - val_loss: 4.3387 - val_accuracy: 0.5926\n",
            "Epoch 94/150\n",
            "4/4 [==============================] - 0s 10ms/step - loss: 6.3663e-04 - accuracy: 1.0000 - val_loss: 4.3574 - val_accuracy: 0.6296\n",
            "Epoch 95/150\n",
            "4/4 [==============================] - 0s 11ms/step - loss: 6.1340e-04 - accuracy: 1.0000 - val_loss: 4.3782 - val_accuracy: 0.6296\n",
            "Epoch 96/150\n",
            "4/4 [==============================] - 0s 9ms/step - loss: 5.8735e-04 - accuracy: 1.0000 - val_loss: 4.3952 - val_accuracy: 0.6296\n",
            "Epoch 97/150\n",
            "4/4 [==============================] - 0s 10ms/step - loss: 5.8474e-04 - accuracy: 1.0000 - val_loss: 4.4113 - val_accuracy: 0.6296\n",
            "Epoch 98/150\n",
            "4/4 [==============================] - 0s 9ms/step - loss: 5.6533e-04 - accuracy: 1.0000 - val_loss: 4.4185 - val_accuracy: 0.5926\n",
            "Epoch 99/150\n",
            "4/4 [==============================] - 0s 10ms/step - loss: 5.4236e-04 - accuracy: 1.0000 - val_loss: 4.4303 - val_accuracy: 0.5926\n",
            "Epoch 100/150\n",
            "4/4 [==============================] - 0s 11ms/step - loss: 5.2951e-04 - accuracy: 1.0000 - val_loss: 4.4465 - val_accuracy: 0.5926\n",
            "Epoch 101/150\n",
            "4/4 [==============================] - 0s 9ms/step - loss: 5.1683e-04 - accuracy: 1.0000 - val_loss: 4.4650 - val_accuracy: 0.5926\n",
            "Epoch 102/150\n",
            "4/4 [==============================] - 0s 10ms/step - loss: 5.1003e-04 - accuracy: 1.0000 - val_loss: 4.4836 - val_accuracy: 0.5926\n",
            "Epoch 103/150\n",
            "4/4 [==============================] - 0s 11ms/step - loss: 4.9414e-04 - accuracy: 1.0000 - val_loss: 4.4924 - val_accuracy: 0.5926\n",
            "Epoch 104/150\n",
            "4/4 [==============================] - 0s 10ms/step - loss: 4.6919e-04 - accuracy: 1.0000 - val_loss: 4.5016 - val_accuracy: 0.5926\n",
            "Epoch 105/150\n",
            "4/4 [==============================] - 0s 10ms/step - loss: 4.6069e-04 - accuracy: 1.0000 - val_loss: 4.5152 - val_accuracy: 0.5926\n",
            "Epoch 106/150\n",
            "4/4 [==============================] - 0s 9ms/step - loss: 4.5237e-04 - accuracy: 1.0000 - val_loss: 4.5341 - val_accuracy: 0.5926\n",
            "Epoch 107/150\n",
            "4/4 [==============================] - 0s 9ms/step - loss: 4.3630e-04 - accuracy: 1.0000 - val_loss: 4.5414 - val_accuracy: 0.5926\n",
            "Epoch 108/150\n",
            "4/4 [==============================] - 0s 11ms/step - loss: 4.2197e-04 - accuracy: 1.0000 - val_loss: 4.5541 - val_accuracy: 0.5926\n",
            "Epoch 109/150\n",
            "4/4 [==============================] - 0s 9ms/step - loss: 4.1655e-04 - accuracy: 1.0000 - val_loss: 4.5687 - val_accuracy: 0.5926\n",
            "Epoch 110/150\n",
            "4/4 [==============================] - 0s 12ms/step - loss: 4.0467e-04 - accuracy: 1.0000 - val_loss: 4.5814 - val_accuracy: 0.5926\n",
            "Epoch 111/150\n",
            "4/4 [==============================] - 0s 10ms/step - loss: 3.9165e-04 - accuracy: 1.0000 - val_loss: 4.5975 - val_accuracy: 0.5926\n",
            "Epoch 112/150\n",
            "4/4 [==============================] - 0s 9ms/step - loss: 3.8590e-04 - accuracy: 1.0000 - val_loss: 4.6062 - val_accuracy: 0.5926\n",
            "Epoch 113/150\n",
            "4/4 [==============================] - 0s 9ms/step - loss: 3.7449e-04 - accuracy: 1.0000 - val_loss: 4.6150 - val_accuracy: 0.5926\n",
            "Epoch 114/150\n",
            "4/4 [==============================] - 0s 9ms/step - loss: 3.6471e-04 - accuracy: 1.0000 - val_loss: 4.6262 - val_accuracy: 0.5926\n",
            "Epoch 115/150\n",
            "4/4 [==============================] - 0s 10ms/step - loss: 3.6067e-04 - accuracy: 1.0000 - val_loss: 4.6372 - val_accuracy: 0.5926\n",
            "Epoch 116/150\n",
            "4/4 [==============================] - 0s 9ms/step - loss: 3.4784e-04 - accuracy: 1.0000 - val_loss: 4.6517 - val_accuracy: 0.5926\n",
            "Epoch 117/150\n",
            "4/4 [==============================] - 0s 10ms/step - loss: 3.4031e-04 - accuracy: 1.0000 - val_loss: 4.6663 - val_accuracy: 0.5926\n",
            "Epoch 118/150\n",
            "4/4 [==============================] - 0s 10ms/step - loss: 3.3329e-04 - accuracy: 1.0000 - val_loss: 4.6793 - val_accuracy: 0.5926\n",
            "Epoch 119/150\n",
            "4/4 [==============================] - 0s 9ms/step - loss: 3.2690e-04 - accuracy: 1.0000 - val_loss: 4.6874 - val_accuracy: 0.5926\n",
            "Epoch 120/150\n",
            "4/4 [==============================] - 0s 9ms/step - loss: 3.1928e-04 - accuracy: 1.0000 - val_loss: 4.6984 - val_accuracy: 0.5926\n",
            "Epoch 121/150\n",
            "4/4 [==============================] - 0s 10ms/step - loss: 3.1284e-04 - accuracy: 1.0000 - val_loss: 4.7057 - val_accuracy: 0.5926\n",
            "Epoch 122/150\n",
            "4/4 [==============================] - 0s 10ms/step - loss: 3.0753e-04 - accuracy: 1.0000 - val_loss: 4.7149 - val_accuracy: 0.5926\n",
            "Epoch 123/150\n",
            "4/4 [==============================] - 0s 10ms/step - loss: 2.9943e-04 - accuracy: 1.0000 - val_loss: 4.7308 - val_accuracy: 0.5926\n",
            "Epoch 124/150\n",
            "4/4 [==============================] - 0s 9ms/step - loss: 2.9511e-04 - accuracy: 1.0000 - val_loss: 4.7500 - val_accuracy: 0.5926\n",
            "Epoch 125/150\n",
            "4/4 [==============================] - 0s 9ms/step - loss: 2.8843e-04 - accuracy: 1.0000 - val_loss: 4.7612 - val_accuracy: 0.5926\n",
            "Epoch 126/150\n",
            "4/4 [==============================] - 0s 9ms/step - loss: 2.8280e-04 - accuracy: 1.0000 - val_loss: 4.7688 - val_accuracy: 0.5926\n",
            "Epoch 127/150\n",
            "4/4 [==============================] - 0s 10ms/step - loss: 2.7777e-04 - accuracy: 1.0000 - val_loss: 4.7724 - val_accuracy: 0.5926\n",
            "Epoch 128/150\n",
            "4/4 [==============================] - 0s 9ms/step - loss: 2.7384e-04 - accuracy: 1.0000 - val_loss: 4.7855 - val_accuracy: 0.5926\n",
            "Epoch 129/150\n",
            "4/4 [==============================] - 0s 10ms/step - loss: 2.6703e-04 - accuracy: 1.0000 - val_loss: 4.8016 - val_accuracy: 0.5926\n",
            "Epoch 130/150\n",
            "4/4 [==============================] - 0s 9ms/step - loss: 2.6104e-04 - accuracy: 1.0000 - val_loss: 4.8100 - val_accuracy: 0.5926\n",
            "Epoch 131/150\n",
            "4/4 [==============================] - 0s 11ms/step - loss: 2.5460e-04 - accuracy: 1.0000 - val_loss: 4.8243 - val_accuracy: 0.5926\n",
            "Epoch 132/150\n",
            "4/4 [==============================] - 0s 11ms/step - loss: 2.4914e-04 - accuracy: 1.0000 - val_loss: 4.8331 - val_accuracy: 0.5926\n",
            "Epoch 133/150\n",
            "4/4 [==============================] - 0s 10ms/step - loss: 2.4692e-04 - accuracy: 1.0000 - val_loss: 4.8433 - val_accuracy: 0.5926\n",
            "Epoch 134/150\n",
            "4/4 [==============================] - 0s 10ms/step - loss: 2.4381e-04 - accuracy: 1.0000 - val_loss: 4.8502 - val_accuracy: 0.5926\n",
            "Epoch 135/150\n",
            "4/4 [==============================] - 0s 9ms/step - loss: 2.3891e-04 - accuracy: 1.0000 - val_loss: 4.8638 - val_accuracy: 0.5926\n",
            "Epoch 136/150\n",
            "4/4 [==============================] - 0s 10ms/step - loss: 2.3308e-04 - accuracy: 1.0000 - val_loss: 4.8719 - val_accuracy: 0.5926\n",
            "Epoch 137/150\n",
            "4/4 [==============================] - 0s 10ms/step - loss: 2.2825e-04 - accuracy: 1.0000 - val_loss: 4.8801 - val_accuracy: 0.5926\n",
            "Epoch 138/150\n",
            "4/4 [==============================] - 0s 10ms/step - loss: 2.2453e-04 - accuracy: 1.0000 - val_loss: 4.8906 - val_accuracy: 0.5926\n",
            "Epoch 139/150\n",
            "4/4 [==============================] - 0s 10ms/step - loss: 2.2076e-04 - accuracy: 1.0000 - val_loss: 4.9062 - val_accuracy: 0.5926\n",
            "Epoch 140/150\n",
            "4/4 [==============================] - 0s 9ms/step - loss: 2.1579e-04 - accuracy: 1.0000 - val_loss: 4.9196 - val_accuracy: 0.5926\n",
            "Epoch 141/150\n",
            "4/4 [==============================] - 0s 9ms/step - loss: 2.1354e-04 - accuracy: 1.0000 - val_loss: 4.9284 - val_accuracy: 0.5926\n",
            "Epoch 142/150\n",
            "4/4 [==============================] - 0s 11ms/step - loss: 2.0894e-04 - accuracy: 1.0000 - val_loss: 4.9321 - val_accuracy: 0.5926\n",
            "Epoch 143/150\n",
            "4/4 [==============================] - 0s 11ms/step - loss: 2.0524e-04 - accuracy: 1.0000 - val_loss: 4.9397 - val_accuracy: 0.5926\n",
            "Epoch 144/150\n",
            "4/4 [==============================] - 0s 10ms/step - loss: 2.0185e-04 - accuracy: 1.0000 - val_loss: 4.9458 - val_accuracy: 0.5926\n",
            "Epoch 145/150\n",
            "4/4 [==============================] - 0s 9ms/step - loss: 1.9856e-04 - accuracy: 1.0000 - val_loss: 4.9569 - val_accuracy: 0.5926\n",
            "Epoch 146/150\n",
            "4/4 [==============================] - 0s 10ms/step - loss: 1.9559e-04 - accuracy: 1.0000 - val_loss: 4.9675 - val_accuracy: 0.5926\n",
            "Epoch 147/150\n",
            "4/4 [==============================] - 0s 10ms/step - loss: 1.9159e-04 - accuracy: 1.0000 - val_loss: 4.9747 - val_accuracy: 0.5926\n",
            "Epoch 148/150\n",
            "4/4 [==============================] - 0s 12ms/step - loss: 1.8968e-04 - accuracy: 1.0000 - val_loss: 4.9805 - val_accuracy: 0.5926\n",
            "Epoch 149/150\n",
            "4/4 [==============================] - 0s 9ms/step - loss: 1.8834e-04 - accuracy: 1.0000 - val_loss: 4.9939 - val_accuracy: 0.5926\n",
            "Epoch 150/150\n",
            "4/4 [==============================] - 0s 11ms/step - loss: 1.8421e-04 - accuracy: 1.0000 - val_loss: 5.0069 - val_accuracy: 0.5926\n"
          ]
        }
      ]
    },
    {
      "cell_type": "code",
      "source": [
        "model.evaluate(X_test, y_test)"
      ],
      "metadata": {
        "id": "jWwLJ77yq27l",
        "outputId": "b0747cd0-1e9c-40d5-b682-f5b11e327b3f",
        "colab": {
          "base_uri": "https://localhost:8080/"
        }
      },
      "execution_count": 94,
      "outputs": [
        {
          "output_type": "stream",
          "name": "stdout",
          "text": [
            "1/1 [==============================] - 0s 19ms/step - loss: 245.9003 - accuracy: 0.5652\n"
          ]
        },
        {
          "output_type": "execute_result",
          "data": {
            "text/plain": [
              "[245.90028381347656, 0.5652173757553101]"
            ]
          },
          "metadata": {},
          "execution_count": 94
        }
      ]
    },
    {
      "cell_type": "code",
      "source": [
        "tf.random.set_seed(42)\n",
        "\n",
        "model = tf.keras.Sequential([\n",
        "    tf.keras.layers.Dense(19, activation='relu'),\n",
        "    tf.keras.layers.Dense(4, activation='relu'),\n",
        "    tf.keras.layers.Dense(4, activation='relu'),\n",
        "\n",
        "    # tf.keras.layers.Dense(20, activation='relu'),\n",
        "    # tf.keras.layers.Dense(10, activation='relu'),\n",
        "\n",
        "    # tf.keras.layers.Dense(256, activation='relu'),\n",
        "    tf.keras.layers.Dense(1, activation='sigmoid')\n",
        "])\n",
        "\n",
        "model.compile(\n",
        "    loss=tf.keras.losses.binary_crossentropy,\n",
        "    optimizer=tf.keras.optimizers.Adam(0.001),\n",
        "    metrics=[\"accuracy\"]\n",
        ")\n",
        "\n",
        "\n",
        "history = model.fit(X_train_scaled, \n",
        "                    y_train, \n",
        "                    epochs=350,\n",
        "                    validation_data = (X_valid_scaled, y_valid),\n",
        "                    callbacks=[model_checkpoint])"
      ],
      "metadata": {
        "id": "h_ByrY0Cecaw",
        "outputId": "1abe45b9-6cd0-4cb9-a693-763ba9c76160",
        "colab": {
          "base_uri": "https://localhost:8080/"
        }
      },
      "execution_count": 95,
      "outputs": [
        {
          "output_type": "stream",
          "name": "stdout",
          "text": [
            "Epoch 1/350\n",
            "4/4 [==============================] - 1s 50ms/step - loss: 0.6872 - accuracy: 0.5840 - val_loss: 0.6883 - val_accuracy: 0.5926\n",
            "Epoch 2/350\n",
            "4/4 [==============================] - 0s 9ms/step - loss: 0.6842 - accuracy: 0.5840 - val_loss: 0.6860 - val_accuracy: 0.5926\n",
            "Epoch 3/350\n",
            "4/4 [==============================] - 0s 9ms/step - loss: 0.6817 - accuracy: 0.5840 - val_loss: 0.6840 - val_accuracy: 0.5926\n",
            "Epoch 4/350\n",
            "4/4 [==============================] - 0s 9ms/step - loss: 0.6802 - accuracy: 0.5840 - val_loss: 0.6817 - val_accuracy: 0.5926\n",
            "Epoch 5/350\n",
            "4/4 [==============================] - 0s 9ms/step - loss: 0.6777 - accuracy: 0.5840 - val_loss: 0.6795 - val_accuracy: 0.5926\n",
            "Epoch 6/350\n",
            "4/4 [==============================] - 0s 9ms/step - loss: 0.6758 - accuracy: 0.5840 - val_loss: 0.6777 - val_accuracy: 0.5926\n",
            "Epoch 7/350\n",
            "4/4 [==============================] - 0s 10ms/step - loss: 0.6747 - accuracy: 0.5840 - val_loss: 0.6755 - val_accuracy: 0.5926\n",
            "Epoch 8/350\n",
            "4/4 [==============================] - 0s 8ms/step - loss: 0.6724 - accuracy: 0.5840 - val_loss: 0.6739 - val_accuracy: 0.5926\n",
            "Epoch 9/350\n",
            "4/4 [==============================] - 0s 8ms/step - loss: 0.6710 - accuracy: 0.5840 - val_loss: 0.6723 - val_accuracy: 0.5926\n",
            "Epoch 10/350\n",
            "4/4 [==============================] - 0s 11ms/step - loss: 0.6695 - accuracy: 0.5840 - val_loss: 0.6709 - val_accuracy: 0.5926\n",
            "Epoch 11/350\n",
            "4/4 [==============================] - 0s 11ms/step - loss: 0.6682 - accuracy: 0.5840 - val_loss: 0.6695 - val_accuracy: 0.5926\n",
            "Epoch 12/350\n",
            "4/4 [==============================] - 0s 8ms/step - loss: 0.6668 - accuracy: 0.5840 - val_loss: 0.6678 - val_accuracy: 0.5926\n",
            "Epoch 13/350\n",
            "4/4 [==============================] - 0s 8ms/step - loss: 0.6653 - accuracy: 0.5840 - val_loss: 0.6663 - val_accuracy: 0.5926\n",
            "Epoch 14/350\n",
            "4/4 [==============================] - 0s 8ms/step - loss: 0.6640 - accuracy: 0.5840 - val_loss: 0.6648 - val_accuracy: 0.5926\n",
            "Epoch 15/350\n",
            "4/4 [==============================] - 0s 9ms/step - loss: 0.6628 - accuracy: 0.5840 - val_loss: 0.6633 - val_accuracy: 0.5926\n",
            "Epoch 16/350\n",
            "4/4 [==============================] - 0s 10ms/step - loss: 0.6611 - accuracy: 0.5840 - val_loss: 0.6620 - val_accuracy: 0.5926\n",
            "Epoch 17/350\n",
            "4/4 [==============================] - 0s 8ms/step - loss: 0.6600 - accuracy: 0.5840 - val_loss: 0.6608 - val_accuracy: 0.5926\n",
            "Epoch 18/350\n",
            "4/4 [==============================] - 0s 9ms/step - loss: 0.6583 - accuracy: 0.5840 - val_loss: 0.6595 - val_accuracy: 0.5926\n",
            "Epoch 19/350\n",
            "4/4 [==============================] - 0s 9ms/step - loss: 0.6572 - accuracy: 0.5840 - val_loss: 0.6579 - val_accuracy: 0.5926\n",
            "Epoch 20/350\n",
            "4/4 [==============================] - 0s 8ms/step - loss: 0.6557 - accuracy: 0.5840 - val_loss: 0.6565 - val_accuracy: 0.5926\n",
            "Epoch 21/350\n",
            "4/4 [==============================] - 0s 9ms/step - loss: 0.6540 - accuracy: 0.5840 - val_loss: 0.6551 - val_accuracy: 0.5926\n",
            "Epoch 22/350\n",
            "4/4 [==============================] - 0s 9ms/step - loss: 0.6524 - accuracy: 0.5840 - val_loss: 0.6538 - val_accuracy: 0.5926\n",
            "Epoch 23/350\n",
            "4/4 [==============================] - 0s 9ms/step - loss: 0.6510 - accuracy: 0.5840 - val_loss: 0.6524 - val_accuracy: 0.5926\n",
            "Epoch 24/350\n",
            "4/4 [==============================] - 0s 9ms/step - loss: 0.6494 - accuracy: 0.5840 - val_loss: 0.6510 - val_accuracy: 0.5926\n",
            "Epoch 25/350\n",
            "4/4 [==============================] - 0s 10ms/step - loss: 0.6478 - accuracy: 0.5840 - val_loss: 0.6493 - val_accuracy: 0.5926\n",
            "Epoch 26/350\n",
            "4/4 [==============================] - 0s 9ms/step - loss: 0.6460 - accuracy: 0.5840 - val_loss: 0.6478 - val_accuracy: 0.5926\n",
            "Epoch 27/350\n",
            "4/4 [==============================] - 0s 9ms/step - loss: 0.6445 - accuracy: 0.5840 - val_loss: 0.6461 - val_accuracy: 0.6296\n",
            "Epoch 28/350\n",
            "4/4 [==============================] - 0s 9ms/step - loss: 0.6425 - accuracy: 0.5920 - val_loss: 0.6447 - val_accuracy: 0.6296\n",
            "Epoch 29/350\n",
            "4/4 [==============================] - 0s 9ms/step - loss: 0.6406 - accuracy: 0.6000 - val_loss: 0.6431 - val_accuracy: 0.6296\n",
            "Epoch 30/350\n",
            "4/4 [==============================] - 0s 9ms/step - loss: 0.6392 - accuracy: 0.6000 - val_loss: 0.6413 - val_accuracy: 0.6296\n",
            "Epoch 31/350\n",
            "4/4 [==============================] - 0s 9ms/step - loss: 0.6371 - accuracy: 0.6000 - val_loss: 0.6397 - val_accuracy: 0.6296\n",
            "Epoch 32/350\n",
            "4/4 [==============================] - 0s 8ms/step - loss: 0.6356 - accuracy: 0.6160 - val_loss: 0.6384 - val_accuracy: 0.6296\n",
            "Epoch 33/350\n",
            "4/4 [==============================] - 0s 9ms/step - loss: 0.6342 - accuracy: 0.6240 - val_loss: 0.6370 - val_accuracy: 0.6296\n",
            "Epoch 34/350\n",
            "4/4 [==============================] - 0s 10ms/step - loss: 0.6324 - accuracy: 0.6320 - val_loss: 0.6353 - val_accuracy: 0.6296\n",
            "Epoch 35/350\n",
            "4/4 [==============================] - 0s 8ms/step - loss: 0.6309 - accuracy: 0.6320 - val_loss: 0.6341 - val_accuracy: 0.5926\n",
            "Epoch 36/350\n",
            "4/4 [==============================] - 0s 10ms/step - loss: 0.6293 - accuracy: 0.6160 - val_loss: 0.6329 - val_accuracy: 0.5926\n",
            "Epoch 37/350\n",
            "4/4 [==============================] - 0s 9ms/step - loss: 0.6277 - accuracy: 0.6240 - val_loss: 0.6314 - val_accuracy: 0.5926\n",
            "Epoch 38/350\n",
            "4/4 [==============================] - 0s 11ms/step - loss: 0.6260 - accuracy: 0.6320 - val_loss: 0.6300 - val_accuracy: 0.6296\n",
            "Epoch 39/350\n",
            "4/4 [==============================] - 0s 10ms/step - loss: 0.6247 - accuracy: 0.6320 - val_loss: 0.6291 - val_accuracy: 0.5926\n",
            "Epoch 40/350\n",
            "4/4 [==============================] - 0s 10ms/step - loss: 0.6233 - accuracy: 0.6320 - val_loss: 0.6277 - val_accuracy: 0.5926\n",
            "Epoch 41/350\n",
            "4/4 [==============================] - 0s 9ms/step - loss: 0.6214 - accuracy: 0.6320 - val_loss: 0.6266 - val_accuracy: 0.5926\n",
            "Epoch 42/350\n",
            "4/4 [==============================] - 0s 9ms/step - loss: 0.6198 - accuracy: 0.6320 - val_loss: 0.6254 - val_accuracy: 0.6296\n",
            "Epoch 43/350\n",
            "4/4 [==============================] - 0s 9ms/step - loss: 0.6182 - accuracy: 0.6320 - val_loss: 0.6241 - val_accuracy: 0.6296\n",
            "Epoch 44/350\n",
            "4/4 [==============================] - 0s 9ms/step - loss: 0.6171 - accuracy: 0.6400 - val_loss: 0.6232 - val_accuracy: 0.6296\n",
            "Epoch 45/350\n",
            "4/4 [==============================] - 0s 10ms/step - loss: 0.6152 - accuracy: 0.6400 - val_loss: 0.6222 - val_accuracy: 0.6667\n",
            "Epoch 46/350\n",
            "4/4 [==============================] - 0s 9ms/step - loss: 0.6138 - accuracy: 0.6480 - val_loss: 0.6213 - val_accuracy: 0.7037\n",
            "Epoch 47/350\n",
            "4/4 [==============================] - 0s 10ms/step - loss: 0.6121 - accuracy: 0.6560 - val_loss: 0.6205 - val_accuracy: 0.6667\n",
            "Epoch 48/350\n",
            "4/4 [==============================] - 0s 10ms/step - loss: 0.6107 - accuracy: 0.6560 - val_loss: 0.6198 - val_accuracy: 0.6667\n",
            "Epoch 49/350\n",
            "4/4 [==============================] - 0s 10ms/step - loss: 0.6090 - accuracy: 0.6560 - val_loss: 0.6192 - val_accuracy: 0.6667\n",
            "Epoch 50/350\n",
            "4/4 [==============================] - 0s 9ms/step - loss: 0.6077 - accuracy: 0.6720 - val_loss: 0.6186 - val_accuracy: 0.7037\n",
            "Epoch 51/350\n",
            "4/4 [==============================] - 0s 10ms/step - loss: 0.6066 - accuracy: 0.6800 - val_loss: 0.6179 - val_accuracy: 0.7037\n",
            "Epoch 52/350\n",
            "4/4 [==============================] - 0s 10ms/step - loss: 0.6051 - accuracy: 0.6800 - val_loss: 0.6173 - val_accuracy: 0.7037\n",
            "Epoch 53/350\n",
            "4/4 [==============================] - 0s 9ms/step - loss: 0.6033 - accuracy: 0.6800 - val_loss: 0.6169 - val_accuracy: 0.7037\n",
            "Epoch 54/350\n",
            "4/4 [==============================] - 0s 10ms/step - loss: 0.6022 - accuracy: 0.6800 - val_loss: 0.6164 - val_accuracy: 0.7037\n",
            "Epoch 55/350\n",
            "4/4 [==============================] - 0s 9ms/step - loss: 0.6008 - accuracy: 0.6800 - val_loss: 0.6157 - val_accuracy: 0.7037\n",
            "Epoch 56/350\n",
            "4/4 [==============================] - 0s 9ms/step - loss: 0.5996 - accuracy: 0.6800 - val_loss: 0.6152 - val_accuracy: 0.7037\n",
            "Epoch 57/350\n",
            "4/4 [==============================] - 0s 10ms/step - loss: 0.5985 - accuracy: 0.6800 - val_loss: 0.6149 - val_accuracy: 0.6667\n",
            "Epoch 58/350\n",
            "4/4 [==============================] - 0s 13ms/step - loss: 0.5971 - accuracy: 0.6960 - val_loss: 0.6144 - val_accuracy: 0.7037\n",
            "Epoch 59/350\n",
            "4/4 [==============================] - 0s 10ms/step - loss: 0.5956 - accuracy: 0.6960 - val_loss: 0.6137 - val_accuracy: 0.7037\n",
            "Epoch 60/350\n",
            "4/4 [==============================] - 0s 10ms/step - loss: 0.5942 - accuracy: 0.6960 - val_loss: 0.6134 - val_accuracy: 0.7037\n",
            "Epoch 61/350\n",
            "4/4 [==============================] - 0s 10ms/step - loss: 0.5934 - accuracy: 0.6960 - val_loss: 0.6131 - val_accuracy: 0.7037\n",
            "Epoch 62/350\n",
            "4/4 [==============================] - 0s 9ms/step - loss: 0.5923 - accuracy: 0.6960 - val_loss: 0.6124 - val_accuracy: 0.7037\n",
            "Epoch 63/350\n",
            "4/4 [==============================] - 0s 14ms/step - loss: 0.5907 - accuracy: 0.6960 - val_loss: 0.6122 - val_accuracy: 0.7037\n",
            "Epoch 64/350\n",
            "4/4 [==============================] - 0s 8ms/step - loss: 0.5893 - accuracy: 0.6960 - val_loss: 0.6122 - val_accuracy: 0.7037\n",
            "Epoch 65/350\n",
            "4/4 [==============================] - 0s 10ms/step - loss: 0.5881 - accuracy: 0.6960 - val_loss: 0.6120 - val_accuracy: 0.7037\n",
            "Epoch 66/350\n",
            "4/4 [==============================] - 0s 9ms/step - loss: 0.5868 - accuracy: 0.6960 - val_loss: 0.6119 - val_accuracy: 0.7037\n",
            "Epoch 67/350\n",
            "4/4 [==============================] - 0s 9ms/step - loss: 0.5859 - accuracy: 0.7120 - val_loss: 0.6117 - val_accuracy: 0.6667\n",
            "Epoch 68/350\n",
            "4/4 [==============================] - 0s 9ms/step - loss: 0.5848 - accuracy: 0.7120 - val_loss: 0.6120 - val_accuracy: 0.7037\n",
            "Epoch 69/350\n",
            "4/4 [==============================] - 0s 9ms/step - loss: 0.5836 - accuracy: 0.7120 - val_loss: 0.6115 - val_accuracy: 0.6667\n",
            "Epoch 70/350\n",
            "4/4 [==============================] - 0s 10ms/step - loss: 0.5823 - accuracy: 0.7120 - val_loss: 0.6112 - val_accuracy: 0.6667\n",
            "Epoch 71/350\n",
            "4/4 [==============================] - 0s 9ms/step - loss: 0.5815 - accuracy: 0.7120 - val_loss: 0.6111 - val_accuracy: 0.6667\n",
            "Epoch 72/350\n",
            "4/4 [==============================] - 0s 10ms/step - loss: 0.5810 - accuracy: 0.7200 - val_loss: 0.6101 - val_accuracy: 0.6667\n",
            "Epoch 73/350\n",
            "4/4 [==============================] - 0s 9ms/step - loss: 0.5790 - accuracy: 0.7440 - val_loss: 0.6107 - val_accuracy: 0.6667\n",
            "Epoch 74/350\n",
            "4/4 [==============================] - 0s 10ms/step - loss: 0.5781 - accuracy: 0.7520 - val_loss: 0.6106 - val_accuracy: 0.6667\n",
            "Epoch 75/350\n",
            "4/4 [==============================] - 0s 10ms/step - loss: 0.5772 - accuracy: 0.7520 - val_loss: 0.6105 - val_accuracy: 0.6667\n",
            "Epoch 76/350\n",
            "4/4 [==============================] - 0s 10ms/step - loss: 0.5757 - accuracy: 0.7600 - val_loss: 0.6112 - val_accuracy: 0.6667\n",
            "Epoch 77/350\n",
            "4/4 [==============================] - 0s 10ms/step - loss: 0.5749 - accuracy: 0.7600 - val_loss: 0.6109 - val_accuracy: 0.6667\n",
            "Epoch 78/350\n",
            "4/4 [==============================] - 0s 9ms/step - loss: 0.5735 - accuracy: 0.7680 - val_loss: 0.6111 - val_accuracy: 0.6667\n",
            "Epoch 79/350\n",
            "4/4 [==============================] - 0s 17ms/step - loss: 0.5725 - accuracy: 0.7760 - val_loss: 0.6105 - val_accuracy: 0.6667\n",
            "Epoch 80/350\n",
            "4/4 [==============================] - 0s 11ms/step - loss: 0.5717 - accuracy: 0.7760 - val_loss: 0.6102 - val_accuracy: 0.6667\n",
            "Epoch 81/350\n",
            "4/4 [==============================] - 0s 9ms/step - loss: 0.5706 - accuracy: 0.7760 - val_loss: 0.6110 - val_accuracy: 0.6667\n",
            "Epoch 82/350\n",
            "4/4 [==============================] - 0s 9ms/step - loss: 0.5696 - accuracy: 0.7760 - val_loss: 0.6114 - val_accuracy: 0.7037\n",
            "Epoch 83/350\n",
            "4/4 [==============================] - 0s 9ms/step - loss: 0.5683 - accuracy: 0.7760 - val_loss: 0.6111 - val_accuracy: 0.7037\n",
            "Epoch 84/350\n",
            "4/4 [==============================] - 0s 9ms/step - loss: 0.5679 - accuracy: 0.7760 - val_loss: 0.6106 - val_accuracy: 0.7037\n",
            "Epoch 85/350\n",
            "4/4 [==============================] - 0s 10ms/step - loss: 0.5666 - accuracy: 0.7840 - val_loss: 0.6111 - val_accuracy: 0.7037\n",
            "Epoch 86/350\n",
            "4/4 [==============================] - 0s 9ms/step - loss: 0.5653 - accuracy: 0.7840 - val_loss: 0.6112 - val_accuracy: 0.7037\n",
            "Epoch 87/350\n",
            "4/4 [==============================] - 0s 9ms/step - loss: 0.5642 - accuracy: 0.7840 - val_loss: 0.6106 - val_accuracy: 0.7037\n",
            "Epoch 88/350\n",
            "4/4 [==============================] - 0s 11ms/step - loss: 0.5632 - accuracy: 0.7920 - val_loss: 0.6112 - val_accuracy: 0.7037\n",
            "Epoch 89/350\n",
            "4/4 [==============================] - 0s 9ms/step - loss: 0.5623 - accuracy: 0.7920 - val_loss: 0.6112 - val_accuracy: 0.7037\n",
            "Epoch 90/350\n",
            "4/4 [==============================] - 0s 10ms/step - loss: 0.5612 - accuracy: 0.7920 - val_loss: 0.6120 - val_accuracy: 0.7037\n",
            "Epoch 91/350\n",
            "4/4 [==============================] - 0s 10ms/step - loss: 0.5605 - accuracy: 0.7920 - val_loss: 0.6116 - val_accuracy: 0.7037\n",
            "Epoch 92/350\n",
            "4/4 [==============================] - 0s 9ms/step - loss: 0.5593 - accuracy: 0.7920 - val_loss: 0.6124 - val_accuracy: 0.7037\n",
            "Epoch 93/350\n",
            "4/4 [==============================] - 0s 9ms/step - loss: 0.5585 - accuracy: 0.7920 - val_loss: 0.6114 - val_accuracy: 0.7037\n",
            "Epoch 94/350\n",
            "4/4 [==============================] - 0s 9ms/step - loss: 0.5574 - accuracy: 0.7920 - val_loss: 0.6119 - val_accuracy: 0.7037\n",
            "Epoch 95/350\n",
            "4/4 [==============================] - 0s 10ms/step - loss: 0.5560 - accuracy: 0.7920 - val_loss: 0.6132 - val_accuracy: 0.7037\n",
            "Epoch 96/350\n",
            "4/4 [==============================] - 0s 11ms/step - loss: 0.5553 - accuracy: 0.7920 - val_loss: 0.6137 - val_accuracy: 0.7037\n",
            "Epoch 97/350\n",
            "4/4 [==============================] - 0s 9ms/step - loss: 0.5543 - accuracy: 0.7920 - val_loss: 0.6146 - val_accuracy: 0.7037\n",
            "Epoch 98/350\n",
            "4/4 [==============================] - 0s 9ms/step - loss: 0.5533 - accuracy: 0.7840 - val_loss: 0.6152 - val_accuracy: 0.7037\n",
            "Epoch 99/350\n",
            "4/4 [==============================] - 0s 10ms/step - loss: 0.5526 - accuracy: 0.7840 - val_loss: 0.6161 - val_accuracy: 0.7037\n",
            "Epoch 100/350\n",
            "4/4 [==============================] - 0s 10ms/step - loss: 0.5514 - accuracy: 0.7840 - val_loss: 0.6146 - val_accuracy: 0.7037\n",
            "Epoch 101/350\n",
            "4/4 [==============================] - 0s 9ms/step - loss: 0.5514 - accuracy: 0.8000 - val_loss: 0.6142 - val_accuracy: 0.7037\n",
            "Epoch 102/350\n",
            "4/4 [==============================] - 0s 10ms/step - loss: 0.5494 - accuracy: 0.7840 - val_loss: 0.6179 - val_accuracy: 0.7037\n",
            "Epoch 103/350\n",
            "4/4 [==============================] - 0s 10ms/step - loss: 0.5505 - accuracy: 0.7840 - val_loss: 0.6233 - val_accuracy: 0.7037\n",
            "Epoch 104/350\n",
            "4/4 [==============================] - 0s 10ms/step - loss: 0.5483 - accuracy: 0.7840 - val_loss: 0.6211 - val_accuracy: 0.7037\n",
            "Epoch 105/350\n",
            "4/4 [==============================] - 0s 10ms/step - loss: 0.5468 - accuracy: 0.7840 - val_loss: 0.6177 - val_accuracy: 0.7037\n",
            "Epoch 106/350\n",
            "4/4 [==============================] - 0s 10ms/step - loss: 0.5459 - accuracy: 0.7840 - val_loss: 0.6190 - val_accuracy: 0.7037\n",
            "Epoch 107/350\n",
            "4/4 [==============================] - 0s 10ms/step - loss: 0.5444 - accuracy: 0.7760 - val_loss: 0.6215 - val_accuracy: 0.7037\n",
            "Epoch 108/350\n",
            "4/4 [==============================] - 0s 9ms/step - loss: 0.5437 - accuracy: 0.7840 - val_loss: 0.6236 - val_accuracy: 0.7037\n",
            "Epoch 109/350\n",
            "4/4 [==============================] - 0s 9ms/step - loss: 0.5426 - accuracy: 0.7760 - val_loss: 0.6242 - val_accuracy: 0.7037\n",
            "Epoch 110/350\n",
            "4/4 [==============================] - 0s 10ms/step - loss: 0.5415 - accuracy: 0.7760 - val_loss: 0.6244 - val_accuracy: 0.7037\n",
            "Epoch 111/350\n",
            "4/4 [==============================] - 0s 10ms/step - loss: 0.5404 - accuracy: 0.7760 - val_loss: 0.6258 - val_accuracy: 0.7037\n",
            "Epoch 112/350\n",
            "4/4 [==============================] - 0s 9ms/step - loss: 0.5409 - accuracy: 0.7840 - val_loss: 0.6241 - val_accuracy: 0.7037\n",
            "Epoch 113/350\n",
            "4/4 [==============================] - 0s 12ms/step - loss: 0.5385 - accuracy: 0.7920 - val_loss: 0.6280 - val_accuracy: 0.7037\n",
            "Epoch 114/350\n",
            "4/4 [==============================] - 0s 11ms/step - loss: 0.5378 - accuracy: 0.7760 - val_loss: 0.6295 - val_accuracy: 0.7037\n",
            "Epoch 115/350\n",
            "4/4 [==============================] - 0s 10ms/step - loss: 0.5369 - accuracy: 0.7840 - val_loss: 0.6275 - val_accuracy: 0.7037\n",
            "Epoch 116/350\n",
            "4/4 [==============================] - 0s 16ms/step - loss: 0.5361 - accuracy: 0.8000 - val_loss: 0.6280 - val_accuracy: 0.7037\n",
            "Epoch 117/350\n",
            "4/4 [==============================] - 0s 9ms/step - loss: 0.5357 - accuracy: 0.7840 - val_loss: 0.6329 - val_accuracy: 0.6667\n",
            "Epoch 118/350\n",
            "4/4 [==============================] - 0s 9ms/step - loss: 0.5338 - accuracy: 0.7840 - val_loss: 0.6315 - val_accuracy: 0.7037\n",
            "Epoch 119/350\n",
            "4/4 [==============================] - 0s 9ms/step - loss: 0.5330 - accuracy: 0.7920 - val_loss: 0.6306 - val_accuracy: 0.7037\n",
            "Epoch 120/350\n",
            "4/4 [==============================] - 0s 10ms/step - loss: 0.5322 - accuracy: 0.8000 - val_loss: 0.6317 - val_accuracy: 0.7037\n",
            "Epoch 121/350\n",
            "4/4 [==============================] - 0s 9ms/step - loss: 0.5309 - accuracy: 0.8000 - val_loss: 0.6342 - val_accuracy: 0.7037\n",
            "Epoch 122/350\n",
            "4/4 [==============================] - 0s 9ms/step - loss: 0.5298 - accuracy: 0.8000 - val_loss: 0.6350 - val_accuracy: 0.7037\n",
            "Epoch 123/350\n",
            "4/4 [==============================] - 0s 10ms/step - loss: 0.5290 - accuracy: 0.8000 - val_loss: 0.6367 - val_accuracy: 0.7037\n",
            "Epoch 124/350\n",
            "4/4 [==============================] - 0s 9ms/step - loss: 0.5283 - accuracy: 0.8000 - val_loss: 0.6385 - val_accuracy: 0.7037\n",
            "Epoch 125/350\n",
            "4/4 [==============================] - 0s 9ms/step - loss: 0.5269 - accuracy: 0.8000 - val_loss: 0.6376 - val_accuracy: 0.6667\n",
            "Epoch 126/350\n",
            "4/4 [==============================] - 0s 12ms/step - loss: 0.5261 - accuracy: 0.8000 - val_loss: 0.6369 - val_accuracy: 0.6667\n",
            "Epoch 127/350\n",
            "4/4 [==============================] - 0s 9ms/step - loss: 0.5255 - accuracy: 0.8000 - val_loss: 0.6396 - val_accuracy: 0.6667\n",
            "Epoch 128/350\n",
            "4/4 [==============================] - 0s 10ms/step - loss: 0.5243 - accuracy: 0.8000 - val_loss: 0.6413 - val_accuracy: 0.6667\n",
            "Epoch 129/350\n",
            "4/4 [==============================] - 0s 11ms/step - loss: 0.5231 - accuracy: 0.8000 - val_loss: 0.6398 - val_accuracy: 0.6667\n",
            "Epoch 130/350\n",
            "4/4 [==============================] - 0s 9ms/step - loss: 0.5221 - accuracy: 0.8000 - val_loss: 0.6413 - val_accuracy: 0.6667\n",
            "Epoch 131/350\n",
            "4/4 [==============================] - 0s 13ms/step - loss: 0.5210 - accuracy: 0.8000 - val_loss: 0.6438 - val_accuracy: 0.6667\n",
            "Epoch 132/350\n",
            "4/4 [==============================] - 0s 10ms/step - loss: 0.5200 - accuracy: 0.8000 - val_loss: 0.6449 - val_accuracy: 0.6667\n",
            "Epoch 133/350\n",
            "4/4 [==============================] - 0s 10ms/step - loss: 0.5194 - accuracy: 0.8000 - val_loss: 0.6472 - val_accuracy: 0.6296\n",
            "Epoch 134/350\n",
            "4/4 [==============================] - 0s 10ms/step - loss: 0.5190 - accuracy: 0.8000 - val_loss: 0.6431 - val_accuracy: 0.6667\n",
            "Epoch 135/350\n",
            "4/4 [==============================] - 0s 9ms/step - loss: 0.5182 - accuracy: 0.7920 - val_loss: 0.6486 - val_accuracy: 0.6667\n",
            "Epoch 136/350\n",
            "4/4 [==============================] - 0s 10ms/step - loss: 0.5162 - accuracy: 0.8000 - val_loss: 0.6485 - val_accuracy: 0.6667\n",
            "Epoch 137/350\n",
            "4/4 [==============================] - 0s 11ms/step - loss: 0.5150 - accuracy: 0.8000 - val_loss: 0.6509 - val_accuracy: 0.6296\n",
            "Epoch 138/350\n",
            "4/4 [==============================] - 0s 10ms/step - loss: 0.5143 - accuracy: 0.8000 - val_loss: 0.6502 - val_accuracy: 0.6667\n",
            "Epoch 139/350\n",
            "4/4 [==============================] - 0s 11ms/step - loss: 0.5130 - accuracy: 0.8000 - val_loss: 0.6527 - val_accuracy: 0.6667\n",
            "Epoch 140/350\n",
            "4/4 [==============================] - 0s 9ms/step - loss: 0.5123 - accuracy: 0.8000 - val_loss: 0.6553 - val_accuracy: 0.6296\n",
            "Epoch 141/350\n",
            "4/4 [==============================] - 0s 9ms/step - loss: 0.5110 - accuracy: 0.7920 - val_loss: 0.6526 - val_accuracy: 0.6667\n",
            "Epoch 142/350\n",
            "4/4 [==============================] - 0s 9ms/step - loss: 0.5102 - accuracy: 0.7920 - val_loss: 0.6526 - val_accuracy: 0.6667\n",
            "Epoch 143/350\n",
            "4/4 [==============================] - 0s 9ms/step - loss: 0.5094 - accuracy: 0.7920 - val_loss: 0.6576 - val_accuracy: 0.6667\n",
            "Epoch 144/350\n",
            "4/4 [==============================] - 0s 9ms/step - loss: 0.5078 - accuracy: 0.7920 - val_loss: 0.6576 - val_accuracy: 0.6667\n",
            "Epoch 145/350\n",
            "4/4 [==============================] - 0s 9ms/step - loss: 0.5069 - accuracy: 0.7920 - val_loss: 0.6570 - val_accuracy: 0.6667\n",
            "Epoch 146/350\n",
            "4/4 [==============================] - 0s 10ms/step - loss: 0.5063 - accuracy: 0.7840 - val_loss: 0.6583 - val_accuracy: 0.6667\n",
            "Epoch 147/350\n",
            "4/4 [==============================] - 0s 11ms/step - loss: 0.5051 - accuracy: 0.7920 - val_loss: 0.6631 - val_accuracy: 0.6296\n",
            "Epoch 148/350\n",
            "4/4 [==============================] - 0s 10ms/step - loss: 0.5040 - accuracy: 0.8000 - val_loss: 0.6632 - val_accuracy: 0.6667\n",
            "Epoch 149/350\n",
            "4/4 [==============================] - 0s 10ms/step - loss: 0.5040 - accuracy: 0.7920 - val_loss: 0.6676 - val_accuracy: 0.6296\n",
            "Epoch 150/350\n",
            "4/4 [==============================] - 0s 9ms/step - loss: 0.5014 - accuracy: 0.7920 - val_loss: 0.6645 - val_accuracy: 0.6667\n",
            "Epoch 151/350\n",
            "4/4 [==============================] - 0s 9ms/step - loss: 0.5003 - accuracy: 0.8000 - val_loss: 0.6629 - val_accuracy: 0.6667\n",
            "Epoch 152/350\n",
            "4/4 [==============================] - 0s 11ms/step - loss: 0.5006 - accuracy: 0.7920 - val_loss: 0.6649 - val_accuracy: 0.6667\n",
            "Epoch 153/350\n",
            "4/4 [==============================] - 0s 11ms/step - loss: 0.4990 - accuracy: 0.7920 - val_loss: 0.6683 - val_accuracy: 0.6667\n",
            "Epoch 154/350\n",
            "4/4 [==============================] - 0s 9ms/step - loss: 0.4976 - accuracy: 0.8000 - val_loss: 0.6729 - val_accuracy: 0.6296\n",
            "Epoch 155/350\n",
            "4/4 [==============================] - 0s 10ms/step - loss: 0.4964 - accuracy: 0.8000 - val_loss: 0.6709 - val_accuracy: 0.6667\n",
            "Epoch 156/350\n",
            "4/4 [==============================] - 0s 9ms/step - loss: 0.4953 - accuracy: 0.8000 - val_loss: 0.6735 - val_accuracy: 0.6296\n",
            "Epoch 157/350\n",
            "4/4 [==============================] - 0s 10ms/step - loss: 0.4947 - accuracy: 0.7920 - val_loss: 0.6720 - val_accuracy: 0.6667\n",
            "Epoch 158/350\n",
            "4/4 [==============================] - 0s 10ms/step - loss: 0.4940 - accuracy: 0.7920 - val_loss: 0.6781 - val_accuracy: 0.6296\n",
            "Epoch 159/350\n",
            "4/4 [==============================] - 0s 9ms/step - loss: 0.4919 - accuracy: 0.7920 - val_loss: 0.6749 - val_accuracy: 0.6667\n",
            "Epoch 160/350\n",
            "4/4 [==============================] - 0s 10ms/step - loss: 0.4912 - accuracy: 0.7920 - val_loss: 0.6746 - val_accuracy: 0.6667\n",
            "Epoch 161/350\n",
            "4/4 [==============================] - 0s 10ms/step - loss: 0.4900 - accuracy: 0.7920 - val_loss: 0.6792 - val_accuracy: 0.6296\n",
            "Epoch 162/350\n",
            "4/4 [==============================] - 0s 12ms/step - loss: 0.4895 - accuracy: 0.7920 - val_loss: 0.6852 - val_accuracy: 0.6296\n",
            "Epoch 163/350\n",
            "4/4 [==============================] - 0s 10ms/step - loss: 0.4888 - accuracy: 0.7920 - val_loss: 0.6792 - val_accuracy: 0.6667\n",
            "Epoch 164/350\n",
            "4/4 [==============================] - 0s 11ms/step - loss: 0.4868 - accuracy: 0.7920 - val_loss: 0.6837 - val_accuracy: 0.6296\n",
            "Epoch 165/350\n",
            "4/4 [==============================] - 0s 10ms/step - loss: 0.4862 - accuracy: 0.8000 - val_loss: 0.6881 - val_accuracy: 0.6296\n",
            "Epoch 166/350\n",
            "4/4 [==============================] - 0s 12ms/step - loss: 0.4846 - accuracy: 0.8000 - val_loss: 0.6860 - val_accuracy: 0.6296\n",
            "Epoch 167/350\n",
            "4/4 [==============================] - 0s 10ms/step - loss: 0.4836 - accuracy: 0.8000 - val_loss: 0.6860 - val_accuracy: 0.6296\n",
            "Epoch 168/350\n",
            "4/4 [==============================] - 0s 10ms/step - loss: 0.4828 - accuracy: 0.8000 - val_loss: 0.6930 - val_accuracy: 0.6296\n",
            "Epoch 169/350\n",
            "4/4 [==============================] - 0s 10ms/step - loss: 0.4816 - accuracy: 0.7920 - val_loss: 0.6936 - val_accuracy: 0.6296\n",
            "Epoch 170/350\n",
            "4/4 [==============================] - 0s 10ms/step - loss: 0.4800 - accuracy: 0.8000 - val_loss: 0.6944 - val_accuracy: 0.6296\n",
            "Epoch 171/350\n",
            "4/4 [==============================] - 0s 10ms/step - loss: 0.4787 - accuracy: 0.8000 - val_loss: 0.6918 - val_accuracy: 0.6296\n",
            "Epoch 172/350\n",
            "4/4 [==============================] - 0s 10ms/step - loss: 0.4774 - accuracy: 0.8000 - val_loss: 0.6950 - val_accuracy: 0.6296\n",
            "Epoch 173/350\n",
            "4/4 [==============================] - 0s 11ms/step - loss: 0.4771 - accuracy: 0.8000 - val_loss: 0.6996 - val_accuracy: 0.6296\n",
            "Epoch 174/350\n",
            "4/4 [==============================] - 0s 10ms/step - loss: 0.4749 - accuracy: 0.8080 - val_loss: 0.6962 - val_accuracy: 0.6296\n",
            "Epoch 175/350\n",
            "4/4 [==============================] - 0s 10ms/step - loss: 0.4751 - accuracy: 0.8000 - val_loss: 0.7040 - val_accuracy: 0.6296\n",
            "Epoch 176/350\n",
            "4/4 [==============================] - 0s 10ms/step - loss: 0.4730 - accuracy: 0.8000 - val_loss: 0.7021 - val_accuracy: 0.6296\n",
            "Epoch 177/350\n",
            "4/4 [==============================] - 0s 10ms/step - loss: 0.4716 - accuracy: 0.8000 - val_loss: 0.7039 - val_accuracy: 0.6296\n",
            "Epoch 178/350\n",
            "4/4 [==============================] - 0s 11ms/step - loss: 0.4709 - accuracy: 0.7920 - val_loss: 0.7103 - val_accuracy: 0.6296\n",
            "Epoch 179/350\n",
            "4/4 [==============================] - 0s 12ms/step - loss: 0.4686 - accuracy: 0.7920 - val_loss: 0.7079 - val_accuracy: 0.6296\n",
            "Epoch 180/350\n",
            "4/4 [==============================] - 0s 11ms/step - loss: 0.4674 - accuracy: 0.8000 - val_loss: 0.7103 - val_accuracy: 0.6296\n",
            "Epoch 181/350\n",
            "4/4 [==============================] - 0s 10ms/step - loss: 0.4661 - accuracy: 0.8000 - val_loss: 0.7132 - val_accuracy: 0.6296\n",
            "Epoch 182/350\n",
            "4/4 [==============================] - 0s 9ms/step - loss: 0.4666 - accuracy: 0.8000 - val_loss: 0.7198 - val_accuracy: 0.6296\n",
            "Epoch 183/350\n",
            "4/4 [==============================] - 0s 11ms/step - loss: 0.4632 - accuracy: 0.7920 - val_loss: 0.7110 - val_accuracy: 0.6296\n",
            "Epoch 184/350\n",
            "4/4 [==============================] - 0s 11ms/step - loss: 0.4635 - accuracy: 0.8080 - val_loss: 0.7086 - val_accuracy: 0.6296\n",
            "Epoch 185/350\n",
            "4/4 [==============================] - 0s 14ms/step - loss: 0.4615 - accuracy: 0.8080 - val_loss: 0.7146 - val_accuracy: 0.6296\n",
            "Epoch 186/350\n",
            "4/4 [==============================] - 0s 11ms/step - loss: 0.4598 - accuracy: 0.8080 - val_loss: 0.7305 - val_accuracy: 0.6296\n",
            "Epoch 187/350\n",
            "4/4 [==============================] - 0s 11ms/step - loss: 0.4588 - accuracy: 0.8000 - val_loss: 0.7328 - val_accuracy: 0.6296\n",
            "Epoch 188/350\n",
            "4/4 [==============================] - 0s 9ms/step - loss: 0.4566 - accuracy: 0.8000 - val_loss: 0.7323 - val_accuracy: 0.6296\n",
            "Epoch 189/350\n",
            "4/4 [==============================] - 0s 9ms/step - loss: 0.4548 - accuracy: 0.8000 - val_loss: 0.7299 - val_accuracy: 0.6296\n",
            "Epoch 190/350\n",
            "4/4 [==============================] - 0s 10ms/step - loss: 0.4549 - accuracy: 0.8080 - val_loss: 0.7246 - val_accuracy: 0.6296\n",
            "Epoch 191/350\n",
            "4/4 [==============================] - 0s 10ms/step - loss: 0.4519 - accuracy: 0.8160 - val_loss: 0.7405 - val_accuracy: 0.6296\n",
            "Epoch 192/350\n",
            "4/4 [==============================] - 0s 10ms/step - loss: 0.4501 - accuracy: 0.8080 - val_loss: 0.7517 - val_accuracy: 0.6296\n",
            "Epoch 193/350\n",
            "4/4 [==============================] - 0s 9ms/step - loss: 0.4483 - accuracy: 0.8000 - val_loss: 0.7460 - val_accuracy: 0.6296\n",
            "Epoch 194/350\n",
            "4/4 [==============================] - 0s 9ms/step - loss: 0.4462 - accuracy: 0.8320 - val_loss: 0.7417 - val_accuracy: 0.6296\n",
            "Epoch 195/350\n",
            "4/4 [==============================] - 0s 9ms/step - loss: 0.4450 - accuracy: 0.8320 - val_loss: 0.7491 - val_accuracy: 0.6296\n",
            "Epoch 196/350\n",
            "4/4 [==============================] - 0s 9ms/step - loss: 0.4433 - accuracy: 0.8320 - val_loss: 0.7590 - val_accuracy: 0.6296\n",
            "Epoch 197/350\n",
            "4/4 [==============================] - 0s 9ms/step - loss: 0.4414 - accuracy: 0.8240 - val_loss: 0.7572 - val_accuracy: 0.6296\n",
            "Epoch 198/350\n",
            "4/4 [==============================] - 0s 10ms/step - loss: 0.4406 - accuracy: 0.8240 - val_loss: 0.7647 - val_accuracy: 0.6296\n",
            "Epoch 199/350\n",
            "4/4 [==============================] - 0s 9ms/step - loss: 0.4391 - accuracy: 0.8320 - val_loss: 0.7533 - val_accuracy: 0.6296\n",
            "Epoch 200/350\n",
            "4/4 [==============================] - 0s 11ms/step - loss: 0.4366 - accuracy: 0.8400 - val_loss: 0.7633 - val_accuracy: 0.6296\n",
            "Epoch 201/350\n",
            "4/4 [==============================] - 0s 9ms/step - loss: 0.4353 - accuracy: 0.8400 - val_loss: 0.7681 - val_accuracy: 0.6296\n",
            "Epoch 202/350\n",
            "4/4 [==============================] - 0s 9ms/step - loss: 0.4342 - accuracy: 0.8160 - val_loss: 0.7860 - val_accuracy: 0.6296\n",
            "Epoch 203/350\n",
            "4/4 [==============================] - 0s 12ms/step - loss: 0.4320 - accuracy: 0.8240 - val_loss: 0.7813 - val_accuracy: 0.6296\n",
            "Epoch 204/350\n",
            "4/4 [==============================] - 0s 10ms/step - loss: 0.4325 - accuracy: 0.8480 - val_loss: 0.7610 - val_accuracy: 0.6296\n",
            "Epoch 205/350\n",
            "4/4 [==============================] - 0s 11ms/step - loss: 0.4296 - accuracy: 0.8560 - val_loss: 0.7724 - val_accuracy: 0.6296\n",
            "Epoch 206/350\n",
            "4/4 [==============================] - 0s 12ms/step - loss: 0.4279 - accuracy: 0.8400 - val_loss: 0.7881 - val_accuracy: 0.6296\n",
            "Epoch 207/350\n",
            "4/4 [==============================] - 0s 10ms/step - loss: 0.4257 - accuracy: 0.8400 - val_loss: 0.7936 - val_accuracy: 0.6296\n",
            "Epoch 208/350\n",
            "4/4 [==============================] - 0s 9ms/step - loss: 0.4245 - accuracy: 0.8480 - val_loss: 0.7884 - val_accuracy: 0.6296\n",
            "Epoch 209/350\n",
            "4/4 [==============================] - 0s 10ms/step - loss: 0.4221 - accuracy: 0.8560 - val_loss: 0.7941 - val_accuracy: 0.6296\n",
            "Epoch 210/350\n",
            "4/4 [==============================] - 0s 12ms/step - loss: 0.4209 - accuracy: 0.8480 - val_loss: 0.8077 - val_accuracy: 0.6296\n",
            "Epoch 211/350\n",
            "4/4 [==============================] - 0s 9ms/step - loss: 0.4196 - accuracy: 0.8480 - val_loss: 0.8062 - val_accuracy: 0.6296\n",
            "Epoch 212/350\n",
            "4/4 [==============================] - 0s 10ms/step - loss: 0.4174 - accuracy: 0.8480 - val_loss: 0.8077 - val_accuracy: 0.6296\n",
            "Epoch 213/350\n",
            "4/4 [==============================] - 0s 9ms/step - loss: 0.4155 - accuracy: 0.8560 - val_loss: 0.8019 - val_accuracy: 0.6296\n",
            "Epoch 214/350\n",
            "4/4 [==============================] - 0s 11ms/step - loss: 0.4140 - accuracy: 0.8560 - val_loss: 0.8016 - val_accuracy: 0.6296\n",
            "Epoch 215/350\n",
            "4/4 [==============================] - 0s 9ms/step - loss: 0.4126 - accuracy: 0.8480 - val_loss: 0.8107 - val_accuracy: 0.6296\n",
            "Epoch 216/350\n",
            "4/4 [==============================] - 0s 9ms/step - loss: 0.4111 - accuracy: 0.8560 - val_loss: 0.8130 - val_accuracy: 0.6296\n",
            "Epoch 217/350\n",
            "4/4 [==============================] - 0s 12ms/step - loss: 0.4094 - accuracy: 0.8480 - val_loss: 0.8187 - val_accuracy: 0.6296\n",
            "Epoch 218/350\n",
            "4/4 [==============================] - 0s 9ms/step - loss: 0.4080 - accuracy: 0.8560 - val_loss: 0.8136 - val_accuracy: 0.6296\n",
            "Epoch 219/350\n",
            "4/4 [==============================] - 0s 10ms/step - loss: 0.4065 - accuracy: 0.8560 - val_loss: 0.8236 - val_accuracy: 0.6296\n",
            "Epoch 220/350\n",
            "4/4 [==============================] - 0s 10ms/step - loss: 0.4045 - accuracy: 0.8560 - val_loss: 0.8366 - val_accuracy: 0.6296\n",
            "Epoch 221/350\n",
            "4/4 [==============================] - 0s 11ms/step - loss: 0.4032 - accuracy: 0.8560 - val_loss: 0.8338 - val_accuracy: 0.6296\n",
            "Epoch 222/350\n",
            "4/4 [==============================] - 0s 11ms/step - loss: 0.4027 - accuracy: 0.8560 - val_loss: 0.8245 - val_accuracy: 0.6296\n",
            "Epoch 223/350\n",
            "4/4 [==============================] - 0s 10ms/step - loss: 0.4010 - accuracy: 0.8560 - val_loss: 0.8447 - val_accuracy: 0.6296\n",
            "Epoch 224/350\n",
            "4/4 [==============================] - 0s 11ms/step - loss: 0.3989 - accuracy: 0.8560 - val_loss: 0.8342 - val_accuracy: 0.6296\n",
            "Epoch 225/350\n",
            "4/4 [==============================] - 0s 12ms/step - loss: 0.3971 - accuracy: 0.8640 - val_loss: 0.8396 - val_accuracy: 0.6296\n",
            "Epoch 226/350\n",
            "4/4 [==============================] - 0s 10ms/step - loss: 0.3957 - accuracy: 0.8640 - val_loss: 0.8508 - val_accuracy: 0.6296\n",
            "Epoch 227/350\n",
            "4/4 [==============================] - 0s 9ms/step - loss: 0.3940 - accuracy: 0.8640 - val_loss: 0.8430 - val_accuracy: 0.6296\n",
            "Epoch 228/350\n",
            "4/4 [==============================] - 0s 11ms/step - loss: 0.3926 - accuracy: 0.8720 - val_loss: 0.8497 - val_accuracy: 0.6296\n",
            "Epoch 229/350\n",
            "4/4 [==============================] - 0s 11ms/step - loss: 0.3916 - accuracy: 0.8720 - val_loss: 0.8539 - val_accuracy: 0.6296\n",
            "Epoch 230/350\n",
            "4/4 [==============================] - 0s 10ms/step - loss: 0.3900 - accuracy: 0.8640 - val_loss: 0.8643 - val_accuracy: 0.6296\n",
            "Epoch 231/350\n",
            "4/4 [==============================] - 0s 11ms/step - loss: 0.3879 - accuracy: 0.8800 - val_loss: 0.8573 - val_accuracy: 0.6667\n",
            "Epoch 232/350\n",
            "4/4 [==============================] - 0s 10ms/step - loss: 0.3871 - accuracy: 0.8880 - val_loss: 0.8548 - val_accuracy: 0.6667\n",
            "Epoch 233/350\n",
            "4/4 [==============================] - 0s 10ms/step - loss: 0.3859 - accuracy: 0.8880 - val_loss: 0.8715 - val_accuracy: 0.6667\n",
            "Epoch 234/350\n",
            "4/4 [==============================] - 0s 13ms/step - loss: 0.3855 - accuracy: 0.8640 - val_loss: 0.8757 - val_accuracy: 0.6667\n",
            "Epoch 235/350\n",
            "4/4 [==============================] - 0s 10ms/step - loss: 0.3819 - accuracy: 0.8880 - val_loss: 0.8707 - val_accuracy: 0.6667\n",
            "Epoch 236/350\n",
            "4/4 [==============================] - 0s 10ms/step - loss: 0.3815 - accuracy: 0.8960 - val_loss: 0.8715 - val_accuracy: 0.6667\n",
            "Epoch 237/350\n",
            "4/4 [==============================] - 0s 10ms/step - loss: 0.3796 - accuracy: 0.8960 - val_loss: 0.8859 - val_accuracy: 0.6667\n",
            "Epoch 238/350\n",
            "4/4 [==============================] - 0s 11ms/step - loss: 0.3809 - accuracy: 0.8640 - val_loss: 0.9055 - val_accuracy: 0.6296\n",
            "Epoch 239/350\n",
            "4/4 [==============================] - 0s 10ms/step - loss: 0.3776 - accuracy: 0.8800 - val_loss: 0.8721 - val_accuracy: 0.6667\n",
            "Epoch 240/350\n",
            "4/4 [==============================] - 0s 11ms/step - loss: 0.3771 - accuracy: 0.9040 - val_loss: 0.8809 - val_accuracy: 0.6667\n",
            "Epoch 241/350\n",
            "4/4 [==============================] - 0s 11ms/step - loss: 0.3773 - accuracy: 0.8640 - val_loss: 0.9168 - val_accuracy: 0.6667\n",
            "Epoch 242/350\n",
            "4/4 [==============================] - 0s 11ms/step - loss: 0.3735 - accuracy: 0.8720 - val_loss: 0.8824 - val_accuracy: 0.6667\n",
            "Epoch 243/350\n",
            "4/4 [==============================] - 0s 13ms/step - loss: 0.3725 - accuracy: 0.9040 - val_loss: 0.8884 - val_accuracy: 0.6667\n",
            "Epoch 244/350\n",
            "4/4 [==============================] - 0s 11ms/step - loss: 0.3700 - accuracy: 0.8960 - val_loss: 0.9154 - val_accuracy: 0.6667\n",
            "Epoch 245/350\n",
            "4/4 [==============================] - 0s 13ms/step - loss: 0.3697 - accuracy: 0.8720 - val_loss: 0.9257 - val_accuracy: 0.6667\n",
            "Epoch 246/350\n",
            "4/4 [==============================] - 0s 10ms/step - loss: 0.3677 - accuracy: 0.9040 - val_loss: 0.8962 - val_accuracy: 0.6667\n",
            "Epoch 247/350\n",
            "4/4 [==============================] - 0s 12ms/step - loss: 0.3673 - accuracy: 0.9040 - val_loss: 0.9059 - val_accuracy: 0.6667\n",
            "Epoch 248/350\n",
            "4/4 [==============================] - 0s 10ms/step - loss: 0.3648 - accuracy: 0.8960 - val_loss: 0.9509 - val_accuracy: 0.6667\n",
            "Epoch 249/350\n",
            "4/4 [==============================] - 0s 9ms/step - loss: 0.3652 - accuracy: 0.8880 - val_loss: 0.9282 - val_accuracy: 0.6667\n",
            "Epoch 250/350\n",
            "4/4 [==============================] - 0s 9ms/step - loss: 0.3612 - accuracy: 0.9040 - val_loss: 0.9200 - val_accuracy: 0.6667\n",
            "Epoch 251/350\n",
            "4/4 [==============================] - 0s 11ms/step - loss: 0.3598 - accuracy: 0.9040 - val_loss: 0.9416 - val_accuracy: 0.6667\n",
            "Epoch 252/350\n",
            "4/4 [==============================] - 0s 9ms/step - loss: 0.3586 - accuracy: 0.9040 - val_loss: 0.9582 - val_accuracy: 0.6667\n",
            "Epoch 253/350\n",
            "4/4 [==============================] - 0s 10ms/step - loss: 0.3582 - accuracy: 0.9040 - val_loss: 0.9352 - val_accuracy: 0.6667\n",
            "Epoch 254/350\n",
            "4/4 [==============================] - 0s 10ms/step - loss: 0.3548 - accuracy: 0.9040 - val_loss: 0.9551 - val_accuracy: 0.6667\n",
            "Epoch 255/350\n",
            "4/4 [==============================] - 0s 11ms/step - loss: 0.3540 - accuracy: 0.9040 - val_loss: 0.9749 - val_accuracy: 0.6667\n",
            "Epoch 256/350\n",
            "4/4 [==============================] - 0s 10ms/step - loss: 0.3526 - accuracy: 0.9040 - val_loss: 0.9705 - val_accuracy: 0.6667\n",
            "Epoch 257/350\n",
            "4/4 [==============================] - 0s 11ms/step - loss: 0.3503 - accuracy: 0.9040 - val_loss: 0.9560 - val_accuracy: 0.6667\n",
            "Epoch 258/350\n",
            "4/4 [==============================] - 0s 12ms/step - loss: 0.3492 - accuracy: 0.9120 - val_loss: 0.9830 - val_accuracy: 0.6667\n",
            "Epoch 259/350\n",
            "4/4 [==============================] - 0s 10ms/step - loss: 0.3477 - accuracy: 0.9040 - val_loss: 0.9788 - val_accuracy: 0.6667\n",
            "Epoch 260/350\n",
            "4/4 [==============================] - 0s 9ms/step - loss: 0.3461 - accuracy: 0.9040 - val_loss: 0.9824 - val_accuracy: 0.6667\n",
            "Epoch 261/350\n",
            "4/4 [==============================] - 0s 11ms/step - loss: 0.3441 - accuracy: 0.9120 - val_loss: 0.9901 - val_accuracy: 0.6667\n",
            "Epoch 262/350\n",
            "4/4 [==============================] - 0s 11ms/step - loss: 0.3432 - accuracy: 0.9120 - val_loss: 0.9951 - val_accuracy: 0.6667\n",
            "Epoch 263/350\n",
            "4/4 [==============================] - 0s 10ms/step - loss: 0.3447 - accuracy: 0.9200 - val_loss: 0.9826 - val_accuracy: 0.6667\n",
            "Epoch 264/350\n",
            "4/4 [==============================] - 0s 10ms/step - loss: 0.3395 - accuracy: 0.9200 - val_loss: 1.0235 - val_accuracy: 0.6667\n",
            "Epoch 265/350\n",
            "4/4 [==============================] - 0s 10ms/step - loss: 0.3438 - accuracy: 0.8960 - val_loss: 1.0335 - val_accuracy: 0.6667\n",
            "Epoch 266/350\n",
            "4/4 [==============================] - 0s 10ms/step - loss: 0.3398 - accuracy: 0.9200 - val_loss: 0.9837 - val_accuracy: 0.6667\n",
            "Epoch 267/350\n",
            "4/4 [==============================] - 0s 12ms/step - loss: 0.3389 - accuracy: 0.9280 - val_loss: 1.0191 - val_accuracy: 0.6667\n",
            "Epoch 268/350\n",
            "4/4 [==============================] - 0s 10ms/step - loss: 0.3365 - accuracy: 0.9200 - val_loss: 1.0486 - val_accuracy: 0.6667\n",
            "Epoch 269/350\n",
            "4/4 [==============================] - 0s 11ms/step - loss: 0.3342 - accuracy: 0.9200 - val_loss: 1.0292 - val_accuracy: 0.6667\n",
            "Epoch 270/350\n",
            "4/4 [==============================] - 0s 10ms/step - loss: 0.3329 - accuracy: 0.9280 - val_loss: 1.0207 - val_accuracy: 0.6667\n",
            "Epoch 271/350\n",
            "4/4 [==============================] - 0s 10ms/step - loss: 0.3313 - accuracy: 0.9200 - val_loss: 1.0570 - val_accuracy: 0.6667\n",
            "Epoch 272/350\n",
            "4/4 [==============================] - 0s 10ms/step - loss: 0.3323 - accuracy: 0.9200 - val_loss: 1.0524 - val_accuracy: 0.6667\n",
            "Epoch 273/350\n",
            "4/4 [==============================] - 0s 10ms/step - loss: 0.3276 - accuracy: 0.9280 - val_loss: 1.0368 - val_accuracy: 0.6667\n",
            "Epoch 274/350\n",
            "4/4 [==============================] - 0s 10ms/step - loss: 0.3277 - accuracy: 0.9280 - val_loss: 1.0532 - val_accuracy: 0.6667\n",
            "Epoch 275/350\n",
            "4/4 [==============================] - 0s 13ms/step - loss: 0.3265 - accuracy: 0.9200 - val_loss: 1.0739 - val_accuracy: 0.6667\n",
            "Epoch 276/350\n",
            "4/4 [==============================] - 0s 9ms/step - loss: 0.3253 - accuracy: 0.9280 - val_loss: 1.0550 - val_accuracy: 0.6667\n",
            "Epoch 277/350\n",
            "4/4 [==============================] - 0s 10ms/step - loss: 0.3235 - accuracy: 0.9280 - val_loss: 1.0677 - val_accuracy: 0.6667\n",
            "Epoch 278/350\n",
            "4/4 [==============================] - 0s 9ms/step - loss: 0.3218 - accuracy: 0.9280 - val_loss: 1.0861 - val_accuracy: 0.6667\n",
            "Epoch 279/350\n",
            "4/4 [==============================] - 0s 11ms/step - loss: 0.3213 - accuracy: 0.9200 - val_loss: 1.0880 - val_accuracy: 0.6667\n",
            "Epoch 280/350\n",
            "4/4 [==============================] - 0s 12ms/step - loss: 0.3208 - accuracy: 0.9280 - val_loss: 1.0776 - val_accuracy: 0.6667\n",
            "Epoch 281/350\n",
            "4/4 [==============================] - 0s 13ms/step - loss: 0.3183 - accuracy: 0.9280 - val_loss: 1.0983 - val_accuracy: 0.6667\n",
            "Epoch 282/350\n",
            "4/4 [==============================] - 0s 17ms/step - loss: 0.3185 - accuracy: 0.9280 - val_loss: 1.0955 - val_accuracy: 0.6667\n",
            "Epoch 283/350\n",
            "4/4 [==============================] - 0s 12ms/step - loss: 0.3161 - accuracy: 0.9280 - val_loss: 1.0979 - val_accuracy: 0.6667\n",
            "Epoch 284/350\n",
            "4/4 [==============================] - 0s 14ms/step - loss: 0.3144 - accuracy: 0.9280 - val_loss: 1.1103 - val_accuracy: 0.6667\n",
            "Epoch 285/350\n",
            "4/4 [==============================] - 0s 11ms/step - loss: 0.3135 - accuracy: 0.9280 - val_loss: 1.1162 - val_accuracy: 0.6667\n",
            "Epoch 286/350\n",
            "4/4 [==============================] - 0s 11ms/step - loss: 0.3147 - accuracy: 0.9280 - val_loss: 1.1113 - val_accuracy: 0.6667\n",
            "Epoch 287/350\n",
            "4/4 [==============================] - 0s 10ms/step - loss: 0.3143 - accuracy: 0.9280 - val_loss: 1.1564 - val_accuracy: 0.6667\n",
            "Epoch 288/350\n",
            "4/4 [==============================] - 0s 13ms/step - loss: 0.3113 - accuracy: 0.9280 - val_loss: 1.1131 - val_accuracy: 0.6667\n",
            "Epoch 289/350\n",
            "4/4 [==============================] - 0s 12ms/step - loss: 0.3101 - accuracy: 0.9280 - val_loss: 1.1107 - val_accuracy: 0.6667\n",
            "Epoch 290/350\n",
            "4/4 [==============================] - 0s 10ms/step - loss: 0.3088 - accuracy: 0.9280 - val_loss: 1.1420 - val_accuracy: 0.6667\n",
            "Epoch 291/350\n",
            "4/4 [==============================] - 0s 10ms/step - loss: 0.3082 - accuracy: 0.9280 - val_loss: 1.1513 - val_accuracy: 0.6667\n",
            "Epoch 292/350\n",
            "4/4 [==============================] - 0s 10ms/step - loss: 0.3061 - accuracy: 0.9280 - val_loss: 1.1295 - val_accuracy: 0.6667\n",
            "Epoch 293/350\n",
            "4/4 [==============================] - 0s 11ms/step - loss: 0.3066 - accuracy: 0.9280 - val_loss: 1.1402 - val_accuracy: 0.6667\n",
            "Epoch 294/350\n",
            "4/4 [==============================] - 0s 10ms/step - loss: 0.3039 - accuracy: 0.9280 - val_loss: 1.1804 - val_accuracy: 0.6667\n",
            "Epoch 295/350\n",
            "4/4 [==============================] - 0s 11ms/step - loss: 0.3043 - accuracy: 0.9280 - val_loss: 1.1518 - val_accuracy: 0.6667\n",
            "Epoch 296/350\n",
            "4/4 [==============================] - 0s 12ms/step - loss: 0.3050 - accuracy: 0.9360 - val_loss: 1.1348 - val_accuracy: 0.6667\n",
            "Epoch 297/350\n",
            "4/4 [==============================] - 0s 13ms/step - loss: 0.3019 - accuracy: 0.9280 - val_loss: 1.1870 - val_accuracy: 0.6667\n",
            "Epoch 298/350\n",
            "4/4 [==============================] - 0s 12ms/step - loss: 0.3000 - accuracy: 0.9280 - val_loss: 1.1832 - val_accuracy: 0.6667\n",
            "Epoch 299/350\n",
            "4/4 [==============================] - 0s 10ms/step - loss: 0.2987 - accuracy: 0.9280 - val_loss: 1.1799 - val_accuracy: 0.6667\n",
            "Epoch 300/350\n",
            "4/4 [==============================] - 0s 11ms/step - loss: 0.2973 - accuracy: 0.9280 - val_loss: 1.1918 - val_accuracy: 0.6667\n",
            "Epoch 301/350\n",
            "4/4 [==============================] - 0s 13ms/step - loss: 0.2963 - accuracy: 0.9280 - val_loss: 1.1927 - val_accuracy: 0.6667\n",
            "Epoch 302/350\n",
            "4/4 [==============================] - 0s 15ms/step - loss: 0.2949 - accuracy: 0.9280 - val_loss: 1.1912 - val_accuracy: 0.6667\n",
            "Epoch 303/350\n",
            "4/4 [==============================] - 0s 11ms/step - loss: 0.2949 - accuracy: 0.9360 - val_loss: 1.1998 - val_accuracy: 0.6667\n",
            "Epoch 304/350\n",
            "4/4 [==============================] - 0s 10ms/step - loss: 0.2958 - accuracy: 0.9280 - val_loss: 1.2296 - val_accuracy: 0.6667\n",
            "Epoch 305/350\n",
            "4/4 [==============================] - 0s 10ms/step - loss: 0.2920 - accuracy: 0.9360 - val_loss: 1.1911 - val_accuracy: 0.6667\n",
            "Epoch 306/350\n",
            "4/4 [==============================] - 0s 10ms/step - loss: 0.2918 - accuracy: 0.9360 - val_loss: 1.2214 - val_accuracy: 0.6667\n",
            "Epoch 307/350\n",
            "4/4 [==============================] - 0s 12ms/step - loss: 0.2906 - accuracy: 0.9360 - val_loss: 1.2366 - val_accuracy: 0.6667\n",
            "Epoch 308/350\n",
            "4/4 [==============================] - 0s 11ms/step - loss: 0.2888 - accuracy: 0.9360 - val_loss: 1.2207 - val_accuracy: 0.6667\n",
            "Epoch 309/350\n",
            "4/4 [==============================] - 0s 10ms/step - loss: 0.2880 - accuracy: 0.9360 - val_loss: 1.2392 - val_accuracy: 0.6667\n",
            "Epoch 310/350\n",
            "4/4 [==============================] - 0s 10ms/step - loss: 0.2865 - accuracy: 0.9360 - val_loss: 1.2409 - val_accuracy: 0.6667\n",
            "Epoch 311/350\n",
            "4/4 [==============================] - 0s 12ms/step - loss: 0.2852 - accuracy: 0.9360 - val_loss: 1.2494 - val_accuracy: 0.6667\n",
            "Epoch 312/350\n",
            "4/4 [==============================] - 0s 13ms/step - loss: 0.2851 - accuracy: 0.9360 - val_loss: 1.2478 - val_accuracy: 0.6667\n",
            "Epoch 313/350\n",
            "4/4 [==============================] - 0s 10ms/step - loss: 0.2854 - accuracy: 0.9360 - val_loss: 1.2381 - val_accuracy: 0.6667\n",
            "Epoch 314/350\n",
            "4/4 [==============================] - 0s 12ms/step - loss: 0.2827 - accuracy: 0.9360 - val_loss: 1.2842 - val_accuracy: 0.7037\n",
            "Epoch 315/350\n",
            "4/4 [==============================] - 0s 9ms/step - loss: 0.2826 - accuracy: 0.9360 - val_loss: 1.2522 - val_accuracy: 0.6667\n",
            "Epoch 316/350\n",
            "4/4 [==============================] - 0s 11ms/step - loss: 0.2811 - accuracy: 0.9360 - val_loss: 1.2749 - val_accuracy: 0.6667\n",
            "Epoch 317/350\n",
            "4/4 [==============================] - 0s 10ms/step - loss: 0.2795 - accuracy: 0.9360 - val_loss: 1.2768 - val_accuracy: 0.6667\n",
            "Epoch 318/350\n",
            "4/4 [==============================] - 0s 12ms/step - loss: 0.2786 - accuracy: 0.9360 - val_loss: 1.2999 - val_accuracy: 0.6667\n",
            "Epoch 319/350\n",
            "4/4 [==============================] - 0s 11ms/step - loss: 0.2772 - accuracy: 0.9360 - val_loss: 1.2849 - val_accuracy: 0.6667\n",
            "Epoch 320/350\n",
            "4/4 [==============================] - 0s 11ms/step - loss: 0.2763 - accuracy: 0.9360 - val_loss: 1.2916 - val_accuracy: 0.7037\n",
            "Epoch 321/350\n",
            "4/4 [==============================] - 0s 10ms/step - loss: 0.2751 - accuracy: 0.9360 - val_loss: 1.3127 - val_accuracy: 0.7037\n",
            "Epoch 322/350\n",
            "4/4 [==============================] - 0s 12ms/step - loss: 0.2741 - accuracy: 0.9440 - val_loss: 1.3014 - val_accuracy: 0.7037\n",
            "Epoch 323/350\n",
            "4/4 [==============================] - 0s 10ms/step - loss: 0.2729 - accuracy: 0.9360 - val_loss: 1.3109 - val_accuracy: 0.7037\n",
            "Epoch 324/350\n",
            "4/4 [==============================] - 0s 10ms/step - loss: 0.2719 - accuracy: 0.9440 - val_loss: 1.3215 - val_accuracy: 0.7037\n",
            "Epoch 325/350\n",
            "4/4 [==============================] - 0s 12ms/step - loss: 0.2710 - accuracy: 0.9440 - val_loss: 1.3197 - val_accuracy: 0.7037\n",
            "Epoch 326/350\n",
            "4/4 [==============================] - 0s 13ms/step - loss: 0.2704 - accuracy: 0.9440 - val_loss: 1.3296 - val_accuracy: 0.7037\n",
            "Epoch 327/350\n",
            "4/4 [==============================] - 0s 10ms/step - loss: 0.2693 - accuracy: 0.9440 - val_loss: 1.3192 - val_accuracy: 0.7037\n",
            "Epoch 328/350\n",
            "4/4 [==============================] - 0s 12ms/step - loss: 0.2691 - accuracy: 0.9440 - val_loss: 1.3555 - val_accuracy: 0.7037\n",
            "Epoch 329/350\n",
            "4/4 [==============================] - 0s 11ms/step - loss: 0.2685 - accuracy: 0.9440 - val_loss: 1.3497 - val_accuracy: 0.7037\n",
            "Epoch 330/350\n",
            "4/4 [==============================] - 0s 11ms/step - loss: 0.2663 - accuracy: 0.9440 - val_loss: 1.3649 - val_accuracy: 0.7037\n",
            "Epoch 331/350\n",
            "4/4 [==============================] - 0s 11ms/step - loss: 0.2654 - accuracy: 0.9440 - val_loss: 1.3569 - val_accuracy: 0.7037\n",
            "Epoch 332/350\n",
            "4/4 [==============================] - 0s 11ms/step - loss: 0.2648 - accuracy: 0.9440 - val_loss: 1.3694 - val_accuracy: 0.7037\n",
            "Epoch 333/350\n",
            "4/4 [==============================] - 0s 10ms/step - loss: 0.2639 - accuracy: 0.9440 - val_loss: 1.3893 - val_accuracy: 0.7037\n",
            "Epoch 334/350\n",
            "4/4 [==============================] - 0s 11ms/step - loss: 0.2641 - accuracy: 0.9440 - val_loss: 1.3760 - val_accuracy: 0.7037\n",
            "Epoch 335/350\n",
            "4/4 [==============================] - 0s 10ms/step - loss: 0.2618 - accuracy: 0.9440 - val_loss: 1.3931 - val_accuracy: 0.7037\n",
            "Epoch 336/350\n",
            "4/4 [==============================] - 0s 11ms/step - loss: 0.2607 - accuracy: 0.9440 - val_loss: 1.3959 - val_accuracy: 0.7037\n",
            "Epoch 337/350\n",
            "4/4 [==============================] - 0s 11ms/step - loss: 0.2600 - accuracy: 0.9440 - val_loss: 1.3908 - val_accuracy: 0.7037\n",
            "Epoch 338/350\n",
            "4/4 [==============================] - 0s 10ms/step - loss: 0.2592 - accuracy: 0.9520 - val_loss: 1.3995 - val_accuracy: 0.7037\n",
            "Epoch 339/350\n",
            "4/4 [==============================] - 0s 11ms/step - loss: 0.2587 - accuracy: 0.9440 - val_loss: 1.4326 - val_accuracy: 0.7037\n",
            "Epoch 340/350\n",
            "4/4 [==============================] - 0s 10ms/step - loss: 0.2591 - accuracy: 0.9520 - val_loss: 1.3960 - val_accuracy: 0.7037\n",
            "Epoch 341/350\n",
            "4/4 [==============================] - 0s 12ms/step - loss: 0.2567 - accuracy: 0.9600 - val_loss: 1.4354 - val_accuracy: 0.7037\n",
            "Epoch 342/350\n",
            "4/4 [==============================] - 0s 10ms/step - loss: 0.2575 - accuracy: 0.9440 - val_loss: 1.4217 - val_accuracy: 0.7037\n",
            "Epoch 343/350\n",
            "4/4 [==============================] - 0s 10ms/step - loss: 0.2550 - accuracy: 0.9520 - val_loss: 1.4282 - val_accuracy: 0.7037\n",
            "Epoch 344/350\n",
            "4/4 [==============================] - 0s 10ms/step - loss: 0.2541 - accuracy: 0.9440 - val_loss: 1.4563 - val_accuracy: 0.7037\n",
            "Epoch 345/350\n",
            "4/4 [==============================] - 0s 10ms/step - loss: 0.2531 - accuracy: 0.9600 - val_loss: 1.4380 - val_accuracy: 0.7037\n",
            "Epoch 346/350\n",
            "4/4 [==============================] - 0s 11ms/step - loss: 0.2527 - accuracy: 0.9600 - val_loss: 1.4723 - val_accuracy: 0.7037\n",
            "Epoch 347/350\n",
            "4/4 [==============================] - 0s 10ms/step - loss: 0.2519 - accuracy: 0.9520 - val_loss: 1.4613 - val_accuracy: 0.7037\n",
            "Epoch 348/350\n",
            "4/4 [==============================] - 0s 13ms/step - loss: 0.2502 - accuracy: 0.9600 - val_loss: 1.4710 - val_accuracy: 0.7037\n",
            "Epoch 349/350\n",
            "4/4 [==============================] - 0s 10ms/step - loss: 0.2491 - accuracy: 0.9600 - val_loss: 1.4737 - val_accuracy: 0.7037\n",
            "Epoch 350/350\n",
            "4/4 [==============================] - 0s 10ms/step - loss: 0.2482 - accuracy: 0.9600 - val_loss: 1.4880 - val_accuracy: 0.7037\n"
          ]
        }
      ]
    },
    {
      "cell_type": "code",
      "source": [
        "model.evaluate(X_test, y_test) # Same results with previous"
      ],
      "metadata": {
        "id": "S7rS6N1nq4HX",
        "outputId": "e7f48233-d5c1-4a7e-d871-b95a1e379918",
        "colab": {
          "base_uri": "https://localhost:8080/"
        }
      },
      "execution_count": 96,
      "outputs": [
        {
          "output_type": "stream",
          "name": "stdout",
          "text": [
            "1/1 [==============================] - 0s 18ms/step - loss: 1.3612 - accuracy: 0.6087\n"
          ]
        },
        {
          "output_type": "execute_result",
          "data": {
            "text/plain": [
              "[1.3612337112426758, 0.6086956262588501]"
            ]
          },
          "metadata": {},
          "execution_count": 96
        }
      ]
    },
    {
      "cell_type": "code",
      "source": [
        "tf.random.set_seed(42)\n",
        "\n",
        "model = tf.keras.Sequential([\n",
        "    tf.keras.layers.Dense(19, activation='relu'),\n",
        "    tf.keras.layers.Dense(10, activation='relu'),\n",
        "    tf.keras.layers.Dense(10, activation='relu'),\n",
        "\n",
        "    # tf.keras.layers.Dense(20, activation='relu'),\n",
        "    # tf.keras.layers.Dense(10, activation='relu'),\n",
        "\n",
        "    # tf.keras.layers.Dense(256, activation='relu'),\n",
        "    tf.keras.layers.Dense(1, activation='sigmoid')\n",
        "])\n",
        "\n",
        "model.compile(\n",
        "    loss=tf.keras.losses.binary_crossentropy,\n",
        "    optimizer=tf.keras.optimizers.Adam(0.001),\n",
        "    metrics=[\"accuracy\"]\n",
        ")\n",
        "\n",
        "\n",
        "history = model.fit(X_train_scaled, \n",
        "                    y_train, \n",
        "                    epochs=150,\n",
        "                    validation_data = (X_valid_scaled, y_valid),\n",
        "                    callbacks=[model_checkpoint])"
      ],
      "metadata": {
        "id": "6iqdazWeefng",
        "outputId": "b2990126-d383-45b9-e304-a3e96029a4c3",
        "colab": {
          "base_uri": "https://localhost:8080/"
        }
      },
      "execution_count": 97,
      "outputs": [
        {
          "output_type": "stream",
          "name": "stdout",
          "text": [
            "Epoch 1/150\n",
            "4/4 [==============================] - 1s 53ms/step - loss: 0.7377 - accuracy: 0.4160 - val_loss: 0.7451 - val_accuracy: 0.3333\n",
            "Epoch 2/150\n",
            "4/4 [==============================] - 0s 17ms/step - loss: 0.7264 - accuracy: 0.4320 - val_loss: 0.7377 - val_accuracy: 0.3333\n",
            "Epoch 3/150\n",
            "4/4 [==============================] - 0s 12ms/step - loss: 0.7171 - accuracy: 0.4240 - val_loss: 0.7307 - val_accuracy: 0.3333\n",
            "Epoch 4/150\n",
            "4/4 [==============================] - 0s 9ms/step - loss: 0.7102 - accuracy: 0.4400 - val_loss: 0.7246 - val_accuracy: 0.2963\n",
            "Epoch 5/150\n",
            "4/4 [==============================] - 0s 9ms/step - loss: 0.7021 - accuracy: 0.4560 - val_loss: 0.7195 - val_accuracy: 0.3704\n",
            "Epoch 6/150\n",
            "4/4 [==============================] - 0s 9ms/step - loss: 0.6951 - accuracy: 0.4080 - val_loss: 0.7143 - val_accuracy: 0.3704\n",
            "Epoch 7/150\n",
            "4/4 [==============================] - 0s 9ms/step - loss: 0.6921 - accuracy: 0.4720 - val_loss: 0.7093 - val_accuracy: 0.4444\n",
            "Epoch 8/150\n",
            "4/4 [==============================] - 0s 11ms/step - loss: 0.6854 - accuracy: 0.5440 - val_loss: 0.7056 - val_accuracy: 0.4444\n",
            "Epoch 9/150\n",
            "4/4 [==============================] - 0s 9ms/step - loss: 0.6821 - accuracy: 0.5520 - val_loss: 0.7030 - val_accuracy: 0.5185\n",
            "Epoch 10/150\n",
            "4/4 [==============================] - 0s 10ms/step - loss: 0.6786 - accuracy: 0.5520 - val_loss: 0.7012 - val_accuracy: 0.5556\n",
            "Epoch 11/150\n",
            "4/4 [==============================] - 0s 11ms/step - loss: 0.6756 - accuracy: 0.5760 - val_loss: 0.6997 - val_accuracy: 0.5556\n",
            "Epoch 12/150\n",
            "4/4 [==============================] - 0s 9ms/step - loss: 0.6731 - accuracy: 0.5600 - val_loss: 0.6981 - val_accuracy: 0.5556\n",
            "Epoch 13/150\n",
            "4/4 [==============================] - 0s 9ms/step - loss: 0.6716 - accuracy: 0.5680 - val_loss: 0.6970 - val_accuracy: 0.5556\n",
            "Epoch 14/150\n",
            "4/4 [==============================] - 0s 10ms/step - loss: 0.6696 - accuracy: 0.5840 - val_loss: 0.6955 - val_accuracy: 0.5926\n",
            "Epoch 15/150\n",
            "4/4 [==============================] - 0s 10ms/step - loss: 0.6678 - accuracy: 0.5840 - val_loss: 0.6940 - val_accuracy: 0.5926\n",
            "Epoch 16/150\n",
            "4/4 [==============================] - 0s 10ms/step - loss: 0.6661 - accuracy: 0.5840 - val_loss: 0.6928 - val_accuracy: 0.5926\n",
            "Epoch 17/150\n",
            "4/4 [==============================] - 0s 10ms/step - loss: 0.6647 - accuracy: 0.5840 - val_loss: 0.6915 - val_accuracy: 0.5926\n",
            "Epoch 18/150\n",
            "4/4 [==============================] - 0s 9ms/step - loss: 0.6627 - accuracy: 0.5840 - val_loss: 0.6906 - val_accuracy: 0.5926\n",
            "Epoch 19/150\n",
            "4/4 [==============================] - 0s 10ms/step - loss: 0.6612 - accuracy: 0.5840 - val_loss: 0.6895 - val_accuracy: 0.5926\n",
            "Epoch 20/150\n",
            "4/4 [==============================] - 0s 10ms/step - loss: 0.6598 - accuracy: 0.5840 - val_loss: 0.6889 - val_accuracy: 0.5926\n",
            "Epoch 21/150\n",
            "4/4 [==============================] - 0s 9ms/step - loss: 0.6576 - accuracy: 0.5840 - val_loss: 0.6876 - val_accuracy: 0.5926\n",
            "Epoch 22/150\n",
            "4/4 [==============================] - 0s 9ms/step - loss: 0.6560 - accuracy: 0.5840 - val_loss: 0.6862 - val_accuracy: 0.5926\n",
            "Epoch 23/150\n",
            "4/4 [==============================] - 0s 10ms/step - loss: 0.6545 - accuracy: 0.5840 - val_loss: 0.6851 - val_accuracy: 0.5926\n",
            "Epoch 24/150\n",
            "4/4 [==============================] - 0s 10ms/step - loss: 0.6529 - accuracy: 0.5840 - val_loss: 0.6836 - val_accuracy: 0.5926\n",
            "Epoch 25/150\n",
            "4/4 [==============================] - 0s 8ms/step - loss: 0.6512 - accuracy: 0.5840 - val_loss: 0.6818 - val_accuracy: 0.5926\n",
            "Epoch 26/150\n",
            "4/4 [==============================] - 0s 9ms/step - loss: 0.6494 - accuracy: 0.5840 - val_loss: 0.6806 - val_accuracy: 0.5926\n",
            "Epoch 27/150\n",
            "4/4 [==============================] - 0s 9ms/step - loss: 0.6477 - accuracy: 0.5920 - val_loss: 0.6794 - val_accuracy: 0.5926\n",
            "Epoch 28/150\n",
            "4/4 [==============================] - 0s 12ms/step - loss: 0.6459 - accuracy: 0.6000 - val_loss: 0.6777 - val_accuracy: 0.5926\n",
            "Epoch 29/150\n",
            "4/4 [==============================] - 0s 10ms/step - loss: 0.6441 - accuracy: 0.6000 - val_loss: 0.6762 - val_accuracy: 0.5926\n",
            "Epoch 30/150\n",
            "4/4 [==============================] - 0s 9ms/step - loss: 0.6426 - accuracy: 0.6160 - val_loss: 0.6749 - val_accuracy: 0.5926\n",
            "Epoch 31/150\n",
            "4/4 [==============================] - 0s 10ms/step - loss: 0.6404 - accuracy: 0.6160 - val_loss: 0.6734 - val_accuracy: 0.5926\n",
            "Epoch 32/150\n",
            "4/4 [==============================] - 0s 8ms/step - loss: 0.6389 - accuracy: 0.6320 - val_loss: 0.6714 - val_accuracy: 0.5926\n",
            "Epoch 33/150\n",
            "4/4 [==============================] - 0s 9ms/step - loss: 0.6369 - accuracy: 0.6400 - val_loss: 0.6697 - val_accuracy: 0.5926\n",
            "Epoch 34/150\n",
            "4/4 [==============================] - 0s 9ms/step - loss: 0.6348 - accuracy: 0.6400 - val_loss: 0.6680 - val_accuracy: 0.5926\n",
            "Epoch 35/150\n",
            "4/4 [==============================] - 0s 9ms/step - loss: 0.6331 - accuracy: 0.6480 - val_loss: 0.6663 - val_accuracy: 0.5926\n",
            "Epoch 36/150\n",
            "4/4 [==============================] - 0s 9ms/step - loss: 0.6312 - accuracy: 0.6480 - val_loss: 0.6646 - val_accuracy: 0.5926\n",
            "Epoch 37/150\n",
            "4/4 [==============================] - 0s 10ms/step - loss: 0.6291 - accuracy: 0.6640 - val_loss: 0.6626 - val_accuracy: 0.5926\n",
            "Epoch 38/150\n",
            "4/4 [==============================] - 0s 9ms/step - loss: 0.6269 - accuracy: 0.6720 - val_loss: 0.6612 - val_accuracy: 0.5926\n",
            "Epoch 39/150\n",
            "4/4 [==============================] - 0s 9ms/step - loss: 0.6249 - accuracy: 0.6720 - val_loss: 0.6606 - val_accuracy: 0.5926\n",
            "Epoch 40/150\n",
            "4/4 [==============================] - 0s 9ms/step - loss: 0.6229 - accuracy: 0.6720 - val_loss: 0.6593 - val_accuracy: 0.5926\n",
            "Epoch 41/150\n",
            "4/4 [==============================] - 0s 11ms/step - loss: 0.6204 - accuracy: 0.6720 - val_loss: 0.6581 - val_accuracy: 0.6296\n",
            "Epoch 42/150\n",
            "4/4 [==============================] - 0s 10ms/step - loss: 0.6180 - accuracy: 0.6880 - val_loss: 0.6563 - val_accuracy: 0.6296\n",
            "Epoch 43/150\n",
            "4/4 [==============================] - 0s 10ms/step - loss: 0.6158 - accuracy: 0.7040 - val_loss: 0.6543 - val_accuracy: 0.6296\n",
            "Epoch 44/150\n",
            "4/4 [==============================] - 0s 9ms/step - loss: 0.6137 - accuracy: 0.7040 - val_loss: 0.6528 - val_accuracy: 0.6296\n",
            "Epoch 45/150\n",
            "4/4 [==============================] - 0s 9ms/step - loss: 0.6106 - accuracy: 0.7120 - val_loss: 0.6507 - val_accuracy: 0.6296\n",
            "Epoch 46/150\n",
            "4/4 [==============================] - 0s 9ms/step - loss: 0.6083 - accuracy: 0.7200 - val_loss: 0.6488 - val_accuracy: 0.6296\n",
            "Epoch 47/150\n",
            "4/4 [==============================] - 0s 9ms/step - loss: 0.6057 - accuracy: 0.7200 - val_loss: 0.6479 - val_accuracy: 0.6296\n",
            "Epoch 48/150\n",
            "4/4 [==============================] - 0s 12ms/step - loss: 0.6029 - accuracy: 0.7200 - val_loss: 0.6461 - val_accuracy: 0.6296\n",
            "Epoch 49/150\n",
            "4/4 [==============================] - 0s 10ms/step - loss: 0.6001 - accuracy: 0.7120 - val_loss: 0.6440 - val_accuracy: 0.6296\n",
            "Epoch 50/150\n",
            "4/4 [==============================] - 0s 9ms/step - loss: 0.5974 - accuracy: 0.7120 - val_loss: 0.6416 - val_accuracy: 0.7037\n",
            "Epoch 51/150\n",
            "4/4 [==============================] - 0s 9ms/step - loss: 0.5953 - accuracy: 0.7040 - val_loss: 0.6400 - val_accuracy: 0.7037\n",
            "Epoch 52/150\n",
            "4/4 [==============================] - 0s 9ms/step - loss: 0.5918 - accuracy: 0.7040 - val_loss: 0.6382 - val_accuracy: 0.7037\n",
            "Epoch 53/150\n",
            "4/4 [==============================] - 0s 8ms/step - loss: 0.5886 - accuracy: 0.7040 - val_loss: 0.6375 - val_accuracy: 0.6667\n",
            "Epoch 54/150\n",
            "4/4 [==============================] - 0s 11ms/step - loss: 0.5862 - accuracy: 0.7040 - val_loss: 0.6357 - val_accuracy: 0.7037\n",
            "Epoch 55/150\n",
            "4/4 [==============================] - 0s 11ms/step - loss: 0.5834 - accuracy: 0.7200 - val_loss: 0.6334 - val_accuracy: 0.7037\n",
            "Epoch 56/150\n",
            "4/4 [==============================] - 0s 10ms/step - loss: 0.5805 - accuracy: 0.7200 - val_loss: 0.6314 - val_accuracy: 0.7037\n",
            "Epoch 57/150\n",
            "4/4 [==============================] - 0s 9ms/step - loss: 0.5781 - accuracy: 0.7200 - val_loss: 0.6315 - val_accuracy: 0.7037\n",
            "Epoch 58/150\n",
            "4/4 [==============================] - 0s 9ms/step - loss: 0.5744 - accuracy: 0.7200 - val_loss: 0.6295 - val_accuracy: 0.7037\n",
            "Epoch 59/150\n",
            "4/4 [==============================] - 0s 9ms/step - loss: 0.5716 - accuracy: 0.7280 - val_loss: 0.6268 - val_accuracy: 0.7407\n",
            "Epoch 60/150\n",
            "4/4 [==============================] - 0s 10ms/step - loss: 0.5679 - accuracy: 0.7360 - val_loss: 0.6252 - val_accuracy: 0.7407\n",
            "Epoch 61/150\n",
            "4/4 [==============================] - 0s 11ms/step - loss: 0.5665 - accuracy: 0.7440 - val_loss: 0.6254 - val_accuracy: 0.7037\n",
            "Epoch 62/150\n",
            "4/4 [==============================] - 0s 10ms/step - loss: 0.5630 - accuracy: 0.7200 - val_loss: 0.6222 - val_accuracy: 0.7037\n",
            "Epoch 63/150\n",
            "4/4 [==============================] - 0s 10ms/step - loss: 0.5590 - accuracy: 0.7360 - val_loss: 0.6218 - val_accuracy: 0.7407\n",
            "Epoch 64/150\n",
            "4/4 [==============================] - 0s 17ms/step - loss: 0.5554 - accuracy: 0.7440 - val_loss: 0.6204 - val_accuracy: 0.7037\n",
            "Epoch 65/150\n",
            "4/4 [==============================] - 0s 10ms/step - loss: 0.5522 - accuracy: 0.7360 - val_loss: 0.6194 - val_accuracy: 0.7407\n",
            "Epoch 66/150\n",
            "4/4 [==============================] - 0s 11ms/step - loss: 0.5483 - accuracy: 0.7360 - val_loss: 0.6180 - val_accuracy: 0.7037\n",
            "Epoch 67/150\n",
            "4/4 [==============================] - 0s 9ms/step - loss: 0.5456 - accuracy: 0.7440 - val_loss: 0.6161 - val_accuracy: 0.7037\n",
            "Epoch 68/150\n",
            "4/4 [==============================] - 0s 10ms/step - loss: 0.5419 - accuracy: 0.7440 - val_loss: 0.6167 - val_accuracy: 0.7037\n",
            "Epoch 69/150\n",
            "4/4 [==============================] - 0s 10ms/step - loss: 0.5389 - accuracy: 0.7280 - val_loss: 0.6151 - val_accuracy: 0.7037\n",
            "Epoch 70/150\n",
            "4/4 [==============================] - 0s 12ms/step - loss: 0.5347 - accuracy: 0.7440 - val_loss: 0.6140 - val_accuracy: 0.7407\n",
            "Epoch 71/150\n",
            "4/4 [==============================] - 0s 10ms/step - loss: 0.5315 - accuracy: 0.7440 - val_loss: 0.6133 - val_accuracy: 0.7407\n",
            "Epoch 72/150\n",
            "4/4 [==============================] - 0s 10ms/step - loss: 0.5298 - accuracy: 0.7600 - val_loss: 0.6097 - val_accuracy: 0.7407\n",
            "Epoch 73/150\n",
            "4/4 [==============================] - 0s 9ms/step - loss: 0.5248 - accuracy: 0.7680 - val_loss: 0.6111 - val_accuracy: 0.7407\n",
            "Epoch 74/150\n",
            "4/4 [==============================] - 0s 9ms/step - loss: 0.5212 - accuracy: 0.7680 - val_loss: 0.6104 - val_accuracy: 0.7407\n",
            "Epoch 75/150\n",
            "4/4 [==============================] - 0s 10ms/step - loss: 0.5175 - accuracy: 0.7680 - val_loss: 0.6092 - val_accuracy: 0.7407\n",
            "Epoch 76/150\n",
            "4/4 [==============================] - 0s 9ms/step - loss: 0.5129 - accuracy: 0.7680 - val_loss: 0.6096 - val_accuracy: 0.7407\n",
            "Epoch 77/150\n",
            "4/4 [==============================] - 0s 9ms/step - loss: 0.5099 - accuracy: 0.7760 - val_loss: 0.6093 - val_accuracy: 0.7037\n",
            "Epoch 78/150\n",
            "4/4 [==============================] - 0s 13ms/step - loss: 0.5055 - accuracy: 0.7760 - val_loss: 0.6085 - val_accuracy: 0.7037\n",
            "Epoch 79/150\n",
            "4/4 [==============================] - 0s 10ms/step - loss: 0.5016 - accuracy: 0.7760 - val_loss: 0.6067 - val_accuracy: 0.7037\n",
            "Epoch 80/150\n",
            "4/4 [==============================] - 0s 10ms/step - loss: 0.4982 - accuracy: 0.7840 - val_loss: 0.6041 - val_accuracy: 0.7037\n",
            "Epoch 81/150\n",
            "4/4 [==============================] - 0s 9ms/step - loss: 0.4936 - accuracy: 0.7840 - val_loss: 0.6049 - val_accuracy: 0.7037\n",
            "Epoch 82/150\n",
            "4/4 [==============================] - 0s 10ms/step - loss: 0.4904 - accuracy: 0.7760 - val_loss: 0.6052 - val_accuracy: 0.7037\n",
            "Epoch 83/150\n",
            "4/4 [==============================] - 0s 9ms/step - loss: 0.4853 - accuracy: 0.7920 - val_loss: 0.6052 - val_accuracy: 0.7037\n",
            "Epoch 84/150\n",
            "4/4 [==============================] - 0s 10ms/step - loss: 0.4830 - accuracy: 0.8000 - val_loss: 0.6053 - val_accuracy: 0.7037\n",
            "Epoch 85/150\n",
            "4/4 [==============================] - 0s 9ms/step - loss: 0.4781 - accuracy: 0.8160 - val_loss: 0.6079 - val_accuracy: 0.7037\n",
            "Epoch 86/150\n",
            "4/4 [==============================] - 0s 9ms/step - loss: 0.4742 - accuracy: 0.8080 - val_loss: 0.6103 - val_accuracy: 0.7037\n",
            "Epoch 87/150\n",
            "4/4 [==============================] - 0s 10ms/step - loss: 0.4703 - accuracy: 0.8160 - val_loss: 0.6085 - val_accuracy: 0.7037\n",
            "Epoch 88/150\n",
            "4/4 [==============================] - 0s 11ms/step - loss: 0.4660 - accuracy: 0.8320 - val_loss: 0.6097 - val_accuracy: 0.7037\n",
            "Epoch 89/150\n",
            "4/4 [==============================] - 0s 10ms/step - loss: 0.4616 - accuracy: 0.8400 - val_loss: 0.6109 - val_accuracy: 0.7037\n",
            "Epoch 90/150\n",
            "4/4 [==============================] - 0s 11ms/step - loss: 0.4572 - accuracy: 0.8240 - val_loss: 0.6148 - val_accuracy: 0.7037\n",
            "Epoch 91/150\n",
            "4/4 [==============================] - 0s 12ms/step - loss: 0.4533 - accuracy: 0.8160 - val_loss: 0.6167 - val_accuracy: 0.7037\n",
            "Epoch 92/150\n",
            "4/4 [==============================] - 0s 9ms/step - loss: 0.4486 - accuracy: 0.8240 - val_loss: 0.6199 - val_accuracy: 0.7037\n",
            "Epoch 93/150\n",
            "4/4 [==============================] - 0s 10ms/step - loss: 0.4446 - accuracy: 0.8320 - val_loss: 0.6195 - val_accuracy: 0.7037\n",
            "Epoch 94/150\n",
            "4/4 [==============================] - 0s 9ms/step - loss: 0.4400 - accuracy: 0.8480 - val_loss: 0.6221 - val_accuracy: 0.7037\n",
            "Epoch 95/150\n",
            "4/4 [==============================] - 0s 9ms/step - loss: 0.4350 - accuracy: 0.8480 - val_loss: 0.6255 - val_accuracy: 0.7037\n",
            "Epoch 96/150\n",
            "4/4 [==============================] - 0s 9ms/step - loss: 0.4309 - accuracy: 0.8480 - val_loss: 0.6290 - val_accuracy: 0.7037\n",
            "Epoch 97/150\n",
            "4/4 [==============================] - 0s 9ms/step - loss: 0.4273 - accuracy: 0.8480 - val_loss: 0.6322 - val_accuracy: 0.6667\n",
            "Epoch 98/150\n",
            "4/4 [==============================] - 0s 10ms/step - loss: 0.4234 - accuracy: 0.8560 - val_loss: 0.6331 - val_accuracy: 0.6667\n",
            "Epoch 99/150\n",
            "4/4 [==============================] - 0s 9ms/step - loss: 0.4187 - accuracy: 0.8560 - val_loss: 0.6374 - val_accuracy: 0.7037\n",
            "Epoch 100/150\n",
            "4/4 [==============================] - 0s 10ms/step - loss: 0.4159 - accuracy: 0.8560 - val_loss: 0.6331 - val_accuracy: 0.7037\n",
            "Epoch 101/150\n",
            "4/4 [==============================] - 0s 9ms/step - loss: 0.4128 - accuracy: 0.8720 - val_loss: 0.6352 - val_accuracy: 0.7037\n",
            "Epoch 102/150\n",
            "4/4 [==============================] - 0s 10ms/step - loss: 0.4055 - accuracy: 0.8640 - val_loss: 0.6480 - val_accuracy: 0.7037\n",
            "Epoch 103/150\n",
            "4/4 [==============================] - 0s 11ms/step - loss: 0.4066 - accuracy: 0.8400 - val_loss: 0.6623 - val_accuracy: 0.7037\n",
            "Epoch 104/150\n",
            "4/4 [==============================] - 0s 10ms/step - loss: 0.3993 - accuracy: 0.8240 - val_loss: 0.6535 - val_accuracy: 0.7037\n",
            "Epoch 105/150\n",
            "4/4 [==============================] - 0s 10ms/step - loss: 0.3960 - accuracy: 0.8640 - val_loss: 0.6446 - val_accuracy: 0.7037\n",
            "Epoch 106/150\n",
            "4/4 [==============================] - 0s 10ms/step - loss: 0.3922 - accuracy: 0.8800 - val_loss: 0.6546 - val_accuracy: 0.7037\n",
            "Epoch 107/150\n",
            "4/4 [==============================] - 0s 9ms/step - loss: 0.3865 - accuracy: 0.8800 - val_loss: 0.6663 - val_accuracy: 0.7037\n",
            "Epoch 108/150\n",
            "4/4 [==============================] - 0s 12ms/step - loss: 0.3831 - accuracy: 0.8720 - val_loss: 0.6707 - val_accuracy: 0.7037\n",
            "Epoch 109/150\n",
            "4/4 [==============================] - 0s 10ms/step - loss: 0.3799 - accuracy: 0.8800 - val_loss: 0.6717 - val_accuracy: 0.7037\n",
            "Epoch 110/150\n",
            "4/4 [==============================] - 0s 11ms/step - loss: 0.3744 - accuracy: 0.8720 - val_loss: 0.6782 - val_accuracy: 0.7037\n",
            "Epoch 111/150\n",
            "4/4 [==============================] - 0s 11ms/step - loss: 0.3711 - accuracy: 0.8640 - val_loss: 0.6844 - val_accuracy: 0.7037\n",
            "Epoch 112/150\n",
            "4/4 [==============================] - 0s 10ms/step - loss: 0.3713 - accuracy: 0.8640 - val_loss: 0.6806 - val_accuracy: 0.7037\n",
            "Epoch 113/150\n",
            "4/4 [==============================] - 0s 11ms/step - loss: 0.3636 - accuracy: 0.8800 - val_loss: 0.6916 - val_accuracy: 0.7037\n",
            "Epoch 114/150\n",
            "4/4 [==============================] - 0s 10ms/step - loss: 0.3599 - accuracy: 0.8800 - val_loss: 0.7022 - val_accuracy: 0.7037\n",
            "Epoch 115/150\n",
            "4/4 [==============================] - 0s 11ms/step - loss: 0.3564 - accuracy: 0.8800 - val_loss: 0.7036 - val_accuracy: 0.7037\n",
            "Epoch 116/150\n",
            "4/4 [==============================] - 0s 9ms/step - loss: 0.3534 - accuracy: 0.8880 - val_loss: 0.6990 - val_accuracy: 0.7037\n",
            "Epoch 117/150\n",
            "4/4 [==============================] - 0s 9ms/step - loss: 0.3493 - accuracy: 0.8880 - val_loss: 0.7099 - val_accuracy: 0.7037\n",
            "Epoch 118/150\n",
            "4/4 [==============================] - 0s 10ms/step - loss: 0.3446 - accuracy: 0.8880 - val_loss: 0.7151 - val_accuracy: 0.7037\n",
            "Epoch 119/150\n",
            "4/4 [==============================] - 0s 10ms/step - loss: 0.3416 - accuracy: 0.8880 - val_loss: 0.7198 - val_accuracy: 0.7037\n",
            "Epoch 120/150\n",
            "4/4 [==============================] - 0s 12ms/step - loss: 0.3373 - accuracy: 0.8880 - val_loss: 0.7266 - val_accuracy: 0.7037\n",
            "Epoch 121/150\n",
            "4/4 [==============================] - 0s 9ms/step - loss: 0.3338 - accuracy: 0.8880 - val_loss: 0.7355 - val_accuracy: 0.7037\n",
            "Epoch 122/150\n",
            "4/4 [==============================] - 0s 10ms/step - loss: 0.3292 - accuracy: 0.8960 - val_loss: 0.7415 - val_accuracy: 0.7037\n",
            "Epoch 123/150\n",
            "4/4 [==============================] - 0s 9ms/step - loss: 0.3266 - accuracy: 0.8960 - val_loss: 0.7453 - val_accuracy: 0.7037\n",
            "Epoch 124/150\n",
            "4/4 [==============================] - 0s 10ms/step - loss: 0.3219 - accuracy: 0.8880 - val_loss: 0.7643 - val_accuracy: 0.7037\n",
            "Epoch 125/150\n",
            "4/4 [==============================] - 0s 10ms/step - loss: 0.3189 - accuracy: 0.8800 - val_loss: 0.7661 - val_accuracy: 0.7037\n",
            "Epoch 126/150\n",
            "4/4 [==============================] - 0s 10ms/step - loss: 0.3148 - accuracy: 0.8960 - val_loss: 0.7620 - val_accuracy: 0.7037\n",
            "Epoch 127/150\n",
            "4/4 [==============================] - 0s 11ms/step - loss: 0.3101 - accuracy: 0.9120 - val_loss: 0.7654 - val_accuracy: 0.7037\n",
            "Epoch 128/150\n",
            "4/4 [==============================] - 0s 10ms/step - loss: 0.3076 - accuracy: 0.9040 - val_loss: 0.7745 - val_accuracy: 0.7037\n",
            "Epoch 129/150\n",
            "4/4 [==============================] - 0s 9ms/step - loss: 0.3029 - accuracy: 0.9120 - val_loss: 0.7750 - val_accuracy: 0.7037\n",
            "Epoch 130/150\n",
            "4/4 [==============================] - 0s 9ms/step - loss: 0.2995 - accuracy: 0.9120 - val_loss: 0.7827 - val_accuracy: 0.6667\n",
            "Epoch 131/150\n",
            "4/4 [==============================] - 0s 10ms/step - loss: 0.2958 - accuracy: 0.9120 - val_loss: 0.7888 - val_accuracy: 0.6667\n",
            "Epoch 132/150\n",
            "4/4 [==============================] - 0s 10ms/step - loss: 0.2923 - accuracy: 0.9200 - val_loss: 0.7903 - val_accuracy: 0.6667\n",
            "Epoch 133/150\n",
            "4/4 [==============================] - 0s 10ms/step - loss: 0.2894 - accuracy: 0.9200 - val_loss: 0.8039 - val_accuracy: 0.6667\n",
            "Epoch 134/150\n",
            "4/4 [==============================] - 0s 10ms/step - loss: 0.2863 - accuracy: 0.9200 - val_loss: 0.7985 - val_accuracy: 0.6667\n",
            "Epoch 135/150\n",
            "4/4 [==============================] - 0s 10ms/step - loss: 0.2835 - accuracy: 0.9200 - val_loss: 0.8177 - val_accuracy: 0.6667\n",
            "Epoch 136/150\n",
            "4/4 [==============================] - 0s 9ms/step - loss: 0.2786 - accuracy: 0.9200 - val_loss: 0.8186 - val_accuracy: 0.6667\n",
            "Epoch 137/150\n",
            "4/4 [==============================] - 0s 10ms/step - loss: 0.2748 - accuracy: 0.9200 - val_loss: 0.8188 - val_accuracy: 0.6667\n",
            "Epoch 138/150\n",
            "4/4 [==============================] - 0s 10ms/step - loss: 0.2725 - accuracy: 0.9200 - val_loss: 0.8214 - val_accuracy: 0.6667\n",
            "Epoch 139/150\n",
            "4/4 [==============================] - 0s 10ms/step - loss: 0.2684 - accuracy: 0.9280 - val_loss: 0.8398 - val_accuracy: 0.6667\n",
            "Epoch 140/150\n",
            "4/4 [==============================] - 0s 9ms/step - loss: 0.2655 - accuracy: 0.9200 - val_loss: 0.8533 - val_accuracy: 0.6667\n",
            "Epoch 141/150\n",
            "4/4 [==============================] - 0s 9ms/step - loss: 0.2616 - accuracy: 0.9200 - val_loss: 0.8460 - val_accuracy: 0.6667\n",
            "Epoch 142/150\n",
            "4/4 [==============================] - 0s 9ms/step - loss: 0.2590 - accuracy: 0.9280 - val_loss: 0.8490 - val_accuracy: 0.6296\n",
            "Epoch 143/150\n",
            "4/4 [==============================] - 0s 12ms/step - loss: 0.2557 - accuracy: 0.9280 - val_loss: 0.8664 - val_accuracy: 0.6667\n",
            "Epoch 144/150\n",
            "4/4 [==============================] - 0s 9ms/step - loss: 0.2531 - accuracy: 0.9280 - val_loss: 0.8681 - val_accuracy: 0.6667\n",
            "Epoch 145/150\n",
            "4/4 [==============================] - 0s 9ms/step - loss: 0.2490 - accuracy: 0.9280 - val_loss: 0.8756 - val_accuracy: 0.6667\n",
            "Epoch 146/150\n",
            "4/4 [==============================] - 0s 9ms/step - loss: 0.2467 - accuracy: 0.9280 - val_loss: 0.8755 - val_accuracy: 0.5926\n",
            "Epoch 147/150\n",
            "4/4 [==============================] - 0s 9ms/step - loss: 0.2435 - accuracy: 0.9280 - val_loss: 0.8879 - val_accuracy: 0.6296\n",
            "Epoch 148/150\n",
            "4/4 [==============================] - 0s 9ms/step - loss: 0.2403 - accuracy: 0.9360 - val_loss: 0.8948 - val_accuracy: 0.6296\n",
            "Epoch 149/150\n",
            "4/4 [==============================] - 0s 12ms/step - loss: 0.2396 - accuracy: 0.9440 - val_loss: 0.9062 - val_accuracy: 0.6296\n",
            "Epoch 150/150\n",
            "4/4 [==============================] - 0s 11ms/step - loss: 0.2326 - accuracy: 0.9360 - val_loss: 0.8967 - val_accuracy: 0.6296\n"
          ]
        }
      ]
    },
    {
      "cell_type": "code",
      "source": [
        "model.evaluate(X_test, y_test)"
      ],
      "metadata": {
        "id": "HDtXkIhQq43p",
        "outputId": "8e4261ad-c6c2-4c28-8cba-4b763fdde34d",
        "colab": {
          "base_uri": "https://localhost:8080/"
        }
      },
      "execution_count": 98,
      "outputs": [
        {
          "output_type": "stream",
          "name": "stdout",
          "text": [
            "1/1 [==============================] - 0s 25ms/step - loss: 53.0798 - accuracy: 0.4783\n"
          ]
        },
        {
          "output_type": "execute_result",
          "data": {
            "text/plain": [
              "[53.07978057861328, 0.47826087474823]"
            ]
          },
          "metadata": {},
          "execution_count": 98
        }
      ]
    },
    {
      "cell_type": "code",
      "source": [
        "tf.random.set_seed(42)\n",
        "\n",
        "model = tf.keras.Sequential([\n",
        "    tf.keras.layers.Dense(19, activation='relu'),\n",
        "    tf.keras.layers.Dense(21, activation='relu'),\n",
        "    tf.keras.layers.Dense(21, activation='relu'),\n",
        "\n",
        "    # tf.keras.layers.Dense(20, activation='relu'),\n",
        "    # tf.keras.layers.Dense(10, activation='relu'),\n",
        "\n",
        "    # tf.keras.layers.Dense(256, activation='relu'),\n",
        "    tf.keras.layers.Dense(1, activation='sigmoid')\n",
        "])\n",
        "\n",
        "model.compile(\n",
        "    loss=tf.keras.losses.binary_crossentropy,\n",
        "    optimizer=tf.keras.optimizers.Adam(0.001),\n",
        "    metrics=[\"accuracy\"]\n",
        ")\n",
        "\n",
        "\n",
        "history = model.fit(X_train_scaled, \n",
        "                    y_train, \n",
        "                    epochs=150,\n",
        "                    validation_data = (X_valid_scaled, y_valid),\n",
        "                    callbacks=[model_checkpoint])"
      ],
      "metadata": {
        "id": "IwsQafCPeho4",
        "outputId": "38639077-da8a-4846-f362-f806ae7e00f8",
        "colab": {
          "base_uri": "https://localhost:8080/"
        }
      },
      "execution_count": 99,
      "outputs": [
        {
          "output_type": "stream",
          "name": "stdout",
          "text": [
            "Epoch 1/150\n",
            "4/4 [==============================] - 1s 145ms/step - loss: 0.6912 - accuracy: 0.5440 - val_loss: 0.6961 - val_accuracy: 0.5185\n",
            "Epoch 2/150\n",
            "4/4 [==============================] - 0s 9ms/step - loss: 0.6814 - accuracy: 0.5600 - val_loss: 0.6903 - val_accuracy: 0.5926\n",
            "Epoch 3/150\n",
            "4/4 [==============================] - 0s 14ms/step - loss: 0.6741 - accuracy: 0.5760 - val_loss: 0.6854 - val_accuracy: 0.5926\n",
            "Epoch 4/150\n",
            "4/4 [==============================] - 0s 10ms/step - loss: 0.6699 - accuracy: 0.5760 - val_loss: 0.6810 - val_accuracy: 0.5926\n",
            "Epoch 5/150\n",
            "4/4 [==============================] - 0s 10ms/step - loss: 0.6656 - accuracy: 0.5840 - val_loss: 0.6775 - val_accuracy: 0.5926\n",
            "Epoch 6/150\n",
            "4/4 [==============================] - 0s 11ms/step - loss: 0.6621 - accuracy: 0.5840 - val_loss: 0.6741 - val_accuracy: 0.5926\n",
            "Epoch 7/150\n",
            "4/4 [==============================] - 0s 9ms/step - loss: 0.6590 - accuracy: 0.5920 - val_loss: 0.6712 - val_accuracy: 0.5926\n",
            "Epoch 8/150\n",
            "4/4 [==============================] - 0s 9ms/step - loss: 0.6551 - accuracy: 0.5920 - val_loss: 0.6681 - val_accuracy: 0.5926\n",
            "Epoch 9/150\n",
            "4/4 [==============================] - 0s 9ms/step - loss: 0.6521 - accuracy: 0.5920 - val_loss: 0.6649 - val_accuracy: 0.5926\n",
            "Epoch 10/150\n",
            "4/4 [==============================] - 0s 9ms/step - loss: 0.6483 - accuracy: 0.6080 - val_loss: 0.6619 - val_accuracy: 0.5926\n",
            "Epoch 11/150\n",
            "4/4 [==============================] - 0s 10ms/step - loss: 0.6453 - accuracy: 0.6080 - val_loss: 0.6592 - val_accuracy: 0.5926\n",
            "Epoch 12/150\n",
            "4/4 [==============================] - 0s 10ms/step - loss: 0.6420 - accuracy: 0.6240 - val_loss: 0.6560 - val_accuracy: 0.5926\n",
            "Epoch 13/150\n",
            "4/4 [==============================] - 0s 10ms/step - loss: 0.6379 - accuracy: 0.6320 - val_loss: 0.6533 - val_accuracy: 0.5926\n",
            "Epoch 14/150\n",
            "4/4 [==============================] - 0s 9ms/step - loss: 0.6348 - accuracy: 0.6320 - val_loss: 0.6507 - val_accuracy: 0.5926\n",
            "Epoch 15/150\n",
            "4/4 [==============================] - 0s 11ms/step - loss: 0.6313 - accuracy: 0.6560 - val_loss: 0.6481 - val_accuracy: 0.5926\n",
            "Epoch 16/150\n",
            "4/4 [==============================] - 0s 9ms/step - loss: 0.6275 - accuracy: 0.6640 - val_loss: 0.6462 - val_accuracy: 0.6296\n",
            "Epoch 17/150\n",
            "4/4 [==============================] - 0s 9ms/step - loss: 0.6247 - accuracy: 0.6720 - val_loss: 0.6445 - val_accuracy: 0.6296\n",
            "Epoch 18/150\n",
            "4/4 [==============================] - 0s 9ms/step - loss: 0.6203 - accuracy: 0.6960 - val_loss: 0.6430 - val_accuracy: 0.6296\n",
            "Epoch 19/150\n",
            "4/4 [==============================] - 0s 16ms/step - loss: 0.6173 - accuracy: 0.6960 - val_loss: 0.6416 - val_accuracy: 0.6296\n",
            "Epoch 20/150\n",
            "4/4 [==============================] - 0s 9ms/step - loss: 0.6138 - accuracy: 0.7120 - val_loss: 0.6414 - val_accuracy: 0.6296\n",
            "Epoch 21/150\n",
            "4/4 [==============================] - 0s 9ms/step - loss: 0.6094 - accuracy: 0.7120 - val_loss: 0.6391 - val_accuracy: 0.7037\n",
            "Epoch 22/150\n",
            "4/4 [==============================] - 0s 10ms/step - loss: 0.6056 - accuracy: 0.7200 - val_loss: 0.6372 - val_accuracy: 0.7037\n",
            "Epoch 23/150\n",
            "4/4 [==============================] - 0s 10ms/step - loss: 0.6025 - accuracy: 0.7120 - val_loss: 0.6362 - val_accuracy: 0.7037\n",
            "Epoch 24/150\n",
            "4/4 [==============================] - 0s 11ms/step - loss: 0.5989 - accuracy: 0.7200 - val_loss: 0.6342 - val_accuracy: 0.7037\n",
            "Epoch 25/150\n",
            "4/4 [==============================] - 0s 12ms/step - loss: 0.5955 - accuracy: 0.7200 - val_loss: 0.6314 - val_accuracy: 0.7037\n",
            "Epoch 26/150\n",
            "4/4 [==============================] - 0s 9ms/step - loss: 0.5914 - accuracy: 0.7360 - val_loss: 0.6298 - val_accuracy: 0.7037\n",
            "Epoch 27/150\n",
            "4/4 [==============================] - 0s 10ms/step - loss: 0.5882 - accuracy: 0.7520 - val_loss: 0.6294 - val_accuracy: 0.7037\n",
            "Epoch 28/150\n",
            "4/4 [==============================] - 0s 10ms/step - loss: 0.5833 - accuracy: 0.7600 - val_loss: 0.6272 - val_accuracy: 0.7037\n",
            "Epoch 29/150\n",
            "4/4 [==============================] - 0s 9ms/step - loss: 0.5800 - accuracy: 0.7680 - val_loss: 0.6259 - val_accuracy: 0.7037\n",
            "Epoch 30/150\n",
            "4/4 [==============================] - 0s 9ms/step - loss: 0.5767 - accuracy: 0.7600 - val_loss: 0.6261 - val_accuracy: 0.7037\n",
            "Epoch 31/150\n",
            "4/4 [==============================] - 0s 9ms/step - loss: 0.5720 - accuracy: 0.7680 - val_loss: 0.6240 - val_accuracy: 0.7037\n",
            "Epoch 32/150\n",
            "4/4 [==============================] - 0s 10ms/step - loss: 0.5684 - accuracy: 0.7520 - val_loss: 0.6216 - val_accuracy: 0.7037\n",
            "Epoch 33/150\n",
            "4/4 [==============================] - 0s 11ms/step - loss: 0.5649 - accuracy: 0.7520 - val_loss: 0.6209 - val_accuracy: 0.7037\n",
            "Epoch 34/150\n",
            "4/4 [==============================] - 0s 10ms/step - loss: 0.5606 - accuracy: 0.7600 - val_loss: 0.6223 - val_accuracy: 0.7037\n",
            "Epoch 35/150\n",
            "4/4 [==============================] - 0s 11ms/step - loss: 0.5572 - accuracy: 0.7680 - val_loss: 0.6231 - val_accuracy: 0.7037\n",
            "Epoch 36/150\n",
            "4/4 [==============================] - 0s 10ms/step - loss: 0.5529 - accuracy: 0.7680 - val_loss: 0.6203 - val_accuracy: 0.7037\n",
            "Epoch 37/150\n",
            "4/4 [==============================] - 0s 9ms/step - loss: 0.5502 - accuracy: 0.7840 - val_loss: 0.6161 - val_accuracy: 0.7407\n",
            "Epoch 38/150\n",
            "4/4 [==============================] - 0s 9ms/step - loss: 0.5456 - accuracy: 0.7600 - val_loss: 0.6167 - val_accuracy: 0.7037\n",
            "Epoch 39/150\n",
            "4/4 [==============================] - 0s 10ms/step - loss: 0.5423 - accuracy: 0.7600 - val_loss: 0.6226 - val_accuracy: 0.7037\n",
            "Epoch 40/150\n",
            "4/4 [==============================] - 0s 11ms/step - loss: 0.5387 - accuracy: 0.7760 - val_loss: 0.6216 - val_accuracy: 0.7037\n",
            "Epoch 41/150\n",
            "4/4 [==============================] - 0s 10ms/step - loss: 0.5333 - accuracy: 0.7920 - val_loss: 0.6174 - val_accuracy: 0.7037\n",
            "Epoch 42/150\n",
            "4/4 [==============================] - 0s 9ms/step - loss: 0.5293 - accuracy: 0.7840 - val_loss: 0.6153 - val_accuracy: 0.7407\n",
            "Epoch 43/150\n",
            "4/4 [==============================] - 0s 10ms/step - loss: 0.5266 - accuracy: 0.7760 - val_loss: 0.6158 - val_accuracy: 0.7407\n",
            "Epoch 44/150\n",
            "4/4 [==============================] - 0s 9ms/step - loss: 0.5236 - accuracy: 0.7760 - val_loss: 0.6207 - val_accuracy: 0.7037\n",
            "Epoch 45/150\n",
            "4/4 [==============================] - 0s 11ms/step - loss: 0.5180 - accuracy: 0.8000 - val_loss: 0.6193 - val_accuracy: 0.7037\n",
            "Epoch 46/150\n",
            "4/4 [==============================] - 0s 10ms/step - loss: 0.5143 - accuracy: 0.7840 - val_loss: 0.6177 - val_accuracy: 0.7037\n",
            "Epoch 47/150\n",
            "4/4 [==============================] - 0s 17ms/step - loss: 0.5097 - accuracy: 0.7920 - val_loss: 0.6227 - val_accuracy: 0.7037\n",
            "Epoch 48/150\n",
            "4/4 [==============================] - 0s 11ms/step - loss: 0.5058 - accuracy: 0.8000 - val_loss: 0.6255 - val_accuracy: 0.7037\n",
            "Epoch 49/150\n",
            "4/4 [==============================] - 0s 10ms/step - loss: 0.5007 - accuracy: 0.8160 - val_loss: 0.6226 - val_accuracy: 0.7037\n",
            "Epoch 50/150\n",
            "4/4 [==============================] - 0s 9ms/step - loss: 0.4974 - accuracy: 0.7920 - val_loss: 0.6198 - val_accuracy: 0.7037\n",
            "Epoch 51/150\n",
            "4/4 [==============================] - 0s 9ms/step - loss: 0.4942 - accuracy: 0.8000 - val_loss: 0.6269 - val_accuracy: 0.6667\n",
            "Epoch 52/150\n",
            "4/4 [==============================] - 0s 9ms/step - loss: 0.4878 - accuracy: 0.8160 - val_loss: 0.6282 - val_accuracy: 0.6667\n",
            "Epoch 53/150\n",
            "4/4 [==============================] - 0s 10ms/step - loss: 0.4830 - accuracy: 0.8160 - val_loss: 0.6354 - val_accuracy: 0.6667\n",
            "Epoch 54/150\n",
            "4/4 [==============================] - 0s 10ms/step - loss: 0.4793 - accuracy: 0.8160 - val_loss: 0.6349 - val_accuracy: 0.6667\n",
            "Epoch 55/150\n",
            "4/4 [==============================] - 0s 11ms/step - loss: 0.4753 - accuracy: 0.8160 - val_loss: 0.6295 - val_accuracy: 0.6667\n",
            "Epoch 56/150\n",
            "4/4 [==============================] - 0s 11ms/step - loss: 0.4705 - accuracy: 0.8080 - val_loss: 0.6331 - val_accuracy: 0.6667\n",
            "Epoch 57/150\n",
            "4/4 [==============================] - 0s 9ms/step - loss: 0.4674 - accuracy: 0.8080 - val_loss: 0.6425 - val_accuracy: 0.6667\n",
            "Epoch 58/150\n",
            "4/4 [==============================] - 0s 11ms/step - loss: 0.4622 - accuracy: 0.8240 - val_loss: 0.6397 - val_accuracy: 0.6667\n",
            "Epoch 59/150\n",
            "4/4 [==============================] - 0s 9ms/step - loss: 0.4579 - accuracy: 0.8240 - val_loss: 0.6372 - val_accuracy: 0.6667\n",
            "Epoch 60/150\n",
            "4/4 [==============================] - 0s 9ms/step - loss: 0.4524 - accuracy: 0.8320 - val_loss: 0.6432 - val_accuracy: 0.6667\n",
            "Epoch 61/150\n",
            "4/4 [==============================] - 0s 9ms/step - loss: 0.4519 - accuracy: 0.8240 - val_loss: 0.6551 - val_accuracy: 0.6667\n",
            "Epoch 62/150\n",
            "4/4 [==============================] - 0s 10ms/step - loss: 0.4476 - accuracy: 0.8240 - val_loss: 0.6478 - val_accuracy: 0.6667\n",
            "Epoch 63/150\n",
            "4/4 [==============================] - 0s 9ms/step - loss: 0.4408 - accuracy: 0.8240 - val_loss: 0.6537 - val_accuracy: 0.6667\n",
            "Epoch 64/150\n",
            "4/4 [==============================] - 0s 10ms/step - loss: 0.4357 - accuracy: 0.8480 - val_loss: 0.6582 - val_accuracy: 0.6667\n",
            "Epoch 65/150\n",
            "4/4 [==============================] - 0s 9ms/step - loss: 0.4321 - accuracy: 0.8480 - val_loss: 0.6638 - val_accuracy: 0.6667\n",
            "Epoch 66/150\n",
            "4/4 [==============================] - 0s 9ms/step - loss: 0.4272 - accuracy: 0.8480 - val_loss: 0.6634 - val_accuracy: 0.6667\n",
            "Epoch 67/150\n",
            "4/4 [==============================] - 0s 9ms/step - loss: 0.4240 - accuracy: 0.8480 - val_loss: 0.6610 - val_accuracy: 0.6667\n",
            "Epoch 68/150\n",
            "4/4 [==============================] - 0s 10ms/step - loss: 0.4205 - accuracy: 0.8480 - val_loss: 0.6743 - val_accuracy: 0.6667\n",
            "Epoch 69/150\n",
            "4/4 [==============================] - 0s 9ms/step - loss: 0.4159 - accuracy: 0.8480 - val_loss: 0.6772 - val_accuracy: 0.6667\n",
            "Epoch 70/150\n",
            "4/4 [==============================] - 0s 10ms/step - loss: 0.4103 - accuracy: 0.8480 - val_loss: 0.6756 - val_accuracy: 0.6667\n",
            "Epoch 71/150\n",
            "4/4 [==============================] - 0s 9ms/step - loss: 0.4074 - accuracy: 0.8480 - val_loss: 0.6843 - val_accuracy: 0.6667\n",
            "Epoch 72/150\n",
            "4/4 [==============================] - 0s 10ms/step - loss: 0.4053 - accuracy: 0.8320 - val_loss: 0.6795 - val_accuracy: 0.6667\n",
            "Epoch 73/150\n",
            "4/4 [==============================] - 0s 9ms/step - loss: 0.4011 - accuracy: 0.8560 - val_loss: 0.7045 - val_accuracy: 0.6667\n",
            "Epoch 74/150\n",
            "4/4 [==============================] - 0s 12ms/step - loss: 0.3952 - accuracy: 0.8480 - val_loss: 0.7006 - val_accuracy: 0.6667\n",
            "Epoch 75/150\n",
            "4/4 [==============================] - 0s 10ms/step - loss: 0.3911 - accuracy: 0.8400 - val_loss: 0.6967 - val_accuracy: 0.6667\n",
            "Epoch 76/150\n",
            "4/4 [==============================] - 0s 10ms/step - loss: 0.3851 - accuracy: 0.8560 - val_loss: 0.7129 - val_accuracy: 0.6667\n",
            "Epoch 77/150\n",
            "4/4 [==============================] - 0s 10ms/step - loss: 0.3811 - accuracy: 0.8560 - val_loss: 0.7200 - val_accuracy: 0.6667\n",
            "Epoch 78/150\n",
            "4/4 [==============================] - 0s 9ms/step - loss: 0.3759 - accuracy: 0.8640 - val_loss: 0.7236 - val_accuracy: 0.6667\n",
            "Epoch 79/150\n",
            "4/4 [==============================] - 0s 10ms/step - loss: 0.3719 - accuracy: 0.8560 - val_loss: 0.7211 - val_accuracy: 0.6667\n",
            "Epoch 80/150\n",
            "4/4 [==============================] - 0s 9ms/step - loss: 0.3695 - accuracy: 0.8640 - val_loss: 0.7244 - val_accuracy: 0.6667\n",
            "Epoch 81/150\n",
            "4/4 [==============================] - 0s 10ms/step - loss: 0.3640 - accuracy: 0.8640 - val_loss: 0.7500 - val_accuracy: 0.6667\n",
            "Epoch 82/150\n",
            "4/4 [==============================] - 0s 12ms/step - loss: 0.3607 - accuracy: 0.8640 - val_loss: 0.7512 - val_accuracy: 0.6667\n",
            "Epoch 83/150\n",
            "4/4 [==============================] - 0s 9ms/step - loss: 0.3548 - accuracy: 0.8560 - val_loss: 0.7428 - val_accuracy: 0.6667\n",
            "Epoch 84/150\n",
            "4/4 [==============================] - 0s 10ms/step - loss: 0.3525 - accuracy: 0.8720 - val_loss: 0.7538 - val_accuracy: 0.6667\n",
            "Epoch 85/150\n",
            "4/4 [==============================] - 0s 10ms/step - loss: 0.3460 - accuracy: 0.8640 - val_loss: 0.7742 - val_accuracy: 0.6667\n",
            "Epoch 86/150\n",
            "4/4 [==============================] - 0s 9ms/step - loss: 0.3419 - accuracy: 0.8640 - val_loss: 0.7764 - val_accuracy: 0.6667\n",
            "Epoch 87/150\n",
            "4/4 [==============================] - 0s 10ms/step - loss: 0.3372 - accuracy: 0.8720 - val_loss: 0.7673 - val_accuracy: 0.6667\n",
            "Epoch 88/150\n",
            "4/4 [==============================] - 0s 10ms/step - loss: 0.3337 - accuracy: 0.8800 - val_loss: 0.7801 - val_accuracy: 0.6667\n",
            "Epoch 89/150\n",
            "4/4 [==============================] - 0s 11ms/step - loss: 0.3293 - accuracy: 0.8800 - val_loss: 0.7946 - val_accuracy: 0.6667\n",
            "Epoch 90/150\n",
            "4/4 [==============================] - 0s 10ms/step - loss: 0.3255 - accuracy: 0.8720 - val_loss: 0.8138 - val_accuracy: 0.6667\n",
            "Epoch 91/150\n",
            "4/4 [==============================] - 0s 9ms/step - loss: 0.3216 - accuracy: 0.8800 - val_loss: 0.8087 - val_accuracy: 0.6667\n",
            "Epoch 92/150\n",
            "4/4 [==============================] - 0s 9ms/step - loss: 0.3170 - accuracy: 0.8800 - val_loss: 0.8147 - val_accuracy: 0.6667\n",
            "Epoch 93/150\n",
            "4/4 [==============================] - 0s 10ms/step - loss: 0.3130 - accuracy: 0.8800 - val_loss: 0.8175 - val_accuracy: 0.6667\n",
            "Epoch 94/150\n",
            "4/4 [==============================] - 0s 10ms/step - loss: 0.3089 - accuracy: 0.8800 - val_loss: 0.8344 - val_accuracy: 0.6667\n",
            "Epoch 95/150\n",
            "4/4 [==============================] - 0s 10ms/step - loss: 0.3039 - accuracy: 0.8800 - val_loss: 0.8454 - val_accuracy: 0.6667\n",
            "Epoch 96/150\n",
            "4/4 [==============================] - 0s 10ms/step - loss: 0.3003 - accuracy: 0.8800 - val_loss: 0.8506 - val_accuracy: 0.6667\n",
            "Epoch 97/150\n",
            "4/4 [==============================] - 0s 9ms/step - loss: 0.2972 - accuracy: 0.8800 - val_loss: 0.8668 - val_accuracy: 0.6667\n",
            "Epoch 98/150\n",
            "4/4 [==============================] - 0s 15ms/step - loss: 0.2915 - accuracy: 0.8880 - val_loss: 0.8701 - val_accuracy: 0.6667\n",
            "Epoch 99/150\n",
            "4/4 [==============================] - 0s 12ms/step - loss: 0.2869 - accuracy: 0.8880 - val_loss: 0.8790 - val_accuracy: 0.6667\n",
            "Epoch 100/150\n",
            "4/4 [==============================] - 0s 9ms/step - loss: 0.2839 - accuracy: 0.8960 - val_loss: 0.8692 - val_accuracy: 0.6667\n",
            "Epoch 101/150\n",
            "4/4 [==============================] - 0s 9ms/step - loss: 0.2806 - accuracy: 0.8960 - val_loss: 0.8859 - val_accuracy: 0.6667\n",
            "Epoch 102/150\n",
            "4/4 [==============================] - 0s 12ms/step - loss: 0.2741 - accuracy: 0.8960 - val_loss: 0.9407 - val_accuracy: 0.6667\n",
            "Epoch 103/150\n",
            "4/4 [==============================] - 0s 10ms/step - loss: 0.2734 - accuracy: 0.8960 - val_loss: 0.9389 - val_accuracy: 0.6667\n",
            "Epoch 104/150\n",
            "4/4 [==============================] - 0s 12ms/step - loss: 0.2656 - accuracy: 0.8960 - val_loss: 0.8950 - val_accuracy: 0.6296\n",
            "Epoch 105/150\n",
            "4/4 [==============================] - 0s 11ms/step - loss: 0.2654 - accuracy: 0.8960 - val_loss: 0.8998 - val_accuracy: 0.6296\n",
            "Epoch 106/150\n",
            "4/4 [==============================] - 0s 17ms/step - loss: 0.2605 - accuracy: 0.8960 - val_loss: 0.9552 - val_accuracy: 0.6667\n",
            "Epoch 107/150\n",
            "4/4 [==============================] - 0s 10ms/step - loss: 0.2542 - accuracy: 0.9040 - val_loss: 0.9635 - val_accuracy: 0.6667\n",
            "Epoch 108/150\n",
            "4/4 [==============================] - 0s 9ms/step - loss: 0.2504 - accuracy: 0.9120 - val_loss: 0.9599 - val_accuracy: 0.6296\n",
            "Epoch 109/150\n",
            "4/4 [==============================] - 0s 10ms/step - loss: 0.2492 - accuracy: 0.9120 - val_loss: 0.9564 - val_accuracy: 0.6296\n",
            "Epoch 110/150\n",
            "4/4 [==============================] - 0s 9ms/step - loss: 0.2425 - accuracy: 0.9120 - val_loss: 0.9958 - val_accuracy: 0.6667\n",
            "Epoch 111/150\n",
            "4/4 [==============================] - 0s 10ms/step - loss: 0.2408 - accuracy: 0.9040 - val_loss: 1.0173 - val_accuracy: 0.6667\n",
            "Epoch 112/150\n",
            "4/4 [==============================] - 0s 9ms/step - loss: 0.2400 - accuracy: 0.9040 - val_loss: 0.9784 - val_accuracy: 0.6296\n",
            "Epoch 113/150\n",
            "4/4 [==============================] - 0s 9ms/step - loss: 0.2325 - accuracy: 0.9200 - val_loss: 1.0009 - val_accuracy: 0.6296\n",
            "Epoch 114/150\n",
            "4/4 [==============================] - 0s 9ms/step - loss: 0.2278 - accuracy: 0.9120 - val_loss: 1.0436 - val_accuracy: 0.6667\n",
            "Epoch 115/150\n",
            "4/4 [==============================] - 0s 10ms/step - loss: 0.2261 - accuracy: 0.9120 - val_loss: 1.0401 - val_accuracy: 0.6667\n",
            "Epoch 116/150\n",
            "4/4 [==============================] - 0s 10ms/step - loss: 0.2216 - accuracy: 0.9200 - val_loss: 1.0273 - val_accuracy: 0.6296\n",
            "Epoch 117/150\n",
            "4/4 [==============================] - 0s 11ms/step - loss: 0.2180 - accuracy: 0.9200 - val_loss: 1.0494 - val_accuracy: 0.6296\n",
            "Epoch 118/150\n",
            "4/4 [==============================] - 0s 12ms/step - loss: 0.2148 - accuracy: 0.9200 - val_loss: 1.0608 - val_accuracy: 0.6296\n",
            "Epoch 119/150\n",
            "4/4 [==============================] - 0s 10ms/step - loss: 0.2121 - accuracy: 0.9200 - val_loss: 1.0701 - val_accuracy: 0.6296\n",
            "Epoch 120/150\n",
            "4/4 [==============================] - 0s 11ms/step - loss: 0.2086 - accuracy: 0.9200 - val_loss: 1.0759 - val_accuracy: 0.6296\n",
            "Epoch 121/150\n",
            "4/4 [==============================] - 0s 11ms/step - loss: 0.2052 - accuracy: 0.9200 - val_loss: 1.0889 - val_accuracy: 0.6296\n",
            "Epoch 122/150\n",
            "4/4 [==============================] - 0s 11ms/step - loss: 0.2028 - accuracy: 0.9200 - val_loss: 1.0899 - val_accuracy: 0.6296\n",
            "Epoch 123/150\n",
            "4/4 [==============================] - 0s 9ms/step - loss: 0.1984 - accuracy: 0.9200 - val_loss: 1.1031 - val_accuracy: 0.6296\n",
            "Epoch 124/150\n",
            "4/4 [==============================] - 0s 11ms/step - loss: 0.1971 - accuracy: 0.9200 - val_loss: 1.1492 - val_accuracy: 0.6296\n",
            "Epoch 125/150\n",
            "4/4 [==============================] - 0s 11ms/step - loss: 0.1936 - accuracy: 0.9280 - val_loss: 1.1047 - val_accuracy: 0.6296\n",
            "Epoch 126/150\n",
            "4/4 [==============================] - 0s 10ms/step - loss: 0.1897 - accuracy: 0.9200 - val_loss: 1.1070 - val_accuracy: 0.6296\n",
            "Epoch 127/150\n",
            "4/4 [==============================] - 0s 10ms/step - loss: 0.1866 - accuracy: 0.9280 - val_loss: 1.1492 - val_accuracy: 0.5926\n",
            "Epoch 128/150\n",
            "4/4 [==============================] - 0s 11ms/step - loss: 0.1865 - accuracy: 0.9280 - val_loss: 1.1763 - val_accuracy: 0.5926\n",
            "Epoch 129/150\n",
            "4/4 [==============================] - 0s 10ms/step - loss: 0.1801 - accuracy: 0.9360 - val_loss: 1.1343 - val_accuracy: 0.6296\n",
            "Epoch 130/150\n",
            "4/4 [==============================] - 0s 9ms/step - loss: 0.1781 - accuracy: 0.9360 - val_loss: 1.1734 - val_accuracy: 0.5926\n",
            "Epoch 131/150\n",
            "4/4 [==============================] - 0s 8ms/step - loss: 0.1743 - accuracy: 0.9360 - val_loss: 1.2038 - val_accuracy: 0.5926\n",
            "Epoch 132/150\n",
            "4/4 [==============================] - 0s 10ms/step - loss: 0.1710 - accuracy: 0.9440 - val_loss: 1.1943 - val_accuracy: 0.6296\n",
            "Epoch 133/150\n",
            "4/4 [==============================] - 0s 9ms/step - loss: 0.1687 - accuracy: 0.9440 - val_loss: 1.2180 - val_accuracy: 0.5926\n",
            "Epoch 134/150\n",
            "4/4 [==============================] - 0s 9ms/step - loss: 0.1671 - accuracy: 0.9520 - val_loss: 1.1954 - val_accuracy: 0.5926\n",
            "Epoch 135/150\n",
            "4/4 [==============================] - 0s 10ms/step - loss: 0.1639 - accuracy: 0.9520 - val_loss: 1.2435 - val_accuracy: 0.5926\n",
            "Epoch 136/150\n",
            "4/4 [==============================] - 0s 9ms/step - loss: 0.1606 - accuracy: 0.9520 - val_loss: 1.2316 - val_accuracy: 0.5926\n",
            "Epoch 137/150\n",
            "4/4 [==============================] - 0s 10ms/step - loss: 0.1580 - accuracy: 0.9600 - val_loss: 1.2292 - val_accuracy: 0.6296\n",
            "Epoch 138/150\n",
            "4/4 [==============================] - 0s 9ms/step - loss: 0.1555 - accuracy: 0.9680 - val_loss: 1.2533 - val_accuracy: 0.5926\n",
            "Epoch 139/150\n",
            "4/4 [==============================] - 0s 8ms/step - loss: 0.1545 - accuracy: 0.9600 - val_loss: 1.2942 - val_accuracy: 0.5926\n",
            "Epoch 140/150\n",
            "4/4 [==============================] - 0s 9ms/step - loss: 0.1495 - accuracy: 0.9600 - val_loss: 1.2676 - val_accuracy: 0.5926\n",
            "Epoch 141/150\n",
            "4/4 [==============================] - 0s 9ms/step - loss: 0.1480 - accuracy: 0.9760 - val_loss: 1.2604 - val_accuracy: 0.5926\n",
            "Epoch 142/150\n",
            "4/4 [==============================] - 0s 11ms/step - loss: 0.1451 - accuracy: 0.9680 - val_loss: 1.3097 - val_accuracy: 0.5926\n",
            "Epoch 143/150\n",
            "4/4 [==============================] - 0s 9ms/step - loss: 0.1425 - accuracy: 0.9680 - val_loss: 1.3202 - val_accuracy: 0.5926\n",
            "Epoch 144/150\n",
            "4/4 [==============================] - 0s 10ms/step - loss: 0.1411 - accuracy: 0.9680 - val_loss: 1.2872 - val_accuracy: 0.5926\n",
            "Epoch 145/150\n",
            "4/4 [==============================] - 0s 10ms/step - loss: 0.1389 - accuracy: 0.9760 - val_loss: 1.3341 - val_accuracy: 0.5926\n",
            "Epoch 146/150\n",
            "4/4 [==============================] - 0s 10ms/step - loss: 0.1356 - accuracy: 0.9840 - val_loss: 1.3329 - val_accuracy: 0.5926\n",
            "Epoch 147/150\n",
            "4/4 [==============================] - 0s 12ms/step - loss: 0.1331 - accuracy: 0.9840 - val_loss: 1.3466 - val_accuracy: 0.5926\n",
            "Epoch 148/150\n",
            "4/4 [==============================] - 0s 10ms/step - loss: 0.1319 - accuracy: 0.9840 - val_loss: 1.3444 - val_accuracy: 0.5926\n",
            "Epoch 149/150\n",
            "4/4 [==============================] - 0s 11ms/step - loss: 0.1340 - accuracy: 0.9760 - val_loss: 1.4037 - val_accuracy: 0.5926\n",
            "Epoch 150/150\n",
            "4/4 [==============================] - 0s 9ms/step - loss: 0.1262 - accuracy: 0.9840 - val_loss: 1.3717 - val_accuracy: 0.5926\n"
          ]
        }
      ]
    },
    {
      "cell_type": "code",
      "source": [
        "model.evaluate(X_test, y_test)"
      ],
      "metadata": {
        "id": "PNeldcfCq6b9",
        "outputId": "91b72e00-d6f8-47a5-b979-12d92e5fa435",
        "colab": {
          "base_uri": "https://localhost:8080/"
        }
      },
      "execution_count": 100,
      "outputs": [
        {
          "output_type": "stream",
          "name": "stdout",
          "text": [
            "1/1 [==============================] - 0s 22ms/step - loss: 71.3447 - accuracy: 0.4783\n"
          ]
        },
        {
          "output_type": "execute_result",
          "data": {
            "text/plain": [
              "[71.34473419189453, 0.47826087474823]"
            ]
          },
          "metadata": {},
          "execution_count": 100
        }
      ]
    },
    {
      "cell_type": "code",
      "source": [
        ""
      ],
      "metadata": {
        "id": "MLbBeyiit_4Z"
      },
      "execution_count": 100,
      "outputs": []
    },
    {
      "cell_type": "code",
      "source": [
        ""
      ],
      "metadata": {
        "id": "pZYMdY3Ht__h"
      },
      "execution_count": 100,
      "outputs": []
    },
    {
      "cell_type": "code",
      "source": [
        ""
      ],
      "metadata": {
        "id": "3jGW7vHzcyKG"
      },
      "execution_count": 100,
      "outputs": []
    },
    {
      "cell_type": "code",
      "source": [
        "tf.random.set_seed(42)\n",
        "\n",
        "model = tf.keras.Sequential([\n",
        "    tf.keras.layers.Dense(19, activation='relu'),\n",
        "    tf.keras.layers.Dense(4, activation='relu'),\n",
        "    tf.keras.layers.Dense(4, activation='relu'),\n",
        "\n",
        "    # tf.keras.layers.Dense(20, activation='relu'),\n",
        "    # tf.keras.layers.Dense(10, activation='relu'),\n",
        "\n",
        "    # tf.keras.layers.Dense(256, activation='relu'),\n",
        "    tf.keras.layers.Dense(1, activation='sigmoid')\n",
        "])\n",
        "\n",
        "model.compile(\n",
        "    loss=tf.keras.losses.binary_crossentropy,\n",
        "    optimizer=tf.keras.optimizers.Adam(0.001),\n",
        "    metrics=[\"accuracy\"]\n",
        ")\n",
        "\n",
        "\n",
        "history = model.fit(X_train_scaled, \n",
        "                    y_train, \n",
        "                    epochs=150,\n",
        "                    validation_data = (X_valid_scaled, y_valid),\n",
        "                    callbacks=[model_checkpoint])"
      ],
      "metadata": {
        "id": "en9K52fle0pU",
        "outputId": "27f8c7a6-6799-4f7b-8847-788af36e14a2",
        "colab": {
          "base_uri": "https://localhost:8080/"
        }
      },
      "execution_count": 101,
      "outputs": [
        {
          "output_type": "stream",
          "name": "stdout",
          "text": [
            "Epoch 1/150\n",
            "4/4 [==============================] - 1s 61ms/step - loss: 0.6872 - accuracy: 0.5840 - val_loss: 0.6883 - val_accuracy: 0.5926\n",
            "Epoch 2/150\n",
            "4/4 [==============================] - 0s 10ms/step - loss: 0.6842 - accuracy: 0.5840 - val_loss: 0.6860 - val_accuracy: 0.5926\n",
            "Epoch 3/150\n",
            "4/4 [==============================] - 0s 9ms/step - loss: 0.6817 - accuracy: 0.5840 - val_loss: 0.6840 - val_accuracy: 0.5926\n",
            "Epoch 4/150\n",
            "4/4 [==============================] - 0s 10ms/step - loss: 0.6802 - accuracy: 0.5840 - val_loss: 0.6817 - val_accuracy: 0.5926\n",
            "Epoch 5/150\n",
            "4/4 [==============================] - 0s 10ms/step - loss: 0.6777 - accuracy: 0.5840 - val_loss: 0.6795 - val_accuracy: 0.5926\n",
            "Epoch 6/150\n",
            "4/4 [==============================] - 0s 11ms/step - loss: 0.6758 - accuracy: 0.5840 - val_loss: 0.6777 - val_accuracy: 0.5926\n",
            "Epoch 7/150\n",
            "4/4 [==============================] - 0s 10ms/step - loss: 0.6747 - accuracy: 0.5840 - val_loss: 0.6755 - val_accuracy: 0.5926\n",
            "Epoch 8/150\n",
            "4/4 [==============================] - 0s 9ms/step - loss: 0.6724 - accuracy: 0.5840 - val_loss: 0.6739 - val_accuracy: 0.5926\n",
            "Epoch 9/150\n",
            "4/4 [==============================] - 0s 12ms/step - loss: 0.6710 - accuracy: 0.5840 - val_loss: 0.6723 - val_accuracy: 0.5926\n",
            "Epoch 10/150\n",
            "4/4 [==============================] - 0s 9ms/step - loss: 0.6695 - accuracy: 0.5840 - val_loss: 0.6709 - val_accuracy: 0.5926\n",
            "Epoch 11/150\n",
            "4/4 [==============================] - 0s 9ms/step - loss: 0.6682 - accuracy: 0.5840 - val_loss: 0.6695 - val_accuracy: 0.5926\n",
            "Epoch 12/150\n",
            "4/4 [==============================] - 0s 10ms/step - loss: 0.6668 - accuracy: 0.5840 - val_loss: 0.6678 - val_accuracy: 0.5926\n",
            "Epoch 13/150\n",
            "4/4 [==============================] - 0s 8ms/step - loss: 0.6653 - accuracy: 0.5840 - val_loss: 0.6663 - val_accuracy: 0.5926\n",
            "Epoch 14/150\n",
            "4/4 [==============================] - 0s 9ms/step - loss: 0.6640 - accuracy: 0.5840 - val_loss: 0.6648 - val_accuracy: 0.5926\n",
            "Epoch 15/150\n",
            "4/4 [==============================] - 0s 8ms/step - loss: 0.6628 - accuracy: 0.5840 - val_loss: 0.6633 - val_accuracy: 0.5926\n",
            "Epoch 16/150\n",
            "4/4 [==============================] - 0s 8ms/step - loss: 0.6611 - accuracy: 0.5840 - val_loss: 0.6620 - val_accuracy: 0.5926\n",
            "Epoch 17/150\n",
            "4/4 [==============================] - 0s 9ms/step - loss: 0.6600 - accuracy: 0.5840 - val_loss: 0.6608 - val_accuracy: 0.5926\n",
            "Epoch 18/150\n",
            "4/4 [==============================] - 0s 10ms/step - loss: 0.6583 - accuracy: 0.5840 - val_loss: 0.6595 - val_accuracy: 0.5926\n",
            "Epoch 19/150\n",
            "4/4 [==============================] - 0s 9ms/step - loss: 0.6572 - accuracy: 0.5840 - val_loss: 0.6579 - val_accuracy: 0.5926\n",
            "Epoch 20/150\n",
            "4/4 [==============================] - 0s 10ms/step - loss: 0.6557 - accuracy: 0.5840 - val_loss: 0.6565 - val_accuracy: 0.5926\n",
            "Epoch 21/150\n",
            "4/4 [==============================] - 0s 10ms/step - loss: 0.6540 - accuracy: 0.5840 - val_loss: 0.6551 - val_accuracy: 0.5926\n",
            "Epoch 22/150\n",
            "4/4 [==============================] - 0s 9ms/step - loss: 0.6524 - accuracy: 0.5840 - val_loss: 0.6538 - val_accuracy: 0.5926\n",
            "Epoch 23/150\n",
            "4/4 [==============================] - 0s 10ms/step - loss: 0.6510 - accuracy: 0.5840 - val_loss: 0.6524 - val_accuracy: 0.5926\n",
            "Epoch 24/150\n",
            "4/4 [==============================] - 0s 16ms/step - loss: 0.6494 - accuracy: 0.5840 - val_loss: 0.6510 - val_accuracy: 0.5926\n",
            "Epoch 25/150\n",
            "4/4 [==============================] - 0s 11ms/step - loss: 0.6478 - accuracy: 0.5840 - val_loss: 0.6493 - val_accuracy: 0.5926\n",
            "Epoch 26/150\n",
            "4/4 [==============================] - 0s 9ms/step - loss: 0.6460 - accuracy: 0.5840 - val_loss: 0.6478 - val_accuracy: 0.5926\n",
            "Epoch 27/150\n",
            "4/4 [==============================] - 0s 11ms/step - loss: 0.6445 - accuracy: 0.5840 - val_loss: 0.6461 - val_accuracy: 0.6296\n",
            "Epoch 28/150\n",
            "4/4 [==============================] - 0s 9ms/step - loss: 0.6425 - accuracy: 0.5920 - val_loss: 0.6447 - val_accuracy: 0.6296\n",
            "Epoch 29/150\n",
            "4/4 [==============================] - 0s 10ms/step - loss: 0.6406 - accuracy: 0.6000 - val_loss: 0.6431 - val_accuracy: 0.6296\n",
            "Epoch 30/150\n",
            "4/4 [==============================] - 0s 9ms/step - loss: 0.6392 - accuracy: 0.6000 - val_loss: 0.6413 - val_accuracy: 0.6296\n",
            "Epoch 31/150\n",
            "4/4 [==============================] - 0s 9ms/step - loss: 0.6371 - accuracy: 0.6000 - val_loss: 0.6397 - val_accuracy: 0.6296\n",
            "Epoch 32/150\n",
            "4/4 [==============================] - 0s 9ms/step - loss: 0.6356 - accuracy: 0.6160 - val_loss: 0.6384 - val_accuracy: 0.6296\n",
            "Epoch 33/150\n",
            "4/4 [==============================] - 0s 10ms/step - loss: 0.6342 - accuracy: 0.6240 - val_loss: 0.6370 - val_accuracy: 0.6296\n",
            "Epoch 34/150\n",
            "4/4 [==============================] - 0s 10ms/step - loss: 0.6324 - accuracy: 0.6320 - val_loss: 0.6353 - val_accuracy: 0.6296\n",
            "Epoch 35/150\n",
            "4/4 [==============================] - 0s 9ms/step - loss: 0.6309 - accuracy: 0.6320 - val_loss: 0.6341 - val_accuracy: 0.5926\n",
            "Epoch 36/150\n",
            "4/4 [==============================] - 0s 10ms/step - loss: 0.6293 - accuracy: 0.6160 - val_loss: 0.6329 - val_accuracy: 0.5926\n",
            "Epoch 37/150\n",
            "4/4 [==============================] - 0s 9ms/step - loss: 0.6277 - accuracy: 0.6240 - val_loss: 0.6314 - val_accuracy: 0.5926\n",
            "Epoch 38/150\n",
            "4/4 [==============================] - 0s 9ms/step - loss: 0.6260 - accuracy: 0.6320 - val_loss: 0.6300 - val_accuracy: 0.6296\n",
            "Epoch 39/150\n",
            "4/4 [==============================] - 0s 11ms/step - loss: 0.6247 - accuracy: 0.6320 - val_loss: 0.6291 - val_accuracy: 0.5926\n",
            "Epoch 40/150\n",
            "4/4 [==============================] - 0s 9ms/step - loss: 0.6233 - accuracy: 0.6320 - val_loss: 0.6277 - val_accuracy: 0.5926\n",
            "Epoch 41/150\n",
            "4/4 [==============================] - 0s 10ms/step - loss: 0.6214 - accuracy: 0.6320 - val_loss: 0.6266 - val_accuracy: 0.5926\n",
            "Epoch 42/150\n",
            "4/4 [==============================] - 0s 9ms/step - loss: 0.6198 - accuracy: 0.6320 - val_loss: 0.6254 - val_accuracy: 0.6296\n",
            "Epoch 43/150\n",
            "4/4 [==============================] - 0s 9ms/step - loss: 0.6182 - accuracy: 0.6320 - val_loss: 0.6241 - val_accuracy: 0.6296\n",
            "Epoch 44/150\n",
            "4/4 [==============================] - 0s 10ms/step - loss: 0.6171 - accuracy: 0.6400 - val_loss: 0.6232 - val_accuracy: 0.6296\n",
            "Epoch 45/150\n",
            "4/4 [==============================] - 0s 10ms/step - loss: 0.6152 - accuracy: 0.6400 - val_loss: 0.6222 - val_accuracy: 0.6667\n",
            "Epoch 46/150\n",
            "4/4 [==============================] - 0s 9ms/step - loss: 0.6138 - accuracy: 0.6480 - val_loss: 0.6213 - val_accuracy: 0.7037\n",
            "Epoch 47/150\n",
            "4/4 [==============================] - 0s 10ms/step - loss: 0.6121 - accuracy: 0.6560 - val_loss: 0.6205 - val_accuracy: 0.6667\n",
            "Epoch 48/150\n",
            "4/4 [==============================] - 0s 9ms/step - loss: 0.6107 - accuracy: 0.6560 - val_loss: 0.6198 - val_accuracy: 0.6667\n",
            "Epoch 49/150\n",
            "4/4 [==============================] - 0s 9ms/step - loss: 0.6090 - accuracy: 0.6560 - val_loss: 0.6192 - val_accuracy: 0.6667\n",
            "Epoch 50/150\n",
            "4/4 [==============================] - 0s 11ms/step - loss: 0.6077 - accuracy: 0.6720 - val_loss: 0.6186 - val_accuracy: 0.7037\n",
            "Epoch 51/150\n",
            "4/4 [==============================] - 0s 10ms/step - loss: 0.6066 - accuracy: 0.6800 - val_loss: 0.6179 - val_accuracy: 0.7037\n",
            "Epoch 52/150\n",
            "4/4 [==============================] - 0s 9ms/step - loss: 0.6051 - accuracy: 0.6800 - val_loss: 0.6173 - val_accuracy: 0.7037\n",
            "Epoch 53/150\n",
            "4/4 [==============================] - 0s 10ms/step - loss: 0.6033 - accuracy: 0.6800 - val_loss: 0.6169 - val_accuracy: 0.7037\n",
            "Epoch 54/150\n",
            "4/4 [==============================] - 0s 10ms/step - loss: 0.6022 - accuracy: 0.6800 - val_loss: 0.6164 - val_accuracy: 0.7037\n",
            "Epoch 55/150\n",
            "4/4 [==============================] - 0s 11ms/step - loss: 0.6008 - accuracy: 0.6800 - val_loss: 0.6157 - val_accuracy: 0.7037\n",
            "Epoch 56/150\n",
            "4/4 [==============================] - 0s 9ms/step - loss: 0.5996 - accuracy: 0.6800 - val_loss: 0.6152 - val_accuracy: 0.7037\n",
            "Epoch 57/150\n",
            "4/4 [==============================] - 0s 9ms/step - loss: 0.5985 - accuracy: 0.6800 - val_loss: 0.6149 - val_accuracy: 0.6667\n",
            "Epoch 58/150\n",
            "4/4 [==============================] - 0s 10ms/step - loss: 0.5971 - accuracy: 0.6960 - val_loss: 0.6144 - val_accuracy: 0.7037\n",
            "Epoch 59/150\n",
            "4/4 [==============================] - 0s 8ms/step - loss: 0.5956 - accuracy: 0.6960 - val_loss: 0.6137 - val_accuracy: 0.7037\n",
            "Epoch 60/150\n",
            "4/4 [==============================] - 0s 9ms/step - loss: 0.5942 - accuracy: 0.6960 - val_loss: 0.6134 - val_accuracy: 0.7037\n",
            "Epoch 61/150\n",
            "4/4 [==============================] - 0s 9ms/step - loss: 0.5934 - accuracy: 0.6960 - val_loss: 0.6131 - val_accuracy: 0.7037\n",
            "Epoch 62/150\n",
            "4/4 [==============================] - 0s 10ms/step - loss: 0.5923 - accuracy: 0.6960 - val_loss: 0.6124 - val_accuracy: 0.7037\n",
            "Epoch 63/150\n",
            "4/4 [==============================] - 0s 9ms/step - loss: 0.5907 - accuracy: 0.6960 - val_loss: 0.6122 - val_accuracy: 0.7037\n",
            "Epoch 64/150\n",
            "4/4 [==============================] - 0s 11ms/step - loss: 0.5893 - accuracy: 0.6960 - val_loss: 0.6122 - val_accuracy: 0.7037\n",
            "Epoch 65/150\n",
            "4/4 [==============================] - 0s 10ms/step - loss: 0.5881 - accuracy: 0.6960 - val_loss: 0.6120 - val_accuracy: 0.7037\n",
            "Epoch 66/150\n",
            "4/4 [==============================] - 0s 9ms/step - loss: 0.5868 - accuracy: 0.6960 - val_loss: 0.6119 - val_accuracy: 0.7037\n",
            "Epoch 67/150\n",
            "4/4 [==============================] - 0s 9ms/step - loss: 0.5859 - accuracy: 0.7120 - val_loss: 0.6117 - val_accuracy: 0.6667\n",
            "Epoch 68/150\n",
            "4/4 [==============================] - 0s 9ms/step - loss: 0.5848 - accuracy: 0.7120 - val_loss: 0.6120 - val_accuracy: 0.7037\n",
            "Epoch 69/150\n",
            "4/4 [==============================] - 0s 10ms/step - loss: 0.5836 - accuracy: 0.7120 - val_loss: 0.6115 - val_accuracy: 0.6667\n",
            "Epoch 70/150\n",
            "4/4 [==============================] - 0s 9ms/step - loss: 0.5823 - accuracy: 0.7120 - val_loss: 0.6112 - val_accuracy: 0.6667\n",
            "Epoch 71/150\n",
            "4/4 [==============================] - 0s 9ms/step - loss: 0.5815 - accuracy: 0.7120 - val_loss: 0.6111 - val_accuracy: 0.6667\n",
            "Epoch 72/150\n",
            "4/4 [==============================] - 0s 10ms/step - loss: 0.5810 - accuracy: 0.7200 - val_loss: 0.6101 - val_accuracy: 0.6667\n",
            "Epoch 73/150\n",
            "4/4 [==============================] - 0s 9ms/step - loss: 0.5790 - accuracy: 0.7440 - val_loss: 0.6107 - val_accuracy: 0.6667\n",
            "Epoch 74/150\n",
            "4/4 [==============================] - 0s 9ms/step - loss: 0.5781 - accuracy: 0.7520 - val_loss: 0.6106 - val_accuracy: 0.6667\n",
            "Epoch 75/150\n",
            "4/4 [==============================] - 0s 9ms/step - loss: 0.5772 - accuracy: 0.7520 - val_loss: 0.6105 - val_accuracy: 0.6667\n",
            "Epoch 76/150\n",
            "4/4 [==============================] - 0s 15ms/step - loss: 0.5757 - accuracy: 0.7600 - val_loss: 0.6112 - val_accuracy: 0.6667\n",
            "Epoch 77/150\n",
            "4/4 [==============================] - 0s 10ms/step - loss: 0.5749 - accuracy: 0.7600 - val_loss: 0.6109 - val_accuracy: 0.6667\n",
            "Epoch 78/150\n",
            "4/4 [==============================] - 0s 12ms/step - loss: 0.5735 - accuracy: 0.7680 - val_loss: 0.6111 - val_accuracy: 0.6667\n",
            "Epoch 79/150\n",
            "4/4 [==============================] - 0s 12ms/step - loss: 0.5725 - accuracy: 0.7760 - val_loss: 0.6105 - val_accuracy: 0.6667\n",
            "Epoch 80/150\n",
            "4/4 [==============================] - 0s 14ms/step - loss: 0.5717 - accuracy: 0.7760 - val_loss: 0.6102 - val_accuracy: 0.6667\n",
            "Epoch 81/150\n",
            "4/4 [==============================] - 0s 9ms/step - loss: 0.5706 - accuracy: 0.7760 - val_loss: 0.6110 - val_accuracy: 0.6667\n",
            "Epoch 82/150\n",
            "4/4 [==============================] - 0s 9ms/step - loss: 0.5696 - accuracy: 0.7760 - val_loss: 0.6114 - val_accuracy: 0.7037\n",
            "Epoch 83/150\n",
            "4/4 [==============================] - 0s 9ms/step - loss: 0.5683 - accuracy: 0.7760 - val_loss: 0.6111 - val_accuracy: 0.7037\n",
            "Epoch 84/150\n",
            "4/4 [==============================] - 0s 9ms/step - loss: 0.5679 - accuracy: 0.7760 - val_loss: 0.6106 - val_accuracy: 0.7037\n",
            "Epoch 85/150\n",
            "4/4 [==============================] - 0s 10ms/step - loss: 0.5666 - accuracy: 0.7840 - val_loss: 0.6111 - val_accuracy: 0.7037\n",
            "Epoch 86/150\n",
            "4/4 [==============================] - 0s 10ms/step - loss: 0.5653 - accuracy: 0.7840 - val_loss: 0.6112 - val_accuracy: 0.7037\n",
            "Epoch 87/150\n",
            "4/4 [==============================] - 0s 9ms/step - loss: 0.5642 - accuracy: 0.7840 - val_loss: 0.6106 - val_accuracy: 0.7037\n",
            "Epoch 88/150\n",
            "4/4 [==============================] - 0s 9ms/step - loss: 0.5632 - accuracy: 0.7920 - val_loss: 0.6112 - val_accuracy: 0.7037\n",
            "Epoch 89/150\n",
            "4/4 [==============================] - 0s 9ms/step - loss: 0.5623 - accuracy: 0.7920 - val_loss: 0.6112 - val_accuracy: 0.7037\n",
            "Epoch 90/150\n",
            "4/4 [==============================] - 0s 9ms/step - loss: 0.5612 - accuracy: 0.7920 - val_loss: 0.6120 - val_accuracy: 0.7037\n",
            "Epoch 91/150\n",
            "4/4 [==============================] - 0s 9ms/step - loss: 0.5605 - accuracy: 0.7920 - val_loss: 0.6116 - val_accuracy: 0.7037\n",
            "Epoch 92/150\n",
            "4/4 [==============================] - 0s 10ms/step - loss: 0.5593 - accuracy: 0.7920 - val_loss: 0.6124 - val_accuracy: 0.7037\n",
            "Epoch 93/150\n",
            "4/4 [==============================] - 0s 12ms/step - loss: 0.5585 - accuracy: 0.7920 - val_loss: 0.6114 - val_accuracy: 0.7037\n",
            "Epoch 94/150\n",
            "4/4 [==============================] - 0s 9ms/step - loss: 0.5574 - accuracy: 0.7920 - val_loss: 0.6119 - val_accuracy: 0.7037\n",
            "Epoch 95/150\n",
            "4/4 [==============================] - 0s 11ms/step - loss: 0.5560 - accuracy: 0.7920 - val_loss: 0.6132 - val_accuracy: 0.7037\n",
            "Epoch 96/150\n",
            "4/4 [==============================] - 0s 9ms/step - loss: 0.5553 - accuracy: 0.7920 - val_loss: 0.6137 - val_accuracy: 0.7037\n",
            "Epoch 97/150\n",
            "4/4 [==============================] - 0s 9ms/step - loss: 0.5543 - accuracy: 0.7920 - val_loss: 0.6146 - val_accuracy: 0.7037\n",
            "Epoch 98/150\n",
            "4/4 [==============================] - 0s 9ms/step - loss: 0.5533 - accuracy: 0.7840 - val_loss: 0.6152 - val_accuracy: 0.7037\n",
            "Epoch 99/150\n",
            "4/4 [==============================] - 0s 9ms/step - loss: 0.5526 - accuracy: 0.7840 - val_loss: 0.6161 - val_accuracy: 0.7037\n",
            "Epoch 100/150\n",
            "4/4 [==============================] - 0s 11ms/step - loss: 0.5514 - accuracy: 0.7840 - val_loss: 0.6146 - val_accuracy: 0.7037\n",
            "Epoch 101/150\n",
            "4/4 [==============================] - 0s 13ms/step - loss: 0.5514 - accuracy: 0.8000 - val_loss: 0.6142 - val_accuracy: 0.7037\n",
            "Epoch 102/150\n",
            "4/4 [==============================] - 0s 16ms/step - loss: 0.5494 - accuracy: 0.7840 - val_loss: 0.6179 - val_accuracy: 0.7037\n",
            "Epoch 103/150\n",
            "4/4 [==============================] - 0s 11ms/step - loss: 0.5505 - accuracy: 0.7840 - val_loss: 0.6233 - val_accuracy: 0.7037\n",
            "Epoch 104/150\n",
            "4/4 [==============================] - 0s 11ms/step - loss: 0.5483 - accuracy: 0.7840 - val_loss: 0.6211 - val_accuracy: 0.7037\n",
            "Epoch 105/150\n",
            "4/4 [==============================] - 0s 11ms/step - loss: 0.5468 - accuracy: 0.7840 - val_loss: 0.6177 - val_accuracy: 0.7037\n",
            "Epoch 106/150\n",
            "4/4 [==============================] - 0s 11ms/step - loss: 0.5459 - accuracy: 0.7840 - val_loss: 0.6190 - val_accuracy: 0.7037\n",
            "Epoch 107/150\n",
            "4/4 [==============================] - 0s 10ms/step - loss: 0.5444 - accuracy: 0.7760 - val_loss: 0.6215 - val_accuracy: 0.7037\n",
            "Epoch 108/150\n",
            "4/4 [==============================] - 0s 9ms/step - loss: 0.5437 - accuracy: 0.7840 - val_loss: 0.6236 - val_accuracy: 0.7037\n",
            "Epoch 109/150\n",
            "4/4 [==============================] - 0s 9ms/step - loss: 0.5426 - accuracy: 0.7760 - val_loss: 0.6242 - val_accuracy: 0.7037\n",
            "Epoch 110/150\n",
            "4/4 [==============================] - 0s 11ms/step - loss: 0.5415 - accuracy: 0.7760 - val_loss: 0.6244 - val_accuracy: 0.7037\n",
            "Epoch 111/150\n",
            "4/4 [==============================] - 0s 9ms/step - loss: 0.5404 - accuracy: 0.7760 - val_loss: 0.6258 - val_accuracy: 0.7037\n",
            "Epoch 112/150\n",
            "4/4 [==============================] - 0s 9ms/step - loss: 0.5409 - accuracy: 0.7840 - val_loss: 0.6241 - val_accuracy: 0.7037\n",
            "Epoch 113/150\n",
            "4/4 [==============================] - 0s 10ms/step - loss: 0.5385 - accuracy: 0.7920 - val_loss: 0.6280 - val_accuracy: 0.7037\n",
            "Epoch 114/150\n",
            "4/4 [==============================] - 0s 9ms/step - loss: 0.5378 - accuracy: 0.7760 - val_loss: 0.6295 - val_accuracy: 0.7037\n",
            "Epoch 115/150\n",
            "4/4 [==============================] - 0s 9ms/step - loss: 0.5369 - accuracy: 0.7840 - val_loss: 0.6275 - val_accuracy: 0.7037\n",
            "Epoch 116/150\n",
            "4/4 [==============================] - 0s 9ms/step - loss: 0.5361 - accuracy: 0.8000 - val_loss: 0.6280 - val_accuracy: 0.7037\n",
            "Epoch 117/150\n",
            "4/4 [==============================] - 0s 10ms/step - loss: 0.5357 - accuracy: 0.7840 - val_loss: 0.6329 - val_accuracy: 0.6667\n",
            "Epoch 118/150\n",
            "4/4 [==============================] - 0s 9ms/step - loss: 0.5338 - accuracy: 0.7840 - val_loss: 0.6315 - val_accuracy: 0.7037\n",
            "Epoch 119/150\n",
            "4/4 [==============================] - 0s 10ms/step - loss: 0.5330 - accuracy: 0.7920 - val_loss: 0.6306 - val_accuracy: 0.7037\n",
            "Epoch 120/150\n",
            "4/4 [==============================] - 0s 10ms/step - loss: 0.5322 - accuracy: 0.8000 - val_loss: 0.6317 - val_accuracy: 0.7037\n",
            "Epoch 121/150\n",
            "4/4 [==============================] - 0s 10ms/step - loss: 0.5309 - accuracy: 0.8000 - val_loss: 0.6342 - val_accuracy: 0.7037\n",
            "Epoch 122/150\n",
            "4/4 [==============================] - 0s 11ms/step - loss: 0.5298 - accuracy: 0.8000 - val_loss: 0.6350 - val_accuracy: 0.7037\n",
            "Epoch 123/150\n",
            "4/4 [==============================] - 0s 10ms/step - loss: 0.5290 - accuracy: 0.8000 - val_loss: 0.6367 - val_accuracy: 0.7037\n",
            "Epoch 124/150\n",
            "4/4 [==============================] - 0s 11ms/step - loss: 0.5283 - accuracy: 0.8000 - val_loss: 0.6385 - val_accuracy: 0.7037\n",
            "Epoch 125/150\n",
            "4/4 [==============================] - 0s 14ms/step - loss: 0.5269 - accuracy: 0.8000 - val_loss: 0.6376 - val_accuracy: 0.6667\n",
            "Epoch 126/150\n",
            "4/4 [==============================] - 0s 9ms/step - loss: 0.5261 - accuracy: 0.8000 - val_loss: 0.6369 - val_accuracy: 0.6667\n",
            "Epoch 127/150\n",
            "4/4 [==============================] - 0s 10ms/step - loss: 0.5255 - accuracy: 0.8000 - val_loss: 0.6396 - val_accuracy: 0.6667\n",
            "Epoch 128/150\n",
            "4/4 [==============================] - 0s 10ms/step - loss: 0.5243 - accuracy: 0.8000 - val_loss: 0.6413 - val_accuracy: 0.6667\n",
            "Epoch 129/150\n",
            "4/4 [==============================] - 0s 10ms/step - loss: 0.5231 - accuracy: 0.8000 - val_loss: 0.6398 - val_accuracy: 0.6667\n",
            "Epoch 130/150\n",
            "4/4 [==============================] - 0s 9ms/step - loss: 0.5221 - accuracy: 0.8000 - val_loss: 0.6413 - val_accuracy: 0.6667\n",
            "Epoch 131/150\n",
            "4/4 [==============================] - 0s 9ms/step - loss: 0.5210 - accuracy: 0.8000 - val_loss: 0.6438 - val_accuracy: 0.6667\n",
            "Epoch 132/150\n",
            "4/4 [==============================] - 0s 9ms/step - loss: 0.5200 - accuracy: 0.8000 - val_loss: 0.6449 - val_accuracy: 0.6667\n",
            "Epoch 133/150\n",
            "4/4 [==============================] - 0s 10ms/step - loss: 0.5194 - accuracy: 0.8000 - val_loss: 0.6472 - val_accuracy: 0.6296\n",
            "Epoch 134/150\n",
            "4/4 [==============================] - 0s 11ms/step - loss: 0.5190 - accuracy: 0.8000 - val_loss: 0.6431 - val_accuracy: 0.6667\n",
            "Epoch 135/150\n",
            "4/4 [==============================] - 0s 9ms/step - loss: 0.5182 - accuracy: 0.7920 - val_loss: 0.6486 - val_accuracy: 0.6667\n",
            "Epoch 136/150\n",
            "4/4 [==============================] - 0s 9ms/step - loss: 0.5162 - accuracy: 0.8000 - val_loss: 0.6485 - val_accuracy: 0.6667\n",
            "Epoch 137/150\n",
            "4/4 [==============================] - 0s 15ms/step - loss: 0.5150 - accuracy: 0.8000 - val_loss: 0.6509 - val_accuracy: 0.6296\n",
            "Epoch 138/150\n",
            "4/4 [==============================] - 0s 10ms/step - loss: 0.5143 - accuracy: 0.8000 - val_loss: 0.6502 - val_accuracy: 0.6667\n",
            "Epoch 139/150\n",
            "4/4 [==============================] - 0s 9ms/step - loss: 0.5130 - accuracy: 0.8000 - val_loss: 0.6527 - val_accuracy: 0.6667\n",
            "Epoch 140/150\n",
            "4/4 [==============================] - 0s 10ms/step - loss: 0.5123 - accuracy: 0.8000 - val_loss: 0.6553 - val_accuracy: 0.6296\n",
            "Epoch 141/150\n",
            "4/4 [==============================] - 0s 10ms/step - loss: 0.5110 - accuracy: 0.7920 - val_loss: 0.6526 - val_accuracy: 0.6667\n",
            "Epoch 142/150\n",
            "4/4 [==============================] - 0s 10ms/step - loss: 0.5102 - accuracy: 0.7920 - val_loss: 0.6526 - val_accuracy: 0.6667\n",
            "Epoch 143/150\n",
            "4/4 [==============================] - 0s 9ms/step - loss: 0.5094 - accuracy: 0.7920 - val_loss: 0.6576 - val_accuracy: 0.6667\n",
            "Epoch 144/150\n",
            "4/4 [==============================] - 0s 11ms/step - loss: 0.5078 - accuracy: 0.7920 - val_loss: 0.6576 - val_accuracy: 0.6667\n",
            "Epoch 145/150\n",
            "4/4 [==============================] - 0s 11ms/step - loss: 0.5069 - accuracy: 0.7920 - val_loss: 0.6570 - val_accuracy: 0.6667\n",
            "Epoch 146/150\n",
            "4/4 [==============================] - 0s 10ms/step - loss: 0.5063 - accuracy: 0.7840 - val_loss: 0.6583 - val_accuracy: 0.6667\n",
            "Epoch 147/150\n",
            "4/4 [==============================] - 0s 17ms/step - loss: 0.5051 - accuracy: 0.7920 - val_loss: 0.6631 - val_accuracy: 0.6296\n",
            "Epoch 148/150\n",
            "4/4 [==============================] - 0s 11ms/step - loss: 0.5040 - accuracy: 0.8000 - val_loss: 0.6632 - val_accuracy: 0.6667\n",
            "Epoch 149/150\n",
            "4/4 [==============================] - 0s 10ms/step - loss: 0.5040 - accuracy: 0.7920 - val_loss: 0.6676 - val_accuracy: 0.6296\n",
            "Epoch 150/150\n",
            "4/4 [==============================] - 0s 10ms/step - loss: 0.5014 - accuracy: 0.7920 - val_loss: 0.6645 - val_accuracy: 0.6667\n"
          ]
        }
      ]
    },
    {
      "cell_type": "code",
      "source": [
        "model.evaluate(X_test, y_test)"
      ],
      "metadata": {
        "id": "lpKDkcyxq8F8",
        "outputId": "02ecf9a9-a901-485f-a0e9-abb2724c53af",
        "colab": {
          "base_uri": "https://localhost:8080/"
        }
      },
      "execution_count": 102,
      "outputs": [
        {
          "output_type": "stream",
          "name": "stdout",
          "text": [
            "1/1 [==============================] - 0s 18ms/step - loss: 0.9065 - accuracy: 0.5217\n"
          ]
        },
        {
          "output_type": "execute_result",
          "data": {
            "text/plain": [
              "[0.9065135717391968, 0.52173912525177]"
            ]
          },
          "metadata": {},
          "execution_count": 102
        }
      ]
    },
    {
      "cell_type": "code",
      "source": [
        "tf.random.set_seed(42)\n",
        "\n",
        "model = tf.keras.Sequential([\n",
        "    tf.keras.layers.Dense(19, activation='relu'),\n",
        "    tf.keras.layers.Dense(4, activation='relu'),\n",
        "    tf.keras.layers.Dense(4, activation='relu'),\n",
        "\n",
        "    # tf.keras.layers.Dense(20, activation='relu'),\n",
        "    # tf.keras.layers.Dense(10, activation='relu'),\n",
        "\n",
        "    # tf.keras.layers.Dense(256, activation='relu'),\n",
        "    tf.keras.layers.Dense(1, activation='sigmoid')\n",
        "])\n",
        "\n",
        "model.compile(\n",
        "    loss=tf.keras.losses.binary_crossentropy,\n",
        "    optimizer=tf.keras.optimizers.Adam(0.001),\n",
        "    metrics=[\"accuracy\"]\n",
        ")\n",
        "\n",
        "\n",
        "history = model.fit(X_train_scaled, \n",
        "                    y_train, \n",
        "                    epochs=150,\n",
        "                    batch_size=5,\n",
        "                    validation_data = (X_valid_scaled, y_valid),\n",
        "                    callbacks=[model_checkpoint])"
      ],
      "metadata": {
        "id": "d0mJOMoge0ri",
        "outputId": "5b23e1e8-5bdf-43af-992f-09c4f26b9199",
        "colab": {
          "base_uri": "https://localhost:8080/"
        }
      },
      "execution_count": 103,
      "outputs": [
        {
          "output_type": "stream",
          "name": "stdout",
          "text": [
            "Epoch 1/150\n",
            "25/25 [==============================] - 1s 10ms/step - loss: 0.6857 - accuracy: 0.5920 - val_loss: 0.6827 - val_accuracy: 0.5926\n",
            "Epoch 2/150\n",
            "25/25 [==============================] - 0s 3ms/step - loss: 0.6799 - accuracy: 0.5840 - val_loss: 0.6772 - val_accuracy: 0.5926\n",
            "Epoch 3/150\n",
            "25/25 [==============================] - 0s 3ms/step - loss: 0.6741 - accuracy: 0.5840 - val_loss: 0.6724 - val_accuracy: 0.5926\n",
            "Epoch 4/150\n",
            "25/25 [==============================] - 0s 3ms/step - loss: 0.6700 - accuracy: 0.5840 - val_loss: 0.6679 - val_accuracy: 0.5926\n",
            "Epoch 5/150\n",
            "25/25 [==============================] - 0s 2ms/step - loss: 0.6659 - accuracy: 0.5840 - val_loss: 0.6642 - val_accuracy: 0.5926\n",
            "Epoch 6/150\n",
            "25/25 [==============================] - 0s 3ms/step - loss: 0.6647 - accuracy: 0.5840 - val_loss: 0.6618 - val_accuracy: 0.5926\n",
            "Epoch 7/150\n",
            "25/25 [==============================] - 0s 3ms/step - loss: 0.6608 - accuracy: 0.5840 - val_loss: 0.6560 - val_accuracy: 0.5926\n",
            "Epoch 8/150\n",
            "25/25 [==============================] - 0s 3ms/step - loss: 0.6549 - accuracy: 0.5840 - val_loss: 0.6523 - val_accuracy: 0.5926\n",
            "Epoch 9/150\n",
            "25/25 [==============================] - 0s 3ms/step - loss: 0.6500 - accuracy: 0.5920 - val_loss: 0.6489 - val_accuracy: 0.5926\n",
            "Epoch 10/150\n",
            "25/25 [==============================] - 0s 3ms/step - loss: 0.6452 - accuracy: 0.5920 - val_loss: 0.6449 - val_accuracy: 0.5926\n",
            "Epoch 11/150\n",
            "25/25 [==============================] - 0s 3ms/step - loss: 0.6415 - accuracy: 0.5920 - val_loss: 0.6418 - val_accuracy: 0.5926\n",
            "Epoch 12/150\n",
            "25/25 [==============================] - 0s 3ms/step - loss: 0.6367 - accuracy: 0.6320 - val_loss: 0.6362 - val_accuracy: 0.5926\n",
            "Epoch 13/150\n",
            "25/25 [==============================] - 0s 3ms/step - loss: 0.6338 - accuracy: 0.6000 - val_loss: 0.6347 - val_accuracy: 0.5926\n",
            "Epoch 14/150\n",
            "25/25 [==============================] - 0s 3ms/step - loss: 0.6277 - accuracy: 0.6160 - val_loss: 0.6295 - val_accuracy: 0.7037\n",
            "Epoch 15/150\n",
            "25/25 [==============================] - 0s 3ms/step - loss: 0.6302 - accuracy: 0.6480 - val_loss: 0.6266 - val_accuracy: 0.6667\n",
            "Epoch 16/150\n",
            "25/25 [==============================] - 0s 3ms/step - loss: 0.6205 - accuracy: 0.6320 - val_loss: 0.6237 - val_accuracy: 0.7037\n",
            "Epoch 17/150\n",
            "25/25 [==============================] - 0s 3ms/step - loss: 0.6172 - accuracy: 0.6560 - val_loss: 0.6209 - val_accuracy: 0.6667\n",
            "Epoch 18/150\n",
            "25/25 [==============================] - 0s 3ms/step - loss: 0.6100 - accuracy: 0.6560 - val_loss: 0.6179 - val_accuracy: 0.7037\n",
            "Epoch 19/150\n",
            "25/25 [==============================] - 0s 3ms/step - loss: 0.6070 - accuracy: 0.6400 - val_loss: 0.6130 - val_accuracy: 0.6667\n",
            "Epoch 20/150\n",
            "25/25 [==============================] - 0s 3ms/step - loss: 0.6008 - accuracy: 0.6880 - val_loss: 0.6136 - val_accuracy: 0.6296\n",
            "Epoch 21/150\n",
            "25/25 [==============================] - 0s 3ms/step - loss: 0.5941 - accuracy: 0.7360 - val_loss: 0.6093 - val_accuracy: 0.6667\n",
            "Epoch 22/150\n",
            "25/25 [==============================] - 0s 3ms/step - loss: 0.5904 - accuracy: 0.7280 - val_loss: 0.6082 - val_accuracy: 0.6667\n",
            "Epoch 23/150\n",
            "25/25 [==============================] - 0s 3ms/step - loss: 0.5849 - accuracy: 0.7440 - val_loss: 0.6061 - val_accuracy: 0.6667\n",
            "Epoch 24/150\n",
            "25/25 [==============================] - 0s 3ms/step - loss: 0.5802 - accuracy: 0.7680 - val_loss: 0.6053 - val_accuracy: 0.6667\n",
            "Epoch 25/150\n",
            "25/25 [==============================] - 0s 3ms/step - loss: 0.5755 - accuracy: 0.7600 - val_loss: 0.6011 - val_accuracy: 0.6667\n",
            "Epoch 26/150\n",
            "25/25 [==============================] - 0s 3ms/step - loss: 0.5727 - accuracy: 0.7520 - val_loss: 0.6015 - val_accuracy: 0.6667\n",
            "Epoch 27/150\n",
            "25/25 [==============================] - 0s 3ms/step - loss: 0.5657 - accuracy: 0.7840 - val_loss: 0.5979 - val_accuracy: 0.7037\n",
            "Epoch 28/150\n",
            "25/25 [==============================] - 0s 3ms/step - loss: 0.5632 - accuracy: 0.7520 - val_loss: 0.5956 - val_accuracy: 0.7037\n",
            "Epoch 29/150\n",
            "25/25 [==============================] - 0s 3ms/step - loss: 0.5571 - accuracy: 0.7760 - val_loss: 0.5982 - val_accuracy: 0.7037\n",
            "Epoch 30/150\n",
            "25/25 [==============================] - 0s 3ms/step - loss: 0.5529 - accuracy: 0.7920 - val_loss: 0.5958 - val_accuracy: 0.7037\n",
            "Epoch 31/150\n",
            "25/25 [==============================] - 0s 3ms/step - loss: 0.5461 - accuracy: 0.7680 - val_loss: 0.5911 - val_accuracy: 0.7037\n",
            "Epoch 32/150\n",
            "25/25 [==============================] - 0s 2ms/step - loss: 0.5533 - accuracy: 0.7360 - val_loss: 0.5957 - val_accuracy: 0.7037\n",
            "Epoch 33/150\n",
            "25/25 [==============================] - 0s 3ms/step - loss: 0.5421 - accuracy: 0.7680 - val_loss: 0.5949 - val_accuracy: 0.7037\n",
            "Epoch 34/150\n",
            "25/25 [==============================] - 0s 3ms/step - loss: 0.5357 - accuracy: 0.7840 - val_loss: 0.5931 - val_accuracy: 0.7037\n",
            "Epoch 35/150\n",
            "25/25 [==============================] - 0s 3ms/step - loss: 0.5309 - accuracy: 0.7760 - val_loss: 0.5898 - val_accuracy: 0.6667\n",
            "Epoch 36/150\n",
            "25/25 [==============================] - 0s 3ms/step - loss: 0.5282 - accuracy: 0.7680 - val_loss: 0.5914 - val_accuracy: 0.6667\n",
            "Epoch 37/150\n",
            "25/25 [==============================] - 0s 3ms/step - loss: 0.5252 - accuracy: 0.7760 - val_loss: 0.5922 - val_accuracy: 0.6667\n",
            "Epoch 38/150\n",
            "25/25 [==============================] - 0s 3ms/step - loss: 0.5192 - accuracy: 0.7760 - val_loss: 0.6045 - val_accuracy: 0.6667\n",
            "Epoch 39/150\n",
            "25/25 [==============================] - 0s 3ms/step - loss: 0.5177 - accuracy: 0.8000 - val_loss: 0.6035 - val_accuracy: 0.6667\n",
            "Epoch 40/150\n",
            "25/25 [==============================] - 0s 4ms/step - loss: 0.5175 - accuracy: 0.7760 - val_loss: 0.6005 - val_accuracy: 0.6667\n",
            "Epoch 41/150\n",
            "25/25 [==============================] - 0s 3ms/step - loss: 0.5070 - accuracy: 0.7840 - val_loss: 0.6005 - val_accuracy: 0.6667\n",
            "Epoch 42/150\n",
            "25/25 [==============================] - 0s 3ms/step - loss: 0.5078 - accuracy: 0.7920 - val_loss: 0.6008 - val_accuracy: 0.6667\n",
            "Epoch 43/150\n",
            "25/25 [==============================] - 0s 3ms/step - loss: 0.5056 - accuracy: 0.7680 - val_loss: 0.6074 - val_accuracy: 0.6667\n",
            "Epoch 44/150\n",
            "25/25 [==============================] - 0s 2ms/step - loss: 0.5034 - accuracy: 0.8000 - val_loss: 0.6140 - val_accuracy: 0.6667\n",
            "Epoch 45/150\n",
            "25/25 [==============================] - 0s 3ms/step - loss: 0.5039 - accuracy: 0.7760 - val_loss: 0.6200 - val_accuracy: 0.6667\n",
            "Epoch 46/150\n",
            "25/25 [==============================] - 0s 3ms/step - loss: 0.4925 - accuracy: 0.7920 - val_loss: 0.6210 - val_accuracy: 0.6667\n",
            "Epoch 47/150\n",
            "25/25 [==============================] - 0s 2ms/step - loss: 0.4892 - accuracy: 0.7920 - val_loss: 0.6207 - val_accuracy: 0.6667\n",
            "Epoch 48/150\n",
            "25/25 [==============================] - 0s 2ms/step - loss: 0.4943 - accuracy: 0.7760 - val_loss: 0.6272 - val_accuracy: 0.6667\n",
            "Epoch 49/150\n",
            "25/25 [==============================] - 0s 3ms/step - loss: 0.4861 - accuracy: 0.7600 - val_loss: 0.6277 - val_accuracy: 0.6667\n",
            "Epoch 50/150\n",
            "25/25 [==============================] - 0s 3ms/step - loss: 0.4835 - accuracy: 0.7920 - val_loss: 0.6261 - val_accuracy: 0.6667\n",
            "Epoch 51/150\n",
            "25/25 [==============================] - 0s 3ms/step - loss: 0.4869 - accuracy: 0.7440 - val_loss: 0.6654 - val_accuracy: 0.6667\n",
            "Epoch 52/150\n",
            "25/25 [==============================] - 0s 4ms/step - loss: 0.4870 - accuracy: 0.7600 - val_loss: 0.6319 - val_accuracy: 0.6667\n",
            "Epoch 53/150\n",
            "25/25 [==============================] - 0s 3ms/step - loss: 0.4718 - accuracy: 0.8080 - val_loss: 0.6487 - val_accuracy: 0.6667\n",
            "Epoch 54/150\n",
            "25/25 [==============================] - 0s 3ms/step - loss: 0.4699 - accuracy: 0.8000 - val_loss: 0.6444 - val_accuracy: 0.6667\n",
            "Epoch 55/150\n",
            "25/25 [==============================] - 0s 3ms/step - loss: 0.4637 - accuracy: 0.7920 - val_loss: 0.6426 - val_accuracy: 0.6667\n",
            "Epoch 56/150\n",
            "25/25 [==============================] - 0s 3ms/step - loss: 0.4650 - accuracy: 0.8000 - val_loss: 0.6363 - val_accuracy: 0.6667\n",
            "Epoch 57/150\n",
            "25/25 [==============================] - 0s 3ms/step - loss: 0.4635 - accuracy: 0.7840 - val_loss: 0.6732 - val_accuracy: 0.6667\n",
            "Epoch 58/150\n",
            "25/25 [==============================] - 0s 4ms/step - loss: 0.4717 - accuracy: 0.7760 - val_loss: 0.6624 - val_accuracy: 0.6667\n",
            "Epoch 59/150\n",
            "25/25 [==============================] - 0s 3ms/step - loss: 0.4540 - accuracy: 0.7920 - val_loss: 0.6612 - val_accuracy: 0.6667\n",
            "Epoch 60/150\n",
            "25/25 [==============================] - 0s 3ms/step - loss: 0.4504 - accuracy: 0.7920 - val_loss: 0.6498 - val_accuracy: 0.6667\n",
            "Epoch 61/150\n",
            "25/25 [==============================] - 0s 3ms/step - loss: 0.4491 - accuracy: 0.7680 - val_loss: 0.6431 - val_accuracy: 0.6667\n",
            "Epoch 62/150\n",
            "25/25 [==============================] - 0s 3ms/step - loss: 0.4448 - accuracy: 0.8240 - val_loss: 0.6930 - val_accuracy: 0.6667\n",
            "Epoch 63/150\n",
            "25/25 [==============================] - 0s 3ms/step - loss: 0.4441 - accuracy: 0.7840 - val_loss: 0.6614 - val_accuracy: 0.6667\n",
            "Epoch 64/150\n",
            "25/25 [==============================] - 0s 3ms/step - loss: 0.4386 - accuracy: 0.8080 - val_loss: 0.6672 - val_accuracy: 0.6667\n",
            "Epoch 65/150\n",
            "25/25 [==============================] - 0s 4ms/step - loss: 0.4375 - accuracy: 0.8080 - val_loss: 0.6794 - val_accuracy: 0.6667\n",
            "Epoch 66/150\n",
            "25/25 [==============================] - 0s 3ms/step - loss: 0.4292 - accuracy: 0.8160 - val_loss: 0.6753 - val_accuracy: 0.6667\n",
            "Epoch 67/150\n",
            "25/25 [==============================] - 0s 3ms/step - loss: 0.4271 - accuracy: 0.8080 - val_loss: 0.6775 - val_accuracy: 0.6667\n",
            "Epoch 68/150\n",
            "25/25 [==============================] - 0s 3ms/step - loss: 0.4309 - accuracy: 0.8000 - val_loss: 0.6649 - val_accuracy: 0.6667\n",
            "Epoch 69/150\n",
            "25/25 [==============================] - 0s 3ms/step - loss: 0.4244 - accuracy: 0.8080 - val_loss: 0.6646 - val_accuracy: 0.6667\n",
            "Epoch 70/150\n",
            "25/25 [==============================] - 0s 3ms/step - loss: 0.4177 - accuracy: 0.8320 - val_loss: 0.6971 - val_accuracy: 0.6667\n",
            "Epoch 71/150\n",
            "25/25 [==============================] - 0s 3ms/step - loss: 0.4114 - accuracy: 0.8240 - val_loss: 0.6756 - val_accuracy: 0.6667\n",
            "Epoch 72/150\n",
            "25/25 [==============================] - 0s 3ms/step - loss: 0.4136 - accuracy: 0.8560 - val_loss: 0.7061 - val_accuracy: 0.6667\n",
            "Epoch 73/150\n",
            "25/25 [==============================] - 0s 3ms/step - loss: 0.4165 - accuracy: 0.8160 - val_loss: 0.6728 - val_accuracy: 0.6667\n",
            "Epoch 74/150\n",
            "25/25 [==============================] - 0s 3ms/step - loss: 0.4073 - accuracy: 0.8560 - val_loss: 0.6866 - val_accuracy: 0.6667\n",
            "Epoch 75/150\n",
            "25/25 [==============================] - 0s 3ms/step - loss: 0.4107 - accuracy: 0.8160 - val_loss: 0.6861 - val_accuracy: 0.6667\n",
            "Epoch 76/150\n",
            "25/25 [==============================] - 0s 4ms/step - loss: 0.3950 - accuracy: 0.8480 - val_loss: 0.7239 - val_accuracy: 0.6667\n",
            "Epoch 77/150\n",
            "25/25 [==============================] - 0s 3ms/step - loss: 0.3953 - accuracy: 0.8480 - val_loss: 0.6823 - val_accuracy: 0.6296\n",
            "Epoch 78/150\n",
            "25/25 [==============================] - 0s 3ms/step - loss: 0.3873 - accuracy: 0.8480 - val_loss: 0.7223 - val_accuracy: 0.6667\n",
            "Epoch 79/150\n",
            "25/25 [==============================] - 0s 4ms/step - loss: 0.3877 - accuracy: 0.8720 - val_loss: 0.7106 - val_accuracy: 0.6667\n",
            "Epoch 80/150\n",
            "25/25 [==============================] - 0s 3ms/step - loss: 0.3830 - accuracy: 0.8320 - val_loss: 0.7377 - val_accuracy: 0.6667\n",
            "Epoch 81/150\n",
            "25/25 [==============================] - 0s 3ms/step - loss: 0.3802 - accuracy: 0.8400 - val_loss: 0.7089 - val_accuracy: 0.6667\n",
            "Epoch 82/150\n",
            "25/25 [==============================] - 0s 3ms/step - loss: 0.3767 - accuracy: 0.8560 - val_loss: 0.7341 - val_accuracy: 0.6667\n",
            "Epoch 83/150\n",
            "25/25 [==============================] - 0s 3ms/step - loss: 0.3723 - accuracy: 0.8560 - val_loss: 0.7275 - val_accuracy: 0.6667\n",
            "Epoch 84/150\n",
            "25/25 [==============================] - 0s 3ms/step - loss: 0.3756 - accuracy: 0.8800 - val_loss: 0.7205 - val_accuracy: 0.6296\n",
            "Epoch 85/150\n",
            "25/25 [==============================] - 0s 4ms/step - loss: 0.3665 - accuracy: 0.8640 - val_loss: 0.7326 - val_accuracy: 0.6667\n",
            "Epoch 86/150\n",
            "25/25 [==============================] - 0s 3ms/step - loss: 0.3644 - accuracy: 0.8640 - val_loss: 0.7447 - val_accuracy: 0.6667\n",
            "Epoch 87/150\n",
            "25/25 [==============================] - 0s 3ms/step - loss: 0.3589 - accuracy: 0.8800 - val_loss: 0.7257 - val_accuracy: 0.6296\n",
            "Epoch 88/150\n",
            "25/25 [==============================] - 0s 3ms/step - loss: 0.3550 - accuracy: 0.8720 - val_loss: 0.7647 - val_accuracy: 0.6667\n",
            "Epoch 89/150\n",
            "25/25 [==============================] - 0s 4ms/step - loss: 0.3560 - accuracy: 0.8800 - val_loss: 0.7803 - val_accuracy: 0.6667\n",
            "Epoch 90/150\n",
            "25/25 [==============================] - 0s 3ms/step - loss: 0.3526 - accuracy: 0.8880 - val_loss: 0.7682 - val_accuracy: 0.6667\n",
            "Epoch 91/150\n",
            "25/25 [==============================] - 0s 3ms/step - loss: 0.3443 - accuracy: 0.9040 - val_loss: 0.7717 - val_accuracy: 0.6667\n",
            "Epoch 92/150\n",
            "25/25 [==============================] - 0s 2ms/step - loss: 0.3370 - accuracy: 0.8720 - val_loss: 0.7614 - val_accuracy: 0.6296\n",
            "Epoch 93/150\n",
            "25/25 [==============================] - 0s 3ms/step - loss: 0.3355 - accuracy: 0.8960 - val_loss: 0.7719 - val_accuracy: 0.6296\n",
            "Epoch 94/150\n",
            "25/25 [==============================] - 0s 3ms/step - loss: 0.3341 - accuracy: 0.8880 - val_loss: 0.7657 - val_accuracy: 0.6296\n",
            "Epoch 95/150\n",
            "25/25 [==============================] - 0s 3ms/step - loss: 0.3280 - accuracy: 0.8880 - val_loss: 0.7772 - val_accuracy: 0.6296\n",
            "Epoch 96/150\n",
            "25/25 [==============================] - 0s 3ms/step - loss: 0.3257 - accuracy: 0.8880 - val_loss: 0.7899 - val_accuracy: 0.6296\n",
            "Epoch 97/150\n",
            "25/25 [==============================] - 0s 3ms/step - loss: 0.3286 - accuracy: 0.9040 - val_loss: 0.7801 - val_accuracy: 0.6296\n",
            "Epoch 98/150\n",
            "25/25 [==============================] - 0s 3ms/step - loss: 0.3199 - accuracy: 0.8880 - val_loss: 0.7983 - val_accuracy: 0.6296\n",
            "Epoch 99/150\n",
            "25/25 [==============================] - 0s 3ms/step - loss: 0.3169 - accuracy: 0.8880 - val_loss: 0.7808 - val_accuracy: 0.6296\n",
            "Epoch 100/150\n",
            "25/25 [==============================] - 0s 3ms/step - loss: 0.3154 - accuracy: 0.8960 - val_loss: 0.8300 - val_accuracy: 0.6296\n",
            "Epoch 101/150\n",
            "25/25 [==============================] - 0s 3ms/step - loss: 0.3110 - accuracy: 0.8960 - val_loss: 0.8218 - val_accuracy: 0.6296\n",
            "Epoch 102/150\n",
            "25/25 [==============================] - 0s 3ms/step - loss: 0.3105 - accuracy: 0.8960 - val_loss: 0.8238 - val_accuracy: 0.6296\n",
            "Epoch 103/150\n",
            "25/25 [==============================] - 0s 3ms/step - loss: 0.3008 - accuracy: 0.8800 - val_loss: 0.8145 - val_accuracy: 0.6296\n",
            "Epoch 104/150\n",
            "25/25 [==============================] - 0s 3ms/step - loss: 0.3060 - accuracy: 0.9040 - val_loss: 0.8415 - val_accuracy: 0.6296\n",
            "Epoch 105/150\n",
            "25/25 [==============================] - 0s 3ms/step - loss: 0.2929 - accuracy: 0.9120 - val_loss: 0.8348 - val_accuracy: 0.6296\n",
            "Epoch 106/150\n",
            "25/25 [==============================] - 0s 3ms/step - loss: 0.3006 - accuracy: 0.8960 - val_loss: 0.8003 - val_accuracy: 0.5926\n",
            "Epoch 107/150\n",
            "25/25 [==============================] - 0s 3ms/step - loss: 0.2951 - accuracy: 0.8960 - val_loss: 0.8686 - val_accuracy: 0.6296\n",
            "Epoch 108/150\n",
            "25/25 [==============================] - 0s 2ms/step - loss: 0.2890 - accuracy: 0.9040 - val_loss: 0.8593 - val_accuracy: 0.6296\n",
            "Epoch 109/150\n",
            "25/25 [==============================] - 0s 3ms/step - loss: 0.2868 - accuracy: 0.9280 - val_loss: 0.8627 - val_accuracy: 0.6296\n",
            "Epoch 110/150\n",
            "25/25 [==============================] - 0s 3ms/step - loss: 0.2777 - accuracy: 0.9280 - val_loss: 0.8620 - val_accuracy: 0.6296\n",
            "Epoch 111/150\n",
            "25/25 [==============================] - 0s 3ms/step - loss: 0.2708 - accuracy: 0.9280 - val_loss: 0.8578 - val_accuracy: 0.6296\n",
            "Epoch 112/150\n",
            "25/25 [==============================] - 0s 3ms/step - loss: 0.2697 - accuracy: 0.9280 - val_loss: 0.8949 - val_accuracy: 0.6296\n",
            "Epoch 113/150\n",
            "25/25 [==============================] - 0s 3ms/step - loss: 0.2909 - accuracy: 0.8880 - val_loss: 0.8603 - val_accuracy: 0.6296\n",
            "Epoch 114/150\n",
            "25/25 [==============================] - 0s 4ms/step - loss: 0.2652 - accuracy: 0.9200 - val_loss: 0.8670 - val_accuracy: 0.6296\n",
            "Epoch 115/150\n",
            "25/25 [==============================] - 0s 3ms/step - loss: 0.2581 - accuracy: 0.9200 - val_loss: 0.8746 - val_accuracy: 0.6296\n",
            "Epoch 116/150\n",
            "25/25 [==============================] - 0s 2ms/step - loss: 0.2569 - accuracy: 0.9440 - val_loss: 0.9188 - val_accuracy: 0.6296\n",
            "Epoch 117/150\n",
            "25/25 [==============================] - 0s 3ms/step - loss: 0.2659 - accuracy: 0.9200 - val_loss: 0.8636 - val_accuracy: 0.5926\n",
            "Epoch 118/150\n",
            "25/25 [==============================] - 0s 3ms/step - loss: 0.2514 - accuracy: 0.9440 - val_loss: 0.8995 - val_accuracy: 0.6296\n",
            "Epoch 119/150\n",
            "25/25 [==============================] - 0s 3ms/step - loss: 0.2513 - accuracy: 0.9120 - val_loss: 0.8756 - val_accuracy: 0.5926\n",
            "Epoch 120/150\n",
            "25/25 [==============================] - 0s 3ms/step - loss: 0.2517 - accuracy: 0.9120 - val_loss: 0.9324 - val_accuracy: 0.6296\n",
            "Epoch 121/150\n",
            "25/25 [==============================] - 0s 4ms/step - loss: 0.2488 - accuracy: 0.9200 - val_loss: 0.9070 - val_accuracy: 0.6296\n",
            "Epoch 122/150\n",
            "25/25 [==============================] - 0s 3ms/step - loss: 0.2361 - accuracy: 0.9440 - val_loss: 0.9261 - val_accuracy: 0.6296\n",
            "Epoch 123/150\n",
            "25/25 [==============================] - 0s 3ms/step - loss: 0.2376 - accuracy: 0.9360 - val_loss: 0.9293 - val_accuracy: 0.6296\n",
            "Epoch 124/150\n",
            "25/25 [==============================] - 0s 3ms/step - loss: 0.2351 - accuracy: 0.9280 - val_loss: 0.9171 - val_accuracy: 0.6296\n",
            "Epoch 125/150\n",
            "25/25 [==============================] - 0s 3ms/step - loss: 0.2305 - accuracy: 0.9440 - val_loss: 0.9441 - val_accuracy: 0.6296\n",
            "Epoch 126/150\n",
            "25/25 [==============================] - 0s 3ms/step - loss: 0.2353 - accuracy: 0.9280 - val_loss: 0.9165 - val_accuracy: 0.5926\n",
            "Epoch 127/150\n",
            "25/25 [==============================] - 0s 3ms/step - loss: 0.2342 - accuracy: 0.9440 - val_loss: 0.9252 - val_accuracy: 0.5926\n",
            "Epoch 128/150\n",
            "25/25 [==============================] - 0s 3ms/step - loss: 0.2225 - accuracy: 0.9520 - val_loss: 0.9333 - val_accuracy: 0.5926\n",
            "Epoch 129/150\n",
            "25/25 [==============================] - 0s 3ms/step - loss: 0.2280 - accuracy: 0.9360 - val_loss: 0.9669 - val_accuracy: 0.6296\n",
            "Epoch 130/150\n",
            "25/25 [==============================] - 0s 3ms/step - loss: 0.2157 - accuracy: 0.9520 - val_loss: 0.9600 - val_accuracy: 0.6296\n",
            "Epoch 131/150\n",
            "25/25 [==============================] - 0s 3ms/step - loss: 0.2101 - accuracy: 0.9360 - val_loss: 0.9493 - val_accuracy: 0.6296\n",
            "Epoch 132/150\n",
            "25/25 [==============================] - 0s 3ms/step - loss: 0.2081 - accuracy: 0.9440 - val_loss: 1.0076 - val_accuracy: 0.6296\n",
            "Epoch 133/150\n",
            "25/25 [==============================] - 0s 3ms/step - loss: 0.2045 - accuracy: 0.9360 - val_loss: 0.9836 - val_accuracy: 0.6296\n",
            "Epoch 134/150\n",
            "25/25 [==============================] - 0s 3ms/step - loss: 0.2013 - accuracy: 0.9520 - val_loss: 1.0035 - val_accuracy: 0.6296\n",
            "Epoch 135/150\n",
            "25/25 [==============================] - 0s 3ms/step - loss: 0.2011 - accuracy: 0.9440 - val_loss: 0.9692 - val_accuracy: 0.5926\n",
            "Epoch 136/150\n",
            "25/25 [==============================] - 0s 3ms/step - loss: 0.2048 - accuracy: 0.9520 - val_loss: 0.9835 - val_accuracy: 0.6296\n",
            "Epoch 137/150\n",
            "25/25 [==============================] - 0s 3ms/step - loss: 0.1995 - accuracy: 0.9600 - val_loss: 1.0038 - val_accuracy: 0.6296\n",
            "Epoch 138/150\n",
            "25/25 [==============================] - 0s 3ms/step - loss: 0.1933 - accuracy: 0.9520 - val_loss: 1.0172 - val_accuracy: 0.6296\n",
            "Epoch 139/150\n",
            "25/25 [==============================] - 0s 3ms/step - loss: 0.1876 - accuracy: 0.9600 - val_loss: 1.0361 - val_accuracy: 0.6296\n",
            "Epoch 140/150\n",
            "25/25 [==============================] - 0s 3ms/step - loss: 0.1856 - accuracy: 0.9600 - val_loss: 1.0277 - val_accuracy: 0.6296\n",
            "Epoch 141/150\n",
            "25/25 [==============================] - 0s 3ms/step - loss: 0.1825 - accuracy: 0.9520 - val_loss: 1.0635 - val_accuracy: 0.6296\n",
            "Epoch 142/150\n",
            "25/25 [==============================] - 0s 3ms/step - loss: 0.1837 - accuracy: 0.9600 - val_loss: 1.0605 - val_accuracy: 0.6296\n",
            "Epoch 143/150\n",
            "25/25 [==============================] - 0s 3ms/step - loss: 0.1801 - accuracy: 0.9520 - val_loss: 1.0665 - val_accuracy: 0.6296\n",
            "Epoch 144/150\n",
            "25/25 [==============================] - 0s 3ms/step - loss: 0.1754 - accuracy: 0.9600 - val_loss: 1.0562 - val_accuracy: 0.6296\n",
            "Epoch 145/150\n",
            "25/25 [==============================] - 0s 3ms/step - loss: 0.1760 - accuracy: 0.9600 - val_loss: 1.0708 - val_accuracy: 0.6296\n",
            "Epoch 146/150\n",
            "25/25 [==============================] - 0s 3ms/step - loss: 0.1736 - accuracy: 0.9600 - val_loss: 1.0716 - val_accuracy: 0.6296\n",
            "Epoch 147/150\n",
            "25/25 [==============================] - 0s 3ms/step - loss: 0.1666 - accuracy: 0.9600 - val_loss: 1.0803 - val_accuracy: 0.6296\n",
            "Epoch 148/150\n",
            "25/25 [==============================] - 0s 3ms/step - loss: 0.1718 - accuracy: 0.9520 - val_loss: 1.0946 - val_accuracy: 0.6296\n",
            "Epoch 149/150\n",
            "25/25 [==============================] - 0s 3ms/step - loss: 0.1653 - accuracy: 0.9680 - val_loss: 1.0867 - val_accuracy: 0.5926\n",
            "Epoch 150/150\n",
            "25/25 [==============================] - 0s 3ms/step - loss: 0.1658 - accuracy: 0.9680 - val_loss: 1.0998 - val_accuracy: 0.6296\n"
          ]
        }
      ]
    },
    {
      "cell_type": "code",
      "source": [
        "model.evaluate(X_test, y_test)"
      ],
      "metadata": {
        "id": "0QMLEXq_q-aZ",
        "outputId": "0b32cefc-676c-417d-b15f-689f372451e0",
        "colab": {
          "base_uri": "https://localhost:8080/"
        }
      },
      "execution_count": 104,
      "outputs": [
        {
          "output_type": "stream",
          "name": "stdout",
          "text": [
            "1/1 [==============================] - 0s 17ms/step - loss: 49.3463 - accuracy: 0.4783\n"
          ]
        },
        {
          "output_type": "execute_result",
          "data": {
            "text/plain": [
              "[49.346343994140625, 0.47826087474823]"
            ]
          },
          "metadata": {},
          "execution_count": 104
        }
      ]
    },
    {
      "cell_type": "code",
      "source": [
        "tf.random.set_seed(42)\n",
        "\n",
        "model = tf.keras.Sequential([\n",
        "    tf.keras.layers.Dense(19, activation='relu'),\n",
        "    tf.keras.layers.Dense(14, activation='relu'),\n",
        "    tf.keras.layers.Dense(14, activation='relu'),\n",
        "\n",
        "    # tf.keras.layers.Dense(20, activation='relu'),\n",
        "    # tf.keras.layers.Dense(10, activation='relu'),\n",
        "\n",
        "    # tf.keras.layers.Dense(256, activation='relu'),\n",
        "    tf.keras.layers.Dense(1, activation='sigmoid')\n",
        "])\n",
        "\n",
        "model.compile(\n",
        "    loss=tf.keras.losses.binary_crossentropy,\n",
        "    optimizer=tf.keras.optimizers.Adam(0.001),\n",
        "    metrics=[\"accuracy\"]\n",
        ")\n",
        "\n",
        "\n",
        "history = model.fit(X_train_scaled, \n",
        "                    y_train, \n",
        "                    epochs=150,\n",
        "                    batch_size=5,\n",
        "                    validation_data = (X_valid_scaled, y_valid),\n",
        "                    callbacks=[model_checkpoint])"
      ],
      "metadata": {
        "id": "HOLGhvTfe0t1",
        "outputId": "ea62e3c2-f3f1-4f50-84da-87ece19e4d78",
        "colab": {
          "base_uri": "https://localhost:8080/"
        }
      },
      "execution_count": 105,
      "outputs": [
        {
          "output_type": "stream",
          "name": "stdout",
          "text": [
            "Epoch 1/150\n",
            "25/25 [==============================] - 1s 9ms/step - loss: 0.6872 - accuracy: 0.5840 - val_loss: 0.6822 - val_accuracy: 0.5926\n",
            "Epoch 2/150\n",
            "25/25 [==============================] - 0s 3ms/step - loss: 0.6738 - accuracy: 0.5840 - val_loss: 0.6735 - val_accuracy: 0.5926\n",
            "Epoch 3/150\n",
            "25/25 [==============================] - 0s 3ms/step - loss: 0.6668 - accuracy: 0.5840 - val_loss: 0.6701 - val_accuracy: 0.5926\n",
            "Epoch 4/150\n",
            "25/25 [==============================] - 0s 3ms/step - loss: 0.6621 - accuracy: 0.5840 - val_loss: 0.6676 - val_accuracy: 0.5926\n",
            "Epoch 5/150\n",
            "25/25 [==============================] - 0s 3ms/step - loss: 0.6572 - accuracy: 0.5840 - val_loss: 0.6638 - val_accuracy: 0.5926\n",
            "Epoch 6/150\n",
            "25/25 [==============================] - 0s 3ms/step - loss: 0.6550 - accuracy: 0.5920 - val_loss: 0.6602 - val_accuracy: 0.5926\n",
            "Epoch 7/150\n",
            "25/25 [==============================] - 0s 3ms/step - loss: 0.6524 - accuracy: 0.5840 - val_loss: 0.6581 - val_accuracy: 0.5926\n",
            "Epoch 8/150\n",
            "25/25 [==============================] - 0s 3ms/step - loss: 0.6451 - accuracy: 0.5920 - val_loss: 0.6532 - val_accuracy: 0.5926\n",
            "Epoch 9/150\n",
            "25/25 [==============================] - 0s 3ms/step - loss: 0.6373 - accuracy: 0.5920 - val_loss: 0.6511 - val_accuracy: 0.5926\n",
            "Epoch 10/150\n",
            "25/25 [==============================] - 0s 3ms/step - loss: 0.6313 - accuracy: 0.6000 - val_loss: 0.6479 - val_accuracy: 0.5926\n",
            "Epoch 11/150\n",
            "25/25 [==============================] - 0s 3ms/step - loss: 0.6265 - accuracy: 0.6240 - val_loss: 0.6452 - val_accuracy: 0.5926\n",
            "Epoch 12/150\n",
            "25/25 [==============================] - 0s 3ms/step - loss: 0.6187 - accuracy: 0.6400 - val_loss: 0.6401 - val_accuracy: 0.5926\n",
            "Epoch 13/150\n",
            "25/25 [==============================] - 0s 3ms/step - loss: 0.6137 - accuracy: 0.6400 - val_loss: 0.6391 - val_accuracy: 0.5926\n",
            "Epoch 14/150\n",
            "25/25 [==============================] - 0s 3ms/step - loss: 0.6055 - accuracy: 0.6880 - val_loss: 0.6338 - val_accuracy: 0.6667\n",
            "Epoch 15/150\n",
            "25/25 [==============================] - 0s 3ms/step - loss: 0.6062 - accuracy: 0.7040 - val_loss: 0.6296 - val_accuracy: 0.6296\n",
            "Epoch 16/150\n",
            "25/25 [==============================] - 0s 3ms/step - loss: 0.5936 - accuracy: 0.7280 - val_loss: 0.6263 - val_accuracy: 0.6296\n",
            "Epoch 17/150\n",
            "25/25 [==============================] - 0s 3ms/step - loss: 0.5872 - accuracy: 0.7360 - val_loss: 0.6198 - val_accuracy: 0.6296\n",
            "Epoch 18/150\n",
            "25/25 [==============================] - 0s 3ms/step - loss: 0.5697 - accuracy: 0.7520 - val_loss: 0.6159 - val_accuracy: 0.6296\n",
            "Epoch 19/150\n",
            "25/25 [==============================] - 0s 3ms/step - loss: 0.5623 - accuracy: 0.7600 - val_loss: 0.6071 - val_accuracy: 0.6667\n",
            "Epoch 20/150\n",
            "25/25 [==============================] - 0s 3ms/step - loss: 0.5483 - accuracy: 0.7440 - val_loss: 0.6151 - val_accuracy: 0.6667\n",
            "Epoch 21/150\n",
            "25/25 [==============================] - 0s 3ms/step - loss: 0.5361 - accuracy: 0.7600 - val_loss: 0.6079 - val_accuracy: 0.6667\n",
            "Epoch 22/150\n",
            "25/25 [==============================] - 0s 3ms/step - loss: 0.5182 - accuracy: 0.7920 - val_loss: 0.6154 - val_accuracy: 0.7037\n",
            "Epoch 23/150\n",
            "25/25 [==============================] - 0s 4ms/step - loss: 0.5016 - accuracy: 0.7840 - val_loss: 0.6177 - val_accuracy: 0.7407\n",
            "Epoch 24/150\n",
            "25/25 [==============================] - 0s 4ms/step - loss: 0.4940 - accuracy: 0.7840 - val_loss: 0.6298 - val_accuracy: 0.7037\n",
            "Epoch 25/150\n",
            "25/25 [==============================] - 0s 3ms/step - loss: 0.4846 - accuracy: 0.7520 - val_loss: 0.6209 - val_accuracy: 0.6667\n",
            "Epoch 26/150\n",
            "25/25 [==============================] - 0s 3ms/step - loss: 0.4702 - accuracy: 0.8000 - val_loss: 0.6310 - val_accuracy: 0.7037\n",
            "Epoch 27/150\n",
            "25/25 [==============================] - 0s 3ms/step - loss: 0.4538 - accuracy: 0.7840 - val_loss: 0.6341 - val_accuracy: 0.6667\n",
            "Epoch 28/150\n",
            "25/25 [==============================] - 0s 3ms/step - loss: 0.4436 - accuracy: 0.7920 - val_loss: 0.6480 - val_accuracy: 0.6667\n",
            "Epoch 29/150\n",
            "25/25 [==============================] - 0s 3ms/step - loss: 0.4308 - accuracy: 0.7920 - val_loss: 0.6616 - val_accuracy: 0.6667\n",
            "Epoch 30/150\n",
            "25/25 [==============================] - 0s 3ms/step - loss: 0.4171 - accuracy: 0.8160 - val_loss: 0.6742 - val_accuracy: 0.6667\n",
            "Epoch 31/150\n",
            "25/25 [==============================] - 0s 3ms/step - loss: 0.4038 - accuracy: 0.8400 - val_loss: 0.6833 - val_accuracy: 0.6667\n",
            "Epoch 32/150\n",
            "25/25 [==============================] - 0s 3ms/step - loss: 0.4018 - accuracy: 0.8160 - val_loss: 0.7264 - val_accuracy: 0.7037\n",
            "Epoch 33/150\n",
            "25/25 [==============================] - 0s 3ms/step - loss: 0.3899 - accuracy: 0.8080 - val_loss: 0.7117 - val_accuracy: 0.6296\n",
            "Epoch 34/150\n",
            "25/25 [==============================] - 0s 3ms/step - loss: 0.3624 - accuracy: 0.8400 - val_loss: 0.7284 - val_accuracy: 0.7037\n",
            "Epoch 35/150\n",
            "25/25 [==============================] - 0s 3ms/step - loss: 0.3511 - accuracy: 0.8560 - val_loss: 0.7277 - val_accuracy: 0.6296\n",
            "Epoch 36/150\n",
            "25/25 [==============================] - 0s 3ms/step - loss: 0.3413 - accuracy: 0.8560 - val_loss: 0.7535 - val_accuracy: 0.6296\n",
            "Epoch 37/150\n",
            "25/25 [==============================] - 0s 3ms/step - loss: 0.3300 - accuracy: 0.8800 - val_loss: 0.7754 - val_accuracy: 0.6296\n",
            "Epoch 38/150\n",
            "25/25 [==============================] - 0s 3ms/step - loss: 0.3171 - accuracy: 0.8560 - val_loss: 0.8005 - val_accuracy: 0.6296\n",
            "Epoch 39/150\n",
            "25/25 [==============================] - 0s 3ms/step - loss: 0.3039 - accuracy: 0.8800 - val_loss: 0.8114 - val_accuracy: 0.6667\n",
            "Epoch 40/150\n",
            "25/25 [==============================] - 0s 3ms/step - loss: 0.3089 - accuracy: 0.8880 - val_loss: 0.8282 - val_accuracy: 0.6296\n",
            "Epoch 41/150\n",
            "25/25 [==============================] - 0s 3ms/step - loss: 0.2765 - accuracy: 0.8960 - val_loss: 0.8437 - val_accuracy: 0.6296\n",
            "Epoch 42/150\n",
            "25/25 [==============================] - 0s 3ms/step - loss: 0.2727 - accuracy: 0.8960 - val_loss: 0.8445 - val_accuracy: 0.6667\n",
            "Epoch 43/150\n",
            "25/25 [==============================] - 0s 3ms/step - loss: 0.2658 - accuracy: 0.8880 - val_loss: 0.8844 - val_accuracy: 0.6296\n",
            "Epoch 44/150\n",
            "25/25 [==============================] - 0s 3ms/step - loss: 0.2512 - accuracy: 0.9040 - val_loss: 0.8809 - val_accuracy: 0.6296\n",
            "Epoch 45/150\n",
            "25/25 [==============================] - 0s 3ms/step - loss: 0.2596 - accuracy: 0.9040 - val_loss: 0.9214 - val_accuracy: 0.6296\n",
            "Epoch 46/150\n",
            "25/25 [==============================] - 0s 3ms/step - loss: 0.2402 - accuracy: 0.8960 - val_loss: 0.9219 - val_accuracy: 0.6667\n",
            "Epoch 47/150\n",
            "25/25 [==============================] - 0s 3ms/step - loss: 0.2233 - accuracy: 0.9200 - val_loss: 0.9372 - val_accuracy: 0.6667\n",
            "Epoch 48/150\n",
            "25/25 [==============================] - 0s 3ms/step - loss: 0.2230 - accuracy: 0.9200 - val_loss: 0.9572 - val_accuracy: 0.6667\n",
            "Epoch 49/150\n",
            "25/25 [==============================] - 0s 3ms/step - loss: 0.2208 - accuracy: 0.9200 - val_loss: 0.9998 - val_accuracy: 0.6296\n",
            "Epoch 50/150\n",
            "25/25 [==============================] - 0s 3ms/step - loss: 0.2099 - accuracy: 0.9360 - val_loss: 1.0104 - val_accuracy: 0.6667\n",
            "Epoch 51/150\n",
            "25/25 [==============================] - 0s 3ms/step - loss: 0.2221 - accuracy: 0.9280 - val_loss: 1.0441 - val_accuracy: 0.6296\n",
            "Epoch 52/150\n",
            "25/25 [==============================] - 0s 3ms/step - loss: 0.1977 - accuracy: 0.9200 - val_loss: 1.0314 - val_accuracy: 0.6296\n",
            "Epoch 53/150\n",
            "25/25 [==============================] - 0s 3ms/step - loss: 0.1870 - accuracy: 0.9440 - val_loss: 1.0517 - val_accuracy: 0.6667\n",
            "Epoch 54/150\n",
            "25/25 [==============================] - 0s 3ms/step - loss: 0.1782 - accuracy: 0.9360 - val_loss: 1.0856 - val_accuracy: 0.6667\n",
            "Epoch 55/150\n",
            "25/25 [==============================] - 0s 3ms/step - loss: 0.1750 - accuracy: 0.9520 - val_loss: 1.0830 - val_accuracy: 0.6296\n",
            "Epoch 56/150\n",
            "25/25 [==============================] - 0s 3ms/step - loss: 0.1652 - accuracy: 0.9440 - val_loss: 1.1168 - val_accuracy: 0.6667\n",
            "Epoch 57/150\n",
            "25/25 [==============================] - 0s 3ms/step - loss: 0.1548 - accuracy: 0.9520 - val_loss: 1.1293 - val_accuracy: 0.6667\n",
            "Epoch 58/150\n",
            "25/25 [==============================] - 0s 3ms/step - loss: 0.1647 - accuracy: 0.9280 - val_loss: 1.1831 - val_accuracy: 0.6296\n",
            "Epoch 59/150\n",
            "25/25 [==============================] - 0s 3ms/step - loss: 0.1567 - accuracy: 0.9440 - val_loss: 1.1718 - val_accuracy: 0.6667\n",
            "Epoch 60/150\n",
            "25/25 [==============================] - 0s 4ms/step - loss: 0.1526 - accuracy: 0.9600 - val_loss: 1.1790 - val_accuracy: 0.6296\n",
            "Epoch 61/150\n",
            "25/25 [==============================] - 0s 3ms/step - loss: 0.1529 - accuracy: 0.9280 - val_loss: 1.2114 - val_accuracy: 0.6667\n",
            "Epoch 62/150\n",
            "25/25 [==============================] - 0s 3ms/step - loss: 0.1342 - accuracy: 0.9680 - val_loss: 1.2737 - val_accuracy: 0.6296\n",
            "Epoch 63/150\n",
            "25/25 [==============================] - 0s 3ms/step - loss: 0.1366 - accuracy: 0.9520 - val_loss: 1.2472 - val_accuracy: 0.6667\n",
            "Epoch 64/150\n",
            "25/25 [==============================] - 0s 3ms/step - loss: 0.1247 - accuracy: 0.9760 - val_loss: 1.2715 - val_accuracy: 0.6667\n",
            "Epoch 65/150\n",
            "25/25 [==============================] - 0s 3ms/step - loss: 0.1234 - accuracy: 0.9760 - val_loss: 1.3484 - val_accuracy: 0.7037\n",
            "Epoch 66/150\n",
            "25/25 [==============================] - 0s 3ms/step - loss: 0.1153 - accuracy: 0.9760 - val_loss: 1.3720 - val_accuracy: 0.6667\n",
            "Epoch 67/150\n",
            "25/25 [==============================] - 0s 3ms/step - loss: 0.1114 - accuracy: 0.9760 - val_loss: 1.3750 - val_accuracy: 0.6667\n",
            "Epoch 68/150\n",
            "25/25 [==============================] - 0s 3ms/step - loss: 0.1083 - accuracy: 0.9760 - val_loss: 1.3669 - val_accuracy: 0.6296\n",
            "Epoch 69/150\n",
            "25/25 [==============================] - 0s 3ms/step - loss: 0.1031 - accuracy: 0.9840 - val_loss: 1.4174 - val_accuracy: 0.6667\n",
            "Epoch 70/150\n",
            "25/25 [==============================] - 0s 3ms/step - loss: 0.0996 - accuracy: 0.9760 - val_loss: 1.4047 - val_accuracy: 0.6667\n",
            "Epoch 71/150\n",
            "25/25 [==============================] - 0s 3ms/step - loss: 0.0980 - accuracy: 0.9760 - val_loss: 1.4553 - val_accuracy: 0.6667\n",
            "Epoch 72/150\n",
            "25/25 [==============================] - 0s 3ms/step - loss: 0.0877 - accuracy: 0.9840 - val_loss: 1.5113 - val_accuracy: 0.6667\n",
            "Epoch 73/150\n",
            "25/25 [==============================] - 0s 3ms/step - loss: 0.0908 - accuracy: 0.9840 - val_loss: 1.4711 - val_accuracy: 0.6296\n",
            "Epoch 74/150\n",
            "25/25 [==============================] - 0s 3ms/step - loss: 0.0893 - accuracy: 0.9840 - val_loss: 1.4794 - val_accuracy: 0.6296\n",
            "Epoch 75/150\n",
            "25/25 [==============================] - 0s 3ms/step - loss: 0.0884 - accuracy: 0.9760 - val_loss: 1.5211 - val_accuracy: 0.6296\n",
            "Epoch 76/150\n",
            "25/25 [==============================] - 0s 3ms/step - loss: 0.0769 - accuracy: 0.9840 - val_loss: 1.5723 - val_accuracy: 0.6296\n",
            "Epoch 77/150\n",
            "25/25 [==============================] - 0s 3ms/step - loss: 0.0722 - accuracy: 0.9920 - val_loss: 1.6019 - val_accuracy: 0.6667\n",
            "Epoch 78/150\n",
            "25/25 [==============================] - 0s 3ms/step - loss: 0.0703 - accuracy: 0.9920 - val_loss: 1.6105 - val_accuracy: 0.6296\n",
            "Epoch 79/150\n",
            "25/25 [==============================] - 0s 3ms/step - loss: 0.0706 - accuracy: 0.9920 - val_loss: 1.6592 - val_accuracy: 0.6667\n",
            "Epoch 80/150\n",
            "25/25 [==============================] - 0s 3ms/step - loss: 0.0762 - accuracy: 0.9840 - val_loss: 1.6511 - val_accuracy: 0.6667\n",
            "Epoch 81/150\n",
            "25/25 [==============================] - 0s 3ms/step - loss: 0.0639 - accuracy: 0.9920 - val_loss: 1.6640 - val_accuracy: 0.6296\n",
            "Epoch 82/150\n",
            "25/25 [==============================] - 0s 3ms/step - loss: 0.0611 - accuracy: 0.9920 - val_loss: 1.6802 - val_accuracy: 0.6296\n",
            "Epoch 83/150\n",
            "25/25 [==============================] - 0s 3ms/step - loss: 0.0600 - accuracy: 0.9840 - val_loss: 1.7447 - val_accuracy: 0.6296\n",
            "Epoch 84/150\n",
            "25/25 [==============================] - 0s 3ms/step - loss: 0.0625 - accuracy: 0.9920 - val_loss: 1.7370 - val_accuracy: 0.6296\n",
            "Epoch 85/150\n",
            "25/25 [==============================] - 0s 3ms/step - loss: 0.0621 - accuracy: 0.9760 - val_loss: 1.7221 - val_accuracy: 0.6296\n",
            "Epoch 86/150\n",
            "25/25 [==============================] - 0s 3ms/step - loss: 0.0588 - accuracy: 0.9920 - val_loss: 1.8113 - val_accuracy: 0.6296\n",
            "Epoch 87/150\n",
            "25/25 [==============================] - 0s 3ms/step - loss: 0.0496 - accuracy: 0.9920 - val_loss: 1.8019 - val_accuracy: 0.6296\n",
            "Epoch 88/150\n",
            "25/25 [==============================] - 0s 3ms/step - loss: 0.0492 - accuracy: 0.9920 - val_loss: 1.8468 - val_accuracy: 0.6296\n",
            "Epoch 89/150\n",
            "25/25 [==============================] - 0s 3ms/step - loss: 0.0435 - accuracy: 0.9920 - val_loss: 1.8551 - val_accuracy: 0.6296\n",
            "Epoch 90/150\n",
            "25/25 [==============================] - 0s 3ms/step - loss: 0.0420 - accuracy: 0.9920 - val_loss: 1.8945 - val_accuracy: 0.6296\n",
            "Epoch 91/150\n",
            "25/25 [==============================] - 0s 3ms/step - loss: 0.0400 - accuracy: 1.0000 - val_loss: 1.8953 - val_accuracy: 0.6296\n",
            "Epoch 92/150\n",
            "25/25 [==============================] - 0s 3ms/step - loss: 0.0379 - accuracy: 0.9920 - val_loss: 1.9215 - val_accuracy: 0.6296\n",
            "Epoch 93/150\n",
            "25/25 [==============================] - 0s 3ms/step - loss: 0.0370 - accuracy: 1.0000 - val_loss: 1.9460 - val_accuracy: 0.6296\n",
            "Epoch 94/150\n",
            "25/25 [==============================] - 0s 3ms/step - loss: 0.0376 - accuracy: 0.9920 - val_loss: 1.9396 - val_accuracy: 0.6296\n",
            "Epoch 95/150\n",
            "25/25 [==============================] - 0s 3ms/step - loss: 0.0344 - accuracy: 1.0000 - val_loss: 1.9809 - val_accuracy: 0.6296\n",
            "Epoch 96/150\n",
            "25/25 [==============================] - 0s 3ms/step - loss: 0.0356 - accuracy: 0.9920 - val_loss: 1.9994 - val_accuracy: 0.6296\n",
            "Epoch 97/150\n",
            "25/25 [==============================] - 0s 3ms/step - loss: 0.0360 - accuracy: 0.9920 - val_loss: 2.0158 - val_accuracy: 0.6296\n",
            "Epoch 98/150\n",
            "25/25 [==============================] - 0s 3ms/step - loss: 0.0331 - accuracy: 1.0000 - val_loss: 2.0426 - val_accuracy: 0.6296\n",
            "Epoch 99/150\n",
            "25/25 [==============================] - 0s 3ms/step - loss: 0.0295 - accuracy: 1.0000 - val_loss: 2.0425 - val_accuracy: 0.6296\n",
            "Epoch 100/150\n",
            "25/25 [==============================] - 0s 3ms/step - loss: 0.0298 - accuracy: 1.0000 - val_loss: 2.0760 - val_accuracy: 0.6296\n",
            "Epoch 101/150\n",
            "25/25 [==============================] - 0s 3ms/step - loss: 0.0253 - accuracy: 1.0000 - val_loss: 2.1376 - val_accuracy: 0.6296\n",
            "Epoch 102/150\n",
            "25/25 [==============================] - 0s 3ms/step - loss: 0.0266 - accuracy: 1.0000 - val_loss: 2.1232 - val_accuracy: 0.6296\n",
            "Epoch 103/150\n",
            "25/25 [==============================] - 0s 3ms/step - loss: 0.0250 - accuracy: 1.0000 - val_loss: 2.1433 - val_accuracy: 0.6296\n",
            "Epoch 104/150\n",
            "25/25 [==============================] - 0s 3ms/step - loss: 0.0232 - accuracy: 1.0000 - val_loss: 2.1697 - val_accuracy: 0.6296\n",
            "Epoch 105/150\n",
            "25/25 [==============================] - 0s 3ms/step - loss: 0.0223 - accuracy: 1.0000 - val_loss: 2.2002 - val_accuracy: 0.6296\n",
            "Epoch 106/150\n",
            "25/25 [==============================] - 0s 3ms/step - loss: 0.0242 - accuracy: 1.0000 - val_loss: 2.1865 - val_accuracy: 0.5926\n",
            "Epoch 107/150\n",
            "25/25 [==============================] - 0s 3ms/step - loss: 0.0211 - accuracy: 1.0000 - val_loss: 2.2429 - val_accuracy: 0.6296\n",
            "Epoch 108/150\n",
            "25/25 [==============================] - 0s 3ms/step - loss: 0.0206 - accuracy: 1.0000 - val_loss: 2.2421 - val_accuracy: 0.6296\n",
            "Epoch 109/150\n",
            "25/25 [==============================] - 0s 3ms/step - loss: 0.0189 - accuracy: 1.0000 - val_loss: 2.2731 - val_accuracy: 0.6296\n",
            "Epoch 110/150\n",
            "25/25 [==============================] - 0s 4ms/step - loss: 0.0187 - accuracy: 1.0000 - val_loss: 2.3065 - val_accuracy: 0.6296\n",
            "Epoch 111/150\n",
            "25/25 [==============================] - 0s 3ms/step - loss: 0.0187 - accuracy: 1.0000 - val_loss: 2.3205 - val_accuracy: 0.6296\n",
            "Epoch 112/150\n",
            "25/25 [==============================] - 0s 3ms/step - loss: 0.0168 - accuracy: 1.0000 - val_loss: 2.3441 - val_accuracy: 0.6296\n",
            "Epoch 113/150\n",
            "25/25 [==============================] - 0s 3ms/step - loss: 0.0163 - accuracy: 1.0000 - val_loss: 2.3657 - val_accuracy: 0.6296\n",
            "Epoch 114/150\n",
            "25/25 [==============================] - 0s 3ms/step - loss: 0.0151 - accuracy: 1.0000 - val_loss: 2.3979 - val_accuracy: 0.6296\n",
            "Epoch 115/150\n",
            "25/25 [==============================] - 0s 3ms/step - loss: 0.0165 - accuracy: 1.0000 - val_loss: 2.3980 - val_accuracy: 0.6296\n",
            "Epoch 116/150\n",
            "25/25 [==============================] - 0s 3ms/step - loss: 0.0147 - accuracy: 1.0000 - val_loss: 2.4180 - val_accuracy: 0.6296\n",
            "Epoch 117/150\n",
            "25/25 [==============================] - 0s 3ms/step - loss: 0.0138 - accuracy: 1.0000 - val_loss: 2.4377 - val_accuracy: 0.6296\n",
            "Epoch 118/150\n",
            "25/25 [==============================] - 0s 3ms/step - loss: 0.0137 - accuracy: 1.0000 - val_loss: 2.4606 - val_accuracy: 0.6296\n",
            "Epoch 119/150\n",
            "25/25 [==============================] - 0s 3ms/step - loss: 0.0128 - accuracy: 1.0000 - val_loss: 2.4826 - val_accuracy: 0.6296\n",
            "Epoch 120/150\n",
            "25/25 [==============================] - 0s 3ms/step - loss: 0.0127 - accuracy: 1.0000 - val_loss: 2.5014 - val_accuracy: 0.6296\n",
            "Epoch 121/150\n",
            "25/25 [==============================] - 0s 3ms/step - loss: 0.0119 - accuracy: 1.0000 - val_loss: 2.5159 - val_accuracy: 0.6296\n",
            "Epoch 122/150\n",
            "25/25 [==============================] - 0s 4ms/step - loss: 0.0113 - accuracy: 1.0000 - val_loss: 2.5442 - val_accuracy: 0.6296\n",
            "Epoch 123/150\n",
            "25/25 [==============================] - 0s 3ms/step - loss: 0.0114 - accuracy: 1.0000 - val_loss: 2.5477 - val_accuracy: 0.6296\n",
            "Epoch 124/150\n",
            "25/25 [==============================] - 0s 3ms/step - loss: 0.0109 - accuracy: 1.0000 - val_loss: 2.5665 - val_accuracy: 0.6296\n",
            "Epoch 125/150\n",
            "25/25 [==============================] - 0s 3ms/step - loss: 0.0104 - accuracy: 1.0000 - val_loss: 2.5923 - val_accuracy: 0.6296\n",
            "Epoch 126/150\n",
            "25/25 [==============================] - 0s 3ms/step - loss: 0.0105 - accuracy: 1.0000 - val_loss: 2.6068 - val_accuracy: 0.5556\n",
            "Epoch 127/150\n",
            "25/25 [==============================] - 0s 3ms/step - loss: 0.0103 - accuracy: 1.0000 - val_loss: 2.6141 - val_accuracy: 0.6296\n",
            "Epoch 128/150\n",
            "25/25 [==============================] - 0s 3ms/step - loss: 0.0094 - accuracy: 1.0000 - val_loss: 2.6158 - val_accuracy: 0.6296\n",
            "Epoch 129/150\n",
            "25/25 [==============================] - 0s 3ms/step - loss: 0.0094 - accuracy: 1.0000 - val_loss: 2.6434 - val_accuracy: 0.6296\n",
            "Epoch 130/150\n",
            "25/25 [==============================] - 0s 3ms/step - loss: 0.0096 - accuracy: 1.0000 - val_loss: 2.6545 - val_accuracy: 0.6296\n",
            "Epoch 131/150\n",
            "25/25 [==============================] - 0s 3ms/step - loss: 0.0088 - accuracy: 1.0000 - val_loss: 2.6699 - val_accuracy: 0.6296\n",
            "Epoch 132/150\n",
            "25/25 [==============================] - 0s 3ms/step - loss: 0.0091 - accuracy: 1.0000 - val_loss: 2.7229 - val_accuracy: 0.6667\n",
            "Epoch 133/150\n",
            "25/25 [==============================] - 0s 3ms/step - loss: 0.0079 - accuracy: 1.0000 - val_loss: 2.7359 - val_accuracy: 0.6296\n",
            "Epoch 134/150\n",
            "25/25 [==============================] - 0s 4ms/step - loss: 0.0077 - accuracy: 1.0000 - val_loss: 2.7407 - val_accuracy: 0.6296\n",
            "Epoch 135/150\n",
            "25/25 [==============================] - 0s 3ms/step - loss: 0.0079 - accuracy: 1.0000 - val_loss: 2.7406 - val_accuracy: 0.6296\n",
            "Epoch 136/150\n",
            "25/25 [==============================] - 0s 3ms/step - loss: 0.0075 - accuracy: 1.0000 - val_loss: 2.7822 - val_accuracy: 0.6296\n",
            "Epoch 137/150\n",
            "25/25 [==============================] - 0s 3ms/step - loss: 0.0068 - accuracy: 1.0000 - val_loss: 2.7858 - val_accuracy: 0.6296\n",
            "Epoch 138/150\n",
            "25/25 [==============================] - 0s 3ms/step - loss: 0.0067 - accuracy: 1.0000 - val_loss: 2.8088 - val_accuracy: 0.6296\n",
            "Epoch 139/150\n",
            "25/25 [==============================] - 0s 3ms/step - loss: 0.0067 - accuracy: 1.0000 - val_loss: 2.8104 - val_accuracy: 0.5926\n",
            "Epoch 140/150\n",
            "25/25 [==============================] - 0s 3ms/step - loss: 0.0066 - accuracy: 1.0000 - val_loss: 2.8416 - val_accuracy: 0.6296\n",
            "Epoch 141/150\n",
            "25/25 [==============================] - 0s 3ms/step - loss: 0.0058 - accuracy: 1.0000 - val_loss: 2.8536 - val_accuracy: 0.6296\n",
            "Epoch 142/150\n",
            "25/25 [==============================] - 0s 3ms/step - loss: 0.0059 - accuracy: 1.0000 - val_loss: 2.8633 - val_accuracy: 0.5926\n",
            "Epoch 143/150\n",
            "25/25 [==============================] - 0s 3ms/step - loss: 0.0057 - accuracy: 1.0000 - val_loss: 2.8896 - val_accuracy: 0.6296\n",
            "Epoch 144/150\n",
            "25/25 [==============================] - 0s 3ms/step - loss: 0.0053 - accuracy: 1.0000 - val_loss: 2.9092 - val_accuracy: 0.6296\n",
            "Epoch 145/150\n",
            "25/25 [==============================] - 0s 3ms/step - loss: 0.0052 - accuracy: 1.0000 - val_loss: 2.9150 - val_accuracy: 0.6296\n",
            "Epoch 146/150\n",
            "25/25 [==============================] - 0s 4ms/step - loss: 0.0051 - accuracy: 1.0000 - val_loss: 2.9371 - val_accuracy: 0.6296\n",
            "Epoch 147/150\n",
            "25/25 [==============================] - 0s 3ms/step - loss: 0.0050 - accuracy: 1.0000 - val_loss: 2.9524 - val_accuracy: 0.6296\n",
            "Epoch 148/150\n",
            "25/25 [==============================] - 0s 3ms/step - loss: 0.0049 - accuracy: 1.0000 - val_loss: 2.9487 - val_accuracy: 0.6296\n",
            "Epoch 149/150\n",
            "25/25 [==============================] - 0s 3ms/step - loss: 0.0049 - accuracy: 1.0000 - val_loss: 2.9780 - val_accuracy: 0.6296\n",
            "Epoch 150/150\n",
            "25/25 [==============================] - 0s 3ms/step - loss: 0.0046 - accuracy: 1.0000 - val_loss: 2.9902 - val_accuracy: 0.6296\n"
          ]
        }
      ]
    },
    {
      "cell_type": "code",
      "source": [
        "model.evaluate(X_test, y_test)"
      ],
      "metadata": {
        "id": "iB5xbBGeq_Tn",
        "outputId": "3720b3d2-b5fe-46b3-fa5d-fd299d229b89",
        "colab": {
          "base_uri": "https://localhost:8080/"
        }
      },
      "execution_count": 106,
      "outputs": [
        {
          "output_type": "stream",
          "name": "stdout",
          "text": [
            "1/1 [==============================] - 0s 18ms/step - loss: 262.5659 - accuracy: 0.3913\n"
          ]
        },
        {
          "output_type": "execute_result",
          "data": {
            "text/plain": [
              "[262.56585693359375, 0.3913043439388275]"
            ]
          },
          "metadata": {},
          "execution_count": 106
        }
      ]
    },
    {
      "cell_type": "code",
      "source": [
        "tf.random.set_seed(42)\n",
        "\n",
        "model = tf.keras.Sequential([\n",
        "    tf.keras.layers.Dense(19, activation='relu'),\n",
        "    tf.keras.layers.Dense(10, activation='relu'),\n",
        "    tf.keras.layers.Dense(10, activation='relu'),\n",
        "\n",
        "    # tf.keras.layers.Dense(20, activation='relu'),\n",
        "    # tf.keras.layers.Dense(10, activation='relu'),\n",
        "\n",
        "    # tf.keras.layers.Dense(256, activation='relu'),\n",
        "    tf.keras.layers.Dense(1, activation='sigmoid')\n",
        "])\n",
        "\n",
        "model.compile(\n",
        "    loss=tf.keras.losses.binary_crossentropy,\n",
        "    optimizer=tf.keras.optimizers.Adam(0.001),\n",
        "    metrics=[\"accuracy\"]\n",
        ")\n",
        "\n",
        "\n",
        "history = model.fit(X_train_scaled, \n",
        "                    y_train, \n",
        "                    epochs=150,\n",
        "                    batch_size=5,\n",
        "                    validation_data = (X_valid_scaled, y_valid),\n",
        "                    callbacks=[model_checkpoint])"
      ],
      "metadata": {
        "id": "etsSl4HktL8C",
        "outputId": "7c2bd5b7-a20c-4957-a626-30bf21a731b1",
        "colab": {
          "base_uri": "https://localhost:8080/"
        }
      },
      "execution_count": 107,
      "outputs": [
        {
          "output_type": "stream",
          "name": "stdout",
          "text": [
            "Epoch 1/150\n",
            "25/25 [==============================] - 1s 9ms/step - loss: 0.7239 - accuracy: 0.4400 - val_loss: 0.7236 - val_accuracy: 0.2963\n",
            "Epoch 2/150\n",
            "25/25 [==============================] - 0s 3ms/step - loss: 0.6987 - accuracy: 0.4080 - val_loss: 0.7080 - val_accuracy: 0.4444\n",
            "Epoch 3/150\n",
            "25/25 [==============================] - 0s 3ms/step - loss: 0.6833 - accuracy: 0.5520 - val_loss: 0.6975 - val_accuracy: 0.5556\n",
            "Epoch 4/150\n",
            "25/25 [==============================] - 0s 3ms/step - loss: 0.6747 - accuracy: 0.5600 - val_loss: 0.6926 - val_accuracy: 0.5926\n",
            "Epoch 5/150\n",
            "25/25 [==============================] - 0s 3ms/step - loss: 0.6694 - accuracy: 0.5840 - val_loss: 0.6880 - val_accuracy: 0.5926\n",
            "Epoch 6/150\n",
            "25/25 [==============================] - 0s 3ms/step - loss: 0.6662 - accuracy: 0.5840 - val_loss: 0.6844 - val_accuracy: 0.5926\n",
            "Epoch 7/150\n",
            "25/25 [==============================] - 0s 3ms/step - loss: 0.6636 - accuracy: 0.5840 - val_loss: 0.6828 - val_accuracy: 0.5926\n",
            "Epoch 8/150\n",
            "25/25 [==============================] - 0s 3ms/step - loss: 0.6572 - accuracy: 0.5840 - val_loss: 0.6790 - val_accuracy: 0.5926\n",
            "Epoch 9/150\n",
            "25/25 [==============================] - 0s 3ms/step - loss: 0.6517 - accuracy: 0.5840 - val_loss: 0.6771 - val_accuracy: 0.5926\n",
            "Epoch 10/150\n",
            "25/25 [==============================] - 0s 3ms/step - loss: 0.6476 - accuracy: 0.5840 - val_loss: 0.6740 - val_accuracy: 0.5926\n",
            "Epoch 11/150\n",
            "25/25 [==============================] - 0s 3ms/step - loss: 0.6443 - accuracy: 0.5920 - val_loss: 0.6719 - val_accuracy: 0.5926\n",
            "Epoch 12/150\n",
            "25/25 [==============================] - 0s 3ms/step - loss: 0.6387 - accuracy: 0.6480 - val_loss: 0.6669 - val_accuracy: 0.5926\n",
            "Epoch 13/150\n",
            "25/25 [==============================] - 0s 3ms/step - loss: 0.6355 - accuracy: 0.6480 - val_loss: 0.6687 - val_accuracy: 0.5926\n",
            "Epoch 14/150\n",
            "25/25 [==============================] - 0s 3ms/step - loss: 0.6280 - accuracy: 0.6560 - val_loss: 0.6591 - val_accuracy: 0.6296\n",
            "Epoch 15/150\n",
            "25/25 [==============================] - 0s 3ms/step - loss: 0.6301 - accuracy: 0.6560 - val_loss: 0.6573 - val_accuracy: 0.5926\n",
            "Epoch 16/150\n",
            "25/25 [==============================] - 0s 3ms/step - loss: 0.6183 - accuracy: 0.6960 - val_loss: 0.6536 - val_accuracy: 0.5926\n",
            "Epoch 17/150\n",
            "25/25 [==============================] - 0s 3ms/step - loss: 0.6140 - accuracy: 0.7200 - val_loss: 0.6472 - val_accuracy: 0.6667\n",
            "Epoch 18/150\n",
            "25/25 [==============================] - 0s 3ms/step - loss: 0.6044 - accuracy: 0.7200 - val_loss: 0.6478 - val_accuracy: 0.5926\n",
            "Epoch 19/150\n",
            "25/25 [==============================] - 0s 3ms/step - loss: 0.6007 - accuracy: 0.7040 - val_loss: 0.6379 - val_accuracy: 0.7037\n",
            "Epoch 20/150\n",
            "25/25 [==============================] - 0s 3ms/step - loss: 0.5930 - accuracy: 0.7200 - val_loss: 0.6411 - val_accuracy: 0.6296\n",
            "Epoch 21/150\n",
            "25/25 [==============================] - 0s 3ms/step - loss: 0.5835 - accuracy: 0.7280 - val_loss: 0.6308 - val_accuracy: 0.7037\n",
            "Epoch 22/150\n",
            "25/25 [==============================] - 0s 4ms/step - loss: 0.5743 - accuracy: 0.7200 - val_loss: 0.6315 - val_accuracy: 0.7037\n",
            "Epoch 23/150\n",
            "25/25 [==============================] - 0s 3ms/step - loss: 0.5682 - accuracy: 0.7200 - val_loss: 0.6276 - val_accuracy: 0.6667\n",
            "Epoch 24/150\n",
            "25/25 [==============================] - 0s 3ms/step - loss: 0.5582 - accuracy: 0.7360 - val_loss: 0.6247 - val_accuracy: 0.6296\n",
            "Epoch 25/150\n",
            "25/25 [==============================] - 0s 3ms/step - loss: 0.5526 - accuracy: 0.7520 - val_loss: 0.6101 - val_accuracy: 0.7037\n",
            "Epoch 26/150\n",
            "25/25 [==============================] - 0s 3ms/step - loss: 0.5436 - accuracy: 0.7520 - val_loss: 0.6251 - val_accuracy: 0.6296\n",
            "Epoch 27/150\n",
            "25/25 [==============================] - 0s 3ms/step - loss: 0.5303 - accuracy: 0.7440 - val_loss: 0.6055 - val_accuracy: 0.7407\n",
            "Epoch 28/150\n",
            "25/25 [==============================] - 0s 3ms/step - loss: 0.5260 - accuracy: 0.7600 - val_loss: 0.6072 - val_accuracy: 0.6667\n",
            "Epoch 29/150\n",
            "25/25 [==============================] - 0s 3ms/step - loss: 0.5135 - accuracy: 0.7680 - val_loss: 0.6161 - val_accuracy: 0.6667\n",
            "Epoch 30/150\n",
            "25/25 [==============================] - 0s 3ms/step - loss: 0.5063 - accuracy: 0.7840 - val_loss: 0.6088 - val_accuracy: 0.6667\n",
            "Epoch 31/150\n",
            "25/25 [==============================] - 0s 3ms/step - loss: 0.4956 - accuracy: 0.7680 - val_loss: 0.6007 - val_accuracy: 0.7037\n",
            "Epoch 32/150\n",
            "25/25 [==============================] - 0s 3ms/step - loss: 0.4969 - accuracy: 0.7520 - val_loss: 0.6219 - val_accuracy: 0.6667\n",
            "Epoch 33/150\n",
            "25/25 [==============================] - 0s 3ms/step - loss: 0.4860 - accuracy: 0.7600 - val_loss: 0.6108 - val_accuracy: 0.6667\n",
            "Epoch 34/150\n",
            "25/25 [==============================] - 0s 3ms/step - loss: 0.4727 - accuracy: 0.8080 - val_loss: 0.5972 - val_accuracy: 0.7037\n",
            "Epoch 35/150\n",
            "25/25 [==============================] - 0s 3ms/step - loss: 0.4646 - accuracy: 0.8000 - val_loss: 0.5994 - val_accuracy: 0.7037\n",
            "Epoch 36/150\n",
            "25/25 [==============================] - 0s 3ms/step - loss: 0.4583 - accuracy: 0.8240 - val_loss: 0.6048 - val_accuracy: 0.6667\n",
            "Epoch 37/150\n",
            "25/25 [==============================] - 0s 3ms/step - loss: 0.4486 - accuracy: 0.8000 - val_loss: 0.6080 - val_accuracy: 0.6667\n",
            "Epoch 38/150\n",
            "25/25 [==============================] - 0s 3ms/step - loss: 0.4379 - accuracy: 0.8240 - val_loss: 0.6250 - val_accuracy: 0.6667\n",
            "Epoch 39/150\n",
            "25/25 [==============================] - 0s 4ms/step - loss: 0.4309 - accuracy: 0.8240 - val_loss: 0.6179 - val_accuracy: 0.6667\n",
            "Epoch 40/150\n",
            "25/25 [==============================] - 0s 11ms/step - loss: 0.4372 - accuracy: 0.8080 - val_loss: 0.6412 - val_accuracy: 0.6667\n",
            "Epoch 41/150\n",
            "25/25 [==============================] - 0s 10ms/step - loss: 0.4079 - accuracy: 0.8560 - val_loss: 0.6290 - val_accuracy: 0.6296\n",
            "Epoch 42/150\n",
            "25/25 [==============================] - 0s 9ms/step - loss: 0.4070 - accuracy: 0.8560 - val_loss: 0.6323 - val_accuracy: 0.6296\n",
            "Epoch 43/150\n",
            "25/25 [==============================] - 0s 7ms/step - loss: 0.4015 - accuracy: 0.8320 - val_loss: 0.6764 - val_accuracy: 0.6296\n",
            "Epoch 44/150\n",
            "25/25 [==============================] - 0s 5ms/step - loss: 0.3858 - accuracy: 0.8480 - val_loss: 0.6458 - val_accuracy: 0.6296\n",
            "Epoch 45/150\n",
            "25/25 [==============================] - 0s 4ms/step - loss: 0.3992 - accuracy: 0.8160 - val_loss: 0.6900 - val_accuracy: 0.6296\n",
            "Epoch 46/150\n",
            "25/25 [==============================] - 0s 3ms/step - loss: 0.3728 - accuracy: 0.8880 - val_loss: 0.6901 - val_accuracy: 0.6296\n",
            "Epoch 47/150\n",
            "25/25 [==============================] - 0s 3ms/step - loss: 0.3618 - accuracy: 0.8560 - val_loss: 0.6883 - val_accuracy: 0.6296\n",
            "Epoch 48/150\n",
            "25/25 [==============================] - 0s 3ms/step - loss: 0.3635 - accuracy: 0.8480 - val_loss: 0.6981 - val_accuracy: 0.6296\n",
            "Epoch 49/150\n",
            "25/25 [==============================] - 0s 3ms/step - loss: 0.3539 - accuracy: 0.8880 - val_loss: 0.7241 - val_accuracy: 0.6296\n",
            "Epoch 50/150\n",
            "25/25 [==============================] - 0s 3ms/step - loss: 0.3460 - accuracy: 0.8800 - val_loss: 0.7461 - val_accuracy: 0.6296\n",
            "Epoch 51/150\n",
            "25/25 [==============================] - 0s 3ms/step - loss: 0.3503 - accuracy: 0.8400 - val_loss: 0.7990 - val_accuracy: 0.5926\n",
            "Epoch 52/150\n",
            "25/25 [==============================] - 0s 3ms/step - loss: 0.3470 - accuracy: 0.8800 - val_loss: 0.7733 - val_accuracy: 0.6296\n",
            "Epoch 53/150\n",
            "25/25 [==============================] - 0s 3ms/step - loss: 0.3266 - accuracy: 0.8800 - val_loss: 0.7868 - val_accuracy: 0.6296\n",
            "Epoch 54/150\n",
            "25/25 [==============================] - 0s 3ms/step - loss: 0.3107 - accuracy: 0.8880 - val_loss: 0.8115 - val_accuracy: 0.6296\n",
            "Epoch 55/150\n",
            "25/25 [==============================] - 0s 3ms/step - loss: 0.3036 - accuracy: 0.9200 - val_loss: 0.8266 - val_accuracy: 0.6296\n",
            "Epoch 56/150\n",
            "25/25 [==============================] - 0s 3ms/step - loss: 0.3010 - accuracy: 0.8720 - val_loss: 0.7938 - val_accuracy: 0.6667\n",
            "Epoch 57/150\n",
            "25/25 [==============================] - 0s 3ms/step - loss: 0.2850 - accuracy: 0.9040 - val_loss: 0.8333 - val_accuracy: 0.6296\n",
            "Epoch 58/150\n",
            "25/25 [==============================] - 0s 3ms/step - loss: 0.2963 - accuracy: 0.9200 - val_loss: 0.9149 - val_accuracy: 0.5926\n",
            "Epoch 59/150\n",
            "25/25 [==============================] - 0s 3ms/step - loss: 0.2879 - accuracy: 0.8800 - val_loss: 0.9040 - val_accuracy: 0.6296\n",
            "Epoch 60/150\n",
            "25/25 [==============================] - 0s 3ms/step - loss: 0.2707 - accuracy: 0.9200 - val_loss: 0.8461 - val_accuracy: 0.6296\n",
            "Epoch 61/150\n",
            "25/25 [==============================] - 0s 3ms/step - loss: 0.2706 - accuracy: 0.9200 - val_loss: 0.8464 - val_accuracy: 0.5926\n",
            "Epoch 62/150\n",
            "25/25 [==============================] - 0s 3ms/step - loss: 0.2504 - accuracy: 0.9440 - val_loss: 0.9995 - val_accuracy: 0.5926\n",
            "Epoch 63/150\n",
            "25/25 [==============================] - 0s 3ms/step - loss: 0.2517 - accuracy: 0.9200 - val_loss: 0.9030 - val_accuracy: 0.6296\n",
            "Epoch 64/150\n",
            "25/25 [==============================] - 0s 3ms/step - loss: 0.2428 - accuracy: 0.9280 - val_loss: 0.9345 - val_accuracy: 0.6296\n",
            "Epoch 65/150\n",
            "25/25 [==============================] - 0s 3ms/step - loss: 0.2402 - accuracy: 0.9360 - val_loss: 0.9694 - val_accuracy: 0.6296\n",
            "Epoch 66/150\n",
            "25/25 [==============================] - 0s 3ms/step - loss: 0.2260 - accuracy: 0.9360 - val_loss: 0.9759 - val_accuracy: 0.6296\n",
            "Epoch 67/150\n",
            "25/25 [==============================] - 0s 3ms/step - loss: 0.2202 - accuracy: 0.9440 - val_loss: 1.0236 - val_accuracy: 0.6296\n",
            "Epoch 68/150\n",
            "25/25 [==============================] - 0s 3ms/step - loss: 0.2214 - accuracy: 0.9440 - val_loss: 0.9670 - val_accuracy: 0.5556\n",
            "Epoch 69/150\n",
            "25/25 [==============================] - 0s 3ms/step - loss: 0.2200 - accuracy: 0.9360 - val_loss: 0.9828 - val_accuracy: 0.5926\n",
            "Epoch 70/150\n",
            "25/25 [==============================] - 0s 3ms/step - loss: 0.2100 - accuracy: 0.9520 - val_loss: 1.0247 - val_accuracy: 0.5926\n",
            "Epoch 71/150\n",
            "25/25 [==============================] - 0s 3ms/step - loss: 0.2013 - accuracy: 0.9440 - val_loss: 1.0443 - val_accuracy: 0.5926\n",
            "Epoch 72/150\n",
            "25/25 [==============================] - 0s 3ms/step - loss: 0.1919 - accuracy: 0.9520 - val_loss: 1.1808 - val_accuracy: 0.5926\n",
            "Epoch 73/150\n",
            "25/25 [==============================] - 0s 3ms/step - loss: 0.2012 - accuracy: 0.9600 - val_loss: 1.0577 - val_accuracy: 0.5185\n",
            "Epoch 74/150\n",
            "25/25 [==============================] - 0s 3ms/step - loss: 0.1913 - accuracy: 0.9520 - val_loss: 1.1044 - val_accuracy: 0.5926\n",
            "Epoch 75/150\n",
            "25/25 [==============================] - 0s 3ms/step - loss: 0.1844 - accuracy: 0.9520 - val_loss: 1.1290 - val_accuracy: 0.5926\n",
            "Epoch 76/150\n",
            "25/25 [==============================] - 0s 3ms/step - loss: 0.1779 - accuracy: 0.9440 - val_loss: 1.1855 - val_accuracy: 0.5556\n",
            "Epoch 77/150\n",
            "25/25 [==============================] - 0s 3ms/step - loss: 0.1778 - accuracy: 0.9520 - val_loss: 1.1385 - val_accuracy: 0.5556\n",
            "Epoch 78/150\n",
            "25/25 [==============================] - 0s 3ms/step - loss: 0.1712 - accuracy: 0.9760 - val_loss: 1.1836 - val_accuracy: 0.5556\n",
            "Epoch 79/150\n",
            "25/25 [==============================] - 0s 3ms/step - loss: 0.1679 - accuracy: 0.9600 - val_loss: 1.2893 - val_accuracy: 0.5556\n",
            "Epoch 80/150\n",
            "25/25 [==============================] - 0s 3ms/step - loss: 0.1739 - accuracy: 0.9680 - val_loss: 1.2217 - val_accuracy: 0.5556\n",
            "Epoch 81/150\n",
            "25/25 [==============================] - 0s 3ms/step - loss: 0.1641 - accuracy: 0.9600 - val_loss: 1.2523 - val_accuracy: 0.5926\n",
            "Epoch 82/150\n",
            "25/25 [==============================] - 0s 3ms/step - loss: 0.1570 - accuracy: 0.9680 - val_loss: 1.2860 - val_accuracy: 0.5556\n",
            "Epoch 83/150\n",
            "25/25 [==============================] - 0s 3ms/step - loss: 0.1525 - accuracy: 0.9600 - val_loss: 1.3123 - val_accuracy: 0.5556\n",
            "Epoch 84/150\n",
            "25/25 [==============================] - 0s 3ms/step - loss: 0.1543 - accuracy: 0.9680 - val_loss: 1.2536 - val_accuracy: 0.5556\n",
            "Epoch 85/150\n",
            "25/25 [==============================] - 0s 3ms/step - loss: 0.1513 - accuracy: 0.9600 - val_loss: 1.2838 - val_accuracy: 0.5185\n",
            "Epoch 86/150\n",
            "25/25 [==============================] - 0s 3ms/step - loss: 0.1486 - accuracy: 0.9600 - val_loss: 1.3714 - val_accuracy: 0.5556\n",
            "Epoch 87/150\n",
            "25/25 [==============================] - 0s 3ms/step - loss: 0.1375 - accuracy: 0.9760 - val_loss: 1.3666 - val_accuracy: 0.5556\n",
            "Epoch 88/150\n",
            "25/25 [==============================] - 0s 3ms/step - loss: 0.1413 - accuracy: 0.9680 - val_loss: 1.3405 - val_accuracy: 0.5926\n",
            "Epoch 89/150\n",
            "25/25 [==============================] - 0s 3ms/step - loss: 0.1356 - accuracy: 0.9760 - val_loss: 1.4257 - val_accuracy: 0.5185\n",
            "Epoch 90/150\n",
            "25/25 [==============================] - 0s 2ms/step - loss: 0.1327 - accuracy: 0.9760 - val_loss: 1.4875 - val_accuracy: 0.5556\n",
            "Epoch 91/150\n",
            "25/25 [==============================] - 0s 3ms/step - loss: 0.1318 - accuracy: 0.9680 - val_loss: 1.3549 - val_accuracy: 0.5185\n",
            "Epoch 92/150\n",
            "25/25 [==============================] - 0s 3ms/step - loss: 0.1271 - accuracy: 0.9840 - val_loss: 1.4273 - val_accuracy: 0.5556\n",
            "Epoch 93/150\n",
            "25/25 [==============================] - 0s 4ms/step - loss: 0.1277 - accuracy: 0.9840 - val_loss: 1.4324 - val_accuracy: 0.4815\n",
            "Epoch 94/150\n",
            "25/25 [==============================] - 0s 3ms/step - loss: 0.1316 - accuracy: 0.9760 - val_loss: 1.3862 - val_accuracy: 0.5185\n",
            "Epoch 95/150\n",
            "25/25 [==============================] - 0s 3ms/step - loss: 0.1164 - accuracy: 0.9920 - val_loss: 1.5531 - val_accuracy: 0.5185\n",
            "Epoch 96/150\n",
            "25/25 [==============================] - 0s 4ms/step - loss: 0.1191 - accuracy: 0.9760 - val_loss: 1.5106 - val_accuracy: 0.5556\n",
            "Epoch 97/150\n",
            "25/25 [==============================] - 0s 3ms/step - loss: 0.1198 - accuracy: 0.9760 - val_loss: 1.4943 - val_accuracy: 0.5185\n",
            "Epoch 98/150\n",
            "25/25 [==============================] - 0s 3ms/step - loss: 0.1175 - accuracy: 0.9760 - val_loss: 1.4864 - val_accuracy: 0.5556\n",
            "Epoch 99/150\n",
            "25/25 [==============================] - 0s 3ms/step - loss: 0.1144 - accuracy: 0.9840 - val_loss: 1.4965 - val_accuracy: 0.5556\n",
            "Epoch 100/150\n",
            "25/25 [==============================] - 0s 3ms/step - loss: 0.1089 - accuracy: 0.9840 - val_loss: 1.5827 - val_accuracy: 0.5185\n",
            "Epoch 101/150\n",
            "25/25 [==============================] - 0s 3ms/step - loss: 0.1033 - accuracy: 0.9840 - val_loss: 1.6516 - val_accuracy: 0.5185\n",
            "Epoch 102/150\n",
            "25/25 [==============================] - 0s 3ms/step - loss: 0.1045 - accuracy: 0.9840 - val_loss: 1.5429 - val_accuracy: 0.5185\n",
            "Epoch 103/150\n",
            "25/25 [==============================] - 0s 3ms/step - loss: 0.1040 - accuracy: 0.9920 - val_loss: 1.5373 - val_accuracy: 0.5185\n",
            "Epoch 104/150\n",
            "25/25 [==============================] - 0s 3ms/step - loss: 0.1064 - accuracy: 0.9840 - val_loss: 1.6527 - val_accuracy: 0.5556\n",
            "Epoch 105/150\n",
            "25/25 [==============================] - 0s 4ms/step - loss: 0.0969 - accuracy: 0.9920 - val_loss: 1.6607 - val_accuracy: 0.5185\n",
            "Epoch 106/150\n",
            "25/25 [==============================] - 0s 3ms/step - loss: 0.1034 - accuracy: 0.9840 - val_loss: 1.5614 - val_accuracy: 0.5185\n",
            "Epoch 107/150\n",
            "25/25 [==============================] - 0s 3ms/step - loss: 0.0925 - accuracy: 0.9920 - val_loss: 1.7065 - val_accuracy: 0.5556\n",
            "Epoch 108/150\n",
            "25/25 [==============================] - 0s 3ms/step - loss: 0.0966 - accuracy: 0.9920 - val_loss: 1.6836 - val_accuracy: 0.5185\n",
            "Epoch 109/150\n",
            "25/25 [==============================] - 0s 3ms/step - loss: 0.0928 - accuracy: 0.9920 - val_loss: 1.6926 - val_accuracy: 0.4815\n",
            "Epoch 110/150\n",
            "25/25 [==============================] - 0s 3ms/step - loss: 0.0941 - accuracy: 0.9920 - val_loss: 1.7450 - val_accuracy: 0.5185\n",
            "Epoch 111/150\n",
            "25/25 [==============================] - 0s 3ms/step - loss: 0.0960 - accuracy: 0.9840 - val_loss: 1.7292 - val_accuracy: 0.5926\n",
            "Epoch 112/150\n",
            "25/25 [==============================] - 0s 3ms/step - loss: 0.0904 - accuracy: 0.9840 - val_loss: 1.7706 - val_accuracy: 0.5185\n",
            "Epoch 113/150\n",
            "25/25 [==============================] - 0s 3ms/step - loss: 0.0918 - accuracy: 0.9840 - val_loss: 1.7158 - val_accuracy: 0.5185\n",
            "Epoch 114/150\n",
            "25/25 [==============================] - 0s 3ms/step - loss: 0.0802 - accuracy: 0.9920 - val_loss: 1.7484 - val_accuracy: 0.4815\n",
            "Epoch 115/150\n",
            "25/25 [==============================] - 0s 3ms/step - loss: 0.0791 - accuracy: 0.9920 - val_loss: 1.7682 - val_accuracy: 0.5185\n",
            "Epoch 116/150\n",
            "25/25 [==============================] - 0s 4ms/step - loss: 0.0835 - accuracy: 0.9920 - val_loss: 1.8185 - val_accuracy: 0.5185\n",
            "Epoch 117/150\n",
            "25/25 [==============================] - 0s 4ms/step - loss: 0.0926 - accuracy: 0.9840 - val_loss: 1.7415 - val_accuracy: 0.5185\n",
            "Epoch 118/150\n",
            "25/25 [==============================] - 0s 3ms/step - loss: 0.0821 - accuracy: 0.9920 - val_loss: 1.7353 - val_accuracy: 0.4815\n",
            "Epoch 119/150\n",
            "25/25 [==============================] - 0s 3ms/step - loss: 0.0788 - accuracy: 0.9920 - val_loss: 1.7776 - val_accuracy: 0.4815\n",
            "Epoch 120/150\n",
            "25/25 [==============================] - 0s 3ms/step - loss: 0.0723 - accuracy: 0.9920 - val_loss: 1.9004 - val_accuracy: 0.5185\n",
            "Epoch 121/150\n",
            "25/25 [==============================] - 0s 3ms/step - loss: 0.0712 - accuracy: 0.9920 - val_loss: 1.8751 - val_accuracy: 0.5185\n",
            "Epoch 122/150\n",
            "25/25 [==============================] - 0s 3ms/step - loss: 0.0702 - accuracy: 0.9920 - val_loss: 1.8698 - val_accuracy: 0.5185\n",
            "Epoch 123/150\n",
            "25/25 [==============================] - 0s 3ms/step - loss: 0.0675 - accuracy: 0.9920 - val_loss: 1.8927 - val_accuracy: 0.4815\n",
            "Epoch 124/150\n",
            "25/25 [==============================] - 0s 3ms/step - loss: 0.0691 - accuracy: 0.9920 - val_loss: 1.8375 - val_accuracy: 0.5185\n",
            "Epoch 125/150\n",
            "25/25 [==============================] - 0s 3ms/step - loss: 0.0646 - accuracy: 0.9920 - val_loss: 1.9401 - val_accuracy: 0.4815\n",
            "Epoch 126/150\n",
            "25/25 [==============================] - 0s 3ms/step - loss: 0.0652 - accuracy: 0.9920 - val_loss: 1.8790 - val_accuracy: 0.4815\n",
            "Epoch 127/150\n",
            "25/25 [==============================] - 0s 3ms/step - loss: 0.0711 - accuracy: 0.9920 - val_loss: 1.9040 - val_accuracy: 0.5185\n",
            "Epoch 128/150\n",
            "25/25 [==============================] - 0s 3ms/step - loss: 0.0638 - accuracy: 0.9920 - val_loss: 1.9177 - val_accuracy: 0.5185\n",
            "Epoch 129/150\n",
            "25/25 [==============================] - 0s 3ms/step - loss: 0.0756 - accuracy: 0.9920 - val_loss: 2.1066 - val_accuracy: 0.5185\n",
            "Epoch 130/150\n",
            "25/25 [==============================] - 0s 3ms/step - loss: 0.0619 - accuracy: 0.9920 - val_loss: 2.0686 - val_accuracy: 0.5185\n",
            "Epoch 131/150\n",
            "25/25 [==============================] - 0s 3ms/step - loss: 0.0601 - accuracy: 0.9920 - val_loss: 1.9514 - val_accuracy: 0.5185\n",
            "Epoch 132/150\n",
            "25/25 [==============================] - 0s 3ms/step - loss: 0.0606 - accuracy: 0.9920 - val_loss: 2.2442 - val_accuracy: 0.5556\n",
            "Epoch 133/150\n",
            "25/25 [==============================] - 0s 3ms/step - loss: 0.0675 - accuracy: 0.9920 - val_loss: 1.9896 - val_accuracy: 0.4815\n",
            "Epoch 134/150\n",
            "25/25 [==============================] - 0s 3ms/step - loss: 0.0582 - accuracy: 0.9920 - val_loss: 2.1521 - val_accuracy: 0.5185\n",
            "Epoch 135/150\n",
            "25/25 [==============================] - 0s 3ms/step - loss: 0.0644 - accuracy: 0.9920 - val_loss: 2.0171 - val_accuracy: 0.5185\n",
            "Epoch 136/150\n",
            "25/25 [==============================] - 0s 3ms/step - loss: 0.0581 - accuracy: 0.9920 - val_loss: 2.0766 - val_accuracy: 0.4815\n",
            "Epoch 137/150\n",
            "25/25 [==============================] - 0s 3ms/step - loss: 0.0490 - accuracy: 0.9920 - val_loss: 2.0419 - val_accuracy: 0.4815\n",
            "Epoch 138/150\n",
            "25/25 [==============================] - 0s 3ms/step - loss: 0.0515 - accuracy: 0.9920 - val_loss: 2.0822 - val_accuracy: 0.4815\n",
            "Epoch 139/150\n",
            "25/25 [==============================] - 0s 4ms/step - loss: 0.0517 - accuracy: 0.9920 - val_loss: 2.0684 - val_accuracy: 0.5185\n",
            "Epoch 140/150\n",
            "25/25 [==============================] - 0s 3ms/step - loss: 0.0487 - accuracy: 0.9920 - val_loss: 2.2031 - val_accuracy: 0.5556\n",
            "Epoch 141/150\n",
            "25/25 [==============================] - 0s 4ms/step - loss: 0.0454 - accuracy: 0.9920 - val_loss: 2.1451 - val_accuracy: 0.4815\n",
            "Epoch 142/150\n",
            "25/25 [==============================] - 0s 3ms/step - loss: 0.0473 - accuracy: 0.9920 - val_loss: 2.1130 - val_accuracy: 0.4815\n",
            "Epoch 143/150\n",
            "25/25 [==============================] - 0s 3ms/step - loss: 0.0473 - accuracy: 0.9920 - val_loss: 2.2331 - val_accuracy: 0.4815\n",
            "Epoch 144/150\n",
            "25/25 [==============================] - 0s 3ms/step - loss: 0.0424 - accuracy: 0.9920 - val_loss: 2.2212 - val_accuracy: 0.4815\n",
            "Epoch 145/150\n",
            "25/25 [==============================] - 0s 3ms/step - loss: 0.0413 - accuracy: 0.9920 - val_loss: 2.2013 - val_accuracy: 0.4815\n",
            "Epoch 146/150\n",
            "25/25 [==============================] - 0s 3ms/step - loss: 0.0429 - accuracy: 0.9920 - val_loss: 2.2923 - val_accuracy: 0.4815\n",
            "Epoch 147/150\n",
            "25/25 [==============================] - 0s 3ms/step - loss: 0.0391 - accuracy: 0.9920 - val_loss: 2.2966 - val_accuracy: 0.4815\n",
            "Epoch 148/150\n",
            "25/25 [==============================] - 0s 3ms/step - loss: 0.0428 - accuracy: 0.9920 - val_loss: 2.2241 - val_accuracy: 0.4815\n",
            "Epoch 149/150\n",
            "25/25 [==============================] - 0s 3ms/step - loss: 0.0444 - accuracy: 0.9920 - val_loss: 2.3055 - val_accuracy: 0.4815\n",
            "Epoch 150/150\n",
            "25/25 [==============================] - 0s 3ms/step - loss: 0.0409 - accuracy: 0.9920 - val_loss: 2.3142 - val_accuracy: 0.4815\n"
          ]
        }
      ]
    },
    {
      "cell_type": "code",
      "source": [
        "model.evaluate(X_test, y_test)"
      ],
      "metadata": {
        "id": "FFd7l6LPrAGn",
        "outputId": "1dcf3134-0f3b-451e-9a84-cbd553223efe",
        "colab": {
          "base_uri": "https://localhost:8080/"
        }
      },
      "execution_count": 108,
      "outputs": [
        {
          "output_type": "stream",
          "name": "stdout",
          "text": [
            "1/1 [==============================] - 0s 23ms/step - loss: 126.0458 - accuracy: 0.4783\n"
          ]
        },
        {
          "output_type": "execute_result",
          "data": {
            "text/plain": [
              "[126.04578399658203, 0.47826087474823]"
            ]
          },
          "metadata": {},
          "execution_count": 108
        }
      ]
    },
    {
      "cell_type": "code",
      "source": [
        "tf.random.set_seed(42)\n",
        "\n",
        "model = tf.keras.Sequential([\n",
        "    tf.keras.layers.Dense(19, activation='relu'),\n",
        "    tf.keras.layers.Dense(14, activation='relu'),\n",
        "    tf.keras.layers.Dense(14, activation='relu'),\n",
        "\n",
        "    tf.keras.layers.Dense(20, activation='relu'),\n",
        "    tf.keras.layers.Dense(10, activation='relu'),\n",
        "\n",
        "    # tf.keras.layers.Dense(256, activation='relu'),\n",
        "    tf.keras.layers.Dense(1, activation='sigmoid')\n",
        "])\n",
        "\n",
        "model.compile(\n",
        "    loss=tf.keras.losses.binary_crossentropy,\n",
        "    optimizer=tf.keras.optimizers.Adam(0.001),\n",
        "    metrics=[\"accuracy\"]\n",
        ")\n",
        "\n",
        "\n",
        "history = model.fit(X_train_scaled, \n",
        "                    y_train, \n",
        "                    epochs=150,\n",
        "                    batch_size=5,\n",
        "                    validation_data = (X_valid_scaled, y_valid),\n",
        "                    callbacks=[model_checkpoint])"
      ],
      "metadata": {
        "id": "T3c16NIOtOyF",
        "outputId": "f3ac06d9-4578-4767-fbda-75b2dcea9616",
        "colab": {
          "base_uri": "https://localhost:8080/"
        }
      },
      "execution_count": 109,
      "outputs": [
        {
          "output_type": "stream",
          "name": "stdout",
          "text": [
            "Epoch 1/150\n",
            "25/25 [==============================] - 1s 10ms/step - loss: 0.6792 - accuracy: 0.5840 - val_loss: 0.6724 - val_accuracy: 0.5926\n",
            "Epoch 2/150\n",
            "25/25 [==============================] - 0s 3ms/step - loss: 0.6725 - accuracy: 0.5840 - val_loss: 0.6697 - val_accuracy: 0.5926\n",
            "Epoch 3/150\n",
            "25/25 [==============================] - 0s 3ms/step - loss: 0.6677 - accuracy: 0.5840 - val_loss: 0.6671 - val_accuracy: 0.5926\n",
            "Epoch 4/150\n",
            "25/25 [==============================] - 0s 3ms/step - loss: 0.6632 - accuracy: 0.5840 - val_loss: 0.6638 - val_accuracy: 0.5926\n",
            "Epoch 5/150\n",
            "25/25 [==============================] - 0s 3ms/step - loss: 0.6586 - accuracy: 0.5840 - val_loss: 0.6599 - val_accuracy: 0.5926\n",
            "Epoch 6/150\n",
            "25/25 [==============================] - 0s 3ms/step - loss: 0.6562 - accuracy: 0.5840 - val_loss: 0.6566 - val_accuracy: 0.5926\n",
            "Epoch 7/150\n",
            "25/25 [==============================] - 0s 4ms/step - loss: 0.6537 - accuracy: 0.5840 - val_loss: 0.6528 - val_accuracy: 0.5926\n",
            "Epoch 8/150\n",
            "25/25 [==============================] - 0s 3ms/step - loss: 0.6439 - accuracy: 0.5840 - val_loss: 0.6452 - val_accuracy: 0.5926\n",
            "Epoch 9/150\n",
            "25/25 [==============================] - 0s 3ms/step - loss: 0.6341 - accuracy: 0.6160 - val_loss: 0.6379 - val_accuracy: 0.5926\n",
            "Epoch 10/150\n",
            "25/25 [==============================] - 0s 3ms/step - loss: 0.6248 - accuracy: 0.6320 - val_loss: 0.6334 - val_accuracy: 0.6667\n",
            "Epoch 11/150\n",
            "25/25 [==============================] - 0s 3ms/step - loss: 0.6150 - accuracy: 0.6880 - val_loss: 0.6296 - val_accuracy: 0.6667\n",
            "Epoch 12/150\n",
            "25/25 [==============================] - 0s 3ms/step - loss: 0.6037 - accuracy: 0.6880 - val_loss: 0.6190 - val_accuracy: 0.6667\n",
            "Epoch 13/150\n",
            "25/25 [==============================] - 0s 3ms/step - loss: 0.5861 - accuracy: 0.7120 - val_loss: 0.6190 - val_accuracy: 0.6667\n",
            "Epoch 14/150\n",
            "25/25 [==============================] - 0s 4ms/step - loss: 0.5670 - accuracy: 0.7200 - val_loss: 0.6083 - val_accuracy: 0.7037\n",
            "Epoch 15/150\n",
            "25/25 [==============================] - 0s 3ms/step - loss: 0.5651 - accuracy: 0.7440 - val_loss: 0.6393 - val_accuracy: 0.6667\n",
            "Epoch 16/150\n",
            "25/25 [==============================] - 0s 3ms/step - loss: 0.5508 - accuracy: 0.7440 - val_loss: 0.6124 - val_accuracy: 0.6667\n",
            "Epoch 17/150\n",
            "25/25 [==============================] - 0s 3ms/step - loss: 0.5374 - accuracy: 0.7440 - val_loss: 0.6015 - val_accuracy: 0.7037\n",
            "Epoch 18/150\n",
            "25/25 [==============================] - 0s 3ms/step - loss: 0.5133 - accuracy: 0.7520 - val_loss: 0.6027 - val_accuracy: 0.7407\n",
            "Epoch 19/150\n",
            "25/25 [==============================] - 0s 4ms/step - loss: 0.4985 - accuracy: 0.7680 - val_loss: 0.5995 - val_accuracy: 0.7037\n",
            "Epoch 20/150\n",
            "25/25 [==============================] - 0s 3ms/step - loss: 0.4703 - accuracy: 0.8000 - val_loss: 0.6112 - val_accuracy: 0.6667\n",
            "Epoch 21/150\n",
            "25/25 [==============================] - 0s 3ms/step - loss: 0.4958 - accuracy: 0.8080 - val_loss: 0.6032 - val_accuracy: 0.7407\n",
            "Epoch 22/150\n",
            "25/25 [==============================] - 0s 3ms/step - loss: 0.4589 - accuracy: 0.7920 - val_loss: 0.6117 - val_accuracy: 0.7407\n",
            "Epoch 23/150\n",
            "25/25 [==============================] - 0s 3ms/step - loss: 0.4469 - accuracy: 0.8080 - val_loss: 0.6228 - val_accuracy: 0.7037\n",
            "Epoch 24/150\n",
            "25/25 [==============================] - 0s 3ms/step - loss: 0.4331 - accuracy: 0.8080 - val_loss: 0.6328 - val_accuracy: 0.7407\n",
            "Epoch 25/150\n",
            "25/25 [==============================] - 0s 3ms/step - loss: 0.4225 - accuracy: 0.8080 - val_loss: 0.6253 - val_accuracy: 0.7037\n",
            "Epoch 26/150\n",
            "25/25 [==============================] - 0s 3ms/step - loss: 0.4094 - accuracy: 0.8240 - val_loss: 0.6365 - val_accuracy: 0.7037\n",
            "Epoch 27/150\n",
            "25/25 [==============================] - 0s 3ms/step - loss: 0.4003 - accuracy: 0.8320 - val_loss: 0.6661 - val_accuracy: 0.7037\n",
            "Epoch 28/150\n",
            "25/25 [==============================] - 0s 3ms/step - loss: 0.3798 - accuracy: 0.8400 - val_loss: 0.6554 - val_accuracy: 0.7037\n",
            "Epoch 29/150\n",
            "25/25 [==============================] - 0s 3ms/step - loss: 0.3725 - accuracy: 0.8400 - val_loss: 0.6817 - val_accuracy: 0.6667\n",
            "Epoch 30/150\n",
            "25/25 [==============================] - 0s 3ms/step - loss: 0.3586 - accuracy: 0.8400 - val_loss: 0.7121 - val_accuracy: 0.7037\n",
            "Epoch 31/150\n",
            "25/25 [==============================] - 0s 3ms/step - loss: 0.3498 - accuracy: 0.8560 - val_loss: 0.7197 - val_accuracy: 0.7037\n",
            "Epoch 32/150\n",
            "25/25 [==============================] - 0s 3ms/step - loss: 0.3599 - accuracy: 0.8720 - val_loss: 0.7289 - val_accuracy: 0.7037\n",
            "Epoch 33/150\n",
            "25/25 [==============================] - 0s 3ms/step - loss: 0.3569 - accuracy: 0.8640 - val_loss: 0.7135 - val_accuracy: 0.7037\n",
            "Epoch 34/150\n",
            "25/25 [==============================] - 0s 3ms/step - loss: 0.2912 - accuracy: 0.9120 - val_loss: 0.7686 - val_accuracy: 0.6667\n",
            "Epoch 35/150\n",
            "25/25 [==============================] - 0s 3ms/step - loss: 0.2906 - accuracy: 0.8720 - val_loss: 0.7987 - val_accuracy: 0.7037\n",
            "Epoch 36/150\n",
            "25/25 [==============================] - 0s 3ms/step - loss: 0.2773 - accuracy: 0.8720 - val_loss: 0.8143 - val_accuracy: 0.6667\n",
            "Epoch 37/150\n",
            "25/25 [==============================] - 0s 3ms/step - loss: 0.2674 - accuracy: 0.8960 - val_loss: 0.8376 - val_accuracy: 0.6667\n",
            "Epoch 38/150\n",
            "25/25 [==============================] - 0s 3ms/step - loss: 0.2475 - accuracy: 0.9200 - val_loss: 0.8786 - val_accuracy: 0.7037\n",
            "Epoch 39/150\n",
            "25/25 [==============================] - 0s 3ms/step - loss: 0.2116 - accuracy: 0.9360 - val_loss: 0.9477 - val_accuracy: 0.6296\n",
            "Epoch 40/150\n",
            "25/25 [==============================] - 0s 3ms/step - loss: 0.2278 - accuracy: 0.8960 - val_loss: 0.9796 - val_accuracy: 0.6296\n",
            "Epoch 41/150\n",
            "25/25 [==============================] - 0s 3ms/step - loss: 0.2066 - accuracy: 0.9280 - val_loss: 0.9680 - val_accuracy: 0.6667\n",
            "Epoch 42/150\n",
            "25/25 [==============================] - 0s 3ms/step - loss: 0.1740 - accuracy: 0.9520 - val_loss: 1.0711 - val_accuracy: 0.6667\n",
            "Epoch 43/150\n",
            "25/25 [==============================] - 0s 3ms/step - loss: 0.1656 - accuracy: 0.9520 - val_loss: 1.0790 - val_accuracy: 0.6296\n",
            "Epoch 44/150\n",
            "25/25 [==============================] - 0s 3ms/step - loss: 0.1540 - accuracy: 0.9520 - val_loss: 1.0858 - val_accuracy: 0.7037\n",
            "Epoch 45/150\n",
            "25/25 [==============================] - 0s 3ms/step - loss: 0.1649 - accuracy: 0.9520 - val_loss: 1.1893 - val_accuracy: 0.6296\n",
            "Epoch 46/150\n",
            "25/25 [==============================] - 0s 3ms/step - loss: 0.1412 - accuracy: 0.9600 - val_loss: 1.1702 - val_accuracy: 0.6296\n",
            "Epoch 47/150\n",
            "25/25 [==============================] - 0s 3ms/step - loss: 0.1356 - accuracy: 0.9600 - val_loss: 1.1857 - val_accuracy: 0.6667\n",
            "Epoch 48/150\n",
            "25/25 [==============================] - 0s 3ms/step - loss: 0.1113 - accuracy: 0.9920 - val_loss: 1.2371 - val_accuracy: 0.6296\n",
            "Epoch 49/150\n",
            "25/25 [==============================] - 0s 3ms/step - loss: 0.1109 - accuracy: 0.9760 - val_loss: 1.3142 - val_accuracy: 0.5926\n",
            "Epoch 50/150\n",
            "25/25 [==============================] - 0s 3ms/step - loss: 0.0947 - accuracy: 0.9840 - val_loss: 1.2398 - val_accuracy: 0.6667\n",
            "Epoch 51/150\n",
            "25/25 [==============================] - 0s 3ms/step - loss: 0.1619 - accuracy: 0.9440 - val_loss: 1.3157 - val_accuracy: 0.6667\n",
            "Epoch 52/150\n",
            "25/25 [==============================] - 0s 3ms/step - loss: 0.1247 - accuracy: 0.9520 - val_loss: 1.1604 - val_accuracy: 0.6667\n",
            "Epoch 53/150\n",
            "25/25 [==============================] - 0s 4ms/step - loss: 0.1143 - accuracy: 0.9760 - val_loss: 1.3671 - val_accuracy: 0.6667\n",
            "Epoch 54/150\n",
            "25/25 [==============================] - 0s 3ms/step - loss: 0.0929 - accuracy: 0.9840 - val_loss: 1.3659 - val_accuracy: 0.6296\n",
            "Epoch 55/150\n",
            "25/25 [==============================] - 0s 4ms/step - loss: 0.0708 - accuracy: 0.9920 - val_loss: 1.3815 - val_accuracy: 0.6667\n",
            "Epoch 56/150\n",
            "25/25 [==============================] - 0s 4ms/step - loss: 0.0607 - accuracy: 0.9920 - val_loss: 1.4278 - val_accuracy: 0.6296\n",
            "Epoch 57/150\n",
            "25/25 [==============================] - 0s 3ms/step - loss: 0.0444 - accuracy: 0.9920 - val_loss: 1.4978 - val_accuracy: 0.5926\n",
            "Epoch 58/150\n",
            "25/25 [==============================] - 0s 3ms/step - loss: 0.0403 - accuracy: 1.0000 - val_loss: 1.4719 - val_accuracy: 0.6296\n",
            "Epoch 59/150\n",
            "25/25 [==============================] - 0s 3ms/step - loss: 0.0372 - accuracy: 1.0000 - val_loss: 1.5552 - val_accuracy: 0.5926\n",
            "Epoch 60/150\n",
            "25/25 [==============================] - 0s 3ms/step - loss: 0.0305 - accuracy: 1.0000 - val_loss: 1.6224 - val_accuracy: 0.5926\n",
            "Epoch 61/150\n",
            "25/25 [==============================] - 0s 3ms/step - loss: 0.0322 - accuracy: 1.0000 - val_loss: 1.6491 - val_accuracy: 0.6296\n",
            "Epoch 62/150\n",
            "25/25 [==============================] - 0s 3ms/step - loss: 0.0294 - accuracy: 1.0000 - val_loss: 1.6452 - val_accuracy: 0.6296\n",
            "Epoch 63/150\n",
            "25/25 [==============================] - 0s 3ms/step - loss: 0.0275 - accuracy: 1.0000 - val_loss: 1.7428 - val_accuracy: 0.5926\n",
            "Epoch 64/150\n",
            "25/25 [==============================] - 0s 3ms/step - loss: 0.0193 - accuracy: 1.0000 - val_loss: 1.8072 - val_accuracy: 0.5926\n",
            "Epoch 65/150\n",
            "25/25 [==============================] - 0s 3ms/step - loss: 0.0165 - accuracy: 1.0000 - val_loss: 1.8452 - val_accuracy: 0.6296\n",
            "Epoch 66/150\n",
            "25/25 [==============================] - 0s 3ms/step - loss: 0.0149 - accuracy: 1.0000 - val_loss: 1.8892 - val_accuracy: 0.6296\n",
            "Epoch 67/150\n",
            "25/25 [==============================] - 0s 3ms/step - loss: 0.0131 - accuracy: 1.0000 - val_loss: 1.9129 - val_accuracy: 0.6296\n",
            "Epoch 68/150\n",
            "25/25 [==============================] - 0s 3ms/step - loss: 0.0122 - accuracy: 1.0000 - val_loss: 1.9100 - val_accuracy: 0.5926\n",
            "Epoch 69/150\n",
            "25/25 [==============================] - 0s 3ms/step - loss: 0.0116 - accuracy: 1.0000 - val_loss: 1.9648 - val_accuracy: 0.6296\n",
            "Epoch 70/150\n",
            "25/25 [==============================] - 0s 3ms/step - loss: 0.0100 - accuracy: 1.0000 - val_loss: 2.0085 - val_accuracy: 0.5926\n",
            "Epoch 71/150\n",
            "25/25 [==============================] - 0s 3ms/step - loss: 0.0100 - accuracy: 1.0000 - val_loss: 2.0381 - val_accuracy: 0.6296\n",
            "Epoch 72/150\n",
            "25/25 [==============================] - 0s 3ms/step - loss: 0.0086 - accuracy: 1.0000 - val_loss: 2.0743 - val_accuracy: 0.5926\n",
            "Epoch 73/150\n",
            "25/25 [==============================] - 0s 3ms/step - loss: 0.0087 - accuracy: 1.0000 - val_loss: 2.1048 - val_accuracy: 0.5926\n",
            "Epoch 74/150\n",
            "25/25 [==============================] - 0s 3ms/step - loss: 0.0086 - accuracy: 1.0000 - val_loss: 2.1237 - val_accuracy: 0.5926\n",
            "Epoch 75/150\n",
            "25/25 [==============================] - 0s 3ms/step - loss: 0.0076 - accuracy: 1.0000 - val_loss: 2.1678 - val_accuracy: 0.6296\n",
            "Epoch 76/150\n",
            "25/25 [==============================] - 0s 3ms/step - loss: 0.0066 - accuracy: 1.0000 - val_loss: 2.2022 - val_accuracy: 0.5926\n",
            "Epoch 77/150\n",
            "25/25 [==============================] - 0s 3ms/step - loss: 0.0062 - accuracy: 1.0000 - val_loss: 2.2253 - val_accuracy: 0.6296\n",
            "Epoch 78/150\n",
            "25/25 [==============================] - 0s 4ms/step - loss: 0.0061 - accuracy: 1.0000 - val_loss: 2.2400 - val_accuracy: 0.6296\n",
            "Epoch 79/150\n",
            "25/25 [==============================] - 0s 3ms/step - loss: 0.0053 - accuracy: 1.0000 - val_loss: 2.2706 - val_accuracy: 0.6296\n",
            "Epoch 80/150\n",
            "25/25 [==============================] - 0s 3ms/step - loss: 0.0051 - accuracy: 1.0000 - val_loss: 2.2799 - val_accuracy: 0.6296\n",
            "Epoch 81/150\n",
            "25/25 [==============================] - 0s 3ms/step - loss: 0.0048 - accuracy: 1.0000 - val_loss: 2.3033 - val_accuracy: 0.6296\n",
            "Epoch 82/150\n",
            "25/25 [==============================] - 0s 3ms/step - loss: 0.0046 - accuracy: 1.0000 - val_loss: 2.3562 - val_accuracy: 0.6296\n",
            "Epoch 83/150\n",
            "25/25 [==============================] - 0s 3ms/step - loss: 0.0047 - accuracy: 1.0000 - val_loss: 2.3364 - val_accuracy: 0.6296\n",
            "Epoch 84/150\n",
            "25/25 [==============================] - 0s 3ms/step - loss: 0.0044 - accuracy: 1.0000 - val_loss: 2.3759 - val_accuracy: 0.6296\n",
            "Epoch 85/150\n",
            "25/25 [==============================] - 0s 3ms/step - loss: 0.0040 - accuracy: 1.0000 - val_loss: 2.4070 - val_accuracy: 0.6296\n",
            "Epoch 86/150\n",
            "25/25 [==============================] - 0s 3ms/step - loss: 0.0038 - accuracy: 1.0000 - val_loss: 2.4238 - val_accuracy: 0.6296\n",
            "Epoch 87/150\n",
            "25/25 [==============================] - 0s 3ms/step - loss: 0.0037 - accuracy: 1.0000 - val_loss: 2.4362 - val_accuracy: 0.6296\n",
            "Epoch 88/150\n",
            "25/25 [==============================] - 0s 3ms/step - loss: 0.0037 - accuracy: 1.0000 - val_loss: 2.4618 - val_accuracy: 0.6296\n",
            "Epoch 89/150\n",
            "25/25 [==============================] - 0s 3ms/step - loss: 0.0033 - accuracy: 1.0000 - val_loss: 2.4834 - val_accuracy: 0.6296\n",
            "Epoch 90/150\n",
            "25/25 [==============================] - 0s 3ms/step - loss: 0.0032 - accuracy: 1.0000 - val_loss: 2.5079 - val_accuracy: 0.6296\n",
            "Epoch 91/150\n",
            "25/25 [==============================] - 0s 3ms/step - loss: 0.0029 - accuracy: 1.0000 - val_loss: 2.5319 - val_accuracy: 0.6296\n",
            "Epoch 92/150\n",
            "25/25 [==============================] - 0s 3ms/step - loss: 0.0027 - accuracy: 1.0000 - val_loss: 2.5458 - val_accuracy: 0.6296\n",
            "Epoch 93/150\n",
            "25/25 [==============================] - 0s 3ms/step - loss: 0.0027 - accuracy: 1.0000 - val_loss: 2.5592 - val_accuracy: 0.6296\n",
            "Epoch 94/150\n",
            "25/25 [==============================] - 0s 3ms/step - loss: 0.0025 - accuracy: 1.0000 - val_loss: 2.5714 - val_accuracy: 0.6296\n",
            "Epoch 95/150\n",
            "25/25 [==============================] - 0s 3ms/step - loss: 0.0026 - accuracy: 1.0000 - val_loss: 2.5968 - val_accuracy: 0.6296\n",
            "Epoch 96/150\n",
            "25/25 [==============================] - 0s 4ms/step - loss: 0.0024 - accuracy: 1.0000 - val_loss: 2.6241 - val_accuracy: 0.6296\n",
            "Epoch 97/150\n",
            "25/25 [==============================] - 0s 3ms/step - loss: 0.0023 - accuracy: 1.0000 - val_loss: 2.6294 - val_accuracy: 0.6296\n",
            "Epoch 98/150\n",
            "25/25 [==============================] - 0s 3ms/step - loss: 0.0022 - accuracy: 1.0000 - val_loss: 2.6550 - val_accuracy: 0.5926\n",
            "Epoch 99/150\n",
            "25/25 [==============================] - 0s 3ms/step - loss: 0.0021 - accuracy: 1.0000 - val_loss: 2.6636 - val_accuracy: 0.6296\n",
            "Epoch 100/150\n",
            "25/25 [==============================] - 0s 3ms/step - loss: 0.0020 - accuracy: 1.0000 - val_loss: 2.6880 - val_accuracy: 0.6296\n",
            "Epoch 101/150\n",
            "25/25 [==============================] - 0s 3ms/step - loss: 0.0020 - accuracy: 1.0000 - val_loss: 2.7003 - val_accuracy: 0.6296\n",
            "Epoch 102/150\n",
            "25/25 [==============================] - 0s 3ms/step - loss: 0.0019 - accuracy: 1.0000 - val_loss: 2.7143 - val_accuracy: 0.6296\n",
            "Epoch 103/150\n",
            "25/25 [==============================] - 0s 3ms/step - loss: 0.0019 - accuracy: 1.0000 - val_loss: 2.7408 - val_accuracy: 0.6296\n",
            "Epoch 104/150\n",
            "25/25 [==============================] - 0s 3ms/step - loss: 0.0018 - accuracy: 1.0000 - val_loss: 2.7485 - val_accuracy: 0.6296\n",
            "Epoch 105/150\n",
            "25/25 [==============================] - 0s 3ms/step - loss: 0.0017 - accuracy: 1.0000 - val_loss: 2.7643 - val_accuracy: 0.6296\n",
            "Epoch 106/150\n",
            "25/25 [==============================] - 0s 3ms/step - loss: 0.0016 - accuracy: 1.0000 - val_loss: 2.7789 - val_accuracy: 0.6296\n",
            "Epoch 107/150\n",
            "25/25 [==============================] - 0s 3ms/step - loss: 0.0016 - accuracy: 1.0000 - val_loss: 2.8001 - val_accuracy: 0.6296\n",
            "Epoch 108/150\n",
            "25/25 [==============================] - 0s 3ms/step - loss: 0.0015 - accuracy: 1.0000 - val_loss: 2.8109 - val_accuracy: 0.6296\n",
            "Epoch 109/150\n",
            "25/25 [==============================] - 0s 3ms/step - loss: 0.0015 - accuracy: 1.0000 - val_loss: 2.8268 - val_accuracy: 0.6296\n",
            "Epoch 110/150\n",
            "25/25 [==============================] - 0s 3ms/step - loss: 0.0014 - accuracy: 1.0000 - val_loss: 2.8418 - val_accuracy: 0.6296\n",
            "Epoch 111/150\n",
            "25/25 [==============================] - 0s 3ms/step - loss: 0.0014 - accuracy: 1.0000 - val_loss: 2.8545 - val_accuracy: 0.6296\n",
            "Epoch 112/150\n",
            "25/25 [==============================] - 0s 3ms/step - loss: 0.0014 - accuracy: 1.0000 - val_loss: 2.8645 - val_accuracy: 0.6296\n",
            "Epoch 113/150\n",
            "25/25 [==============================] - 0s 5ms/step - loss: 0.0013 - accuracy: 1.0000 - val_loss: 2.8825 - val_accuracy: 0.6296\n",
            "Epoch 114/150\n",
            "25/25 [==============================] - 0s 3ms/step - loss: 0.0012 - accuracy: 1.0000 - val_loss: 2.8980 - val_accuracy: 0.6296\n",
            "Epoch 115/150\n",
            "25/25 [==============================] - 0s 3ms/step - loss: 0.0012 - accuracy: 1.0000 - val_loss: 2.9069 - val_accuracy: 0.6296\n",
            "Epoch 116/150\n",
            "25/25 [==============================] - 0s 3ms/step - loss: 0.0012 - accuracy: 1.0000 - val_loss: 2.9265 - val_accuracy: 0.6296\n",
            "Epoch 117/150\n",
            "25/25 [==============================] - 0s 3ms/step - loss: 0.0011 - accuracy: 1.0000 - val_loss: 2.9317 - val_accuracy: 0.6296\n",
            "Epoch 118/150\n",
            "25/25 [==============================] - 0s 3ms/step - loss: 0.0011 - accuracy: 1.0000 - val_loss: 2.9380 - val_accuracy: 0.6296\n",
            "Epoch 119/150\n",
            "25/25 [==============================] - 0s 3ms/step - loss: 0.0011 - accuracy: 1.0000 - val_loss: 2.9600 - val_accuracy: 0.6296\n",
            "Epoch 120/150\n",
            "25/25 [==============================] - 0s 3ms/step - loss: 0.0011 - accuracy: 1.0000 - val_loss: 2.9811 - val_accuracy: 0.6296\n",
            "Epoch 121/150\n",
            "25/25 [==============================] - 0s 4ms/step - loss: 0.0010 - accuracy: 1.0000 - val_loss: 2.9919 - val_accuracy: 0.6296\n",
            "Epoch 122/150\n",
            "25/25 [==============================] - 0s 3ms/step - loss: 9.7124e-04 - accuracy: 1.0000 - val_loss: 2.9931 - val_accuracy: 0.6296\n",
            "Epoch 123/150\n",
            "25/25 [==============================] - 0s 3ms/step - loss: 9.5413e-04 - accuracy: 1.0000 - val_loss: 3.0079 - val_accuracy: 0.6296\n",
            "Epoch 124/150\n",
            "25/25 [==============================] - 0s 4ms/step - loss: 9.1869e-04 - accuracy: 1.0000 - val_loss: 3.0244 - val_accuracy: 0.6296\n",
            "Epoch 125/150\n",
            "25/25 [==============================] - 0s 3ms/step - loss: 8.7093e-04 - accuracy: 1.0000 - val_loss: 3.0407 - val_accuracy: 0.6296\n",
            "Epoch 126/150\n",
            "25/25 [==============================] - 0s 3ms/step - loss: 8.7020e-04 - accuracy: 1.0000 - val_loss: 3.0417 - val_accuracy: 0.6296\n",
            "Epoch 127/150\n",
            "25/25 [==============================] - 0s 3ms/step - loss: 8.3774e-04 - accuracy: 1.0000 - val_loss: 3.0591 - val_accuracy: 0.6296\n",
            "Epoch 128/150\n",
            "25/25 [==============================] - 0s 3ms/step - loss: 8.4161e-04 - accuracy: 1.0000 - val_loss: 3.0703 - val_accuracy: 0.6296\n",
            "Epoch 129/150\n",
            "25/25 [==============================] - 0s 3ms/step - loss: 7.9723e-04 - accuracy: 1.0000 - val_loss: 3.0785 - val_accuracy: 0.6296\n",
            "Epoch 130/150\n",
            "25/25 [==============================] - 0s 4ms/step - loss: 7.6928e-04 - accuracy: 1.0000 - val_loss: 3.0993 - val_accuracy: 0.6296\n",
            "Epoch 131/150\n",
            "25/25 [==============================] - 0s 3ms/step - loss: 7.3845e-04 - accuracy: 1.0000 - val_loss: 3.1131 - val_accuracy: 0.6296\n",
            "Epoch 132/150\n",
            "25/25 [==============================] - 0s 4ms/step - loss: 7.2025e-04 - accuracy: 1.0000 - val_loss: 3.1237 - val_accuracy: 0.6296\n",
            "Epoch 133/150\n",
            "25/25 [==============================] - 0s 3ms/step - loss: 7.0979e-04 - accuracy: 1.0000 - val_loss: 3.1450 - val_accuracy: 0.6296\n",
            "Epoch 134/150\n",
            "25/25 [==============================] - 0s 3ms/step - loss: 6.8625e-04 - accuracy: 1.0000 - val_loss: 3.1480 - val_accuracy: 0.6296\n",
            "Epoch 135/150\n",
            "25/25 [==============================] - 0s 3ms/step - loss: 6.9423e-04 - accuracy: 1.0000 - val_loss: 3.1540 - val_accuracy: 0.6296\n",
            "Epoch 136/150\n",
            "25/25 [==============================] - 0s 3ms/step - loss: 6.5559e-04 - accuracy: 1.0000 - val_loss: 3.1600 - val_accuracy: 0.6296\n",
            "Epoch 137/150\n",
            "25/25 [==============================] - 0s 3ms/step - loss: 6.2625e-04 - accuracy: 1.0000 - val_loss: 3.1839 - val_accuracy: 0.6296\n",
            "Epoch 138/150\n",
            "25/25 [==============================] - 0s 3ms/step - loss: 6.1385e-04 - accuracy: 1.0000 - val_loss: 3.1945 - val_accuracy: 0.6296\n",
            "Epoch 139/150\n",
            "25/25 [==============================] - 0s 3ms/step - loss: 6.1481e-04 - accuracy: 1.0000 - val_loss: 3.2143 - val_accuracy: 0.6296\n",
            "Epoch 140/150\n",
            "25/25 [==============================] - 0s 3ms/step - loss: 6.0514e-04 - accuracy: 1.0000 - val_loss: 3.2197 - val_accuracy: 0.6296\n",
            "Epoch 141/150\n",
            "25/25 [==============================] - 0s 3ms/step - loss: 5.6559e-04 - accuracy: 1.0000 - val_loss: 3.2341 - val_accuracy: 0.6296\n",
            "Epoch 142/150\n",
            "25/25 [==============================] - 0s 3ms/step - loss: 5.5083e-04 - accuracy: 1.0000 - val_loss: 3.2426 - val_accuracy: 0.6296\n",
            "Epoch 143/150\n",
            "25/25 [==============================] - 0s 3ms/step - loss: 5.4388e-04 - accuracy: 1.0000 - val_loss: 3.2588 - val_accuracy: 0.6296\n",
            "Epoch 144/150\n",
            "25/25 [==============================] - 0s 4ms/step - loss: 5.2663e-04 - accuracy: 1.0000 - val_loss: 3.2517 - val_accuracy: 0.6296\n",
            "Epoch 145/150\n",
            "25/25 [==============================] - 0s 3ms/step - loss: 5.1589e-04 - accuracy: 1.0000 - val_loss: 3.2687 - val_accuracy: 0.6296\n",
            "Epoch 146/150\n",
            "25/25 [==============================] - 0s 3ms/step - loss: 4.9682e-04 - accuracy: 1.0000 - val_loss: 3.2865 - val_accuracy: 0.6296\n",
            "Epoch 147/150\n",
            "25/25 [==============================] - 0s 3ms/step - loss: 4.8217e-04 - accuracy: 1.0000 - val_loss: 3.2938 - val_accuracy: 0.6296\n",
            "Epoch 148/150\n",
            "25/25 [==============================] - 0s 3ms/step - loss: 4.7677e-04 - accuracy: 1.0000 - val_loss: 3.3024 - val_accuracy: 0.6296\n",
            "Epoch 149/150\n",
            "25/25 [==============================] - 0s 3ms/step - loss: 4.8294e-04 - accuracy: 1.0000 - val_loss: 3.3185 - val_accuracy: 0.6296\n",
            "Epoch 150/150\n",
            "25/25 [==============================] - 0s 4ms/step - loss: 4.5576e-04 - accuracy: 1.0000 - val_loss: 3.3194 - val_accuracy: 0.6296\n"
          ]
        }
      ]
    },
    {
      "cell_type": "code",
      "source": [
        "model.evaluate(X_test, y_test)"
      ],
      "metadata": {
        "id": "ey6oyFQIrA1B",
        "outputId": "f95fc899-f4b3-432a-b028-5521f91b7f5f",
        "colab": {
          "base_uri": "https://localhost:8080/"
        }
      },
      "execution_count": 110,
      "outputs": [
        {
          "output_type": "stream",
          "name": "stdout",
          "text": [
            "1/1 [==============================] - 0s 19ms/step - loss: 293.3815 - accuracy: 0.3913\n"
          ]
        },
        {
          "output_type": "execute_result",
          "data": {
            "text/plain": [
              "[293.3815002441406, 0.3913043439388275]"
            ]
          },
          "metadata": {},
          "execution_count": 110
        }
      ]
    },
    {
      "cell_type": "code",
      "source": [
        "tf.random.set_seed(42)\n",
        "\n",
        "model = tf.keras.Sequential([\n",
        "    tf.keras.layers.Dense(19, activation='relu'),\n",
        "    tf.keras.layers.Dense(40, activation='relu'),\n",
        "    tf.keras.layers.Dense(40, activation='relu'),\n",
        "\n",
        "    tf.keras.layers.Dense(20, activation='relu'),\n",
        "    tf.keras.layers.Dense(10, activation='relu'),\n",
        "\n",
        "    tf.keras.layers.Dense(256, activation='relu'),\n",
        "    tf.keras.layers.Dense(1, activation='sigmoid')\n",
        "])\n",
        "\n",
        "model.compile(\n",
        "    loss=tf.keras.losses.binary_crossentropy,\n",
        "    optimizer=tf.keras.optimizers.Adam(0.001),\n",
        "    metrics=[\"accuracy\"]\n",
        ")\n",
        "\n",
        "\n",
        "history = model.fit(X_train_scaled, \n",
        "                    y_train, \n",
        "                    epochs=150,\n",
        "                    batch_size=5,\n",
        "                    validation_data = (X_valid_scaled, y_valid),\n",
        "                    callbacks=[model_checkpoint])"
      ],
      "metadata": {
        "id": "ytfYzYMftS79",
        "outputId": "d5210e35-cb1e-48cd-9bac-e150af2ebe1a",
        "colab": {
          "base_uri": "https://localhost:8080/"
        }
      },
      "execution_count": 111,
      "outputs": [
        {
          "output_type": "stream",
          "name": "stdout",
          "text": [
            "Epoch 1/150\n",
            "25/25 [==============================] - 1s 10ms/step - loss: 0.6838 - accuracy: 0.5520 - val_loss: 0.6660 - val_accuracy: 0.5926\n",
            "Epoch 2/150\n",
            "25/25 [==============================] - 0s 3ms/step - loss: 0.6726 - accuracy: 0.5840 - val_loss: 0.6607 - val_accuracy: 0.5926\n",
            "Epoch 3/150\n",
            "25/25 [==============================] - 0s 3ms/step - loss: 0.6621 - accuracy: 0.5840 - val_loss: 0.6503 - val_accuracy: 0.5926\n",
            "Epoch 4/150\n",
            "25/25 [==============================] - 0s 3ms/step - loss: 0.6496 - accuracy: 0.6160 - val_loss: 0.6380 - val_accuracy: 0.5926\n",
            "Epoch 5/150\n",
            "25/25 [==============================] - 0s 4ms/step - loss: 0.6365 - accuracy: 0.6720 - val_loss: 0.6348 - val_accuracy: 0.5926\n",
            "Epoch 6/150\n",
            "25/25 [==============================] - 0s 3ms/step - loss: 0.6228 - accuracy: 0.6640 - val_loss: 0.6373 - val_accuracy: 0.6296\n",
            "Epoch 7/150\n",
            "25/25 [==============================] - 0s 3ms/step - loss: 0.6189 - accuracy: 0.6560 - val_loss: 0.6174 - val_accuracy: 0.7037\n",
            "Epoch 8/150\n",
            "25/25 [==============================] - 0s 4ms/step - loss: 0.5756 - accuracy: 0.7440 - val_loss: 0.6557 - val_accuracy: 0.6667\n",
            "Epoch 9/150\n",
            "25/25 [==============================] - 0s 4ms/step - loss: 0.5476 - accuracy: 0.7120 - val_loss: 0.6374 - val_accuracy: 0.5926\n",
            "Epoch 10/150\n",
            "25/25 [==============================] - 0s 3ms/step - loss: 0.4879 - accuracy: 0.7840 - val_loss: 0.6466 - val_accuracy: 0.6296\n",
            "Epoch 11/150\n",
            "25/25 [==============================] - 0s 3ms/step - loss: 0.5026 - accuracy: 0.7760 - val_loss: 0.7064 - val_accuracy: 0.6667\n",
            "Epoch 12/150\n",
            "25/25 [==============================] - 0s 4ms/step - loss: 0.4554 - accuracy: 0.8160 - val_loss: 0.7767 - val_accuracy: 0.5926\n",
            "Epoch 13/150\n",
            "25/25 [==============================] - 0s 4ms/step - loss: 0.4483 - accuracy: 0.8240 - val_loss: 0.7410 - val_accuracy: 0.5926\n",
            "Epoch 14/150\n",
            "25/25 [==============================] - 0s 4ms/step - loss: 0.3890 - accuracy: 0.8240 - val_loss: 0.7401 - val_accuracy: 0.6296\n",
            "Epoch 15/150\n",
            "25/25 [==============================] - 0s 4ms/step - loss: 0.3695 - accuracy: 0.8560 - val_loss: 0.8320 - val_accuracy: 0.5556\n",
            "Epoch 16/150\n",
            "25/25 [==============================] - 0s 4ms/step - loss: 0.3643 - accuracy: 0.8320 - val_loss: 0.7960 - val_accuracy: 0.6296\n",
            "Epoch 17/150\n",
            "25/25 [==============================] - 0s 3ms/step - loss: 0.3099 - accuracy: 0.8640 - val_loss: 0.7850 - val_accuracy: 0.5926\n",
            "Epoch 18/150\n",
            "25/25 [==============================] - 0s 3ms/step - loss: 0.3124 - accuracy: 0.8720 - val_loss: 0.9243 - val_accuracy: 0.5556\n",
            "Epoch 19/150\n",
            "25/25 [==============================] - 0s 4ms/step - loss: 0.2430 - accuracy: 0.9200 - val_loss: 1.0480 - val_accuracy: 0.5556\n",
            "Epoch 20/150\n",
            "25/25 [==============================] - 0s 3ms/step - loss: 0.2520 - accuracy: 0.9040 - val_loss: 0.9529 - val_accuracy: 0.4815\n",
            "Epoch 21/150\n",
            "25/25 [==============================] - 0s 3ms/step - loss: 0.2319 - accuracy: 0.9040 - val_loss: 1.0712 - val_accuracy: 0.5556\n",
            "Epoch 22/150\n",
            "25/25 [==============================] - 0s 3ms/step - loss: 0.1894 - accuracy: 0.9440 - val_loss: 1.1842 - val_accuracy: 0.5556\n",
            "Epoch 23/150\n",
            "25/25 [==============================] - 0s 3ms/step - loss: 0.1697 - accuracy: 0.9280 - val_loss: 1.2570 - val_accuracy: 0.5556\n",
            "Epoch 24/150\n",
            "25/25 [==============================] - 0s 3ms/step - loss: 0.1715 - accuracy: 0.9520 - val_loss: 1.3587 - val_accuracy: 0.5926\n",
            "Epoch 25/150\n",
            "25/25 [==============================] - 0s 3ms/step - loss: 0.1487 - accuracy: 0.9520 - val_loss: 1.6701 - val_accuracy: 0.5556\n",
            "Epoch 26/150\n",
            "25/25 [==============================] - 0s 3ms/step - loss: 0.2178 - accuracy: 0.8720 - val_loss: 1.3857 - val_accuracy: 0.5926\n",
            "Epoch 27/150\n",
            "25/25 [==============================] - 0s 4ms/step - loss: 0.1275 - accuracy: 0.9680 - val_loss: 1.2671 - val_accuracy: 0.5556\n",
            "Epoch 28/150\n",
            "25/25 [==============================] - 0s 4ms/step - loss: 0.0827 - accuracy: 0.9760 - val_loss: 1.5457 - val_accuracy: 0.5185\n",
            "Epoch 29/150\n",
            "25/25 [==============================] - 0s 3ms/step - loss: 0.0567 - accuracy: 0.9920 - val_loss: 1.5557 - val_accuracy: 0.5556\n",
            "Epoch 30/150\n",
            "25/25 [==============================] - 0s 3ms/step - loss: 0.0401 - accuracy: 1.0000 - val_loss: 1.8360 - val_accuracy: 0.5185\n",
            "Epoch 31/150\n",
            "25/25 [==============================] - 0s 3ms/step - loss: 0.0301 - accuracy: 1.0000 - val_loss: 1.9213 - val_accuracy: 0.5556\n",
            "Epoch 32/150\n",
            "25/25 [==============================] - 0s 3ms/step - loss: 0.0214 - accuracy: 1.0000 - val_loss: 1.9790 - val_accuracy: 0.5185\n",
            "Epoch 33/150\n",
            "25/25 [==============================] - 0s 3ms/step - loss: 0.0189 - accuracy: 1.0000 - val_loss: 2.0663 - val_accuracy: 0.5926\n",
            "Epoch 34/150\n",
            "25/25 [==============================] - 0s 3ms/step - loss: 0.0247 - accuracy: 0.9920 - val_loss: 2.2578 - val_accuracy: 0.5185\n",
            "Epoch 35/150\n",
            "25/25 [==============================] - 0s 3ms/step - loss: 0.0171 - accuracy: 1.0000 - val_loss: 2.1903 - val_accuracy: 0.5556\n",
            "Epoch 36/150\n",
            "25/25 [==============================] - 0s 3ms/step - loss: 0.0106 - accuracy: 1.0000 - val_loss: 2.3454 - val_accuracy: 0.5556\n",
            "Epoch 37/150\n",
            "25/25 [==============================] - 0s 3ms/step - loss: 0.0076 - accuracy: 1.0000 - val_loss: 2.3710 - val_accuracy: 0.5556\n",
            "Epoch 38/150\n",
            "25/25 [==============================] - 0s 3ms/step - loss: 0.0060 - accuracy: 1.0000 - val_loss: 2.4857 - val_accuracy: 0.5185\n",
            "Epoch 39/150\n",
            "25/25 [==============================] - 0s 3ms/step - loss: 0.0057 - accuracy: 1.0000 - val_loss: 2.4655 - val_accuracy: 0.5556\n",
            "Epoch 40/150\n",
            "25/25 [==============================] - 0s 4ms/step - loss: 0.0064 - accuracy: 1.0000 - val_loss: 2.5862 - val_accuracy: 0.5556\n",
            "Epoch 41/150\n",
            "25/25 [==============================] - 0s 4ms/step - loss: 0.0045 - accuracy: 1.0000 - val_loss: 2.6286 - val_accuracy: 0.5556\n",
            "Epoch 42/150\n",
            "25/25 [==============================] - 0s 3ms/step - loss: 0.0040 - accuracy: 1.0000 - val_loss: 2.6483 - val_accuracy: 0.5556\n",
            "Epoch 43/150\n",
            "25/25 [==============================] - 0s 3ms/step - loss: 0.0037 - accuracy: 1.0000 - val_loss: 2.7485 - val_accuracy: 0.5556\n",
            "Epoch 44/150\n",
            "25/25 [==============================] - 0s 3ms/step - loss: 0.0031 - accuracy: 1.0000 - val_loss: 2.7361 - val_accuracy: 0.5556\n",
            "Epoch 45/150\n",
            "25/25 [==============================] - 0s 3ms/step - loss: 0.0028 - accuracy: 1.0000 - val_loss: 2.8101 - val_accuracy: 0.5556\n",
            "Epoch 46/150\n",
            "25/25 [==============================] - 0s 3ms/step - loss: 0.0024 - accuracy: 1.0000 - val_loss: 2.8388 - val_accuracy: 0.5556\n",
            "Epoch 47/150\n",
            "25/25 [==============================] - 0s 4ms/step - loss: 0.0022 - accuracy: 1.0000 - val_loss: 2.8656 - val_accuracy: 0.5926\n",
            "Epoch 48/150\n",
            "25/25 [==============================] - 0s 3ms/step - loss: 0.0022 - accuracy: 1.0000 - val_loss: 2.9085 - val_accuracy: 0.5556\n",
            "Epoch 49/150\n",
            "25/25 [==============================] - 0s 3ms/step - loss: 0.0020 - accuracy: 1.0000 - val_loss: 2.9548 - val_accuracy: 0.5556\n",
            "Epoch 50/150\n",
            "25/25 [==============================] - 0s 3ms/step - loss: 0.0018 - accuracy: 1.0000 - val_loss: 2.9825 - val_accuracy: 0.5556\n",
            "Epoch 51/150\n",
            "25/25 [==============================] - 0s 4ms/step - loss: 0.0017 - accuracy: 1.0000 - val_loss: 3.0140 - val_accuracy: 0.5556\n",
            "Epoch 52/150\n",
            "25/25 [==============================] - 0s 4ms/step - loss: 0.0016 - accuracy: 1.0000 - val_loss: 3.0507 - val_accuracy: 0.5926\n",
            "Epoch 53/150\n",
            "25/25 [==============================] - 0s 3ms/step - loss: 0.0014 - accuracy: 1.0000 - val_loss: 3.0813 - val_accuracy: 0.5556\n",
            "Epoch 54/150\n",
            "25/25 [==============================] - 0s 3ms/step - loss: 0.0014 - accuracy: 1.0000 - val_loss: 3.0956 - val_accuracy: 0.5926\n",
            "Epoch 55/150\n",
            "25/25 [==============================] - 0s 3ms/step - loss: 0.0013 - accuracy: 1.0000 - val_loss: 3.1319 - val_accuracy: 0.5926\n",
            "Epoch 56/150\n",
            "25/25 [==============================] - 0s 3ms/step - loss: 0.0012 - accuracy: 1.0000 - val_loss: 3.1505 - val_accuracy: 0.5926\n",
            "Epoch 57/150\n",
            "25/25 [==============================] - 0s 4ms/step - loss: 0.0011 - accuracy: 1.0000 - val_loss: 3.1968 - val_accuracy: 0.5556\n",
            "Epoch 58/150\n",
            "25/25 [==============================] - 0s 3ms/step - loss: 0.0011 - accuracy: 1.0000 - val_loss: 3.2059 - val_accuracy: 0.5926\n",
            "Epoch 59/150\n",
            "25/25 [==============================] - 0s 4ms/step - loss: 0.0010 - accuracy: 1.0000 - val_loss: 3.2439 - val_accuracy: 0.5556\n",
            "Epoch 60/150\n",
            "25/25 [==============================] - 0s 3ms/step - loss: 9.3728e-04 - accuracy: 1.0000 - val_loss: 3.2504 - val_accuracy: 0.5926\n",
            "Epoch 61/150\n",
            "25/25 [==============================] - 0s 3ms/step - loss: 8.9915e-04 - accuracy: 1.0000 - val_loss: 3.2668 - val_accuracy: 0.5926\n",
            "Epoch 62/150\n",
            "25/25 [==============================] - 0s 3ms/step - loss: 8.5707e-04 - accuracy: 1.0000 - val_loss: 3.2925 - val_accuracy: 0.5926\n",
            "Epoch 63/150\n",
            "25/25 [==============================] - 0s 3ms/step - loss: 8.2013e-04 - accuracy: 1.0000 - val_loss: 3.3334 - val_accuracy: 0.5926\n",
            "Epoch 64/150\n",
            "25/25 [==============================] - 0s 3ms/step - loss: 7.7118e-04 - accuracy: 1.0000 - val_loss: 3.3384 - val_accuracy: 0.5926\n",
            "Epoch 65/150\n",
            "25/25 [==============================] - 0s 3ms/step - loss: 7.4678e-04 - accuracy: 1.0000 - val_loss: 3.3690 - val_accuracy: 0.5926\n",
            "Epoch 66/150\n",
            "25/25 [==============================] - 0s 3ms/step - loss: 7.1225e-04 - accuracy: 1.0000 - val_loss: 3.3858 - val_accuracy: 0.5926\n",
            "Epoch 67/150\n",
            "25/25 [==============================] - 0s 4ms/step - loss: 6.7496e-04 - accuracy: 1.0000 - val_loss: 3.3918 - val_accuracy: 0.5926\n",
            "Epoch 68/150\n",
            "25/25 [==============================] - 0s 3ms/step - loss: 6.4843e-04 - accuracy: 1.0000 - val_loss: 3.4193 - val_accuracy: 0.5926\n",
            "Epoch 69/150\n",
            "25/25 [==============================] - 0s 3ms/step - loss: 6.1326e-04 - accuracy: 1.0000 - val_loss: 3.4387 - val_accuracy: 0.5926\n",
            "Epoch 70/150\n",
            "25/25 [==============================] - 0s 3ms/step - loss: 5.9214e-04 - accuracy: 1.0000 - val_loss: 3.4573 - val_accuracy: 0.5926\n",
            "Epoch 71/150\n",
            "25/25 [==============================] - 0s 3ms/step - loss: 5.6323e-04 - accuracy: 1.0000 - val_loss: 3.4711 - val_accuracy: 0.5926\n",
            "Epoch 72/150\n",
            "25/25 [==============================] - 0s 3ms/step - loss: 5.4344e-04 - accuracy: 1.0000 - val_loss: 3.4968 - val_accuracy: 0.5926\n",
            "Epoch 73/150\n",
            "25/25 [==============================] - 0s 3ms/step - loss: 5.3432e-04 - accuracy: 1.0000 - val_loss: 3.5159 - val_accuracy: 0.5926\n",
            "Epoch 74/150\n",
            "25/25 [==============================] - 0s 4ms/step - loss: 5.0537e-04 - accuracy: 1.0000 - val_loss: 3.5128 - val_accuracy: 0.5926\n",
            "Epoch 75/150\n",
            "25/25 [==============================] - 0s 3ms/step - loss: 4.8959e-04 - accuracy: 1.0000 - val_loss: 3.5517 - val_accuracy: 0.5926\n",
            "Epoch 76/150\n",
            "25/25 [==============================] - 0s 4ms/step - loss: 4.5732e-04 - accuracy: 1.0000 - val_loss: 3.5703 - val_accuracy: 0.5926\n",
            "Epoch 77/150\n",
            "25/25 [==============================] - 0s 4ms/step - loss: 4.4507e-04 - accuracy: 1.0000 - val_loss: 3.5786 - val_accuracy: 0.5926\n",
            "Epoch 78/150\n",
            "25/25 [==============================] - 0s 3ms/step - loss: 4.2964e-04 - accuracy: 1.0000 - val_loss: 3.5947 - val_accuracy: 0.5926\n",
            "Epoch 79/150\n",
            "25/25 [==============================] - 0s 4ms/step - loss: 4.0939e-04 - accuracy: 1.0000 - val_loss: 3.6162 - val_accuracy: 0.5926\n",
            "Epoch 80/150\n",
            "25/25 [==============================] - 0s 3ms/step - loss: 3.9668e-04 - accuracy: 1.0000 - val_loss: 3.6285 - val_accuracy: 0.5926\n",
            "Epoch 81/150\n",
            "25/25 [==============================] - 0s 4ms/step - loss: 3.8319e-04 - accuracy: 1.0000 - val_loss: 3.6519 - val_accuracy: 0.5926\n",
            "Epoch 82/150\n",
            "25/25 [==============================] - 0s 3ms/step - loss: 3.6105e-04 - accuracy: 1.0000 - val_loss: 3.6584 - val_accuracy: 0.5926\n",
            "Epoch 83/150\n",
            "25/25 [==============================] - 0s 3ms/step - loss: 3.5373e-04 - accuracy: 1.0000 - val_loss: 3.6762 - val_accuracy: 0.5926\n",
            "Epoch 84/150\n",
            "25/25 [==============================] - 0s 4ms/step - loss: 3.4437e-04 - accuracy: 1.0000 - val_loss: 3.6941 - val_accuracy: 0.5926\n",
            "Epoch 85/150\n",
            "25/25 [==============================] - 0s 3ms/step - loss: 3.3436e-04 - accuracy: 1.0000 - val_loss: 3.7167 - val_accuracy: 0.5926\n",
            "Epoch 86/150\n",
            "25/25 [==============================] - 0s 4ms/step - loss: 3.1706e-04 - accuracy: 1.0000 - val_loss: 3.7298 - val_accuracy: 0.5926\n",
            "Epoch 87/150\n",
            "25/25 [==============================] - 0s 3ms/step - loss: 3.0484e-04 - accuracy: 1.0000 - val_loss: 3.7377 - val_accuracy: 0.5926\n",
            "Epoch 88/150\n",
            "25/25 [==============================] - 0s 3ms/step - loss: 2.9753e-04 - accuracy: 1.0000 - val_loss: 3.7536 - val_accuracy: 0.5926\n",
            "Epoch 89/150\n",
            "25/25 [==============================] - 0s 3ms/step - loss: 2.8599e-04 - accuracy: 1.0000 - val_loss: 3.7772 - val_accuracy: 0.5926\n",
            "Epoch 90/150\n",
            "25/25 [==============================] - 0s 3ms/step - loss: 2.7980e-04 - accuracy: 1.0000 - val_loss: 3.7869 - val_accuracy: 0.5926\n",
            "Epoch 91/150\n",
            "25/25 [==============================] - 0s 4ms/step - loss: 2.6725e-04 - accuracy: 1.0000 - val_loss: 3.8013 - val_accuracy: 0.5926\n",
            "Epoch 92/150\n",
            "25/25 [==============================] - 0s 4ms/step - loss: 2.5784e-04 - accuracy: 1.0000 - val_loss: 3.8194 - val_accuracy: 0.5926\n",
            "Epoch 93/150\n",
            "25/25 [==============================] - 0s 3ms/step - loss: 2.4930e-04 - accuracy: 1.0000 - val_loss: 3.8260 - val_accuracy: 0.5926\n",
            "Epoch 94/150\n",
            "25/25 [==============================] - 0s 3ms/step - loss: 2.4182e-04 - accuracy: 1.0000 - val_loss: 3.8393 - val_accuracy: 0.5926\n",
            "Epoch 95/150\n",
            "25/25 [==============================] - 0s 3ms/step - loss: 2.4233e-04 - accuracy: 1.0000 - val_loss: 3.8513 - val_accuracy: 0.5926\n",
            "Epoch 96/150\n",
            "25/25 [==============================] - 0s 4ms/step - loss: 2.2909e-04 - accuracy: 1.0000 - val_loss: 3.8748 - val_accuracy: 0.5926\n",
            "Epoch 97/150\n",
            "25/25 [==============================] - 0s 3ms/step - loss: 2.2519e-04 - accuracy: 1.0000 - val_loss: 3.8768 - val_accuracy: 0.5926\n",
            "Epoch 98/150\n",
            "25/25 [==============================] - 0s 3ms/step - loss: 2.1593e-04 - accuracy: 1.0000 - val_loss: 3.9000 - val_accuracy: 0.5926\n",
            "Epoch 99/150\n",
            "25/25 [==============================] - 0s 3ms/step - loss: 2.0998e-04 - accuracy: 1.0000 - val_loss: 3.9124 - val_accuracy: 0.5926\n",
            "Epoch 100/150\n",
            "25/25 [==============================] - 0s 3ms/step - loss: 2.0313e-04 - accuracy: 1.0000 - val_loss: 3.9180 - val_accuracy: 0.5926\n",
            "Epoch 101/150\n",
            "25/25 [==============================] - 0s 3ms/step - loss: 1.9748e-04 - accuracy: 1.0000 - val_loss: 3.9365 - val_accuracy: 0.5926\n",
            "Epoch 102/150\n",
            "25/25 [==============================] - 0s 4ms/step - loss: 1.9340e-04 - accuracy: 1.0000 - val_loss: 3.9477 - val_accuracy: 0.5926\n",
            "Epoch 103/150\n",
            "25/25 [==============================] - 0s 3ms/step - loss: 1.8723e-04 - accuracy: 1.0000 - val_loss: 3.9770 - val_accuracy: 0.5926\n",
            "Epoch 104/150\n",
            "25/25 [==============================] - 0s 3ms/step - loss: 1.8152e-04 - accuracy: 1.0000 - val_loss: 3.9701 - val_accuracy: 0.5926\n",
            "Epoch 105/150\n",
            "25/25 [==============================] - 0s 3ms/step - loss: 1.7528e-04 - accuracy: 1.0000 - val_loss: 3.9835 - val_accuracy: 0.5926\n",
            "Epoch 106/150\n",
            "25/25 [==============================] - 0s 3ms/step - loss: 1.7254e-04 - accuracy: 1.0000 - val_loss: 3.9961 - val_accuracy: 0.5926\n",
            "Epoch 107/150\n",
            "25/25 [==============================] - 0s 4ms/step - loss: 1.6703e-04 - accuracy: 1.0000 - val_loss: 4.0152 - val_accuracy: 0.5926\n",
            "Epoch 108/150\n",
            "25/25 [==============================] - 0s 4ms/step - loss: 1.6112e-04 - accuracy: 1.0000 - val_loss: 4.0234 - val_accuracy: 0.5926\n",
            "Epoch 109/150\n",
            "25/25 [==============================] - 0s 3ms/step - loss: 1.5823e-04 - accuracy: 1.0000 - val_loss: 4.0361 - val_accuracy: 0.5926\n",
            "Epoch 110/150\n",
            "25/25 [==============================] - 0s 3ms/step - loss: 1.5310e-04 - accuracy: 1.0000 - val_loss: 4.0493 - val_accuracy: 0.5926\n",
            "Epoch 111/150\n",
            "25/25 [==============================] - 0s 3ms/step - loss: 1.5057e-04 - accuracy: 1.0000 - val_loss: 4.0606 - val_accuracy: 0.5926\n",
            "Epoch 112/150\n",
            "25/25 [==============================] - 0s 4ms/step - loss: 1.4607e-04 - accuracy: 1.0000 - val_loss: 4.0642 - val_accuracy: 0.5926\n",
            "Epoch 113/150\n",
            "25/25 [==============================] - 0s 3ms/step - loss: 1.4335e-04 - accuracy: 1.0000 - val_loss: 4.0857 - val_accuracy: 0.5926\n",
            "Epoch 114/150\n",
            "25/25 [==============================] - 0s 4ms/step - loss: 1.3759e-04 - accuracy: 1.0000 - val_loss: 4.0938 - val_accuracy: 0.5926\n",
            "Epoch 115/150\n",
            "25/25 [==============================] - 0s 3ms/step - loss: 1.3641e-04 - accuracy: 1.0000 - val_loss: 4.1058 - val_accuracy: 0.5926\n",
            "Epoch 116/150\n",
            "25/25 [==============================] - 0s 3ms/step - loss: 1.3074e-04 - accuracy: 1.0000 - val_loss: 4.1235 - val_accuracy: 0.5926\n",
            "Epoch 117/150\n",
            "25/25 [==============================] - 0s 4ms/step - loss: 1.2786e-04 - accuracy: 1.0000 - val_loss: 4.1292 - val_accuracy: 0.5926\n",
            "Epoch 118/150\n",
            "25/25 [==============================] - 0s 3ms/step - loss: 1.2528e-04 - accuracy: 1.0000 - val_loss: 4.1394 - val_accuracy: 0.5926\n",
            "Epoch 119/150\n",
            "25/25 [==============================] - 0s 3ms/step - loss: 1.2168e-04 - accuracy: 1.0000 - val_loss: 4.1595 - val_accuracy: 0.5926\n",
            "Epoch 120/150\n",
            "25/25 [==============================] - 0s 4ms/step - loss: 1.1945e-04 - accuracy: 1.0000 - val_loss: 4.1690 - val_accuracy: 0.5926\n",
            "Epoch 121/150\n",
            "25/25 [==============================] - 0s 3ms/step - loss: 1.1637e-04 - accuracy: 1.0000 - val_loss: 4.1753 - val_accuracy: 0.5926\n",
            "Epoch 122/150\n",
            "25/25 [==============================] - 0s 4ms/step - loss: 1.1404e-04 - accuracy: 1.0000 - val_loss: 4.1771 - val_accuracy: 0.5926\n",
            "Epoch 123/150\n",
            "25/25 [==============================] - 0s 3ms/step - loss: 1.1035e-04 - accuracy: 1.0000 - val_loss: 4.1929 - val_accuracy: 0.5926\n",
            "Epoch 124/150\n",
            "25/25 [==============================] - 0s 3ms/step - loss: 1.1042e-04 - accuracy: 1.0000 - val_loss: 4.2114 - val_accuracy: 0.5926\n",
            "Epoch 125/150\n",
            "25/25 [==============================] - 0s 3ms/step - loss: 1.0505e-04 - accuracy: 1.0000 - val_loss: 4.2171 - val_accuracy: 0.5926\n",
            "Epoch 126/150\n",
            "25/25 [==============================] - 0s 4ms/step - loss: 1.0430e-04 - accuracy: 1.0000 - val_loss: 4.2250 - val_accuracy: 0.5926\n",
            "Epoch 127/150\n",
            "25/25 [==============================] - 0s 3ms/step - loss: 1.0143e-04 - accuracy: 1.0000 - val_loss: 4.2343 - val_accuracy: 0.5926\n",
            "Epoch 128/150\n",
            "25/25 [==============================] - 0s 4ms/step - loss: 9.8589e-05 - accuracy: 1.0000 - val_loss: 4.2520 - val_accuracy: 0.5926\n",
            "Epoch 129/150\n",
            "25/25 [==============================] - 0s 3ms/step - loss: 9.5447e-05 - accuracy: 1.0000 - val_loss: 4.2571 - val_accuracy: 0.5926\n",
            "Epoch 130/150\n",
            "25/25 [==============================] - 0s 4ms/step - loss: 9.4687e-05 - accuracy: 1.0000 - val_loss: 4.2703 - val_accuracy: 0.5926\n",
            "Epoch 131/150\n",
            "25/25 [==============================] - 0s 3ms/step - loss: 9.1026e-05 - accuracy: 1.0000 - val_loss: 4.2880 - val_accuracy: 0.5926\n",
            "Epoch 132/150\n",
            "25/25 [==============================] - 0s 3ms/step - loss: 8.9701e-05 - accuracy: 1.0000 - val_loss: 4.2921 - val_accuracy: 0.5926\n",
            "Epoch 133/150\n",
            "25/25 [==============================] - 0s 4ms/step - loss: 8.7041e-05 - accuracy: 1.0000 - val_loss: 4.3107 - val_accuracy: 0.5926\n",
            "Epoch 134/150\n",
            "25/25 [==============================] - 0s 3ms/step - loss: 8.6505e-05 - accuracy: 1.0000 - val_loss: 4.3135 - val_accuracy: 0.5926\n",
            "Epoch 135/150\n",
            "25/25 [==============================] - 0s 4ms/step - loss: 8.3813e-05 - accuracy: 1.0000 - val_loss: 4.3283 - val_accuracy: 0.5926\n",
            "Epoch 136/150\n",
            "25/25 [==============================] - 0s 4ms/step - loss: 8.1346e-05 - accuracy: 1.0000 - val_loss: 4.3329 - val_accuracy: 0.5926\n",
            "Epoch 137/150\n",
            "25/25 [==============================] - 0s 3ms/step - loss: 7.9097e-05 - accuracy: 1.0000 - val_loss: 4.3459 - val_accuracy: 0.5926\n",
            "Epoch 138/150\n",
            "25/25 [==============================] - 0s 3ms/step - loss: 7.7555e-05 - accuracy: 1.0000 - val_loss: 4.3562 - val_accuracy: 0.5926\n",
            "Epoch 139/150\n",
            "25/25 [==============================] - 0s 3ms/step - loss: 7.6972e-05 - accuracy: 1.0000 - val_loss: 4.3659 - val_accuracy: 0.5926\n",
            "Epoch 140/150\n",
            "25/25 [==============================] - 0s 4ms/step - loss: 7.5175e-05 - accuracy: 1.0000 - val_loss: 4.3703 - val_accuracy: 0.5926\n",
            "Epoch 141/150\n",
            "25/25 [==============================] - 0s 3ms/step - loss: 7.2483e-05 - accuracy: 1.0000 - val_loss: 4.3902 - val_accuracy: 0.5926\n",
            "Epoch 142/150\n",
            "25/25 [==============================] - 0s 3ms/step - loss: 7.0644e-05 - accuracy: 1.0000 - val_loss: 4.3984 - val_accuracy: 0.5926\n",
            "Epoch 143/150\n",
            "25/25 [==============================] - 0s 3ms/step - loss: 6.9759e-05 - accuracy: 1.0000 - val_loss: 4.4150 - val_accuracy: 0.5926\n",
            "Epoch 144/150\n",
            "25/25 [==============================] - 0s 4ms/step - loss: 6.7711e-05 - accuracy: 1.0000 - val_loss: 4.4131 - val_accuracy: 0.5926\n",
            "Epoch 145/150\n",
            "25/25 [==============================] - 0s 3ms/step - loss: 6.6117e-05 - accuracy: 1.0000 - val_loss: 4.4239 - val_accuracy: 0.5926\n",
            "Epoch 146/150\n",
            "25/25 [==============================] - 0s 3ms/step - loss: 6.4506e-05 - accuracy: 1.0000 - val_loss: 4.4370 - val_accuracy: 0.5926\n",
            "Epoch 147/150\n",
            "25/25 [==============================] - 0s 4ms/step - loss: 6.3106e-05 - accuracy: 1.0000 - val_loss: 4.4474 - val_accuracy: 0.5926\n",
            "Epoch 148/150\n",
            "25/25 [==============================] - 0s 3ms/step - loss: 6.2282e-05 - accuracy: 1.0000 - val_loss: 4.4526 - val_accuracy: 0.5926\n",
            "Epoch 149/150\n",
            "25/25 [==============================] - 0s 3ms/step - loss: 6.1656e-05 - accuracy: 1.0000 - val_loss: 4.4717 - val_accuracy: 0.5926\n",
            "Epoch 150/150\n",
            "25/25 [==============================] - 0s 3ms/step - loss: 5.9384e-05 - accuracy: 1.0000 - val_loss: 4.4760 - val_accuracy: 0.5926\n"
          ]
        }
      ]
    },
    {
      "cell_type": "code",
      "source": [
        "model.evaluate(X_test, y_test)"
      ],
      "metadata": {
        "id": "hnN5jGe7rBrV",
        "outputId": "bbb2ed9c-9be4-40b1-f548-4ded16906bcf",
        "colab": {
          "base_uri": "https://localhost:8080/"
        }
      },
      "execution_count": 112,
      "outputs": [
        {
          "output_type": "stream",
          "name": "stdout",
          "text": [
            "1/1 [==============================] - 0s 19ms/step - loss: 243.2173 - accuracy: 0.3913\n"
          ]
        },
        {
          "output_type": "execute_result",
          "data": {
            "text/plain": [
              "[243.2173309326172, 0.3913043439388275]"
            ]
          },
          "metadata": {},
          "execution_count": 112
        }
      ]
    },
    {
      "cell_type": "code",
      "source": [
        ""
      ],
      "metadata": {
        "id": "aSFXiJDIe0wL"
      },
      "execution_count": 112,
      "outputs": []
    },
    {
      "cell_type": "code",
      "source": [
        ""
      ],
      "metadata": {
        "id": "HwrvwOX0cyMf"
      },
      "execution_count": 112,
      "outputs": []
    },
    {
      "cell_type": "code",
      "source": [
        ""
      ],
      "metadata": {
        "id": "sGr_oqlJHh4h"
      },
      "execution_count": 112,
      "outputs": []
    },
    {
      "cell_type": "code",
      "source": [
        ""
      ],
      "metadata": {
        "id": "xSCrBKNIHh7K"
      },
      "execution_count": 112,
      "outputs": []
    },
    {
      "cell_type": "code",
      "execution_count": 113,
      "metadata": {
        "id": "jxDbWXbvvMEV",
        "colab": {
          "base_uri": "https://localhost:8080/",
          "height": 511
        },
        "outputId": "dc92cc7a-4be9-4923-9eb6-f577802c51a4"
      },
      "outputs": [
        {
          "output_type": "error",
          "ename": "KeyError",
          "evalue": "ignored",
          "traceback": [
            "\u001b[0;31m---------------------------------------------------------------------------\u001b[0m",
            "\u001b[0;31mKeyError\u001b[0m                                  Traceback (most recent call last)",
            "\u001b[0;32m/usr/local/lib/python3.7/dist-packages/pandas/core/indexes/base.py\u001b[0m in \u001b[0;36mget_loc\u001b[0;34m(self, key, method, tolerance)\u001b[0m\n\u001b[1;32m   3360\u001b[0m             \u001b[0;32mtry\u001b[0m\u001b[0;34m:\u001b[0m\u001b[0;34m\u001b[0m\u001b[0;34m\u001b[0m\u001b[0m\n\u001b[0;32m-> 3361\u001b[0;31m                 \u001b[0;32mreturn\u001b[0m \u001b[0mself\u001b[0m\u001b[0;34m.\u001b[0m\u001b[0m_engine\u001b[0m\u001b[0;34m.\u001b[0m\u001b[0mget_loc\u001b[0m\u001b[0;34m(\u001b[0m\u001b[0mcasted_key\u001b[0m\u001b[0;34m)\u001b[0m\u001b[0;34m\u001b[0m\u001b[0;34m\u001b[0m\u001b[0m\n\u001b[0m\u001b[1;32m   3362\u001b[0m             \u001b[0;32mexcept\u001b[0m \u001b[0mKeyError\u001b[0m \u001b[0;32mas\u001b[0m \u001b[0merr\u001b[0m\u001b[0;34m:\u001b[0m\u001b[0;34m\u001b[0m\u001b[0;34m\u001b[0m\u001b[0m\n",
            "\u001b[0;32m/usr/local/lib/python3.7/dist-packages/pandas/_libs/index.pyx\u001b[0m in \u001b[0;36mpandas._libs.index.IndexEngine.get_loc\u001b[0;34m()\u001b[0m\n",
            "\u001b[0;32m/usr/local/lib/python3.7/dist-packages/pandas/_libs/index.pyx\u001b[0m in \u001b[0;36mpandas._libs.index.IndexEngine.get_loc\u001b[0;34m()\u001b[0m\n",
            "\u001b[0;32mpandas/_libs/hashtable_class_helper.pxi\u001b[0m in \u001b[0;36mpandas._libs.hashtable.PyObjectHashTable.get_item\u001b[0;34m()\u001b[0m\n",
            "\u001b[0;32mpandas/_libs/hashtable_class_helper.pxi\u001b[0m in \u001b[0;36mpandas._libs.hashtable.PyObjectHashTable.get_item\u001b[0;34m()\u001b[0m\n",
            "\u001b[0;31mKeyError\u001b[0m: 'Нарушения сна больше 5'",
            "\nThe above exception was the direct cause of the following exception:\n",
            "\u001b[0;31mKeyError\u001b[0m                                  Traceback (most recent call last)",
            "\u001b[0;32m<ipython-input-113-3819433a1a35>\u001b[0m in \u001b[0;36m<module>\u001b[0;34m()\u001b[0m\n\u001b[0;32m----> 1\u001b[0;31m \u001b[0my\u001b[0m \u001b[0;34m=\u001b[0m \u001b[0mdata\u001b[0m\u001b[0;34m[\u001b[0m\u001b[0;34m'Нарушения сна больше 5'\u001b[0m\u001b[0;34m]\u001b[0m\u001b[0;34m\u001b[0m\u001b[0;34m\u001b[0m\u001b[0m\n\u001b[0m\u001b[1;32m      2\u001b[0m \u001b[0;31m# X = data.drop(columns=['Нарушения сна больше 5'])\u001b[0m\u001b[0;34m\u001b[0m\u001b[0;34m\u001b[0m\u001b[0;34m\u001b[0m\u001b[0m\n\u001b[1;32m      3\u001b[0m \u001b[0;31m# X = data[['Пол', 'Удовлетворенность семейными отношениями', 'ЧМТ','Стаж шизофр', 'Образование']]\u001b[0m\u001b[0;34m\u001b[0m\u001b[0;34m\u001b[0m\u001b[0;34m\u001b[0m\u001b[0m\n\u001b[1;32m      4\u001b[0m \u001b[0mX\u001b[0m \u001b[0;34m=\u001b[0m \u001b[0mdata\u001b[0m\u001b[0;34m[\u001b[0m\u001b[0;34m[\u001b[0m\u001b[0;34m'Пол'\u001b[0m\u001b[0;34m,\u001b[0m \u001b[0;34m'Удовлетворенность семейными отношениями'\u001b[0m\u001b[0;34m,\u001b[0m \u001b[0;34m'ЧМТ'\u001b[0m\u001b[0;34m,\u001b[0m\u001b[0;34m'Стаж шизофр'\u001b[0m\u001b[0;34m,\u001b[0m \u001b[0;34m'Образование'\u001b[0m\u001b[0;34m,\u001b[0m \u001b[0;34m'Насл отягощенность'\u001b[0m\u001b[0;34m,\u001b[0m \u001b[0;34m'P'\u001b[0m\u001b[0;34m,\u001b[0m \u001b[0;34m'N'\u001b[0m\u001b[0;34m,\u001b[0m \u001b[0;34m'G'\u001b[0m\u001b[0;34m]\u001b[0m\u001b[0;34m]\u001b[0m\u001b[0;34m\u001b[0m\u001b[0;34m\u001b[0m\u001b[0m\n\u001b[1;32m      5\u001b[0m \u001b[0;31m# X = data[[ 'P', 'N', 'G']] # Only with these 3 values we can get very good result\u001b[0m\u001b[0;34m\u001b[0m\u001b[0;34m\u001b[0m\u001b[0;34m\u001b[0m\u001b[0m\n",
            "\u001b[0;32m/usr/local/lib/python3.7/dist-packages/pandas/core/frame.py\u001b[0m in \u001b[0;36m__getitem__\u001b[0;34m(self, key)\u001b[0m\n\u001b[1;32m   3456\u001b[0m             \u001b[0;32mif\u001b[0m \u001b[0mself\u001b[0m\u001b[0;34m.\u001b[0m\u001b[0mcolumns\u001b[0m\u001b[0;34m.\u001b[0m\u001b[0mnlevels\u001b[0m \u001b[0;34m>\u001b[0m \u001b[0;36m1\u001b[0m\u001b[0;34m:\u001b[0m\u001b[0;34m\u001b[0m\u001b[0;34m\u001b[0m\u001b[0m\n\u001b[1;32m   3457\u001b[0m                 \u001b[0;32mreturn\u001b[0m \u001b[0mself\u001b[0m\u001b[0;34m.\u001b[0m\u001b[0m_getitem_multilevel\u001b[0m\u001b[0;34m(\u001b[0m\u001b[0mkey\u001b[0m\u001b[0;34m)\u001b[0m\u001b[0;34m\u001b[0m\u001b[0;34m\u001b[0m\u001b[0m\n\u001b[0;32m-> 3458\u001b[0;31m             \u001b[0mindexer\u001b[0m \u001b[0;34m=\u001b[0m \u001b[0mself\u001b[0m\u001b[0;34m.\u001b[0m\u001b[0mcolumns\u001b[0m\u001b[0;34m.\u001b[0m\u001b[0mget_loc\u001b[0m\u001b[0;34m(\u001b[0m\u001b[0mkey\u001b[0m\u001b[0;34m)\u001b[0m\u001b[0;34m\u001b[0m\u001b[0;34m\u001b[0m\u001b[0m\n\u001b[0m\u001b[1;32m   3459\u001b[0m             \u001b[0;32mif\u001b[0m \u001b[0mis_integer\u001b[0m\u001b[0;34m(\u001b[0m\u001b[0mindexer\u001b[0m\u001b[0;34m)\u001b[0m\u001b[0;34m:\u001b[0m\u001b[0;34m\u001b[0m\u001b[0;34m\u001b[0m\u001b[0m\n\u001b[1;32m   3460\u001b[0m                 \u001b[0mindexer\u001b[0m \u001b[0;34m=\u001b[0m \u001b[0;34m[\u001b[0m\u001b[0mindexer\u001b[0m\u001b[0;34m]\u001b[0m\u001b[0;34m\u001b[0m\u001b[0;34m\u001b[0m\u001b[0m\n",
            "\u001b[0;32m/usr/local/lib/python3.7/dist-packages/pandas/core/indexes/base.py\u001b[0m in \u001b[0;36mget_loc\u001b[0;34m(self, key, method, tolerance)\u001b[0m\n\u001b[1;32m   3361\u001b[0m                 \u001b[0;32mreturn\u001b[0m \u001b[0mself\u001b[0m\u001b[0;34m.\u001b[0m\u001b[0m_engine\u001b[0m\u001b[0;34m.\u001b[0m\u001b[0mget_loc\u001b[0m\u001b[0;34m(\u001b[0m\u001b[0mcasted_key\u001b[0m\u001b[0;34m)\u001b[0m\u001b[0;34m\u001b[0m\u001b[0;34m\u001b[0m\u001b[0m\n\u001b[1;32m   3362\u001b[0m             \u001b[0;32mexcept\u001b[0m \u001b[0mKeyError\u001b[0m \u001b[0;32mas\u001b[0m \u001b[0merr\u001b[0m\u001b[0;34m:\u001b[0m\u001b[0;34m\u001b[0m\u001b[0;34m\u001b[0m\u001b[0m\n\u001b[0;32m-> 3363\u001b[0;31m                 \u001b[0;32mraise\u001b[0m \u001b[0mKeyError\u001b[0m\u001b[0;34m(\u001b[0m\u001b[0mkey\u001b[0m\u001b[0;34m)\u001b[0m \u001b[0;32mfrom\u001b[0m \u001b[0merr\u001b[0m\u001b[0;34m\u001b[0m\u001b[0;34m\u001b[0m\u001b[0m\n\u001b[0m\u001b[1;32m   3364\u001b[0m \u001b[0;34m\u001b[0m\u001b[0m\n\u001b[1;32m   3365\u001b[0m         \u001b[0;32mif\u001b[0m \u001b[0mis_scalar\u001b[0m\u001b[0;34m(\u001b[0m\u001b[0mkey\u001b[0m\u001b[0;34m)\u001b[0m \u001b[0;32mand\u001b[0m \u001b[0misna\u001b[0m\u001b[0;34m(\u001b[0m\u001b[0mkey\u001b[0m\u001b[0;34m)\u001b[0m \u001b[0;32mand\u001b[0m \u001b[0;32mnot\u001b[0m \u001b[0mself\u001b[0m\u001b[0;34m.\u001b[0m\u001b[0mhasnans\u001b[0m\u001b[0;34m:\u001b[0m\u001b[0;34m\u001b[0m\u001b[0;34m\u001b[0m\u001b[0m\n",
            "\u001b[0;31mKeyError\u001b[0m: 'Нарушения сна больше 5'"
          ]
        }
      ],
      "source": [
        "y = data['Нарушения сна больше 5']\n",
        "# X = data.drop(columns=['Нарушения сна больше 5'])\n",
        "# X = data[['Пол', 'Удовлетворенность семейными отношениями', 'ЧМТ','Стаж шизофр', 'Образование']]\n",
        "X = data[['Пол', 'Удовлетворенность семейными отношениями', 'ЧМТ','Стаж шизофр', 'Образование', 'Насл отягощенность', 'P', 'N', 'G']]\n",
        "# X = data[[ 'P', 'N', 'G']] # Only with these 3 values we can get very good result\n",
        "\n",
        "X_train, X_valid, y_train, y_valid = train_test_split(X, y, test_size=0.2)"
      ]
    },
    {
      "cell_type": "code",
      "execution_count": null,
      "metadata": {
        "id": "7kZTjgK7vMG8"
      },
      "outputs": [],
      "source": [
        "# Scale X from 0 to 1\n",
        "from sklearn.preprocessing import StandardScaler\n",
        "from sklearn.preprocessing import MinMaxScaler\n",
        "# scaler = StandardScaler()\n",
        "minmax_scaler = MinMaxScaler()\n",
        "\n",
        "# X_train_scaled = scaler.fit_transform(X_train)\n",
        "# X_valid_scaled = scaler.transform(X_valid)\n",
        "\n",
        "X_train_scaled = minmax_scaler.fit_transform(X_train)\n",
        "X_valid_scaled = minmax_scaler.transform(X_valid)"
      ]
    },
    {
      "cell_type": "code",
      "execution_count": null,
      "metadata": {
        "id": "yOQOcCCXPrrL"
      },
      "outputs": [],
      "source": [
        "tf.random.set_seed(42)\n",
        "\n",
        "model = tf.keras.Sequential([\n",
        "    tf.keras.layers.Dense(10, activation='relu'),\n",
        "    tf.keras.layers.Dense(10, activation='relu'),\n",
        "    # tf.keras.layers.Dense(10, activation='relu'),\n",
        "\n",
        "    # tf.keras.layers.Dense(256, activation='relu'),\n",
        "    tf.keras.layers.Dense(1, activation='sigmoid')\n",
        "])\n",
        "\n",
        "model.compile(\n",
        "    loss=tf.keras.losses.binary_crossentropy,\n",
        "    optimizer=tf.keras.optimizers.Adam(lr=0.003), # lr=0.003\n",
        "    metrics=[\"accuracy\"]\n",
        ")\n",
        "\n",
        "# Create a learning rate callback\n",
        "lr_scheduler = tf.keras.callbacks.LearningRateScheduler(lambda epoch: 1e-4 * 10**(epoch/20)) # Learning rate will increase at each epoch\n",
        "\n",
        "history0 = model.fit(X_train_scaled, \n",
        "                    y_train, \n",
        "                    epochs=50,\n",
        "                    validation_data = (X_valid_scaled, y_valid),\n",
        "                    callbacks=[lr_scheduler])"
      ]
    },
    {
      "cell_type": "code",
      "execution_count": null,
      "metadata": {
        "id": "QVMn6WFCPEHX"
      },
      "outputs": [],
      "source": [
        "import matplotlib.pyplot as plt\n",
        "\n",
        "# Plot the validation and training data separately\n",
        "def plot_loss_curves(history):\n",
        "  \"\"\"\n",
        "  Returns separate loss curves for training and validation metrics.\n",
        "  \"\"\" \n",
        "  loss = history.history['loss']\n",
        "  val_loss = history.history['val_loss']\n",
        "\n",
        "  accuracy = history.history['accuracy']\n",
        "  val_accuracy = history.history['val_accuracy']\n",
        "\n",
        "  epochs = range(len(history.history['loss']))\n",
        "\n",
        "  # Plot loss\n",
        "  plt.plot(epochs, loss, label='training_loss')\n",
        "  plt.plot(epochs, val_loss, label='val_loss')\n",
        "  plt.title('Loss')\n",
        "  plt.xlabel('Epochs')\n",
        "  plt.legend()\n",
        "\n",
        "  # Plot accuracy\n",
        "  plt.figure()\n",
        "  plt.plot(epochs, accuracy, label='training_accuracy')\n",
        "  plt.plot(epochs, val_accuracy, label='val_accuracy')\n",
        "  plt.title('Accuracy')\n",
        "  plt.xlabel('Epochs')\n",
        "  plt.legend();\n"
      ]
    },
    {
      "cell_type": "code",
      "execution_count": null,
      "metadata": {
        "id": "3zFAGeTMPvxf"
      },
      "outputs": [],
      "source": [
        "plot_loss_curves(history0)"
      ]
    },
    {
      "cell_type": "markdown",
      "metadata": {
        "id": "dXokhoC2PwQk"
      },
      "source": [
        "### Find bels LR"
      ]
    },
    {
      "cell_type": "code",
      "execution_count": null,
      "metadata": {
        "id": "hH0ZyOMevW6o"
      },
      "outputs": [],
      "source": [
        "tf.random.set_seed(42)\n",
        "\n",
        "model = tf.keras.Sequential([\n",
        "    tf.keras.layers.Dense(10, activation='relu'),\n",
        "    tf.keras.layers.Dense(10, activation='relu'),\n",
        "    # tf.keras.layers.Dense(10, activation='relu'),\n",
        "\n",
        "    # tf.keras.layers.Dense(256, activation='relu'),\n",
        "    tf.keras.layers.Dense(1, activation='sigmoid')\n",
        "])\n",
        "\n",
        "model.compile(\n",
        "    loss=tf.keras.losses.binary_crossentropy,\n",
        "    optimizer=tf.keras.optimizers.Adam(), # lr=0.003\n",
        "    metrics=[\"accuracy\"]\n",
        ")\n",
        "\n",
        "# Create a learning rate callback\n",
        "lr_scheduler = tf.keras.callbacks.LearningRateScheduler(lambda epoch: 1e-4 * 10**(epoch/20)) # Learning rate will increase at each epoch\n",
        "\n",
        "history_lr = model.fit(X_train_scaled, \n",
        "                    y_train, \n",
        "                    epochs=100,\n",
        "                    validation_data = (X_valid_scaled, y_valid),\n",
        "                    callbacks=[lr_scheduler])"
      ]
    },
    {
      "cell_type": "code",
      "execution_count": null,
      "metadata": {
        "id": "hWTprQ0aOC_S"
      },
      "outputs": [],
      "source": [
        "import matplotlib.pyplot as plt\n",
        "\n",
        "# Plot the learning rate vs loss\n",
        "lrs = 1e-4 * (10 ** (tf.range(100)/20))\n",
        "plt.figure(figsize=(10, 7))\n",
        "plt.semilogx(lrs, history_lr.history[\"loss\"]) # lrs - x-axis, history - y-axis\n",
        "plt.xlabel(\"Learning rate\")\n",
        "plt.ylabel(\"Loss\")\n",
        "plt.title(\"Learning rate vs. loss\")"
      ]
    },
    {
      "cell_type": "code",
      "execution_count": null,
      "metadata": {
        "id": "EPZdm2LqvMQs"
      },
      "outputs": [],
      "source": [
        "tf.random.set_seed(42)\n",
        "\n",
        "model = tf.keras.Sequential([\n",
        "    tf.keras.layers.Dense(20, activation='relu'),\n",
        "    tf.keras.layers.Dense(20, activation='relu'),\n",
        "    tf.keras.layers.Dense(20, activation='relu'),\n",
        "    # tf.keras.layers.Dense(10, activation='relu'),\n",
        "\n",
        "    # tf.keras.layers.Dense(256, activation='relu'),\n",
        "    tf.keras.layers.Dense(1, activation='sigmoid')\n",
        "])\n",
        "\n",
        "model.compile(\n",
        "    loss=tf.keras.losses.binary_crossentropy,\n",
        "    optimizer=tf.keras.optimizers.Adam(0.03),\n",
        "    metrics=[\"accuracy\"]\n",
        ")\n",
        "\n",
        "\n",
        "history1 = model.fit(X_train_scaled, \n",
        "                    y_train, \n",
        "                    epochs=50,\n",
        "                    validation_data = (X_valid_scaled, y_valid))"
      ]
    },
    {
      "cell_type": "code",
      "execution_count": null,
      "metadata": {
        "id": "mJCjkFO-Pb3f"
      },
      "outputs": [],
      "source": [
        "plot_loss_curves(history1)"
      ]
    },
    {
      "cell_type": "code",
      "execution_count": null,
      "metadata": {
        "id": "H1n34k49Pebz"
      },
      "outputs": [],
      "source": [
        ""
      ]
    },
    {
      "cell_type": "code",
      "execution_count": null,
      "metadata": {
        "id": "lqB5o19TPfeV"
      },
      "outputs": [],
      "source": [
        ""
      ]
    },
    {
      "cell_type": "code",
      "execution_count": null,
      "metadata": {
        "id": "pofTvAKuPfhO"
      },
      "outputs": [],
      "source": [
        ""
      ]
    },
    {
      "cell_type": "code",
      "execution_count": null,
      "metadata": {
        "id": "3XzO4JMrPfjd"
      },
      "outputs": [],
      "source": [
        ""
      ]
    },
    {
      "cell_type": "code",
      "execution_count": null,
      "metadata": {
        "id": "gtdAN5vAPfmH"
      },
      "outputs": [],
      "source": [
        ""
      ]
    },
    {
      "cell_type": "code",
      "execution_count": null,
      "metadata": {
        "id": "sMlFZkEuPCer"
      },
      "outputs": [],
      "source": [
        ""
      ]
    },
    {
      "cell_type": "code",
      "execution_count": null,
      "metadata": {
        "id": "8jzqVz0-vMSw"
      },
      "outputs": [],
      "source": [
        " "
      ]
    },
    {
      "cell_type": "code",
      "execution_count": null,
      "metadata": {
        "id": "-AdEsLsQhl-L"
      },
      "outputs": [],
      "source": [
        "train_data = data[:121] # 70%\n",
        "validation_data = data[121:155] # 20%\n",
        "test_data = data[155:174] # 10%"
      ]
    },
    {
      "cell_type": "code",
      "execution_count": null,
      "metadata": {
        "id": "oD1BAgypjWbC"
      },
      "outputs": [],
      "source": [
        "y_train = train_data['Нарушения сна больше 5']\n",
        "y_validation = validation_data['Нарушения сна больше 5']\n",
        "y_test = test_data['Нарушения сна больше 5']\n",
        "\n",
        "X_train = train_data[['Пол', 'Удовлетворенность семейными отношениями', 'ЧМТ','Стаж шизофр', 'Образование', 'Насл отягощенность', 'P', 'N', 'G']]\n",
        "X_validation = validation_data[['Пол', 'Удовлетворенность семейными отношениями', 'ЧМТ','Стаж шизофр', 'Образование', 'Насл отягощенность', 'P', 'N', 'G']]\n",
        "X_test = test_data[['Пол', 'Удовлетворенность семейными отношениями', 'ЧМТ','Стаж шизофр', 'Образование', 'Насл отягощенность', 'P', 'N', 'G']]"
      ]
    },
    {
      "cell_type": "code",
      "execution_count": null,
      "metadata": {
        "id": "Dgi-q_Iujyt-"
      },
      "outputs": [],
      "source": [
        "len(y_train), len(y_validation), len(y_test)"
      ]
    },
    {
      "cell_type": "code",
      "execution_count": null,
      "metadata": {
        "id": "4w3owV7dhnfn"
      },
      "outputs": [],
      "source": [
        "# y = data['Нарушения сна']\n",
        "# # X = data.drop(columns=['Нарушения сна'])\n",
        "# # X = data[['Пол', 'Удовлетворенность семейными отношениями', 'ЧМТ','Стаж шизофр', 'Образование']]\n",
        "# # X = data[['Пол', 'Удовлетворенность семейными отношениями', 'ЧМТ','Стаж шизофр', 'Образование', 'Насл отягощенность', 'P', 'N', 'G']]\n",
        "# X = data[[ 'P', 'N', 'G']] # Only with these 3 values we can get very good result\n",
        "\n",
        "# X_train, X_test, y_train, y_test = train_test_split(X, y, test_size=0.2,)"
      ]
    },
    {
      "cell_type": "code",
      "execution_count": null,
      "metadata": {
        "id": "S5EEQckhaLgC"
      },
      "outputs": [],
      "source": [
        "# Scale X from 0 to 1\n",
        "from sklearn.preprocessing import StandardScaler\n",
        "\n",
        "scaler = StandardScaler()\n",
        "X_train_scaled = scaler.fit_transform(X_train)\n",
        "X_validation_scaled = scaler.fit_transform(X_validation)\n",
        "X_test_scaled = scaler.transform(X_test)"
      ]
    },
    {
      "cell_type": "code",
      "execution_count": null,
      "metadata": {
        "id": "QVjPP8UokzzF"
      },
      "outputs": [],
      "source": [
        "tf.random.set_seed(42)\n",
        "\n",
        "model = tf.keras.Sequential([\n",
        "    tf.keras.layers.Dense(100, activation='relu'),\n",
        "    tf.keras.layers.Dense(100, activation='relu'),\n",
        "    tf.keras.layers.Dense(100, activation='relu'),\n",
        "\n",
        "    # tf.keras.layers.Dense(256, activation='relu'),\n",
        "    tf.keras.layers.Dense(1, activation='sigmoid')\n",
        "])\n",
        "\n",
        "model.compile(\n",
        "    loss=tf.keras.losses.binary_crossentropy,\n",
        "    optimizer=tf.keras.optimizers.Adam(), # lr=0.03\n",
        "    metrics=[\"accuracy\"]\n",
        ")\n",
        "\n",
        "history = model.fit(X_train_scaled, \n",
        "                    y_train, \n",
        "                    epochs=50,\n",
        "                    validation_data = (X_validation_scaled, y_validation))"
      ]
    },
    {
      "cell_type": "code",
      "execution_count": null,
      "metadata": {
        "id": "kc5mFrJQhMsd"
      },
      "outputs": [],
      "source": [
        ""
      ]
    },
    {
      "cell_type": "code",
      "execution_count": null,
      "metadata": {
        "id": "DEAMkOEmhOE9"
      },
      "outputs": [],
      "source": [
        "plot_loss_curves(history)"
      ]
    },
    {
      "cell_type": "code",
      "execution_count": null,
      "metadata": {
        "id": "1yZGlBKrhNN1"
      },
      "outputs": [],
      "source": [
        ""
      ]
    },
    {
      "cell_type": "markdown",
      "metadata": {
        "id": "CrA_ArvkOh9c"
      },
      "source": [
        "### It is very likely that the model has overfitted. It is necessary to add data augmentation, validation data, visualization\n",
        "Find best lr\n",
        "\n",
        "Вывести наиболее значимые характеристики\n",
        "\n",
        "\n",
        "\n",
        "Check result on different scalers. For example:\n",
        "\n",
        "1) Min Max Scaler (try it)\n",
        "\n",
        "2) Standard Scaler\n",
        "\n",
        "3) Max Abs Scaler\n",
        "\n",
        "4) Robust Scaler\n",
        "\n",
        "5) Quantile Transformer Scaler\n",
        "\n",
        "6) Power Transformer Scaler\n",
        "\n",
        "7) Unit Vector Scaler\n",
        "\n"
      ]
    },
    {
      "cell_type": "code",
      "execution_count": null,
      "metadata": {
        "id": "io90TB1dlcBf"
      },
      "outputs": [],
      "source": [
        ""
      ]
    },
    {
      "cell_type": "code",
      "execution_count": null,
      "metadata": {
        "id": "DDAqLqo5DT74"
      },
      "outputs": [],
      "source": [
        ""
      ]
    },
    {
      "cell_type": "code",
      "execution_count": null,
      "metadata": {
        "id": "rNhuw9AgDT-L"
      },
      "outputs": [],
      "source": [
        "# Let's try to use 'Нарушения сна' as y value\n",
        "data = ds.drop(columns=['Тревога больше 7', 'Madrs больше 6', 'Калгари больше 5'])\n",
        "y = data['Нарушения сна больше 5']\n",
        "# X = data.drop(columns=['Нарушения сна'])\n",
        "X = data[['Пол', 'Удовлетворенность семейными отношениями', 'ЧМТ','Стаж шизофр', 'Образование', 'Насл отягощенность', 'P', 'N', 'G']] # 'Были ли нарушения сна', \n",
        "\n",
        "X_train, X_test, y_train, y_test = train_test_split(X, y, test_size=0.2,)\n",
        "\n",
        "# Scale X from 0 to 1\n",
        "scaler2 = StandardScaler()\n",
        "\n",
        "X_train_scaled = scaler2.fit_transform(X_train)\n",
        "X_test_scaled = scaler2.transform(X_test)"
      ]
    },
    {
      "cell_type": "code",
      "execution_count": null,
      "metadata": {
        "id": "xR0dXD6DEdDg"
      },
      "outputs": [],
      "source": [
        "X_train_scaled"
      ]
    },
    {
      "cell_type": "code",
      "execution_count": null,
      "metadata": {
        "id": "SKvqJHX3DWyj"
      },
      "outputs": [],
      "source": [
        "tf.random.set_seed(42)\n",
        "\n",
        "model2 = tf.keras.Sequential([\n",
        "    tf.keras.layers.Dense(100, activation='relu'),\n",
        "    tf.keras.layers.Dense(100, activation='relu'),\n",
        "    tf.keras.layers.Dense(100, activation='relu'),\n",
        "\n",
        "    # tf.keras.layers.Dense(256, activation='relu'),\n",
        "    tf.keras.layers.Dense(1, activation='sigmoid')\n",
        "])\n",
        "\n",
        "model2.compile(\n",
        "    loss=tf.keras.losses.binary_crossentropy,\n",
        "    optimizer=tf.keras.optimizers.Adam(), # lr=0.03\n",
        "    metrics=[\"accuracy\"]\n",
        ")\n",
        "\n",
        "history2 = model2.fit(X_train_scaled, y_train, epochs=50)"
      ]
    },
    {
      "cell_type": "code",
      "execution_count": null,
      "metadata": {
        "id": "CGzI7qA1DrxS"
      },
      "outputs": [],
      "source": [
        ""
      ]
    }
  ],
  "metadata": {
    "colab": {
      "name": "mental_disorders.ipynb",
      "provenance": [],
      "authorship_tag": "ABX9TyOeR+6FtXiDYwFjRFnKURLo",
      "include_colab_link": true
    },
    "kernelspec": {
      "display_name": "Python 3",
      "name": "python3"
    },
    "language_info": {
      "name": "python"
    }
  },
  "nbformat": 4,
  "nbformat_minor": 0
}